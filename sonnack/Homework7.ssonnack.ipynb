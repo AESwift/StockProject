{
 "cells": [
  {
   "cell_type": "markdown",
   "source": [
    "## Purpose\n",
    "\n",
    "This homework is designed to give you practice with scikitlearn.  Please note that this is **NOT** a machine learning course.  Using the library the important part, not designing 'good' models.  The requirements are fairly low on this.\n",
    "\n",
    "## Requirements\n",
    "\n",
    "This is a group assignment.  Take a data set (either one provided, or using your group project data set) and work with Scikit Learn to train some aspect of your data set.\n",
    "\n",
    "Some data sets may appear to be something you wouldn't use ML to solve in a 'real life' situation, but this again is just for practice.  So the models may not come out useful, and that's okay.\n",
    "\n",
    "Each student in the group should do 2 ML type implementations using Scikit learn.  Since there are likely less applicable algorithms than there are implementations, work at looking at different slices of information (See help video).\n",
    "\n",
    "\n",
    "## Required Hand-in\n",
    "\n",
    "One notebook should be handed in.  Following best practices I've outlined.  This homework is graded as a group homework.  The data set you pick to do this practice can be either one I'm providing as part of the repo, or of your group project.\n",
    "\n",
    "Please label each implementation with the original author (in code, comment above the implementation).\n",
    "\n",
    "Do not use the .todo as your template.  Analysis of the models performance should be minimal (see one example on block 10 on https://github.com/TheDarkTrumpet/BAIS-6040-0EXP-Sum2021/blob/master/Notebooks/02-Analysis/09.03.01-Classification.ipynb ).\n",
    "\n",
    "I do recommend that you lean on whoever in your group has a bit more knowledge of ML concepts. to pick the implementation that appears to yield the best results.  If you're using your group data set, this implementation can then be copied/pasted into the group project.\n",
    "\n",
    "## Other notes\n",
    "\n",
    "This homework will be graded as a group.  Meaning, you all will get the same grade, regardless if a specific student's implementation is poorly done.  It will count for 75 points.  I strongly recommend you discuss as a group who will do what, then meet up at least a few days before the assignment is to be turned in and do a code review and merge of the individual notebooks."
   ],
   "metadata": {
    "collapsed": true,
    "pycharm": {
     "name": "#%% md\n"
    }
   }
  },
  {
   "cell_type": "markdown",
   "source": [
    "Imports"
   ],
   "metadata": {}
  },
  {
   "cell_type": "code",
   "execution_count": 83,
   "source": [
    "import yfinance as yf\n",
    "import pandas as pd\n",
    "from pytrends.request import TrendReq\n",
    "from sklearn.cluster import KMeans\n",
    "from sklearn.model_selection import train_test_split\n",
    "from sklearn.linear_model import LinearRegression\n",
    "\n",
    "\n",
    "import math\n",
    "from sklearn.metrics import explained_variance_score, mean_absolute_error, r2_score, mean_squared_error"
   ],
   "outputs": [],
   "metadata": {}
  },
  {
   "cell_type": "markdown",
   "source": [
    "# Setup Keyword Search, and pull the search results using pytrends for January 1 - June 30"
   ],
   "metadata": {}
  },
  {
   "cell_type": "code",
   "execution_count": 61,
   "source": [
    "#pytrends = TrendReq(hl='en-US', tz=360)\n",
    "#keywords = [\"AMC\"] \n",
    "#pytrends.build_payload(keywords, timeframe='2021-01-01 2021-06-30', geo='US')\n",
    "#amcSearchResults = pytrends.interest_over_time()\n",
    "\n",
    "#amcSearchResults = amcSearchResults.rename(columns={'AMC': 'Search Interest'})\n",
    "#amcSearchResults\n",
    "amcMergedDataFrame = pd.read_csv('AMCDataClean.zip')  "
   ],
   "outputs": [],
   "metadata": {}
  },
  {
   "cell_type": "markdown",
   "source": [
    "# Use Yahoo Finance to pull Stock Data from January 1 - June 30"
   ],
   "metadata": {}
  },
  {
   "cell_type": "code",
   "execution_count": 62,
   "source": [
    "#amcStockInfo = yf.download(\"AMC\", start=\"2021-01-01\", end=\"2021-06-30\", interval=\"1d\")\n",
    "#amcStockInfo.shape\n",
    "#amcStockInfo[\"Amount Changed\"] = amcStockInfo[\"Open\"] - amcStockInfo[\"Close\"]\n",
    "#amcMergedDataFrame\n",
    "#amcMergedDataFrame = amcMergedDataFrame.drop(columns=['Adj Close'])\n",
    "#amcMergedDataFrame[\"Days Spread\"] = amcMergedDataFrame[\"High\"] - amcMergedDataFrame[\"Low\"]\n",
    "#amcMergedDataFrame.to_csv('AMCDataClean.zip', index=False) \n",
    "amcMergedDataFrame"
   ],
   "outputs": [
    {
     "output_type": "execute_result",
     "data": {
      "text/plain": [
       "     Search Interest       Open      Close     Volume  Amount Changed  \\\n",
       "0                  2   2.200000   2.010000   29873800        0.190000   \n",
       "1                  3   1.990000   1.980000   28148300        0.010000   \n",
       "2                  2   2.030000   2.010000   67363300        0.020000   \n",
       "3                  2   2.080000   2.050000   26150500        0.030000   \n",
       "4                  3   2.090000   2.140000   39553300       -0.050000   \n",
       "..               ...        ...        ...        ...             ...   \n",
       "118               17  57.040001  58.299999  116291800       -1.259998   \n",
       "119               16  57.980000  56.700001   80351200        1.279999   \n",
       "120               19  55.750000  54.060001   77596900        1.689999   \n",
       "121               16  55.099998  58.110001   99310200       -3.010002   \n",
       "122               16  59.060001  56.430000   63604100        2.630001   \n",
       "\n",
       "     Days Spread  \n",
       "0       0.200000  \n",
       "1       0.120000  \n",
       "2       0.260000  \n",
       "3       0.090000  \n",
       "4       0.140000  \n",
       "..           ...  \n",
       "118     4.299999  \n",
       "119     3.099998  \n",
       "120     3.320000  \n",
       "121     5.029999  \n",
       "122     4.820000  \n",
       "\n",
       "[123 rows x 6 columns]"
      ],
      "text/html": [
       "<div>\n",
       "<style scoped>\n",
       "    .dataframe tbody tr th:only-of-type {\n",
       "        vertical-align: middle;\n",
       "    }\n",
       "\n",
       "    .dataframe tbody tr th {\n",
       "        vertical-align: top;\n",
       "    }\n",
       "\n",
       "    .dataframe thead th {\n",
       "        text-align: right;\n",
       "    }\n",
       "</style>\n",
       "<table border=\"1\" class=\"dataframe\">\n",
       "  <thead>\n",
       "    <tr style=\"text-align: right;\">\n",
       "      <th></th>\n",
       "      <th>Search Interest</th>\n",
       "      <th>Open</th>\n",
       "      <th>Close</th>\n",
       "      <th>Volume</th>\n",
       "      <th>Amount Changed</th>\n",
       "      <th>Days Spread</th>\n",
       "    </tr>\n",
       "  </thead>\n",
       "  <tbody>\n",
       "    <tr>\n",
       "      <th>0</th>\n",
       "      <td>2</td>\n",
       "      <td>2.200000</td>\n",
       "      <td>2.010000</td>\n",
       "      <td>29873800</td>\n",
       "      <td>0.190000</td>\n",
       "      <td>0.200000</td>\n",
       "    </tr>\n",
       "    <tr>\n",
       "      <th>1</th>\n",
       "      <td>3</td>\n",
       "      <td>1.990000</td>\n",
       "      <td>1.980000</td>\n",
       "      <td>28148300</td>\n",
       "      <td>0.010000</td>\n",
       "      <td>0.120000</td>\n",
       "    </tr>\n",
       "    <tr>\n",
       "      <th>2</th>\n",
       "      <td>2</td>\n",
       "      <td>2.030000</td>\n",
       "      <td>2.010000</td>\n",
       "      <td>67363300</td>\n",
       "      <td>0.020000</td>\n",
       "      <td>0.260000</td>\n",
       "    </tr>\n",
       "    <tr>\n",
       "      <th>3</th>\n",
       "      <td>2</td>\n",
       "      <td>2.080000</td>\n",
       "      <td>2.050000</td>\n",
       "      <td>26150500</td>\n",
       "      <td>0.030000</td>\n",
       "      <td>0.090000</td>\n",
       "    </tr>\n",
       "    <tr>\n",
       "      <th>4</th>\n",
       "      <td>3</td>\n",
       "      <td>2.090000</td>\n",
       "      <td>2.140000</td>\n",
       "      <td>39553300</td>\n",
       "      <td>-0.050000</td>\n",
       "      <td>0.140000</td>\n",
       "    </tr>\n",
       "    <tr>\n",
       "      <th>...</th>\n",
       "      <td>...</td>\n",
       "      <td>...</td>\n",
       "      <td>...</td>\n",
       "      <td>...</td>\n",
       "      <td>...</td>\n",
       "      <td>...</td>\n",
       "    </tr>\n",
       "    <tr>\n",
       "      <th>118</th>\n",
       "      <td>17</td>\n",
       "      <td>57.040001</td>\n",
       "      <td>58.299999</td>\n",
       "      <td>116291800</td>\n",
       "      <td>-1.259998</td>\n",
       "      <td>4.299999</td>\n",
       "    </tr>\n",
       "    <tr>\n",
       "      <th>119</th>\n",
       "      <td>16</td>\n",
       "      <td>57.980000</td>\n",
       "      <td>56.700001</td>\n",
       "      <td>80351200</td>\n",
       "      <td>1.279999</td>\n",
       "      <td>3.099998</td>\n",
       "    </tr>\n",
       "    <tr>\n",
       "      <th>120</th>\n",
       "      <td>19</td>\n",
       "      <td>55.750000</td>\n",
       "      <td>54.060001</td>\n",
       "      <td>77596900</td>\n",
       "      <td>1.689999</td>\n",
       "      <td>3.320000</td>\n",
       "    </tr>\n",
       "    <tr>\n",
       "      <th>121</th>\n",
       "      <td>16</td>\n",
       "      <td>55.099998</td>\n",
       "      <td>58.110001</td>\n",
       "      <td>99310200</td>\n",
       "      <td>-3.010002</td>\n",
       "      <td>5.029999</td>\n",
       "    </tr>\n",
       "    <tr>\n",
       "      <th>122</th>\n",
       "      <td>16</td>\n",
       "      <td>59.060001</td>\n",
       "      <td>56.430000</td>\n",
       "      <td>63604100</td>\n",
       "      <td>2.630001</td>\n",
       "      <td>4.820000</td>\n",
       "    </tr>\n",
       "  </tbody>\n",
       "</table>\n",
       "<p>123 rows × 6 columns</p>\n",
       "</div>"
      ]
     },
     "metadata": {},
     "execution_count": 62
    }
   ],
   "metadata": {}
  },
  {
   "cell_type": "markdown",
   "source": [
    "# Merge the data into one table"
   ],
   "metadata": {}
  },
  {
   "cell_type": "code",
   "execution_count": 91,
   "source": [
    "#amcMergedDataFrame = amcSearchResults.merge(amcStockInfo, how='inner', left_index=True, right_index=True)\n",
    "#amcMergedDataFrame\n",
    "\n",
    "\n",
    "#amcMergedDataFrame.read_csv('AMCData.zip')  \n",
    "#amcMergedDataFrame = amcMergedDataFrame.drop(columns=['isPartial'])\n",
    "#amcMergedDataFrame\n",
    "#amcMergedDataFrame.to_csv('AMCDataClean.zip', index=False) \n",
    "\n",
    "Continuous_Cols=['Search Interest']\n",
    "Categorical_Cols=['Volume']\n",
    "\n",
    "Predictor_Cols = Categorical_Cols + Continuous_Cols\n",
    "\n",
    "Target_Col = 'Volume'\n",
    "\n",
    "X=amcMergedDataFrame[Continuous_Cols]\n",
    "y=amcMergedDataFrame[Target_Col]\n",
    "\n",
    "X_train, X_test, y_train, y_test = train_test_split(X, y, test_size=0.30)\n",
    "#print(\"Population:\\n\",y.value_counts(normalize=True)*100)\n",
    "#print(\"Train:\\n\", y_train.value_counts(normalize=True)*100)\n",
    "#print(\"Test:\\n\", y_test.value_counts(normalize=True)*100)"
   ],
   "outputs": [],
   "metadata": {}
  },
  {
   "cell_type": "code",
   "execution_count": 92,
   "source": [
    "lr = LinearRegression()\n",
    "lr"
   ],
   "outputs": [
    {
     "output_type": "execute_result",
     "data": {
      "text/plain": [
       "LinearRegression()"
      ]
     },
     "metadata": {},
     "execution_count": 92
    }
   ],
   "metadata": {}
  },
  {
   "cell_type": "code",
   "execution_count": 93,
   "source": [
    "lr.fit(X_train, y_train)"
   ],
   "outputs": [
    {
     "output_type": "execute_result",
     "data": {
      "text/plain": [
       "LinearRegression()"
      ]
     },
     "metadata": {},
     "execution_count": 93
    }
   ],
   "metadata": {}
  },
  {
   "cell_type": "code",
   "execution_count": 94,
   "source": [
    "lr.score(X_train, y_train) "
   ],
   "outputs": [
    {
     "output_type": "execute_result",
     "data": {
      "text/plain": [
       "0.5926226569138826"
      ]
     },
     "metadata": {},
     "execution_count": 94
    }
   ],
   "metadata": {}
  },
  {
   "cell_type": "code",
   "execution_count": 95,
   "source": [
    "lr.score(X_test, y_test) "
   ],
   "outputs": [
    {
     "output_type": "execute_result",
     "data": {
      "text/plain": [
       "0.6400959369888745"
      ]
     },
     "metadata": {},
     "execution_count": 95
    }
   ],
   "metadata": {}
  },
  {
   "cell_type": "code",
   "execution_count": 96,
   "source": [
    "def printMetrics(test, predictions):\n",
    "    print(f\"Score: {explained_variance_score(test, predictions):.2f}\")\n",
    "    print(f\"MAE: {mean_absolute_error(test, predictions):.2f}\")\n",
    "    print(f\"RMSE: {math.sqrt(mean_squared_error(test, predictions)):.2f}\")\n",
    "    print(f\"r2: {r2_score(test, predictions):.2f}\")"
   ],
   "outputs": [],
   "metadata": {}
  },
  {
   "cell_type": "code",
   "execution_count": 97,
   "source": [
    "predictions = lr.predict(X_test)\n",
    "printMetrics(y_test, predictions)"
   ],
   "outputs": [
    {
     "output_type": "stream",
     "name": "stdout",
     "text": [
      "Score: 0.64\n",
      "MAE: 75304902.22\n",
      "RMSE: 137184489.74\n",
      "r2: 0.64\n"
     ]
    }
   ],
   "metadata": {}
  }
 ],
 "metadata": {
  "kernelspec": {
   "display_name": "Python 3",
   "language": "python",
   "name": "python3"
  },
  "language_info": {
   "codemirror_mode": {
    "name": "ipython",
    "version": 2
   },
   "file_extension": ".py",
   "mimetype": "text/x-python",
   "name": "python",
   "nbconvert_exporter": "python",
   "pygments_lexer": "ipython2",
   "version": "2.7.6"
  }
 },
 "nbformat": 4,
 "nbformat_minor": 2
}