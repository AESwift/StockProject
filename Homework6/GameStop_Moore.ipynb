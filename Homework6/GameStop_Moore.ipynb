{
 "cells": [
  {
   "cell_type": "markdown",
   "id": "0f925fa5",
   "metadata": {},
   "source": [
    "# GameStop 90 Day Data Grab\n",
    "## Connor Moore\n",
    "## 11 July 2021"
   ]
  },
  {
   "cell_type": "markdown",
   "id": "3ebb32ad",
   "metadata": {},
   "source": [
    "### Introduction\n",
    "\n",
    "Code imports daily stock price and interest over time over last 90 days (4/1/2021 to 6/30/2021) for GameStop stock (GME)"
   ]
  },
  {
   "cell_type": "markdown",
   "id": "244ce19d",
   "metadata": {},
   "source": [
    "### Import"
   ]
  },
  {
   "cell_type": "code",
   "execution_count": 6,
   "id": "8d8eac4a",
   "metadata": {},
   "outputs": [],
   "source": [
    "# import pip\n",
    "\n",
    "import yfinance as yf\n",
    "import numpy as np\n",
    "import pandas as pd\n",
    "\n",
    "from pytrends.request import TrendReq\n",
    "\n"
   ]
  },
  {
   "cell_type": "code",
   "execution_count": 2,
   "id": "9e3fc4af",
   "metadata": {},
   "outputs": [],
   "source": [
    "# Connect to Google API\n",
    "pytrends = TrendReq(hl='en-US', tz=360)"
   ]
  },
  {
   "cell_type": "code",
   "execution_count": 3,
   "outputs": [],
   "source": [
    "# Set Keyword\n",
    "kw_list = ['GME']\n",
    "\n",
    "# Build Payload\n",
    "pytrends.build_payload(kw_list, timeframe='2021-04-01 2021-06-30', geo='')\n"
   ],
   "metadata": {
    "collapsed": false,
    "pycharm": {
     "name": "#%%\n"
    }
   }
  },
  {
   "cell_type": "code",
   "execution_count": 4,
   "outputs": [
    {
     "data": {
      "text/plain": "            GME  isPartial\ndate                      \n2021-04-01   66      False\n2021-04-02   29      False\n2021-04-03   11      False\n2021-04-04    9      False\n2021-04-05   68      False\n...         ...        ...\n2021-06-26    9      False\n2021-06-27    7      False\n2021-06-28   31      False\n2021-06-29   28      False\n2021-06-30   26      False\n\n[91 rows x 2 columns]",
      "text/html": "<div>\n<style scoped>\n    .dataframe tbody tr th:only-of-type {\n        vertical-align: middle;\n    }\n\n    .dataframe tbody tr th {\n        vertical-align: top;\n    }\n\n    .dataframe thead th {\n        text-align: right;\n    }\n</style>\n<table border=\"1\" class=\"dataframe\">\n  <thead>\n    <tr style=\"text-align: right;\">\n      <th></th>\n      <th>GME</th>\n      <th>isPartial</th>\n    </tr>\n    <tr>\n      <th>date</th>\n      <th></th>\n      <th></th>\n    </tr>\n  </thead>\n  <tbody>\n    <tr>\n      <th>2021-04-01</th>\n      <td>66</td>\n      <td>False</td>\n    </tr>\n    <tr>\n      <th>2021-04-02</th>\n      <td>29</td>\n      <td>False</td>\n    </tr>\n    <tr>\n      <th>2021-04-03</th>\n      <td>11</td>\n      <td>False</td>\n    </tr>\n    <tr>\n      <th>2021-04-04</th>\n      <td>9</td>\n      <td>False</td>\n    </tr>\n    <tr>\n      <th>2021-04-05</th>\n      <td>68</td>\n      <td>False</td>\n    </tr>\n    <tr>\n      <th>...</th>\n      <td>...</td>\n      <td>...</td>\n    </tr>\n    <tr>\n      <th>2021-06-26</th>\n      <td>9</td>\n      <td>False</td>\n    </tr>\n    <tr>\n      <th>2021-06-27</th>\n      <td>7</td>\n      <td>False</td>\n    </tr>\n    <tr>\n      <th>2021-06-28</th>\n      <td>31</td>\n      <td>False</td>\n    </tr>\n    <tr>\n      <th>2021-06-29</th>\n      <td>28</td>\n      <td>False</td>\n    </tr>\n    <tr>\n      <th>2021-06-30</th>\n      <td>26</td>\n      <td>False</td>\n    </tr>\n  </tbody>\n</table>\n<p>91 rows × 2 columns</p>\n</div>"
     },
     "execution_count": 4,
     "metadata": {},
     "output_type": "execute_result"
    }
   ],
   "source": [
    "# Get trends Data frame\n",
    "GME_trends = pytrends.interest_over_time()\n",
    "GME_trends"
   ],
   "metadata": {
    "collapsed": false,
    "pycharm": {
     "name": "#%%\n"
    }
   }
  },
  {
   "cell_type": "code",
   "execution_count": 5,
   "outputs": [
    {
     "name": "stdout",
     "output_type": "stream",
     "text": [
      "[*********************100%***********************]  1 of 1 completed\n"
     ]
    },
    {
     "data": {
      "text/plain": "                  Open        High         Low       Close   Adj Close  \\\nDate                                                                     \n2021-04-01  193.360001  196.970001  183.600006  191.449997  191.449997   \n2021-04-05  171.000000  195.000000  164.809998  186.949997  186.949997   \n2021-04-06  185.210007  192.000000  183.559998  184.500000  184.500000   \n2021-04-07  183.220001  184.500000  176.110001  177.970001  177.970001   \n2021-04-08  185.880005  185.880005  164.300003  170.259995  170.259995   \n...                ...         ...         ...         ...         ...   \n2021-06-23  221.449997  222.570007  214.119995  219.339996  219.339996   \n2021-06-24  221.160004  227.449997  211.600006  212.309998  212.309998   \n2021-06-25  214.000000  214.199997  198.500000  209.509995  209.509995   \n2021-06-28  211.250000  224.449997  210.199997  213.250000  213.250000   \n2021-06-29  213.589996  215.220001  208.009995  210.880005  210.880005   \n\n              Volume  \nDate                  \n2021-04-01   9334300  \n2021-04-05  14070500  \n2021-04-06   6218300  \n2021-04-07   4768300  \n2021-04-08  10047400  \n...              ...  \n2021-06-23   3555100  \n2021-06-24   3863300  \n2021-06-25  12692700  \n2021-06-28   4879400  \n2021-06-29   2480000  \n\n[62 rows x 6 columns]",
      "text/html": "<div>\n<style scoped>\n    .dataframe tbody tr th:only-of-type {\n        vertical-align: middle;\n    }\n\n    .dataframe tbody tr th {\n        vertical-align: top;\n    }\n\n    .dataframe thead th {\n        text-align: right;\n    }\n</style>\n<table border=\"1\" class=\"dataframe\">\n  <thead>\n    <tr style=\"text-align: right;\">\n      <th></th>\n      <th>Open</th>\n      <th>High</th>\n      <th>Low</th>\n      <th>Close</th>\n      <th>Adj Close</th>\n      <th>Volume</th>\n    </tr>\n    <tr>\n      <th>Date</th>\n      <th></th>\n      <th></th>\n      <th></th>\n      <th></th>\n      <th></th>\n      <th></th>\n    </tr>\n  </thead>\n  <tbody>\n    <tr>\n      <th>2021-04-01</th>\n      <td>193.360001</td>\n      <td>196.970001</td>\n      <td>183.600006</td>\n      <td>191.449997</td>\n      <td>191.449997</td>\n      <td>9334300</td>\n    </tr>\n    <tr>\n      <th>2021-04-05</th>\n      <td>171.000000</td>\n      <td>195.000000</td>\n      <td>164.809998</td>\n      <td>186.949997</td>\n      <td>186.949997</td>\n      <td>14070500</td>\n    </tr>\n    <tr>\n      <th>2021-04-06</th>\n      <td>185.210007</td>\n      <td>192.000000</td>\n      <td>183.559998</td>\n      <td>184.500000</td>\n      <td>184.500000</td>\n      <td>6218300</td>\n    </tr>\n    <tr>\n      <th>2021-04-07</th>\n      <td>183.220001</td>\n      <td>184.500000</td>\n      <td>176.110001</td>\n      <td>177.970001</td>\n      <td>177.970001</td>\n      <td>4768300</td>\n    </tr>\n    <tr>\n      <th>2021-04-08</th>\n      <td>185.880005</td>\n      <td>185.880005</td>\n      <td>164.300003</td>\n      <td>170.259995</td>\n      <td>170.259995</td>\n      <td>10047400</td>\n    </tr>\n    <tr>\n      <th>...</th>\n      <td>...</td>\n      <td>...</td>\n      <td>...</td>\n      <td>...</td>\n      <td>...</td>\n      <td>...</td>\n    </tr>\n    <tr>\n      <th>2021-06-23</th>\n      <td>221.449997</td>\n      <td>222.570007</td>\n      <td>214.119995</td>\n      <td>219.339996</td>\n      <td>219.339996</td>\n      <td>3555100</td>\n    </tr>\n    <tr>\n      <th>2021-06-24</th>\n      <td>221.160004</td>\n      <td>227.449997</td>\n      <td>211.600006</td>\n      <td>212.309998</td>\n      <td>212.309998</td>\n      <td>3863300</td>\n    </tr>\n    <tr>\n      <th>2021-06-25</th>\n      <td>214.000000</td>\n      <td>214.199997</td>\n      <td>198.500000</td>\n      <td>209.509995</td>\n      <td>209.509995</td>\n      <td>12692700</td>\n    </tr>\n    <tr>\n      <th>2021-06-28</th>\n      <td>211.250000</td>\n      <td>224.449997</td>\n      <td>210.199997</td>\n      <td>213.250000</td>\n      <td>213.250000</td>\n      <td>4879400</td>\n    </tr>\n    <tr>\n      <th>2021-06-29</th>\n      <td>213.589996</td>\n      <td>215.220001</td>\n      <td>208.009995</td>\n      <td>210.880005</td>\n      <td>210.880005</td>\n      <td>2480000</td>\n    </tr>\n  </tbody>\n</table>\n<p>62 rows × 6 columns</p>\n</div>"
     },
     "execution_count": 5,
     "metadata": {},
     "output_type": "execute_result"
    }
   ],
   "source": [
    "# Get stock Data Frame\n",
    "\n",
    "GME_stock = yf.download(\"GME\", start=\"2021-04-01\", end=\"2021-06-30\", interval=\"1d\")\n",
    "GME_stock\n",
    "\n"
   ],
   "metadata": {
    "collapsed": false,
    "pycharm": {
     "name": "#%%\n"
    }
   }
  },
  {
   "cell_type": "code",
   "execution_count": 12,
   "outputs": [
    {
     "data": {
      "text/plain": "                  Open        High         Low       Close   Adj Close  \\\n2021-04-01  193.360001  196.970001  183.600006  191.449997  191.449997   \n2021-04-05  171.000000  195.000000  164.809998  186.949997  186.949997   \n2021-04-06  185.210007  192.000000  183.559998  184.500000  184.500000   \n2021-04-07  183.220001  184.500000  176.110001  177.970001  177.970001   \n2021-04-08  185.880005  185.880005  164.300003  170.259995  170.259995   \n...                ...         ...         ...         ...         ...   \n2021-06-23  221.449997  222.570007  214.119995  219.339996  219.339996   \n2021-06-24  221.160004  227.449997  211.600006  212.309998  212.309998   \n2021-06-25  214.000000  214.199997  198.500000  209.509995  209.509995   \n2021-06-28  211.250000  224.449997  210.199997  213.250000  213.250000   \n2021-06-29  213.589996  215.220001  208.009995  210.880005  210.880005   \n\n              Volume  GME  isPartial  \n2021-04-01   9334300   66      False  \n2021-04-05  14070500   68      False  \n2021-04-06   6218300   56      False  \n2021-04-07   4768300   48      False  \n2021-04-08  10047400   51      False  \n...              ...  ...        ...  \n2021-06-23   3555100   38      False  \n2021-06-24   3863300   37      False  \n2021-06-25  12692700   34      False  \n2021-06-28   4879400   31      False  \n2021-06-29   2480000   28      False  \n\n[62 rows x 8 columns]",
      "text/html": "<div>\n<style scoped>\n    .dataframe tbody tr th:only-of-type {\n        vertical-align: middle;\n    }\n\n    .dataframe tbody tr th {\n        vertical-align: top;\n    }\n\n    .dataframe thead th {\n        text-align: right;\n    }\n</style>\n<table border=\"1\" class=\"dataframe\">\n  <thead>\n    <tr style=\"text-align: right;\">\n      <th></th>\n      <th>Open</th>\n      <th>High</th>\n      <th>Low</th>\n      <th>Close</th>\n      <th>Adj Close</th>\n      <th>Volume</th>\n      <th>GME</th>\n      <th>isPartial</th>\n    </tr>\n  </thead>\n  <tbody>\n    <tr>\n      <th>2021-04-01</th>\n      <td>193.360001</td>\n      <td>196.970001</td>\n      <td>183.600006</td>\n      <td>191.449997</td>\n      <td>191.449997</td>\n      <td>9334300</td>\n      <td>66</td>\n      <td>False</td>\n    </tr>\n    <tr>\n      <th>2021-04-05</th>\n      <td>171.000000</td>\n      <td>195.000000</td>\n      <td>164.809998</td>\n      <td>186.949997</td>\n      <td>186.949997</td>\n      <td>14070500</td>\n      <td>68</td>\n      <td>False</td>\n    </tr>\n    <tr>\n      <th>2021-04-06</th>\n      <td>185.210007</td>\n      <td>192.000000</td>\n      <td>183.559998</td>\n      <td>184.500000</td>\n      <td>184.500000</td>\n      <td>6218300</td>\n      <td>56</td>\n      <td>False</td>\n    </tr>\n    <tr>\n      <th>2021-04-07</th>\n      <td>183.220001</td>\n      <td>184.500000</td>\n      <td>176.110001</td>\n      <td>177.970001</td>\n      <td>177.970001</td>\n      <td>4768300</td>\n      <td>48</td>\n      <td>False</td>\n    </tr>\n    <tr>\n      <th>2021-04-08</th>\n      <td>185.880005</td>\n      <td>185.880005</td>\n      <td>164.300003</td>\n      <td>170.259995</td>\n      <td>170.259995</td>\n      <td>10047400</td>\n      <td>51</td>\n      <td>False</td>\n    </tr>\n    <tr>\n      <th>...</th>\n      <td>...</td>\n      <td>...</td>\n      <td>...</td>\n      <td>...</td>\n      <td>...</td>\n      <td>...</td>\n      <td>...</td>\n      <td>...</td>\n    </tr>\n    <tr>\n      <th>2021-06-23</th>\n      <td>221.449997</td>\n      <td>222.570007</td>\n      <td>214.119995</td>\n      <td>219.339996</td>\n      <td>219.339996</td>\n      <td>3555100</td>\n      <td>38</td>\n      <td>False</td>\n    </tr>\n    <tr>\n      <th>2021-06-24</th>\n      <td>221.160004</td>\n      <td>227.449997</td>\n      <td>211.600006</td>\n      <td>212.309998</td>\n      <td>212.309998</td>\n      <td>3863300</td>\n      <td>37</td>\n      <td>False</td>\n    </tr>\n    <tr>\n      <th>2021-06-25</th>\n      <td>214.000000</td>\n      <td>214.199997</td>\n      <td>198.500000</td>\n      <td>209.509995</td>\n      <td>209.509995</td>\n      <td>12692700</td>\n      <td>34</td>\n      <td>False</td>\n    </tr>\n    <tr>\n      <th>2021-06-28</th>\n      <td>211.250000</td>\n      <td>224.449997</td>\n      <td>210.199997</td>\n      <td>213.250000</td>\n      <td>213.250000</td>\n      <td>4879400</td>\n      <td>31</td>\n      <td>False</td>\n    </tr>\n    <tr>\n      <th>2021-06-29</th>\n      <td>213.589996</td>\n      <td>215.220001</td>\n      <td>208.009995</td>\n      <td>210.880005</td>\n      <td>210.880005</td>\n      <td>2480000</td>\n      <td>28</td>\n      <td>False</td>\n    </tr>\n  </tbody>\n</table>\n<p>62 rows × 8 columns</p>\n</div>"
     },
     "execution_count": 12,
     "metadata": {},
     "output_type": "execute_result"
    }
   ],
   "source": [
    "# Combine Data\n",
    "GME_DF = pd.concat([GME_stock, GME_trends], axis = 1, join = 'inner')\n",
    "GME_DF"
   ],
   "metadata": {
    "collapsed": false,
    "pycharm": {
     "name": "#%%\n"
    }
   }
  },
  {
   "cell_type": "code",
   "execution_count": 13,
   "outputs": [],
   "source": [
    "# Export to data folder\n",
    "GME_DF.to_csv(f\"../Connor/Data/GME_DF_07.12.2021.csv\")"
   ],
   "metadata": {
    "collapsed": false,
    "pycharm": {
     "name": "#%%\n"
    }
   }
  },
  {
   "cell_type": "code",
   "execution_count": 14,
   "outputs": [
    {
     "data": {
      "text/plain": "    Unnamed: 0        Open        High         Low       Close   Adj Close  \\\n0   2021-04-01  193.360001  196.970001  183.600006  191.449997  191.449997   \n1   2021-04-05  171.000000  195.000000  164.809998  186.949997  186.949997   \n2   2021-04-06  185.210007  192.000000  183.559998  184.500000  184.500000   \n3   2021-04-07  183.220001  184.500000  176.110001  177.970001  177.970001   \n4   2021-04-08  185.880005  185.880005  164.300003  170.259995  170.259995   \n..         ...         ...         ...         ...         ...         ...   \n57  2021-06-23  221.449997  222.570007  214.119995  219.339996  219.339996   \n58  2021-06-24  221.160004  227.449997  211.600006  212.309998  212.309998   \n59  2021-06-25  214.000000  214.199997  198.500000  209.509995  209.509995   \n60  2021-06-28  211.250000  224.449997  210.199997  213.250000  213.250000   \n61  2021-06-29  213.589996  215.220001  208.009995  210.880005  210.880005   \n\n      Volume  GME  isPartial  \n0    9334300   66      False  \n1   14070500   68      False  \n2    6218300   56      False  \n3    4768300   48      False  \n4   10047400   51      False  \n..       ...  ...        ...  \n57   3555100   38      False  \n58   3863300   37      False  \n59  12692700   34      False  \n60   4879400   31      False  \n61   2480000   28      False  \n\n[62 rows x 9 columns]",
      "text/html": "<div>\n<style scoped>\n    .dataframe tbody tr th:only-of-type {\n        vertical-align: middle;\n    }\n\n    .dataframe tbody tr th {\n        vertical-align: top;\n    }\n\n    .dataframe thead th {\n        text-align: right;\n    }\n</style>\n<table border=\"1\" class=\"dataframe\">\n  <thead>\n    <tr style=\"text-align: right;\">\n      <th></th>\n      <th>Unnamed: 0</th>\n      <th>Open</th>\n      <th>High</th>\n      <th>Low</th>\n      <th>Close</th>\n      <th>Adj Close</th>\n      <th>Volume</th>\n      <th>GME</th>\n      <th>isPartial</th>\n    </tr>\n  </thead>\n  <tbody>\n    <tr>\n      <th>0</th>\n      <td>2021-04-01</td>\n      <td>193.360001</td>\n      <td>196.970001</td>\n      <td>183.600006</td>\n      <td>191.449997</td>\n      <td>191.449997</td>\n      <td>9334300</td>\n      <td>66</td>\n      <td>False</td>\n    </tr>\n    <tr>\n      <th>1</th>\n      <td>2021-04-05</td>\n      <td>171.000000</td>\n      <td>195.000000</td>\n      <td>164.809998</td>\n      <td>186.949997</td>\n      <td>186.949997</td>\n      <td>14070500</td>\n      <td>68</td>\n      <td>False</td>\n    </tr>\n    <tr>\n      <th>2</th>\n      <td>2021-04-06</td>\n      <td>185.210007</td>\n      <td>192.000000</td>\n      <td>183.559998</td>\n      <td>184.500000</td>\n      <td>184.500000</td>\n      <td>6218300</td>\n      <td>56</td>\n      <td>False</td>\n    </tr>\n    <tr>\n      <th>3</th>\n      <td>2021-04-07</td>\n      <td>183.220001</td>\n      <td>184.500000</td>\n      <td>176.110001</td>\n      <td>177.970001</td>\n      <td>177.970001</td>\n      <td>4768300</td>\n      <td>48</td>\n      <td>False</td>\n    </tr>\n    <tr>\n      <th>4</th>\n      <td>2021-04-08</td>\n      <td>185.880005</td>\n      <td>185.880005</td>\n      <td>164.300003</td>\n      <td>170.259995</td>\n      <td>170.259995</td>\n      <td>10047400</td>\n      <td>51</td>\n      <td>False</td>\n    </tr>\n    <tr>\n      <th>...</th>\n      <td>...</td>\n      <td>...</td>\n      <td>...</td>\n      <td>...</td>\n      <td>...</td>\n      <td>...</td>\n      <td>...</td>\n      <td>...</td>\n      <td>...</td>\n    </tr>\n    <tr>\n      <th>57</th>\n      <td>2021-06-23</td>\n      <td>221.449997</td>\n      <td>222.570007</td>\n      <td>214.119995</td>\n      <td>219.339996</td>\n      <td>219.339996</td>\n      <td>3555100</td>\n      <td>38</td>\n      <td>False</td>\n    </tr>\n    <tr>\n      <th>58</th>\n      <td>2021-06-24</td>\n      <td>221.160004</td>\n      <td>227.449997</td>\n      <td>211.600006</td>\n      <td>212.309998</td>\n      <td>212.309998</td>\n      <td>3863300</td>\n      <td>37</td>\n      <td>False</td>\n    </tr>\n    <tr>\n      <th>59</th>\n      <td>2021-06-25</td>\n      <td>214.000000</td>\n      <td>214.199997</td>\n      <td>198.500000</td>\n      <td>209.509995</td>\n      <td>209.509995</td>\n      <td>12692700</td>\n      <td>34</td>\n      <td>False</td>\n    </tr>\n    <tr>\n      <th>60</th>\n      <td>2021-06-28</td>\n      <td>211.250000</td>\n      <td>224.449997</td>\n      <td>210.199997</td>\n      <td>213.250000</td>\n      <td>213.250000</td>\n      <td>4879400</td>\n      <td>31</td>\n      <td>False</td>\n    </tr>\n    <tr>\n      <th>61</th>\n      <td>2021-06-29</td>\n      <td>213.589996</td>\n      <td>215.220001</td>\n      <td>208.009995</td>\n      <td>210.880005</td>\n      <td>210.880005</td>\n      <td>2480000</td>\n      <td>28</td>\n      <td>False</td>\n    </tr>\n  </tbody>\n</table>\n<p>62 rows × 9 columns</p>\n</div>"
     },
     "execution_count": 14,
     "metadata": {},
     "output_type": "execute_result"
    }
   ],
   "source": [
    "# Get Data\n",
    "pd.read_csv(f\"../Connor/Data/GME_DF_07.12.2021.csv\")"
   ],
   "metadata": {
    "collapsed": false,
    "pycharm": {
     "name": "#%%\n"
    }
   }
  },
  {
   "cell_type": "code",
   "execution_count": null,
   "outputs": [],
   "source": [],
   "metadata": {
    "collapsed": false,
    "pycharm": {
     "name": "#%%\n"
    }
   }
  }
 ],
 "metadata": {
  "kernelspec": {
   "display_name": "Python 3",
   "language": "python",
   "name": "python3"
  },
  "language_info": {
   "codemirror_mode": {
    "name": "ipython",
    "version": 3
   },
   "file_extension": ".py",
   "mimetype": "text/x-python",
   "name": "python",
   "nbconvert_exporter": "python",
   "pygments_lexer": "ipython3",
   "version": "3.8.8"
  }
 },
 "nbformat": 4,
 "nbformat_minor": 5
}