{
 "cells": [
  {
   "cell_type": "markdown",
   "source": [
    "# 90 Day Data Grab\n",
    "## Group 1\n",
    "## 14 July 2021"
   ],
   "metadata": {
    "collapsed": false
   }
  },
  {
   "cell_type": "markdown",
   "source": [
    "### Introduction\n",
    "\n",
    "Code imports daily stock price and interest over time over last 90 days (4/1/2021 to 6/30/2021) for:\n",
    " GameStop (GME)\n",
    " Apple\n",
    " Coke\n",
    " John Deere\n",
    " AMC\n"
   ],
   "metadata": {
    "collapsed": false
   }
  },
  {
   "cell_type": "markdown",
   "source": [
    "### Import"
   ],
   "metadata": {
    "collapsed": false
   }
  },
  {
   "cell_type": "code",
   "execution_count": 62,
   "outputs": [],
   "source": [
    "# import pip\n",
    "\n",
    "import yfinance as yf\n",
    "import pandas as pd\n",
    "\n",
    "from pytrends.request import TrendReq\n",
    "\n",
    "import numpy as np\n",
    "\n",
    "%matplotlib inline\n",
    "\n",
    "import matplotlib as mp\n",
    "import matplotlib.pyplot as plt\n",
    "import seaborn as sns\n",
    "import plotly as px\n",
    "\n",
    "# Global Varaible\n",
    "\n",
    "dataDir = r\"./Data Files/\""
   ],
   "metadata": {
    "collapsed": false,
    "pycharm": {
     "name": "#%%\n"
    }
   }
  },
  {
   "cell_type": "code",
   "execution_count": 63,
   "outputs": [],
   "source": [
    "# Connect to Google API\n",
    "\n",
    "pytrends = TrendReq(hl='en-US', tz=360)"
   ],
   "metadata": {
    "collapsed": false,
    "pycharm": {
     "name": "#%%\n"
    }
   }
  },
  {
   "cell_type": "code",
   "execution_count": 64,
   "outputs": [],
   "source": [
    "# Set Keyword\n",
    "\n",
    "kw_list = ['GME']\n",
    "\n",
    "# Build Payload\n",
    "\n",
    "pytrends.build_payload(kw_list, timeframe='2021-04-01 2021-06-30', geo='')\n"
   ],
   "metadata": {
    "collapsed": false,
    "pycharm": {
     "name": "#%%\n"
    }
   }
  },
  {
   "cell_type": "code",
   "execution_count": 65,
   "outputs": [
    {
     "data": {
      "text/plain": "            Google Searches  isPartial\ndate                                  \n2021-04-01               72      False\n2021-04-02               29      False\n2021-04-03               13      False\n2021-04-04               11      False\n2021-04-05               67      False\n...                     ...        ...\n2021-06-26               10      False\n2021-06-27                8      False\n2021-06-28               33      False\n2021-06-29               32      False\n2021-06-30               28      False\n\n[91 rows x 2 columns]",
      "text/html": "<div>\n<style scoped>\n    .dataframe tbody tr th:only-of-type {\n        vertical-align: middle;\n    }\n\n    .dataframe tbody tr th {\n        vertical-align: top;\n    }\n\n    .dataframe thead th {\n        text-align: right;\n    }\n</style>\n<table border=\"1\" class=\"dataframe\">\n  <thead>\n    <tr style=\"text-align: right;\">\n      <th></th>\n      <th>Google Searches</th>\n      <th>isPartial</th>\n    </tr>\n    <tr>\n      <th>date</th>\n      <th></th>\n      <th></th>\n    </tr>\n  </thead>\n  <tbody>\n    <tr>\n      <th>2021-04-01</th>\n      <td>72</td>\n      <td>False</td>\n    </tr>\n    <tr>\n      <th>2021-04-02</th>\n      <td>29</td>\n      <td>False</td>\n    </tr>\n    <tr>\n      <th>2021-04-03</th>\n      <td>13</td>\n      <td>False</td>\n    </tr>\n    <tr>\n      <th>2021-04-04</th>\n      <td>11</td>\n      <td>False</td>\n    </tr>\n    <tr>\n      <th>2021-04-05</th>\n      <td>67</td>\n      <td>False</td>\n    </tr>\n    <tr>\n      <th>...</th>\n      <td>...</td>\n      <td>...</td>\n    </tr>\n    <tr>\n      <th>2021-06-26</th>\n      <td>10</td>\n      <td>False</td>\n    </tr>\n    <tr>\n      <th>2021-06-27</th>\n      <td>8</td>\n      <td>False</td>\n    </tr>\n    <tr>\n      <th>2021-06-28</th>\n      <td>33</td>\n      <td>False</td>\n    </tr>\n    <tr>\n      <th>2021-06-29</th>\n      <td>32</td>\n      <td>False</td>\n    </tr>\n    <tr>\n      <th>2021-06-30</th>\n      <td>28</td>\n      <td>False</td>\n    </tr>\n  </tbody>\n</table>\n<p>91 rows × 2 columns</p>\n</div>"
     },
     "execution_count": 65,
     "metadata": {},
     "output_type": "execute_result"
    }
   ],
   "source": [
    "# Get trends Data frame\n",
    "\n",
    "GME_trends = pytrends.interest_over_time()\n",
    "GME_trends.rename(columns = {\"GME\": \"Google Searches\"},\n",
    "          inplace = True)\n",
    "\n",
    "GME_trends\n"
   ],
   "metadata": {
    "collapsed": false,
    "pycharm": {
     "name": "#%%\n"
    }
   }
  },
  {
   "cell_type": "code",
   "execution_count": 66,
   "outputs": [
    {
     "name": "stdout",
     "output_type": "stream",
     "text": [
      "[*********************100%***********************]  1 of 1 completed\n"
     ]
    },
    {
     "data": {
      "text/plain": "                  Open        High         Low       Close   Adj Close  \\\nDate                                                                     \n2021-04-01  193.360001  196.970001  183.600006  191.449997  191.449997   \n2021-04-05  171.000000  195.000000  164.809998  186.949997  186.949997   \n2021-04-06  185.210007  192.000000  183.559998  184.500000  184.500000   \n2021-04-07  183.220001  184.500000  176.110001  177.970001  177.970001   \n2021-04-08  185.880005  185.880005  164.300003  170.259995  170.259995   \n...                ...         ...         ...         ...         ...   \n2021-06-23  221.449997  222.570007  214.119995  219.339996  219.339996   \n2021-06-24  221.160004  227.449997  211.600006  212.309998  212.309998   \n2021-06-25  214.000000  214.199997  198.500000  209.509995  209.509995   \n2021-06-28  211.250000  224.449997  210.199997  213.250000  213.250000   \n2021-06-29  213.589996  215.220001  208.009995  210.880005  210.880005   \n\n              Volume  \nDate                  \n2021-04-01   9334300  \n2021-04-05  14070500  \n2021-04-06   6218300  \n2021-04-07   4768300  \n2021-04-08  10047400  \n...              ...  \n2021-06-23   3555100  \n2021-06-24   3863300  \n2021-06-25  12692700  \n2021-06-28   4879400  \n2021-06-29   2480000  \n\n[62 rows x 6 columns]",
      "text/html": "<div>\n<style scoped>\n    .dataframe tbody tr th:only-of-type {\n        vertical-align: middle;\n    }\n\n    .dataframe tbody tr th {\n        vertical-align: top;\n    }\n\n    .dataframe thead th {\n        text-align: right;\n    }\n</style>\n<table border=\"1\" class=\"dataframe\">\n  <thead>\n    <tr style=\"text-align: right;\">\n      <th></th>\n      <th>Open</th>\n      <th>High</th>\n      <th>Low</th>\n      <th>Close</th>\n      <th>Adj Close</th>\n      <th>Volume</th>\n    </tr>\n    <tr>\n      <th>Date</th>\n      <th></th>\n      <th></th>\n      <th></th>\n      <th></th>\n      <th></th>\n      <th></th>\n    </tr>\n  </thead>\n  <tbody>\n    <tr>\n      <th>2021-04-01</th>\n      <td>193.360001</td>\n      <td>196.970001</td>\n      <td>183.600006</td>\n      <td>191.449997</td>\n      <td>191.449997</td>\n      <td>9334300</td>\n    </tr>\n    <tr>\n      <th>2021-04-05</th>\n      <td>171.000000</td>\n      <td>195.000000</td>\n      <td>164.809998</td>\n      <td>186.949997</td>\n      <td>186.949997</td>\n      <td>14070500</td>\n    </tr>\n    <tr>\n      <th>2021-04-06</th>\n      <td>185.210007</td>\n      <td>192.000000</td>\n      <td>183.559998</td>\n      <td>184.500000</td>\n      <td>184.500000</td>\n      <td>6218300</td>\n    </tr>\n    <tr>\n      <th>2021-04-07</th>\n      <td>183.220001</td>\n      <td>184.500000</td>\n      <td>176.110001</td>\n      <td>177.970001</td>\n      <td>177.970001</td>\n      <td>4768300</td>\n    </tr>\n    <tr>\n      <th>2021-04-08</th>\n      <td>185.880005</td>\n      <td>185.880005</td>\n      <td>164.300003</td>\n      <td>170.259995</td>\n      <td>170.259995</td>\n      <td>10047400</td>\n    </tr>\n    <tr>\n      <th>...</th>\n      <td>...</td>\n      <td>...</td>\n      <td>...</td>\n      <td>...</td>\n      <td>...</td>\n      <td>...</td>\n    </tr>\n    <tr>\n      <th>2021-06-23</th>\n      <td>221.449997</td>\n      <td>222.570007</td>\n      <td>214.119995</td>\n      <td>219.339996</td>\n      <td>219.339996</td>\n      <td>3555100</td>\n    </tr>\n    <tr>\n      <th>2021-06-24</th>\n      <td>221.160004</td>\n      <td>227.449997</td>\n      <td>211.600006</td>\n      <td>212.309998</td>\n      <td>212.309998</td>\n      <td>3863300</td>\n    </tr>\n    <tr>\n      <th>2021-06-25</th>\n      <td>214.000000</td>\n      <td>214.199997</td>\n      <td>198.500000</td>\n      <td>209.509995</td>\n      <td>209.509995</td>\n      <td>12692700</td>\n    </tr>\n    <tr>\n      <th>2021-06-28</th>\n      <td>211.250000</td>\n      <td>224.449997</td>\n      <td>210.199997</td>\n      <td>213.250000</td>\n      <td>213.250000</td>\n      <td>4879400</td>\n    </tr>\n    <tr>\n      <th>2021-06-29</th>\n      <td>213.589996</td>\n      <td>215.220001</td>\n      <td>208.009995</td>\n      <td>210.880005</td>\n      <td>210.880005</td>\n      <td>2480000</td>\n    </tr>\n  </tbody>\n</table>\n<p>62 rows × 6 columns</p>\n</div>"
     },
     "execution_count": 66,
     "metadata": {},
     "output_type": "execute_result"
    }
   ],
   "source": [
    "# Get stock Data Frame\n",
    "\n",
    "GME_stock = yf.download(\"GME\", start=\"2021-04-01\", end=\"2021-06-30\", interval=\"1d\")\n",
    "GME_stock\n",
    "\n"
   ],
   "metadata": {
    "collapsed": false,
    "pycharm": {
     "name": "#%%\n"
    }
   }
  },
  {
   "cell_type": "code",
   "execution_count": 67,
   "outputs": [],
   "source": [
    "# Combine Data\n",
    "GME_DF = pd.concat([GME_stock, GME_trends], axis = 1, join = 'inner')\n",
    "GME_DF\n",
    "\n",
    "# Add difference\n",
    "\n",
    "GME_DF[\"Price Difference\"] = GME_DF[\"Open\"]-GME_DF[\"Close\"]"
   ],
   "metadata": {
    "collapsed": false,
    "pycharm": {
     "name": "#%%\n"
    }
   }
  },
  {
   "cell_type": "code",
   "execution_count": 68,
   "outputs": [],
   "source": [
    "# Export to data folder\n",
    "GME_DF.to_csv(f\"{dataDir}GME_DF_07.14.2021.csv\")"
   ],
   "metadata": {
    "collapsed": false,
    "pycharm": {
     "name": "#%%\n"
    }
   }
  },
  {
   "cell_type": "code",
   "execution_count": 69,
   "outputs": [
    {
     "data": {
      "text/plain": "                  Open        High         Low       Close   Adj Close  \\\nUnnamed: 0                                                               \n2021-04-01  193.360001  196.970001  183.600006  191.449997  191.449997   \n2021-04-05  171.000000  195.000000  164.809998  186.949997  186.949997   \n2021-04-06  185.210007  192.000000  183.559998  184.500000  184.500000   \n2021-04-07  183.220001  184.500000  176.110001  177.970001  177.970001   \n2021-04-08  185.880005  185.880005  164.300003  170.259995  170.259995   \n...                ...         ...         ...         ...         ...   \n2021-06-23  221.449997  222.570007  214.119995  219.339996  219.339996   \n2021-06-24  221.160004  227.449997  211.600006  212.309998  212.309998   \n2021-06-25  214.000000  214.199997  198.500000  209.509995  209.509995   \n2021-06-28  211.250000  224.449997  210.199997  213.250000  213.250000   \n2021-06-29  213.589996  215.220001  208.009995  210.880005  210.880005   \n\n              Volume  Google Searches  isPartial  Price Difference  \nUnnamed: 0                                                          \n2021-04-01   9334300               72      False          1.910004  \n2021-04-05  14070500               67      False        -15.949997  \n2021-04-06   6218300               59      False          0.710007  \n2021-04-07   4768300               52      False          5.250000  \n2021-04-08  10047400               53      False         15.620010  \n...              ...              ...        ...               ...  \n2021-06-23   3555100               43      False          2.110001  \n2021-06-24   3863300               36      False          8.850006  \n2021-06-25  12692700               33      False          4.490005  \n2021-06-28   4879400               33      False         -2.000000  \n2021-06-29   2480000               32      False          2.709991  \n\n[62 rows x 9 columns]",
      "text/html": "<div>\n<style scoped>\n    .dataframe tbody tr th:only-of-type {\n        vertical-align: middle;\n    }\n\n    .dataframe tbody tr th {\n        vertical-align: top;\n    }\n\n    .dataframe thead th {\n        text-align: right;\n    }\n</style>\n<table border=\"1\" class=\"dataframe\">\n  <thead>\n    <tr style=\"text-align: right;\">\n      <th></th>\n      <th>Open</th>\n      <th>High</th>\n      <th>Low</th>\n      <th>Close</th>\n      <th>Adj Close</th>\n      <th>Volume</th>\n      <th>Google Searches</th>\n      <th>isPartial</th>\n      <th>Price Difference</th>\n    </tr>\n    <tr>\n      <th>Unnamed: 0</th>\n      <th></th>\n      <th></th>\n      <th></th>\n      <th></th>\n      <th></th>\n      <th></th>\n      <th></th>\n      <th></th>\n      <th></th>\n    </tr>\n  </thead>\n  <tbody>\n    <tr>\n      <th>2021-04-01</th>\n      <td>193.360001</td>\n      <td>196.970001</td>\n      <td>183.600006</td>\n      <td>191.449997</td>\n      <td>191.449997</td>\n      <td>9334300</td>\n      <td>72</td>\n      <td>False</td>\n      <td>1.910004</td>\n    </tr>\n    <tr>\n      <th>2021-04-05</th>\n      <td>171.000000</td>\n      <td>195.000000</td>\n      <td>164.809998</td>\n      <td>186.949997</td>\n      <td>186.949997</td>\n      <td>14070500</td>\n      <td>67</td>\n      <td>False</td>\n      <td>-15.949997</td>\n    </tr>\n    <tr>\n      <th>2021-04-06</th>\n      <td>185.210007</td>\n      <td>192.000000</td>\n      <td>183.559998</td>\n      <td>184.500000</td>\n      <td>184.500000</td>\n      <td>6218300</td>\n      <td>59</td>\n      <td>False</td>\n      <td>0.710007</td>\n    </tr>\n    <tr>\n      <th>2021-04-07</th>\n      <td>183.220001</td>\n      <td>184.500000</td>\n      <td>176.110001</td>\n      <td>177.970001</td>\n      <td>177.970001</td>\n      <td>4768300</td>\n      <td>52</td>\n      <td>False</td>\n      <td>5.250000</td>\n    </tr>\n    <tr>\n      <th>2021-04-08</th>\n      <td>185.880005</td>\n      <td>185.880005</td>\n      <td>164.300003</td>\n      <td>170.259995</td>\n      <td>170.259995</td>\n      <td>10047400</td>\n      <td>53</td>\n      <td>False</td>\n      <td>15.620010</td>\n    </tr>\n    <tr>\n      <th>...</th>\n      <td>...</td>\n      <td>...</td>\n      <td>...</td>\n      <td>...</td>\n      <td>...</td>\n      <td>...</td>\n      <td>...</td>\n      <td>...</td>\n      <td>...</td>\n    </tr>\n    <tr>\n      <th>2021-06-23</th>\n      <td>221.449997</td>\n      <td>222.570007</td>\n      <td>214.119995</td>\n      <td>219.339996</td>\n      <td>219.339996</td>\n      <td>3555100</td>\n      <td>43</td>\n      <td>False</td>\n      <td>2.110001</td>\n    </tr>\n    <tr>\n      <th>2021-06-24</th>\n      <td>221.160004</td>\n      <td>227.449997</td>\n      <td>211.600006</td>\n      <td>212.309998</td>\n      <td>212.309998</td>\n      <td>3863300</td>\n      <td>36</td>\n      <td>False</td>\n      <td>8.850006</td>\n    </tr>\n    <tr>\n      <th>2021-06-25</th>\n      <td>214.000000</td>\n      <td>214.199997</td>\n      <td>198.500000</td>\n      <td>209.509995</td>\n      <td>209.509995</td>\n      <td>12692700</td>\n      <td>33</td>\n      <td>False</td>\n      <td>4.490005</td>\n    </tr>\n    <tr>\n      <th>2021-06-28</th>\n      <td>211.250000</td>\n      <td>224.449997</td>\n      <td>210.199997</td>\n      <td>213.250000</td>\n      <td>213.250000</td>\n      <td>4879400</td>\n      <td>33</td>\n      <td>False</td>\n      <td>-2.000000</td>\n    </tr>\n    <tr>\n      <th>2021-06-29</th>\n      <td>213.589996</td>\n      <td>215.220001</td>\n      <td>208.009995</td>\n      <td>210.880005</td>\n      <td>210.880005</td>\n      <td>2480000</td>\n      <td>32</td>\n      <td>False</td>\n      <td>2.709991</td>\n    </tr>\n  </tbody>\n</table>\n<p>62 rows × 9 columns</p>\n</div>"
     },
     "execution_count": 69,
     "metadata": {},
     "output_type": "execute_result"
    }
   ],
   "source": [
    "# Get Data locally\n",
    "GME_DF = pd.read_csv(f\"{dataDir}GME_DF_07.14.2021.csv\")\n",
    "GME_DF.set_index('Unnamed: 0', inplace=True)\n",
    "GME_DF.index = pd.to_datetime(GME_DF.index)\n",
    "GME_DF"
   ],
   "metadata": {
    "collapsed": false,
    "pycharm": {
     "name": "#%%\n"
    }
   }
  },
  {
   "cell_type": "code",
   "execution_count": 70,
   "outputs": [
    {
     "data": {
      "text/plain": "Text(0.5, 1.0, 'Price Difference vs. Search Interest GME')"
     },
     "execution_count": 70,
     "metadata": {},
     "output_type": "execute_result"
    },
    {
     "data": {
      "text/plain": "<Figure size 432x288 with 1 Axes>",
      "image/png": "[encoded data removed]"
     },
     "metadata": {
      "needs_background": "light"
     },
     "output_type": "display_data"
    }
   ],
   "source": [
    "# Matplotlib\n",
    "plt.scatter(GME_DF[\"Price Difference\"].values, GME_DF[\"Google Searches\"])\n",
    "plt.xlabel('Stock Price Day Difference')\n",
    "plt.ylabel('Search Interest')\n",
    "plt.title('Price Difference vs. Search Interest GME')\n"
   ],
   "metadata": {
    "collapsed": false,
    "pycharm": {
     "name": "#%%\n"
    }
   }
  },
  {
   "cell_type": "code",
   "execution_count": 71,
   "outputs": [
    {
     "data": {
      "text/plain": "Text(0.5, 1.0, 'Price Differnce and Interest Over Time GME')"
     },
     "execution_count": 71,
     "metadata": {},
     "output_type": "execute_result"
    },
    {
     "data": {
      "text/plain": "<Figure size 864x432 with 1 Axes>",
      "image/png": "[encoded data removed]"
     },
     "metadata": {},
     "output_type": "display_data"
    }
   ],
   "source": [
    "# Seaborne plot\n",
    "sns.set_theme(style=\"darkgrid\")\n",
    "fig, ax = plt.subplots(figsize = (12,6))\n",
    "fig = sns.lineplot(data=GME_DF[[\"Price Difference\",\"Google Searches\"]], ax=ax)\n",
    "plt.xlabel(\"Date\")\n",
    "plt.ylabel(\"Price Difference & Interest\")\n",
    "plt.title(\"Price Differnce and Interest Over Time GME\")"
   ],
   "metadata": {
    "collapsed": false,
    "pycharm": {
     "name": "#%%\n"
    }
   }
  },
  {
   "cell_type": "code",
   "execution_count": 72,
   "outputs": [
    {
     "ename": "TypeError",
     "evalue": "'module' object is not callable",
     "output_type": "error",
     "traceback": [
      "\u001B[0;31m---------------------------------------------------------------------------\u001B[0m",
      "\u001B[0;31mTypeError\u001B[0m                                 Traceback (most recent call last)",
      "\u001B[0;32m<ipython-input-72-e2a2cc8117a9>\u001B[0m in \u001B[0;36m<module>\u001B[0;34m\u001B[0m\n\u001B[1;32m      7\u001B[0m \u001B[0;34m\u001B[0m\u001B[0m\n\u001B[1;32m      8\u001B[0m \u001B[0;34m\u001B[0m\u001B[0m\n\u001B[0;32m----> 9\u001B[0;31m fig = px.graph_objs.Figure(data=[px.graph_objs.candlestick(x=xValue,\n\u001B[0m\u001B[1;32m     10\u001B[0m                 \u001B[0mopen\u001B[0m\u001B[0;34m=\u001B[0m\u001B[0mopenGME\u001B[0m\u001B[0;34m,\u001B[0m\u001B[0;34m\u001B[0m\u001B[0;34m\u001B[0m\u001B[0m\n\u001B[1;32m     11\u001B[0m                 \u001B[0mhigh\u001B[0m\u001B[0;34m=\u001B[0m\u001B[0mhighGME\u001B[0m\u001B[0;34m,\u001B[0m\u001B[0;34m\u001B[0m\u001B[0;34m\u001B[0m\u001B[0m\n",
      "\u001B[0;31mTypeError\u001B[0m: 'module' object is not callable"
     ]
    }
   ],
   "source": [
    "# Plotly\n",
    "xValue = GME_DF.index\n",
    "openGME = GME_DF['Open']\n",
    "highGME = GME_DF['High']\n",
    "lowGME = GME_DF['Low']\n",
    "closeGME = GME_DF['Close']\n",
    "\n",
    "\n",
    "fig = px.graph_objs.Figure(data=[px.graph_objs.candlestick(x=xValue,\n",
    "                open=openGME,\n",
    "                high=highGME,\n",
    "                low=lowGME,\n",
    "                close=closeGME)])\n",
    "\n",
    "fig.show()\n"
   ],
   "metadata": {
    "collapsed": false,
    "pycharm": {
     "name": "#%%\n"
    }
   }
  },
  {
   "cell_type": "code",
   "execution_count": null,
   "outputs": [],
   "source": [
    "fig = px.bar(GME_DF, x=GME_DF.index, y=\"Close\")\n",
    "fig.show()"
   ],
   "metadata": {
    "collapsed": false,
    "pycharm": {
     "name": "#%%\n"
    }
   }
  },
  {
   "cell_type": "code",
   "execution_count": null,
   "outputs": [],
   "source": [],
   "metadata": {
    "collapsed": false,
    "pycharm": {
     "name": "#%%\n"
    }
   }
  },
  {
   "cell_type": "markdown",
   "source": [
    "### Apple\n",
    "Ken Cupples"
   ],
   "metadata": {
    "collapsed": false
   }
  },
  {
   "cell_type": "code",
   "execution_count": null,
   "outputs": [],
   "source": [],
   "metadata": {
    "collapsed": false,
    "pycharm": {
     "name": "#%%\n"
    }
   }
  },
  {
   "cell_type": "code",
   "execution_count": null,
   "outputs": [],
   "source": [],
   "metadata": {
    "collapsed": false,
    "pycharm": {
     "name": "#%%\n"
    }
   }
  },
  {
   "cell_type": "code",
   "execution_count": null,
   "outputs": [],
   "source": [
    "#Reads in Apple stock data from a csv file\n",
    "Apple = pd.read_csv(f\"{dataDir}/AAPL.csv\")\n"
   ],
   "metadata": {
    "collapsed": false,
    "pycharm": {
     "name": "#%%\n"
    }
   }
  },
  {
   "cell_type": "code",
   "execution_count": null,
   "outputs": [],
   "source": [
    "#Slices the dataframe Apple to include only information from the second quarter defined from 4-1-2021 to 6-29-2021 making use of the indexes\n",
    "AppleSecondQuarter = Apple.iloc[range(182, 244)]\n",
    "AppleSecondQuarter"
   ],
   "metadata": {
    "collapsed": false,
    "pycharm": {
     "name": "#%%\n"
    }
   }
  },
  {
   "cell_type": "code",
   "execution_count": null,
   "outputs": [],
   "source": [
    "sns.set_style(\"whitegrid\")\n",
    "fig, AppleScatter = plt.subplots(figsize=(25,10))\n",
    "plt.xticks(rotation=90)\n",
    "AppleScatter.set_title(\"Apple Stock Second Quarter Scatter Plot (K.Cupples)\")\n",
    "scatter = sns.scatterplot(ax=AppleScatter, data=AppleSecondQuarter,\n",
    "            x=\"Date\", y=\"Close\", size=\"Volume\")"
   ],
   "metadata": {
    "collapsed": false,
    "pycharm": {
     "name": "#%%\n"
    }
   }
  },
  {
   "cell_type": "code",
   "execution_count": null,
   "outputs": [],
   "source": [],
   "metadata": {
    "collapsed": false,
    "pycharm": {
     "name": "#%%\n"
    }
   }
  },
  {
   "cell_type": "code",
   "execution_count": null,
   "outputs": [],
   "source": [
    "HistogramData = AppleSecondQuarter[\"Volume\"]"
   ],
   "metadata": {
    "collapsed": false,
    "pycharm": {
     "name": "#%%\n"
    }
   }
  },
  {
   "cell_type": "code",
   "execution_count": null,
   "outputs": [],
   "source": [
    "fig, HistVolume = plt.subplots(figsize=(20,10))\n",
    "HistVolume.hist(HistogramData, )\n",
    "HistVolume.set_title(\"Histogram of Volume Traded (K.Cupples)\")\n",
    "HistVolume.set_xlabel(\"Volume Traded per Day (Billions)\")\n",
    "HistVolume.set_ylabel(\"Count of Volume Traded per category\")\n",
    "plt.show()\n"
   ],
   "metadata": {
    "collapsed": false,
    "pycharm": {
     "name": "#%%\n"
    }
   }
  },
  {
   "cell_type": "code",
   "execution_count": null,
   "outputs": [],
   "source": [
    "Averages = np.array([[\"April\", Apple.iloc[182:203][\"Close\"].mean(),\"May\", Apple.iloc[203:223][\"Close\"].mean(), \"June\", Apple.iloc[223:245][\"Close\"].mean()]])\n",
    "AverageMonthsTable = np.reshape(Averages,(3,2))\n",
    "Column = [ \"Month\", \"Average\"]\n",
    "AveragePrice = pd.DataFrame(AverageMonthsTable, columns=Column)\n",
    "AveragePrice"
   ],
   "metadata": {
    "collapsed": false,
    "pycharm": {
     "name": "#%%\n"
    }
   }
  },
  {
   "cell_type": "code",
   "execution_count": null,
   "outputs": [],
   "source": [
    "fig = px.pie(AveragePrice, values=\"Average\", names=\"Month\", title=\"Average stock value (K.Cupples)\")\n",
    "fig.show()"
   ],
   "metadata": {
    "collapsed": false,
    "pycharm": {
     "name": "#%%\n"
    }
   }
  },
  {
   "cell_type": "code",
   "execution_count": null,
   "outputs": [],
   "source": [],
   "metadata": {
    "collapsed": false,
    "pycharm": {
     "name": "#%%\n"
    }
   }
  },
  {
   "cell_type": "markdown",
   "source": [],
   "metadata": {
    "collapsed": false
   }
  },
  {
   "cell_type": "markdown",
   "source": [
    "Shawn Sonnack"
   ],
   "metadata": {
    "collapsed": false
   }
  },
  {
   "cell_type": "code",
   "execution_count": null,
   "outputs": [],
   "source": [],
   "metadata": {
    "collapsed": false,
    "pycharm": {
     "name": "#%%\n"
    }
   }
  },
  {
   "cell_type": "code",
   "execution_count": null,
   "outputs": [],
   "source": [
    "#import matplotlib.pyplot as plt\n",
    "#import yfinance as yf\n",
    "#from pytrends.request import TrendReq\n",
    "#import numpy as np\n",
    "#import pandas as pd\n",
    "#import seaborn as sns\n",
    "#pip install plotly==5.1.0\n",
    "#import plotly.express as px"
   ],
   "metadata": {
    "collapsed": false,
    "pycharm": {
     "name": "#%%\n"
    }
   }
  },
  {
   "cell_type": "markdown",
   "source": [
    "# Set the trend"
   ],
   "metadata": {
    "collapsed": false
   }
  },
  {
   "cell_type": "code",
   "execution_count": null,
   "outputs": [],
   "source": [
    "pytrends = TrendReq(hl='en-US', tz=360)"
   ],
   "metadata": {
    "collapsed": false,
    "pycharm": {
     "name": "#%%\n"
    }
   }
  },
  {
   "cell_type": "markdown",
   "source": [
    "# Setup Keyword Search, and pull the search results using pytrends for April 1 - June 30"
   ],
   "metadata": {
    "collapsed": false
   }
  },
  {
   "cell_type": "code",
   "execution_count": null,
   "outputs": [],
   "source": [
    "keywords = [\"AMC\"]\n",
    "pytrends.build_payload(keywords, timeframe='2021-04-01 2021-06-30', geo='US')"
   ],
   "metadata": {
    "collapsed": false,
    "pycharm": {
     "name": "#%%\n"
    }
   }
  },
  {
   "cell_type": "markdown",
   "source": [
    "# Show interest over time"
   ],
   "metadata": {
    "collapsed": false
   }
  },
  {
   "cell_type": "code",
   "execution_count": null,
   "outputs": [],
   "source": [
    "amcSearchResults = pytrends.interest_over_time()\n",
    "amcSearchResults"
   ],
   "metadata": {
    "collapsed": false,
    "pycharm": {
     "name": "#%%\n"
    }
   }
  },
  {
   "cell_type": "code",
   "execution_count": null,
   "outputs": [],
   "source": [
    "amcSearchResults = amcSearchResults.rename(columns={'AMC': 'Search Interest'})\n",
    "amcSearchResults"
   ],
   "metadata": {
    "collapsed": false,
    "pycharm": {
     "name": "#%%\n"
    }
   }
  },
  {
   "cell_type": "markdown",
   "source": [
    "# Use Yahoo Finance to pull Stock Data from April 1 - June 30"
   ],
   "metadata": {
    "collapsed": false
   }
  },
  {
   "cell_type": "code",
   "execution_count": null,
   "outputs": [],
   "source": [
    "amcStockInfo = yf.download(\"AMC\", start=\"2021-04-01\", end=\"2021-06-30\", interval=\"1d\")\n",
    "amcStockInfo.shape"
   ],
   "metadata": {
    "collapsed": false,
    "pycharm": {
     "name": "#%%\n"
    }
   }
  },
  {
   "cell_type": "markdown",
   "source": [
    "# Show the stock data"
   ],
   "metadata": {
    "collapsed": false
   }
  },
  {
   "cell_type": "code",
   "execution_count": null,
   "outputs": [],
   "source": [
    "amcStockInfo"
   ],
   "metadata": {
    "collapsed": false,
    "pycharm": {
     "name": "#%%\n"
    }
   }
  },
  {
   "cell_type": "markdown",
   "source": [
    "# Add a Column Representing Amount Lost or Gained"
   ],
   "metadata": {
    "collapsed": false
   }
  },
  {
   "cell_type": "code",
   "execution_count": null,
   "outputs": [],
   "source": [
    "amcStockInfo[\"Amount Changed\"] = amcStockInfo[\"Open\"] - amcStockInfo[\"Close\"]"
   ],
   "metadata": {
    "collapsed": false,
    "pycharm": {
     "name": "#%%\n"
    }
   }
  },
  {
   "cell_type": "markdown",
   "source": [
    "# Merge the Two Tables"
   ],
   "metadata": {
    "collapsed": false
   }
  },
  {
   "cell_type": "code",
   "execution_count": null,
   "outputs": [],
   "source": [
    "amcMergedDataFrame = amcSearchResults.merge(amcStockInfo, how='inner', left_index=True, right_index=True)\n",
    "amcMergedDataFrame"
   ],
   "metadata": {
    "collapsed": false,
    "pycharm": {
     "name": "#%%\n"
    }
   }
  },
  {
   "cell_type": "markdown",
   "source": [
    "# Create a Filtered Table to Use for MatPlotLib"
   ],
   "metadata": {
    "collapsed": false
   }
  },
  {
   "cell_type": "code",
   "execution_count": null,
   "outputs": [],
   "source": [
    "amcFiltered = amcMergedDataFrame[['Search Interest', 'Close']]"
   ],
   "metadata": {
    "collapsed": false,
    "pycharm": {
     "name": "#%%\n"
    }
   }
  },
  {
   "cell_type": "code",
   "execution_count": null,
   "outputs": [],
   "source": [
    "amcFiltered.head()\n",
    "amcFiltered"
   ],
   "metadata": {
    "collapsed": false,
    "pycharm": {
     "name": "#%%\n"
    }
   }
  },
  {
   "cell_type": "markdown",
   "source": [
    "# Create MatPlotLib focused on the price of stock and the level of search interest.  100 being extremely high, 0 being very little."
   ],
   "metadata": {
    "collapsed": false
   }
  },
  {
   "cell_type": "code",
   "execution_count": null,
   "outputs": [],
   "source": [
    "\n",
    "plt.scatter(amcFiltered[\"Close\"].values, amcFiltered[\"Search Interest\"].values,)\n",
    "\n",
    "plt.suptitle('AMC Stock Prices Year 2021 Q2', ha='center', fontsize='xx-large')\n",
    "plt.xlabel('Price of Stock')"
   ],
   "metadata": {
    "collapsed": false,
    "pycharm": {
     "name": "#%%\n"
    }
   }
  },
  {
   "cell_type": "markdown",
   "source": [
    "# Start creating SeaBorne DataFrame"
   ],
   "metadata": {
    "collapsed": false
   }
  },
  {
   "cell_type": "code",
   "execution_count": null,
   "outputs": [],
   "source": [
    "amcFilteredForSeaborne = amcMergedDataFrame[['Search Interest', 'Amount Changed']]\n",
    "amcFilteredForSeaborne"
   ],
   "metadata": {
    "collapsed": false,
    "pycharm": {
     "name": "#%%\n"
    }
   }
  },
  {
   "cell_type": "markdown",
   "source": [
    "# Create SeaBorne Chart showing Amount changed based on search interest."
   ],
   "metadata": {
    "collapsed": false
   }
  },
  {
   "cell_type": "code",
   "execution_count": null,
   "outputs": [],
   "source": [
    "f, ax = plt.subplots(figsize=(6.5, 6.5))\n",
    "sns.despine(f, left=True, bottom=True)\n",
    "clarity_ranking = [\"I1\", \"SI2\", \"SI1\", \"VS2\", \"VS1\", \"VVS2\", \"VVS1\", \"IF\"]\n",
    "sns.scatterplot(x=\"Amount Changed\", y=\"Search Interest\",\n",
    "                palette=\"ch:r=-.2,d=.3_r\",\n",
    "                hue_order=clarity_ranking,\n",
    "                sizes=(1, 8), linewidth=0,\n",
    "                data=amcFilteredForSeaborne, ax=ax)"
   ],
   "metadata": {
    "collapsed": false,
    "pycharm": {
     "name": "#%%\n"
    }
   }
  },
  {
   "cell_type": "markdown",
   "source": [
    "# Plotly, prepare the table"
   ],
   "metadata": {
    "collapsed": false
   }
  },
  {
   "cell_type": "code",
   "execution_count": null,
   "outputs": [],
   "source": [
    "amcFilteredPlotLy = amcMergedDataFrame[['Close']]"
   ],
   "metadata": {
    "collapsed": false,
    "pycharm": {
     "name": "#%%\n"
    }
   }
  },
  {
   "cell_type": "markdown",
   "source": [
    "# Plot the graph"
   ],
   "metadata": {
    "collapsed": false
   }
  },
  {
   "cell_type": "code",
   "execution_count": null,
   "outputs": [],
   "source": [
    "fig = px.line(amcFilteredPlotLy, title='Stock Price During The Period',\n",
    "labels={\n",
    "                     \"value\": \"Price\",\n",
    "                     \"index\": \"Date\",\n",
    "                     \"variable\": \"Closing Price\"\n",
    "                 },)\n",
    "fig.show()"
   ],
   "metadata": {
    "collapsed": false,
    "pycharm": {
     "name": "#%%\n"
    }
   }
  },
  {
   "cell_type": "markdown",
   "source": [
    "### Coke\n",
    "Arielle Swift"
   ],
   "metadata": {
    "collapsed": false
   }
  },
  {
   "cell_type": "code",
   "execution_count": null,
   "outputs": [],
   "source": [
    "\n",
    "#!pip install plotly\n",
    "#import pandas as pd\n",
    "#import matplotlib as mp\n",
    "#import matplotlib.pyplot as plt\n",
    "#import seaborn as sns\n",
    "#import numpy as np\n",
    "#import yfinance as yf\n",
    "#import plotly.express as px\n",
    "\n",
    "#%matplotlib inline"
   ],
   "metadata": {
    "collapsed": false,
    "pycharm": {
     "name": "#%%\n"
    }
   }
  },
  {
   "cell_type": "code",
   "execution_count": null,
   "outputs": [],
   "source": [
    "KO2ndQtrData = pd.read_csv(f\"{dataDir}KO.csv\")\n",
    "KO2ndQtrData"
   ],
   "metadata": {
    "collapsed": false,
    "pycharm": {
     "name": "#%%\n"
    }
   }
  },
  {
   "cell_type": "code",
   "execution_count": null,
   "outputs": [],
   "source": [
    "KO2ndQtrData['Date']= pd.to_datetime(KO2ndQtrData['Date'],format='%Y-%m-%d')\n",
    "KO2ndQtrData['Date'] = KO2ndQtrData['Date'].dt.strftime('%m-%d-%Y')\n",
    "KO2ndQtrData\n"
   ],
   "metadata": {
    "collapsed": false,
    "pycharm": {
     "name": "#%%\n"
    }
   }
  },
  {
   "cell_type": "code",
   "execution_count": null,
   "outputs": [],
   "source": [
    "KO2ndQtrData = KO2ndQtrData.loc[(KO2ndQtrData['Date'] >= '04-01-2021')\n",
    "                     & (KO2ndQtrData['Date'] < '07-01-2021')]"
   ],
   "metadata": {
    "collapsed": false,
    "pycharm": {
     "name": "#%%\n"
    }
   }
  },
  {
   "cell_type": "markdown",
   "source": [
    "# Matplotlib Graph"
   ],
   "metadata": {
    "collapsed": false
   }
  },
  {
   "cell_type": "code",
   "execution_count": null,
   "outputs": [],
   "source": [
    "#Mean for High, Low, Open, & Close of daily reported stock prices\n",
    "\n",
    "muHigh=KO2ndQtrData[\"High\"].mean()\n",
    "muLow=KO2ndQtrData[\"Low\"].mean()\n",
    "muOpen=KO2ndQtrData[\"Open\"].mean()\n",
    "muClose=KO2ndQtrData[\"Close\"].mean()\n"
   ],
   "metadata": {
    "collapsed": false,
    "pycharm": {
     "name": "#%%\n"
    }
   }
  },
  {
   "cell_type": "code",
   "execution_count": null,
   "outputs": [],
   "source": [
    "#Standard deviation for High, Low, Open, & Close of daily reported stock prices\n",
    "stdHigh=np.std(KO2ndQtrData[\"High\"], ddof=1)\n",
    "stdLow=np.std(KO2ndQtrData[\"Low\"], ddof=1)\n",
    "stdOpen=np.std(KO2ndQtrData[\"Open\"], ddof=1)\n",
    "stdClose=np.std(KO2ndQtrData[\"Close\"], ddof=1)"
   ],
   "metadata": {
    "collapsed": false,
    "pycharm": {
     "name": "#%%\n"
    }
   }
  },
  {
   "cell_type": "code",
   "execution_count": null,
   "outputs": [],
   "source": [
    "KO2ndQtrData=KO2ndQtrData.assign(Dailyalpha=lambda x: (x.Close+0.42-x.Open) / x.Open)\n"
   ],
   "metadata": {
    "collapsed": false,
    "pycharm": {
     "name": "#%%\n"
    }
   }
  },
  {
   "cell_type": "code",
   "execution_count": null,
   "outputs": [],
   "source": [
    "alphaAvg=KO2ndQtrData[\"Dailyalpha\"].mean()\n",
    "alphaAvg"
   ],
   "metadata": {
    "collapsed": false,
    "pycharm": {
     "name": "#%%\n"
    }
   }
  },
  {
   "cell_type": "code",
   "execution_count": null,
   "outputs": [],
   "source": [
    "x1=np.random.normal(muHigh,stdHigh,1000)\n",
    "x2=np.random.normal(muLow,stdLow,1000)\n",
    "x3=np.random.normal(muOpen,stdOpen,1000)\n",
    "x4=np.random.normal(muClose,stdClose,1000)\n",
    "\n",
    "kwargs=dict(histtype='step', alpha=0.7, bins = 40)\n",
    "plt.hist(x1, **kwargs)\n",
    "plt.hist(x2, **kwargs)\n",
    "plt.hist(x3, **kwargs)\n",
    "plt.suptitle('Normal Distributions of Coke Stock Prices Year 2021 Q2', ha='center', fontsize='xx-large')\n",
    "plt.xlabel('Price of Stock')\n",
    "plt.ylabel('Frequency')"
   ],
   "metadata": {
    "collapsed": false,
    "pycharm": {
     "name": "#%%\n"
    }
   }
  },
  {
   "cell_type": "markdown",
   "source": [
    "## Seaborn Graph"
   ],
   "metadata": {
    "collapsed": false
   }
  },
  {
   "cell_type": "code",
   "execution_count": null,
   "outputs": [],
   "source": [
    "Y21Q2=sns.relplot(data=KO2ndQtrData, x=\"Date\", y=\"Close\",hue=\"Volume\",height=10)\n",
    "Y21Q2.map(plt.axhline, y=52, color=\"k\")\n",
    "Y21Q2.set_axis_labels( \"Date\",\"Closing Stock Price\")\n",
    "Y21Q2.fig.suptitle(\"Daily Stock Closing Prices for YR 2021 - QTR 02\")\n",
    "x_dates = KO2ndQtrData['Date'].sort_values(ascending=True).unique()\n",
    "Y21Q2.set_xticklabels(labels=x_dates, rotation=60, fontsize=7.5)\n",
    "plt.figure(figsize = (25,25))\n"
   ],
   "metadata": {
    "collapsed": false,
    "pycharm": {
     "name": "#%%\n"
    }
   }
  },
  {
   "cell_type": "markdown",
   "source": [
    "## Plotly Graph"
   ],
   "metadata": {
    "collapsed": false
   }
  },
  {
   "cell_type": "code",
   "execution_count": null,
   "outputs": [],
   "source": [
    "fig = px.pie(KO2ndQtrData[\"Volume\"], values='Volume', title='Volume Rate per Date YR2021 Q02')\n",
    "fig.show()"
   ],
   "metadata": {
    "collapsed": false,
    "pycharm": {
     "name": "#%%\n"
    }
   }
  },
  {
   "cell_type": "code",
   "execution_count": null,
   "outputs": [],
   "source": [],
   "metadata": {
    "collapsed": false,
    "pycharm": {
     "name": "#%%\n"
    }
   }
  },
  {
   "cell_type": "code",
   "execution_count": null,
   "outputs": [],
   "source": [],
   "metadata": {
    "collapsed": false,
    "pycharm": {
     "name": "#%%\n"
    }
   }
  }
 ],
 "metadata": {
  "kernelspec": {
   "display_name": "Python 3",
   "language": "python",
   "name": "python3"
  },
  "language_info": {
   "codemirror_mode": {
    "name": "ipython",
    "version": 3
   },
   "file_extension": ".py",
   "mimetype": "text/x-python",
   "name": "python",
   "nbconvert_exporter": "python",
   "pygments_lexer": "ipython3",
   "version": "3.8.8"
  }
 },
 "nbformat": 4,
 "nbformat_minor": 5
}