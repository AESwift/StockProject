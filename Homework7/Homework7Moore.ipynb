{
 "cells": [
  {
   "cell_type": "markdown",
   "metadata": {
    "collapsed": true,
    "pycharm": {
     "name": "#%% md\n"
    }
   },
   "source": [
    "## Purpose\n",
    "\n",
    "This homework is designed to give you practice with scikitlearn.  Please note that this is **NOT** a machine learning course.  Using the library the important part, not designing 'good' models.  The requirements are fairly low on this.\n",
    "\n",
    "## Requirements\n",
    "\n",
    "This is a group assignment.  Take a data set (either one provided, or using your group project data set) and work with Scikit Learn to train some aspect of your data set.\n",
    "\n",
    "Some data sets may appear to be something you wouldn't use ML to solve in a 'real life' situation, but this again is just for practice.  So the models may not come out useful, and that's okay.\n",
    "\n",
    "Each student in the group should do 2 ML type implementations using Scikit learn.  Since there are likely less applicable algorithms than there are implementations, work at looking at different slices of information (See help video).\n",
    "\n",
    "\n",
    "## Required Hand-in\n",
    "\n",
    "One notebook should be handed in.  Following best practices I've outlined.  This homework is graded as a group homework.  The data set you pick to do this practice can be either one I'm providing as part of the repo, or of your group project.\n",
    "\n",
    "Please label each implementation with the original author (in code, comment above the implementation).\n",
    "\n",
    "Do not use the .todo as your template.  Analysis of the models performance should be minimal (see one example on block 10 on https://github.com/TheDarkTrumpet/BAIS-6040-0EXP-Sum2021/blob/master/Notebooks/02-Analysis/09.03.01-Classification.ipynb ).\n",
    "\n",
    "I do recommend that you lean on whoever in your group has a bit more knowledge of ML concepts. to pick the implementation that appears to yield the best results.  If you're using your group data set, this implementation can then be copied/pasted into the group project.\n",
    "\n",
    "## Other notes\n",
    "\n",
    "This homework will be graded as a group.  Meaning, you all will get the same grade, regardless if a specific student's implementation is poorly done.  It will count for 75 points.  I strongly recommend you discuss as a group who will do what, then meet up at least a few days before the assignment is to be turned in and do a code review and merge of the individual notebooks."
   ]
  },
  {
   "cell_type": "markdown",
   "metadata": {},
   "source": [
    "### Import"
   ]
  },
  {
   "cell_type": "code",
   "execution_count": 1,
   "metadata": {},
   "outputs": [],
   "source": [
    "import yfinance as yf\n",
    "import pandas as pd\n",
    "import numpy as np\n",
    "import os\n",
    "\n",
    "\n",
    "from datetime import date\n",
    "from datetime import timedelta\n",
    "from pytrends.request import TrendReq\n",
    "\n",
    "# Import modules using the from syntax\n",
    "from sklearn.cluster import KMeans                      # k-means clustering\n",
    "from sklearn.model_selection import train_test_split    # For generating test/train\n",
    "from sklearn.linear_model import LinearRegression   # Logistic regression\n",
    "\n"
   ]
  },
  {
   "cell_type": "markdown",
   "metadata": {},
   "source": [
    "### Global Varables"
   ]
  },
  {
   "cell_type": "code",
   "execution_count": 2,
   "metadata": {},
   "outputs": [],
   "source": [
    "dataDir = r\"./Data Files/\"  #Directory of all data\n",
    "\n",
    "today = date.today()  # Todays date"
   ]
  },
  {
   "cell_type": "markdown",
   "metadata": {},
   "source": [
    "### Global Functions"
   ]
  },
  {
   "cell_type": "code",
   "execution_count": 3,
   "metadata": {},
   "outputs": [],
   "source": [
    "# Function gets stock data and trend data if needed\n",
    "\n",
    "def get_data(ticker):\n",
    "    if os.path.exists(f\"{dataDir}{ticker}_{today}_year.csv\"):\n",
    "        \n",
    "        #Get stored data\n",
    "        stored_data = pd.read_csv(f\"{dataDir}{ticker}_{today}_year.csv\")\n",
    "\n",
    "        # Get rid of index name\n",
    "        stored_data.set_index('Unnamed: 0', inplace=True)\n",
    "        stored_data.index.name = None\n",
    "\n",
    "        return stored_data\n",
    "    else:\n",
    "        #Get new data\n",
    "\n",
    "        # Connect to Google API\n",
    "        pytrends = TrendReq(hl='en-US', tz=360)\n",
    "\n",
    "        # Set Keyword\n",
    "        kw_list = [ticker]\n",
    "\n",
    "        # Google API only shows last 90 days so need to intirate\n",
    "        # Set start of interval\n",
    "        date90front = date.today()\n",
    "        # Initiate dataframe\n",
    "        trend_data = pd.DataFrame()\n",
    "\n",
    "        for x in range(4):\n",
    "            # Set start end of interval\n",
    "            date90back = date90front - timedelta(days=90)\n",
    "            # Build Payload of 90 days\n",
    "            pytrends.build_payload(kw_list,\n",
    "                                   timeframe=f'{date90back} {date90front}',\n",
    "                                   geo='')\n",
    "            trend_90 = pytrends.interest_over_time()\n",
    "            trend_data = pd.concat([trend_90, trend_data])\n",
    "            date90front = date90back\n",
    "\n",
    "        # Get Stock Data\n",
    "        stock_data = yf.download(ticker,\n",
    "                                 start=date.today() - timedelta(days=360),\n",
    "                                 end=date.today(), interval=\"1d\")\n",
    "\n",
    "        # Combine Data\n",
    "        new_data = stock_data.join(trend_data)\n",
    "\n",
    "        # Export to data folder\n",
    "        new_data.to_csv(f\"{dataDir}{ticker}_{today}_year.csv\")\n",
    "\n",
    "        return new_data\n",
    "    "
   ]
  },
  {
   "cell_type": "markdown",
   "metadata": {},
   "source": [
    "### Data and Analysis"
   ]
  },
  {
   "cell_type": "markdown",
   "metadata": {},
   "source": [
    "#### Gamestop(GME)\n",
    "Connor Moore"
   ]
  },
  {
   "cell_type": "markdown",
   "metadata": {},
   "source": [
    "##### Get Data"
   ]
  },
  {
   "cell_type": "code",
   "execution_count": 4,
   "metadata": {},
   "outputs": [
    {
     "name": "stdout",
     "output_type": "stream",
     "text": [
      "[*********************100%***********************]  1 of 1 completed\n"
     ]
    },
    {
     "data": {
      "text/plain": "                  Open        High         Low       Close   Adj Close  \\\n2020-07-28    3.960000    4.050000    3.920000    3.940000    3.940000   \n2020-07-29    3.940000    4.180000    3.920000    4.060000    4.060000   \n2020-07-30    4.000000    4.230000    3.970000    4.100000    4.100000   \n2020-07-31    4.060000    4.160000    3.990000    4.010000    4.010000   \n2020-08-03    4.030000    4.250000    4.000000    4.150000    4.150000   \n...                ...         ...         ...         ...         ...   \n2021-07-16  170.149994  179.470001  166.300003  169.039993  169.039993   \n2021-07-19  163.300003  176.000000  161.220001  173.490005  173.490005   \n2021-07-20  173.899994  193.639999  172.419998  191.179993  191.179993   \n2021-07-21  187.789993  195.509995  182.110001  185.809998  185.809998   \n2021-07-22  185.300003  187.690002  176.149994  178.850006  178.850006   \n\n             Volume   GME isPartial  \n2020-07-28  4555400  29.0     False  \n2020-07-29  2879600  26.0     False  \n2020-07-30  2398500  28.0     False  \n2020-07-31  1879400  23.0     False  \n2020-08-03  2517600  21.0     False  \n...             ...   ...       ...  \n2021-07-16  3278800  29.0     False  \n2021-07-19  2436900  30.0     False  \n2021-07-20  3094100  34.0     False  \n2021-07-21  2225900  30.0     False  \n2021-07-22  1410400   NaN       NaN  \n\n[250 rows x 8 columns]",
      "text/html": "<div>\n<style scoped>\n    .dataframe tbody tr th:only-of-type {\n        vertical-align: middle;\n    }\n\n    .dataframe tbody tr th {\n        vertical-align: top;\n    }\n\n    .dataframe thead th {\n        text-align: right;\n    }\n</style>\n<table border=\"1\" class=\"dataframe\">\n  <thead>\n    <tr style=\"text-align: right;\">\n      <th></th>\n      <th>Open</th>\n      <th>High</th>\n      <th>Low</th>\n      <th>Close</th>\n      <th>Adj Close</th>\n      <th>Volume</th>\n      <th>GME</th>\n      <th>isPartial</th>\n    </tr>\n  </thead>\n  <tbody>\n    <tr>\n      <th>2020-07-28</th>\n      <td>3.960000</td>\n      <td>4.050000</td>\n      <td>3.920000</td>\n      <td>3.940000</td>\n      <td>3.940000</td>\n      <td>4555400</td>\n      <td>29.0</td>\n      <td>False</td>\n    </tr>\n    <tr>\n      <th>2020-07-29</th>\n      <td>3.940000</td>\n      <td>4.180000</td>\n      <td>3.920000</td>\n      <td>4.060000</td>\n      <td>4.060000</td>\n      <td>2879600</td>\n      <td>26.0</td>\n      <td>False</td>\n    </tr>\n    <tr>\n      <th>2020-07-30</th>\n      <td>4.000000</td>\n      <td>4.230000</td>\n      <td>3.970000</td>\n      <td>4.100000</td>\n      <td>4.100000</td>\n      <td>2398500</td>\n      <td>28.0</td>\n      <td>False</td>\n    </tr>\n    <tr>\n      <th>2020-07-31</th>\n      <td>4.060000</td>\n      <td>4.160000</td>\n      <td>3.990000</td>\n      <td>4.010000</td>\n      <td>4.010000</td>\n      <td>1879400</td>\n      <td>23.0</td>\n      <td>False</td>\n    </tr>\n    <tr>\n      <th>2020-08-03</th>\n      <td>4.030000</td>\n      <td>4.250000</td>\n      <td>4.000000</td>\n      <td>4.150000</td>\n      <td>4.150000</td>\n      <td>2517600</td>\n      <td>21.0</td>\n      <td>False</td>\n    </tr>\n    <tr>\n      <th>...</th>\n      <td>...</td>\n      <td>...</td>\n      <td>...</td>\n      <td>...</td>\n      <td>...</td>\n      <td>...</td>\n      <td>...</td>\n      <td>...</td>\n    </tr>\n    <tr>\n      <th>2021-07-16</th>\n      <td>170.149994</td>\n      <td>179.470001</td>\n      <td>166.300003</td>\n      <td>169.039993</td>\n      <td>169.039993</td>\n      <td>3278800</td>\n      <td>29.0</td>\n      <td>False</td>\n    </tr>\n    <tr>\n      <th>2021-07-19</th>\n      <td>163.300003</td>\n      <td>176.000000</td>\n      <td>161.220001</td>\n      <td>173.490005</td>\n      <td>173.490005</td>\n      <td>2436900</td>\n      <td>30.0</td>\n      <td>False</td>\n    </tr>\n    <tr>\n      <th>2021-07-20</th>\n      <td>173.899994</td>\n      <td>193.639999</td>\n      <td>172.419998</td>\n      <td>191.179993</td>\n      <td>191.179993</td>\n      <td>3094100</td>\n      <td>34.0</td>\n      <td>False</td>\n    </tr>\n    <tr>\n      <th>2021-07-21</th>\n      <td>187.789993</td>\n      <td>195.509995</td>\n      <td>182.110001</td>\n      <td>185.809998</td>\n      <td>185.809998</td>\n      <td>2225900</td>\n      <td>30.0</td>\n      <td>False</td>\n    </tr>\n    <tr>\n      <th>2021-07-22</th>\n      <td>185.300003</td>\n      <td>187.690002</td>\n      <td>176.149994</td>\n      <td>178.850006</td>\n      <td>178.850006</td>\n      <td>1410400</td>\n      <td>NaN</td>\n      <td>NaN</td>\n    </tr>\n  </tbody>\n</table>\n<p>250 rows × 8 columns</p>\n</div>"
     },
     "execution_count": 4,
     "metadata": {},
     "output_type": "execute_result"
    }
   ],
   "source": [
    "GME_DF = get_data(\"GME\")\n",
    "GME_DF"
   ]
  },
  {
   "cell_type": "markdown",
   "metadata": {
    "pycharm": {
     "name": "#%% md\n"
    }
   },
   "source": [
    "##### Prepare Data"
   ]
  },
  {
   "cell_type": "code",
   "execution_count": 5,
   "outputs": [],
   "source": [
    "# Rename search interest\n",
    "GME_DF.rename(columns = {\"GME\": \"Search Interest\"},inplace = True)\n",
    "\n",
    "# Add difference\n",
    "GME_DF[\"Price Difference\"] = GME_DF[\"Open\"]-GME_DF[\"Close\"]\n",
    "\n",
    "# Add truth value that determines if we want to buy or not that day\n",
    "GME_DF['Buy'] = np.where(GME_DF['Price Difference'] > 0, 1, 0)\n",
    "\n",
    "# Delete isPartial\n",
    "\n",
    "del GME_DF['isPartial']"
   ],
   "metadata": {
    "collapsed": false,
    "pycharm": {
     "name": "#%%\n"
    }
   }
  },
  {
   "cell_type": "code",
   "execution_count": 6,
   "metadata": {},
   "outputs": [
    {
     "name": "stdout",
     "output_type": "stream",
     "text": [
      "<class 'pandas.core.frame.DataFrame'>\n",
      "DatetimeIndex: 250 entries, 2020-07-28 to 2021-07-22\n",
      "Data columns (total 9 columns):\n",
      " #   Column            Non-Null Count  Dtype  \n",
      "---  ------            --------------  -----  \n",
      " 0   Open              250 non-null    float64\n",
      " 1   High              250 non-null    float64\n",
      " 2   Low               250 non-null    float64\n",
      " 3   Close             250 non-null    float64\n",
      " 4   Adj Close         250 non-null    float64\n",
      " 5   Volume            250 non-null    int64  \n",
      " 6   Search Interest   249 non-null    float64\n",
      " 7   Price Difference  250 non-null    float64\n",
      " 8   Buy               250 non-null    int64  \n",
      "dtypes: float64(7), int64(2)\n",
      "memory usage: 19.5 KB\n"
     ]
    }
   ],
   "source": [
    "# Check values - no nulls - int or float\n",
    "\n",
    "GME_DF.info()"
   ]
  },
  {
   "cell_type": "code",
   "execution_count": 7,
   "metadata": {
    "pycharm": {
     "name": "#%%\n"
    }
   },
   "outputs": [
    {
     "name": "stdout",
     "output_type": "stream",
     "text": [
      "Feature categories: ['Open', 'High', 'Low', 'Close', 'Adj Close', 'Volume', 'Search Interest', 'Price Difference']\n",
      "Target feature: Buy\n"
     ]
    }
   ],
   "source": [
    "# Set features to target \"Buy\"\n",
    "\n",
    "features = list(GME_DF.columns)\n",
    "features.remove(\"Buy\")\n",
    "target = \"Buy\"\n",
    "\n",
    "print(f\"Feature categories: {features}\")\n",
    "print(f\"Target feature: {target}\")"
   ]
  },
  {
   "cell_type": "code",
   "execution_count": 8,
   "outputs": [
    {
     "data": {
      "text/plain": "                  Open        High         Low       Close   Adj Close  \\\n2020-07-28    3.960000    4.050000    3.920000    3.940000    3.940000   \n2020-07-29    3.940000    4.180000    3.920000    4.060000    4.060000   \n2020-07-30    4.000000    4.230000    3.970000    4.100000    4.100000   \n2020-07-31    4.060000    4.160000    3.990000    4.010000    4.010000   \n2020-08-03    4.030000    4.250000    4.000000    4.150000    4.150000   \n...                ...         ...         ...         ...         ...   \n2021-07-16  170.149994  179.470001  166.300003  169.039993  169.039993   \n2021-07-19  163.300003  176.000000  161.220001  173.490005  173.490005   \n2021-07-20  173.899994  193.639999  172.419998  191.179993  191.179993   \n2021-07-21  187.789993  195.509995  182.110001  185.809998  185.809998   \n2021-07-22  185.300003  187.690002  176.149994  178.850006  178.850006   \n\n             Volume  Search Interest  Price Difference  \n2020-07-28  4555400             29.0          0.020000  \n2020-07-29  2879600             26.0         -0.120000  \n2020-07-30  2398500             28.0         -0.100000  \n2020-07-31  1879400             23.0          0.050000  \n2020-08-03  2517600             21.0         -0.120000  \n...             ...              ...               ...  \n2021-07-16  3278800             29.0          1.110001  \n2021-07-19  2436900             30.0        -10.190002  \n2021-07-20  3094100             34.0        -17.279999  \n2021-07-21  2225900             30.0          1.979996  \n2021-07-22  1410400              NaN          6.449997  \n\n[250 rows x 8 columns]",
      "text/html": "<div>\n<style scoped>\n    .dataframe tbody tr th:only-of-type {\n        vertical-align: middle;\n    }\n\n    .dataframe tbody tr th {\n        vertical-align: top;\n    }\n\n    .dataframe thead th {\n        text-align: right;\n    }\n</style>\n<table border=\"1\" class=\"dataframe\">\n  <thead>\n    <tr style=\"text-align: right;\">\n      <th></th>\n      <th>Open</th>\n      <th>High</th>\n      <th>Low</th>\n      <th>Close</th>\n      <th>Adj Close</th>\n      <th>Volume</th>\n      <th>Search Interest</th>\n      <th>Price Difference</th>\n    </tr>\n  </thead>\n  <tbody>\n    <tr>\n      <th>2020-07-28</th>\n      <td>3.960000</td>\n      <td>4.050000</td>\n      <td>3.920000</td>\n      <td>3.940000</td>\n      <td>3.940000</td>\n      <td>4555400</td>\n      <td>29.0</td>\n      <td>0.020000</td>\n    </tr>\n    <tr>\n      <th>2020-07-29</th>\n      <td>3.940000</td>\n      <td>4.180000</td>\n      <td>3.920000</td>\n      <td>4.060000</td>\n      <td>4.060000</td>\n      <td>2879600</td>\n      <td>26.0</td>\n      <td>-0.120000</td>\n    </tr>\n    <tr>\n      <th>2020-07-30</th>\n      <td>4.000000</td>\n      <td>4.230000</td>\n      <td>3.970000</td>\n      <td>4.100000</td>\n      <td>4.100000</td>\n      <td>2398500</td>\n      <td>28.0</td>\n      <td>-0.100000</td>\n    </tr>\n    <tr>\n      <th>2020-07-31</th>\n      <td>4.060000</td>\n      <td>4.160000</td>\n      <td>3.990000</td>\n      <td>4.010000</td>\n      <td>4.010000</td>\n      <td>1879400</td>\n      <td>23.0</td>\n      <td>0.050000</td>\n    </tr>\n    <tr>\n      <th>2020-08-03</th>\n      <td>4.030000</td>\n      <td>4.250000</td>\n      <td>4.000000</td>\n      <td>4.150000</td>\n      <td>4.150000</td>\n      <td>2517600</td>\n      <td>21.0</td>\n      <td>-0.120000</td>\n    </tr>\n    <tr>\n      <th>...</th>\n      <td>...</td>\n      <td>...</td>\n      <td>...</td>\n      <td>...</td>\n      <td>...</td>\n      <td>...</td>\n      <td>...</td>\n      <td>...</td>\n    </tr>\n    <tr>\n      <th>2021-07-16</th>\n      <td>170.149994</td>\n      <td>179.470001</td>\n      <td>166.300003</td>\n      <td>169.039993</td>\n      <td>169.039993</td>\n      <td>3278800</td>\n      <td>29.0</td>\n      <td>1.110001</td>\n    </tr>\n    <tr>\n      <th>2021-07-19</th>\n      <td>163.300003</td>\n      <td>176.000000</td>\n      <td>161.220001</td>\n      <td>173.490005</td>\n      <td>173.490005</td>\n      <td>2436900</td>\n      <td>30.0</td>\n      <td>-10.190002</td>\n    </tr>\n    <tr>\n      <th>2021-07-20</th>\n      <td>173.899994</td>\n      <td>193.639999</td>\n      <td>172.419998</td>\n      <td>191.179993</td>\n      <td>191.179993</td>\n      <td>3094100</td>\n      <td>34.0</td>\n      <td>-17.279999</td>\n    </tr>\n    <tr>\n      <th>2021-07-21</th>\n      <td>187.789993</td>\n      <td>195.509995</td>\n      <td>182.110001</td>\n      <td>185.809998</td>\n      <td>185.809998</td>\n      <td>2225900</td>\n      <td>30.0</td>\n      <td>1.979996</td>\n    </tr>\n    <tr>\n      <th>2021-07-22</th>\n      <td>185.300003</td>\n      <td>187.690002</td>\n      <td>176.149994</td>\n      <td>178.850006</td>\n      <td>178.850006</td>\n      <td>1410400</td>\n      <td>NaN</td>\n      <td>6.449997</td>\n    </tr>\n  </tbody>\n</table>\n<p>250 rows × 8 columns</p>\n</div>"
     },
     "execution_count": 8,
     "metadata": {},
     "output_type": "execute_result"
    }
   ],
   "source": [
    "X = GME_DF[features]\n",
    "X"
   ],
   "metadata": {
    "collapsed": false,
    "pycharm": {
     "name": "#%%\n"
    }
   }
  },
  {
   "cell_type": "code",
   "execution_count": 9,
   "outputs": [
    {
     "data": {
      "text/plain": "2020-07-28    1\n2020-07-29    0\n2020-07-30    0\n2020-07-31    1\n2020-08-03    0\n             ..\n2021-07-16    1\n2021-07-19    0\n2021-07-20    0\n2021-07-21    1\n2021-07-22    1\nName: Buy, Length: 250, dtype: int64"
     },
     "execution_count": 9,
     "metadata": {},
     "output_type": "execute_result"
    }
   ],
   "source": [
    "y = GME_DF[target]\n",
    "y\n"
   ],
   "metadata": {
    "collapsed": false,
    "pycharm": {
     "name": "#%%\n"
    }
   }
  },
  {
   "cell_type": "code",
   "execution_count": 10,
   "outputs": [
    {
     "name": "stdout",
     "output_type": "stream",
     "text": [
      "Length of X_train (feature training set): 187\n",
      "Length of y_train (target training set): 187\n",
      "Length of X_test (feature test set): 63\n",
      "Length of y_test (target test set): 63\n"
     ]
    }
   ],
   "source": [
    "# Set training and test sets\n",
    "X_train, X_test, y_train, y_test = train_test_split(X, y, test_size=0.25)\n",
    "\n",
    "print(f\"Length of X_train (feature training set): {len(X_train)}\")\n",
    "print(f\"Length of y_train (target training set): {len(y_train)}\")\n",
    "print(f\"Length of X_test (feature test set): {len(X_test)}\")\n",
    "print(f\"Length of y_test (target test set): {len(y_test)}\")"
   ],
   "metadata": {
    "collapsed": false,
    "pycharm": {
     "name": "#%%\n"
    }
   }
  },
  {
   "cell_type": "code",
   "execution_count": 11,
   "outputs": [
    {
     "ename": "ValueError",
     "evalue": "Input contains NaN, infinity or a value too large for dtype('float64').",
     "output_type": "error",
     "traceback": [
      "\u001B[0;31m---------------------------------------------------------------------------\u001B[0m",
      "\u001B[0;31mValueError\u001B[0m                                Traceback (most recent call last)",
      "\u001B[0;32m<ipython-input-11-612d8ecbdbc0>\u001B[0m in \u001B[0;36m<module>\u001B[0;34m\u001B[0m\n\u001B[1;32m      4\u001B[0m \u001B[0mlr\u001B[0m\u001B[0;34m\u001B[0m\u001B[0;34m\u001B[0m\u001B[0m\n\u001B[1;32m      5\u001B[0m \u001B[0;34m\u001B[0m\u001B[0m\n\u001B[0;32m----> 6\u001B[0;31m \u001B[0mlr\u001B[0m\u001B[0;34m.\u001B[0m\u001B[0mfit\u001B[0m\u001B[0;34m(\u001B[0m\u001B[0mX_train\u001B[0m\u001B[0;34m,\u001B[0m \u001B[0my_train\u001B[0m\u001B[0;34m)\u001B[0m\u001B[0;34m\u001B[0m\u001B[0;34m\u001B[0m\u001B[0m\n\u001B[0m\u001B[1;32m      7\u001B[0m \u001B[0mlr\u001B[0m\u001B[0;34m.\u001B[0m\u001B[0mscore\u001B[0m\u001B[0;34m(\u001B[0m\u001B[0mX_train\u001B[0m\u001B[0;34m,\u001B[0m \u001B[0my_train\u001B[0m\u001B[0;34m)\u001B[0m\u001B[0;34m\u001B[0m\u001B[0;34m\u001B[0m\u001B[0m\n\u001B[1;32m      8\u001B[0m \u001B[0mlr\u001B[0m\u001B[0;34m.\u001B[0m\u001B[0mscore\u001B[0m\u001B[0;34m(\u001B[0m\u001B[0mX_test\u001B[0m\u001B[0;34m,\u001B[0m \u001B[0my_test\u001B[0m\u001B[0;34m)\u001B[0m\u001B[0;34m\u001B[0m\u001B[0;34m\u001B[0m\u001B[0m\n",
      "\u001B[0;32m/opt/anaconda3/envs/ENV1/lib/python3.8/site-packages/sklearn/linear_model/_base.py\u001B[0m in \u001B[0;36mfit\u001B[0;34m(self, X, y, sample_weight)\u001B[0m\n\u001B[1;32m    516\u001B[0m         \u001B[0maccept_sparse\u001B[0m \u001B[0;34m=\u001B[0m \u001B[0;32mFalse\u001B[0m \u001B[0;32mif\u001B[0m \u001B[0mself\u001B[0m\u001B[0;34m.\u001B[0m\u001B[0mpositive\u001B[0m \u001B[0;32melse\u001B[0m \u001B[0;34m[\u001B[0m\u001B[0;34m'csr'\u001B[0m\u001B[0;34m,\u001B[0m \u001B[0;34m'csc'\u001B[0m\u001B[0;34m,\u001B[0m \u001B[0;34m'coo'\u001B[0m\u001B[0;34m]\u001B[0m\u001B[0;34m\u001B[0m\u001B[0;34m\u001B[0m\u001B[0m\n\u001B[1;32m    517\u001B[0m \u001B[0;34m\u001B[0m\u001B[0m\n\u001B[0;32m--> 518\u001B[0;31m         X, y = self._validate_data(X, y, accept_sparse=accept_sparse,\n\u001B[0m\u001B[1;32m    519\u001B[0m                                    y_numeric=True, multi_output=True)\n\u001B[1;32m    520\u001B[0m \u001B[0;34m\u001B[0m\u001B[0m\n",
      "\u001B[0;32m/opt/anaconda3/envs/ENV1/lib/python3.8/site-packages/sklearn/base.py\u001B[0m in \u001B[0;36m_validate_data\u001B[0;34m(self, X, y, reset, validate_separately, **check_params)\u001B[0m\n\u001B[1;32m    431\u001B[0m                 \u001B[0my\u001B[0m \u001B[0;34m=\u001B[0m \u001B[0mcheck_array\u001B[0m\u001B[0;34m(\u001B[0m\u001B[0my\u001B[0m\u001B[0;34m,\u001B[0m \u001B[0;34m**\u001B[0m\u001B[0mcheck_y_params\u001B[0m\u001B[0;34m)\u001B[0m\u001B[0;34m\u001B[0m\u001B[0;34m\u001B[0m\u001B[0m\n\u001B[1;32m    432\u001B[0m             \u001B[0;32melse\u001B[0m\u001B[0;34m:\u001B[0m\u001B[0;34m\u001B[0m\u001B[0;34m\u001B[0m\u001B[0m\n\u001B[0;32m--> 433\u001B[0;31m                 \u001B[0mX\u001B[0m\u001B[0;34m,\u001B[0m \u001B[0my\u001B[0m \u001B[0;34m=\u001B[0m \u001B[0mcheck_X_y\u001B[0m\u001B[0;34m(\u001B[0m\u001B[0mX\u001B[0m\u001B[0;34m,\u001B[0m \u001B[0my\u001B[0m\u001B[0;34m,\u001B[0m \u001B[0;34m**\u001B[0m\u001B[0mcheck_params\u001B[0m\u001B[0;34m)\u001B[0m\u001B[0;34m\u001B[0m\u001B[0;34m\u001B[0m\u001B[0m\n\u001B[0m\u001B[1;32m    434\u001B[0m             \u001B[0mout\u001B[0m \u001B[0;34m=\u001B[0m \u001B[0mX\u001B[0m\u001B[0;34m,\u001B[0m \u001B[0my\u001B[0m\u001B[0;34m\u001B[0m\u001B[0;34m\u001B[0m\u001B[0m\n\u001B[1;32m    435\u001B[0m \u001B[0;34m\u001B[0m\u001B[0m\n",
      "\u001B[0;32m/opt/anaconda3/envs/ENV1/lib/python3.8/site-packages/sklearn/utils/validation.py\u001B[0m in \u001B[0;36minner_f\u001B[0;34m(*args, **kwargs)\u001B[0m\n\u001B[1;32m     61\u001B[0m             \u001B[0mextra_args\u001B[0m \u001B[0;34m=\u001B[0m \u001B[0mlen\u001B[0m\u001B[0;34m(\u001B[0m\u001B[0margs\u001B[0m\u001B[0;34m)\u001B[0m \u001B[0;34m-\u001B[0m \u001B[0mlen\u001B[0m\u001B[0;34m(\u001B[0m\u001B[0mall_args\u001B[0m\u001B[0;34m)\u001B[0m\u001B[0;34m\u001B[0m\u001B[0;34m\u001B[0m\u001B[0m\n\u001B[1;32m     62\u001B[0m             \u001B[0;32mif\u001B[0m \u001B[0mextra_args\u001B[0m \u001B[0;34m<=\u001B[0m \u001B[0;36m0\u001B[0m\u001B[0;34m:\u001B[0m\u001B[0;34m\u001B[0m\u001B[0;34m\u001B[0m\u001B[0m\n\u001B[0;32m---> 63\u001B[0;31m                 \u001B[0;32mreturn\u001B[0m \u001B[0mf\u001B[0m\u001B[0;34m(\u001B[0m\u001B[0;34m*\u001B[0m\u001B[0margs\u001B[0m\u001B[0;34m,\u001B[0m \u001B[0;34m**\u001B[0m\u001B[0mkwargs\u001B[0m\u001B[0;34m)\u001B[0m\u001B[0;34m\u001B[0m\u001B[0;34m\u001B[0m\u001B[0m\n\u001B[0m\u001B[1;32m     64\u001B[0m \u001B[0;34m\u001B[0m\u001B[0m\n\u001B[1;32m     65\u001B[0m             \u001B[0;31m# extra_args > 0\u001B[0m\u001B[0;34m\u001B[0m\u001B[0;34m\u001B[0m\u001B[0;34m\u001B[0m\u001B[0m\n",
      "\u001B[0;32m/opt/anaconda3/envs/ENV1/lib/python3.8/site-packages/sklearn/utils/validation.py\u001B[0m in \u001B[0;36mcheck_X_y\u001B[0;34m(X, y, accept_sparse, accept_large_sparse, dtype, order, copy, force_all_finite, ensure_2d, allow_nd, multi_output, ensure_min_samples, ensure_min_features, y_numeric, estimator)\u001B[0m\n\u001B[1;32m    869\u001B[0m         \u001B[0;32mraise\u001B[0m \u001B[0mValueError\u001B[0m\u001B[0;34m(\u001B[0m\u001B[0;34m\"y cannot be None\"\u001B[0m\u001B[0;34m)\u001B[0m\u001B[0;34m\u001B[0m\u001B[0;34m\u001B[0m\u001B[0m\n\u001B[1;32m    870\u001B[0m \u001B[0;34m\u001B[0m\u001B[0m\n\u001B[0;32m--> 871\u001B[0;31m     X = check_array(X, accept_sparse=accept_sparse,\n\u001B[0m\u001B[1;32m    872\u001B[0m                     \u001B[0maccept_large_sparse\u001B[0m\u001B[0;34m=\u001B[0m\u001B[0maccept_large_sparse\u001B[0m\u001B[0;34m,\u001B[0m\u001B[0;34m\u001B[0m\u001B[0;34m\u001B[0m\u001B[0m\n\u001B[1;32m    873\u001B[0m                     \u001B[0mdtype\u001B[0m\u001B[0;34m=\u001B[0m\u001B[0mdtype\u001B[0m\u001B[0;34m,\u001B[0m \u001B[0morder\u001B[0m\u001B[0;34m=\u001B[0m\u001B[0morder\u001B[0m\u001B[0;34m,\u001B[0m \u001B[0mcopy\u001B[0m\u001B[0;34m=\u001B[0m\u001B[0mcopy\u001B[0m\u001B[0;34m,\u001B[0m\u001B[0;34m\u001B[0m\u001B[0;34m\u001B[0m\u001B[0m\n",
      "\u001B[0;32m/opt/anaconda3/envs/ENV1/lib/python3.8/site-packages/sklearn/utils/validation.py\u001B[0m in \u001B[0;36minner_f\u001B[0;34m(*args, **kwargs)\u001B[0m\n\u001B[1;32m     61\u001B[0m             \u001B[0mextra_args\u001B[0m \u001B[0;34m=\u001B[0m \u001B[0mlen\u001B[0m\u001B[0;34m(\u001B[0m\u001B[0margs\u001B[0m\u001B[0;34m)\u001B[0m \u001B[0;34m-\u001B[0m \u001B[0mlen\u001B[0m\u001B[0;34m(\u001B[0m\u001B[0mall_args\u001B[0m\u001B[0;34m)\u001B[0m\u001B[0;34m\u001B[0m\u001B[0;34m\u001B[0m\u001B[0m\n\u001B[1;32m     62\u001B[0m             \u001B[0;32mif\u001B[0m \u001B[0mextra_args\u001B[0m \u001B[0;34m<=\u001B[0m \u001B[0;36m0\u001B[0m\u001B[0;34m:\u001B[0m\u001B[0;34m\u001B[0m\u001B[0;34m\u001B[0m\u001B[0m\n\u001B[0;32m---> 63\u001B[0;31m                 \u001B[0;32mreturn\u001B[0m \u001B[0mf\u001B[0m\u001B[0;34m(\u001B[0m\u001B[0;34m*\u001B[0m\u001B[0margs\u001B[0m\u001B[0;34m,\u001B[0m \u001B[0;34m**\u001B[0m\u001B[0mkwargs\u001B[0m\u001B[0;34m)\u001B[0m\u001B[0;34m\u001B[0m\u001B[0;34m\u001B[0m\u001B[0m\n\u001B[0m\u001B[1;32m     64\u001B[0m \u001B[0;34m\u001B[0m\u001B[0m\n\u001B[1;32m     65\u001B[0m             \u001B[0;31m# extra_args > 0\u001B[0m\u001B[0;34m\u001B[0m\u001B[0;34m\u001B[0m\u001B[0;34m\u001B[0m\u001B[0m\n",
      "\u001B[0;32m/opt/anaconda3/envs/ENV1/lib/python3.8/site-packages/sklearn/utils/validation.py\u001B[0m in \u001B[0;36mcheck_array\u001B[0;34m(array, accept_sparse, accept_large_sparse, dtype, order, copy, force_all_finite, ensure_2d, allow_nd, ensure_min_samples, ensure_min_features, estimator)\u001B[0m\n\u001B[1;32m    718\u001B[0m \u001B[0;34m\u001B[0m\u001B[0m\n\u001B[1;32m    719\u001B[0m         \u001B[0;32mif\u001B[0m \u001B[0mforce_all_finite\u001B[0m\u001B[0;34m:\u001B[0m\u001B[0;34m\u001B[0m\u001B[0;34m\u001B[0m\u001B[0m\n\u001B[0;32m--> 720\u001B[0;31m             _assert_all_finite(array,\n\u001B[0m\u001B[1;32m    721\u001B[0m                                allow_nan=force_all_finite == 'allow-nan')\n\u001B[1;32m    722\u001B[0m \u001B[0;34m\u001B[0m\u001B[0m\n",
      "\u001B[0;32m/opt/anaconda3/envs/ENV1/lib/python3.8/site-packages/sklearn/utils/validation.py\u001B[0m in \u001B[0;36m_assert_all_finite\u001B[0;34m(X, allow_nan, msg_dtype)\u001B[0m\n\u001B[1;32m    101\u001B[0m                 not allow_nan and not np.isfinite(X).all()):\n\u001B[1;32m    102\u001B[0m             \u001B[0mtype_err\u001B[0m \u001B[0;34m=\u001B[0m \u001B[0;34m'infinity'\u001B[0m \u001B[0;32mif\u001B[0m \u001B[0mallow_nan\u001B[0m \u001B[0;32melse\u001B[0m \u001B[0;34m'NaN, infinity'\u001B[0m\u001B[0;34m\u001B[0m\u001B[0;34m\u001B[0m\u001B[0m\n\u001B[0;32m--> 103\u001B[0;31m             raise ValueError(\n\u001B[0m\u001B[1;32m    104\u001B[0m                     \u001B[0mmsg_err\u001B[0m\u001B[0;34m.\u001B[0m\u001B[0mformat\u001B[0m\u001B[0;34m\u001B[0m\u001B[0;34m\u001B[0m\u001B[0m\n\u001B[1;32m    105\u001B[0m                     (type_err,\n",
      "\u001B[0;31mValueError\u001B[0m: Input contains NaN, infinity or a value too large for dtype('float64')."
     ]
    }
   ],
   "source": [
    "# Linear Regression Analysis\n",
    "\n",
    "lr = LinearRegression()\n",
    "lr\n",
    "\n",
    "lr.fit(X_train, y_train)\n",
    "lr.score(X_train, y_train)\n",
    "lr.score(X_test, y_test)"
   ],
   "metadata": {
    "collapsed": false,
    "pycharm": {
     "name": "#%%\n"
    }
   }
  }
 ],
 "metadata": {
  "kernelspec": {
   "display_name": "Kernal1",
   "language": "python",
   "name": "kernal1"
  },
  "language_info": {
   "codemirror_mode": {
    "name": "ipython",
    "version": 3
   },
   "file_extension": ".py",
   "mimetype": "text/x-python",
   "name": "python",
   "nbconvert_exporter": "python",
   "pygments_lexer": "ipython3",
   "version": "3.8.10"
  }
 },
 "nbformat": 4,
 "nbformat_minor": 1
}