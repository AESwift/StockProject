{
 "cells": [
  {
   "cell_type": "markdown",
   "source": [
    "# Homework 7\n",
    "Stock and Google Search Correlation Analysis 2\n",
    "#### Group 1\n",
    "#### 20 July 2021"
   ],
   "metadata": {
    "collapsed": false
   }
  },
  {
   "cell_type": "markdown",
   "source": [
    "## Introduction\n",
    "Code imports and performs analysis on daily stock price and interest over time using machine learning\n",
    "* GameStop (GME) <br>\n",
    "* Apple (AAPL) <br>\n",
    "* Coke (KO)<br>\n",
    "* John Deere (DE) <br>\n",
    "* AMC (AMC) <br>"
   ],
   "metadata": {
    "collapsed": false
   }
  },
  {
   "cell_type": "markdown",
   "source": [
    "## Import"
   ],
   "metadata": {
    "collapsed": false
   }
  },
  {
   "cell_type": "code",
   "execution_count": 332,
   "outputs": [],
   "source": [
    "import yfinance as yf\n",
    "import pandas as pd\n",
    "import numpy as np\n",
    "import os\n",
    "import math\n",
    "import plotly.express as px\n",
    "import random as rnd\n",
    "from datetime import date\n",
    "from datetime import timedelta\n",
    "from pytrends.request import TrendReq\n",
    "from sklearn.metrics import confusion_matrix\n",
    "from sklearn.metrics import accuracy_score, recall_score, precision_score, fbeta_score, classification_report\n",
    "from sklearn.metrics import explained_variance_score, mean_absolute_error, r2_score, mean_squared_error\n",
    "from sklearn.cluster import KMeans                      # k-means clustering\n",
    "from sklearn.model_selection import train_test_split    # For generating test/train\n",
    "from sklearn.linear_model import LinearRegression   # Logistic regression\n",
    "from sklearn.neighbors import KNeighborsClassifier\n",
    "from sklearn.linear_model import Ridge\n",
    "from sklearn.linear_model import LogisticRegression\n",
    "%matplotlib inline"
   ],
   "metadata": {
    "collapsed": false,
    "pycharm": {
     "name": "#%%\n"
    }
   }
  },
  {
   "cell_type": "markdown",
   "source": [
    "## Global Variables and Initialization"
   ],
   "metadata": {
    "collapsed": false
   }
  },
  {
   "cell_type": "code",
   "execution_count": 333,
   "outputs": [],
   "source": [
    "dataDir = r\"./Data Files/\"  #Directory of all data\n",
    "today = date.today()  # Todays date\n",
    "rnd.seed(1024)"
   ],
   "metadata": {
    "collapsed": false,
    "pycharm": {
     "name": "#%%\n"
    }
   }
  },
  {
   "cell_type": "markdown",
   "source": [
    "## Global Functions"
   ],
   "metadata": {
    "collapsed": false
   }
  },
  {
   "cell_type": "code",
   "execution_count": 334,
   "outputs": [],
   "source": [
    "# Function gets stock data and trend data if needed\n",
    "def get_data(ticker):\n",
    "    if os.path.exists(f\"{dataDir}{ticker}_{today}_year.csv\"):\n",
    "        #Get stored data\n",
    "        stored_data = pd.read_csv(f\"{dataDir}{ticker}_{today}_year.csv\")\n",
    "        # Get rid of index name\n",
    "        stored_data.set_index('Unnamed: 0', inplace=True)\n",
    "        stored_data.index.name = None\n",
    "        return stored_data\n",
    "    else:\n",
    "        #Get new data\n",
    "        # Connect to Google API\n",
    "        pytrends = TrendReq(hl='en-US', tz=360)\n",
    "        # Set Keyword\n",
    "        kw_list = [ticker]\n",
    "        # Google API only shows last 90 days so need to itirate\n",
    "        # Set start of interval\n",
    "        date90front = date.today()\n",
    "        # Initiate dataframe\n",
    "        trend_data = pd.DataFrame()\n",
    "        for x in range(4):\n",
    "            # Set start end of interval\n",
    "            date90back = date90front - timedelta(days=90)\n",
    "            # Build Payload of 90 days\n",
    "            pytrends.build_payload(kw_list,\n",
    "                                   timeframe=f'{date90back} {date90front}',\n",
    "                                   geo='')\n",
    "            trend_90 = pytrends.interest_over_time()\n",
    "            trend_data = pd.concat([trend_90, trend_data])\n",
    "            date90front = date90back\n",
    "        # Get Stock Data\n",
    "        stock_data = yf.download(ticker,\n",
    "                                 start=date.today() - timedelta(days=360),\n",
    "                                 end=date.today(), interval=\"1d\")\n",
    "        # Combine Data\n",
    "        new_data = stock_data.join(trend_data)\n",
    "        # Export to data folder\n",
    "        new_data.to_csv(f\"{dataDir}{ticker}_{today}_year.csv\")\n",
    "        return new_data\n",
    "\n",
    "# Function prints metrics of regression model\n",
    "def PrintMetricsRegression(test, predictions):\n",
    "    print(f\"Score: {explained_variance_score(test, predictions):.2f}\")\n",
    "    print(f\"MAE: {mean_absolute_error(test, predictions):.2f}\")\n",
    "    print(f\"RMSE: {math.sqrt(mean_squared_error(test, predictions)):.2f}\")\n",
    "    print(f\"r2: {r2_score(test, predictions):.2f}\")\n",
    "\n",
    "# Function prints metrics of classification model\n",
    "def PrintMetricsClassiffication(test, predictions):\n",
    "    print(\"Confusion Matrix:\")\n",
    "    print(confusion_matrix(test, predictions))\n",
    "    print(\"------------------\")\n",
    "    print(f\"Accuracy: {accuracy_score(test, predictions):.2f}\")\n",
    "    print(f\"Recall: {recall_score(test, predictions):.2f}\")\n",
    "    print(f\"Prediction: {precision_score(test, predictions):.2f}\")\n",
    "    print(f\"f-measure: {fbeta_score(test, predictions, beta=1):.2f}\")\n",
    "    print(\"------------------\")\n",
    "    print(classification_report(test, predictions))\n",
    "\n",
    "\n",
    "# Functions gets random data for predictions\n",
    "def prepareDataForPredictions(X_df):\n",
    "    numElements = 3\n",
    "    random_df = []\n",
    "    for _ in range(numElements):\n",
    "        dict = {}\n",
    "        for column in X_df.columns:\n",
    "            min = 0  # assume min = 0\n",
    "            maxValue = round(max(X_df[column].values))\n",
    "            dict[column] = rnd.randint(min, maxValue)\n",
    "        random_df.append(dict)\n",
    "    return random_df\n",
    "\n",
    "# Create categorical dummies\n",
    "def createCategoricalDummies(dataFrame, categoryList):\n",
    "    return pd.get_dummies(dataFrame[categoryList], prefix_sep = \"::\", drop_first = True)"
   ],
   "metadata": {
    "collapsed": false,
    "pycharm": {
     "name": "#%%\n"
    }
   }
  },
  {
   "cell_type": "markdown",
   "source": [
    "## Data and Analysis"
   ],
   "metadata": {
    "collapsed": false
   }
  },
  {
   "cell_type": "markdown",
   "source": [
    "### Gamestop(GME)\n",
    "Connor Moore"
   ],
   "metadata": {
    "collapsed": false
   }
  },
  {
   "cell_type": "markdown",
   "source": [
    "#### Get Data"
   ],
   "metadata": {
    "collapsed": false
   }
  },
  {
   "cell_type": "code",
   "execution_count": 335,
   "outputs": [
    {
     "data": {
      "text/plain": "                  Open        High         Low       Close   Adj Close  \\\n2020-07-27    4.020000    4.120000    3.950000    4.010000    4.010000   \n2020-07-28    3.960000    4.050000    3.920000    3.940000    3.940000   \n2020-07-29    3.940000    4.180000    3.920000    4.060000    4.060000   \n2020-07-30    4.000000    4.230000    3.970000    4.100000    4.100000   \n2020-07-31    4.060000    4.160000    3.990000    4.010000    4.010000   \n...                ...         ...         ...         ...         ...   \n2021-07-14  180.490005  182.380005  165.070007  167.619995  167.619995   \n2021-07-15  160.000000  171.990005  158.009995  166.820007  166.820007   \n2021-07-16  170.149994  179.470001  166.300003  169.039993  169.039993   \n2021-07-19  163.300003  176.000000  161.220001  173.490005  173.490005   \n2021-07-20  173.899994  193.639999  172.419998  191.179993  191.179993   \n\n             Volume   GME isPartial  \n2020-07-27  2472700  25.0     False  \n2020-07-28  4555400  30.0     False  \n2020-07-29  2879600  33.0     False  \n2020-07-30  2398500  22.0     False  \n2020-07-31  1879400  23.0     False  \n...             ...   ...       ...  \n2021-07-14  3913800  28.0     False  \n2021-07-15  4298600  31.0     False  \n2021-07-16  3278800  27.0     False  \n2021-07-19  2436900   NaN       NaN  \n2021-07-20  3094100   NaN       NaN  \n\n[250 rows x 8 columns]",
      "text/html": "<div>\n<style scoped>\n    .dataframe tbody tr th:only-of-type {\n        vertical-align: middle;\n    }\n\n    .dataframe tbody tr th {\n        vertical-align: top;\n    }\n\n    .dataframe thead th {\n        text-align: right;\n    }\n</style>\n<table border=\"1\" class=\"dataframe\">\n  <thead>\n    <tr style=\"text-align: right;\">\n      <th></th>\n      <th>Open</th>\n      <th>High</th>\n      <th>Low</th>\n      <th>Close</th>\n      <th>Adj Close</th>\n      <th>Volume</th>\n      <th>GME</th>\n      <th>isPartial</th>\n    </tr>\n  </thead>\n  <tbody>\n    <tr>\n      <th>2020-07-27</th>\n      <td>4.020000</td>\n      <td>4.120000</td>\n      <td>3.950000</td>\n      <td>4.010000</td>\n      <td>4.010000</td>\n      <td>2472700</td>\n      <td>25.0</td>\n      <td>False</td>\n    </tr>\n    <tr>\n      <th>2020-07-28</th>\n      <td>3.960000</td>\n      <td>4.050000</td>\n      <td>3.920000</td>\n      <td>3.940000</td>\n      <td>3.940000</td>\n      <td>4555400</td>\n      <td>30.0</td>\n      <td>False</td>\n    </tr>\n    <tr>\n      <th>2020-07-29</th>\n      <td>3.940000</td>\n      <td>4.180000</td>\n      <td>3.920000</td>\n      <td>4.060000</td>\n      <td>4.060000</td>\n      <td>2879600</td>\n      <td>33.0</td>\n      <td>False</td>\n    </tr>\n    <tr>\n      <th>2020-07-30</th>\n      <td>4.000000</td>\n      <td>4.230000</td>\n      <td>3.970000</td>\n      <td>4.100000</td>\n      <td>4.100000</td>\n      <td>2398500</td>\n      <td>22.0</td>\n      <td>False</td>\n    </tr>\n    <tr>\n      <th>2020-07-31</th>\n      <td>4.060000</td>\n      <td>4.160000</td>\n      <td>3.990000</td>\n      <td>4.010000</td>\n      <td>4.010000</td>\n      <td>1879400</td>\n      <td>23.0</td>\n      <td>False</td>\n    </tr>\n    <tr>\n      <th>...</th>\n      <td>...</td>\n      <td>...</td>\n      <td>...</td>\n      <td>...</td>\n      <td>...</td>\n      <td>...</td>\n      <td>...</td>\n      <td>...</td>\n    </tr>\n    <tr>\n      <th>2021-07-14</th>\n      <td>180.490005</td>\n      <td>182.380005</td>\n      <td>165.070007</td>\n      <td>167.619995</td>\n      <td>167.619995</td>\n      <td>3913800</td>\n      <td>28.0</td>\n      <td>False</td>\n    </tr>\n    <tr>\n      <th>2021-07-15</th>\n      <td>160.000000</td>\n      <td>171.990005</td>\n      <td>158.009995</td>\n      <td>166.820007</td>\n      <td>166.820007</td>\n      <td>4298600</td>\n      <td>31.0</td>\n      <td>False</td>\n    </tr>\n    <tr>\n      <th>2021-07-16</th>\n      <td>170.149994</td>\n      <td>179.470001</td>\n      <td>166.300003</td>\n      <td>169.039993</td>\n      <td>169.039993</td>\n      <td>3278800</td>\n      <td>27.0</td>\n      <td>False</td>\n    </tr>\n    <tr>\n      <th>2021-07-19</th>\n      <td>163.300003</td>\n      <td>176.000000</td>\n      <td>161.220001</td>\n      <td>173.490005</td>\n      <td>173.490005</td>\n      <td>2436900</td>\n      <td>NaN</td>\n      <td>NaN</td>\n    </tr>\n    <tr>\n      <th>2021-07-20</th>\n      <td>173.899994</td>\n      <td>193.639999</td>\n      <td>172.419998</td>\n      <td>191.179993</td>\n      <td>191.179993</td>\n      <td>3094100</td>\n      <td>NaN</td>\n      <td>NaN</td>\n    </tr>\n  </tbody>\n</table>\n<p>250 rows × 8 columns</p>\n</div>"
     },
     "execution_count": 335,
     "metadata": {},
     "output_type": "execute_result"
    }
   ],
   "source": [
    "# Gets Data for last year\n",
    "GME_DF = get_data(\"GME\")\n",
    "GME_DF"
   ],
   "metadata": {
    "collapsed": false,
    "pycharm": {
     "name": "#%%\n"
    }
   }
  },
  {
   "cell_type": "markdown",
   "source": [
    "#### Prepare Data"
   ],
   "metadata": {
    "collapsed": false
   }
  },
  {
   "cell_type": "code",
   "execution_count": 336,
   "outputs": [],
   "source": [
    "# Rename search interest\n",
    "GME_DF.rename(columns = {\"GME\": \"Search Interest\"},inplace = True)\n",
    "# Add difference\n",
    "GME_DF[\"Price Difference\"] = GME_DF[\"Open\"]-GME_DF[\"Close\"]\n",
    "# Add truth value that determines if we want to buy or not that day\n",
    "GME_DF['Buy'] = np.where(GME_DF['Price Difference'] > 0, 1, 0)\n",
    "# Make search interest a value showing the day before\n",
    "GME_DF['Search Interest'] = GME_DF['Search Interest'].shift(-1)\n",
    "# Delete isPartial\n",
    "del GME_DF['isPartial']\n",
    "# Remove NaN\n",
    "GME_DF.dropna(inplace=True)"
   ],
   "metadata": {
    "collapsed": false,
    "pycharm": {
     "name": "#%%\n"
    }
   }
  },
  {
   "cell_type": "code",
   "execution_count": 337,
   "outputs": [
    {
     "name": "stdout",
     "output_type": "stream",
     "text": [
      "<class 'pandas.core.frame.DataFrame'>\n",
      "Index: 247 entries, 2020-07-27 to 2021-07-15\n",
      "Data columns (total 9 columns):\n",
      " #   Column            Non-Null Count  Dtype  \n",
      "---  ------            --------------  -----  \n",
      " 0   Open              247 non-null    float64\n",
      " 1   High              247 non-null    float64\n",
      " 2   Low               247 non-null    float64\n",
      " 3   Close             247 non-null    float64\n",
      " 4   Adj Close         247 non-null    float64\n",
      " 5   Volume            247 non-null    int64  \n",
      " 6   Search Interest   247 non-null    float64\n",
      " 7   Price Difference  247 non-null    float64\n",
      " 8   Buy               247 non-null    int64  \n",
      "dtypes: float64(7), int64(2)\n",
      "memory usage: 19.3+ KB\n"
     ]
    }
   ],
   "source": [
    "# Check values - no nulls - int or float\n",
    "GME_DF.info()"
   ],
   "metadata": {
    "collapsed": false,
    "pycharm": {
     "name": "#%%\n"
    }
   }
  },
  {
   "cell_type": "markdown",
   "source": [
    "#### Model 1 - Linear Regression"
   ],
   "metadata": {
    "collapsed": false,
    "pycharm": {
     "name": "#%% md\n"
    }
   }
  },
  {
   "cell_type": "code",
   "execution_count": 338,
   "outputs": [
    {
     "name": "stdout",
     "output_type": "stream",
     "text": [
      "Feature categories: ['Open', 'Search Interest']\n",
      "Target feature: Close\n"
     ]
    }
   ],
   "source": [
    "# Set features to target \"Close\"\n",
    "features = ['Open','Search Interest']\n",
    "target = \"Close\"\n",
    "print(f\"Feature categories: {features}\")\n",
    "print(f\"Target feature: {target}\")"
   ],
   "metadata": {
    "collapsed": false,
    "pycharm": {
     "name": "#%%\n"
    }
   }
  },
  {
   "cell_type": "code",
   "execution_count": 339,
   "outputs": [
    {
     "data": {
      "text/plain": "                  Open  Search Interest\n2020-07-27    4.020000             30.0\n2020-07-28    3.960000             33.0\n2020-07-29    3.940000             22.0\n2020-07-30    4.000000             23.0\n2020-07-31    4.060000             23.0\n...                ...              ...\n2021-07-09  190.880005             23.0\n2021-07-12  191.419998             25.0\n2021-07-13  187.679993             28.0\n2021-07-14  180.490005             31.0\n2021-07-15  160.000000             27.0\n\n[247 rows x 2 columns]",
      "text/html": "<div>\n<style scoped>\n    .dataframe tbody tr th:only-of-type {\n        vertical-align: middle;\n    }\n\n    .dataframe tbody tr th {\n        vertical-align: top;\n    }\n\n    .dataframe thead th {\n        text-align: right;\n    }\n</style>\n<table border=\"1\" class=\"dataframe\">\n  <thead>\n    <tr style=\"text-align: right;\">\n      <th></th>\n      <th>Open</th>\n      <th>Search Interest</th>\n    </tr>\n  </thead>\n  <tbody>\n    <tr>\n      <th>2020-07-27</th>\n      <td>4.020000</td>\n      <td>30.0</td>\n    </tr>\n    <tr>\n      <th>2020-07-28</th>\n      <td>3.960000</td>\n      <td>33.0</td>\n    </tr>\n    <tr>\n      <th>2020-07-29</th>\n      <td>3.940000</td>\n      <td>22.0</td>\n    </tr>\n    <tr>\n      <th>2020-07-30</th>\n      <td>4.000000</td>\n      <td>23.0</td>\n    </tr>\n    <tr>\n      <th>2020-07-31</th>\n      <td>4.060000</td>\n      <td>23.0</td>\n    </tr>\n    <tr>\n      <th>...</th>\n      <td>...</td>\n      <td>...</td>\n    </tr>\n    <tr>\n      <th>2021-07-09</th>\n      <td>190.880005</td>\n      <td>23.0</td>\n    </tr>\n    <tr>\n      <th>2021-07-12</th>\n      <td>191.419998</td>\n      <td>25.0</td>\n    </tr>\n    <tr>\n      <th>2021-07-13</th>\n      <td>187.679993</td>\n      <td>28.0</td>\n    </tr>\n    <tr>\n      <th>2021-07-14</th>\n      <td>180.490005</td>\n      <td>31.0</td>\n    </tr>\n    <tr>\n      <th>2021-07-15</th>\n      <td>160.000000</td>\n      <td>27.0</td>\n    </tr>\n  </tbody>\n</table>\n<p>247 rows × 2 columns</p>\n</div>"
     },
     "execution_count": 339,
     "metadata": {},
     "output_type": "execute_result"
    }
   ],
   "source": [
    "X = GME_DF[features]\n",
    "X"
   ],
   "metadata": {
    "collapsed": false,
    "pycharm": {
     "name": "#%%\n"
    }
   }
  },
  {
   "cell_type": "code",
   "execution_count": 340,
   "outputs": [
    {
     "data": {
      "text/plain": "2020-07-27      4.010000\n2020-07-28      3.940000\n2020-07-29      4.060000\n2020-07-30      4.100000\n2020-07-31      4.010000\n                 ...    \n2021-07-09    191.229996\n2021-07-12    189.250000\n2021-07-13    180.059998\n2021-07-14    167.619995\n2021-07-15    166.820007\nName: Close, Length: 247, dtype: float64"
     },
     "execution_count": 340,
     "metadata": {},
     "output_type": "execute_result"
    }
   ],
   "source": [
    "y = GME_DF[target]\n",
    "y"
   ],
   "metadata": {
    "collapsed": false,
    "pycharm": {
     "name": "#%%\n"
    }
   }
  },
  {
   "cell_type": "code",
   "execution_count": 341,
   "outputs": [
    {
     "name": "stdout",
     "output_type": "stream",
     "text": [
      "Length of X_train (feature training set): 185\n",
      "Length of y_train (target training set): 185\n",
      "Length of X_test (feature test set): 62\n",
      "Length of y_test (target test set): 62\n"
     ]
    }
   ],
   "source": [
    "# Set training and test sets\n",
    "X_train, X_test, y_train, y_test = train_test_split(X, y, test_size=0.25)\n",
    "\n",
    "print(f\"Length of X_train (feature training set): {len(X_train)}\")\n",
    "print(f\"Length of y_train (target training set): {len(y_train)}\")\n",
    "print(f\"Length of X_test (feature test set): {len(X_test)}\")\n",
    "print(f\"Length of y_test (target test set): {len(y_test)}\")"
   ],
   "metadata": {
    "collapsed": false,
    "pycharm": {
     "name": "#%%\n"
    }
   }
  },
  {
   "cell_type": "code",
   "execution_count": 342,
   "outputs": [
    {
     "data": {
      "text/plain": "Ridge(solver='svd')"
     },
     "execution_count": 342,
     "metadata": {},
     "output_type": "execute_result"
    }
   ],
   "source": [
    "rr = Ridge(solver='svd')\n",
    "rr"
   ],
   "metadata": {
    "collapsed": false,
    "pycharm": {
     "name": "#%%\n"
    }
   }
  },
  {
   "cell_type": "code",
   "execution_count": 343,
   "outputs": [
    {
     "data": {
      "text/plain": "Ridge(solver='svd')"
     },
     "execution_count": 343,
     "metadata": {},
     "output_type": "execute_result"
    }
   ],
   "source": [
    "rr.fit(X_train, y_train)"
   ],
   "metadata": {
    "collapsed": false,
    "pycharm": {
     "name": "#%%\n"
    }
   }
  },
  {
   "cell_type": "code",
   "execution_count": 344,
   "outputs": [
    {
     "data": {
      "text/plain": "0.9725864884920568"
     },
     "execution_count": 344,
     "metadata": {},
     "output_type": "execute_result"
    }
   ],
   "source": [
    "rr.score(X_train, y_train)"
   ],
   "metadata": {
    "collapsed": false,
    "pycharm": {
     "name": "#%%\n"
    }
   }
  },
  {
   "cell_type": "code",
   "execution_count": 345,
   "outputs": [
    {
     "data": {
      "text/plain": "0.9751790419601696"
     },
     "execution_count": 345,
     "metadata": {},
     "output_type": "execute_result"
    }
   ],
   "source": [
    "rr.score(X_test, y_test)"
   ],
   "metadata": {
    "collapsed": false,
    "pycharm": {
     "name": "#%%\n"
    }
   }
  },
  {
   "cell_type": "code",
   "execution_count": 346,
   "outputs": [
    {
     "name": "stdout",
     "output_type": "stream",
     "text": [
      "Score: 0.98\n",
      "MAE: 8.96\n",
      "RMSE: 14.23\n",
      "r2: 0.98\n"
     ]
    }
   ],
   "source": [
    "predictions = rr.predict(X_test)\n",
    "PrintMetricsRegression(y_test, predictions)"
   ],
   "metadata": {
    "collapsed": false,
    "pycharm": {
     "name": "#%%\n"
    }
   }
  },
  {
   "cell_type": "code",
   "execution_count": 347,
   "outputs": [
    {
     "data": {
      "text/plain": "   Open  Search Interest\n0     9               61\n1   199               41\n2   266               12",
      "text/html": "<div>\n<style scoped>\n    .dataframe tbody tr th:only-of-type {\n        vertical-align: middle;\n    }\n\n    .dataframe tbody tr th {\n        vertical-align: top;\n    }\n\n    .dataframe thead th {\n        text-align: right;\n    }\n</style>\n<table border=\"1\" class=\"dataframe\">\n  <thead>\n    <tr style=\"text-align: right;\">\n      <th></th>\n      <th>Open</th>\n      <th>Search Interest</th>\n    </tr>\n  </thead>\n  <tbody>\n    <tr>\n      <th>0</th>\n      <td>9</td>\n      <td>61</td>\n    </tr>\n    <tr>\n      <th>1</th>\n      <td>199</td>\n      <td>41</td>\n    </tr>\n    <tr>\n      <th>2</th>\n      <td>266</td>\n      <td>12</td>\n    </tr>\n  </tbody>\n</table>\n</div>"
     },
     "execution_count": 347,
     "metadata": {},
     "output_type": "execute_result"
    }
   ],
   "source": [
    "# Get predictor data based of X and convert to dataframe\n",
    "sampleGME = pd.DataFrame.from_dict(prepareDataForPredictions(X))\n",
    "sampleGME"
   ],
   "metadata": {
    "collapsed": false,
    "pycharm": {
     "name": "#%%\n"
    }
   }
  },
  {
   "cell_type": "code",
   "execution_count": 348,
   "outputs": [
    {
     "data": {
      "text/plain": "array([ 12.05832812, 192.77841298, 256.07989719])"
     },
     "execution_count": 348,
     "metadata": {},
     "output_type": "execute_result"
    }
   ],
   "source": [
    "predictions = rr.predict(sampleGME)\n",
    "predictions"
   ],
   "metadata": {
    "collapsed": false,
    "pycharm": {
     "name": "#%%\n"
    }
   }
  },
  {
   "cell_type": "code",
   "execution_count": 349,
   "outputs": [
    {
     "data": {
      "text/plain": "   Open  Search Interest  Predictions\n0     9               61    12.058328\n1   199               41   192.778413\n2   266               12   256.079897",
      "text/html": "<div>\n<style scoped>\n    .dataframe tbody tr th:only-of-type {\n        vertical-align: middle;\n    }\n\n    .dataframe tbody tr th {\n        vertical-align: top;\n    }\n\n    .dataframe thead th {\n        text-align: right;\n    }\n</style>\n<table border=\"1\" class=\"dataframe\">\n  <thead>\n    <tr style=\"text-align: right;\">\n      <th></th>\n      <th>Open</th>\n      <th>Search Interest</th>\n      <th>Predictions</th>\n    </tr>\n  </thead>\n  <tbody>\n    <tr>\n      <th>0</th>\n      <td>9</td>\n      <td>61</td>\n      <td>12.058328</td>\n    </tr>\n    <tr>\n      <th>1</th>\n      <td>199</td>\n      <td>41</td>\n      <td>192.778413</td>\n    </tr>\n    <tr>\n      <th>2</th>\n      <td>266</td>\n      <td>12</td>\n      <td>256.079897</td>\n    </tr>\n  </tbody>\n</table>\n</div>"
     },
     "execution_count": 349,
     "metadata": {},
     "output_type": "execute_result"
    }
   ],
   "source": [
    "sampleGME_predicted = sampleGME.copy()\n",
    "sampleGME_predicted['Predictions'] = predictions\n",
    "sampleGME_predicted"
   ],
   "metadata": {
    "collapsed": false,
    "pycharm": {
     "name": "#%%\n"
    }
   }
  },
  {
   "cell_type": "markdown",
   "source": [
    "#### Model 2 - Logistic Regression"
   ],
   "metadata": {
    "collapsed": false
   }
  },
  {
   "cell_type": "code",
   "execution_count": 350,
   "outputs": [
    {
     "name": "stdout",
     "output_type": "stream",
     "text": [
      "Feature categories: ['Open', 'Search Interest']\n",
      "Target feature: Buy\n"
     ]
    }
   ],
   "source": [
    "# Set features to target \"Buy\"\n",
    "features = ['Open','Search Interest']\n",
    "target = \"Buy\"\n",
    "\n",
    "print(f\"Feature categories: {features}\")\n",
    "print(f\"Target feature: {target}\")"
   ],
   "metadata": {
    "collapsed": false,
    "pycharm": {
     "name": "#%%\n"
    }
   }
  },
  {
   "cell_type": "code",
   "execution_count": 351,
   "outputs": [
    {
     "data": {
      "text/plain": "                  Open  Search Interest\n2020-07-27    4.020000             30.0\n2020-07-28    3.960000             33.0\n2020-07-29    3.940000             22.0\n2020-07-30    4.000000             23.0\n2020-07-31    4.060000             23.0\n...                ...              ...\n2021-07-09  190.880005             23.0\n2021-07-12  191.419998             25.0\n2021-07-13  187.679993             28.0\n2021-07-14  180.490005             31.0\n2021-07-15  160.000000             27.0\n\n[247 rows x 2 columns]",
      "text/html": "<div>\n<style scoped>\n    .dataframe tbody tr th:only-of-type {\n        vertical-align: middle;\n    }\n\n    .dataframe tbody tr th {\n        vertical-align: top;\n    }\n\n    .dataframe thead th {\n        text-align: right;\n    }\n</style>\n<table border=\"1\" class=\"dataframe\">\n  <thead>\n    <tr style=\"text-align: right;\">\n      <th></th>\n      <th>Open</th>\n      <th>Search Interest</th>\n    </tr>\n  </thead>\n  <tbody>\n    <tr>\n      <th>2020-07-27</th>\n      <td>4.020000</td>\n      <td>30.0</td>\n    </tr>\n    <tr>\n      <th>2020-07-28</th>\n      <td>3.960000</td>\n      <td>33.0</td>\n    </tr>\n    <tr>\n      <th>2020-07-29</th>\n      <td>3.940000</td>\n      <td>22.0</td>\n    </tr>\n    <tr>\n      <th>2020-07-30</th>\n      <td>4.000000</td>\n      <td>23.0</td>\n    </tr>\n    <tr>\n      <th>2020-07-31</th>\n      <td>4.060000</td>\n      <td>23.0</td>\n    </tr>\n    <tr>\n      <th>...</th>\n      <td>...</td>\n      <td>...</td>\n    </tr>\n    <tr>\n      <th>2021-07-09</th>\n      <td>190.880005</td>\n      <td>23.0</td>\n    </tr>\n    <tr>\n      <th>2021-07-12</th>\n      <td>191.419998</td>\n      <td>25.0</td>\n    </tr>\n    <tr>\n      <th>2021-07-13</th>\n      <td>187.679993</td>\n      <td>28.0</td>\n    </tr>\n    <tr>\n      <th>2021-07-14</th>\n      <td>180.490005</td>\n      <td>31.0</td>\n    </tr>\n    <tr>\n      <th>2021-07-15</th>\n      <td>160.000000</td>\n      <td>27.0</td>\n    </tr>\n  </tbody>\n</table>\n<p>247 rows × 2 columns</p>\n</div>"
     },
     "execution_count": 351,
     "metadata": {},
     "output_type": "execute_result"
    }
   ],
   "source": [
    "X = GME_DF[features]\n",
    "X"
   ],
   "metadata": {
    "collapsed": false,
    "pycharm": {
     "name": "#%%\n"
    }
   }
  },
  {
   "cell_type": "code",
   "execution_count": 352,
   "outputs": [
    {
     "data": {
      "text/plain": "2020-07-27    1\n2020-07-28    1\n2020-07-29    0\n2020-07-30    0\n2020-07-31    1\n             ..\n2021-07-09    0\n2021-07-12    1\n2021-07-13    1\n2021-07-14    1\n2021-07-15    0\nName: Buy, Length: 247, dtype: int64"
     },
     "execution_count": 352,
     "metadata": {},
     "output_type": "execute_result"
    }
   ],
   "source": [
    "y = GME_DF[target]\n",
    "y"
   ],
   "metadata": {
    "collapsed": false,
    "pycharm": {
     "name": "#%%\n"
    }
   }
  },
  {
   "cell_type": "code",
   "execution_count": 353,
   "outputs": [
    {
     "name": "stdout",
     "output_type": "stream",
     "text": [
      "Length of X_train (feature training set): 185\n",
      "Length of y_train (target training set): 185\n",
      "Length of X_test (feature test set): 62\n",
      "Length of y_test (target test set): 62\n"
     ]
    }
   ],
   "source": [
    "# Set training and test sets\n",
    "X_train, X_test, y_train, y_test = train_test_split(X, y, test_size=0.25)\n",
    "\n",
    "print(f\"Length of X_train (feature training set): {len(X_train)}\")\n",
    "print(f\"Length of y_train (target training set): {len(y_train)}\")\n",
    "print(f\"Length of X_test (feature test set): {len(X_test)}\")\n",
    "print(f\"Length of y_test (target test set): {len(y_test)}\")"
   ],
   "metadata": {
    "collapsed": false,
    "pycharm": {
     "name": "#%%\n"
    }
   }
  },
  {
   "cell_type": "code",
   "execution_count": 354,
   "outputs": [
    {
     "data": {
      "text/plain": "LogisticRegression(solver='liblinear')"
     },
     "execution_count": 354,
     "metadata": {},
     "output_type": "execute_result"
    }
   ],
   "source": [
    "lr = LogisticRegression(solver=\"liblinear\")\n",
    "lr"
   ],
   "metadata": {
    "collapsed": false,
    "pycharm": {
     "name": "#%%\n"
    }
   }
  },
  {
   "cell_type": "code",
   "execution_count": 355,
   "outputs": [
    {
     "data": {
      "text/plain": "LogisticRegression(solver='liblinear')"
     },
     "execution_count": 355,
     "metadata": {},
     "output_type": "execute_result"
    }
   ],
   "source": [
    "lr.fit(X_train, y_train)"
   ],
   "metadata": {
    "collapsed": false,
    "pycharm": {
     "name": "#%%\n"
    }
   }
  },
  {
   "cell_type": "code",
   "execution_count": 356,
   "outputs": [
    {
     "data": {
      "text/plain": "0.572972972972973"
     },
     "execution_count": 356,
     "metadata": {},
     "output_type": "execute_result"
    }
   ],
   "source": [
    "lr.score(X_train, y_train)"
   ],
   "metadata": {
    "collapsed": false,
    "pycharm": {
     "name": "#%%\n"
    }
   }
  },
  {
   "cell_type": "code",
   "execution_count": 357,
   "outputs": [
    {
     "data": {
      "text/plain": "0.5967741935483871"
     },
     "execution_count": 357,
     "metadata": {},
     "output_type": "execute_result"
    }
   ],
   "source": [
    "lr.score(X_test, y_test)"
   ],
   "metadata": {
    "collapsed": false,
    "pycharm": {
     "name": "#%%\n"
    }
   }
  },
  {
   "cell_type": "code",
   "execution_count": 358,
   "outputs": [
    {
     "name": "stdout",
     "output_type": "stream",
     "text": [
      "Confusion Matrix:\n",
      "[[16  4]\n",
      " [21 21]]\n",
      "------------------\n",
      "Accuracy: 0.60\n",
      "Recall: 0.50\n",
      "Prediction: 0.84\n",
      "f-measure: 0.63\n",
      "------------------\n",
      "              precision    recall  f1-score   support\n",
      "\n",
      "           0       0.43      0.80      0.56        20\n",
      "           1       0.84      0.50      0.63        42\n",
      "\n",
      "    accuracy                           0.60        62\n",
      "   macro avg       0.64      0.65      0.59        62\n",
      "weighted avg       0.71      0.60      0.61        62\n",
      "\n"
     ]
    }
   ],
   "source": [
    "predictions = lr.predict(X_test)\n",
    "PrintMetricsClassiffication(y_test, predictions)"
   ],
   "metadata": {
    "collapsed": false,
    "pycharm": {
     "name": "#%%\n"
    }
   }
  },
  {
   "cell_type": "code",
   "execution_count": 359,
   "outputs": [
    {
     "data": {
      "text/plain": "   Open  Search Interest\n0   227               65\n1   187               92\n2   366               47",
      "text/html": "<div>\n<style scoped>\n    .dataframe tbody tr th:only-of-type {\n        vertical-align: middle;\n    }\n\n    .dataframe tbody tr th {\n        vertical-align: top;\n    }\n\n    .dataframe thead th {\n        text-align: right;\n    }\n</style>\n<table border=\"1\" class=\"dataframe\">\n  <thead>\n    <tr style=\"text-align: right;\">\n      <th></th>\n      <th>Open</th>\n      <th>Search Interest</th>\n    </tr>\n  </thead>\n  <tbody>\n    <tr>\n      <th>0</th>\n      <td>227</td>\n      <td>65</td>\n    </tr>\n    <tr>\n      <th>1</th>\n      <td>187</td>\n      <td>92</td>\n    </tr>\n    <tr>\n      <th>2</th>\n      <td>366</td>\n      <td>47</td>\n    </tr>\n  </tbody>\n</table>\n</div>"
     },
     "execution_count": 359,
     "metadata": {},
     "output_type": "execute_result"
    }
   ],
   "source": [
    "# Get predictor data based of X and convert to dataframe\n",
    "sampleGME = pd.DataFrame.from_dict(prepareDataForPredictions(X))\n",
    "sampleGME"
   ],
   "metadata": {
    "collapsed": false,
    "pycharm": {
     "name": "#%%\n"
    }
   }
  },
  {
   "cell_type": "code",
   "execution_count": 360,
   "outputs": [
    {
     "data": {
      "text/plain": "array([1, 0, 1])"
     },
     "execution_count": 360,
     "metadata": {},
     "output_type": "execute_result"
    }
   ],
   "source": [
    "predictions = lr.predict(sampleGME)\n",
    "predictions"
   ],
   "metadata": {
    "collapsed": false,
    "pycharm": {
     "name": "#%%\n"
    }
   }
  },
  {
   "cell_type": "code",
   "execution_count": 361,
   "outputs": [
    {
     "data": {
      "text/plain": "   Open  Search Interest  Predictions\n0   227               65            1\n1   187               92            0\n2   366               47            1",
      "text/html": "<div>\n<style scoped>\n    .dataframe tbody tr th:only-of-type {\n        vertical-align: middle;\n    }\n\n    .dataframe tbody tr th {\n        vertical-align: top;\n    }\n\n    .dataframe thead th {\n        text-align: right;\n    }\n</style>\n<table border=\"1\" class=\"dataframe\">\n  <thead>\n    <tr style=\"text-align: right;\">\n      <th></th>\n      <th>Open</th>\n      <th>Search Interest</th>\n      <th>Predictions</th>\n    </tr>\n  </thead>\n  <tbody>\n    <tr>\n      <th>0</th>\n      <td>227</td>\n      <td>65</td>\n      <td>1</td>\n    </tr>\n    <tr>\n      <th>1</th>\n      <td>187</td>\n      <td>92</td>\n      <td>0</td>\n    </tr>\n    <tr>\n      <th>2</th>\n      <td>366</td>\n      <td>47</td>\n      <td>1</td>\n    </tr>\n  </tbody>\n</table>\n</div>"
     },
     "execution_count": 361,
     "metadata": {},
     "output_type": "execute_result"
    }
   ],
   "source": [
    "sampleGME_predicted = sampleGME.copy()\n",
    "sampleGME_predicted['Predictions'] = predictions\n",
    "sampleGME_predicted"
   ],
   "metadata": {
    "collapsed": false,
    "pycharm": {
     "name": "#%%\n"
    }
   }
  },
  {
   "cell_type": "markdown",
   "source": [
    "#### Analysis\n",
    "The initial ridge regression looked at the opening price and the search interest of the day before to predict the closing price today. The model fit the training data quite and it did a great job at predicting the clsoing price with a score of 0.97.\n",
    "\n",
    "The 2nd model used logistic regression to predict if we should buy today or not(a calculationof net profit positive or negative) based off of interest yesterday and opening price. The model scored moderately at .64 in training and 0.46 in testing."
   ],
   "metadata": {
    "collapsed": false,
    "pycharm": {
     "name": "#%% md\n"
    }
   }
  },
  {
   "cell_type": "markdown",
   "source": [
    "### Apple (AAPL)\n",
    "Ken Cupples"
   ],
   "metadata": {
    "collapsed": false
   }
  },
  {
   "cell_type": "markdown",
   "source": [
    "##### Purpose\n",
    "The purpose of this notebook is to provide practice with scikitlearn using both linear regression and logistical regressional models.  In this example, Applestock is used to determine if there is a correlation between google search interest about Applestock and the price the stock itself."
   ],
   "metadata": {
    "collapsed": false
   }
  },
  {
   "cell_type": "markdown",
   "source": [
    "Pull Google search interest for Apple for second Quarter"
   ],
   "metadata": {
    "collapsed": false
   }
  },
  {
   "cell_type": "code",
   "execution_count": 362,
   "outputs": [],
   "source": [
    "pytrends = TrendReq(hl='en-US', tz=360)\n",
    "\n",
    "#build list of keywords in this case only use AAPL\n",
    "kw_list = [\"AAPL\"]\n",
    "\n",
    "# build the payload\n",
    "pytrends.build_payload(kw_list, timeframe='2021-04-01 2021-06-30', geo='US')\n",
    "\n",
    "# Store interest over time information in df and rename AAPL column to Search Interest\n",
    "AppleTrendsdf = pytrends.interest_over_time()\n",
    "AppleTrendsdf = AppleTrendsdf.rename(columns={\"AAPL\": 'Search Interest'})\n",
    "AppleTrendsdf.reset_index(inplace=True, drop=True)"
   ],
   "metadata": {
    "collapsed": false,
    "pycharm": {
     "name": "#%%\n"
    }
   }
  },
  {
   "cell_type": "markdown",
   "source": [
    "Prepare the Data"
   ],
   "metadata": {
    "collapsed": false
   }
  },
  {
   "cell_type": "code",
   "execution_count": 363,
   "outputs": [],
   "source": [
    "# Removes the weekends and holidays from AppleTrendsdf since the stock data only trades on these days\n",
    "Index = 2\n",
    "while Index < len(AppleTrendsdf-1):\n",
    "    Next = Index +1\n",
    "    if Next < len(AppleTrendsdf-1):\n",
    "        AppleTrendsdf.drop([Index, Next], axis=0, inplace=True)\n",
    "        Index +=5\n",
    "    else:\n",
    "        AppleTrendsdf.drop([Index], axis=0, inplace=True)\n",
    "        Index +=5\n",
    "AppleTrendsdf.drop([1, 60], axis=0, inplace=True)\n"
   ],
   "metadata": {
    "collapsed": false,
    "pycharm": {
     "name": "#%%\n"
    }
   }
  },
  {
   "cell_type": "code",
   "execution_count": 364,
   "outputs": [
    {
     "data": {
      "text/plain": "         Date        Open        High         Low       Close   Adj Close  \\\n0    4/1/2021  123.660004  124.180000  122.489998  123.000000  122.791428   \n1    4/5/2021  123.870003  126.160004  123.070000  125.900002  125.686516   \n2    4/6/2021  126.500000  127.129997  125.650002  126.209999  125.995987   \n3    4/7/2021  125.830002  127.919998  125.139999  127.900002  127.683121   \n4    4/8/2021  128.949997  130.389999  128.520004  130.360001  130.138947   \n5    4/9/2021  129.800003  133.039993  129.470001  133.000000  132.774475   \n6   4/12/2021  132.520004  132.850006  130.630005  131.240005  131.017456   \n7   4/13/2021  132.440002  134.660004  131.929993  134.429993  134.202042   \n8   4/14/2021  134.940002  135.000000  131.660004  132.029999  131.806122   \n9   4/15/2021  133.820007  135.000000  133.639999  134.500000  134.271927   \n10  4/16/2021  134.300003  134.669998  133.279999  134.160004  133.932510   \n11  4/19/2021  133.509995  135.470001  133.339996  134.839996  134.611343   \n12  4/20/2021  135.020004  135.529999  131.809998  133.110001  132.884293   \n13  4/21/2021  132.360001  133.750000  131.300003  133.500000  133.273621   \n14  4/22/2021  133.039993  134.149994  131.410004  131.940002  131.716278   \n15  4/23/2021  132.160004  135.119995  132.160004  134.320007  134.092239   \n16  4/26/2021  134.830002  135.059998  133.559998  134.720001  134.491562   \n17  4/27/2021  135.009995  135.410004  134.110001  134.389999  134.162109   \n18  4/28/2021  134.309998  135.020004  133.080002  133.580002  133.353485   \n19  4/29/2021  136.470001  137.070007  132.449997  133.479996  133.253662   \n20  4/30/2021  131.779999  133.559998  131.070007  131.460007  131.237091   \n21   5/3/2021  132.039993  134.070007  131.830002  132.539993  132.315247   \n22   5/4/2021  131.190002  131.490005  126.699997  127.849998  127.633202   \n23   5/5/2021  129.199997  130.449997  127.970001  128.100006  127.882790   \n24   5/6/2021  127.889999  129.750000  127.129997  129.740005  129.520004   \n25   5/7/2021  130.850006  131.259995  129.479996  130.210007  130.210007   \n26  5/10/2021  129.410004  129.539993  126.809998  126.849998  126.849998   \n27  5/11/2021  123.500000  126.269997  122.769997  125.910004  125.910004   \n28  5/12/2021  123.400002  124.639999  122.250000  122.769997  122.769997   \n29  5/13/2021  124.580002  126.150002  124.260002  124.970001  124.970001   \n30  5/14/2021  126.250000  127.889999  125.849998  127.449997  127.449997   \n31  5/17/2021  126.820000  126.930000  125.169998  126.269997  126.269997   \n32  5/18/2021  126.559998  126.989998  124.779999  124.849998  124.849998   \n33  5/19/2021  123.160004  124.919998  122.860001  124.690002  124.690002   \n34  5/20/2021  125.230003  127.720001  125.099998  127.309998  127.309998   \n35  5/21/2021  127.820000  128.000000  125.209999  125.430000  125.430000   \n36  5/24/2021  126.010002  127.940002  125.940002  127.099998  127.099998   \n37  5/25/2021  127.820000  128.320007  126.320000  126.900002  126.900002   \n38  5/26/2021  126.959999  127.389999  126.419998  126.849998  126.849998   \n39  5/27/2021  126.440002  127.639999  125.080002  125.279999  125.279999   \n40  5/28/2021  125.570000  125.800003  124.550003  124.610001  124.610001   \n41   6/1/2021  125.080002  125.349998  123.940002  124.279999  124.279999   \n42   6/2/2021  124.279999  125.239998  124.050003  125.059998  125.059998   \n43   6/3/2021  124.680000  124.849998  123.129997  123.540001  123.540001   \n44   6/4/2021  124.070000  126.160004  123.849998  125.889999  125.889999   \n45   6/7/2021  126.169998  126.320000  124.830002  125.900002  125.900002   \n46   6/8/2021  126.599998  128.460007  126.209999  126.739998  126.739998   \n47   6/9/2021  127.209999  127.750000  126.519997  127.129997  127.129997   \n48  6/10/2021  127.019997  128.190002  125.940002  126.110001  126.110001   \n49  6/11/2021  126.529999  127.440002  126.099998  127.349998  127.349998   \n50  6/14/2021  127.820000  130.539993  127.070000  130.479996  130.479996   \n51  6/15/2021  129.940002  130.600006  129.389999  129.639999  129.639999   \n52  6/16/2021  130.369995  130.889999  128.460007  130.149994  130.149994   \n53  6/17/2021  129.800003  132.550003  129.649994  131.789993  131.789993   \n54  6/18/2021  130.710007  131.509995  130.240005  130.460007  130.460007   \n55  6/21/2021  130.300003  132.410004  129.210007  132.300003  132.300003   \n56  6/22/2021  132.130005  134.080002  131.619995  133.979996  133.979996   \n57  6/23/2021  133.770004  134.320007  133.229996  133.699997  133.699997   \n58  6/24/2021  134.449997  134.639999  132.929993  133.410004  133.410004   \n59  6/25/2021  133.460007  133.889999  132.809998  133.110001  133.110001   \n60  6/28/2021  133.410004  135.250000  133.350006  134.779999  134.779999   \n61  6/29/2021  134.800003  136.490005  134.350006  136.330002  136.330002   \n62  6/30/2021  136.169998  137.410004  135.869995  136.960007  136.960007   \n\n       Volume  \n0    75089100  \n1    88651200  \n2    80171300  \n3    83466700  \n4    88844600  \n5   106686700  \n6    91420000  \n7    91266500  \n8    87222800  \n9    89347100  \n10   84922400  \n11   94264200  \n12   94812300  \n13   68847100  \n14   84566500  \n15   78657500  \n16   66905100  \n17   66015800  \n18  107760100  \n19  151101000  \n20  109839500  \n21   75135100  \n22  137564700  \n23   84000900  \n24   78128300  \n25   78973300  \n26   88071200  \n27  126142800  \n28  112172300  \n29  105861300  \n30   81918000  \n31   74244600  \n32   63342900  \n33   92612000  \n34   76857100  \n35   79295400  \n36   63092900  \n37   72009500  \n38   56575900  \n39   94625600  \n40   71311100  \n41   67637100  \n42   59278900  \n43   76229200  \n44   75169300  \n45   71057600  \n46   74403800  \n47   56877900  \n48   71186400  \n49   53522400  \n50   96906500  \n51   62746300  \n52   91815000  \n53   96721700  \n54  108953300  \n55   79663300  \n56   74783600  \n57   60214200  \n58   68711000  \n59   70783700  \n60   62111300  \n61   64556100  \n62   63261400  ",
      "text/html": "<div>\n<style scoped>\n    .dataframe tbody tr th:only-of-type {\n        vertical-align: middle;\n    }\n\n    .dataframe tbody tr th {\n        vertical-align: top;\n    }\n\n    .dataframe thead th {\n        text-align: right;\n    }\n</style>\n<table border=\"1\" class=\"dataframe\">\n  <thead>\n    <tr style=\"text-align: right;\">\n      <th></th>\n      <th>Date</th>\n      <th>Open</th>\n      <th>High</th>\n      <th>Low</th>\n      <th>Close</th>\n      <th>Adj Close</th>\n      <th>Volume</th>\n    </tr>\n  </thead>\n  <tbody>\n    <tr>\n      <th>0</th>\n      <td>4/1/2021</td>\n      <td>123.660004</td>\n      <td>124.180000</td>\n      <td>122.489998</td>\n      <td>123.000000</td>\n      <td>122.791428</td>\n      <td>75089100</td>\n    </tr>\n    <tr>\n      <th>1</th>\n      <td>4/5/2021</td>\n      <td>123.870003</td>\n      <td>126.160004</td>\n      <td>123.070000</td>\n      <td>125.900002</td>\n      <td>125.686516</td>\n      <td>88651200</td>\n    </tr>\n    <tr>\n      <th>2</th>\n      <td>4/6/2021</td>\n      <td>126.500000</td>\n      <td>127.129997</td>\n      <td>125.650002</td>\n      <td>126.209999</td>\n      <td>125.995987</td>\n      <td>80171300</td>\n    </tr>\n    <tr>\n      <th>3</th>\n      <td>4/7/2021</td>\n      <td>125.830002</td>\n      <td>127.919998</td>\n      <td>125.139999</td>\n      <td>127.900002</td>\n      <td>127.683121</td>\n      <td>83466700</td>\n    </tr>\n    <tr>\n      <th>4</th>\n      <td>4/8/2021</td>\n      <td>128.949997</td>\n      <td>130.389999</td>\n      <td>128.520004</td>\n      <td>130.360001</td>\n      <td>130.138947</td>\n      <td>88844600</td>\n    </tr>\n    <tr>\n      <th>5</th>\n      <td>4/9/2021</td>\n      <td>129.800003</td>\n      <td>133.039993</td>\n      <td>129.470001</td>\n      <td>133.000000</td>\n      <td>132.774475</td>\n      <td>106686700</td>\n    </tr>\n    <tr>\n      <th>6</th>\n      <td>4/12/2021</td>\n      <td>132.520004</td>\n      <td>132.850006</td>\n      <td>130.630005</td>\n      <td>131.240005</td>\n      <td>131.017456</td>\n      <td>91420000</td>\n    </tr>\n    <tr>\n      <th>7</th>\n      <td>4/13/2021</td>\n      <td>132.440002</td>\n      <td>134.660004</td>\n      <td>131.929993</td>\n      <td>134.429993</td>\n      <td>134.202042</td>\n      <td>91266500</td>\n    </tr>\n    <tr>\n      <th>8</th>\n      <td>4/14/2021</td>\n      <td>134.940002</td>\n      <td>135.000000</td>\n      <td>131.660004</td>\n      <td>132.029999</td>\n      <td>131.806122</td>\n      <td>87222800</td>\n    </tr>\n    <tr>\n      <th>9</th>\n      <td>4/15/2021</td>\n      <td>133.820007</td>\n      <td>135.000000</td>\n      <td>133.639999</td>\n      <td>134.500000</td>\n      <td>134.271927</td>\n      <td>89347100</td>\n    </tr>\n    <tr>\n      <th>10</th>\n      <td>4/16/2021</td>\n      <td>134.300003</td>\n      <td>134.669998</td>\n      <td>133.279999</td>\n      <td>134.160004</td>\n      <td>133.932510</td>\n      <td>84922400</td>\n    </tr>\n    <tr>\n      <th>11</th>\n      <td>4/19/2021</td>\n      <td>133.509995</td>\n      <td>135.470001</td>\n      <td>133.339996</td>\n      <td>134.839996</td>\n      <td>134.611343</td>\n      <td>94264200</td>\n    </tr>\n    <tr>\n      <th>12</th>\n      <td>4/20/2021</td>\n      <td>135.020004</td>\n      <td>135.529999</td>\n      <td>131.809998</td>\n      <td>133.110001</td>\n      <td>132.884293</td>\n      <td>94812300</td>\n    </tr>\n    <tr>\n      <th>13</th>\n      <td>4/21/2021</td>\n      <td>132.360001</td>\n      <td>133.750000</td>\n      <td>131.300003</td>\n      <td>133.500000</td>\n      <td>133.273621</td>\n      <td>68847100</td>\n    </tr>\n    <tr>\n      <th>14</th>\n      <td>4/22/2021</td>\n      <td>133.039993</td>\n      <td>134.149994</td>\n      <td>131.410004</td>\n      <td>131.940002</td>\n      <td>131.716278</td>\n      <td>84566500</td>\n    </tr>\n    <tr>\n      <th>15</th>\n      <td>4/23/2021</td>\n      <td>132.160004</td>\n      <td>135.119995</td>\n      <td>132.160004</td>\n      <td>134.320007</td>\n      <td>134.092239</td>\n      <td>78657500</td>\n    </tr>\n    <tr>\n      <th>16</th>\n      <td>4/26/2021</td>\n      <td>134.830002</td>\n      <td>135.059998</td>\n      <td>133.559998</td>\n      <td>134.720001</td>\n      <td>134.491562</td>\n      <td>66905100</td>\n    </tr>\n    <tr>\n      <th>17</th>\n      <td>4/27/2021</td>\n      <td>135.009995</td>\n      <td>135.410004</td>\n      <td>134.110001</td>\n      <td>134.389999</td>\n      <td>134.162109</td>\n      <td>66015800</td>\n    </tr>\n    <tr>\n      <th>18</th>\n      <td>4/28/2021</td>\n      <td>134.309998</td>\n      <td>135.020004</td>\n      <td>133.080002</td>\n      <td>133.580002</td>\n      <td>133.353485</td>\n      <td>107760100</td>\n    </tr>\n    <tr>\n      <th>19</th>\n      <td>4/29/2021</td>\n      <td>136.470001</td>\n      <td>137.070007</td>\n      <td>132.449997</td>\n      <td>133.479996</td>\n      <td>133.253662</td>\n      <td>151101000</td>\n    </tr>\n    <tr>\n      <th>20</th>\n      <td>4/30/2021</td>\n      <td>131.779999</td>\n      <td>133.559998</td>\n      <td>131.070007</td>\n      <td>131.460007</td>\n      <td>131.237091</td>\n      <td>109839500</td>\n    </tr>\n    <tr>\n      <th>21</th>\n      <td>5/3/2021</td>\n      <td>132.039993</td>\n      <td>134.070007</td>\n      <td>131.830002</td>\n      <td>132.539993</td>\n      <td>132.315247</td>\n      <td>75135100</td>\n    </tr>\n    <tr>\n      <th>22</th>\n      <td>5/4/2021</td>\n      <td>131.190002</td>\n      <td>131.490005</td>\n      <td>126.699997</td>\n      <td>127.849998</td>\n      <td>127.633202</td>\n      <td>137564700</td>\n    </tr>\n    <tr>\n      <th>23</th>\n      <td>5/5/2021</td>\n      <td>129.199997</td>\n      <td>130.449997</td>\n      <td>127.970001</td>\n      <td>128.100006</td>\n      <td>127.882790</td>\n      <td>84000900</td>\n    </tr>\n    <tr>\n      <th>24</th>\n      <td>5/6/2021</td>\n      <td>127.889999</td>\n      <td>129.750000</td>\n      <td>127.129997</td>\n      <td>129.740005</td>\n      <td>129.520004</td>\n      <td>78128300</td>\n    </tr>\n    <tr>\n      <th>25</th>\n      <td>5/7/2021</td>\n      <td>130.850006</td>\n      <td>131.259995</td>\n      <td>129.479996</td>\n      <td>130.210007</td>\n      <td>130.210007</td>\n      <td>78973300</td>\n    </tr>\n    <tr>\n      <th>26</th>\n      <td>5/10/2021</td>\n      <td>129.410004</td>\n      <td>129.539993</td>\n      <td>126.809998</td>\n      <td>126.849998</td>\n      <td>126.849998</td>\n      <td>88071200</td>\n    </tr>\n    <tr>\n      <th>27</th>\n      <td>5/11/2021</td>\n      <td>123.500000</td>\n      <td>126.269997</td>\n      <td>122.769997</td>\n      <td>125.910004</td>\n      <td>125.910004</td>\n      <td>126142800</td>\n    </tr>\n    <tr>\n      <th>28</th>\n      <td>5/12/2021</td>\n      <td>123.400002</td>\n      <td>124.639999</td>\n      <td>122.250000</td>\n      <td>122.769997</td>\n      <td>122.769997</td>\n      <td>112172300</td>\n    </tr>\n    <tr>\n      <th>29</th>\n      <td>5/13/2021</td>\n      <td>124.580002</td>\n      <td>126.150002</td>\n      <td>124.260002</td>\n      <td>124.970001</td>\n      <td>124.970001</td>\n      <td>105861300</td>\n    </tr>\n    <tr>\n      <th>30</th>\n      <td>5/14/2021</td>\n      <td>126.250000</td>\n      <td>127.889999</td>\n      <td>125.849998</td>\n      <td>127.449997</td>\n      <td>127.449997</td>\n      <td>81918000</td>\n    </tr>\n    <tr>\n      <th>31</th>\n      <td>5/17/2021</td>\n      <td>126.820000</td>\n      <td>126.930000</td>\n      <td>125.169998</td>\n      <td>126.269997</td>\n      <td>126.269997</td>\n      <td>74244600</td>\n    </tr>\n    <tr>\n      <th>32</th>\n      <td>5/18/2021</td>\n      <td>126.559998</td>\n      <td>126.989998</td>\n      <td>124.779999</td>\n      <td>124.849998</td>\n      <td>124.849998</td>\n      <td>63342900</td>\n    </tr>\n    <tr>\n      <th>33</th>\n      <td>5/19/2021</td>\n      <td>123.160004</td>\n      <td>124.919998</td>\n      <td>122.860001</td>\n      <td>124.690002</td>\n      <td>124.690002</td>\n      <td>92612000</td>\n    </tr>\n    <tr>\n      <th>34</th>\n      <td>5/20/2021</td>\n      <td>125.230003</td>\n      <td>127.720001</td>\n      <td>125.099998</td>\n      <td>127.309998</td>\n      <td>127.309998</td>\n      <td>76857100</td>\n    </tr>\n    <tr>\n      <th>35</th>\n      <td>5/21/2021</td>\n      <td>127.820000</td>\n      <td>128.000000</td>\n      <td>125.209999</td>\n      <td>125.430000</td>\n      <td>125.430000</td>\n      <td>79295400</td>\n    </tr>\n    <tr>\n      <th>36</th>\n      <td>5/24/2021</td>\n      <td>126.010002</td>\n      <td>127.940002</td>\n      <td>125.940002</td>\n      <td>127.099998</td>\n      <td>127.099998</td>\n      <td>63092900</td>\n    </tr>\n    <tr>\n      <th>37</th>\n      <td>5/25/2021</td>\n      <td>127.820000</td>\n      <td>128.320007</td>\n      <td>126.320000</td>\n      <td>126.900002</td>\n      <td>126.900002</td>\n      <td>72009500</td>\n    </tr>\n    <tr>\n      <th>38</th>\n      <td>5/26/2021</td>\n      <td>126.959999</td>\n      <td>127.389999</td>\n      <td>126.419998</td>\n      <td>126.849998</td>\n      <td>126.849998</td>\n      <td>56575900</td>\n    </tr>\n    <tr>\n      <th>39</th>\n      <td>5/27/2021</td>\n      <td>126.440002</td>\n      <td>127.639999</td>\n      <td>125.080002</td>\n      <td>125.279999</td>\n      <td>125.279999</td>\n      <td>94625600</td>\n    </tr>\n    <tr>\n      <th>40</th>\n      <td>5/28/2021</td>\n      <td>125.570000</td>\n      <td>125.800003</td>\n      <td>124.550003</td>\n      <td>124.610001</td>\n      <td>124.610001</td>\n      <td>71311100</td>\n    </tr>\n    <tr>\n      <th>41</th>\n      <td>6/1/2021</td>\n      <td>125.080002</td>\n      <td>125.349998</td>\n      <td>123.940002</td>\n      <td>124.279999</td>\n      <td>124.279999</td>\n      <td>67637100</td>\n    </tr>\n    <tr>\n      <th>42</th>\n      <td>6/2/2021</td>\n      <td>124.279999</td>\n      <td>125.239998</td>\n      <td>124.050003</td>\n      <td>125.059998</td>\n      <td>125.059998</td>\n      <td>59278900</td>\n    </tr>\n    <tr>\n      <th>43</th>\n      <td>6/3/2021</td>\n      <td>124.680000</td>\n      <td>124.849998</td>\n      <td>123.129997</td>\n      <td>123.540001</td>\n      <td>123.540001</td>\n      <td>76229200</td>\n    </tr>\n    <tr>\n      <th>44</th>\n      <td>6/4/2021</td>\n      <td>124.070000</td>\n      <td>126.160004</td>\n      <td>123.849998</td>\n      <td>125.889999</td>\n      <td>125.889999</td>\n      <td>75169300</td>\n    </tr>\n    <tr>\n      <th>45</th>\n      <td>6/7/2021</td>\n      <td>126.169998</td>\n      <td>126.320000</td>\n      <td>124.830002</td>\n      <td>125.900002</td>\n      <td>125.900002</td>\n      <td>71057600</td>\n    </tr>\n    <tr>\n      <th>46</th>\n      <td>6/8/2021</td>\n      <td>126.599998</td>\n      <td>128.460007</td>\n      <td>126.209999</td>\n      <td>126.739998</td>\n      <td>126.739998</td>\n      <td>74403800</td>\n    </tr>\n    <tr>\n      <th>47</th>\n      <td>6/9/2021</td>\n      <td>127.209999</td>\n      <td>127.750000</td>\n      <td>126.519997</td>\n      <td>127.129997</td>\n      <td>127.129997</td>\n      <td>56877900</td>\n    </tr>\n    <tr>\n      <th>48</th>\n      <td>6/10/2021</td>\n      <td>127.019997</td>\n      <td>128.190002</td>\n      <td>125.940002</td>\n      <td>126.110001</td>\n      <td>126.110001</td>\n      <td>71186400</td>\n    </tr>\n    <tr>\n      <th>49</th>\n      <td>6/11/2021</td>\n      <td>126.529999</td>\n      <td>127.440002</td>\n      <td>126.099998</td>\n      <td>127.349998</td>\n      <td>127.349998</td>\n      <td>53522400</td>\n    </tr>\n    <tr>\n      <th>50</th>\n      <td>6/14/2021</td>\n      <td>127.820000</td>\n      <td>130.539993</td>\n      <td>127.070000</td>\n      <td>130.479996</td>\n      <td>130.479996</td>\n      <td>96906500</td>\n    </tr>\n    <tr>\n      <th>51</th>\n      <td>6/15/2021</td>\n      <td>129.940002</td>\n      <td>130.600006</td>\n      <td>129.389999</td>\n      <td>129.639999</td>\n      <td>129.639999</td>\n      <td>62746300</td>\n    </tr>\n    <tr>\n      <th>52</th>\n      <td>6/16/2021</td>\n      <td>130.369995</td>\n      <td>130.889999</td>\n      <td>128.460007</td>\n      <td>130.149994</td>\n      <td>130.149994</td>\n      <td>91815000</td>\n    </tr>\n    <tr>\n      <th>53</th>\n      <td>6/17/2021</td>\n      <td>129.800003</td>\n      <td>132.550003</td>\n      <td>129.649994</td>\n      <td>131.789993</td>\n      <td>131.789993</td>\n      <td>96721700</td>\n    </tr>\n    <tr>\n      <th>54</th>\n      <td>6/18/2021</td>\n      <td>130.710007</td>\n      <td>131.509995</td>\n      <td>130.240005</td>\n      <td>130.460007</td>\n      <td>130.460007</td>\n      <td>108953300</td>\n    </tr>\n    <tr>\n      <th>55</th>\n      <td>6/21/2021</td>\n      <td>130.300003</td>\n      <td>132.410004</td>\n      <td>129.210007</td>\n      <td>132.300003</td>\n      <td>132.300003</td>\n      <td>79663300</td>\n    </tr>\n    <tr>\n      <th>56</th>\n      <td>6/22/2021</td>\n      <td>132.130005</td>\n      <td>134.080002</td>\n      <td>131.619995</td>\n      <td>133.979996</td>\n      <td>133.979996</td>\n      <td>74783600</td>\n    </tr>\n    <tr>\n      <th>57</th>\n      <td>6/23/2021</td>\n      <td>133.770004</td>\n      <td>134.320007</td>\n      <td>133.229996</td>\n      <td>133.699997</td>\n      <td>133.699997</td>\n      <td>60214200</td>\n    </tr>\n    <tr>\n      <th>58</th>\n      <td>6/24/2021</td>\n      <td>134.449997</td>\n      <td>134.639999</td>\n      <td>132.929993</td>\n      <td>133.410004</td>\n      <td>133.410004</td>\n      <td>68711000</td>\n    </tr>\n    <tr>\n      <th>59</th>\n      <td>6/25/2021</td>\n      <td>133.460007</td>\n      <td>133.889999</td>\n      <td>132.809998</td>\n      <td>133.110001</td>\n      <td>133.110001</td>\n      <td>70783700</td>\n    </tr>\n    <tr>\n      <th>60</th>\n      <td>6/28/2021</td>\n      <td>133.410004</td>\n      <td>135.250000</td>\n      <td>133.350006</td>\n      <td>134.779999</td>\n      <td>134.779999</td>\n      <td>62111300</td>\n    </tr>\n    <tr>\n      <th>61</th>\n      <td>6/29/2021</td>\n      <td>134.800003</td>\n      <td>136.490005</td>\n      <td>134.350006</td>\n      <td>136.330002</td>\n      <td>136.330002</td>\n      <td>64556100</td>\n    </tr>\n    <tr>\n      <th>62</th>\n      <td>6/30/2021</td>\n      <td>136.169998</td>\n      <td>137.410004</td>\n      <td>135.869995</td>\n      <td>136.960007</td>\n      <td>136.960007</td>\n      <td>63261400</td>\n    </tr>\n  </tbody>\n</table>\n</div>"
     },
     "execution_count": 364,
     "metadata": {},
     "output_type": "execute_result"
    }
   ],
   "source": [
    "#Import Apple stock data from csv file\n",
    "AppleStockdf = pd.read_csv(f\"{dataDir}AAPL.csv\")\n",
    "AppleStockdf"
   ],
   "metadata": {
    "collapsed": false,
    "pycharm": {
     "name": "#%%\n"
    }
   }
  },
  {
   "cell_type": "code",
   "execution_count": 365,
   "outputs": [
    {
     "data": {
      "text/plain": "         Date        Open        High         Low       Close   Adj Close  \\\n0    4/1/2021  123.660004  124.180000  122.489998  123.000000  122.791428   \n1    4/5/2021  123.870003  126.160004  123.070000  125.900002  125.686516   \n2    4/6/2021  126.500000  127.129997  125.650002  126.209999  125.995987   \n3    4/7/2021  125.830002  127.919998  125.139999  127.900002  127.683121   \n4    4/8/2021  128.949997  130.389999  128.520004  130.360001  130.138947   \n5    4/9/2021  129.800003  133.039993  129.470001  133.000000  132.774475   \n6   4/12/2021  132.520004  132.850006  130.630005  131.240005  131.017456   \n7   4/13/2021  132.440002  134.660004  131.929993  134.429993  134.202042   \n8   4/14/2021  134.940002  135.000000  131.660004  132.029999  131.806122   \n9   4/15/2021  133.820007  135.000000  133.639999  134.500000  134.271927   \n10  4/16/2021  134.300003  134.669998  133.279999  134.160004  133.932510   \n11  4/19/2021  133.509995  135.470001  133.339996  134.839996  134.611343   \n12  4/20/2021  135.020004  135.529999  131.809998  133.110001  132.884293   \n13  4/21/2021  132.360001  133.750000  131.300003  133.500000  133.273621   \n14  4/22/2021  133.039993  134.149994  131.410004  131.940002  131.716278   \n15  4/23/2021  132.160004  135.119995  132.160004  134.320007  134.092239   \n16  4/26/2021  134.830002  135.059998  133.559998  134.720001  134.491562   \n17  4/27/2021  135.009995  135.410004  134.110001  134.389999  134.162109   \n18  4/28/2021  134.309998  135.020004  133.080002  133.580002  133.353485   \n19  4/29/2021  136.470001  137.070007  132.449997  133.479996  133.253662   \n20  4/30/2021  131.779999  133.559998  131.070007  131.460007  131.237091   \n21   5/3/2021  132.039993  134.070007  131.830002  132.539993  132.315247   \n22   5/4/2021  131.190002  131.490005  126.699997  127.849998  127.633202   \n23   5/5/2021  129.199997  130.449997  127.970001  128.100006  127.882790   \n24   5/6/2021  127.889999  129.750000  127.129997  129.740005  129.520004   \n25   5/7/2021  130.850006  131.259995  129.479996  130.210007  130.210007   \n26  5/10/2021  129.410004  129.539993  126.809998  126.849998  126.849998   \n27  5/11/2021  123.500000  126.269997  122.769997  125.910004  125.910004   \n28  5/12/2021  123.400002  124.639999  122.250000  122.769997  122.769997   \n29  5/13/2021  124.580002  126.150002  124.260002  124.970001  124.970001   \n30  5/14/2021  126.250000  127.889999  125.849998  127.449997  127.449997   \n31  5/17/2021  126.820000  126.930000  125.169998  126.269997  126.269997   \n32  5/18/2021  126.559998  126.989998  124.779999  124.849998  124.849998   \n33  5/19/2021  123.160004  124.919998  122.860001  124.690002  124.690002   \n34  5/20/2021  125.230003  127.720001  125.099998  127.309998  127.309998   \n35  5/21/2021  127.820000  128.000000  125.209999  125.430000  125.430000   \n36  5/24/2021  126.010002  127.940002  125.940002  127.099998  127.099998   \n37  5/25/2021  127.820000  128.320007  126.320000  126.900002  126.900002   \n38  5/26/2021  126.959999  127.389999  126.419998  126.849998  126.849998   \n39  5/27/2021  126.440002  127.639999  125.080002  125.279999  125.279999   \n40  5/28/2021  125.570000  125.800003  124.550003  124.610001  124.610001   \n41   6/1/2021  125.080002  125.349998  123.940002  124.279999  124.279999   \n42   6/2/2021  124.279999  125.239998  124.050003  125.059998  125.059998   \n43   6/3/2021  124.680000  124.849998  123.129997  123.540001  123.540001   \n44   6/4/2021  124.070000  126.160004  123.849998  125.889999  125.889999   \n45   6/7/2021  126.169998  126.320000  124.830002  125.900002  125.900002   \n46   6/8/2021  126.599998  128.460007  126.209999  126.739998  126.739998   \n47   6/9/2021  127.209999  127.750000  126.519997  127.129997  127.129997   \n48  6/10/2021  127.019997  128.190002  125.940002  126.110001  126.110001   \n49  6/11/2021  126.529999  127.440002  126.099998  127.349998  127.349998   \n50  6/14/2021  127.820000  130.539993  127.070000  130.479996  130.479996   \n51  6/15/2021  129.940002  130.600006  129.389999  129.639999  129.639999   \n52  6/16/2021  130.369995  130.889999  128.460007  130.149994  130.149994   \n53  6/17/2021  129.800003  132.550003  129.649994  131.789993  131.789993   \n54  6/18/2021  130.710007  131.509995  130.240005  130.460007  130.460007   \n55  6/21/2021  130.300003  132.410004  129.210007  132.300003  132.300003   \n56  6/22/2021  132.130005  134.080002  131.619995  133.979996  133.979996   \n57  6/23/2021  133.770004  134.320007  133.229996  133.699997  133.699997   \n58  6/24/2021  134.449997  134.639999  132.929993  133.410004  133.410004   \n59  6/25/2021  133.460007  133.889999  132.809998  133.110001  133.110001   \n60  6/28/2021  133.410004  135.250000  133.350006  134.779999  134.779999   \n61  6/29/2021  134.800003  136.490005  134.350006  136.330002  136.330002   \n62  6/30/2021  136.169998  137.410004  135.869995  136.960007  136.960007   \n\n       Volume  Search Interest  isPartial  Interest Points Away From Mean  \\\n0    75089100               37      False                        8.730159   \n1    88651200               44      False                       15.730159   \n2    80171300               43      False                       14.730159   \n3    83466700               39      False                       10.730159   \n4    88844600                9      False                      -19.269841   \n5   106686700                7      False                      -21.269841   \n6    91420000               44      False                       15.730159   \n7    91266500               51      False                       22.730159   \n8    87222800               39      False                       10.730159   \n9    89347100                7      False                      -21.269841   \n10   84922400               51      False                       22.730159   \n11   94264200               46      False                       17.730159   \n12   94812300               44      False                       15.730159   \n13   68847100                5      False                      -23.269841   \n14   84566500               39      False                       10.730159   \n15   78657500               46      False                       17.730159   \n16   66905100               50      False                       21.730159   \n17   66015800                9      False                      -19.269841   \n18  107760100                5      False                      -23.269841   \n19  151101000               43      False                       14.730159   \n20  109839500               40      False                       11.730159   \n21   75135100               39      False                       10.730159   \n22  137564700               44      False                       15.730159   \n23   84000900               49      False                       20.730159   \n24   78128300               39      False                       10.730159   \n25   78973300                8      False                      -20.269841   \n26   88071200                9      False                      -19.269841   \n27  126142800               30      False                        1.730159   \n28  112172300               37      False                        8.730159   \n29  105861300               36      False                        7.730159   \n30   81918000                9      False                      -19.269841   \n31   74244600               35      False                        6.730159   \n32   63342900               29      False                        0.730159   \n33   92612000               27      False                       -1.269841   \n34   76857100                4      False                      -24.269841   \n35   79295400               25      False                       -3.269841   \n36   63092900               28      False                       -0.269841   \n37   72009500                8      False                      -20.269841   \n38   56575900                7      False                      -21.269841   \n39   94625600               33      False                        4.730159   \n40   71311100               32      False                        3.730159   \n41   67637100               30      False                        1.730159   \n42   59278900               28      False                       -0.269841   \n43   76229200               29      False                        0.730159   \n44   75169300                7      False                      -21.269841   \n45   71057600                3      False                      -25.269841   \n46   74403800               39      False                       10.730159   \n47   56877900               34      False                        5.730159   \n48   71186400               33      False                        4.730159   \n49   53522400               31      False                        2.730159   \n50   96906500               30      False                        1.730159   \n51   62746300                5      False                      -23.269841   \n52   91815000                4      False                      -24.269841   \n53   96721700               34      False                        5.730159   \n54  108953300               39      False                       10.730159   \n55   79663300               32      False                        3.730159   \n56   74783600               36      False                        7.730159   \n57   60214200               34      False                        5.730159   \n58   68711000                6      False                      -22.269841   \n59   70783700                4      False                      -24.269841   \n60   62111300               29      False                        0.730159   \n61   64556100               34      False                        5.730159   \n62   63261400               34      False                        5.730159   \n\n    Daily Price Range  Price Points Away from Mean  \\\n0            0.660004                    -6.568889   \n1           -2.029999                    -3.668887   \n2            0.290001                    -3.358890   \n3           -2.070000                    -1.668887   \n4           -1.410004                     0.791112   \n5           -3.199997                     3.431111   \n6            1.279999                     1.671116   \n7           -1.989991                     4.861104   \n8            2.910003                     2.461110   \n9           -0.679993                     4.931111   \n10           0.139999                     4.591115   \n11          -1.330001                     5.271107   \n12           1.910003                     3.541112   \n13          -1.139999                     3.931111   \n14           1.099991                     2.371113   \n15          -2.160003                     4.751118   \n16           0.110001                     5.151112   \n17           0.619996                     4.821110   \n18           0.729996                     4.011113   \n19           2.990005                     3.911107   \n20           0.319992                     1.891118   \n21          -0.500000                     2.971104   \n22           3.340004                    -1.718891   \n23           1.099991                    -1.468883   \n24          -1.850006                     0.171116   \n25           0.639999                     0.641118   \n26           2.560006                    -2.718891   \n27          -2.410004                    -3.658885   \n28           0.630005                    -6.798892   \n29          -0.389999                    -4.598888   \n30          -1.199997                    -2.118892   \n31           0.550003                    -3.298892   \n32           1.710000                    -4.718891   \n33          -1.529998                    -4.878887   \n34          -2.079995                    -2.258891   \n35           2.390000                    -4.138889   \n36          -1.089996                    -2.468891   \n37           0.919998                    -2.668887   \n38           0.110001                    -2.718891   \n39           1.160003                    -4.288890   \n40           0.959999                    -4.958888   \n41           0.800003                    -5.288890   \n42          -0.779999                    -4.508891   \n43           1.139999                    -6.028888   \n44          -1.819999                    -3.678890   \n45           0.269996                    -3.668887   \n46          -0.140000                    -2.828891   \n47           0.080002                    -2.438892   \n48           0.909996                    -3.458888   \n49          -0.819999                    -2.218891   \n50          -2.659996                     0.911107   \n51           0.300003                     0.071110   \n52           0.220001                     0.581105   \n53          -1.989990                     2.221104   \n54           0.250000                     0.891118   \n55          -2.000000                     2.731114   \n56          -1.849991                     4.411107   \n57           0.070007                     4.131108   \n58           1.039993                     3.841115   \n59           0.350006                     3.541112   \n60          -1.369995                     5.211110   \n61          -1.529999                     6.761113   \n62          -0.790009                     7.391118   \n\n    Search Interests Above Average  \n0                             True  \n1                             True  \n2                             True  \n3                             True  \n4                            False  \n5                            False  \n6                             True  \n7                             True  \n8                             True  \n9                            False  \n10                            True  \n11                            True  \n12                            True  \n13                           False  \n14                            True  \n15                            True  \n16                            True  \n17                           False  \n18                           False  \n19                            True  \n20                            True  \n21                            True  \n22                            True  \n23                            True  \n24                            True  \n25                           False  \n26                           False  \n27                            True  \n28                            True  \n29                            True  \n30                           False  \n31                            True  \n32                            True  \n33                           False  \n34                           False  \n35                           False  \n36                           False  \n37                           False  \n38                           False  \n39                            True  \n40                            True  \n41                            True  \n42                           False  \n43                            True  \n44                           False  \n45                           False  \n46                            True  \n47                            True  \n48                            True  \n49                            True  \n50                            True  \n51                           False  \n52                           False  \n53                            True  \n54                            True  \n55                            True  \n56                            True  \n57                            True  \n58                           False  \n59                           False  \n60                            True  \n61                            True  \n62                            True  ",
      "text/html": "<div>\n<style scoped>\n    .dataframe tbody tr th:only-of-type {\n        vertical-align: middle;\n    }\n\n    .dataframe tbody tr th {\n        vertical-align: top;\n    }\n\n    .dataframe thead th {\n        text-align: right;\n    }\n</style>\n<table border=\"1\" class=\"dataframe\">\n  <thead>\n    <tr style=\"text-align: right;\">\n      <th></th>\n      <th>Date</th>\n      <th>Open</th>\n      <th>High</th>\n      <th>Low</th>\n      <th>Close</th>\n      <th>Adj Close</th>\n      <th>Volume</th>\n      <th>Search Interest</th>\n      <th>isPartial</th>\n      <th>Interest Points Away From Mean</th>\n      <th>Daily Price Range</th>\n      <th>Price Points Away from Mean</th>\n      <th>Search Interests Above Average</th>\n    </tr>\n  </thead>\n  <tbody>\n    <tr>\n      <th>0</th>\n      <td>4/1/2021</td>\n      <td>123.660004</td>\n      <td>124.180000</td>\n      <td>122.489998</td>\n      <td>123.000000</td>\n      <td>122.791428</td>\n      <td>75089100</td>\n      <td>37</td>\n      <td>False</td>\n      <td>8.730159</td>\n      <td>0.660004</td>\n      <td>-6.568889</td>\n      <td>True</td>\n    </tr>\n    <tr>\n      <th>1</th>\n      <td>4/5/2021</td>\n      <td>123.870003</td>\n      <td>126.160004</td>\n      <td>123.070000</td>\n      <td>125.900002</td>\n      <td>125.686516</td>\n      <td>88651200</td>\n      <td>44</td>\n      <td>False</td>\n      <td>15.730159</td>\n      <td>-2.029999</td>\n      <td>-3.668887</td>\n      <td>True</td>\n    </tr>\n    <tr>\n      <th>2</th>\n      <td>4/6/2021</td>\n      <td>126.500000</td>\n      <td>127.129997</td>\n      <td>125.650002</td>\n      <td>126.209999</td>\n      <td>125.995987</td>\n      <td>80171300</td>\n      <td>43</td>\n      <td>False</td>\n      <td>14.730159</td>\n      <td>0.290001</td>\n      <td>-3.358890</td>\n      <td>True</td>\n    </tr>\n    <tr>\n      <th>3</th>\n      <td>4/7/2021</td>\n      <td>125.830002</td>\n      <td>127.919998</td>\n      <td>125.139999</td>\n      <td>127.900002</td>\n      <td>127.683121</td>\n      <td>83466700</td>\n      <td>39</td>\n      <td>False</td>\n      <td>10.730159</td>\n      <td>-2.070000</td>\n      <td>-1.668887</td>\n      <td>True</td>\n    </tr>\n    <tr>\n      <th>4</th>\n      <td>4/8/2021</td>\n      <td>128.949997</td>\n      <td>130.389999</td>\n      <td>128.520004</td>\n      <td>130.360001</td>\n      <td>130.138947</td>\n      <td>88844600</td>\n      <td>9</td>\n      <td>False</td>\n      <td>-19.269841</td>\n      <td>-1.410004</td>\n      <td>0.791112</td>\n      <td>False</td>\n    </tr>\n    <tr>\n      <th>5</th>\n      <td>4/9/2021</td>\n      <td>129.800003</td>\n      <td>133.039993</td>\n      <td>129.470001</td>\n      <td>133.000000</td>\n      <td>132.774475</td>\n      <td>106686700</td>\n      <td>7</td>\n      <td>False</td>\n      <td>-21.269841</td>\n      <td>-3.199997</td>\n      <td>3.431111</td>\n      <td>False</td>\n    </tr>\n    <tr>\n      <th>6</th>\n      <td>4/12/2021</td>\n      <td>132.520004</td>\n      <td>132.850006</td>\n      <td>130.630005</td>\n      <td>131.240005</td>\n      <td>131.017456</td>\n      <td>91420000</td>\n      <td>44</td>\n      <td>False</td>\n      <td>15.730159</td>\n      <td>1.279999</td>\n      <td>1.671116</td>\n      <td>True</td>\n    </tr>\n    <tr>\n      <th>7</th>\n      <td>4/13/2021</td>\n      <td>132.440002</td>\n      <td>134.660004</td>\n      <td>131.929993</td>\n      <td>134.429993</td>\n      <td>134.202042</td>\n      <td>91266500</td>\n      <td>51</td>\n      <td>False</td>\n      <td>22.730159</td>\n      <td>-1.989991</td>\n      <td>4.861104</td>\n      <td>True</td>\n    </tr>\n    <tr>\n      <th>8</th>\n      <td>4/14/2021</td>\n      <td>134.940002</td>\n      <td>135.000000</td>\n      <td>131.660004</td>\n      <td>132.029999</td>\n      <td>131.806122</td>\n      <td>87222800</td>\n      <td>39</td>\n      <td>False</td>\n      <td>10.730159</td>\n      <td>2.910003</td>\n      <td>2.461110</td>\n      <td>True</td>\n    </tr>\n    <tr>\n      <th>9</th>\n      <td>4/15/2021</td>\n      <td>133.820007</td>\n      <td>135.000000</td>\n      <td>133.639999</td>\n      <td>134.500000</td>\n      <td>134.271927</td>\n      <td>89347100</td>\n      <td>7</td>\n      <td>False</td>\n      <td>-21.269841</td>\n      <td>-0.679993</td>\n      <td>4.931111</td>\n      <td>False</td>\n    </tr>\n    <tr>\n      <th>10</th>\n      <td>4/16/2021</td>\n      <td>134.300003</td>\n      <td>134.669998</td>\n      <td>133.279999</td>\n      <td>134.160004</td>\n      <td>133.932510</td>\n      <td>84922400</td>\n      <td>51</td>\n      <td>False</td>\n      <td>22.730159</td>\n      <td>0.139999</td>\n      <td>4.591115</td>\n      <td>True</td>\n    </tr>\n    <tr>\n      <th>11</th>\n      <td>4/19/2021</td>\n      <td>133.509995</td>\n      <td>135.470001</td>\n      <td>133.339996</td>\n      <td>134.839996</td>\n      <td>134.611343</td>\n      <td>94264200</td>\n      <td>46</td>\n      <td>False</td>\n      <td>17.730159</td>\n      <td>-1.330001</td>\n      <td>5.271107</td>\n      <td>True</td>\n    </tr>\n    <tr>\n      <th>12</th>\n      <td>4/20/2021</td>\n      <td>135.020004</td>\n      <td>135.529999</td>\n      <td>131.809998</td>\n      <td>133.110001</td>\n      <td>132.884293</td>\n      <td>94812300</td>\n      <td>44</td>\n      <td>False</td>\n      <td>15.730159</td>\n      <td>1.910003</td>\n      <td>3.541112</td>\n      <td>True</td>\n    </tr>\n    <tr>\n      <th>13</th>\n      <td>4/21/2021</td>\n      <td>132.360001</td>\n      <td>133.750000</td>\n      <td>131.300003</td>\n      <td>133.500000</td>\n      <td>133.273621</td>\n      <td>68847100</td>\n      <td>5</td>\n      <td>False</td>\n      <td>-23.269841</td>\n      <td>-1.139999</td>\n      <td>3.931111</td>\n      <td>False</td>\n    </tr>\n    <tr>\n      <th>14</th>\n      <td>4/22/2021</td>\n      <td>133.039993</td>\n      <td>134.149994</td>\n      <td>131.410004</td>\n      <td>131.940002</td>\n      <td>131.716278</td>\n      <td>84566500</td>\n      <td>39</td>\n      <td>False</td>\n      <td>10.730159</td>\n      <td>1.099991</td>\n      <td>2.371113</td>\n      <td>True</td>\n    </tr>\n    <tr>\n      <th>15</th>\n      <td>4/23/2021</td>\n      <td>132.160004</td>\n      <td>135.119995</td>\n      <td>132.160004</td>\n      <td>134.320007</td>\n      <td>134.092239</td>\n      <td>78657500</td>\n      <td>46</td>\n      <td>False</td>\n      <td>17.730159</td>\n      <td>-2.160003</td>\n      <td>4.751118</td>\n      <td>True</td>\n    </tr>\n    <tr>\n      <th>16</th>\n      <td>4/26/2021</td>\n      <td>134.830002</td>\n      <td>135.059998</td>\n      <td>133.559998</td>\n      <td>134.720001</td>\n      <td>134.491562</td>\n      <td>66905100</td>\n      <td>50</td>\n      <td>False</td>\n      <td>21.730159</td>\n      <td>0.110001</td>\n      <td>5.151112</td>\n      <td>True</td>\n    </tr>\n    <tr>\n      <th>17</th>\n      <td>4/27/2021</td>\n      <td>135.009995</td>\n      <td>135.410004</td>\n      <td>134.110001</td>\n      <td>134.389999</td>\n      <td>134.162109</td>\n      <td>66015800</td>\n      <td>9</td>\n      <td>False</td>\n      <td>-19.269841</td>\n      <td>0.619996</td>\n      <td>4.821110</td>\n      <td>False</td>\n    </tr>\n    <tr>\n      <th>18</th>\n      <td>4/28/2021</td>\n      <td>134.309998</td>\n      <td>135.020004</td>\n      <td>133.080002</td>\n      <td>133.580002</td>\n      <td>133.353485</td>\n      <td>107760100</td>\n      <td>5</td>\n      <td>False</td>\n      <td>-23.269841</td>\n      <td>0.729996</td>\n      <td>4.011113</td>\n      <td>False</td>\n    </tr>\n    <tr>\n      <th>19</th>\n      <td>4/29/2021</td>\n      <td>136.470001</td>\n      <td>137.070007</td>\n      <td>132.449997</td>\n      <td>133.479996</td>\n      <td>133.253662</td>\n      <td>151101000</td>\n      <td>43</td>\n      <td>False</td>\n      <td>14.730159</td>\n      <td>2.990005</td>\n      <td>3.911107</td>\n      <td>True</td>\n    </tr>\n    <tr>\n      <th>20</th>\n      <td>4/30/2021</td>\n      <td>131.779999</td>\n      <td>133.559998</td>\n      <td>131.070007</td>\n      <td>131.460007</td>\n      <td>131.237091</td>\n      <td>109839500</td>\n      <td>40</td>\n      <td>False</td>\n      <td>11.730159</td>\n      <td>0.319992</td>\n      <td>1.891118</td>\n      <td>True</td>\n    </tr>\n    <tr>\n      <th>21</th>\n      <td>5/3/2021</td>\n      <td>132.039993</td>\n      <td>134.070007</td>\n      <td>131.830002</td>\n      <td>132.539993</td>\n      <td>132.315247</td>\n      <td>75135100</td>\n      <td>39</td>\n      <td>False</td>\n      <td>10.730159</td>\n      <td>-0.500000</td>\n      <td>2.971104</td>\n      <td>True</td>\n    </tr>\n    <tr>\n      <th>22</th>\n      <td>5/4/2021</td>\n      <td>131.190002</td>\n      <td>131.490005</td>\n      <td>126.699997</td>\n      <td>127.849998</td>\n      <td>127.633202</td>\n      <td>137564700</td>\n      <td>44</td>\n      <td>False</td>\n      <td>15.730159</td>\n      <td>3.340004</td>\n      <td>-1.718891</td>\n      <td>True</td>\n    </tr>\n    <tr>\n      <th>23</th>\n      <td>5/5/2021</td>\n      <td>129.199997</td>\n      <td>130.449997</td>\n      <td>127.970001</td>\n      <td>128.100006</td>\n      <td>127.882790</td>\n      <td>84000900</td>\n      <td>49</td>\n      <td>False</td>\n      <td>20.730159</td>\n      <td>1.099991</td>\n      <td>-1.468883</td>\n      <td>True</td>\n    </tr>\n    <tr>\n      <th>24</th>\n      <td>5/6/2021</td>\n      <td>127.889999</td>\n      <td>129.750000</td>\n      <td>127.129997</td>\n      <td>129.740005</td>\n      <td>129.520004</td>\n      <td>78128300</td>\n      <td>39</td>\n      <td>False</td>\n      <td>10.730159</td>\n      <td>-1.850006</td>\n      <td>0.171116</td>\n      <td>True</td>\n    </tr>\n    <tr>\n      <th>25</th>\n      <td>5/7/2021</td>\n      <td>130.850006</td>\n      <td>131.259995</td>\n      <td>129.479996</td>\n      <td>130.210007</td>\n      <td>130.210007</td>\n      <td>78973300</td>\n      <td>8</td>\n      <td>False</td>\n      <td>-20.269841</td>\n      <td>0.639999</td>\n      <td>0.641118</td>\n      <td>False</td>\n    </tr>\n    <tr>\n      <th>26</th>\n      <td>5/10/2021</td>\n      <td>129.410004</td>\n      <td>129.539993</td>\n      <td>126.809998</td>\n      <td>126.849998</td>\n      <td>126.849998</td>\n      <td>88071200</td>\n      <td>9</td>\n      <td>False</td>\n      <td>-19.269841</td>\n      <td>2.560006</td>\n      <td>-2.718891</td>\n      <td>False</td>\n    </tr>\n    <tr>\n      <th>27</th>\n      <td>5/11/2021</td>\n      <td>123.500000</td>\n      <td>126.269997</td>\n      <td>122.769997</td>\n      <td>125.910004</td>\n      <td>125.910004</td>\n      <td>126142800</td>\n      <td>30</td>\n      <td>False</td>\n      <td>1.730159</td>\n      <td>-2.410004</td>\n      <td>-3.658885</td>\n      <td>True</td>\n    </tr>\n    <tr>\n      <th>28</th>\n      <td>5/12/2021</td>\n      <td>123.400002</td>\n      <td>124.639999</td>\n      <td>122.250000</td>\n      <td>122.769997</td>\n      <td>122.769997</td>\n      <td>112172300</td>\n      <td>37</td>\n      <td>False</td>\n      <td>8.730159</td>\n      <td>0.630005</td>\n      <td>-6.798892</td>\n      <td>True</td>\n    </tr>\n    <tr>\n      <th>29</th>\n      <td>5/13/2021</td>\n      <td>124.580002</td>\n      <td>126.150002</td>\n      <td>124.260002</td>\n      <td>124.970001</td>\n      <td>124.970001</td>\n      <td>105861300</td>\n      <td>36</td>\n      <td>False</td>\n      <td>7.730159</td>\n      <td>-0.389999</td>\n      <td>-4.598888</td>\n      <td>True</td>\n    </tr>\n    <tr>\n      <th>30</th>\n      <td>5/14/2021</td>\n      <td>126.250000</td>\n      <td>127.889999</td>\n      <td>125.849998</td>\n      <td>127.449997</td>\n      <td>127.449997</td>\n      <td>81918000</td>\n      <td>9</td>\n      <td>False</td>\n      <td>-19.269841</td>\n      <td>-1.199997</td>\n      <td>-2.118892</td>\n      <td>False</td>\n    </tr>\n    <tr>\n      <th>31</th>\n      <td>5/17/2021</td>\n      <td>126.820000</td>\n      <td>126.930000</td>\n      <td>125.169998</td>\n      <td>126.269997</td>\n      <td>126.269997</td>\n      <td>74244600</td>\n      <td>35</td>\n      <td>False</td>\n      <td>6.730159</td>\n      <td>0.550003</td>\n      <td>-3.298892</td>\n      <td>True</td>\n    </tr>\n    <tr>\n      <th>32</th>\n      <td>5/18/2021</td>\n      <td>126.559998</td>\n      <td>126.989998</td>\n      <td>124.779999</td>\n      <td>124.849998</td>\n      <td>124.849998</td>\n      <td>63342900</td>\n      <td>29</td>\n      <td>False</td>\n      <td>0.730159</td>\n      <td>1.710000</td>\n      <td>-4.718891</td>\n      <td>True</td>\n    </tr>\n    <tr>\n      <th>33</th>\n      <td>5/19/2021</td>\n      <td>123.160004</td>\n      <td>124.919998</td>\n      <td>122.860001</td>\n      <td>124.690002</td>\n      <td>124.690002</td>\n      <td>92612000</td>\n      <td>27</td>\n      <td>False</td>\n      <td>-1.269841</td>\n      <td>-1.529998</td>\n      <td>-4.878887</td>\n      <td>False</td>\n    </tr>\n    <tr>\n      <th>34</th>\n      <td>5/20/2021</td>\n      <td>125.230003</td>\n      <td>127.720001</td>\n      <td>125.099998</td>\n      <td>127.309998</td>\n      <td>127.309998</td>\n      <td>76857100</td>\n      <td>4</td>\n      <td>False</td>\n      <td>-24.269841</td>\n      <td>-2.079995</td>\n      <td>-2.258891</td>\n      <td>False</td>\n    </tr>\n    <tr>\n      <th>35</th>\n      <td>5/21/2021</td>\n      <td>127.820000</td>\n      <td>128.000000</td>\n      <td>125.209999</td>\n      <td>125.430000</td>\n      <td>125.430000</td>\n      <td>79295400</td>\n      <td>25</td>\n      <td>False</td>\n      <td>-3.269841</td>\n      <td>2.390000</td>\n      <td>-4.138889</td>\n      <td>False</td>\n    </tr>\n    <tr>\n      <th>36</th>\n      <td>5/24/2021</td>\n      <td>126.010002</td>\n      <td>127.940002</td>\n      <td>125.940002</td>\n      <td>127.099998</td>\n      <td>127.099998</td>\n      <td>63092900</td>\n      <td>28</td>\n      <td>False</td>\n      <td>-0.269841</td>\n      <td>-1.089996</td>\n      <td>-2.468891</td>\n      <td>False</td>\n    </tr>\n    <tr>\n      <th>37</th>\n      <td>5/25/2021</td>\n      <td>127.820000</td>\n      <td>128.320007</td>\n      <td>126.320000</td>\n      <td>126.900002</td>\n      <td>126.900002</td>\n      <td>72009500</td>\n      <td>8</td>\n      <td>False</td>\n      <td>-20.269841</td>\n      <td>0.919998</td>\n      <td>-2.668887</td>\n      <td>False</td>\n    </tr>\n    <tr>\n      <th>38</th>\n      <td>5/26/2021</td>\n      <td>126.959999</td>\n      <td>127.389999</td>\n      <td>126.419998</td>\n      <td>126.849998</td>\n      <td>126.849998</td>\n      <td>56575900</td>\n      <td>7</td>\n      <td>False</td>\n      <td>-21.269841</td>\n      <td>0.110001</td>\n      <td>-2.718891</td>\n      <td>False</td>\n    </tr>\n    <tr>\n      <th>39</th>\n      <td>5/27/2021</td>\n      <td>126.440002</td>\n      <td>127.639999</td>\n      <td>125.080002</td>\n      <td>125.279999</td>\n      <td>125.279999</td>\n      <td>94625600</td>\n      <td>33</td>\n      <td>False</td>\n      <td>4.730159</td>\n      <td>1.160003</td>\n      <td>-4.288890</td>\n      <td>True</td>\n    </tr>\n    <tr>\n      <th>40</th>\n      <td>5/28/2021</td>\n      <td>125.570000</td>\n      <td>125.800003</td>\n      <td>124.550003</td>\n      <td>124.610001</td>\n      <td>124.610001</td>\n      <td>71311100</td>\n      <td>32</td>\n      <td>False</td>\n      <td>3.730159</td>\n      <td>0.959999</td>\n      <td>-4.958888</td>\n      <td>True</td>\n    </tr>\n    <tr>\n      <th>41</th>\n      <td>6/1/2021</td>\n      <td>125.080002</td>\n      <td>125.349998</td>\n      <td>123.940002</td>\n      <td>124.279999</td>\n      <td>124.279999</td>\n      <td>67637100</td>\n      <td>30</td>\n      <td>False</td>\n      <td>1.730159</td>\n      <td>0.800003</td>\n      <td>-5.288890</td>\n      <td>True</td>\n    </tr>\n    <tr>\n      <th>42</th>\n      <td>6/2/2021</td>\n      <td>124.279999</td>\n      <td>125.239998</td>\n      <td>124.050003</td>\n      <td>125.059998</td>\n      <td>125.059998</td>\n      <td>59278900</td>\n      <td>28</td>\n      <td>False</td>\n      <td>-0.269841</td>\n      <td>-0.779999</td>\n      <td>-4.508891</td>\n      <td>False</td>\n    </tr>\n    <tr>\n      <th>43</th>\n      <td>6/3/2021</td>\n      <td>124.680000</td>\n      <td>124.849998</td>\n      <td>123.129997</td>\n      <td>123.540001</td>\n      <td>123.540001</td>\n      <td>76229200</td>\n      <td>29</td>\n      <td>False</td>\n      <td>0.730159</td>\n      <td>1.139999</td>\n      <td>-6.028888</td>\n      <td>True</td>\n    </tr>\n    <tr>\n      <th>44</th>\n      <td>6/4/2021</td>\n      <td>124.070000</td>\n      <td>126.160004</td>\n      <td>123.849998</td>\n      <td>125.889999</td>\n      <td>125.889999</td>\n      <td>75169300</td>\n      <td>7</td>\n      <td>False</td>\n      <td>-21.269841</td>\n      <td>-1.819999</td>\n      <td>-3.678890</td>\n      <td>False</td>\n    </tr>\n    <tr>\n      <th>45</th>\n      <td>6/7/2021</td>\n      <td>126.169998</td>\n      <td>126.320000</td>\n      <td>124.830002</td>\n      <td>125.900002</td>\n      <td>125.900002</td>\n      <td>71057600</td>\n      <td>3</td>\n      <td>False</td>\n      <td>-25.269841</td>\n      <td>0.269996</td>\n      <td>-3.668887</td>\n      <td>False</td>\n    </tr>\n    <tr>\n      <th>46</th>\n      <td>6/8/2021</td>\n      <td>126.599998</td>\n      <td>128.460007</td>\n      <td>126.209999</td>\n      <td>126.739998</td>\n      <td>126.739998</td>\n      <td>74403800</td>\n      <td>39</td>\n      <td>False</td>\n      <td>10.730159</td>\n      <td>-0.140000</td>\n      <td>-2.828891</td>\n      <td>True</td>\n    </tr>\n    <tr>\n      <th>47</th>\n      <td>6/9/2021</td>\n      <td>127.209999</td>\n      <td>127.750000</td>\n      <td>126.519997</td>\n      <td>127.129997</td>\n      <td>127.129997</td>\n      <td>56877900</td>\n      <td>34</td>\n      <td>False</td>\n      <td>5.730159</td>\n      <td>0.080002</td>\n      <td>-2.438892</td>\n      <td>True</td>\n    </tr>\n    <tr>\n      <th>48</th>\n      <td>6/10/2021</td>\n      <td>127.019997</td>\n      <td>128.190002</td>\n      <td>125.940002</td>\n      <td>126.110001</td>\n      <td>126.110001</td>\n      <td>71186400</td>\n      <td>33</td>\n      <td>False</td>\n      <td>4.730159</td>\n      <td>0.909996</td>\n      <td>-3.458888</td>\n      <td>True</td>\n    </tr>\n    <tr>\n      <th>49</th>\n      <td>6/11/2021</td>\n      <td>126.529999</td>\n      <td>127.440002</td>\n      <td>126.099998</td>\n      <td>127.349998</td>\n      <td>127.349998</td>\n      <td>53522400</td>\n      <td>31</td>\n      <td>False</td>\n      <td>2.730159</td>\n      <td>-0.819999</td>\n      <td>-2.218891</td>\n      <td>True</td>\n    </tr>\n    <tr>\n      <th>50</th>\n      <td>6/14/2021</td>\n      <td>127.820000</td>\n      <td>130.539993</td>\n      <td>127.070000</td>\n      <td>130.479996</td>\n      <td>130.479996</td>\n      <td>96906500</td>\n      <td>30</td>\n      <td>False</td>\n      <td>1.730159</td>\n      <td>-2.659996</td>\n      <td>0.911107</td>\n      <td>True</td>\n    </tr>\n    <tr>\n      <th>51</th>\n      <td>6/15/2021</td>\n      <td>129.940002</td>\n      <td>130.600006</td>\n      <td>129.389999</td>\n      <td>129.639999</td>\n      <td>129.639999</td>\n      <td>62746300</td>\n      <td>5</td>\n      <td>False</td>\n      <td>-23.269841</td>\n      <td>0.300003</td>\n      <td>0.071110</td>\n      <td>False</td>\n    </tr>\n    <tr>\n      <th>52</th>\n      <td>6/16/2021</td>\n      <td>130.369995</td>\n      <td>130.889999</td>\n      <td>128.460007</td>\n      <td>130.149994</td>\n      <td>130.149994</td>\n      <td>91815000</td>\n      <td>4</td>\n      <td>False</td>\n      <td>-24.269841</td>\n      <td>0.220001</td>\n      <td>0.581105</td>\n      <td>False</td>\n    </tr>\n    <tr>\n      <th>53</th>\n      <td>6/17/2021</td>\n      <td>129.800003</td>\n      <td>132.550003</td>\n      <td>129.649994</td>\n      <td>131.789993</td>\n      <td>131.789993</td>\n      <td>96721700</td>\n      <td>34</td>\n      <td>False</td>\n      <td>5.730159</td>\n      <td>-1.989990</td>\n      <td>2.221104</td>\n      <td>True</td>\n    </tr>\n    <tr>\n      <th>54</th>\n      <td>6/18/2021</td>\n      <td>130.710007</td>\n      <td>131.509995</td>\n      <td>130.240005</td>\n      <td>130.460007</td>\n      <td>130.460007</td>\n      <td>108953300</td>\n      <td>39</td>\n      <td>False</td>\n      <td>10.730159</td>\n      <td>0.250000</td>\n      <td>0.891118</td>\n      <td>True</td>\n    </tr>\n    <tr>\n      <th>55</th>\n      <td>6/21/2021</td>\n      <td>130.300003</td>\n      <td>132.410004</td>\n      <td>129.210007</td>\n      <td>132.300003</td>\n      <td>132.300003</td>\n      <td>79663300</td>\n      <td>32</td>\n      <td>False</td>\n      <td>3.730159</td>\n      <td>-2.000000</td>\n      <td>2.731114</td>\n      <td>True</td>\n    </tr>\n    <tr>\n      <th>56</th>\n      <td>6/22/2021</td>\n      <td>132.130005</td>\n      <td>134.080002</td>\n      <td>131.619995</td>\n      <td>133.979996</td>\n      <td>133.979996</td>\n      <td>74783600</td>\n      <td>36</td>\n      <td>False</td>\n      <td>7.730159</td>\n      <td>-1.849991</td>\n      <td>4.411107</td>\n      <td>True</td>\n    </tr>\n    <tr>\n      <th>57</th>\n      <td>6/23/2021</td>\n      <td>133.770004</td>\n      <td>134.320007</td>\n      <td>133.229996</td>\n      <td>133.699997</td>\n      <td>133.699997</td>\n      <td>60214200</td>\n      <td>34</td>\n      <td>False</td>\n      <td>5.730159</td>\n      <td>0.070007</td>\n      <td>4.131108</td>\n      <td>True</td>\n    </tr>\n    <tr>\n      <th>58</th>\n      <td>6/24/2021</td>\n      <td>134.449997</td>\n      <td>134.639999</td>\n      <td>132.929993</td>\n      <td>133.410004</td>\n      <td>133.410004</td>\n      <td>68711000</td>\n      <td>6</td>\n      <td>False</td>\n      <td>-22.269841</td>\n      <td>1.039993</td>\n      <td>3.841115</td>\n      <td>False</td>\n    </tr>\n    <tr>\n      <th>59</th>\n      <td>6/25/2021</td>\n      <td>133.460007</td>\n      <td>133.889999</td>\n      <td>132.809998</td>\n      <td>133.110001</td>\n      <td>133.110001</td>\n      <td>70783700</td>\n      <td>4</td>\n      <td>False</td>\n      <td>-24.269841</td>\n      <td>0.350006</td>\n      <td>3.541112</td>\n      <td>False</td>\n    </tr>\n    <tr>\n      <th>60</th>\n      <td>6/28/2021</td>\n      <td>133.410004</td>\n      <td>135.250000</td>\n      <td>133.350006</td>\n      <td>134.779999</td>\n      <td>134.779999</td>\n      <td>62111300</td>\n      <td>29</td>\n      <td>False</td>\n      <td>0.730159</td>\n      <td>-1.369995</td>\n      <td>5.211110</td>\n      <td>True</td>\n    </tr>\n    <tr>\n      <th>61</th>\n      <td>6/29/2021</td>\n      <td>134.800003</td>\n      <td>136.490005</td>\n      <td>134.350006</td>\n      <td>136.330002</td>\n      <td>136.330002</td>\n      <td>64556100</td>\n      <td>34</td>\n      <td>False</td>\n      <td>5.730159</td>\n      <td>-1.529999</td>\n      <td>6.761113</td>\n      <td>True</td>\n    </tr>\n    <tr>\n      <th>62</th>\n      <td>6/30/2021</td>\n      <td>136.169998</td>\n      <td>137.410004</td>\n      <td>135.869995</td>\n      <td>136.960007</td>\n      <td>136.960007</td>\n      <td>63261400</td>\n      <td>34</td>\n      <td>False</td>\n      <td>5.730159</td>\n      <td>-0.790009</td>\n      <td>7.391118</td>\n      <td>True</td>\n    </tr>\n  </tbody>\n</table>\n</div>"
     },
     "execution_count": 365,
     "metadata": {},
     "output_type": "execute_result"
    }
   ],
   "source": [
    "# Resets the index for the AppleTrends data frame and merges with the Apple stock data for the same time frame\n",
    "AppleTrendsdf.reset_index(inplace=True, drop=True)\n",
    "MergedStockApple = pd.concat([AppleStockdf, AppleTrendsdf], axis=1)\n",
    "\n",
    "\n",
    "# Adds columns to determine search interest and price that is above average for the day of trading.\n",
    "MeanSearchInterest = AppleTrendsdf[\"Search Interest\"].mean()\n",
    "MeanPrice = MergedStockApple[\"Close\"].mean()\n",
    "MergedStockApple[\"Interest Points Away From Mean\"] = MergedStockApple[\"Search Interest\"] - MeanSearchInterest\n",
    "MergedStockApple[\"Daily Price Range\"] = MergedStockApple[\"Open\"] - MergedStockApple[\"Close\"]\n",
    "MergedStockApple[\"Price Points Away from Mean\"] =  MergedStockApple[\"Close\"] - MeanPrice\n",
    "MergedStockApple[\"Search Interests Above Average\"] = MergedStockApple[\"Interest Points Away From Mean\"] > 0.0\n",
    "MergedStockApple"
   ],
   "metadata": {
    "collapsed": false,
    "pycharm": {
     "name": "#%%\n"
    }
   }
  },
  {
   "cell_type": "code",
   "execution_count": 366,
   "outputs": [
    {
     "name": "stdout",
     "output_type": "stream",
     "text": [
      "<class 'pandas.core.frame.DataFrame'>\n",
      "RangeIndex: 63 entries, 0 to 62\n",
      "Data columns (total 11 columns):\n",
      " #   Column                          Non-Null Count  Dtype  \n",
      "---  ------                          --------------  -----  \n",
      " 0   Open                            63 non-null     float64\n",
      " 1   High                            63 non-null     float64\n",
      " 2   Low                             63 non-null     float64\n",
      " 3   Close                           63 non-null     float64\n",
      " 4   Adj Close                       63 non-null     float64\n",
      " 5   Volume                          63 non-null     int64  \n",
      " 6   Search Interest                 63 non-null     int64  \n",
      " 7   Interest Points Away From Mean  63 non-null     float64\n",
      " 8   Daily Price Range               63 non-null     float64\n",
      " 9   Price Points Away from Mean     63 non-null     float64\n",
      " 10  True                            63 non-null     uint8  \n",
      "dtypes: float64(8), int64(2), uint8(1)\n",
      "memory usage: 5.1 KB\n"
     ]
    }
   ],
   "source": [
    "# This is changing the boolean types to categorical and dropping the primary as it is implied.  Info function shows no objects or boolean types\n",
    "categories = \"Search Interests Above Average\"\n",
    "MergedStockApple = pd.concat(\n",
    "    [MergedStockApple.drop(categories, axis=1), createCategoricalDummies(MergedStockApple, categories)], axis= 1)\n",
    "MergedStockApple.drop([\"Date\", \"isPartial\"], axis=1, inplace=True)\n",
    "MergedStockApple.info()"
   ],
   "metadata": {
    "collapsed": false,
    "pycharm": {
     "name": "#%%\n"
    }
   }
  },
  {
   "cell_type": "code",
   "execution_count": 367,
   "outputs": [
    {
     "data": {
      "text/plain": "    Search Interest         Low        High        Open\n0                37  122.489998  124.180000  123.660004\n1                44  123.070000  126.160004  123.870003\n2                43  125.650002  127.129997  126.500000\n3                39  125.139999  127.919998  125.830002\n4                 9  128.520004  130.389999  128.949997\n5                 7  129.470001  133.039993  129.800003\n6                44  130.630005  132.850006  132.520004\n7                51  131.929993  134.660004  132.440002\n8                39  131.660004  135.000000  134.940002\n9                 7  133.639999  135.000000  133.820007\n10               51  133.279999  134.669998  134.300003\n11               46  133.339996  135.470001  133.509995\n12               44  131.809998  135.529999  135.020004\n13                5  131.300003  133.750000  132.360001\n14               39  131.410004  134.149994  133.039993\n15               46  132.160004  135.119995  132.160004\n16               50  133.559998  135.059998  134.830002\n17                9  134.110001  135.410004  135.009995\n18                5  133.080002  135.020004  134.309998\n19               43  132.449997  137.070007  136.470001\n20               40  131.070007  133.559998  131.779999\n21               39  131.830002  134.070007  132.039993\n22               44  126.699997  131.490005  131.190002\n23               49  127.970001  130.449997  129.199997\n24               39  127.129997  129.750000  127.889999\n25                8  129.479996  131.259995  130.850006\n26                9  126.809998  129.539993  129.410004\n27               30  122.769997  126.269997  123.500000\n28               37  122.250000  124.639999  123.400002\n29               36  124.260002  126.150002  124.580002\n30                9  125.849998  127.889999  126.250000\n31               35  125.169998  126.930000  126.820000\n32               29  124.779999  126.989998  126.559998\n33               27  122.860001  124.919998  123.160004\n34                4  125.099998  127.720001  125.230003\n35               25  125.209999  128.000000  127.820000\n36               28  125.940002  127.940002  126.010002\n37                8  126.320000  128.320007  127.820000\n38                7  126.419998  127.389999  126.959999\n39               33  125.080002  127.639999  126.440002\n40               32  124.550003  125.800003  125.570000\n41               30  123.940002  125.349998  125.080002\n42               28  124.050003  125.239998  124.279999\n43               29  123.129997  124.849998  124.680000\n44                7  123.849998  126.160004  124.070000\n45                3  124.830002  126.320000  126.169998\n46               39  126.209999  128.460007  126.599998\n47               34  126.519997  127.750000  127.209999\n48               33  125.940002  128.190002  127.019997\n49               31  126.099998  127.440002  126.529999\n50               30  127.070000  130.539993  127.820000\n51                5  129.389999  130.600006  129.940002\n52                4  128.460007  130.889999  130.369995\n53               34  129.649994  132.550003  129.800003\n54               39  130.240005  131.509995  130.710007\n55               32  129.210007  132.410004  130.300003\n56               36  131.619995  134.080002  132.130005\n57               34  133.229996  134.320007  133.770004\n58                6  132.929993  134.639999  134.449997\n59                4  132.809998  133.889999  133.460007\n60               29  133.350006  135.250000  133.410004\n61               34  134.350006  136.490005  134.800003\n62               34  135.869995  137.410004  136.169998",
      "text/html": "<div>\n<style scoped>\n    .dataframe tbody tr th:only-of-type {\n        vertical-align: middle;\n    }\n\n    .dataframe tbody tr th {\n        vertical-align: top;\n    }\n\n    .dataframe thead th {\n        text-align: right;\n    }\n</style>\n<table border=\"1\" class=\"dataframe\">\n  <thead>\n    <tr style=\"text-align: right;\">\n      <th></th>\n      <th>Search Interest</th>\n      <th>Low</th>\n      <th>High</th>\n      <th>Open</th>\n    </tr>\n  </thead>\n  <tbody>\n    <tr>\n      <th>0</th>\n      <td>37</td>\n      <td>122.489998</td>\n      <td>124.180000</td>\n      <td>123.660004</td>\n    </tr>\n    <tr>\n      <th>1</th>\n      <td>44</td>\n      <td>123.070000</td>\n      <td>126.160004</td>\n      <td>123.870003</td>\n    </tr>\n    <tr>\n      <th>2</th>\n      <td>43</td>\n      <td>125.650002</td>\n      <td>127.129997</td>\n      <td>126.500000</td>\n    </tr>\n    <tr>\n      <th>3</th>\n      <td>39</td>\n      <td>125.139999</td>\n      <td>127.919998</td>\n      <td>125.830002</td>\n    </tr>\n    <tr>\n      <th>4</th>\n      <td>9</td>\n      <td>128.520004</td>\n      <td>130.389999</td>\n      <td>128.949997</td>\n    </tr>\n    <tr>\n      <th>5</th>\n      <td>7</td>\n      <td>129.470001</td>\n      <td>133.039993</td>\n      <td>129.800003</td>\n    </tr>\n    <tr>\n      <th>6</th>\n      <td>44</td>\n      <td>130.630005</td>\n      <td>132.850006</td>\n      <td>132.520004</td>\n    </tr>\n    <tr>\n      <th>7</th>\n      <td>51</td>\n      <td>131.929993</td>\n      <td>134.660004</td>\n      <td>132.440002</td>\n    </tr>\n    <tr>\n      <th>8</th>\n      <td>39</td>\n      <td>131.660004</td>\n      <td>135.000000</td>\n      <td>134.940002</td>\n    </tr>\n    <tr>\n      <th>9</th>\n      <td>7</td>\n      <td>133.639999</td>\n      <td>135.000000</td>\n      <td>133.820007</td>\n    </tr>\n    <tr>\n      <th>10</th>\n      <td>51</td>\n      <td>133.279999</td>\n      <td>134.669998</td>\n      <td>134.300003</td>\n    </tr>\n    <tr>\n      <th>11</th>\n      <td>46</td>\n      <td>133.339996</td>\n      <td>135.470001</td>\n      <td>133.509995</td>\n    </tr>\n    <tr>\n      <th>12</th>\n      <td>44</td>\n      <td>131.809998</td>\n      <td>135.529999</td>\n      <td>135.020004</td>\n    </tr>\n    <tr>\n      <th>13</th>\n      <td>5</td>\n      <td>131.300003</td>\n      <td>133.750000</td>\n      <td>132.360001</td>\n    </tr>\n    <tr>\n      <th>14</th>\n      <td>39</td>\n      <td>131.410004</td>\n      <td>134.149994</td>\n      <td>133.039993</td>\n    </tr>\n    <tr>\n      <th>15</th>\n      <td>46</td>\n      <td>132.160004</td>\n      <td>135.119995</td>\n      <td>132.160004</td>\n    </tr>\n    <tr>\n      <th>16</th>\n      <td>50</td>\n      <td>133.559998</td>\n      <td>135.059998</td>\n      <td>134.830002</td>\n    </tr>\n    <tr>\n      <th>17</th>\n      <td>9</td>\n      <td>134.110001</td>\n      <td>135.410004</td>\n      <td>135.009995</td>\n    </tr>\n    <tr>\n      <th>18</th>\n      <td>5</td>\n      <td>133.080002</td>\n      <td>135.020004</td>\n      <td>134.309998</td>\n    </tr>\n    <tr>\n      <th>19</th>\n      <td>43</td>\n      <td>132.449997</td>\n      <td>137.070007</td>\n      <td>136.470001</td>\n    </tr>\n    <tr>\n      <th>20</th>\n      <td>40</td>\n      <td>131.070007</td>\n      <td>133.559998</td>\n      <td>131.779999</td>\n    </tr>\n    <tr>\n      <th>21</th>\n      <td>39</td>\n      <td>131.830002</td>\n      <td>134.070007</td>\n      <td>132.039993</td>\n    </tr>\n    <tr>\n      <th>22</th>\n      <td>44</td>\n      <td>126.699997</td>\n      <td>131.490005</td>\n      <td>131.190002</td>\n    </tr>\n    <tr>\n      <th>23</th>\n      <td>49</td>\n      <td>127.970001</td>\n      <td>130.449997</td>\n      <td>129.199997</td>\n    </tr>\n    <tr>\n      <th>24</th>\n      <td>39</td>\n      <td>127.129997</td>\n      <td>129.750000</td>\n      <td>127.889999</td>\n    </tr>\n    <tr>\n      <th>25</th>\n      <td>8</td>\n      <td>129.479996</td>\n      <td>131.259995</td>\n      <td>130.850006</td>\n    </tr>\n    <tr>\n      <th>26</th>\n      <td>9</td>\n      <td>126.809998</td>\n      <td>129.539993</td>\n      <td>129.410004</td>\n    </tr>\n    <tr>\n      <th>27</th>\n      <td>30</td>\n      <td>122.769997</td>\n      <td>126.269997</td>\n      <td>123.500000</td>\n    </tr>\n    <tr>\n      <th>28</th>\n      <td>37</td>\n      <td>122.250000</td>\n      <td>124.639999</td>\n      <td>123.400002</td>\n    </tr>\n    <tr>\n      <th>29</th>\n      <td>36</td>\n      <td>124.260002</td>\n      <td>126.150002</td>\n      <td>124.580002</td>\n    </tr>\n    <tr>\n      <th>30</th>\n      <td>9</td>\n      <td>125.849998</td>\n      <td>127.889999</td>\n      <td>126.250000</td>\n    </tr>\n    <tr>\n      <th>31</th>\n      <td>35</td>\n      <td>125.169998</td>\n      <td>126.930000</td>\n      <td>126.820000</td>\n    </tr>\n    <tr>\n      <th>32</th>\n      <td>29</td>\n      <td>124.779999</td>\n      <td>126.989998</td>\n      <td>126.559998</td>\n    </tr>\n    <tr>\n      <th>33</th>\n      <td>27</td>\n      <td>122.860001</td>\n      <td>124.919998</td>\n      <td>123.160004</td>\n    </tr>\n    <tr>\n      <th>34</th>\n      <td>4</td>\n      <td>125.099998</td>\n      <td>127.720001</td>\n      <td>125.230003</td>\n    </tr>\n    <tr>\n      <th>35</th>\n      <td>25</td>\n      <td>125.209999</td>\n      <td>128.000000</td>\n      <td>127.820000</td>\n    </tr>\n    <tr>\n      <th>36</th>\n      <td>28</td>\n      <td>125.940002</td>\n      <td>127.940002</td>\n      <td>126.010002</td>\n    </tr>\n    <tr>\n      <th>37</th>\n      <td>8</td>\n      <td>126.320000</td>\n      <td>128.320007</td>\n      <td>127.820000</td>\n    </tr>\n    <tr>\n      <th>38</th>\n      <td>7</td>\n      <td>126.419998</td>\n      <td>127.389999</td>\n      <td>126.959999</td>\n    </tr>\n    <tr>\n      <th>39</th>\n      <td>33</td>\n      <td>125.080002</td>\n      <td>127.639999</td>\n      <td>126.440002</td>\n    </tr>\n    <tr>\n      <th>40</th>\n      <td>32</td>\n      <td>124.550003</td>\n      <td>125.800003</td>\n      <td>125.570000</td>\n    </tr>\n    <tr>\n      <th>41</th>\n      <td>30</td>\n      <td>123.940002</td>\n      <td>125.349998</td>\n      <td>125.080002</td>\n    </tr>\n    <tr>\n      <th>42</th>\n      <td>28</td>\n      <td>124.050003</td>\n      <td>125.239998</td>\n      <td>124.279999</td>\n    </tr>\n    <tr>\n      <th>43</th>\n      <td>29</td>\n      <td>123.129997</td>\n      <td>124.849998</td>\n      <td>124.680000</td>\n    </tr>\n    <tr>\n      <th>44</th>\n      <td>7</td>\n      <td>123.849998</td>\n      <td>126.160004</td>\n      <td>124.070000</td>\n    </tr>\n    <tr>\n      <th>45</th>\n      <td>3</td>\n      <td>124.830002</td>\n      <td>126.320000</td>\n      <td>126.169998</td>\n    </tr>\n    <tr>\n      <th>46</th>\n      <td>39</td>\n      <td>126.209999</td>\n      <td>128.460007</td>\n      <td>126.599998</td>\n    </tr>\n    <tr>\n      <th>47</th>\n      <td>34</td>\n      <td>126.519997</td>\n      <td>127.750000</td>\n      <td>127.209999</td>\n    </tr>\n    <tr>\n      <th>48</th>\n      <td>33</td>\n      <td>125.940002</td>\n      <td>128.190002</td>\n      <td>127.019997</td>\n    </tr>\n    <tr>\n      <th>49</th>\n      <td>31</td>\n      <td>126.099998</td>\n      <td>127.440002</td>\n      <td>126.529999</td>\n    </tr>\n    <tr>\n      <th>50</th>\n      <td>30</td>\n      <td>127.070000</td>\n      <td>130.539993</td>\n      <td>127.820000</td>\n    </tr>\n    <tr>\n      <th>51</th>\n      <td>5</td>\n      <td>129.389999</td>\n      <td>130.600006</td>\n      <td>129.940002</td>\n    </tr>\n    <tr>\n      <th>52</th>\n      <td>4</td>\n      <td>128.460007</td>\n      <td>130.889999</td>\n      <td>130.369995</td>\n    </tr>\n    <tr>\n      <th>53</th>\n      <td>34</td>\n      <td>129.649994</td>\n      <td>132.550003</td>\n      <td>129.800003</td>\n    </tr>\n    <tr>\n      <th>54</th>\n      <td>39</td>\n      <td>130.240005</td>\n      <td>131.509995</td>\n      <td>130.710007</td>\n    </tr>\n    <tr>\n      <th>55</th>\n      <td>32</td>\n      <td>129.210007</td>\n      <td>132.410004</td>\n      <td>130.300003</td>\n    </tr>\n    <tr>\n      <th>56</th>\n      <td>36</td>\n      <td>131.619995</td>\n      <td>134.080002</td>\n      <td>132.130005</td>\n    </tr>\n    <tr>\n      <th>57</th>\n      <td>34</td>\n      <td>133.229996</td>\n      <td>134.320007</td>\n      <td>133.770004</td>\n    </tr>\n    <tr>\n      <th>58</th>\n      <td>6</td>\n      <td>132.929993</td>\n      <td>134.639999</td>\n      <td>134.449997</td>\n    </tr>\n    <tr>\n      <th>59</th>\n      <td>4</td>\n      <td>132.809998</td>\n      <td>133.889999</td>\n      <td>133.460007</td>\n    </tr>\n    <tr>\n      <th>60</th>\n      <td>29</td>\n      <td>133.350006</td>\n      <td>135.250000</td>\n      <td>133.410004</td>\n    </tr>\n    <tr>\n      <th>61</th>\n      <td>34</td>\n      <td>134.350006</td>\n      <td>136.490005</td>\n      <td>134.800003</td>\n    </tr>\n    <tr>\n      <th>62</th>\n      <td>34</td>\n      <td>135.869995</td>\n      <td>137.410004</td>\n      <td>136.169998</td>\n    </tr>\n  </tbody>\n</table>\n</div>"
     },
     "execution_count": 367,
     "metadata": {},
     "output_type": "execute_result"
    }
   ],
   "source": [
    "# Generating the test data based upon search interest and opening price in the apple stock data set\n",
    "Features = [\"Search Interest\", \"Low\", \"High\", \"Open\"]\n",
    "X = MergedStockApple[Features]\n",
    "X"
   ],
   "metadata": {
    "collapsed": false,
    "pycharm": {
     "name": "#%%\n"
    }
   }
  },
  {
   "cell_type": "code",
   "execution_count": 368,
   "outputs": [
    {
     "data": {
      "text/plain": "0     123.000000\n1     125.900002\n2     126.209999\n3     127.900002\n4     130.360001\n5     133.000000\n6     131.240005\n7     134.429993\n8     132.029999\n9     134.500000\n10    134.160004\n11    134.839996\n12    133.110001\n13    133.500000\n14    131.940002\n15    134.320007\n16    134.720001\n17    134.389999\n18    133.580002\n19    133.479996\n20    131.460007\n21    132.539993\n22    127.849998\n23    128.100006\n24    129.740005\n25    130.210007\n26    126.849998\n27    125.910004\n28    122.769997\n29    124.970001\n30    127.449997\n31    126.269997\n32    124.849998\n33    124.690002\n34    127.309998\n35    125.430000\n36    127.099998\n37    126.900002\n38    126.849998\n39    125.279999\n40    124.610001\n41    124.279999\n42    125.059998\n43    123.540001\n44    125.889999\n45    125.900002\n46    126.739998\n47    127.129997\n48    126.110001\n49    127.349998\n50    130.479996\n51    129.639999\n52    130.149994\n53    131.789993\n54    130.460007\n55    132.300003\n56    133.979996\n57    133.699997\n58    133.410004\n59    133.110001\n60    134.779999\n61    136.330002\n62    136.960007\nName: Close, dtype: float64"
     },
     "execution_count": 368,
     "metadata": {},
     "output_type": "execute_result"
    }
   ],
   "source": [
    "# Generating the test data look at the ability to produce the close price\n",
    "Target = \"Close\"\n",
    "y = MergedStockApple[Target]\n",
    "y"
   ],
   "metadata": {
    "collapsed": false,
    "pycharm": {
     "name": "#%%\n"
    }
   }
  },
  {
   "cell_type": "code",
   "execution_count": 369,
   "outputs": [],
   "source": [
    "# Training model with the defined test data created above\n",
    "X_train, X_test, y_train, y_test = train_test_split(X, y, test_size=0.25)\n"
   ],
   "metadata": {
    "collapsed": false,
    "pycharm": {
     "name": "#%%\n"
    }
   }
  },
  {
   "cell_type": "markdown",
   "source": [
    "Linear Regression"
   ],
   "metadata": {
    "collapsed": false
   }
  },
  {
   "cell_type": "code",
   "execution_count": 370,
   "outputs": [
    {
     "data": {
      "text/plain": "LinearRegression()"
     },
     "execution_count": 370,
     "metadata": {},
     "output_type": "execute_result"
    }
   ],
   "source": [
    "# Defining lr for linear regression function to reduce typing below\n",
    "lr = LinearRegression()\n",
    "lr"
   ],
   "metadata": {
    "collapsed": false,
    "pycharm": {
     "name": "#%%\n"
    }
   }
  },
  {
   "cell_type": "code",
   "execution_count": 371,
   "outputs": [
    {
     "data": {
      "text/plain": "LinearRegression()"
     },
     "execution_count": 371,
     "metadata": {},
     "output_type": "execute_result"
    }
   ],
   "source": [
    "#Using linear regression function to fit the model\n",
    "lr.fit(X_train, y_train)"
   ],
   "metadata": {
    "collapsed": false,
    "pycharm": {
     "name": "#%%\n"
    }
   }
  },
  {
   "cell_type": "code",
   "execution_count": 372,
   "outputs": [
    {
     "data": {
      "text/plain": "0.9833709159910372"
     },
     "execution_count": 372,
     "metadata": {},
     "output_type": "execute_result"
    }
   ],
   "source": [
    "#Score the training model\n",
    "lr.score(X_train, y_train)"
   ],
   "metadata": {
    "collapsed": false,
    "pycharm": {
     "name": "#%%\n"
    }
   }
  },
  {
   "cell_type": "code",
   "execution_count": 373,
   "outputs": [
    {
     "data": {
      "text/plain": "0.9610863879936604"
     },
     "execution_count": 373,
     "metadata": {},
     "output_type": "execute_result"
    }
   ],
   "source": [
    "#Score the testing model\n",
    "lr.score(X_test, y_test)"
   ],
   "metadata": {
    "collapsed": false,
    "pycharm": {
     "name": "#%%\n"
    }
   }
  },
  {
   "cell_type": "code",
   "execution_count": 374,
   "outputs": [
    {
     "name": "stdout",
     "output_type": "stream",
     "text": [
      "Score: 0.96\n",
      "MAE: 0.58\n",
      "RMSE: 0.72\n",
      "r2: 0.96\n"
     ]
    }
   ],
   "source": [
    "#Produce the linear regression metrics indicating the quality of the model\n",
    "PredictionsRegression = lr.predict(X_test)\n",
    "PrintMetricsRegression(y_test, PredictionsRegression)"
   ],
   "metadata": {
    "collapsed": false,
    "pycharm": {
     "name": "#%%\n"
    }
   }
  },
  {
   "cell_type": "markdown",
   "source": [
    "Linear Regression Predicting New Samples"
   ],
   "metadata": {
    "collapsed": false
   }
  },
  {
   "cell_type": "code",
   "execution_count": 375,
   "outputs": [
    {
     "data": {
      "text/plain": "[{'Search Interest': 24, 'Low': 24, 'High': 35, 'Open': 99},\n {'Search Interest': 6, 'Low': 104, 'High': 39, 'Open': 111},\n {'Search Interest': 30, 'Low': 114, 'High': 134, 'Open': 88}]"
     },
     "execution_count": 375,
     "metadata": {},
     "output_type": "execute_result"
    }
   ],
   "source": [
    "#Generating random values for the search interest and opening price for prediction\n",
    "NumberElements = 3\n",
    "SampleStockTrendRegression = []\n",
    "for _ in range(NumberElements):\n",
    "    dict = {}\n",
    "    for column in X.columns:\n",
    "        min = 0\n",
    "        maxValue = round(max(MergedStockApple[column].values))\n",
    "        dict[column] = rnd.randint(min, maxValue)\n",
    "    SampleStockTrendRegression.append(dict)\n",
    "SampleStockTrendRegression"
   ],
   "metadata": {
    "collapsed": false,
    "pycharm": {
     "name": "#%%\n"
    }
   }
  },
  {
   "cell_type": "code",
   "execution_count": 376,
   "outputs": [
    {
     "data": {
      "text/plain": "   Search Interest  Low  High  Open\n0               24   24    35    99\n1                6  104    39   111\n2               30  114   134    88",
      "text/html": "<div>\n<style scoped>\n    .dataframe tbody tr th:only-of-type {\n        vertical-align: middle;\n    }\n\n    .dataframe tbody tr th {\n        vertical-align: top;\n    }\n\n    .dataframe thead th {\n        text-align: right;\n    }\n</style>\n<table border=\"1\" class=\"dataframe\">\n  <thead>\n    <tr style=\"text-align: right;\">\n      <th></th>\n      <th>Search Interest</th>\n      <th>Low</th>\n      <th>High</th>\n      <th>Open</th>\n    </tr>\n  </thead>\n  <tbody>\n    <tr>\n      <th>0</th>\n      <td>24</td>\n      <td>24</td>\n      <td>35</td>\n      <td>99</td>\n    </tr>\n    <tr>\n      <th>1</th>\n      <td>6</td>\n      <td>104</td>\n      <td>39</td>\n      <td>111</td>\n    </tr>\n    <tr>\n      <th>2</th>\n      <td>30</td>\n      <td>114</td>\n      <td>134</td>\n      <td>88</td>\n    </tr>\n  </tbody>\n</table>\n</div>"
     },
     "execution_count": 376,
     "metadata": {},
     "output_type": "execute_result"
    }
   ],
   "source": [
    "#Defining a dataframe for the chosen values for search interest and opening price created above\n",
    "pdSampleStockTrendRegression = pd.DataFrame.from_dict(SampleStockTrendRegression)\n",
    "pdSampleStockTrendRegression"
   ],
   "metadata": {
    "collapsed": false,
    "pycharm": {
     "name": "#%%\n"
    }
   }
  },
  {
   "cell_type": "code",
   "execution_count": 377,
   "outputs": [
    {
     "data": {
      "text/plain": "array([-25.3535584 ,  30.30473019, 155.77292293])"
     },
     "execution_count": 377,
     "metadata": {},
     "output_type": "execute_result"
    }
   ],
   "source": [
    "#Predicting the closing price based upon the defined model\n",
    "PredictionsRegression = lr.predict(pdSampleStockTrendRegression)\n",
    "PredictionsRegression"
   ],
   "metadata": {
    "collapsed": false,
    "pycharm": {
     "name": "#%%\n"
    }
   }
  },
  {
   "cell_type": "code",
   "execution_count": 378,
   "outputs": [
    {
     "data": {
      "text/plain": "   Search Interest  Low  High  Open   Predicted\n0               24   24    35    99  -25.353558\n1                6  104    39   111   30.304730\n2               30  114   134    88  155.772923",
      "text/html": "<div>\n<style scoped>\n    .dataframe tbody tr th:only-of-type {\n        vertical-align: middle;\n    }\n\n    .dataframe tbody tr th {\n        vertical-align: top;\n    }\n\n    .dataframe thead th {\n        text-align: right;\n    }\n</style>\n<table border=\"1\" class=\"dataframe\">\n  <thead>\n    <tr style=\"text-align: right;\">\n      <th></th>\n      <th>Search Interest</th>\n      <th>Low</th>\n      <th>High</th>\n      <th>Open</th>\n      <th>Predicted</th>\n    </tr>\n  </thead>\n  <tbody>\n    <tr>\n      <th>0</th>\n      <td>24</td>\n      <td>24</td>\n      <td>35</td>\n      <td>99</td>\n      <td>-25.353558</td>\n    </tr>\n    <tr>\n      <th>1</th>\n      <td>6</td>\n      <td>104</td>\n      <td>39</td>\n      <td>111</td>\n      <td>30.304730</td>\n    </tr>\n    <tr>\n      <th>2</th>\n      <td>30</td>\n      <td>114</td>\n      <td>134</td>\n      <td>88</td>\n      <td>155.772923</td>\n    </tr>\n  </tbody>\n</table>\n</div>"
     },
     "execution_count": 378,
     "metadata": {},
     "output_type": "execute_result"
    }
   ],
   "source": [
    "#Adding the predicted values to the dataframe\n",
    "pdPredictedStockTrend = pdSampleStockTrendRegression.copy()\n",
    "pdPredictedStockTrend ['Predicted'] = PredictionsRegression\n",
    "pdPredictedStockTrend"
   ],
   "metadata": {
    "collapsed": false,
    "pycharm": {
     "name": "#%%\n"
    }
   }
  },
  {
   "cell_type": "markdown",
   "source": [
    "Classification Logistic Regression"
   ],
   "metadata": {
    "collapsed": false
   }
  },
  {
   "cell_type": "code",
   "execution_count": 379,
   "outputs": [
    {
     "data": {
      "text/plain": "0     1\n1     1\n2     1\n3     1\n4     0\n5     0\n6     1\n7     1\n8     1\n9     0\n10    1\n11    1\n12    1\n13    0\n14    1\n15    1\n16    1\n17    0\n18    0\n19    1\n20    1\n21    1\n22    1\n23    1\n24    1\n25    0\n26    0\n27    1\n28    1\n29    1\n30    0\n31    1\n32    1\n33    0\n34    0\n35    0\n36    0\n37    0\n38    0\n39    1\n40    1\n41    1\n42    0\n43    1\n44    0\n45    0\n46    1\n47    1\n48    1\n49    1\n50    1\n51    0\n52    0\n53    1\n54    1\n55    1\n56    1\n57    1\n58    0\n59    0\n60    1\n61    1\n62    1\nName: True, dtype: uint8"
     },
     "execution_count": 379,
     "metadata": {},
     "output_type": "execute_result"
    }
   ],
   "source": [
    "#Redefining the test data for logical regression with choosing a categorical variable for the target case\n",
    "Target = True\n",
    "y = MergedStockApple[Target]\n",
    "y"
   ],
   "metadata": {
    "collapsed": false,
    "pycharm": {
     "name": "#%%\n"
    }
   }
  },
  {
   "cell_type": "code",
   "execution_count": 380,
   "outputs": [],
   "source": [
    "# Training model with the defined test data created above\n",
    "X_train, X_test, y_train, y_test = train_test_split(X, y, test_size=0.25)"
   ],
   "metadata": {
    "collapsed": false,
    "pycharm": {
     "name": "#%%\n"
    }
   }
  },
  {
   "cell_type": "code",
   "execution_count": 381,
   "outputs": [
    {
     "data": {
      "text/plain": "LogisticRegression(solver='liblinear')"
     },
     "execution_count": 381,
     "metadata": {},
     "output_type": "execute_result"
    }
   ],
   "source": [
    "# Defining LogisticRegression fucntion as lr to reduce the number of characters below\n",
    "lr = LogisticRegression(solver=\"liblinear\")\n",
    "lr"
   ],
   "metadata": {
    "collapsed": false,
    "pycharm": {
     "name": "#%%\n"
    }
   }
  },
  {
   "cell_type": "code",
   "execution_count": 382,
   "outputs": [
    {
     "data": {
      "text/plain": "LogisticRegression(solver='liblinear')"
     },
     "execution_count": 382,
     "metadata": {},
     "output_type": "execute_result"
    }
   ],
   "source": [
    "# Using logistics regression to fit the model\n",
    "lr.fit(X_train, y_train)"
   ],
   "metadata": {
    "collapsed": false,
    "pycharm": {
     "name": "#%%\n"
    }
   }
  },
  {
   "cell_type": "code",
   "execution_count": 383,
   "outputs": [
    {
     "data": {
      "text/plain": "1.0"
     },
     "execution_count": 383,
     "metadata": {},
     "output_type": "execute_result"
    }
   ],
   "source": [
    "# Using logistics regression to score the training data\n",
    "lr.score(X_train, y_train)"
   ],
   "metadata": {
    "collapsed": false,
    "pycharm": {
     "name": "#%%\n"
    }
   }
  },
  {
   "cell_type": "code",
   "execution_count": 384,
   "outputs": [
    {
     "data": {
      "text/plain": "0.9375"
     },
     "execution_count": 384,
     "metadata": {},
     "output_type": "execute_result"
    }
   ],
   "source": [
    "# Using logistics regression to score the test data\n",
    "lr.score(X_test, y_test)"
   ],
   "metadata": {
    "collapsed": false,
    "pycharm": {
     "name": "#%%\n"
    }
   }
  },
  {
   "cell_type": "code",
   "execution_count": 385,
   "outputs": [
    {
     "name": "stdout",
     "output_type": "stream",
     "text": [
      "Confusion Matrix:\n",
      "[[ 4  0]\n",
      " [ 1 11]]\n",
      "------------------\n",
      "Accuracy: 0.94\n",
      "Recall: 0.92\n",
      "Prediction: 1.00\n",
      "f-measure: 0.96\n",
      "------------------\n",
      "              precision    recall  f1-score   support\n",
      "\n",
      "           0       0.80      1.00      0.89         4\n",
      "           1       1.00      0.92      0.96        12\n",
      "\n",
      "    accuracy                           0.94        16\n",
      "   macro avg       0.90      0.96      0.92        16\n",
      "weighted avg       0.95      0.94      0.94        16\n",
      "\n"
     ]
    }
   ],
   "source": [
    "#Produce the logistic regression to display metrics indicating the quality of the model and generate the confusion matrix\n",
    "PredictionsClassification = lr.predict(X_test)\n",
    "PrintMetricsClassiffication(y_test, PredictionsClassification)"
   ],
   "metadata": {
    "collapsed": false,
    "pycharm": {
     "name": "#%%\n"
    }
   }
  },
  {
   "cell_type": "markdown",
   "source": [
    "Classifiction Predicting New Samples"
   ],
   "metadata": {
    "collapsed": false
   }
  },
  {
   "cell_type": "code",
   "execution_count": 386,
   "outputs": [
    {
     "data": {
      "text/plain": "[{'Search Interest': 39, 'Low': 22, 'High': 9, 'Open': 21},\n {'Search Interest': 40, 'Low': 21, 'High': 26, 'Open': 92},\n {'Search Interest': 44, 'Low': 85, 'High': 0, 'Open': 94}]"
     },
     "execution_count": 386,
     "metadata": {},
     "output_type": "execute_result"
    }
   ],
   "source": [
    "#Generating random values for the search interest and opening price for prediction\n",
    "numElements = 3\n",
    "SampleStockTrendsClassification = []\n",
    "for _ in range(numElements):\n",
    "    dict = {}\n",
    "    for column in X.columns:\n",
    "        min = 0  # We'll always allow at lea\n",
    "        maxValue = round(max(MergedStockApple[column].values))\n",
    "        dict[column] = rnd.randint(min, maxValue)\n",
    "    SampleStockTrendsClassification.append(dict)\n",
    "SampleStockTrendsClassification"
   ],
   "metadata": {
    "collapsed": false,
    "pycharm": {
     "name": "#%%\n"
    }
   }
  },
  {
   "cell_type": "code",
   "execution_count": 387,
   "outputs": [],
   "source": [
    "#Defining a dataframe for the chosen values for search interest and opening price created above\n",
    "pdSampleStockTrendsClassification = pd.DataFrame.from_dict(SampleStockTrendsClassification)"
   ],
   "metadata": {
    "collapsed": false,
    "pycharm": {
     "name": "#%%\n"
    }
   }
  },
  {
   "cell_type": "code",
   "execution_count": 388,
   "outputs": [
    {
     "data": {
      "text/plain": "array([1, 1, 1], dtype=uint8)"
     },
     "execution_count": 388,
     "metadata": {},
     "output_type": "execute_result"
    }
   ],
   "source": [
    "#Predicting the closing price based upon the defined model\n",
    "predictionsClassification = lr.predict(pdSampleStockTrendsClassification)\n",
    "predictionsClassification"
   ],
   "metadata": {
    "collapsed": false,
    "pycharm": {
     "name": "#%%\n"
    }
   }
  },
  {
   "cell_type": "code",
   "execution_count": 389,
   "outputs": [
    {
     "data": {
      "text/plain": "   Search Interest  Low  High  Open  Predicted\n0               39   22     9    21       True\n1               40   21    26    92       True\n2               44   85     0    94       True",
      "text/html": "<div>\n<style scoped>\n    .dataframe tbody tr th:only-of-type {\n        vertical-align: middle;\n    }\n\n    .dataframe tbody tr th {\n        vertical-align: top;\n    }\n\n    .dataframe thead th {\n        text-align: right;\n    }\n</style>\n<table border=\"1\" class=\"dataframe\">\n  <thead>\n    <tr style=\"text-align: right;\">\n      <th></th>\n      <th>Search Interest</th>\n      <th>Low</th>\n      <th>High</th>\n      <th>Open</th>\n      <th>Predicted</th>\n    </tr>\n  </thead>\n  <tbody>\n    <tr>\n      <th>0</th>\n      <td>39</td>\n      <td>22</td>\n      <td>9</td>\n      <td>21</td>\n      <td>True</td>\n    </tr>\n    <tr>\n      <th>1</th>\n      <td>40</td>\n      <td>21</td>\n      <td>26</td>\n      <td>92</td>\n      <td>True</td>\n    </tr>\n    <tr>\n      <th>2</th>\n      <td>44</td>\n      <td>85</td>\n      <td>0</td>\n      <td>94</td>\n      <td>True</td>\n    </tr>\n  </tbody>\n</table>\n</div>"
     },
     "execution_count": 389,
     "metadata": {},
     "output_type": "execute_result"
    }
   ],
   "source": [
    "#Adding the predicted values to the dataframe\n",
    "pdPredictedStockTrendsClassification= pdSampleStockTrendsClassification\n",
    "pdPredictedStockTrendsClassification[\"Predicted\"] = predictionsClassification.astype(bool)\n",
    "pdPredictedStockTrendsClassification"
   ],
   "metadata": {
    "collapsed": false,
    "pycharm": {
     "name": "#%%\n"
    }
   }
  },
  {
   "cell_type": "markdown",
   "source": [
    "#### Conclusion\n",
    "\n",
    "Both the linear regression and logistical regression models indicate a reasonable correlation between Google search activity, price points on the days trading, and the closing price for the dataset investigation in this notebook.  This could indicate that Apple is a stable stock with the google search interest and the price change through out the trading day is fairly consistent.   Further investigation on this project will include less stable stocks which may answer if this is true.\n"
   ],
   "metadata": {
    "collapsed": false
   }
  },
  {
   "cell_type": "markdown",
   "source": [
    "### AMC\n",
    "Shawn Sonnack"
   ],
   "metadata": {
    "collapsed": false
   }
  },
  {
   "cell_type": "markdown",
   "source": [
    "#### Purpose\n",
    "\n",
    "We are looking to see if there is any correlation to google search interest with stock price changes.  In this data set we have a pulled a number from google between 0 - 100.  At 0 it means that there was little to no traffic compared to normal operation.  At 100 it means that the search traffic for that day was extremely high.\n",
    "\n",
    "First I will dig in to see if search interest and the price it opens at can predict the close price of the day.\n"
   ],
   "metadata": {
    "collapsed": false
   }
  },
  {
   "cell_type": "markdown",
   "source": [
    "#### Pull in prepared data for AMC stock: January 1 - June 30"
   ],
   "metadata": {
    "collapsed": false
   }
  },
  {
   "cell_type": "code",
   "execution_count": 390,
   "outputs": [
    {
     "data": {
      "text/plain": "     Search Interest       Open      Close     Volume  Amount Changed  \\\n0                  2   2.200000   2.010000   29873800        0.190000   \n1                  3   1.990000   1.980000   28148300        0.010000   \n2                  2   2.030000   2.010000   67363300        0.020000   \n3                  2   2.080000   2.050000   26150500        0.030000   \n4                  3   2.090000   2.140000   39553300       -0.050000   \n..               ...        ...        ...        ...             ...   \n118               17  57.040001  58.299999  116291800       -1.259998   \n119               16  57.980000  56.700001   80351200        1.279999   \n120               19  55.750000  54.060001   77596900        1.689999   \n121               16  55.099998  58.110001   99310200       -3.010002   \n122               16  59.060001  56.430000   63604100        2.630001   \n\n     Days Spread  Price Increase  Search Interest Above Avg  \n0       0.200000               1                          0  \n1       0.120000               1                          0  \n2       0.260000               1                          0  \n3       0.090000               1                          0  \n4       0.140000               0                          0  \n..           ...             ...                        ...  \n118     4.299999               0                          1  \n119     3.099998               1                          1  \n120     3.320000               1                          1  \n121     5.029999               0                          1  \n122     4.820000               1                          1  \n\n[123 rows x 8 columns]",
      "text/html": "<div>\n<style scoped>\n    .dataframe tbody tr th:only-of-type {\n        vertical-align: middle;\n    }\n\n    .dataframe tbody tr th {\n        vertical-align: top;\n    }\n\n    .dataframe thead th {\n        text-align: right;\n    }\n</style>\n<table border=\"1\" class=\"dataframe\">\n  <thead>\n    <tr style=\"text-align: right;\">\n      <th></th>\n      <th>Search Interest</th>\n      <th>Open</th>\n      <th>Close</th>\n      <th>Volume</th>\n      <th>Amount Changed</th>\n      <th>Days Spread</th>\n      <th>Price Increase</th>\n      <th>Search Interest Above Avg</th>\n    </tr>\n  </thead>\n  <tbody>\n    <tr>\n      <th>0</th>\n      <td>2</td>\n      <td>2.200000</td>\n      <td>2.010000</td>\n      <td>29873800</td>\n      <td>0.190000</td>\n      <td>0.200000</td>\n      <td>1</td>\n      <td>0</td>\n    </tr>\n    <tr>\n      <th>1</th>\n      <td>3</td>\n      <td>1.990000</td>\n      <td>1.980000</td>\n      <td>28148300</td>\n      <td>0.010000</td>\n      <td>0.120000</td>\n      <td>1</td>\n      <td>0</td>\n    </tr>\n    <tr>\n      <th>2</th>\n      <td>2</td>\n      <td>2.030000</td>\n      <td>2.010000</td>\n      <td>67363300</td>\n      <td>0.020000</td>\n      <td>0.260000</td>\n      <td>1</td>\n      <td>0</td>\n    </tr>\n    <tr>\n      <th>3</th>\n      <td>2</td>\n      <td>2.080000</td>\n      <td>2.050000</td>\n      <td>26150500</td>\n      <td>0.030000</td>\n      <td>0.090000</td>\n      <td>1</td>\n      <td>0</td>\n    </tr>\n    <tr>\n      <th>4</th>\n      <td>3</td>\n      <td>2.090000</td>\n      <td>2.140000</td>\n      <td>39553300</td>\n      <td>-0.050000</td>\n      <td>0.140000</td>\n      <td>0</td>\n      <td>0</td>\n    </tr>\n    <tr>\n      <th>...</th>\n      <td>...</td>\n      <td>...</td>\n      <td>...</td>\n      <td>...</td>\n      <td>...</td>\n      <td>...</td>\n      <td>...</td>\n      <td>...</td>\n    </tr>\n    <tr>\n      <th>118</th>\n      <td>17</td>\n      <td>57.040001</td>\n      <td>58.299999</td>\n      <td>116291800</td>\n      <td>-1.259998</td>\n      <td>4.299999</td>\n      <td>0</td>\n      <td>1</td>\n    </tr>\n    <tr>\n      <th>119</th>\n      <td>16</td>\n      <td>57.980000</td>\n      <td>56.700001</td>\n      <td>80351200</td>\n      <td>1.279999</td>\n      <td>3.099998</td>\n      <td>1</td>\n      <td>1</td>\n    </tr>\n    <tr>\n      <th>120</th>\n      <td>19</td>\n      <td>55.750000</td>\n      <td>54.060001</td>\n      <td>77596900</td>\n      <td>1.689999</td>\n      <td>3.320000</td>\n      <td>1</td>\n      <td>1</td>\n    </tr>\n    <tr>\n      <th>121</th>\n      <td>16</td>\n      <td>55.099998</td>\n      <td>58.110001</td>\n      <td>99310200</td>\n      <td>-3.010002</td>\n      <td>5.029999</td>\n      <td>0</td>\n      <td>1</td>\n    </tr>\n    <tr>\n      <th>122</th>\n      <td>16</td>\n      <td>59.060001</td>\n      <td>56.430000</td>\n      <td>63604100</td>\n      <td>2.630001</td>\n      <td>4.820000</td>\n      <td>1</td>\n      <td>1</td>\n    </tr>\n  </tbody>\n</table>\n<p>123 rows × 8 columns</p>\n</div>"
     },
     "execution_count": 390,
     "metadata": {},
     "output_type": "execute_result"
    }
   ],
   "source": [
    "amcMergedDataFrame = pd.read_csv(f'{dataDir}AMCDataClean.zip')\n",
    "amcMergedDataFrame"
   ],
   "metadata": {
    "collapsed": false,
    "pycharm": {
     "name": "#%%\n"
    }
   }
  },
  {
   "cell_type": "markdown",
   "source": [
    "#### Linear Regression Setup"
   ],
   "metadata": {
    "collapsed": false
   }
  },
  {
   "cell_type": "code",
   "execution_count": 391,
   "outputs": [],
   "source": [
    "featureColumns=['Search Interest', 'Open']\n",
    "targetColumn = 'Close'\n",
    "\n",
    "X=amcMergedDataFrame[featureColumns]\n",
    "y=amcMergedDataFrame[targetColumn]\n",
    "\n",
    "X_train, X_test, y_train, y_test = train_test_split(X, y, test_size=0.25, random_state=1)"
   ],
   "metadata": {
    "collapsed": false,
    "pycharm": {
     "name": "#%%\n"
    }
   }
  },
  {
   "cell_type": "markdown",
   "source": [
    "#### Create the regression"
   ],
   "metadata": {
    "collapsed": false
   }
  },
  {
   "cell_type": "code",
   "execution_count": 392,
   "outputs": [
    {
     "data": {
      "text/plain": "LinearRegression()"
     },
     "execution_count": 392,
     "metadata": {},
     "output_type": "execute_result"
    }
   ],
   "source": [
    "lr = LinearRegression()\n",
    "lr"
   ],
   "metadata": {
    "collapsed": false,
    "pycharm": {
     "name": "#%%\n"
    }
   }
  },
  {
   "cell_type": "markdown",
   "source": [
    "#### Fit Linear Model"
   ],
   "metadata": {
    "collapsed": false
   }
  },
  {
   "cell_type": "code",
   "execution_count": 393,
   "outputs": [
    {
     "data": {
      "text/plain": "LinearRegression()"
     },
     "execution_count": 393,
     "metadata": {},
     "output_type": "execute_result"
    }
   ],
   "source": [
    "lr.fit(X_train, y_train)"
   ],
   "metadata": {
    "collapsed": false,
    "pycharm": {
     "name": "#%%\n"
    }
   }
  },
  {
   "cell_type": "markdown",
   "source": [
    "#### How confident are we in our model?"
   ],
   "metadata": {
    "collapsed": false
   }
  },
  {
   "cell_type": "code",
   "execution_count": 394,
   "outputs": [
    {
     "data": {
      "text/plain": "0.9691667374025036"
     },
     "execution_count": 394,
     "metadata": {},
     "output_type": "execute_result"
    }
   ],
   "source": [
    "lr.score(X_train, y_train)"
   ],
   "metadata": {
    "collapsed": false,
    "pycharm": {
     "name": "#%%\n"
    }
   }
  },
  {
   "cell_type": "code",
   "execution_count": 395,
   "outputs": [
    {
     "data": {
      "text/plain": "0.9709538923793088"
     },
     "execution_count": 395,
     "metadata": {},
     "output_type": "execute_result"
    }
   ],
   "source": [
    "lr.score(X_test, y_test)"
   ],
   "metadata": {
    "collapsed": false,
    "pycharm": {
     "name": "#%%\n"
    }
   }
  },
  {
   "cell_type": "markdown",
   "source": [
    "#### Print the prediction believed accuracy using the model"
   ],
   "metadata": {
    "collapsed": false
   }
  },
  {
   "cell_type": "code",
   "execution_count": 396,
   "outputs": [
    {
     "name": "stdout",
     "output_type": "stream",
     "text": [
      "Score: 0.97\n",
      "MAE: 1.91\n",
      "RMSE: 3.13\n",
      "r2: 0.97\n"
     ]
    }
   ],
   "source": [
    "predictions = lr.predict(X_test)\n",
    "PrintMetricsRegression(y_test, predictions)"
   ],
   "metadata": {
    "collapsed": false,
    "pycharm": {
     "name": "#%%\n"
    }
   }
  },
  {
   "cell_type": "markdown",
   "source": [
    "#### Create new samples, to test our model"
   ],
   "metadata": {
    "collapsed": false
   }
  },
  {
   "cell_type": "code",
   "execution_count": 397,
   "outputs": [],
   "source": [
    "amcStockPreparedData = prepareDataForPredictions(X)"
   ],
   "metadata": {
    "collapsed": false,
    "pycharm": {
     "name": "#%%\n"
    }
   }
  },
  {
   "cell_type": "markdown",
   "source": [
    "#### Prepare the predictions for consumption"
   ],
   "metadata": {
    "collapsed": false
   }
  },
  {
   "cell_type": "code",
   "execution_count": 398,
   "outputs": [
    {
     "data": {
      "text/plain": "   Search Interest  Open\n0               38    11\n1               17    10\n2               49    18",
      "text/html": "<div>\n<style scoped>\n    .dataframe tbody tr th:only-of-type {\n        vertical-align: middle;\n    }\n\n    .dataframe tbody tr th {\n        vertical-align: top;\n    }\n\n    .dataframe thead th {\n        text-align: right;\n    }\n</style>\n<table border=\"1\" class=\"dataframe\">\n  <thead>\n    <tr style=\"text-align: right;\">\n      <th></th>\n      <th>Search Interest</th>\n      <th>Open</th>\n    </tr>\n  </thead>\n  <tbody>\n    <tr>\n      <th>0</th>\n      <td>38</td>\n      <td>11</td>\n    </tr>\n    <tr>\n      <th>1</th>\n      <td>17</td>\n      <td>10</td>\n    </tr>\n    <tr>\n      <th>2</th>\n      <td>49</td>\n      <td>18</td>\n    </tr>\n  </tbody>\n</table>\n</div>"
     },
     "execution_count": 398,
     "metadata": {},
     "output_type": "execute_result"
    }
   ],
   "source": [
    "amcPreparedData = pd.DataFrame.from_dict(amcStockPreparedData)\n",
    "amcPreparedData"
   ],
   "metadata": {
    "collapsed": false,
    "pycharm": {
     "name": "#%%\n"
    }
   }
  },
  {
   "cell_type": "markdown",
   "source": [
    "#### Predict what the close price will be"
   ],
   "metadata": {
    "collapsed": false
   }
  },
  {
   "cell_type": "code",
   "execution_count": 399,
   "outputs": [
    {
     "data": {
      "text/plain": "array([12.39906455, 10.32854224, 20.04788933])"
     },
     "execution_count": 399,
     "metadata": {},
     "output_type": "execute_result"
    }
   ],
   "source": [
    "predictions = lr.predict(amcPreparedData)\n",
    "predictions"
   ],
   "metadata": {
    "collapsed": false,
    "pycharm": {
     "name": "#%%\n"
    }
   }
  },
  {
   "cell_type": "markdown",
   "source": [
    "#### Make it pretty"
   ],
   "metadata": {
    "collapsed": false
   }
  },
  {
   "cell_type": "code",
   "execution_count": 400,
   "outputs": [
    {
     "data": {
      "text/plain": "   Search Interest  Open  Price Prediction\n0               38    11         12.399065\n1               17    10         10.328542\n2               49    18         20.047889",
      "text/html": "<div>\n<style scoped>\n    .dataframe tbody tr th:only-of-type {\n        vertical-align: middle;\n    }\n\n    .dataframe tbody tr th {\n        vertical-align: top;\n    }\n\n    .dataframe thead th {\n        text-align: right;\n    }\n</style>\n<table border=\"1\" class=\"dataframe\">\n  <thead>\n    <tr style=\"text-align: right;\">\n      <th></th>\n      <th>Search Interest</th>\n      <th>Open</th>\n      <th>Price Prediction</th>\n    </tr>\n  </thead>\n  <tbody>\n    <tr>\n      <th>0</th>\n      <td>38</td>\n      <td>11</td>\n      <td>12.399065</td>\n    </tr>\n    <tr>\n      <th>1</th>\n      <td>17</td>\n      <td>10</td>\n      <td>10.328542</td>\n    </tr>\n    <tr>\n      <th>2</th>\n      <td>49</td>\n      <td>18</td>\n      <td>20.047889</td>\n    </tr>\n  </tbody>\n</table>\n</div>"
     },
     "execution_count": 400,
     "metadata": {},
     "output_type": "execute_result"
    }
   ],
   "source": [
    "amcPredictedPrice = amcPreparedData.copy()\n",
    "amcPredictedPrice['Price Prediction'] = predictions\n",
    "amcPredictedPrice"
   ],
   "metadata": {
    "collapsed": false,
    "pycharm": {
     "name": "#%%\n"
    }
   }
  },
  {
   "cell_type": "markdown",
   "source": [
    "#### Classical - Logistic Regression"
   ],
   "metadata": {
    "collapsed": false
   }
  },
  {
   "cell_type": "code",
   "execution_count": 401,
   "outputs": [
    {
     "data": {
      "text/plain": "     Search Interest       Open      Close     Volume  Amount Changed  \\\n0                  2   2.200000   2.010000   29873800        0.190000   \n1                  3   1.990000   1.980000   28148300        0.010000   \n2                  2   2.030000   2.010000   67363300        0.020000   \n3                  2   2.080000   2.050000   26150500        0.030000   \n4                  3   2.090000   2.140000   39553300       -0.050000   \n..               ...        ...        ...        ...             ...   \n118               17  57.040001  58.299999  116291800       -1.259998   \n119               16  57.980000  56.700001   80351200        1.279999   \n120               19  55.750000  54.060001   77596900        1.689999   \n121               16  55.099998  58.110001   99310200       -3.010002   \n122               16  59.060001  56.430000   63604100        2.630001   \n\n     Days Spread  Price Increase  Search Interest Above Avg  \n0       0.200000               1                          0  \n1       0.120000               1                          0  \n2       0.260000               1                          0  \n3       0.090000               1                          0  \n4       0.140000               0                          0  \n..           ...             ...                        ...  \n118     4.299999               0                          1  \n119     3.099998               1                          1  \n120     3.320000               1                          1  \n121     5.029999               0                          1  \n122     4.820000               1                          1  \n\n[123 rows x 8 columns]",
      "text/html": "<div>\n<style scoped>\n    .dataframe tbody tr th:only-of-type {\n        vertical-align: middle;\n    }\n\n    .dataframe tbody tr th {\n        vertical-align: top;\n    }\n\n    .dataframe thead th {\n        text-align: right;\n    }\n</style>\n<table border=\"1\" class=\"dataframe\">\n  <thead>\n    <tr style=\"text-align: right;\">\n      <th></th>\n      <th>Search Interest</th>\n      <th>Open</th>\n      <th>Close</th>\n      <th>Volume</th>\n      <th>Amount Changed</th>\n      <th>Days Spread</th>\n      <th>Price Increase</th>\n      <th>Search Interest Above Avg</th>\n    </tr>\n  </thead>\n  <tbody>\n    <tr>\n      <th>0</th>\n      <td>2</td>\n      <td>2.200000</td>\n      <td>2.010000</td>\n      <td>29873800</td>\n      <td>0.190000</td>\n      <td>0.200000</td>\n      <td>1</td>\n      <td>0</td>\n    </tr>\n    <tr>\n      <th>1</th>\n      <td>3</td>\n      <td>1.990000</td>\n      <td>1.980000</td>\n      <td>28148300</td>\n      <td>0.010000</td>\n      <td>0.120000</td>\n      <td>1</td>\n      <td>0</td>\n    </tr>\n    <tr>\n      <th>2</th>\n      <td>2</td>\n      <td>2.030000</td>\n      <td>2.010000</td>\n      <td>67363300</td>\n      <td>0.020000</td>\n      <td>0.260000</td>\n      <td>1</td>\n      <td>0</td>\n    </tr>\n    <tr>\n      <th>3</th>\n      <td>2</td>\n      <td>2.080000</td>\n      <td>2.050000</td>\n      <td>26150500</td>\n      <td>0.030000</td>\n      <td>0.090000</td>\n      <td>1</td>\n      <td>0</td>\n    </tr>\n    <tr>\n      <th>4</th>\n      <td>3</td>\n      <td>2.090000</td>\n      <td>2.140000</td>\n      <td>39553300</td>\n      <td>-0.050000</td>\n      <td>0.140000</td>\n      <td>0</td>\n      <td>0</td>\n    </tr>\n    <tr>\n      <th>...</th>\n      <td>...</td>\n      <td>...</td>\n      <td>...</td>\n      <td>...</td>\n      <td>...</td>\n      <td>...</td>\n      <td>...</td>\n      <td>...</td>\n    </tr>\n    <tr>\n      <th>118</th>\n      <td>17</td>\n      <td>57.040001</td>\n      <td>58.299999</td>\n      <td>116291800</td>\n      <td>-1.259998</td>\n      <td>4.299999</td>\n      <td>0</td>\n      <td>1</td>\n    </tr>\n    <tr>\n      <th>119</th>\n      <td>16</td>\n      <td>57.980000</td>\n      <td>56.700001</td>\n      <td>80351200</td>\n      <td>1.279999</td>\n      <td>3.099998</td>\n      <td>1</td>\n      <td>1</td>\n    </tr>\n    <tr>\n      <th>120</th>\n      <td>19</td>\n      <td>55.750000</td>\n      <td>54.060001</td>\n      <td>77596900</td>\n      <td>1.689999</td>\n      <td>3.320000</td>\n      <td>1</td>\n      <td>1</td>\n    </tr>\n    <tr>\n      <th>121</th>\n      <td>16</td>\n      <td>55.099998</td>\n      <td>58.110001</td>\n      <td>99310200</td>\n      <td>-3.010002</td>\n      <td>5.029999</td>\n      <td>0</td>\n      <td>1</td>\n    </tr>\n    <tr>\n      <th>122</th>\n      <td>16</td>\n      <td>59.060001</td>\n      <td>56.430000</td>\n      <td>63604100</td>\n      <td>2.630001</td>\n      <td>4.820000</td>\n      <td>1</td>\n      <td>1</td>\n    </tr>\n  </tbody>\n</table>\n<p>123 rows × 8 columns</p>\n</div>"
     },
     "execution_count": 401,
     "metadata": {},
     "output_type": "execute_result"
    }
   ],
   "source": [
    "amcMergedDataFrame"
   ],
   "metadata": {
    "collapsed": false,
    "pycharm": {
     "name": "#%%\n"
    }
   }
  },
  {
   "cell_type": "markdown",
   "source": [
    "#### Prepare the Data and logistic Columns"
   ],
   "metadata": {
    "collapsed": false
   }
  },
  {
   "cell_type": "code",
   "execution_count": 402,
   "outputs": [],
   "source": [
    "amcMergedDataFrame['Price Increase'] = amcMergedDataFrame['Price Increase'].astype(int)\n",
    "amcMergedDataFrame['Search Interest Above Avg'] = amcMergedDataFrame['Search Interest Above Avg'].astype(int)\n",
    "logisticFeatureColumns=['Open', 'Close']\n",
    "logisticTargetColumn = 'Search Interest Above Avg'\n",
    "\n",
    "X=amcMergedDataFrame[logisticFeatureColumns]\n",
    "y=amcMergedDataFrame[logisticTargetColumn]\n"
   ],
   "metadata": {
    "collapsed": false,
    "pycharm": {
     "name": "#%%\n"
    }
   }
  },
  {
   "cell_type": "code",
   "execution_count": 403,
   "outputs": [
    {
     "data": {
      "text/plain": "0      0\n1      0\n2      0\n3      0\n4      0\n      ..\n118    1\n119    1\n120    1\n121    1\n122    1\nName: Search Interest Above Avg, Length: 123, dtype: int64"
     },
     "execution_count": 403,
     "metadata": {},
     "output_type": "execute_result"
    }
   ],
   "source": [
    "y"
   ],
   "metadata": {
    "collapsed": false,
    "pycharm": {
     "name": "#%%\n"
    }
   }
  },
  {
   "cell_type": "markdown",
   "source": [
    "#### Train the model with my data from above"
   ],
   "metadata": {
    "collapsed": false
   }
  },
  {
   "cell_type": "code",
   "execution_count": 404,
   "outputs": [],
   "source": [
    "X_train, X_test, y_train, y_test = train_test_split(X, y, test_size=0.25, random_state=1)"
   ],
   "metadata": {
    "collapsed": false,
    "pycharm": {
     "name": "#%%\n"
    }
   }
  },
  {
   "cell_type": "markdown",
   "source": [
    "# Create the Logistic Regression"
   ],
   "metadata": {
    "collapsed": false
   }
  },
  {
   "cell_type": "code",
   "execution_count": 405,
   "outputs": [
    {
     "data": {
      "text/plain": "LogisticRegression(solver='liblinear')"
     },
     "execution_count": 405,
     "metadata": {},
     "output_type": "execute_result"
    }
   ],
   "source": [
    "lr = LogisticRegression(solver=\"liblinear\")\n",
    "lr"
   ],
   "metadata": {
    "collapsed": false,
    "pycharm": {
     "name": "#%%\n"
    }
   }
  },
  {
   "cell_type": "markdown",
   "source": [
    "#### Fit the data"
   ],
   "metadata": {
    "collapsed": false
   }
  },
  {
   "cell_type": "code",
   "execution_count": 406,
   "outputs": [
    {
     "data": {
      "text/plain": "LogisticRegression(solver='liblinear')"
     },
     "execution_count": 406,
     "metadata": {},
     "output_type": "execute_result"
    }
   ],
   "source": [
    "lr.fit(X_train, y_train)"
   ],
   "metadata": {
    "collapsed": false,
    "pycharm": {
     "name": "#%%\n"
    }
   }
  },
  {
   "cell_type": "markdown",
   "source": [
    "#### Score the model"
   ],
   "metadata": {
    "collapsed": false
   }
  },
  {
   "cell_type": "code",
   "execution_count": 407,
   "outputs": [
    {
     "data": {
      "text/plain": "0.9021739130434783"
     },
     "execution_count": 407,
     "metadata": {},
     "output_type": "execute_result"
    }
   ],
   "source": [
    "lr.score(X_train, y_train)"
   ],
   "metadata": {
    "collapsed": false,
    "pycharm": {
     "name": "#%%\n"
    }
   }
  },
  {
   "cell_type": "code",
   "execution_count": 408,
   "outputs": [
    {
     "data": {
      "text/plain": "0.9032258064516129"
     },
     "execution_count": 408,
     "metadata": {},
     "output_type": "execute_result"
    }
   ],
   "source": [
    "lr.score(X_test, y_test)"
   ],
   "metadata": {
    "collapsed": false,
    "pycharm": {
     "name": "#%%\n"
    }
   }
  },
  {
   "cell_type": "markdown",
   "source": [
    "#### Prepare the predictions"
   ],
   "metadata": {
    "collapsed": false
   }
  },
  {
   "cell_type": "code",
   "execution_count": 409,
   "outputs": [
    {
     "name": "stdout",
     "output_type": "stream",
     "text": [
      "Confusion Matrix:\n",
      "[[21  0]\n",
      " [ 3  7]]\n",
      "------------------\n",
      "Accuracy: 0.90\n",
      "Recall: 0.70\n",
      "Prediction: 1.00\n",
      "f-measure: 0.82\n",
      "------------------\n",
      "              precision    recall  f1-score   support\n",
      "\n",
      "           0       0.88      1.00      0.93        21\n",
      "           1       1.00      0.70      0.82        10\n",
      "\n",
      "    accuracy                           0.90        31\n",
      "   macro avg       0.94      0.85      0.88        31\n",
      "weighted avg       0.92      0.90      0.90        31\n",
      "\n"
     ]
    }
   ],
   "source": [
    "predictions = lr.predict(X_test)\n",
    "PrintMetricsClassiffication(y_test, predictions)"
   ],
   "metadata": {
    "collapsed": false,
    "pycharm": {
     "name": "#%%\n"
    }
   }
  },
  {
   "cell_type": "markdown",
   "source": [
    "#### Create the data set to use for the predictions"
   ],
   "metadata": {
    "collapsed": false
   }
  },
  {
   "cell_type": "code",
   "execution_count": 410,
   "outputs": [
    {
     "data": {
      "text/plain": "   Open  Close\n0    10     11\n1    14     15\n2    29      3",
      "text/html": "<div>\n<style scoped>\n    .dataframe tbody tr th:only-of-type {\n        vertical-align: middle;\n    }\n\n    .dataframe tbody tr th {\n        vertical-align: top;\n    }\n\n    .dataframe thead th {\n        text-align: right;\n    }\n</style>\n<table border=\"1\" class=\"dataframe\">\n  <thead>\n    <tr style=\"text-align: right;\">\n      <th></th>\n      <th>Open</th>\n      <th>Close</th>\n    </tr>\n  </thead>\n  <tbody>\n    <tr>\n      <th>0</th>\n      <td>10</td>\n      <td>11</td>\n    </tr>\n    <tr>\n      <th>1</th>\n      <td>14</td>\n      <td>15</td>\n    </tr>\n    <tr>\n      <th>2</th>\n      <td>29</td>\n      <td>3</td>\n    </tr>\n  </tbody>\n</table>\n</div>"
     },
     "execution_count": 410,
     "metadata": {},
     "output_type": "execute_result"
    }
   ],
   "source": [
    "amcStockPreparedData = prepareDataForPredictions(X)\n",
    "amcPreparedData = pd.DataFrame.from_dict(amcStockPreparedData)\n",
    "amcPreparedData\n"
   ],
   "metadata": {
    "collapsed": false,
    "pycharm": {
     "name": "#%%\n"
    }
   }
  },
  {
   "cell_type": "markdown",
   "source": [
    "Use the dummy dataset to test our prediction"
   ],
   "metadata": {
    "collapsed": false
   }
  },
  {
   "cell_type": "code",
   "execution_count": 411,
   "outputs": [
    {
     "data": {
      "text/plain": "array([0, 0, 1])"
     },
     "execution_count": 411,
     "metadata": {},
     "output_type": "execute_result"
    }
   ],
   "source": [
    "predictions = lr.predict(amcPreparedData)\n",
    "predictions"
   ],
   "metadata": {
    "collapsed": false,
    "pycharm": {
     "name": "#%%\n"
    }
   }
  },
  {
   "cell_type": "code",
   "execution_count": 412,
   "outputs": [
    {
     "data": {
      "text/plain": "   Open  Close  Search Interest Above Average\n0    10     11                          False\n1    14     15                          False\n2    29      3                           True",
      "text/html": "<div>\n<style scoped>\n    .dataframe tbody tr th:only-of-type {\n        vertical-align: middle;\n    }\n\n    .dataframe tbody tr th {\n        vertical-align: top;\n    }\n\n    .dataframe thead th {\n        text-align: right;\n    }\n</style>\n<table border=\"1\" class=\"dataframe\">\n  <thead>\n    <tr style=\"text-align: right;\">\n      <th></th>\n      <th>Open</th>\n      <th>Close</th>\n      <th>Search Interest Above Average</th>\n    </tr>\n  </thead>\n  <tbody>\n    <tr>\n      <th>0</th>\n      <td>10</td>\n      <td>11</td>\n      <td>False</td>\n    </tr>\n    <tr>\n      <th>1</th>\n      <td>14</td>\n      <td>15</td>\n      <td>False</td>\n    </tr>\n    <tr>\n      <th>2</th>\n      <td>29</td>\n      <td>3</td>\n      <td>True</td>\n    </tr>\n  </tbody>\n</table>\n</div>"
     },
     "execution_count": 412,
     "metadata": {},
     "output_type": "execute_result"
    }
   ],
   "source": [
    "pdPredictedStockTrend = amcPreparedData\n",
    "pdPredictedStockTrend[\"Search Interest Above Average\"] = predictions.astype(bool)\n",
    "pdPredictedStockTrend"
   ],
   "metadata": {
    "collapsed": false,
    "pycharm": {
     "name": "#%%\n"
    }
   }
  },
  {
   "cell_type": "markdown",
   "source": [
    "#### Conclusion\n",
    "The linear regression model worked very well.  From the looks of it I was able to predict with extremely high accuracy what the close price would be for a stock based on the opening price, and search interest for the day.  Although in the real world this would be hard to get as search interest and the price changes are happening at the same time.  In my second model using logistical regression, I am not as confident with its prediction.  I tried to look from the other side to see if I could predict the search interest based on open and closed prices of AMC per day.  I felt like this would be interesting if it would conclude that search interest is high only when the stock is doing well.  This did not prove out as being a trend, but the again the accuracy of the model was high.\n",
    "\n",
    "### Coke\n",
    "Arielle Swift"
   ],
   "metadata": {
    "collapsed": false
   }
  },
  {
   "cell_type": "markdown",
   "source": [
    "#### Get Data"
   ],
   "metadata": {
    "collapsed": false
   }
  },
  {
   "cell_type": "code",
   "execution_count": 413,
   "outputs": [
    {
     "data": {
      "text/plain": "           Date       Open       High        Low      Close  Adj Close  \\\n0    2020-07-27  48.180000  48.509998  48.180000  48.480000  46.968781   \n1    2020-07-28  48.340000  49.279999  48.099998  48.180000  46.678131   \n2    2020-07-29  48.139999  48.500000  47.820000  48.020000  46.523117   \n3    2020-07-30  47.669998  48.230000  47.200001  47.689999  46.203403   \n4    2020-07-31  47.439999  47.770000  46.730000  47.240002  45.767437   \n..          ...        ...        ...        ...        ...        ...   \n245  2021-07-14  55.020000  56.349998  54.959999  56.259998  56.259998   \n246  2021-07-15  56.240002  56.470001  55.910000  56.439999  56.439999   \n247  2021-07-16  56.459999  56.680000  56.259998  56.400002  56.400002   \n248  2021-07-19  56.080002  56.349998  55.160000  55.730000  55.730000   \n249  2021-07-20  55.730000  56.330002  55.520000  55.830002  55.830002   \n\n       Volume    KO isPartial  \n0    17346500  82.0     False  \n1    13872700  82.0     False  \n2    13758100  84.0     False  \n3    17276500  85.0     False  \n4    14849200  87.0     False  \n..        ...   ...       ...  \n245  22002700  87.0     False  \n246  15068200  89.0     False  \n247  14857600  91.0     False  \n248  19527000   NaN       NaN  \n249  16242600   NaN       NaN  \n\n[250 rows x 9 columns]",
      "text/html": "<div>\n<style scoped>\n    .dataframe tbody tr th:only-of-type {\n        vertical-align: middle;\n    }\n\n    .dataframe tbody tr th {\n        vertical-align: top;\n    }\n\n    .dataframe thead th {\n        text-align: right;\n    }\n</style>\n<table border=\"1\" class=\"dataframe\">\n  <thead>\n    <tr style=\"text-align: right;\">\n      <th></th>\n      <th>Date</th>\n      <th>Open</th>\n      <th>High</th>\n      <th>Low</th>\n      <th>Close</th>\n      <th>Adj Close</th>\n      <th>Volume</th>\n      <th>KO</th>\n      <th>isPartial</th>\n    </tr>\n  </thead>\n  <tbody>\n    <tr>\n      <th>0</th>\n      <td>2020-07-27</td>\n      <td>48.180000</td>\n      <td>48.509998</td>\n      <td>48.180000</td>\n      <td>48.480000</td>\n      <td>46.968781</td>\n      <td>17346500</td>\n      <td>82.0</td>\n      <td>False</td>\n    </tr>\n    <tr>\n      <th>1</th>\n      <td>2020-07-28</td>\n      <td>48.340000</td>\n      <td>49.279999</td>\n      <td>48.099998</td>\n      <td>48.180000</td>\n      <td>46.678131</td>\n      <td>13872700</td>\n      <td>82.0</td>\n      <td>False</td>\n    </tr>\n    <tr>\n      <th>2</th>\n      <td>2020-07-29</td>\n      <td>48.139999</td>\n      <td>48.500000</td>\n      <td>47.820000</td>\n      <td>48.020000</td>\n      <td>46.523117</td>\n      <td>13758100</td>\n      <td>84.0</td>\n      <td>False</td>\n    </tr>\n    <tr>\n      <th>3</th>\n      <td>2020-07-30</td>\n      <td>47.669998</td>\n      <td>48.230000</td>\n      <td>47.200001</td>\n      <td>47.689999</td>\n      <td>46.203403</td>\n      <td>17276500</td>\n      <td>85.0</td>\n      <td>False</td>\n    </tr>\n    <tr>\n      <th>4</th>\n      <td>2020-07-31</td>\n      <td>47.439999</td>\n      <td>47.770000</td>\n      <td>46.730000</td>\n      <td>47.240002</td>\n      <td>45.767437</td>\n      <td>14849200</td>\n      <td>87.0</td>\n      <td>False</td>\n    </tr>\n    <tr>\n      <th>...</th>\n      <td>...</td>\n      <td>...</td>\n      <td>...</td>\n      <td>...</td>\n      <td>...</td>\n      <td>...</td>\n      <td>...</td>\n      <td>...</td>\n      <td>...</td>\n    </tr>\n    <tr>\n      <th>245</th>\n      <td>2021-07-14</td>\n      <td>55.020000</td>\n      <td>56.349998</td>\n      <td>54.959999</td>\n      <td>56.259998</td>\n      <td>56.259998</td>\n      <td>22002700</td>\n      <td>87.0</td>\n      <td>False</td>\n    </tr>\n    <tr>\n      <th>246</th>\n      <td>2021-07-15</td>\n      <td>56.240002</td>\n      <td>56.470001</td>\n      <td>55.910000</td>\n      <td>56.439999</td>\n      <td>56.439999</td>\n      <td>15068200</td>\n      <td>89.0</td>\n      <td>False</td>\n    </tr>\n    <tr>\n      <th>247</th>\n      <td>2021-07-16</td>\n      <td>56.459999</td>\n      <td>56.680000</td>\n      <td>56.259998</td>\n      <td>56.400002</td>\n      <td>56.400002</td>\n      <td>14857600</td>\n      <td>91.0</td>\n      <td>False</td>\n    </tr>\n    <tr>\n      <th>248</th>\n      <td>2021-07-19</td>\n      <td>56.080002</td>\n      <td>56.349998</td>\n      <td>55.160000</td>\n      <td>55.730000</td>\n      <td>55.730000</td>\n      <td>19527000</td>\n      <td>NaN</td>\n      <td>NaN</td>\n    </tr>\n    <tr>\n      <th>249</th>\n      <td>2021-07-20</td>\n      <td>55.730000</td>\n      <td>56.330002</td>\n      <td>55.520000</td>\n      <td>55.830002</td>\n      <td>55.830002</td>\n      <td>16242600</td>\n      <td>NaN</td>\n      <td>NaN</td>\n    </tr>\n  </tbody>\n</table>\n<p>250 rows × 9 columns</p>\n</div>"
     },
     "execution_count": 413,
     "metadata": {},
     "output_type": "execute_result"
    }
   ],
   "source": [
    "CokeDataSetQtr2 = get_data(\"KO\")\n",
    "\n",
    "# Name unnamed date column\n",
    "CokeDataSetQtr2.reset_index(inplace=True)\n",
    "CokeDataSetQtr2.rename(columns = {\"index\": \"Date\"},inplace = True)\n",
    "CokeDataSetQtr2"
   ],
   "metadata": {
    "collapsed": false,
    "pycharm": {
     "name": "#%%\n"
    }
   }
  },
  {
   "cell_type": "code",
   "execution_count": 414,
   "outputs": [
    {
     "data": {
      "text/plain": "           Date       Open       High        Low      Close  Adj Close  \\\n0    07-27-2020  48.180000  48.509998  48.180000  48.480000  46.968781   \n1    07-28-2020  48.340000  49.279999  48.099998  48.180000  46.678131   \n2    07-29-2020  48.139999  48.500000  47.820000  48.020000  46.523117   \n3    07-30-2020  47.669998  48.230000  47.200001  47.689999  46.203403   \n4    07-31-2020  47.439999  47.770000  46.730000  47.240002  45.767437   \n..          ...        ...        ...        ...        ...        ...   \n245  07-14-2021  55.020000  56.349998  54.959999  56.259998  56.259998   \n246  07-15-2021  56.240002  56.470001  55.910000  56.439999  56.439999   \n247  07-16-2021  56.459999  56.680000  56.259998  56.400002  56.400002   \n248  07-19-2021  56.080002  56.349998  55.160000  55.730000  55.730000   \n249  07-20-2021  55.730000  56.330002  55.520000  55.830002  55.830002   \n\n       Volume    KO isPartial  \n0    17346500  82.0     False  \n1    13872700  82.0     False  \n2    13758100  84.0     False  \n3    17276500  85.0     False  \n4    14849200  87.0     False  \n..        ...   ...       ...  \n245  22002700  87.0     False  \n246  15068200  89.0     False  \n247  14857600  91.0     False  \n248  19527000   NaN       NaN  \n249  16242600   NaN       NaN  \n\n[250 rows x 9 columns]",
      "text/html": "<div>\n<style scoped>\n    .dataframe tbody tr th:only-of-type {\n        vertical-align: middle;\n    }\n\n    .dataframe tbody tr th {\n        vertical-align: top;\n    }\n\n    .dataframe thead th {\n        text-align: right;\n    }\n</style>\n<table border=\"1\" class=\"dataframe\">\n  <thead>\n    <tr style=\"text-align: right;\">\n      <th></th>\n      <th>Date</th>\n      <th>Open</th>\n      <th>High</th>\n      <th>Low</th>\n      <th>Close</th>\n      <th>Adj Close</th>\n      <th>Volume</th>\n      <th>KO</th>\n      <th>isPartial</th>\n    </tr>\n  </thead>\n  <tbody>\n    <tr>\n      <th>0</th>\n      <td>07-27-2020</td>\n      <td>48.180000</td>\n      <td>48.509998</td>\n      <td>48.180000</td>\n      <td>48.480000</td>\n      <td>46.968781</td>\n      <td>17346500</td>\n      <td>82.0</td>\n      <td>False</td>\n    </tr>\n    <tr>\n      <th>1</th>\n      <td>07-28-2020</td>\n      <td>48.340000</td>\n      <td>49.279999</td>\n      <td>48.099998</td>\n      <td>48.180000</td>\n      <td>46.678131</td>\n      <td>13872700</td>\n      <td>82.0</td>\n      <td>False</td>\n    </tr>\n    <tr>\n      <th>2</th>\n      <td>07-29-2020</td>\n      <td>48.139999</td>\n      <td>48.500000</td>\n      <td>47.820000</td>\n      <td>48.020000</td>\n      <td>46.523117</td>\n      <td>13758100</td>\n      <td>84.0</td>\n      <td>False</td>\n    </tr>\n    <tr>\n      <th>3</th>\n      <td>07-30-2020</td>\n      <td>47.669998</td>\n      <td>48.230000</td>\n      <td>47.200001</td>\n      <td>47.689999</td>\n      <td>46.203403</td>\n      <td>17276500</td>\n      <td>85.0</td>\n      <td>False</td>\n    </tr>\n    <tr>\n      <th>4</th>\n      <td>07-31-2020</td>\n      <td>47.439999</td>\n      <td>47.770000</td>\n      <td>46.730000</td>\n      <td>47.240002</td>\n      <td>45.767437</td>\n      <td>14849200</td>\n      <td>87.0</td>\n      <td>False</td>\n    </tr>\n    <tr>\n      <th>...</th>\n      <td>...</td>\n      <td>...</td>\n      <td>...</td>\n      <td>...</td>\n      <td>...</td>\n      <td>...</td>\n      <td>...</td>\n      <td>...</td>\n      <td>...</td>\n    </tr>\n    <tr>\n      <th>245</th>\n      <td>07-14-2021</td>\n      <td>55.020000</td>\n      <td>56.349998</td>\n      <td>54.959999</td>\n      <td>56.259998</td>\n      <td>56.259998</td>\n      <td>22002700</td>\n      <td>87.0</td>\n      <td>False</td>\n    </tr>\n    <tr>\n      <th>246</th>\n      <td>07-15-2021</td>\n      <td>56.240002</td>\n      <td>56.470001</td>\n      <td>55.910000</td>\n      <td>56.439999</td>\n      <td>56.439999</td>\n      <td>15068200</td>\n      <td>89.0</td>\n      <td>False</td>\n    </tr>\n    <tr>\n      <th>247</th>\n      <td>07-16-2021</td>\n      <td>56.459999</td>\n      <td>56.680000</td>\n      <td>56.259998</td>\n      <td>56.400002</td>\n      <td>56.400002</td>\n      <td>14857600</td>\n      <td>91.0</td>\n      <td>False</td>\n    </tr>\n    <tr>\n      <th>248</th>\n      <td>07-19-2021</td>\n      <td>56.080002</td>\n      <td>56.349998</td>\n      <td>55.160000</td>\n      <td>55.730000</td>\n      <td>55.730000</td>\n      <td>19527000</td>\n      <td>NaN</td>\n      <td>NaN</td>\n    </tr>\n    <tr>\n      <th>249</th>\n      <td>07-20-2021</td>\n      <td>55.730000</td>\n      <td>56.330002</td>\n      <td>55.520000</td>\n      <td>55.830002</td>\n      <td>55.830002</td>\n      <td>16242600</td>\n      <td>NaN</td>\n      <td>NaN</td>\n    </tr>\n  </tbody>\n</table>\n<p>250 rows × 9 columns</p>\n</div>"
     },
     "execution_count": 414,
     "metadata": {},
     "output_type": "execute_result"
    }
   ],
   "source": [
    "CokeDataSetQtr2['Date']= pd.to_datetime(CokeDataSetQtr2['Date'],format='%Y-%m-%d')\n",
    "CokeDataSetQtr2['Date'] = CokeDataSetQtr2['Date'].dt.strftime('%m-%d-%Y')\n",
    "CokeDataSetQtr2\n"
   ],
   "metadata": {
    "collapsed": false,
    "pycharm": {
     "name": "#%%\n"
    }
   }
  },
  {
   "cell_type": "code",
   "execution_count": 415,
   "outputs": [],
   "source": [
    "CokeDataSetQtr2 = CokeDataSetQtr2.loc[(CokeDataSetQtr2['Date'] >= '04-01-2021')\n",
    "                     & (CokeDataSetQtr2['Date'] < '07-01-2021')]\n",
    "CokeDataSetQtr2.reset_index(drop=True, inplace=True)"
   ],
   "metadata": {
    "collapsed": false,
    "pycharm": {
     "name": "#%%\n"
    }
   }
  },
  {
   "cell_type": "code",
   "execution_count": 416,
   "outputs": [
    {
     "name": "stderr",
     "output_type": "stream",
     "text": [
      "<ipython-input-416-5037a9abd21b>:1: SettingWithCopyWarning:\n",
      "\n",
      "\n",
      "A value is trying to be set on a copy of a slice from a DataFrame.\n",
      "Try using .loc[row_indexer,col_indexer] = value instead\n",
      "\n",
      "See the caveats in the documentation: https://pandas.pydata.org/pandas-docs/stable/user_guide/indexing.html#returning-a-view-versus-a-copy\n",
      "\n"
     ]
    },
    {
     "data": {
      "text/plain": "          Date       Open       High        Low      Close  Adj Close  \\\n0   04-01-2021  52.959999  53.150002  52.459999  52.509998  52.117294   \n1   04-05-2021  52.349998  53.220001  52.290001  52.810001  52.415054   \n2   04-06-2021  53.040001  53.650002  52.900002  53.189999  52.792210   \n3   04-07-2021  53.279999  53.500000  53.119999  53.279999  52.881535   \n4   04-08-2021  53.169998  53.380001  52.970001  53.119999  52.722733   \n5   04-09-2021  53.169998  53.279999  52.810001  53.180000  52.782284   \n6   04-12-2021  53.330002  53.549999  53.099998  53.349998  52.951012   \n7   04-13-2021  53.040001  53.290001  52.810001  53.090000  52.692959   \n8   04-14-2021  52.980000  53.189999  52.650002  53.080002  52.683033   \n9   04-15-2021  53.130001  53.660000  53.119999  53.330002  52.931164   \n10  04-16-2021  53.740002  53.799999  53.380001  53.680000  53.278545   \n11  04-19-2021  54.000000  54.360001  53.299999  54.000000  53.596153   \n12  04-20-2021  53.840000  54.590000  53.810001  54.169998  53.764881   \n13  04-21-2021  54.240002  54.740002  54.240002  54.610001  54.201591   \n14  04-22-2021  54.470001  54.869999  54.320000  54.439999  54.032860   \n15  04-22-2021  54.470001  54.869999  54.320000  54.439999  54.032860   \n16  04-23-2021  54.400002  54.590000  54.169998  54.470001  54.062637   \n17  04-26-2021  54.470001  54.509998  53.580002  53.660000  53.258694   \n18  04-27-2021  53.560001  53.700001  53.320000  53.580002  53.179295   \n19  04-28-2021  53.980000  54.049999  53.439999  53.590000  53.189220   \n20  04-29-2021  53.540001  54.360001  53.430000  54.259998  53.854206   \n21  04-30-2021  54.250000  54.270000  53.689999  53.980000  53.576302   \n22  05-03-2021  54.270000  54.799999  54.160000  54.480000  54.072563   \n23  05-04-2021  54.570000  54.619999  53.939999  54.139999  53.735104   \n24  05-05-2021  54.139999  54.240002  53.709999  54.000000  53.596153   \n25  05-06-2021  54.119999  54.610001  54.049999  54.540001  54.132114   \n26  05-07-2021  54.439999  54.770000  54.160000  54.509998  54.102337   \n27  05-10-2021  54.880001  55.500000  54.830002  54.910000  54.499348   \n28  05-11-2021  55.029999  55.139999  54.049999  54.320000  53.913757   \n29  05-12-2021  54.360001  54.560001  53.880001  54.040001  53.635853   \n30  05-13-2021  53.970001  54.779999  53.830002  54.509998  54.102337   \n31  05-14-2021  54.900002  55.099998  54.689999  54.730000  54.320694   \n32  05-17-2021  54.840000  55.020000  54.500000  54.639999  54.231365   \n33  05-18-2021  54.389999  54.560001  54.099998  54.340000  53.933609   \n34  05-19-2021  54.119999  54.180000  53.610001  54.169998  53.764881   \n35  05-20-2021  54.119999  54.799999  54.119999  54.650002  54.241295   \n36  05-21-2021  54.799999  55.119999  54.220001  54.619999  54.211514   \n37  05-24-2021  54.630001  54.930000  54.490002  54.799999  54.390167   \n38  05-25-2021  54.820000  54.820000  54.349998  54.790001  54.380245   \n39  05-26-2021  54.980000  55.049999  54.590000  55.029999  54.618450   \n40  05-27-2021  55.209999  55.570000  54.779999  55.490002  55.075012   \n41  05-28-2021  55.349998  55.709999  55.200001  55.290001  54.876507   \n42  06-01-2021  55.340000  55.650002  55.099998  55.279999  54.866577   \n43  06-02-2021  55.500000  55.560001  55.259998  55.500000  55.084934   \n44  06-03-2021  55.180000  55.740002  55.099998  55.639999  55.223888   \n45  06-04-2021  55.900002  56.480000  55.779999  56.240002  55.819401   \n46  06-07-2021  56.310001  56.340000  55.810001  56.040001  55.620895   \n47  06-08-2021  56.250000  56.250000  55.549999  55.650002  55.233814   \n48  06-09-2021  55.750000  55.919998  55.480000  55.480000  55.065083   \n49  06-10-2021  55.910000  56.119999  55.759998  55.910000  55.491867   \n50  06-11-2021  55.990002  56.209999  55.660000  56.160000  55.739998   \n51  06-14-2021  55.689999  55.709999  55.200001  55.549999  55.549999   \n52  06-15-2021  55.779999  55.790001  55.189999  55.410000  55.410000   \n53  06-16-2021  55.439999  55.459999  54.639999  54.669998  54.669998   \n54  06-17-2021  54.669998  55.150002  54.650002  54.950001  54.950001   \n55  06-18-2021  54.509998  54.619999  53.720001  53.770000  53.770000   \n56  06-21-2021  54.220001  54.430000  54.000000  54.360001  54.360001   \n57  06-22-2021  54.340000  54.849998  54.259998  54.560001  54.560001   \n58  06-23-2021  54.560001  54.599998  54.110001  54.119999  54.119999   \n59  06-24-2021  54.259998  54.419998  54.000000  54.389999  54.389999   \n60  06-25-2021  54.240002  54.470001  54.009998  54.320000  54.320000   \n61  06-28-2021  54.250000  54.369999  54.000000  54.259998  54.259998   \n62  06-29-2021  54.130001  54.340000  53.720001  53.860001  53.860001   \n63  06-30-2021  53.799999  54.180000  53.750000  54.110001  54.110001   \n\n      Volume    KO isPartial  InvestToday  \n0   15834700  85.0     False            0  \n1   16368700  85.0     False            1  \n2   15614300  82.0     False            1  \n3   10062700  84.0     False            0  \n4    9695600  84.0     False            0  \n5   10828200  84.0     False            1  \n6    8565300  83.0     False            1  \n7   11071700  84.0     False            1  \n8    9787600  84.0     False            1  \n9   13078100  84.0     False            1  \n10  17974100  83.0     False            0  \n11  19352900  80.0     False            0  \n12  14419200  78.0     False            1  \n13  13866500  80.0     False            1  \n14  12558900  82.0     False            0  \n15  12558900  81.0     False            0  \n16   9020500  82.0     False            1  \n17  11684600  78.0     False            0  \n18   9852400  77.0     False            1  \n19  10868100  78.0     False            0  \n20  15391000  77.0     False            1  \n21  14912600  79.0     False            0  \n22  10417900  82.0     False            1  \n23  14151000  75.0     False            0  \n24   9665900  79.0     False            0  \n25  11572700  85.0     False            1  \n26  10637500  83.0     False            1  \n27  15545800  82.0     False            1  \n28  12986700  82.0     False            0  \n29  15836500  84.0     False            0  \n30  15475800  84.0     False            1  \n31  11725300  91.0     False            0  \n32  12119800  86.0     False            0  \n33  13232500  82.0     False            0  \n34  15126100  83.0     False            1  \n35  10948400  85.0     False            1  \n36  16033200  89.0     False            0  \n37  10326100  88.0     False            1  \n38  11916500  86.0     False            0  \n39  16064300  90.0     False            1  \n40  59109600  83.0     False            1  \n41  17011600  80.0     False            0  \n42  13304000  83.0     False            0  \n43  11328500  84.0     False            0  \n44  17364300  87.0     False            1  \n45  18935100  91.0     False            1  \n46  14010800  85.0     False            0  \n47  10968300  82.0     False            0  \n48   9838800  78.0     False            0  \n49  12444400  87.0     False            0  \n50  11825800  86.0     False            1  \n51   9710800  84.0     False            0  \n52  11154200  83.0     False            0  \n53  15211700  83.0     False            0  \n54  10658400  85.0     False            1  \n55  31445600  87.0     False            0  \n56  14404300  82.0     False            1  \n57  13072800  81.0     False            1  \n58  12339200  83.0     False            0  \n59  11488400  85.0     False            1  \n60  18880300  87.0     False            1  \n61  10556900  82.0     False            1  \n62  12300900  86.0     False            0  \n63  14614200  82.0     False            1  ",
      "text/html": "<div>\n<style scoped>\n    .dataframe tbody tr th:only-of-type {\n        vertical-align: middle;\n    }\n\n    .dataframe tbody tr th {\n        vertical-align: top;\n    }\n\n    .dataframe thead th {\n        text-align: right;\n    }\n</style>\n<table border=\"1\" class=\"dataframe\">\n  <thead>\n    <tr style=\"text-align: right;\">\n      <th></th>\n      <th>Date</th>\n      <th>Open</th>\n      <th>High</th>\n      <th>Low</th>\n      <th>Close</th>\n      <th>Adj Close</th>\n      <th>Volume</th>\n      <th>KO</th>\n      <th>isPartial</th>\n      <th>InvestToday</th>\n    </tr>\n  </thead>\n  <tbody>\n    <tr>\n      <th>0</th>\n      <td>04-01-2021</td>\n      <td>52.959999</td>\n      <td>53.150002</td>\n      <td>52.459999</td>\n      <td>52.509998</td>\n      <td>52.117294</td>\n      <td>15834700</td>\n      <td>85.0</td>\n      <td>False</td>\n      <td>0</td>\n    </tr>\n    <tr>\n      <th>1</th>\n      <td>04-05-2021</td>\n      <td>52.349998</td>\n      <td>53.220001</td>\n      <td>52.290001</td>\n      <td>52.810001</td>\n      <td>52.415054</td>\n      <td>16368700</td>\n      <td>85.0</td>\n      <td>False</td>\n      <td>1</td>\n    </tr>\n    <tr>\n      <th>2</th>\n      <td>04-06-2021</td>\n      <td>53.040001</td>\n      <td>53.650002</td>\n      <td>52.900002</td>\n      <td>53.189999</td>\n      <td>52.792210</td>\n      <td>15614300</td>\n      <td>82.0</td>\n      <td>False</td>\n      <td>1</td>\n    </tr>\n    <tr>\n      <th>3</th>\n      <td>04-07-2021</td>\n      <td>53.279999</td>\n      <td>53.500000</td>\n      <td>53.119999</td>\n      <td>53.279999</td>\n      <td>52.881535</td>\n      <td>10062700</td>\n      <td>84.0</td>\n      <td>False</td>\n      <td>0</td>\n    </tr>\n    <tr>\n      <th>4</th>\n      <td>04-08-2021</td>\n      <td>53.169998</td>\n      <td>53.380001</td>\n      <td>52.970001</td>\n      <td>53.119999</td>\n      <td>52.722733</td>\n      <td>9695600</td>\n      <td>84.0</td>\n      <td>False</td>\n      <td>0</td>\n    </tr>\n    <tr>\n      <th>5</th>\n      <td>04-09-2021</td>\n      <td>53.169998</td>\n      <td>53.279999</td>\n      <td>52.810001</td>\n      <td>53.180000</td>\n      <td>52.782284</td>\n      <td>10828200</td>\n      <td>84.0</td>\n      <td>False</td>\n      <td>1</td>\n    </tr>\n    <tr>\n      <th>6</th>\n      <td>04-12-2021</td>\n      <td>53.330002</td>\n      <td>53.549999</td>\n      <td>53.099998</td>\n      <td>53.349998</td>\n      <td>52.951012</td>\n      <td>8565300</td>\n      <td>83.0</td>\n      <td>False</td>\n      <td>1</td>\n    </tr>\n    <tr>\n      <th>7</th>\n      <td>04-13-2021</td>\n      <td>53.040001</td>\n      <td>53.290001</td>\n      <td>52.810001</td>\n      <td>53.090000</td>\n      <td>52.692959</td>\n      <td>11071700</td>\n      <td>84.0</td>\n      <td>False</td>\n      <td>1</td>\n    </tr>\n    <tr>\n      <th>8</th>\n      <td>04-14-2021</td>\n      <td>52.980000</td>\n      <td>53.189999</td>\n      <td>52.650002</td>\n      <td>53.080002</td>\n      <td>52.683033</td>\n      <td>9787600</td>\n      <td>84.0</td>\n      <td>False</td>\n      <td>1</td>\n    </tr>\n    <tr>\n      <th>9</th>\n      <td>04-15-2021</td>\n      <td>53.130001</td>\n      <td>53.660000</td>\n      <td>53.119999</td>\n      <td>53.330002</td>\n      <td>52.931164</td>\n      <td>13078100</td>\n      <td>84.0</td>\n      <td>False</td>\n      <td>1</td>\n    </tr>\n    <tr>\n      <th>10</th>\n      <td>04-16-2021</td>\n      <td>53.740002</td>\n      <td>53.799999</td>\n      <td>53.380001</td>\n      <td>53.680000</td>\n      <td>53.278545</td>\n      <td>17974100</td>\n      <td>83.0</td>\n      <td>False</td>\n      <td>0</td>\n    </tr>\n    <tr>\n      <th>11</th>\n      <td>04-19-2021</td>\n      <td>54.000000</td>\n      <td>54.360001</td>\n      <td>53.299999</td>\n      <td>54.000000</td>\n      <td>53.596153</td>\n      <td>19352900</td>\n      <td>80.0</td>\n      <td>False</td>\n      <td>0</td>\n    </tr>\n    <tr>\n      <th>12</th>\n      <td>04-20-2021</td>\n      <td>53.840000</td>\n      <td>54.590000</td>\n      <td>53.810001</td>\n      <td>54.169998</td>\n      <td>53.764881</td>\n      <td>14419200</td>\n      <td>78.0</td>\n      <td>False</td>\n      <td>1</td>\n    </tr>\n    <tr>\n      <th>13</th>\n      <td>04-21-2021</td>\n      <td>54.240002</td>\n      <td>54.740002</td>\n      <td>54.240002</td>\n      <td>54.610001</td>\n      <td>54.201591</td>\n      <td>13866500</td>\n      <td>80.0</td>\n      <td>False</td>\n      <td>1</td>\n    </tr>\n    <tr>\n      <th>14</th>\n      <td>04-22-2021</td>\n      <td>54.470001</td>\n      <td>54.869999</td>\n      <td>54.320000</td>\n      <td>54.439999</td>\n      <td>54.032860</td>\n      <td>12558900</td>\n      <td>82.0</td>\n      <td>False</td>\n      <td>0</td>\n    </tr>\n    <tr>\n      <th>15</th>\n      <td>04-22-2021</td>\n      <td>54.470001</td>\n      <td>54.869999</td>\n      <td>54.320000</td>\n      <td>54.439999</td>\n      <td>54.032860</td>\n      <td>12558900</td>\n      <td>81.0</td>\n      <td>False</td>\n      <td>0</td>\n    </tr>\n    <tr>\n      <th>16</th>\n      <td>04-23-2021</td>\n      <td>54.400002</td>\n      <td>54.590000</td>\n      <td>54.169998</td>\n      <td>54.470001</td>\n      <td>54.062637</td>\n      <td>9020500</td>\n      <td>82.0</td>\n      <td>False</td>\n      <td>1</td>\n    </tr>\n    <tr>\n      <th>17</th>\n      <td>04-26-2021</td>\n      <td>54.470001</td>\n      <td>54.509998</td>\n      <td>53.580002</td>\n      <td>53.660000</td>\n      <td>53.258694</td>\n      <td>11684600</td>\n      <td>78.0</td>\n      <td>False</td>\n      <td>0</td>\n    </tr>\n    <tr>\n      <th>18</th>\n      <td>04-27-2021</td>\n      <td>53.560001</td>\n      <td>53.700001</td>\n      <td>53.320000</td>\n      <td>53.580002</td>\n      <td>53.179295</td>\n      <td>9852400</td>\n      <td>77.0</td>\n      <td>False</td>\n      <td>1</td>\n    </tr>\n    <tr>\n      <th>19</th>\n      <td>04-28-2021</td>\n      <td>53.980000</td>\n      <td>54.049999</td>\n      <td>53.439999</td>\n      <td>53.590000</td>\n      <td>53.189220</td>\n      <td>10868100</td>\n      <td>78.0</td>\n      <td>False</td>\n      <td>0</td>\n    </tr>\n    <tr>\n      <th>20</th>\n      <td>04-29-2021</td>\n      <td>53.540001</td>\n      <td>54.360001</td>\n      <td>53.430000</td>\n      <td>54.259998</td>\n      <td>53.854206</td>\n      <td>15391000</td>\n      <td>77.0</td>\n      <td>False</td>\n      <td>1</td>\n    </tr>\n    <tr>\n      <th>21</th>\n      <td>04-30-2021</td>\n      <td>54.250000</td>\n      <td>54.270000</td>\n      <td>53.689999</td>\n      <td>53.980000</td>\n      <td>53.576302</td>\n      <td>14912600</td>\n      <td>79.0</td>\n      <td>False</td>\n      <td>0</td>\n    </tr>\n    <tr>\n      <th>22</th>\n      <td>05-03-2021</td>\n      <td>54.270000</td>\n      <td>54.799999</td>\n      <td>54.160000</td>\n      <td>54.480000</td>\n      <td>54.072563</td>\n      <td>10417900</td>\n      <td>82.0</td>\n      <td>False</td>\n      <td>1</td>\n    </tr>\n    <tr>\n      <th>23</th>\n      <td>05-04-2021</td>\n      <td>54.570000</td>\n      <td>54.619999</td>\n      <td>53.939999</td>\n      <td>54.139999</td>\n      <td>53.735104</td>\n      <td>14151000</td>\n      <td>75.0</td>\n      <td>False</td>\n      <td>0</td>\n    </tr>\n    <tr>\n      <th>24</th>\n      <td>05-05-2021</td>\n      <td>54.139999</td>\n      <td>54.240002</td>\n      <td>53.709999</td>\n      <td>54.000000</td>\n      <td>53.596153</td>\n      <td>9665900</td>\n      <td>79.0</td>\n      <td>False</td>\n      <td>0</td>\n    </tr>\n    <tr>\n      <th>25</th>\n      <td>05-06-2021</td>\n      <td>54.119999</td>\n      <td>54.610001</td>\n      <td>54.049999</td>\n      <td>54.540001</td>\n      <td>54.132114</td>\n      <td>11572700</td>\n      <td>85.0</td>\n      <td>False</td>\n      <td>1</td>\n    </tr>\n    <tr>\n      <th>26</th>\n      <td>05-07-2021</td>\n      <td>54.439999</td>\n      <td>54.770000</td>\n      <td>54.160000</td>\n      <td>54.509998</td>\n      <td>54.102337</td>\n      <td>10637500</td>\n      <td>83.0</td>\n      <td>False</td>\n      <td>1</td>\n    </tr>\n    <tr>\n      <th>27</th>\n      <td>05-10-2021</td>\n      <td>54.880001</td>\n      <td>55.500000</td>\n      <td>54.830002</td>\n      <td>54.910000</td>\n      <td>54.499348</td>\n      <td>15545800</td>\n      <td>82.0</td>\n      <td>False</td>\n      <td>1</td>\n    </tr>\n    <tr>\n      <th>28</th>\n      <td>05-11-2021</td>\n      <td>55.029999</td>\n      <td>55.139999</td>\n      <td>54.049999</td>\n      <td>54.320000</td>\n      <td>53.913757</td>\n      <td>12986700</td>\n      <td>82.0</td>\n      <td>False</td>\n      <td>0</td>\n    </tr>\n    <tr>\n      <th>29</th>\n      <td>05-12-2021</td>\n      <td>54.360001</td>\n      <td>54.560001</td>\n      <td>53.880001</td>\n      <td>54.040001</td>\n      <td>53.635853</td>\n      <td>15836500</td>\n      <td>84.0</td>\n      <td>False</td>\n      <td>0</td>\n    </tr>\n    <tr>\n      <th>30</th>\n      <td>05-13-2021</td>\n      <td>53.970001</td>\n      <td>54.779999</td>\n      <td>53.830002</td>\n      <td>54.509998</td>\n      <td>54.102337</td>\n      <td>15475800</td>\n      <td>84.0</td>\n      <td>False</td>\n      <td>1</td>\n    </tr>\n    <tr>\n      <th>31</th>\n      <td>05-14-2021</td>\n      <td>54.900002</td>\n      <td>55.099998</td>\n      <td>54.689999</td>\n      <td>54.730000</td>\n      <td>54.320694</td>\n      <td>11725300</td>\n      <td>91.0</td>\n      <td>False</td>\n      <td>0</td>\n    </tr>\n    <tr>\n      <th>32</th>\n      <td>05-17-2021</td>\n      <td>54.840000</td>\n      <td>55.020000</td>\n      <td>54.500000</td>\n      <td>54.639999</td>\n      <td>54.231365</td>\n      <td>12119800</td>\n      <td>86.0</td>\n      <td>False</td>\n      <td>0</td>\n    </tr>\n    <tr>\n      <th>33</th>\n      <td>05-18-2021</td>\n      <td>54.389999</td>\n      <td>54.560001</td>\n      <td>54.099998</td>\n      <td>54.340000</td>\n      <td>53.933609</td>\n      <td>13232500</td>\n      <td>82.0</td>\n      <td>False</td>\n      <td>0</td>\n    </tr>\n    <tr>\n      <th>34</th>\n      <td>05-19-2021</td>\n      <td>54.119999</td>\n      <td>54.180000</td>\n      <td>53.610001</td>\n      <td>54.169998</td>\n      <td>53.764881</td>\n      <td>15126100</td>\n      <td>83.0</td>\n      <td>False</td>\n      <td>1</td>\n    </tr>\n    <tr>\n      <th>35</th>\n      <td>05-20-2021</td>\n      <td>54.119999</td>\n      <td>54.799999</td>\n      <td>54.119999</td>\n      <td>54.650002</td>\n      <td>54.241295</td>\n      <td>10948400</td>\n      <td>85.0</td>\n      <td>False</td>\n      <td>1</td>\n    </tr>\n    <tr>\n      <th>36</th>\n      <td>05-21-2021</td>\n      <td>54.799999</td>\n      <td>55.119999</td>\n      <td>54.220001</td>\n      <td>54.619999</td>\n      <td>54.211514</td>\n      <td>16033200</td>\n      <td>89.0</td>\n      <td>False</td>\n      <td>0</td>\n    </tr>\n    <tr>\n      <th>37</th>\n      <td>05-24-2021</td>\n      <td>54.630001</td>\n      <td>54.930000</td>\n      <td>54.490002</td>\n      <td>54.799999</td>\n      <td>54.390167</td>\n      <td>10326100</td>\n      <td>88.0</td>\n      <td>False</td>\n      <td>1</td>\n    </tr>\n    <tr>\n      <th>38</th>\n      <td>05-25-2021</td>\n      <td>54.820000</td>\n      <td>54.820000</td>\n      <td>54.349998</td>\n      <td>54.790001</td>\n      <td>54.380245</td>\n      <td>11916500</td>\n      <td>86.0</td>\n      <td>False</td>\n      <td>0</td>\n    </tr>\n    <tr>\n      <th>39</th>\n      <td>05-26-2021</td>\n      <td>54.980000</td>\n      <td>55.049999</td>\n      <td>54.590000</td>\n      <td>55.029999</td>\n      <td>54.618450</td>\n      <td>16064300</td>\n      <td>90.0</td>\n      <td>False</td>\n      <td>1</td>\n    </tr>\n    <tr>\n      <th>40</th>\n      <td>05-27-2021</td>\n      <td>55.209999</td>\n      <td>55.570000</td>\n      <td>54.779999</td>\n      <td>55.490002</td>\n      <td>55.075012</td>\n      <td>59109600</td>\n      <td>83.0</td>\n      <td>False</td>\n      <td>1</td>\n    </tr>\n    <tr>\n      <th>41</th>\n      <td>05-28-2021</td>\n      <td>55.349998</td>\n      <td>55.709999</td>\n      <td>55.200001</td>\n      <td>55.290001</td>\n      <td>54.876507</td>\n      <td>17011600</td>\n      <td>80.0</td>\n      <td>False</td>\n      <td>0</td>\n    </tr>\n    <tr>\n      <th>42</th>\n      <td>06-01-2021</td>\n      <td>55.340000</td>\n      <td>55.650002</td>\n      <td>55.099998</td>\n      <td>55.279999</td>\n      <td>54.866577</td>\n      <td>13304000</td>\n      <td>83.0</td>\n      <td>False</td>\n      <td>0</td>\n    </tr>\n    <tr>\n      <th>43</th>\n      <td>06-02-2021</td>\n      <td>55.500000</td>\n      <td>55.560001</td>\n      <td>55.259998</td>\n      <td>55.500000</td>\n      <td>55.084934</td>\n      <td>11328500</td>\n      <td>84.0</td>\n      <td>False</td>\n      <td>0</td>\n    </tr>\n    <tr>\n      <th>44</th>\n      <td>06-03-2021</td>\n      <td>55.180000</td>\n      <td>55.740002</td>\n      <td>55.099998</td>\n      <td>55.639999</td>\n      <td>55.223888</td>\n      <td>17364300</td>\n      <td>87.0</td>\n      <td>False</td>\n      <td>1</td>\n    </tr>\n    <tr>\n      <th>45</th>\n      <td>06-04-2021</td>\n      <td>55.900002</td>\n      <td>56.480000</td>\n      <td>55.779999</td>\n      <td>56.240002</td>\n      <td>55.819401</td>\n      <td>18935100</td>\n      <td>91.0</td>\n      <td>False</td>\n      <td>1</td>\n    </tr>\n    <tr>\n      <th>46</th>\n      <td>06-07-2021</td>\n      <td>56.310001</td>\n      <td>56.340000</td>\n      <td>55.810001</td>\n      <td>56.040001</td>\n      <td>55.620895</td>\n      <td>14010800</td>\n      <td>85.0</td>\n      <td>False</td>\n      <td>0</td>\n    </tr>\n    <tr>\n      <th>47</th>\n      <td>06-08-2021</td>\n      <td>56.250000</td>\n      <td>56.250000</td>\n      <td>55.549999</td>\n      <td>55.650002</td>\n      <td>55.233814</td>\n      <td>10968300</td>\n      <td>82.0</td>\n      <td>False</td>\n      <td>0</td>\n    </tr>\n    <tr>\n      <th>48</th>\n      <td>06-09-2021</td>\n      <td>55.750000</td>\n      <td>55.919998</td>\n      <td>55.480000</td>\n      <td>55.480000</td>\n      <td>55.065083</td>\n      <td>9838800</td>\n      <td>78.0</td>\n      <td>False</td>\n      <td>0</td>\n    </tr>\n    <tr>\n      <th>49</th>\n      <td>06-10-2021</td>\n      <td>55.910000</td>\n      <td>56.119999</td>\n      <td>55.759998</td>\n      <td>55.910000</td>\n      <td>55.491867</td>\n      <td>12444400</td>\n      <td>87.0</td>\n      <td>False</td>\n      <td>0</td>\n    </tr>\n    <tr>\n      <th>50</th>\n      <td>06-11-2021</td>\n      <td>55.990002</td>\n      <td>56.209999</td>\n      <td>55.660000</td>\n      <td>56.160000</td>\n      <td>55.739998</td>\n      <td>11825800</td>\n      <td>86.0</td>\n      <td>False</td>\n      <td>1</td>\n    </tr>\n    <tr>\n      <th>51</th>\n      <td>06-14-2021</td>\n      <td>55.689999</td>\n      <td>55.709999</td>\n      <td>55.200001</td>\n      <td>55.549999</td>\n      <td>55.549999</td>\n      <td>9710800</td>\n      <td>84.0</td>\n      <td>False</td>\n      <td>0</td>\n    </tr>\n    <tr>\n      <th>52</th>\n      <td>06-15-2021</td>\n      <td>55.779999</td>\n      <td>55.790001</td>\n      <td>55.189999</td>\n      <td>55.410000</td>\n      <td>55.410000</td>\n      <td>11154200</td>\n      <td>83.0</td>\n      <td>False</td>\n      <td>0</td>\n    </tr>\n    <tr>\n      <th>53</th>\n      <td>06-16-2021</td>\n      <td>55.439999</td>\n      <td>55.459999</td>\n      <td>54.639999</td>\n      <td>54.669998</td>\n      <td>54.669998</td>\n      <td>15211700</td>\n      <td>83.0</td>\n      <td>False</td>\n      <td>0</td>\n    </tr>\n    <tr>\n      <th>54</th>\n      <td>06-17-2021</td>\n      <td>54.669998</td>\n      <td>55.150002</td>\n      <td>54.650002</td>\n      <td>54.950001</td>\n      <td>54.950001</td>\n      <td>10658400</td>\n      <td>85.0</td>\n      <td>False</td>\n      <td>1</td>\n    </tr>\n    <tr>\n      <th>55</th>\n      <td>06-18-2021</td>\n      <td>54.509998</td>\n      <td>54.619999</td>\n      <td>53.720001</td>\n      <td>53.770000</td>\n      <td>53.770000</td>\n      <td>31445600</td>\n      <td>87.0</td>\n      <td>False</td>\n      <td>0</td>\n    </tr>\n    <tr>\n      <th>56</th>\n      <td>06-21-2021</td>\n      <td>54.220001</td>\n      <td>54.430000</td>\n      <td>54.000000</td>\n      <td>54.360001</td>\n      <td>54.360001</td>\n      <td>14404300</td>\n      <td>82.0</td>\n      <td>False</td>\n      <td>1</td>\n    </tr>\n    <tr>\n      <th>57</th>\n      <td>06-22-2021</td>\n      <td>54.340000</td>\n      <td>54.849998</td>\n      <td>54.259998</td>\n      <td>54.560001</td>\n      <td>54.560001</td>\n      <td>13072800</td>\n      <td>81.0</td>\n      <td>False</td>\n      <td>1</td>\n    </tr>\n    <tr>\n      <th>58</th>\n      <td>06-23-2021</td>\n      <td>54.560001</td>\n      <td>54.599998</td>\n      <td>54.110001</td>\n      <td>54.119999</td>\n      <td>54.119999</td>\n      <td>12339200</td>\n      <td>83.0</td>\n      <td>False</td>\n      <td>0</td>\n    </tr>\n    <tr>\n      <th>59</th>\n      <td>06-24-2021</td>\n      <td>54.259998</td>\n      <td>54.419998</td>\n      <td>54.000000</td>\n      <td>54.389999</td>\n      <td>54.389999</td>\n      <td>11488400</td>\n      <td>85.0</td>\n      <td>False</td>\n      <td>1</td>\n    </tr>\n    <tr>\n      <th>60</th>\n      <td>06-25-2021</td>\n      <td>54.240002</td>\n      <td>54.470001</td>\n      <td>54.009998</td>\n      <td>54.320000</td>\n      <td>54.320000</td>\n      <td>18880300</td>\n      <td>87.0</td>\n      <td>False</td>\n      <td>1</td>\n    </tr>\n    <tr>\n      <th>61</th>\n      <td>06-28-2021</td>\n      <td>54.250000</td>\n      <td>54.369999</td>\n      <td>54.000000</td>\n      <td>54.259998</td>\n      <td>54.259998</td>\n      <td>10556900</td>\n      <td>82.0</td>\n      <td>False</td>\n      <td>1</td>\n    </tr>\n    <tr>\n      <th>62</th>\n      <td>06-29-2021</td>\n      <td>54.130001</td>\n      <td>54.340000</td>\n      <td>53.720001</td>\n      <td>53.860001</td>\n      <td>53.860001</td>\n      <td>12300900</td>\n      <td>86.0</td>\n      <td>False</td>\n      <td>0</td>\n    </tr>\n    <tr>\n      <th>63</th>\n      <td>06-30-2021</td>\n      <td>53.799999</td>\n      <td>54.180000</td>\n      <td>53.750000</td>\n      <td>54.110001</td>\n      <td>54.110001</td>\n      <td>14614200</td>\n      <td>82.0</td>\n      <td>False</td>\n      <td>1</td>\n    </tr>\n  </tbody>\n</table>\n</div>"
     },
     "execution_count": 416,
     "metadata": {},
     "output_type": "execute_result"
    }
   ],
   "source": [
    "CokeDataSetQtr2['InvestToday'] = np.where(CokeDataSetQtr2.Close - CokeDataSetQtr2.Open>0, 1, 0)\n",
    "CokeDataSetQtr2"
   ],
   "metadata": {
    "collapsed": false,
    "pycharm": {
     "name": "#%%\n"
    }
   }
  },
  {
   "cell_type": "code",
   "execution_count": 417,
   "outputs": [],
   "source": [
    "Continuous_Cols=[ 'Open', 'High', 'Low', 'Close', 'Adj Close', 'Volume']\n",
    "Categorical_Cols=['InvestToday']"
   ],
   "metadata": {
    "collapsed": false,
    "pycharm": {
     "name": "#%%\n"
    }
   }
  },
  {
   "cell_type": "code",
   "execution_count": 418,
   "outputs": [
    {
     "name": "stdout",
     "output_type": "stream",
     "text": [
      "Population:\n",
      " 0    50.0\n",
      "1    50.0\n",
      "Name: InvestToday, dtype: float64\n",
      "Train:\n",
      " 1    54.545455\n",
      "0    45.454545\n",
      "Name: InvestToday, dtype: float64\n",
      "Test:\n",
      " 0    60.0\n",
      "1    40.0\n",
      "Name: InvestToday, dtype: float64\n"
     ]
    }
   ],
   "source": [
    "Predictor_Cols = Categorical_Cols + Continuous_Cols\n",
    "\n",
    "Target_Col = 'InvestToday'\n",
    "\n",
    "X=CokeDataSetQtr2[Continuous_Cols]\n",
    "y=CokeDataSetQtr2[Target_Col]\n",
    "\n",
    "X_train, X_test, y_train, y_test = train_test_split(X, y, test_size=0.30)\n",
    "print(\"Population:\\n\",y.value_counts(normalize=True)*100)\n",
    "print(\"Train:\\n\", y_train.value_counts(normalize=True)*100)\n",
    "print(\"Test:\\n\", y_test.value_counts(normalize=True)*100)"
   ],
   "metadata": {
    "collapsed": false,
    "pycharm": {
     "name": "#%%\n"
    }
   }
  },
  {
   "cell_type": "code",
   "execution_count": 419,
   "outputs": [],
   "source": [
    "knn = KNeighborsClassifier(n_neighbors=3)"
   ],
   "metadata": {
    "collapsed": false,
    "pycharm": {
     "name": "#%%\n"
    }
   }
  },
  {
   "cell_type": "code",
   "execution_count": 420,
   "outputs": [
    {
     "data": {
      "text/plain": "KNeighborsClassifier(n_neighbors=3)"
     },
     "execution_count": 420,
     "metadata": {},
     "output_type": "execute_result"
    }
   ],
   "source": [
    "knn.fit(X_train, y_train)"
   ],
   "metadata": {
    "collapsed": false,
    "pycharm": {
     "name": "#%%\n"
    }
   }
  },
  {
   "cell_type": "code",
   "execution_count": 421,
   "outputs": [
    {
     "data": {
      "text/plain": "0.7954545454545454"
     },
     "execution_count": 421,
     "metadata": {},
     "output_type": "execute_result"
    }
   ],
   "source": [
    "knn.score(X_train, y_train)"
   ],
   "metadata": {
    "collapsed": false,
    "pycharm": {
     "name": "#%%\n"
    }
   }
  },
  {
   "cell_type": "code",
   "execution_count": 422,
   "outputs": [
    {
     "data": {
      "text/plain": "0.5"
     },
     "execution_count": 422,
     "metadata": {},
     "output_type": "execute_result"
    }
   ],
   "source": [
    "knn.score(X_test, y_test)"
   ],
   "metadata": {
    "collapsed": false,
    "pycharm": {
     "name": "#%%\n"
    }
   }
  },
  {
   "cell_type": "markdown",
   "source": [
    "#### Confusion Matrix"
   ],
   "metadata": {
    "collapsed": false
   }
  },
  {
   "cell_type": "code",
   "execution_count": 423,
   "outputs": [
    {
     "name": "stdout",
     "output_type": "stream",
     "text": [
      "Confusion Matrix:\n",
      "[[5 7]\n",
      " [3 5]]\n",
      "------------------\n",
      "Accuracy: 0.50\n",
      "Recall: 0.62\n",
      "Prediction: 0.42\n",
      "f-measure: 0.50\n",
      "------------------\n",
      "              precision    recall  f1-score   support\n",
      "\n",
      "           0       0.62      0.42      0.50        12\n",
      "           1       0.42      0.62      0.50         8\n",
      "\n",
      "    accuracy                           0.50        20\n",
      "   macro avg       0.52      0.52      0.50        20\n",
      "weighted avg       0.54      0.50      0.50        20\n",
      "\n"
     ]
    }
   ],
   "source": [
    "predictions = knn.predict(X_test)\n",
    "PrintMetricsClassiffication(y_test, predictions)"
   ],
   "metadata": {
    "collapsed": false,
    "pycharm": {
     "name": "#%%\n"
    }
   }
  },
  {
   "cell_type": "code",
   "execution_count": 424,
   "outputs": [
    {
     "data": {
      "text/plain": "          Date       Open       High        Low      Close  Adj Close  \\\n0   04-01-2021  52.959999  53.150002  52.459999  52.509998  52.117294   \n1   04-05-2021  52.349998  53.220001  52.290001  52.810001  52.415054   \n2   04-06-2021  53.040001  53.650002  52.900002  53.189999  52.792210   \n3   04-07-2021  53.279999  53.500000  53.119999  53.279999  52.881535   \n4   04-08-2021  53.169998  53.380001  52.970001  53.119999  52.722733   \n5   04-09-2021  53.169998  53.279999  52.810001  53.180000  52.782284   \n6   04-12-2021  53.330002  53.549999  53.099998  53.349998  52.951012   \n7   04-13-2021  53.040001  53.290001  52.810001  53.090000  52.692959   \n8   04-14-2021  52.980000  53.189999  52.650002  53.080002  52.683033   \n9   04-15-2021  53.130001  53.660000  53.119999  53.330002  52.931164   \n10  04-16-2021  53.740002  53.799999  53.380001  53.680000  53.278545   \n11  04-19-2021  54.000000  54.360001  53.299999  54.000000  53.596153   \n12  04-20-2021  53.840000  54.590000  53.810001  54.169998  53.764881   \n13  04-21-2021  54.240002  54.740002  54.240002  54.610001  54.201591   \n14  04-22-2021  54.470001  54.869999  54.320000  54.439999  54.032860   \n15  04-22-2021  54.470001  54.869999  54.320000  54.439999  54.032860   \n16  04-23-2021  54.400002  54.590000  54.169998  54.470001  54.062637   \n17  04-26-2021  54.470001  54.509998  53.580002  53.660000  53.258694   \n18  04-27-2021  53.560001  53.700001  53.320000  53.580002  53.179295   \n19  04-28-2021  53.980000  54.049999  53.439999  53.590000  53.189220   \n20  04-29-2021  53.540001  54.360001  53.430000  54.259998  53.854206   \n21  04-30-2021  54.250000  54.270000  53.689999  53.980000  53.576302   \n22  05-03-2021  54.270000  54.799999  54.160000  54.480000  54.072563   \n23  05-04-2021  54.570000  54.619999  53.939999  54.139999  53.735104   \n24  05-05-2021  54.139999  54.240002  53.709999  54.000000  53.596153   \n25  05-06-2021  54.119999  54.610001  54.049999  54.540001  54.132114   \n26  05-07-2021  54.439999  54.770000  54.160000  54.509998  54.102337   \n27  05-10-2021  54.880001  55.500000  54.830002  54.910000  54.499348   \n28  05-11-2021  55.029999  55.139999  54.049999  54.320000  53.913757   \n29  05-12-2021  54.360001  54.560001  53.880001  54.040001  53.635853   \n30  05-13-2021  53.970001  54.779999  53.830002  54.509998  54.102337   \n31  05-14-2021  54.900002  55.099998  54.689999  54.730000  54.320694   \n32  05-17-2021  54.840000  55.020000  54.500000  54.639999  54.231365   \n33  05-18-2021  54.389999  54.560001  54.099998  54.340000  53.933609   \n34  05-19-2021  54.119999  54.180000  53.610001  54.169998  53.764881   \n35  05-20-2021  54.119999  54.799999  54.119999  54.650002  54.241295   \n36  05-21-2021  54.799999  55.119999  54.220001  54.619999  54.211514   \n37  05-24-2021  54.630001  54.930000  54.490002  54.799999  54.390167   \n38  05-25-2021  54.820000  54.820000  54.349998  54.790001  54.380245   \n39  05-26-2021  54.980000  55.049999  54.590000  55.029999  54.618450   \n40  05-27-2021  55.209999  55.570000  54.779999  55.490002  55.075012   \n41  05-28-2021  55.349998  55.709999  55.200001  55.290001  54.876507   \n42  06-01-2021  55.340000  55.650002  55.099998  55.279999  54.866577   \n43  06-02-2021  55.500000  55.560001  55.259998  55.500000  55.084934   \n44  06-03-2021  55.180000  55.740002  55.099998  55.639999  55.223888   \n45  06-04-2021  55.900002  56.480000  55.779999  56.240002  55.819401   \n46  06-07-2021  56.310001  56.340000  55.810001  56.040001  55.620895   \n47  06-08-2021  56.250000  56.250000  55.549999  55.650002  55.233814   \n48  06-09-2021  55.750000  55.919998  55.480000  55.480000  55.065083   \n49  06-10-2021  55.910000  56.119999  55.759998  55.910000  55.491867   \n50  06-11-2021  55.990002  56.209999  55.660000  56.160000  55.739998   \n51  06-14-2021  55.689999  55.709999  55.200001  55.549999  55.549999   \n52  06-15-2021  55.779999  55.790001  55.189999  55.410000  55.410000   \n53  06-16-2021  55.439999  55.459999  54.639999  54.669998  54.669998   \n54  06-17-2021  54.669998  55.150002  54.650002  54.950001  54.950001   \n55  06-18-2021  54.509998  54.619999  53.720001  53.770000  53.770000   \n56  06-21-2021  54.220001  54.430000  54.000000  54.360001  54.360001   \n57  06-22-2021  54.340000  54.849998  54.259998  54.560001  54.560001   \n58  06-23-2021  54.560001  54.599998  54.110001  54.119999  54.119999   \n59  06-24-2021  54.259998  54.419998  54.000000  54.389999  54.389999   \n60  06-25-2021  54.240002  54.470001  54.009998  54.320000  54.320000   \n61  06-28-2021  54.250000  54.369999  54.000000  54.259998  54.259998   \n62  06-29-2021  54.130001  54.340000  53.720001  53.860001  53.860001   \n63  06-30-2021  53.799999  54.180000  53.750000  54.110001  54.110001   \n\n      Volume    KO isPartial  InvestToday  \n0   15834700  85.0     False            0  \n1   16368700  85.0     False            1  \n2   15614300  82.0     False            1  \n3   10062700  84.0     False            0  \n4    9695600  84.0     False            0  \n5   10828200  84.0     False            1  \n6    8565300  83.0     False            1  \n7   11071700  84.0     False            1  \n8    9787600  84.0     False            1  \n9   13078100  84.0     False            1  \n10  17974100  83.0     False            0  \n11  19352900  80.0     False            0  \n12  14419200  78.0     False            1  \n13  13866500  80.0     False            1  \n14  12558900  82.0     False            0  \n15  12558900  81.0     False            0  \n16   9020500  82.0     False            1  \n17  11684600  78.0     False            0  \n18   9852400  77.0     False            1  \n19  10868100  78.0     False            0  \n20  15391000  77.0     False            1  \n21  14912600  79.0     False            0  \n22  10417900  82.0     False            1  \n23  14151000  75.0     False            0  \n24   9665900  79.0     False            0  \n25  11572700  85.0     False            1  \n26  10637500  83.0     False            1  \n27  15545800  82.0     False            1  \n28  12986700  82.0     False            0  \n29  15836500  84.0     False            0  \n30  15475800  84.0     False            1  \n31  11725300  91.0     False            0  \n32  12119800  86.0     False            0  \n33  13232500  82.0     False            0  \n34  15126100  83.0     False            1  \n35  10948400  85.0     False            1  \n36  16033200  89.0     False            0  \n37  10326100  88.0     False            1  \n38  11916500  86.0     False            0  \n39  16064300  90.0     False            1  \n40  59109600  83.0     False            1  \n41  17011600  80.0     False            0  \n42  13304000  83.0     False            0  \n43  11328500  84.0     False            0  \n44  17364300  87.0     False            1  \n45  18935100  91.0     False            1  \n46  14010800  85.0     False            0  \n47  10968300  82.0     False            0  \n48   9838800  78.0     False            0  \n49  12444400  87.0     False            0  \n50  11825800  86.0     False            1  \n51   9710800  84.0     False            0  \n52  11154200  83.0     False            0  \n53  15211700  83.0     False            0  \n54  10658400  85.0     False            1  \n55  31445600  87.0     False            0  \n56  14404300  82.0     False            1  \n57  13072800  81.0     False            1  \n58  12339200  83.0     False            0  \n59  11488400  85.0     False            1  \n60  18880300  87.0     False            1  \n61  10556900  82.0     False            1  \n62  12300900  86.0     False            0  \n63  14614200  82.0     False            1  ",
      "text/html": "<div>\n<style scoped>\n    .dataframe tbody tr th:only-of-type {\n        vertical-align: middle;\n    }\n\n    .dataframe tbody tr th {\n        vertical-align: top;\n    }\n\n    .dataframe thead th {\n        text-align: right;\n    }\n</style>\n<table border=\"1\" class=\"dataframe\">\n  <thead>\n    <tr style=\"text-align: right;\">\n      <th></th>\n      <th>Date</th>\n      <th>Open</th>\n      <th>High</th>\n      <th>Low</th>\n      <th>Close</th>\n      <th>Adj Close</th>\n      <th>Volume</th>\n      <th>KO</th>\n      <th>isPartial</th>\n      <th>InvestToday</th>\n    </tr>\n  </thead>\n  <tbody>\n    <tr>\n      <th>0</th>\n      <td>04-01-2021</td>\n      <td>52.959999</td>\n      <td>53.150002</td>\n      <td>52.459999</td>\n      <td>52.509998</td>\n      <td>52.117294</td>\n      <td>15834700</td>\n      <td>85.0</td>\n      <td>False</td>\n      <td>0</td>\n    </tr>\n    <tr>\n      <th>1</th>\n      <td>04-05-2021</td>\n      <td>52.349998</td>\n      <td>53.220001</td>\n      <td>52.290001</td>\n      <td>52.810001</td>\n      <td>52.415054</td>\n      <td>16368700</td>\n      <td>85.0</td>\n      <td>False</td>\n      <td>1</td>\n    </tr>\n    <tr>\n      <th>2</th>\n      <td>04-06-2021</td>\n      <td>53.040001</td>\n      <td>53.650002</td>\n      <td>52.900002</td>\n      <td>53.189999</td>\n      <td>52.792210</td>\n      <td>15614300</td>\n      <td>82.0</td>\n      <td>False</td>\n      <td>1</td>\n    </tr>\n    <tr>\n      <th>3</th>\n      <td>04-07-2021</td>\n      <td>53.279999</td>\n      <td>53.500000</td>\n      <td>53.119999</td>\n      <td>53.279999</td>\n      <td>52.881535</td>\n      <td>10062700</td>\n      <td>84.0</td>\n      <td>False</td>\n      <td>0</td>\n    </tr>\n    <tr>\n      <th>4</th>\n      <td>04-08-2021</td>\n      <td>53.169998</td>\n      <td>53.380001</td>\n      <td>52.970001</td>\n      <td>53.119999</td>\n      <td>52.722733</td>\n      <td>9695600</td>\n      <td>84.0</td>\n      <td>False</td>\n      <td>0</td>\n    </tr>\n    <tr>\n      <th>5</th>\n      <td>04-09-2021</td>\n      <td>53.169998</td>\n      <td>53.279999</td>\n      <td>52.810001</td>\n      <td>53.180000</td>\n      <td>52.782284</td>\n      <td>10828200</td>\n      <td>84.0</td>\n      <td>False</td>\n      <td>1</td>\n    </tr>\n    <tr>\n      <th>6</th>\n      <td>04-12-2021</td>\n      <td>53.330002</td>\n      <td>53.549999</td>\n      <td>53.099998</td>\n      <td>53.349998</td>\n      <td>52.951012</td>\n      <td>8565300</td>\n      <td>83.0</td>\n      <td>False</td>\n      <td>1</td>\n    </tr>\n    <tr>\n      <th>7</th>\n      <td>04-13-2021</td>\n      <td>53.040001</td>\n      <td>53.290001</td>\n      <td>52.810001</td>\n      <td>53.090000</td>\n      <td>52.692959</td>\n      <td>11071700</td>\n      <td>84.0</td>\n      <td>False</td>\n      <td>1</td>\n    </tr>\n    <tr>\n      <th>8</th>\n      <td>04-14-2021</td>\n      <td>52.980000</td>\n      <td>53.189999</td>\n      <td>52.650002</td>\n      <td>53.080002</td>\n      <td>52.683033</td>\n      <td>9787600</td>\n      <td>84.0</td>\n      <td>False</td>\n      <td>1</td>\n    </tr>\n    <tr>\n      <th>9</th>\n      <td>04-15-2021</td>\n      <td>53.130001</td>\n      <td>53.660000</td>\n      <td>53.119999</td>\n      <td>53.330002</td>\n      <td>52.931164</td>\n      <td>13078100</td>\n      <td>84.0</td>\n      <td>False</td>\n      <td>1</td>\n    </tr>\n    <tr>\n      <th>10</th>\n      <td>04-16-2021</td>\n      <td>53.740002</td>\n      <td>53.799999</td>\n      <td>53.380001</td>\n      <td>53.680000</td>\n      <td>53.278545</td>\n      <td>17974100</td>\n      <td>83.0</td>\n      <td>False</td>\n      <td>0</td>\n    </tr>\n    <tr>\n      <th>11</th>\n      <td>04-19-2021</td>\n      <td>54.000000</td>\n      <td>54.360001</td>\n      <td>53.299999</td>\n      <td>54.000000</td>\n      <td>53.596153</td>\n      <td>19352900</td>\n      <td>80.0</td>\n      <td>False</td>\n      <td>0</td>\n    </tr>\n    <tr>\n      <th>12</th>\n      <td>04-20-2021</td>\n      <td>53.840000</td>\n      <td>54.590000</td>\n      <td>53.810001</td>\n      <td>54.169998</td>\n      <td>53.764881</td>\n      <td>14419200</td>\n      <td>78.0</td>\n      <td>False</td>\n      <td>1</td>\n    </tr>\n    <tr>\n      <th>13</th>\n      <td>04-21-2021</td>\n      <td>54.240002</td>\n      <td>54.740002</td>\n      <td>54.240002</td>\n      <td>54.610001</td>\n      <td>54.201591</td>\n      <td>13866500</td>\n      <td>80.0</td>\n      <td>False</td>\n      <td>1</td>\n    </tr>\n    <tr>\n      <th>14</th>\n      <td>04-22-2021</td>\n      <td>54.470001</td>\n      <td>54.869999</td>\n      <td>54.320000</td>\n      <td>54.439999</td>\n      <td>54.032860</td>\n      <td>12558900</td>\n      <td>82.0</td>\n      <td>False</td>\n      <td>0</td>\n    </tr>\n    <tr>\n      <th>15</th>\n      <td>04-22-2021</td>\n      <td>54.470001</td>\n      <td>54.869999</td>\n      <td>54.320000</td>\n      <td>54.439999</td>\n      <td>54.032860</td>\n      <td>12558900</td>\n      <td>81.0</td>\n      <td>False</td>\n      <td>0</td>\n    </tr>\n    <tr>\n      <th>16</th>\n      <td>04-23-2021</td>\n      <td>54.400002</td>\n      <td>54.590000</td>\n      <td>54.169998</td>\n      <td>54.470001</td>\n      <td>54.062637</td>\n      <td>9020500</td>\n      <td>82.0</td>\n      <td>False</td>\n      <td>1</td>\n    </tr>\n    <tr>\n      <th>17</th>\n      <td>04-26-2021</td>\n      <td>54.470001</td>\n      <td>54.509998</td>\n      <td>53.580002</td>\n      <td>53.660000</td>\n      <td>53.258694</td>\n      <td>11684600</td>\n      <td>78.0</td>\n      <td>False</td>\n      <td>0</td>\n    </tr>\n    <tr>\n      <th>18</th>\n      <td>04-27-2021</td>\n      <td>53.560001</td>\n      <td>53.700001</td>\n      <td>53.320000</td>\n      <td>53.580002</td>\n      <td>53.179295</td>\n      <td>9852400</td>\n      <td>77.0</td>\n      <td>False</td>\n      <td>1</td>\n    </tr>\n    <tr>\n      <th>19</th>\n      <td>04-28-2021</td>\n      <td>53.980000</td>\n      <td>54.049999</td>\n      <td>53.439999</td>\n      <td>53.590000</td>\n      <td>53.189220</td>\n      <td>10868100</td>\n      <td>78.0</td>\n      <td>False</td>\n      <td>0</td>\n    </tr>\n    <tr>\n      <th>20</th>\n      <td>04-29-2021</td>\n      <td>53.540001</td>\n      <td>54.360001</td>\n      <td>53.430000</td>\n      <td>54.259998</td>\n      <td>53.854206</td>\n      <td>15391000</td>\n      <td>77.0</td>\n      <td>False</td>\n      <td>1</td>\n    </tr>\n    <tr>\n      <th>21</th>\n      <td>04-30-2021</td>\n      <td>54.250000</td>\n      <td>54.270000</td>\n      <td>53.689999</td>\n      <td>53.980000</td>\n      <td>53.576302</td>\n      <td>14912600</td>\n      <td>79.0</td>\n      <td>False</td>\n      <td>0</td>\n    </tr>\n    <tr>\n      <th>22</th>\n      <td>05-03-2021</td>\n      <td>54.270000</td>\n      <td>54.799999</td>\n      <td>54.160000</td>\n      <td>54.480000</td>\n      <td>54.072563</td>\n      <td>10417900</td>\n      <td>82.0</td>\n      <td>False</td>\n      <td>1</td>\n    </tr>\n    <tr>\n      <th>23</th>\n      <td>05-04-2021</td>\n      <td>54.570000</td>\n      <td>54.619999</td>\n      <td>53.939999</td>\n      <td>54.139999</td>\n      <td>53.735104</td>\n      <td>14151000</td>\n      <td>75.0</td>\n      <td>False</td>\n      <td>0</td>\n    </tr>\n    <tr>\n      <th>24</th>\n      <td>05-05-2021</td>\n      <td>54.139999</td>\n      <td>54.240002</td>\n      <td>53.709999</td>\n      <td>54.000000</td>\n      <td>53.596153</td>\n      <td>9665900</td>\n      <td>79.0</td>\n      <td>False</td>\n      <td>0</td>\n    </tr>\n    <tr>\n      <th>25</th>\n      <td>05-06-2021</td>\n      <td>54.119999</td>\n      <td>54.610001</td>\n      <td>54.049999</td>\n      <td>54.540001</td>\n      <td>54.132114</td>\n      <td>11572700</td>\n      <td>85.0</td>\n      <td>False</td>\n      <td>1</td>\n    </tr>\n    <tr>\n      <th>26</th>\n      <td>05-07-2021</td>\n      <td>54.439999</td>\n      <td>54.770000</td>\n      <td>54.160000</td>\n      <td>54.509998</td>\n      <td>54.102337</td>\n      <td>10637500</td>\n      <td>83.0</td>\n      <td>False</td>\n      <td>1</td>\n    </tr>\n    <tr>\n      <th>27</th>\n      <td>05-10-2021</td>\n      <td>54.880001</td>\n      <td>55.500000</td>\n      <td>54.830002</td>\n      <td>54.910000</td>\n      <td>54.499348</td>\n      <td>15545800</td>\n      <td>82.0</td>\n      <td>False</td>\n      <td>1</td>\n    </tr>\n    <tr>\n      <th>28</th>\n      <td>05-11-2021</td>\n      <td>55.029999</td>\n      <td>55.139999</td>\n      <td>54.049999</td>\n      <td>54.320000</td>\n      <td>53.913757</td>\n      <td>12986700</td>\n      <td>82.0</td>\n      <td>False</td>\n      <td>0</td>\n    </tr>\n    <tr>\n      <th>29</th>\n      <td>05-12-2021</td>\n      <td>54.360001</td>\n      <td>54.560001</td>\n      <td>53.880001</td>\n      <td>54.040001</td>\n      <td>53.635853</td>\n      <td>15836500</td>\n      <td>84.0</td>\n      <td>False</td>\n      <td>0</td>\n    </tr>\n    <tr>\n      <th>30</th>\n      <td>05-13-2021</td>\n      <td>53.970001</td>\n      <td>54.779999</td>\n      <td>53.830002</td>\n      <td>54.509998</td>\n      <td>54.102337</td>\n      <td>15475800</td>\n      <td>84.0</td>\n      <td>False</td>\n      <td>1</td>\n    </tr>\n    <tr>\n      <th>31</th>\n      <td>05-14-2021</td>\n      <td>54.900002</td>\n      <td>55.099998</td>\n      <td>54.689999</td>\n      <td>54.730000</td>\n      <td>54.320694</td>\n      <td>11725300</td>\n      <td>91.0</td>\n      <td>False</td>\n      <td>0</td>\n    </tr>\n    <tr>\n      <th>32</th>\n      <td>05-17-2021</td>\n      <td>54.840000</td>\n      <td>55.020000</td>\n      <td>54.500000</td>\n      <td>54.639999</td>\n      <td>54.231365</td>\n      <td>12119800</td>\n      <td>86.0</td>\n      <td>False</td>\n      <td>0</td>\n    </tr>\n    <tr>\n      <th>33</th>\n      <td>05-18-2021</td>\n      <td>54.389999</td>\n      <td>54.560001</td>\n      <td>54.099998</td>\n      <td>54.340000</td>\n      <td>53.933609</td>\n      <td>13232500</td>\n      <td>82.0</td>\n      <td>False</td>\n      <td>0</td>\n    </tr>\n    <tr>\n      <th>34</th>\n      <td>05-19-2021</td>\n      <td>54.119999</td>\n      <td>54.180000</td>\n      <td>53.610001</td>\n      <td>54.169998</td>\n      <td>53.764881</td>\n      <td>15126100</td>\n      <td>83.0</td>\n      <td>False</td>\n      <td>1</td>\n    </tr>\n    <tr>\n      <th>35</th>\n      <td>05-20-2021</td>\n      <td>54.119999</td>\n      <td>54.799999</td>\n      <td>54.119999</td>\n      <td>54.650002</td>\n      <td>54.241295</td>\n      <td>10948400</td>\n      <td>85.0</td>\n      <td>False</td>\n      <td>1</td>\n    </tr>\n    <tr>\n      <th>36</th>\n      <td>05-21-2021</td>\n      <td>54.799999</td>\n      <td>55.119999</td>\n      <td>54.220001</td>\n      <td>54.619999</td>\n      <td>54.211514</td>\n      <td>16033200</td>\n      <td>89.0</td>\n      <td>False</td>\n      <td>0</td>\n    </tr>\n    <tr>\n      <th>37</th>\n      <td>05-24-2021</td>\n      <td>54.630001</td>\n      <td>54.930000</td>\n      <td>54.490002</td>\n      <td>54.799999</td>\n      <td>54.390167</td>\n      <td>10326100</td>\n      <td>88.0</td>\n      <td>False</td>\n      <td>1</td>\n    </tr>\n    <tr>\n      <th>38</th>\n      <td>05-25-2021</td>\n      <td>54.820000</td>\n      <td>54.820000</td>\n      <td>54.349998</td>\n      <td>54.790001</td>\n      <td>54.380245</td>\n      <td>11916500</td>\n      <td>86.0</td>\n      <td>False</td>\n      <td>0</td>\n    </tr>\n    <tr>\n      <th>39</th>\n      <td>05-26-2021</td>\n      <td>54.980000</td>\n      <td>55.049999</td>\n      <td>54.590000</td>\n      <td>55.029999</td>\n      <td>54.618450</td>\n      <td>16064300</td>\n      <td>90.0</td>\n      <td>False</td>\n      <td>1</td>\n    </tr>\n    <tr>\n      <th>40</th>\n      <td>05-27-2021</td>\n      <td>55.209999</td>\n      <td>55.570000</td>\n      <td>54.779999</td>\n      <td>55.490002</td>\n      <td>55.075012</td>\n      <td>59109600</td>\n      <td>83.0</td>\n      <td>False</td>\n      <td>1</td>\n    </tr>\n    <tr>\n      <th>41</th>\n      <td>05-28-2021</td>\n      <td>55.349998</td>\n      <td>55.709999</td>\n      <td>55.200001</td>\n      <td>55.290001</td>\n      <td>54.876507</td>\n      <td>17011600</td>\n      <td>80.0</td>\n      <td>False</td>\n      <td>0</td>\n    </tr>\n    <tr>\n      <th>42</th>\n      <td>06-01-2021</td>\n      <td>55.340000</td>\n      <td>55.650002</td>\n      <td>55.099998</td>\n      <td>55.279999</td>\n      <td>54.866577</td>\n      <td>13304000</td>\n      <td>83.0</td>\n      <td>False</td>\n      <td>0</td>\n    </tr>\n    <tr>\n      <th>43</th>\n      <td>06-02-2021</td>\n      <td>55.500000</td>\n      <td>55.560001</td>\n      <td>55.259998</td>\n      <td>55.500000</td>\n      <td>55.084934</td>\n      <td>11328500</td>\n      <td>84.0</td>\n      <td>False</td>\n      <td>0</td>\n    </tr>\n    <tr>\n      <th>44</th>\n      <td>06-03-2021</td>\n      <td>55.180000</td>\n      <td>55.740002</td>\n      <td>55.099998</td>\n      <td>55.639999</td>\n      <td>55.223888</td>\n      <td>17364300</td>\n      <td>87.0</td>\n      <td>False</td>\n      <td>1</td>\n    </tr>\n    <tr>\n      <th>45</th>\n      <td>06-04-2021</td>\n      <td>55.900002</td>\n      <td>56.480000</td>\n      <td>55.779999</td>\n      <td>56.240002</td>\n      <td>55.819401</td>\n      <td>18935100</td>\n      <td>91.0</td>\n      <td>False</td>\n      <td>1</td>\n    </tr>\n    <tr>\n      <th>46</th>\n      <td>06-07-2021</td>\n      <td>56.310001</td>\n      <td>56.340000</td>\n      <td>55.810001</td>\n      <td>56.040001</td>\n      <td>55.620895</td>\n      <td>14010800</td>\n      <td>85.0</td>\n      <td>False</td>\n      <td>0</td>\n    </tr>\n    <tr>\n      <th>47</th>\n      <td>06-08-2021</td>\n      <td>56.250000</td>\n      <td>56.250000</td>\n      <td>55.549999</td>\n      <td>55.650002</td>\n      <td>55.233814</td>\n      <td>10968300</td>\n      <td>82.0</td>\n      <td>False</td>\n      <td>0</td>\n    </tr>\n    <tr>\n      <th>48</th>\n      <td>06-09-2021</td>\n      <td>55.750000</td>\n      <td>55.919998</td>\n      <td>55.480000</td>\n      <td>55.480000</td>\n      <td>55.065083</td>\n      <td>9838800</td>\n      <td>78.0</td>\n      <td>False</td>\n      <td>0</td>\n    </tr>\n    <tr>\n      <th>49</th>\n      <td>06-10-2021</td>\n      <td>55.910000</td>\n      <td>56.119999</td>\n      <td>55.759998</td>\n      <td>55.910000</td>\n      <td>55.491867</td>\n      <td>12444400</td>\n      <td>87.0</td>\n      <td>False</td>\n      <td>0</td>\n    </tr>\n    <tr>\n      <th>50</th>\n      <td>06-11-2021</td>\n      <td>55.990002</td>\n      <td>56.209999</td>\n      <td>55.660000</td>\n      <td>56.160000</td>\n      <td>55.739998</td>\n      <td>11825800</td>\n      <td>86.0</td>\n      <td>False</td>\n      <td>1</td>\n    </tr>\n    <tr>\n      <th>51</th>\n      <td>06-14-2021</td>\n      <td>55.689999</td>\n      <td>55.709999</td>\n      <td>55.200001</td>\n      <td>55.549999</td>\n      <td>55.549999</td>\n      <td>9710800</td>\n      <td>84.0</td>\n      <td>False</td>\n      <td>0</td>\n    </tr>\n    <tr>\n      <th>52</th>\n      <td>06-15-2021</td>\n      <td>55.779999</td>\n      <td>55.790001</td>\n      <td>55.189999</td>\n      <td>55.410000</td>\n      <td>55.410000</td>\n      <td>11154200</td>\n      <td>83.0</td>\n      <td>False</td>\n      <td>0</td>\n    </tr>\n    <tr>\n      <th>53</th>\n      <td>06-16-2021</td>\n      <td>55.439999</td>\n      <td>55.459999</td>\n      <td>54.639999</td>\n      <td>54.669998</td>\n      <td>54.669998</td>\n      <td>15211700</td>\n      <td>83.0</td>\n      <td>False</td>\n      <td>0</td>\n    </tr>\n    <tr>\n      <th>54</th>\n      <td>06-17-2021</td>\n      <td>54.669998</td>\n      <td>55.150002</td>\n      <td>54.650002</td>\n      <td>54.950001</td>\n      <td>54.950001</td>\n      <td>10658400</td>\n      <td>85.0</td>\n      <td>False</td>\n      <td>1</td>\n    </tr>\n    <tr>\n      <th>55</th>\n      <td>06-18-2021</td>\n      <td>54.509998</td>\n      <td>54.619999</td>\n      <td>53.720001</td>\n      <td>53.770000</td>\n      <td>53.770000</td>\n      <td>31445600</td>\n      <td>87.0</td>\n      <td>False</td>\n      <td>0</td>\n    </tr>\n    <tr>\n      <th>56</th>\n      <td>06-21-2021</td>\n      <td>54.220001</td>\n      <td>54.430000</td>\n      <td>54.000000</td>\n      <td>54.360001</td>\n      <td>54.360001</td>\n      <td>14404300</td>\n      <td>82.0</td>\n      <td>False</td>\n      <td>1</td>\n    </tr>\n    <tr>\n      <th>57</th>\n      <td>06-22-2021</td>\n      <td>54.340000</td>\n      <td>54.849998</td>\n      <td>54.259998</td>\n      <td>54.560001</td>\n      <td>54.560001</td>\n      <td>13072800</td>\n      <td>81.0</td>\n      <td>False</td>\n      <td>1</td>\n    </tr>\n    <tr>\n      <th>58</th>\n      <td>06-23-2021</td>\n      <td>54.560001</td>\n      <td>54.599998</td>\n      <td>54.110001</td>\n      <td>54.119999</td>\n      <td>54.119999</td>\n      <td>12339200</td>\n      <td>83.0</td>\n      <td>False</td>\n      <td>0</td>\n    </tr>\n    <tr>\n      <th>59</th>\n      <td>06-24-2021</td>\n      <td>54.259998</td>\n      <td>54.419998</td>\n      <td>54.000000</td>\n      <td>54.389999</td>\n      <td>54.389999</td>\n      <td>11488400</td>\n      <td>85.0</td>\n      <td>False</td>\n      <td>1</td>\n    </tr>\n    <tr>\n      <th>60</th>\n      <td>06-25-2021</td>\n      <td>54.240002</td>\n      <td>54.470001</td>\n      <td>54.009998</td>\n      <td>54.320000</td>\n      <td>54.320000</td>\n      <td>18880300</td>\n      <td>87.0</td>\n      <td>False</td>\n      <td>1</td>\n    </tr>\n    <tr>\n      <th>61</th>\n      <td>06-28-2021</td>\n      <td>54.250000</td>\n      <td>54.369999</td>\n      <td>54.000000</td>\n      <td>54.259998</td>\n      <td>54.259998</td>\n      <td>10556900</td>\n      <td>82.0</td>\n      <td>False</td>\n      <td>1</td>\n    </tr>\n    <tr>\n      <th>62</th>\n      <td>06-29-2021</td>\n      <td>54.130001</td>\n      <td>54.340000</td>\n      <td>53.720001</td>\n      <td>53.860001</td>\n      <td>53.860001</td>\n      <td>12300900</td>\n      <td>86.0</td>\n      <td>False</td>\n      <td>0</td>\n    </tr>\n    <tr>\n      <th>63</th>\n      <td>06-30-2021</td>\n      <td>53.799999</td>\n      <td>54.180000</td>\n      <td>53.750000</td>\n      <td>54.110001</td>\n      <td>54.110001</td>\n      <td>14614200</td>\n      <td>82.0</td>\n      <td>False</td>\n      <td>1</td>\n    </tr>\n  </tbody>\n</table>\n</div>"
     },
     "execution_count": 424,
     "metadata": {},
     "output_type": "execute_result"
    }
   ],
   "source": [
    "CokeDataSetQtr2"
   ],
   "metadata": {
    "collapsed": false,
    "pycharm": {
     "name": "#%%\n"
    }
   }
  },
  {
   "cell_type": "code",
   "execution_count": 425,
   "outputs": [
    {
     "data": {
      "text/plain": "[{'Open': 44,\n  'High': 26,\n  'Low': 51,\n  'Close': 1,\n  'Adj Close': 52,\n  'Volume': 1439518},\n {'Open': 56,\n  'High': 15,\n  'Low': 48,\n  'Close': 53,\n  'Adj Close': 9,\n  'Volume': 22392310},\n {'Open': 22,\n  'High': 29,\n  'Low': 56,\n  'Close': 39,\n  'Adj Close': 11,\n  'Volume': 36866680},\n {'Open': 44,\n  'High': 51,\n  'Low': 51,\n  'Close': 27,\n  'Adj Close': 3,\n  'Volume': 4501192},\n {'Open': 52,\n  'High': 24,\n  'Low': 55,\n  'Close': 6,\n  'Adj Close': 46,\n  'Volume': 40024183},\n {'Open': 24,\n  'High': 11,\n  'Low': 13,\n  'Close': 55,\n  'Adj Close': 45,\n  'Volume': 2306388},\n {'Open': 11,\n  'High': 39,\n  'Low': 51,\n  'Close': 42,\n  'Adj Close': 21,\n  'Volume': 20200103},\n {'Open': 54,\n  'High': 26,\n  'Low': 29,\n  'Close': 33,\n  'Adj Close': 5,\n  'Volume': 56684817},\n {'Open': 39,\n  'High': 23,\n  'Low': 6,\n  'Close': 16,\n  'Adj Close': 52,\n  'Volume': 2563551},\n {'Open': 50,\n  'High': 4,\n  'Low': 49,\n  'Close': 53,\n  'Adj Close': 50,\n  'Volume': 40063769}]"
     },
     "execution_count": 425,
     "metadata": {},
     "output_type": "execute_result"
    }
   ],
   "source": [
    "numElements = 10\n",
    "SampleStock = []\n",
    "for _ in range(numElements):\n",
    "    dict = {}\n",
    "    for column in X.columns:\n",
    "        min = 0\n",
    "        maxValue = round(max(CokeDataSetQtr2[column].values))\n",
    "        dict[column] = rnd.randint(min, maxValue)\n",
    "    SampleStock.append(dict)\n",
    "SampleStock"
   ],
   "metadata": {
    "collapsed": false,
    "pycharm": {
     "name": "#%%\n"
    }
   }
  },
  {
   "cell_type": "code",
   "execution_count": 426,
   "outputs": [
    {
     "data": {
      "text/plain": "array([1, 1, 1, 1, 1, 1, 1, 1, 1, 1])"
     },
     "execution_count": 426,
     "metadata": {},
     "output_type": "execute_result"
    }
   ],
   "source": [
    "pdSampleStock = pd.DataFrame.from_dict(SampleStock)\n",
    "predictions = knn.predict(pdSampleStock)\n",
    "predictions"
   ],
   "metadata": {
    "collapsed": false,
    "pycharm": {
     "name": "#%%\n"
    }
   }
  },
  {
   "cell_type": "code",
   "execution_count": 427,
   "outputs": [
    {
     "data": {
      "text/plain": "   Open  High  Low  Close  Adj Close    Volume  InvestToday?\n0    44    26   51      1         52   1439518          True\n1    56    15   48     53          9  22392310          True\n2    22    29   56     39         11  36866680          True\n3    44    51   51     27          3   4501192          True\n4    52    24   55      6         46  40024183          True\n5    24    11   13     55         45   2306388          True\n6    11    39   51     42         21  20200103          True\n7    54    26   29     33          5  56684817          True\n8    39    23    6     16         52   2563551          True\n9    50     4   49     53         50  40063769          True",
      "text/html": "<div>\n<style scoped>\n    .dataframe tbody tr th:only-of-type {\n        vertical-align: middle;\n    }\n\n    .dataframe tbody tr th {\n        vertical-align: top;\n    }\n\n    .dataframe thead th {\n        text-align: right;\n    }\n</style>\n<table border=\"1\" class=\"dataframe\">\n  <thead>\n    <tr style=\"text-align: right;\">\n      <th></th>\n      <th>Open</th>\n      <th>High</th>\n      <th>Low</th>\n      <th>Close</th>\n      <th>Adj Close</th>\n      <th>Volume</th>\n      <th>InvestToday?</th>\n    </tr>\n  </thead>\n  <tbody>\n    <tr>\n      <th>0</th>\n      <td>44</td>\n      <td>26</td>\n      <td>51</td>\n      <td>1</td>\n      <td>52</td>\n      <td>1439518</td>\n      <td>True</td>\n    </tr>\n    <tr>\n      <th>1</th>\n      <td>56</td>\n      <td>15</td>\n      <td>48</td>\n      <td>53</td>\n      <td>9</td>\n      <td>22392310</td>\n      <td>True</td>\n    </tr>\n    <tr>\n      <th>2</th>\n      <td>22</td>\n      <td>29</td>\n      <td>56</td>\n      <td>39</td>\n      <td>11</td>\n      <td>36866680</td>\n      <td>True</td>\n    </tr>\n    <tr>\n      <th>3</th>\n      <td>44</td>\n      <td>51</td>\n      <td>51</td>\n      <td>27</td>\n      <td>3</td>\n      <td>4501192</td>\n      <td>True</td>\n    </tr>\n    <tr>\n      <th>4</th>\n      <td>52</td>\n      <td>24</td>\n      <td>55</td>\n      <td>6</td>\n      <td>46</td>\n      <td>40024183</td>\n      <td>True</td>\n    </tr>\n    <tr>\n      <th>5</th>\n      <td>24</td>\n      <td>11</td>\n      <td>13</td>\n      <td>55</td>\n      <td>45</td>\n      <td>2306388</td>\n      <td>True</td>\n    </tr>\n    <tr>\n      <th>6</th>\n      <td>11</td>\n      <td>39</td>\n      <td>51</td>\n      <td>42</td>\n      <td>21</td>\n      <td>20200103</td>\n      <td>True</td>\n    </tr>\n    <tr>\n      <th>7</th>\n      <td>54</td>\n      <td>26</td>\n      <td>29</td>\n      <td>33</td>\n      <td>5</td>\n      <td>56684817</td>\n      <td>True</td>\n    </tr>\n    <tr>\n      <th>8</th>\n      <td>39</td>\n      <td>23</td>\n      <td>6</td>\n      <td>16</td>\n      <td>52</td>\n      <td>2563551</td>\n      <td>True</td>\n    </tr>\n    <tr>\n      <th>9</th>\n      <td>50</td>\n      <td>4</td>\n      <td>49</td>\n      <td>53</td>\n      <td>50</td>\n      <td>40063769</td>\n      <td>True</td>\n    </tr>\n  </tbody>\n</table>\n</div>"
     },
     "execution_count": 427,
     "metadata": {},
     "output_type": "execute_result"
    }
   ],
   "source": [
    "pdPredictedInvest = pdSampleStock\n",
    "pdPredictedInvest[\"InvestToday?\"] = predictions.astype(bool)\n",
    "pdPredictedInvest"
   ],
   "metadata": {
    "collapsed": false,
    "pycharm": {
     "name": "#%%\n"
    }
   }
  },
  {
   "cell_type": "code",
   "execution_count": 428,
   "outputs": [
    {
     "data": {
      "text/plain": "LogisticRegression(solver='liblinear')"
     },
     "execution_count": 428,
     "metadata": {},
     "output_type": "execute_result"
    }
   ],
   "source": [
    "lr = LogisticRegression(solver=\"liblinear\")\n",
    "lr"
   ],
   "metadata": {
    "collapsed": false,
    "pycharm": {
     "name": "#%%\n"
    }
   }
  },
  {
   "cell_type": "code",
   "execution_count": 429,
   "outputs": [
    {
     "data": {
      "text/plain": "LogisticRegression(solver='liblinear')"
     },
     "execution_count": 429,
     "metadata": {},
     "output_type": "execute_result"
    }
   ],
   "source": [
    "lr.fit(X_train, y_train)\n"
   ],
   "metadata": {
    "collapsed": false,
    "pycharm": {
     "name": "#%%\n"
    }
   }
  },
  {
   "cell_type": "code",
   "execution_count": 430,
   "outputs": [
    {
     "data": {
      "text/plain": "0.5454545454545454"
     },
     "execution_count": 430,
     "metadata": {},
     "output_type": "execute_result"
    }
   ],
   "source": [
    "lr.score(X_train, y_train)\n"
   ],
   "metadata": {
    "collapsed": false,
    "pycharm": {
     "name": "#%%\n"
    }
   }
  },
  {
   "cell_type": "code",
   "execution_count": 431,
   "outputs": [
    {
     "data": {
      "text/plain": "0.4"
     },
     "execution_count": 431,
     "metadata": {},
     "output_type": "execute_result"
    }
   ],
   "source": [
    "lr.score(X_test, y_test)"
   ],
   "metadata": {
    "collapsed": false,
    "pycharm": {
     "name": "#%%\n"
    }
   }
  },
  {
   "cell_type": "code",
   "execution_count": 432,
   "outputs": [],
   "source": [
    "predictions = lr.predict(X_test)"
   ],
   "metadata": {
    "collapsed": false,
    "pycharm": {
     "name": "#%%\n"
    }
   }
  },
  {
   "cell_type": "code",
   "execution_count": 433,
   "outputs": [
    {
     "data": {
      "application/vnd.plotly.v1+json": {
       "config": {
        "plotlyServerURL": "https://plot.ly"
       },
       "data": [
        {
         "hovertemplate": "Close=%{x}<br>Open=%{y}<br>InvestToday=%{marker.color}<extra></extra>",
         "legendgroup": "",
         "marker": {
          "color": [
           0,
           1,
           1,
           0,
           0,
           1,
           1,
           1,
           1,
           1,
           0,
           0,
           1,
           1,
           0,
           0,
           1,
           0,
           1,
           0,
           1,
           0,
           1,
           0,
           0,
           1,
           1,
           1,
           0,
           0,
           1,
           0,
           0,
           0,
           1,
           1,
           0,
           1,
           0,
           1,
           1,
           0,
           0,
           0,
           1,
           1,
           0,
           0,
           0,
           0,
           1,
           0,
           0,
           0,
           1,
           0,
           1,
           1,
           0,
           1,
           1,
           1,
           0,
           1
          ],
          "coloraxis": "coloraxis",
          "symbol": "circle"
         },
         "mode": "markers",
         "name": "",
         "orientation": "v",
         "showlegend": false,
         "type": "scatter",
         "x": [
          52.5099983215332,
          52.810001373291016,
          53.18999862670898,
          53.27999877929688,
          53.119998931884766,
          53.18000030517578,
          53.34999847412109,
          53.09000015258789,
          53.08000183105469,
          53.33000183105469,
          53.68000030517578,
          54.0,
          54.16999816894531,
          54.61000061035156,
          54.43999862670898,
          54.43999862670898,
          54.470001220703125,
          53.65999984741211,
          53.58000183105469,
          53.59000015258789,
          54.2599983215332,
          53.97999954223633,
          54.47999954223633,
          54.13999938964844,
          54.0,
          54.540000915527344,
          54.5099983215332,
          54.90999984741211,
          54.31999969482422,
          54.040000915527344,
          54.5099983215332,
          54.72999954223633,
          54.63999938964844,
          54.34000015258789,
          54.16999816894531,
          54.650001525878906,
          54.619998931884766,
          54.79999923706055,
          54.790000915527344,
          55.02999877929688,
          55.4900016784668,
          55.290000915527344,
          55.27999877929688,
          55.5,
          55.63999938964844,
          56.2400016784668,
          56.040000915527344,
          55.650001525878906,
          55.47999954223633,
          55.90999984741211,
          56.15999984741211,
          55.54999923706055,
          55.40999984741211,
          54.66999816894531,
          54.95000076293945,
          53.77000045776367,
          54.36000061035156,
          54.560001373291016,
          54.119998931884766,
          54.38999938964844,
          54.31999969482422,
          54.2599983215332,
          53.86000061035156,
          54.11000061035156
         ],
         "xaxis": "x",
         "y": [
          52.959999084472656,
          52.34999847412109,
          53.040000915527344,
          53.27999877929688,
          53.16999816894531,
          53.16999816894531,
          53.33000183105469,
          53.040000915527344,
          52.97999954223633,
          53.130001068115234,
          53.7400016784668,
          54.0,
          53.84000015258789,
          54.2400016784668,
          54.470001220703125,
          54.470001220703125,
          54.400001525878906,
          54.470001220703125,
          53.560001373291016,
          53.97999954223633,
          53.540000915527344,
          54.25,
          54.27000045776367,
          54.56999969482422,
          54.13999938964844,
          54.119998931884766,
          54.43999862670898,
          54.880001068115234,
          55.02999877929688,
          54.36000061035156,
          53.970001220703125,
          54.900001525878906,
          54.84000015258789,
          54.38999938964844,
          54.119998931884766,
          54.119998931884766,
          54.79999923706055,
          54.630001068115234,
          54.81999969482422,
          54.97999954223633,
          55.209999084472656,
          55.34999847412109,
          55.34000015258789,
          55.5,
          55.18000030517578,
          55.900001525878906,
          56.310001373291016,
          56.25,
          55.75,
          55.90999984741211,
          55.9900016784668,
          55.68999862670898,
          55.77999877929688,
          55.43999862670898,
          54.66999816894531,
          54.5099983215332,
          54.220001220703125,
          54.34000015258789,
          54.560001373291016,
          54.2599983215332,
          54.2400016784668,
          54.25,
          54.130001068115234,
          53.79999923706055
         ],
         "yaxis": "y"
        }
       ],
       "layout": {
        "coloraxis": {
         "colorbar": {
          "title": {
           "text": "InvestToday"
          }
         },
         "colorscale": [
          [
           0.0,
           "#0d0887"
          ],
          [
           0.1111111111111111,
           "#46039f"
          ],
          [
           0.2222222222222222,
           "#7201a8"
          ],
          [
           0.3333333333333333,
           "#9c179e"
          ],
          [
           0.4444444444444444,
           "#bd3786"
          ],
          [
           0.5555555555555556,
           "#d8576b"
          ],
          [
           0.6666666666666666,
           "#ed7953"
          ],
          [
           0.7777777777777778,
           "#fb9f3a"
          ],
          [
           0.8888888888888888,
           "#fdca26"
          ],
          [
           1.0,
           "#f0f921"
          ]
         ]
        },
        "legend": {
         "tracegroupgap": 0
        },
        "margin": {
         "t": 60
        },
        "template": {
         "data": {
          "bar": [
           {
            "error_x": {
             "color": "#2a3f5f"
            },
            "error_y": {
             "color": "#2a3f5f"
            },
            "marker": {
             "line": {
              "color": "#E5ECF6",
              "width": 0.5
             }
            },
            "type": "bar"
           }
          ],
          "barpolar": [
           {
            "marker": {
             "line": {
              "color": "#E5ECF6",
              "width": 0.5
             }
            },
            "type": "barpolar"
           }
          ],
          "carpet": [
           {
            "aaxis": {
             "endlinecolor": "#2a3f5f",
             "gridcolor": "white",
             "linecolor": "white",
             "minorgridcolor": "white",
             "startlinecolor": "#2a3f5f"
            },
            "baxis": {
             "endlinecolor": "#2a3f5f",
             "gridcolor": "white",
             "linecolor": "white",
             "minorgridcolor": "white",
             "startlinecolor": "#2a3f5f"
            },
            "type": "carpet"
           }
          ],
          "choropleth": [
           {
            "colorbar": {
             "outlinewidth": 0,
             "ticks": ""
            },
            "type": "choropleth"
           }
          ],
          "contour": [
           {
            "colorbar": {
             "outlinewidth": 0,
             "ticks": ""
            },
            "colorscale": [
             [
              0.0,
              "#0d0887"
             ],
             [
              0.1111111111111111,
              "#46039f"
             ],
             [
              0.2222222222222222,
              "#7201a8"
             ],
             [
              0.3333333333333333,
              "#9c179e"
             ],
             [
              0.4444444444444444,
              "#bd3786"
             ],
             [
              0.5555555555555556,
              "#d8576b"
             ],
             [
              0.6666666666666666,
              "#ed7953"
             ],
             [
              0.7777777777777778,
              "#fb9f3a"
             ],
             [
              0.8888888888888888,
              "#fdca26"
             ],
             [
              1.0,
              "#f0f921"
             ]
            ],
            "type": "contour"
           }
          ],
          "contourcarpet": [
           {
            "colorbar": {
             "outlinewidth": 0,
             "ticks": ""
            },
            "type": "contourcarpet"
           }
          ],
          "heatmap": [
           {
            "colorbar": {
             "outlinewidth": 0,
             "ticks": ""
            },
            "colorscale": [
             [
              0.0,
              "#0d0887"
             ],
             [
              0.1111111111111111,
              "#46039f"
             ],
             [
              0.2222222222222222,
              "#7201a8"
             ],
             [
              0.3333333333333333,
              "#9c179e"
             ],
             [
              0.4444444444444444,
              "#bd3786"
             ],
             [
              0.5555555555555556,
              "#d8576b"
             ],
             [
              0.6666666666666666,
              "#ed7953"
             ],
             [
              0.7777777777777778,
              "#fb9f3a"
             ],
             [
              0.8888888888888888,
              "#fdca26"
             ],
             [
              1.0,
              "#f0f921"
             ]
            ],
            "type": "heatmap"
           }
          ],
          "heatmapgl": [
           {
            "colorbar": {
             "outlinewidth": 0,
             "ticks": ""
            },
            "colorscale": [
             [
              0.0,
              "#0d0887"
             ],
             [
              0.1111111111111111,
              "#46039f"
             ],
             [
              0.2222222222222222,
              "#7201a8"
             ],
             [
              0.3333333333333333,
              "#9c179e"
             ],
             [
              0.4444444444444444,
              "#bd3786"
             ],
             [
              0.5555555555555556,
              "#d8576b"
             ],
             [
              0.6666666666666666,
              "#ed7953"
             ],
             [
              0.7777777777777778,
              "#fb9f3a"
             ],
             [
              0.8888888888888888,
              "#fdca26"
             ],
             [
              1.0,
              "#f0f921"
             ]
            ],
            "type": "heatmapgl"
           }
          ],
          "histogram": [
           {
            "marker": {
             "colorbar": {
              "outlinewidth": 0,
              "ticks": ""
             }
            },
            "type": "histogram"
           }
          ],
          "histogram2d": [
           {
            "colorbar": {
             "outlinewidth": 0,
             "ticks": ""
            },
            "colorscale": [
             [
              0.0,
              "#0d0887"
             ],
             [
              0.1111111111111111,
              "#46039f"
             ],
             [
              0.2222222222222222,
              "#7201a8"
             ],
             [
              0.3333333333333333,
              "#9c179e"
             ],
             [
              0.4444444444444444,
              "#bd3786"
             ],
             [
              0.5555555555555556,
              "#d8576b"
             ],
             [
              0.6666666666666666,
              "#ed7953"
             ],
             [
              0.7777777777777778,
              "#fb9f3a"
             ],
             [
              0.8888888888888888,
              "#fdca26"
             ],
             [
              1.0,
              "#f0f921"
             ]
            ],
            "type": "histogram2d"
           }
          ],
          "histogram2dcontour": [
           {
            "colorbar": {
             "outlinewidth": 0,
             "ticks": ""
            },
            "colorscale": [
             [
              0.0,
              "#0d0887"
             ],
             [
              0.1111111111111111,
              "#46039f"
             ],
             [
              0.2222222222222222,
              "#7201a8"
             ],
             [
              0.3333333333333333,
              "#9c179e"
             ],
             [
              0.4444444444444444,
              "#bd3786"
             ],
             [
              0.5555555555555556,
              "#d8576b"
             ],
             [
              0.6666666666666666,
              "#ed7953"
             ],
             [
              0.7777777777777778,
              "#fb9f3a"
             ],
             [
              0.8888888888888888,
              "#fdca26"
             ],
             [
              1.0,
              "#f0f921"
             ]
            ],
            "type": "histogram2dcontour"
           }
          ],
          "mesh3d": [
           {
            "colorbar": {
             "outlinewidth": 0,
             "ticks": ""
            },
            "type": "mesh3d"
           }
          ],
          "parcoords": [
           {
            "line": {
             "colorbar": {
              "outlinewidth": 0,
              "ticks": ""
             }
            },
            "type": "parcoords"
           }
          ],
          "pie": [
           {
            "automargin": true,
            "type": "pie"
           }
          ],
          "scatter": [
           {
            "marker": {
             "colorbar": {
              "outlinewidth": 0,
              "ticks": ""
             }
            },
            "type": "scatter"
           }
          ],
          "scatter3d": [
           {
            "line": {
             "colorbar": {
              "outlinewidth": 0,
              "ticks": ""
             }
            },
            "marker": {
             "colorbar": {
              "outlinewidth": 0,
              "ticks": ""
             }
            },
            "type": "scatter3d"
           }
          ],
          "scattercarpet": [
           {
            "marker": {
             "colorbar": {
              "outlinewidth": 0,
              "ticks": ""
             }
            },
            "type": "scattercarpet"
           }
          ],
          "scattergeo": [
           {
            "marker": {
             "colorbar": {
              "outlinewidth": 0,
              "ticks": ""
             }
            },
            "type": "scattergeo"
           }
          ],
          "scattergl": [
           {
            "marker": {
             "colorbar": {
              "outlinewidth": 0,
              "ticks": ""
             }
            },
            "type": "scattergl"
           }
          ],
          "scattermapbox": [
           {
            "marker": {
             "colorbar": {
              "outlinewidth": 0,
              "ticks": ""
             }
            },
            "type": "scattermapbox"
           }
          ],
          "scatterpolar": [
           {
            "marker": {
             "colorbar": {
              "outlinewidth": 0,
              "ticks": ""
             }
            },
            "type": "scatterpolar"
           }
          ],
          "scatterpolargl": [
           {
            "marker": {
             "colorbar": {
              "outlinewidth": 0,
              "ticks": ""
             }
            },
            "type": "scatterpolargl"
           }
          ],
          "scatterternary": [
           {
            "marker": {
             "colorbar": {
              "outlinewidth": 0,
              "ticks": ""
             }
            },
            "type": "scatterternary"
           }
          ],
          "surface": [
           {
            "colorbar": {
             "outlinewidth": 0,
             "ticks": ""
            },
            "colorscale": [
             [
              0.0,
              "#0d0887"
             ],
             [
              0.1111111111111111,
              "#46039f"
             ],
             [
              0.2222222222222222,
              "#7201a8"
             ],
             [
              0.3333333333333333,
              "#9c179e"
             ],
             [
              0.4444444444444444,
              "#bd3786"
             ],
             [
              0.5555555555555556,
              "#d8576b"
             ],
             [
              0.6666666666666666,
              "#ed7953"
             ],
             [
              0.7777777777777778,
              "#fb9f3a"
             ],
             [
              0.8888888888888888,
              "#fdca26"
             ],
             [
              1.0,
              "#f0f921"
             ]
            ],
            "type": "surface"
           }
          ],
          "table": [
           {
            "cells": {
             "fill": {
              "color": "#EBF0F8"
             },
             "line": {
              "color": "white"
             }
            },
            "header": {
             "fill": {
              "color": "#C8D4E3"
             },
             "line": {
              "color": "white"
             }
            },
            "type": "table"
           }
          ]
         },
         "layout": {
          "annotationdefaults": {
           "arrowcolor": "#2a3f5f",
           "arrowhead": 0,
           "arrowwidth": 1
          },
          "autotypenumbers": "strict",
          "coloraxis": {
           "colorbar": {
            "outlinewidth": 0,
            "ticks": ""
           }
          },
          "colorscale": {
           "diverging": [
            [
             0,
             "#8e0152"
            ],
            [
             0.1,
             "#c51b7d"
            ],
            [
             0.2,
             "#de77ae"
            ],
            [
             0.3,
             "#f1b6da"
            ],
            [
             0.4,
             "#fde0ef"
            ],
            [
             0.5,
             "#f7f7f7"
            ],
            [
             0.6,
             "#e6f5d0"
            ],
            [
             0.7,
             "#b8e186"
            ],
            [
             0.8,
             "#7fbc41"
            ],
            [
             0.9,
             "#4d9221"
            ],
            [
             1,
             "#276419"
            ]
           ],
           "sequential": [
            [
             0.0,
             "#0d0887"
            ],
            [
             0.1111111111111111,
             "#46039f"
            ],
            [
             0.2222222222222222,
             "#7201a8"
            ],
            [
             0.3333333333333333,
             "#9c179e"
            ],
            [
             0.4444444444444444,
             "#bd3786"
            ],
            [
             0.5555555555555556,
             "#d8576b"
            ],
            [
             0.6666666666666666,
             "#ed7953"
            ],
            [
             0.7777777777777778,
             "#fb9f3a"
            ],
            [
             0.8888888888888888,
             "#fdca26"
            ],
            [
             1.0,
             "#f0f921"
            ]
           ],
           "sequentialminus": [
            [
             0.0,
             "#0d0887"
            ],
            [
             0.1111111111111111,
             "#46039f"
            ],
            [
             0.2222222222222222,
             "#7201a8"
            ],
            [
             0.3333333333333333,
             "#9c179e"
            ],
            [
             0.4444444444444444,
             "#bd3786"
            ],
            [
             0.5555555555555556,
             "#d8576b"
            ],
            [
             0.6666666666666666,
             "#ed7953"
            ],
            [
             0.7777777777777778,
             "#fb9f3a"
            ],
            [
             0.8888888888888888,
             "#fdca26"
            ],
            [
             1.0,
             "#f0f921"
            ]
           ]
          },
          "colorway": [
           "#636efa",
           "#EF553B",
           "#00cc96",
           "#ab63fa",
           "#FFA15A",
           "#19d3f3",
           "#FF6692",
           "#B6E880",
           "#FF97FF",
           "#FECB52"
          ],
          "font": {
           "color": "#2a3f5f"
          },
          "geo": {
           "bgcolor": "white",
           "lakecolor": "white",
           "landcolor": "#E5ECF6",
           "showlakes": true,
           "showland": true,
           "subunitcolor": "white"
          },
          "hoverlabel": {
           "align": "left"
          },
          "hovermode": "closest",
          "mapbox": {
           "style": "light"
          },
          "paper_bgcolor": "white",
          "plot_bgcolor": "#E5ECF6",
          "polar": {
           "angularaxis": {
            "gridcolor": "white",
            "linecolor": "white",
            "ticks": ""
           },
           "bgcolor": "#E5ECF6",
           "radialaxis": {
            "gridcolor": "white",
            "linecolor": "white",
            "ticks": ""
           }
          },
          "scene": {
           "xaxis": {
            "backgroundcolor": "#E5ECF6",
            "gridcolor": "white",
            "gridwidth": 2,
            "linecolor": "white",
            "showbackground": true,
            "ticks": "",
            "zerolinecolor": "white"
           },
           "yaxis": {
            "backgroundcolor": "#E5ECF6",
            "gridcolor": "white",
            "gridwidth": 2,
            "linecolor": "white",
            "showbackground": true,
            "ticks": "",
            "zerolinecolor": "white"
           },
           "zaxis": {
            "backgroundcolor": "#E5ECF6",
            "gridcolor": "white",
            "gridwidth": 2,
            "linecolor": "white",
            "showbackground": true,
            "ticks": "",
            "zerolinecolor": "white"
           }
          },
          "shapedefaults": {
           "line": {
            "color": "#2a3f5f"
           }
          },
          "ternary": {
           "aaxis": {
            "gridcolor": "white",
            "linecolor": "white",
            "ticks": ""
           },
           "baxis": {
            "gridcolor": "white",
            "linecolor": "white",
            "ticks": ""
           },
           "bgcolor": "#E5ECF6",
           "caxis": {
            "gridcolor": "white",
            "linecolor": "white",
            "ticks": ""
           }
          },
          "title": {
           "x": 0.05
          },
          "xaxis": {
           "automargin": true,
           "gridcolor": "white",
           "linecolor": "white",
           "ticks": "",
           "title": {
            "standoff": 15
           },
           "zerolinecolor": "white",
           "zerolinewidth": 2
          },
          "yaxis": {
           "automargin": true,
           "gridcolor": "white",
           "linecolor": "white",
           "ticks": "",
           "title": {
            "standoff": 15
           },
           "zerolinecolor": "white",
           "zerolinewidth": 2
          }
         }
        },
        "xaxis": {
         "anchor": "y",
         "domain": [
          0.0,
          1.0
         ],
         "title": {
          "text": "Close"
         }
        },
        "yaxis": {
         "anchor": "x",
         "domain": [
          0.0,
          1.0
         ],
         "title": {
          "text": "Open"
         }
        }
       }
      },
      "text/html": "<div>                            <div id=\"79a6a297-19ba-4d37-8499-e6ec223bcc30\" class=\"plotly-graph-div\" style=\"height:525px; width:100%;\"></div>            <script type=\"text/javascript\">                require([\"plotly\"], function(Plotly) {                    window.PLOTLYENV=window.PLOTLYENV || {};                                    if (document.getElementById(\"79a6a297-19ba-4d37-8499-e6ec223bcc30\")) {                    Plotly.newPlot(                        \"79a6a297-19ba-4d37-8499-e6ec223bcc30\",                        [{\"hovertemplate\": \"Close=%{x}<br>Open=%{y}<br>InvestToday=%{marker.color}<extra></extra>\", \"legendgroup\": \"\", \"marker\": {\"color\": [0, 1, 1, 0, 0, 1, 1, 1, 1, 1, 0, 0, 1, 1, 0, 0, 1, 0, 1, 0, 1, 0, 1, 0, 0, 1, 1, 1, 0, 0, 1, 0, 0, 0, 1, 1, 0, 1, 0, 1, 1, 0, 0, 0, 1, 1, 0, 0, 0, 0, 1, 0, 0, 0, 1, 0, 1, 1, 0, 1, 1, 1, 0, 1], \"coloraxis\": \"coloraxis\", \"symbol\": \"circle\"}, \"mode\": \"markers\", \"name\": \"\", \"orientation\": \"v\", \"showlegend\": false, \"type\": \"scatter\", \"x\": [52.5099983215332, 52.810001373291016, 53.18999862670898, 53.27999877929688, 53.119998931884766, 53.18000030517578, 53.34999847412109, 53.09000015258789, 53.08000183105469, 53.33000183105469, 53.68000030517578, 54.0, 54.16999816894531, 54.61000061035156, 54.43999862670898, 54.43999862670898, 54.470001220703125, 53.65999984741211, 53.58000183105469, 53.59000015258789, 54.2599983215332, 53.97999954223633, 54.47999954223633, 54.13999938964844, 54.0, 54.540000915527344, 54.5099983215332, 54.90999984741211, 54.31999969482422, 54.040000915527344, 54.5099983215332, 54.72999954223633, 54.63999938964844, 54.34000015258789, 54.16999816894531, 54.650001525878906, 54.619998931884766, 54.79999923706055, 54.790000915527344, 55.02999877929688, 55.4900016784668, 55.290000915527344, 55.27999877929688, 55.5, 55.63999938964844, 56.2400016784668, 56.040000915527344, 55.650001525878906, 55.47999954223633, 55.90999984741211, 56.15999984741211, 55.54999923706055, 55.40999984741211, 54.66999816894531, 54.95000076293945, 53.77000045776367, 54.36000061035156, 54.560001373291016, 54.119998931884766, 54.38999938964844, 54.31999969482422, 54.2599983215332, 53.86000061035156, 54.11000061035156], \"xaxis\": \"x\", \"y\": [52.959999084472656, 52.34999847412109, 53.040000915527344, 53.27999877929688, 53.16999816894531, 53.16999816894531, 53.33000183105469, 53.040000915527344, 52.97999954223633, 53.130001068115234, 53.7400016784668, 54.0, 53.84000015258789, 54.2400016784668, 54.470001220703125, 54.470001220703125, 54.400001525878906, 54.470001220703125, 53.560001373291016, 53.97999954223633, 53.540000915527344, 54.25, 54.27000045776367, 54.56999969482422, 54.13999938964844, 54.119998931884766, 54.43999862670898, 54.880001068115234, 55.02999877929688, 54.36000061035156, 53.970001220703125, 54.900001525878906, 54.84000015258789, 54.38999938964844, 54.119998931884766, 54.119998931884766, 54.79999923706055, 54.630001068115234, 54.81999969482422, 54.97999954223633, 55.209999084472656, 55.34999847412109, 55.34000015258789, 55.5, 55.18000030517578, 55.900001525878906, 56.310001373291016, 56.25, 55.75, 55.90999984741211, 55.9900016784668, 55.68999862670898, 55.77999877929688, 55.43999862670898, 54.66999816894531, 54.5099983215332, 54.220001220703125, 54.34000015258789, 54.560001373291016, 54.2599983215332, 54.2400016784668, 54.25, 54.130001068115234, 53.79999923706055], \"yaxis\": \"y\"}],                        {\"coloraxis\": {\"colorbar\": {\"title\": {\"text\": \"InvestToday\"}}, \"colorscale\": [[0.0, \"#0d0887\"], [0.1111111111111111, \"#46039f\"], [0.2222222222222222, \"#7201a8\"], [0.3333333333333333, \"#9c179e\"], [0.4444444444444444, \"#bd3786\"], [0.5555555555555556, \"#d8576b\"], [0.6666666666666666, \"#ed7953\"], [0.7777777777777778, \"#fb9f3a\"], [0.8888888888888888, \"#fdca26\"], [1.0, \"#f0f921\"]]}, \"legend\": {\"tracegroupgap\": 0}, \"margin\": {\"t\": 60}, \"template\": {\"data\": {\"bar\": [{\"error_x\": {\"color\": \"#2a3f5f\"}, \"error_y\": {\"color\": \"#2a3f5f\"}, \"marker\": {\"line\": {\"color\": \"#E5ECF6\", \"width\": 0.5}}, \"type\": \"bar\"}], \"barpolar\": [{\"marker\": {\"line\": {\"color\": \"#E5ECF6\", \"width\": 0.5}}, \"type\": \"barpolar\"}], \"carpet\": [{\"aaxis\": {\"endlinecolor\": \"#2a3f5f\", \"gridcolor\": \"white\", \"linecolor\": \"white\", \"minorgridcolor\": \"white\", \"startlinecolor\": \"#2a3f5f\"}, \"baxis\": {\"endlinecolor\": \"#2a3f5f\", \"gridcolor\": \"white\", \"linecolor\": \"white\", \"minorgridcolor\": \"white\", \"startlinecolor\": \"#2a3f5f\"}, \"type\": \"carpet\"}], \"choropleth\": [{\"colorbar\": {\"outlinewidth\": 0, \"ticks\": \"\"}, \"type\": \"choropleth\"}], \"contour\": [{\"colorbar\": {\"outlinewidth\": 0, \"ticks\": \"\"}, \"colorscale\": [[0.0, \"#0d0887\"], [0.1111111111111111, \"#46039f\"], [0.2222222222222222, \"#7201a8\"], [0.3333333333333333, \"#9c179e\"], [0.4444444444444444, \"#bd3786\"], [0.5555555555555556, \"#d8576b\"], [0.6666666666666666, \"#ed7953\"], [0.7777777777777778, \"#fb9f3a\"], [0.8888888888888888, \"#fdca26\"], [1.0, \"#f0f921\"]], \"type\": \"contour\"}], \"contourcarpet\": [{\"colorbar\": {\"outlinewidth\": 0, \"ticks\": \"\"}, \"type\": \"contourcarpet\"}], \"heatmap\": [{\"colorbar\": {\"outlinewidth\": 0, \"ticks\": \"\"}, \"colorscale\": [[0.0, \"#0d0887\"], [0.1111111111111111, \"#46039f\"], [0.2222222222222222, \"#7201a8\"], [0.3333333333333333, \"#9c179e\"], [0.4444444444444444, \"#bd3786\"], [0.5555555555555556, \"#d8576b\"], [0.6666666666666666, \"#ed7953\"], [0.7777777777777778, \"#fb9f3a\"], [0.8888888888888888, \"#fdca26\"], [1.0, \"#f0f921\"]], \"type\": \"heatmap\"}], \"heatmapgl\": [{\"colorbar\": {\"outlinewidth\": 0, \"ticks\": \"\"}, \"colorscale\": [[0.0, \"#0d0887\"], [0.1111111111111111, \"#46039f\"], [0.2222222222222222, \"#7201a8\"], [0.3333333333333333, \"#9c179e\"], [0.4444444444444444, \"#bd3786\"], [0.5555555555555556, \"#d8576b\"], [0.6666666666666666, \"#ed7953\"], [0.7777777777777778, \"#fb9f3a\"], [0.8888888888888888, \"#fdca26\"], [1.0, \"#f0f921\"]], \"type\": \"heatmapgl\"}], \"histogram\": [{\"marker\": {\"colorbar\": {\"outlinewidth\": 0, \"ticks\": \"\"}}, \"type\": \"histogram\"}], \"histogram2d\": [{\"colorbar\": {\"outlinewidth\": 0, \"ticks\": \"\"}, \"colorscale\": [[0.0, \"#0d0887\"], [0.1111111111111111, \"#46039f\"], [0.2222222222222222, \"#7201a8\"], [0.3333333333333333, \"#9c179e\"], [0.4444444444444444, \"#bd3786\"], [0.5555555555555556, \"#d8576b\"], [0.6666666666666666, \"#ed7953\"], [0.7777777777777778, \"#fb9f3a\"], [0.8888888888888888, \"#fdca26\"], [1.0, \"#f0f921\"]], \"type\": \"histogram2d\"}], \"histogram2dcontour\": [{\"colorbar\": {\"outlinewidth\": 0, \"ticks\": \"\"}, \"colorscale\": [[0.0, \"#0d0887\"], [0.1111111111111111, \"#46039f\"], [0.2222222222222222, \"#7201a8\"], [0.3333333333333333, \"#9c179e\"], [0.4444444444444444, \"#bd3786\"], [0.5555555555555556, \"#d8576b\"], [0.6666666666666666, \"#ed7953\"], [0.7777777777777778, \"#fb9f3a\"], [0.8888888888888888, \"#fdca26\"], [1.0, \"#f0f921\"]], \"type\": \"histogram2dcontour\"}], \"mesh3d\": [{\"colorbar\": {\"outlinewidth\": 0, \"ticks\": \"\"}, \"type\": \"mesh3d\"}], \"parcoords\": [{\"line\": {\"colorbar\": {\"outlinewidth\": 0, \"ticks\": \"\"}}, \"type\": \"parcoords\"}], \"pie\": [{\"automargin\": true, \"type\": \"pie\"}], \"scatter\": [{\"marker\": {\"colorbar\": {\"outlinewidth\": 0, \"ticks\": \"\"}}, \"type\": \"scatter\"}], \"scatter3d\": [{\"line\": {\"colorbar\": {\"outlinewidth\": 0, \"ticks\": \"\"}}, \"marker\": {\"colorbar\": {\"outlinewidth\": 0, \"ticks\": \"\"}}, \"type\": \"scatter3d\"}], \"scattercarpet\": [{\"marker\": {\"colorbar\": {\"outlinewidth\": 0, \"ticks\": \"\"}}, \"type\": \"scattercarpet\"}], \"scattergeo\": [{\"marker\": {\"colorbar\": {\"outlinewidth\": 0, \"ticks\": \"\"}}, \"type\": \"scattergeo\"}], \"scattergl\": [{\"marker\": {\"colorbar\": {\"outlinewidth\": 0, \"ticks\": \"\"}}, \"type\": \"scattergl\"}], \"scattermapbox\": [{\"marker\": {\"colorbar\": {\"outlinewidth\": 0, \"ticks\": \"\"}}, \"type\": \"scattermapbox\"}], \"scatterpolar\": [{\"marker\": {\"colorbar\": {\"outlinewidth\": 0, \"ticks\": \"\"}}, \"type\": \"scatterpolar\"}], \"scatterpolargl\": [{\"marker\": {\"colorbar\": {\"outlinewidth\": 0, \"ticks\": \"\"}}, \"type\": \"scatterpolargl\"}], \"scatterternary\": [{\"marker\": {\"colorbar\": {\"outlinewidth\": 0, \"ticks\": \"\"}}, \"type\": \"scatterternary\"}], \"surface\": [{\"colorbar\": {\"outlinewidth\": 0, \"ticks\": \"\"}, \"colorscale\": [[0.0, \"#0d0887\"], [0.1111111111111111, \"#46039f\"], [0.2222222222222222, \"#7201a8\"], [0.3333333333333333, \"#9c179e\"], [0.4444444444444444, \"#bd3786\"], [0.5555555555555556, \"#d8576b\"], [0.6666666666666666, \"#ed7953\"], [0.7777777777777778, \"#fb9f3a\"], [0.8888888888888888, \"#fdca26\"], [1.0, \"#f0f921\"]], \"type\": \"surface\"}], \"table\": [{\"cells\": {\"fill\": {\"color\": \"#EBF0F8\"}, \"line\": {\"color\": \"white\"}}, \"header\": {\"fill\": {\"color\": \"#C8D4E3\"}, \"line\": {\"color\": \"white\"}}, \"type\": \"table\"}]}, \"layout\": {\"annotationdefaults\": {\"arrowcolor\": \"#2a3f5f\", \"arrowhead\": 0, \"arrowwidth\": 1}, \"autotypenumbers\": \"strict\", \"coloraxis\": {\"colorbar\": {\"outlinewidth\": 0, \"ticks\": \"\"}}, \"colorscale\": {\"diverging\": [[0, \"#8e0152\"], [0.1, \"#c51b7d\"], [0.2, \"#de77ae\"], [0.3, \"#f1b6da\"], [0.4, \"#fde0ef\"], [0.5, \"#f7f7f7\"], [0.6, \"#e6f5d0\"], [0.7, \"#b8e186\"], [0.8, \"#7fbc41\"], [0.9, \"#4d9221\"], [1, \"#276419\"]], \"sequential\": [[0.0, \"#0d0887\"], [0.1111111111111111, \"#46039f\"], [0.2222222222222222, \"#7201a8\"], [0.3333333333333333, \"#9c179e\"], [0.4444444444444444, \"#bd3786\"], [0.5555555555555556, \"#d8576b\"], [0.6666666666666666, \"#ed7953\"], [0.7777777777777778, \"#fb9f3a\"], [0.8888888888888888, \"#fdca26\"], [1.0, \"#f0f921\"]], \"sequentialminus\": [[0.0, \"#0d0887\"], [0.1111111111111111, \"#46039f\"], [0.2222222222222222, \"#7201a8\"], [0.3333333333333333, \"#9c179e\"], [0.4444444444444444, \"#bd3786\"], [0.5555555555555556, \"#d8576b\"], [0.6666666666666666, \"#ed7953\"], [0.7777777777777778, \"#fb9f3a\"], [0.8888888888888888, \"#fdca26\"], [1.0, \"#f0f921\"]]}, \"colorway\": [\"#636efa\", \"#EF553B\", \"#00cc96\", \"#ab63fa\", \"#FFA15A\", \"#19d3f3\", \"#FF6692\", \"#B6E880\", \"#FF97FF\", \"#FECB52\"], \"font\": {\"color\": \"#2a3f5f\"}, \"geo\": {\"bgcolor\": \"white\", \"lakecolor\": \"white\", \"landcolor\": \"#E5ECF6\", \"showlakes\": true, \"showland\": true, \"subunitcolor\": \"white\"}, \"hoverlabel\": {\"align\": \"left\"}, \"hovermode\": \"closest\", \"mapbox\": {\"style\": \"light\"}, \"paper_bgcolor\": \"white\", \"plot_bgcolor\": \"#E5ECF6\", \"polar\": {\"angularaxis\": {\"gridcolor\": \"white\", \"linecolor\": \"white\", \"ticks\": \"\"}, \"bgcolor\": \"#E5ECF6\", \"radialaxis\": {\"gridcolor\": \"white\", \"linecolor\": \"white\", \"ticks\": \"\"}}, \"scene\": {\"xaxis\": {\"backgroundcolor\": \"#E5ECF6\", \"gridcolor\": \"white\", \"gridwidth\": 2, \"linecolor\": \"white\", \"showbackground\": true, \"ticks\": \"\", \"zerolinecolor\": \"white\"}, \"yaxis\": {\"backgroundcolor\": \"#E5ECF6\", \"gridcolor\": \"white\", \"gridwidth\": 2, \"linecolor\": \"white\", \"showbackground\": true, \"ticks\": \"\", \"zerolinecolor\": \"white\"}, \"zaxis\": {\"backgroundcolor\": \"#E5ECF6\", \"gridcolor\": \"white\", \"gridwidth\": 2, \"linecolor\": \"white\", \"showbackground\": true, \"ticks\": \"\", \"zerolinecolor\": \"white\"}}, \"shapedefaults\": {\"line\": {\"color\": \"#2a3f5f\"}}, \"ternary\": {\"aaxis\": {\"gridcolor\": \"white\", \"linecolor\": \"white\", \"ticks\": \"\"}, \"baxis\": {\"gridcolor\": \"white\", \"linecolor\": \"white\", \"ticks\": \"\"}, \"bgcolor\": \"#E5ECF6\", \"caxis\": {\"gridcolor\": \"white\", \"linecolor\": \"white\", \"ticks\": \"\"}}, \"title\": {\"x\": 0.05}, \"xaxis\": {\"automargin\": true, \"gridcolor\": \"white\", \"linecolor\": \"white\", \"ticks\": \"\", \"title\": {\"standoff\": 15}, \"zerolinecolor\": \"white\", \"zerolinewidth\": 2}, \"yaxis\": {\"automargin\": true, \"gridcolor\": \"white\", \"linecolor\": \"white\", \"ticks\": \"\", \"title\": {\"standoff\": 15}, \"zerolinecolor\": \"white\", \"zerolinewidth\": 2}}}, \"xaxis\": {\"anchor\": \"y\", \"domain\": [0.0, 1.0], \"title\": {\"text\": \"Close\"}}, \"yaxis\": {\"anchor\": \"x\", \"domain\": [0.0, 1.0], \"title\": {\"text\": \"Open\"}}},                        {\"responsive\": true}                    ).then(function(){\n                            \nvar gd = document.getElementById('79a6a297-19ba-4d37-8499-e6ec223bcc30');\nvar x = new MutationObserver(function (mutations, observer) {{\n        var display = window.getComputedStyle(gd).display;\n        if (!display || display === 'none') {{\n            console.log([gd, 'removed!']);\n            Plotly.purge(gd);\n            observer.disconnect();\n        }}\n}});\n\n// Listen for the removal of the full notebook cells\nvar notebookContainer = gd.closest('#notebook-container');\nif (notebookContainer) {{\n    x.observe(notebookContainer, {childList: true});\n}}\n\n// Listen for the clearing of the current output cell\nvar outputEl = gd.closest('.output');\nif (outputEl) {{\n    x.observe(outputEl, {childList: true});\n}}\n\n                        })                };                });            </script>        </div>"
     },
     "metadata": {},
     "output_type": "display_data"
    }
   ],
   "source": [
    "fig = px.scatter(CokeDataSetQtr2, x='Close', y='Open',color='InvestToday')\n",
    "fig.show()"
   ],
   "metadata": {
    "collapsed": false,
    "pycharm": {
     "name": "#%%\n"
    }
   }
  },
  {
   "cell_type": "markdown",
   "source": [
    "### Tesla (TSLA)\n",
    "Andrew T."
   ],
   "metadata": {
    "collapsed": false
   }
  },
  {
   "cell_type": "code",
   "execution_count": 434,
   "outputs": [
    {
     "data": {
      "text/plain": "    Previous_Search_Interest  isPartial\n0                         29      False\n1                         41      False\n2                         29      False\n3                         22      False\n4                         22      False\n5                         23      False\n6                         24      False\n7                         23      False\n8                         24      False\n9                         22      False\n10                        26      False\n11                        24      False\n12                        25      False\n13                        36      False\n14                        42      False\n15                        35      False\n16                        44      False\n17                        32      False\n18                        51      False\n19                        44      False\n20                        39      False\n21                        32      False\n22                        34      False\n23                        54      False\n24                        37      False\n25                        30      False\n26                        35      False\n27                        32      False\n28                        32      False\n29                        26      False\n30                        26      False\n31                        25      False\n32                        23      False\n33                        25      False\n34                        30      False\n35                        31      False\n36                        29      False\n37                        26      False\n38                        29      False\n39                        28      False\n40                        32      False\n41                        30      False\n42                        33      False\n43                        74      False\n44                        38      False\n45                        31      False\n46                        35      False\n47                        53      False\n48                        40      False\n49                       100      False\n50                        66      False\n51                        53      False\n52                        46      False\n53                        55      False\n54                        54      False\n55                        42      False\n56                        34      False\n57                        28      False\n58                        33      False\n59                        29      False\n60                        29      False\n61                        28      False\n62                        29      False\n63                        27      False\n64                        24      False\n65                        29      False\n66                        29      False\n67                        29      False\n68                        28      False\n69                        41      False\n70                        38      False\n71                        33      False\n72                        28      False\n73                        23      False\n74                        25      False\n75                        32      False\n76                        25      False\n77                        23      False\n78                        23      False\n79                        22      False\n80                        17      False\n81                        21      False\n82                        33      False\n83                        46      False\n84                        32      False\n85                        26      False\n86                        24      False\n87                        22      False\n88                        22      False\n89                        25      False\n90                        22      False",
      "text/html": "<div>\n<style scoped>\n    .dataframe tbody tr th:only-of-type {\n        vertical-align: middle;\n    }\n\n    .dataframe tbody tr th {\n        vertical-align: top;\n    }\n\n    .dataframe thead th {\n        text-align: right;\n    }\n</style>\n<table border=\"1\" class=\"dataframe\">\n  <thead>\n    <tr style=\"text-align: right;\">\n      <th></th>\n      <th>Previous_Search_Interest</th>\n      <th>isPartial</th>\n    </tr>\n  </thead>\n  <tbody>\n    <tr>\n      <th>0</th>\n      <td>29</td>\n      <td>False</td>\n    </tr>\n    <tr>\n      <th>1</th>\n      <td>41</td>\n      <td>False</td>\n    </tr>\n    <tr>\n      <th>2</th>\n      <td>29</td>\n      <td>False</td>\n    </tr>\n    <tr>\n      <th>3</th>\n      <td>22</td>\n      <td>False</td>\n    </tr>\n    <tr>\n      <th>4</th>\n      <td>22</td>\n      <td>False</td>\n    </tr>\n    <tr>\n      <th>5</th>\n      <td>23</td>\n      <td>False</td>\n    </tr>\n    <tr>\n      <th>6</th>\n      <td>24</td>\n      <td>False</td>\n    </tr>\n    <tr>\n      <th>7</th>\n      <td>23</td>\n      <td>False</td>\n    </tr>\n    <tr>\n      <th>8</th>\n      <td>24</td>\n      <td>False</td>\n    </tr>\n    <tr>\n      <th>9</th>\n      <td>22</td>\n      <td>False</td>\n    </tr>\n    <tr>\n      <th>10</th>\n      <td>26</td>\n      <td>False</td>\n    </tr>\n    <tr>\n      <th>11</th>\n      <td>24</td>\n      <td>False</td>\n    </tr>\n    <tr>\n      <th>12</th>\n      <td>25</td>\n      <td>False</td>\n    </tr>\n    <tr>\n      <th>13</th>\n      <td>36</td>\n      <td>False</td>\n    </tr>\n    <tr>\n      <th>14</th>\n      <td>42</td>\n      <td>False</td>\n    </tr>\n    <tr>\n      <th>15</th>\n      <td>35</td>\n      <td>False</td>\n    </tr>\n    <tr>\n      <th>16</th>\n      <td>44</td>\n      <td>False</td>\n    </tr>\n    <tr>\n      <th>17</th>\n      <td>32</td>\n      <td>False</td>\n    </tr>\n    <tr>\n      <th>18</th>\n      <td>51</td>\n      <td>False</td>\n    </tr>\n    <tr>\n      <th>19</th>\n      <td>44</td>\n      <td>False</td>\n    </tr>\n    <tr>\n      <th>20</th>\n      <td>39</td>\n      <td>False</td>\n    </tr>\n    <tr>\n      <th>21</th>\n      <td>32</td>\n      <td>False</td>\n    </tr>\n    <tr>\n      <th>22</th>\n      <td>34</td>\n      <td>False</td>\n    </tr>\n    <tr>\n      <th>23</th>\n      <td>54</td>\n      <td>False</td>\n    </tr>\n    <tr>\n      <th>24</th>\n      <td>37</td>\n      <td>False</td>\n    </tr>\n    <tr>\n      <th>25</th>\n      <td>30</td>\n      <td>False</td>\n    </tr>\n    <tr>\n      <th>26</th>\n      <td>35</td>\n      <td>False</td>\n    </tr>\n    <tr>\n      <th>27</th>\n      <td>32</td>\n      <td>False</td>\n    </tr>\n    <tr>\n      <th>28</th>\n      <td>32</td>\n      <td>False</td>\n    </tr>\n    <tr>\n      <th>29</th>\n      <td>26</td>\n      <td>False</td>\n    </tr>\n    <tr>\n      <th>30</th>\n      <td>26</td>\n      <td>False</td>\n    </tr>\n    <tr>\n      <th>31</th>\n      <td>25</td>\n      <td>False</td>\n    </tr>\n    <tr>\n      <th>32</th>\n      <td>23</td>\n      <td>False</td>\n    </tr>\n    <tr>\n      <th>33</th>\n      <td>25</td>\n      <td>False</td>\n    </tr>\n    <tr>\n      <th>34</th>\n      <td>30</td>\n      <td>False</td>\n    </tr>\n    <tr>\n      <th>35</th>\n      <td>31</td>\n      <td>False</td>\n    </tr>\n    <tr>\n      <th>36</th>\n      <td>29</td>\n      <td>False</td>\n    </tr>\n    <tr>\n      <th>37</th>\n      <td>26</td>\n      <td>False</td>\n    </tr>\n    <tr>\n      <th>38</th>\n      <td>29</td>\n      <td>False</td>\n    </tr>\n    <tr>\n      <th>39</th>\n      <td>28</td>\n      <td>False</td>\n    </tr>\n    <tr>\n      <th>40</th>\n      <td>32</td>\n      <td>False</td>\n    </tr>\n    <tr>\n      <th>41</th>\n      <td>30</td>\n      <td>False</td>\n    </tr>\n    <tr>\n      <th>42</th>\n      <td>33</td>\n      <td>False</td>\n    </tr>\n    <tr>\n      <th>43</th>\n      <td>74</td>\n      <td>False</td>\n    </tr>\n    <tr>\n      <th>44</th>\n      <td>38</td>\n      <td>False</td>\n    </tr>\n    <tr>\n      <th>45</th>\n      <td>31</td>\n      <td>False</td>\n    </tr>\n    <tr>\n      <th>46</th>\n      <td>35</td>\n      <td>False</td>\n    </tr>\n    <tr>\n      <th>47</th>\n      <td>53</td>\n      <td>False</td>\n    </tr>\n    <tr>\n      <th>48</th>\n      <td>40</td>\n      <td>False</td>\n    </tr>\n    <tr>\n      <th>49</th>\n      <td>100</td>\n      <td>False</td>\n    </tr>\n    <tr>\n      <th>50</th>\n      <td>66</td>\n      <td>False</td>\n    </tr>\n    <tr>\n      <th>51</th>\n      <td>53</td>\n      <td>False</td>\n    </tr>\n    <tr>\n      <th>52</th>\n      <td>46</td>\n      <td>False</td>\n    </tr>\n    <tr>\n      <th>53</th>\n      <td>55</td>\n      <td>False</td>\n    </tr>\n    <tr>\n      <th>54</th>\n      <td>54</td>\n      <td>False</td>\n    </tr>\n    <tr>\n      <th>55</th>\n      <td>42</td>\n      <td>False</td>\n    </tr>\n    <tr>\n      <th>56</th>\n      <td>34</td>\n      <td>False</td>\n    </tr>\n    <tr>\n      <th>57</th>\n      <td>28</td>\n      <td>False</td>\n    </tr>\n    <tr>\n      <th>58</th>\n      <td>33</td>\n      <td>False</td>\n    </tr>\n    <tr>\n      <th>59</th>\n      <td>29</td>\n      <td>False</td>\n    </tr>\n    <tr>\n      <th>60</th>\n      <td>29</td>\n      <td>False</td>\n    </tr>\n    <tr>\n      <th>61</th>\n      <td>28</td>\n      <td>False</td>\n    </tr>\n    <tr>\n      <th>62</th>\n      <td>29</td>\n      <td>False</td>\n    </tr>\n    <tr>\n      <th>63</th>\n      <td>27</td>\n      <td>False</td>\n    </tr>\n    <tr>\n      <th>64</th>\n      <td>24</td>\n      <td>False</td>\n    </tr>\n    <tr>\n      <th>65</th>\n      <td>29</td>\n      <td>False</td>\n    </tr>\n    <tr>\n      <th>66</th>\n      <td>29</td>\n      <td>False</td>\n    </tr>\n    <tr>\n      <th>67</th>\n      <td>29</td>\n      <td>False</td>\n    </tr>\n    <tr>\n      <th>68</th>\n      <td>28</td>\n      <td>False</td>\n    </tr>\n    <tr>\n      <th>69</th>\n      <td>41</td>\n      <td>False</td>\n    </tr>\n    <tr>\n      <th>70</th>\n      <td>38</td>\n      <td>False</td>\n    </tr>\n    <tr>\n      <th>71</th>\n      <td>33</td>\n      <td>False</td>\n    </tr>\n    <tr>\n      <th>72</th>\n      <td>28</td>\n      <td>False</td>\n    </tr>\n    <tr>\n      <th>73</th>\n      <td>23</td>\n      <td>False</td>\n    </tr>\n    <tr>\n      <th>74</th>\n      <td>25</td>\n      <td>False</td>\n    </tr>\n    <tr>\n      <th>75</th>\n      <td>32</td>\n      <td>False</td>\n    </tr>\n    <tr>\n      <th>76</th>\n      <td>25</td>\n      <td>False</td>\n    </tr>\n    <tr>\n      <th>77</th>\n      <td>23</td>\n      <td>False</td>\n    </tr>\n    <tr>\n      <th>78</th>\n      <td>23</td>\n      <td>False</td>\n    </tr>\n    <tr>\n      <th>79</th>\n      <td>22</td>\n      <td>False</td>\n    </tr>\n    <tr>\n      <th>80</th>\n      <td>17</td>\n      <td>False</td>\n    </tr>\n    <tr>\n      <th>81</th>\n      <td>21</td>\n      <td>False</td>\n    </tr>\n    <tr>\n      <th>82</th>\n      <td>33</td>\n      <td>False</td>\n    </tr>\n    <tr>\n      <th>83</th>\n      <td>46</td>\n      <td>False</td>\n    </tr>\n    <tr>\n      <th>84</th>\n      <td>32</td>\n      <td>False</td>\n    </tr>\n    <tr>\n      <th>85</th>\n      <td>26</td>\n      <td>False</td>\n    </tr>\n    <tr>\n      <th>86</th>\n      <td>24</td>\n      <td>False</td>\n    </tr>\n    <tr>\n      <th>87</th>\n      <td>22</td>\n      <td>False</td>\n    </tr>\n    <tr>\n      <th>88</th>\n      <td>22</td>\n      <td>False</td>\n    </tr>\n    <tr>\n      <th>89</th>\n      <td>25</td>\n      <td>False</td>\n    </tr>\n    <tr>\n      <th>90</th>\n      <td>22</td>\n      <td>False</td>\n    </tr>\n  </tbody>\n</table>\n</div>"
     },
     "execution_count": 434,
     "metadata": {},
     "output_type": "execute_result"
    }
   ],
   "source": [
    "pytrends = TrendReq(hl='en-US', tz=360)\n",
    "\n",
    "#build list of keywords in this case only use Teslas\n",
    "kw_list = [\"Bitcoin\"]\n",
    "\n",
    "# build the payload\n",
    "pytrends.build_payload(kw_list, timeframe='2021-03-31 2021-06-29', geo='US')\n",
    "\n",
    "# store interest over time information in df and rename Tesla column to Search Interest\n",
    "bitcoinTrendsdf = pytrends.interest_over_time()\n",
    "bitcoinTrendsdf = bitcoinTrendsdf.rename(columns={'Bitcoin': 'Previous_Search_Interest'})\n",
    "#telsaStockdf.set_index('date': 'Date', inplace=True)\n",
    "bitcoinTrendsdf.reset_index(inplace=True, drop=True)\n",
    "bitcoinTrendsdf"
   ],
   "metadata": {
    "collapsed": false,
    "pycharm": {
     "name": "#%%\n"
    }
   }
  },
  {
   "cell_type": "code",
   "execution_count": 435,
   "outputs": [
    {
     "data": {
      "text/plain": "    Previous_Open  Previous_High  Previous_Low  Previous_Close  \\\n0    58930.277344   59930.027344  57726.417969    58918.832031   \n1    58926.562500   59586.070313  58505.277344    59095.808594   \n2    59098.878906   60267.187500  58869.281250    59384.312500   \n3    59397.410156   60110.269531  57603.890625    57603.890625   \n4    57604.839844   58913.746094  57168.675781    58758.554688   \n5    58760.875000   59891.296875  57694.824219    59057.878906   \n6    59171.933594   59479.578125  57646.808594    58192.359375   \n7    58186.507813   58731.144531  55604.023438    56048.937500   \n8    56099.914063   58338.738281  55879.085938    58323.953125   \n9    58326.562500   58937.046875  57807.863281    58245.003906   \n10   58253.777344   61276.664063  58038.707031    59793.234375   \n11   59846.230469   60790.554688  59289.796875    60204.964844   \n12   60175.945313   61253.035156  59589.875000    59893.453125   \n13   59890.019531   63742.285156  59869.957031    63503.457031   \n14   63523.753906   64863.097656  61554.796875    63109.695313   \n15   63075.195313   63821.671875  62208.964844    63314.011719   \n16   63258.503906   63594.722656  60222.531250    61572.789063   \n17   61529.921875   62572.175781  60361.351563    60683.820313   \n18   60701.886719   61057.457031  52829.535156    56216.183594   \n19   56191.585938   57520.054688  54368.593750    55724.265625   \n20   55681.792969   57062.148438  53448.046875    56473.031250   \n21   56471.128906   56757.972656  53695.468750    53906.089844   \n22   53857.105469   55410.230469  50583.812500    51762.273438   \n23   51739.808594   52120.792969  47714.664063    51093.652344   \n24   51143.226563   51167.562500  48805.285156    50050.867188   \n25   50052.832031   50506.019531  47159.484375    49004.253906   \n26   49077.792969   54288.003906  48852.796875    54021.753906   \n27   54030.304688   55416.964844  53319.187500    55033.117188   \n28   55036.636719   56227.207031  53887.917969    54824.703125   \n29   54858.089844   55115.843750  52418.027344    53555.109375   \n30   53568.664063   57900.718750  53129.601563    57750.175781   \n31   57714.664063   58448.339844  57052.273438    57828.050781   \n32   57825.863281   57902.593750  56141.906250    56631.078125   \n33   56620.273438   58973.308594  56590.871094    57200.292969   \n34   57214.179688   57214.179688  53191.425781    53333.539063   \n35   53252.164063   57911.363281  52969.054688    57424.007813   \n36   57441.308594   58363.316406  55382.507813    56396.515625   \n37   56413.953125   58606.632813  55321.847656    57356.402344   \n38   57352.765625   59464.613281  56975.210938    58803.777344   \n39   58877.390625   59210.882813  56482.003906    58232.316406   \n40   58250.871094   59519.355469  54071.457031    55859.796875   \n41   55847.242188   56872.542969  54608.652344    56704.574219   \n42   56714.531250   57939.363281  49150.535156    49150.535156   \n43   49735.433594   51330.843750  46980.019531    49716.191406   \n44   49682.980469   51438.117188  48868.578125    49880.535156   \n45   49855.496094   50639.664063  46664.140625    46760.187500   \n46   46716.636719   49720.042969  43963.351563    46456.058594   \n47   46415.898438   46623.558594  42207.289063    43537.511719   \n48   43488.058594   45812.457031  42367.832031    42909.402344   \n49   42944.976563   43546.117188  30681.496094    37002.441406   \n50   36753.667969   42462.984375  35050.617188    40782.738281   \n51   40596.949219   42172.171875  33616.453125    37304.691406   \n52   37371.031250   38831.054688  35383.683594    37536.632813   \n53   37531.449219   38289.218750  31227.339844    34770.582031   \n54   34700.363281   39835.140625  34551.082031    38705.980469   \n55   38795.781250   39776.351563  36581.429688    38402.222656   \n56   38392.625000   40782.078125  37905.835938    39294.199219   \n57   39316.890625   40379.617188  37247.902344    38436.968750   \n58   38507.082031   38856.968750  34779.039063    35697.605469   \n59   35684.156250   37234.500000  33693.929688    34616.066406   \n60   34607.406250   36400.667969  33520.738281    35678.128906   \n61   35658.593750   37468.250000  34241.945313    37332.855469   \n62   37293.792969   37896.734375  35787.085938    36684.925781   \n63   36699.921875   38231.339844  35966.308594    37575.179688   \n64   37599.410156   39478.953125  37243.972656    39208.765625   \n65   39242.484375   39242.484375  35717.722656    36894.406250   \n66   36880.156250   37917.714844  34900.414063    35551.957031   \n67   35538.609375   36436.421875  35304.578125    35862.378906   \n68   35835.265625   36790.570313  33480.640625    33560.707031   \n69   33589.519531   34017.386719  31114.443359    33472.632813   \n70   33416.976563   37537.371094  32475.865234    37345.121094   \n71   37389.515625   38334.324219  35847.593750    36702.597656   \n72   36697.031250   37608.695313  36044.449219    37334.398438   \n73   37340.144531   37408.925781  34728.191406    35552.515625   \n74   35555.789063   39322.781250  34864.109375    39097.859375   \n75   39016.968750   40978.363281  38757.285156    40218.476563   \n76   40427.167969   41295.269531  39609.468750    40406.269531   \n77   40168.691406   40516.777344  38176.035156    38347.062500   \n78   38341.421875   39513.671875  37439.675781    38053.503906   \n79   38099.476563   38187.261719  35255.855469    35787.246094   \n80   35854.527344   36457.796875  34933.062500    35615.871094   \n81   35563.140625   36059.484375  33432.074219    35698.296875   \n82   35641.144531   35721.640625  31295.935547    31676.693359   \n83   31622.376953   33292.453125  28893.621094    32505.660156   \n84   32515.714844   34753.410156  31772.632813    33723.027344   \n85   33682.800781   35228.851563  32385.214844    34662.437500   \n86   34659.105469   35487.246094  31350.884766    31637.779297   \n87   31594.664063   32637.587891  30184.501953    32186.277344   \n88   32287.523438   34656.128906  32071.757813    34649.644531   \n89   34679.121094   35219.890625  33902.074219    34434.335938   \n90   34475.558594   36542.109375  34252.484375    35867.777344   \n\n    Previous_Adj_Close  Previous_Volume  \n0         58918.832031      65520826225  \n1         59095.808594      61669163792  \n2         59384.312500      58727860620  \n3         57603.890625      59641344484  \n4         58758.554688      50749662970  \n5         59057.878906      60706272115  \n6         58192.359375      66058027988  \n7         56048.937500      75645303584  \n8         58323.953125      53053855641  \n9         58245.003906      46655208546  \n10        59793.234375      58238470525  \n11        60204.964844      46280252580  \n12        59893.453125      51828688519  \n13        63503.457031      69983454362  \n14        63109.695313      77451779687  \n15        63314.011719      60954381579  \n16        61572.789063      84293007468  \n17        60683.820313      66138759198  \n18        56216.183594      97468872758  \n19        55724.265625      65344865159  \n20        56473.031250      67849323955  \n21        53906.089844      54926612466  \n22        51762.273438      74798630778  \n23        51093.652344      86668667320  \n24        50050.867188      49014494781  \n25        49004.253906      46117114240  \n26        54021.753906      58284039825  \n27        55033.117188      49448222757  \n28        54824.703125      48000572955  \n29        53555.109375      46088929780  \n30        57750.175781      52395931985  \n31        57828.050781      42836427360  \n32        56631.078125      38177405335  \n33        57200.292969      51713139031  \n34        53333.539063      68564706967  \n35        57424.007813      69241316747  \n36        56396.515625      69523285106  \n37        57356.402344      68434023376  \n38        58803.777344      65382980634  \n39        58232.316406      65906690347  \n40        55859.796875      71776546298  \n41        56704.574219      61308396325  \n42        49150.535156      75215403907  \n43        49716.191406      96721152926  \n44        49880.535156      55737497453  \n45        46760.187500      59161047474  \n46        46456.058594      64047871555  \n47        43537.511719      74903638450  \n48        42909.402344      56187365084  \n49        37002.441406     126358098747  \n50        40782.738281      88281943359  \n51        37304.691406      82051616861  \n52        37536.632813      57377273240  \n53        34770.582031      78469274361  \n54        38705.980469      67359584098  \n55        38402.222656      56211915803  \n56        39294.199219      51346735160  \n57        38436.968750      43210968721  \n58        35697.605469      55200191952  \n59        34616.066406      45231013335  \n60        35678.128906      31646080921  \n61        37332.855469      39009847639  \n62        36684.925781      34639423297  \n63        37575.179688      33070867190  \n64        39208.765625      35460750427  \n65        36894.406250      41831090187  \n66        35551.957031      35959473399  \n67        35862.378906      28913440585  \n68        33560.707031      33683936663  \n69        33472.632813      49902050442  \n70        37345.121094      53972919008  \n71        36702.597656      43576032854  \n72        37334.398438      38699736985  \n73        35552.515625      37924228550  \n74        39097.859375      40669112838  \n75        40218.476563      43148914673  \n76        40406.269531      46420149185  \n77        38347.062500      39211635100  \n78        38053.503906      37096670047  \n79        35787.246094      36200887275  \n80        35615.871094      31207279719  \n81        35698.296875      36664034054  \n82        31676.693359      52809038594  \n83        32505.660156      58964353058  \n84        33723.027344      46317108925  \n85        34662.437500      33123368116  \n86        31637.779297      40230904226  \n87        32186.277344      38585385521  \n88        34649.644531      35511640894  \n89        34434.335938      33892523752  \n90        35867.777344      37901460044  ",
      "text/html": "<div>\n<style scoped>\n    .dataframe tbody tr th:only-of-type {\n        vertical-align: middle;\n    }\n\n    .dataframe tbody tr th {\n        vertical-align: top;\n    }\n\n    .dataframe thead th {\n        text-align: right;\n    }\n</style>\n<table border=\"1\" class=\"dataframe\">\n  <thead>\n    <tr style=\"text-align: right;\">\n      <th></th>\n      <th>Previous_Open</th>\n      <th>Previous_High</th>\n      <th>Previous_Low</th>\n      <th>Previous_Close</th>\n      <th>Previous_Adj_Close</th>\n      <th>Previous_Volume</th>\n    </tr>\n  </thead>\n  <tbody>\n    <tr>\n      <th>0</th>\n      <td>58930.277344</td>\n      <td>59930.027344</td>\n      <td>57726.417969</td>\n      <td>58918.832031</td>\n      <td>58918.832031</td>\n      <td>65520826225</td>\n    </tr>\n    <tr>\n      <th>1</th>\n      <td>58926.562500</td>\n      <td>59586.070313</td>\n      <td>58505.277344</td>\n      <td>59095.808594</td>\n      <td>59095.808594</td>\n      <td>61669163792</td>\n    </tr>\n    <tr>\n      <th>2</th>\n      <td>59098.878906</td>\n      <td>60267.187500</td>\n      <td>58869.281250</td>\n      <td>59384.312500</td>\n      <td>59384.312500</td>\n      <td>58727860620</td>\n    </tr>\n    <tr>\n      <th>3</th>\n      <td>59397.410156</td>\n      <td>60110.269531</td>\n      <td>57603.890625</td>\n      <td>57603.890625</td>\n      <td>57603.890625</td>\n      <td>59641344484</td>\n    </tr>\n    <tr>\n      <th>4</th>\n      <td>57604.839844</td>\n      <td>58913.746094</td>\n      <td>57168.675781</td>\n      <td>58758.554688</td>\n      <td>58758.554688</td>\n      <td>50749662970</td>\n    </tr>\n    <tr>\n      <th>5</th>\n      <td>58760.875000</td>\n      <td>59891.296875</td>\n      <td>57694.824219</td>\n      <td>59057.878906</td>\n      <td>59057.878906</td>\n      <td>60706272115</td>\n    </tr>\n    <tr>\n      <th>6</th>\n      <td>59171.933594</td>\n      <td>59479.578125</td>\n      <td>57646.808594</td>\n      <td>58192.359375</td>\n      <td>58192.359375</td>\n      <td>66058027988</td>\n    </tr>\n    <tr>\n      <th>7</th>\n      <td>58186.507813</td>\n      <td>58731.144531</td>\n      <td>55604.023438</td>\n      <td>56048.937500</td>\n      <td>56048.937500</td>\n      <td>75645303584</td>\n    </tr>\n    <tr>\n      <th>8</th>\n      <td>56099.914063</td>\n      <td>58338.738281</td>\n      <td>55879.085938</td>\n      <td>58323.953125</td>\n      <td>58323.953125</td>\n      <td>53053855641</td>\n    </tr>\n    <tr>\n      <th>9</th>\n      <td>58326.562500</td>\n      <td>58937.046875</td>\n      <td>57807.863281</td>\n      <td>58245.003906</td>\n      <td>58245.003906</td>\n      <td>46655208546</td>\n    </tr>\n    <tr>\n      <th>10</th>\n      <td>58253.777344</td>\n      <td>61276.664063</td>\n      <td>58038.707031</td>\n      <td>59793.234375</td>\n      <td>59793.234375</td>\n      <td>58238470525</td>\n    </tr>\n    <tr>\n      <th>11</th>\n      <td>59846.230469</td>\n      <td>60790.554688</td>\n      <td>59289.796875</td>\n      <td>60204.964844</td>\n      <td>60204.964844</td>\n      <td>46280252580</td>\n    </tr>\n    <tr>\n      <th>12</th>\n      <td>60175.945313</td>\n      <td>61253.035156</td>\n      <td>59589.875000</td>\n      <td>59893.453125</td>\n      <td>59893.453125</td>\n      <td>51828688519</td>\n    </tr>\n    <tr>\n      <th>13</th>\n      <td>59890.019531</td>\n      <td>63742.285156</td>\n      <td>59869.957031</td>\n      <td>63503.457031</td>\n      <td>63503.457031</td>\n      <td>69983454362</td>\n    </tr>\n    <tr>\n      <th>14</th>\n      <td>63523.753906</td>\n      <td>64863.097656</td>\n      <td>61554.796875</td>\n      <td>63109.695313</td>\n      <td>63109.695313</td>\n      <td>77451779687</td>\n    </tr>\n    <tr>\n      <th>15</th>\n      <td>63075.195313</td>\n      <td>63821.671875</td>\n      <td>62208.964844</td>\n      <td>63314.011719</td>\n      <td>63314.011719</td>\n      <td>60954381579</td>\n    </tr>\n    <tr>\n      <th>16</th>\n      <td>63258.503906</td>\n      <td>63594.722656</td>\n      <td>60222.531250</td>\n      <td>61572.789063</td>\n      <td>61572.789063</td>\n      <td>84293007468</td>\n    </tr>\n    <tr>\n      <th>17</th>\n      <td>61529.921875</td>\n      <td>62572.175781</td>\n      <td>60361.351563</td>\n      <td>60683.820313</td>\n      <td>60683.820313</td>\n      <td>66138759198</td>\n    </tr>\n    <tr>\n      <th>18</th>\n      <td>60701.886719</td>\n      <td>61057.457031</td>\n      <td>52829.535156</td>\n      <td>56216.183594</td>\n      <td>56216.183594</td>\n      <td>97468872758</td>\n    </tr>\n    <tr>\n      <th>19</th>\n      <td>56191.585938</td>\n      <td>57520.054688</td>\n      <td>54368.593750</td>\n      <td>55724.265625</td>\n      <td>55724.265625</td>\n      <td>65344865159</td>\n    </tr>\n    <tr>\n      <th>20</th>\n      <td>55681.792969</td>\n      <td>57062.148438</td>\n      <td>53448.046875</td>\n      <td>56473.031250</td>\n      <td>56473.031250</td>\n      <td>67849323955</td>\n    </tr>\n    <tr>\n      <th>21</th>\n      <td>56471.128906</td>\n      <td>56757.972656</td>\n      <td>53695.468750</td>\n      <td>53906.089844</td>\n      <td>53906.089844</td>\n      <td>54926612466</td>\n    </tr>\n    <tr>\n      <th>22</th>\n      <td>53857.105469</td>\n      <td>55410.230469</td>\n      <td>50583.812500</td>\n      <td>51762.273438</td>\n      <td>51762.273438</td>\n      <td>74798630778</td>\n    </tr>\n    <tr>\n      <th>23</th>\n      <td>51739.808594</td>\n      <td>52120.792969</td>\n      <td>47714.664063</td>\n      <td>51093.652344</td>\n      <td>51093.652344</td>\n      <td>86668667320</td>\n    </tr>\n    <tr>\n      <th>24</th>\n      <td>51143.226563</td>\n      <td>51167.562500</td>\n      <td>48805.285156</td>\n      <td>50050.867188</td>\n      <td>50050.867188</td>\n      <td>49014494781</td>\n    </tr>\n    <tr>\n      <th>25</th>\n      <td>50052.832031</td>\n      <td>50506.019531</td>\n      <td>47159.484375</td>\n      <td>49004.253906</td>\n      <td>49004.253906</td>\n      <td>46117114240</td>\n    </tr>\n    <tr>\n      <th>26</th>\n      <td>49077.792969</td>\n      <td>54288.003906</td>\n      <td>48852.796875</td>\n      <td>54021.753906</td>\n      <td>54021.753906</td>\n      <td>58284039825</td>\n    </tr>\n    <tr>\n      <th>27</th>\n      <td>54030.304688</td>\n      <td>55416.964844</td>\n      <td>53319.187500</td>\n      <td>55033.117188</td>\n      <td>55033.117188</td>\n      <td>49448222757</td>\n    </tr>\n    <tr>\n      <th>28</th>\n      <td>55036.636719</td>\n      <td>56227.207031</td>\n      <td>53887.917969</td>\n      <td>54824.703125</td>\n      <td>54824.703125</td>\n      <td>48000572955</td>\n    </tr>\n    <tr>\n      <th>29</th>\n      <td>54858.089844</td>\n      <td>55115.843750</td>\n      <td>52418.027344</td>\n      <td>53555.109375</td>\n      <td>53555.109375</td>\n      <td>46088929780</td>\n    </tr>\n    <tr>\n      <th>30</th>\n      <td>53568.664063</td>\n      <td>57900.718750</td>\n      <td>53129.601563</td>\n      <td>57750.175781</td>\n      <td>57750.175781</td>\n      <td>52395931985</td>\n    </tr>\n    <tr>\n      <th>31</th>\n      <td>57714.664063</td>\n      <td>58448.339844</td>\n      <td>57052.273438</td>\n      <td>57828.050781</td>\n      <td>57828.050781</td>\n      <td>42836427360</td>\n    </tr>\n    <tr>\n      <th>32</th>\n      <td>57825.863281</td>\n      <td>57902.593750</td>\n      <td>56141.906250</td>\n      <td>56631.078125</td>\n      <td>56631.078125</td>\n      <td>38177405335</td>\n    </tr>\n    <tr>\n      <th>33</th>\n      <td>56620.273438</td>\n      <td>58973.308594</td>\n      <td>56590.871094</td>\n      <td>57200.292969</td>\n      <td>57200.292969</td>\n      <td>51713139031</td>\n    </tr>\n    <tr>\n      <th>34</th>\n      <td>57214.179688</td>\n      <td>57214.179688</td>\n      <td>53191.425781</td>\n      <td>53333.539063</td>\n      <td>53333.539063</td>\n      <td>68564706967</td>\n    </tr>\n    <tr>\n      <th>35</th>\n      <td>53252.164063</td>\n      <td>57911.363281</td>\n      <td>52969.054688</td>\n      <td>57424.007813</td>\n      <td>57424.007813</td>\n      <td>69241316747</td>\n    </tr>\n    <tr>\n      <th>36</th>\n      <td>57441.308594</td>\n      <td>58363.316406</td>\n      <td>55382.507813</td>\n      <td>56396.515625</td>\n      <td>56396.515625</td>\n      <td>69523285106</td>\n    </tr>\n    <tr>\n      <th>37</th>\n      <td>56413.953125</td>\n      <td>58606.632813</td>\n      <td>55321.847656</td>\n      <td>57356.402344</td>\n      <td>57356.402344</td>\n      <td>68434023376</td>\n    </tr>\n    <tr>\n      <th>38</th>\n      <td>57352.765625</td>\n      <td>59464.613281</td>\n      <td>56975.210938</td>\n      <td>58803.777344</td>\n      <td>58803.777344</td>\n      <td>65382980634</td>\n    </tr>\n    <tr>\n      <th>39</th>\n      <td>58877.390625</td>\n      <td>59210.882813</td>\n      <td>56482.003906</td>\n      <td>58232.316406</td>\n      <td>58232.316406</td>\n      <td>65906690347</td>\n    </tr>\n    <tr>\n      <th>40</th>\n      <td>58250.871094</td>\n      <td>59519.355469</td>\n      <td>54071.457031</td>\n      <td>55859.796875</td>\n      <td>55859.796875</td>\n      <td>71776546298</td>\n    </tr>\n    <tr>\n      <th>41</th>\n      <td>55847.242188</td>\n      <td>56872.542969</td>\n      <td>54608.652344</td>\n      <td>56704.574219</td>\n      <td>56704.574219</td>\n      <td>61308396325</td>\n    </tr>\n    <tr>\n      <th>42</th>\n      <td>56714.531250</td>\n      <td>57939.363281</td>\n      <td>49150.535156</td>\n      <td>49150.535156</td>\n      <td>49150.535156</td>\n      <td>75215403907</td>\n    </tr>\n    <tr>\n      <th>43</th>\n      <td>49735.433594</td>\n      <td>51330.843750</td>\n      <td>46980.019531</td>\n      <td>49716.191406</td>\n      <td>49716.191406</td>\n      <td>96721152926</td>\n    </tr>\n    <tr>\n      <th>44</th>\n      <td>49682.980469</td>\n      <td>51438.117188</td>\n      <td>48868.578125</td>\n      <td>49880.535156</td>\n      <td>49880.535156</td>\n      <td>55737497453</td>\n    </tr>\n    <tr>\n      <th>45</th>\n      <td>49855.496094</td>\n      <td>50639.664063</td>\n      <td>46664.140625</td>\n      <td>46760.187500</td>\n      <td>46760.187500</td>\n      <td>59161047474</td>\n    </tr>\n    <tr>\n      <th>46</th>\n      <td>46716.636719</td>\n      <td>49720.042969</td>\n      <td>43963.351563</td>\n      <td>46456.058594</td>\n      <td>46456.058594</td>\n      <td>64047871555</td>\n    </tr>\n    <tr>\n      <th>47</th>\n      <td>46415.898438</td>\n      <td>46623.558594</td>\n      <td>42207.289063</td>\n      <td>43537.511719</td>\n      <td>43537.511719</td>\n      <td>74903638450</td>\n    </tr>\n    <tr>\n      <th>48</th>\n      <td>43488.058594</td>\n      <td>45812.457031</td>\n      <td>42367.832031</td>\n      <td>42909.402344</td>\n      <td>42909.402344</td>\n      <td>56187365084</td>\n    </tr>\n    <tr>\n      <th>49</th>\n      <td>42944.976563</td>\n      <td>43546.117188</td>\n      <td>30681.496094</td>\n      <td>37002.441406</td>\n      <td>37002.441406</td>\n      <td>126358098747</td>\n    </tr>\n    <tr>\n      <th>50</th>\n      <td>36753.667969</td>\n      <td>42462.984375</td>\n      <td>35050.617188</td>\n      <td>40782.738281</td>\n      <td>40782.738281</td>\n      <td>88281943359</td>\n    </tr>\n    <tr>\n      <th>51</th>\n      <td>40596.949219</td>\n      <td>42172.171875</td>\n      <td>33616.453125</td>\n      <td>37304.691406</td>\n      <td>37304.691406</td>\n      <td>82051616861</td>\n    </tr>\n    <tr>\n      <th>52</th>\n      <td>37371.031250</td>\n      <td>38831.054688</td>\n      <td>35383.683594</td>\n      <td>37536.632813</td>\n      <td>37536.632813</td>\n      <td>57377273240</td>\n    </tr>\n    <tr>\n      <th>53</th>\n      <td>37531.449219</td>\n      <td>38289.218750</td>\n      <td>31227.339844</td>\n      <td>34770.582031</td>\n      <td>34770.582031</td>\n      <td>78469274361</td>\n    </tr>\n    <tr>\n      <th>54</th>\n      <td>34700.363281</td>\n      <td>39835.140625</td>\n      <td>34551.082031</td>\n      <td>38705.980469</td>\n      <td>38705.980469</td>\n      <td>67359584098</td>\n    </tr>\n    <tr>\n      <th>55</th>\n      <td>38795.781250</td>\n      <td>39776.351563</td>\n      <td>36581.429688</td>\n      <td>38402.222656</td>\n      <td>38402.222656</td>\n      <td>56211915803</td>\n    </tr>\n    <tr>\n      <th>56</th>\n      <td>38392.625000</td>\n      <td>40782.078125</td>\n      <td>37905.835938</td>\n      <td>39294.199219</td>\n      <td>39294.199219</td>\n      <td>51346735160</td>\n    </tr>\n    <tr>\n      <th>57</th>\n      <td>39316.890625</td>\n      <td>40379.617188</td>\n      <td>37247.902344</td>\n      <td>38436.968750</td>\n      <td>38436.968750</td>\n      <td>43210968721</td>\n    </tr>\n    <tr>\n      <th>58</th>\n      <td>38507.082031</td>\n      <td>38856.968750</td>\n      <td>34779.039063</td>\n      <td>35697.605469</td>\n      <td>35697.605469</td>\n      <td>55200191952</td>\n    </tr>\n    <tr>\n      <th>59</th>\n      <td>35684.156250</td>\n      <td>37234.500000</td>\n      <td>33693.929688</td>\n      <td>34616.066406</td>\n      <td>34616.066406</td>\n      <td>45231013335</td>\n    </tr>\n    <tr>\n      <th>60</th>\n      <td>34607.406250</td>\n      <td>36400.667969</td>\n      <td>33520.738281</td>\n      <td>35678.128906</td>\n      <td>35678.128906</td>\n      <td>31646080921</td>\n    </tr>\n    <tr>\n      <th>61</th>\n      <td>35658.593750</td>\n      <td>37468.250000</td>\n      <td>34241.945313</td>\n      <td>37332.855469</td>\n      <td>37332.855469</td>\n      <td>39009847639</td>\n    </tr>\n    <tr>\n      <th>62</th>\n      <td>37293.792969</td>\n      <td>37896.734375</td>\n      <td>35787.085938</td>\n      <td>36684.925781</td>\n      <td>36684.925781</td>\n      <td>34639423297</td>\n    </tr>\n    <tr>\n      <th>63</th>\n      <td>36699.921875</td>\n      <td>38231.339844</td>\n      <td>35966.308594</td>\n      <td>37575.179688</td>\n      <td>37575.179688</td>\n      <td>33070867190</td>\n    </tr>\n    <tr>\n      <th>64</th>\n      <td>37599.410156</td>\n      <td>39478.953125</td>\n      <td>37243.972656</td>\n      <td>39208.765625</td>\n      <td>39208.765625</td>\n      <td>35460750427</td>\n    </tr>\n    <tr>\n      <th>65</th>\n      <td>39242.484375</td>\n      <td>39242.484375</td>\n      <td>35717.722656</td>\n      <td>36894.406250</td>\n      <td>36894.406250</td>\n      <td>41831090187</td>\n    </tr>\n    <tr>\n      <th>66</th>\n      <td>36880.156250</td>\n      <td>37917.714844</td>\n      <td>34900.414063</td>\n      <td>35551.957031</td>\n      <td>35551.957031</td>\n      <td>35959473399</td>\n    </tr>\n    <tr>\n      <th>67</th>\n      <td>35538.609375</td>\n      <td>36436.421875</td>\n      <td>35304.578125</td>\n      <td>35862.378906</td>\n      <td>35862.378906</td>\n      <td>28913440585</td>\n    </tr>\n    <tr>\n      <th>68</th>\n      <td>35835.265625</td>\n      <td>36790.570313</td>\n      <td>33480.640625</td>\n      <td>33560.707031</td>\n      <td>33560.707031</td>\n      <td>33683936663</td>\n    </tr>\n    <tr>\n      <th>69</th>\n      <td>33589.519531</td>\n      <td>34017.386719</td>\n      <td>31114.443359</td>\n      <td>33472.632813</td>\n      <td>33472.632813</td>\n      <td>49902050442</td>\n    </tr>\n    <tr>\n      <th>70</th>\n      <td>33416.976563</td>\n      <td>37537.371094</td>\n      <td>32475.865234</td>\n      <td>37345.121094</td>\n      <td>37345.121094</td>\n      <td>53972919008</td>\n    </tr>\n    <tr>\n      <th>71</th>\n      <td>37389.515625</td>\n      <td>38334.324219</td>\n      <td>35847.593750</td>\n      <td>36702.597656</td>\n      <td>36702.597656</td>\n      <td>43576032854</td>\n    </tr>\n    <tr>\n      <th>72</th>\n      <td>36697.031250</td>\n      <td>37608.695313</td>\n      <td>36044.449219</td>\n      <td>37334.398438</td>\n      <td>37334.398438</td>\n      <td>38699736985</td>\n    </tr>\n    <tr>\n      <th>73</th>\n      <td>37340.144531</td>\n      <td>37408.925781</td>\n      <td>34728.191406</td>\n      <td>35552.515625</td>\n      <td>35552.515625</td>\n      <td>37924228550</td>\n    </tr>\n    <tr>\n      <th>74</th>\n      <td>35555.789063</td>\n      <td>39322.781250</td>\n      <td>34864.109375</td>\n      <td>39097.859375</td>\n      <td>39097.859375</td>\n      <td>40669112838</td>\n    </tr>\n    <tr>\n      <th>75</th>\n      <td>39016.968750</td>\n      <td>40978.363281</td>\n      <td>38757.285156</td>\n      <td>40218.476563</td>\n      <td>40218.476563</td>\n      <td>43148914673</td>\n    </tr>\n    <tr>\n      <th>76</th>\n      <td>40427.167969</td>\n      <td>41295.269531</td>\n      <td>39609.468750</td>\n      <td>40406.269531</td>\n      <td>40406.269531</td>\n      <td>46420149185</td>\n    </tr>\n    <tr>\n      <th>77</th>\n      <td>40168.691406</td>\n      <td>40516.777344</td>\n      <td>38176.035156</td>\n      <td>38347.062500</td>\n      <td>38347.062500</td>\n      <td>39211635100</td>\n    </tr>\n    <tr>\n      <th>78</th>\n      <td>38341.421875</td>\n      <td>39513.671875</td>\n      <td>37439.675781</td>\n      <td>38053.503906</td>\n      <td>38053.503906</td>\n      <td>37096670047</td>\n    </tr>\n    <tr>\n      <th>79</th>\n      <td>38099.476563</td>\n      <td>38187.261719</td>\n      <td>35255.855469</td>\n      <td>35787.246094</td>\n      <td>35787.246094</td>\n      <td>36200887275</td>\n    </tr>\n    <tr>\n      <th>80</th>\n      <td>35854.527344</td>\n      <td>36457.796875</td>\n      <td>34933.062500</td>\n      <td>35615.871094</td>\n      <td>35615.871094</td>\n      <td>31207279719</td>\n    </tr>\n    <tr>\n      <th>81</th>\n      <td>35563.140625</td>\n      <td>36059.484375</td>\n      <td>33432.074219</td>\n      <td>35698.296875</td>\n      <td>35698.296875</td>\n      <td>36664034054</td>\n    </tr>\n    <tr>\n      <th>82</th>\n      <td>35641.144531</td>\n      <td>35721.640625</td>\n      <td>31295.935547</td>\n      <td>31676.693359</td>\n      <td>31676.693359</td>\n      <td>52809038594</td>\n    </tr>\n    <tr>\n      <th>83</th>\n      <td>31622.376953</td>\n      <td>33292.453125</td>\n      <td>28893.621094</td>\n      <td>32505.660156</td>\n      <td>32505.660156</td>\n      <td>58964353058</td>\n    </tr>\n    <tr>\n      <th>84</th>\n      <td>32515.714844</td>\n      <td>34753.410156</td>\n      <td>31772.632813</td>\n      <td>33723.027344</td>\n      <td>33723.027344</td>\n      <td>46317108925</td>\n    </tr>\n    <tr>\n      <th>85</th>\n      <td>33682.800781</td>\n      <td>35228.851563</td>\n      <td>32385.214844</td>\n      <td>34662.437500</td>\n      <td>34662.437500</td>\n      <td>33123368116</td>\n    </tr>\n    <tr>\n      <th>86</th>\n      <td>34659.105469</td>\n      <td>35487.246094</td>\n      <td>31350.884766</td>\n      <td>31637.779297</td>\n      <td>31637.779297</td>\n      <td>40230904226</td>\n    </tr>\n    <tr>\n      <th>87</th>\n      <td>31594.664063</td>\n      <td>32637.587891</td>\n      <td>30184.501953</td>\n      <td>32186.277344</td>\n      <td>32186.277344</td>\n      <td>38585385521</td>\n    </tr>\n    <tr>\n      <th>88</th>\n      <td>32287.523438</td>\n      <td>34656.128906</td>\n      <td>32071.757813</td>\n      <td>34649.644531</td>\n      <td>34649.644531</td>\n      <td>35511640894</td>\n    </tr>\n    <tr>\n      <th>89</th>\n      <td>34679.121094</td>\n      <td>35219.890625</td>\n      <td>33902.074219</td>\n      <td>34434.335938</td>\n      <td>34434.335938</td>\n      <td>33892523752</td>\n    </tr>\n    <tr>\n      <th>90</th>\n      <td>34475.558594</td>\n      <td>36542.109375</td>\n      <td>34252.484375</td>\n      <td>35867.777344</td>\n      <td>35867.777344</td>\n      <td>37901460044</td>\n    </tr>\n  </tbody>\n</table>\n</div>"
     },
     "execution_count": 435,
     "metadata": {},
     "output_type": "execute_result"
    }
   ],
   "source": [
    "bitcoinPricedf = pd.read_csv(f\"{dataDir}BTC-USD.csv\")\n",
    "bitcoinPreviousPricedf = pd.read_csv(f\"{dataDir}BTC-USD-Previous.csv\")\n",
    "mergedPrice = pd.concat([bitcoinPricedf, bitcoinPreviousPricedf], axis=1)\n",
    "bitcoinPreviousPricedf"
   ],
   "metadata": {
    "collapsed": false,
    "pycharm": {
     "name": "#%%\n"
    }
   }
  },
  {
   "cell_type": "code",
   "execution_count": 436,
   "outputs": [
    {
     "data": {
      "text/plain": "          Date          Open          High           Low         Close  \\\n0   2021-04-01  58926.562500  59586.070313  58505.277344  59095.808594   \n1   2021-04-02  59098.878906  60267.187500  58869.281250  59384.312500   \n2   2021-04-03  59397.410156  60110.269531  57603.890625  57603.890625   \n3   2021-04-04  57604.839844  58913.746094  57168.675781  58758.554688   \n4   2021-04-05  58760.875000  59891.296875  57694.824219  59057.878906   \n5   2021-04-06  59171.933594  59479.578125  57646.808594  58192.359375   \n6   2021-04-07  58186.507813  58731.144531  55604.023438  56048.937500   \n7   2021-04-08  56099.914063  58338.738281  55879.085938  58323.953125   \n8   2021-04-09  58326.562500  58937.046875  57807.863281  58245.003906   \n9   2021-04-10  58253.777344  61276.664063  58038.707031  59793.234375   \n10  2021-04-11  59846.230469  60790.554688  59289.796875  60204.964844   \n11  2021-04-12  60175.945313  61253.035156  59589.875000  59893.453125   \n12  2021-04-13  59890.019531  63742.285156  59869.957031  63503.457031   \n13  2021-04-14  63523.753906  64863.097656  61554.796875  63109.695313   \n14  2021-04-15  63075.195313  63821.671875  62208.964844  63314.011719   \n15  2021-04-16  63258.503906  63594.722656  60222.531250  61572.789063   \n16  2021-04-17  61529.921875  62572.175781  60361.351563  60683.820313   \n17  2021-04-18  60701.886719  61057.457031  52829.535156  56216.183594   \n18  2021-04-19  56191.585938  57520.054688  54368.593750  55724.265625   \n19  2021-04-20  55681.792969  57062.148438  53448.046875  56473.031250   \n20  2021-04-21  56471.128906  56757.972656  53695.468750  53906.089844   \n21  2021-04-22  53857.105469  55410.230469  50583.812500  51762.273438   \n22  2021-04-23  51739.808594  52120.792969  47714.664063  51093.652344   \n23  2021-04-24  51143.226563  51167.562500  48805.285156  50050.867188   \n24  2021-04-25  50052.832031  50506.019531  47159.484375  49004.253906   \n25  2021-04-26  49077.792969  54288.003906  48852.796875  54021.753906   \n26  2021-04-27  54030.304688  55416.964844  53319.187500  55033.117188   \n27  2021-04-28  55036.636719  56227.207031  53887.917969  54824.703125   \n28  2021-04-29  54858.089844  55115.843750  52418.027344  53555.109375   \n29  2021-04-30  53568.664063  57900.718750  53129.601563  57750.175781   \n30  2021-05-01  57714.664063  58448.339844  57052.273438  57828.050781   \n31  2021-05-02  57825.863281  57902.593750  56141.906250  56631.078125   \n32  2021-05-03  56620.273438  58973.308594  56590.871094  57200.292969   \n33  2021-05-04  57214.179688  57214.179688  53191.425781  53333.539063   \n34  2021-05-05  53252.164063  57911.363281  52969.054688  57424.007813   \n35  2021-05-06  57441.308594  58363.316406  55382.507813  56396.515625   \n36  2021-05-07  56413.953125  58606.632813  55321.847656  57356.402344   \n37  2021-05-08  57352.765625  59464.613281  56975.210938  58803.777344   \n38  2021-05-09  58877.390625  59210.882813  56482.003906  58232.316406   \n39  2021-05-10  58250.871094  59519.355469  54071.457031  55859.796875   \n40  2021-05-11  55847.242188  56872.542969  54608.652344  56704.574219   \n41  2021-05-12  56714.531250  57939.363281  49150.535156  49150.535156   \n42  2021-05-13  49735.433594  51330.843750  46980.019531  49716.191406   \n43  2021-05-14  49682.980469  51438.117188  48868.578125  49880.535156   \n44  2021-05-15  49855.496094  50639.664063  46664.140625  46760.187500   \n45  2021-05-16  46716.636719  49720.042969  43963.351563  46456.058594   \n46  2021-05-17  46415.898438  46623.558594  42207.289063  43537.511719   \n47  2021-05-18  43488.058594  45812.457031  42367.832031  42909.402344   \n48  2021-05-19  42944.976563  43546.117188  30681.496094  37002.441406   \n49  2021-05-20  36753.667969  42462.984375  35050.617188  40782.738281   \n50  2021-05-21  40596.949219  42172.171875  33616.453125  37304.691406   \n51  2021-05-22  37371.031250  38831.054688  35383.683594  37536.632813   \n52  2021-05-23  37531.449219  38289.218750  31227.339844  34770.582031   \n53  2021-05-24  34700.363281  39835.140625  34551.082031  38705.980469   \n54  2021-05-25  38795.781250  39776.351563  36581.429688  38402.222656   \n55  2021-05-26  38392.625000  40782.078125  37905.835938  39294.199219   \n56  2021-05-27  39316.890625  40379.617188  37247.902344  38436.968750   \n57  2021-05-28  38507.082031  38856.968750  34779.039063  35697.605469   \n58  2021-05-29  35684.156250  37234.500000  33693.929688  34616.066406   \n59  2021-05-30  34607.406250  36400.667969  33520.738281  35678.128906   \n60  2021-05-31  35658.593750  37468.250000  34241.945313  37332.855469   \n61  2021-06-01  37293.792969  37896.734375  35787.085938  36684.925781   \n62  2021-06-02  36699.921875  38231.339844  35966.308594  37575.179688   \n63  2021-06-03  37599.410156  39478.953125  37243.972656  39208.765625   \n64  2021-06-04  39242.484375  39242.484375  35717.722656  36894.406250   \n65  2021-06-05  36880.156250  37917.714844  34900.414063  35551.957031   \n66  2021-06-06  35538.609375  36436.421875  35304.578125  35862.378906   \n67  2021-06-07  35835.265625  36790.570313  33480.640625  33560.707031   \n68  2021-06-08  33589.519531  34017.386719  31114.443359  33472.632813   \n69  2021-06-09  33416.976563  37537.371094  32475.865234  37345.121094   \n70  2021-06-10  37389.515625  38334.324219  35847.593750  36702.597656   \n71  2021-06-11  36697.031250  37608.695313  36044.449219  37334.398438   \n72  2021-06-12  37340.144531  37408.925781  34728.191406  35552.515625   \n73  2021-06-13  35555.789063  39322.781250  34864.109375  39097.859375   \n74  2021-06-14  39016.968750  40978.363281  38757.285156  40218.476563   \n75  2021-06-15  40427.167969  41295.269531  39609.468750  40406.269531   \n76  2021-06-16  40168.691406  40516.777344  38176.035156  38347.062500   \n77  2021-06-17  38341.421875  39513.671875  37439.675781  38053.503906   \n78  2021-06-18  38099.476563  38187.261719  35255.855469  35787.246094   \n79  2021-06-19  35854.527344  36457.796875  34933.062500  35615.871094   \n80  2021-06-20  35563.140625  36059.484375  33432.074219  35698.296875   \n81  2021-06-21  35641.144531  35721.640625  31295.935547  31676.693359   \n82  2021-06-22  31622.376953  33292.453125  28893.621094  32505.660156   \n83  2021-06-23  32515.714844  34753.410156  31772.632813  33723.027344   \n84  2021-06-24  33682.800781  35228.851563  32385.214844  34662.437500   \n85  2021-06-25  34659.105469  35487.246094  31350.884766  31637.779297   \n86  2021-06-26  31594.664063  32637.587891  30184.501953  32186.277344   \n87  2021-06-27  32287.523438  34656.128906  32071.757813  34649.644531   \n88  2021-06-28  34679.121094  35219.890625  33902.074219  34434.335938   \n89  2021-06-29  34475.558594  36542.109375  34252.484375  35867.777344   \n90  2021-06-30  35908.386719  36074.757813  34086.152344  35040.835938   \n\n       Adj Close        Volume  Previous_Open  Previous_High  Previous_Low  \\\n0   59095.808594   61669163792   58930.277344   59930.027344  57726.417969   \n1   59384.312500   58727860620   58926.562500   59586.070313  58505.277344   \n2   57603.890625   59641344484   59098.878906   60267.187500  58869.281250   \n3   58758.554688   50749662970   59397.410156   60110.269531  57603.890625   \n4   59057.878906   60706272115   57604.839844   58913.746094  57168.675781   \n5   58192.359375   66058027988   58760.875000   59891.296875  57694.824219   \n6   56048.937500   75645303584   59171.933594   59479.578125  57646.808594   \n7   58323.953125   53053855641   58186.507813   58731.144531  55604.023438   \n8   58245.003906   46655208546   56099.914063   58338.738281  55879.085938   \n9   59793.234375   58238470525   58326.562500   58937.046875  57807.863281   \n10  60204.964844   46280252580   58253.777344   61276.664063  58038.707031   \n11  59893.453125   51828688519   59846.230469   60790.554688  59289.796875   \n12  63503.457031   69983454362   60175.945313   61253.035156  59589.875000   \n13  63109.695313   77451779687   59890.019531   63742.285156  59869.957031   \n14  63314.011719   60954381579   63523.753906   64863.097656  61554.796875   \n15  61572.789063   84293007468   63075.195313   63821.671875  62208.964844   \n16  60683.820313   66138759198   63258.503906   63594.722656  60222.531250   \n17  56216.183594   97468872758   61529.921875   62572.175781  60361.351563   \n18  55724.265625   65344865159   60701.886719   61057.457031  52829.535156   \n19  56473.031250   67849323955   56191.585938   57520.054688  54368.593750   \n20  53906.089844   54926612466   55681.792969   57062.148438  53448.046875   \n21  51762.273438   74798630778   56471.128906   56757.972656  53695.468750   \n22  51093.652344   86668667320   53857.105469   55410.230469  50583.812500   \n23  50050.867188   49014494781   51739.808594   52120.792969  47714.664063   \n24  49004.253906   46117114240   51143.226563   51167.562500  48805.285156   \n25  54021.753906   58284039825   50052.832031   50506.019531  47159.484375   \n26  55033.117188   49448222757   49077.792969   54288.003906  48852.796875   \n27  54824.703125   48000572955   54030.304688   55416.964844  53319.187500   \n28  53555.109375   46088929780   55036.636719   56227.207031  53887.917969   \n29  57750.175781   52395931985   54858.089844   55115.843750  52418.027344   \n30  57828.050781   42836427360   53568.664063   57900.718750  53129.601563   \n31  56631.078125   38177405335   57714.664063   58448.339844  57052.273438   \n32  57200.292969   51713139031   57825.863281   57902.593750  56141.906250   \n33  53333.539063   68564706967   56620.273438   58973.308594  56590.871094   \n34  57424.007813   69241316747   57214.179688   57214.179688  53191.425781   \n35  56396.515625   69523285106   53252.164063   57911.363281  52969.054688   \n36  57356.402344   68434023376   57441.308594   58363.316406  55382.507813   \n37  58803.777344   65382980634   56413.953125   58606.632813  55321.847656   \n38  58232.316406   65906690347   57352.765625   59464.613281  56975.210938   \n39  55859.796875   71776546298   58877.390625   59210.882813  56482.003906   \n40  56704.574219   61308396325   58250.871094   59519.355469  54071.457031   \n41  49150.535156   75215403907   55847.242188   56872.542969  54608.652344   \n42  49716.191406   96721152926   56714.531250   57939.363281  49150.535156   \n43  49880.535156   55737497453   49735.433594   51330.843750  46980.019531   \n44  46760.187500   59161047474   49682.980469   51438.117188  48868.578125   \n45  46456.058594   64047871555   49855.496094   50639.664063  46664.140625   \n46  43537.511719   74903638450   46716.636719   49720.042969  43963.351563   \n47  42909.402344   56187365084   46415.898438   46623.558594  42207.289063   \n48  37002.441406  126358098747   43488.058594   45812.457031  42367.832031   \n49  40782.738281   88281943359   42944.976563   43546.117188  30681.496094   \n50  37304.691406   82051616861   36753.667969   42462.984375  35050.617188   \n51  37536.632813   57377273240   40596.949219   42172.171875  33616.453125   \n52  34770.582031   78469274361   37371.031250   38831.054688  35383.683594   \n53  38705.980469   67359584098   37531.449219   38289.218750  31227.339844   \n54  38402.222656   56211915803   34700.363281   39835.140625  34551.082031   \n55  39294.199219   51346735160   38795.781250   39776.351563  36581.429688   \n56  38436.968750   43210968721   38392.625000   40782.078125  37905.835938   \n57  35697.605469   55200191952   39316.890625   40379.617188  37247.902344   \n58  34616.066406   45231013335   38507.082031   38856.968750  34779.039063   \n59  35678.128906   31646080921   35684.156250   37234.500000  33693.929688   \n60  37332.855469   39009847639   34607.406250   36400.667969  33520.738281   \n61  36684.925781   34639423297   35658.593750   37468.250000  34241.945313   \n62  37575.179688   33070867190   37293.792969   37896.734375  35787.085938   \n63  39208.765625   35460750427   36699.921875   38231.339844  35966.308594   \n64  36894.406250   41831090187   37599.410156   39478.953125  37243.972656   \n65  35551.957031   35959473399   39242.484375   39242.484375  35717.722656   \n66  35862.378906   28913440585   36880.156250   37917.714844  34900.414063   \n67  33560.707031   33683936663   35538.609375   36436.421875  35304.578125   \n68  33472.632813   49902050442   35835.265625   36790.570313  33480.640625   \n69  37345.121094   53972919008   33589.519531   34017.386719  31114.443359   \n70  36702.597656   43576032854   33416.976563   37537.371094  32475.865234   \n71  37334.398438   38699736985   37389.515625   38334.324219  35847.593750   \n72  35552.515625   37924228550   36697.031250   37608.695313  36044.449219   \n73  39097.859375   40669112838   37340.144531   37408.925781  34728.191406   \n74  40218.476563   43148914673   35555.789063   39322.781250  34864.109375   \n75  40406.269531   46420149185   39016.968750   40978.363281  38757.285156   \n76  38347.062500   39211635100   40427.167969   41295.269531  39609.468750   \n77  38053.503906   37096670047   40168.691406   40516.777344  38176.035156   \n78  35787.246094   36200887275   38341.421875   39513.671875  37439.675781   \n79  35615.871094   31207279719   38099.476563   38187.261719  35255.855469   \n80  35698.296875   36664034054   35854.527344   36457.796875  34933.062500   \n81  31676.693359   52809038594   35563.140625   36059.484375  33432.074219   \n82  32505.660156   58964353058   35641.144531   35721.640625  31295.935547   \n83  33723.027344   46317108925   31622.376953   33292.453125  28893.621094   \n84  34662.437500   33123368116   32515.714844   34753.410156  31772.632813   \n85  31637.779297   40230904226   33682.800781   35228.851563  32385.214844   \n86  32186.277344   38585385521   34659.105469   35487.246094  31350.884766   \n87  34649.644531   35511640894   31594.664063   32637.587891  30184.501953   \n88  34434.335938   33892523752   32287.523438   34656.128906  32071.757813   \n89  35867.777344   37901460044   34679.121094   35219.890625  33902.074219   \n90  35040.835938   34059036099   34475.558594   36542.109375  34252.484375   \n\n    Previous_Close  Previous_Adj_Close  Previous_Volume  \\\n0     58918.832031        58918.832031      65520826225   \n1     59095.808594        59095.808594      61669163792   \n2     59384.312500        59384.312500      58727860620   \n3     57603.890625        57603.890625      59641344484   \n4     58758.554688        58758.554688      50749662970   \n5     59057.878906        59057.878906      60706272115   \n6     58192.359375        58192.359375      66058027988   \n7     56048.937500        56048.937500      75645303584   \n8     58323.953125        58323.953125      53053855641   \n9     58245.003906        58245.003906      46655208546   \n10    59793.234375        59793.234375      58238470525   \n11    60204.964844        60204.964844      46280252580   \n12    59893.453125        59893.453125      51828688519   \n13    63503.457031        63503.457031      69983454362   \n14    63109.695313        63109.695313      77451779687   \n15    63314.011719        63314.011719      60954381579   \n16    61572.789063        61572.789063      84293007468   \n17    60683.820313        60683.820313      66138759198   \n18    56216.183594        56216.183594      97468872758   \n19    55724.265625        55724.265625      65344865159   \n20    56473.031250        56473.031250      67849323955   \n21    53906.089844        53906.089844      54926612466   \n22    51762.273438        51762.273438      74798630778   \n23    51093.652344        51093.652344      86668667320   \n24    50050.867188        50050.867188      49014494781   \n25    49004.253906        49004.253906      46117114240   \n26    54021.753906        54021.753906      58284039825   \n27    55033.117188        55033.117188      49448222757   \n28    54824.703125        54824.703125      48000572955   \n29    53555.109375        53555.109375      46088929780   \n30    57750.175781        57750.175781      52395931985   \n31    57828.050781        57828.050781      42836427360   \n32    56631.078125        56631.078125      38177405335   \n33    57200.292969        57200.292969      51713139031   \n34    53333.539063        53333.539063      68564706967   \n35    57424.007813        57424.007813      69241316747   \n36    56396.515625        56396.515625      69523285106   \n37    57356.402344        57356.402344      68434023376   \n38    58803.777344        58803.777344      65382980634   \n39    58232.316406        58232.316406      65906690347   \n40    55859.796875        55859.796875      71776546298   \n41    56704.574219        56704.574219      61308396325   \n42    49150.535156        49150.535156      75215403907   \n43    49716.191406        49716.191406      96721152926   \n44    49880.535156        49880.535156      55737497453   \n45    46760.187500        46760.187500      59161047474   \n46    46456.058594        46456.058594      64047871555   \n47    43537.511719        43537.511719      74903638450   \n48    42909.402344        42909.402344      56187365084   \n49    37002.441406        37002.441406     126358098747   \n50    40782.738281        40782.738281      88281943359   \n51    37304.691406        37304.691406      82051616861   \n52    37536.632813        37536.632813      57377273240   \n53    34770.582031        34770.582031      78469274361   \n54    38705.980469        38705.980469      67359584098   \n55    38402.222656        38402.222656      56211915803   \n56    39294.199219        39294.199219      51346735160   \n57    38436.968750        38436.968750      43210968721   \n58    35697.605469        35697.605469      55200191952   \n59    34616.066406        34616.066406      45231013335   \n60    35678.128906        35678.128906      31646080921   \n61    37332.855469        37332.855469      39009847639   \n62    36684.925781        36684.925781      34639423297   \n63    37575.179688        37575.179688      33070867190   \n64    39208.765625        39208.765625      35460750427   \n65    36894.406250        36894.406250      41831090187   \n66    35551.957031        35551.957031      35959473399   \n67    35862.378906        35862.378906      28913440585   \n68    33560.707031        33560.707031      33683936663   \n69    33472.632813        33472.632813      49902050442   \n70    37345.121094        37345.121094      53972919008   \n71    36702.597656        36702.597656      43576032854   \n72    37334.398438        37334.398438      38699736985   \n73    35552.515625        35552.515625      37924228550   \n74    39097.859375        39097.859375      40669112838   \n75    40218.476563        40218.476563      43148914673   \n76    40406.269531        40406.269531      46420149185   \n77    38347.062500        38347.062500      39211635100   \n78    38053.503906        38053.503906      37096670047   \n79    35787.246094        35787.246094      36200887275   \n80    35615.871094        35615.871094      31207279719   \n81    35698.296875        35698.296875      36664034054   \n82    31676.693359        31676.693359      52809038594   \n83    32505.660156        32505.660156      58964353058   \n84    33723.027344        33723.027344      46317108925   \n85    34662.437500        34662.437500      33123368116   \n86    31637.779297        31637.779297      40230904226   \n87    32186.277344        32186.277344      38585385521   \n88    34649.644531        34649.644531      35511640894   \n89    34434.335938        34434.335938      33892523752   \n90    35867.777344        35867.777344      37901460044   \n\n    Previous_Search_Interest  isPartial  Price_Increase  \n0                         29      False               0  \n1                         41      False               0  \n2                         29      False               1  \n3                         22      False               0  \n4                         22      False               0  \n5                         23      False               1  \n6                         24      False               1  \n7                         23      False               0  \n8                         24      False               1  \n9                         22      False               0  \n10                        26      False               0  \n11                        24      False               1  \n12                        25      False               0  \n13                        36      False               1  \n14                        42      False               0  \n15                        35      False               1  \n16                        44      False               1  \n17                        32      False               1  \n18                        51      False               1  \n19                        44      False               0  \n20                        39      False               1  \n21                        32      False               1  \n22                        34      False               1  \n23                        54      False               1  \n24                        37      False               1  \n25                        30      False               0  \n26                        35      False               0  \n27                        32      False               1  \n28                        32      False               1  \n29                        26      False               0  \n30                        26      False               0  \n31                        25      False               1  \n32                        23      False               0  \n33                        25      False               1  \n34                        30      False               0  \n35                        31      False               1  \n36                        29      False               0  \n37                        26      False               0  \n38                        29      False               1  \n39                        28      False               1  \n40                        32      False               0  \n41                        30      False               1  \n42                        33      False               1  \n43                        74      False               0  \n44                        38      False               1  \n45                        31      False               1  \n46                        35      False               1  \n47                        53      False               1  \n48                        40      False               1  \n49                       100      False               0  \n50                        66      False               1  \n51                        53      False               0  \n52                        46      False               1  \n53                        55      False               0  \n54                        54      False               1  \n55                        42      False               0  \n56                        34      False               1  \n57                        28      False               1  \n58                        33      False               1  \n59                        29      False               0  \n60                        29      False               0  \n61                        28      False               1  \n62                        29      False               0  \n63                        27      False               0  \n64                        24      False               1  \n65                        29      False               1  \n66                        29      False               0  \n67                        29      False               1  \n68                        28      False               1  \n69                        41      False               0  \n70                        38      False               1  \n71                        33      False               0  \n72                        28      False               1  \n73                        23      False               0  \n74                        25      False               0  \n75                        32      False               1  \n76                        25      False               1  \n77                        23      False               1  \n78                        23      False               1  \n79                        22      False               1  \n80                        17      False               0  \n81                        21      False               1  \n82                        33      False               0  \n83                        46      False               0  \n84                        32      False               0  \n85                        26      False               1  \n86                        24      False               0  \n87                        22      False               0  \n88                        22      False               1  \n89                        25      False               0  \n90                        22      False               1  ",
      "text/html": "<div>\n<style scoped>\n    .dataframe tbody tr th:only-of-type {\n        vertical-align: middle;\n    }\n\n    .dataframe tbody tr th {\n        vertical-align: top;\n    }\n\n    .dataframe thead th {\n        text-align: right;\n    }\n</style>\n<table border=\"1\" class=\"dataframe\">\n  <thead>\n    <tr style=\"text-align: right;\">\n      <th></th>\n      <th>Date</th>\n      <th>Open</th>\n      <th>High</th>\n      <th>Low</th>\n      <th>Close</th>\n      <th>Adj Close</th>\n      <th>Volume</th>\n      <th>Previous_Open</th>\n      <th>Previous_High</th>\n      <th>Previous_Low</th>\n      <th>Previous_Close</th>\n      <th>Previous_Adj_Close</th>\n      <th>Previous_Volume</th>\n      <th>Previous_Search_Interest</th>\n      <th>isPartial</th>\n      <th>Price_Increase</th>\n    </tr>\n  </thead>\n  <tbody>\n    <tr>\n      <th>0</th>\n      <td>2021-04-01</td>\n      <td>58926.562500</td>\n      <td>59586.070313</td>\n      <td>58505.277344</td>\n      <td>59095.808594</td>\n      <td>59095.808594</td>\n      <td>61669163792</td>\n      <td>58930.277344</td>\n      <td>59930.027344</td>\n      <td>57726.417969</td>\n      <td>58918.832031</td>\n      <td>58918.832031</td>\n      <td>65520826225</td>\n      <td>29</td>\n      <td>False</td>\n      <td>0</td>\n    </tr>\n    <tr>\n      <th>1</th>\n      <td>2021-04-02</td>\n      <td>59098.878906</td>\n      <td>60267.187500</td>\n      <td>58869.281250</td>\n      <td>59384.312500</td>\n      <td>59384.312500</td>\n      <td>58727860620</td>\n      <td>58926.562500</td>\n      <td>59586.070313</td>\n      <td>58505.277344</td>\n      <td>59095.808594</td>\n      <td>59095.808594</td>\n      <td>61669163792</td>\n      <td>41</td>\n      <td>False</td>\n      <td>0</td>\n    </tr>\n    <tr>\n      <th>2</th>\n      <td>2021-04-03</td>\n      <td>59397.410156</td>\n      <td>60110.269531</td>\n      <td>57603.890625</td>\n      <td>57603.890625</td>\n      <td>57603.890625</td>\n      <td>59641344484</td>\n      <td>59098.878906</td>\n      <td>60267.187500</td>\n      <td>58869.281250</td>\n      <td>59384.312500</td>\n      <td>59384.312500</td>\n      <td>58727860620</td>\n      <td>29</td>\n      <td>False</td>\n      <td>1</td>\n    </tr>\n    <tr>\n      <th>3</th>\n      <td>2021-04-04</td>\n      <td>57604.839844</td>\n      <td>58913.746094</td>\n      <td>57168.675781</td>\n      <td>58758.554688</td>\n      <td>58758.554688</td>\n      <td>50749662970</td>\n      <td>59397.410156</td>\n      <td>60110.269531</td>\n      <td>57603.890625</td>\n      <td>57603.890625</td>\n      <td>57603.890625</td>\n      <td>59641344484</td>\n      <td>22</td>\n      <td>False</td>\n      <td>0</td>\n    </tr>\n    <tr>\n      <th>4</th>\n      <td>2021-04-05</td>\n      <td>58760.875000</td>\n      <td>59891.296875</td>\n      <td>57694.824219</td>\n      <td>59057.878906</td>\n      <td>59057.878906</td>\n      <td>60706272115</td>\n      <td>57604.839844</td>\n      <td>58913.746094</td>\n      <td>57168.675781</td>\n      <td>58758.554688</td>\n      <td>58758.554688</td>\n      <td>50749662970</td>\n      <td>22</td>\n      <td>False</td>\n      <td>0</td>\n    </tr>\n    <tr>\n      <th>5</th>\n      <td>2021-04-06</td>\n      <td>59171.933594</td>\n      <td>59479.578125</td>\n      <td>57646.808594</td>\n      <td>58192.359375</td>\n      <td>58192.359375</td>\n      <td>66058027988</td>\n      <td>58760.875000</td>\n      <td>59891.296875</td>\n      <td>57694.824219</td>\n      <td>59057.878906</td>\n      <td>59057.878906</td>\n      <td>60706272115</td>\n      <td>23</td>\n      <td>False</td>\n      <td>1</td>\n    </tr>\n    <tr>\n      <th>6</th>\n      <td>2021-04-07</td>\n      <td>58186.507813</td>\n      <td>58731.144531</td>\n      <td>55604.023438</td>\n      <td>56048.937500</td>\n      <td>56048.937500</td>\n      <td>75645303584</td>\n      <td>59171.933594</td>\n      <td>59479.578125</td>\n      <td>57646.808594</td>\n      <td>58192.359375</td>\n      <td>58192.359375</td>\n      <td>66058027988</td>\n      <td>24</td>\n      <td>False</td>\n      <td>1</td>\n    </tr>\n    <tr>\n      <th>7</th>\n      <td>2021-04-08</td>\n      <td>56099.914063</td>\n      <td>58338.738281</td>\n      <td>55879.085938</td>\n      <td>58323.953125</td>\n      <td>58323.953125</td>\n      <td>53053855641</td>\n      <td>58186.507813</td>\n      <td>58731.144531</td>\n      <td>55604.023438</td>\n      <td>56048.937500</td>\n      <td>56048.937500</td>\n      <td>75645303584</td>\n      <td>23</td>\n      <td>False</td>\n      <td>0</td>\n    </tr>\n    <tr>\n      <th>8</th>\n      <td>2021-04-09</td>\n      <td>58326.562500</td>\n      <td>58937.046875</td>\n      <td>57807.863281</td>\n      <td>58245.003906</td>\n      <td>58245.003906</td>\n      <td>46655208546</td>\n      <td>56099.914063</td>\n      <td>58338.738281</td>\n      <td>55879.085938</td>\n      <td>58323.953125</td>\n      <td>58323.953125</td>\n      <td>53053855641</td>\n      <td>24</td>\n      <td>False</td>\n      <td>1</td>\n    </tr>\n    <tr>\n      <th>9</th>\n      <td>2021-04-10</td>\n      <td>58253.777344</td>\n      <td>61276.664063</td>\n      <td>58038.707031</td>\n      <td>59793.234375</td>\n      <td>59793.234375</td>\n      <td>58238470525</td>\n      <td>58326.562500</td>\n      <td>58937.046875</td>\n      <td>57807.863281</td>\n      <td>58245.003906</td>\n      <td>58245.003906</td>\n      <td>46655208546</td>\n      <td>22</td>\n      <td>False</td>\n      <td>0</td>\n    </tr>\n    <tr>\n      <th>10</th>\n      <td>2021-04-11</td>\n      <td>59846.230469</td>\n      <td>60790.554688</td>\n      <td>59289.796875</td>\n      <td>60204.964844</td>\n      <td>60204.964844</td>\n      <td>46280252580</td>\n      <td>58253.777344</td>\n      <td>61276.664063</td>\n      <td>58038.707031</td>\n      <td>59793.234375</td>\n      <td>59793.234375</td>\n      <td>58238470525</td>\n      <td>26</td>\n      <td>False</td>\n      <td>0</td>\n    </tr>\n    <tr>\n      <th>11</th>\n      <td>2021-04-12</td>\n      <td>60175.945313</td>\n      <td>61253.035156</td>\n      <td>59589.875000</td>\n      <td>59893.453125</td>\n      <td>59893.453125</td>\n      <td>51828688519</td>\n      <td>59846.230469</td>\n      <td>60790.554688</td>\n      <td>59289.796875</td>\n      <td>60204.964844</td>\n      <td>60204.964844</td>\n      <td>46280252580</td>\n      <td>24</td>\n      <td>False</td>\n      <td>1</td>\n    </tr>\n    <tr>\n      <th>12</th>\n      <td>2021-04-13</td>\n      <td>59890.019531</td>\n      <td>63742.285156</td>\n      <td>59869.957031</td>\n      <td>63503.457031</td>\n      <td>63503.457031</td>\n      <td>69983454362</td>\n      <td>60175.945313</td>\n      <td>61253.035156</td>\n      <td>59589.875000</td>\n      <td>59893.453125</td>\n      <td>59893.453125</td>\n      <td>51828688519</td>\n      <td>25</td>\n      <td>False</td>\n      <td>0</td>\n    </tr>\n    <tr>\n      <th>13</th>\n      <td>2021-04-14</td>\n      <td>63523.753906</td>\n      <td>64863.097656</td>\n      <td>61554.796875</td>\n      <td>63109.695313</td>\n      <td>63109.695313</td>\n      <td>77451779687</td>\n      <td>59890.019531</td>\n      <td>63742.285156</td>\n      <td>59869.957031</td>\n      <td>63503.457031</td>\n      <td>63503.457031</td>\n      <td>69983454362</td>\n      <td>36</td>\n      <td>False</td>\n      <td>1</td>\n    </tr>\n    <tr>\n      <th>14</th>\n      <td>2021-04-15</td>\n      <td>63075.195313</td>\n      <td>63821.671875</td>\n      <td>62208.964844</td>\n      <td>63314.011719</td>\n      <td>63314.011719</td>\n      <td>60954381579</td>\n      <td>63523.753906</td>\n      <td>64863.097656</td>\n      <td>61554.796875</td>\n      <td>63109.695313</td>\n      <td>63109.695313</td>\n      <td>77451779687</td>\n      <td>42</td>\n      <td>False</td>\n      <td>0</td>\n    </tr>\n    <tr>\n      <th>15</th>\n      <td>2021-04-16</td>\n      <td>63258.503906</td>\n      <td>63594.722656</td>\n      <td>60222.531250</td>\n      <td>61572.789063</td>\n      <td>61572.789063</td>\n      <td>84293007468</td>\n      <td>63075.195313</td>\n      <td>63821.671875</td>\n      <td>62208.964844</td>\n      <td>63314.011719</td>\n      <td>63314.011719</td>\n      <td>60954381579</td>\n      <td>35</td>\n      <td>False</td>\n      <td>1</td>\n    </tr>\n    <tr>\n      <th>16</th>\n      <td>2021-04-17</td>\n      <td>61529.921875</td>\n      <td>62572.175781</td>\n      <td>60361.351563</td>\n      <td>60683.820313</td>\n      <td>60683.820313</td>\n      <td>66138759198</td>\n      <td>63258.503906</td>\n      <td>63594.722656</td>\n      <td>60222.531250</td>\n      <td>61572.789063</td>\n      <td>61572.789063</td>\n      <td>84293007468</td>\n      <td>44</td>\n      <td>False</td>\n      <td>1</td>\n    </tr>\n    <tr>\n      <th>17</th>\n      <td>2021-04-18</td>\n      <td>60701.886719</td>\n      <td>61057.457031</td>\n      <td>52829.535156</td>\n      <td>56216.183594</td>\n      <td>56216.183594</td>\n      <td>97468872758</td>\n      <td>61529.921875</td>\n      <td>62572.175781</td>\n      <td>60361.351563</td>\n      <td>60683.820313</td>\n      <td>60683.820313</td>\n      <td>66138759198</td>\n      <td>32</td>\n      <td>False</td>\n      <td>1</td>\n    </tr>\n    <tr>\n      <th>18</th>\n      <td>2021-04-19</td>\n      <td>56191.585938</td>\n      <td>57520.054688</td>\n      <td>54368.593750</td>\n      <td>55724.265625</td>\n      <td>55724.265625</td>\n      <td>65344865159</td>\n      <td>60701.886719</td>\n      <td>61057.457031</td>\n      <td>52829.535156</td>\n      <td>56216.183594</td>\n      <td>56216.183594</td>\n      <td>97468872758</td>\n      <td>51</td>\n      <td>False</td>\n      <td>1</td>\n    </tr>\n    <tr>\n      <th>19</th>\n      <td>2021-04-20</td>\n      <td>55681.792969</td>\n      <td>57062.148438</td>\n      <td>53448.046875</td>\n      <td>56473.031250</td>\n      <td>56473.031250</td>\n      <td>67849323955</td>\n      <td>56191.585938</td>\n      <td>57520.054688</td>\n      <td>54368.593750</td>\n      <td>55724.265625</td>\n      <td>55724.265625</td>\n      <td>65344865159</td>\n      <td>44</td>\n      <td>False</td>\n      <td>0</td>\n    </tr>\n    <tr>\n      <th>20</th>\n      <td>2021-04-21</td>\n      <td>56471.128906</td>\n      <td>56757.972656</td>\n      <td>53695.468750</td>\n      <td>53906.089844</td>\n      <td>53906.089844</td>\n      <td>54926612466</td>\n      <td>55681.792969</td>\n      <td>57062.148438</td>\n      <td>53448.046875</td>\n      <td>56473.031250</td>\n      <td>56473.031250</td>\n      <td>67849323955</td>\n      <td>39</td>\n      <td>False</td>\n      <td>1</td>\n    </tr>\n    <tr>\n      <th>21</th>\n      <td>2021-04-22</td>\n      <td>53857.105469</td>\n      <td>55410.230469</td>\n      <td>50583.812500</td>\n      <td>51762.273438</td>\n      <td>51762.273438</td>\n      <td>74798630778</td>\n      <td>56471.128906</td>\n      <td>56757.972656</td>\n      <td>53695.468750</td>\n      <td>53906.089844</td>\n      <td>53906.089844</td>\n      <td>54926612466</td>\n      <td>32</td>\n      <td>False</td>\n      <td>1</td>\n    </tr>\n    <tr>\n      <th>22</th>\n      <td>2021-04-23</td>\n      <td>51739.808594</td>\n      <td>52120.792969</td>\n      <td>47714.664063</td>\n      <td>51093.652344</td>\n      <td>51093.652344</td>\n      <td>86668667320</td>\n      <td>53857.105469</td>\n      <td>55410.230469</td>\n      <td>50583.812500</td>\n      <td>51762.273438</td>\n      <td>51762.273438</td>\n      <td>74798630778</td>\n      <td>34</td>\n      <td>False</td>\n      <td>1</td>\n    </tr>\n    <tr>\n      <th>23</th>\n      <td>2021-04-24</td>\n      <td>51143.226563</td>\n      <td>51167.562500</td>\n      <td>48805.285156</td>\n      <td>50050.867188</td>\n      <td>50050.867188</td>\n      <td>49014494781</td>\n      <td>51739.808594</td>\n      <td>52120.792969</td>\n      <td>47714.664063</td>\n      <td>51093.652344</td>\n      <td>51093.652344</td>\n      <td>86668667320</td>\n      <td>54</td>\n      <td>False</td>\n      <td>1</td>\n    </tr>\n    <tr>\n      <th>24</th>\n      <td>2021-04-25</td>\n      <td>50052.832031</td>\n      <td>50506.019531</td>\n      <td>47159.484375</td>\n      <td>49004.253906</td>\n      <td>49004.253906</td>\n      <td>46117114240</td>\n      <td>51143.226563</td>\n      <td>51167.562500</td>\n      <td>48805.285156</td>\n      <td>50050.867188</td>\n      <td>50050.867188</td>\n      <td>49014494781</td>\n      <td>37</td>\n      <td>False</td>\n      <td>1</td>\n    </tr>\n    <tr>\n      <th>25</th>\n      <td>2021-04-26</td>\n      <td>49077.792969</td>\n      <td>54288.003906</td>\n      <td>48852.796875</td>\n      <td>54021.753906</td>\n      <td>54021.753906</td>\n      <td>58284039825</td>\n      <td>50052.832031</td>\n      <td>50506.019531</td>\n      <td>47159.484375</td>\n      <td>49004.253906</td>\n      <td>49004.253906</td>\n      <td>46117114240</td>\n      <td>30</td>\n      <td>False</td>\n      <td>0</td>\n    </tr>\n    <tr>\n      <th>26</th>\n      <td>2021-04-27</td>\n      <td>54030.304688</td>\n      <td>55416.964844</td>\n      <td>53319.187500</td>\n      <td>55033.117188</td>\n      <td>55033.117188</td>\n      <td>49448222757</td>\n      <td>49077.792969</td>\n      <td>54288.003906</td>\n      <td>48852.796875</td>\n      <td>54021.753906</td>\n      <td>54021.753906</td>\n      <td>58284039825</td>\n      <td>35</td>\n      <td>False</td>\n      <td>0</td>\n    </tr>\n    <tr>\n      <th>27</th>\n      <td>2021-04-28</td>\n      <td>55036.636719</td>\n      <td>56227.207031</td>\n      <td>53887.917969</td>\n      <td>54824.703125</td>\n      <td>54824.703125</td>\n      <td>48000572955</td>\n      <td>54030.304688</td>\n      <td>55416.964844</td>\n      <td>53319.187500</td>\n      <td>55033.117188</td>\n      <td>55033.117188</td>\n      <td>49448222757</td>\n      <td>32</td>\n      <td>False</td>\n      <td>1</td>\n    </tr>\n    <tr>\n      <th>28</th>\n      <td>2021-04-29</td>\n      <td>54858.089844</td>\n      <td>55115.843750</td>\n      <td>52418.027344</td>\n      <td>53555.109375</td>\n      <td>53555.109375</td>\n      <td>46088929780</td>\n      <td>55036.636719</td>\n      <td>56227.207031</td>\n      <td>53887.917969</td>\n      <td>54824.703125</td>\n      <td>54824.703125</td>\n      <td>48000572955</td>\n      <td>32</td>\n      <td>False</td>\n      <td>1</td>\n    </tr>\n    <tr>\n      <th>29</th>\n      <td>2021-04-30</td>\n      <td>53568.664063</td>\n      <td>57900.718750</td>\n      <td>53129.601563</td>\n      <td>57750.175781</td>\n      <td>57750.175781</td>\n      <td>52395931985</td>\n      <td>54858.089844</td>\n      <td>55115.843750</td>\n      <td>52418.027344</td>\n      <td>53555.109375</td>\n      <td>53555.109375</td>\n      <td>46088929780</td>\n      <td>26</td>\n      <td>False</td>\n      <td>0</td>\n    </tr>\n    <tr>\n      <th>30</th>\n      <td>2021-05-01</td>\n      <td>57714.664063</td>\n      <td>58448.339844</td>\n      <td>57052.273438</td>\n      <td>57828.050781</td>\n      <td>57828.050781</td>\n      <td>42836427360</td>\n      <td>53568.664063</td>\n      <td>57900.718750</td>\n      <td>53129.601563</td>\n      <td>57750.175781</td>\n      <td>57750.175781</td>\n      <td>52395931985</td>\n      <td>26</td>\n      <td>False</td>\n      <td>0</td>\n    </tr>\n    <tr>\n      <th>31</th>\n      <td>2021-05-02</td>\n      <td>57825.863281</td>\n      <td>57902.593750</td>\n      <td>56141.906250</td>\n      <td>56631.078125</td>\n      <td>56631.078125</td>\n      <td>38177405335</td>\n      <td>57714.664063</td>\n      <td>58448.339844</td>\n      <td>57052.273438</td>\n      <td>57828.050781</td>\n      <td>57828.050781</td>\n      <td>42836427360</td>\n      <td>25</td>\n      <td>False</td>\n      <td>1</td>\n    </tr>\n    <tr>\n      <th>32</th>\n      <td>2021-05-03</td>\n      <td>56620.273438</td>\n      <td>58973.308594</td>\n      <td>56590.871094</td>\n      <td>57200.292969</td>\n      <td>57200.292969</td>\n      <td>51713139031</td>\n      <td>57825.863281</td>\n      <td>57902.593750</td>\n      <td>56141.906250</td>\n      <td>56631.078125</td>\n      <td>56631.078125</td>\n      <td>38177405335</td>\n      <td>23</td>\n      <td>False</td>\n      <td>0</td>\n    </tr>\n    <tr>\n      <th>33</th>\n      <td>2021-05-04</td>\n      <td>57214.179688</td>\n      <td>57214.179688</td>\n      <td>53191.425781</td>\n      <td>53333.539063</td>\n      <td>53333.539063</td>\n      <td>68564706967</td>\n      <td>56620.273438</td>\n      <td>58973.308594</td>\n      <td>56590.871094</td>\n      <td>57200.292969</td>\n      <td>57200.292969</td>\n      <td>51713139031</td>\n      <td>25</td>\n      <td>False</td>\n      <td>1</td>\n    </tr>\n    <tr>\n      <th>34</th>\n      <td>2021-05-05</td>\n      <td>53252.164063</td>\n      <td>57911.363281</td>\n      <td>52969.054688</td>\n      <td>57424.007813</td>\n      <td>57424.007813</td>\n      <td>69241316747</td>\n      <td>57214.179688</td>\n      <td>57214.179688</td>\n      <td>53191.425781</td>\n      <td>53333.539063</td>\n      <td>53333.539063</td>\n      <td>68564706967</td>\n      <td>30</td>\n      <td>False</td>\n      <td>0</td>\n    </tr>\n    <tr>\n      <th>35</th>\n      <td>2021-05-06</td>\n      <td>57441.308594</td>\n      <td>58363.316406</td>\n      <td>55382.507813</td>\n      <td>56396.515625</td>\n      <td>56396.515625</td>\n      <td>69523285106</td>\n      <td>53252.164063</td>\n      <td>57911.363281</td>\n      <td>52969.054688</td>\n      <td>57424.007813</td>\n      <td>57424.007813</td>\n      <td>69241316747</td>\n      <td>31</td>\n      <td>False</td>\n      <td>1</td>\n    </tr>\n    <tr>\n      <th>36</th>\n      <td>2021-05-07</td>\n      <td>56413.953125</td>\n      <td>58606.632813</td>\n      <td>55321.847656</td>\n      <td>57356.402344</td>\n      <td>57356.402344</td>\n      <td>68434023376</td>\n      <td>57441.308594</td>\n      <td>58363.316406</td>\n      <td>55382.507813</td>\n      <td>56396.515625</td>\n      <td>56396.515625</td>\n      <td>69523285106</td>\n      <td>29</td>\n      <td>False</td>\n      <td>0</td>\n    </tr>\n    <tr>\n      <th>37</th>\n      <td>2021-05-08</td>\n      <td>57352.765625</td>\n      <td>59464.613281</td>\n      <td>56975.210938</td>\n      <td>58803.777344</td>\n      <td>58803.777344</td>\n      <td>65382980634</td>\n      <td>56413.953125</td>\n      <td>58606.632813</td>\n      <td>55321.847656</td>\n      <td>57356.402344</td>\n      <td>57356.402344</td>\n      <td>68434023376</td>\n      <td>26</td>\n      <td>False</td>\n      <td>0</td>\n    </tr>\n    <tr>\n      <th>38</th>\n      <td>2021-05-09</td>\n      <td>58877.390625</td>\n      <td>59210.882813</td>\n      <td>56482.003906</td>\n      <td>58232.316406</td>\n      <td>58232.316406</td>\n      <td>65906690347</td>\n      <td>57352.765625</td>\n      <td>59464.613281</td>\n      <td>56975.210938</td>\n      <td>58803.777344</td>\n      <td>58803.777344</td>\n      <td>65382980634</td>\n      <td>29</td>\n      <td>False</td>\n      <td>1</td>\n    </tr>\n    <tr>\n      <th>39</th>\n      <td>2021-05-10</td>\n      <td>58250.871094</td>\n      <td>59519.355469</td>\n      <td>54071.457031</td>\n      <td>55859.796875</td>\n      <td>55859.796875</td>\n      <td>71776546298</td>\n      <td>58877.390625</td>\n      <td>59210.882813</td>\n      <td>56482.003906</td>\n      <td>58232.316406</td>\n      <td>58232.316406</td>\n      <td>65906690347</td>\n      <td>28</td>\n      <td>False</td>\n      <td>1</td>\n    </tr>\n    <tr>\n      <th>40</th>\n      <td>2021-05-11</td>\n      <td>55847.242188</td>\n      <td>56872.542969</td>\n      <td>54608.652344</td>\n      <td>56704.574219</td>\n      <td>56704.574219</td>\n      <td>61308396325</td>\n      <td>58250.871094</td>\n      <td>59519.355469</td>\n      <td>54071.457031</td>\n      <td>55859.796875</td>\n      <td>55859.796875</td>\n      <td>71776546298</td>\n      <td>32</td>\n      <td>False</td>\n      <td>0</td>\n    </tr>\n    <tr>\n      <th>41</th>\n      <td>2021-05-12</td>\n      <td>56714.531250</td>\n      <td>57939.363281</td>\n      <td>49150.535156</td>\n      <td>49150.535156</td>\n      <td>49150.535156</td>\n      <td>75215403907</td>\n      <td>55847.242188</td>\n      <td>56872.542969</td>\n      <td>54608.652344</td>\n      <td>56704.574219</td>\n      <td>56704.574219</td>\n      <td>61308396325</td>\n      <td>30</td>\n      <td>False</td>\n      <td>1</td>\n    </tr>\n    <tr>\n      <th>42</th>\n      <td>2021-05-13</td>\n      <td>49735.433594</td>\n      <td>51330.843750</td>\n      <td>46980.019531</td>\n      <td>49716.191406</td>\n      <td>49716.191406</td>\n      <td>96721152926</td>\n      <td>56714.531250</td>\n      <td>57939.363281</td>\n      <td>49150.535156</td>\n      <td>49150.535156</td>\n      <td>49150.535156</td>\n      <td>75215403907</td>\n      <td>33</td>\n      <td>False</td>\n      <td>1</td>\n    </tr>\n    <tr>\n      <th>43</th>\n      <td>2021-05-14</td>\n      <td>49682.980469</td>\n      <td>51438.117188</td>\n      <td>48868.578125</td>\n      <td>49880.535156</td>\n      <td>49880.535156</td>\n      <td>55737497453</td>\n      <td>49735.433594</td>\n      <td>51330.843750</td>\n      <td>46980.019531</td>\n      <td>49716.191406</td>\n      <td>49716.191406</td>\n      <td>96721152926</td>\n      <td>74</td>\n      <td>False</td>\n      <td>0</td>\n    </tr>\n    <tr>\n      <th>44</th>\n      <td>2021-05-15</td>\n      <td>49855.496094</td>\n      <td>50639.664063</td>\n      <td>46664.140625</td>\n      <td>46760.187500</td>\n      <td>46760.187500</td>\n      <td>59161047474</td>\n      <td>49682.980469</td>\n      <td>51438.117188</td>\n      <td>48868.578125</td>\n      <td>49880.535156</td>\n      <td>49880.535156</td>\n      <td>55737497453</td>\n      <td>38</td>\n      <td>False</td>\n      <td>1</td>\n    </tr>\n    <tr>\n      <th>45</th>\n      <td>2021-05-16</td>\n      <td>46716.636719</td>\n      <td>49720.042969</td>\n      <td>43963.351563</td>\n      <td>46456.058594</td>\n      <td>46456.058594</td>\n      <td>64047871555</td>\n      <td>49855.496094</td>\n      <td>50639.664063</td>\n      <td>46664.140625</td>\n      <td>46760.187500</td>\n      <td>46760.187500</td>\n      <td>59161047474</td>\n      <td>31</td>\n      <td>False</td>\n      <td>1</td>\n    </tr>\n    <tr>\n      <th>46</th>\n      <td>2021-05-17</td>\n      <td>46415.898438</td>\n      <td>46623.558594</td>\n      <td>42207.289063</td>\n      <td>43537.511719</td>\n      <td>43537.511719</td>\n      <td>74903638450</td>\n      <td>46716.636719</td>\n      <td>49720.042969</td>\n      <td>43963.351563</td>\n      <td>46456.058594</td>\n      <td>46456.058594</td>\n      <td>64047871555</td>\n      <td>35</td>\n      <td>False</td>\n      <td>1</td>\n    </tr>\n    <tr>\n      <th>47</th>\n      <td>2021-05-18</td>\n      <td>43488.058594</td>\n      <td>45812.457031</td>\n      <td>42367.832031</td>\n      <td>42909.402344</td>\n      <td>42909.402344</td>\n      <td>56187365084</td>\n      <td>46415.898438</td>\n      <td>46623.558594</td>\n      <td>42207.289063</td>\n      <td>43537.511719</td>\n      <td>43537.511719</td>\n      <td>74903638450</td>\n      <td>53</td>\n      <td>False</td>\n      <td>1</td>\n    </tr>\n    <tr>\n      <th>48</th>\n      <td>2021-05-19</td>\n      <td>42944.976563</td>\n      <td>43546.117188</td>\n      <td>30681.496094</td>\n      <td>37002.441406</td>\n      <td>37002.441406</td>\n      <td>126358098747</td>\n      <td>43488.058594</td>\n      <td>45812.457031</td>\n      <td>42367.832031</td>\n      <td>42909.402344</td>\n      <td>42909.402344</td>\n      <td>56187365084</td>\n      <td>40</td>\n      <td>False</td>\n      <td>1</td>\n    </tr>\n    <tr>\n      <th>49</th>\n      <td>2021-05-20</td>\n      <td>36753.667969</td>\n      <td>42462.984375</td>\n      <td>35050.617188</td>\n      <td>40782.738281</td>\n      <td>40782.738281</td>\n      <td>88281943359</td>\n      <td>42944.976563</td>\n      <td>43546.117188</td>\n      <td>30681.496094</td>\n      <td>37002.441406</td>\n      <td>37002.441406</td>\n      <td>126358098747</td>\n      <td>100</td>\n      <td>False</td>\n      <td>0</td>\n    </tr>\n    <tr>\n      <th>50</th>\n      <td>2021-05-21</td>\n      <td>40596.949219</td>\n      <td>42172.171875</td>\n      <td>33616.453125</td>\n      <td>37304.691406</td>\n      <td>37304.691406</td>\n      <td>82051616861</td>\n      <td>36753.667969</td>\n      <td>42462.984375</td>\n      <td>35050.617188</td>\n      <td>40782.738281</td>\n      <td>40782.738281</td>\n      <td>88281943359</td>\n      <td>66</td>\n      <td>False</td>\n      <td>1</td>\n    </tr>\n    <tr>\n      <th>51</th>\n      <td>2021-05-22</td>\n      <td>37371.031250</td>\n      <td>38831.054688</td>\n      <td>35383.683594</td>\n      <td>37536.632813</td>\n      <td>37536.632813</td>\n      <td>57377273240</td>\n      <td>40596.949219</td>\n      <td>42172.171875</td>\n      <td>33616.453125</td>\n      <td>37304.691406</td>\n      <td>37304.691406</td>\n      <td>82051616861</td>\n      <td>53</td>\n      <td>False</td>\n      <td>0</td>\n    </tr>\n    <tr>\n      <th>52</th>\n      <td>2021-05-23</td>\n      <td>37531.449219</td>\n      <td>38289.218750</td>\n      <td>31227.339844</td>\n      <td>34770.582031</td>\n      <td>34770.582031</td>\n      <td>78469274361</td>\n      <td>37371.031250</td>\n      <td>38831.054688</td>\n      <td>35383.683594</td>\n      <td>37536.632813</td>\n      <td>37536.632813</td>\n      <td>57377273240</td>\n      <td>46</td>\n      <td>False</td>\n      <td>1</td>\n    </tr>\n    <tr>\n      <th>53</th>\n      <td>2021-05-24</td>\n      <td>34700.363281</td>\n      <td>39835.140625</td>\n      <td>34551.082031</td>\n      <td>38705.980469</td>\n      <td>38705.980469</td>\n      <td>67359584098</td>\n      <td>37531.449219</td>\n      <td>38289.218750</td>\n      <td>31227.339844</td>\n      <td>34770.582031</td>\n      <td>34770.582031</td>\n      <td>78469274361</td>\n      <td>55</td>\n      <td>False</td>\n      <td>0</td>\n    </tr>\n    <tr>\n      <th>54</th>\n      <td>2021-05-25</td>\n      <td>38795.781250</td>\n      <td>39776.351563</td>\n      <td>36581.429688</td>\n      <td>38402.222656</td>\n      <td>38402.222656</td>\n      <td>56211915803</td>\n      <td>34700.363281</td>\n      <td>39835.140625</td>\n      <td>34551.082031</td>\n      <td>38705.980469</td>\n      <td>38705.980469</td>\n      <td>67359584098</td>\n      <td>54</td>\n      <td>False</td>\n      <td>1</td>\n    </tr>\n    <tr>\n      <th>55</th>\n      <td>2021-05-26</td>\n      <td>38392.625000</td>\n      <td>40782.078125</td>\n      <td>37905.835938</td>\n      <td>39294.199219</td>\n      <td>39294.199219</td>\n      <td>51346735160</td>\n      <td>38795.781250</td>\n      <td>39776.351563</td>\n      <td>36581.429688</td>\n      <td>38402.222656</td>\n      <td>38402.222656</td>\n      <td>56211915803</td>\n      <td>42</td>\n      <td>False</td>\n      <td>0</td>\n    </tr>\n    <tr>\n      <th>56</th>\n      <td>2021-05-27</td>\n      <td>39316.890625</td>\n      <td>40379.617188</td>\n      <td>37247.902344</td>\n      <td>38436.968750</td>\n      <td>38436.968750</td>\n      <td>43210968721</td>\n      <td>38392.625000</td>\n      <td>40782.078125</td>\n      <td>37905.835938</td>\n      <td>39294.199219</td>\n      <td>39294.199219</td>\n      <td>51346735160</td>\n      <td>34</td>\n      <td>False</td>\n      <td>1</td>\n    </tr>\n    <tr>\n      <th>57</th>\n      <td>2021-05-28</td>\n      <td>38507.082031</td>\n      <td>38856.968750</td>\n      <td>34779.039063</td>\n      <td>35697.605469</td>\n      <td>35697.605469</td>\n      <td>55200191952</td>\n      <td>39316.890625</td>\n      <td>40379.617188</td>\n      <td>37247.902344</td>\n      <td>38436.968750</td>\n      <td>38436.968750</td>\n      <td>43210968721</td>\n      <td>28</td>\n      <td>False</td>\n      <td>1</td>\n    </tr>\n    <tr>\n      <th>58</th>\n      <td>2021-05-29</td>\n      <td>35684.156250</td>\n      <td>37234.500000</td>\n      <td>33693.929688</td>\n      <td>34616.066406</td>\n      <td>34616.066406</td>\n      <td>45231013335</td>\n      <td>38507.082031</td>\n      <td>38856.968750</td>\n      <td>34779.039063</td>\n      <td>35697.605469</td>\n      <td>35697.605469</td>\n      <td>55200191952</td>\n      <td>33</td>\n      <td>False</td>\n      <td>1</td>\n    </tr>\n    <tr>\n      <th>59</th>\n      <td>2021-05-30</td>\n      <td>34607.406250</td>\n      <td>36400.667969</td>\n      <td>33520.738281</td>\n      <td>35678.128906</td>\n      <td>35678.128906</td>\n      <td>31646080921</td>\n      <td>35684.156250</td>\n      <td>37234.500000</td>\n      <td>33693.929688</td>\n      <td>34616.066406</td>\n      <td>34616.066406</td>\n      <td>45231013335</td>\n      <td>29</td>\n      <td>False</td>\n      <td>0</td>\n    </tr>\n    <tr>\n      <th>60</th>\n      <td>2021-05-31</td>\n      <td>35658.593750</td>\n      <td>37468.250000</td>\n      <td>34241.945313</td>\n      <td>37332.855469</td>\n      <td>37332.855469</td>\n      <td>39009847639</td>\n      <td>34607.406250</td>\n      <td>36400.667969</td>\n      <td>33520.738281</td>\n      <td>35678.128906</td>\n      <td>35678.128906</td>\n      <td>31646080921</td>\n      <td>29</td>\n      <td>False</td>\n      <td>0</td>\n    </tr>\n    <tr>\n      <th>61</th>\n      <td>2021-06-01</td>\n      <td>37293.792969</td>\n      <td>37896.734375</td>\n      <td>35787.085938</td>\n      <td>36684.925781</td>\n      <td>36684.925781</td>\n      <td>34639423297</td>\n      <td>35658.593750</td>\n      <td>37468.250000</td>\n      <td>34241.945313</td>\n      <td>37332.855469</td>\n      <td>37332.855469</td>\n      <td>39009847639</td>\n      <td>28</td>\n      <td>False</td>\n      <td>1</td>\n    </tr>\n    <tr>\n      <th>62</th>\n      <td>2021-06-02</td>\n      <td>36699.921875</td>\n      <td>38231.339844</td>\n      <td>35966.308594</td>\n      <td>37575.179688</td>\n      <td>37575.179688</td>\n      <td>33070867190</td>\n      <td>37293.792969</td>\n      <td>37896.734375</td>\n      <td>35787.085938</td>\n      <td>36684.925781</td>\n      <td>36684.925781</td>\n      <td>34639423297</td>\n      <td>29</td>\n      <td>False</td>\n      <td>0</td>\n    </tr>\n    <tr>\n      <th>63</th>\n      <td>2021-06-03</td>\n      <td>37599.410156</td>\n      <td>39478.953125</td>\n      <td>37243.972656</td>\n      <td>39208.765625</td>\n      <td>39208.765625</td>\n      <td>35460750427</td>\n      <td>36699.921875</td>\n      <td>38231.339844</td>\n      <td>35966.308594</td>\n      <td>37575.179688</td>\n      <td>37575.179688</td>\n      <td>33070867190</td>\n      <td>27</td>\n      <td>False</td>\n      <td>0</td>\n    </tr>\n    <tr>\n      <th>64</th>\n      <td>2021-06-04</td>\n      <td>39242.484375</td>\n      <td>39242.484375</td>\n      <td>35717.722656</td>\n      <td>36894.406250</td>\n      <td>36894.406250</td>\n      <td>41831090187</td>\n      <td>37599.410156</td>\n      <td>39478.953125</td>\n      <td>37243.972656</td>\n      <td>39208.765625</td>\n      <td>39208.765625</td>\n      <td>35460750427</td>\n      <td>24</td>\n      <td>False</td>\n      <td>1</td>\n    </tr>\n    <tr>\n      <th>65</th>\n      <td>2021-06-05</td>\n      <td>36880.156250</td>\n      <td>37917.714844</td>\n      <td>34900.414063</td>\n      <td>35551.957031</td>\n      <td>35551.957031</td>\n      <td>35959473399</td>\n      <td>39242.484375</td>\n      <td>39242.484375</td>\n      <td>35717.722656</td>\n      <td>36894.406250</td>\n      <td>36894.406250</td>\n      <td>41831090187</td>\n      <td>29</td>\n      <td>False</td>\n      <td>1</td>\n    </tr>\n    <tr>\n      <th>66</th>\n      <td>2021-06-06</td>\n      <td>35538.609375</td>\n      <td>36436.421875</td>\n      <td>35304.578125</td>\n      <td>35862.378906</td>\n      <td>35862.378906</td>\n      <td>28913440585</td>\n      <td>36880.156250</td>\n      <td>37917.714844</td>\n      <td>34900.414063</td>\n      <td>35551.957031</td>\n      <td>35551.957031</td>\n      <td>35959473399</td>\n      <td>29</td>\n      <td>False</td>\n      <td>0</td>\n    </tr>\n    <tr>\n      <th>67</th>\n      <td>2021-06-07</td>\n      <td>35835.265625</td>\n      <td>36790.570313</td>\n      <td>33480.640625</td>\n      <td>33560.707031</td>\n      <td>33560.707031</td>\n      <td>33683936663</td>\n      <td>35538.609375</td>\n      <td>36436.421875</td>\n      <td>35304.578125</td>\n      <td>35862.378906</td>\n      <td>35862.378906</td>\n      <td>28913440585</td>\n      <td>29</td>\n      <td>False</td>\n      <td>1</td>\n    </tr>\n    <tr>\n      <th>68</th>\n      <td>2021-06-08</td>\n      <td>33589.519531</td>\n      <td>34017.386719</td>\n      <td>31114.443359</td>\n      <td>33472.632813</td>\n      <td>33472.632813</td>\n      <td>49902050442</td>\n      <td>35835.265625</td>\n      <td>36790.570313</td>\n      <td>33480.640625</td>\n      <td>33560.707031</td>\n      <td>33560.707031</td>\n      <td>33683936663</td>\n      <td>28</td>\n      <td>False</td>\n      <td>1</td>\n    </tr>\n    <tr>\n      <th>69</th>\n      <td>2021-06-09</td>\n      <td>33416.976563</td>\n      <td>37537.371094</td>\n      <td>32475.865234</td>\n      <td>37345.121094</td>\n      <td>37345.121094</td>\n      <td>53972919008</td>\n      <td>33589.519531</td>\n      <td>34017.386719</td>\n      <td>31114.443359</td>\n      <td>33472.632813</td>\n      <td>33472.632813</td>\n      <td>49902050442</td>\n      <td>41</td>\n      <td>False</td>\n      <td>0</td>\n    </tr>\n    <tr>\n      <th>70</th>\n      <td>2021-06-10</td>\n      <td>37389.515625</td>\n      <td>38334.324219</td>\n      <td>35847.593750</td>\n      <td>36702.597656</td>\n      <td>36702.597656</td>\n      <td>43576032854</td>\n      <td>33416.976563</td>\n      <td>37537.371094</td>\n      <td>32475.865234</td>\n      <td>37345.121094</td>\n      <td>37345.121094</td>\n      <td>53972919008</td>\n      <td>38</td>\n      <td>False</td>\n      <td>1</td>\n    </tr>\n    <tr>\n      <th>71</th>\n      <td>2021-06-11</td>\n      <td>36697.031250</td>\n      <td>37608.695313</td>\n      <td>36044.449219</td>\n      <td>37334.398438</td>\n      <td>37334.398438</td>\n      <td>38699736985</td>\n      <td>37389.515625</td>\n      <td>38334.324219</td>\n      <td>35847.593750</td>\n      <td>36702.597656</td>\n      <td>36702.597656</td>\n      <td>43576032854</td>\n      <td>33</td>\n      <td>False</td>\n      <td>0</td>\n    </tr>\n    <tr>\n      <th>72</th>\n      <td>2021-06-12</td>\n      <td>37340.144531</td>\n      <td>37408.925781</td>\n      <td>34728.191406</td>\n      <td>35552.515625</td>\n      <td>35552.515625</td>\n      <td>37924228550</td>\n      <td>36697.031250</td>\n      <td>37608.695313</td>\n      <td>36044.449219</td>\n      <td>37334.398438</td>\n      <td>37334.398438</td>\n      <td>38699736985</td>\n      <td>28</td>\n      <td>False</td>\n      <td>1</td>\n    </tr>\n    <tr>\n      <th>73</th>\n      <td>2021-06-13</td>\n      <td>35555.789063</td>\n      <td>39322.781250</td>\n      <td>34864.109375</td>\n      <td>39097.859375</td>\n      <td>39097.859375</td>\n      <td>40669112838</td>\n      <td>37340.144531</td>\n      <td>37408.925781</td>\n      <td>34728.191406</td>\n      <td>35552.515625</td>\n      <td>35552.515625</td>\n      <td>37924228550</td>\n      <td>23</td>\n      <td>False</td>\n      <td>0</td>\n    </tr>\n    <tr>\n      <th>74</th>\n      <td>2021-06-14</td>\n      <td>39016.968750</td>\n      <td>40978.363281</td>\n      <td>38757.285156</td>\n      <td>40218.476563</td>\n      <td>40218.476563</td>\n      <td>43148914673</td>\n      <td>35555.789063</td>\n      <td>39322.781250</td>\n      <td>34864.109375</td>\n      <td>39097.859375</td>\n      <td>39097.859375</td>\n      <td>40669112838</td>\n      <td>25</td>\n      <td>False</td>\n      <td>0</td>\n    </tr>\n    <tr>\n      <th>75</th>\n      <td>2021-06-15</td>\n      <td>40427.167969</td>\n      <td>41295.269531</td>\n      <td>39609.468750</td>\n      <td>40406.269531</td>\n      <td>40406.269531</td>\n      <td>46420149185</td>\n      <td>39016.968750</td>\n      <td>40978.363281</td>\n      <td>38757.285156</td>\n      <td>40218.476563</td>\n      <td>40218.476563</td>\n      <td>43148914673</td>\n      <td>32</td>\n      <td>False</td>\n      <td>1</td>\n    </tr>\n    <tr>\n      <th>76</th>\n      <td>2021-06-16</td>\n      <td>40168.691406</td>\n      <td>40516.777344</td>\n      <td>38176.035156</td>\n      <td>38347.062500</td>\n      <td>38347.062500</td>\n      <td>39211635100</td>\n      <td>40427.167969</td>\n      <td>41295.269531</td>\n      <td>39609.468750</td>\n      <td>40406.269531</td>\n      <td>40406.269531</td>\n      <td>46420149185</td>\n      <td>25</td>\n      <td>False</td>\n      <td>1</td>\n    </tr>\n    <tr>\n      <th>77</th>\n      <td>2021-06-17</td>\n      <td>38341.421875</td>\n      <td>39513.671875</td>\n      <td>37439.675781</td>\n      <td>38053.503906</td>\n      <td>38053.503906</td>\n      <td>37096670047</td>\n      <td>40168.691406</td>\n      <td>40516.777344</td>\n      <td>38176.035156</td>\n      <td>38347.062500</td>\n      <td>38347.062500</td>\n      <td>39211635100</td>\n      <td>23</td>\n      <td>False</td>\n      <td>1</td>\n    </tr>\n    <tr>\n      <th>78</th>\n      <td>2021-06-18</td>\n      <td>38099.476563</td>\n      <td>38187.261719</td>\n      <td>35255.855469</td>\n      <td>35787.246094</td>\n      <td>35787.246094</td>\n      <td>36200887275</td>\n      <td>38341.421875</td>\n      <td>39513.671875</td>\n      <td>37439.675781</td>\n      <td>38053.503906</td>\n      <td>38053.503906</td>\n      <td>37096670047</td>\n      <td>23</td>\n      <td>False</td>\n      <td>1</td>\n    </tr>\n    <tr>\n      <th>79</th>\n      <td>2021-06-19</td>\n      <td>35854.527344</td>\n      <td>36457.796875</td>\n      <td>34933.062500</td>\n      <td>35615.871094</td>\n      <td>35615.871094</td>\n      <td>31207279719</td>\n      <td>38099.476563</td>\n      <td>38187.261719</td>\n      <td>35255.855469</td>\n      <td>35787.246094</td>\n      <td>35787.246094</td>\n      <td>36200887275</td>\n      <td>22</td>\n      <td>False</td>\n      <td>1</td>\n    </tr>\n    <tr>\n      <th>80</th>\n      <td>2021-06-20</td>\n      <td>35563.140625</td>\n      <td>36059.484375</td>\n      <td>33432.074219</td>\n      <td>35698.296875</td>\n      <td>35698.296875</td>\n      <td>36664034054</td>\n      <td>35854.527344</td>\n      <td>36457.796875</td>\n      <td>34933.062500</td>\n      <td>35615.871094</td>\n      <td>35615.871094</td>\n      <td>31207279719</td>\n      <td>17</td>\n      <td>False</td>\n      <td>0</td>\n    </tr>\n    <tr>\n      <th>81</th>\n      <td>2021-06-21</td>\n      <td>35641.144531</td>\n      <td>35721.640625</td>\n      <td>31295.935547</td>\n      <td>31676.693359</td>\n      <td>31676.693359</td>\n      <td>52809038594</td>\n      <td>35563.140625</td>\n      <td>36059.484375</td>\n      <td>33432.074219</td>\n      <td>35698.296875</td>\n      <td>35698.296875</td>\n      <td>36664034054</td>\n      <td>21</td>\n      <td>False</td>\n      <td>1</td>\n    </tr>\n    <tr>\n      <th>82</th>\n      <td>2021-06-22</td>\n      <td>31622.376953</td>\n      <td>33292.453125</td>\n      <td>28893.621094</td>\n      <td>32505.660156</td>\n      <td>32505.660156</td>\n      <td>58964353058</td>\n      <td>35641.144531</td>\n      <td>35721.640625</td>\n      <td>31295.935547</td>\n      <td>31676.693359</td>\n      <td>31676.693359</td>\n      <td>52809038594</td>\n      <td>33</td>\n      <td>False</td>\n      <td>0</td>\n    </tr>\n    <tr>\n      <th>83</th>\n      <td>2021-06-23</td>\n      <td>32515.714844</td>\n      <td>34753.410156</td>\n      <td>31772.632813</td>\n      <td>33723.027344</td>\n      <td>33723.027344</td>\n      <td>46317108925</td>\n      <td>31622.376953</td>\n      <td>33292.453125</td>\n      <td>28893.621094</td>\n      <td>32505.660156</td>\n      <td>32505.660156</td>\n      <td>58964353058</td>\n      <td>46</td>\n      <td>False</td>\n      <td>0</td>\n    </tr>\n    <tr>\n      <th>84</th>\n      <td>2021-06-24</td>\n      <td>33682.800781</td>\n      <td>35228.851563</td>\n      <td>32385.214844</td>\n      <td>34662.437500</td>\n      <td>34662.437500</td>\n      <td>33123368116</td>\n      <td>32515.714844</td>\n      <td>34753.410156</td>\n      <td>31772.632813</td>\n      <td>33723.027344</td>\n      <td>33723.027344</td>\n      <td>46317108925</td>\n      <td>32</td>\n      <td>False</td>\n      <td>0</td>\n    </tr>\n    <tr>\n      <th>85</th>\n      <td>2021-06-25</td>\n      <td>34659.105469</td>\n      <td>35487.246094</td>\n      <td>31350.884766</td>\n      <td>31637.779297</td>\n      <td>31637.779297</td>\n      <td>40230904226</td>\n      <td>33682.800781</td>\n      <td>35228.851563</td>\n      <td>32385.214844</td>\n      <td>34662.437500</td>\n      <td>34662.437500</td>\n      <td>33123368116</td>\n      <td>26</td>\n      <td>False</td>\n      <td>1</td>\n    </tr>\n    <tr>\n      <th>86</th>\n      <td>2021-06-26</td>\n      <td>31594.664063</td>\n      <td>32637.587891</td>\n      <td>30184.501953</td>\n      <td>32186.277344</td>\n      <td>32186.277344</td>\n      <td>38585385521</td>\n      <td>34659.105469</td>\n      <td>35487.246094</td>\n      <td>31350.884766</td>\n      <td>31637.779297</td>\n      <td>31637.779297</td>\n      <td>40230904226</td>\n      <td>24</td>\n      <td>False</td>\n      <td>0</td>\n    </tr>\n    <tr>\n      <th>87</th>\n      <td>2021-06-27</td>\n      <td>32287.523438</td>\n      <td>34656.128906</td>\n      <td>32071.757813</td>\n      <td>34649.644531</td>\n      <td>34649.644531</td>\n      <td>35511640894</td>\n      <td>31594.664063</td>\n      <td>32637.587891</td>\n      <td>30184.501953</td>\n      <td>32186.277344</td>\n      <td>32186.277344</td>\n      <td>38585385521</td>\n      <td>22</td>\n      <td>False</td>\n      <td>0</td>\n    </tr>\n    <tr>\n      <th>88</th>\n      <td>2021-06-28</td>\n      <td>34679.121094</td>\n      <td>35219.890625</td>\n      <td>33902.074219</td>\n      <td>34434.335938</td>\n      <td>34434.335938</td>\n      <td>33892523752</td>\n      <td>32287.523438</td>\n      <td>34656.128906</td>\n      <td>32071.757813</td>\n      <td>34649.644531</td>\n      <td>34649.644531</td>\n      <td>35511640894</td>\n      <td>22</td>\n      <td>False</td>\n      <td>1</td>\n    </tr>\n    <tr>\n      <th>89</th>\n      <td>2021-06-29</td>\n      <td>34475.558594</td>\n      <td>36542.109375</td>\n      <td>34252.484375</td>\n      <td>35867.777344</td>\n      <td>35867.777344</td>\n      <td>37901460044</td>\n      <td>34679.121094</td>\n      <td>35219.890625</td>\n      <td>33902.074219</td>\n      <td>34434.335938</td>\n      <td>34434.335938</td>\n      <td>33892523752</td>\n      <td>25</td>\n      <td>False</td>\n      <td>0</td>\n    </tr>\n    <tr>\n      <th>90</th>\n      <td>2021-06-30</td>\n      <td>35908.386719</td>\n      <td>36074.757813</td>\n      <td>34086.152344</td>\n      <td>35040.835938</td>\n      <td>35040.835938</td>\n      <td>34059036099</td>\n      <td>34475.558594</td>\n      <td>36542.109375</td>\n      <td>34252.484375</td>\n      <td>35867.777344</td>\n      <td>35867.777344</td>\n      <td>37901460044</td>\n      <td>22</td>\n      <td>False</td>\n      <td>1</td>\n    </tr>\n  </tbody>\n</table>\n</div>"
     },
     "execution_count": 436,
     "metadata": {},
     "output_type": "execute_result"
    }
   ],
   "source": [
    "mergedStockPrice = pd.concat([mergedPrice, bitcoinTrendsdf], axis=1)\n",
    "#mergedStockPrice.reset_index(inplace=True, drop=True)\n",
    "mergedStockPrice.set_index('isPartial', drop=True)\n",
    "#mergedStockPrice['Previous_Close'] = mergedStockPrice['Close']\n",
    "#meanSearchInterest = mergedStockPrice['Search_Interest'].mean()\n",
    "#mergedStockPrice[\"Interest Points Away From Mean\"] = mergedStockPrice[\"Search Interest\"] - meanSearchInterest\n",
    "mergedStockPrice[\"Price_Increase\"] = mergedStockPrice[\"Open\"] - mergedStockPrice[\"Close\"] > 0.0\n",
    "mergedStockPrice[\"Price_Increase\"] = mergedStockPrice[\"Price_Increase\"]*1\n",
    "\n",
    "\n",
    "#pd.set_option('display.max_rows', len(mergedStockPrice))\n",
    "\n",
    "mergedStockPrice"
   ],
   "metadata": {
    "collapsed": false,
    "pycharm": {
     "name": "#%%\n"
    }
   }
  },
  {
   "cell_type": "code",
   "execution_count": 437,
   "outputs": [
    {
     "name": "stdout",
     "output_type": "stream",
     "text": [
      "<class 'pandas.core.frame.DataFrame'>\n",
      "RangeIndex: 91 entries, 0 to 90\n",
      "Data columns (total 16 columns):\n",
      " #   Column                    Non-Null Count  Dtype  \n",
      "---  ------                    --------------  -----  \n",
      " 0   Date                      91 non-null     object \n",
      " 1   Open                      91 non-null     float64\n",
      " 2   High                      91 non-null     float64\n",
      " 3   Low                       91 non-null     float64\n",
      " 4   Close                     91 non-null     float64\n",
      " 5   Adj Close                 91 non-null     float64\n",
      " 6   Volume                    91 non-null     int64  \n",
      " 7   Previous_Open             91 non-null     float64\n",
      " 8   Previous_High             91 non-null     float64\n",
      " 9   Previous_Low              91 non-null     float64\n",
      " 10  Previous_Close            91 non-null     float64\n",
      " 11  Previous_Adj_Close        91 non-null     float64\n",
      " 12  Previous_Volume           91 non-null     int64  \n",
      " 13  Previous_Search_Interest  91 non-null     int64  \n",
      " 14  isPartial                 91 non-null     bool   \n",
      " 15  Price_Increase            91 non-null     int64  \n",
      "dtypes: bool(1), float64(10), int64(4), object(1)\n",
      "memory usage: 10.9+ KB\n"
     ]
    }
   ],
   "source": [
    "mergedStockPrice.info()"
   ],
   "metadata": {
    "collapsed": false,
    "pycharm": {
     "name": "#%%\n"
    }
   }
  },
  {
   "cell_type": "code",
   "execution_count": 438,
   "outputs": [
    {
     "data": {
      "text/plain": "    Previous_Open  Previous_High  Previous_Low  Previous_Close  \\\n0    58930.277344   59930.027344  57726.417969    58918.832031   \n1    58926.562500   59586.070313  58505.277344    59095.808594   \n2    59098.878906   60267.187500  58869.281250    59384.312500   \n3    59397.410156   60110.269531  57603.890625    57603.890625   \n4    57604.839844   58913.746094  57168.675781    58758.554688   \n5    58760.875000   59891.296875  57694.824219    59057.878906   \n6    59171.933594   59479.578125  57646.808594    58192.359375   \n7    58186.507813   58731.144531  55604.023438    56048.937500   \n8    56099.914063   58338.738281  55879.085938    58323.953125   \n9    58326.562500   58937.046875  57807.863281    58245.003906   \n10   58253.777344   61276.664063  58038.707031    59793.234375   \n11   59846.230469   60790.554688  59289.796875    60204.964844   \n12   60175.945313   61253.035156  59589.875000    59893.453125   \n13   59890.019531   63742.285156  59869.957031    63503.457031   \n14   63523.753906   64863.097656  61554.796875    63109.695313   \n15   63075.195313   63821.671875  62208.964844    63314.011719   \n16   63258.503906   63594.722656  60222.531250    61572.789063   \n17   61529.921875   62572.175781  60361.351563    60683.820313   \n18   60701.886719   61057.457031  52829.535156    56216.183594   \n19   56191.585938   57520.054688  54368.593750    55724.265625   \n20   55681.792969   57062.148438  53448.046875    56473.031250   \n21   56471.128906   56757.972656  53695.468750    53906.089844   \n22   53857.105469   55410.230469  50583.812500    51762.273438   \n23   51739.808594   52120.792969  47714.664063    51093.652344   \n24   51143.226563   51167.562500  48805.285156    50050.867188   \n25   50052.832031   50506.019531  47159.484375    49004.253906   \n26   49077.792969   54288.003906  48852.796875    54021.753906   \n27   54030.304688   55416.964844  53319.187500    55033.117188   \n28   55036.636719   56227.207031  53887.917969    54824.703125   \n29   54858.089844   55115.843750  52418.027344    53555.109375   \n30   53568.664063   57900.718750  53129.601563    57750.175781   \n31   57714.664063   58448.339844  57052.273438    57828.050781   \n32   57825.863281   57902.593750  56141.906250    56631.078125   \n33   56620.273438   58973.308594  56590.871094    57200.292969   \n34   57214.179688   57214.179688  53191.425781    53333.539063   \n35   53252.164063   57911.363281  52969.054688    57424.007813   \n36   57441.308594   58363.316406  55382.507813    56396.515625   \n37   56413.953125   58606.632813  55321.847656    57356.402344   \n38   57352.765625   59464.613281  56975.210938    58803.777344   \n39   58877.390625   59210.882813  56482.003906    58232.316406   \n40   58250.871094   59519.355469  54071.457031    55859.796875   \n41   55847.242188   56872.542969  54608.652344    56704.574219   \n42   56714.531250   57939.363281  49150.535156    49150.535156   \n43   49735.433594   51330.843750  46980.019531    49716.191406   \n44   49682.980469   51438.117188  48868.578125    49880.535156   \n45   49855.496094   50639.664063  46664.140625    46760.187500   \n46   46716.636719   49720.042969  43963.351563    46456.058594   \n47   46415.898438   46623.558594  42207.289063    43537.511719   \n48   43488.058594   45812.457031  42367.832031    42909.402344   \n49   42944.976563   43546.117188  30681.496094    37002.441406   \n50   36753.667969   42462.984375  35050.617188    40782.738281   \n51   40596.949219   42172.171875  33616.453125    37304.691406   \n52   37371.031250   38831.054688  35383.683594    37536.632813   \n53   37531.449219   38289.218750  31227.339844    34770.582031   \n54   34700.363281   39835.140625  34551.082031    38705.980469   \n55   38795.781250   39776.351563  36581.429688    38402.222656   \n56   38392.625000   40782.078125  37905.835938    39294.199219   \n57   39316.890625   40379.617188  37247.902344    38436.968750   \n58   38507.082031   38856.968750  34779.039063    35697.605469   \n59   35684.156250   37234.500000  33693.929688    34616.066406   \n60   34607.406250   36400.667969  33520.738281    35678.128906   \n61   35658.593750   37468.250000  34241.945313    37332.855469   \n62   37293.792969   37896.734375  35787.085938    36684.925781   \n63   36699.921875   38231.339844  35966.308594    37575.179688   \n64   37599.410156   39478.953125  37243.972656    39208.765625   \n65   39242.484375   39242.484375  35717.722656    36894.406250   \n66   36880.156250   37917.714844  34900.414063    35551.957031   \n67   35538.609375   36436.421875  35304.578125    35862.378906   \n68   35835.265625   36790.570313  33480.640625    33560.707031   \n69   33589.519531   34017.386719  31114.443359    33472.632813   \n70   33416.976563   37537.371094  32475.865234    37345.121094   \n71   37389.515625   38334.324219  35847.593750    36702.597656   \n72   36697.031250   37608.695313  36044.449219    37334.398438   \n73   37340.144531   37408.925781  34728.191406    35552.515625   \n74   35555.789063   39322.781250  34864.109375    39097.859375   \n75   39016.968750   40978.363281  38757.285156    40218.476563   \n76   40427.167969   41295.269531  39609.468750    40406.269531   \n77   40168.691406   40516.777344  38176.035156    38347.062500   \n78   38341.421875   39513.671875  37439.675781    38053.503906   \n79   38099.476563   38187.261719  35255.855469    35787.246094   \n80   35854.527344   36457.796875  34933.062500    35615.871094   \n81   35563.140625   36059.484375  33432.074219    35698.296875   \n82   35641.144531   35721.640625  31295.935547    31676.693359   \n83   31622.376953   33292.453125  28893.621094    32505.660156   \n84   32515.714844   34753.410156  31772.632813    33723.027344   \n85   33682.800781   35228.851563  32385.214844    34662.437500   \n86   34659.105469   35487.246094  31350.884766    31637.779297   \n87   31594.664063   32637.587891  30184.501953    32186.277344   \n88   32287.523438   34656.128906  32071.757813    34649.644531   \n89   34679.121094   35219.890625  33902.074219    34434.335938   \n90   34475.558594   36542.109375  34252.484375    35867.777344   \n\n    Previous_Volume  Previous_Search_Interest         Close  \n0       65520826225                        29  59095.808594  \n1       61669163792                        41  59384.312500  \n2       58727860620                        29  57603.890625  \n3       59641344484                        22  58758.554688  \n4       50749662970                        22  59057.878906  \n5       60706272115                        23  58192.359375  \n6       66058027988                        24  56048.937500  \n7       75645303584                        23  58323.953125  \n8       53053855641                        24  58245.003906  \n9       46655208546                        22  59793.234375  \n10      58238470525                        26  60204.964844  \n11      46280252580                        24  59893.453125  \n12      51828688519                        25  63503.457031  \n13      69983454362                        36  63109.695313  \n14      77451779687                        42  63314.011719  \n15      60954381579                        35  61572.789063  \n16      84293007468                        44  60683.820313  \n17      66138759198                        32  56216.183594  \n18      97468872758                        51  55724.265625  \n19      65344865159                        44  56473.031250  \n20      67849323955                        39  53906.089844  \n21      54926612466                        32  51762.273438  \n22      74798630778                        34  51093.652344  \n23      86668667320                        54  50050.867188  \n24      49014494781                        37  49004.253906  \n25      46117114240                        30  54021.753906  \n26      58284039825                        35  55033.117188  \n27      49448222757                        32  54824.703125  \n28      48000572955                        32  53555.109375  \n29      46088929780                        26  57750.175781  \n30      52395931985                        26  57828.050781  \n31      42836427360                        25  56631.078125  \n32      38177405335                        23  57200.292969  \n33      51713139031                        25  53333.539063  \n34      68564706967                        30  57424.007813  \n35      69241316747                        31  56396.515625  \n36      69523285106                        29  57356.402344  \n37      68434023376                        26  58803.777344  \n38      65382980634                        29  58232.316406  \n39      65906690347                        28  55859.796875  \n40      71776546298                        32  56704.574219  \n41      61308396325                        30  49150.535156  \n42      75215403907                        33  49716.191406  \n43      96721152926                        74  49880.535156  \n44      55737497453                        38  46760.187500  \n45      59161047474                        31  46456.058594  \n46      64047871555                        35  43537.511719  \n47      74903638450                        53  42909.402344  \n48      56187365084                        40  37002.441406  \n49     126358098747                       100  40782.738281  \n50      88281943359                        66  37304.691406  \n51      82051616861                        53  37536.632813  \n52      57377273240                        46  34770.582031  \n53      78469274361                        55  38705.980469  \n54      67359584098                        54  38402.222656  \n55      56211915803                        42  39294.199219  \n56      51346735160                        34  38436.968750  \n57      43210968721                        28  35697.605469  \n58      55200191952                        33  34616.066406  \n59      45231013335                        29  35678.128906  \n60      31646080921                        29  37332.855469  \n61      39009847639                        28  36684.925781  \n62      34639423297                        29  37575.179688  \n63      33070867190                        27  39208.765625  \n64      35460750427                        24  36894.406250  \n65      41831090187                        29  35551.957031  \n66      35959473399                        29  35862.378906  \n67      28913440585                        29  33560.707031  \n68      33683936663                        28  33472.632813  \n69      49902050442                        41  37345.121094  \n70      53972919008                        38  36702.597656  \n71      43576032854                        33  37334.398438  \n72      38699736985                        28  35552.515625  \n73      37924228550                        23  39097.859375  \n74      40669112838                        25  40218.476563  \n75      43148914673                        32  40406.269531  \n76      46420149185                        25  38347.062500  \n77      39211635100                        23  38053.503906  \n78      37096670047                        23  35787.246094  \n79      36200887275                        22  35615.871094  \n80      31207279719                        17  35698.296875  \n81      36664034054                        21  31676.693359  \n82      52809038594                        33  32505.660156  \n83      58964353058                        46  33723.027344  \n84      46317108925                        32  34662.437500  \n85      33123368116                        26  31637.779297  \n86      40230904226                        24  32186.277344  \n87      38585385521                        22  34649.644531  \n88      35511640894                        22  34434.335938  \n89      33892523752                        25  35867.777344  \n90      37901460044                        22  35040.835938  ",
      "text/html": "<div>\n<style scoped>\n    .dataframe tbody tr th:only-of-type {\n        vertical-align: middle;\n    }\n\n    .dataframe tbody tr th {\n        vertical-align: top;\n    }\n\n    .dataframe thead th {\n        text-align: right;\n    }\n</style>\n<table border=\"1\" class=\"dataframe\">\n  <thead>\n    <tr style=\"text-align: right;\">\n      <th></th>\n      <th>Previous_Open</th>\n      <th>Previous_High</th>\n      <th>Previous_Low</th>\n      <th>Previous_Close</th>\n      <th>Previous_Volume</th>\n      <th>Previous_Search_Interest</th>\n      <th>Close</th>\n    </tr>\n  </thead>\n  <tbody>\n    <tr>\n      <th>0</th>\n      <td>58930.277344</td>\n      <td>59930.027344</td>\n      <td>57726.417969</td>\n      <td>58918.832031</td>\n      <td>65520826225</td>\n      <td>29</td>\n      <td>59095.808594</td>\n    </tr>\n    <tr>\n      <th>1</th>\n      <td>58926.562500</td>\n      <td>59586.070313</td>\n      <td>58505.277344</td>\n      <td>59095.808594</td>\n      <td>61669163792</td>\n      <td>41</td>\n      <td>59384.312500</td>\n    </tr>\n    <tr>\n      <th>2</th>\n      <td>59098.878906</td>\n      <td>60267.187500</td>\n      <td>58869.281250</td>\n      <td>59384.312500</td>\n      <td>58727860620</td>\n      <td>29</td>\n      <td>57603.890625</td>\n    </tr>\n    <tr>\n      <th>3</th>\n      <td>59397.410156</td>\n      <td>60110.269531</td>\n      <td>57603.890625</td>\n      <td>57603.890625</td>\n      <td>59641344484</td>\n      <td>22</td>\n      <td>58758.554688</td>\n    </tr>\n    <tr>\n      <th>4</th>\n      <td>57604.839844</td>\n      <td>58913.746094</td>\n      <td>57168.675781</td>\n      <td>58758.554688</td>\n      <td>50749662970</td>\n      <td>22</td>\n      <td>59057.878906</td>\n    </tr>\n    <tr>\n      <th>5</th>\n      <td>58760.875000</td>\n      <td>59891.296875</td>\n      <td>57694.824219</td>\n      <td>59057.878906</td>\n      <td>60706272115</td>\n      <td>23</td>\n      <td>58192.359375</td>\n    </tr>\n    <tr>\n      <th>6</th>\n      <td>59171.933594</td>\n      <td>59479.578125</td>\n      <td>57646.808594</td>\n      <td>58192.359375</td>\n      <td>66058027988</td>\n      <td>24</td>\n      <td>56048.937500</td>\n    </tr>\n    <tr>\n      <th>7</th>\n      <td>58186.507813</td>\n      <td>58731.144531</td>\n      <td>55604.023438</td>\n      <td>56048.937500</td>\n      <td>75645303584</td>\n      <td>23</td>\n      <td>58323.953125</td>\n    </tr>\n    <tr>\n      <th>8</th>\n      <td>56099.914063</td>\n      <td>58338.738281</td>\n      <td>55879.085938</td>\n      <td>58323.953125</td>\n      <td>53053855641</td>\n      <td>24</td>\n      <td>58245.003906</td>\n    </tr>\n    <tr>\n      <th>9</th>\n      <td>58326.562500</td>\n      <td>58937.046875</td>\n      <td>57807.863281</td>\n      <td>58245.003906</td>\n      <td>46655208546</td>\n      <td>22</td>\n      <td>59793.234375</td>\n    </tr>\n    <tr>\n      <th>10</th>\n      <td>58253.777344</td>\n      <td>61276.664063</td>\n      <td>58038.707031</td>\n      <td>59793.234375</td>\n      <td>58238470525</td>\n      <td>26</td>\n      <td>60204.964844</td>\n    </tr>\n    <tr>\n      <th>11</th>\n      <td>59846.230469</td>\n      <td>60790.554688</td>\n      <td>59289.796875</td>\n      <td>60204.964844</td>\n      <td>46280252580</td>\n      <td>24</td>\n      <td>59893.453125</td>\n    </tr>\n    <tr>\n      <th>12</th>\n      <td>60175.945313</td>\n      <td>61253.035156</td>\n      <td>59589.875000</td>\n      <td>59893.453125</td>\n      <td>51828688519</td>\n      <td>25</td>\n      <td>63503.457031</td>\n    </tr>\n    <tr>\n      <th>13</th>\n      <td>59890.019531</td>\n      <td>63742.285156</td>\n      <td>59869.957031</td>\n      <td>63503.457031</td>\n      <td>69983454362</td>\n      <td>36</td>\n      <td>63109.695313</td>\n    </tr>\n    <tr>\n      <th>14</th>\n      <td>63523.753906</td>\n      <td>64863.097656</td>\n      <td>61554.796875</td>\n      <td>63109.695313</td>\n      <td>77451779687</td>\n      <td>42</td>\n      <td>63314.011719</td>\n    </tr>\n    <tr>\n      <th>15</th>\n      <td>63075.195313</td>\n      <td>63821.671875</td>\n      <td>62208.964844</td>\n      <td>63314.011719</td>\n      <td>60954381579</td>\n      <td>35</td>\n      <td>61572.789063</td>\n    </tr>\n    <tr>\n      <th>16</th>\n      <td>63258.503906</td>\n      <td>63594.722656</td>\n      <td>60222.531250</td>\n      <td>61572.789063</td>\n      <td>84293007468</td>\n      <td>44</td>\n      <td>60683.820313</td>\n    </tr>\n    <tr>\n      <th>17</th>\n      <td>61529.921875</td>\n      <td>62572.175781</td>\n      <td>60361.351563</td>\n      <td>60683.820313</td>\n      <td>66138759198</td>\n      <td>32</td>\n      <td>56216.183594</td>\n    </tr>\n    <tr>\n      <th>18</th>\n      <td>60701.886719</td>\n      <td>61057.457031</td>\n      <td>52829.535156</td>\n      <td>56216.183594</td>\n      <td>97468872758</td>\n      <td>51</td>\n      <td>55724.265625</td>\n    </tr>\n    <tr>\n      <th>19</th>\n      <td>56191.585938</td>\n      <td>57520.054688</td>\n      <td>54368.593750</td>\n      <td>55724.265625</td>\n      <td>65344865159</td>\n      <td>44</td>\n      <td>56473.031250</td>\n    </tr>\n    <tr>\n      <th>20</th>\n      <td>55681.792969</td>\n      <td>57062.148438</td>\n      <td>53448.046875</td>\n      <td>56473.031250</td>\n      <td>67849323955</td>\n      <td>39</td>\n      <td>53906.089844</td>\n    </tr>\n    <tr>\n      <th>21</th>\n      <td>56471.128906</td>\n      <td>56757.972656</td>\n      <td>53695.468750</td>\n      <td>53906.089844</td>\n      <td>54926612466</td>\n      <td>32</td>\n      <td>51762.273438</td>\n    </tr>\n    <tr>\n      <th>22</th>\n      <td>53857.105469</td>\n      <td>55410.230469</td>\n      <td>50583.812500</td>\n      <td>51762.273438</td>\n      <td>74798630778</td>\n      <td>34</td>\n      <td>51093.652344</td>\n    </tr>\n    <tr>\n      <th>23</th>\n      <td>51739.808594</td>\n      <td>52120.792969</td>\n      <td>47714.664063</td>\n      <td>51093.652344</td>\n      <td>86668667320</td>\n      <td>54</td>\n      <td>50050.867188</td>\n    </tr>\n    <tr>\n      <th>24</th>\n      <td>51143.226563</td>\n      <td>51167.562500</td>\n      <td>48805.285156</td>\n      <td>50050.867188</td>\n      <td>49014494781</td>\n      <td>37</td>\n      <td>49004.253906</td>\n    </tr>\n    <tr>\n      <th>25</th>\n      <td>50052.832031</td>\n      <td>50506.019531</td>\n      <td>47159.484375</td>\n      <td>49004.253906</td>\n      <td>46117114240</td>\n      <td>30</td>\n      <td>54021.753906</td>\n    </tr>\n    <tr>\n      <th>26</th>\n      <td>49077.792969</td>\n      <td>54288.003906</td>\n      <td>48852.796875</td>\n      <td>54021.753906</td>\n      <td>58284039825</td>\n      <td>35</td>\n      <td>55033.117188</td>\n    </tr>\n    <tr>\n      <th>27</th>\n      <td>54030.304688</td>\n      <td>55416.964844</td>\n      <td>53319.187500</td>\n      <td>55033.117188</td>\n      <td>49448222757</td>\n      <td>32</td>\n      <td>54824.703125</td>\n    </tr>\n    <tr>\n      <th>28</th>\n      <td>55036.636719</td>\n      <td>56227.207031</td>\n      <td>53887.917969</td>\n      <td>54824.703125</td>\n      <td>48000572955</td>\n      <td>32</td>\n      <td>53555.109375</td>\n    </tr>\n    <tr>\n      <th>29</th>\n      <td>54858.089844</td>\n      <td>55115.843750</td>\n      <td>52418.027344</td>\n      <td>53555.109375</td>\n      <td>46088929780</td>\n      <td>26</td>\n      <td>57750.175781</td>\n    </tr>\n    <tr>\n      <th>30</th>\n      <td>53568.664063</td>\n      <td>57900.718750</td>\n      <td>53129.601563</td>\n      <td>57750.175781</td>\n      <td>52395931985</td>\n      <td>26</td>\n      <td>57828.050781</td>\n    </tr>\n    <tr>\n      <th>31</th>\n      <td>57714.664063</td>\n      <td>58448.339844</td>\n      <td>57052.273438</td>\n      <td>57828.050781</td>\n      <td>42836427360</td>\n      <td>25</td>\n      <td>56631.078125</td>\n    </tr>\n    <tr>\n      <th>32</th>\n      <td>57825.863281</td>\n      <td>57902.593750</td>\n      <td>56141.906250</td>\n      <td>56631.078125</td>\n      <td>38177405335</td>\n      <td>23</td>\n      <td>57200.292969</td>\n    </tr>\n    <tr>\n      <th>33</th>\n      <td>56620.273438</td>\n      <td>58973.308594</td>\n      <td>56590.871094</td>\n      <td>57200.292969</td>\n      <td>51713139031</td>\n      <td>25</td>\n      <td>53333.539063</td>\n    </tr>\n    <tr>\n      <th>34</th>\n      <td>57214.179688</td>\n      <td>57214.179688</td>\n      <td>53191.425781</td>\n      <td>53333.539063</td>\n      <td>68564706967</td>\n      <td>30</td>\n      <td>57424.007813</td>\n    </tr>\n    <tr>\n      <th>35</th>\n      <td>53252.164063</td>\n      <td>57911.363281</td>\n      <td>52969.054688</td>\n      <td>57424.007813</td>\n      <td>69241316747</td>\n      <td>31</td>\n      <td>56396.515625</td>\n    </tr>\n    <tr>\n      <th>36</th>\n      <td>57441.308594</td>\n      <td>58363.316406</td>\n      <td>55382.507813</td>\n      <td>56396.515625</td>\n      <td>69523285106</td>\n      <td>29</td>\n      <td>57356.402344</td>\n    </tr>\n    <tr>\n      <th>37</th>\n      <td>56413.953125</td>\n      <td>58606.632813</td>\n      <td>55321.847656</td>\n      <td>57356.402344</td>\n      <td>68434023376</td>\n      <td>26</td>\n      <td>58803.777344</td>\n    </tr>\n    <tr>\n      <th>38</th>\n      <td>57352.765625</td>\n      <td>59464.613281</td>\n      <td>56975.210938</td>\n      <td>58803.777344</td>\n      <td>65382980634</td>\n      <td>29</td>\n      <td>58232.316406</td>\n    </tr>\n    <tr>\n      <th>39</th>\n      <td>58877.390625</td>\n      <td>59210.882813</td>\n      <td>56482.003906</td>\n      <td>58232.316406</td>\n      <td>65906690347</td>\n      <td>28</td>\n      <td>55859.796875</td>\n    </tr>\n    <tr>\n      <th>40</th>\n      <td>58250.871094</td>\n      <td>59519.355469</td>\n      <td>54071.457031</td>\n      <td>55859.796875</td>\n      <td>71776546298</td>\n      <td>32</td>\n      <td>56704.574219</td>\n    </tr>\n    <tr>\n      <th>41</th>\n      <td>55847.242188</td>\n      <td>56872.542969</td>\n      <td>54608.652344</td>\n      <td>56704.574219</td>\n      <td>61308396325</td>\n      <td>30</td>\n      <td>49150.535156</td>\n    </tr>\n    <tr>\n      <th>42</th>\n      <td>56714.531250</td>\n      <td>57939.363281</td>\n      <td>49150.535156</td>\n      <td>49150.535156</td>\n      <td>75215403907</td>\n      <td>33</td>\n      <td>49716.191406</td>\n    </tr>\n    <tr>\n      <th>43</th>\n      <td>49735.433594</td>\n      <td>51330.843750</td>\n      <td>46980.019531</td>\n      <td>49716.191406</td>\n      <td>96721152926</td>\n      <td>74</td>\n      <td>49880.535156</td>\n    </tr>\n    <tr>\n      <th>44</th>\n      <td>49682.980469</td>\n      <td>51438.117188</td>\n      <td>48868.578125</td>\n      <td>49880.535156</td>\n      <td>55737497453</td>\n      <td>38</td>\n      <td>46760.187500</td>\n    </tr>\n    <tr>\n      <th>45</th>\n      <td>49855.496094</td>\n      <td>50639.664063</td>\n      <td>46664.140625</td>\n      <td>46760.187500</td>\n      <td>59161047474</td>\n      <td>31</td>\n      <td>46456.058594</td>\n    </tr>\n    <tr>\n      <th>46</th>\n      <td>46716.636719</td>\n      <td>49720.042969</td>\n      <td>43963.351563</td>\n      <td>46456.058594</td>\n      <td>64047871555</td>\n      <td>35</td>\n      <td>43537.511719</td>\n    </tr>\n    <tr>\n      <th>47</th>\n      <td>46415.898438</td>\n      <td>46623.558594</td>\n      <td>42207.289063</td>\n      <td>43537.511719</td>\n      <td>74903638450</td>\n      <td>53</td>\n      <td>42909.402344</td>\n    </tr>\n    <tr>\n      <th>48</th>\n      <td>43488.058594</td>\n      <td>45812.457031</td>\n      <td>42367.832031</td>\n      <td>42909.402344</td>\n      <td>56187365084</td>\n      <td>40</td>\n      <td>37002.441406</td>\n    </tr>\n    <tr>\n      <th>49</th>\n      <td>42944.976563</td>\n      <td>43546.117188</td>\n      <td>30681.496094</td>\n      <td>37002.441406</td>\n      <td>126358098747</td>\n      <td>100</td>\n      <td>40782.738281</td>\n    </tr>\n    <tr>\n      <th>50</th>\n      <td>36753.667969</td>\n      <td>42462.984375</td>\n      <td>35050.617188</td>\n      <td>40782.738281</td>\n      <td>88281943359</td>\n      <td>66</td>\n      <td>37304.691406</td>\n    </tr>\n    <tr>\n      <th>51</th>\n      <td>40596.949219</td>\n      <td>42172.171875</td>\n      <td>33616.453125</td>\n      <td>37304.691406</td>\n      <td>82051616861</td>\n      <td>53</td>\n      <td>37536.632813</td>\n    </tr>\n    <tr>\n      <th>52</th>\n      <td>37371.031250</td>\n      <td>38831.054688</td>\n      <td>35383.683594</td>\n      <td>37536.632813</td>\n      <td>57377273240</td>\n      <td>46</td>\n      <td>34770.582031</td>\n    </tr>\n    <tr>\n      <th>53</th>\n      <td>37531.449219</td>\n      <td>38289.218750</td>\n      <td>31227.339844</td>\n      <td>34770.582031</td>\n      <td>78469274361</td>\n      <td>55</td>\n      <td>38705.980469</td>\n    </tr>\n    <tr>\n      <th>54</th>\n      <td>34700.363281</td>\n      <td>39835.140625</td>\n      <td>34551.082031</td>\n      <td>38705.980469</td>\n      <td>67359584098</td>\n      <td>54</td>\n      <td>38402.222656</td>\n    </tr>\n    <tr>\n      <th>55</th>\n      <td>38795.781250</td>\n      <td>39776.351563</td>\n      <td>36581.429688</td>\n      <td>38402.222656</td>\n      <td>56211915803</td>\n      <td>42</td>\n      <td>39294.199219</td>\n    </tr>\n    <tr>\n      <th>56</th>\n      <td>38392.625000</td>\n      <td>40782.078125</td>\n      <td>37905.835938</td>\n      <td>39294.199219</td>\n      <td>51346735160</td>\n      <td>34</td>\n      <td>38436.968750</td>\n    </tr>\n    <tr>\n      <th>57</th>\n      <td>39316.890625</td>\n      <td>40379.617188</td>\n      <td>37247.902344</td>\n      <td>38436.968750</td>\n      <td>43210968721</td>\n      <td>28</td>\n      <td>35697.605469</td>\n    </tr>\n    <tr>\n      <th>58</th>\n      <td>38507.082031</td>\n      <td>38856.968750</td>\n      <td>34779.039063</td>\n      <td>35697.605469</td>\n      <td>55200191952</td>\n      <td>33</td>\n      <td>34616.066406</td>\n    </tr>\n    <tr>\n      <th>59</th>\n      <td>35684.156250</td>\n      <td>37234.500000</td>\n      <td>33693.929688</td>\n      <td>34616.066406</td>\n      <td>45231013335</td>\n      <td>29</td>\n      <td>35678.128906</td>\n    </tr>\n    <tr>\n      <th>60</th>\n      <td>34607.406250</td>\n      <td>36400.667969</td>\n      <td>33520.738281</td>\n      <td>35678.128906</td>\n      <td>31646080921</td>\n      <td>29</td>\n      <td>37332.855469</td>\n    </tr>\n    <tr>\n      <th>61</th>\n      <td>35658.593750</td>\n      <td>37468.250000</td>\n      <td>34241.945313</td>\n      <td>37332.855469</td>\n      <td>39009847639</td>\n      <td>28</td>\n      <td>36684.925781</td>\n    </tr>\n    <tr>\n      <th>62</th>\n      <td>37293.792969</td>\n      <td>37896.734375</td>\n      <td>35787.085938</td>\n      <td>36684.925781</td>\n      <td>34639423297</td>\n      <td>29</td>\n      <td>37575.179688</td>\n    </tr>\n    <tr>\n      <th>63</th>\n      <td>36699.921875</td>\n      <td>38231.339844</td>\n      <td>35966.308594</td>\n      <td>37575.179688</td>\n      <td>33070867190</td>\n      <td>27</td>\n      <td>39208.765625</td>\n    </tr>\n    <tr>\n      <th>64</th>\n      <td>37599.410156</td>\n      <td>39478.953125</td>\n      <td>37243.972656</td>\n      <td>39208.765625</td>\n      <td>35460750427</td>\n      <td>24</td>\n      <td>36894.406250</td>\n    </tr>\n    <tr>\n      <th>65</th>\n      <td>39242.484375</td>\n      <td>39242.484375</td>\n      <td>35717.722656</td>\n      <td>36894.406250</td>\n      <td>41831090187</td>\n      <td>29</td>\n      <td>35551.957031</td>\n    </tr>\n    <tr>\n      <th>66</th>\n      <td>36880.156250</td>\n      <td>37917.714844</td>\n      <td>34900.414063</td>\n      <td>35551.957031</td>\n      <td>35959473399</td>\n      <td>29</td>\n      <td>35862.378906</td>\n    </tr>\n    <tr>\n      <th>67</th>\n      <td>35538.609375</td>\n      <td>36436.421875</td>\n      <td>35304.578125</td>\n      <td>35862.378906</td>\n      <td>28913440585</td>\n      <td>29</td>\n      <td>33560.707031</td>\n    </tr>\n    <tr>\n      <th>68</th>\n      <td>35835.265625</td>\n      <td>36790.570313</td>\n      <td>33480.640625</td>\n      <td>33560.707031</td>\n      <td>33683936663</td>\n      <td>28</td>\n      <td>33472.632813</td>\n    </tr>\n    <tr>\n      <th>69</th>\n      <td>33589.519531</td>\n      <td>34017.386719</td>\n      <td>31114.443359</td>\n      <td>33472.632813</td>\n      <td>49902050442</td>\n      <td>41</td>\n      <td>37345.121094</td>\n    </tr>\n    <tr>\n      <th>70</th>\n      <td>33416.976563</td>\n      <td>37537.371094</td>\n      <td>32475.865234</td>\n      <td>37345.121094</td>\n      <td>53972919008</td>\n      <td>38</td>\n      <td>36702.597656</td>\n    </tr>\n    <tr>\n      <th>71</th>\n      <td>37389.515625</td>\n      <td>38334.324219</td>\n      <td>35847.593750</td>\n      <td>36702.597656</td>\n      <td>43576032854</td>\n      <td>33</td>\n      <td>37334.398438</td>\n    </tr>\n    <tr>\n      <th>72</th>\n      <td>36697.031250</td>\n      <td>37608.695313</td>\n      <td>36044.449219</td>\n      <td>37334.398438</td>\n      <td>38699736985</td>\n      <td>28</td>\n      <td>35552.515625</td>\n    </tr>\n    <tr>\n      <th>73</th>\n      <td>37340.144531</td>\n      <td>37408.925781</td>\n      <td>34728.191406</td>\n      <td>35552.515625</td>\n      <td>37924228550</td>\n      <td>23</td>\n      <td>39097.859375</td>\n    </tr>\n    <tr>\n      <th>74</th>\n      <td>35555.789063</td>\n      <td>39322.781250</td>\n      <td>34864.109375</td>\n      <td>39097.859375</td>\n      <td>40669112838</td>\n      <td>25</td>\n      <td>40218.476563</td>\n    </tr>\n    <tr>\n      <th>75</th>\n      <td>39016.968750</td>\n      <td>40978.363281</td>\n      <td>38757.285156</td>\n      <td>40218.476563</td>\n      <td>43148914673</td>\n      <td>32</td>\n      <td>40406.269531</td>\n    </tr>\n    <tr>\n      <th>76</th>\n      <td>40427.167969</td>\n      <td>41295.269531</td>\n      <td>39609.468750</td>\n      <td>40406.269531</td>\n      <td>46420149185</td>\n      <td>25</td>\n      <td>38347.062500</td>\n    </tr>\n    <tr>\n      <th>77</th>\n      <td>40168.691406</td>\n      <td>40516.777344</td>\n      <td>38176.035156</td>\n      <td>38347.062500</td>\n      <td>39211635100</td>\n      <td>23</td>\n      <td>38053.503906</td>\n    </tr>\n    <tr>\n      <th>78</th>\n      <td>38341.421875</td>\n      <td>39513.671875</td>\n      <td>37439.675781</td>\n      <td>38053.503906</td>\n      <td>37096670047</td>\n      <td>23</td>\n      <td>35787.246094</td>\n    </tr>\n    <tr>\n      <th>79</th>\n      <td>38099.476563</td>\n      <td>38187.261719</td>\n      <td>35255.855469</td>\n      <td>35787.246094</td>\n      <td>36200887275</td>\n      <td>22</td>\n      <td>35615.871094</td>\n    </tr>\n    <tr>\n      <th>80</th>\n      <td>35854.527344</td>\n      <td>36457.796875</td>\n      <td>34933.062500</td>\n      <td>35615.871094</td>\n      <td>31207279719</td>\n      <td>17</td>\n      <td>35698.296875</td>\n    </tr>\n    <tr>\n      <th>81</th>\n      <td>35563.140625</td>\n      <td>36059.484375</td>\n      <td>33432.074219</td>\n      <td>35698.296875</td>\n      <td>36664034054</td>\n      <td>21</td>\n      <td>31676.693359</td>\n    </tr>\n    <tr>\n      <th>82</th>\n      <td>35641.144531</td>\n      <td>35721.640625</td>\n      <td>31295.935547</td>\n      <td>31676.693359</td>\n      <td>52809038594</td>\n      <td>33</td>\n      <td>32505.660156</td>\n    </tr>\n    <tr>\n      <th>83</th>\n      <td>31622.376953</td>\n      <td>33292.453125</td>\n      <td>28893.621094</td>\n      <td>32505.660156</td>\n      <td>58964353058</td>\n      <td>46</td>\n      <td>33723.027344</td>\n    </tr>\n    <tr>\n      <th>84</th>\n      <td>32515.714844</td>\n      <td>34753.410156</td>\n      <td>31772.632813</td>\n      <td>33723.027344</td>\n      <td>46317108925</td>\n      <td>32</td>\n      <td>34662.437500</td>\n    </tr>\n    <tr>\n      <th>85</th>\n      <td>33682.800781</td>\n      <td>35228.851563</td>\n      <td>32385.214844</td>\n      <td>34662.437500</td>\n      <td>33123368116</td>\n      <td>26</td>\n      <td>31637.779297</td>\n    </tr>\n    <tr>\n      <th>86</th>\n      <td>34659.105469</td>\n      <td>35487.246094</td>\n      <td>31350.884766</td>\n      <td>31637.779297</td>\n      <td>40230904226</td>\n      <td>24</td>\n      <td>32186.277344</td>\n    </tr>\n    <tr>\n      <th>87</th>\n      <td>31594.664063</td>\n      <td>32637.587891</td>\n      <td>30184.501953</td>\n      <td>32186.277344</td>\n      <td>38585385521</td>\n      <td>22</td>\n      <td>34649.644531</td>\n    </tr>\n    <tr>\n      <th>88</th>\n      <td>32287.523438</td>\n      <td>34656.128906</td>\n      <td>32071.757813</td>\n      <td>34649.644531</td>\n      <td>35511640894</td>\n      <td>22</td>\n      <td>34434.335938</td>\n    </tr>\n    <tr>\n      <th>89</th>\n      <td>34679.121094</td>\n      <td>35219.890625</td>\n      <td>33902.074219</td>\n      <td>34434.335938</td>\n      <td>33892523752</td>\n      <td>25</td>\n      <td>35867.777344</td>\n    </tr>\n    <tr>\n      <th>90</th>\n      <td>34475.558594</td>\n      <td>36542.109375</td>\n      <td>34252.484375</td>\n      <td>35867.777344</td>\n      <td>37901460044</td>\n      <td>22</td>\n      <td>35040.835938</td>\n    </tr>\n  </tbody>\n</table>\n</div>"
     },
     "execution_count": 438,
     "metadata": {},
     "output_type": "execute_result"
    }
   ],
   "source": [
    "#columns = [\"Open\", \"High\", \"Low\", \"Close\", \"Search Interest\", \"Interest Points Away From Mean\", \"Price Increase Points\", \"Price Increase\"]\n",
    "columns = [\"Previous_Open\", \"Previous_High\", \"Previous_Low\", \"Previous_Close\", \"Previous_Volume\", \"Previous_Search_Interest\", \"Close\"]\n",
    "mergedStockPrice = mergedStockPrice[columns]\n",
    "mergedStockPrice"
   ],
   "metadata": {
    "collapsed": false,
    "pycharm": {
     "name": "#%%\n"
    }
   }
  },
  {
   "cell_type": "code",
   "execution_count": 439,
   "outputs": [],
   "source": [
    "features = list(mergedStockPrice.columns)\n",
    "features.remove(\"Close\")\n",
    "target = \"Close\"\n",
    "\n",
    "X = mergedStockPrice[features]\n",
    "y = mergedStockPrice[target]"
   ],
   "metadata": {
    "collapsed": false,
    "pycharm": {
     "name": "#%%\n"
    }
   }
  },
  {
   "cell_type": "code",
   "execution_count": 440,
   "outputs": [],
   "source": [
    "X_train, X_test, y_train, y_test = train_test_split(X, y, test_size=0.25, random_state=1)"
   ],
   "metadata": {
    "collapsed": false,
    "pycharm": {
     "name": "#%%\n"
    }
   }
  },
  {
   "cell_type": "code",
   "execution_count": 441,
   "outputs": [
    {
     "data": {
      "text/plain": "LinearRegression()"
     },
     "execution_count": 441,
     "metadata": {},
     "output_type": "execute_result"
    }
   ],
   "source": [
    "lr = LinearRegression()\n",
    "lr"
   ],
   "metadata": {
    "collapsed": false,
    "pycharm": {
     "name": "#%%\n"
    }
   }
  },
  {
   "cell_type": "code",
   "execution_count": 442,
   "outputs": [
    {
     "data": {
      "text/plain": "LinearRegression()"
     },
     "execution_count": 442,
     "metadata": {},
     "output_type": "execute_result"
    }
   ],
   "source": [
    "lr.fit(X_train, y_train)"
   ],
   "metadata": {
    "collapsed": false,
    "pycharm": {
     "name": "#%%\n"
    }
   }
  },
  {
   "cell_type": "code",
   "execution_count": 443,
   "outputs": [
    {
     "data": {
      "text/plain": "0.9600860921909471"
     },
     "execution_count": 443,
     "metadata": {},
     "output_type": "execute_result"
    }
   ],
   "source": [
    "lr.score(X_train, y_train)"
   ],
   "metadata": {
    "collapsed": false,
    "pycharm": {
     "name": "#%%\n"
    }
   }
  },
  {
   "cell_type": "code",
   "execution_count": 444,
   "outputs": [
    {
     "data": {
      "text/plain": "0.9614613962909508"
     },
     "execution_count": 444,
     "metadata": {},
     "output_type": "execute_result"
    }
   ],
   "source": [
    "lr.score(X_test, y_test)"
   ],
   "metadata": {
    "collapsed": false,
    "pycharm": {
     "name": "#%%\n"
    }
   }
  },
  {
   "cell_type": "code",
   "execution_count": 445,
   "outputs": [
    {
     "name": "stdout",
     "output_type": "stream",
     "text": [
      "Score: 0.96\n",
      "MAE: 1573.91\n",
      "RMSE: 1988.37\n",
      "r2: 0.96\n"
     ]
    }
   ],
   "source": [
    "predictions = lr.predict(X_test)\n",
    "PrintMetricsRegression(y_test, predictions)"
   ],
   "metadata": {
    "collapsed": false,
    "pycharm": {
     "name": "#%%\n"
    }
   }
  },
  {
   "cell_type": "code",
   "execution_count": 446,
   "outputs": [
    {
     "data": {
      "text/plain": "[{'Previous_Open': 11948,\n  'Previous_High': 8226,\n  'Previous_Low': 34695,\n  'Previous_Close': 31818,\n  'Previous_Volume': 119406232053,\n  'Previous_Search_Interest': 41},\n {'Previous_Open': 27803,\n  'Previous_High': 30215,\n  'Previous_Low': 23176,\n  'Previous_Close': 5105,\n  'Previous_Volume': 122753068767,\n  'Previous_Search_Interest': 63},\n {'Previous_Open': 51009,\n  'Previous_High': 23506,\n  'Previous_Low': 58654,\n  'Previous_Close': 35309,\n  'Previous_Volume': 24995876771,\n  'Previous_Search_Interest': 12}]"
     },
     "execution_count": 446,
     "metadata": {},
     "output_type": "execute_result"
    }
   ],
   "source": [
    "numElements = 3\n",
    "samplePrice = []\n",
    "for _ in range(numElements):\n",
    "    dict = {}\n",
    "    for column in X.columns:\n",
    "        min = 0  # We'll always allow at lea\n",
    "        maxValue = round(max(mergedStockPrice[column].values))\n",
    "        dict[column] = rnd.randint(min, maxValue)\n",
    "    samplePrice.append(dict)\n",
    "samplePrice\n"
   ],
   "metadata": {
    "collapsed": false,
    "pycharm": {
     "name": "#%%\n"
    }
   }
  },
  {
   "cell_type": "code",
   "execution_count": 447,
   "outputs": [
    {
     "data": {
      "text/plain": "   Previous_Open  Previous_High  Previous_Low  Previous_Close  \\\n0          11948           8226         34695           31818   \n1          27803          30215         23176            5105   \n2          51009          23506         58654           35309   \n\n   Previous_Volume  Previous_Search_Interest  \n0     119406232053                        41  \n1     122753068767                        63  \n2      24995876771                        12  ",
      "text/html": "<div>\n<style scoped>\n    .dataframe tbody tr th:only-of-type {\n        vertical-align: middle;\n    }\n\n    .dataframe tbody tr th {\n        vertical-align: top;\n    }\n\n    .dataframe thead th {\n        text-align: right;\n    }\n</style>\n<table border=\"1\" class=\"dataframe\">\n  <thead>\n    <tr style=\"text-align: right;\">\n      <th></th>\n      <th>Previous_Open</th>\n      <th>Previous_High</th>\n      <th>Previous_Low</th>\n      <th>Previous_Close</th>\n      <th>Previous_Volume</th>\n      <th>Previous_Search_Interest</th>\n    </tr>\n  </thead>\n  <tbody>\n    <tr>\n      <th>0</th>\n      <td>11948</td>\n      <td>8226</td>\n      <td>34695</td>\n      <td>31818</td>\n      <td>119406232053</td>\n      <td>41</td>\n    </tr>\n    <tr>\n      <th>1</th>\n      <td>27803</td>\n      <td>30215</td>\n      <td>23176</td>\n      <td>5105</td>\n      <td>122753068767</td>\n      <td>63</td>\n    </tr>\n    <tr>\n      <th>2</th>\n      <td>51009</td>\n      <td>23506</td>\n      <td>58654</td>\n      <td>35309</td>\n      <td>24995876771</td>\n      <td>12</td>\n    </tr>\n  </tbody>\n</table>\n</div>"
     },
     "execution_count": 447,
     "metadata": {},
     "output_type": "execute_result"
    }
   ],
   "source": [
    "pdSamplePrice = pd.DataFrame.from_dict(samplePrice)\n",
    "pdSamplePrice\n"
   ],
   "metadata": {
    "collapsed": false,
    "pycharm": {
     "name": "#%%\n"
    }
   }
  },
  {
   "cell_type": "code",
   "execution_count": 448,
   "outputs": [
    {
     "data": {
      "text/plain": "array([12085.74080034, -5118.65570803, 23689.78017242])"
     },
     "execution_count": 448,
     "metadata": {},
     "output_type": "execute_result"
    }
   ],
   "source": [
    "predictions = lr.predict(pdSamplePrice)\n",
    "predictions\n",
    "\n"
   ],
   "metadata": {
    "collapsed": false,
    "pycharm": {
     "name": "#%%\n"
    }
   }
  },
  {
   "cell_type": "code",
   "execution_count": 449,
   "outputs": [
    {
     "data": {
      "text/plain": "   Previous_Open  Previous_High  Previous_Low  Previous_Close  \\\n0          11948           8226         34695           31818   \n1          27803          30215         23176            5105   \n2          51009          23506         58654           35309   \n\n   Previous_Volume  Previous_Search_Interest     Predicted  \n0     119406232053                        41  12085.740800  \n1     122753068767                        63  -5118.655708  \n2      24995876771                        12  23689.780172  ",
      "text/html": "<div>\n<style scoped>\n    .dataframe tbody tr th:only-of-type {\n        vertical-align: middle;\n    }\n\n    .dataframe tbody tr th {\n        vertical-align: top;\n    }\n\n    .dataframe thead th {\n        text-align: right;\n    }\n</style>\n<table border=\"1\" class=\"dataframe\">\n  <thead>\n    <tr style=\"text-align: right;\">\n      <th></th>\n      <th>Previous_Open</th>\n      <th>Previous_High</th>\n      <th>Previous_Low</th>\n      <th>Previous_Close</th>\n      <th>Previous_Volume</th>\n      <th>Previous_Search_Interest</th>\n      <th>Predicted</th>\n    </tr>\n  </thead>\n  <tbody>\n    <tr>\n      <th>0</th>\n      <td>11948</td>\n      <td>8226</td>\n      <td>34695</td>\n      <td>31818</td>\n      <td>119406232053</td>\n      <td>41</td>\n      <td>12085.740800</td>\n    </tr>\n    <tr>\n      <th>1</th>\n      <td>27803</td>\n      <td>30215</td>\n      <td>23176</td>\n      <td>5105</td>\n      <td>122753068767</td>\n      <td>63</td>\n      <td>-5118.655708</td>\n    </tr>\n    <tr>\n      <th>2</th>\n      <td>51009</td>\n      <td>23506</td>\n      <td>58654</td>\n      <td>35309</td>\n      <td>24995876771</td>\n      <td>12</td>\n      <td>23689.780172</td>\n    </tr>\n  </tbody>\n</table>\n</div>"
     },
     "execution_count": 449,
     "metadata": {},
     "output_type": "execute_result"
    }
   ],
   "source": [
    "pdSamplePrice = pdSamplePrice.copy()\n",
    "pdSamplePrice['Predicted'] = predictions\n",
    "pdSamplePrice\n",
    "\n"
   ],
   "metadata": {
    "collapsed": false,
    "pycharm": {
     "name": "#%%\n"
    }
   }
  },
  {
   "cell_type": "markdown",
   "source": [
    "# Logarithmic Regression\n"
   ],
   "metadata": {
    "collapsed": false
   }
  },
  {
   "cell_type": "code",
   "execution_count": 450,
   "outputs": [
    {
     "name": "stderr",
     "output_type": "stream",
     "text": [
      "<ipython-input-450-9b70bc6d34be>:3: SettingWithCopyWarning:\n",
      "\n",
      "\n",
      "A value is trying to be set on a copy of a slice from a DataFrame.\n",
      "Try using .loc[row_indexer,col_indexer] = value instead\n",
      "\n",
      "See the caveats in the documentation: https://pandas.pydata.org/pandas-docs/stable/user_guide/indexing.html#returning-a-view-versus-a-copy\n",
      "\n",
      "<ipython-input-450-9b70bc6d34be>:4: SettingWithCopyWarning:\n",
      "\n",
      "\n",
      "A value is trying to be set on a copy of a slice from a DataFrame.\n",
      "Try using .loc[row_indexer,col_indexer] = value instead\n",
      "\n",
      "See the caveats in the documentation: https://pandas.pydata.org/pandas-docs/stable/user_guide/indexing.html#returning-a-view-versus-a-copy\n",
      "\n"
     ]
    },
    {
     "data": {
      "text/plain": "    Previous_Open  Previous_High  Previous_Low  Previous_Close  \\\n0    58930.277344   59930.027344  57726.417969    58918.832031   \n1    58926.562500   59586.070313  58505.277344    59095.808594   \n2    59098.878906   60267.187500  58869.281250    59384.312500   \n3    59397.410156   60110.269531  57603.890625    57603.890625   \n4    57604.839844   58913.746094  57168.675781    58758.554688   \n5    58760.875000   59891.296875  57694.824219    59057.878906   \n6    59171.933594   59479.578125  57646.808594    58192.359375   \n7    58186.507813   58731.144531  55604.023438    56048.937500   \n8    56099.914063   58338.738281  55879.085938    58323.953125   \n9    58326.562500   58937.046875  57807.863281    58245.003906   \n10   58253.777344   61276.664063  58038.707031    59793.234375   \n11   59846.230469   60790.554688  59289.796875    60204.964844   \n12   60175.945313   61253.035156  59589.875000    59893.453125   \n13   59890.019531   63742.285156  59869.957031    63503.457031   \n14   63523.753906   64863.097656  61554.796875    63109.695313   \n15   63075.195313   63821.671875  62208.964844    63314.011719   \n16   63258.503906   63594.722656  60222.531250    61572.789063   \n17   61529.921875   62572.175781  60361.351563    60683.820313   \n18   60701.886719   61057.457031  52829.535156    56216.183594   \n19   56191.585938   57520.054688  54368.593750    55724.265625   \n20   55681.792969   57062.148438  53448.046875    56473.031250   \n21   56471.128906   56757.972656  53695.468750    53906.089844   \n22   53857.105469   55410.230469  50583.812500    51762.273438   \n23   51739.808594   52120.792969  47714.664063    51093.652344   \n24   51143.226563   51167.562500  48805.285156    50050.867188   \n25   50052.832031   50506.019531  47159.484375    49004.253906   \n26   49077.792969   54288.003906  48852.796875    54021.753906   \n27   54030.304688   55416.964844  53319.187500    55033.117188   \n28   55036.636719   56227.207031  53887.917969    54824.703125   \n29   54858.089844   55115.843750  52418.027344    53555.109375   \n30   53568.664063   57900.718750  53129.601563    57750.175781   \n31   57714.664063   58448.339844  57052.273438    57828.050781   \n32   57825.863281   57902.593750  56141.906250    56631.078125   \n33   56620.273438   58973.308594  56590.871094    57200.292969   \n34   57214.179688   57214.179688  53191.425781    53333.539063   \n35   53252.164063   57911.363281  52969.054688    57424.007813   \n36   57441.308594   58363.316406  55382.507813    56396.515625   \n37   56413.953125   58606.632813  55321.847656    57356.402344   \n38   57352.765625   59464.613281  56975.210938    58803.777344   \n39   58877.390625   59210.882813  56482.003906    58232.316406   \n40   58250.871094   59519.355469  54071.457031    55859.796875   \n41   55847.242188   56872.542969  54608.652344    56704.574219   \n42   56714.531250   57939.363281  49150.535156    49150.535156   \n43   49735.433594   51330.843750  46980.019531    49716.191406   \n44   49682.980469   51438.117188  48868.578125    49880.535156   \n45   49855.496094   50639.664063  46664.140625    46760.187500   \n46   46716.636719   49720.042969  43963.351563    46456.058594   \n47   46415.898438   46623.558594  42207.289063    43537.511719   \n48   43488.058594   45812.457031  42367.832031    42909.402344   \n49   42944.976563   43546.117188  30681.496094    37002.441406   \n50   36753.667969   42462.984375  35050.617188    40782.738281   \n51   40596.949219   42172.171875  33616.453125    37304.691406   \n52   37371.031250   38831.054688  35383.683594    37536.632813   \n53   37531.449219   38289.218750  31227.339844    34770.582031   \n54   34700.363281   39835.140625  34551.082031    38705.980469   \n55   38795.781250   39776.351563  36581.429688    38402.222656   \n56   38392.625000   40782.078125  37905.835938    39294.199219   \n57   39316.890625   40379.617188  37247.902344    38436.968750   \n58   38507.082031   38856.968750  34779.039063    35697.605469   \n59   35684.156250   37234.500000  33693.929688    34616.066406   \n60   34607.406250   36400.667969  33520.738281    35678.128906   \n61   35658.593750   37468.250000  34241.945313    37332.855469   \n62   37293.792969   37896.734375  35787.085938    36684.925781   \n63   36699.921875   38231.339844  35966.308594    37575.179688   \n64   37599.410156   39478.953125  37243.972656    39208.765625   \n65   39242.484375   39242.484375  35717.722656    36894.406250   \n66   36880.156250   37917.714844  34900.414063    35551.957031   \n67   35538.609375   36436.421875  35304.578125    35862.378906   \n68   35835.265625   36790.570313  33480.640625    33560.707031   \n69   33589.519531   34017.386719  31114.443359    33472.632813   \n70   33416.976563   37537.371094  32475.865234    37345.121094   \n71   37389.515625   38334.324219  35847.593750    36702.597656   \n72   36697.031250   37608.695313  36044.449219    37334.398438   \n73   37340.144531   37408.925781  34728.191406    35552.515625   \n74   35555.789063   39322.781250  34864.109375    39097.859375   \n75   39016.968750   40978.363281  38757.285156    40218.476563   \n76   40427.167969   41295.269531  39609.468750    40406.269531   \n77   40168.691406   40516.777344  38176.035156    38347.062500   \n78   38341.421875   39513.671875  37439.675781    38053.503906   \n79   38099.476563   38187.261719  35255.855469    35787.246094   \n80   35854.527344   36457.796875  34933.062500    35615.871094   \n81   35563.140625   36059.484375  33432.074219    35698.296875   \n82   35641.144531   35721.640625  31295.935547    31676.693359   \n83   31622.376953   33292.453125  28893.621094    32505.660156   \n84   32515.714844   34753.410156  31772.632813    33723.027344   \n85   33682.800781   35228.851563  32385.214844    34662.437500   \n86   34659.105469   35487.246094  31350.884766    31637.779297   \n87   31594.664063   32637.587891  30184.501953    32186.277344   \n88   32287.523438   34656.128906  32071.757813    34649.644531   \n89   34679.121094   35219.890625  33902.074219    34434.335938   \n90   34475.558594   36542.109375  34252.484375    35867.777344   \n\n    Previous_Volume  Previous_Search_Interest         Close  Price_Increase  \n0       65520826225                        29  59095.808594               0  \n1       61669163792                        41  59384.312500               0  \n2       58727860620                        29  57603.890625               1  \n3       59641344484                        22  58758.554688               0  \n4       50749662970                        22  59057.878906               0  \n5       60706272115                        23  58192.359375               1  \n6       66058027988                        24  56048.937500               1  \n7       75645303584                        23  58323.953125               0  \n8       53053855641                        24  58245.003906               1  \n9       46655208546                        22  59793.234375               0  \n10      58238470525                        26  60204.964844               0  \n11      46280252580                        24  59893.453125               1  \n12      51828688519                        25  63503.457031               0  \n13      69983454362                        36  63109.695313               1  \n14      77451779687                        42  63314.011719               0  \n15      60954381579                        35  61572.789063               1  \n16      84293007468                        44  60683.820313               1  \n17      66138759198                        32  56216.183594               1  \n18      97468872758                        51  55724.265625               1  \n19      65344865159                        44  56473.031250               0  \n20      67849323955                        39  53906.089844               1  \n21      54926612466                        32  51762.273438               1  \n22      74798630778                        34  51093.652344               1  \n23      86668667320                        54  50050.867188               1  \n24      49014494781                        37  49004.253906               1  \n25      46117114240                        30  54021.753906               0  \n26      58284039825                        35  55033.117188               0  \n27      49448222757                        32  54824.703125               1  \n28      48000572955                        32  53555.109375               1  \n29      46088929780                        26  57750.175781               0  \n30      52395931985                        26  57828.050781               0  \n31      42836427360                        25  56631.078125               1  \n32      38177405335                        23  57200.292969               0  \n33      51713139031                        25  53333.539063               1  \n34      68564706967                        30  57424.007813               0  \n35      69241316747                        31  56396.515625               1  \n36      69523285106                        29  57356.402344               0  \n37      68434023376                        26  58803.777344               0  \n38      65382980634                        29  58232.316406               1  \n39      65906690347                        28  55859.796875               1  \n40      71776546298                        32  56704.574219               0  \n41      61308396325                        30  49150.535156               1  \n42      75215403907                        33  49716.191406               1  \n43      96721152926                        74  49880.535156               0  \n44      55737497453                        38  46760.187500               1  \n45      59161047474                        31  46456.058594               1  \n46      64047871555                        35  43537.511719               1  \n47      74903638450                        53  42909.402344               1  \n48      56187365084                        40  37002.441406               1  \n49     126358098747                       100  40782.738281               0  \n50      88281943359                        66  37304.691406               1  \n51      82051616861                        53  37536.632813               0  \n52      57377273240                        46  34770.582031               1  \n53      78469274361                        55  38705.980469               0  \n54      67359584098                        54  38402.222656               1  \n55      56211915803                        42  39294.199219               0  \n56      51346735160                        34  38436.968750               1  \n57      43210968721                        28  35697.605469               1  \n58      55200191952                        33  34616.066406               1  \n59      45231013335                        29  35678.128906               0  \n60      31646080921                        29  37332.855469               0  \n61      39009847639                        28  36684.925781               1  \n62      34639423297                        29  37575.179688               0  \n63      33070867190                        27  39208.765625               0  \n64      35460750427                        24  36894.406250               1  \n65      41831090187                        29  35551.957031               1  \n66      35959473399                        29  35862.378906               0  \n67      28913440585                        29  33560.707031               1  \n68      33683936663                        28  33472.632813               1  \n69      49902050442                        41  37345.121094               0  \n70      53972919008                        38  36702.597656               1  \n71      43576032854                        33  37334.398438               0  \n72      38699736985                        28  35552.515625               1  \n73      37924228550                        23  39097.859375               0  \n74      40669112838                        25  40218.476563               0  \n75      43148914673                        32  40406.269531               1  \n76      46420149185                        25  38347.062500               1  \n77      39211635100                        23  38053.503906               1  \n78      37096670047                        23  35787.246094               1  \n79      36200887275                        22  35615.871094               1  \n80      31207279719                        17  35698.296875               0  \n81      36664034054                        21  31676.693359               1  \n82      52809038594                        33  32505.660156               0  \n83      58964353058                        46  33723.027344               0  \n84      46317108925                        32  34662.437500               0  \n85      33123368116                        26  31637.779297               1  \n86      40230904226                        24  32186.277344               0  \n87      38585385521                        22  34649.644531               0  \n88      35511640894                        22  34434.335938               1  \n89      33892523752                        25  35867.777344               0  \n90      37901460044                        22  35040.835938               1  ",
      "text/html": "<div>\n<style scoped>\n    .dataframe tbody tr th:only-of-type {\n        vertical-align: middle;\n    }\n\n    .dataframe tbody tr th {\n        vertical-align: top;\n    }\n\n    .dataframe thead th {\n        text-align: right;\n    }\n</style>\n<table border=\"1\" class=\"dataframe\">\n  <thead>\n    <tr style=\"text-align: right;\">\n      <th></th>\n      <th>Previous_Open</th>\n      <th>Previous_High</th>\n      <th>Previous_Low</th>\n      <th>Previous_Close</th>\n      <th>Previous_Volume</th>\n      <th>Previous_Search_Interest</th>\n      <th>Close</th>\n      <th>Price_Increase</th>\n    </tr>\n  </thead>\n  <tbody>\n    <tr>\n      <th>0</th>\n      <td>58930.277344</td>\n      <td>59930.027344</td>\n      <td>57726.417969</td>\n      <td>58918.832031</td>\n      <td>65520826225</td>\n      <td>29</td>\n      <td>59095.808594</td>\n      <td>0</td>\n    </tr>\n    <tr>\n      <th>1</th>\n      <td>58926.562500</td>\n      <td>59586.070313</td>\n      <td>58505.277344</td>\n      <td>59095.808594</td>\n      <td>61669163792</td>\n      <td>41</td>\n      <td>59384.312500</td>\n      <td>0</td>\n    </tr>\n    <tr>\n      <th>2</th>\n      <td>59098.878906</td>\n      <td>60267.187500</td>\n      <td>58869.281250</td>\n      <td>59384.312500</td>\n      <td>58727860620</td>\n      <td>29</td>\n      <td>57603.890625</td>\n      <td>1</td>\n    </tr>\n    <tr>\n      <th>3</th>\n      <td>59397.410156</td>\n      <td>60110.269531</td>\n      <td>57603.890625</td>\n      <td>57603.890625</td>\n      <td>59641344484</td>\n      <td>22</td>\n      <td>58758.554688</td>\n      <td>0</td>\n    </tr>\n    <tr>\n      <th>4</th>\n      <td>57604.839844</td>\n      <td>58913.746094</td>\n      <td>57168.675781</td>\n      <td>58758.554688</td>\n      <td>50749662970</td>\n      <td>22</td>\n      <td>59057.878906</td>\n      <td>0</td>\n    </tr>\n    <tr>\n      <th>5</th>\n      <td>58760.875000</td>\n      <td>59891.296875</td>\n      <td>57694.824219</td>\n      <td>59057.878906</td>\n      <td>60706272115</td>\n      <td>23</td>\n      <td>58192.359375</td>\n      <td>1</td>\n    </tr>\n    <tr>\n      <th>6</th>\n      <td>59171.933594</td>\n      <td>59479.578125</td>\n      <td>57646.808594</td>\n      <td>58192.359375</td>\n      <td>66058027988</td>\n      <td>24</td>\n      <td>56048.937500</td>\n      <td>1</td>\n    </tr>\n    <tr>\n      <th>7</th>\n      <td>58186.507813</td>\n      <td>58731.144531</td>\n      <td>55604.023438</td>\n      <td>56048.937500</td>\n      <td>75645303584</td>\n      <td>23</td>\n      <td>58323.953125</td>\n      <td>0</td>\n    </tr>\n    <tr>\n      <th>8</th>\n      <td>56099.914063</td>\n      <td>58338.738281</td>\n      <td>55879.085938</td>\n      <td>58323.953125</td>\n      <td>53053855641</td>\n      <td>24</td>\n      <td>58245.003906</td>\n      <td>1</td>\n    </tr>\n    <tr>\n      <th>9</th>\n      <td>58326.562500</td>\n      <td>58937.046875</td>\n      <td>57807.863281</td>\n      <td>58245.003906</td>\n      <td>46655208546</td>\n      <td>22</td>\n      <td>59793.234375</td>\n      <td>0</td>\n    </tr>\n    <tr>\n      <th>10</th>\n      <td>58253.777344</td>\n      <td>61276.664063</td>\n      <td>58038.707031</td>\n      <td>59793.234375</td>\n      <td>58238470525</td>\n      <td>26</td>\n      <td>60204.964844</td>\n      <td>0</td>\n    </tr>\n    <tr>\n      <th>11</th>\n      <td>59846.230469</td>\n      <td>60790.554688</td>\n      <td>59289.796875</td>\n      <td>60204.964844</td>\n      <td>46280252580</td>\n      <td>24</td>\n      <td>59893.453125</td>\n      <td>1</td>\n    </tr>\n    <tr>\n      <th>12</th>\n      <td>60175.945313</td>\n      <td>61253.035156</td>\n      <td>59589.875000</td>\n      <td>59893.453125</td>\n      <td>51828688519</td>\n      <td>25</td>\n      <td>63503.457031</td>\n      <td>0</td>\n    </tr>\n    <tr>\n      <th>13</th>\n      <td>59890.019531</td>\n      <td>63742.285156</td>\n      <td>59869.957031</td>\n      <td>63503.457031</td>\n      <td>69983454362</td>\n      <td>36</td>\n      <td>63109.695313</td>\n      <td>1</td>\n    </tr>\n    <tr>\n      <th>14</th>\n      <td>63523.753906</td>\n      <td>64863.097656</td>\n      <td>61554.796875</td>\n      <td>63109.695313</td>\n      <td>77451779687</td>\n      <td>42</td>\n      <td>63314.011719</td>\n      <td>0</td>\n    </tr>\n    <tr>\n      <th>15</th>\n      <td>63075.195313</td>\n      <td>63821.671875</td>\n      <td>62208.964844</td>\n      <td>63314.011719</td>\n      <td>60954381579</td>\n      <td>35</td>\n      <td>61572.789063</td>\n      <td>1</td>\n    </tr>\n    <tr>\n      <th>16</th>\n      <td>63258.503906</td>\n      <td>63594.722656</td>\n      <td>60222.531250</td>\n      <td>61572.789063</td>\n      <td>84293007468</td>\n      <td>44</td>\n      <td>60683.820313</td>\n      <td>1</td>\n    </tr>\n    <tr>\n      <th>17</th>\n      <td>61529.921875</td>\n      <td>62572.175781</td>\n      <td>60361.351563</td>\n      <td>60683.820313</td>\n      <td>66138759198</td>\n      <td>32</td>\n      <td>56216.183594</td>\n      <td>1</td>\n    </tr>\n    <tr>\n      <th>18</th>\n      <td>60701.886719</td>\n      <td>61057.457031</td>\n      <td>52829.535156</td>\n      <td>56216.183594</td>\n      <td>97468872758</td>\n      <td>51</td>\n      <td>55724.265625</td>\n      <td>1</td>\n    </tr>\n    <tr>\n      <th>19</th>\n      <td>56191.585938</td>\n      <td>57520.054688</td>\n      <td>54368.593750</td>\n      <td>55724.265625</td>\n      <td>65344865159</td>\n      <td>44</td>\n      <td>56473.031250</td>\n      <td>0</td>\n    </tr>\n    <tr>\n      <th>20</th>\n      <td>55681.792969</td>\n      <td>57062.148438</td>\n      <td>53448.046875</td>\n      <td>56473.031250</td>\n      <td>67849323955</td>\n      <td>39</td>\n      <td>53906.089844</td>\n      <td>1</td>\n    </tr>\n    <tr>\n      <th>21</th>\n      <td>56471.128906</td>\n      <td>56757.972656</td>\n      <td>53695.468750</td>\n      <td>53906.089844</td>\n      <td>54926612466</td>\n      <td>32</td>\n      <td>51762.273438</td>\n      <td>1</td>\n    </tr>\n    <tr>\n      <th>22</th>\n      <td>53857.105469</td>\n      <td>55410.230469</td>\n      <td>50583.812500</td>\n      <td>51762.273438</td>\n      <td>74798630778</td>\n      <td>34</td>\n      <td>51093.652344</td>\n      <td>1</td>\n    </tr>\n    <tr>\n      <th>23</th>\n      <td>51739.808594</td>\n      <td>52120.792969</td>\n      <td>47714.664063</td>\n      <td>51093.652344</td>\n      <td>86668667320</td>\n      <td>54</td>\n      <td>50050.867188</td>\n      <td>1</td>\n    </tr>\n    <tr>\n      <th>24</th>\n      <td>51143.226563</td>\n      <td>51167.562500</td>\n      <td>48805.285156</td>\n      <td>50050.867188</td>\n      <td>49014494781</td>\n      <td>37</td>\n      <td>49004.253906</td>\n      <td>1</td>\n    </tr>\n    <tr>\n      <th>25</th>\n      <td>50052.832031</td>\n      <td>50506.019531</td>\n      <td>47159.484375</td>\n      <td>49004.253906</td>\n      <td>46117114240</td>\n      <td>30</td>\n      <td>54021.753906</td>\n      <td>0</td>\n    </tr>\n    <tr>\n      <th>26</th>\n      <td>49077.792969</td>\n      <td>54288.003906</td>\n      <td>48852.796875</td>\n      <td>54021.753906</td>\n      <td>58284039825</td>\n      <td>35</td>\n      <td>55033.117188</td>\n      <td>0</td>\n    </tr>\n    <tr>\n      <th>27</th>\n      <td>54030.304688</td>\n      <td>55416.964844</td>\n      <td>53319.187500</td>\n      <td>55033.117188</td>\n      <td>49448222757</td>\n      <td>32</td>\n      <td>54824.703125</td>\n      <td>1</td>\n    </tr>\n    <tr>\n      <th>28</th>\n      <td>55036.636719</td>\n      <td>56227.207031</td>\n      <td>53887.917969</td>\n      <td>54824.703125</td>\n      <td>48000572955</td>\n      <td>32</td>\n      <td>53555.109375</td>\n      <td>1</td>\n    </tr>\n    <tr>\n      <th>29</th>\n      <td>54858.089844</td>\n      <td>55115.843750</td>\n      <td>52418.027344</td>\n      <td>53555.109375</td>\n      <td>46088929780</td>\n      <td>26</td>\n      <td>57750.175781</td>\n      <td>0</td>\n    </tr>\n    <tr>\n      <th>30</th>\n      <td>53568.664063</td>\n      <td>57900.718750</td>\n      <td>53129.601563</td>\n      <td>57750.175781</td>\n      <td>52395931985</td>\n      <td>26</td>\n      <td>57828.050781</td>\n      <td>0</td>\n    </tr>\n    <tr>\n      <th>31</th>\n      <td>57714.664063</td>\n      <td>58448.339844</td>\n      <td>57052.273438</td>\n      <td>57828.050781</td>\n      <td>42836427360</td>\n      <td>25</td>\n      <td>56631.078125</td>\n      <td>1</td>\n    </tr>\n    <tr>\n      <th>32</th>\n      <td>57825.863281</td>\n      <td>57902.593750</td>\n      <td>56141.906250</td>\n      <td>56631.078125</td>\n      <td>38177405335</td>\n      <td>23</td>\n      <td>57200.292969</td>\n      <td>0</td>\n    </tr>\n    <tr>\n      <th>33</th>\n      <td>56620.273438</td>\n      <td>58973.308594</td>\n      <td>56590.871094</td>\n      <td>57200.292969</td>\n      <td>51713139031</td>\n      <td>25</td>\n      <td>53333.539063</td>\n      <td>1</td>\n    </tr>\n    <tr>\n      <th>34</th>\n      <td>57214.179688</td>\n      <td>57214.179688</td>\n      <td>53191.425781</td>\n      <td>53333.539063</td>\n      <td>68564706967</td>\n      <td>30</td>\n      <td>57424.007813</td>\n      <td>0</td>\n    </tr>\n    <tr>\n      <th>35</th>\n      <td>53252.164063</td>\n      <td>57911.363281</td>\n      <td>52969.054688</td>\n      <td>57424.007813</td>\n      <td>69241316747</td>\n      <td>31</td>\n      <td>56396.515625</td>\n      <td>1</td>\n    </tr>\n    <tr>\n      <th>36</th>\n      <td>57441.308594</td>\n      <td>58363.316406</td>\n      <td>55382.507813</td>\n      <td>56396.515625</td>\n      <td>69523285106</td>\n      <td>29</td>\n      <td>57356.402344</td>\n      <td>0</td>\n    </tr>\n    <tr>\n      <th>37</th>\n      <td>56413.953125</td>\n      <td>58606.632813</td>\n      <td>55321.847656</td>\n      <td>57356.402344</td>\n      <td>68434023376</td>\n      <td>26</td>\n      <td>58803.777344</td>\n      <td>0</td>\n    </tr>\n    <tr>\n      <th>38</th>\n      <td>57352.765625</td>\n      <td>59464.613281</td>\n      <td>56975.210938</td>\n      <td>58803.777344</td>\n      <td>65382980634</td>\n      <td>29</td>\n      <td>58232.316406</td>\n      <td>1</td>\n    </tr>\n    <tr>\n      <th>39</th>\n      <td>58877.390625</td>\n      <td>59210.882813</td>\n      <td>56482.003906</td>\n      <td>58232.316406</td>\n      <td>65906690347</td>\n      <td>28</td>\n      <td>55859.796875</td>\n      <td>1</td>\n    </tr>\n    <tr>\n      <th>40</th>\n      <td>58250.871094</td>\n      <td>59519.355469</td>\n      <td>54071.457031</td>\n      <td>55859.796875</td>\n      <td>71776546298</td>\n      <td>32</td>\n      <td>56704.574219</td>\n      <td>0</td>\n    </tr>\n    <tr>\n      <th>41</th>\n      <td>55847.242188</td>\n      <td>56872.542969</td>\n      <td>54608.652344</td>\n      <td>56704.574219</td>\n      <td>61308396325</td>\n      <td>30</td>\n      <td>49150.535156</td>\n      <td>1</td>\n    </tr>\n    <tr>\n      <th>42</th>\n      <td>56714.531250</td>\n      <td>57939.363281</td>\n      <td>49150.535156</td>\n      <td>49150.535156</td>\n      <td>75215403907</td>\n      <td>33</td>\n      <td>49716.191406</td>\n      <td>1</td>\n    </tr>\n    <tr>\n      <th>43</th>\n      <td>49735.433594</td>\n      <td>51330.843750</td>\n      <td>46980.019531</td>\n      <td>49716.191406</td>\n      <td>96721152926</td>\n      <td>74</td>\n      <td>49880.535156</td>\n      <td>0</td>\n    </tr>\n    <tr>\n      <th>44</th>\n      <td>49682.980469</td>\n      <td>51438.117188</td>\n      <td>48868.578125</td>\n      <td>49880.535156</td>\n      <td>55737497453</td>\n      <td>38</td>\n      <td>46760.187500</td>\n      <td>1</td>\n    </tr>\n    <tr>\n      <th>45</th>\n      <td>49855.496094</td>\n      <td>50639.664063</td>\n      <td>46664.140625</td>\n      <td>46760.187500</td>\n      <td>59161047474</td>\n      <td>31</td>\n      <td>46456.058594</td>\n      <td>1</td>\n    </tr>\n    <tr>\n      <th>46</th>\n      <td>46716.636719</td>\n      <td>49720.042969</td>\n      <td>43963.351563</td>\n      <td>46456.058594</td>\n      <td>64047871555</td>\n      <td>35</td>\n      <td>43537.511719</td>\n      <td>1</td>\n    </tr>\n    <tr>\n      <th>47</th>\n      <td>46415.898438</td>\n      <td>46623.558594</td>\n      <td>42207.289063</td>\n      <td>43537.511719</td>\n      <td>74903638450</td>\n      <td>53</td>\n      <td>42909.402344</td>\n      <td>1</td>\n    </tr>\n    <tr>\n      <th>48</th>\n      <td>43488.058594</td>\n      <td>45812.457031</td>\n      <td>42367.832031</td>\n      <td>42909.402344</td>\n      <td>56187365084</td>\n      <td>40</td>\n      <td>37002.441406</td>\n      <td>1</td>\n    </tr>\n    <tr>\n      <th>49</th>\n      <td>42944.976563</td>\n      <td>43546.117188</td>\n      <td>30681.496094</td>\n      <td>37002.441406</td>\n      <td>126358098747</td>\n      <td>100</td>\n      <td>40782.738281</td>\n      <td>0</td>\n    </tr>\n    <tr>\n      <th>50</th>\n      <td>36753.667969</td>\n      <td>42462.984375</td>\n      <td>35050.617188</td>\n      <td>40782.738281</td>\n      <td>88281943359</td>\n      <td>66</td>\n      <td>37304.691406</td>\n      <td>1</td>\n    </tr>\n    <tr>\n      <th>51</th>\n      <td>40596.949219</td>\n      <td>42172.171875</td>\n      <td>33616.453125</td>\n      <td>37304.691406</td>\n      <td>82051616861</td>\n      <td>53</td>\n      <td>37536.632813</td>\n      <td>0</td>\n    </tr>\n    <tr>\n      <th>52</th>\n      <td>37371.031250</td>\n      <td>38831.054688</td>\n      <td>35383.683594</td>\n      <td>37536.632813</td>\n      <td>57377273240</td>\n      <td>46</td>\n      <td>34770.582031</td>\n      <td>1</td>\n    </tr>\n    <tr>\n      <th>53</th>\n      <td>37531.449219</td>\n      <td>38289.218750</td>\n      <td>31227.339844</td>\n      <td>34770.582031</td>\n      <td>78469274361</td>\n      <td>55</td>\n      <td>38705.980469</td>\n      <td>0</td>\n    </tr>\n    <tr>\n      <th>54</th>\n      <td>34700.363281</td>\n      <td>39835.140625</td>\n      <td>34551.082031</td>\n      <td>38705.980469</td>\n      <td>67359584098</td>\n      <td>54</td>\n      <td>38402.222656</td>\n      <td>1</td>\n    </tr>\n    <tr>\n      <th>55</th>\n      <td>38795.781250</td>\n      <td>39776.351563</td>\n      <td>36581.429688</td>\n      <td>38402.222656</td>\n      <td>56211915803</td>\n      <td>42</td>\n      <td>39294.199219</td>\n      <td>0</td>\n    </tr>\n    <tr>\n      <th>56</th>\n      <td>38392.625000</td>\n      <td>40782.078125</td>\n      <td>37905.835938</td>\n      <td>39294.199219</td>\n      <td>51346735160</td>\n      <td>34</td>\n      <td>38436.968750</td>\n      <td>1</td>\n    </tr>\n    <tr>\n      <th>57</th>\n      <td>39316.890625</td>\n      <td>40379.617188</td>\n      <td>37247.902344</td>\n      <td>38436.968750</td>\n      <td>43210968721</td>\n      <td>28</td>\n      <td>35697.605469</td>\n      <td>1</td>\n    </tr>\n    <tr>\n      <th>58</th>\n      <td>38507.082031</td>\n      <td>38856.968750</td>\n      <td>34779.039063</td>\n      <td>35697.605469</td>\n      <td>55200191952</td>\n      <td>33</td>\n      <td>34616.066406</td>\n      <td>1</td>\n    </tr>\n    <tr>\n      <th>59</th>\n      <td>35684.156250</td>\n      <td>37234.500000</td>\n      <td>33693.929688</td>\n      <td>34616.066406</td>\n      <td>45231013335</td>\n      <td>29</td>\n      <td>35678.128906</td>\n      <td>0</td>\n    </tr>\n    <tr>\n      <th>60</th>\n      <td>34607.406250</td>\n      <td>36400.667969</td>\n      <td>33520.738281</td>\n      <td>35678.128906</td>\n      <td>31646080921</td>\n      <td>29</td>\n      <td>37332.855469</td>\n      <td>0</td>\n    </tr>\n    <tr>\n      <th>61</th>\n      <td>35658.593750</td>\n      <td>37468.250000</td>\n      <td>34241.945313</td>\n      <td>37332.855469</td>\n      <td>39009847639</td>\n      <td>28</td>\n      <td>36684.925781</td>\n      <td>1</td>\n    </tr>\n    <tr>\n      <th>62</th>\n      <td>37293.792969</td>\n      <td>37896.734375</td>\n      <td>35787.085938</td>\n      <td>36684.925781</td>\n      <td>34639423297</td>\n      <td>29</td>\n      <td>37575.179688</td>\n      <td>0</td>\n    </tr>\n    <tr>\n      <th>63</th>\n      <td>36699.921875</td>\n      <td>38231.339844</td>\n      <td>35966.308594</td>\n      <td>37575.179688</td>\n      <td>33070867190</td>\n      <td>27</td>\n      <td>39208.765625</td>\n      <td>0</td>\n    </tr>\n    <tr>\n      <th>64</th>\n      <td>37599.410156</td>\n      <td>39478.953125</td>\n      <td>37243.972656</td>\n      <td>39208.765625</td>\n      <td>35460750427</td>\n      <td>24</td>\n      <td>36894.406250</td>\n      <td>1</td>\n    </tr>\n    <tr>\n      <th>65</th>\n      <td>39242.484375</td>\n      <td>39242.484375</td>\n      <td>35717.722656</td>\n      <td>36894.406250</td>\n      <td>41831090187</td>\n      <td>29</td>\n      <td>35551.957031</td>\n      <td>1</td>\n    </tr>\n    <tr>\n      <th>66</th>\n      <td>36880.156250</td>\n      <td>37917.714844</td>\n      <td>34900.414063</td>\n      <td>35551.957031</td>\n      <td>35959473399</td>\n      <td>29</td>\n      <td>35862.378906</td>\n      <td>0</td>\n    </tr>\n    <tr>\n      <th>67</th>\n      <td>35538.609375</td>\n      <td>36436.421875</td>\n      <td>35304.578125</td>\n      <td>35862.378906</td>\n      <td>28913440585</td>\n      <td>29</td>\n      <td>33560.707031</td>\n      <td>1</td>\n    </tr>\n    <tr>\n      <th>68</th>\n      <td>35835.265625</td>\n      <td>36790.570313</td>\n      <td>33480.640625</td>\n      <td>33560.707031</td>\n      <td>33683936663</td>\n      <td>28</td>\n      <td>33472.632813</td>\n      <td>1</td>\n    </tr>\n    <tr>\n      <th>69</th>\n      <td>33589.519531</td>\n      <td>34017.386719</td>\n      <td>31114.443359</td>\n      <td>33472.632813</td>\n      <td>49902050442</td>\n      <td>41</td>\n      <td>37345.121094</td>\n      <td>0</td>\n    </tr>\n    <tr>\n      <th>70</th>\n      <td>33416.976563</td>\n      <td>37537.371094</td>\n      <td>32475.865234</td>\n      <td>37345.121094</td>\n      <td>53972919008</td>\n      <td>38</td>\n      <td>36702.597656</td>\n      <td>1</td>\n    </tr>\n    <tr>\n      <th>71</th>\n      <td>37389.515625</td>\n      <td>38334.324219</td>\n      <td>35847.593750</td>\n      <td>36702.597656</td>\n      <td>43576032854</td>\n      <td>33</td>\n      <td>37334.398438</td>\n      <td>0</td>\n    </tr>\n    <tr>\n      <th>72</th>\n      <td>36697.031250</td>\n      <td>37608.695313</td>\n      <td>36044.449219</td>\n      <td>37334.398438</td>\n      <td>38699736985</td>\n      <td>28</td>\n      <td>35552.515625</td>\n      <td>1</td>\n    </tr>\n    <tr>\n      <th>73</th>\n      <td>37340.144531</td>\n      <td>37408.925781</td>\n      <td>34728.191406</td>\n      <td>35552.515625</td>\n      <td>37924228550</td>\n      <td>23</td>\n      <td>39097.859375</td>\n      <td>0</td>\n    </tr>\n    <tr>\n      <th>74</th>\n      <td>35555.789063</td>\n      <td>39322.781250</td>\n      <td>34864.109375</td>\n      <td>39097.859375</td>\n      <td>40669112838</td>\n      <td>25</td>\n      <td>40218.476563</td>\n      <td>0</td>\n    </tr>\n    <tr>\n      <th>75</th>\n      <td>39016.968750</td>\n      <td>40978.363281</td>\n      <td>38757.285156</td>\n      <td>40218.476563</td>\n      <td>43148914673</td>\n      <td>32</td>\n      <td>40406.269531</td>\n      <td>1</td>\n    </tr>\n    <tr>\n      <th>76</th>\n      <td>40427.167969</td>\n      <td>41295.269531</td>\n      <td>39609.468750</td>\n      <td>40406.269531</td>\n      <td>46420149185</td>\n      <td>25</td>\n      <td>38347.062500</td>\n      <td>1</td>\n    </tr>\n    <tr>\n      <th>77</th>\n      <td>40168.691406</td>\n      <td>40516.777344</td>\n      <td>38176.035156</td>\n      <td>38347.062500</td>\n      <td>39211635100</td>\n      <td>23</td>\n      <td>38053.503906</td>\n      <td>1</td>\n    </tr>\n    <tr>\n      <th>78</th>\n      <td>38341.421875</td>\n      <td>39513.671875</td>\n      <td>37439.675781</td>\n      <td>38053.503906</td>\n      <td>37096670047</td>\n      <td>23</td>\n      <td>35787.246094</td>\n      <td>1</td>\n    </tr>\n    <tr>\n      <th>79</th>\n      <td>38099.476563</td>\n      <td>38187.261719</td>\n      <td>35255.855469</td>\n      <td>35787.246094</td>\n      <td>36200887275</td>\n      <td>22</td>\n      <td>35615.871094</td>\n      <td>1</td>\n    </tr>\n    <tr>\n      <th>80</th>\n      <td>35854.527344</td>\n      <td>36457.796875</td>\n      <td>34933.062500</td>\n      <td>35615.871094</td>\n      <td>31207279719</td>\n      <td>17</td>\n      <td>35698.296875</td>\n      <td>0</td>\n    </tr>\n    <tr>\n      <th>81</th>\n      <td>35563.140625</td>\n      <td>36059.484375</td>\n      <td>33432.074219</td>\n      <td>35698.296875</td>\n      <td>36664034054</td>\n      <td>21</td>\n      <td>31676.693359</td>\n      <td>1</td>\n    </tr>\n    <tr>\n      <th>82</th>\n      <td>35641.144531</td>\n      <td>35721.640625</td>\n      <td>31295.935547</td>\n      <td>31676.693359</td>\n      <td>52809038594</td>\n      <td>33</td>\n      <td>32505.660156</td>\n      <td>0</td>\n    </tr>\n    <tr>\n      <th>83</th>\n      <td>31622.376953</td>\n      <td>33292.453125</td>\n      <td>28893.621094</td>\n      <td>32505.660156</td>\n      <td>58964353058</td>\n      <td>46</td>\n      <td>33723.027344</td>\n      <td>0</td>\n    </tr>\n    <tr>\n      <th>84</th>\n      <td>32515.714844</td>\n      <td>34753.410156</td>\n      <td>31772.632813</td>\n      <td>33723.027344</td>\n      <td>46317108925</td>\n      <td>32</td>\n      <td>34662.437500</td>\n      <td>0</td>\n    </tr>\n    <tr>\n      <th>85</th>\n      <td>33682.800781</td>\n      <td>35228.851563</td>\n      <td>32385.214844</td>\n      <td>34662.437500</td>\n      <td>33123368116</td>\n      <td>26</td>\n      <td>31637.779297</td>\n      <td>1</td>\n    </tr>\n    <tr>\n      <th>86</th>\n      <td>34659.105469</td>\n      <td>35487.246094</td>\n      <td>31350.884766</td>\n      <td>31637.779297</td>\n      <td>40230904226</td>\n      <td>24</td>\n      <td>32186.277344</td>\n      <td>0</td>\n    </tr>\n    <tr>\n      <th>87</th>\n      <td>31594.664063</td>\n      <td>32637.587891</td>\n      <td>30184.501953</td>\n      <td>32186.277344</td>\n      <td>38585385521</td>\n      <td>22</td>\n      <td>34649.644531</td>\n      <td>0</td>\n    </tr>\n    <tr>\n      <th>88</th>\n      <td>32287.523438</td>\n      <td>34656.128906</td>\n      <td>32071.757813</td>\n      <td>34649.644531</td>\n      <td>35511640894</td>\n      <td>22</td>\n      <td>34434.335938</td>\n      <td>1</td>\n    </tr>\n    <tr>\n      <th>89</th>\n      <td>34679.121094</td>\n      <td>35219.890625</td>\n      <td>33902.074219</td>\n      <td>34434.335938</td>\n      <td>33892523752</td>\n      <td>25</td>\n      <td>35867.777344</td>\n      <td>0</td>\n    </tr>\n    <tr>\n      <th>90</th>\n      <td>34475.558594</td>\n      <td>36542.109375</td>\n      <td>34252.484375</td>\n      <td>35867.777344</td>\n      <td>37901460044</td>\n      <td>22</td>\n      <td>35040.835938</td>\n      <td>1</td>\n    </tr>\n  </tbody>\n</table>\n</div>"
     },
     "execution_count": 450,
     "metadata": {},
     "output_type": "execute_result"
    }
   ],
   "source": [
    "pd.set_option('display.max_rows', len(mergedStockPrice))\n",
    "\n",
    "mergedStockPrice[\"Price_Increase\"] = bitcoinPricedf[\"Open\"] - bitcoinPricedf[\"Close\"] > 0.0\n",
    "mergedStockPrice['Price_Increase'] = mergedStockPrice.Price_Increase.astype(int)\n",
    "mergedStockPrice\n"
   ],
   "metadata": {
    "collapsed": false,
    "pycharm": {
     "name": "#%%\n"
    }
   }
  },
  {
   "cell_type": "code",
   "execution_count": 451,
   "outputs": [],
   "source": [
    "\n",
    "columns = [\"Previous_Open\", \"Previous_Close\", \"Previous_Search_Interest\", \"Price_Increase\"]\n",
    "mergedStockPrice = mergedStockPrice[columns]\n",
    "mergedStockPrice\n",
    "\n",
    "features = list(mergedStockPrice.columns)\n",
    "features.remove(\"Price_Increase\")\n",
    "target = \"Price_Increase\"\n",
    "\n",
    "X = mergedStockPrice[features]\n",
    "y = mergedStockPrice[target]"
   ],
   "metadata": {
    "collapsed": false,
    "pycharm": {
     "name": "#%%\n"
    }
   }
  },
  {
   "cell_type": "code",
   "execution_count": 452,
   "outputs": [],
   "source": [
    "X_train, X_test, y_train, y_test = train_test_split(X, y, test_size=0.25)"
   ],
   "metadata": {
    "collapsed": false,
    "pycharm": {
     "name": "#%%\n"
    }
   }
  },
  {
   "cell_type": "code",
   "execution_count": 453,
   "outputs": [
    {
     "data": {
      "text/plain": "LogisticRegression(solver='liblinear')"
     },
     "execution_count": 453,
     "metadata": {},
     "output_type": "execute_result"
    }
   ],
   "source": [
    "logReg = LogisticRegression(solver=\"liblinear\")\n",
    "logReg"
   ],
   "metadata": {
    "collapsed": false,
    "pycharm": {
     "name": "#%%\n"
    }
   }
  },
  {
   "cell_type": "code",
   "execution_count": 454,
   "outputs": [
    {
     "data": {
      "text/plain": "LogisticRegression(solver='liblinear')"
     },
     "execution_count": 454,
     "metadata": {},
     "output_type": "execute_result"
    }
   ],
   "source": [
    "logReg.fit(X_train, y_train)"
   ],
   "metadata": {
    "collapsed": false,
    "pycharm": {
     "name": "#%%\n"
    }
   }
  },
  {
   "cell_type": "code",
   "execution_count": 455,
   "outputs": [
    {
     "data": {
      "text/plain": "0.5"
     },
     "execution_count": 455,
     "metadata": {},
     "output_type": "execute_result"
    }
   ],
   "source": [
    "logReg.score(X_train, y_train)"
   ],
   "metadata": {
    "collapsed": false,
    "pycharm": {
     "name": "#%%\n"
    }
   }
  },
  {
   "cell_type": "code",
   "execution_count": 456,
   "outputs": [
    {
     "data": {
      "text/plain": "0.6086956521739131"
     },
     "execution_count": 456,
     "metadata": {},
     "output_type": "execute_result"
    }
   ],
   "source": [
    "logReg.score(X_test, y_test)"
   ],
   "metadata": {
    "collapsed": false,
    "pycharm": {
     "name": "#%%\n"
    }
   }
  },
  {
   "cell_type": "code",
   "execution_count": 457,
   "outputs": [
    {
     "name": "stdout",
     "output_type": "stream",
     "text": [
      "Confusion Matrix:\n",
      "[[ 3  3]\n",
      " [ 6 11]]\n",
      "------------------\n",
      "Accuracy: 0.61\n",
      "Recall: 0.65\n",
      "Prediction: 0.79\n",
      "f-measure: 0.71\n",
      "------------------\n",
      "              precision    recall  f1-score   support\n",
      "\n",
      "           0       0.33      0.50      0.40         6\n",
      "           1       0.79      0.65      0.71        17\n",
      "\n",
      "    accuracy                           0.61        23\n",
      "   macro avg       0.56      0.57      0.55        23\n",
      "weighted avg       0.67      0.61      0.63        23\n",
      "\n"
     ]
    }
   ],
   "source": [
    "predictions = logReg.predict(X_test)\n",
    "PrintMetricsClassiffication(y_test, predictions)"
   ],
   "metadata": {
    "collapsed": false,
    "pycharm": {
     "name": "#%%\n"
    }
   }
  },
  {
   "cell_type": "code",
   "execution_count": 458,
   "outputs": [
    {
     "name": "stdout",
     "output_type": "stream",
     "text": [
      "Confusion Matrix:\n",
      "[[ 3  3]\n",
      " [ 6 11]]\n",
      "------------------\n",
      "Accuracy: 0.61\n",
      "Recall: 0.65\n",
      "Prediction: 0.79\n",
      "f-measure: 0.71\n",
      "------------------\n",
      "              precision    recall  f1-score   support\n",
      "\n",
      "           0       0.33      0.50      0.40         6\n",
      "           1       0.79      0.65      0.71        17\n",
      "\n",
      "    accuracy                           0.61        23\n",
      "   macro avg       0.56      0.57      0.55        23\n",
      "weighted avg       0.67      0.61      0.63        23\n",
      "\n"
     ]
    }
   ],
   "source": [
    "predictions = logReg.predict(X_test)\n",
    "PrintMetricsClassiffication(y_test, predictions)"
   ],
   "metadata": {
    "collapsed": false,
    "pycharm": {
     "name": "#%%\n"
    }
   }
  },
  {
   "cell_type": "code",
   "execution_count": 459,
   "outputs": [
    {
     "data": {
      "text/plain": "   Previous_Open  Previous_Close  Previous_Search_Interest\n0          54877           16067                        65\n1          36229           50501                        83\n2          27531           43100                        65",
      "text/html": "<div>\n<style scoped>\n    .dataframe tbody tr th:only-of-type {\n        vertical-align: middle;\n    }\n\n    .dataframe tbody tr th {\n        vertical-align: top;\n    }\n\n    .dataframe thead th {\n        text-align: right;\n    }\n</style>\n<table border=\"1\" class=\"dataframe\">\n  <thead>\n    <tr style=\"text-align: right;\">\n      <th></th>\n      <th>Previous_Open</th>\n      <th>Previous_Close</th>\n      <th>Previous_Search_Interest</th>\n    </tr>\n  </thead>\n  <tbody>\n    <tr>\n      <th>0</th>\n      <td>54877</td>\n      <td>16067</td>\n      <td>65</td>\n    </tr>\n    <tr>\n      <th>1</th>\n      <td>36229</td>\n      <td>50501</td>\n      <td>83</td>\n    </tr>\n    <tr>\n      <th>2</th>\n      <td>27531</td>\n      <td>43100</td>\n      <td>65</td>\n    </tr>\n  </tbody>\n</table>\n</div>"
     },
     "execution_count": 459,
     "metadata": {},
     "output_type": "execute_result"
    }
   ],
   "source": [
    "# debug - you need a new random sample with all columns this model uses - I pulled a new one from the function\n",
    "\n",
    "samplePrice = prepareDataForPredictions(X)\n",
    "pdSamplePrice = pd.DataFrame.from_dict(samplePrice)\n",
    "pdSamplePrice"
   ],
   "metadata": {
    "collapsed": false,
    "pycharm": {
     "name": "#%%\n"
    }
   }
  },
  {
   "cell_type": "code",
   "execution_count": 460,
   "outputs": [
    {
     "data": {
      "text/plain": "   Previous_Open  Previous_Close  Previous_Search_Interest  Price_Increase\n0          54877           16067                        65           False\n1          36229           50501                        83           False\n2          27531           43100                        65            True",
      "text/html": "<div>\n<style scoped>\n    .dataframe tbody tr th:only-of-type {\n        vertical-align: middle;\n    }\n\n    .dataframe tbody tr th {\n        vertical-align: top;\n    }\n\n    .dataframe thead th {\n        text-align: right;\n    }\n</style>\n<table border=\"1\" class=\"dataframe\">\n  <thead>\n    <tr style=\"text-align: right;\">\n      <th></th>\n      <th>Previous_Open</th>\n      <th>Previous_Close</th>\n      <th>Previous_Search_Interest</th>\n      <th>Price_Increase</th>\n    </tr>\n  </thead>\n  <tbody>\n    <tr>\n      <th>0</th>\n      <td>54877</td>\n      <td>16067</td>\n      <td>65</td>\n      <td>False</td>\n    </tr>\n    <tr>\n      <th>1</th>\n      <td>36229</td>\n      <td>50501</td>\n      <td>83</td>\n      <td>False</td>\n    </tr>\n    <tr>\n      <th>2</th>\n      <td>27531</td>\n      <td>43100</td>\n      <td>65</td>\n      <td>True</td>\n    </tr>\n  </tbody>\n</table>\n</div>"
     },
     "execution_count": 460,
     "metadata": {},
     "output_type": "execute_result"
    }
   ],
   "source": [
    "pdSamplePrice = pd.DataFrame.from_dict(pdSamplePrice)\n",
    "\n",
    "predictions = logReg.predict(pdSamplePrice)\n",
    "\n",
    "pdPredicted = pdSamplePrice\n",
    "pdPredicted[\"Price_Increase\"] = predictions.astype(bool)\n",
    "pdPredicted"
   ],
   "metadata": {
    "collapsed": false,
    "pycharm": {
     "name": "#%%\n"
    }
   }
  },
  {
   "cell_type": "markdown",
   "source": [
    "### John Deere (DE)\n",
    "Dan Knobloch"
   ],
   "metadata": {
    "collapsed": false
   }
  },
  {
   "cell_type": "markdown",
   "source": [
    "#### Part 1: Regression - Linear Regression\n",
    "##### Prepare the Data\n",
    "load data, clean up, prepare features and targets, split up training and test data."
   ],
   "metadata": {
    "collapsed": false
   }
  },
  {
   "cell_type": "code",
   "execution_count": 461,
   "outputs": [
    {
     "data": {
      "text/plain": "         Date       Price  Trends        High   Volume  Previous_Close  \\\n1    4/5/2021  374.809998      88  377.940002  1419500          372.12   \n2    4/6/2021  375.609985      83  381.839996  1309700          374.81   \n3    4/7/2021  374.790009      88  378.880005  1299300          375.61   \n4    4/8/2021  374.070007      79  374.529999  1250700          374.79   \n5    4/9/2021  377.000000      82  378.079987  1224500          374.07   \n6   4/12/2021  378.260010      96  379.149994  1165100          377.00   \n7   4/13/2021  378.670013      90  384.399994   985100          378.26   \n8   4/14/2021  381.500000      92  382.980011  1077100          378.67   \n9   4/15/2021  382.140015      88  385.950012  1127000          381.50   \n10  4/16/2021  383.070007      80  386.059998  1092000          382.14   \n11  4/19/2021  380.720001      92  383.679993  1145100          383.07   \n12  4/20/2021  370.269989      76  380.739990  1807400          380.72   \n13  4/21/2021  375.600006      77  375.829987  1819900          370.27   \n14  4/22/2021  368.359985      80  377.239990  1880200          375.60   \n15  4/23/2021  376.269989      82  377.690002  1301300          368.36   \n16  4/26/2021  380.450012      91  383.799988  1235700          376.27   \n17  4/27/2021  382.359985      84  383.500000   925700          380.45   \n18  4/28/2021  379.799988      92  384.510010   891000          382.36   \n19  4/29/2021  376.390015      84  382.839996  1104500          379.80   \n20  4/30/2021  370.850006      80  373.529999  1196700          376.39   \n21   5/3/2021  373.769989      82  377.750000   924600          370.85   \n22   5/4/2021  379.579987      82  381.000000  1692300          373.77   \n23   5/5/2021  378.859985      80  383.339996  1460800          379.58   \n24   5/6/2021  389.910004      79  391.000000  2010900          378.86   \n25   5/7/2021  394.220001      81  396.899994  1597200          389.91   \n26  5/10/2021  391.399994      83  400.339996  1601300          394.22   \n27  5/11/2021  383.200012      83  389.179993  1588500          391.40   \n28  5/12/2021  373.630005      68  388.529999  1631600          383.20   \n29  5/13/2021  378.109985      74  379.839996  1483400          373.63   \n30  5/14/2021  384.000000      80  386.709991  1143600          378.11   \n31  5/17/2021  383.549988      86  385.649994  1170200          384.00   \n32  5/18/2021  369.690002      85  386.320007  1664800          383.55   \n33  5/19/2021  358.420013      77  362.179993  2800600          369.69   \n34  5/20/2021  355.220001      88  359.000000  2947000          358.42   \n35  5/21/2021  359.750000      76  368.390015  3614400          355.22   \n36  5/24/2021  359.359985      79  362.489990  1914700          359.75   \n37  5/25/2021  360.690002      77  367.799988  1682300          359.36   \n38  5/26/2021  357.739990      78  361.250000  1949800          360.69   \n39  5/27/2021  362.209991      88  363.500000  3337100          357.74   \n40  5/28/2021  361.100006      77  363.540009  1348100          362.21   \n41   6/1/2021  364.609985      72  369.250000  1483500          361.10   \n42   6/2/2021  356.709991      67  365.309998  1882700          364.61   \n43   6/3/2021  358.910004      77  363.429993  1336800          356.71   \n44   6/4/2021  356.640015      79  361.440002  1279300          358.91   \n45   6/7/2021  355.429993      75  359.700012  1537000          356.64   \n46   6/8/2021  356.579987      77  359.470001  1521700          355.43   \n47   6/9/2021  349.529999      80  355.910004  2000800          356.58   \n48  6/10/2021  341.440002      74  354.399994  2232000          349.53   \n49  6/11/2021  341.570007      78  346.500000  2028400          341.44   \n50  6/14/2021  335.540009      79  342.429993  2775000          341.57   \n51  6/15/2021  338.100006      78  339.029999  1722400          335.54   \n52  6/16/2021  336.559998      81  340.000000  2264600          338.10   \n53  6/17/2021  328.380005      66  336.910004  3387800          336.56   \n54  6/18/2021  328.970001      81  331.850006  2930600          328.38   \n55  6/21/2021  337.880005      71  338.760010  2010700          328.97   \n56  6/22/2021  342.100006      71  342.649994  1677400          337.88   \n57  6/23/2021  347.750000      71  349.170013  3352700          342.10   \n58  6/24/2021  350.619995      74  354.739990  2140200          347.75   \n59  6/25/2021  349.989990      80  355.890015  6604800          350.62   \n60  6/28/2021  349.890015      72  350.950012  1304200          349.99   \n61  6/29/2021  348.929993      66  352.700012  1213400          349.89   \n\n    trend_daily_increase  price_daily_increase  \n1                      1                     1  \n2                      0                     1  \n3                      1                     0  \n4                      0                     0  \n5                      1                     1  \n6                      1                     1  \n7                      0                     1  \n8                      1                     1  \n9                      0                     1  \n10                     0                     1  \n11                     1                     0  \n12                     0                     0  \n13                     1                     1  \n14                     1                     0  \n15                     1                     1  \n16                     1                     1  \n17                     0                     1  \n18                     1                     0  \n19                     0                     0  \n20                     0                     0  \n21                     1                     1  \n22                     0                     1  \n23                     0                     0  \n24                     0                     1  \n25                     1                     1  \n26                     1                     0  \n27                     0                     0  \n28                     0                     0  \n29                     1                     1  \n30                     1                     1  \n31                     1                     0  \n32                     0                     0  \n33                     0                     0  \n34                     1                     0  \n35                     0                     1  \n36                     1                     0  \n37                     0                     1  \n38                     1                     0  \n39                     1                     1  \n40                     0                     0  \n41                     0                     1  \n42                     0                     0  \n43                     1                     1  \n44                     1                     0  \n45                     0                     0  \n46                     1                     1  \n47                     1                     0  \n48                     0                     0  \n49                     1                     1  \n50                     1                     0  \n51                     0                     1  \n52                     1                     0  \n53                     0                     0  \n54                     1                     1  \n55                     0                     1  \n56                     0                     1  \n57                     0                     1  \n58                     1                     1  \n59                     1                     0  \n60                     0                     0  \n61                     0                     0  ",
      "text/html": "<div>\n<style scoped>\n    .dataframe tbody tr th:only-of-type {\n        vertical-align: middle;\n    }\n\n    .dataframe tbody tr th {\n        vertical-align: top;\n    }\n\n    .dataframe thead th {\n        text-align: right;\n    }\n</style>\n<table border=\"1\" class=\"dataframe\">\n  <thead>\n    <tr style=\"text-align: right;\">\n      <th></th>\n      <th>Date</th>\n      <th>Price</th>\n      <th>Trends</th>\n      <th>High</th>\n      <th>Volume</th>\n      <th>Previous_Close</th>\n      <th>trend_daily_increase</th>\n      <th>price_daily_increase</th>\n    </tr>\n  </thead>\n  <tbody>\n    <tr>\n      <th>1</th>\n      <td>4/5/2021</td>\n      <td>374.809998</td>\n      <td>88</td>\n      <td>377.940002</td>\n      <td>1419500</td>\n      <td>372.12</td>\n      <td>1</td>\n      <td>1</td>\n    </tr>\n    <tr>\n      <th>2</th>\n      <td>4/6/2021</td>\n      <td>375.609985</td>\n      <td>83</td>\n      <td>381.839996</td>\n      <td>1309700</td>\n      <td>374.81</td>\n      <td>0</td>\n      <td>1</td>\n    </tr>\n    <tr>\n      <th>3</th>\n      <td>4/7/2021</td>\n      <td>374.790009</td>\n      <td>88</td>\n      <td>378.880005</td>\n      <td>1299300</td>\n      <td>375.61</td>\n      <td>1</td>\n      <td>0</td>\n    </tr>\n    <tr>\n      <th>4</th>\n      <td>4/8/2021</td>\n      <td>374.070007</td>\n      <td>79</td>\n      <td>374.529999</td>\n      <td>1250700</td>\n      <td>374.79</td>\n      <td>0</td>\n      <td>0</td>\n    </tr>\n    <tr>\n      <th>5</th>\n      <td>4/9/2021</td>\n      <td>377.000000</td>\n      <td>82</td>\n      <td>378.079987</td>\n      <td>1224500</td>\n      <td>374.07</td>\n      <td>1</td>\n      <td>1</td>\n    </tr>\n    <tr>\n      <th>6</th>\n      <td>4/12/2021</td>\n      <td>378.260010</td>\n      <td>96</td>\n      <td>379.149994</td>\n      <td>1165100</td>\n      <td>377.00</td>\n      <td>1</td>\n      <td>1</td>\n    </tr>\n    <tr>\n      <th>7</th>\n      <td>4/13/2021</td>\n      <td>378.670013</td>\n      <td>90</td>\n      <td>384.399994</td>\n      <td>985100</td>\n      <td>378.26</td>\n      <td>0</td>\n      <td>1</td>\n    </tr>\n    <tr>\n      <th>8</th>\n      <td>4/14/2021</td>\n      <td>381.500000</td>\n      <td>92</td>\n      <td>382.980011</td>\n      <td>1077100</td>\n      <td>378.67</td>\n      <td>1</td>\n      <td>1</td>\n    </tr>\n    <tr>\n      <th>9</th>\n      <td>4/15/2021</td>\n      <td>382.140015</td>\n      <td>88</td>\n      <td>385.950012</td>\n      <td>1127000</td>\n      <td>381.50</td>\n      <td>0</td>\n      <td>1</td>\n    </tr>\n    <tr>\n      <th>10</th>\n      <td>4/16/2021</td>\n      <td>383.070007</td>\n      <td>80</td>\n      <td>386.059998</td>\n      <td>1092000</td>\n      <td>382.14</td>\n      <td>0</td>\n      <td>1</td>\n    </tr>\n    <tr>\n      <th>11</th>\n      <td>4/19/2021</td>\n      <td>380.720001</td>\n      <td>92</td>\n      <td>383.679993</td>\n      <td>1145100</td>\n      <td>383.07</td>\n      <td>1</td>\n      <td>0</td>\n    </tr>\n    <tr>\n      <th>12</th>\n      <td>4/20/2021</td>\n      <td>370.269989</td>\n      <td>76</td>\n      <td>380.739990</td>\n      <td>1807400</td>\n      <td>380.72</td>\n      <td>0</td>\n      <td>0</td>\n    </tr>\n    <tr>\n      <th>13</th>\n      <td>4/21/2021</td>\n      <td>375.600006</td>\n      <td>77</td>\n      <td>375.829987</td>\n      <td>1819900</td>\n      <td>370.27</td>\n      <td>1</td>\n      <td>1</td>\n    </tr>\n    <tr>\n      <th>14</th>\n      <td>4/22/2021</td>\n      <td>368.359985</td>\n      <td>80</td>\n      <td>377.239990</td>\n      <td>1880200</td>\n      <td>375.60</td>\n      <td>1</td>\n      <td>0</td>\n    </tr>\n    <tr>\n      <th>15</th>\n      <td>4/23/2021</td>\n      <td>376.269989</td>\n      <td>82</td>\n      <td>377.690002</td>\n      <td>1301300</td>\n      <td>368.36</td>\n      <td>1</td>\n      <td>1</td>\n    </tr>\n    <tr>\n      <th>16</th>\n      <td>4/26/2021</td>\n      <td>380.450012</td>\n      <td>91</td>\n      <td>383.799988</td>\n      <td>1235700</td>\n      <td>376.27</td>\n      <td>1</td>\n      <td>1</td>\n    </tr>\n    <tr>\n      <th>17</th>\n      <td>4/27/2021</td>\n      <td>382.359985</td>\n      <td>84</td>\n      <td>383.500000</td>\n      <td>925700</td>\n      <td>380.45</td>\n      <td>0</td>\n      <td>1</td>\n    </tr>\n    <tr>\n      <th>18</th>\n      <td>4/28/2021</td>\n      <td>379.799988</td>\n      <td>92</td>\n      <td>384.510010</td>\n      <td>891000</td>\n      <td>382.36</td>\n      <td>1</td>\n      <td>0</td>\n    </tr>\n    <tr>\n      <th>19</th>\n      <td>4/29/2021</td>\n      <td>376.390015</td>\n      <td>84</td>\n      <td>382.839996</td>\n      <td>1104500</td>\n      <td>379.80</td>\n      <td>0</td>\n      <td>0</td>\n    </tr>\n    <tr>\n      <th>20</th>\n      <td>4/30/2021</td>\n      <td>370.850006</td>\n      <td>80</td>\n      <td>373.529999</td>\n      <td>1196700</td>\n      <td>376.39</td>\n      <td>0</td>\n      <td>0</td>\n    </tr>\n    <tr>\n      <th>21</th>\n      <td>5/3/2021</td>\n      <td>373.769989</td>\n      <td>82</td>\n      <td>377.750000</td>\n      <td>924600</td>\n      <td>370.85</td>\n      <td>1</td>\n      <td>1</td>\n    </tr>\n    <tr>\n      <th>22</th>\n      <td>5/4/2021</td>\n      <td>379.579987</td>\n      <td>82</td>\n      <td>381.000000</td>\n      <td>1692300</td>\n      <td>373.77</td>\n      <td>0</td>\n      <td>1</td>\n    </tr>\n    <tr>\n      <th>23</th>\n      <td>5/5/2021</td>\n      <td>378.859985</td>\n      <td>80</td>\n      <td>383.339996</td>\n      <td>1460800</td>\n      <td>379.58</td>\n      <td>0</td>\n      <td>0</td>\n    </tr>\n    <tr>\n      <th>24</th>\n      <td>5/6/2021</td>\n      <td>389.910004</td>\n      <td>79</td>\n      <td>391.000000</td>\n      <td>2010900</td>\n      <td>378.86</td>\n      <td>0</td>\n      <td>1</td>\n    </tr>\n    <tr>\n      <th>25</th>\n      <td>5/7/2021</td>\n      <td>394.220001</td>\n      <td>81</td>\n      <td>396.899994</td>\n      <td>1597200</td>\n      <td>389.91</td>\n      <td>1</td>\n      <td>1</td>\n    </tr>\n    <tr>\n      <th>26</th>\n      <td>5/10/2021</td>\n      <td>391.399994</td>\n      <td>83</td>\n      <td>400.339996</td>\n      <td>1601300</td>\n      <td>394.22</td>\n      <td>1</td>\n      <td>0</td>\n    </tr>\n    <tr>\n      <th>27</th>\n      <td>5/11/2021</td>\n      <td>383.200012</td>\n      <td>83</td>\n      <td>389.179993</td>\n      <td>1588500</td>\n      <td>391.40</td>\n      <td>0</td>\n      <td>0</td>\n    </tr>\n    <tr>\n      <th>28</th>\n      <td>5/12/2021</td>\n      <td>373.630005</td>\n      <td>68</td>\n      <td>388.529999</td>\n      <td>1631600</td>\n      <td>383.20</td>\n      <td>0</td>\n      <td>0</td>\n    </tr>\n    <tr>\n      <th>29</th>\n      <td>5/13/2021</td>\n      <td>378.109985</td>\n      <td>74</td>\n      <td>379.839996</td>\n      <td>1483400</td>\n      <td>373.63</td>\n      <td>1</td>\n      <td>1</td>\n    </tr>\n    <tr>\n      <th>30</th>\n      <td>5/14/2021</td>\n      <td>384.000000</td>\n      <td>80</td>\n      <td>386.709991</td>\n      <td>1143600</td>\n      <td>378.11</td>\n      <td>1</td>\n      <td>1</td>\n    </tr>\n    <tr>\n      <th>31</th>\n      <td>5/17/2021</td>\n      <td>383.549988</td>\n      <td>86</td>\n      <td>385.649994</td>\n      <td>1170200</td>\n      <td>384.00</td>\n      <td>1</td>\n      <td>0</td>\n    </tr>\n    <tr>\n      <th>32</th>\n      <td>5/18/2021</td>\n      <td>369.690002</td>\n      <td>85</td>\n      <td>386.320007</td>\n      <td>1664800</td>\n      <td>383.55</td>\n      <td>0</td>\n      <td>0</td>\n    </tr>\n    <tr>\n      <th>33</th>\n      <td>5/19/2021</td>\n      <td>358.420013</td>\n      <td>77</td>\n      <td>362.179993</td>\n      <td>2800600</td>\n      <td>369.69</td>\n      <td>0</td>\n      <td>0</td>\n    </tr>\n    <tr>\n      <th>34</th>\n      <td>5/20/2021</td>\n      <td>355.220001</td>\n      <td>88</td>\n      <td>359.000000</td>\n      <td>2947000</td>\n      <td>358.42</td>\n      <td>1</td>\n      <td>0</td>\n    </tr>\n    <tr>\n      <th>35</th>\n      <td>5/21/2021</td>\n      <td>359.750000</td>\n      <td>76</td>\n      <td>368.390015</td>\n      <td>3614400</td>\n      <td>355.22</td>\n      <td>0</td>\n      <td>1</td>\n    </tr>\n    <tr>\n      <th>36</th>\n      <td>5/24/2021</td>\n      <td>359.359985</td>\n      <td>79</td>\n      <td>362.489990</td>\n      <td>1914700</td>\n      <td>359.75</td>\n      <td>1</td>\n      <td>0</td>\n    </tr>\n    <tr>\n      <th>37</th>\n      <td>5/25/2021</td>\n      <td>360.690002</td>\n      <td>77</td>\n      <td>367.799988</td>\n      <td>1682300</td>\n      <td>359.36</td>\n      <td>0</td>\n      <td>1</td>\n    </tr>\n    <tr>\n      <th>38</th>\n      <td>5/26/2021</td>\n      <td>357.739990</td>\n      <td>78</td>\n      <td>361.250000</td>\n      <td>1949800</td>\n      <td>360.69</td>\n      <td>1</td>\n      <td>0</td>\n    </tr>\n    <tr>\n      <th>39</th>\n      <td>5/27/2021</td>\n      <td>362.209991</td>\n      <td>88</td>\n      <td>363.500000</td>\n      <td>3337100</td>\n      <td>357.74</td>\n      <td>1</td>\n      <td>1</td>\n    </tr>\n    <tr>\n      <th>40</th>\n      <td>5/28/2021</td>\n      <td>361.100006</td>\n      <td>77</td>\n      <td>363.540009</td>\n      <td>1348100</td>\n      <td>362.21</td>\n      <td>0</td>\n      <td>0</td>\n    </tr>\n    <tr>\n      <th>41</th>\n      <td>6/1/2021</td>\n      <td>364.609985</td>\n      <td>72</td>\n      <td>369.250000</td>\n      <td>1483500</td>\n      <td>361.10</td>\n      <td>0</td>\n      <td>1</td>\n    </tr>\n    <tr>\n      <th>42</th>\n      <td>6/2/2021</td>\n      <td>356.709991</td>\n      <td>67</td>\n      <td>365.309998</td>\n      <td>1882700</td>\n      <td>364.61</td>\n      <td>0</td>\n      <td>0</td>\n    </tr>\n    <tr>\n      <th>43</th>\n      <td>6/3/2021</td>\n      <td>358.910004</td>\n      <td>77</td>\n      <td>363.429993</td>\n      <td>1336800</td>\n      <td>356.71</td>\n      <td>1</td>\n      <td>1</td>\n    </tr>\n    <tr>\n      <th>44</th>\n      <td>6/4/2021</td>\n      <td>356.640015</td>\n      <td>79</td>\n      <td>361.440002</td>\n      <td>1279300</td>\n      <td>358.91</td>\n      <td>1</td>\n      <td>0</td>\n    </tr>\n    <tr>\n      <th>45</th>\n      <td>6/7/2021</td>\n      <td>355.429993</td>\n      <td>75</td>\n      <td>359.700012</td>\n      <td>1537000</td>\n      <td>356.64</td>\n      <td>0</td>\n      <td>0</td>\n    </tr>\n    <tr>\n      <th>46</th>\n      <td>6/8/2021</td>\n      <td>356.579987</td>\n      <td>77</td>\n      <td>359.470001</td>\n      <td>1521700</td>\n      <td>355.43</td>\n      <td>1</td>\n      <td>1</td>\n    </tr>\n    <tr>\n      <th>47</th>\n      <td>6/9/2021</td>\n      <td>349.529999</td>\n      <td>80</td>\n      <td>355.910004</td>\n      <td>2000800</td>\n      <td>356.58</td>\n      <td>1</td>\n      <td>0</td>\n    </tr>\n    <tr>\n      <th>48</th>\n      <td>6/10/2021</td>\n      <td>341.440002</td>\n      <td>74</td>\n      <td>354.399994</td>\n      <td>2232000</td>\n      <td>349.53</td>\n      <td>0</td>\n      <td>0</td>\n    </tr>\n    <tr>\n      <th>49</th>\n      <td>6/11/2021</td>\n      <td>341.570007</td>\n      <td>78</td>\n      <td>346.500000</td>\n      <td>2028400</td>\n      <td>341.44</td>\n      <td>1</td>\n      <td>1</td>\n    </tr>\n    <tr>\n      <th>50</th>\n      <td>6/14/2021</td>\n      <td>335.540009</td>\n      <td>79</td>\n      <td>342.429993</td>\n      <td>2775000</td>\n      <td>341.57</td>\n      <td>1</td>\n      <td>0</td>\n    </tr>\n    <tr>\n      <th>51</th>\n      <td>6/15/2021</td>\n      <td>338.100006</td>\n      <td>78</td>\n      <td>339.029999</td>\n      <td>1722400</td>\n      <td>335.54</td>\n      <td>0</td>\n      <td>1</td>\n    </tr>\n    <tr>\n      <th>52</th>\n      <td>6/16/2021</td>\n      <td>336.559998</td>\n      <td>81</td>\n      <td>340.000000</td>\n      <td>2264600</td>\n      <td>338.10</td>\n      <td>1</td>\n      <td>0</td>\n    </tr>\n    <tr>\n      <th>53</th>\n      <td>6/17/2021</td>\n      <td>328.380005</td>\n      <td>66</td>\n      <td>336.910004</td>\n      <td>3387800</td>\n      <td>336.56</td>\n      <td>0</td>\n      <td>0</td>\n    </tr>\n    <tr>\n      <th>54</th>\n      <td>6/18/2021</td>\n      <td>328.970001</td>\n      <td>81</td>\n      <td>331.850006</td>\n      <td>2930600</td>\n      <td>328.38</td>\n      <td>1</td>\n      <td>1</td>\n    </tr>\n    <tr>\n      <th>55</th>\n      <td>6/21/2021</td>\n      <td>337.880005</td>\n      <td>71</td>\n      <td>338.760010</td>\n      <td>2010700</td>\n      <td>328.97</td>\n      <td>0</td>\n      <td>1</td>\n    </tr>\n    <tr>\n      <th>56</th>\n      <td>6/22/2021</td>\n      <td>342.100006</td>\n      <td>71</td>\n      <td>342.649994</td>\n      <td>1677400</td>\n      <td>337.88</td>\n      <td>0</td>\n      <td>1</td>\n    </tr>\n    <tr>\n      <th>57</th>\n      <td>6/23/2021</td>\n      <td>347.750000</td>\n      <td>71</td>\n      <td>349.170013</td>\n      <td>3352700</td>\n      <td>342.10</td>\n      <td>0</td>\n      <td>1</td>\n    </tr>\n    <tr>\n      <th>58</th>\n      <td>6/24/2021</td>\n      <td>350.619995</td>\n      <td>74</td>\n      <td>354.739990</td>\n      <td>2140200</td>\n      <td>347.75</td>\n      <td>1</td>\n      <td>1</td>\n    </tr>\n    <tr>\n      <th>59</th>\n      <td>6/25/2021</td>\n      <td>349.989990</td>\n      <td>80</td>\n      <td>355.890015</td>\n      <td>6604800</td>\n      <td>350.62</td>\n      <td>1</td>\n      <td>0</td>\n    </tr>\n    <tr>\n      <th>60</th>\n      <td>6/28/2021</td>\n      <td>349.890015</td>\n      <td>72</td>\n      <td>350.950012</td>\n      <td>1304200</td>\n      <td>349.99</td>\n      <td>0</td>\n      <td>0</td>\n    </tr>\n    <tr>\n      <th>61</th>\n      <td>6/29/2021</td>\n      <td>348.929993</td>\n      <td>66</td>\n      <td>352.700012</td>\n      <td>1213400</td>\n      <td>349.89</td>\n      <td>0</td>\n      <td>0</td>\n    </tr>\n  </tbody>\n</table>\n</div>"
     },
     "execution_count": 461,
     "metadata": {},
     "output_type": "execute_result"
    }
   ],
   "source": [
    "# read file, drop null values, convert binary values in trend and price to integers\n",
    "JDStockTrend = pd.read_csv(f\"{dataDir}DeereStockPrice.csv\")\n",
    "JDStockTrend.dropna(inplace=True)\n",
    "JDStockTrend['trend_daily_increase'] = JDStockTrend.trend_daily_increase.astype(int)\n",
    "JDStockTrend['price_daily_increase'] = JDStockTrend.price_daily_increase.astype(int)\n",
    "JDStockTrend"
   ],
   "metadata": {
    "collapsed": false,
    "pycharm": {
     "name": "#%%\n"
    }
   }
  },
  {
   "cell_type": "code",
   "execution_count": 462,
   "outputs": [
    {
     "name": "stdout",
     "output_type": "stream",
     "text": [
      "<class 'pandas.core.frame.DataFrame'>\n",
      "Int64Index: 61 entries, 1 to 61\n",
      "Data columns (total 4 columns):\n",
      " #   Column                Non-Null Count  Dtype  \n",
      "---  ------                --------------  -----  \n",
      " 0   Trends                61 non-null     int64  \n",
      " 1   Previous_Close        61 non-null     float64\n",
      " 2   Volume                61 non-null     int64  \n",
      " 3   trend_daily_increase  61 non-null     int64  \n",
      "dtypes: float64(1), int64(3)\n",
      "memory usage: 2.4 KB\n"
     ]
    }
   ],
   "source": [
    "# determine feature vectors and target vectors. in this case targeting a prediction of price based on the previous days closing price, volume traded, and trends data\n",
    "featureColumns = [\"Trends\",\"Previous_Close\",\"Volume\",\"trend_daily_increase\"]\n",
    "target = \"Price\"\n",
    "\n",
    "X=JDStockTrend[featureColumns]\n",
    "y=JDStockTrend[target]\n",
    "\n",
    "X.info()"
   ],
   "metadata": {
    "collapsed": false,
    "pycharm": {
     "name": "#%%\n"
    }
   }
  },
  {
   "cell_type": "code",
   "execution_count": 463,
   "outputs": [
    {
     "data": {
      "text/plain": "1     374.809998\n2     375.609985\n3     374.790009\n4     374.070007\n5     377.000000\n6     378.260010\n7     378.670013\n8     381.500000\n9     382.140015\n10    383.070007\n11    380.720001\n12    370.269989\n13    375.600006\n14    368.359985\n15    376.269989\n16    380.450012\n17    382.359985\n18    379.799988\n19    376.390015\n20    370.850006\n21    373.769989\n22    379.579987\n23    378.859985\n24    389.910004\n25    394.220001\n26    391.399994\n27    383.200012\n28    373.630005\n29    378.109985\n30    384.000000\n31    383.549988\n32    369.690002\n33    358.420013\n34    355.220001\n35    359.750000\n36    359.359985\n37    360.690002\n38    357.739990\n39    362.209991\n40    361.100006\n41    364.609985\n42    356.709991\n43    358.910004\n44    356.640015\n45    355.429993\n46    356.579987\n47    349.529999\n48    341.440002\n49    341.570007\n50    335.540009\n51    338.100006\n52    336.559998\n53    328.380005\n54    328.970001\n55    337.880005\n56    342.100006\n57    347.750000\n58    350.619995\n59    349.989990\n60    349.890015\n61    348.929993\nName: Price, dtype: float64"
     },
     "execution_count": 463,
     "metadata": {},
     "output_type": "execute_result"
    }
   ],
   "source": [
    "y"
   ],
   "metadata": {
    "collapsed": false,
    "pycharm": {
     "name": "#%%\n"
    }
   }
  },
  {
   "cell_type": "code",
   "execution_count": 464,
   "outputs": [],
   "source": [
    "X_train, X_test, y_train, y_test = train_test_split(X, y, test_size=0.25, random_state=1)"
   ],
   "metadata": {
    "collapsed": false,
    "pycharm": {
     "name": "#%%\n"
    }
   }
  },
  {
   "cell_type": "markdown",
   "source": [
    "#### Modeling with Linear Regression\n",
    "fit a line to our data set, with the minimum distance between the points."
   ],
   "metadata": {
    "collapsed": false
   }
  },
  {
   "cell_type": "code",
   "execution_count": 465,
   "outputs": [
    {
     "data": {
      "text/plain": "LinearRegression()"
     },
     "execution_count": 465,
     "metadata": {},
     "output_type": "execute_result"
    }
   ],
   "source": [
    "lr = LinearRegression()    #use this algorithm to start developing the line betwee data points\n",
    "lr"
   ],
   "metadata": {
    "collapsed": false,
    "pycharm": {
     "name": "#%%\n"
    }
   }
  },
  {
   "cell_type": "code",
   "execution_count": 466,
   "outputs": [
    {
     "name": "stdout",
     "output_type": "stream",
     "text": [
      "the score with the training data set = 0.9152033901019356\n",
      "the score with the test data set = 0.8976667513186476\n"
     ]
    }
   ],
   "source": [
    "lr.fit(X_train, y_train)\n",
    "trainScore = lr.score(X_train, y_train)\n",
    "testScore = lr.score(X_test, y_test)\n",
    "\n",
    "print(f'the score with the training data set = {trainScore}')\n",
    "print(f'the score with the test data set = {testScore}')"
   ],
   "metadata": {
    "collapsed": false,
    "pycharm": {
     "name": "#%%\n"
    }
   }
  },
  {
   "cell_type": "markdown",
   "source": [
    "#### LR Metrics Output"
   ],
   "metadata": {
    "collapsed": false
   }
  },
  {
   "cell_type": "code",
   "execution_count": 467,
   "outputs": [
    {
     "name": "stdout",
     "output_type": "stream",
     "text": [
      "Score: 0.90\n",
      "MAE: 4.29\n",
      "RMSE: 5.18\n",
      "r2: 0.90\n"
     ]
    }
   ],
   "source": [
    "predictions = lr.predict(X_test)\n",
    "PrintMetricsRegression(y_test, predictions)"
   ],
   "metadata": {
    "collapsed": false,
    "pycharm": {
     "name": "#%%\n"
    }
   }
  },
  {
   "cell_type": "markdown",
   "source": [
    "#### Predict some new samples\n",
    "\n",
    "define a few new samples."
   ],
   "metadata": {
    "collapsed": false
   }
  },
  {
   "cell_type": "code",
   "execution_count": 468,
   "outputs": [
    {
     "data": {
      "text/plain": "[{'Trends': 63,\n  'Previous_Close': 335,\n  'Volume': 1136452,\n  'trend_daily_increase': 0},\n {'Trends': 28,\n  'Previous_Close': 158,\n  'Volume': 3137419,\n  'trend_daily_increase': 0},\n {'Trends': 91,\n  'Previous_Close': 286,\n  'Volume': 1718015,\n  'trend_daily_increase': 0}]"
     },
     "execution_count": 468,
     "metadata": {},
     "output_type": "execute_result"
    }
   ],
   "source": [
    "numElements = 3\n",
    "sampleStockTrend = []\n",
    "for _ in range(numElements):\n",
    "    dict = {}\n",
    "    for column in X.columns:\n",
    "        min = 0  # assume min = 0\n",
    "        maxValue = round(max(JDStockTrend[column].values))\n",
    "        dict[column] = rnd.randint(min, maxValue)\n",
    "    sampleStockTrend.append(dict)\n",
    "sampleStockTrend"
   ],
   "metadata": {
    "collapsed": false,
    "pycharm": {
     "name": "#%%\n"
    }
   }
  },
  {
   "cell_type": "code",
   "execution_count": 469,
   "outputs": [
    {
     "data": {
      "text/plain": "   Trends  Previous_Close   Volume  trend_daily_increase\n0      63             335  1136452                     0\n1      28             158  3137419                     0\n2      91             286  1718015                     0",
      "text/html": "<div>\n<style scoped>\n    .dataframe tbody tr th:only-of-type {\n        vertical-align: middle;\n    }\n\n    .dataframe tbody tr th {\n        vertical-align: top;\n    }\n\n    .dataframe thead th {\n        text-align: right;\n    }\n</style>\n<table border=\"1\" class=\"dataframe\">\n  <thead>\n    <tr style=\"text-align: right;\">\n      <th></th>\n      <th>Trends</th>\n      <th>Previous_Close</th>\n      <th>Volume</th>\n      <th>trend_daily_increase</th>\n    </tr>\n  </thead>\n  <tbody>\n    <tr>\n      <th>0</th>\n      <td>63</td>\n      <td>335</td>\n      <td>1136452</td>\n      <td>0</td>\n    </tr>\n    <tr>\n      <th>1</th>\n      <td>28</td>\n      <td>158</td>\n      <td>3137419</td>\n      <td>0</td>\n    </tr>\n    <tr>\n      <th>2</th>\n      <td>91</td>\n      <td>286</td>\n      <td>1718015</td>\n      <td>0</td>\n    </tr>\n  </tbody>\n</table>\n</div>"
     },
     "execution_count": 469,
     "metadata": {},
     "output_type": "execute_result"
    }
   ],
   "source": [
    "pdSampleStockTrend = pd.DataFrame.from_dict(sampleStockTrend)\n",
    "pdSampleStockTrend"
   ],
   "metadata": {
    "collapsed": false,
    "pycharm": {
     "name": "#%%\n"
    }
   }
  },
  {
   "cell_type": "code",
   "execution_count": 470,
   "outputs": [
    {
     "data": {
      "text/plain": "array([335.6263195 , 167.580081  , 291.50703499])"
     },
     "execution_count": 470,
     "metadata": {},
     "output_type": "execute_result"
    }
   ],
   "source": [
    "predictions = lr.predict(pdSampleStockTrend)\n",
    "predictions"
   ],
   "metadata": {
    "collapsed": false,
    "pycharm": {
     "name": "#%%\n"
    }
   }
  },
  {
   "cell_type": "code",
   "execution_count": 471,
   "outputs": [
    {
     "data": {
      "text/plain": "   Trends  Previous_Close   Volume  trend_daily_increase   Predicted\n0      63             335  1136452                     0  335.626319\n1      28             158  3137419                     0  167.580081\n2      91             286  1718015                     0  291.507035",
      "text/html": "<div>\n<style scoped>\n    .dataframe tbody tr th:only-of-type {\n        vertical-align: middle;\n    }\n\n    .dataframe tbody tr th {\n        vertical-align: top;\n    }\n\n    .dataframe thead th {\n        text-align: right;\n    }\n</style>\n<table border=\"1\" class=\"dataframe\">\n  <thead>\n    <tr style=\"text-align: right;\">\n      <th></th>\n      <th>Trends</th>\n      <th>Previous_Close</th>\n      <th>Volume</th>\n      <th>trend_daily_increase</th>\n      <th>Predicted</th>\n    </tr>\n  </thead>\n  <tbody>\n    <tr>\n      <th>0</th>\n      <td>63</td>\n      <td>335</td>\n      <td>1136452</td>\n      <td>0</td>\n      <td>335.626319</td>\n    </tr>\n    <tr>\n      <th>1</th>\n      <td>28</td>\n      <td>158</td>\n      <td>3137419</td>\n      <td>0</td>\n      <td>167.580081</td>\n    </tr>\n    <tr>\n      <th>2</th>\n      <td>91</td>\n      <td>286</td>\n      <td>1718015</td>\n      <td>0</td>\n      <td>291.507035</td>\n    </tr>\n  </tbody>\n</table>\n</div>"
     },
     "execution_count": 471,
     "metadata": {},
     "output_type": "execute_result"
    }
   ],
   "source": [
    "pdPredictedStockTrend = pdSampleStockTrend.copy()\n",
    "pdPredictedStockTrend['Predicted'] = predictions\n",
    "pdPredictedStockTrend"
   ],
   "metadata": {
    "collapsed": false,
    "pycharm": {
     "name": "#%%\n"
    }
   }
  },
  {
   "cell_type": "markdown",
   "source": [
    "##### Part 2: Classification - Logistic Regression"
   ],
   "metadata": {
    "collapsed": false
   }
  },
  {
   "cell_type": "markdown",
   "source": [
    "##### Prepare the Data\n",
    "load data, clean up, prepare features and targets, split up training and test data."
   ],
   "metadata": {
    "collapsed": false
   }
  },
  {
   "cell_type": "code",
   "execution_count": 472,
   "outputs": [
    {
     "data": {
      "text/plain": "         Date       Price  Trends        High   Volume  Previous_Close  \\\n1    4/5/2021  374.809998      88  377.940002  1419500          372.12   \n2    4/6/2021  375.609985      83  381.839996  1309700          374.81   \n3    4/7/2021  374.790009      88  378.880005  1299300          375.61   \n4    4/8/2021  374.070007      79  374.529999  1250700          374.79   \n5    4/9/2021  377.000000      82  378.079987  1224500          374.07   \n6   4/12/2021  378.260010      96  379.149994  1165100          377.00   \n7   4/13/2021  378.670013      90  384.399994   985100          378.26   \n8   4/14/2021  381.500000      92  382.980011  1077100          378.67   \n9   4/15/2021  382.140015      88  385.950012  1127000          381.50   \n10  4/16/2021  383.070007      80  386.059998  1092000          382.14   \n11  4/19/2021  380.720001      92  383.679993  1145100          383.07   \n12  4/20/2021  370.269989      76  380.739990  1807400          380.72   \n13  4/21/2021  375.600006      77  375.829987  1819900          370.27   \n14  4/22/2021  368.359985      80  377.239990  1880200          375.60   \n15  4/23/2021  376.269989      82  377.690002  1301300          368.36   \n16  4/26/2021  380.450012      91  383.799988  1235700          376.27   \n17  4/27/2021  382.359985      84  383.500000   925700          380.45   \n18  4/28/2021  379.799988      92  384.510010   891000          382.36   \n19  4/29/2021  376.390015      84  382.839996  1104500          379.80   \n20  4/30/2021  370.850006      80  373.529999  1196700          376.39   \n21   5/3/2021  373.769989      82  377.750000   924600          370.85   \n22   5/4/2021  379.579987      82  381.000000  1692300          373.77   \n23   5/5/2021  378.859985      80  383.339996  1460800          379.58   \n24   5/6/2021  389.910004      79  391.000000  2010900          378.86   \n25   5/7/2021  394.220001      81  396.899994  1597200          389.91   \n26  5/10/2021  391.399994      83  400.339996  1601300          394.22   \n27  5/11/2021  383.200012      83  389.179993  1588500          391.40   \n28  5/12/2021  373.630005      68  388.529999  1631600          383.20   \n29  5/13/2021  378.109985      74  379.839996  1483400          373.63   \n30  5/14/2021  384.000000      80  386.709991  1143600          378.11   \n31  5/17/2021  383.549988      86  385.649994  1170200          384.00   \n32  5/18/2021  369.690002      85  386.320007  1664800          383.55   \n33  5/19/2021  358.420013      77  362.179993  2800600          369.69   \n34  5/20/2021  355.220001      88  359.000000  2947000          358.42   \n35  5/21/2021  359.750000      76  368.390015  3614400          355.22   \n36  5/24/2021  359.359985      79  362.489990  1914700          359.75   \n37  5/25/2021  360.690002      77  367.799988  1682300          359.36   \n38  5/26/2021  357.739990      78  361.250000  1949800          360.69   \n39  5/27/2021  362.209991      88  363.500000  3337100          357.74   \n40  5/28/2021  361.100006      77  363.540009  1348100          362.21   \n41   6/1/2021  364.609985      72  369.250000  1483500          361.10   \n42   6/2/2021  356.709991      67  365.309998  1882700          364.61   \n43   6/3/2021  358.910004      77  363.429993  1336800          356.71   \n44   6/4/2021  356.640015      79  361.440002  1279300          358.91   \n45   6/7/2021  355.429993      75  359.700012  1537000          356.64   \n46   6/8/2021  356.579987      77  359.470001  1521700          355.43   \n47   6/9/2021  349.529999      80  355.910004  2000800          356.58   \n48  6/10/2021  341.440002      74  354.399994  2232000          349.53   \n49  6/11/2021  341.570007      78  346.500000  2028400          341.44   \n50  6/14/2021  335.540009      79  342.429993  2775000          341.57   \n51  6/15/2021  338.100006      78  339.029999  1722400          335.54   \n52  6/16/2021  336.559998      81  340.000000  2264600          338.10   \n53  6/17/2021  328.380005      66  336.910004  3387800          336.56   \n54  6/18/2021  328.970001      81  331.850006  2930600          328.38   \n55  6/21/2021  337.880005      71  338.760010  2010700          328.97   \n56  6/22/2021  342.100006      71  342.649994  1677400          337.88   \n57  6/23/2021  347.750000      71  349.170013  3352700          342.10   \n58  6/24/2021  350.619995      74  354.739990  2140200          347.75   \n59  6/25/2021  349.989990      80  355.890015  6604800          350.62   \n60  6/28/2021  349.890015      72  350.950012  1304200          349.99   \n61  6/29/2021  348.929993      66  352.700012  1213400          349.89   \n\n    trend_daily_increase  price_daily_increase  \n1                      1                     1  \n2                      0                     1  \n3                      1                     0  \n4                      0                     0  \n5                      1                     1  \n6                      1                     1  \n7                      0                     1  \n8                      1                     1  \n9                      0                     1  \n10                     0                     1  \n11                     1                     0  \n12                     0                     0  \n13                     1                     1  \n14                     1                     0  \n15                     1                     1  \n16                     1                     1  \n17                     0                     1  \n18                     1                     0  \n19                     0                     0  \n20                     0                     0  \n21                     1                     1  \n22                     0                     1  \n23                     0                     0  \n24                     0                     1  \n25                     1                     1  \n26                     1                     0  \n27                     0                     0  \n28                     0                     0  \n29                     1                     1  \n30                     1                     1  \n31                     1                     0  \n32                     0                     0  \n33                     0                     0  \n34                     1                     0  \n35                     0                     1  \n36                     1                     0  \n37                     0                     1  \n38                     1                     0  \n39                     1                     1  \n40                     0                     0  \n41                     0                     1  \n42                     0                     0  \n43                     1                     1  \n44                     1                     0  \n45                     0                     0  \n46                     1                     1  \n47                     1                     0  \n48                     0                     0  \n49                     1                     1  \n50                     1                     0  \n51                     0                     1  \n52                     1                     0  \n53                     0                     0  \n54                     1                     1  \n55                     0                     1  \n56                     0                     1  \n57                     0                     1  \n58                     1                     1  \n59                     1                     0  \n60                     0                     0  \n61                     0                     0  ",
      "text/html": "<div>\n<style scoped>\n    .dataframe tbody tr th:only-of-type {\n        vertical-align: middle;\n    }\n\n    .dataframe tbody tr th {\n        vertical-align: top;\n    }\n\n    .dataframe thead th {\n        text-align: right;\n    }\n</style>\n<table border=\"1\" class=\"dataframe\">\n  <thead>\n    <tr style=\"text-align: right;\">\n      <th></th>\n      <th>Date</th>\n      <th>Price</th>\n      <th>Trends</th>\n      <th>High</th>\n      <th>Volume</th>\n      <th>Previous_Close</th>\n      <th>trend_daily_increase</th>\n      <th>price_daily_increase</th>\n    </tr>\n  </thead>\n  <tbody>\n    <tr>\n      <th>1</th>\n      <td>4/5/2021</td>\n      <td>374.809998</td>\n      <td>88</td>\n      <td>377.940002</td>\n      <td>1419500</td>\n      <td>372.12</td>\n      <td>1</td>\n      <td>1</td>\n    </tr>\n    <tr>\n      <th>2</th>\n      <td>4/6/2021</td>\n      <td>375.609985</td>\n      <td>83</td>\n      <td>381.839996</td>\n      <td>1309700</td>\n      <td>374.81</td>\n      <td>0</td>\n      <td>1</td>\n    </tr>\n    <tr>\n      <th>3</th>\n      <td>4/7/2021</td>\n      <td>374.790009</td>\n      <td>88</td>\n      <td>378.880005</td>\n      <td>1299300</td>\n      <td>375.61</td>\n      <td>1</td>\n      <td>0</td>\n    </tr>\n    <tr>\n      <th>4</th>\n      <td>4/8/2021</td>\n      <td>374.070007</td>\n      <td>79</td>\n      <td>374.529999</td>\n      <td>1250700</td>\n      <td>374.79</td>\n      <td>0</td>\n      <td>0</td>\n    </tr>\n    <tr>\n      <th>5</th>\n      <td>4/9/2021</td>\n      <td>377.000000</td>\n      <td>82</td>\n      <td>378.079987</td>\n      <td>1224500</td>\n      <td>374.07</td>\n      <td>1</td>\n      <td>1</td>\n    </tr>\n    <tr>\n      <th>6</th>\n      <td>4/12/2021</td>\n      <td>378.260010</td>\n      <td>96</td>\n      <td>379.149994</td>\n      <td>1165100</td>\n      <td>377.00</td>\n      <td>1</td>\n      <td>1</td>\n    </tr>\n    <tr>\n      <th>7</th>\n      <td>4/13/2021</td>\n      <td>378.670013</td>\n      <td>90</td>\n      <td>384.399994</td>\n      <td>985100</td>\n      <td>378.26</td>\n      <td>0</td>\n      <td>1</td>\n    </tr>\n    <tr>\n      <th>8</th>\n      <td>4/14/2021</td>\n      <td>381.500000</td>\n      <td>92</td>\n      <td>382.980011</td>\n      <td>1077100</td>\n      <td>378.67</td>\n      <td>1</td>\n      <td>1</td>\n    </tr>\n    <tr>\n      <th>9</th>\n      <td>4/15/2021</td>\n      <td>382.140015</td>\n      <td>88</td>\n      <td>385.950012</td>\n      <td>1127000</td>\n      <td>381.50</td>\n      <td>0</td>\n      <td>1</td>\n    </tr>\n    <tr>\n      <th>10</th>\n      <td>4/16/2021</td>\n      <td>383.070007</td>\n      <td>80</td>\n      <td>386.059998</td>\n      <td>1092000</td>\n      <td>382.14</td>\n      <td>0</td>\n      <td>1</td>\n    </tr>\n    <tr>\n      <th>11</th>\n      <td>4/19/2021</td>\n      <td>380.720001</td>\n      <td>92</td>\n      <td>383.679993</td>\n      <td>1145100</td>\n      <td>383.07</td>\n      <td>1</td>\n      <td>0</td>\n    </tr>\n    <tr>\n      <th>12</th>\n      <td>4/20/2021</td>\n      <td>370.269989</td>\n      <td>76</td>\n      <td>380.739990</td>\n      <td>1807400</td>\n      <td>380.72</td>\n      <td>0</td>\n      <td>0</td>\n    </tr>\n    <tr>\n      <th>13</th>\n      <td>4/21/2021</td>\n      <td>375.600006</td>\n      <td>77</td>\n      <td>375.829987</td>\n      <td>1819900</td>\n      <td>370.27</td>\n      <td>1</td>\n      <td>1</td>\n    </tr>\n    <tr>\n      <th>14</th>\n      <td>4/22/2021</td>\n      <td>368.359985</td>\n      <td>80</td>\n      <td>377.239990</td>\n      <td>1880200</td>\n      <td>375.60</td>\n      <td>1</td>\n      <td>0</td>\n    </tr>\n    <tr>\n      <th>15</th>\n      <td>4/23/2021</td>\n      <td>376.269989</td>\n      <td>82</td>\n      <td>377.690002</td>\n      <td>1301300</td>\n      <td>368.36</td>\n      <td>1</td>\n      <td>1</td>\n    </tr>\n    <tr>\n      <th>16</th>\n      <td>4/26/2021</td>\n      <td>380.450012</td>\n      <td>91</td>\n      <td>383.799988</td>\n      <td>1235700</td>\n      <td>376.27</td>\n      <td>1</td>\n      <td>1</td>\n    </tr>\n    <tr>\n      <th>17</th>\n      <td>4/27/2021</td>\n      <td>382.359985</td>\n      <td>84</td>\n      <td>383.500000</td>\n      <td>925700</td>\n      <td>380.45</td>\n      <td>0</td>\n      <td>1</td>\n    </tr>\n    <tr>\n      <th>18</th>\n      <td>4/28/2021</td>\n      <td>379.799988</td>\n      <td>92</td>\n      <td>384.510010</td>\n      <td>891000</td>\n      <td>382.36</td>\n      <td>1</td>\n      <td>0</td>\n    </tr>\n    <tr>\n      <th>19</th>\n      <td>4/29/2021</td>\n      <td>376.390015</td>\n      <td>84</td>\n      <td>382.839996</td>\n      <td>1104500</td>\n      <td>379.80</td>\n      <td>0</td>\n      <td>0</td>\n    </tr>\n    <tr>\n      <th>20</th>\n      <td>4/30/2021</td>\n      <td>370.850006</td>\n      <td>80</td>\n      <td>373.529999</td>\n      <td>1196700</td>\n      <td>376.39</td>\n      <td>0</td>\n      <td>0</td>\n    </tr>\n    <tr>\n      <th>21</th>\n      <td>5/3/2021</td>\n      <td>373.769989</td>\n      <td>82</td>\n      <td>377.750000</td>\n      <td>924600</td>\n      <td>370.85</td>\n      <td>1</td>\n      <td>1</td>\n    </tr>\n    <tr>\n      <th>22</th>\n      <td>5/4/2021</td>\n      <td>379.579987</td>\n      <td>82</td>\n      <td>381.000000</td>\n      <td>1692300</td>\n      <td>373.77</td>\n      <td>0</td>\n      <td>1</td>\n    </tr>\n    <tr>\n      <th>23</th>\n      <td>5/5/2021</td>\n      <td>378.859985</td>\n      <td>80</td>\n      <td>383.339996</td>\n      <td>1460800</td>\n      <td>379.58</td>\n      <td>0</td>\n      <td>0</td>\n    </tr>\n    <tr>\n      <th>24</th>\n      <td>5/6/2021</td>\n      <td>389.910004</td>\n      <td>79</td>\n      <td>391.000000</td>\n      <td>2010900</td>\n      <td>378.86</td>\n      <td>0</td>\n      <td>1</td>\n    </tr>\n    <tr>\n      <th>25</th>\n      <td>5/7/2021</td>\n      <td>394.220001</td>\n      <td>81</td>\n      <td>396.899994</td>\n      <td>1597200</td>\n      <td>389.91</td>\n      <td>1</td>\n      <td>1</td>\n    </tr>\n    <tr>\n      <th>26</th>\n      <td>5/10/2021</td>\n      <td>391.399994</td>\n      <td>83</td>\n      <td>400.339996</td>\n      <td>1601300</td>\n      <td>394.22</td>\n      <td>1</td>\n      <td>0</td>\n    </tr>\n    <tr>\n      <th>27</th>\n      <td>5/11/2021</td>\n      <td>383.200012</td>\n      <td>83</td>\n      <td>389.179993</td>\n      <td>1588500</td>\n      <td>391.40</td>\n      <td>0</td>\n      <td>0</td>\n    </tr>\n    <tr>\n      <th>28</th>\n      <td>5/12/2021</td>\n      <td>373.630005</td>\n      <td>68</td>\n      <td>388.529999</td>\n      <td>1631600</td>\n      <td>383.20</td>\n      <td>0</td>\n      <td>0</td>\n    </tr>\n    <tr>\n      <th>29</th>\n      <td>5/13/2021</td>\n      <td>378.109985</td>\n      <td>74</td>\n      <td>379.839996</td>\n      <td>1483400</td>\n      <td>373.63</td>\n      <td>1</td>\n      <td>1</td>\n    </tr>\n    <tr>\n      <th>30</th>\n      <td>5/14/2021</td>\n      <td>384.000000</td>\n      <td>80</td>\n      <td>386.709991</td>\n      <td>1143600</td>\n      <td>378.11</td>\n      <td>1</td>\n      <td>1</td>\n    </tr>\n    <tr>\n      <th>31</th>\n      <td>5/17/2021</td>\n      <td>383.549988</td>\n      <td>86</td>\n      <td>385.649994</td>\n      <td>1170200</td>\n      <td>384.00</td>\n      <td>1</td>\n      <td>0</td>\n    </tr>\n    <tr>\n      <th>32</th>\n      <td>5/18/2021</td>\n      <td>369.690002</td>\n      <td>85</td>\n      <td>386.320007</td>\n      <td>1664800</td>\n      <td>383.55</td>\n      <td>0</td>\n      <td>0</td>\n    </tr>\n    <tr>\n      <th>33</th>\n      <td>5/19/2021</td>\n      <td>358.420013</td>\n      <td>77</td>\n      <td>362.179993</td>\n      <td>2800600</td>\n      <td>369.69</td>\n      <td>0</td>\n      <td>0</td>\n    </tr>\n    <tr>\n      <th>34</th>\n      <td>5/20/2021</td>\n      <td>355.220001</td>\n      <td>88</td>\n      <td>359.000000</td>\n      <td>2947000</td>\n      <td>358.42</td>\n      <td>1</td>\n      <td>0</td>\n    </tr>\n    <tr>\n      <th>35</th>\n      <td>5/21/2021</td>\n      <td>359.750000</td>\n      <td>76</td>\n      <td>368.390015</td>\n      <td>3614400</td>\n      <td>355.22</td>\n      <td>0</td>\n      <td>1</td>\n    </tr>\n    <tr>\n      <th>36</th>\n      <td>5/24/2021</td>\n      <td>359.359985</td>\n      <td>79</td>\n      <td>362.489990</td>\n      <td>1914700</td>\n      <td>359.75</td>\n      <td>1</td>\n      <td>0</td>\n    </tr>\n    <tr>\n      <th>37</th>\n      <td>5/25/2021</td>\n      <td>360.690002</td>\n      <td>77</td>\n      <td>367.799988</td>\n      <td>1682300</td>\n      <td>359.36</td>\n      <td>0</td>\n      <td>1</td>\n    </tr>\n    <tr>\n      <th>38</th>\n      <td>5/26/2021</td>\n      <td>357.739990</td>\n      <td>78</td>\n      <td>361.250000</td>\n      <td>1949800</td>\n      <td>360.69</td>\n      <td>1</td>\n      <td>0</td>\n    </tr>\n    <tr>\n      <th>39</th>\n      <td>5/27/2021</td>\n      <td>362.209991</td>\n      <td>88</td>\n      <td>363.500000</td>\n      <td>3337100</td>\n      <td>357.74</td>\n      <td>1</td>\n      <td>1</td>\n    </tr>\n    <tr>\n      <th>40</th>\n      <td>5/28/2021</td>\n      <td>361.100006</td>\n      <td>77</td>\n      <td>363.540009</td>\n      <td>1348100</td>\n      <td>362.21</td>\n      <td>0</td>\n      <td>0</td>\n    </tr>\n    <tr>\n      <th>41</th>\n      <td>6/1/2021</td>\n      <td>364.609985</td>\n      <td>72</td>\n      <td>369.250000</td>\n      <td>1483500</td>\n      <td>361.10</td>\n      <td>0</td>\n      <td>1</td>\n    </tr>\n    <tr>\n      <th>42</th>\n      <td>6/2/2021</td>\n      <td>356.709991</td>\n      <td>67</td>\n      <td>365.309998</td>\n      <td>1882700</td>\n      <td>364.61</td>\n      <td>0</td>\n      <td>0</td>\n    </tr>\n    <tr>\n      <th>43</th>\n      <td>6/3/2021</td>\n      <td>358.910004</td>\n      <td>77</td>\n      <td>363.429993</td>\n      <td>1336800</td>\n      <td>356.71</td>\n      <td>1</td>\n      <td>1</td>\n    </tr>\n    <tr>\n      <th>44</th>\n      <td>6/4/2021</td>\n      <td>356.640015</td>\n      <td>79</td>\n      <td>361.440002</td>\n      <td>1279300</td>\n      <td>358.91</td>\n      <td>1</td>\n      <td>0</td>\n    </tr>\n    <tr>\n      <th>45</th>\n      <td>6/7/2021</td>\n      <td>355.429993</td>\n      <td>75</td>\n      <td>359.700012</td>\n      <td>1537000</td>\n      <td>356.64</td>\n      <td>0</td>\n      <td>0</td>\n    </tr>\n    <tr>\n      <th>46</th>\n      <td>6/8/2021</td>\n      <td>356.579987</td>\n      <td>77</td>\n      <td>359.470001</td>\n      <td>1521700</td>\n      <td>355.43</td>\n      <td>1</td>\n      <td>1</td>\n    </tr>\n    <tr>\n      <th>47</th>\n      <td>6/9/2021</td>\n      <td>349.529999</td>\n      <td>80</td>\n      <td>355.910004</td>\n      <td>2000800</td>\n      <td>356.58</td>\n      <td>1</td>\n      <td>0</td>\n    </tr>\n    <tr>\n      <th>48</th>\n      <td>6/10/2021</td>\n      <td>341.440002</td>\n      <td>74</td>\n      <td>354.399994</td>\n      <td>2232000</td>\n      <td>349.53</td>\n      <td>0</td>\n      <td>0</td>\n    </tr>\n    <tr>\n      <th>49</th>\n      <td>6/11/2021</td>\n      <td>341.570007</td>\n      <td>78</td>\n      <td>346.500000</td>\n      <td>2028400</td>\n      <td>341.44</td>\n      <td>1</td>\n      <td>1</td>\n    </tr>\n    <tr>\n      <th>50</th>\n      <td>6/14/2021</td>\n      <td>335.540009</td>\n      <td>79</td>\n      <td>342.429993</td>\n      <td>2775000</td>\n      <td>341.57</td>\n      <td>1</td>\n      <td>0</td>\n    </tr>\n    <tr>\n      <th>51</th>\n      <td>6/15/2021</td>\n      <td>338.100006</td>\n      <td>78</td>\n      <td>339.029999</td>\n      <td>1722400</td>\n      <td>335.54</td>\n      <td>0</td>\n      <td>1</td>\n    </tr>\n    <tr>\n      <th>52</th>\n      <td>6/16/2021</td>\n      <td>336.559998</td>\n      <td>81</td>\n      <td>340.000000</td>\n      <td>2264600</td>\n      <td>338.10</td>\n      <td>1</td>\n      <td>0</td>\n    </tr>\n    <tr>\n      <th>53</th>\n      <td>6/17/2021</td>\n      <td>328.380005</td>\n      <td>66</td>\n      <td>336.910004</td>\n      <td>3387800</td>\n      <td>336.56</td>\n      <td>0</td>\n      <td>0</td>\n    </tr>\n    <tr>\n      <th>54</th>\n      <td>6/18/2021</td>\n      <td>328.970001</td>\n      <td>81</td>\n      <td>331.850006</td>\n      <td>2930600</td>\n      <td>328.38</td>\n      <td>1</td>\n      <td>1</td>\n    </tr>\n    <tr>\n      <th>55</th>\n      <td>6/21/2021</td>\n      <td>337.880005</td>\n      <td>71</td>\n      <td>338.760010</td>\n      <td>2010700</td>\n      <td>328.97</td>\n      <td>0</td>\n      <td>1</td>\n    </tr>\n    <tr>\n      <th>56</th>\n      <td>6/22/2021</td>\n      <td>342.100006</td>\n      <td>71</td>\n      <td>342.649994</td>\n      <td>1677400</td>\n      <td>337.88</td>\n      <td>0</td>\n      <td>1</td>\n    </tr>\n    <tr>\n      <th>57</th>\n      <td>6/23/2021</td>\n      <td>347.750000</td>\n      <td>71</td>\n      <td>349.170013</td>\n      <td>3352700</td>\n      <td>342.10</td>\n      <td>0</td>\n      <td>1</td>\n    </tr>\n    <tr>\n      <th>58</th>\n      <td>6/24/2021</td>\n      <td>350.619995</td>\n      <td>74</td>\n      <td>354.739990</td>\n      <td>2140200</td>\n      <td>347.75</td>\n      <td>1</td>\n      <td>1</td>\n    </tr>\n    <tr>\n      <th>59</th>\n      <td>6/25/2021</td>\n      <td>349.989990</td>\n      <td>80</td>\n      <td>355.890015</td>\n      <td>6604800</td>\n      <td>350.62</td>\n      <td>1</td>\n      <td>0</td>\n    </tr>\n    <tr>\n      <th>60</th>\n      <td>6/28/2021</td>\n      <td>349.890015</td>\n      <td>72</td>\n      <td>350.950012</td>\n      <td>1304200</td>\n      <td>349.99</td>\n      <td>0</td>\n      <td>0</td>\n    </tr>\n    <tr>\n      <th>61</th>\n      <td>6/29/2021</td>\n      <td>348.929993</td>\n      <td>66</td>\n      <td>352.700012</td>\n      <td>1213400</td>\n      <td>349.89</td>\n      <td>0</td>\n      <td>0</td>\n    </tr>\n  </tbody>\n</table>\n</div>"
     },
     "execution_count": 472,
     "metadata": {},
     "output_type": "execute_result"
    }
   ],
   "source": [
    "# Need to prepare the data seperately for logistic regression becuase our feature and target vectors will be different\n",
    "JDStockTrend"
   ],
   "metadata": {
    "collapsed": false,
    "pycharm": {
     "name": "#%%\n"
    }
   }
  },
  {
   "cell_type": "code",
   "execution_count": 473,
   "outputs": [
    {
     "data": {
      "text/plain": "    Trends  Previous_Close   Volume  trend_daily_increase\n1       88          372.12  1419500                     1\n2       83          374.81  1309700                     0\n3       88          375.61  1299300                     1\n4       79          374.79  1250700                     0\n5       82          374.07  1224500                     1\n6       96          377.00  1165100                     1\n7       90          378.26   985100                     0\n8       92          378.67  1077100                     1\n9       88          381.50  1127000                     0\n10      80          382.14  1092000                     0\n11      92          383.07  1145100                     1\n12      76          380.72  1807400                     0\n13      77          370.27  1819900                     1\n14      80          375.60  1880200                     1\n15      82          368.36  1301300                     1\n16      91          376.27  1235700                     1\n17      84          380.45   925700                     0\n18      92          382.36   891000                     1\n19      84          379.80  1104500                     0\n20      80          376.39  1196700                     0\n21      82          370.85   924600                     1\n22      82          373.77  1692300                     0\n23      80          379.58  1460800                     0\n24      79          378.86  2010900                     0\n25      81          389.91  1597200                     1\n26      83          394.22  1601300                     1\n27      83          391.40  1588500                     0\n28      68          383.20  1631600                     0\n29      74          373.63  1483400                     1\n30      80          378.11  1143600                     1\n31      86          384.00  1170200                     1\n32      85          383.55  1664800                     0\n33      77          369.69  2800600                     0\n34      88          358.42  2947000                     1\n35      76          355.22  3614400                     0\n36      79          359.75  1914700                     1\n37      77          359.36  1682300                     0\n38      78          360.69  1949800                     1\n39      88          357.74  3337100                     1\n40      77          362.21  1348100                     0\n41      72          361.10  1483500                     0\n42      67          364.61  1882700                     0\n43      77          356.71  1336800                     1\n44      79          358.91  1279300                     1\n45      75          356.64  1537000                     0\n46      77          355.43  1521700                     1\n47      80          356.58  2000800                     1\n48      74          349.53  2232000                     0\n49      78          341.44  2028400                     1\n50      79          341.57  2775000                     1\n51      78          335.54  1722400                     0\n52      81          338.10  2264600                     1\n53      66          336.56  3387800                     0\n54      81          328.38  2930600                     1\n55      71          328.97  2010700                     0\n56      71          337.88  1677400                     0\n57      71          342.10  3352700                     0\n58      74          347.75  2140200                     1\n59      80          350.62  6604800                     1\n60      72          349.99  1304200                     0\n61      66          349.89  1213400                     0",
      "text/html": "<div>\n<style scoped>\n    .dataframe tbody tr th:only-of-type {\n        vertical-align: middle;\n    }\n\n    .dataframe tbody tr th {\n        vertical-align: top;\n    }\n\n    .dataframe thead th {\n        text-align: right;\n    }\n</style>\n<table border=\"1\" class=\"dataframe\">\n  <thead>\n    <tr style=\"text-align: right;\">\n      <th></th>\n      <th>Trends</th>\n      <th>Previous_Close</th>\n      <th>Volume</th>\n      <th>trend_daily_increase</th>\n    </tr>\n  </thead>\n  <tbody>\n    <tr>\n      <th>1</th>\n      <td>88</td>\n      <td>372.12</td>\n      <td>1419500</td>\n      <td>1</td>\n    </tr>\n    <tr>\n      <th>2</th>\n      <td>83</td>\n      <td>374.81</td>\n      <td>1309700</td>\n      <td>0</td>\n    </tr>\n    <tr>\n      <th>3</th>\n      <td>88</td>\n      <td>375.61</td>\n      <td>1299300</td>\n      <td>1</td>\n    </tr>\n    <tr>\n      <th>4</th>\n      <td>79</td>\n      <td>374.79</td>\n      <td>1250700</td>\n      <td>0</td>\n    </tr>\n    <tr>\n      <th>5</th>\n      <td>82</td>\n      <td>374.07</td>\n      <td>1224500</td>\n      <td>1</td>\n    </tr>\n    <tr>\n      <th>6</th>\n      <td>96</td>\n      <td>377.00</td>\n      <td>1165100</td>\n      <td>1</td>\n    </tr>\n    <tr>\n      <th>7</th>\n      <td>90</td>\n      <td>378.26</td>\n      <td>985100</td>\n      <td>0</td>\n    </tr>\n    <tr>\n      <th>8</th>\n      <td>92</td>\n      <td>378.67</td>\n      <td>1077100</td>\n      <td>1</td>\n    </tr>\n    <tr>\n      <th>9</th>\n      <td>88</td>\n      <td>381.50</td>\n      <td>1127000</td>\n      <td>0</td>\n    </tr>\n    <tr>\n      <th>10</th>\n      <td>80</td>\n      <td>382.14</td>\n      <td>1092000</td>\n      <td>0</td>\n    </tr>\n    <tr>\n      <th>11</th>\n      <td>92</td>\n      <td>383.07</td>\n      <td>1145100</td>\n      <td>1</td>\n    </tr>\n    <tr>\n      <th>12</th>\n      <td>76</td>\n      <td>380.72</td>\n      <td>1807400</td>\n      <td>0</td>\n    </tr>\n    <tr>\n      <th>13</th>\n      <td>77</td>\n      <td>370.27</td>\n      <td>1819900</td>\n      <td>1</td>\n    </tr>\n    <tr>\n      <th>14</th>\n      <td>80</td>\n      <td>375.60</td>\n      <td>1880200</td>\n      <td>1</td>\n    </tr>\n    <tr>\n      <th>15</th>\n      <td>82</td>\n      <td>368.36</td>\n      <td>1301300</td>\n      <td>1</td>\n    </tr>\n    <tr>\n      <th>16</th>\n      <td>91</td>\n      <td>376.27</td>\n      <td>1235700</td>\n      <td>1</td>\n    </tr>\n    <tr>\n      <th>17</th>\n      <td>84</td>\n      <td>380.45</td>\n      <td>925700</td>\n      <td>0</td>\n    </tr>\n    <tr>\n      <th>18</th>\n      <td>92</td>\n      <td>382.36</td>\n      <td>891000</td>\n      <td>1</td>\n    </tr>\n    <tr>\n      <th>19</th>\n      <td>84</td>\n      <td>379.80</td>\n      <td>1104500</td>\n      <td>0</td>\n    </tr>\n    <tr>\n      <th>20</th>\n      <td>80</td>\n      <td>376.39</td>\n      <td>1196700</td>\n      <td>0</td>\n    </tr>\n    <tr>\n      <th>21</th>\n      <td>82</td>\n      <td>370.85</td>\n      <td>924600</td>\n      <td>1</td>\n    </tr>\n    <tr>\n      <th>22</th>\n      <td>82</td>\n      <td>373.77</td>\n      <td>1692300</td>\n      <td>0</td>\n    </tr>\n    <tr>\n      <th>23</th>\n      <td>80</td>\n      <td>379.58</td>\n      <td>1460800</td>\n      <td>0</td>\n    </tr>\n    <tr>\n      <th>24</th>\n      <td>79</td>\n      <td>378.86</td>\n      <td>2010900</td>\n      <td>0</td>\n    </tr>\n    <tr>\n      <th>25</th>\n      <td>81</td>\n      <td>389.91</td>\n      <td>1597200</td>\n      <td>1</td>\n    </tr>\n    <tr>\n      <th>26</th>\n      <td>83</td>\n      <td>394.22</td>\n      <td>1601300</td>\n      <td>1</td>\n    </tr>\n    <tr>\n      <th>27</th>\n      <td>83</td>\n      <td>391.40</td>\n      <td>1588500</td>\n      <td>0</td>\n    </tr>\n    <tr>\n      <th>28</th>\n      <td>68</td>\n      <td>383.20</td>\n      <td>1631600</td>\n      <td>0</td>\n    </tr>\n    <tr>\n      <th>29</th>\n      <td>74</td>\n      <td>373.63</td>\n      <td>1483400</td>\n      <td>1</td>\n    </tr>\n    <tr>\n      <th>30</th>\n      <td>80</td>\n      <td>378.11</td>\n      <td>1143600</td>\n      <td>1</td>\n    </tr>\n    <tr>\n      <th>31</th>\n      <td>86</td>\n      <td>384.00</td>\n      <td>1170200</td>\n      <td>1</td>\n    </tr>\n    <tr>\n      <th>32</th>\n      <td>85</td>\n      <td>383.55</td>\n      <td>1664800</td>\n      <td>0</td>\n    </tr>\n    <tr>\n      <th>33</th>\n      <td>77</td>\n      <td>369.69</td>\n      <td>2800600</td>\n      <td>0</td>\n    </tr>\n    <tr>\n      <th>34</th>\n      <td>88</td>\n      <td>358.42</td>\n      <td>2947000</td>\n      <td>1</td>\n    </tr>\n    <tr>\n      <th>35</th>\n      <td>76</td>\n      <td>355.22</td>\n      <td>3614400</td>\n      <td>0</td>\n    </tr>\n    <tr>\n      <th>36</th>\n      <td>79</td>\n      <td>359.75</td>\n      <td>1914700</td>\n      <td>1</td>\n    </tr>\n    <tr>\n      <th>37</th>\n      <td>77</td>\n      <td>359.36</td>\n      <td>1682300</td>\n      <td>0</td>\n    </tr>\n    <tr>\n      <th>38</th>\n      <td>78</td>\n      <td>360.69</td>\n      <td>1949800</td>\n      <td>1</td>\n    </tr>\n    <tr>\n      <th>39</th>\n      <td>88</td>\n      <td>357.74</td>\n      <td>3337100</td>\n      <td>1</td>\n    </tr>\n    <tr>\n      <th>40</th>\n      <td>77</td>\n      <td>362.21</td>\n      <td>1348100</td>\n      <td>0</td>\n    </tr>\n    <tr>\n      <th>41</th>\n      <td>72</td>\n      <td>361.10</td>\n      <td>1483500</td>\n      <td>0</td>\n    </tr>\n    <tr>\n      <th>42</th>\n      <td>67</td>\n      <td>364.61</td>\n      <td>1882700</td>\n      <td>0</td>\n    </tr>\n    <tr>\n      <th>43</th>\n      <td>77</td>\n      <td>356.71</td>\n      <td>1336800</td>\n      <td>1</td>\n    </tr>\n    <tr>\n      <th>44</th>\n      <td>79</td>\n      <td>358.91</td>\n      <td>1279300</td>\n      <td>1</td>\n    </tr>\n    <tr>\n      <th>45</th>\n      <td>75</td>\n      <td>356.64</td>\n      <td>1537000</td>\n      <td>0</td>\n    </tr>\n    <tr>\n      <th>46</th>\n      <td>77</td>\n      <td>355.43</td>\n      <td>1521700</td>\n      <td>1</td>\n    </tr>\n    <tr>\n      <th>47</th>\n      <td>80</td>\n      <td>356.58</td>\n      <td>2000800</td>\n      <td>1</td>\n    </tr>\n    <tr>\n      <th>48</th>\n      <td>74</td>\n      <td>349.53</td>\n      <td>2232000</td>\n      <td>0</td>\n    </tr>\n    <tr>\n      <th>49</th>\n      <td>78</td>\n      <td>341.44</td>\n      <td>2028400</td>\n      <td>1</td>\n    </tr>\n    <tr>\n      <th>50</th>\n      <td>79</td>\n      <td>341.57</td>\n      <td>2775000</td>\n      <td>1</td>\n    </tr>\n    <tr>\n      <th>51</th>\n      <td>78</td>\n      <td>335.54</td>\n      <td>1722400</td>\n      <td>0</td>\n    </tr>\n    <tr>\n      <th>52</th>\n      <td>81</td>\n      <td>338.10</td>\n      <td>2264600</td>\n      <td>1</td>\n    </tr>\n    <tr>\n      <th>53</th>\n      <td>66</td>\n      <td>336.56</td>\n      <td>3387800</td>\n      <td>0</td>\n    </tr>\n    <tr>\n      <th>54</th>\n      <td>81</td>\n      <td>328.38</td>\n      <td>2930600</td>\n      <td>1</td>\n    </tr>\n    <tr>\n      <th>55</th>\n      <td>71</td>\n      <td>328.97</td>\n      <td>2010700</td>\n      <td>0</td>\n    </tr>\n    <tr>\n      <th>56</th>\n      <td>71</td>\n      <td>337.88</td>\n      <td>1677400</td>\n      <td>0</td>\n    </tr>\n    <tr>\n      <th>57</th>\n      <td>71</td>\n      <td>342.10</td>\n      <td>3352700</td>\n      <td>0</td>\n    </tr>\n    <tr>\n      <th>58</th>\n      <td>74</td>\n      <td>347.75</td>\n      <td>2140200</td>\n      <td>1</td>\n    </tr>\n    <tr>\n      <th>59</th>\n      <td>80</td>\n      <td>350.62</td>\n      <td>6604800</td>\n      <td>1</td>\n    </tr>\n    <tr>\n      <th>60</th>\n      <td>72</td>\n      <td>349.99</td>\n      <td>1304200</td>\n      <td>0</td>\n    </tr>\n    <tr>\n      <th>61</th>\n      <td>66</td>\n      <td>349.89</td>\n      <td>1213400</td>\n      <td>0</td>\n    </tr>\n  </tbody>\n</table>\n</div>"
     },
     "execution_count": 473,
     "metadata": {},
     "output_type": "execute_result"
    }
   ],
   "source": [
    "#determine feature vectors and target vectors. in this case targeting a classification on whether or not the price would increase based on the previous days closing price, volume traded, and search trends data\n",
    "featureColumns = [\"Trends\",\"Previous_Close\",\"Volume\",\"trend_daily_increase\"]\n",
    "target = \"price_daily_increase\"\n",
    "\n",
    "X=JDStockTrend[featureColumns]\n",
    "y=JDStockTrend[target]\n",
    "\n",
    "X"
   ],
   "metadata": {
    "collapsed": false,
    "pycharm": {
     "name": "#%%\n"
    }
   }
  },
  {
   "cell_type": "code",
   "execution_count": 474,
   "outputs": [
    {
     "data": {
      "text/plain": "1     1\n2     1\n3     0\n4     0\n5     1\n6     1\n7     1\n8     1\n9     1\n10    1\n11    0\n12    0\n13    1\n14    0\n15    1\n16    1\n17    1\n18    0\n19    0\n20    0\n21    1\n22    1\n23    0\n24    1\n25    1\n26    0\n27    0\n28    0\n29    1\n30    1\n31    0\n32    0\n33    0\n34    0\n35    1\n36    0\n37    1\n38    0\n39    1\n40    0\n41    1\n42    0\n43    1\n44    0\n45    0\n46    1\n47    0\n48    0\n49    1\n50    0\n51    1\n52    0\n53    0\n54    1\n55    1\n56    1\n57    1\n58    1\n59    0\n60    0\n61    0\nName: price_daily_increase, dtype: int64"
     },
     "execution_count": 474,
     "metadata": {},
     "output_type": "execute_result"
    }
   ],
   "source": [
    "y"
   ],
   "metadata": {
    "collapsed": false,
    "pycharm": {
     "name": "#%%\n"
    }
   }
  },
  {
   "cell_type": "code",
   "execution_count": 475,
   "outputs": [],
   "source": [
    "X_train, X_test, y_train, y_test = train_test_split(X, y, test_size=0.25)"
   ],
   "metadata": {
    "collapsed": false,
    "pycharm": {
     "name": "#%%\n"
    }
   }
  },
  {
   "cell_type": "markdown",
   "source": [
    "#### Modeling with Logistic Regression (classification)"
   ],
   "metadata": {
    "collapsed": false
   }
  },
  {
   "cell_type": "code",
   "execution_count": 476,
   "outputs": [
    {
     "data": {
      "text/plain": "LogisticRegression(solver='liblinear')"
     },
     "execution_count": 476,
     "metadata": {},
     "output_type": "execute_result"
    }
   ],
   "source": [
    "lr = LogisticRegression(solver=\"liblinear\")\n",
    "lr"
   ],
   "metadata": {
    "collapsed": false,
    "pycharm": {
     "name": "#%%\n"
    }
   }
  },
  {
   "cell_type": "code",
   "execution_count": 477,
   "outputs": [
    {
     "data": {
      "text/plain": "LogisticRegression(solver='liblinear')"
     },
     "execution_count": 477,
     "metadata": {},
     "output_type": "execute_result"
    }
   ],
   "source": [
    "lr.fit(X_train, y_train)"
   ],
   "metadata": {
    "collapsed": false,
    "pycharm": {
     "name": "#%%\n"
    }
   }
  },
  {
   "cell_type": "code",
   "execution_count": 478,
   "outputs": [
    {
     "data": {
      "text/plain": "0.5777777777777777"
     },
     "execution_count": 478,
     "metadata": {},
     "output_type": "execute_result"
    }
   ],
   "source": [
    "lr.score(X_train, y_train)"
   ],
   "metadata": {
    "collapsed": false,
    "pycharm": {
     "name": "#%%\n"
    }
   }
  },
  {
   "cell_type": "code",
   "execution_count": 479,
   "outputs": [
    {
     "data": {
      "text/plain": "0.5"
     },
     "execution_count": 479,
     "metadata": {},
     "output_type": "execute_result"
    }
   ],
   "source": [
    "lr.score(X_test, y_test)"
   ],
   "metadata": {
    "collapsed": false,
    "pycharm": {
     "name": "#%%\n"
    }
   }
  },
  {
   "cell_type": "markdown",
   "source": [
    "#### Classification Metrics Output"
   ],
   "metadata": {
    "collapsed": false
   }
  },
  {
   "cell_type": "code",
   "execution_count": 480,
   "outputs": [
    {
     "name": "stdout",
     "output_type": "stream",
     "text": [
      "Confusion Matrix:\n",
      "[[4 4]\n",
      " [4 4]]\n",
      "------------------\n",
      "Accuracy: 0.50\n",
      "Recall: 0.50\n",
      "Prediction: 0.50\n",
      "f-measure: 0.50\n",
      "------------------\n",
      "              precision    recall  f1-score   support\n",
      "\n",
      "           0       0.50      0.50      0.50         8\n",
      "           1       0.50      0.50      0.50         8\n",
      "\n",
      "    accuracy                           0.50        16\n",
      "   macro avg       0.50      0.50      0.50        16\n",
      "weighted avg       0.50      0.50      0.50        16\n",
      "\n"
     ]
    }
   ],
   "source": [
    "predictions = lr.predict(X_test)\n",
    "PrintMetricsClassiffication(y_test, predictions)"
   ],
   "metadata": {
    "collapsed": false,
    "pycharm": {
     "name": "#%%\n"
    }
   }
  },
  {
   "cell_type": "markdown",
   "source": [
    "#### Predict with the samples that were generated above"
   ],
   "metadata": {
    "collapsed": false
   }
  },
  {
   "cell_type": "code",
   "execution_count": 481,
   "outputs": [
    {
     "data": {
      "text/plain": "[{'Trends': 63,\n  'Previous_Close': 335,\n  'Volume': 1136452,\n  'trend_daily_increase': 0},\n {'Trends': 28,\n  'Previous_Close': 158,\n  'Volume': 3137419,\n  'trend_daily_increase': 0},\n {'Trends': 91,\n  'Previous_Close': 286,\n  'Volume': 1718015,\n  'trend_daily_increase': 0}]"
     },
     "execution_count": 481,
     "metadata": {},
     "output_type": "execute_result"
    }
   ],
   "source": [
    "sampleStockTrend"
   ],
   "metadata": {
    "collapsed": false,
    "pycharm": {
     "name": "#%%\n"
    }
   }
  },
  {
   "cell_type": "code",
   "execution_count": 482,
   "outputs": [],
   "source": [
    "pdSampleStockTrend = pd.DataFrame.from_dict(sampleStockTrend)"
   ],
   "metadata": {
    "collapsed": false,
    "pycharm": {
     "name": "#%%\n"
    }
   }
  },
  {
   "cell_type": "code",
   "execution_count": 483,
   "outputs": [
    {
     "data": {
      "text/plain": "array([1, 0, 0])"
     },
     "execution_count": 483,
     "metadata": {},
     "output_type": "execute_result"
    }
   ],
   "source": [
    "predictions = lr.predict(pdSampleStockTrend)\n",
    "predictions"
   ],
   "metadata": {
    "collapsed": false,
    "pycharm": {
     "name": "#%%\n"
    }
   }
  },
  {
   "cell_type": "code",
   "execution_count": 484,
   "outputs": [
    {
     "data": {
      "text/plain": "   Trends  Previous_Close   Volume  trend_daily_increase  price_daily_increse\n0      63             335  1136452                     0                 True\n1      28             158  3137419                     0                False\n2      91             286  1718015                     0                False",
      "text/html": "<div>\n<style scoped>\n    .dataframe tbody tr th:only-of-type {\n        vertical-align: middle;\n    }\n\n    .dataframe tbody tr th {\n        vertical-align: top;\n    }\n\n    .dataframe thead th {\n        text-align: right;\n    }\n</style>\n<table border=\"1\" class=\"dataframe\">\n  <thead>\n    <tr style=\"text-align: right;\">\n      <th></th>\n      <th>Trends</th>\n      <th>Previous_Close</th>\n      <th>Volume</th>\n      <th>trend_daily_increase</th>\n      <th>price_daily_increse</th>\n    </tr>\n  </thead>\n  <tbody>\n    <tr>\n      <th>0</th>\n      <td>63</td>\n      <td>335</td>\n      <td>1136452</td>\n      <td>0</td>\n      <td>True</td>\n    </tr>\n    <tr>\n      <th>1</th>\n      <td>28</td>\n      <td>158</td>\n      <td>3137419</td>\n      <td>0</td>\n      <td>False</td>\n    </tr>\n    <tr>\n      <th>2</th>\n      <td>91</td>\n      <td>286</td>\n      <td>1718015</td>\n      <td>0</td>\n      <td>False</td>\n    </tr>\n  </tbody>\n</table>\n</div>"
     },
     "execution_count": 484,
     "metadata": {},
     "output_type": "execute_result"
    }
   ],
   "source": [
    "pdPredictedStockTrend = pdSampleStockTrend\n",
    "pdPredictedStockTrend[\"price_daily_increse\"] = predictions.astype(bool)\n",
    "pdPredictedStockTrend"
   ],
   "metadata": {
    "collapsed": false,
    "pycharm": {
     "name": "#%%\n"
    }
   }
  },
  {
   "cell_type": "markdown",
   "source": [
    "#### Conclusion\n",
    "\n",
    "Analyzing the current results of the both methods used (linear regression, and logistic regression (Classification). it does seem like the data points to the fact that the linear regrission is a strong canidate for predicting price of John Deere. in each linear regression scenario, the score is around 90%. and the sample data that is generated also seems to develop reasonable price predictions for the closing price. the logistic model (for classification) only has a score of 44%. overall. in some ways, developing a stronger classification model would provide more value for a day trader of stocks becuase it would give them the insight of the confidience to buy shares of a compnay to make money in a short amount of time.\n",
    "\n"
   ],
   "metadata": {
    "collapsed": false,
    "pycharm": {
     "name": "#%% md\n"
    }
   }
  }
 ],
 "metadata": {
  "kernelspec": {
   "display_name": "Kernal1",
   "language": "python",
   "name": "kernal1"
  },
  "language_info": {
   "codemirror_mode": {
    "name": "ipython",
    "version": 3
   },
   "file_extension": ".py",
   "mimetype": "text/x-python",
   "name": "python",
   "nbconvert_exporter": "python",
   "pygments_lexer": "ipython3",
   "version": "3.8.10"
  }
 },
 "nbformat": 4,
 "nbformat_minor": 5
}