{
 "cells": [
  {
   "cell_type": "markdown",
   "source": [
    "# Homework 7 - Stock and Google Search Correlation Analysis 2\n",
    "## Group 1\n",
    "## 20 July 2021"
   ],
   "metadata": {
    "collapsed": false
   }
  },
  {
   "cell_type": "markdown",
   "source": [
    "### Introduction\n",
    "\n",
    "Code imports and performs analysis on daily stock price and interest over time using machine learning\n",
    "* GameStop (GME) <br>\n",
    "* Apple (AAPL) <br>\n",
    "* Coke (KO)<br>\n",
    "* John Deere (DE) <br>\n",
    "* AMC (AMC) <br>\n"
   ],
   "metadata": {
    "collapsed": false
   }
  },
  {
   "cell_type": "markdown",
   "source": [
    "### Import"
   ],
   "metadata": {
    "collapsed": false
   }
  },
  {
   "cell_type": "code",
   "execution_count": null,
   "outputs": [],
   "source": [
    "import yfinance as yf\n",
    "import pandas as pd\n",
    "import numpy as np\n",
    "import os\n",
    "import matplotlib as mp\n",
    "import matplotlib.pyplot as plt\n",
    "import seaborn as sns\n",
    "import plotly.express as px\n",
    "\n",
    "from datetime import date\n",
    "from pytrends.request import TrendReq\n",
    "\n",
    "from sklearn.metrics import confusion_matrix\n",
    "from sklearn.metrics import accuracy_score, recall_score, precision_score, fbeta_score, classification_report\n",
    "import random as rnd\n",
    "\n",
    "%matplotlib inline"
   ],
   "metadata": {
    "collapsed": false,
    "pycharm": {
     "name": "#%%\n"
    }
   }
  },
  {
   "cell_type": "markdown",
   "source": [
    "### Global Varables and Initialization"
   ],
   "metadata": {
    "collapsed": false
   }
  },
  {
   "cell_type": "code",
   "execution_count": null,
   "outputs": [],
   "source": [
    "dataDir = r\"./Data Files/\"  #Directory of all data\n",
    "\n",
    "today = date.today()  # Todays date\n",
    "\n",
    "rnd.seed(1024)"
   ],
   "metadata": {
    "collapsed": false,
    "pycharm": {
     "name": "#%%\n"
    }
   }
  },
  {
   "cell_type": "markdown",
   "source": [
    "### Global Functions"
   ],
   "metadata": {
    "collapsed": false
   }
  },
  {
   "cell_type": "code",
   "execution_count": null,
   "outputs": [],
   "source": [
    "# Function gets stock data and trend data if needed\n",
    "\n",
    "def get_data(ticker):\n",
    "    if os.path.exists(f\"{dataDir}{ticker}_{today}.csv\"):\n",
    "        #Get stored data\n",
    "        stored_data = pd.read_csv(f\"{dataDir}{ticker}_{today}.csv\")\n",
    "        \n",
    "        return stored_data\n",
    "    else:\n",
    "        #Get new data\n",
    "\n",
    "        # Connect to Google API\n",
    "        pytrends = TrendReq(hl='en-US', tz=360)\n",
    "\n",
    "        # Set Keyword\n",
    "        kw_list = [ticker]\n",
    "\n",
    "        # Build Payload\n",
    "        pytrends.build_payload(kw_list, timeframe='2021-04-01 2021-06-30', geo='')\n",
    "\n",
    "        # Get trends Data frame\n",
    "        trend_data = pytrends.interest_over_time()\n",
    "        trend_data.rename(columns = {ticker: \"Search Interest\"},inplace = True)\n",
    "\n",
    "        # Get Stock Data\n",
    "        stock_data = yf.download(ticker, start=\"2021-04-01\", end=\"2021-06-30\", interval=\"1d\")\n",
    "\n",
    "        # Combine Data\n",
    "        new_data = pd.concat([stock_data, trend_data], axis = 1, join = 'inner')\n",
    "\n",
    "        # Export to data folder\n",
    "        new_data.to_csv(f\"{dataDir}{ticker}_{today}.csv\")\n",
    "\n",
    "        return new_data\n",
    "    "
   ],
   "metadata": {
    "collapsed": false,
    "pycharm": {
     "name": "#%%\n"
    }
   }
  },
  {
   "cell_type": "markdown",
   "source": [
    "### Data and Analysis"
   ],
   "metadata": {
    "collapsed": false
   }
  },
  {
   "cell_type": "markdown",
   "source": [
    "#### Gamestop(GME)\n",
    "Connor Moore"
   ],
   "metadata": {
    "collapsed": false
   }
  },
  {
   "cell_type": "markdown",
   "source": [
    "##### Get Data"
   ],
   "metadata": {
    "collapsed": false
   }
  },
  {
   "cell_type": "code",
   "execution_count": null,
   "outputs": [],
   "source": [
    "GME_DF = get_data(\"GME\")\n",
    "\n",
    "# Name unnamed date column\n",
    "GME_DF.rename(columns = {\"Unnamed: 0\": \"Date\"},inplace = True)\n",
    "\n",
    "GME_DF"
   ],
   "metadata": {
    "collapsed": false,
    "pycharm": {
     "name": "#%%\n"
    }
   }
  },
  {
   "cell_type": "code",
   "execution_count": null,
   "outputs": [],
   "source": [
    "# Add difference\n",
    "\n",
    "GME_DF[\"Price Difference\"] = GME_DF[\"Open\"]-GME_DF[\"Close\"]"
   ],
   "metadata": {
    "collapsed": false,
    "pycharm": {
     "name": "#%%\n"
    }
   }
  },
  {
   "cell_type": "code",
   "execution_count": null,
   "outputs": [],
   "source": [
    "# Set date as index\n",
    "GME_DF.set_index('Date', inplace=True)\n",
    "#add rename \n",
    "GME_DF.index = pd.to_datetime(GME_DF.index)\n",
    "GME_DF"
   ],
   "metadata": {
    "collapsed": false,
    "pycharm": {
     "name": "#%%\n"
    }
   }
  },
  {
   "cell_type": "markdown",
   "source": [
    "##### Analysis 1"
   ],
   "metadata": {
    "collapsed": false
   }
  },
  {
   "cell_type": "code",
   "execution_count": null,
   "outputs": [],
   "source": [],
   "metadata": {
    "collapsed": false,
    "pycharm": {
     "name": "#%%\n"
    }
   }
  },
  {
   "cell_type": "markdown",
   "source": [
    "##### Analysis 2"
   ],
   "metadata": {
    "collapsed": false
   }
  },
  {
   "cell_type": "code",
   "execution_count": null,
   "outputs": [],
   "source": [],
   "metadata": {
    "collapsed": false,
    "pycharm": {
     "name": "#%%\n"
    }
   }
  },
  {
   "cell_type": "markdown",
   "source": [
    "#### Apple (AAPL)\n",
    "Ken Cupples"
   ],
   "metadata": {
    "collapsed": false
   }
  },
  {
   "cell_type": "markdown",
   "source": [
    "##### Get Data"
   ],
   "metadata": {
    "collapsed": false
   }
  },
  {
   "cell_type": "code",
   "execution_count": null,
   "outputs": [],
   "source": [
    "#Reads in Apple stock data from a csv file\n",
    "Apple = pd.read_csv(f\"{dataDir}/AAPL.csv\")"
   ],
   "metadata": {
    "collapsed": false,
    "pycharm": {
     "name": "#%%\n"
    }
   }
  },
  {
   "cell_type": "code",
   "execution_count": null,
   "outputs": [],
   "source": [
    "AppleSecondQuarter = get_data('aapl')\n",
    "AppleSecondQuarter"
   ],
   "metadata": {
    "collapsed": false,
    "pycharm": {
     "name": "#%%\n"
    }
   }
  },
  {
   "cell_type": "code",
   "execution_count": null,
   "outputs": [],
   "source": [
    "# Name unnamed date column\n",
    "AppleSecondQuarter.rename(columns = {\"Unnamed: 0\": \"Date\"},inplace = True)\n",
    "AppleSecondQuarter"
   ],
   "metadata": {
    "collapsed": false,
    "pycharm": {
     "name": "#%%\n"
    }
   }
  },
  {
   "cell_type": "markdown",
   "source": [
    "##### Analysis 1"
   ],
   "metadata": {
    "collapsed": false
   }
  },
  {
   "cell_type": "code",
   "execution_count": null,
   "outputs": [],
   "source": [],
   "metadata": {
    "collapsed": false,
    "pycharm": {
     "name": "#%%\n"
    }
   }
  },
  {
   "cell_type": "markdown",
   "source": [
    "##### Analysis 2"
   ],
   "metadata": {
    "collapsed": false
   }
  },
  {
   "cell_type": "code",
   "execution_count": null,
   "outputs": [],
   "source": [],
   "metadata": {
    "collapsed": false,
    "pycharm": {
     "name": "#%%\n"
    }
   }
  },
  {
   "cell_type": "markdown",
   "source": [
    "### Shawn Sonnack\n",
    "AMC"
   ],
   "metadata": {
    "collapsed": false
   }
  },
  {
   "cell_type": "markdown",
   "source": [
    "#### Purpose\n",
    "\n",
    "We are looking to see if there is any correlation to google search interest with stock price changes.  In this data set we have a pulled a number from google between 0 - 100.  At 0 it means that there was little to no traffic compared to normal operation.  At 100 it means that the search traffic for that day was extremely high.\n",
    "\n",
    "First I will dig in to see if search interest and the price it opens at can predict the close price of the day."
   ],
   "metadata": {
    "collapsed": false
   }
  },
  {
   "cell_type": "markdown",
   "source": [],
   "metadata": {
    "collapsed": false
   }
  },
  {
   "cell_type": "markdown",
   "source": [
    "#### Common methods"
   ],
   "metadata": {
    "collapsed": false
   }
  },
  {
   "cell_type": "code",
   "execution_count": null,
   "outputs": [],
   "source": [
    "def printMetrics(test, predictions):\n",
    "    print(f\"Score: {explained_variance_score(test, predictions):.2f}\")\n",
    "    print(f\"MAE: {mean_absolute_error(test, predictions):.2f}\")\n",
    "    print(f\"RMSE: {math.sqrt(mean_squared_error(test, predictions)):.2f}\")\n",
    "    print(f\"r2: {r2_score(test, predictions):.2f}\")\n",
    "\n",
    "def printClassificationMetrics(test, predictions):\n",
    "    print(\"Confusion Matrix:\")\n",
    "    print(confusion_matrix(test, predictions))\n",
    "    print(\"------------------\")\n",
    "    print(f\"Accuracy: {accuracy_score(test, predictions):.2f}\")\n",
    "    print(f\"Recall: {recall_score(test, predictions):.2f}\")\n",
    "    print(f\"Prediction: {precision_score(test, predictions):.2f}\")\n",
    "    print(f\"f-measure: {fbeta_score(test, predictions, beta=1):.2f}\")\n",
    "    print(\"------------------\")\n",
    "    print(classification_report(test, predictions))\n",
    "\n",
    "\n",
    "def prepareDataForPredictions(amcDataFrame):\n",
    "    numElements = 3\n",
    "    amcStockPreparedData = []\n",
    "    for _ in range(numElements):\n",
    "        dict = {}\n",
    "        for column in X.columns:\n",
    "            min = 0  # assume min = 0\n",
    "            maxValue = round(max(amcDataFrame[column].values))\n",
    "            dict[column] = rnd.randint(min, maxValue)\n",
    "        amcStockPreparedData.append(dict)\n",
    "    return amcStockPreparedData"
   ],
   "metadata": {
    "collapsed": false,
    "pycharm": {
     "name": "#%%\n"
    }
   }
  },
  {
   "cell_type": "markdown",
   "source": [
    "#### Pull in prepared data for AMC stock: January 1 - June 30"
   ],
   "metadata": {
    "collapsed": false
   }
  },
  {
   "cell_type": "code",
   "execution_count": null,
   "outputs": [],
   "source": [
    "amcMergedDataFrame = pd.read_csv('Data Files/AMCDataClean.zip')\n",
    "amcMergedDataFrame"
   ],
   "metadata": {
    "collapsed": false,
    "pycharm": {
     "name": "#%%\n"
    }
   }
  },
  {
   "cell_type": "markdown",
   "source": [
    "#### Linear Regression Setup"
   ],
   "metadata": {
    "collapsed": false
   }
  },
  {
   "cell_type": "code",
   "execution_count": null,
   "outputs": [],
   "source": [
    "featureColumns=['Search Interest', 'Open']\n",
    "targetColumn = 'Close'\n",
    "\n",
    "X=amcMergedDataFrame[featureColumns]\n",
    "y=amcMergedDataFrame[targetColumn]\n",
    "\n",
    "X_train, X_test, y_train, y_test = train_test_split(X, y, test_size=0.25, random_state=1)"
   ],
   "metadata": {
    "collapsed": false,
    "pycharm": {
     "name": "#%%\n"
    }
   }
  },
  {
   "cell_type": "markdown",
   "source": [
    "#### Create the regression"
   ],
   "metadata": {
    "collapsed": false
   }
  },
  {
   "cell_type": "code",
   "execution_count": null,
   "outputs": [],
   "source": [
    "lr = LinearRegression()\n",
    "lr"
   ],
   "metadata": {
    "collapsed": false,
    "pycharm": {
     "name": "#%%\n"
    }
   }
  },
  {
   "cell_type": "markdown",
   "source": [
    "#### Fit Linear Model"
   ],
   "metadata": {
    "collapsed": false
   }
  },
  {
   "cell_type": "code",
   "execution_count": null,
   "outputs": [],
   "source": [
    "lr.fit(X_train, y_train)"
   ],
   "metadata": {
    "collapsed": false,
    "pycharm": {
     "name": "#%%\n"
    }
   }
  },
  {
   "cell_type": "markdown",
   "source": [
    "#### How confident are we in our model?"
   ],
   "metadata": {
    "collapsed": false
   }
  },
  {
   "cell_type": "code",
   "execution_count": null,
   "outputs": [],
   "source": [
    "lr.score(X_train, y_train)"
   ],
   "metadata": {
    "collapsed": false,
    "pycharm": {
     "name": "#%%\n"
    }
   }
  },
  {
   "cell_type": "code",
   "execution_count": null,
   "outputs": [],
   "source": [
    "lr.score(X_test, y_test)"
   ],
   "metadata": {
    "collapsed": false,
    "pycharm": {
     "name": "#%%\n"
    }
   }
  },
  {
   "cell_type": "markdown",
   "source": [
    "#### Print the prediction believed accuracy using the model"
   ],
   "metadata": {
    "collapsed": false
   }
  },
  {
   "cell_type": "code",
   "execution_count": null,
   "outputs": [],
   "source": [
    "predictions = lr.predict(X_test)\n",
    "printMetrics(y_test, predictions)"
   ],
   "metadata": {
    "collapsed": false,
    "pycharm": {
     "name": "#%%\n"
    }
   }
  },
  {
   "cell_type": "markdown",
   "source": [
    "#### Create new samples, to test our model"
   ],
   "metadata": {
    "collapsed": false
   }
  },
  {
   "cell_type": "code",
   "execution_count": null,
   "outputs": [],
   "source": [
    "amcStockPreparedData = prepareDataForPredictions(amcMergedDataFrame)"
   ],
   "metadata": {
    "collapsed": false,
    "pycharm": {
     "name": "#%%\n"
    }
   }
  },
  {
   "cell_type": "markdown",
   "source": [
    "#### Prepare the predictions for consumption"
   ],
   "metadata": {
    "collapsed": false
   }
  },
  {
   "cell_type": "code",
   "execution_count": null,
   "outputs": [],
   "source": [
    "amcPreparedData = pd.DataFrame.from_dict(amcStockPreparedData)\n",
    "amcPreparedData"
   ],
   "metadata": {
    "collapsed": false,
    "pycharm": {
     "name": "#%%\n"
    }
   }
  },
  {
   "cell_type": "markdown",
   "source": [
    "#### Predict what the close price will be"
   ],
   "metadata": {
    "collapsed": false
   }
  },
  {
   "cell_type": "code",
   "execution_count": null,
   "outputs": [],
   "source": [
    "predictions = lr.predict(amcPreparedData)\n",
    "predictions"
   ],
   "metadata": {
    "collapsed": false,
    "pycharm": {
     "name": "#%%\n"
    }
   }
  },
  {
   "cell_type": "markdown",
   "source": [
    "#### Make it pretty"
   ],
   "metadata": {
    "collapsed": false
   }
  },
  {
   "cell_type": "code",
   "execution_count": null,
   "outputs": [],
   "source": [
    "amcPredictedPrice = amcPreparedData.copy()\n",
    "amcPredictedPrice['Price Prediction'] = predictions\n",
    "amcPredictedPrice"
   ],
   "metadata": {
    "collapsed": false,
    "pycharm": {
     "name": "#%%\n"
    }
   }
  },
  {
   "cell_type": "markdown",
   "source": [
    "#### Classical - Logistic Regression"
   ],
   "metadata": {
    "collapsed": false
   }
  },
  {
   "cell_type": "code",
   "execution_count": null,
   "outputs": [],
   "source": [
    "amcMergedDataFrame"
   ],
   "metadata": {
    "collapsed": false,
    "pycharm": {
     "name": "#%%\n"
    }
   }
  },
  {
   "cell_type": "markdown",
   "source": [
    "#### Prepare the Data and logistic Columns"
   ],
   "metadata": {
    "collapsed": false
   }
  },
  {
   "cell_type": "code",
   "execution_count": null,
   "outputs": [],
   "source": [
    "amcMergedDataFrame['Price Increase'] = amcMergedDataFrame['Price Increase'].astype(int)\n",
    "amcMergedDataFrame['Search Interest Above Avg'] = amcMergedDataFrame['Search Interest Above Avg'].astype(int)\n",
    "logisticFeatureColumns=['Open', 'Close']\n",
    "logisticTargetColumn = 'Search Interest Above Avg'\n",
    "\n",
    "X=amcMergedDataFrame[logisticFeatureColumns]\n",
    "y=amcMergedDataFrame[logisticTargetColumn]\n"
   ],
   "metadata": {
    "collapsed": false,
    "pycharm": {
     "name": "#%%\n"
    }
   }
  },
  {
   "cell_type": "code",
   "execution_count": null,
   "outputs": [],
   "source": [
    "y"
   ],
   "metadata": {
    "collapsed": false,
    "pycharm": {
     "name": "#%%\n"
    }
   }
  },
  {
   "cell_type": "markdown",
   "source": [
    "#### Train the model with my data from above"
   ],
   "metadata": {
    "collapsed": false
   }
  },
  {
   "cell_type": "code",
   "execution_count": null,
   "outputs": [],
   "source": [
    "X_train, X_test, y_train, y_test = train_test_split(X, y, test_size=0.25, random_state=1)"
   ],
   "metadata": {
    "collapsed": false,
    "pycharm": {
     "name": "#%%\n"
    }
   }
  },
  {
   "cell_type": "markdown",
   "source": [
    "# Create the Logistic Regression"
   ],
   "metadata": {
    "collapsed": false
   }
  },
  {
   "cell_type": "code",
   "execution_count": null,
   "outputs": [],
   "source": [
    "lr = LogisticRegression(solver=\"liblinear\")\n",
    "lr"
   ],
   "metadata": {
    "collapsed": false,
    "pycharm": {
     "name": "#%%\n"
    }
   }
  },
  {
   "cell_type": "markdown",
   "source": [
    "#### Fit the data"
   ],
   "metadata": {
    "collapsed": false
   }
  },
  {
   "cell_type": "code",
   "execution_count": null,
   "outputs": [],
   "source": [
    "lr.fit(X_train, y_train)"
   ],
   "metadata": {
    "collapsed": false,
    "pycharm": {
     "name": "#%%\n"
    }
   }
  },
  {
   "cell_type": "markdown",
   "source": [
    "#### Score the model"
   ],
   "metadata": {
    "collapsed": false
   }
  },
  {
   "cell_type": "code",
   "execution_count": null,
   "outputs": [],
   "source": [
    "lr.score(X_train, y_train)"
   ],
   "metadata": {
    "collapsed": false,
    "pycharm": {
     "name": "#%%\n"
    }
   }
  },
  {
   "cell_type": "code",
   "execution_count": null,
   "outputs": [],
   "source": [
    "lr.score(X_test, y_test)"
   ],
   "metadata": {
    "collapsed": false,
    "pycharm": {
     "name": "#%%\n"
    }
   }
  },
  {
   "cell_type": "markdown",
   "source": [
    "#### Prepare the predictions"
   ],
   "metadata": {
    "collapsed": false
   }
  },
  {
   "cell_type": "code",
   "execution_count": null,
   "outputs": [],
   "source": [
    "predictions = lr.predict(X_test)\n",
    "printClassificationMetrics(y_test, predictions)"
   ],
   "metadata": {
    "collapsed": false,
    "pycharm": {
     "name": "#%%\n"
    }
   }
  },
  {
   "cell_type": "markdown",
   "source": [
    "#### Create the data set to use for the predictions"
   ],
   "metadata": {
    "collapsed": false
   }
  },
  {
   "cell_type": "code",
   "execution_count": null,
   "outputs": [],
   "source": [
    "amcStockPreparedData = prepareDataForPredictions(amcMergedDataFrame)\n",
    "amcPreparedData = pd.DataFrame.from_dict(amcStockPreparedData)\n",
    "amcPreparedData\n"
   ],
   "metadata": {
    "collapsed": false,
    "pycharm": {
     "name": "#%%\n"
    }
   }
  },
  {
   "cell_type": "markdown",
   "source": [
    "Use the dummy dataset to test our prediction"
   ],
   "metadata": {
    "collapsed": false
   }
  },
  {
   "cell_type": "code",
   "execution_count": null,
   "outputs": [],
   "source": [
    "predictions = lr.predict(amcPreparedData)\n",
    "predictions"
   ],
   "metadata": {
    "collapsed": false,
    "pycharm": {
     "name": "#%%\n"
    }
   }
  },
  {
   "cell_type": "code",
   "execution_count": null,
   "outputs": [],
   "source": [
    "pdPredictedStockTrend = amcPreparedData\n",
    "pdPredictedStockTrend[\"Search Interest Above Average\"] = predictions.astype(bool)\n",
    "pdPredictedStockTrend"
   ],
   "metadata": {
    "collapsed": false,
    "pycharm": {
     "name": "#%%\n"
    }
   }
  },
  {
   "cell_type": "markdown",
   "source": [
    "#### Conclusion\n",
    "\n",
    "The linear regression model worked very well.  From the looks of it I was able to predict with extremely high accuracy what the close price would be for a stock based on the opening price, and search interest for the day.  Although in the real world this would be hard to get as search interest and the price changes are happening at the same time.  In my second model using logistical regression, I am not as confident with its prediction.  I tried to look from the other side to see if I could predict the search interest based on open and closed prices of AMC per day.  I felt like this would be interesting if it would conclude that search interest is high only when the stock is doing well.  This did not prove out as being a trend, but the again the accuracy of the model was high.\n",
    "\n",
    "\n",
    "\n",
    "\n",
    "### Coke\n",
    "Arielle Swift"
   ],
   "metadata": {
    "collapsed": false
   }
  },
  {
   "cell_type": "markdown",
   "source": [
    "#### Get Data"
   ],
   "metadata": {
    "collapsed": false
   }
  },
  {
   "cell_type": "code",
   "execution_count": null,
   "outputs": [],
   "source": [
    "CokeDataSetQtr2 = pd.read_csv(f\"{dataDir}KO.csv\",parse_dates=[\"Date\"])\n",
    "CokeDataSetQtr2"
   ],
   "metadata": {
    "collapsed": false,
    "pycharm": {
     "name": "#%%\n"
    }
   }
  },
  {
   "cell_type": "code",
   "execution_count": null,
   "outputs": [],
   "source": [
    "CokeDataSetQtr2['Date']= pd.to_datetime(CokeDataSetQtr2['Date'])\n",
    "CokeDataSetQtr2"
   ],
   "metadata": {
    "collapsed": false,
    "pycharm": {
     "name": "#%%\n"
    }
   }
  },
  {
   "cell_type": "code",
   "execution_count": null,
   "outputs": [],
   "source": [
    "CokeDataSetQtr2['InvestToday'] = np.where(CokeDataSetQtr2.Close - CokeDataSetQtr2.Open>0, 1, 0)\n",
    "CokeDataSetQtr2"
   ],
   "metadata": {
    "collapsed": false,
    "pycharm": {
     "name": "#%%\n"
    }
   }
  },
  {
   "cell_type": "code",
   "execution_count": null,
   "outputs": [],
   "source": [
    "Continuous_Cols=[ 'Open', 'High', 'Low', 'Close', 'Adj Close', 'Volume']\n",
    "Categorical_Cols=['InvestToday']"
   ],
   "metadata": {
    "collapsed": false,
    "pycharm": {
     "name": "#%%\n"
    }
   }
  },
  {
   "cell_type": "code",
   "execution_count": null,
   "outputs": [],
   "source": [
    "Predictor_Cols = Categorical_Cols + Continuous_Cols\n",
    "\n",
    "Target_Col = 'InvestToday'\n",
    "\n",
    "X=CokeDataSetQtr2[Continuous_Cols]\n",
    "y=CokeDataSetQtr2[Target_Col]\n",
    "\n",
    "X_train, X_test, y_train, y_test = train_test_split(X, y, test_size=0.30)\n",
    "print(\"Population:\\n\",y.value_counts(normalize=True)*100)\n",
    "print(\"Train:\\n\", y_train.value_counts(normalize=True)*100)\n",
    "print(\"Test:\\n\", y_test.value_counts(normalize=True)*100)"
   ],
   "metadata": {
    "collapsed": false,
    "pycharm": {
     "name": "#%%\n"
    }
   }
  },
  {
   "cell_type": "code",
   "execution_count": null,
   "outputs": [],
   "source": [
    "knn = KNeighborsClassifier(n_neighbors=3)"
   ],
   "metadata": {
    "collapsed": false,
    "pycharm": {
     "name": "#%%\n"
    }
   }
  },
  {
   "cell_type": "code",
   "execution_count": null,
   "outputs": [],
   "source": [
    "knn.fit(X_train, y_train)"
   ],
   "metadata": {
    "collapsed": false,
    "pycharm": {
     "name": "#%%\n"
    }
   }
  },
  {
   "cell_type": "code",
   "execution_count": null,
   "outputs": [],
   "source": [
    "knn.score(X_train, y_train)"
   ],
   "metadata": {
    "collapsed": false,
    "pycharm": {
     "name": "#%%\n"
    }
   }
  },
  {
   "cell_type": "code",
   "execution_count": null,
   "outputs": [],
   "source": [
    "knn.score(X_test, y_test)"
   ],
   "metadata": {
    "collapsed": false,
    "pycharm": {
     "name": "#%%\n"
    }
   }
  },
  {
   "cell_type": "markdown",
   "source": [
    "#### Confusion Matrix"
   ],
   "metadata": {
    "collapsed": false
   }
  },
  {
   "cell_type": "code",
   "execution_count": null,
   "outputs": [],
   "source": [
    "def printMetrics(test, predictions):\n",
    "    print(\"Confusion Matrix:\")\n",
    "    print(confusion_matrix(test, predictions))\n",
    "    print(\"------------------\")\n",
    "    print(f\"Accuracy: {accuracy_score(test, predictions):.2f}\")\n",
    "    print(f\"Recall: {recall_score(test, predictions):.2f}\")\n",
    "    print(f\"Prediction: {precision_score(test, predictions):.2f}\")\n",
    "    print(f\"f-measure: {fbeta_score(test, predictions, beta=1):.2f}\")\n",
    "    print(\"------------------\")\n",
    "    print(classification_report(test, predictions))"
   ],
   "metadata": {
    "collapsed": false,
    "pycharm": {
     "name": "#%%\n"
    }
   }
  },
  {
   "cell_type": "code",
   "execution_count": null,
   "outputs": [],
   "source": [
    "predictions = knn.predict(X_test)\n",
    "printMetrics(y_test, predictions)"
   ],
   "metadata": {
    "collapsed": false,
    "pycharm": {
     "name": "#%%\n"
    }
   }
  },
  {
   "cell_type": "code",
   "execution_count": null,
   "outputs": [],
   "source": [
    "CokeDataSetQtr2"
   ],
   "metadata": {
    "collapsed": false,
    "pycharm": {
     "name": "#%%\n"
    }
   }
  },
  {
   "cell_type": "code",
   "execution_count": null,
   "outputs": [],
   "source": [
    "numElements = 10\n",
    "SampleStock = []\n",
    "for _ in range(numElements):\n",
    "    dict = {}\n",
    "    for column in X.columns:\n",
    "        min = 0\n",
    "        maxValue = round(max(CokeDataSetQtr2[column].values))\n",
    "        dict[column] = rnd.randint(min, maxValue)\n",
    "    SampleStock.append(dict)\n",
    "SampleStock"
   ],
   "metadata": {
    "collapsed": false,
    "pycharm": {
     "name": "#%%\n"
    }
   }
  },
  {
   "cell_type": "code",
   "execution_count": null,
   "outputs": [],
   "source": [
    "pdSampleStock = pd.DataFrame.from_dict(SampleStock)\n",
    "predictions = knn.predict(pdSampleStock)\n",
    "predictions"
   ],
   "metadata": {
    "collapsed": false,
    "pycharm": {
     "name": "#%%\n"
    }
   }
  },
  {
   "cell_type": "code",
   "execution_count": null,
   "outputs": [],
   "source": [
    "pdPredictedInvest = pdSampleStock\n",
    "pdPredictedInvest[\"InvestToday?\"] = predictions.astype(bool)\n",
    "pdPredictedInvest"
   ],
   "metadata": {
    "collapsed": false,
    "pycharm": {
     "name": "#%%\n"
    }
   }
  },
  {
   "cell_type": "code",
   "execution_count": null,
   "outputs": [],
   "source": [
    "lr = LogisticRegression(solver=\"liblinear\")\n",
    "lr"
   ],
   "metadata": {
    "collapsed": false,
    "pycharm": {
     "name": "#%%\n"
    }
   }
  },
  {
   "cell_type": "code",
   "execution_count": null,
   "outputs": [],
   "source": [
    "lr.fit(X_train, y_train)\n"
   ],
   "metadata": {
    "collapsed": false,
    "pycharm": {
     "name": "#%%\n"
    }
   }
  },
  {
   "cell_type": "code",
   "execution_count": null,
   "outputs": [],
   "source": [
    "lr.score(X_train, y_train)\n"
   ],
   "metadata": {
    "collapsed": false,
    "pycharm": {
     "name": "#%%\n"
    }
   }
  },
  {
   "cell_type": "code",
   "execution_count": null,
   "outputs": [],
   "source": [
    "lr.score(X_test, y_test)"
   ],
   "metadata": {
    "collapsed": false,
    "pycharm": {
     "name": "#%%\n"
    }
   }
  },
  {
   "cell_type": "code",
   "execution_count": null,
   "outputs": [],
   "source": [
    "predictions = lr.predict(X_test)"
   ],
   "metadata": {
    "collapsed": false,
    "pycharm": {
     "name": "#%%\n"
    }
   }
  },
  {
   "cell_type": "code",
   "execution_count": null,
   "outputs": [],
   "source": [
    "fig = px.scatter(CokeDataSetQtr2, x='Close', y='Open',color='InvestToday')\n",
    "fig.show()"
   ],
   "metadata": {
    "collapsed": false,
    "pycharm": {
     "name": "#%%\n"
    }
   }
  },
  {
   "cell_type": "code",
   "execution_count": null,
   "outputs": [],
   "source": [],
   "metadata": {
    "collapsed": false,
    "pycharm": {
     "name": "#%%\n"
    }
   }
  },
  {
   "cell_type": "markdown",
   "source": [
    "### Tesla (TSLA)\n",
    "Andrew T."
   ],
   "metadata": {
    "collapsed": false
   }
  },
  {
   "cell_type": "code",
   "execution_count": null,
   "outputs": [],
   "source": [
    "pytrends = TrendReq(hl='en-US', tz=360)\n",
    "\n",
    "#build list of keywords in this case only use Teslas\n",
    "kw_list = [\"Bitcoin\"]\n",
    "\n",
    "# build the payload\n",
    "pytrends.build_payload(kw_list, timeframe='2021-03-31 2021-06-29', geo='US')\n",
    "\n",
    "# store interest over time information in df and rename Tesla column to Search Interest\n",
    "bitcoinTrendsdf = pytrends.interest_over_time()\n",
    "bitcoinTrendsdf = bitcoinTrendsdf.rename(columns={'Bitcoin': 'Previous_Search_Interest'})\n",
    "#telsaStockdf.set_index('date': 'Date', inplace=True)\n",
    "bitcoinTrendsdf.reset_index(inplace=True, drop=True)\n",
    "bitcoinTrendsdf"
   ],
   "metadata": {
    "collapsed": false,
    "pycharm": {
     "name": "#%%\n"
    }
   }
  },
  {
   "cell_type": "code",
   "execution_count": null,
   "outputs": [],
   "source": [
    "bitcoinPricedf = pd.read_csv(\"https://raw.githubusercontent.com/atlas125gev/StockProject/main/Homework7/BTC-USD.csv\")\n",
    "bitcoinPreviousPricedf = pd.read_csv(\"https://raw.githubusercontent.com/atlas125gev/StockProject/main/Homework7/BTC-USD-Previous.csv\")\n",
    "mergedPrice = pd.concat([bitcoinPricedf, bitcoinPreviousPricedf], axis=1)\n",
    "bitcoinPreviousPricedf"
   ],
   "metadata": {
    "collapsed": false,
    "pycharm": {
     "name": "#%%\n"
    }
   }
  },
  {
   "cell_type": "code",
   "execution_count": null,
   "outputs": [],
   "source": [
    "mergedStockPrice = pd.concat([mergedPrice, bitcoinTrendsdf], axis=1)\n",
    "#mergedStockPrice.reset_index(inplace=True, drop=True)\n",
    "mergedStockPrice.set_index('isPartial', drop=True)\n",
    "#mergedStockPrice['Previous_Close'] = mergedStockPrice['Close']\n",
    "#meanSearchInterest = mergedStockPrice['Search_Interest'].mean()\n",
    "#mergedStockPrice[\"Interest Points Away From Mean\"] = mergedStockPrice[\"Search Interest\"] - meanSearchInterest\n",
    "mergedStockPrice[\"Price_Increase\"] = mergedStockPrice[\"Open\"] - mergedStockPrice[\"Close\"] > 0.0\n",
    "mergedStockPrice[\"Price_Increase\"] = mergedStockPrice[\"Price_Increase\"]*1\n",
    "\n",
    "\n",
    "#pd.set_option('display.max_rows', len(mergedStockPrice))\n",
    "\n",
    "mergedStockPrice"
   ],
   "metadata": {
    "collapsed": false,
    "pycharm": {
     "name": "#%%\n"
    }
   }
  },
  {
   "cell_type": "code",
   "execution_count": null,
   "outputs": [],
   "source": [
    "mergedStockPrice.info()"
   ],
   "metadata": {
    "collapsed": false,
    "pycharm": {
     "name": "#%%\n"
    }
   }
  },
  {
   "cell_type": "code",
   "execution_count": null,
   "outputs": [],
   "source": [
    "#columns = [\"Open\", \"High\", \"Low\", \"Close\", \"Search Interest\", \"Interest Points Away From Mean\", \"Price Increase Points\", \"Price Increase\"]\n",
    "columns = [\"Previous_Open\", \"Previous_High\", \"Previous_Low\", \"Previous_Close\", \"Previous_Volume\", \"Previous_Search_Interest\", \"Close\"]\n",
    "mergedStockPrice = mergedStockPrice[columns]\n",
    "mergedStockPrice"
   ],
   "metadata": {
    "collapsed": false,
    "pycharm": {
     "name": "#%%\n"
    }
   }
  },
  {
   "cell_type": "code",
   "execution_count": null,
   "outputs": [],
   "source": [
    "features = list(mergedStockPrice.columns)\n",
    "features.remove(\"Close\")\n",
    "target = \"Close\"\n",
    "\n",
    "X = mergedStockPrice[features]\n",
    "y = mergedStockPrice[target]"
   ],
   "metadata": {
    "collapsed": false,
    "pycharm": {
     "name": "#%%\n"
    }
   }
  },
  {
   "cell_type": "code",
   "execution_count": null,
   "outputs": [],
   "source": [
    "X_train, X_test, y_train, y_test = train_test_split(X, y, test_size=0.25, random_state=1)"
   ],
   "metadata": {
    "collapsed": false,
    "pycharm": {
     "name": "#%%\n"
    }
   }
  },
  {
   "cell_type": "code",
   "execution_count": null,
   "outputs": [],
   "source": [
    "lr = LinearRegression()\n",
    "lr"
   ],
   "metadata": {
    "collapsed": false,
    "pycharm": {
     "name": "#%%\n"
    }
   }
  },
  {
   "cell_type": "code",
   "execution_count": null,
   "outputs": [],
   "source": [
    "lr.fit(X_train, y_train)"
   ],
   "metadata": {
    "collapsed": false,
    "pycharm": {
     "name": "#%%\n"
    }
   }
  },
  {
   "cell_type": "code",
   "execution_count": null,
   "outputs": [],
   "source": [
    "lr.score(X_train, y_train)"
   ],
   "metadata": {
    "collapsed": false,
    "pycharm": {
     "name": "#%%\n"
    }
   }
  },
  {
   "cell_type": "code",
   "execution_count": null,
   "outputs": [],
   "source": [
    "lr.score(X_test, y_test)"
   ],
   "metadata": {
    "collapsed": false,
    "pycharm": {
     "name": "#%%\n"
    }
   }
  },
  {
   "cell_type": "code",
   "execution_count": null,
   "outputs": [],
   "source": [
    "\n",
    "def printMetrics(test, predictions):\n",
    "    print(f\"Score: {explained_variance_score(test, predictions):.2f}\")\n",
    "    print(f\"MAE: {mean_absolute_error(test, predictions):.2f}\")\n",
    "    print(f\"RMSE: {math.sqrt(mean_squared_error(test, predictions)):.2f}\")\n",
    "    print(f\"r2: {r2_score(test, predictions):.2f}\")"
   ],
   "metadata": {
    "collapsed": false,
    "pycharm": {
     "name": "#%%\n"
    }
   }
  },
  {
   "cell_type": "code",
   "execution_count": null,
   "outputs": [],
   "source": [
    "predictions = lr.predict(X_test)\n",
    "printMetrics(y_test, predictions)"
   ],
   "metadata": {
    "collapsed": false,
    "pycharm": {
     "name": "#%%\n"
    }
   }
  },
  {
   "cell_type": "code",
   "execution_count": null,
   "outputs": [],
   "source": [
    "numElements = 3\n",
    "samplePrice = []\n",
    "for _ in range(numElements):\n",
    "    dict = {}\n",
    "    for column in X.columns:\n",
    "        min = 0  # We'll always allow at lea\n",
    "        maxValue = round(max(mergedStockPrice[column].values))\n",
    "        dict[column] = rnd.randint(min, maxValue)\n",
    "    samplePrice.append(dict)\n",
    "samplePrice\n"
   ],
   "metadata": {
    "collapsed": false,
    "pycharm": {
     "name": "#%%\n"
    }
   }
  },
  {
   "cell_type": "code",
   "execution_count": null,
   "outputs": [],
   "source": [
    "pdSamplePrice = pd.DataFrame.from_dict(samplePrice)\n",
    "pdSamplePrice\n"
   ],
   "metadata": {
    "collapsed": false,
    "pycharm": {
     "name": "#%%\n"
    }
   }
  },
  {
   "cell_type": "code",
   "execution_count": null,
   "outputs": [],
   "source": [
    "predictions = lr.predict(pdSamplePrice)\n",
    "predictions\n",
    "\n"
   ],
   "metadata": {
    "collapsed": false,
    "pycharm": {
     "name": "#%%\n"
    }
   }
  },
  {
   "cell_type": "code",
   "execution_count": null,
   "outputs": [],
   "source": [
    "pdSamplePrice = pdSamplePrice.copy()\n",
    "pdSamplePrice['Predicted'] = predictions\n",
    "pdSamplePrice\n",
    "\n"
   ],
   "metadata": {
    "collapsed": false,
    "pycharm": {
     "name": "#%%\n"
    }
   }
  },
  {
   "cell_type": "markdown",
   "source": [
    "# Logarithmic Regression"
   ],
   "metadata": {
    "collapsed": false
   }
  },
  {
   "cell_type": "code",
   "execution_count": null,
   "outputs": [],
   "source": [
    "def printClassificationMetrics(test, predictions):\n",
    "    print(\"Confusion Matrix:\")\n",
    "    print(confusion_matrix(test, predictions))\n",
    "    print(\"------------------\")\n",
    "    print(f\"Accuracy: {accuracy_score(test, predictions):.2f}\")\n",
    "    print(f\"Recall: {recall_score(test, predictions):.2f}\")\n",
    "    print(f\"Prediction: {precision_score(test, predictions):.2f}\")\n",
    "    print(f\"f-measure: {fbeta_score(test, predictions, beta=1):.2f}\")\n",
    "    print(\"------------------\")\n",
    "    print(classification_report(test, predictions))"
   ],
   "metadata": {
    "collapsed": false,
    "pycharm": {
     "name": "#%%\n"
    }
   }
  },
  {
   "cell_type": "code",
   "execution_count": null,
   "outputs": [],
   "source": [
    "pd.set_option('display.max_rows', len(mergedStockPrice))\n",
    "\n",
    "mergedStockPrice[\"Price_Increase\"] = bitcoinPricedf[\"Open\"] - bitcoinPricedf[\"Close\"] > 0.0\n",
    "mergedStockPrice['Price_Increase'] = mergedStockPrice.Price_Increase.astype(int)\n",
    "mergedStockPrice\n"
   ],
   "metadata": {
    "collapsed": false,
    "pycharm": {
     "name": "#%%\n"
    }
   }
  },
  {
   "cell_type": "code",
   "execution_count": null,
   "outputs": [],
   "source": [
    "\n",
    "columns = [\"Previous_Open\", \"Previous_Close\", \"Previous_Search_Interest\", \"Price_Increase\"]\n",
    "mergedStockPrice = mergedStockPrice[columns]\n",
    "mergedStockPrice\n",
    "\n",
    "features = list(mergedStockPrice.columns)\n",
    "features.remove(\"Price_Increase\")\n",
    "target = \"Price_Increase\"\n",
    "\n",
    "X = mergedStockPrice[features]\n",
    "y = mergedStockPrice[target]"
   ],
   "metadata": {
    "collapsed": false,
    "pycharm": {
     "name": "#%%\n"
    }
   }
  },
  {
   "cell_type": "code",
   "execution_count": null,
   "outputs": [],
   "source": [
    "X_train, X_test, y_train, y_test = train_test_split(X, y, test_size=0.25)"
   ],
   "metadata": {
    "collapsed": false,
    "pycharm": {
     "name": "#%%\n"
    }
   }
  },
  {
   "cell_type": "code",
   "execution_count": null,
   "outputs": [],
   "source": [
    "\n",
    "\n",
    "logReg = LogisticRegression(solver=\"liblinear\")\n",
    "logReg"
   ],
   "metadata": {
    "collapsed": false,
    "pycharm": {
     "name": "#%%\n"
    }
   }
  },
  {
   "cell_type": "code",
   "execution_count": null,
   "outputs": [],
   "source": [
    "logReg.fit(X_train, y_train)"
   ],
   "metadata": {
    "collapsed": false,
    "pycharm": {
     "name": "#%%\n"
    }
   }
  },
  {
   "cell_type": "code",
   "execution_count": null,
   "outputs": [],
   "source": [
    "logReg.score(X_train, y_train)"
   ],
   "metadata": {
    "collapsed": false,
    "pycharm": {
     "name": "#%%\n"
    }
   }
  },
  {
   "cell_type": "code",
   "execution_count": null,
   "outputs": [],
   "source": [
    "logReg.score(X_test, y_test)"
   ],
   "metadata": {
    "collapsed": false,
    "pycharm": {
     "name": "#%%\n"
    }
   }
  },
  {
   "cell_type": "code",
   "execution_count": null,
   "outputs": [],
   "source": [
    "predictions = logReg.predict(X_test)\n",
    "printMetrics(y_test, predictions)"
   ],
   "metadata": {
    "collapsed": false,
    "pycharm": {
     "name": "#%%\n"
    }
   }
  },
  {
   "cell_type": "code",
   "execution_count": null,
   "outputs": [],
   "source": [
    "predictions = logReg.predict(X_test)\n",
    "printClassificationMetrics(y_test, predictions)\n",
    "\n"
   ],
   "metadata": {
    "collapsed": false,
    "pycharm": {
     "name": "#%%\n"
    }
   }
  },
  {
   "cell_type": "code",
   "execution_count": null,
   "outputs": [],
   "source": [
    "pdSamplePrice = pd.DataFrame.from_dict(pdSamplePrice)\n",
    "\n",
    "predictions = logReg.predict(pdSamplePrice)\n",
    "\n",
    "pdPredicted = pdSamplePrice\n",
    "pdPredicted[\"Price_Increase\"] = predictions.astype(bool)\n",
    "pdPredicted"
   ],
   "metadata": {
    "collapsed": false,
    "pycharm": {
     "name": "#%%\n"
    }
   }
  },
  {
   "cell_type": "code",
   "execution_count": null,
   "outputs": [],
   "source": [],
   "metadata": {
    "collapsed": false,
    "pycharm": {
     "name": "#%%\n"
    }
   }
  },
  {
   "cell_type": "markdown",
   "source": [
    "### John Deere (DE)\n",
    "Dan Knobloch"
   ],
   "metadata": {
    "collapsed": false
   }
  },
  {
   "cell_type": "markdown",
   "source": [
    "##### Helper methods"
   ],
   "metadata": {
    "collapsed": false
   }
  },
  {
   "cell_type": "code",
   "execution_count": null,
   "outputs": [],
   "source": [
    "def createCategoricalDummies(dataFrame, categoryList):\n",
    "    return pd.get_dummies(dataFrame[categoryList], prefix_sep = \"::\", drop_first = True)"
   ],
   "metadata": {
    "collapsed": false,
    "pycharm": {
     "name": "#%%\n"
    }
   }
  },
  {
   "cell_type": "code",
   "execution_count": null,
   "outputs": [],
   "source": [
    "def printRegressionMetrics(test, predictions):\n",
    "    print(f\"Score: {explained_variance_score(test, predictions):.2f}\")\n",
    "    print(f\"MAE: {mean_absolute_error(test, predictions):.2f}\")\n",
    "    print(f\"RMSE: {math.sqrt(mean_squared_error(test, predictions)):.2f}\")\n",
    "    print(f\"r2: {r2_score(test, predictions):.2f}\")"
   ],
   "metadata": {
    "collapsed": false,
    "pycharm": {
     "name": "#%%\n"
    }
   }
  },
  {
   "cell_type": "code",
   "execution_count": null,
   "outputs": [],
   "source": [
    "def printClassificationMetrics(test, predictions):\n",
    "    print(\"Confusion Matrix:\")\n",
    "    print(confusion_matrix(test, predictions))\n",
    "    print(\"------------------\")\n",
    "    print(f\"Accuracy: {accuracy_score(test, predictions):.2f}\")\n",
    "    print(f\"Recall: {recall_score(test, predictions):.2f}\")\n",
    "    print(f\"Prediction: {precision_score(test, predictions):.2f}\")\n",
    "    print(f\"f-measure: {fbeta_score(test, predictions, beta=1):.2f}\")\n",
    "    print(\"------------------\")\n",
    "    print(classification_report(test, predictions))"
   ],
   "metadata": {
    "collapsed": false,
    "pycharm": {
     "name": "#%%\n"
    }
   }
  },
  {
   "cell_type": "markdown",
   "source": [
    "#### Part 1: Regression - Linear Regression\n",
    "##### Prepare the Data\n",
    "load data, clean up, prepare features and targets, split up training and test data."
   ],
   "metadata": {
    "collapsed": false
   }
  },
  {
   "cell_type": "code",
   "execution_count": null,
   "outputs": [],
   "source": [
    "# read file, drop null values, convert binary values in trend and price to integers\n",
    "JDStockTrend = pd.read_csv(r\"C:\\Users\\dk12955\\BAISsummer2021\\ClassProject\\DeereStockPrice.csv\")\n",
    "JDStockTrend.dropna(inplace=True)\n",
    "JDStockTrend['trend_daily_increase'] = JDStockTrend.trend_daily_increase.astype(int)\n",
    "JDStockTrend['price_daily_increase'] = JDStockTrend.price_daily_increase.astype(int)\n",
    "JDStockTrend"
   ],
   "metadata": {
    "collapsed": false,
    "pycharm": {
     "name": "#%%\n"
    }
   }
  },
  {
   "cell_type": "code",
   "execution_count": null,
   "outputs": [],
   "source": [
    "# determine feature vectors and target vectors. in this case targeting a prediction of price based on the previous days closing price, volume traded, and trends data\n",
    "featureColumns = [\"Trends\",\"Previous_Close\",\"Volume\",\"trend_daily_increase\"]\n",
    "target = \"Price\"\n",
    "\n",
    "X=JDStockTrend[featureColumns]\n",
    "y=JDStockTrend[target]\n",
    "\n",
    "X.info()"
   ],
   "metadata": {
    "collapsed": false,
    "pycharm": {
     "name": "#%%\n"
    }
   }
  },
  {
   "cell_type": "code",
   "execution_count": null,
   "outputs": [],
   "source": [
    "y"
   ],
   "metadata": {
    "collapsed": false,
    "pycharm": {
     "name": "#%%\n"
    }
   }
  },
  {
   "cell_type": "code",
   "execution_count": null,
   "outputs": [],
   "source": [
    "X_train, X_test, y_train, y_test = train_test_split(X, y, test_size=0.25, random_state=1)"
   ],
   "metadata": {
    "collapsed": false,
    "pycharm": {
     "name": "#%%\n"
    }
   }
  },
  {
   "cell_type": "markdown",
   "source": [
    "## Modeling with Linear Regression\n",
    "\n",
    "fit a line to our data set, with the minimum distance between the points."
   ],
   "metadata": {
    "collapsed": false
   }
  },
  {
   "cell_type": "code",
   "execution_count": null,
   "outputs": [],
   "source": [
    "lr = LinearRegression()    #use this algorithm to start developing the line betwee data points\n",
    "lr"
   ],
   "metadata": {
    "collapsed": false,
    "pycharm": {
     "name": "#%%\n"
    }
   }
  },
  {
   "cell_type": "code",
   "execution_count": null,
   "outputs": [],
   "source": [
    "lr.fit(X_train, y_train)\n",
    "trainScore = lr.score(X_train, y_train)\n",
    "testScore = lr.score(X_test, y_test)\n",
    "\n",
    "print(f'the score with the training data set = {trainScore}')\n",
    "print(f'the score with the test data set = {testScore}')"
   ],
   "metadata": {
    "collapsed": false,
    "pycharm": {
     "name": "#%%\n"
    }
   }
  },
  {
   "cell_type": "markdown",
   "source": [
    "## LR Metrics Output"
   ],
   "metadata": {
    "collapsed": false
   }
  },
  {
   "cell_type": "code",
   "execution_count": null,
   "outputs": [],
   "source": [
    "predictions = lr.predict(X_test)\n",
    "printRegressionMetrics(y_test, predictions)"
   ],
   "metadata": {
    "collapsed": false,
    "pycharm": {
     "name": "#%%\n"
    }
   }
  },
  {
   "cell_type": "markdown",
   "source": [
    "#### Predict some new samples\n",
    "\n",
    "define a few new samples."
   ],
   "metadata": {
    "collapsed": false
   }
  },
  {
   "cell_type": "code",
   "execution_count": null,
   "outputs": [],
   "source": [
    "numElements = 3\n",
    "sampleStockTrend = []\n",
    "for _ in range(numElements):\n",
    "    dict = {}\n",
    "    for column in X.columns:\n",
    "        min = 0  # assume min = 0\n",
    "        maxValue = round(max(JDStockTrend[column].values))\n",
    "        dict[column] = rnd.randint(min, maxValue)\n",
    "    sampleStockTrend.append(dict)\n",
    "sampleStockTrend"
   ],
   "metadata": {
    "collapsed": false,
    "pycharm": {
     "name": "#%%\n"
    }
   }
  },
  {
   "cell_type": "code",
   "execution_count": null,
   "outputs": [],
   "source": [
    "pdSampleStockTrend = pd.DataFrame.from_dict(sampleStockTrend)\n",
    "pdSampleStockTrend"
   ],
   "metadata": {
    "collapsed": false,
    "pycharm": {
     "name": "#%%\n"
    }
   }
  },
  {
   "cell_type": "code",
   "execution_count": null,
   "outputs": [],
   "source": [
    "predictions = lr.predict(pdSampleStockTrend)\n",
    "predictions"
   ],
   "metadata": {
    "collapsed": false,
    "pycharm": {
     "name": "#%%\n"
    }
   }
  },
  {
   "cell_type": "code",
   "execution_count": null,
   "outputs": [],
   "source": [
    "pdPredictedStockTrend = pdSampleStockTrend.copy()\n",
    "pdPredictedStockTrend['Predicted'] = predictions\n",
    "pdPredictedStockTrend"
   ],
   "metadata": {
    "collapsed": false,
    "pycharm": {
     "name": "#%%\n"
    }
   }
  },
  {
   "cell_type": "markdown",
   "source": [
    "##### Part 2: Classification - Logistic Regression"
   ],
   "metadata": {
    "collapsed": false
   }
  },
  {
   "cell_type": "markdown",
   "source": [
    "##### Prepare the Data\n",
    "load data, clean up, prepare features and targets, split up training and test data."
   ],
   "metadata": {
    "collapsed": false
   }
  },
  {
   "cell_type": "code",
   "execution_count": null,
   "outputs": [],
   "source": [
    "# Need to prepare the data seperately for logistic regression becuase our feature and target vectors will be different\n",
    "JDStockTrend"
   ],
   "metadata": {
    "collapsed": false,
    "pycharm": {
     "name": "#%%\n"
    }
   }
  },
  {
   "cell_type": "code",
   "execution_count": null,
   "outputs": [],
   "source": [
    "#determine feature vectors and target vectors. in this case targeting a classification on whether or not the price would increase based on the previous days closing price, volume traded, and search trends data\n",
    "featureColumns = [\"Trends\",\"Previous_Close\",\"Volume\",\"trend_daily_increase\"]\n",
    "target = \"price_daily_increase\"\n",
    "\n",
    "X=JDStockTrend[featureColumns]\n",
    "y=JDStockTrend[target]\n",
    "\n",
    "X"
   ],
   "metadata": {
    "collapsed": false,
    "pycharm": {
     "name": "#%%\n"
    }
   }
  },
  {
   "cell_type": "code",
   "execution_count": null,
   "outputs": [],
   "source": [
    "y"
   ],
   "metadata": {
    "collapsed": false,
    "pycharm": {
     "name": "#%%\n"
    }
   }
  },
  {
   "cell_type": "code",
   "execution_count": null,
   "outputs": [],
   "source": [
    "X_train, X_test, y_train, y_test = train_test_split(X, y, test_size=0.25)"
   ],
   "metadata": {
    "collapsed": false,
    "pycharm": {
     "name": "#%%\n"
    }
   }
  },
  {
   "cell_type": "markdown",
   "source": [
    "#### Modeling with Logistic Regression (classification)\n"
   ],
   "metadata": {
    "collapsed": false
   }
  },
  {
   "cell_type": "code",
   "execution_count": null,
   "outputs": [],
   "source": [
    "lr = LogisticRegression(solver=\"liblinear\")\n",
    "lr"
   ],
   "metadata": {
    "collapsed": false,
    "pycharm": {
     "name": "#%%\n"
    }
   }
  },
  {
   "cell_type": "code",
   "execution_count": null,
   "outputs": [],
   "source": [
    "lr.fit(X_train, y_train)"
   ],
   "metadata": {
    "collapsed": false,
    "pycharm": {
     "name": "#%%\n"
    }
   }
  },
  {
   "cell_type": "code",
   "execution_count": null,
   "outputs": [],
   "source": [
    "lr.score(X_train, y_train)"
   ],
   "metadata": {
    "collapsed": false,
    "pycharm": {
     "name": "#%%\n"
    }
   }
  },
  {
   "cell_type": "code",
   "execution_count": null,
   "outputs": [],
   "source": [
    "lr.score(X_test, y_test)"
   ],
   "metadata": {
    "collapsed": false,
    "pycharm": {
     "name": "#%%\n"
    }
   }
  },
  {
   "cell_type": "markdown",
   "source": [
    "#### Classification Metrics Output"
   ],
   "metadata": {
    "collapsed": false
   }
  },
  {
   "cell_type": "code",
   "execution_count": null,
   "outputs": [],
   "source": [
    "predictions = lr.predict(X_test)\n",
    "printClassificationMetrics(y_test, predictions)"
   ],
   "metadata": {
    "collapsed": false,
    "pycharm": {
     "name": "#%%\n"
    }
   }
  },
  {
   "cell_type": "markdown",
   "source": [
    "##### Predict with the samples that were generated above"
   ],
   "metadata": {
    "collapsed": false
   }
  },
  {
   "cell_type": "code",
   "execution_count": null,
   "outputs": [],
   "source": [
    "sampleStockTrend"
   ],
   "metadata": {
    "collapsed": false,
    "pycharm": {
     "name": "#%%\n"
    }
   }
  },
  {
   "cell_type": "code",
   "execution_count": null,
   "outputs": [],
   "source": [
    "pdSampleStockTrend = pd.DataFrame.from_dict(sampleStockTrend)"
   ],
   "metadata": {
    "collapsed": false,
    "pycharm": {
     "name": "#%%\n"
    }
   }
  },
  {
   "cell_type": "code",
   "execution_count": null,
   "outputs": [],
   "source": [
    "predictions = lr.predict(pdSampleStockTrend)\n",
    "predictions"
   ],
   "metadata": {
    "collapsed": false,
    "pycharm": {
     "name": "#%%\n"
    }
   }
  },
  {
   "cell_type": "code",
   "execution_count": null,
   "outputs": [],
   "source": [
    "pdPredictedStockTrend = pdSampleStockTrend\n",
    "pdPredictedStockTrend[\"price_daily_increse\"] = predictions.astype(bool)\n",
    "pdPredictedStockTrend"
   ],
   "metadata": {
    "collapsed": false,
    "pycharm": {
     "name": "#%%\n"
    }
   }
  },
  {
   "cell_type": "markdown",
   "source": [
    "## Conclusion"
   ],
   "metadata": {
    "collapsed": false
   }
  },
  {
   "cell_type": "markdown",
   "source": [
    "analyzing the current results of the both methods used (linear regression, and logistic regression (Classification). it does seem like the data points to the fact that the linear regrission is a strong canidate for predicting price of John Deere. in each linear regression scenario, the score is around 90%. and the sample data that is generated also seems to develop reasonable price predictions for the closing price. the logistic model (for classification) only has a score of 44%. overall. in some ways, developing a stronger classification model would provide more value for a day trader of stocks becuase it would give them the insight of the confidience to buy shares of a compnay to make money in a short amount of time.\n"
   ],
   "metadata": {
    "collapsed": false
   }
  },
  {
   "cell_type": "code",
   "execution_count": null,
   "outputs": [],
   "source": [
    "\n"
   ],
   "metadata": {
    "collapsed": false,
    "pycharm": {
     "name": "#%%\n"
    }
   }
  }
 ],
 "metadata": {
  "kernelspec": {
   "display_name": "Kernal1",
   "language": "python",
   "name": "kernal1"
  },
  "language_info": {
   "codemirror_mode": {
    "name": "ipython",
    "version": 3
   },
   "file_extension": ".py",
   "mimetype": "text/x-python",
   "name": "python",
   "nbconvert_exporter": "python",
   "pygments_lexer": "ipython3",
   "version": "3.8.10"
  }
 },
 "nbformat": 4,
 "nbformat_minor": 5
}