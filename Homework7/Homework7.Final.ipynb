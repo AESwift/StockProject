{
 "cells": [
  {
   "cell_type": "markdown",
   "source": [
    "# Homework 7 - Stock and Google Search Correlation Analysis 2\n",
    "## Group 1\n",
    "## 20 July 2021"
   ],
   "metadata": {
    "collapsed": false
   }
  },
  {
   "cell_type": "markdown",
   "source": [
    "### Introduction\n",
    "\n",
    "Code imports and performs analysis on daily stock price and interest over time using machine learning\n",
    "* GameStop (GME) <br>\n",
    "* Apple (AAPL) <br>\n",
    "* Coke (KO)<br>\n",
    "* John Deere (DE) <br>\n",
    "* AMC (AMC) <br>\n"
   ],
   "metadata": {
    "collapsed": false
   }
  },
  {
   "cell_type": "markdown",
   "source": [
    "### Import"
   ],
   "metadata": {
    "collapsed": false
   }
  },
  {
   "cell_type": "code",
   "execution_count": 501,
   "outputs": [],
   "source": [
    "import yfinance as yf\n",
    "import pandas as pd\n",
    "import numpy as np\n",
    "import os\n",
    "import matplotlib as mp\n",
    "import matplotlib.pyplot as plt\n",
    "import seaborn as sns\n",
    "import plotly.express as px\n",
    "\n",
    "from datetime import date\n",
    "\n",
    "from datetime import timedelta\n",
    "from pytrends.request import TrendReq\n",
    "\n",
    "from sklearn.metrics import confusion_matrix\n",
    "from sklearn.metrics import accuracy_score, recall_score, precision_score, fbeta_score, classification_report\n",
    "import random as rnd\n",
    "\n",
    "from sklearn.cluster import KMeans                      # k-means clustering\n",
    "from sklearn.model_selection import train_test_split    # For generating test/train\n",
    "from sklearn.linear_model import LinearRegression   # Logistic regression\n",
    "from sklearn.neighbors import KNeighborsClassifier\n",
    "\n",
    "import math\n",
    "from sklearn.metrics import explained_variance_score, mean_absolute_error, r2_score, mean_squared_error\n",
    "\n",
    "from sklearn.linear_model import LogisticRegression\n",
    "%matplotlib inline"
   ],
   "metadata": {
    "collapsed": false,
    "pycharm": {
     "name": "#%%\n"
    }
   }
  },
  {
   "cell_type": "markdown",
   "source": [
    "### Global Varables and Initialization"
   ],
   "metadata": {
    "collapsed": false
   }
  },
  {
   "cell_type": "code",
   "execution_count": 502,
   "outputs": [],
   "source": [
    "dataDir = r\"./Data Files/\"  #Directory of all data\n",
    "\n",
    "today = date.today()  # Todays date\n",
    "\n",
    "rnd.seed(1024)"
   ],
   "metadata": {
    "collapsed": false,
    "pycharm": {
     "name": "#%%\n"
    }
   }
  },
  {
   "cell_type": "markdown",
   "source": [
    "### Global Functions"
   ],
   "metadata": {
    "collapsed": false
   }
  },
  {
   "cell_type": "code",
   "execution_count": 503,
   "outputs": [],
   "source": [
    "# Function gets stock data and trend data if needed\n",
    "\n",
    "# Function gets stock data and trend data if needed\n",
    "\n",
    "def get_data(ticker):\n",
    "    if os.path.exists(f\"{dataDir}{ticker}_{today}_year.csv\"):\n",
    "\n",
    "        #Get stored data\n",
    "        stored_data = pd.read_csv(f\"{dataDir}{ticker}_{today}_year.csv\")\n",
    "\n",
    "        # Get rid of index name\n",
    "        stored_data.set_index('Unnamed: 0', inplace=True)\n",
    "        stored_data.index.name = None\n",
    "\n",
    "        return stored_data\n",
    "    else:\n",
    "        #Get new data\n",
    "\n",
    "        # Connect to Google API\n",
    "        pytrends = TrendReq(hl='en-US', tz=360)\n",
    "\n",
    "        # Set Keyword\n",
    "        kw_list = [ticker]\n",
    "\n",
    "        # Google API only shows last 90 days so need to intirate\n",
    "        # Set start of interval\n",
    "        date90front = date.today()\n",
    "        # Initiate dataframe\n",
    "        trend_data = pd.DataFrame()\n",
    "\n",
    "        for x in range(4):\n",
    "            # Set start end of interval\n",
    "            date90back = date90front - timedelta(days=90)\n",
    "            # Build Payload of 90 days\n",
    "            pytrends.build_payload(kw_list,\n",
    "                                   timeframe=f'{date90back} {date90front}',\n",
    "                                   geo='')\n",
    "            trend_90 = pytrends.interest_over_time()\n",
    "            trend_data = pd.concat([trend_90, trend_data])\n",
    "            date90front = date90back\n",
    "\n",
    "        # Get Stock Data\n",
    "        stock_data = yf.download(ticker,\n",
    "                                 start=date.today() - timedelta(days=360),\n",
    "                                 end=date.today(), interval=\"1d\")\n",
    "\n",
    "        # Combine Data\n",
    "        new_data = stock_data.join(trend_data)\n",
    "\n",
    "        # Export to data folder\n",
    "        new_data.to_csv(f\"{dataDir}{ticker}_{today}_year.csv\")\n",
    "\n",
    "        return new_data\n",
    "    "
   ],
   "metadata": {
    "collapsed": false,
    "pycharm": {
     "name": "#%%\n"
    }
   }
  },
  {
   "cell_type": "markdown",
   "source": [
    "### Data and Analysis"
   ],
   "metadata": {
    "collapsed": false
   }
  },
  {
   "cell_type": "markdown",
   "source": [
    "#### Gamestop(GME)\n",
    "Connor Moore"
   ],
   "metadata": {
    "collapsed": false
   }
  },
  {
   "cell_type": "markdown",
   "source": [
    "##### Get Data"
   ],
   "metadata": {
    "collapsed": false
   }
  },
  {
   "cell_type": "code",
   "execution_count": 504,
   "outputs": [
    {
     "data": {
      "text/plain": "                  Open        High         Low       Close   Adj Close  \\\n2020-07-27    4.020000    4.120000    3.950000    4.010000    4.010000   \n2020-07-28    3.960000    4.050000    3.920000    3.940000    3.940000   \n2020-07-29    3.940000    4.180000    3.920000    4.060000    4.060000   \n2020-07-30    4.000000    4.230000    3.970000    4.100000    4.100000   \n2020-07-31    4.060000    4.160000    3.990000    4.010000    4.010000   \n...                ...         ...         ...         ...         ...   \n2021-07-13  187.679993  188.789993  179.000000  180.059998  180.059998   \n2021-07-14  180.490005  182.380005  165.070007  167.619995  167.619995   \n2021-07-15  160.000000  171.990005  158.009995  166.820007  166.820007   \n2021-07-16  170.149994  179.470001  166.300003  169.039993  169.039993   \n2021-07-19  163.300003  176.000000  161.220001  173.490005  173.490005   \n\n             Volume   GME isPartial  \n2020-07-27  2472700  23.0     False  \n2020-07-28  4555400  16.0     False  \n2020-07-29  2879600  22.0     False  \n2020-07-30  2398500  17.0     False  \n2020-07-31  1879400  16.0     False  \n...             ...   ...       ...  \n2021-07-13  2397900  25.0     False  \n2021-07-14  3913800  27.0     False  \n2021-07-15  4298600  31.0     False  \n2021-07-16  3278800  29.0     False  \n2021-07-19  2436900   NaN       NaN  \n\n[250 rows x 8 columns]",
      "text/html": "<div>\n<style scoped>\n    .dataframe tbody tr th:only-of-type {\n        vertical-align: middle;\n    }\n\n    .dataframe tbody tr th {\n        vertical-align: top;\n    }\n\n    .dataframe thead th {\n        text-align: right;\n    }\n</style>\n<table border=\"1\" class=\"dataframe\">\n  <thead>\n    <tr style=\"text-align: right;\">\n      <th></th>\n      <th>Open</th>\n      <th>High</th>\n      <th>Low</th>\n      <th>Close</th>\n      <th>Adj Close</th>\n      <th>Volume</th>\n      <th>GME</th>\n      <th>isPartial</th>\n    </tr>\n  </thead>\n  <tbody>\n    <tr>\n      <th>2020-07-27</th>\n      <td>4.020000</td>\n      <td>4.120000</td>\n      <td>3.950000</td>\n      <td>4.010000</td>\n      <td>4.010000</td>\n      <td>2472700</td>\n      <td>23.0</td>\n      <td>False</td>\n    </tr>\n    <tr>\n      <th>2020-07-28</th>\n      <td>3.960000</td>\n      <td>4.050000</td>\n      <td>3.920000</td>\n      <td>3.940000</td>\n      <td>3.940000</td>\n      <td>4555400</td>\n      <td>16.0</td>\n      <td>False</td>\n    </tr>\n    <tr>\n      <th>2020-07-29</th>\n      <td>3.940000</td>\n      <td>4.180000</td>\n      <td>3.920000</td>\n      <td>4.060000</td>\n      <td>4.060000</td>\n      <td>2879600</td>\n      <td>22.0</td>\n      <td>False</td>\n    </tr>\n    <tr>\n      <th>2020-07-30</th>\n      <td>4.000000</td>\n      <td>4.230000</td>\n      <td>3.970000</td>\n      <td>4.100000</td>\n      <td>4.100000</td>\n      <td>2398500</td>\n      <td>17.0</td>\n      <td>False</td>\n    </tr>\n    <tr>\n      <th>2020-07-31</th>\n      <td>4.060000</td>\n      <td>4.160000</td>\n      <td>3.990000</td>\n      <td>4.010000</td>\n      <td>4.010000</td>\n      <td>1879400</td>\n      <td>16.0</td>\n      <td>False</td>\n    </tr>\n    <tr>\n      <th>...</th>\n      <td>...</td>\n      <td>...</td>\n      <td>...</td>\n      <td>...</td>\n      <td>...</td>\n      <td>...</td>\n      <td>...</td>\n      <td>...</td>\n    </tr>\n    <tr>\n      <th>2021-07-13</th>\n      <td>187.679993</td>\n      <td>188.789993</td>\n      <td>179.000000</td>\n      <td>180.059998</td>\n      <td>180.059998</td>\n      <td>2397900</td>\n      <td>25.0</td>\n      <td>False</td>\n    </tr>\n    <tr>\n      <th>2021-07-14</th>\n      <td>180.490005</td>\n      <td>182.380005</td>\n      <td>165.070007</td>\n      <td>167.619995</td>\n      <td>167.619995</td>\n      <td>3913800</td>\n      <td>27.0</td>\n      <td>False</td>\n    </tr>\n    <tr>\n      <th>2021-07-15</th>\n      <td>160.000000</td>\n      <td>171.990005</td>\n      <td>158.009995</td>\n      <td>166.820007</td>\n      <td>166.820007</td>\n      <td>4298600</td>\n      <td>31.0</td>\n      <td>False</td>\n    </tr>\n    <tr>\n      <th>2021-07-16</th>\n      <td>170.149994</td>\n      <td>179.470001</td>\n      <td>166.300003</td>\n      <td>169.039993</td>\n      <td>169.039993</td>\n      <td>3278800</td>\n      <td>29.0</td>\n      <td>False</td>\n    </tr>\n    <tr>\n      <th>2021-07-19</th>\n      <td>163.300003</td>\n      <td>176.000000</td>\n      <td>161.220001</td>\n      <td>173.490005</td>\n      <td>173.490005</td>\n      <td>2436900</td>\n      <td>NaN</td>\n      <td>NaN</td>\n    </tr>\n  </tbody>\n</table>\n<p>250 rows × 8 columns</p>\n</div>"
     },
     "execution_count": 504,
     "metadata": {},
     "output_type": "execute_result"
    }
   ],
   "source": [
    "GME_DF = get_data(\"GME\")\n",
    "GME_DF"
   ],
   "metadata": {
    "collapsed": false,
    "pycharm": {
     "name": "#%%\n"
    }
   }
  },
  {
   "cell_type": "markdown",
   "source": [
    "##### Prepare Data"
   ],
   "metadata": {
    "collapsed": false
   }
  },
  {
   "cell_type": "code",
   "execution_count": 505,
   "outputs": [],
   "source": [
    "# Rename search interest\n",
    "GME_DF.rename(columns = {\"GME\": \"Search Interest\"},inplace = True)\n",
    "\n",
    "# Add difference\n",
    "GME_DF[\"Price Difference\"] = GME_DF[\"Open\"]-GME_DF[\"Close\"]\n",
    "\n",
    "# Add truth value that determines if we want to buy or not that day\n",
    "GME_DF['Buy'] = np.where(GME_DF['Price Difference'] > 0, 1, 0)\n",
    "\n",
    "# Delete isPartial\n",
    "\n",
    "del GME_DF['isPartial']"
   ],
   "metadata": {
    "collapsed": false,
    "pycharm": {
     "name": "#%%\n"
    }
   }
  },
  {
   "cell_type": "code",
   "execution_count": 506,
   "outputs": [
    {
     "name": "stdout",
     "output_type": "stream",
     "text": [
      "<class 'pandas.core.frame.DataFrame'>\n",
      "Index: 250 entries, 2020-07-27 to 2021-07-19\n",
      "Data columns (total 9 columns):\n",
      " #   Column            Non-Null Count  Dtype  \n",
      "---  ------            --------------  -----  \n",
      " 0   Open              250 non-null    float64\n",
      " 1   High              250 non-null    float64\n",
      " 2   Low               250 non-null    float64\n",
      " 3   Close             250 non-null    float64\n",
      " 4   Adj Close         250 non-null    float64\n",
      " 5   Volume            250 non-null    int64  \n",
      " 6   Search Interest   249 non-null    float64\n",
      " 7   Price Difference  250 non-null    float64\n",
      " 8   Buy               250 non-null    int64  \n",
      "dtypes: float64(7), int64(2)\n",
      "memory usage: 19.5+ KB\n"
     ]
    }
   ],
   "source": [
    "# Check values - no nulls - int or float\n",
    "\n",
    "GME_DF.info()"
   ],
   "metadata": {
    "collapsed": false,
    "pycharm": {
     "name": "#%%\n"
    }
   }
  },
  {
   "cell_type": "code",
   "execution_count": 507,
   "outputs": [
    {
     "name": "stdout",
     "output_type": "stream",
     "text": [
      "Feature categories: ['Open', 'High', 'Low', 'Close', 'Adj Close', 'Volume', 'Search Interest', 'Price Difference']\n",
      "Target feature: Buy\n"
     ]
    }
   ],
   "source": [
    "# Set features to target \"Buy\"\n",
    "\n",
    "features = list(GME_DF.columns)\n",
    "features.remove(\"Buy\")\n",
    "target = \"Buy\"\n",
    "\n",
    "print(f\"Feature categories: {features}\")\n",
    "print(f\"Target feature: {target}\")"
   ],
   "metadata": {
    "collapsed": false,
    "pycharm": {
     "name": "#%%\n"
    }
   }
  },
  {
   "cell_type": "code",
   "execution_count": 508,
   "outputs": [
    {
     "data": {
      "text/plain": "                  Open        High         Low       Close   Adj Close  \\\n2020-07-27    4.020000    4.120000    3.950000    4.010000    4.010000   \n2020-07-28    3.960000    4.050000    3.920000    3.940000    3.940000   \n2020-07-29    3.940000    4.180000    3.920000    4.060000    4.060000   \n2020-07-30    4.000000    4.230000    3.970000    4.100000    4.100000   \n2020-07-31    4.060000    4.160000    3.990000    4.010000    4.010000   \n...                ...         ...         ...         ...         ...   \n2021-07-13  187.679993  188.789993  179.000000  180.059998  180.059998   \n2021-07-14  180.490005  182.380005  165.070007  167.619995  167.619995   \n2021-07-15  160.000000  171.990005  158.009995  166.820007  166.820007   \n2021-07-16  170.149994  179.470001  166.300003  169.039993  169.039993   \n2021-07-19  163.300003  176.000000  161.220001  173.490005  173.490005   \n\n             Volume  Search Interest  Price Difference  \n2020-07-27  2472700             23.0          0.010000  \n2020-07-28  4555400             16.0          0.020000  \n2020-07-29  2879600             22.0         -0.120000  \n2020-07-30  2398500             17.0         -0.100000  \n2020-07-31  1879400             16.0          0.050000  \n...             ...              ...               ...  \n2021-07-13  2397900             25.0          7.619995  \n2021-07-14  3913800             27.0         12.870010  \n2021-07-15  4298600             31.0         -6.820007  \n2021-07-16  3278800             29.0          1.110001  \n2021-07-19  2436900              NaN        -10.190002  \n\n[250 rows x 8 columns]",
      "text/html": "<div>\n<style scoped>\n    .dataframe tbody tr th:only-of-type {\n        vertical-align: middle;\n    }\n\n    .dataframe tbody tr th {\n        vertical-align: top;\n    }\n\n    .dataframe thead th {\n        text-align: right;\n    }\n</style>\n<table border=\"1\" class=\"dataframe\">\n  <thead>\n    <tr style=\"text-align: right;\">\n      <th></th>\n      <th>Open</th>\n      <th>High</th>\n      <th>Low</th>\n      <th>Close</th>\n      <th>Adj Close</th>\n      <th>Volume</th>\n      <th>Search Interest</th>\n      <th>Price Difference</th>\n    </tr>\n  </thead>\n  <tbody>\n    <tr>\n      <th>2020-07-27</th>\n      <td>4.020000</td>\n      <td>4.120000</td>\n      <td>3.950000</td>\n      <td>4.010000</td>\n      <td>4.010000</td>\n      <td>2472700</td>\n      <td>23.0</td>\n      <td>0.010000</td>\n    </tr>\n    <tr>\n      <th>2020-07-28</th>\n      <td>3.960000</td>\n      <td>4.050000</td>\n      <td>3.920000</td>\n      <td>3.940000</td>\n      <td>3.940000</td>\n      <td>4555400</td>\n      <td>16.0</td>\n      <td>0.020000</td>\n    </tr>\n    <tr>\n      <th>2020-07-29</th>\n      <td>3.940000</td>\n      <td>4.180000</td>\n      <td>3.920000</td>\n      <td>4.060000</td>\n      <td>4.060000</td>\n      <td>2879600</td>\n      <td>22.0</td>\n      <td>-0.120000</td>\n    </tr>\n    <tr>\n      <th>2020-07-30</th>\n      <td>4.000000</td>\n      <td>4.230000</td>\n      <td>3.970000</td>\n      <td>4.100000</td>\n      <td>4.100000</td>\n      <td>2398500</td>\n      <td>17.0</td>\n      <td>-0.100000</td>\n    </tr>\n    <tr>\n      <th>2020-07-31</th>\n      <td>4.060000</td>\n      <td>4.160000</td>\n      <td>3.990000</td>\n      <td>4.010000</td>\n      <td>4.010000</td>\n      <td>1879400</td>\n      <td>16.0</td>\n      <td>0.050000</td>\n    </tr>\n    <tr>\n      <th>...</th>\n      <td>...</td>\n      <td>...</td>\n      <td>...</td>\n      <td>...</td>\n      <td>...</td>\n      <td>...</td>\n      <td>...</td>\n      <td>...</td>\n    </tr>\n    <tr>\n      <th>2021-07-13</th>\n      <td>187.679993</td>\n      <td>188.789993</td>\n      <td>179.000000</td>\n      <td>180.059998</td>\n      <td>180.059998</td>\n      <td>2397900</td>\n      <td>25.0</td>\n      <td>7.619995</td>\n    </tr>\n    <tr>\n      <th>2021-07-14</th>\n      <td>180.490005</td>\n      <td>182.380005</td>\n      <td>165.070007</td>\n      <td>167.619995</td>\n      <td>167.619995</td>\n      <td>3913800</td>\n      <td>27.0</td>\n      <td>12.870010</td>\n    </tr>\n    <tr>\n      <th>2021-07-15</th>\n      <td>160.000000</td>\n      <td>171.990005</td>\n      <td>158.009995</td>\n      <td>166.820007</td>\n      <td>166.820007</td>\n      <td>4298600</td>\n      <td>31.0</td>\n      <td>-6.820007</td>\n    </tr>\n    <tr>\n      <th>2021-07-16</th>\n      <td>170.149994</td>\n      <td>179.470001</td>\n      <td>166.300003</td>\n      <td>169.039993</td>\n      <td>169.039993</td>\n      <td>3278800</td>\n      <td>29.0</td>\n      <td>1.110001</td>\n    </tr>\n    <tr>\n      <th>2021-07-19</th>\n      <td>163.300003</td>\n      <td>176.000000</td>\n      <td>161.220001</td>\n      <td>173.490005</td>\n      <td>173.490005</td>\n      <td>2436900</td>\n      <td>NaN</td>\n      <td>-10.190002</td>\n    </tr>\n  </tbody>\n</table>\n<p>250 rows × 8 columns</p>\n</div>"
     },
     "execution_count": 508,
     "metadata": {},
     "output_type": "execute_result"
    }
   ],
   "source": [
    "X = GME_DF[features]\n",
    "X"
   ],
   "metadata": {
    "collapsed": false,
    "pycharm": {
     "name": "#%%\n"
    }
   }
  },
  {
   "cell_type": "code",
   "execution_count": 509,
   "outputs": [
    {
     "data": {
      "text/plain": "2020-07-27    1\n2020-07-28    1\n2020-07-29    0\n2020-07-30    0\n2020-07-31    1\n             ..\n2021-07-13    1\n2021-07-14    1\n2021-07-15    0\n2021-07-16    1\n2021-07-19    0\nName: Buy, Length: 250, dtype: int64"
     },
     "execution_count": 509,
     "metadata": {},
     "output_type": "execute_result"
    }
   ],
   "source": [
    "y = GME_DF[target]\n",
    "y\n"
   ],
   "metadata": {
    "collapsed": false,
    "pycharm": {
     "name": "#%%\n"
    }
   }
  },
  {
   "cell_type": "code",
   "execution_count": 510,
   "outputs": [
    {
     "name": "stdout",
     "output_type": "stream",
     "text": [
      "Length of X_train (feature training set): 187\n",
      "Length of y_train (target training set): 187\n",
      "Length of X_test (feature test set): 63\n",
      "Length of y_test (target test set): 63\n"
     ]
    }
   ],
   "source": [
    "# Set training and test sets\n",
    "X_train, X_test, y_train, y_test = train_test_split(X, y, test_size=0.25)\n",
    "\n",
    "print(f\"Length of X_train (feature training set): {len(X_train)}\")\n",
    "print(f\"Length of y_train (target training set): {len(y_train)}\")\n",
    "print(f\"Length of X_test (feature test set): {len(X_test)}\")\n",
    "print(f\"Length of y_test (target test set): {len(y_test)}\")"
   ],
   "metadata": {
    "collapsed": false,
    "pycharm": {
     "name": "#%%\n"
    }
   }
  },
  {
   "cell_type": "code",
   "execution_count": 510,
   "outputs": [],
   "source": [],
   "metadata": {
    "collapsed": false,
    "pycharm": {
     "name": "#%%\n"
    }
   }
  },
  {
   "cell_type": "code",
   "execution_count": 510,
   "outputs": [],
   "source": [],
   "metadata": {
    "collapsed": false,
    "pycharm": {
     "name": "#%%\n"
    }
   }
  },
  {
   "cell_type": "markdown",
   "source": [
    "##### Analysis 2"
   ],
   "metadata": {
    "collapsed": false
   }
  },
  {
   "cell_type": "code",
   "execution_count": 510,
   "outputs": [],
   "source": [],
   "metadata": {
    "collapsed": false,
    "pycharm": {
     "name": "#%%\n"
    }
   }
  },
  {
   "cell_type": "markdown",
   "source": [
    "#### Apple (AAPL)\n",
    "Ken Cupples"
   ],
   "metadata": {
    "collapsed": false
   }
  },
  {
   "cell_type": "markdown",
   "source": [
    "##### Get Data"
   ],
   "metadata": {
    "collapsed": false
   }
  },
  {
   "cell_type": "code",
   "execution_count": 510,
   "outputs": [],
   "source": [],
   "metadata": {
    "collapsed": false,
    "pycharm": {
     "name": "#%%\n"
    }
   }
  },
  {
   "cell_type": "markdown",
   "source": [
    "##### Analysis 1"
   ],
   "metadata": {
    "collapsed": false
   }
  },
  {
   "cell_type": "code",
   "execution_count": 510,
   "outputs": [],
   "source": [],
   "metadata": {
    "collapsed": false,
    "pycharm": {
     "name": "#%%\n"
    }
   }
  },
  {
   "cell_type": "markdown",
   "source": [
    "##### Analysis 2"
   ],
   "metadata": {
    "collapsed": false
   }
  },
  {
   "cell_type": "code",
   "execution_count": 510,
   "outputs": [],
   "source": [],
   "metadata": {
    "collapsed": false,
    "pycharm": {
     "name": "#%%\n"
    }
   }
  },
  {
   "cell_type": "markdown",
   "source": [
    "### Shawn Sonnack\n",
    "AMC"
   ],
   "metadata": {
    "collapsed": false
   }
  },
  {
   "cell_type": "markdown",
   "source": [
    "#### Purpose\n",
    "\n",
    "We are looking to see if there is any correlation to google search interest with stock price changes.  In this data set we have a pulled a number from google between 0 - 100.  At 0 it means that there was little to no traffic compared to normal operation.  At 100 it means that the search traffic for that day was extremely high.\n",
    "\n",
    "First I will dig in to see if search interest and the price it opens at can predict the close price of the day."
   ],
   "metadata": {
    "collapsed": false
   }
  },
  {
   "cell_type": "markdown",
   "source": [],
   "metadata": {
    "collapsed": false
   }
  },
  {
   "cell_type": "markdown",
   "source": [
    "#### Common methods"
   ],
   "metadata": {
    "collapsed": false
   }
  },
  {
   "cell_type": "code",
   "execution_count": 511,
   "outputs": [],
   "source": [
    "def printMetrics(test, predictions):\n",
    "    print(f\"Score: {explained_variance_score(test, predictions):.2f}\")\n",
    "    print(f\"MAE: {mean_absolute_error(test, predictions):.2f}\")\n",
    "    print(f\"RMSE: {math.sqrt(mean_squared_error(test, predictions)):.2f}\")\n",
    "    print(f\"r2: {r2_score(test, predictions):.2f}\")\n",
    "\n",
    "def printClassificationMetrics(test, predictions):\n",
    "    print(\"Confusion Matrix:\")\n",
    "    print(confusion_matrix(test, predictions))\n",
    "    print(\"------------------\")\n",
    "    print(f\"Accuracy: {accuracy_score(test, predictions):.2f}\")\n",
    "    print(f\"Recall: {recall_score(test, predictions):.2f}\")\n",
    "    print(f\"Prediction: {precision_score(test, predictions):.2f}\")\n",
    "    print(f\"f-measure: {fbeta_score(test, predictions, beta=1):.2f}\")\n",
    "    print(\"------------------\")\n",
    "    print(classification_report(test, predictions))\n",
    "\n",
    "\n",
    "def prepareDataForPredictions(amcDataFrame):\n",
    "    numElements = 3\n",
    "    amcStockPreparedData = []\n",
    "    for _ in range(numElements):\n",
    "        dict = {}\n",
    "        for column in X.columns:\n",
    "            min = 0  # assume min = 0\n",
    "            maxValue = round(max(amcDataFrame[column].values))\n",
    "            dict[column] = rnd.randint(min, maxValue)\n",
    "        amcStockPreparedData.append(dict)\n",
    "    return amcStockPreparedData"
   ],
   "metadata": {
    "collapsed": false,
    "pycharm": {
     "name": "#%%\n"
    }
   }
  },
  {
   "cell_type": "markdown",
   "source": [
    "#### Pull in prepared data for AMC stock: January 1 - June 30"
   ],
   "metadata": {
    "collapsed": false
   }
  },
  {
   "cell_type": "code",
   "execution_count": 512,
   "outputs": [
    {
     "data": {
      "text/plain": "     Search Interest       Open      Close     Volume  Amount Changed  \\\n0                  2   2.200000   2.010000   29873800        0.190000   \n1                  3   1.990000   1.980000   28148300        0.010000   \n2                  2   2.030000   2.010000   67363300        0.020000   \n3                  2   2.080000   2.050000   26150500        0.030000   \n4                  3   2.090000   2.140000   39553300       -0.050000   \n..               ...        ...        ...        ...             ...   \n118               17  57.040001  58.299999  116291800       -1.259998   \n119               16  57.980000  56.700001   80351200        1.279999   \n120               19  55.750000  54.060001   77596900        1.689999   \n121               16  55.099998  58.110001   99310200       -3.010002   \n122               16  59.060001  56.430000   63604100        2.630001   \n\n     Days Spread  Price Increase  Search Interest Above Avg  \n0       0.200000               1                          0  \n1       0.120000               1                          0  \n2       0.260000               1                          0  \n3       0.090000               1                          0  \n4       0.140000               0                          0  \n..           ...             ...                        ...  \n118     4.299999               0                          1  \n119     3.099998               1                          1  \n120     3.320000               1                          1  \n121     5.029999               0                          1  \n122     4.820000               1                          1  \n\n[123 rows x 8 columns]",
      "text/html": "<div>\n<style scoped>\n    .dataframe tbody tr th:only-of-type {\n        vertical-align: middle;\n    }\n\n    .dataframe tbody tr th {\n        vertical-align: top;\n    }\n\n    .dataframe thead th {\n        text-align: right;\n    }\n</style>\n<table border=\"1\" class=\"dataframe\">\n  <thead>\n    <tr style=\"text-align: right;\">\n      <th></th>\n      <th>Search Interest</th>\n      <th>Open</th>\n      <th>Close</th>\n      <th>Volume</th>\n      <th>Amount Changed</th>\n      <th>Days Spread</th>\n      <th>Price Increase</th>\n      <th>Search Interest Above Avg</th>\n    </tr>\n  </thead>\n  <tbody>\n    <tr>\n      <th>0</th>\n      <td>2</td>\n      <td>2.200000</td>\n      <td>2.010000</td>\n      <td>29873800</td>\n      <td>0.190000</td>\n      <td>0.200000</td>\n      <td>1</td>\n      <td>0</td>\n    </tr>\n    <tr>\n      <th>1</th>\n      <td>3</td>\n      <td>1.990000</td>\n      <td>1.980000</td>\n      <td>28148300</td>\n      <td>0.010000</td>\n      <td>0.120000</td>\n      <td>1</td>\n      <td>0</td>\n    </tr>\n    <tr>\n      <th>2</th>\n      <td>2</td>\n      <td>2.030000</td>\n      <td>2.010000</td>\n      <td>67363300</td>\n      <td>0.020000</td>\n      <td>0.260000</td>\n      <td>1</td>\n      <td>0</td>\n    </tr>\n    <tr>\n      <th>3</th>\n      <td>2</td>\n      <td>2.080000</td>\n      <td>2.050000</td>\n      <td>26150500</td>\n      <td>0.030000</td>\n      <td>0.090000</td>\n      <td>1</td>\n      <td>0</td>\n    </tr>\n    <tr>\n      <th>4</th>\n      <td>3</td>\n      <td>2.090000</td>\n      <td>2.140000</td>\n      <td>39553300</td>\n      <td>-0.050000</td>\n      <td>0.140000</td>\n      <td>0</td>\n      <td>0</td>\n    </tr>\n    <tr>\n      <th>...</th>\n      <td>...</td>\n      <td>...</td>\n      <td>...</td>\n      <td>...</td>\n      <td>...</td>\n      <td>...</td>\n      <td>...</td>\n      <td>...</td>\n    </tr>\n    <tr>\n      <th>118</th>\n      <td>17</td>\n      <td>57.040001</td>\n      <td>58.299999</td>\n      <td>116291800</td>\n      <td>-1.259998</td>\n      <td>4.299999</td>\n      <td>0</td>\n      <td>1</td>\n    </tr>\n    <tr>\n      <th>119</th>\n      <td>16</td>\n      <td>57.980000</td>\n      <td>56.700001</td>\n      <td>80351200</td>\n      <td>1.279999</td>\n      <td>3.099998</td>\n      <td>1</td>\n      <td>1</td>\n    </tr>\n    <tr>\n      <th>120</th>\n      <td>19</td>\n      <td>55.750000</td>\n      <td>54.060001</td>\n      <td>77596900</td>\n      <td>1.689999</td>\n      <td>3.320000</td>\n      <td>1</td>\n      <td>1</td>\n    </tr>\n    <tr>\n      <th>121</th>\n      <td>16</td>\n      <td>55.099998</td>\n      <td>58.110001</td>\n      <td>99310200</td>\n      <td>-3.010002</td>\n      <td>5.029999</td>\n      <td>0</td>\n      <td>1</td>\n    </tr>\n    <tr>\n      <th>122</th>\n      <td>16</td>\n      <td>59.060001</td>\n      <td>56.430000</td>\n      <td>63604100</td>\n      <td>2.630001</td>\n      <td>4.820000</td>\n      <td>1</td>\n      <td>1</td>\n    </tr>\n  </tbody>\n</table>\n<p>123 rows × 8 columns</p>\n</div>"
     },
     "execution_count": 512,
     "metadata": {},
     "output_type": "execute_result"
    }
   ],
   "source": [
    "amcMergedDataFrame = pd.read_csv('Data Files/AMCDataClean.zip')\n",
    "amcMergedDataFrame"
   ],
   "metadata": {
    "collapsed": false,
    "pycharm": {
     "name": "#%%\n"
    }
   }
  },
  {
   "cell_type": "markdown",
   "source": [
    "#### Linear Regression Setup"
   ],
   "metadata": {
    "collapsed": false
   }
  },
  {
   "cell_type": "code",
   "execution_count": 513,
   "outputs": [],
   "source": [
    "featureColumns=['Search Interest', 'Open']\n",
    "targetColumn = 'Close'\n",
    "\n",
    "X=amcMergedDataFrame[featureColumns]\n",
    "y=amcMergedDataFrame[targetColumn]\n",
    "\n",
    "X_train, X_test, y_train, y_test = train_test_split(X, y, test_size=0.25, random_state=1)"
   ],
   "metadata": {
    "collapsed": false,
    "pycharm": {
     "name": "#%%\n"
    }
   }
  },
  {
   "cell_type": "markdown",
   "source": [
    "#### Create the regression"
   ],
   "metadata": {
    "collapsed": false
   }
  },
  {
   "cell_type": "code",
   "execution_count": 514,
   "outputs": [
    {
     "data": {
      "text/plain": "LinearRegression()"
     },
     "execution_count": 514,
     "metadata": {},
     "output_type": "execute_result"
    }
   ],
   "source": [
    "lr = LinearRegression()\n",
    "lr"
   ],
   "metadata": {
    "collapsed": false,
    "pycharm": {
     "name": "#%%\n"
    }
   }
  },
  {
   "cell_type": "markdown",
   "source": [
    "#### Fit Linear Model"
   ],
   "metadata": {
    "collapsed": false
   }
  },
  {
   "cell_type": "code",
   "execution_count": 515,
   "outputs": [
    {
     "data": {
      "text/plain": "LinearRegression()"
     },
     "execution_count": 515,
     "metadata": {},
     "output_type": "execute_result"
    }
   ],
   "source": [
    "lr.fit(X_train, y_train)"
   ],
   "metadata": {
    "collapsed": false,
    "pycharm": {
     "name": "#%%\n"
    }
   }
  },
  {
   "cell_type": "markdown",
   "source": [
    "#### How confident are we in our model?"
   ],
   "metadata": {
    "collapsed": false
   }
  },
  {
   "cell_type": "code",
   "execution_count": 516,
   "outputs": [
    {
     "data": {
      "text/plain": "0.9691667374025036"
     },
     "execution_count": 516,
     "metadata": {},
     "output_type": "execute_result"
    }
   ],
   "source": [
    "lr.score(X_train, y_train)"
   ],
   "metadata": {
    "collapsed": false,
    "pycharm": {
     "name": "#%%\n"
    }
   }
  },
  {
   "cell_type": "code",
   "execution_count": 517,
   "outputs": [
    {
     "data": {
      "text/plain": "0.9709538923793088"
     },
     "execution_count": 517,
     "metadata": {},
     "output_type": "execute_result"
    }
   ],
   "source": [
    "lr.score(X_test, y_test)"
   ],
   "metadata": {
    "collapsed": false,
    "pycharm": {
     "name": "#%%\n"
    }
   }
  },
  {
   "cell_type": "markdown",
   "source": [
    "#### Print the prediction believed accuracy using the model"
   ],
   "metadata": {
    "collapsed": false
   }
  },
  {
   "cell_type": "code",
   "execution_count": 518,
   "outputs": [
    {
     "name": "stdout",
     "output_type": "stream",
     "text": [
      "Score: 0.97\n",
      "MAE: 1.91\n",
      "RMSE: 3.13\n",
      "r2: 0.97\n"
     ]
    }
   ],
   "source": [
    "predictions = lr.predict(X_test)\n",
    "printMetrics(y_test, predictions)"
   ],
   "metadata": {
    "collapsed": false,
    "pycharm": {
     "name": "#%%\n"
    }
   }
  },
  {
   "cell_type": "markdown",
   "source": [
    "#### Create new samples, to test our model"
   ],
   "metadata": {
    "collapsed": false
   }
  },
  {
   "cell_type": "code",
   "execution_count": 519,
   "outputs": [],
   "source": [
    "amcStockPreparedData = prepareDataForPredictions(amcMergedDataFrame)"
   ],
   "metadata": {
    "collapsed": false,
    "pycharm": {
     "name": "#%%\n"
    }
   }
  },
  {
   "cell_type": "markdown",
   "source": [
    "#### Prepare the predictions for consumption"
   ],
   "metadata": {
    "collapsed": false
   }
  },
  {
   "cell_type": "code",
   "execution_count": 520,
   "outputs": [
    {
     "data": {
      "text/plain": "   Search Interest  Open\n0                2    30\n1               49    20\n2               66     6",
      "text/html": "<div>\n<style scoped>\n    .dataframe tbody tr th:only-of-type {\n        vertical-align: middle;\n    }\n\n    .dataframe tbody tr th {\n        vertical-align: top;\n    }\n\n    .dataframe thead th {\n        text-align: right;\n    }\n</style>\n<table border=\"1\" class=\"dataframe\">\n  <thead>\n    <tr style=\"text-align: right;\">\n      <th></th>\n      <th>Search Interest</th>\n      <th>Open</th>\n    </tr>\n  </thead>\n  <tbody>\n    <tr>\n      <th>0</th>\n      <td>2</td>\n      <td>30</td>\n    </tr>\n    <tr>\n      <th>1</th>\n      <td>49</td>\n      <td>20</td>\n    </tr>\n    <tr>\n      <th>2</th>\n      <td>66</td>\n      <td>6</td>\n    </tr>\n  </tbody>\n</table>\n</div>"
     },
     "execution_count": 520,
     "metadata": {},
     "output_type": "execute_result"
    }
   ],
   "source": [
    "amcPreparedData = pd.DataFrame.from_dict(amcStockPreparedData)\n",
    "amcPreparedData"
   ],
   "metadata": {
    "collapsed": false,
    "pycharm": {
     "name": "#%%\n"
    }
   }
  },
  {
   "cell_type": "markdown",
   "source": [
    "#### Predict what the close price will be"
   ],
   "metadata": {
    "collapsed": false
   }
  },
  {
   "cell_type": "code",
   "execution_count": 521,
   "outputs": [
    {
     "data": {
      "text/plain": "array([29.84559392, 22.07508896,  8.74029546])"
     },
     "execution_count": 521,
     "metadata": {},
     "output_type": "execute_result"
    }
   ],
   "source": [
    "predictions = lr.predict(amcPreparedData)\n",
    "predictions"
   ],
   "metadata": {
    "collapsed": false,
    "pycharm": {
     "name": "#%%\n"
    }
   }
  },
  {
   "cell_type": "markdown",
   "source": [
    "#### Make it pretty"
   ],
   "metadata": {
    "collapsed": false
   }
  },
  {
   "cell_type": "code",
   "execution_count": 522,
   "outputs": [
    {
     "data": {
      "text/plain": "   Search Interest  Open  Price Prediction\n0                2    30         29.845594\n1               49    20         22.075089\n2               66     6          8.740295",
      "text/html": "<div>\n<style scoped>\n    .dataframe tbody tr th:only-of-type {\n        vertical-align: middle;\n    }\n\n    .dataframe tbody tr th {\n        vertical-align: top;\n    }\n\n    .dataframe thead th {\n        text-align: right;\n    }\n</style>\n<table border=\"1\" class=\"dataframe\">\n  <thead>\n    <tr style=\"text-align: right;\">\n      <th></th>\n      <th>Search Interest</th>\n      <th>Open</th>\n      <th>Price Prediction</th>\n    </tr>\n  </thead>\n  <tbody>\n    <tr>\n      <th>0</th>\n      <td>2</td>\n      <td>30</td>\n      <td>29.845594</td>\n    </tr>\n    <tr>\n      <th>1</th>\n      <td>49</td>\n      <td>20</td>\n      <td>22.075089</td>\n    </tr>\n    <tr>\n      <th>2</th>\n      <td>66</td>\n      <td>6</td>\n      <td>8.740295</td>\n    </tr>\n  </tbody>\n</table>\n</div>"
     },
     "execution_count": 522,
     "metadata": {},
     "output_type": "execute_result"
    }
   ],
   "source": [
    "amcPredictedPrice = amcPreparedData.copy()\n",
    "amcPredictedPrice['Price Prediction'] = predictions\n",
    "amcPredictedPrice"
   ],
   "metadata": {
    "collapsed": false,
    "pycharm": {
     "name": "#%%\n"
    }
   }
  },
  {
   "cell_type": "markdown",
   "source": [
    "#### Classical - Logistic Regression"
   ],
   "metadata": {
    "collapsed": false
   }
  },
  {
   "cell_type": "code",
   "execution_count": 523,
   "outputs": [
    {
     "data": {
      "text/plain": "     Search Interest       Open      Close     Volume  Amount Changed  \\\n0                  2   2.200000   2.010000   29873800        0.190000   \n1                  3   1.990000   1.980000   28148300        0.010000   \n2                  2   2.030000   2.010000   67363300        0.020000   \n3                  2   2.080000   2.050000   26150500        0.030000   \n4                  3   2.090000   2.140000   39553300       -0.050000   \n..               ...        ...        ...        ...             ...   \n118               17  57.040001  58.299999  116291800       -1.259998   \n119               16  57.980000  56.700001   80351200        1.279999   \n120               19  55.750000  54.060001   77596900        1.689999   \n121               16  55.099998  58.110001   99310200       -3.010002   \n122               16  59.060001  56.430000   63604100        2.630001   \n\n     Days Spread  Price Increase  Search Interest Above Avg  \n0       0.200000               1                          0  \n1       0.120000               1                          0  \n2       0.260000               1                          0  \n3       0.090000               1                          0  \n4       0.140000               0                          0  \n..           ...             ...                        ...  \n118     4.299999               0                          1  \n119     3.099998               1                          1  \n120     3.320000               1                          1  \n121     5.029999               0                          1  \n122     4.820000               1                          1  \n\n[123 rows x 8 columns]",
      "text/html": "<div>\n<style scoped>\n    .dataframe tbody tr th:only-of-type {\n        vertical-align: middle;\n    }\n\n    .dataframe tbody tr th {\n        vertical-align: top;\n    }\n\n    .dataframe thead th {\n        text-align: right;\n    }\n</style>\n<table border=\"1\" class=\"dataframe\">\n  <thead>\n    <tr style=\"text-align: right;\">\n      <th></th>\n      <th>Search Interest</th>\n      <th>Open</th>\n      <th>Close</th>\n      <th>Volume</th>\n      <th>Amount Changed</th>\n      <th>Days Spread</th>\n      <th>Price Increase</th>\n      <th>Search Interest Above Avg</th>\n    </tr>\n  </thead>\n  <tbody>\n    <tr>\n      <th>0</th>\n      <td>2</td>\n      <td>2.200000</td>\n      <td>2.010000</td>\n      <td>29873800</td>\n      <td>0.190000</td>\n      <td>0.200000</td>\n      <td>1</td>\n      <td>0</td>\n    </tr>\n    <tr>\n      <th>1</th>\n      <td>3</td>\n      <td>1.990000</td>\n      <td>1.980000</td>\n      <td>28148300</td>\n      <td>0.010000</td>\n      <td>0.120000</td>\n      <td>1</td>\n      <td>0</td>\n    </tr>\n    <tr>\n      <th>2</th>\n      <td>2</td>\n      <td>2.030000</td>\n      <td>2.010000</td>\n      <td>67363300</td>\n      <td>0.020000</td>\n      <td>0.260000</td>\n      <td>1</td>\n      <td>0</td>\n    </tr>\n    <tr>\n      <th>3</th>\n      <td>2</td>\n      <td>2.080000</td>\n      <td>2.050000</td>\n      <td>26150500</td>\n      <td>0.030000</td>\n      <td>0.090000</td>\n      <td>1</td>\n      <td>0</td>\n    </tr>\n    <tr>\n      <th>4</th>\n      <td>3</td>\n      <td>2.090000</td>\n      <td>2.140000</td>\n      <td>39553300</td>\n      <td>-0.050000</td>\n      <td>0.140000</td>\n      <td>0</td>\n      <td>0</td>\n    </tr>\n    <tr>\n      <th>...</th>\n      <td>...</td>\n      <td>...</td>\n      <td>...</td>\n      <td>...</td>\n      <td>...</td>\n      <td>...</td>\n      <td>...</td>\n      <td>...</td>\n    </tr>\n    <tr>\n      <th>118</th>\n      <td>17</td>\n      <td>57.040001</td>\n      <td>58.299999</td>\n      <td>116291800</td>\n      <td>-1.259998</td>\n      <td>4.299999</td>\n      <td>0</td>\n      <td>1</td>\n    </tr>\n    <tr>\n      <th>119</th>\n      <td>16</td>\n      <td>57.980000</td>\n      <td>56.700001</td>\n      <td>80351200</td>\n      <td>1.279999</td>\n      <td>3.099998</td>\n      <td>1</td>\n      <td>1</td>\n    </tr>\n    <tr>\n      <th>120</th>\n      <td>19</td>\n      <td>55.750000</td>\n      <td>54.060001</td>\n      <td>77596900</td>\n      <td>1.689999</td>\n      <td>3.320000</td>\n      <td>1</td>\n      <td>1</td>\n    </tr>\n    <tr>\n      <th>121</th>\n      <td>16</td>\n      <td>55.099998</td>\n      <td>58.110001</td>\n      <td>99310200</td>\n      <td>-3.010002</td>\n      <td>5.029999</td>\n      <td>0</td>\n      <td>1</td>\n    </tr>\n    <tr>\n      <th>122</th>\n      <td>16</td>\n      <td>59.060001</td>\n      <td>56.430000</td>\n      <td>63604100</td>\n      <td>2.630001</td>\n      <td>4.820000</td>\n      <td>1</td>\n      <td>1</td>\n    </tr>\n  </tbody>\n</table>\n<p>123 rows × 8 columns</p>\n</div>"
     },
     "execution_count": 523,
     "metadata": {},
     "output_type": "execute_result"
    }
   ],
   "source": [
    "amcMergedDataFrame"
   ],
   "metadata": {
    "collapsed": false,
    "pycharm": {
     "name": "#%%\n"
    }
   }
  },
  {
   "cell_type": "markdown",
   "source": [
    "#### Prepare the Data and logistic Columns"
   ],
   "metadata": {
    "collapsed": false
   }
  },
  {
   "cell_type": "code",
   "execution_count": 524,
   "outputs": [],
   "source": [
    "amcMergedDataFrame['Price Increase'] = amcMergedDataFrame['Price Increase'].astype(int)\n",
    "amcMergedDataFrame['Search Interest Above Avg'] = amcMergedDataFrame['Search Interest Above Avg'].astype(int)\n",
    "logisticFeatureColumns=['Open', 'Close']\n",
    "logisticTargetColumn = 'Search Interest Above Avg'\n",
    "\n",
    "X=amcMergedDataFrame[logisticFeatureColumns]\n",
    "y=amcMergedDataFrame[logisticTargetColumn]\n"
   ],
   "metadata": {
    "collapsed": false,
    "pycharm": {
     "name": "#%%\n"
    }
   }
  },
  {
   "cell_type": "code",
   "execution_count": 525,
   "outputs": [
    {
     "data": {
      "text/plain": "0      0\n1      0\n2      0\n3      0\n4      0\n      ..\n118    1\n119    1\n120    1\n121    1\n122    1\nName: Search Interest Above Avg, Length: 123, dtype: int64"
     },
     "execution_count": 525,
     "metadata": {},
     "output_type": "execute_result"
    }
   ],
   "source": [
    "y"
   ],
   "metadata": {
    "collapsed": false,
    "pycharm": {
     "name": "#%%\n"
    }
   }
  },
  {
   "cell_type": "markdown",
   "source": [
    "#### Train the model with my data from above"
   ],
   "metadata": {
    "collapsed": false
   }
  },
  {
   "cell_type": "code",
   "execution_count": 526,
   "outputs": [],
   "source": [
    "X_train, X_test, y_train, y_test = train_test_split(X, y, test_size=0.25, random_state=1)"
   ],
   "metadata": {
    "collapsed": false,
    "pycharm": {
     "name": "#%%\n"
    }
   }
  },
  {
   "cell_type": "markdown",
   "source": [
    "# Create the Logistic Regression"
   ],
   "metadata": {
    "collapsed": false
   }
  },
  {
   "cell_type": "code",
   "execution_count": 527,
   "outputs": [
    {
     "data": {
      "text/plain": "LogisticRegression(solver='liblinear')"
     },
     "execution_count": 527,
     "metadata": {},
     "output_type": "execute_result"
    }
   ],
   "source": [
    "lr = LogisticRegression(solver=\"liblinear\")\n",
    "lr"
   ],
   "metadata": {
    "collapsed": false,
    "pycharm": {
     "name": "#%%\n"
    }
   }
  },
  {
   "cell_type": "markdown",
   "source": [
    "#### Fit the data"
   ],
   "metadata": {
    "collapsed": false
   }
  },
  {
   "cell_type": "code",
   "execution_count": 528,
   "outputs": [
    {
     "data": {
      "text/plain": "LogisticRegression(solver='liblinear')"
     },
     "execution_count": 528,
     "metadata": {},
     "output_type": "execute_result"
    }
   ],
   "source": [
    "lr.fit(X_train, y_train)"
   ],
   "metadata": {
    "collapsed": false,
    "pycharm": {
     "name": "#%%\n"
    }
   }
  },
  {
   "cell_type": "markdown",
   "source": [
    "#### Score the model"
   ],
   "metadata": {
    "collapsed": false
   }
  },
  {
   "cell_type": "code",
   "execution_count": 529,
   "outputs": [
    {
     "data": {
      "text/plain": "0.9021739130434783"
     },
     "execution_count": 529,
     "metadata": {},
     "output_type": "execute_result"
    }
   ],
   "source": [
    "lr.score(X_train, y_train)"
   ],
   "metadata": {
    "collapsed": false,
    "pycharm": {
     "name": "#%%\n"
    }
   }
  },
  {
   "cell_type": "code",
   "execution_count": 530,
   "outputs": [
    {
     "data": {
      "text/plain": "0.9032258064516129"
     },
     "execution_count": 530,
     "metadata": {},
     "output_type": "execute_result"
    }
   ],
   "source": [
    "lr.score(X_test, y_test)"
   ],
   "metadata": {
    "collapsed": false,
    "pycharm": {
     "name": "#%%\n"
    }
   }
  },
  {
   "cell_type": "markdown",
   "source": [
    "#### Prepare the predictions"
   ],
   "metadata": {
    "collapsed": false
   }
  },
  {
   "cell_type": "code",
   "execution_count": 531,
   "outputs": [
    {
     "name": "stdout",
     "output_type": "stream",
     "text": [
      "Confusion Matrix:\n",
      "[[21  0]\n",
      " [ 3  7]]\n",
      "------------------\n",
      "Accuracy: 0.90\n",
      "Recall: 0.70\n",
      "Prediction: 1.00\n",
      "f-measure: 0.82\n",
      "------------------\n",
      "              precision    recall  f1-score   support\n",
      "\n",
      "           0       0.88      1.00      0.93        21\n",
      "           1       1.00      0.70      0.82        10\n",
      "\n",
      "    accuracy                           0.90        31\n",
      "   macro avg       0.94      0.85      0.88        31\n",
      "weighted avg       0.92      0.90      0.90        31\n",
      "\n"
     ]
    }
   ],
   "source": [
    "predictions = lr.predict(X_test)\n",
    "printClassificationMetrics(y_test, predictions)"
   ],
   "metadata": {
    "collapsed": false,
    "pycharm": {
     "name": "#%%\n"
    }
   }
  },
  {
   "cell_type": "markdown",
   "source": [
    "#### Create the data set to use for the predictions"
   ],
   "metadata": {
    "collapsed": false
   }
  },
  {
   "cell_type": "code",
   "execution_count": 532,
   "outputs": [
    {
     "data": {
      "text/plain": "   Open  Close\n0    28     46\n1    61     47\n2    24     12",
      "text/html": "<div>\n<style scoped>\n    .dataframe tbody tr th:only-of-type {\n        vertical-align: middle;\n    }\n\n    .dataframe tbody tr th {\n        vertical-align: top;\n    }\n\n    .dataframe thead th {\n        text-align: right;\n    }\n</style>\n<table border=\"1\" class=\"dataframe\">\n  <thead>\n    <tr style=\"text-align: right;\">\n      <th></th>\n      <th>Open</th>\n      <th>Close</th>\n    </tr>\n  </thead>\n  <tbody>\n    <tr>\n      <th>0</th>\n      <td>28</td>\n      <td>46</td>\n    </tr>\n    <tr>\n      <th>1</th>\n      <td>61</td>\n      <td>47</td>\n    </tr>\n    <tr>\n      <th>2</th>\n      <td>24</td>\n      <td>12</td>\n    </tr>\n  </tbody>\n</table>\n</div>"
     },
     "execution_count": 532,
     "metadata": {},
     "output_type": "execute_result"
    }
   ],
   "source": [
    "amcStockPreparedData = prepareDataForPredictions(amcMergedDataFrame)\n",
    "amcPreparedData = pd.DataFrame.from_dict(amcStockPreparedData)\n",
    "amcPreparedData\n"
   ],
   "metadata": {
    "collapsed": false,
    "pycharm": {
     "name": "#%%\n"
    }
   }
  },
  {
   "cell_type": "markdown",
   "source": [
    "Use the dummy dataset to test our prediction"
   ],
   "metadata": {
    "collapsed": false
   }
  },
  {
   "cell_type": "code",
   "execution_count": 533,
   "outputs": [
    {
     "data": {
      "text/plain": "array([1, 1, 1])"
     },
     "execution_count": 533,
     "metadata": {},
     "output_type": "execute_result"
    }
   ],
   "source": [
    "predictions = lr.predict(amcPreparedData)\n",
    "predictions"
   ],
   "metadata": {
    "collapsed": false,
    "pycharm": {
     "name": "#%%\n"
    }
   }
  },
  {
   "cell_type": "code",
   "execution_count": 534,
   "outputs": [
    {
     "data": {
      "text/plain": "   Open  Close  Search Interest Above Average\n0    28     46                           True\n1    61     47                           True\n2    24     12                           True",
      "text/html": "<div>\n<style scoped>\n    .dataframe tbody tr th:only-of-type {\n        vertical-align: middle;\n    }\n\n    .dataframe tbody tr th {\n        vertical-align: top;\n    }\n\n    .dataframe thead th {\n        text-align: right;\n    }\n</style>\n<table border=\"1\" class=\"dataframe\">\n  <thead>\n    <tr style=\"text-align: right;\">\n      <th></th>\n      <th>Open</th>\n      <th>Close</th>\n      <th>Search Interest Above Average</th>\n    </tr>\n  </thead>\n  <tbody>\n    <tr>\n      <th>0</th>\n      <td>28</td>\n      <td>46</td>\n      <td>True</td>\n    </tr>\n    <tr>\n      <th>1</th>\n      <td>61</td>\n      <td>47</td>\n      <td>True</td>\n    </tr>\n    <tr>\n      <th>2</th>\n      <td>24</td>\n      <td>12</td>\n      <td>True</td>\n    </tr>\n  </tbody>\n</table>\n</div>"
     },
     "execution_count": 534,
     "metadata": {},
     "output_type": "execute_result"
    }
   ],
   "source": [
    "pdPredictedStockTrend = amcPreparedData\n",
    "pdPredictedStockTrend[\"Search Interest Above Average\"] = predictions.astype(bool)\n",
    "pdPredictedStockTrend"
   ],
   "metadata": {
    "collapsed": false,
    "pycharm": {
     "name": "#%%\n"
    }
   }
  },
  {
   "cell_type": "markdown",
   "source": [
    "#### Conclusion\n",
    "\n",
    "The linear regression model worked very well.  From the looks of it I was able to predict with extremely high accuracy what the close price would be for a stock based on the opening price, and search interest for the day.  Although in the real world this would be hard to get as search interest and the price changes are happening at the same time.  In my second model using logistical regression, I am not as confident with its prediction.  I tried to look from the other side to see if I could predict the search interest based on open and closed prices of AMC per day.  I felt like this would be interesting if it would conclude that search interest is high only when the stock is doing well.  This did not prove out as being a trend, but the again the accuracy of the model was high.\n",
    "\n",
    "\n",
    "\n",
    "\n",
    "### Coke\n",
    "Arielle Swift"
   ],
   "metadata": {
    "collapsed": false
   }
  },
  {
   "cell_type": "markdown",
   "source": [
    "#### Get Data"
   ],
   "metadata": {
    "collapsed": false
   }
  },
  {
   "cell_type": "code",
   "execution_count": 535,
   "outputs": [
    {
     "data": {
      "text/plain": "           Date       Open       High        Low      Close  Adj Close  \\\n0    2020-07-27  48.180000  48.509998  48.180000  48.480000  46.968781   \n1    2020-07-28  48.340000  49.279999  48.099998  48.180000  46.678131   \n2    2020-07-29  48.139999  48.500000  47.820000  48.020000  46.523117   \n3    2020-07-30  47.669998  48.230000  47.200001  47.689999  46.203403   \n4    2020-07-31  47.439999  47.770000  46.730000  47.240002  45.767437   \n..          ...        ...        ...        ...        ...        ...   \n245  2021-07-13  54.950001  55.299999  54.750000  55.020000  55.020000   \n246  2021-07-14  55.020000  56.349998  54.959999  56.259998  56.259998   \n247  2021-07-15  56.240002  56.470001  55.910000  56.439999  56.439999   \n248  2021-07-16  56.459999  56.680000  56.259998  56.400002  56.400002   \n249  2021-07-19  56.080002  56.349998  55.160000  55.730000  55.730000   \n\n       Volume    KO isPartial  \n0    17346500  82.0     False  \n1    13872700  82.0     False  \n2    13758100  82.0     False  \n3    17276500  88.0     False  \n4    14849200  89.0     False  \n..        ...   ...       ...  \n245  15170800  88.0     False  \n246  22002700  91.0     False  \n247  15068200  85.0     False  \n248  14857600  91.0     False  \n249  19527000   NaN       NaN  \n\n[250 rows x 9 columns]",
      "text/html": "<div>\n<style scoped>\n    .dataframe tbody tr th:only-of-type {\n        vertical-align: middle;\n    }\n\n    .dataframe tbody tr th {\n        vertical-align: top;\n    }\n\n    .dataframe thead th {\n        text-align: right;\n    }\n</style>\n<table border=\"1\" class=\"dataframe\">\n  <thead>\n    <tr style=\"text-align: right;\">\n      <th></th>\n      <th>Date</th>\n      <th>Open</th>\n      <th>High</th>\n      <th>Low</th>\n      <th>Close</th>\n      <th>Adj Close</th>\n      <th>Volume</th>\n      <th>KO</th>\n      <th>isPartial</th>\n    </tr>\n  </thead>\n  <tbody>\n    <tr>\n      <th>0</th>\n      <td>2020-07-27</td>\n      <td>48.180000</td>\n      <td>48.509998</td>\n      <td>48.180000</td>\n      <td>48.480000</td>\n      <td>46.968781</td>\n      <td>17346500</td>\n      <td>82.0</td>\n      <td>False</td>\n    </tr>\n    <tr>\n      <th>1</th>\n      <td>2020-07-28</td>\n      <td>48.340000</td>\n      <td>49.279999</td>\n      <td>48.099998</td>\n      <td>48.180000</td>\n      <td>46.678131</td>\n      <td>13872700</td>\n      <td>82.0</td>\n      <td>False</td>\n    </tr>\n    <tr>\n      <th>2</th>\n      <td>2020-07-29</td>\n      <td>48.139999</td>\n      <td>48.500000</td>\n      <td>47.820000</td>\n      <td>48.020000</td>\n      <td>46.523117</td>\n      <td>13758100</td>\n      <td>82.0</td>\n      <td>False</td>\n    </tr>\n    <tr>\n      <th>3</th>\n      <td>2020-07-30</td>\n      <td>47.669998</td>\n      <td>48.230000</td>\n      <td>47.200001</td>\n      <td>47.689999</td>\n      <td>46.203403</td>\n      <td>17276500</td>\n      <td>88.0</td>\n      <td>False</td>\n    </tr>\n    <tr>\n      <th>4</th>\n      <td>2020-07-31</td>\n      <td>47.439999</td>\n      <td>47.770000</td>\n      <td>46.730000</td>\n      <td>47.240002</td>\n      <td>45.767437</td>\n      <td>14849200</td>\n      <td>89.0</td>\n      <td>False</td>\n    </tr>\n    <tr>\n      <th>...</th>\n      <td>...</td>\n      <td>...</td>\n      <td>...</td>\n      <td>...</td>\n      <td>...</td>\n      <td>...</td>\n      <td>...</td>\n      <td>...</td>\n      <td>...</td>\n    </tr>\n    <tr>\n      <th>245</th>\n      <td>2021-07-13</td>\n      <td>54.950001</td>\n      <td>55.299999</td>\n      <td>54.750000</td>\n      <td>55.020000</td>\n      <td>55.020000</td>\n      <td>15170800</td>\n      <td>88.0</td>\n      <td>False</td>\n    </tr>\n    <tr>\n      <th>246</th>\n      <td>2021-07-14</td>\n      <td>55.020000</td>\n      <td>56.349998</td>\n      <td>54.959999</td>\n      <td>56.259998</td>\n      <td>56.259998</td>\n      <td>22002700</td>\n      <td>91.0</td>\n      <td>False</td>\n    </tr>\n    <tr>\n      <th>247</th>\n      <td>2021-07-15</td>\n      <td>56.240002</td>\n      <td>56.470001</td>\n      <td>55.910000</td>\n      <td>56.439999</td>\n      <td>56.439999</td>\n      <td>15068200</td>\n      <td>85.0</td>\n      <td>False</td>\n    </tr>\n    <tr>\n      <th>248</th>\n      <td>2021-07-16</td>\n      <td>56.459999</td>\n      <td>56.680000</td>\n      <td>56.259998</td>\n      <td>56.400002</td>\n      <td>56.400002</td>\n      <td>14857600</td>\n      <td>91.0</td>\n      <td>False</td>\n    </tr>\n    <tr>\n      <th>249</th>\n      <td>2021-07-19</td>\n      <td>56.080002</td>\n      <td>56.349998</td>\n      <td>55.160000</td>\n      <td>55.730000</td>\n      <td>55.730000</td>\n      <td>19527000</td>\n      <td>NaN</td>\n      <td>NaN</td>\n    </tr>\n  </tbody>\n</table>\n<p>250 rows × 9 columns</p>\n</div>"
     },
     "execution_count": 535,
     "metadata": {},
     "output_type": "execute_result"
    }
   ],
   "source": [
    "CokeDataSetQtr2 = get_data(\"KO\")\n",
    "\n",
    "# Name unnamed date column\n",
    "CokeDataSetQtr2.reset_index(inplace=True)\n",
    "CokeDataSetQtr2.rename(columns = {\"index\": \"Date\"},inplace = True)\n",
    "CokeDataSetQtr2"
   ],
   "metadata": {
    "collapsed": false,
    "pycharm": {
     "name": "#%%\n"
    }
   }
  },
  {
   "cell_type": "code",
   "execution_count": 536,
   "outputs": [
    {
     "data": {
      "text/plain": "           Date       Open       High        Low      Close  Adj Close  \\\n0    07-27-2020  48.180000  48.509998  48.180000  48.480000  46.968781   \n1    07-28-2020  48.340000  49.279999  48.099998  48.180000  46.678131   \n2    07-29-2020  48.139999  48.500000  47.820000  48.020000  46.523117   \n3    07-30-2020  47.669998  48.230000  47.200001  47.689999  46.203403   \n4    07-31-2020  47.439999  47.770000  46.730000  47.240002  45.767437   \n..          ...        ...        ...        ...        ...        ...   \n245  07-13-2021  54.950001  55.299999  54.750000  55.020000  55.020000   \n246  07-14-2021  55.020000  56.349998  54.959999  56.259998  56.259998   \n247  07-15-2021  56.240002  56.470001  55.910000  56.439999  56.439999   \n248  07-16-2021  56.459999  56.680000  56.259998  56.400002  56.400002   \n249  07-19-2021  56.080002  56.349998  55.160000  55.730000  55.730000   \n\n       Volume    KO isPartial  \n0    17346500  82.0     False  \n1    13872700  82.0     False  \n2    13758100  82.0     False  \n3    17276500  88.0     False  \n4    14849200  89.0     False  \n..        ...   ...       ...  \n245  15170800  88.0     False  \n246  22002700  91.0     False  \n247  15068200  85.0     False  \n248  14857600  91.0     False  \n249  19527000   NaN       NaN  \n\n[250 rows x 9 columns]",
      "text/html": "<div>\n<style scoped>\n    .dataframe tbody tr th:only-of-type {\n        vertical-align: middle;\n    }\n\n    .dataframe tbody tr th {\n        vertical-align: top;\n    }\n\n    .dataframe thead th {\n        text-align: right;\n    }\n</style>\n<table border=\"1\" class=\"dataframe\">\n  <thead>\n    <tr style=\"text-align: right;\">\n      <th></th>\n      <th>Date</th>\n      <th>Open</th>\n      <th>High</th>\n      <th>Low</th>\n      <th>Close</th>\n      <th>Adj Close</th>\n      <th>Volume</th>\n      <th>KO</th>\n      <th>isPartial</th>\n    </tr>\n  </thead>\n  <tbody>\n    <tr>\n      <th>0</th>\n      <td>07-27-2020</td>\n      <td>48.180000</td>\n      <td>48.509998</td>\n      <td>48.180000</td>\n      <td>48.480000</td>\n      <td>46.968781</td>\n      <td>17346500</td>\n      <td>82.0</td>\n      <td>False</td>\n    </tr>\n    <tr>\n      <th>1</th>\n      <td>07-28-2020</td>\n      <td>48.340000</td>\n      <td>49.279999</td>\n      <td>48.099998</td>\n      <td>48.180000</td>\n      <td>46.678131</td>\n      <td>13872700</td>\n      <td>82.0</td>\n      <td>False</td>\n    </tr>\n    <tr>\n      <th>2</th>\n      <td>07-29-2020</td>\n      <td>48.139999</td>\n      <td>48.500000</td>\n      <td>47.820000</td>\n      <td>48.020000</td>\n      <td>46.523117</td>\n      <td>13758100</td>\n      <td>82.0</td>\n      <td>False</td>\n    </tr>\n    <tr>\n      <th>3</th>\n      <td>07-30-2020</td>\n      <td>47.669998</td>\n      <td>48.230000</td>\n      <td>47.200001</td>\n      <td>47.689999</td>\n      <td>46.203403</td>\n      <td>17276500</td>\n      <td>88.0</td>\n      <td>False</td>\n    </tr>\n    <tr>\n      <th>4</th>\n      <td>07-31-2020</td>\n      <td>47.439999</td>\n      <td>47.770000</td>\n      <td>46.730000</td>\n      <td>47.240002</td>\n      <td>45.767437</td>\n      <td>14849200</td>\n      <td>89.0</td>\n      <td>False</td>\n    </tr>\n    <tr>\n      <th>...</th>\n      <td>...</td>\n      <td>...</td>\n      <td>...</td>\n      <td>...</td>\n      <td>...</td>\n      <td>...</td>\n      <td>...</td>\n      <td>...</td>\n      <td>...</td>\n    </tr>\n    <tr>\n      <th>245</th>\n      <td>07-13-2021</td>\n      <td>54.950001</td>\n      <td>55.299999</td>\n      <td>54.750000</td>\n      <td>55.020000</td>\n      <td>55.020000</td>\n      <td>15170800</td>\n      <td>88.0</td>\n      <td>False</td>\n    </tr>\n    <tr>\n      <th>246</th>\n      <td>07-14-2021</td>\n      <td>55.020000</td>\n      <td>56.349998</td>\n      <td>54.959999</td>\n      <td>56.259998</td>\n      <td>56.259998</td>\n      <td>22002700</td>\n      <td>91.0</td>\n      <td>False</td>\n    </tr>\n    <tr>\n      <th>247</th>\n      <td>07-15-2021</td>\n      <td>56.240002</td>\n      <td>56.470001</td>\n      <td>55.910000</td>\n      <td>56.439999</td>\n      <td>56.439999</td>\n      <td>15068200</td>\n      <td>85.0</td>\n      <td>False</td>\n    </tr>\n    <tr>\n      <th>248</th>\n      <td>07-16-2021</td>\n      <td>56.459999</td>\n      <td>56.680000</td>\n      <td>56.259998</td>\n      <td>56.400002</td>\n      <td>56.400002</td>\n      <td>14857600</td>\n      <td>91.0</td>\n      <td>False</td>\n    </tr>\n    <tr>\n      <th>249</th>\n      <td>07-19-2021</td>\n      <td>56.080002</td>\n      <td>56.349998</td>\n      <td>55.160000</td>\n      <td>55.730000</td>\n      <td>55.730000</td>\n      <td>19527000</td>\n      <td>NaN</td>\n      <td>NaN</td>\n    </tr>\n  </tbody>\n</table>\n<p>250 rows × 9 columns</p>\n</div>"
     },
     "execution_count": 536,
     "metadata": {},
     "output_type": "execute_result"
    }
   ],
   "source": [
    "CokeDataSetQtr2['Date']= pd.to_datetime(CokeDataSetQtr2['Date'],format='%Y-%m-%d')\n",
    "CokeDataSetQtr2['Date'] = CokeDataSetQtr2['Date'].dt.strftime('%m-%d-%Y')\n",
    "CokeDataSetQtr2\n"
   ],
   "metadata": {
    "collapsed": false,
    "pycharm": {
     "name": "#%%\n"
    }
   }
  },
  {
   "cell_type": "code",
   "execution_count": 537,
   "outputs": [],
   "source": [
    "CokeDataSetQtr2 = CokeDataSetQtr2.loc[(CokeDataSetQtr2['Date'] >= '04-01-2021')\n",
    "                     & (CokeDataSetQtr2['Date'] < '07-01-2021')]\n",
    "CokeDataSetQtr2.reset_index(drop=True, inplace=True)"
   ],
   "metadata": {
    "collapsed": false,
    "pycharm": {
     "name": "#%%\n"
    }
   }
  },
  {
   "cell_type": "code",
   "execution_count": 538,
   "outputs": [
    {
     "name": "stderr",
     "output_type": "stream",
     "text": [
      "<ipython-input-538-5037a9abd21b>:1: SettingWithCopyWarning:\n",
      "\n",
      "\n",
      "A value is trying to be set on a copy of a slice from a DataFrame.\n",
      "Try using .loc[row_indexer,col_indexer] = value instead\n",
      "\n",
      "See the caveats in the documentation: https://pandas.pydata.org/pandas-docs/stable/user_guide/indexing.html#returning-a-view-versus-a-copy\n",
      "\n"
     ]
    },
    {
     "data": {
      "text/plain": "          Date       Open       High        Low      Close  Adj Close  \\\n0   04-01-2021  52.959999  53.150002  52.459999  52.509998  52.117294   \n1   04-05-2021  52.349998  53.220001  52.290001  52.810001  52.415054   \n2   04-06-2021  53.040001  53.650002  52.900002  53.189999  52.792210   \n3   04-07-2021  53.279999  53.500000  53.119999  53.279999  52.881535   \n4   04-08-2021  53.169998  53.380001  52.970001  53.119999  52.722733   \n5   04-09-2021  53.169998  53.279999  52.810001  53.180000  52.782284   \n6   04-12-2021  53.330002  53.549999  53.099998  53.349998  52.951012   \n7   04-13-2021  53.040001  53.290001  52.810001  53.090000  52.692959   \n8   04-14-2021  52.980000  53.189999  52.650002  53.080002  52.683033   \n9   04-15-2021  53.130001  53.660000  53.119999  53.330002  52.931164   \n10  04-16-2021  53.740002  53.799999  53.380001  53.680000  53.278545   \n11  04-19-2021  54.000000  54.360001  53.299999  54.000000  53.596153   \n12  04-20-2021  53.840000  54.590000  53.810001  54.169998  53.764881   \n13  04-21-2021  54.240002  54.740002  54.240002  54.610001  54.201591   \n14  04-21-2021  54.240002  54.740002  54.240002  54.610001  54.201591   \n15  04-22-2021  54.470001  54.869999  54.320000  54.439999  54.032860   \n16  04-23-2021  54.400002  54.590000  54.169998  54.470001  54.062637   \n17  04-26-2021  54.470001  54.509998  53.580002  53.660000  53.258694   \n18  04-27-2021  53.560001  53.700001  53.320000  53.580002  53.179295   \n19  04-28-2021  53.980000  54.049999  53.439999  53.590000  53.189220   \n20  04-29-2021  53.540001  54.360001  53.430000  54.259998  53.854206   \n21  04-30-2021  54.250000  54.270000  53.689999  53.980000  53.576302   \n22  05-03-2021  54.270000  54.799999  54.160000  54.480000  54.072563   \n23  05-04-2021  54.570000  54.619999  53.939999  54.139999  53.735104   \n24  05-05-2021  54.139999  54.240002  53.709999  54.000000  53.596153   \n25  05-06-2021  54.119999  54.610001  54.049999  54.540001  54.132114   \n26  05-07-2021  54.439999  54.770000  54.160000  54.509998  54.102337   \n27  05-10-2021  54.880001  55.500000  54.830002  54.910000  54.499348   \n28  05-11-2021  55.029999  55.139999  54.049999  54.320000  53.913757   \n29  05-12-2021  54.360001  54.560001  53.880001  54.040001  53.635853   \n30  05-13-2021  53.970001  54.779999  53.830002  54.509998  54.102337   \n31  05-14-2021  54.900002  55.099998  54.689999  54.730000  54.320694   \n32  05-17-2021  54.840000  55.020000  54.500000  54.639999  54.231365   \n33  05-18-2021  54.389999  54.560001  54.099998  54.340000  53.933609   \n34  05-19-2021  54.119999  54.180000  53.610001  54.169998  53.764881   \n35  05-20-2021  54.119999  54.799999  54.119999  54.650002  54.241295   \n36  05-21-2021  54.799999  55.119999  54.220001  54.619999  54.211514   \n37  05-24-2021  54.630001  54.930000  54.490002  54.799999  54.390167   \n38  05-25-2021  54.820000  54.820000  54.349998  54.790001  54.380245   \n39  05-26-2021  54.980000  55.049999  54.590000  55.029999  54.618450   \n40  05-27-2021  55.209999  55.570000  54.779999  55.490002  55.075012   \n41  05-28-2021  55.349998  55.709999  55.200001  55.290001  54.876507   \n42  06-01-2021  55.340000  55.650002  55.099998  55.279999  54.866577   \n43  06-02-2021  55.500000  55.560001  55.259998  55.500000  55.084934   \n44  06-03-2021  55.180000  55.740002  55.099998  55.639999  55.223888   \n45  06-04-2021  55.900002  56.480000  55.779999  56.240002  55.819401   \n46  06-07-2021  56.310001  56.340000  55.810001  56.040001  55.620895   \n47  06-08-2021  56.250000  56.250000  55.549999  55.650002  55.233814   \n48  06-09-2021  55.750000  55.919998  55.480000  55.480000  55.065083   \n49  06-10-2021  55.910000  56.119999  55.759998  55.910000  55.491867   \n50  06-11-2021  55.990002  56.209999  55.660000  56.160000  55.739998   \n51  06-14-2021  55.689999  55.709999  55.200001  55.549999  55.549999   \n52  06-15-2021  55.779999  55.790001  55.189999  55.410000  55.410000   \n53  06-16-2021  55.439999  55.459999  54.639999  54.669998  54.669998   \n54  06-17-2021  54.669998  55.150002  54.650002  54.950001  54.950001   \n55  06-18-2021  54.509998  54.619999  53.720001  53.770000  53.770000   \n56  06-21-2021  54.220001  54.430000  54.000000  54.360001  54.360001   \n57  06-22-2021  54.340000  54.849998  54.259998  54.560001  54.560001   \n58  06-23-2021  54.560001  54.599998  54.110001  54.119999  54.119999   \n59  06-24-2021  54.259998  54.419998  54.000000  54.389999  54.389999   \n60  06-25-2021  54.240002  54.470001  54.009998  54.320000  54.320000   \n61  06-28-2021  54.250000  54.369999  54.000000  54.259998  54.259998   \n62  06-29-2021  54.130001  54.340000  53.720001  53.860001  53.860001   \n63  06-30-2021  53.799999  54.180000  53.750000  54.110001  54.110001   \n\n      Volume    KO isPartial  InvestToday  \n0   15834700  84.0     False            0  \n1   16368700  87.0     False            1  \n2   15614300  83.0     False            1  \n3   10062700  81.0     False            0  \n4    9695600  83.0     False            0  \n5   10828200  85.0     False            1  \n6    8565300  82.0     False            1  \n7   11071700  85.0     False            1  \n8    9787600  78.0     False            1  \n9   13078100  81.0     False            1  \n10  17974100  80.0     False            0  \n11  19352900  81.0     False            0  \n12  14419200  80.0     False            1  \n13  13866500  82.0     False            1  \n14  13866500  79.0     False            1  \n15  12558900  79.0     False            0  \n16   9020500  78.0     False            1  \n17  11684600  81.0     False            0  \n18   9852400  78.0     False            1  \n19  10868100  77.0     False            0  \n20  15391000  77.0     False            1  \n21  14912600  79.0     False            0  \n22  10417900  82.0     False            1  \n23  14151000  81.0     False            0  \n24   9665900  76.0     False            0  \n25  11572700  83.0     False            1  \n26  10637500  84.0     False            1  \n27  15545800  85.0     False            1  \n28  12986700  85.0     False            0  \n29  15836500  85.0     False            0  \n30  15475800  82.0     False            1  \n31  11725300  89.0     False            0  \n32  12119800  79.0     False            0  \n33  13232500  82.0     False            0  \n34  15126100  81.0     False            1  \n35  10948400  80.0     False            1  \n36  16033200  81.0     False            0  \n37  10326100  85.0     False            1  \n38  11916500  85.0     False            0  \n39  16064300  90.0     False            1  \n40  59109600  84.0     False            1  \n41  17011600  80.0     False            0  \n42  13304000  83.0     False            0  \n43  11328500  85.0     False            0  \n44  17364300  85.0     False            1  \n45  18935100  89.0     False            1  \n46  14010800  83.0     False            0  \n47  10968300  81.0     False            0  \n48   9838800  85.0     False            0  \n49  12444400  88.0     False            0  \n50  11825800  86.0     False            1  \n51   9710800  85.0     False            0  \n52  11154200  84.0     False            0  \n53  15211700  83.0     False            0  \n54  10658400  86.0     False            1  \n55  31445600  87.0     False            0  \n56  14404300  81.0     False            1  \n57  13072800  80.0     False            1  \n58  12339200  82.0     False            0  \n59  11488400  85.0     False            1  \n60  18880300  88.0     False            1  \n61  10556900  81.0     False            1  \n62  12300900  82.0     False            0  \n63  14614200  83.0     False            1  ",
      "text/html": "<div>\n<style scoped>\n    .dataframe tbody tr th:only-of-type {\n        vertical-align: middle;\n    }\n\n    .dataframe tbody tr th {\n        vertical-align: top;\n    }\n\n    .dataframe thead th {\n        text-align: right;\n    }\n</style>\n<table border=\"1\" class=\"dataframe\">\n  <thead>\n    <tr style=\"text-align: right;\">\n      <th></th>\n      <th>Date</th>\n      <th>Open</th>\n      <th>High</th>\n      <th>Low</th>\n      <th>Close</th>\n      <th>Adj Close</th>\n      <th>Volume</th>\n      <th>KO</th>\n      <th>isPartial</th>\n      <th>InvestToday</th>\n    </tr>\n  </thead>\n  <tbody>\n    <tr>\n      <th>0</th>\n      <td>04-01-2021</td>\n      <td>52.959999</td>\n      <td>53.150002</td>\n      <td>52.459999</td>\n      <td>52.509998</td>\n      <td>52.117294</td>\n      <td>15834700</td>\n      <td>84.0</td>\n      <td>False</td>\n      <td>0</td>\n    </tr>\n    <tr>\n      <th>1</th>\n      <td>04-05-2021</td>\n      <td>52.349998</td>\n      <td>53.220001</td>\n      <td>52.290001</td>\n      <td>52.810001</td>\n      <td>52.415054</td>\n      <td>16368700</td>\n      <td>87.0</td>\n      <td>False</td>\n      <td>1</td>\n    </tr>\n    <tr>\n      <th>2</th>\n      <td>04-06-2021</td>\n      <td>53.040001</td>\n      <td>53.650002</td>\n      <td>52.900002</td>\n      <td>53.189999</td>\n      <td>52.792210</td>\n      <td>15614300</td>\n      <td>83.0</td>\n      <td>False</td>\n      <td>1</td>\n    </tr>\n    <tr>\n      <th>3</th>\n      <td>04-07-2021</td>\n      <td>53.279999</td>\n      <td>53.500000</td>\n      <td>53.119999</td>\n      <td>53.279999</td>\n      <td>52.881535</td>\n      <td>10062700</td>\n      <td>81.0</td>\n      <td>False</td>\n      <td>0</td>\n    </tr>\n    <tr>\n      <th>4</th>\n      <td>04-08-2021</td>\n      <td>53.169998</td>\n      <td>53.380001</td>\n      <td>52.970001</td>\n      <td>53.119999</td>\n      <td>52.722733</td>\n      <td>9695600</td>\n      <td>83.0</td>\n      <td>False</td>\n      <td>0</td>\n    </tr>\n    <tr>\n      <th>5</th>\n      <td>04-09-2021</td>\n      <td>53.169998</td>\n      <td>53.279999</td>\n      <td>52.810001</td>\n      <td>53.180000</td>\n      <td>52.782284</td>\n      <td>10828200</td>\n      <td>85.0</td>\n      <td>False</td>\n      <td>1</td>\n    </tr>\n    <tr>\n      <th>6</th>\n      <td>04-12-2021</td>\n      <td>53.330002</td>\n      <td>53.549999</td>\n      <td>53.099998</td>\n      <td>53.349998</td>\n      <td>52.951012</td>\n      <td>8565300</td>\n      <td>82.0</td>\n      <td>False</td>\n      <td>1</td>\n    </tr>\n    <tr>\n      <th>7</th>\n      <td>04-13-2021</td>\n      <td>53.040001</td>\n      <td>53.290001</td>\n      <td>52.810001</td>\n      <td>53.090000</td>\n      <td>52.692959</td>\n      <td>11071700</td>\n      <td>85.0</td>\n      <td>False</td>\n      <td>1</td>\n    </tr>\n    <tr>\n      <th>8</th>\n      <td>04-14-2021</td>\n      <td>52.980000</td>\n      <td>53.189999</td>\n      <td>52.650002</td>\n      <td>53.080002</td>\n      <td>52.683033</td>\n      <td>9787600</td>\n      <td>78.0</td>\n      <td>False</td>\n      <td>1</td>\n    </tr>\n    <tr>\n      <th>9</th>\n      <td>04-15-2021</td>\n      <td>53.130001</td>\n      <td>53.660000</td>\n      <td>53.119999</td>\n      <td>53.330002</td>\n      <td>52.931164</td>\n      <td>13078100</td>\n      <td>81.0</td>\n      <td>False</td>\n      <td>1</td>\n    </tr>\n    <tr>\n      <th>10</th>\n      <td>04-16-2021</td>\n      <td>53.740002</td>\n      <td>53.799999</td>\n      <td>53.380001</td>\n      <td>53.680000</td>\n      <td>53.278545</td>\n      <td>17974100</td>\n      <td>80.0</td>\n      <td>False</td>\n      <td>0</td>\n    </tr>\n    <tr>\n      <th>11</th>\n      <td>04-19-2021</td>\n      <td>54.000000</td>\n      <td>54.360001</td>\n      <td>53.299999</td>\n      <td>54.000000</td>\n      <td>53.596153</td>\n      <td>19352900</td>\n      <td>81.0</td>\n      <td>False</td>\n      <td>0</td>\n    </tr>\n    <tr>\n      <th>12</th>\n      <td>04-20-2021</td>\n      <td>53.840000</td>\n      <td>54.590000</td>\n      <td>53.810001</td>\n      <td>54.169998</td>\n      <td>53.764881</td>\n      <td>14419200</td>\n      <td>80.0</td>\n      <td>False</td>\n      <td>1</td>\n    </tr>\n    <tr>\n      <th>13</th>\n      <td>04-21-2021</td>\n      <td>54.240002</td>\n      <td>54.740002</td>\n      <td>54.240002</td>\n      <td>54.610001</td>\n      <td>54.201591</td>\n      <td>13866500</td>\n      <td>82.0</td>\n      <td>False</td>\n      <td>1</td>\n    </tr>\n    <tr>\n      <th>14</th>\n      <td>04-21-2021</td>\n      <td>54.240002</td>\n      <td>54.740002</td>\n      <td>54.240002</td>\n      <td>54.610001</td>\n      <td>54.201591</td>\n      <td>13866500</td>\n      <td>79.0</td>\n      <td>False</td>\n      <td>1</td>\n    </tr>\n    <tr>\n      <th>15</th>\n      <td>04-22-2021</td>\n      <td>54.470001</td>\n      <td>54.869999</td>\n      <td>54.320000</td>\n      <td>54.439999</td>\n      <td>54.032860</td>\n      <td>12558900</td>\n      <td>79.0</td>\n      <td>False</td>\n      <td>0</td>\n    </tr>\n    <tr>\n      <th>16</th>\n      <td>04-23-2021</td>\n      <td>54.400002</td>\n      <td>54.590000</td>\n      <td>54.169998</td>\n      <td>54.470001</td>\n      <td>54.062637</td>\n      <td>9020500</td>\n      <td>78.0</td>\n      <td>False</td>\n      <td>1</td>\n    </tr>\n    <tr>\n      <th>17</th>\n      <td>04-26-2021</td>\n      <td>54.470001</td>\n      <td>54.509998</td>\n      <td>53.580002</td>\n      <td>53.660000</td>\n      <td>53.258694</td>\n      <td>11684600</td>\n      <td>81.0</td>\n      <td>False</td>\n      <td>0</td>\n    </tr>\n    <tr>\n      <th>18</th>\n      <td>04-27-2021</td>\n      <td>53.560001</td>\n      <td>53.700001</td>\n      <td>53.320000</td>\n      <td>53.580002</td>\n      <td>53.179295</td>\n      <td>9852400</td>\n      <td>78.0</td>\n      <td>False</td>\n      <td>1</td>\n    </tr>\n    <tr>\n      <th>19</th>\n      <td>04-28-2021</td>\n      <td>53.980000</td>\n      <td>54.049999</td>\n      <td>53.439999</td>\n      <td>53.590000</td>\n      <td>53.189220</td>\n      <td>10868100</td>\n      <td>77.0</td>\n      <td>False</td>\n      <td>0</td>\n    </tr>\n    <tr>\n      <th>20</th>\n      <td>04-29-2021</td>\n      <td>53.540001</td>\n      <td>54.360001</td>\n      <td>53.430000</td>\n      <td>54.259998</td>\n      <td>53.854206</td>\n      <td>15391000</td>\n      <td>77.0</td>\n      <td>False</td>\n      <td>1</td>\n    </tr>\n    <tr>\n      <th>21</th>\n      <td>04-30-2021</td>\n      <td>54.250000</td>\n      <td>54.270000</td>\n      <td>53.689999</td>\n      <td>53.980000</td>\n      <td>53.576302</td>\n      <td>14912600</td>\n      <td>79.0</td>\n      <td>False</td>\n      <td>0</td>\n    </tr>\n    <tr>\n      <th>22</th>\n      <td>05-03-2021</td>\n      <td>54.270000</td>\n      <td>54.799999</td>\n      <td>54.160000</td>\n      <td>54.480000</td>\n      <td>54.072563</td>\n      <td>10417900</td>\n      <td>82.0</td>\n      <td>False</td>\n      <td>1</td>\n    </tr>\n    <tr>\n      <th>23</th>\n      <td>05-04-2021</td>\n      <td>54.570000</td>\n      <td>54.619999</td>\n      <td>53.939999</td>\n      <td>54.139999</td>\n      <td>53.735104</td>\n      <td>14151000</td>\n      <td>81.0</td>\n      <td>False</td>\n      <td>0</td>\n    </tr>\n    <tr>\n      <th>24</th>\n      <td>05-05-2021</td>\n      <td>54.139999</td>\n      <td>54.240002</td>\n      <td>53.709999</td>\n      <td>54.000000</td>\n      <td>53.596153</td>\n      <td>9665900</td>\n      <td>76.0</td>\n      <td>False</td>\n      <td>0</td>\n    </tr>\n    <tr>\n      <th>25</th>\n      <td>05-06-2021</td>\n      <td>54.119999</td>\n      <td>54.610001</td>\n      <td>54.049999</td>\n      <td>54.540001</td>\n      <td>54.132114</td>\n      <td>11572700</td>\n      <td>83.0</td>\n      <td>False</td>\n      <td>1</td>\n    </tr>\n    <tr>\n      <th>26</th>\n      <td>05-07-2021</td>\n      <td>54.439999</td>\n      <td>54.770000</td>\n      <td>54.160000</td>\n      <td>54.509998</td>\n      <td>54.102337</td>\n      <td>10637500</td>\n      <td>84.0</td>\n      <td>False</td>\n      <td>1</td>\n    </tr>\n    <tr>\n      <th>27</th>\n      <td>05-10-2021</td>\n      <td>54.880001</td>\n      <td>55.500000</td>\n      <td>54.830002</td>\n      <td>54.910000</td>\n      <td>54.499348</td>\n      <td>15545800</td>\n      <td>85.0</td>\n      <td>False</td>\n      <td>1</td>\n    </tr>\n    <tr>\n      <th>28</th>\n      <td>05-11-2021</td>\n      <td>55.029999</td>\n      <td>55.139999</td>\n      <td>54.049999</td>\n      <td>54.320000</td>\n      <td>53.913757</td>\n      <td>12986700</td>\n      <td>85.0</td>\n      <td>False</td>\n      <td>0</td>\n    </tr>\n    <tr>\n      <th>29</th>\n      <td>05-12-2021</td>\n      <td>54.360001</td>\n      <td>54.560001</td>\n      <td>53.880001</td>\n      <td>54.040001</td>\n      <td>53.635853</td>\n      <td>15836500</td>\n      <td>85.0</td>\n      <td>False</td>\n      <td>0</td>\n    </tr>\n    <tr>\n      <th>30</th>\n      <td>05-13-2021</td>\n      <td>53.970001</td>\n      <td>54.779999</td>\n      <td>53.830002</td>\n      <td>54.509998</td>\n      <td>54.102337</td>\n      <td>15475800</td>\n      <td>82.0</td>\n      <td>False</td>\n      <td>1</td>\n    </tr>\n    <tr>\n      <th>31</th>\n      <td>05-14-2021</td>\n      <td>54.900002</td>\n      <td>55.099998</td>\n      <td>54.689999</td>\n      <td>54.730000</td>\n      <td>54.320694</td>\n      <td>11725300</td>\n      <td>89.0</td>\n      <td>False</td>\n      <td>0</td>\n    </tr>\n    <tr>\n      <th>32</th>\n      <td>05-17-2021</td>\n      <td>54.840000</td>\n      <td>55.020000</td>\n      <td>54.500000</td>\n      <td>54.639999</td>\n      <td>54.231365</td>\n      <td>12119800</td>\n      <td>79.0</td>\n      <td>False</td>\n      <td>0</td>\n    </tr>\n    <tr>\n      <th>33</th>\n      <td>05-18-2021</td>\n      <td>54.389999</td>\n      <td>54.560001</td>\n      <td>54.099998</td>\n      <td>54.340000</td>\n      <td>53.933609</td>\n      <td>13232500</td>\n      <td>82.0</td>\n      <td>False</td>\n      <td>0</td>\n    </tr>\n    <tr>\n      <th>34</th>\n      <td>05-19-2021</td>\n      <td>54.119999</td>\n      <td>54.180000</td>\n      <td>53.610001</td>\n      <td>54.169998</td>\n      <td>53.764881</td>\n      <td>15126100</td>\n      <td>81.0</td>\n      <td>False</td>\n      <td>1</td>\n    </tr>\n    <tr>\n      <th>35</th>\n      <td>05-20-2021</td>\n      <td>54.119999</td>\n      <td>54.799999</td>\n      <td>54.119999</td>\n      <td>54.650002</td>\n      <td>54.241295</td>\n      <td>10948400</td>\n      <td>80.0</td>\n      <td>False</td>\n      <td>1</td>\n    </tr>\n    <tr>\n      <th>36</th>\n      <td>05-21-2021</td>\n      <td>54.799999</td>\n      <td>55.119999</td>\n      <td>54.220001</td>\n      <td>54.619999</td>\n      <td>54.211514</td>\n      <td>16033200</td>\n      <td>81.0</td>\n      <td>False</td>\n      <td>0</td>\n    </tr>\n    <tr>\n      <th>37</th>\n      <td>05-24-2021</td>\n      <td>54.630001</td>\n      <td>54.930000</td>\n      <td>54.490002</td>\n      <td>54.799999</td>\n      <td>54.390167</td>\n      <td>10326100</td>\n      <td>85.0</td>\n      <td>False</td>\n      <td>1</td>\n    </tr>\n    <tr>\n      <th>38</th>\n      <td>05-25-2021</td>\n      <td>54.820000</td>\n      <td>54.820000</td>\n      <td>54.349998</td>\n      <td>54.790001</td>\n      <td>54.380245</td>\n      <td>11916500</td>\n      <td>85.0</td>\n      <td>False</td>\n      <td>0</td>\n    </tr>\n    <tr>\n      <th>39</th>\n      <td>05-26-2021</td>\n      <td>54.980000</td>\n      <td>55.049999</td>\n      <td>54.590000</td>\n      <td>55.029999</td>\n      <td>54.618450</td>\n      <td>16064300</td>\n      <td>90.0</td>\n      <td>False</td>\n      <td>1</td>\n    </tr>\n    <tr>\n      <th>40</th>\n      <td>05-27-2021</td>\n      <td>55.209999</td>\n      <td>55.570000</td>\n      <td>54.779999</td>\n      <td>55.490002</td>\n      <td>55.075012</td>\n      <td>59109600</td>\n      <td>84.0</td>\n      <td>False</td>\n      <td>1</td>\n    </tr>\n    <tr>\n      <th>41</th>\n      <td>05-28-2021</td>\n      <td>55.349998</td>\n      <td>55.709999</td>\n      <td>55.200001</td>\n      <td>55.290001</td>\n      <td>54.876507</td>\n      <td>17011600</td>\n      <td>80.0</td>\n      <td>False</td>\n      <td>0</td>\n    </tr>\n    <tr>\n      <th>42</th>\n      <td>06-01-2021</td>\n      <td>55.340000</td>\n      <td>55.650002</td>\n      <td>55.099998</td>\n      <td>55.279999</td>\n      <td>54.866577</td>\n      <td>13304000</td>\n      <td>83.0</td>\n      <td>False</td>\n      <td>0</td>\n    </tr>\n    <tr>\n      <th>43</th>\n      <td>06-02-2021</td>\n      <td>55.500000</td>\n      <td>55.560001</td>\n      <td>55.259998</td>\n      <td>55.500000</td>\n      <td>55.084934</td>\n      <td>11328500</td>\n      <td>85.0</td>\n      <td>False</td>\n      <td>0</td>\n    </tr>\n    <tr>\n      <th>44</th>\n      <td>06-03-2021</td>\n      <td>55.180000</td>\n      <td>55.740002</td>\n      <td>55.099998</td>\n      <td>55.639999</td>\n      <td>55.223888</td>\n      <td>17364300</td>\n      <td>85.0</td>\n      <td>False</td>\n      <td>1</td>\n    </tr>\n    <tr>\n      <th>45</th>\n      <td>06-04-2021</td>\n      <td>55.900002</td>\n      <td>56.480000</td>\n      <td>55.779999</td>\n      <td>56.240002</td>\n      <td>55.819401</td>\n      <td>18935100</td>\n      <td>89.0</td>\n      <td>False</td>\n      <td>1</td>\n    </tr>\n    <tr>\n      <th>46</th>\n      <td>06-07-2021</td>\n      <td>56.310001</td>\n      <td>56.340000</td>\n      <td>55.810001</td>\n      <td>56.040001</td>\n      <td>55.620895</td>\n      <td>14010800</td>\n      <td>83.0</td>\n      <td>False</td>\n      <td>0</td>\n    </tr>\n    <tr>\n      <th>47</th>\n      <td>06-08-2021</td>\n      <td>56.250000</td>\n      <td>56.250000</td>\n      <td>55.549999</td>\n      <td>55.650002</td>\n      <td>55.233814</td>\n      <td>10968300</td>\n      <td>81.0</td>\n      <td>False</td>\n      <td>0</td>\n    </tr>\n    <tr>\n      <th>48</th>\n      <td>06-09-2021</td>\n      <td>55.750000</td>\n      <td>55.919998</td>\n      <td>55.480000</td>\n      <td>55.480000</td>\n      <td>55.065083</td>\n      <td>9838800</td>\n      <td>85.0</td>\n      <td>False</td>\n      <td>0</td>\n    </tr>\n    <tr>\n      <th>49</th>\n      <td>06-10-2021</td>\n      <td>55.910000</td>\n      <td>56.119999</td>\n      <td>55.759998</td>\n      <td>55.910000</td>\n      <td>55.491867</td>\n      <td>12444400</td>\n      <td>88.0</td>\n      <td>False</td>\n      <td>0</td>\n    </tr>\n    <tr>\n      <th>50</th>\n      <td>06-11-2021</td>\n      <td>55.990002</td>\n      <td>56.209999</td>\n      <td>55.660000</td>\n      <td>56.160000</td>\n      <td>55.739998</td>\n      <td>11825800</td>\n      <td>86.0</td>\n      <td>False</td>\n      <td>1</td>\n    </tr>\n    <tr>\n      <th>51</th>\n      <td>06-14-2021</td>\n      <td>55.689999</td>\n      <td>55.709999</td>\n      <td>55.200001</td>\n      <td>55.549999</td>\n      <td>55.549999</td>\n      <td>9710800</td>\n      <td>85.0</td>\n      <td>False</td>\n      <td>0</td>\n    </tr>\n    <tr>\n      <th>52</th>\n      <td>06-15-2021</td>\n      <td>55.779999</td>\n      <td>55.790001</td>\n      <td>55.189999</td>\n      <td>55.410000</td>\n      <td>55.410000</td>\n      <td>11154200</td>\n      <td>84.0</td>\n      <td>False</td>\n      <td>0</td>\n    </tr>\n    <tr>\n      <th>53</th>\n      <td>06-16-2021</td>\n      <td>55.439999</td>\n      <td>55.459999</td>\n      <td>54.639999</td>\n      <td>54.669998</td>\n      <td>54.669998</td>\n      <td>15211700</td>\n      <td>83.0</td>\n      <td>False</td>\n      <td>0</td>\n    </tr>\n    <tr>\n      <th>54</th>\n      <td>06-17-2021</td>\n      <td>54.669998</td>\n      <td>55.150002</td>\n      <td>54.650002</td>\n      <td>54.950001</td>\n      <td>54.950001</td>\n      <td>10658400</td>\n      <td>86.0</td>\n      <td>False</td>\n      <td>1</td>\n    </tr>\n    <tr>\n      <th>55</th>\n      <td>06-18-2021</td>\n      <td>54.509998</td>\n      <td>54.619999</td>\n      <td>53.720001</td>\n      <td>53.770000</td>\n      <td>53.770000</td>\n      <td>31445600</td>\n      <td>87.0</td>\n      <td>False</td>\n      <td>0</td>\n    </tr>\n    <tr>\n      <th>56</th>\n      <td>06-21-2021</td>\n      <td>54.220001</td>\n      <td>54.430000</td>\n      <td>54.000000</td>\n      <td>54.360001</td>\n      <td>54.360001</td>\n      <td>14404300</td>\n      <td>81.0</td>\n      <td>False</td>\n      <td>1</td>\n    </tr>\n    <tr>\n      <th>57</th>\n      <td>06-22-2021</td>\n      <td>54.340000</td>\n      <td>54.849998</td>\n      <td>54.259998</td>\n      <td>54.560001</td>\n      <td>54.560001</td>\n      <td>13072800</td>\n      <td>80.0</td>\n      <td>False</td>\n      <td>1</td>\n    </tr>\n    <tr>\n      <th>58</th>\n      <td>06-23-2021</td>\n      <td>54.560001</td>\n      <td>54.599998</td>\n      <td>54.110001</td>\n      <td>54.119999</td>\n      <td>54.119999</td>\n      <td>12339200</td>\n      <td>82.0</td>\n      <td>False</td>\n      <td>0</td>\n    </tr>\n    <tr>\n      <th>59</th>\n      <td>06-24-2021</td>\n      <td>54.259998</td>\n      <td>54.419998</td>\n      <td>54.000000</td>\n      <td>54.389999</td>\n      <td>54.389999</td>\n      <td>11488400</td>\n      <td>85.0</td>\n      <td>False</td>\n      <td>1</td>\n    </tr>\n    <tr>\n      <th>60</th>\n      <td>06-25-2021</td>\n      <td>54.240002</td>\n      <td>54.470001</td>\n      <td>54.009998</td>\n      <td>54.320000</td>\n      <td>54.320000</td>\n      <td>18880300</td>\n      <td>88.0</td>\n      <td>False</td>\n      <td>1</td>\n    </tr>\n    <tr>\n      <th>61</th>\n      <td>06-28-2021</td>\n      <td>54.250000</td>\n      <td>54.369999</td>\n      <td>54.000000</td>\n      <td>54.259998</td>\n      <td>54.259998</td>\n      <td>10556900</td>\n      <td>81.0</td>\n      <td>False</td>\n      <td>1</td>\n    </tr>\n    <tr>\n      <th>62</th>\n      <td>06-29-2021</td>\n      <td>54.130001</td>\n      <td>54.340000</td>\n      <td>53.720001</td>\n      <td>53.860001</td>\n      <td>53.860001</td>\n      <td>12300900</td>\n      <td>82.0</td>\n      <td>False</td>\n      <td>0</td>\n    </tr>\n    <tr>\n      <th>63</th>\n      <td>06-30-2021</td>\n      <td>53.799999</td>\n      <td>54.180000</td>\n      <td>53.750000</td>\n      <td>54.110001</td>\n      <td>54.110001</td>\n      <td>14614200</td>\n      <td>83.0</td>\n      <td>False</td>\n      <td>1</td>\n    </tr>\n  </tbody>\n</table>\n</div>"
     },
     "execution_count": 538,
     "metadata": {},
     "output_type": "execute_result"
    }
   ],
   "source": [
    "CokeDataSetQtr2['InvestToday'] = np.where(CokeDataSetQtr2.Close - CokeDataSetQtr2.Open>0, 1, 0)\n",
    "CokeDataSetQtr2"
   ],
   "metadata": {
    "collapsed": false,
    "pycharm": {
     "name": "#%%\n"
    }
   }
  },
  {
   "cell_type": "code",
   "execution_count": 539,
   "outputs": [],
   "source": [
    "Continuous_Cols=[ 'Open', 'High', 'Low', 'Close', 'Adj Close', 'Volume']\n",
    "Categorical_Cols=['InvestToday']"
   ],
   "metadata": {
    "collapsed": false,
    "pycharm": {
     "name": "#%%\n"
    }
   }
  },
  {
   "cell_type": "code",
   "execution_count": 540,
   "outputs": [
    {
     "name": "stdout",
     "output_type": "stream",
     "text": [
      "Population:\n",
      " 1    51.5625\n",
      "0    48.4375\n",
      "Name: InvestToday, dtype: float64\n",
      "Train:\n",
      " 1    52.272727\n",
      "0    47.727273\n",
      "Name: InvestToday, dtype: float64\n",
      "Test:\n",
      " 0    50.0\n",
      "1    50.0\n",
      "Name: InvestToday, dtype: float64\n"
     ]
    }
   ],
   "source": [
    "Predictor_Cols = Categorical_Cols + Continuous_Cols\n",
    "\n",
    "Target_Col = 'InvestToday'\n",
    "\n",
    "X=CokeDataSetQtr2[Continuous_Cols]\n",
    "y=CokeDataSetQtr2[Target_Col]\n",
    "\n",
    "X_train, X_test, y_train, y_test = train_test_split(X, y, test_size=0.30)\n",
    "print(\"Population:\\n\",y.value_counts(normalize=True)*100)\n",
    "print(\"Train:\\n\", y_train.value_counts(normalize=True)*100)\n",
    "print(\"Test:\\n\", y_test.value_counts(normalize=True)*100)"
   ],
   "metadata": {
    "collapsed": false,
    "pycharm": {
     "name": "#%%\n"
    }
   }
  },
  {
   "cell_type": "code",
   "execution_count": 541,
   "outputs": [],
   "source": [
    "knn = KNeighborsClassifier(n_neighbors=3)"
   ],
   "metadata": {
    "collapsed": false,
    "pycharm": {
     "name": "#%%\n"
    }
   }
  },
  {
   "cell_type": "code",
   "execution_count": 542,
   "outputs": [
    {
     "data": {
      "text/plain": "KNeighborsClassifier(n_neighbors=3)"
     },
     "execution_count": 542,
     "metadata": {},
     "output_type": "execute_result"
    }
   ],
   "source": [
    "knn.fit(X_train, y_train)"
   ],
   "metadata": {
    "collapsed": false,
    "pycharm": {
     "name": "#%%\n"
    }
   }
  },
  {
   "cell_type": "code",
   "execution_count": 543,
   "outputs": [
    {
     "data": {
      "text/plain": "0.7045454545454546"
     },
     "execution_count": 543,
     "metadata": {},
     "output_type": "execute_result"
    }
   ],
   "source": [
    "knn.score(X_train, y_train)"
   ],
   "metadata": {
    "collapsed": false,
    "pycharm": {
     "name": "#%%\n"
    }
   }
  },
  {
   "cell_type": "code",
   "execution_count": 544,
   "outputs": [
    {
     "data": {
      "text/plain": "0.5"
     },
     "execution_count": 544,
     "metadata": {},
     "output_type": "execute_result"
    }
   ],
   "source": [
    "knn.score(X_test, y_test)"
   ],
   "metadata": {
    "collapsed": false,
    "pycharm": {
     "name": "#%%\n"
    }
   }
  },
  {
   "cell_type": "markdown",
   "source": [
    "#### Confusion Matrix"
   ],
   "metadata": {
    "collapsed": false
   }
  },
  {
   "cell_type": "code",
   "execution_count": 545,
   "outputs": [],
   "source": [
    "def printMetrics(test, predictions):\n",
    "    print(\"Confusion Matrix:\")\n",
    "    print(confusion_matrix(test, predictions))\n",
    "    print(\"------------------\")\n",
    "    print(f\"Accuracy: {accuracy_score(test, predictions):.2f}\")\n",
    "    print(f\"Recall: {recall_score(test, predictions):.2f}\")\n",
    "    print(f\"Prediction: {precision_score(test, predictions):.2f}\")\n",
    "    print(f\"f-measure: {fbeta_score(test, predictions, beta=1):.2f}\")\n",
    "    print(\"------------------\")\n",
    "    print(classification_report(test, predictions))"
   ],
   "metadata": {
    "collapsed": false,
    "pycharm": {
     "name": "#%%\n"
    }
   }
  },
  {
   "cell_type": "code",
   "execution_count": 546,
   "outputs": [
    {
     "name": "stdout",
     "output_type": "stream",
     "text": [
      "Confusion Matrix:\n",
      "[[7 3]\n",
      " [7 3]]\n",
      "------------------\n",
      "Accuracy: 0.50\n",
      "Recall: 0.30\n",
      "Prediction: 0.50\n",
      "f-measure: 0.37\n",
      "------------------\n",
      "              precision    recall  f1-score   support\n",
      "\n",
      "           0       0.50      0.70      0.58        10\n",
      "           1       0.50      0.30      0.37        10\n",
      "\n",
      "    accuracy                           0.50        20\n",
      "   macro avg       0.50      0.50      0.48        20\n",
      "weighted avg       0.50      0.50      0.48        20\n",
      "\n"
     ]
    }
   ],
   "source": [
    "predictions = knn.predict(X_test)\n",
    "printMetrics(y_test, predictions)"
   ],
   "metadata": {
    "collapsed": false,
    "pycharm": {
     "name": "#%%\n"
    }
   }
  },
  {
   "cell_type": "code",
   "execution_count": 547,
   "outputs": [
    {
     "data": {
      "text/plain": "          Date       Open       High        Low      Close  Adj Close  \\\n0   04-01-2021  52.959999  53.150002  52.459999  52.509998  52.117294   \n1   04-05-2021  52.349998  53.220001  52.290001  52.810001  52.415054   \n2   04-06-2021  53.040001  53.650002  52.900002  53.189999  52.792210   \n3   04-07-2021  53.279999  53.500000  53.119999  53.279999  52.881535   \n4   04-08-2021  53.169998  53.380001  52.970001  53.119999  52.722733   \n5   04-09-2021  53.169998  53.279999  52.810001  53.180000  52.782284   \n6   04-12-2021  53.330002  53.549999  53.099998  53.349998  52.951012   \n7   04-13-2021  53.040001  53.290001  52.810001  53.090000  52.692959   \n8   04-14-2021  52.980000  53.189999  52.650002  53.080002  52.683033   \n9   04-15-2021  53.130001  53.660000  53.119999  53.330002  52.931164   \n10  04-16-2021  53.740002  53.799999  53.380001  53.680000  53.278545   \n11  04-19-2021  54.000000  54.360001  53.299999  54.000000  53.596153   \n12  04-20-2021  53.840000  54.590000  53.810001  54.169998  53.764881   \n13  04-21-2021  54.240002  54.740002  54.240002  54.610001  54.201591   \n14  04-21-2021  54.240002  54.740002  54.240002  54.610001  54.201591   \n15  04-22-2021  54.470001  54.869999  54.320000  54.439999  54.032860   \n16  04-23-2021  54.400002  54.590000  54.169998  54.470001  54.062637   \n17  04-26-2021  54.470001  54.509998  53.580002  53.660000  53.258694   \n18  04-27-2021  53.560001  53.700001  53.320000  53.580002  53.179295   \n19  04-28-2021  53.980000  54.049999  53.439999  53.590000  53.189220   \n20  04-29-2021  53.540001  54.360001  53.430000  54.259998  53.854206   \n21  04-30-2021  54.250000  54.270000  53.689999  53.980000  53.576302   \n22  05-03-2021  54.270000  54.799999  54.160000  54.480000  54.072563   \n23  05-04-2021  54.570000  54.619999  53.939999  54.139999  53.735104   \n24  05-05-2021  54.139999  54.240002  53.709999  54.000000  53.596153   \n25  05-06-2021  54.119999  54.610001  54.049999  54.540001  54.132114   \n26  05-07-2021  54.439999  54.770000  54.160000  54.509998  54.102337   \n27  05-10-2021  54.880001  55.500000  54.830002  54.910000  54.499348   \n28  05-11-2021  55.029999  55.139999  54.049999  54.320000  53.913757   \n29  05-12-2021  54.360001  54.560001  53.880001  54.040001  53.635853   \n30  05-13-2021  53.970001  54.779999  53.830002  54.509998  54.102337   \n31  05-14-2021  54.900002  55.099998  54.689999  54.730000  54.320694   \n32  05-17-2021  54.840000  55.020000  54.500000  54.639999  54.231365   \n33  05-18-2021  54.389999  54.560001  54.099998  54.340000  53.933609   \n34  05-19-2021  54.119999  54.180000  53.610001  54.169998  53.764881   \n35  05-20-2021  54.119999  54.799999  54.119999  54.650002  54.241295   \n36  05-21-2021  54.799999  55.119999  54.220001  54.619999  54.211514   \n37  05-24-2021  54.630001  54.930000  54.490002  54.799999  54.390167   \n38  05-25-2021  54.820000  54.820000  54.349998  54.790001  54.380245   \n39  05-26-2021  54.980000  55.049999  54.590000  55.029999  54.618450   \n40  05-27-2021  55.209999  55.570000  54.779999  55.490002  55.075012   \n41  05-28-2021  55.349998  55.709999  55.200001  55.290001  54.876507   \n42  06-01-2021  55.340000  55.650002  55.099998  55.279999  54.866577   \n43  06-02-2021  55.500000  55.560001  55.259998  55.500000  55.084934   \n44  06-03-2021  55.180000  55.740002  55.099998  55.639999  55.223888   \n45  06-04-2021  55.900002  56.480000  55.779999  56.240002  55.819401   \n46  06-07-2021  56.310001  56.340000  55.810001  56.040001  55.620895   \n47  06-08-2021  56.250000  56.250000  55.549999  55.650002  55.233814   \n48  06-09-2021  55.750000  55.919998  55.480000  55.480000  55.065083   \n49  06-10-2021  55.910000  56.119999  55.759998  55.910000  55.491867   \n50  06-11-2021  55.990002  56.209999  55.660000  56.160000  55.739998   \n51  06-14-2021  55.689999  55.709999  55.200001  55.549999  55.549999   \n52  06-15-2021  55.779999  55.790001  55.189999  55.410000  55.410000   \n53  06-16-2021  55.439999  55.459999  54.639999  54.669998  54.669998   \n54  06-17-2021  54.669998  55.150002  54.650002  54.950001  54.950001   \n55  06-18-2021  54.509998  54.619999  53.720001  53.770000  53.770000   \n56  06-21-2021  54.220001  54.430000  54.000000  54.360001  54.360001   \n57  06-22-2021  54.340000  54.849998  54.259998  54.560001  54.560001   \n58  06-23-2021  54.560001  54.599998  54.110001  54.119999  54.119999   \n59  06-24-2021  54.259998  54.419998  54.000000  54.389999  54.389999   \n60  06-25-2021  54.240002  54.470001  54.009998  54.320000  54.320000   \n61  06-28-2021  54.250000  54.369999  54.000000  54.259998  54.259998   \n62  06-29-2021  54.130001  54.340000  53.720001  53.860001  53.860001   \n63  06-30-2021  53.799999  54.180000  53.750000  54.110001  54.110001   \n\n      Volume    KO isPartial  InvestToday  \n0   15834700  84.0     False            0  \n1   16368700  87.0     False            1  \n2   15614300  83.0     False            1  \n3   10062700  81.0     False            0  \n4    9695600  83.0     False            0  \n5   10828200  85.0     False            1  \n6    8565300  82.0     False            1  \n7   11071700  85.0     False            1  \n8    9787600  78.0     False            1  \n9   13078100  81.0     False            1  \n10  17974100  80.0     False            0  \n11  19352900  81.0     False            0  \n12  14419200  80.0     False            1  \n13  13866500  82.0     False            1  \n14  13866500  79.0     False            1  \n15  12558900  79.0     False            0  \n16   9020500  78.0     False            1  \n17  11684600  81.0     False            0  \n18   9852400  78.0     False            1  \n19  10868100  77.0     False            0  \n20  15391000  77.0     False            1  \n21  14912600  79.0     False            0  \n22  10417900  82.0     False            1  \n23  14151000  81.0     False            0  \n24   9665900  76.0     False            0  \n25  11572700  83.0     False            1  \n26  10637500  84.0     False            1  \n27  15545800  85.0     False            1  \n28  12986700  85.0     False            0  \n29  15836500  85.0     False            0  \n30  15475800  82.0     False            1  \n31  11725300  89.0     False            0  \n32  12119800  79.0     False            0  \n33  13232500  82.0     False            0  \n34  15126100  81.0     False            1  \n35  10948400  80.0     False            1  \n36  16033200  81.0     False            0  \n37  10326100  85.0     False            1  \n38  11916500  85.0     False            0  \n39  16064300  90.0     False            1  \n40  59109600  84.0     False            1  \n41  17011600  80.0     False            0  \n42  13304000  83.0     False            0  \n43  11328500  85.0     False            0  \n44  17364300  85.0     False            1  \n45  18935100  89.0     False            1  \n46  14010800  83.0     False            0  \n47  10968300  81.0     False            0  \n48   9838800  85.0     False            0  \n49  12444400  88.0     False            0  \n50  11825800  86.0     False            1  \n51   9710800  85.0     False            0  \n52  11154200  84.0     False            0  \n53  15211700  83.0     False            0  \n54  10658400  86.0     False            1  \n55  31445600  87.0     False            0  \n56  14404300  81.0     False            1  \n57  13072800  80.0     False            1  \n58  12339200  82.0     False            0  \n59  11488400  85.0     False            1  \n60  18880300  88.0     False            1  \n61  10556900  81.0     False            1  \n62  12300900  82.0     False            0  \n63  14614200  83.0     False            1  ",
      "text/html": "<div>\n<style scoped>\n    .dataframe tbody tr th:only-of-type {\n        vertical-align: middle;\n    }\n\n    .dataframe tbody tr th {\n        vertical-align: top;\n    }\n\n    .dataframe thead th {\n        text-align: right;\n    }\n</style>\n<table border=\"1\" class=\"dataframe\">\n  <thead>\n    <tr style=\"text-align: right;\">\n      <th></th>\n      <th>Date</th>\n      <th>Open</th>\n      <th>High</th>\n      <th>Low</th>\n      <th>Close</th>\n      <th>Adj Close</th>\n      <th>Volume</th>\n      <th>KO</th>\n      <th>isPartial</th>\n      <th>InvestToday</th>\n    </tr>\n  </thead>\n  <tbody>\n    <tr>\n      <th>0</th>\n      <td>04-01-2021</td>\n      <td>52.959999</td>\n      <td>53.150002</td>\n      <td>52.459999</td>\n      <td>52.509998</td>\n      <td>52.117294</td>\n      <td>15834700</td>\n      <td>84.0</td>\n      <td>False</td>\n      <td>0</td>\n    </tr>\n    <tr>\n      <th>1</th>\n      <td>04-05-2021</td>\n      <td>52.349998</td>\n      <td>53.220001</td>\n      <td>52.290001</td>\n      <td>52.810001</td>\n      <td>52.415054</td>\n      <td>16368700</td>\n      <td>87.0</td>\n      <td>False</td>\n      <td>1</td>\n    </tr>\n    <tr>\n      <th>2</th>\n      <td>04-06-2021</td>\n      <td>53.040001</td>\n      <td>53.650002</td>\n      <td>52.900002</td>\n      <td>53.189999</td>\n      <td>52.792210</td>\n      <td>15614300</td>\n      <td>83.0</td>\n      <td>False</td>\n      <td>1</td>\n    </tr>\n    <tr>\n      <th>3</th>\n      <td>04-07-2021</td>\n      <td>53.279999</td>\n      <td>53.500000</td>\n      <td>53.119999</td>\n      <td>53.279999</td>\n      <td>52.881535</td>\n      <td>10062700</td>\n      <td>81.0</td>\n      <td>False</td>\n      <td>0</td>\n    </tr>\n    <tr>\n      <th>4</th>\n      <td>04-08-2021</td>\n      <td>53.169998</td>\n      <td>53.380001</td>\n      <td>52.970001</td>\n      <td>53.119999</td>\n      <td>52.722733</td>\n      <td>9695600</td>\n      <td>83.0</td>\n      <td>False</td>\n      <td>0</td>\n    </tr>\n    <tr>\n      <th>5</th>\n      <td>04-09-2021</td>\n      <td>53.169998</td>\n      <td>53.279999</td>\n      <td>52.810001</td>\n      <td>53.180000</td>\n      <td>52.782284</td>\n      <td>10828200</td>\n      <td>85.0</td>\n      <td>False</td>\n      <td>1</td>\n    </tr>\n    <tr>\n      <th>6</th>\n      <td>04-12-2021</td>\n      <td>53.330002</td>\n      <td>53.549999</td>\n      <td>53.099998</td>\n      <td>53.349998</td>\n      <td>52.951012</td>\n      <td>8565300</td>\n      <td>82.0</td>\n      <td>False</td>\n      <td>1</td>\n    </tr>\n    <tr>\n      <th>7</th>\n      <td>04-13-2021</td>\n      <td>53.040001</td>\n      <td>53.290001</td>\n      <td>52.810001</td>\n      <td>53.090000</td>\n      <td>52.692959</td>\n      <td>11071700</td>\n      <td>85.0</td>\n      <td>False</td>\n      <td>1</td>\n    </tr>\n    <tr>\n      <th>8</th>\n      <td>04-14-2021</td>\n      <td>52.980000</td>\n      <td>53.189999</td>\n      <td>52.650002</td>\n      <td>53.080002</td>\n      <td>52.683033</td>\n      <td>9787600</td>\n      <td>78.0</td>\n      <td>False</td>\n      <td>1</td>\n    </tr>\n    <tr>\n      <th>9</th>\n      <td>04-15-2021</td>\n      <td>53.130001</td>\n      <td>53.660000</td>\n      <td>53.119999</td>\n      <td>53.330002</td>\n      <td>52.931164</td>\n      <td>13078100</td>\n      <td>81.0</td>\n      <td>False</td>\n      <td>1</td>\n    </tr>\n    <tr>\n      <th>10</th>\n      <td>04-16-2021</td>\n      <td>53.740002</td>\n      <td>53.799999</td>\n      <td>53.380001</td>\n      <td>53.680000</td>\n      <td>53.278545</td>\n      <td>17974100</td>\n      <td>80.0</td>\n      <td>False</td>\n      <td>0</td>\n    </tr>\n    <tr>\n      <th>11</th>\n      <td>04-19-2021</td>\n      <td>54.000000</td>\n      <td>54.360001</td>\n      <td>53.299999</td>\n      <td>54.000000</td>\n      <td>53.596153</td>\n      <td>19352900</td>\n      <td>81.0</td>\n      <td>False</td>\n      <td>0</td>\n    </tr>\n    <tr>\n      <th>12</th>\n      <td>04-20-2021</td>\n      <td>53.840000</td>\n      <td>54.590000</td>\n      <td>53.810001</td>\n      <td>54.169998</td>\n      <td>53.764881</td>\n      <td>14419200</td>\n      <td>80.0</td>\n      <td>False</td>\n      <td>1</td>\n    </tr>\n    <tr>\n      <th>13</th>\n      <td>04-21-2021</td>\n      <td>54.240002</td>\n      <td>54.740002</td>\n      <td>54.240002</td>\n      <td>54.610001</td>\n      <td>54.201591</td>\n      <td>13866500</td>\n      <td>82.0</td>\n      <td>False</td>\n      <td>1</td>\n    </tr>\n    <tr>\n      <th>14</th>\n      <td>04-21-2021</td>\n      <td>54.240002</td>\n      <td>54.740002</td>\n      <td>54.240002</td>\n      <td>54.610001</td>\n      <td>54.201591</td>\n      <td>13866500</td>\n      <td>79.0</td>\n      <td>False</td>\n      <td>1</td>\n    </tr>\n    <tr>\n      <th>15</th>\n      <td>04-22-2021</td>\n      <td>54.470001</td>\n      <td>54.869999</td>\n      <td>54.320000</td>\n      <td>54.439999</td>\n      <td>54.032860</td>\n      <td>12558900</td>\n      <td>79.0</td>\n      <td>False</td>\n      <td>0</td>\n    </tr>\n    <tr>\n      <th>16</th>\n      <td>04-23-2021</td>\n      <td>54.400002</td>\n      <td>54.590000</td>\n      <td>54.169998</td>\n      <td>54.470001</td>\n      <td>54.062637</td>\n      <td>9020500</td>\n      <td>78.0</td>\n      <td>False</td>\n      <td>1</td>\n    </tr>\n    <tr>\n      <th>17</th>\n      <td>04-26-2021</td>\n      <td>54.470001</td>\n      <td>54.509998</td>\n      <td>53.580002</td>\n      <td>53.660000</td>\n      <td>53.258694</td>\n      <td>11684600</td>\n      <td>81.0</td>\n      <td>False</td>\n      <td>0</td>\n    </tr>\n    <tr>\n      <th>18</th>\n      <td>04-27-2021</td>\n      <td>53.560001</td>\n      <td>53.700001</td>\n      <td>53.320000</td>\n      <td>53.580002</td>\n      <td>53.179295</td>\n      <td>9852400</td>\n      <td>78.0</td>\n      <td>False</td>\n      <td>1</td>\n    </tr>\n    <tr>\n      <th>19</th>\n      <td>04-28-2021</td>\n      <td>53.980000</td>\n      <td>54.049999</td>\n      <td>53.439999</td>\n      <td>53.590000</td>\n      <td>53.189220</td>\n      <td>10868100</td>\n      <td>77.0</td>\n      <td>False</td>\n      <td>0</td>\n    </tr>\n    <tr>\n      <th>20</th>\n      <td>04-29-2021</td>\n      <td>53.540001</td>\n      <td>54.360001</td>\n      <td>53.430000</td>\n      <td>54.259998</td>\n      <td>53.854206</td>\n      <td>15391000</td>\n      <td>77.0</td>\n      <td>False</td>\n      <td>1</td>\n    </tr>\n    <tr>\n      <th>21</th>\n      <td>04-30-2021</td>\n      <td>54.250000</td>\n      <td>54.270000</td>\n      <td>53.689999</td>\n      <td>53.980000</td>\n      <td>53.576302</td>\n      <td>14912600</td>\n      <td>79.0</td>\n      <td>False</td>\n      <td>0</td>\n    </tr>\n    <tr>\n      <th>22</th>\n      <td>05-03-2021</td>\n      <td>54.270000</td>\n      <td>54.799999</td>\n      <td>54.160000</td>\n      <td>54.480000</td>\n      <td>54.072563</td>\n      <td>10417900</td>\n      <td>82.0</td>\n      <td>False</td>\n      <td>1</td>\n    </tr>\n    <tr>\n      <th>23</th>\n      <td>05-04-2021</td>\n      <td>54.570000</td>\n      <td>54.619999</td>\n      <td>53.939999</td>\n      <td>54.139999</td>\n      <td>53.735104</td>\n      <td>14151000</td>\n      <td>81.0</td>\n      <td>False</td>\n      <td>0</td>\n    </tr>\n    <tr>\n      <th>24</th>\n      <td>05-05-2021</td>\n      <td>54.139999</td>\n      <td>54.240002</td>\n      <td>53.709999</td>\n      <td>54.000000</td>\n      <td>53.596153</td>\n      <td>9665900</td>\n      <td>76.0</td>\n      <td>False</td>\n      <td>0</td>\n    </tr>\n    <tr>\n      <th>25</th>\n      <td>05-06-2021</td>\n      <td>54.119999</td>\n      <td>54.610001</td>\n      <td>54.049999</td>\n      <td>54.540001</td>\n      <td>54.132114</td>\n      <td>11572700</td>\n      <td>83.0</td>\n      <td>False</td>\n      <td>1</td>\n    </tr>\n    <tr>\n      <th>26</th>\n      <td>05-07-2021</td>\n      <td>54.439999</td>\n      <td>54.770000</td>\n      <td>54.160000</td>\n      <td>54.509998</td>\n      <td>54.102337</td>\n      <td>10637500</td>\n      <td>84.0</td>\n      <td>False</td>\n      <td>1</td>\n    </tr>\n    <tr>\n      <th>27</th>\n      <td>05-10-2021</td>\n      <td>54.880001</td>\n      <td>55.500000</td>\n      <td>54.830002</td>\n      <td>54.910000</td>\n      <td>54.499348</td>\n      <td>15545800</td>\n      <td>85.0</td>\n      <td>False</td>\n      <td>1</td>\n    </tr>\n    <tr>\n      <th>28</th>\n      <td>05-11-2021</td>\n      <td>55.029999</td>\n      <td>55.139999</td>\n      <td>54.049999</td>\n      <td>54.320000</td>\n      <td>53.913757</td>\n      <td>12986700</td>\n      <td>85.0</td>\n      <td>False</td>\n      <td>0</td>\n    </tr>\n    <tr>\n      <th>29</th>\n      <td>05-12-2021</td>\n      <td>54.360001</td>\n      <td>54.560001</td>\n      <td>53.880001</td>\n      <td>54.040001</td>\n      <td>53.635853</td>\n      <td>15836500</td>\n      <td>85.0</td>\n      <td>False</td>\n      <td>0</td>\n    </tr>\n    <tr>\n      <th>30</th>\n      <td>05-13-2021</td>\n      <td>53.970001</td>\n      <td>54.779999</td>\n      <td>53.830002</td>\n      <td>54.509998</td>\n      <td>54.102337</td>\n      <td>15475800</td>\n      <td>82.0</td>\n      <td>False</td>\n      <td>1</td>\n    </tr>\n    <tr>\n      <th>31</th>\n      <td>05-14-2021</td>\n      <td>54.900002</td>\n      <td>55.099998</td>\n      <td>54.689999</td>\n      <td>54.730000</td>\n      <td>54.320694</td>\n      <td>11725300</td>\n      <td>89.0</td>\n      <td>False</td>\n      <td>0</td>\n    </tr>\n    <tr>\n      <th>32</th>\n      <td>05-17-2021</td>\n      <td>54.840000</td>\n      <td>55.020000</td>\n      <td>54.500000</td>\n      <td>54.639999</td>\n      <td>54.231365</td>\n      <td>12119800</td>\n      <td>79.0</td>\n      <td>False</td>\n      <td>0</td>\n    </tr>\n    <tr>\n      <th>33</th>\n      <td>05-18-2021</td>\n      <td>54.389999</td>\n      <td>54.560001</td>\n      <td>54.099998</td>\n      <td>54.340000</td>\n      <td>53.933609</td>\n      <td>13232500</td>\n      <td>82.0</td>\n      <td>False</td>\n      <td>0</td>\n    </tr>\n    <tr>\n      <th>34</th>\n      <td>05-19-2021</td>\n      <td>54.119999</td>\n      <td>54.180000</td>\n      <td>53.610001</td>\n      <td>54.169998</td>\n      <td>53.764881</td>\n      <td>15126100</td>\n      <td>81.0</td>\n      <td>False</td>\n      <td>1</td>\n    </tr>\n    <tr>\n      <th>35</th>\n      <td>05-20-2021</td>\n      <td>54.119999</td>\n      <td>54.799999</td>\n      <td>54.119999</td>\n      <td>54.650002</td>\n      <td>54.241295</td>\n      <td>10948400</td>\n      <td>80.0</td>\n      <td>False</td>\n      <td>1</td>\n    </tr>\n    <tr>\n      <th>36</th>\n      <td>05-21-2021</td>\n      <td>54.799999</td>\n      <td>55.119999</td>\n      <td>54.220001</td>\n      <td>54.619999</td>\n      <td>54.211514</td>\n      <td>16033200</td>\n      <td>81.0</td>\n      <td>False</td>\n      <td>0</td>\n    </tr>\n    <tr>\n      <th>37</th>\n      <td>05-24-2021</td>\n      <td>54.630001</td>\n      <td>54.930000</td>\n      <td>54.490002</td>\n      <td>54.799999</td>\n      <td>54.390167</td>\n      <td>10326100</td>\n      <td>85.0</td>\n      <td>False</td>\n      <td>1</td>\n    </tr>\n    <tr>\n      <th>38</th>\n      <td>05-25-2021</td>\n      <td>54.820000</td>\n      <td>54.820000</td>\n      <td>54.349998</td>\n      <td>54.790001</td>\n      <td>54.380245</td>\n      <td>11916500</td>\n      <td>85.0</td>\n      <td>False</td>\n      <td>0</td>\n    </tr>\n    <tr>\n      <th>39</th>\n      <td>05-26-2021</td>\n      <td>54.980000</td>\n      <td>55.049999</td>\n      <td>54.590000</td>\n      <td>55.029999</td>\n      <td>54.618450</td>\n      <td>16064300</td>\n      <td>90.0</td>\n      <td>False</td>\n      <td>1</td>\n    </tr>\n    <tr>\n      <th>40</th>\n      <td>05-27-2021</td>\n      <td>55.209999</td>\n      <td>55.570000</td>\n      <td>54.779999</td>\n      <td>55.490002</td>\n      <td>55.075012</td>\n      <td>59109600</td>\n      <td>84.0</td>\n      <td>False</td>\n      <td>1</td>\n    </tr>\n    <tr>\n      <th>41</th>\n      <td>05-28-2021</td>\n      <td>55.349998</td>\n      <td>55.709999</td>\n      <td>55.200001</td>\n      <td>55.290001</td>\n      <td>54.876507</td>\n      <td>17011600</td>\n      <td>80.0</td>\n      <td>False</td>\n      <td>0</td>\n    </tr>\n    <tr>\n      <th>42</th>\n      <td>06-01-2021</td>\n      <td>55.340000</td>\n      <td>55.650002</td>\n      <td>55.099998</td>\n      <td>55.279999</td>\n      <td>54.866577</td>\n      <td>13304000</td>\n      <td>83.0</td>\n      <td>False</td>\n      <td>0</td>\n    </tr>\n    <tr>\n      <th>43</th>\n      <td>06-02-2021</td>\n      <td>55.500000</td>\n      <td>55.560001</td>\n      <td>55.259998</td>\n      <td>55.500000</td>\n      <td>55.084934</td>\n      <td>11328500</td>\n      <td>85.0</td>\n      <td>False</td>\n      <td>0</td>\n    </tr>\n    <tr>\n      <th>44</th>\n      <td>06-03-2021</td>\n      <td>55.180000</td>\n      <td>55.740002</td>\n      <td>55.099998</td>\n      <td>55.639999</td>\n      <td>55.223888</td>\n      <td>17364300</td>\n      <td>85.0</td>\n      <td>False</td>\n      <td>1</td>\n    </tr>\n    <tr>\n      <th>45</th>\n      <td>06-04-2021</td>\n      <td>55.900002</td>\n      <td>56.480000</td>\n      <td>55.779999</td>\n      <td>56.240002</td>\n      <td>55.819401</td>\n      <td>18935100</td>\n      <td>89.0</td>\n      <td>False</td>\n      <td>1</td>\n    </tr>\n    <tr>\n      <th>46</th>\n      <td>06-07-2021</td>\n      <td>56.310001</td>\n      <td>56.340000</td>\n      <td>55.810001</td>\n      <td>56.040001</td>\n      <td>55.620895</td>\n      <td>14010800</td>\n      <td>83.0</td>\n      <td>False</td>\n      <td>0</td>\n    </tr>\n    <tr>\n      <th>47</th>\n      <td>06-08-2021</td>\n      <td>56.250000</td>\n      <td>56.250000</td>\n      <td>55.549999</td>\n      <td>55.650002</td>\n      <td>55.233814</td>\n      <td>10968300</td>\n      <td>81.0</td>\n      <td>False</td>\n      <td>0</td>\n    </tr>\n    <tr>\n      <th>48</th>\n      <td>06-09-2021</td>\n      <td>55.750000</td>\n      <td>55.919998</td>\n      <td>55.480000</td>\n      <td>55.480000</td>\n      <td>55.065083</td>\n      <td>9838800</td>\n      <td>85.0</td>\n      <td>False</td>\n      <td>0</td>\n    </tr>\n    <tr>\n      <th>49</th>\n      <td>06-10-2021</td>\n      <td>55.910000</td>\n      <td>56.119999</td>\n      <td>55.759998</td>\n      <td>55.910000</td>\n      <td>55.491867</td>\n      <td>12444400</td>\n      <td>88.0</td>\n      <td>False</td>\n      <td>0</td>\n    </tr>\n    <tr>\n      <th>50</th>\n      <td>06-11-2021</td>\n      <td>55.990002</td>\n      <td>56.209999</td>\n      <td>55.660000</td>\n      <td>56.160000</td>\n      <td>55.739998</td>\n      <td>11825800</td>\n      <td>86.0</td>\n      <td>False</td>\n      <td>1</td>\n    </tr>\n    <tr>\n      <th>51</th>\n      <td>06-14-2021</td>\n      <td>55.689999</td>\n      <td>55.709999</td>\n      <td>55.200001</td>\n      <td>55.549999</td>\n      <td>55.549999</td>\n      <td>9710800</td>\n      <td>85.0</td>\n      <td>False</td>\n      <td>0</td>\n    </tr>\n    <tr>\n      <th>52</th>\n      <td>06-15-2021</td>\n      <td>55.779999</td>\n      <td>55.790001</td>\n      <td>55.189999</td>\n      <td>55.410000</td>\n      <td>55.410000</td>\n      <td>11154200</td>\n      <td>84.0</td>\n      <td>False</td>\n      <td>0</td>\n    </tr>\n    <tr>\n      <th>53</th>\n      <td>06-16-2021</td>\n      <td>55.439999</td>\n      <td>55.459999</td>\n      <td>54.639999</td>\n      <td>54.669998</td>\n      <td>54.669998</td>\n      <td>15211700</td>\n      <td>83.0</td>\n      <td>False</td>\n      <td>0</td>\n    </tr>\n    <tr>\n      <th>54</th>\n      <td>06-17-2021</td>\n      <td>54.669998</td>\n      <td>55.150002</td>\n      <td>54.650002</td>\n      <td>54.950001</td>\n      <td>54.950001</td>\n      <td>10658400</td>\n      <td>86.0</td>\n      <td>False</td>\n      <td>1</td>\n    </tr>\n    <tr>\n      <th>55</th>\n      <td>06-18-2021</td>\n      <td>54.509998</td>\n      <td>54.619999</td>\n      <td>53.720001</td>\n      <td>53.770000</td>\n      <td>53.770000</td>\n      <td>31445600</td>\n      <td>87.0</td>\n      <td>False</td>\n      <td>0</td>\n    </tr>\n    <tr>\n      <th>56</th>\n      <td>06-21-2021</td>\n      <td>54.220001</td>\n      <td>54.430000</td>\n      <td>54.000000</td>\n      <td>54.360001</td>\n      <td>54.360001</td>\n      <td>14404300</td>\n      <td>81.0</td>\n      <td>False</td>\n      <td>1</td>\n    </tr>\n    <tr>\n      <th>57</th>\n      <td>06-22-2021</td>\n      <td>54.340000</td>\n      <td>54.849998</td>\n      <td>54.259998</td>\n      <td>54.560001</td>\n      <td>54.560001</td>\n      <td>13072800</td>\n      <td>80.0</td>\n      <td>False</td>\n      <td>1</td>\n    </tr>\n    <tr>\n      <th>58</th>\n      <td>06-23-2021</td>\n      <td>54.560001</td>\n      <td>54.599998</td>\n      <td>54.110001</td>\n      <td>54.119999</td>\n      <td>54.119999</td>\n      <td>12339200</td>\n      <td>82.0</td>\n      <td>False</td>\n      <td>0</td>\n    </tr>\n    <tr>\n      <th>59</th>\n      <td>06-24-2021</td>\n      <td>54.259998</td>\n      <td>54.419998</td>\n      <td>54.000000</td>\n      <td>54.389999</td>\n      <td>54.389999</td>\n      <td>11488400</td>\n      <td>85.0</td>\n      <td>False</td>\n      <td>1</td>\n    </tr>\n    <tr>\n      <th>60</th>\n      <td>06-25-2021</td>\n      <td>54.240002</td>\n      <td>54.470001</td>\n      <td>54.009998</td>\n      <td>54.320000</td>\n      <td>54.320000</td>\n      <td>18880300</td>\n      <td>88.0</td>\n      <td>False</td>\n      <td>1</td>\n    </tr>\n    <tr>\n      <th>61</th>\n      <td>06-28-2021</td>\n      <td>54.250000</td>\n      <td>54.369999</td>\n      <td>54.000000</td>\n      <td>54.259998</td>\n      <td>54.259998</td>\n      <td>10556900</td>\n      <td>81.0</td>\n      <td>False</td>\n      <td>1</td>\n    </tr>\n    <tr>\n      <th>62</th>\n      <td>06-29-2021</td>\n      <td>54.130001</td>\n      <td>54.340000</td>\n      <td>53.720001</td>\n      <td>53.860001</td>\n      <td>53.860001</td>\n      <td>12300900</td>\n      <td>82.0</td>\n      <td>False</td>\n      <td>0</td>\n    </tr>\n    <tr>\n      <th>63</th>\n      <td>06-30-2021</td>\n      <td>53.799999</td>\n      <td>54.180000</td>\n      <td>53.750000</td>\n      <td>54.110001</td>\n      <td>54.110001</td>\n      <td>14614200</td>\n      <td>83.0</td>\n      <td>False</td>\n      <td>1</td>\n    </tr>\n  </tbody>\n</table>\n</div>"
     },
     "execution_count": 547,
     "metadata": {},
     "output_type": "execute_result"
    }
   ],
   "source": [
    "CokeDataSetQtr2"
   ],
   "metadata": {
    "collapsed": false,
    "pycharm": {
     "name": "#%%\n"
    }
   }
  },
  {
   "cell_type": "code",
   "execution_count": 548,
   "outputs": [
    {
     "data": {
      "text/plain": "[{'Open': 45,\n  'High': 47,\n  'Low': 55,\n  'Close': 8,\n  'Adj Close': 51,\n  'Volume': 26140571},\n {'Open': 6,\n  'High': 26,\n  'Low': 9,\n  'Close': 27,\n  'Adj Close': 30,\n  'Volume': 29944978},\n {'Open': 47,\n  'High': 33,\n  'Low': 53,\n  'Close': 22,\n  'Adj Close': 39,\n  'Volume': 40794907},\n {'Open': 5,\n  'High': 2,\n  'Low': 5,\n  'Close': 40,\n  'Adj Close': 49,\n  'Volume': 5508698},\n {'Open': 6,\n  'High': 23,\n  'Low': 44,\n  'Close': 21,\n  'Adj Close': 55,\n  'Volume': 227961},\n {'Open': 23,\n  'High': 19,\n  'Low': 11,\n  'Close': 8,\n  'Adj Close': 10,\n  'Volume': 26115674},\n {'Open': 18,\n  'High': 10,\n  'Low': 55,\n  'Close': 5,\n  'Adj Close': 14,\n  'Volume': 55051307},\n {'Open': 37,\n  'High': 7,\n  'Low': 29,\n  'Close': 43,\n  'Adj Close': 35,\n  'Volume': 1591227},\n {'Open': 44,\n  'High': 26,\n  'Low': 51,\n  'Close': 1,\n  'Adj Close': 52,\n  'Volume': 1439518},\n {'Open': 56,\n  'High': 15,\n  'Low': 48,\n  'Close': 53,\n  'Adj Close': 9,\n  'Volume': 22392310}]"
     },
     "execution_count": 548,
     "metadata": {},
     "output_type": "execute_result"
    }
   ],
   "source": [
    "numElements = 10\n",
    "SampleStock = []\n",
    "for _ in range(numElements):\n",
    "    dict = {}\n",
    "    for column in X.columns:\n",
    "        min = 0\n",
    "        maxValue = round(max(CokeDataSetQtr2[column].values))\n",
    "        dict[column] = rnd.randint(min, maxValue)\n",
    "    SampleStock.append(dict)\n",
    "SampleStock"
   ],
   "metadata": {
    "collapsed": false,
    "pycharm": {
     "name": "#%%\n"
    }
   }
  },
  {
   "cell_type": "code",
   "execution_count": 549,
   "outputs": [
    {
     "data": {
      "text/plain": "array([1, 1, 1, 1, 1, 1, 1, 1, 1, 1])"
     },
     "execution_count": 549,
     "metadata": {},
     "output_type": "execute_result"
    }
   ],
   "source": [
    "pdSampleStock = pd.DataFrame.from_dict(SampleStock)\n",
    "predictions = knn.predict(pdSampleStock)\n",
    "predictions"
   ],
   "metadata": {
    "collapsed": false,
    "pycharm": {
     "name": "#%%\n"
    }
   }
  },
  {
   "cell_type": "code",
   "execution_count": 550,
   "outputs": [
    {
     "data": {
      "text/plain": "   Open  High  Low  Close  Adj Close    Volume  InvestToday?\n0    45    47   55      8         51  26140571          True\n1     6    26    9     27         30  29944978          True\n2    47    33   53     22         39  40794907          True\n3     5     2    5     40         49   5508698          True\n4     6    23   44     21         55    227961          True\n5    23    19   11      8         10  26115674          True\n6    18    10   55      5         14  55051307          True\n7    37     7   29     43         35   1591227          True\n8    44    26   51      1         52   1439518          True\n9    56    15   48     53          9  22392310          True",
      "text/html": "<div>\n<style scoped>\n    .dataframe tbody tr th:only-of-type {\n        vertical-align: middle;\n    }\n\n    .dataframe tbody tr th {\n        vertical-align: top;\n    }\n\n    .dataframe thead th {\n        text-align: right;\n    }\n</style>\n<table border=\"1\" class=\"dataframe\">\n  <thead>\n    <tr style=\"text-align: right;\">\n      <th></th>\n      <th>Open</th>\n      <th>High</th>\n      <th>Low</th>\n      <th>Close</th>\n      <th>Adj Close</th>\n      <th>Volume</th>\n      <th>InvestToday?</th>\n    </tr>\n  </thead>\n  <tbody>\n    <tr>\n      <th>0</th>\n      <td>45</td>\n      <td>47</td>\n      <td>55</td>\n      <td>8</td>\n      <td>51</td>\n      <td>26140571</td>\n      <td>True</td>\n    </tr>\n    <tr>\n      <th>1</th>\n      <td>6</td>\n      <td>26</td>\n      <td>9</td>\n      <td>27</td>\n      <td>30</td>\n      <td>29944978</td>\n      <td>True</td>\n    </tr>\n    <tr>\n      <th>2</th>\n      <td>47</td>\n      <td>33</td>\n      <td>53</td>\n      <td>22</td>\n      <td>39</td>\n      <td>40794907</td>\n      <td>True</td>\n    </tr>\n    <tr>\n      <th>3</th>\n      <td>5</td>\n      <td>2</td>\n      <td>5</td>\n      <td>40</td>\n      <td>49</td>\n      <td>5508698</td>\n      <td>True</td>\n    </tr>\n    <tr>\n      <th>4</th>\n      <td>6</td>\n      <td>23</td>\n      <td>44</td>\n      <td>21</td>\n      <td>55</td>\n      <td>227961</td>\n      <td>True</td>\n    </tr>\n    <tr>\n      <th>5</th>\n      <td>23</td>\n      <td>19</td>\n      <td>11</td>\n      <td>8</td>\n      <td>10</td>\n      <td>26115674</td>\n      <td>True</td>\n    </tr>\n    <tr>\n      <th>6</th>\n      <td>18</td>\n      <td>10</td>\n      <td>55</td>\n      <td>5</td>\n      <td>14</td>\n      <td>55051307</td>\n      <td>True</td>\n    </tr>\n    <tr>\n      <th>7</th>\n      <td>37</td>\n      <td>7</td>\n      <td>29</td>\n      <td>43</td>\n      <td>35</td>\n      <td>1591227</td>\n      <td>True</td>\n    </tr>\n    <tr>\n      <th>8</th>\n      <td>44</td>\n      <td>26</td>\n      <td>51</td>\n      <td>1</td>\n      <td>52</td>\n      <td>1439518</td>\n      <td>True</td>\n    </tr>\n    <tr>\n      <th>9</th>\n      <td>56</td>\n      <td>15</td>\n      <td>48</td>\n      <td>53</td>\n      <td>9</td>\n      <td>22392310</td>\n      <td>True</td>\n    </tr>\n  </tbody>\n</table>\n</div>"
     },
     "execution_count": 550,
     "metadata": {},
     "output_type": "execute_result"
    }
   ],
   "source": [
    "pdPredictedInvest = pdSampleStock\n",
    "pdPredictedInvest[\"InvestToday?\"] = predictions.astype(bool)\n",
    "pdPredictedInvest"
   ],
   "metadata": {
    "collapsed": false,
    "pycharm": {
     "name": "#%%\n"
    }
   }
  },
  {
   "cell_type": "code",
   "execution_count": 551,
   "outputs": [
    {
     "data": {
      "text/plain": "LogisticRegression(solver='liblinear')"
     },
     "execution_count": 551,
     "metadata": {},
     "output_type": "execute_result"
    }
   ],
   "source": [
    "lr = LogisticRegression(solver=\"liblinear\")\n",
    "lr"
   ],
   "metadata": {
    "collapsed": false,
    "pycharm": {
     "name": "#%%\n"
    }
   }
  },
  {
   "cell_type": "code",
   "execution_count": 552,
   "outputs": [
    {
     "data": {
      "text/plain": "LogisticRegression(solver='liblinear')"
     },
     "execution_count": 552,
     "metadata": {},
     "output_type": "execute_result"
    }
   ],
   "source": [
    "lr.fit(X_train, y_train)\n"
   ],
   "metadata": {
    "collapsed": false,
    "pycharm": {
     "name": "#%%\n"
    }
   }
  },
  {
   "cell_type": "code",
   "execution_count": 553,
   "outputs": [
    {
     "data": {
      "text/plain": "0.5227272727272727"
     },
     "execution_count": 553,
     "metadata": {},
     "output_type": "execute_result"
    }
   ],
   "source": [
    "lr.score(X_train, y_train)\n"
   ],
   "metadata": {
    "collapsed": false,
    "pycharm": {
     "name": "#%%\n"
    }
   }
  },
  {
   "cell_type": "code",
   "execution_count": 554,
   "outputs": [
    {
     "data": {
      "text/plain": "0.5"
     },
     "execution_count": 554,
     "metadata": {},
     "output_type": "execute_result"
    }
   ],
   "source": [
    "lr.score(X_test, y_test)"
   ],
   "metadata": {
    "collapsed": false,
    "pycharm": {
     "name": "#%%\n"
    }
   }
  },
  {
   "cell_type": "code",
   "execution_count": 555,
   "outputs": [],
   "source": [
    "predictions = lr.predict(X_test)"
   ],
   "metadata": {
    "collapsed": false,
    "pycharm": {
     "name": "#%%\n"
    }
   }
  },
  {
   "cell_type": "code",
   "execution_count": 556,
   "outputs": [
    {
     "data": {
      "application/vnd.plotly.v1+json": {
       "config": {
        "plotlyServerURL": "https://plot.ly"
       },
       "data": [
        {
         "hovertemplate": "Close=%{x}<br>Open=%{y}<br>InvestToday=%{marker.color}<extra></extra>",
         "legendgroup": "",
         "marker": {
          "color": [
           0,
           1,
           1,
           0,
           0,
           1,
           1,
           1,
           1,
           1,
           0,
           0,
           1,
           1,
           1,
           0,
           1,
           0,
           1,
           0,
           1,
           0,
           1,
           0,
           0,
           1,
           1,
           1,
           0,
           0,
           1,
           0,
           0,
           0,
           1,
           1,
           0,
           1,
           0,
           1,
           1,
           0,
           0,
           0,
           1,
           1,
           0,
           0,
           0,
           0,
           1,
           0,
           0,
           0,
           1,
           0,
           1,
           1,
           0,
           1,
           1,
           1,
           0,
           1
          ],
          "coloraxis": "coloraxis",
          "symbol": "circle"
         },
         "mode": "markers",
         "name": "",
         "orientation": "v",
         "showlegend": false,
         "type": "scatter",
         "x": [
          52.5099983215332,
          52.810001373291016,
          53.18999862670898,
          53.27999877929688,
          53.119998931884766,
          53.18000030517578,
          53.34999847412109,
          53.09000015258789,
          53.08000183105469,
          53.33000183105469,
          53.68000030517578,
          54.0,
          54.16999816894531,
          54.61000061035156,
          54.61000061035156,
          54.43999862670898,
          54.470001220703125,
          53.65999984741211,
          53.58000183105469,
          53.59000015258789,
          54.2599983215332,
          53.97999954223633,
          54.47999954223633,
          54.13999938964844,
          54.0,
          54.540000915527344,
          54.5099983215332,
          54.90999984741211,
          54.31999969482422,
          54.040000915527344,
          54.5099983215332,
          54.72999954223633,
          54.63999938964844,
          54.34000015258789,
          54.16999816894531,
          54.650001525878906,
          54.619998931884766,
          54.79999923706055,
          54.790000915527344,
          55.02999877929688,
          55.4900016784668,
          55.290000915527344,
          55.27999877929688,
          55.5,
          55.63999938964844,
          56.2400016784668,
          56.040000915527344,
          55.650001525878906,
          55.47999954223633,
          55.90999984741211,
          56.15999984741211,
          55.54999923706055,
          55.40999984741211,
          54.66999816894531,
          54.95000076293945,
          53.77000045776367,
          54.36000061035156,
          54.560001373291016,
          54.119998931884766,
          54.38999938964844,
          54.31999969482422,
          54.2599983215332,
          53.86000061035156,
          54.11000061035156
         ],
         "xaxis": "x",
         "y": [
          52.959999084472656,
          52.34999847412109,
          53.040000915527344,
          53.27999877929688,
          53.16999816894531,
          53.16999816894531,
          53.33000183105469,
          53.040000915527344,
          52.97999954223633,
          53.130001068115234,
          53.7400016784668,
          54.0,
          53.84000015258789,
          54.2400016784668,
          54.2400016784668,
          54.470001220703125,
          54.400001525878906,
          54.470001220703125,
          53.560001373291016,
          53.97999954223633,
          53.540000915527344,
          54.25,
          54.27000045776367,
          54.56999969482422,
          54.13999938964844,
          54.119998931884766,
          54.43999862670898,
          54.880001068115234,
          55.02999877929688,
          54.36000061035156,
          53.970001220703125,
          54.900001525878906,
          54.84000015258789,
          54.38999938964844,
          54.119998931884766,
          54.119998931884766,
          54.79999923706055,
          54.630001068115234,
          54.81999969482422,
          54.97999954223633,
          55.209999084472656,
          55.34999847412109,
          55.34000015258789,
          55.5,
          55.18000030517578,
          55.900001525878906,
          56.310001373291016,
          56.25,
          55.75,
          55.90999984741211,
          55.9900016784668,
          55.68999862670898,
          55.77999877929688,
          55.43999862670898,
          54.66999816894531,
          54.5099983215332,
          54.220001220703125,
          54.34000015258789,
          54.560001373291016,
          54.2599983215332,
          54.2400016784668,
          54.25,
          54.130001068115234,
          53.79999923706055
         ],
         "yaxis": "y"
        }
       ],
       "layout": {
        "coloraxis": {
         "colorbar": {
          "title": {
           "text": "InvestToday"
          }
         },
         "colorscale": [
          [
           0.0,
           "#0d0887"
          ],
          [
           0.1111111111111111,
           "#46039f"
          ],
          [
           0.2222222222222222,
           "#7201a8"
          ],
          [
           0.3333333333333333,
           "#9c179e"
          ],
          [
           0.4444444444444444,
           "#bd3786"
          ],
          [
           0.5555555555555556,
           "#d8576b"
          ],
          [
           0.6666666666666666,
           "#ed7953"
          ],
          [
           0.7777777777777778,
           "#fb9f3a"
          ],
          [
           0.8888888888888888,
           "#fdca26"
          ],
          [
           1.0,
           "#f0f921"
          ]
         ]
        },
        "legend": {
         "tracegroupgap": 0
        },
        "margin": {
         "t": 60
        },
        "template": {
         "data": {
          "bar": [
           {
            "error_x": {
             "color": "#2a3f5f"
            },
            "error_y": {
             "color": "#2a3f5f"
            },
            "marker": {
             "line": {
              "color": "#E5ECF6",
              "width": 0.5
             }
            },
            "type": "bar"
           }
          ],
          "barpolar": [
           {
            "marker": {
             "line": {
              "color": "#E5ECF6",
              "width": 0.5
             }
            },
            "type": "barpolar"
           }
          ],
          "carpet": [
           {
            "aaxis": {
             "endlinecolor": "#2a3f5f",
             "gridcolor": "white",
             "linecolor": "white",
             "minorgridcolor": "white",
             "startlinecolor": "#2a3f5f"
            },
            "baxis": {
             "endlinecolor": "#2a3f5f",
             "gridcolor": "white",
             "linecolor": "white",
             "minorgridcolor": "white",
             "startlinecolor": "#2a3f5f"
            },
            "type": "carpet"
           }
          ],
          "choropleth": [
           {
            "colorbar": {
             "outlinewidth": 0,
             "ticks": ""
            },
            "type": "choropleth"
           }
          ],
          "contour": [
           {
            "colorbar": {
             "outlinewidth": 0,
             "ticks": ""
            },
            "colorscale": [
             [
              0.0,
              "#0d0887"
             ],
             [
              0.1111111111111111,
              "#46039f"
             ],
             [
              0.2222222222222222,
              "#7201a8"
             ],
             [
              0.3333333333333333,
              "#9c179e"
             ],
             [
              0.4444444444444444,
              "#bd3786"
             ],
             [
              0.5555555555555556,
              "#d8576b"
             ],
             [
              0.6666666666666666,
              "#ed7953"
             ],
             [
              0.7777777777777778,
              "#fb9f3a"
             ],
             [
              0.8888888888888888,
              "#fdca26"
             ],
             [
              1.0,
              "#f0f921"
             ]
            ],
            "type": "contour"
           }
          ],
          "contourcarpet": [
           {
            "colorbar": {
             "outlinewidth": 0,
             "ticks": ""
            },
            "type": "contourcarpet"
           }
          ],
          "heatmap": [
           {
            "colorbar": {
             "outlinewidth": 0,
             "ticks": ""
            },
            "colorscale": [
             [
              0.0,
              "#0d0887"
             ],
             [
              0.1111111111111111,
              "#46039f"
             ],
             [
              0.2222222222222222,
              "#7201a8"
             ],
             [
              0.3333333333333333,
              "#9c179e"
             ],
             [
              0.4444444444444444,
              "#bd3786"
             ],
             [
              0.5555555555555556,
              "#d8576b"
             ],
             [
              0.6666666666666666,
              "#ed7953"
             ],
             [
              0.7777777777777778,
              "#fb9f3a"
             ],
             [
              0.8888888888888888,
              "#fdca26"
             ],
             [
              1.0,
              "#f0f921"
             ]
            ],
            "type": "heatmap"
           }
          ],
          "heatmapgl": [
           {
            "colorbar": {
             "outlinewidth": 0,
             "ticks": ""
            },
            "colorscale": [
             [
              0.0,
              "#0d0887"
             ],
             [
              0.1111111111111111,
              "#46039f"
             ],
             [
              0.2222222222222222,
              "#7201a8"
             ],
             [
              0.3333333333333333,
              "#9c179e"
             ],
             [
              0.4444444444444444,
              "#bd3786"
             ],
             [
              0.5555555555555556,
              "#d8576b"
             ],
             [
              0.6666666666666666,
              "#ed7953"
             ],
             [
              0.7777777777777778,
              "#fb9f3a"
             ],
             [
              0.8888888888888888,
              "#fdca26"
             ],
             [
              1.0,
              "#f0f921"
             ]
            ],
            "type": "heatmapgl"
           }
          ],
          "histogram": [
           {
            "marker": {
             "colorbar": {
              "outlinewidth": 0,
              "ticks": ""
             }
            },
            "type": "histogram"
           }
          ],
          "histogram2d": [
           {
            "colorbar": {
             "outlinewidth": 0,
             "ticks": ""
            },
            "colorscale": [
             [
              0.0,
              "#0d0887"
             ],
             [
              0.1111111111111111,
              "#46039f"
             ],
             [
              0.2222222222222222,
              "#7201a8"
             ],
             [
              0.3333333333333333,
              "#9c179e"
             ],
             [
              0.4444444444444444,
              "#bd3786"
             ],
             [
              0.5555555555555556,
              "#d8576b"
             ],
             [
              0.6666666666666666,
              "#ed7953"
             ],
             [
              0.7777777777777778,
              "#fb9f3a"
             ],
             [
              0.8888888888888888,
              "#fdca26"
             ],
             [
              1.0,
              "#f0f921"
             ]
            ],
            "type": "histogram2d"
           }
          ],
          "histogram2dcontour": [
           {
            "colorbar": {
             "outlinewidth": 0,
             "ticks": ""
            },
            "colorscale": [
             [
              0.0,
              "#0d0887"
             ],
             [
              0.1111111111111111,
              "#46039f"
             ],
             [
              0.2222222222222222,
              "#7201a8"
             ],
             [
              0.3333333333333333,
              "#9c179e"
             ],
             [
              0.4444444444444444,
              "#bd3786"
             ],
             [
              0.5555555555555556,
              "#d8576b"
             ],
             [
              0.6666666666666666,
              "#ed7953"
             ],
             [
              0.7777777777777778,
              "#fb9f3a"
             ],
             [
              0.8888888888888888,
              "#fdca26"
             ],
             [
              1.0,
              "#f0f921"
             ]
            ],
            "type": "histogram2dcontour"
           }
          ],
          "mesh3d": [
           {
            "colorbar": {
             "outlinewidth": 0,
             "ticks": ""
            },
            "type": "mesh3d"
           }
          ],
          "parcoords": [
           {
            "line": {
             "colorbar": {
              "outlinewidth": 0,
              "ticks": ""
             }
            },
            "type": "parcoords"
           }
          ],
          "pie": [
           {
            "automargin": true,
            "type": "pie"
           }
          ],
          "scatter": [
           {
            "marker": {
             "colorbar": {
              "outlinewidth": 0,
              "ticks": ""
             }
            },
            "type": "scatter"
           }
          ],
          "scatter3d": [
           {
            "line": {
             "colorbar": {
              "outlinewidth": 0,
              "ticks": ""
             }
            },
            "marker": {
             "colorbar": {
              "outlinewidth": 0,
              "ticks": ""
             }
            },
            "type": "scatter3d"
           }
          ],
          "scattercarpet": [
           {
            "marker": {
             "colorbar": {
              "outlinewidth": 0,
              "ticks": ""
             }
            },
            "type": "scattercarpet"
           }
          ],
          "scattergeo": [
           {
            "marker": {
             "colorbar": {
              "outlinewidth": 0,
              "ticks": ""
             }
            },
            "type": "scattergeo"
           }
          ],
          "scattergl": [
           {
            "marker": {
             "colorbar": {
              "outlinewidth": 0,
              "ticks": ""
             }
            },
            "type": "scattergl"
           }
          ],
          "scattermapbox": [
           {
            "marker": {
             "colorbar": {
              "outlinewidth": 0,
              "ticks": ""
             }
            },
            "type": "scattermapbox"
           }
          ],
          "scatterpolar": [
           {
            "marker": {
             "colorbar": {
              "outlinewidth": 0,
              "ticks": ""
             }
            },
            "type": "scatterpolar"
           }
          ],
          "scatterpolargl": [
           {
            "marker": {
             "colorbar": {
              "outlinewidth": 0,
              "ticks": ""
             }
            },
            "type": "scatterpolargl"
           }
          ],
          "scatterternary": [
           {
            "marker": {
             "colorbar": {
              "outlinewidth": 0,
              "ticks": ""
             }
            },
            "type": "scatterternary"
           }
          ],
          "surface": [
           {
            "colorbar": {
             "outlinewidth": 0,
             "ticks": ""
            },
            "colorscale": [
             [
              0.0,
              "#0d0887"
             ],
             [
              0.1111111111111111,
              "#46039f"
             ],
             [
              0.2222222222222222,
              "#7201a8"
             ],
             [
              0.3333333333333333,
              "#9c179e"
             ],
             [
              0.4444444444444444,
              "#bd3786"
             ],
             [
              0.5555555555555556,
              "#d8576b"
             ],
             [
              0.6666666666666666,
              "#ed7953"
             ],
             [
              0.7777777777777778,
              "#fb9f3a"
             ],
             [
              0.8888888888888888,
              "#fdca26"
             ],
             [
              1.0,
              "#f0f921"
             ]
            ],
            "type": "surface"
           }
          ],
          "table": [
           {
            "cells": {
             "fill": {
              "color": "#EBF0F8"
             },
             "line": {
              "color": "white"
             }
            },
            "header": {
             "fill": {
              "color": "#C8D4E3"
             },
             "line": {
              "color": "white"
             }
            },
            "type": "table"
           }
          ]
         },
         "layout": {
          "annotationdefaults": {
           "arrowcolor": "#2a3f5f",
           "arrowhead": 0,
           "arrowwidth": 1
          },
          "autotypenumbers": "strict",
          "coloraxis": {
           "colorbar": {
            "outlinewidth": 0,
            "ticks": ""
           }
          },
          "colorscale": {
           "diverging": [
            [
             0,
             "#8e0152"
            ],
            [
             0.1,
             "#c51b7d"
            ],
            [
             0.2,
             "#de77ae"
            ],
            [
             0.3,
             "#f1b6da"
            ],
            [
             0.4,
             "#fde0ef"
            ],
            [
             0.5,
             "#f7f7f7"
            ],
            [
             0.6,
             "#e6f5d0"
            ],
            [
             0.7,
             "#b8e186"
            ],
            [
             0.8,
             "#7fbc41"
            ],
            [
             0.9,
             "#4d9221"
            ],
            [
             1,
             "#276419"
            ]
           ],
           "sequential": [
            [
             0.0,
             "#0d0887"
            ],
            [
             0.1111111111111111,
             "#46039f"
            ],
            [
             0.2222222222222222,
             "#7201a8"
            ],
            [
             0.3333333333333333,
             "#9c179e"
            ],
            [
             0.4444444444444444,
             "#bd3786"
            ],
            [
             0.5555555555555556,
             "#d8576b"
            ],
            [
             0.6666666666666666,
             "#ed7953"
            ],
            [
             0.7777777777777778,
             "#fb9f3a"
            ],
            [
             0.8888888888888888,
             "#fdca26"
            ],
            [
             1.0,
             "#f0f921"
            ]
           ],
           "sequentialminus": [
            [
             0.0,
             "#0d0887"
            ],
            [
             0.1111111111111111,
             "#46039f"
            ],
            [
             0.2222222222222222,
             "#7201a8"
            ],
            [
             0.3333333333333333,
             "#9c179e"
            ],
            [
             0.4444444444444444,
             "#bd3786"
            ],
            [
             0.5555555555555556,
             "#d8576b"
            ],
            [
             0.6666666666666666,
             "#ed7953"
            ],
            [
             0.7777777777777778,
             "#fb9f3a"
            ],
            [
             0.8888888888888888,
             "#fdca26"
            ],
            [
             1.0,
             "#f0f921"
            ]
           ]
          },
          "colorway": [
           "#636efa",
           "#EF553B",
           "#00cc96",
           "#ab63fa",
           "#FFA15A",
           "#19d3f3",
           "#FF6692",
           "#B6E880",
           "#FF97FF",
           "#FECB52"
          ],
          "font": {
           "color": "#2a3f5f"
          },
          "geo": {
           "bgcolor": "white",
           "lakecolor": "white",
           "landcolor": "#E5ECF6",
           "showlakes": true,
           "showland": true,
           "subunitcolor": "white"
          },
          "hoverlabel": {
           "align": "left"
          },
          "hovermode": "closest",
          "mapbox": {
           "style": "light"
          },
          "paper_bgcolor": "white",
          "plot_bgcolor": "#E5ECF6",
          "polar": {
           "angularaxis": {
            "gridcolor": "white",
            "linecolor": "white",
            "ticks": ""
           },
           "bgcolor": "#E5ECF6",
           "radialaxis": {
            "gridcolor": "white",
            "linecolor": "white",
            "ticks": ""
           }
          },
          "scene": {
           "xaxis": {
            "backgroundcolor": "#E5ECF6",
            "gridcolor": "white",
            "gridwidth": 2,
            "linecolor": "white",
            "showbackground": true,
            "ticks": "",
            "zerolinecolor": "white"
           },
           "yaxis": {
            "backgroundcolor": "#E5ECF6",
            "gridcolor": "white",
            "gridwidth": 2,
            "linecolor": "white",
            "showbackground": true,
            "ticks": "",
            "zerolinecolor": "white"
           },
           "zaxis": {
            "backgroundcolor": "#E5ECF6",
            "gridcolor": "white",
            "gridwidth": 2,
            "linecolor": "white",
            "showbackground": true,
            "ticks": "",
            "zerolinecolor": "white"
           }
          },
          "shapedefaults": {
           "line": {
            "color": "#2a3f5f"
           }
          },
          "ternary": {
           "aaxis": {
            "gridcolor": "white",
            "linecolor": "white",
            "ticks": ""
           },
           "baxis": {
            "gridcolor": "white",
            "linecolor": "white",
            "ticks": ""
           },
           "bgcolor": "#E5ECF6",
           "caxis": {
            "gridcolor": "white",
            "linecolor": "white",
            "ticks": ""
           }
          },
          "title": {
           "x": 0.05
          },
          "xaxis": {
           "automargin": true,
           "gridcolor": "white",
           "linecolor": "white",
           "ticks": "",
           "title": {
            "standoff": 15
           },
           "zerolinecolor": "white",
           "zerolinewidth": 2
          },
          "yaxis": {
           "automargin": true,
           "gridcolor": "white",
           "linecolor": "white",
           "ticks": "",
           "title": {
            "standoff": 15
           },
           "zerolinecolor": "white",
           "zerolinewidth": 2
          }
         }
        },
        "xaxis": {
         "anchor": "y",
         "domain": [
          0.0,
          1.0
         ],
         "title": {
          "text": "Close"
         }
        },
        "yaxis": {
         "anchor": "x",
         "domain": [
          0.0,
          1.0
         ],
         "title": {
          "text": "Open"
         }
        }
       }
      },
      "text/html": "<div>                            <div id=\"3e250850-6f21-473f-a377-0756c9d1fee9\" class=\"plotly-graph-div\" style=\"height:525px; width:100%;\"></div>            <script type=\"text/javascript\">                require([\"plotly\"], function(Plotly) {                    window.PLOTLYENV=window.PLOTLYENV || {};                                    if (document.getElementById(\"3e250850-6f21-473f-a377-0756c9d1fee9\")) {                    Plotly.newPlot(                        \"3e250850-6f21-473f-a377-0756c9d1fee9\",                        [{\"hovertemplate\": \"Close=%{x}<br>Open=%{y}<br>InvestToday=%{marker.color}<extra></extra>\", \"legendgroup\": \"\", \"marker\": {\"color\": [0, 1, 1, 0, 0, 1, 1, 1, 1, 1, 0, 0, 1, 1, 1, 0, 1, 0, 1, 0, 1, 0, 1, 0, 0, 1, 1, 1, 0, 0, 1, 0, 0, 0, 1, 1, 0, 1, 0, 1, 1, 0, 0, 0, 1, 1, 0, 0, 0, 0, 1, 0, 0, 0, 1, 0, 1, 1, 0, 1, 1, 1, 0, 1], \"coloraxis\": \"coloraxis\", \"symbol\": \"circle\"}, \"mode\": \"markers\", \"name\": \"\", \"orientation\": \"v\", \"showlegend\": false, \"type\": \"scatter\", \"x\": [52.5099983215332, 52.810001373291016, 53.18999862670898, 53.27999877929688, 53.119998931884766, 53.18000030517578, 53.34999847412109, 53.09000015258789, 53.08000183105469, 53.33000183105469, 53.68000030517578, 54.0, 54.16999816894531, 54.61000061035156, 54.61000061035156, 54.43999862670898, 54.470001220703125, 53.65999984741211, 53.58000183105469, 53.59000015258789, 54.2599983215332, 53.97999954223633, 54.47999954223633, 54.13999938964844, 54.0, 54.540000915527344, 54.5099983215332, 54.90999984741211, 54.31999969482422, 54.040000915527344, 54.5099983215332, 54.72999954223633, 54.63999938964844, 54.34000015258789, 54.16999816894531, 54.650001525878906, 54.619998931884766, 54.79999923706055, 54.790000915527344, 55.02999877929688, 55.4900016784668, 55.290000915527344, 55.27999877929688, 55.5, 55.63999938964844, 56.2400016784668, 56.040000915527344, 55.650001525878906, 55.47999954223633, 55.90999984741211, 56.15999984741211, 55.54999923706055, 55.40999984741211, 54.66999816894531, 54.95000076293945, 53.77000045776367, 54.36000061035156, 54.560001373291016, 54.119998931884766, 54.38999938964844, 54.31999969482422, 54.2599983215332, 53.86000061035156, 54.11000061035156], \"xaxis\": \"x\", \"y\": [52.959999084472656, 52.34999847412109, 53.040000915527344, 53.27999877929688, 53.16999816894531, 53.16999816894531, 53.33000183105469, 53.040000915527344, 52.97999954223633, 53.130001068115234, 53.7400016784668, 54.0, 53.84000015258789, 54.2400016784668, 54.2400016784668, 54.470001220703125, 54.400001525878906, 54.470001220703125, 53.560001373291016, 53.97999954223633, 53.540000915527344, 54.25, 54.27000045776367, 54.56999969482422, 54.13999938964844, 54.119998931884766, 54.43999862670898, 54.880001068115234, 55.02999877929688, 54.36000061035156, 53.970001220703125, 54.900001525878906, 54.84000015258789, 54.38999938964844, 54.119998931884766, 54.119998931884766, 54.79999923706055, 54.630001068115234, 54.81999969482422, 54.97999954223633, 55.209999084472656, 55.34999847412109, 55.34000015258789, 55.5, 55.18000030517578, 55.900001525878906, 56.310001373291016, 56.25, 55.75, 55.90999984741211, 55.9900016784668, 55.68999862670898, 55.77999877929688, 55.43999862670898, 54.66999816894531, 54.5099983215332, 54.220001220703125, 54.34000015258789, 54.560001373291016, 54.2599983215332, 54.2400016784668, 54.25, 54.130001068115234, 53.79999923706055], \"yaxis\": \"y\"}],                        {\"coloraxis\": {\"colorbar\": {\"title\": {\"text\": \"InvestToday\"}}, \"colorscale\": [[0.0, \"#0d0887\"], [0.1111111111111111, \"#46039f\"], [0.2222222222222222, \"#7201a8\"], [0.3333333333333333, \"#9c179e\"], [0.4444444444444444, \"#bd3786\"], [0.5555555555555556, \"#d8576b\"], [0.6666666666666666, \"#ed7953\"], [0.7777777777777778, \"#fb9f3a\"], [0.8888888888888888, \"#fdca26\"], [1.0, \"#f0f921\"]]}, \"legend\": {\"tracegroupgap\": 0}, \"margin\": {\"t\": 60}, \"template\": {\"data\": {\"bar\": [{\"error_x\": {\"color\": \"#2a3f5f\"}, \"error_y\": {\"color\": \"#2a3f5f\"}, \"marker\": {\"line\": {\"color\": \"#E5ECF6\", \"width\": 0.5}}, \"type\": \"bar\"}], \"barpolar\": [{\"marker\": {\"line\": {\"color\": \"#E5ECF6\", \"width\": 0.5}}, \"type\": \"barpolar\"}], \"carpet\": [{\"aaxis\": {\"endlinecolor\": \"#2a3f5f\", \"gridcolor\": \"white\", \"linecolor\": \"white\", \"minorgridcolor\": \"white\", \"startlinecolor\": \"#2a3f5f\"}, \"baxis\": {\"endlinecolor\": \"#2a3f5f\", \"gridcolor\": \"white\", \"linecolor\": \"white\", \"minorgridcolor\": \"white\", \"startlinecolor\": \"#2a3f5f\"}, \"type\": \"carpet\"}], \"choropleth\": [{\"colorbar\": {\"outlinewidth\": 0, \"ticks\": \"\"}, \"type\": \"choropleth\"}], \"contour\": [{\"colorbar\": {\"outlinewidth\": 0, \"ticks\": \"\"}, \"colorscale\": [[0.0, \"#0d0887\"], [0.1111111111111111, \"#46039f\"], [0.2222222222222222, \"#7201a8\"], [0.3333333333333333, \"#9c179e\"], [0.4444444444444444, \"#bd3786\"], [0.5555555555555556, \"#d8576b\"], [0.6666666666666666, \"#ed7953\"], [0.7777777777777778, \"#fb9f3a\"], [0.8888888888888888, \"#fdca26\"], [1.0, \"#f0f921\"]], \"type\": \"contour\"}], \"contourcarpet\": [{\"colorbar\": {\"outlinewidth\": 0, \"ticks\": \"\"}, \"type\": \"contourcarpet\"}], \"heatmap\": [{\"colorbar\": {\"outlinewidth\": 0, \"ticks\": \"\"}, \"colorscale\": [[0.0, \"#0d0887\"], [0.1111111111111111, \"#46039f\"], [0.2222222222222222, \"#7201a8\"], [0.3333333333333333, \"#9c179e\"], [0.4444444444444444, \"#bd3786\"], [0.5555555555555556, \"#d8576b\"], [0.6666666666666666, \"#ed7953\"], [0.7777777777777778, \"#fb9f3a\"], [0.8888888888888888, \"#fdca26\"], [1.0, \"#f0f921\"]], \"type\": \"heatmap\"}], \"heatmapgl\": [{\"colorbar\": {\"outlinewidth\": 0, \"ticks\": \"\"}, \"colorscale\": [[0.0, \"#0d0887\"], [0.1111111111111111, \"#46039f\"], [0.2222222222222222, \"#7201a8\"], [0.3333333333333333, \"#9c179e\"], [0.4444444444444444, \"#bd3786\"], [0.5555555555555556, \"#d8576b\"], [0.6666666666666666, \"#ed7953\"], [0.7777777777777778, \"#fb9f3a\"], [0.8888888888888888, \"#fdca26\"], [1.0, \"#f0f921\"]], \"type\": \"heatmapgl\"}], \"histogram\": [{\"marker\": {\"colorbar\": {\"outlinewidth\": 0, \"ticks\": \"\"}}, \"type\": \"histogram\"}], \"histogram2d\": [{\"colorbar\": {\"outlinewidth\": 0, \"ticks\": \"\"}, \"colorscale\": [[0.0, \"#0d0887\"], [0.1111111111111111, \"#46039f\"], [0.2222222222222222, \"#7201a8\"], [0.3333333333333333, \"#9c179e\"], [0.4444444444444444, \"#bd3786\"], [0.5555555555555556, \"#d8576b\"], [0.6666666666666666, \"#ed7953\"], [0.7777777777777778, \"#fb9f3a\"], [0.8888888888888888, \"#fdca26\"], [1.0, \"#f0f921\"]], \"type\": \"histogram2d\"}], \"histogram2dcontour\": [{\"colorbar\": {\"outlinewidth\": 0, \"ticks\": \"\"}, \"colorscale\": [[0.0, \"#0d0887\"], [0.1111111111111111, \"#46039f\"], [0.2222222222222222, \"#7201a8\"], [0.3333333333333333, \"#9c179e\"], [0.4444444444444444, \"#bd3786\"], [0.5555555555555556, \"#d8576b\"], [0.6666666666666666, \"#ed7953\"], [0.7777777777777778, \"#fb9f3a\"], [0.8888888888888888, \"#fdca26\"], [1.0, \"#f0f921\"]], \"type\": \"histogram2dcontour\"}], \"mesh3d\": [{\"colorbar\": {\"outlinewidth\": 0, \"ticks\": \"\"}, \"type\": \"mesh3d\"}], \"parcoords\": [{\"line\": {\"colorbar\": {\"outlinewidth\": 0, \"ticks\": \"\"}}, \"type\": \"parcoords\"}], \"pie\": [{\"automargin\": true, \"type\": \"pie\"}], \"scatter\": [{\"marker\": {\"colorbar\": {\"outlinewidth\": 0, \"ticks\": \"\"}}, \"type\": \"scatter\"}], \"scatter3d\": [{\"line\": {\"colorbar\": {\"outlinewidth\": 0, \"ticks\": \"\"}}, \"marker\": {\"colorbar\": {\"outlinewidth\": 0, \"ticks\": \"\"}}, \"type\": \"scatter3d\"}], \"scattercarpet\": [{\"marker\": {\"colorbar\": {\"outlinewidth\": 0, \"ticks\": \"\"}}, \"type\": \"scattercarpet\"}], \"scattergeo\": [{\"marker\": {\"colorbar\": {\"outlinewidth\": 0, \"ticks\": \"\"}}, \"type\": \"scattergeo\"}], \"scattergl\": [{\"marker\": {\"colorbar\": {\"outlinewidth\": 0, \"ticks\": \"\"}}, \"type\": \"scattergl\"}], \"scattermapbox\": [{\"marker\": {\"colorbar\": {\"outlinewidth\": 0, \"ticks\": \"\"}}, \"type\": \"scattermapbox\"}], \"scatterpolar\": [{\"marker\": {\"colorbar\": {\"outlinewidth\": 0, \"ticks\": \"\"}}, \"type\": \"scatterpolar\"}], \"scatterpolargl\": [{\"marker\": {\"colorbar\": {\"outlinewidth\": 0, \"ticks\": \"\"}}, \"type\": \"scatterpolargl\"}], \"scatterternary\": [{\"marker\": {\"colorbar\": {\"outlinewidth\": 0, \"ticks\": \"\"}}, \"type\": \"scatterternary\"}], \"surface\": [{\"colorbar\": {\"outlinewidth\": 0, \"ticks\": \"\"}, \"colorscale\": [[0.0, \"#0d0887\"], [0.1111111111111111, \"#46039f\"], [0.2222222222222222, \"#7201a8\"], [0.3333333333333333, \"#9c179e\"], [0.4444444444444444, \"#bd3786\"], [0.5555555555555556, \"#d8576b\"], [0.6666666666666666, \"#ed7953\"], [0.7777777777777778, \"#fb9f3a\"], [0.8888888888888888, \"#fdca26\"], [1.0, \"#f0f921\"]], \"type\": \"surface\"}], \"table\": [{\"cells\": {\"fill\": {\"color\": \"#EBF0F8\"}, \"line\": {\"color\": \"white\"}}, \"header\": {\"fill\": {\"color\": \"#C8D4E3\"}, \"line\": {\"color\": \"white\"}}, \"type\": \"table\"}]}, \"layout\": {\"annotationdefaults\": {\"arrowcolor\": \"#2a3f5f\", \"arrowhead\": 0, \"arrowwidth\": 1}, \"autotypenumbers\": \"strict\", \"coloraxis\": {\"colorbar\": {\"outlinewidth\": 0, \"ticks\": \"\"}}, \"colorscale\": {\"diverging\": [[0, \"#8e0152\"], [0.1, \"#c51b7d\"], [0.2, \"#de77ae\"], [0.3, \"#f1b6da\"], [0.4, \"#fde0ef\"], [0.5, \"#f7f7f7\"], [0.6, \"#e6f5d0\"], [0.7, \"#b8e186\"], [0.8, \"#7fbc41\"], [0.9, \"#4d9221\"], [1, \"#276419\"]], \"sequential\": [[0.0, \"#0d0887\"], [0.1111111111111111, \"#46039f\"], [0.2222222222222222, \"#7201a8\"], [0.3333333333333333, \"#9c179e\"], [0.4444444444444444, \"#bd3786\"], [0.5555555555555556, \"#d8576b\"], [0.6666666666666666, \"#ed7953\"], [0.7777777777777778, \"#fb9f3a\"], [0.8888888888888888, \"#fdca26\"], [1.0, \"#f0f921\"]], \"sequentialminus\": [[0.0, \"#0d0887\"], [0.1111111111111111, \"#46039f\"], [0.2222222222222222, \"#7201a8\"], [0.3333333333333333, \"#9c179e\"], [0.4444444444444444, \"#bd3786\"], [0.5555555555555556, \"#d8576b\"], [0.6666666666666666, \"#ed7953\"], [0.7777777777777778, \"#fb9f3a\"], [0.8888888888888888, \"#fdca26\"], [1.0, \"#f0f921\"]]}, \"colorway\": [\"#636efa\", \"#EF553B\", \"#00cc96\", \"#ab63fa\", \"#FFA15A\", \"#19d3f3\", \"#FF6692\", \"#B6E880\", \"#FF97FF\", \"#FECB52\"], \"font\": {\"color\": \"#2a3f5f\"}, \"geo\": {\"bgcolor\": \"white\", \"lakecolor\": \"white\", \"landcolor\": \"#E5ECF6\", \"showlakes\": true, \"showland\": true, \"subunitcolor\": \"white\"}, \"hoverlabel\": {\"align\": \"left\"}, \"hovermode\": \"closest\", \"mapbox\": {\"style\": \"light\"}, \"paper_bgcolor\": \"white\", \"plot_bgcolor\": \"#E5ECF6\", \"polar\": {\"angularaxis\": {\"gridcolor\": \"white\", \"linecolor\": \"white\", \"ticks\": \"\"}, \"bgcolor\": \"#E5ECF6\", \"radialaxis\": {\"gridcolor\": \"white\", \"linecolor\": \"white\", \"ticks\": \"\"}}, \"scene\": {\"xaxis\": {\"backgroundcolor\": \"#E5ECF6\", \"gridcolor\": \"white\", \"gridwidth\": 2, \"linecolor\": \"white\", \"showbackground\": true, \"ticks\": \"\", \"zerolinecolor\": \"white\"}, \"yaxis\": {\"backgroundcolor\": \"#E5ECF6\", \"gridcolor\": \"white\", \"gridwidth\": 2, \"linecolor\": \"white\", \"showbackground\": true, \"ticks\": \"\", \"zerolinecolor\": \"white\"}, \"zaxis\": {\"backgroundcolor\": \"#E5ECF6\", \"gridcolor\": \"white\", \"gridwidth\": 2, \"linecolor\": \"white\", \"showbackground\": true, \"ticks\": \"\", \"zerolinecolor\": \"white\"}}, \"shapedefaults\": {\"line\": {\"color\": \"#2a3f5f\"}}, \"ternary\": {\"aaxis\": {\"gridcolor\": \"white\", \"linecolor\": \"white\", \"ticks\": \"\"}, \"baxis\": {\"gridcolor\": \"white\", \"linecolor\": \"white\", \"ticks\": \"\"}, \"bgcolor\": \"#E5ECF6\", \"caxis\": {\"gridcolor\": \"white\", \"linecolor\": \"white\", \"ticks\": \"\"}}, \"title\": {\"x\": 0.05}, \"xaxis\": {\"automargin\": true, \"gridcolor\": \"white\", \"linecolor\": \"white\", \"ticks\": \"\", \"title\": {\"standoff\": 15}, \"zerolinecolor\": \"white\", \"zerolinewidth\": 2}, \"yaxis\": {\"automargin\": true, \"gridcolor\": \"white\", \"linecolor\": \"white\", \"ticks\": \"\", \"title\": {\"standoff\": 15}, \"zerolinecolor\": \"white\", \"zerolinewidth\": 2}}}, \"xaxis\": {\"anchor\": \"y\", \"domain\": [0.0, 1.0], \"title\": {\"text\": \"Close\"}}, \"yaxis\": {\"anchor\": \"x\", \"domain\": [0.0, 1.0], \"title\": {\"text\": \"Open\"}}},                        {\"responsive\": true}                    ).then(function(){\n                            \nvar gd = document.getElementById('3e250850-6f21-473f-a377-0756c9d1fee9');\nvar x = new MutationObserver(function (mutations, observer) {{\n        var display = window.getComputedStyle(gd).display;\n        if (!display || display === 'none') {{\n            console.log([gd, 'removed!']);\n            Plotly.purge(gd);\n            observer.disconnect();\n        }}\n}});\n\n// Listen for the removal of the full notebook cells\nvar notebookContainer = gd.closest('#notebook-container');\nif (notebookContainer) {{\n    x.observe(notebookContainer, {childList: true});\n}}\n\n// Listen for the clearing of the current output cell\nvar outputEl = gd.closest('.output');\nif (outputEl) {{\n    x.observe(outputEl, {childList: true});\n}}\n\n                        })                };                });            </script>        </div>"
     },
     "metadata": {},
     "output_type": "display_data"
    }
   ],
   "source": [
    "fig = px.scatter(CokeDataSetQtr2, x='Close', y='Open',color='InvestToday')\n",
    "fig.show()"
   ],
   "metadata": {
    "collapsed": false,
    "pycharm": {
     "name": "#%%\n"
    }
   }
  },
  {
   "cell_type": "code",
   "execution_count": 556,
   "outputs": [],
   "source": [],
   "metadata": {
    "collapsed": false,
    "pycharm": {
     "name": "#%%\n"
    }
   }
  },
  {
   "cell_type": "markdown",
   "source": [
    "### Tesla (TSLA)\n",
    "Andrew T."
   ],
   "metadata": {
    "collapsed": false
   }
  },
  {
   "cell_type": "code",
   "execution_count": 557,
   "outputs": [
    {
     "data": {
      "text/plain": "    Previous_Search_Interest  isPartial\n0                         29      False\n1                         41      False\n2                         29      False\n3                         22      False\n4                         22      False\n5                         23      False\n6                         24      False\n7                         23      False\n8                         24      False\n9                         22      False\n10                        26      False\n11                        24      False\n12                        25      False\n13                        36      False\n14                        42      False\n15                        35      False\n16                        44      False\n17                        32      False\n18                        51      False\n19                        44      False\n20                        39      False\n21                        32      False\n22                        34      False\n23                        54      False\n24                        37      False\n25                        30      False\n26                        35      False\n27                        32      False\n28                        32      False\n29                        26      False\n30                        26      False\n31                        25      False\n32                        23      False\n33                        25      False\n34                        30      False\n35                        31      False\n36                        29      False\n37                        26      False\n38                        29      False\n39                        28      False\n40                        32      False\n41                        30      False\n42                        33      False\n43                        74      False\n44                        38      False\n45                        31      False\n46                        35      False\n47                        53      False\n48                        40      False\n49                       100      False\n50                        66      False\n51                        53      False\n52                        46      False\n53                        55      False\n54                        54      False\n55                        42      False\n56                        34      False\n57                        28      False\n58                        33      False\n59                        29      False\n60                        29      False\n61                        28      False\n62                        29      False\n63                        27      False\n64                        24      False\n65                        29      False\n66                        29      False\n67                        29      False\n68                        28      False\n69                        41      False\n70                        38      False\n71                        33      False\n72                        28      False\n73                        23      False\n74                        25      False\n75                        32      False\n76                        25      False\n77                        23      False\n78                        23      False\n79                        22      False\n80                        17      False\n81                        21      False\n82                        33      False\n83                        46      False\n84                        32      False\n85                        26      False\n86                        24      False\n87                        22      False\n88                        22      False\n89                        25      False\n90                        22      False",
      "text/html": "<div>\n<style scoped>\n    .dataframe tbody tr th:only-of-type {\n        vertical-align: middle;\n    }\n\n    .dataframe tbody tr th {\n        vertical-align: top;\n    }\n\n    .dataframe thead th {\n        text-align: right;\n    }\n</style>\n<table border=\"1\" class=\"dataframe\">\n  <thead>\n    <tr style=\"text-align: right;\">\n      <th></th>\n      <th>Previous_Search_Interest</th>\n      <th>isPartial</th>\n    </tr>\n  </thead>\n  <tbody>\n    <tr>\n      <th>0</th>\n      <td>29</td>\n      <td>False</td>\n    </tr>\n    <tr>\n      <th>1</th>\n      <td>41</td>\n      <td>False</td>\n    </tr>\n    <tr>\n      <th>2</th>\n      <td>29</td>\n      <td>False</td>\n    </tr>\n    <tr>\n      <th>3</th>\n      <td>22</td>\n      <td>False</td>\n    </tr>\n    <tr>\n      <th>4</th>\n      <td>22</td>\n      <td>False</td>\n    </tr>\n    <tr>\n      <th>5</th>\n      <td>23</td>\n      <td>False</td>\n    </tr>\n    <tr>\n      <th>6</th>\n      <td>24</td>\n      <td>False</td>\n    </tr>\n    <tr>\n      <th>7</th>\n      <td>23</td>\n      <td>False</td>\n    </tr>\n    <tr>\n      <th>8</th>\n      <td>24</td>\n      <td>False</td>\n    </tr>\n    <tr>\n      <th>9</th>\n      <td>22</td>\n      <td>False</td>\n    </tr>\n    <tr>\n      <th>10</th>\n      <td>26</td>\n      <td>False</td>\n    </tr>\n    <tr>\n      <th>11</th>\n      <td>24</td>\n      <td>False</td>\n    </tr>\n    <tr>\n      <th>12</th>\n      <td>25</td>\n      <td>False</td>\n    </tr>\n    <tr>\n      <th>13</th>\n      <td>36</td>\n      <td>False</td>\n    </tr>\n    <tr>\n      <th>14</th>\n      <td>42</td>\n      <td>False</td>\n    </tr>\n    <tr>\n      <th>15</th>\n      <td>35</td>\n      <td>False</td>\n    </tr>\n    <tr>\n      <th>16</th>\n      <td>44</td>\n      <td>False</td>\n    </tr>\n    <tr>\n      <th>17</th>\n      <td>32</td>\n      <td>False</td>\n    </tr>\n    <tr>\n      <th>18</th>\n      <td>51</td>\n      <td>False</td>\n    </tr>\n    <tr>\n      <th>19</th>\n      <td>44</td>\n      <td>False</td>\n    </tr>\n    <tr>\n      <th>20</th>\n      <td>39</td>\n      <td>False</td>\n    </tr>\n    <tr>\n      <th>21</th>\n      <td>32</td>\n      <td>False</td>\n    </tr>\n    <tr>\n      <th>22</th>\n      <td>34</td>\n      <td>False</td>\n    </tr>\n    <tr>\n      <th>23</th>\n      <td>54</td>\n      <td>False</td>\n    </tr>\n    <tr>\n      <th>24</th>\n      <td>37</td>\n      <td>False</td>\n    </tr>\n    <tr>\n      <th>25</th>\n      <td>30</td>\n      <td>False</td>\n    </tr>\n    <tr>\n      <th>26</th>\n      <td>35</td>\n      <td>False</td>\n    </tr>\n    <tr>\n      <th>27</th>\n      <td>32</td>\n      <td>False</td>\n    </tr>\n    <tr>\n      <th>28</th>\n      <td>32</td>\n      <td>False</td>\n    </tr>\n    <tr>\n      <th>29</th>\n      <td>26</td>\n      <td>False</td>\n    </tr>\n    <tr>\n      <th>30</th>\n      <td>26</td>\n      <td>False</td>\n    </tr>\n    <tr>\n      <th>31</th>\n      <td>25</td>\n      <td>False</td>\n    </tr>\n    <tr>\n      <th>32</th>\n      <td>23</td>\n      <td>False</td>\n    </tr>\n    <tr>\n      <th>33</th>\n      <td>25</td>\n      <td>False</td>\n    </tr>\n    <tr>\n      <th>34</th>\n      <td>30</td>\n      <td>False</td>\n    </tr>\n    <tr>\n      <th>35</th>\n      <td>31</td>\n      <td>False</td>\n    </tr>\n    <tr>\n      <th>36</th>\n      <td>29</td>\n      <td>False</td>\n    </tr>\n    <tr>\n      <th>37</th>\n      <td>26</td>\n      <td>False</td>\n    </tr>\n    <tr>\n      <th>38</th>\n      <td>29</td>\n      <td>False</td>\n    </tr>\n    <tr>\n      <th>39</th>\n      <td>28</td>\n      <td>False</td>\n    </tr>\n    <tr>\n      <th>40</th>\n      <td>32</td>\n      <td>False</td>\n    </tr>\n    <tr>\n      <th>41</th>\n      <td>30</td>\n      <td>False</td>\n    </tr>\n    <tr>\n      <th>42</th>\n      <td>33</td>\n      <td>False</td>\n    </tr>\n    <tr>\n      <th>43</th>\n      <td>74</td>\n      <td>False</td>\n    </tr>\n    <tr>\n      <th>44</th>\n      <td>38</td>\n      <td>False</td>\n    </tr>\n    <tr>\n      <th>45</th>\n      <td>31</td>\n      <td>False</td>\n    </tr>\n    <tr>\n      <th>46</th>\n      <td>35</td>\n      <td>False</td>\n    </tr>\n    <tr>\n      <th>47</th>\n      <td>53</td>\n      <td>False</td>\n    </tr>\n    <tr>\n      <th>48</th>\n      <td>40</td>\n      <td>False</td>\n    </tr>\n    <tr>\n      <th>49</th>\n      <td>100</td>\n      <td>False</td>\n    </tr>\n    <tr>\n      <th>50</th>\n      <td>66</td>\n      <td>False</td>\n    </tr>\n    <tr>\n      <th>51</th>\n      <td>53</td>\n      <td>False</td>\n    </tr>\n    <tr>\n      <th>52</th>\n      <td>46</td>\n      <td>False</td>\n    </tr>\n    <tr>\n      <th>53</th>\n      <td>55</td>\n      <td>False</td>\n    </tr>\n    <tr>\n      <th>54</th>\n      <td>54</td>\n      <td>False</td>\n    </tr>\n    <tr>\n      <th>55</th>\n      <td>42</td>\n      <td>False</td>\n    </tr>\n    <tr>\n      <th>56</th>\n      <td>34</td>\n      <td>False</td>\n    </tr>\n    <tr>\n      <th>57</th>\n      <td>28</td>\n      <td>False</td>\n    </tr>\n    <tr>\n      <th>58</th>\n      <td>33</td>\n      <td>False</td>\n    </tr>\n    <tr>\n      <th>59</th>\n      <td>29</td>\n      <td>False</td>\n    </tr>\n    <tr>\n      <th>60</th>\n      <td>29</td>\n      <td>False</td>\n    </tr>\n    <tr>\n      <th>61</th>\n      <td>28</td>\n      <td>False</td>\n    </tr>\n    <tr>\n      <th>62</th>\n      <td>29</td>\n      <td>False</td>\n    </tr>\n    <tr>\n      <th>63</th>\n      <td>27</td>\n      <td>False</td>\n    </tr>\n    <tr>\n      <th>64</th>\n      <td>24</td>\n      <td>False</td>\n    </tr>\n    <tr>\n      <th>65</th>\n      <td>29</td>\n      <td>False</td>\n    </tr>\n    <tr>\n      <th>66</th>\n      <td>29</td>\n      <td>False</td>\n    </tr>\n    <tr>\n      <th>67</th>\n      <td>29</td>\n      <td>False</td>\n    </tr>\n    <tr>\n      <th>68</th>\n      <td>28</td>\n      <td>False</td>\n    </tr>\n    <tr>\n      <th>69</th>\n      <td>41</td>\n      <td>False</td>\n    </tr>\n    <tr>\n      <th>70</th>\n      <td>38</td>\n      <td>False</td>\n    </tr>\n    <tr>\n      <th>71</th>\n      <td>33</td>\n      <td>False</td>\n    </tr>\n    <tr>\n      <th>72</th>\n      <td>28</td>\n      <td>False</td>\n    </tr>\n    <tr>\n      <th>73</th>\n      <td>23</td>\n      <td>False</td>\n    </tr>\n    <tr>\n      <th>74</th>\n      <td>25</td>\n      <td>False</td>\n    </tr>\n    <tr>\n      <th>75</th>\n      <td>32</td>\n      <td>False</td>\n    </tr>\n    <tr>\n      <th>76</th>\n      <td>25</td>\n      <td>False</td>\n    </tr>\n    <tr>\n      <th>77</th>\n      <td>23</td>\n      <td>False</td>\n    </tr>\n    <tr>\n      <th>78</th>\n      <td>23</td>\n      <td>False</td>\n    </tr>\n    <tr>\n      <th>79</th>\n      <td>22</td>\n      <td>False</td>\n    </tr>\n    <tr>\n      <th>80</th>\n      <td>17</td>\n      <td>False</td>\n    </tr>\n    <tr>\n      <th>81</th>\n      <td>21</td>\n      <td>False</td>\n    </tr>\n    <tr>\n      <th>82</th>\n      <td>33</td>\n      <td>False</td>\n    </tr>\n    <tr>\n      <th>83</th>\n      <td>46</td>\n      <td>False</td>\n    </tr>\n    <tr>\n      <th>84</th>\n      <td>32</td>\n      <td>False</td>\n    </tr>\n    <tr>\n      <th>85</th>\n      <td>26</td>\n      <td>False</td>\n    </tr>\n    <tr>\n      <th>86</th>\n      <td>24</td>\n      <td>False</td>\n    </tr>\n    <tr>\n      <th>87</th>\n      <td>22</td>\n      <td>False</td>\n    </tr>\n    <tr>\n      <th>88</th>\n      <td>22</td>\n      <td>False</td>\n    </tr>\n    <tr>\n      <th>89</th>\n      <td>25</td>\n      <td>False</td>\n    </tr>\n    <tr>\n      <th>90</th>\n      <td>22</td>\n      <td>False</td>\n    </tr>\n  </tbody>\n</table>\n</div>"
     },
     "execution_count": 557,
     "metadata": {},
     "output_type": "execute_result"
    }
   ],
   "source": [
    "pytrends = TrendReq(hl='en-US', tz=360)\n",
    "\n",
    "#build list of keywords in this case only use Teslas\n",
    "kw_list = [\"Bitcoin\"]\n",
    "\n",
    "# build the payload\n",
    "pytrends.build_payload(kw_list, timeframe='2021-03-31 2021-06-29', geo='US')\n",
    "\n",
    "# store interest over time information in df and rename Tesla column to Search Interest\n",
    "bitcoinTrendsdf = pytrends.interest_over_time()\n",
    "bitcoinTrendsdf = bitcoinTrendsdf.rename(columns={'Bitcoin': 'Previous_Search_Interest'})\n",
    "#telsaStockdf.set_index('date': 'Date', inplace=True)\n",
    "bitcoinTrendsdf.reset_index(inplace=True, drop=True)\n",
    "bitcoinTrendsdf"
   ],
   "metadata": {
    "collapsed": false,
    "pycharm": {
     "name": "#%%\n"
    }
   }
  },
  {
   "cell_type": "code",
   "execution_count": 558,
   "outputs": [
    {
     "data": {
      "text/plain": "    Previous_Open  Previous_High  Previous_Low  Previous_Close  \\\n0    58930.277344   59930.027344  57726.417969    58918.832031   \n1    58926.562500   59586.070313  58505.277344    59095.808594   \n2    59098.878906   60267.187500  58869.281250    59384.312500   \n3    59397.410156   60110.269531  57603.890625    57603.890625   \n4    57604.839844   58913.746094  57168.675781    58758.554688   \n5    58760.875000   59891.296875  57694.824219    59057.878906   \n6    59171.933594   59479.578125  57646.808594    58192.359375   \n7    58186.507813   58731.144531  55604.023438    56048.937500   \n8    56099.914063   58338.738281  55879.085938    58323.953125   \n9    58326.562500   58937.046875  57807.863281    58245.003906   \n10   58253.777344   61276.664063  58038.707031    59793.234375   \n11   59846.230469   60790.554688  59289.796875    60204.964844   \n12   60175.945313   61253.035156  59589.875000    59893.453125   \n13   59890.019531   63742.285156  59869.957031    63503.457031   \n14   63523.753906   64863.097656  61554.796875    63109.695313   \n15   63075.195313   63821.671875  62208.964844    63314.011719   \n16   63258.503906   63594.722656  60222.531250    61572.789063   \n17   61529.921875   62572.175781  60361.351563    60683.820313   \n18   60701.886719   61057.457031  52829.535156    56216.183594   \n19   56191.585938   57520.054688  54368.593750    55724.265625   \n20   55681.792969   57062.148438  53448.046875    56473.031250   \n21   56471.128906   56757.972656  53695.468750    53906.089844   \n22   53857.105469   55410.230469  50583.812500    51762.273438   \n23   51739.808594   52120.792969  47714.664063    51093.652344   \n24   51143.226563   51167.562500  48805.285156    50050.867188   \n25   50052.832031   50506.019531  47159.484375    49004.253906   \n26   49077.792969   54288.003906  48852.796875    54021.753906   \n27   54030.304688   55416.964844  53319.187500    55033.117188   \n28   55036.636719   56227.207031  53887.917969    54824.703125   \n29   54858.089844   55115.843750  52418.027344    53555.109375   \n30   53568.664063   57900.718750  53129.601563    57750.175781   \n31   57714.664063   58448.339844  57052.273438    57828.050781   \n32   57825.863281   57902.593750  56141.906250    56631.078125   \n33   56620.273438   58973.308594  56590.871094    57200.292969   \n34   57214.179688   57214.179688  53191.425781    53333.539063   \n35   53252.164063   57911.363281  52969.054688    57424.007813   \n36   57441.308594   58363.316406  55382.507813    56396.515625   \n37   56413.953125   58606.632813  55321.847656    57356.402344   \n38   57352.765625   59464.613281  56975.210938    58803.777344   \n39   58877.390625   59210.882813  56482.003906    58232.316406   \n40   58250.871094   59519.355469  54071.457031    55859.796875   \n41   55847.242188   56872.542969  54608.652344    56704.574219   \n42   56714.531250   57939.363281  49150.535156    49150.535156   \n43   49735.433594   51330.843750  46980.019531    49716.191406   \n44   49682.980469   51438.117188  48868.578125    49880.535156   \n45   49855.496094   50639.664063  46664.140625    46760.187500   \n46   46716.636719   49720.042969  43963.351563    46456.058594   \n47   46415.898438   46623.558594  42207.289063    43537.511719   \n48   43488.058594   45812.457031  42367.832031    42909.402344   \n49   42944.976563   43546.117188  30681.496094    37002.441406   \n50   36753.667969   42462.984375  35050.617188    40782.738281   \n51   40596.949219   42172.171875  33616.453125    37304.691406   \n52   37371.031250   38831.054688  35383.683594    37536.632813   \n53   37531.449219   38289.218750  31227.339844    34770.582031   \n54   34700.363281   39835.140625  34551.082031    38705.980469   \n55   38795.781250   39776.351563  36581.429688    38402.222656   \n56   38392.625000   40782.078125  37905.835938    39294.199219   \n57   39316.890625   40379.617188  37247.902344    38436.968750   \n58   38507.082031   38856.968750  34779.039063    35697.605469   \n59   35684.156250   37234.500000  33693.929688    34616.066406   \n60   34607.406250   36400.667969  33520.738281    35678.128906   \n61   35658.593750   37468.250000  34241.945313    37332.855469   \n62   37293.792969   37896.734375  35787.085938    36684.925781   \n63   36699.921875   38231.339844  35966.308594    37575.179688   \n64   37599.410156   39478.953125  37243.972656    39208.765625   \n65   39242.484375   39242.484375  35717.722656    36894.406250   \n66   36880.156250   37917.714844  34900.414063    35551.957031   \n67   35538.609375   36436.421875  35304.578125    35862.378906   \n68   35835.265625   36790.570313  33480.640625    33560.707031   \n69   33589.519531   34017.386719  31114.443359    33472.632813   \n70   33416.976563   37537.371094  32475.865234    37345.121094   \n71   37389.515625   38334.324219  35847.593750    36702.597656   \n72   36697.031250   37608.695313  36044.449219    37334.398438   \n73   37340.144531   37408.925781  34728.191406    35552.515625   \n74   35555.789063   39322.781250  34864.109375    39097.859375   \n75   39016.968750   40978.363281  38757.285156    40218.476563   \n76   40427.167969   41295.269531  39609.468750    40406.269531   \n77   40168.691406   40516.777344  38176.035156    38347.062500   \n78   38341.421875   39513.671875  37439.675781    38053.503906   \n79   38099.476563   38187.261719  35255.855469    35787.246094   \n80   35854.527344   36457.796875  34933.062500    35615.871094   \n81   35563.140625   36059.484375  33432.074219    35698.296875   \n82   35641.144531   35721.640625  31295.935547    31676.693359   \n83   31622.376953   33292.453125  28893.621094    32505.660156   \n84   32515.714844   34753.410156  31772.632813    33723.027344   \n85   33682.800781   35228.851563  32385.214844    34662.437500   \n86   34659.105469   35487.246094  31350.884766    31637.779297   \n87   31594.664063   32637.587891  30184.501953    32186.277344   \n88   32287.523438   34656.128906  32071.757813    34649.644531   \n89   34679.121094   35219.890625  33902.074219    34434.335938   \n90   34475.558594   36542.109375  34252.484375    35867.777344   \n\n    Previous_Adj_Close  Previous_Volume  \n0         58918.832031      65520826225  \n1         59095.808594      61669163792  \n2         59384.312500      58727860620  \n3         57603.890625      59641344484  \n4         58758.554688      50749662970  \n5         59057.878906      60706272115  \n6         58192.359375      66058027988  \n7         56048.937500      75645303584  \n8         58323.953125      53053855641  \n9         58245.003906      46655208546  \n10        59793.234375      58238470525  \n11        60204.964844      46280252580  \n12        59893.453125      51828688519  \n13        63503.457031      69983454362  \n14        63109.695313      77451779687  \n15        63314.011719      60954381579  \n16        61572.789063      84293007468  \n17        60683.820313      66138759198  \n18        56216.183594      97468872758  \n19        55724.265625      65344865159  \n20        56473.031250      67849323955  \n21        53906.089844      54926612466  \n22        51762.273438      74798630778  \n23        51093.652344      86668667320  \n24        50050.867188      49014494781  \n25        49004.253906      46117114240  \n26        54021.753906      58284039825  \n27        55033.117188      49448222757  \n28        54824.703125      48000572955  \n29        53555.109375      46088929780  \n30        57750.175781      52395931985  \n31        57828.050781      42836427360  \n32        56631.078125      38177405335  \n33        57200.292969      51713139031  \n34        53333.539063      68564706967  \n35        57424.007813      69241316747  \n36        56396.515625      69523285106  \n37        57356.402344      68434023376  \n38        58803.777344      65382980634  \n39        58232.316406      65906690347  \n40        55859.796875      71776546298  \n41        56704.574219      61308396325  \n42        49150.535156      75215403907  \n43        49716.191406      96721152926  \n44        49880.535156      55737497453  \n45        46760.187500      59161047474  \n46        46456.058594      64047871555  \n47        43537.511719      74903638450  \n48        42909.402344      56187365084  \n49        37002.441406     126358098747  \n50        40782.738281      88281943359  \n51        37304.691406      82051616861  \n52        37536.632813      57377273240  \n53        34770.582031      78469274361  \n54        38705.980469      67359584098  \n55        38402.222656      56211915803  \n56        39294.199219      51346735160  \n57        38436.968750      43210968721  \n58        35697.605469      55200191952  \n59        34616.066406      45231013335  \n60        35678.128906      31646080921  \n61        37332.855469      39009847639  \n62        36684.925781      34639423297  \n63        37575.179688      33070867190  \n64        39208.765625      35460750427  \n65        36894.406250      41831090187  \n66        35551.957031      35959473399  \n67        35862.378906      28913440585  \n68        33560.707031      33683936663  \n69        33472.632813      49902050442  \n70        37345.121094      53972919008  \n71        36702.597656      43576032854  \n72        37334.398438      38699736985  \n73        35552.515625      37924228550  \n74        39097.859375      40669112838  \n75        40218.476563      43148914673  \n76        40406.269531      46420149185  \n77        38347.062500      39211635100  \n78        38053.503906      37096670047  \n79        35787.246094      36200887275  \n80        35615.871094      31207279719  \n81        35698.296875      36664034054  \n82        31676.693359      52809038594  \n83        32505.660156      58964353058  \n84        33723.027344      46317108925  \n85        34662.437500      33123368116  \n86        31637.779297      40230904226  \n87        32186.277344      38585385521  \n88        34649.644531      35511640894  \n89        34434.335938      33892523752  \n90        35867.777344      37901460044  ",
      "text/html": "<div>\n<style scoped>\n    .dataframe tbody tr th:only-of-type {\n        vertical-align: middle;\n    }\n\n    .dataframe tbody tr th {\n        vertical-align: top;\n    }\n\n    .dataframe thead th {\n        text-align: right;\n    }\n</style>\n<table border=\"1\" class=\"dataframe\">\n  <thead>\n    <tr style=\"text-align: right;\">\n      <th></th>\n      <th>Previous_Open</th>\n      <th>Previous_High</th>\n      <th>Previous_Low</th>\n      <th>Previous_Close</th>\n      <th>Previous_Adj_Close</th>\n      <th>Previous_Volume</th>\n    </tr>\n  </thead>\n  <tbody>\n    <tr>\n      <th>0</th>\n      <td>58930.277344</td>\n      <td>59930.027344</td>\n      <td>57726.417969</td>\n      <td>58918.832031</td>\n      <td>58918.832031</td>\n      <td>65520826225</td>\n    </tr>\n    <tr>\n      <th>1</th>\n      <td>58926.562500</td>\n      <td>59586.070313</td>\n      <td>58505.277344</td>\n      <td>59095.808594</td>\n      <td>59095.808594</td>\n      <td>61669163792</td>\n    </tr>\n    <tr>\n      <th>2</th>\n      <td>59098.878906</td>\n      <td>60267.187500</td>\n      <td>58869.281250</td>\n      <td>59384.312500</td>\n      <td>59384.312500</td>\n      <td>58727860620</td>\n    </tr>\n    <tr>\n      <th>3</th>\n      <td>59397.410156</td>\n      <td>60110.269531</td>\n      <td>57603.890625</td>\n      <td>57603.890625</td>\n      <td>57603.890625</td>\n      <td>59641344484</td>\n    </tr>\n    <tr>\n      <th>4</th>\n      <td>57604.839844</td>\n      <td>58913.746094</td>\n      <td>57168.675781</td>\n      <td>58758.554688</td>\n      <td>58758.554688</td>\n      <td>50749662970</td>\n    </tr>\n    <tr>\n      <th>5</th>\n      <td>58760.875000</td>\n      <td>59891.296875</td>\n      <td>57694.824219</td>\n      <td>59057.878906</td>\n      <td>59057.878906</td>\n      <td>60706272115</td>\n    </tr>\n    <tr>\n      <th>6</th>\n      <td>59171.933594</td>\n      <td>59479.578125</td>\n      <td>57646.808594</td>\n      <td>58192.359375</td>\n      <td>58192.359375</td>\n      <td>66058027988</td>\n    </tr>\n    <tr>\n      <th>7</th>\n      <td>58186.507813</td>\n      <td>58731.144531</td>\n      <td>55604.023438</td>\n      <td>56048.937500</td>\n      <td>56048.937500</td>\n      <td>75645303584</td>\n    </tr>\n    <tr>\n      <th>8</th>\n      <td>56099.914063</td>\n      <td>58338.738281</td>\n      <td>55879.085938</td>\n      <td>58323.953125</td>\n      <td>58323.953125</td>\n      <td>53053855641</td>\n    </tr>\n    <tr>\n      <th>9</th>\n      <td>58326.562500</td>\n      <td>58937.046875</td>\n      <td>57807.863281</td>\n      <td>58245.003906</td>\n      <td>58245.003906</td>\n      <td>46655208546</td>\n    </tr>\n    <tr>\n      <th>10</th>\n      <td>58253.777344</td>\n      <td>61276.664063</td>\n      <td>58038.707031</td>\n      <td>59793.234375</td>\n      <td>59793.234375</td>\n      <td>58238470525</td>\n    </tr>\n    <tr>\n      <th>11</th>\n      <td>59846.230469</td>\n      <td>60790.554688</td>\n      <td>59289.796875</td>\n      <td>60204.964844</td>\n      <td>60204.964844</td>\n      <td>46280252580</td>\n    </tr>\n    <tr>\n      <th>12</th>\n      <td>60175.945313</td>\n      <td>61253.035156</td>\n      <td>59589.875000</td>\n      <td>59893.453125</td>\n      <td>59893.453125</td>\n      <td>51828688519</td>\n    </tr>\n    <tr>\n      <th>13</th>\n      <td>59890.019531</td>\n      <td>63742.285156</td>\n      <td>59869.957031</td>\n      <td>63503.457031</td>\n      <td>63503.457031</td>\n      <td>69983454362</td>\n    </tr>\n    <tr>\n      <th>14</th>\n      <td>63523.753906</td>\n      <td>64863.097656</td>\n      <td>61554.796875</td>\n      <td>63109.695313</td>\n      <td>63109.695313</td>\n      <td>77451779687</td>\n    </tr>\n    <tr>\n      <th>15</th>\n      <td>63075.195313</td>\n      <td>63821.671875</td>\n      <td>62208.964844</td>\n      <td>63314.011719</td>\n      <td>63314.011719</td>\n      <td>60954381579</td>\n    </tr>\n    <tr>\n      <th>16</th>\n      <td>63258.503906</td>\n      <td>63594.722656</td>\n      <td>60222.531250</td>\n      <td>61572.789063</td>\n      <td>61572.789063</td>\n      <td>84293007468</td>\n    </tr>\n    <tr>\n      <th>17</th>\n      <td>61529.921875</td>\n      <td>62572.175781</td>\n      <td>60361.351563</td>\n      <td>60683.820313</td>\n      <td>60683.820313</td>\n      <td>66138759198</td>\n    </tr>\n    <tr>\n      <th>18</th>\n      <td>60701.886719</td>\n      <td>61057.457031</td>\n      <td>52829.535156</td>\n      <td>56216.183594</td>\n      <td>56216.183594</td>\n      <td>97468872758</td>\n    </tr>\n    <tr>\n      <th>19</th>\n      <td>56191.585938</td>\n      <td>57520.054688</td>\n      <td>54368.593750</td>\n      <td>55724.265625</td>\n      <td>55724.265625</td>\n      <td>65344865159</td>\n    </tr>\n    <tr>\n      <th>20</th>\n      <td>55681.792969</td>\n      <td>57062.148438</td>\n      <td>53448.046875</td>\n      <td>56473.031250</td>\n      <td>56473.031250</td>\n      <td>67849323955</td>\n    </tr>\n    <tr>\n      <th>21</th>\n      <td>56471.128906</td>\n      <td>56757.972656</td>\n      <td>53695.468750</td>\n      <td>53906.089844</td>\n      <td>53906.089844</td>\n      <td>54926612466</td>\n    </tr>\n    <tr>\n      <th>22</th>\n      <td>53857.105469</td>\n      <td>55410.230469</td>\n      <td>50583.812500</td>\n      <td>51762.273438</td>\n      <td>51762.273438</td>\n      <td>74798630778</td>\n    </tr>\n    <tr>\n      <th>23</th>\n      <td>51739.808594</td>\n      <td>52120.792969</td>\n      <td>47714.664063</td>\n      <td>51093.652344</td>\n      <td>51093.652344</td>\n      <td>86668667320</td>\n    </tr>\n    <tr>\n      <th>24</th>\n      <td>51143.226563</td>\n      <td>51167.562500</td>\n      <td>48805.285156</td>\n      <td>50050.867188</td>\n      <td>50050.867188</td>\n      <td>49014494781</td>\n    </tr>\n    <tr>\n      <th>25</th>\n      <td>50052.832031</td>\n      <td>50506.019531</td>\n      <td>47159.484375</td>\n      <td>49004.253906</td>\n      <td>49004.253906</td>\n      <td>46117114240</td>\n    </tr>\n    <tr>\n      <th>26</th>\n      <td>49077.792969</td>\n      <td>54288.003906</td>\n      <td>48852.796875</td>\n      <td>54021.753906</td>\n      <td>54021.753906</td>\n      <td>58284039825</td>\n    </tr>\n    <tr>\n      <th>27</th>\n      <td>54030.304688</td>\n      <td>55416.964844</td>\n      <td>53319.187500</td>\n      <td>55033.117188</td>\n      <td>55033.117188</td>\n      <td>49448222757</td>\n    </tr>\n    <tr>\n      <th>28</th>\n      <td>55036.636719</td>\n      <td>56227.207031</td>\n      <td>53887.917969</td>\n      <td>54824.703125</td>\n      <td>54824.703125</td>\n      <td>48000572955</td>\n    </tr>\n    <tr>\n      <th>29</th>\n      <td>54858.089844</td>\n      <td>55115.843750</td>\n      <td>52418.027344</td>\n      <td>53555.109375</td>\n      <td>53555.109375</td>\n      <td>46088929780</td>\n    </tr>\n    <tr>\n      <th>30</th>\n      <td>53568.664063</td>\n      <td>57900.718750</td>\n      <td>53129.601563</td>\n      <td>57750.175781</td>\n      <td>57750.175781</td>\n      <td>52395931985</td>\n    </tr>\n    <tr>\n      <th>31</th>\n      <td>57714.664063</td>\n      <td>58448.339844</td>\n      <td>57052.273438</td>\n      <td>57828.050781</td>\n      <td>57828.050781</td>\n      <td>42836427360</td>\n    </tr>\n    <tr>\n      <th>32</th>\n      <td>57825.863281</td>\n      <td>57902.593750</td>\n      <td>56141.906250</td>\n      <td>56631.078125</td>\n      <td>56631.078125</td>\n      <td>38177405335</td>\n    </tr>\n    <tr>\n      <th>33</th>\n      <td>56620.273438</td>\n      <td>58973.308594</td>\n      <td>56590.871094</td>\n      <td>57200.292969</td>\n      <td>57200.292969</td>\n      <td>51713139031</td>\n    </tr>\n    <tr>\n      <th>34</th>\n      <td>57214.179688</td>\n      <td>57214.179688</td>\n      <td>53191.425781</td>\n      <td>53333.539063</td>\n      <td>53333.539063</td>\n      <td>68564706967</td>\n    </tr>\n    <tr>\n      <th>35</th>\n      <td>53252.164063</td>\n      <td>57911.363281</td>\n      <td>52969.054688</td>\n      <td>57424.007813</td>\n      <td>57424.007813</td>\n      <td>69241316747</td>\n    </tr>\n    <tr>\n      <th>36</th>\n      <td>57441.308594</td>\n      <td>58363.316406</td>\n      <td>55382.507813</td>\n      <td>56396.515625</td>\n      <td>56396.515625</td>\n      <td>69523285106</td>\n    </tr>\n    <tr>\n      <th>37</th>\n      <td>56413.953125</td>\n      <td>58606.632813</td>\n      <td>55321.847656</td>\n      <td>57356.402344</td>\n      <td>57356.402344</td>\n      <td>68434023376</td>\n    </tr>\n    <tr>\n      <th>38</th>\n      <td>57352.765625</td>\n      <td>59464.613281</td>\n      <td>56975.210938</td>\n      <td>58803.777344</td>\n      <td>58803.777344</td>\n      <td>65382980634</td>\n    </tr>\n    <tr>\n      <th>39</th>\n      <td>58877.390625</td>\n      <td>59210.882813</td>\n      <td>56482.003906</td>\n      <td>58232.316406</td>\n      <td>58232.316406</td>\n      <td>65906690347</td>\n    </tr>\n    <tr>\n      <th>40</th>\n      <td>58250.871094</td>\n      <td>59519.355469</td>\n      <td>54071.457031</td>\n      <td>55859.796875</td>\n      <td>55859.796875</td>\n      <td>71776546298</td>\n    </tr>\n    <tr>\n      <th>41</th>\n      <td>55847.242188</td>\n      <td>56872.542969</td>\n      <td>54608.652344</td>\n      <td>56704.574219</td>\n      <td>56704.574219</td>\n      <td>61308396325</td>\n    </tr>\n    <tr>\n      <th>42</th>\n      <td>56714.531250</td>\n      <td>57939.363281</td>\n      <td>49150.535156</td>\n      <td>49150.535156</td>\n      <td>49150.535156</td>\n      <td>75215403907</td>\n    </tr>\n    <tr>\n      <th>43</th>\n      <td>49735.433594</td>\n      <td>51330.843750</td>\n      <td>46980.019531</td>\n      <td>49716.191406</td>\n      <td>49716.191406</td>\n      <td>96721152926</td>\n    </tr>\n    <tr>\n      <th>44</th>\n      <td>49682.980469</td>\n      <td>51438.117188</td>\n      <td>48868.578125</td>\n      <td>49880.535156</td>\n      <td>49880.535156</td>\n      <td>55737497453</td>\n    </tr>\n    <tr>\n      <th>45</th>\n      <td>49855.496094</td>\n      <td>50639.664063</td>\n      <td>46664.140625</td>\n      <td>46760.187500</td>\n      <td>46760.187500</td>\n      <td>59161047474</td>\n    </tr>\n    <tr>\n      <th>46</th>\n      <td>46716.636719</td>\n      <td>49720.042969</td>\n      <td>43963.351563</td>\n      <td>46456.058594</td>\n      <td>46456.058594</td>\n      <td>64047871555</td>\n    </tr>\n    <tr>\n      <th>47</th>\n      <td>46415.898438</td>\n      <td>46623.558594</td>\n      <td>42207.289063</td>\n      <td>43537.511719</td>\n      <td>43537.511719</td>\n      <td>74903638450</td>\n    </tr>\n    <tr>\n      <th>48</th>\n      <td>43488.058594</td>\n      <td>45812.457031</td>\n      <td>42367.832031</td>\n      <td>42909.402344</td>\n      <td>42909.402344</td>\n      <td>56187365084</td>\n    </tr>\n    <tr>\n      <th>49</th>\n      <td>42944.976563</td>\n      <td>43546.117188</td>\n      <td>30681.496094</td>\n      <td>37002.441406</td>\n      <td>37002.441406</td>\n      <td>126358098747</td>\n    </tr>\n    <tr>\n      <th>50</th>\n      <td>36753.667969</td>\n      <td>42462.984375</td>\n      <td>35050.617188</td>\n      <td>40782.738281</td>\n      <td>40782.738281</td>\n      <td>88281943359</td>\n    </tr>\n    <tr>\n      <th>51</th>\n      <td>40596.949219</td>\n      <td>42172.171875</td>\n      <td>33616.453125</td>\n      <td>37304.691406</td>\n      <td>37304.691406</td>\n      <td>82051616861</td>\n    </tr>\n    <tr>\n      <th>52</th>\n      <td>37371.031250</td>\n      <td>38831.054688</td>\n      <td>35383.683594</td>\n      <td>37536.632813</td>\n      <td>37536.632813</td>\n      <td>57377273240</td>\n    </tr>\n    <tr>\n      <th>53</th>\n      <td>37531.449219</td>\n      <td>38289.218750</td>\n      <td>31227.339844</td>\n      <td>34770.582031</td>\n      <td>34770.582031</td>\n      <td>78469274361</td>\n    </tr>\n    <tr>\n      <th>54</th>\n      <td>34700.363281</td>\n      <td>39835.140625</td>\n      <td>34551.082031</td>\n      <td>38705.980469</td>\n      <td>38705.980469</td>\n      <td>67359584098</td>\n    </tr>\n    <tr>\n      <th>55</th>\n      <td>38795.781250</td>\n      <td>39776.351563</td>\n      <td>36581.429688</td>\n      <td>38402.222656</td>\n      <td>38402.222656</td>\n      <td>56211915803</td>\n    </tr>\n    <tr>\n      <th>56</th>\n      <td>38392.625000</td>\n      <td>40782.078125</td>\n      <td>37905.835938</td>\n      <td>39294.199219</td>\n      <td>39294.199219</td>\n      <td>51346735160</td>\n    </tr>\n    <tr>\n      <th>57</th>\n      <td>39316.890625</td>\n      <td>40379.617188</td>\n      <td>37247.902344</td>\n      <td>38436.968750</td>\n      <td>38436.968750</td>\n      <td>43210968721</td>\n    </tr>\n    <tr>\n      <th>58</th>\n      <td>38507.082031</td>\n      <td>38856.968750</td>\n      <td>34779.039063</td>\n      <td>35697.605469</td>\n      <td>35697.605469</td>\n      <td>55200191952</td>\n    </tr>\n    <tr>\n      <th>59</th>\n      <td>35684.156250</td>\n      <td>37234.500000</td>\n      <td>33693.929688</td>\n      <td>34616.066406</td>\n      <td>34616.066406</td>\n      <td>45231013335</td>\n    </tr>\n    <tr>\n      <th>60</th>\n      <td>34607.406250</td>\n      <td>36400.667969</td>\n      <td>33520.738281</td>\n      <td>35678.128906</td>\n      <td>35678.128906</td>\n      <td>31646080921</td>\n    </tr>\n    <tr>\n      <th>61</th>\n      <td>35658.593750</td>\n      <td>37468.250000</td>\n      <td>34241.945313</td>\n      <td>37332.855469</td>\n      <td>37332.855469</td>\n      <td>39009847639</td>\n    </tr>\n    <tr>\n      <th>62</th>\n      <td>37293.792969</td>\n      <td>37896.734375</td>\n      <td>35787.085938</td>\n      <td>36684.925781</td>\n      <td>36684.925781</td>\n      <td>34639423297</td>\n    </tr>\n    <tr>\n      <th>63</th>\n      <td>36699.921875</td>\n      <td>38231.339844</td>\n      <td>35966.308594</td>\n      <td>37575.179688</td>\n      <td>37575.179688</td>\n      <td>33070867190</td>\n    </tr>\n    <tr>\n      <th>64</th>\n      <td>37599.410156</td>\n      <td>39478.953125</td>\n      <td>37243.972656</td>\n      <td>39208.765625</td>\n      <td>39208.765625</td>\n      <td>35460750427</td>\n    </tr>\n    <tr>\n      <th>65</th>\n      <td>39242.484375</td>\n      <td>39242.484375</td>\n      <td>35717.722656</td>\n      <td>36894.406250</td>\n      <td>36894.406250</td>\n      <td>41831090187</td>\n    </tr>\n    <tr>\n      <th>66</th>\n      <td>36880.156250</td>\n      <td>37917.714844</td>\n      <td>34900.414063</td>\n      <td>35551.957031</td>\n      <td>35551.957031</td>\n      <td>35959473399</td>\n    </tr>\n    <tr>\n      <th>67</th>\n      <td>35538.609375</td>\n      <td>36436.421875</td>\n      <td>35304.578125</td>\n      <td>35862.378906</td>\n      <td>35862.378906</td>\n      <td>28913440585</td>\n    </tr>\n    <tr>\n      <th>68</th>\n      <td>35835.265625</td>\n      <td>36790.570313</td>\n      <td>33480.640625</td>\n      <td>33560.707031</td>\n      <td>33560.707031</td>\n      <td>33683936663</td>\n    </tr>\n    <tr>\n      <th>69</th>\n      <td>33589.519531</td>\n      <td>34017.386719</td>\n      <td>31114.443359</td>\n      <td>33472.632813</td>\n      <td>33472.632813</td>\n      <td>49902050442</td>\n    </tr>\n    <tr>\n      <th>70</th>\n      <td>33416.976563</td>\n      <td>37537.371094</td>\n      <td>32475.865234</td>\n      <td>37345.121094</td>\n      <td>37345.121094</td>\n      <td>53972919008</td>\n    </tr>\n    <tr>\n      <th>71</th>\n      <td>37389.515625</td>\n      <td>38334.324219</td>\n      <td>35847.593750</td>\n      <td>36702.597656</td>\n      <td>36702.597656</td>\n      <td>43576032854</td>\n    </tr>\n    <tr>\n      <th>72</th>\n      <td>36697.031250</td>\n      <td>37608.695313</td>\n      <td>36044.449219</td>\n      <td>37334.398438</td>\n      <td>37334.398438</td>\n      <td>38699736985</td>\n    </tr>\n    <tr>\n      <th>73</th>\n      <td>37340.144531</td>\n      <td>37408.925781</td>\n      <td>34728.191406</td>\n      <td>35552.515625</td>\n      <td>35552.515625</td>\n      <td>37924228550</td>\n    </tr>\n    <tr>\n      <th>74</th>\n      <td>35555.789063</td>\n      <td>39322.781250</td>\n      <td>34864.109375</td>\n      <td>39097.859375</td>\n      <td>39097.859375</td>\n      <td>40669112838</td>\n    </tr>\n    <tr>\n      <th>75</th>\n      <td>39016.968750</td>\n      <td>40978.363281</td>\n      <td>38757.285156</td>\n      <td>40218.476563</td>\n      <td>40218.476563</td>\n      <td>43148914673</td>\n    </tr>\n    <tr>\n      <th>76</th>\n      <td>40427.167969</td>\n      <td>41295.269531</td>\n      <td>39609.468750</td>\n      <td>40406.269531</td>\n      <td>40406.269531</td>\n      <td>46420149185</td>\n    </tr>\n    <tr>\n      <th>77</th>\n      <td>40168.691406</td>\n      <td>40516.777344</td>\n      <td>38176.035156</td>\n      <td>38347.062500</td>\n      <td>38347.062500</td>\n      <td>39211635100</td>\n    </tr>\n    <tr>\n      <th>78</th>\n      <td>38341.421875</td>\n      <td>39513.671875</td>\n      <td>37439.675781</td>\n      <td>38053.503906</td>\n      <td>38053.503906</td>\n      <td>37096670047</td>\n    </tr>\n    <tr>\n      <th>79</th>\n      <td>38099.476563</td>\n      <td>38187.261719</td>\n      <td>35255.855469</td>\n      <td>35787.246094</td>\n      <td>35787.246094</td>\n      <td>36200887275</td>\n    </tr>\n    <tr>\n      <th>80</th>\n      <td>35854.527344</td>\n      <td>36457.796875</td>\n      <td>34933.062500</td>\n      <td>35615.871094</td>\n      <td>35615.871094</td>\n      <td>31207279719</td>\n    </tr>\n    <tr>\n      <th>81</th>\n      <td>35563.140625</td>\n      <td>36059.484375</td>\n      <td>33432.074219</td>\n      <td>35698.296875</td>\n      <td>35698.296875</td>\n      <td>36664034054</td>\n    </tr>\n    <tr>\n      <th>82</th>\n      <td>35641.144531</td>\n      <td>35721.640625</td>\n      <td>31295.935547</td>\n      <td>31676.693359</td>\n      <td>31676.693359</td>\n      <td>52809038594</td>\n    </tr>\n    <tr>\n      <th>83</th>\n      <td>31622.376953</td>\n      <td>33292.453125</td>\n      <td>28893.621094</td>\n      <td>32505.660156</td>\n      <td>32505.660156</td>\n      <td>58964353058</td>\n    </tr>\n    <tr>\n      <th>84</th>\n      <td>32515.714844</td>\n      <td>34753.410156</td>\n      <td>31772.632813</td>\n      <td>33723.027344</td>\n      <td>33723.027344</td>\n      <td>46317108925</td>\n    </tr>\n    <tr>\n      <th>85</th>\n      <td>33682.800781</td>\n      <td>35228.851563</td>\n      <td>32385.214844</td>\n      <td>34662.437500</td>\n      <td>34662.437500</td>\n      <td>33123368116</td>\n    </tr>\n    <tr>\n      <th>86</th>\n      <td>34659.105469</td>\n      <td>35487.246094</td>\n      <td>31350.884766</td>\n      <td>31637.779297</td>\n      <td>31637.779297</td>\n      <td>40230904226</td>\n    </tr>\n    <tr>\n      <th>87</th>\n      <td>31594.664063</td>\n      <td>32637.587891</td>\n      <td>30184.501953</td>\n      <td>32186.277344</td>\n      <td>32186.277344</td>\n      <td>38585385521</td>\n    </tr>\n    <tr>\n      <th>88</th>\n      <td>32287.523438</td>\n      <td>34656.128906</td>\n      <td>32071.757813</td>\n      <td>34649.644531</td>\n      <td>34649.644531</td>\n      <td>35511640894</td>\n    </tr>\n    <tr>\n      <th>89</th>\n      <td>34679.121094</td>\n      <td>35219.890625</td>\n      <td>33902.074219</td>\n      <td>34434.335938</td>\n      <td>34434.335938</td>\n      <td>33892523752</td>\n    </tr>\n    <tr>\n      <th>90</th>\n      <td>34475.558594</td>\n      <td>36542.109375</td>\n      <td>34252.484375</td>\n      <td>35867.777344</td>\n      <td>35867.777344</td>\n      <td>37901460044</td>\n    </tr>\n  </tbody>\n</table>\n</div>"
     },
     "execution_count": 558,
     "metadata": {},
     "output_type": "execute_result"
    }
   ],
   "source": [
    "bitcoinPricedf = pd.read_csv(f\"{dataDir}BTC-USD.csv\")\n",
    "bitcoinPreviousPricedf = pd.read_csv(f\"{dataDir}BTC-USD-Previous.csv\")\n",
    "mergedPrice = pd.concat([bitcoinPricedf, bitcoinPreviousPricedf], axis=1)\n",
    "bitcoinPreviousPricedf"
   ],
   "metadata": {
    "collapsed": false,
    "pycharm": {
     "name": "#%%\n"
    }
   }
  },
  {
   "cell_type": "code",
   "execution_count": 559,
   "outputs": [
    {
     "data": {
      "text/plain": "          Date          Open          High           Low         Close  \\\n0   2021-04-01  58926.562500  59586.070313  58505.277344  59095.808594   \n1   2021-04-02  59098.878906  60267.187500  58869.281250  59384.312500   \n2   2021-04-03  59397.410156  60110.269531  57603.890625  57603.890625   \n3   2021-04-04  57604.839844  58913.746094  57168.675781  58758.554688   \n4   2021-04-05  58760.875000  59891.296875  57694.824219  59057.878906   \n5   2021-04-06  59171.933594  59479.578125  57646.808594  58192.359375   \n6   2021-04-07  58186.507813  58731.144531  55604.023438  56048.937500   \n7   2021-04-08  56099.914063  58338.738281  55879.085938  58323.953125   \n8   2021-04-09  58326.562500  58937.046875  57807.863281  58245.003906   \n9   2021-04-10  58253.777344  61276.664063  58038.707031  59793.234375   \n10  2021-04-11  59846.230469  60790.554688  59289.796875  60204.964844   \n11  2021-04-12  60175.945313  61253.035156  59589.875000  59893.453125   \n12  2021-04-13  59890.019531  63742.285156  59869.957031  63503.457031   \n13  2021-04-14  63523.753906  64863.097656  61554.796875  63109.695313   \n14  2021-04-15  63075.195313  63821.671875  62208.964844  63314.011719   \n15  2021-04-16  63258.503906  63594.722656  60222.531250  61572.789063   \n16  2021-04-17  61529.921875  62572.175781  60361.351563  60683.820313   \n17  2021-04-18  60701.886719  61057.457031  52829.535156  56216.183594   \n18  2021-04-19  56191.585938  57520.054688  54368.593750  55724.265625   \n19  2021-04-20  55681.792969  57062.148438  53448.046875  56473.031250   \n20  2021-04-21  56471.128906  56757.972656  53695.468750  53906.089844   \n21  2021-04-22  53857.105469  55410.230469  50583.812500  51762.273438   \n22  2021-04-23  51739.808594  52120.792969  47714.664063  51093.652344   \n23  2021-04-24  51143.226563  51167.562500  48805.285156  50050.867188   \n24  2021-04-25  50052.832031  50506.019531  47159.484375  49004.253906   \n25  2021-04-26  49077.792969  54288.003906  48852.796875  54021.753906   \n26  2021-04-27  54030.304688  55416.964844  53319.187500  55033.117188   \n27  2021-04-28  55036.636719  56227.207031  53887.917969  54824.703125   \n28  2021-04-29  54858.089844  55115.843750  52418.027344  53555.109375   \n29  2021-04-30  53568.664063  57900.718750  53129.601563  57750.175781   \n30  2021-05-01  57714.664063  58448.339844  57052.273438  57828.050781   \n31  2021-05-02  57825.863281  57902.593750  56141.906250  56631.078125   \n32  2021-05-03  56620.273438  58973.308594  56590.871094  57200.292969   \n33  2021-05-04  57214.179688  57214.179688  53191.425781  53333.539063   \n34  2021-05-05  53252.164063  57911.363281  52969.054688  57424.007813   \n35  2021-05-06  57441.308594  58363.316406  55382.507813  56396.515625   \n36  2021-05-07  56413.953125  58606.632813  55321.847656  57356.402344   \n37  2021-05-08  57352.765625  59464.613281  56975.210938  58803.777344   \n38  2021-05-09  58877.390625  59210.882813  56482.003906  58232.316406   \n39  2021-05-10  58250.871094  59519.355469  54071.457031  55859.796875   \n40  2021-05-11  55847.242188  56872.542969  54608.652344  56704.574219   \n41  2021-05-12  56714.531250  57939.363281  49150.535156  49150.535156   \n42  2021-05-13  49735.433594  51330.843750  46980.019531  49716.191406   \n43  2021-05-14  49682.980469  51438.117188  48868.578125  49880.535156   \n44  2021-05-15  49855.496094  50639.664063  46664.140625  46760.187500   \n45  2021-05-16  46716.636719  49720.042969  43963.351563  46456.058594   \n46  2021-05-17  46415.898438  46623.558594  42207.289063  43537.511719   \n47  2021-05-18  43488.058594  45812.457031  42367.832031  42909.402344   \n48  2021-05-19  42944.976563  43546.117188  30681.496094  37002.441406   \n49  2021-05-20  36753.667969  42462.984375  35050.617188  40782.738281   \n50  2021-05-21  40596.949219  42172.171875  33616.453125  37304.691406   \n51  2021-05-22  37371.031250  38831.054688  35383.683594  37536.632813   \n52  2021-05-23  37531.449219  38289.218750  31227.339844  34770.582031   \n53  2021-05-24  34700.363281  39835.140625  34551.082031  38705.980469   \n54  2021-05-25  38795.781250  39776.351563  36581.429688  38402.222656   \n55  2021-05-26  38392.625000  40782.078125  37905.835938  39294.199219   \n56  2021-05-27  39316.890625  40379.617188  37247.902344  38436.968750   \n57  2021-05-28  38507.082031  38856.968750  34779.039063  35697.605469   \n58  2021-05-29  35684.156250  37234.500000  33693.929688  34616.066406   \n59  2021-05-30  34607.406250  36400.667969  33520.738281  35678.128906   \n60  2021-05-31  35658.593750  37468.250000  34241.945313  37332.855469   \n61  2021-06-01  37293.792969  37896.734375  35787.085938  36684.925781   \n62  2021-06-02  36699.921875  38231.339844  35966.308594  37575.179688   \n63  2021-06-03  37599.410156  39478.953125  37243.972656  39208.765625   \n64  2021-06-04  39242.484375  39242.484375  35717.722656  36894.406250   \n65  2021-06-05  36880.156250  37917.714844  34900.414063  35551.957031   \n66  2021-06-06  35538.609375  36436.421875  35304.578125  35862.378906   \n67  2021-06-07  35835.265625  36790.570313  33480.640625  33560.707031   \n68  2021-06-08  33589.519531  34017.386719  31114.443359  33472.632813   \n69  2021-06-09  33416.976563  37537.371094  32475.865234  37345.121094   \n70  2021-06-10  37389.515625  38334.324219  35847.593750  36702.597656   \n71  2021-06-11  36697.031250  37608.695313  36044.449219  37334.398438   \n72  2021-06-12  37340.144531  37408.925781  34728.191406  35552.515625   \n73  2021-06-13  35555.789063  39322.781250  34864.109375  39097.859375   \n74  2021-06-14  39016.968750  40978.363281  38757.285156  40218.476563   \n75  2021-06-15  40427.167969  41295.269531  39609.468750  40406.269531   \n76  2021-06-16  40168.691406  40516.777344  38176.035156  38347.062500   \n77  2021-06-17  38341.421875  39513.671875  37439.675781  38053.503906   \n78  2021-06-18  38099.476563  38187.261719  35255.855469  35787.246094   \n79  2021-06-19  35854.527344  36457.796875  34933.062500  35615.871094   \n80  2021-06-20  35563.140625  36059.484375  33432.074219  35698.296875   \n81  2021-06-21  35641.144531  35721.640625  31295.935547  31676.693359   \n82  2021-06-22  31622.376953  33292.453125  28893.621094  32505.660156   \n83  2021-06-23  32515.714844  34753.410156  31772.632813  33723.027344   \n84  2021-06-24  33682.800781  35228.851563  32385.214844  34662.437500   \n85  2021-06-25  34659.105469  35487.246094  31350.884766  31637.779297   \n86  2021-06-26  31594.664063  32637.587891  30184.501953  32186.277344   \n87  2021-06-27  32287.523438  34656.128906  32071.757813  34649.644531   \n88  2021-06-28  34679.121094  35219.890625  33902.074219  34434.335938   \n89  2021-06-29  34475.558594  36542.109375  34252.484375  35867.777344   \n90  2021-06-30  35908.386719  36074.757813  34086.152344  35040.835938   \n\n       Adj Close        Volume  Previous_Open  Previous_High  Previous_Low  \\\n0   59095.808594   61669163792   58930.277344   59930.027344  57726.417969   \n1   59384.312500   58727860620   58926.562500   59586.070313  58505.277344   \n2   57603.890625   59641344484   59098.878906   60267.187500  58869.281250   \n3   58758.554688   50749662970   59397.410156   60110.269531  57603.890625   \n4   59057.878906   60706272115   57604.839844   58913.746094  57168.675781   \n5   58192.359375   66058027988   58760.875000   59891.296875  57694.824219   \n6   56048.937500   75645303584   59171.933594   59479.578125  57646.808594   \n7   58323.953125   53053855641   58186.507813   58731.144531  55604.023438   \n8   58245.003906   46655208546   56099.914063   58338.738281  55879.085938   \n9   59793.234375   58238470525   58326.562500   58937.046875  57807.863281   \n10  60204.964844   46280252580   58253.777344   61276.664063  58038.707031   \n11  59893.453125   51828688519   59846.230469   60790.554688  59289.796875   \n12  63503.457031   69983454362   60175.945313   61253.035156  59589.875000   \n13  63109.695313   77451779687   59890.019531   63742.285156  59869.957031   \n14  63314.011719   60954381579   63523.753906   64863.097656  61554.796875   \n15  61572.789063   84293007468   63075.195313   63821.671875  62208.964844   \n16  60683.820313   66138759198   63258.503906   63594.722656  60222.531250   \n17  56216.183594   97468872758   61529.921875   62572.175781  60361.351563   \n18  55724.265625   65344865159   60701.886719   61057.457031  52829.535156   \n19  56473.031250   67849323955   56191.585938   57520.054688  54368.593750   \n20  53906.089844   54926612466   55681.792969   57062.148438  53448.046875   \n21  51762.273438   74798630778   56471.128906   56757.972656  53695.468750   \n22  51093.652344   86668667320   53857.105469   55410.230469  50583.812500   \n23  50050.867188   49014494781   51739.808594   52120.792969  47714.664063   \n24  49004.253906   46117114240   51143.226563   51167.562500  48805.285156   \n25  54021.753906   58284039825   50052.832031   50506.019531  47159.484375   \n26  55033.117188   49448222757   49077.792969   54288.003906  48852.796875   \n27  54824.703125   48000572955   54030.304688   55416.964844  53319.187500   \n28  53555.109375   46088929780   55036.636719   56227.207031  53887.917969   \n29  57750.175781   52395931985   54858.089844   55115.843750  52418.027344   \n30  57828.050781   42836427360   53568.664063   57900.718750  53129.601563   \n31  56631.078125   38177405335   57714.664063   58448.339844  57052.273438   \n32  57200.292969   51713139031   57825.863281   57902.593750  56141.906250   \n33  53333.539063   68564706967   56620.273438   58973.308594  56590.871094   \n34  57424.007813   69241316747   57214.179688   57214.179688  53191.425781   \n35  56396.515625   69523285106   53252.164063   57911.363281  52969.054688   \n36  57356.402344   68434023376   57441.308594   58363.316406  55382.507813   \n37  58803.777344   65382980634   56413.953125   58606.632813  55321.847656   \n38  58232.316406   65906690347   57352.765625   59464.613281  56975.210938   \n39  55859.796875   71776546298   58877.390625   59210.882813  56482.003906   \n40  56704.574219   61308396325   58250.871094   59519.355469  54071.457031   \n41  49150.535156   75215403907   55847.242188   56872.542969  54608.652344   \n42  49716.191406   96721152926   56714.531250   57939.363281  49150.535156   \n43  49880.535156   55737497453   49735.433594   51330.843750  46980.019531   \n44  46760.187500   59161047474   49682.980469   51438.117188  48868.578125   \n45  46456.058594   64047871555   49855.496094   50639.664063  46664.140625   \n46  43537.511719   74903638450   46716.636719   49720.042969  43963.351563   \n47  42909.402344   56187365084   46415.898438   46623.558594  42207.289063   \n48  37002.441406  126358098747   43488.058594   45812.457031  42367.832031   \n49  40782.738281   88281943359   42944.976563   43546.117188  30681.496094   \n50  37304.691406   82051616861   36753.667969   42462.984375  35050.617188   \n51  37536.632813   57377273240   40596.949219   42172.171875  33616.453125   \n52  34770.582031   78469274361   37371.031250   38831.054688  35383.683594   \n53  38705.980469   67359584098   37531.449219   38289.218750  31227.339844   \n54  38402.222656   56211915803   34700.363281   39835.140625  34551.082031   \n55  39294.199219   51346735160   38795.781250   39776.351563  36581.429688   \n56  38436.968750   43210968721   38392.625000   40782.078125  37905.835938   \n57  35697.605469   55200191952   39316.890625   40379.617188  37247.902344   \n58  34616.066406   45231013335   38507.082031   38856.968750  34779.039063   \n59  35678.128906   31646080921   35684.156250   37234.500000  33693.929688   \n60  37332.855469   39009847639   34607.406250   36400.667969  33520.738281   \n61  36684.925781   34639423297   35658.593750   37468.250000  34241.945313   \n62  37575.179688   33070867190   37293.792969   37896.734375  35787.085938   \n63  39208.765625   35460750427   36699.921875   38231.339844  35966.308594   \n64  36894.406250   41831090187   37599.410156   39478.953125  37243.972656   \n65  35551.957031   35959473399   39242.484375   39242.484375  35717.722656   \n66  35862.378906   28913440585   36880.156250   37917.714844  34900.414063   \n67  33560.707031   33683936663   35538.609375   36436.421875  35304.578125   \n68  33472.632813   49902050442   35835.265625   36790.570313  33480.640625   \n69  37345.121094   53972919008   33589.519531   34017.386719  31114.443359   \n70  36702.597656   43576032854   33416.976563   37537.371094  32475.865234   \n71  37334.398438   38699736985   37389.515625   38334.324219  35847.593750   \n72  35552.515625   37924228550   36697.031250   37608.695313  36044.449219   \n73  39097.859375   40669112838   37340.144531   37408.925781  34728.191406   \n74  40218.476563   43148914673   35555.789063   39322.781250  34864.109375   \n75  40406.269531   46420149185   39016.968750   40978.363281  38757.285156   \n76  38347.062500   39211635100   40427.167969   41295.269531  39609.468750   \n77  38053.503906   37096670047   40168.691406   40516.777344  38176.035156   \n78  35787.246094   36200887275   38341.421875   39513.671875  37439.675781   \n79  35615.871094   31207279719   38099.476563   38187.261719  35255.855469   \n80  35698.296875   36664034054   35854.527344   36457.796875  34933.062500   \n81  31676.693359   52809038594   35563.140625   36059.484375  33432.074219   \n82  32505.660156   58964353058   35641.144531   35721.640625  31295.935547   \n83  33723.027344   46317108925   31622.376953   33292.453125  28893.621094   \n84  34662.437500   33123368116   32515.714844   34753.410156  31772.632813   \n85  31637.779297   40230904226   33682.800781   35228.851563  32385.214844   \n86  32186.277344   38585385521   34659.105469   35487.246094  31350.884766   \n87  34649.644531   35511640894   31594.664063   32637.587891  30184.501953   \n88  34434.335938   33892523752   32287.523438   34656.128906  32071.757813   \n89  35867.777344   37901460044   34679.121094   35219.890625  33902.074219   \n90  35040.835938   34059036099   34475.558594   36542.109375  34252.484375   \n\n    Previous_Close  Previous_Adj_Close  Previous_Volume  \\\n0     58918.832031        58918.832031      65520826225   \n1     59095.808594        59095.808594      61669163792   \n2     59384.312500        59384.312500      58727860620   \n3     57603.890625        57603.890625      59641344484   \n4     58758.554688        58758.554688      50749662970   \n5     59057.878906        59057.878906      60706272115   \n6     58192.359375        58192.359375      66058027988   \n7     56048.937500        56048.937500      75645303584   \n8     58323.953125        58323.953125      53053855641   \n9     58245.003906        58245.003906      46655208546   \n10    59793.234375        59793.234375      58238470525   \n11    60204.964844        60204.964844      46280252580   \n12    59893.453125        59893.453125      51828688519   \n13    63503.457031        63503.457031      69983454362   \n14    63109.695313        63109.695313      77451779687   \n15    63314.011719        63314.011719      60954381579   \n16    61572.789063        61572.789063      84293007468   \n17    60683.820313        60683.820313      66138759198   \n18    56216.183594        56216.183594      97468872758   \n19    55724.265625        55724.265625      65344865159   \n20    56473.031250        56473.031250      67849323955   \n21    53906.089844        53906.089844      54926612466   \n22    51762.273438        51762.273438      74798630778   \n23    51093.652344        51093.652344      86668667320   \n24    50050.867188        50050.867188      49014494781   \n25    49004.253906        49004.253906      46117114240   \n26    54021.753906        54021.753906      58284039825   \n27    55033.117188        55033.117188      49448222757   \n28    54824.703125        54824.703125      48000572955   \n29    53555.109375        53555.109375      46088929780   \n30    57750.175781        57750.175781      52395931985   \n31    57828.050781        57828.050781      42836427360   \n32    56631.078125        56631.078125      38177405335   \n33    57200.292969        57200.292969      51713139031   \n34    53333.539063        53333.539063      68564706967   \n35    57424.007813        57424.007813      69241316747   \n36    56396.515625        56396.515625      69523285106   \n37    57356.402344        57356.402344      68434023376   \n38    58803.777344        58803.777344      65382980634   \n39    58232.316406        58232.316406      65906690347   \n40    55859.796875        55859.796875      71776546298   \n41    56704.574219        56704.574219      61308396325   \n42    49150.535156        49150.535156      75215403907   \n43    49716.191406        49716.191406      96721152926   \n44    49880.535156        49880.535156      55737497453   \n45    46760.187500        46760.187500      59161047474   \n46    46456.058594        46456.058594      64047871555   \n47    43537.511719        43537.511719      74903638450   \n48    42909.402344        42909.402344      56187365084   \n49    37002.441406        37002.441406     126358098747   \n50    40782.738281        40782.738281      88281943359   \n51    37304.691406        37304.691406      82051616861   \n52    37536.632813        37536.632813      57377273240   \n53    34770.582031        34770.582031      78469274361   \n54    38705.980469        38705.980469      67359584098   \n55    38402.222656        38402.222656      56211915803   \n56    39294.199219        39294.199219      51346735160   \n57    38436.968750        38436.968750      43210968721   \n58    35697.605469        35697.605469      55200191952   \n59    34616.066406        34616.066406      45231013335   \n60    35678.128906        35678.128906      31646080921   \n61    37332.855469        37332.855469      39009847639   \n62    36684.925781        36684.925781      34639423297   \n63    37575.179688        37575.179688      33070867190   \n64    39208.765625        39208.765625      35460750427   \n65    36894.406250        36894.406250      41831090187   \n66    35551.957031        35551.957031      35959473399   \n67    35862.378906        35862.378906      28913440585   \n68    33560.707031        33560.707031      33683936663   \n69    33472.632813        33472.632813      49902050442   \n70    37345.121094        37345.121094      53972919008   \n71    36702.597656        36702.597656      43576032854   \n72    37334.398438        37334.398438      38699736985   \n73    35552.515625        35552.515625      37924228550   \n74    39097.859375        39097.859375      40669112838   \n75    40218.476563        40218.476563      43148914673   \n76    40406.269531        40406.269531      46420149185   \n77    38347.062500        38347.062500      39211635100   \n78    38053.503906        38053.503906      37096670047   \n79    35787.246094        35787.246094      36200887275   \n80    35615.871094        35615.871094      31207279719   \n81    35698.296875        35698.296875      36664034054   \n82    31676.693359        31676.693359      52809038594   \n83    32505.660156        32505.660156      58964353058   \n84    33723.027344        33723.027344      46317108925   \n85    34662.437500        34662.437500      33123368116   \n86    31637.779297        31637.779297      40230904226   \n87    32186.277344        32186.277344      38585385521   \n88    34649.644531        34649.644531      35511640894   \n89    34434.335938        34434.335938      33892523752   \n90    35867.777344        35867.777344      37901460044   \n\n    Previous_Search_Interest  isPartial  Price_Increase  \n0                         29      False               0  \n1                         41      False               0  \n2                         29      False               1  \n3                         22      False               0  \n4                         22      False               0  \n5                         23      False               1  \n6                         24      False               1  \n7                         23      False               0  \n8                         24      False               1  \n9                         22      False               0  \n10                        26      False               0  \n11                        24      False               1  \n12                        25      False               0  \n13                        36      False               1  \n14                        42      False               0  \n15                        35      False               1  \n16                        44      False               1  \n17                        32      False               1  \n18                        51      False               1  \n19                        44      False               0  \n20                        39      False               1  \n21                        32      False               1  \n22                        34      False               1  \n23                        54      False               1  \n24                        37      False               1  \n25                        30      False               0  \n26                        35      False               0  \n27                        32      False               1  \n28                        32      False               1  \n29                        26      False               0  \n30                        26      False               0  \n31                        25      False               1  \n32                        23      False               0  \n33                        25      False               1  \n34                        30      False               0  \n35                        31      False               1  \n36                        29      False               0  \n37                        26      False               0  \n38                        29      False               1  \n39                        28      False               1  \n40                        32      False               0  \n41                        30      False               1  \n42                        33      False               1  \n43                        74      False               0  \n44                        38      False               1  \n45                        31      False               1  \n46                        35      False               1  \n47                        53      False               1  \n48                        40      False               1  \n49                       100      False               0  \n50                        66      False               1  \n51                        53      False               0  \n52                        46      False               1  \n53                        55      False               0  \n54                        54      False               1  \n55                        42      False               0  \n56                        34      False               1  \n57                        28      False               1  \n58                        33      False               1  \n59                        29      False               0  \n60                        29      False               0  \n61                        28      False               1  \n62                        29      False               0  \n63                        27      False               0  \n64                        24      False               1  \n65                        29      False               1  \n66                        29      False               0  \n67                        29      False               1  \n68                        28      False               1  \n69                        41      False               0  \n70                        38      False               1  \n71                        33      False               0  \n72                        28      False               1  \n73                        23      False               0  \n74                        25      False               0  \n75                        32      False               1  \n76                        25      False               1  \n77                        23      False               1  \n78                        23      False               1  \n79                        22      False               1  \n80                        17      False               0  \n81                        21      False               1  \n82                        33      False               0  \n83                        46      False               0  \n84                        32      False               0  \n85                        26      False               1  \n86                        24      False               0  \n87                        22      False               0  \n88                        22      False               1  \n89                        25      False               0  \n90                        22      False               1  ",
      "text/html": "<div>\n<style scoped>\n    .dataframe tbody tr th:only-of-type {\n        vertical-align: middle;\n    }\n\n    .dataframe tbody tr th {\n        vertical-align: top;\n    }\n\n    .dataframe thead th {\n        text-align: right;\n    }\n</style>\n<table border=\"1\" class=\"dataframe\">\n  <thead>\n    <tr style=\"text-align: right;\">\n      <th></th>\n      <th>Date</th>\n      <th>Open</th>\n      <th>High</th>\n      <th>Low</th>\n      <th>Close</th>\n      <th>Adj Close</th>\n      <th>Volume</th>\n      <th>Previous_Open</th>\n      <th>Previous_High</th>\n      <th>Previous_Low</th>\n      <th>Previous_Close</th>\n      <th>Previous_Adj_Close</th>\n      <th>Previous_Volume</th>\n      <th>Previous_Search_Interest</th>\n      <th>isPartial</th>\n      <th>Price_Increase</th>\n    </tr>\n  </thead>\n  <tbody>\n    <tr>\n      <th>0</th>\n      <td>2021-04-01</td>\n      <td>58926.562500</td>\n      <td>59586.070313</td>\n      <td>58505.277344</td>\n      <td>59095.808594</td>\n      <td>59095.808594</td>\n      <td>61669163792</td>\n      <td>58930.277344</td>\n      <td>59930.027344</td>\n      <td>57726.417969</td>\n      <td>58918.832031</td>\n      <td>58918.832031</td>\n      <td>65520826225</td>\n      <td>29</td>\n      <td>False</td>\n      <td>0</td>\n    </tr>\n    <tr>\n      <th>1</th>\n      <td>2021-04-02</td>\n      <td>59098.878906</td>\n      <td>60267.187500</td>\n      <td>58869.281250</td>\n      <td>59384.312500</td>\n      <td>59384.312500</td>\n      <td>58727860620</td>\n      <td>58926.562500</td>\n      <td>59586.070313</td>\n      <td>58505.277344</td>\n      <td>59095.808594</td>\n      <td>59095.808594</td>\n      <td>61669163792</td>\n      <td>41</td>\n      <td>False</td>\n      <td>0</td>\n    </tr>\n    <tr>\n      <th>2</th>\n      <td>2021-04-03</td>\n      <td>59397.410156</td>\n      <td>60110.269531</td>\n      <td>57603.890625</td>\n      <td>57603.890625</td>\n      <td>57603.890625</td>\n      <td>59641344484</td>\n      <td>59098.878906</td>\n      <td>60267.187500</td>\n      <td>58869.281250</td>\n      <td>59384.312500</td>\n      <td>59384.312500</td>\n      <td>58727860620</td>\n      <td>29</td>\n      <td>False</td>\n      <td>1</td>\n    </tr>\n    <tr>\n      <th>3</th>\n      <td>2021-04-04</td>\n      <td>57604.839844</td>\n      <td>58913.746094</td>\n      <td>57168.675781</td>\n      <td>58758.554688</td>\n      <td>58758.554688</td>\n      <td>50749662970</td>\n      <td>59397.410156</td>\n      <td>60110.269531</td>\n      <td>57603.890625</td>\n      <td>57603.890625</td>\n      <td>57603.890625</td>\n      <td>59641344484</td>\n      <td>22</td>\n      <td>False</td>\n      <td>0</td>\n    </tr>\n    <tr>\n      <th>4</th>\n      <td>2021-04-05</td>\n      <td>58760.875000</td>\n      <td>59891.296875</td>\n      <td>57694.824219</td>\n      <td>59057.878906</td>\n      <td>59057.878906</td>\n      <td>60706272115</td>\n      <td>57604.839844</td>\n      <td>58913.746094</td>\n      <td>57168.675781</td>\n      <td>58758.554688</td>\n      <td>58758.554688</td>\n      <td>50749662970</td>\n      <td>22</td>\n      <td>False</td>\n      <td>0</td>\n    </tr>\n    <tr>\n      <th>5</th>\n      <td>2021-04-06</td>\n      <td>59171.933594</td>\n      <td>59479.578125</td>\n      <td>57646.808594</td>\n      <td>58192.359375</td>\n      <td>58192.359375</td>\n      <td>66058027988</td>\n      <td>58760.875000</td>\n      <td>59891.296875</td>\n      <td>57694.824219</td>\n      <td>59057.878906</td>\n      <td>59057.878906</td>\n      <td>60706272115</td>\n      <td>23</td>\n      <td>False</td>\n      <td>1</td>\n    </tr>\n    <tr>\n      <th>6</th>\n      <td>2021-04-07</td>\n      <td>58186.507813</td>\n      <td>58731.144531</td>\n      <td>55604.023438</td>\n      <td>56048.937500</td>\n      <td>56048.937500</td>\n      <td>75645303584</td>\n      <td>59171.933594</td>\n      <td>59479.578125</td>\n      <td>57646.808594</td>\n      <td>58192.359375</td>\n      <td>58192.359375</td>\n      <td>66058027988</td>\n      <td>24</td>\n      <td>False</td>\n      <td>1</td>\n    </tr>\n    <tr>\n      <th>7</th>\n      <td>2021-04-08</td>\n      <td>56099.914063</td>\n      <td>58338.738281</td>\n      <td>55879.085938</td>\n      <td>58323.953125</td>\n      <td>58323.953125</td>\n      <td>53053855641</td>\n      <td>58186.507813</td>\n      <td>58731.144531</td>\n      <td>55604.023438</td>\n      <td>56048.937500</td>\n      <td>56048.937500</td>\n      <td>75645303584</td>\n      <td>23</td>\n      <td>False</td>\n      <td>0</td>\n    </tr>\n    <tr>\n      <th>8</th>\n      <td>2021-04-09</td>\n      <td>58326.562500</td>\n      <td>58937.046875</td>\n      <td>57807.863281</td>\n      <td>58245.003906</td>\n      <td>58245.003906</td>\n      <td>46655208546</td>\n      <td>56099.914063</td>\n      <td>58338.738281</td>\n      <td>55879.085938</td>\n      <td>58323.953125</td>\n      <td>58323.953125</td>\n      <td>53053855641</td>\n      <td>24</td>\n      <td>False</td>\n      <td>1</td>\n    </tr>\n    <tr>\n      <th>9</th>\n      <td>2021-04-10</td>\n      <td>58253.777344</td>\n      <td>61276.664063</td>\n      <td>58038.707031</td>\n      <td>59793.234375</td>\n      <td>59793.234375</td>\n      <td>58238470525</td>\n      <td>58326.562500</td>\n      <td>58937.046875</td>\n      <td>57807.863281</td>\n      <td>58245.003906</td>\n      <td>58245.003906</td>\n      <td>46655208546</td>\n      <td>22</td>\n      <td>False</td>\n      <td>0</td>\n    </tr>\n    <tr>\n      <th>10</th>\n      <td>2021-04-11</td>\n      <td>59846.230469</td>\n      <td>60790.554688</td>\n      <td>59289.796875</td>\n      <td>60204.964844</td>\n      <td>60204.964844</td>\n      <td>46280252580</td>\n      <td>58253.777344</td>\n      <td>61276.664063</td>\n      <td>58038.707031</td>\n      <td>59793.234375</td>\n      <td>59793.234375</td>\n      <td>58238470525</td>\n      <td>26</td>\n      <td>False</td>\n      <td>0</td>\n    </tr>\n    <tr>\n      <th>11</th>\n      <td>2021-04-12</td>\n      <td>60175.945313</td>\n      <td>61253.035156</td>\n      <td>59589.875000</td>\n      <td>59893.453125</td>\n      <td>59893.453125</td>\n      <td>51828688519</td>\n      <td>59846.230469</td>\n      <td>60790.554688</td>\n      <td>59289.796875</td>\n      <td>60204.964844</td>\n      <td>60204.964844</td>\n      <td>46280252580</td>\n      <td>24</td>\n      <td>False</td>\n      <td>1</td>\n    </tr>\n    <tr>\n      <th>12</th>\n      <td>2021-04-13</td>\n      <td>59890.019531</td>\n      <td>63742.285156</td>\n      <td>59869.957031</td>\n      <td>63503.457031</td>\n      <td>63503.457031</td>\n      <td>69983454362</td>\n      <td>60175.945313</td>\n      <td>61253.035156</td>\n      <td>59589.875000</td>\n      <td>59893.453125</td>\n      <td>59893.453125</td>\n      <td>51828688519</td>\n      <td>25</td>\n      <td>False</td>\n      <td>0</td>\n    </tr>\n    <tr>\n      <th>13</th>\n      <td>2021-04-14</td>\n      <td>63523.753906</td>\n      <td>64863.097656</td>\n      <td>61554.796875</td>\n      <td>63109.695313</td>\n      <td>63109.695313</td>\n      <td>77451779687</td>\n      <td>59890.019531</td>\n      <td>63742.285156</td>\n      <td>59869.957031</td>\n      <td>63503.457031</td>\n      <td>63503.457031</td>\n      <td>69983454362</td>\n      <td>36</td>\n      <td>False</td>\n      <td>1</td>\n    </tr>\n    <tr>\n      <th>14</th>\n      <td>2021-04-15</td>\n      <td>63075.195313</td>\n      <td>63821.671875</td>\n      <td>62208.964844</td>\n      <td>63314.011719</td>\n      <td>63314.011719</td>\n      <td>60954381579</td>\n      <td>63523.753906</td>\n      <td>64863.097656</td>\n      <td>61554.796875</td>\n      <td>63109.695313</td>\n      <td>63109.695313</td>\n      <td>77451779687</td>\n      <td>42</td>\n      <td>False</td>\n      <td>0</td>\n    </tr>\n    <tr>\n      <th>15</th>\n      <td>2021-04-16</td>\n      <td>63258.503906</td>\n      <td>63594.722656</td>\n      <td>60222.531250</td>\n      <td>61572.789063</td>\n      <td>61572.789063</td>\n      <td>84293007468</td>\n      <td>63075.195313</td>\n      <td>63821.671875</td>\n      <td>62208.964844</td>\n      <td>63314.011719</td>\n      <td>63314.011719</td>\n      <td>60954381579</td>\n      <td>35</td>\n      <td>False</td>\n      <td>1</td>\n    </tr>\n    <tr>\n      <th>16</th>\n      <td>2021-04-17</td>\n      <td>61529.921875</td>\n      <td>62572.175781</td>\n      <td>60361.351563</td>\n      <td>60683.820313</td>\n      <td>60683.820313</td>\n      <td>66138759198</td>\n      <td>63258.503906</td>\n      <td>63594.722656</td>\n      <td>60222.531250</td>\n      <td>61572.789063</td>\n      <td>61572.789063</td>\n      <td>84293007468</td>\n      <td>44</td>\n      <td>False</td>\n      <td>1</td>\n    </tr>\n    <tr>\n      <th>17</th>\n      <td>2021-04-18</td>\n      <td>60701.886719</td>\n      <td>61057.457031</td>\n      <td>52829.535156</td>\n      <td>56216.183594</td>\n      <td>56216.183594</td>\n      <td>97468872758</td>\n      <td>61529.921875</td>\n      <td>62572.175781</td>\n      <td>60361.351563</td>\n      <td>60683.820313</td>\n      <td>60683.820313</td>\n      <td>66138759198</td>\n      <td>32</td>\n      <td>False</td>\n      <td>1</td>\n    </tr>\n    <tr>\n      <th>18</th>\n      <td>2021-04-19</td>\n      <td>56191.585938</td>\n      <td>57520.054688</td>\n      <td>54368.593750</td>\n      <td>55724.265625</td>\n      <td>55724.265625</td>\n      <td>65344865159</td>\n      <td>60701.886719</td>\n      <td>61057.457031</td>\n      <td>52829.535156</td>\n      <td>56216.183594</td>\n      <td>56216.183594</td>\n      <td>97468872758</td>\n      <td>51</td>\n      <td>False</td>\n      <td>1</td>\n    </tr>\n    <tr>\n      <th>19</th>\n      <td>2021-04-20</td>\n      <td>55681.792969</td>\n      <td>57062.148438</td>\n      <td>53448.046875</td>\n      <td>56473.031250</td>\n      <td>56473.031250</td>\n      <td>67849323955</td>\n      <td>56191.585938</td>\n      <td>57520.054688</td>\n      <td>54368.593750</td>\n      <td>55724.265625</td>\n      <td>55724.265625</td>\n      <td>65344865159</td>\n      <td>44</td>\n      <td>False</td>\n      <td>0</td>\n    </tr>\n    <tr>\n      <th>20</th>\n      <td>2021-04-21</td>\n      <td>56471.128906</td>\n      <td>56757.972656</td>\n      <td>53695.468750</td>\n      <td>53906.089844</td>\n      <td>53906.089844</td>\n      <td>54926612466</td>\n      <td>55681.792969</td>\n      <td>57062.148438</td>\n      <td>53448.046875</td>\n      <td>56473.031250</td>\n      <td>56473.031250</td>\n      <td>67849323955</td>\n      <td>39</td>\n      <td>False</td>\n      <td>1</td>\n    </tr>\n    <tr>\n      <th>21</th>\n      <td>2021-04-22</td>\n      <td>53857.105469</td>\n      <td>55410.230469</td>\n      <td>50583.812500</td>\n      <td>51762.273438</td>\n      <td>51762.273438</td>\n      <td>74798630778</td>\n      <td>56471.128906</td>\n      <td>56757.972656</td>\n      <td>53695.468750</td>\n      <td>53906.089844</td>\n      <td>53906.089844</td>\n      <td>54926612466</td>\n      <td>32</td>\n      <td>False</td>\n      <td>1</td>\n    </tr>\n    <tr>\n      <th>22</th>\n      <td>2021-04-23</td>\n      <td>51739.808594</td>\n      <td>52120.792969</td>\n      <td>47714.664063</td>\n      <td>51093.652344</td>\n      <td>51093.652344</td>\n      <td>86668667320</td>\n      <td>53857.105469</td>\n      <td>55410.230469</td>\n      <td>50583.812500</td>\n      <td>51762.273438</td>\n      <td>51762.273438</td>\n      <td>74798630778</td>\n      <td>34</td>\n      <td>False</td>\n      <td>1</td>\n    </tr>\n    <tr>\n      <th>23</th>\n      <td>2021-04-24</td>\n      <td>51143.226563</td>\n      <td>51167.562500</td>\n      <td>48805.285156</td>\n      <td>50050.867188</td>\n      <td>50050.867188</td>\n      <td>49014494781</td>\n      <td>51739.808594</td>\n      <td>52120.792969</td>\n      <td>47714.664063</td>\n      <td>51093.652344</td>\n      <td>51093.652344</td>\n      <td>86668667320</td>\n      <td>54</td>\n      <td>False</td>\n      <td>1</td>\n    </tr>\n    <tr>\n      <th>24</th>\n      <td>2021-04-25</td>\n      <td>50052.832031</td>\n      <td>50506.019531</td>\n      <td>47159.484375</td>\n      <td>49004.253906</td>\n      <td>49004.253906</td>\n      <td>46117114240</td>\n      <td>51143.226563</td>\n      <td>51167.562500</td>\n      <td>48805.285156</td>\n      <td>50050.867188</td>\n      <td>50050.867188</td>\n      <td>49014494781</td>\n      <td>37</td>\n      <td>False</td>\n      <td>1</td>\n    </tr>\n    <tr>\n      <th>25</th>\n      <td>2021-04-26</td>\n      <td>49077.792969</td>\n      <td>54288.003906</td>\n      <td>48852.796875</td>\n      <td>54021.753906</td>\n      <td>54021.753906</td>\n      <td>58284039825</td>\n      <td>50052.832031</td>\n      <td>50506.019531</td>\n      <td>47159.484375</td>\n      <td>49004.253906</td>\n      <td>49004.253906</td>\n      <td>46117114240</td>\n      <td>30</td>\n      <td>False</td>\n      <td>0</td>\n    </tr>\n    <tr>\n      <th>26</th>\n      <td>2021-04-27</td>\n      <td>54030.304688</td>\n      <td>55416.964844</td>\n      <td>53319.187500</td>\n      <td>55033.117188</td>\n      <td>55033.117188</td>\n      <td>49448222757</td>\n      <td>49077.792969</td>\n      <td>54288.003906</td>\n      <td>48852.796875</td>\n      <td>54021.753906</td>\n      <td>54021.753906</td>\n      <td>58284039825</td>\n      <td>35</td>\n      <td>False</td>\n      <td>0</td>\n    </tr>\n    <tr>\n      <th>27</th>\n      <td>2021-04-28</td>\n      <td>55036.636719</td>\n      <td>56227.207031</td>\n      <td>53887.917969</td>\n      <td>54824.703125</td>\n      <td>54824.703125</td>\n      <td>48000572955</td>\n      <td>54030.304688</td>\n      <td>55416.964844</td>\n      <td>53319.187500</td>\n      <td>55033.117188</td>\n      <td>55033.117188</td>\n      <td>49448222757</td>\n      <td>32</td>\n      <td>False</td>\n      <td>1</td>\n    </tr>\n    <tr>\n      <th>28</th>\n      <td>2021-04-29</td>\n      <td>54858.089844</td>\n      <td>55115.843750</td>\n      <td>52418.027344</td>\n      <td>53555.109375</td>\n      <td>53555.109375</td>\n      <td>46088929780</td>\n      <td>55036.636719</td>\n      <td>56227.207031</td>\n      <td>53887.917969</td>\n      <td>54824.703125</td>\n      <td>54824.703125</td>\n      <td>48000572955</td>\n      <td>32</td>\n      <td>False</td>\n      <td>1</td>\n    </tr>\n    <tr>\n      <th>29</th>\n      <td>2021-04-30</td>\n      <td>53568.664063</td>\n      <td>57900.718750</td>\n      <td>53129.601563</td>\n      <td>57750.175781</td>\n      <td>57750.175781</td>\n      <td>52395931985</td>\n      <td>54858.089844</td>\n      <td>55115.843750</td>\n      <td>52418.027344</td>\n      <td>53555.109375</td>\n      <td>53555.109375</td>\n      <td>46088929780</td>\n      <td>26</td>\n      <td>False</td>\n      <td>0</td>\n    </tr>\n    <tr>\n      <th>30</th>\n      <td>2021-05-01</td>\n      <td>57714.664063</td>\n      <td>58448.339844</td>\n      <td>57052.273438</td>\n      <td>57828.050781</td>\n      <td>57828.050781</td>\n      <td>42836427360</td>\n      <td>53568.664063</td>\n      <td>57900.718750</td>\n      <td>53129.601563</td>\n      <td>57750.175781</td>\n      <td>57750.175781</td>\n      <td>52395931985</td>\n      <td>26</td>\n      <td>False</td>\n      <td>0</td>\n    </tr>\n    <tr>\n      <th>31</th>\n      <td>2021-05-02</td>\n      <td>57825.863281</td>\n      <td>57902.593750</td>\n      <td>56141.906250</td>\n      <td>56631.078125</td>\n      <td>56631.078125</td>\n      <td>38177405335</td>\n      <td>57714.664063</td>\n      <td>58448.339844</td>\n      <td>57052.273438</td>\n      <td>57828.050781</td>\n      <td>57828.050781</td>\n      <td>42836427360</td>\n      <td>25</td>\n      <td>False</td>\n      <td>1</td>\n    </tr>\n    <tr>\n      <th>32</th>\n      <td>2021-05-03</td>\n      <td>56620.273438</td>\n      <td>58973.308594</td>\n      <td>56590.871094</td>\n      <td>57200.292969</td>\n      <td>57200.292969</td>\n      <td>51713139031</td>\n      <td>57825.863281</td>\n      <td>57902.593750</td>\n      <td>56141.906250</td>\n      <td>56631.078125</td>\n      <td>56631.078125</td>\n      <td>38177405335</td>\n      <td>23</td>\n      <td>False</td>\n      <td>0</td>\n    </tr>\n    <tr>\n      <th>33</th>\n      <td>2021-05-04</td>\n      <td>57214.179688</td>\n      <td>57214.179688</td>\n      <td>53191.425781</td>\n      <td>53333.539063</td>\n      <td>53333.539063</td>\n      <td>68564706967</td>\n      <td>56620.273438</td>\n      <td>58973.308594</td>\n      <td>56590.871094</td>\n      <td>57200.292969</td>\n      <td>57200.292969</td>\n      <td>51713139031</td>\n      <td>25</td>\n      <td>False</td>\n      <td>1</td>\n    </tr>\n    <tr>\n      <th>34</th>\n      <td>2021-05-05</td>\n      <td>53252.164063</td>\n      <td>57911.363281</td>\n      <td>52969.054688</td>\n      <td>57424.007813</td>\n      <td>57424.007813</td>\n      <td>69241316747</td>\n      <td>57214.179688</td>\n      <td>57214.179688</td>\n      <td>53191.425781</td>\n      <td>53333.539063</td>\n      <td>53333.539063</td>\n      <td>68564706967</td>\n      <td>30</td>\n      <td>False</td>\n      <td>0</td>\n    </tr>\n    <tr>\n      <th>35</th>\n      <td>2021-05-06</td>\n      <td>57441.308594</td>\n      <td>58363.316406</td>\n      <td>55382.507813</td>\n      <td>56396.515625</td>\n      <td>56396.515625</td>\n      <td>69523285106</td>\n      <td>53252.164063</td>\n      <td>57911.363281</td>\n      <td>52969.054688</td>\n      <td>57424.007813</td>\n      <td>57424.007813</td>\n      <td>69241316747</td>\n      <td>31</td>\n      <td>False</td>\n      <td>1</td>\n    </tr>\n    <tr>\n      <th>36</th>\n      <td>2021-05-07</td>\n      <td>56413.953125</td>\n      <td>58606.632813</td>\n      <td>55321.847656</td>\n      <td>57356.402344</td>\n      <td>57356.402344</td>\n      <td>68434023376</td>\n      <td>57441.308594</td>\n      <td>58363.316406</td>\n      <td>55382.507813</td>\n      <td>56396.515625</td>\n      <td>56396.515625</td>\n      <td>69523285106</td>\n      <td>29</td>\n      <td>False</td>\n      <td>0</td>\n    </tr>\n    <tr>\n      <th>37</th>\n      <td>2021-05-08</td>\n      <td>57352.765625</td>\n      <td>59464.613281</td>\n      <td>56975.210938</td>\n      <td>58803.777344</td>\n      <td>58803.777344</td>\n      <td>65382980634</td>\n      <td>56413.953125</td>\n      <td>58606.632813</td>\n      <td>55321.847656</td>\n      <td>57356.402344</td>\n      <td>57356.402344</td>\n      <td>68434023376</td>\n      <td>26</td>\n      <td>False</td>\n      <td>0</td>\n    </tr>\n    <tr>\n      <th>38</th>\n      <td>2021-05-09</td>\n      <td>58877.390625</td>\n      <td>59210.882813</td>\n      <td>56482.003906</td>\n      <td>58232.316406</td>\n      <td>58232.316406</td>\n      <td>65906690347</td>\n      <td>57352.765625</td>\n      <td>59464.613281</td>\n      <td>56975.210938</td>\n      <td>58803.777344</td>\n      <td>58803.777344</td>\n      <td>65382980634</td>\n      <td>29</td>\n      <td>False</td>\n      <td>1</td>\n    </tr>\n    <tr>\n      <th>39</th>\n      <td>2021-05-10</td>\n      <td>58250.871094</td>\n      <td>59519.355469</td>\n      <td>54071.457031</td>\n      <td>55859.796875</td>\n      <td>55859.796875</td>\n      <td>71776546298</td>\n      <td>58877.390625</td>\n      <td>59210.882813</td>\n      <td>56482.003906</td>\n      <td>58232.316406</td>\n      <td>58232.316406</td>\n      <td>65906690347</td>\n      <td>28</td>\n      <td>False</td>\n      <td>1</td>\n    </tr>\n    <tr>\n      <th>40</th>\n      <td>2021-05-11</td>\n      <td>55847.242188</td>\n      <td>56872.542969</td>\n      <td>54608.652344</td>\n      <td>56704.574219</td>\n      <td>56704.574219</td>\n      <td>61308396325</td>\n      <td>58250.871094</td>\n      <td>59519.355469</td>\n      <td>54071.457031</td>\n      <td>55859.796875</td>\n      <td>55859.796875</td>\n      <td>71776546298</td>\n      <td>32</td>\n      <td>False</td>\n      <td>0</td>\n    </tr>\n    <tr>\n      <th>41</th>\n      <td>2021-05-12</td>\n      <td>56714.531250</td>\n      <td>57939.363281</td>\n      <td>49150.535156</td>\n      <td>49150.535156</td>\n      <td>49150.535156</td>\n      <td>75215403907</td>\n      <td>55847.242188</td>\n      <td>56872.542969</td>\n      <td>54608.652344</td>\n      <td>56704.574219</td>\n      <td>56704.574219</td>\n      <td>61308396325</td>\n      <td>30</td>\n      <td>False</td>\n      <td>1</td>\n    </tr>\n    <tr>\n      <th>42</th>\n      <td>2021-05-13</td>\n      <td>49735.433594</td>\n      <td>51330.843750</td>\n      <td>46980.019531</td>\n      <td>49716.191406</td>\n      <td>49716.191406</td>\n      <td>96721152926</td>\n      <td>56714.531250</td>\n      <td>57939.363281</td>\n      <td>49150.535156</td>\n      <td>49150.535156</td>\n      <td>49150.535156</td>\n      <td>75215403907</td>\n      <td>33</td>\n      <td>False</td>\n      <td>1</td>\n    </tr>\n    <tr>\n      <th>43</th>\n      <td>2021-05-14</td>\n      <td>49682.980469</td>\n      <td>51438.117188</td>\n      <td>48868.578125</td>\n      <td>49880.535156</td>\n      <td>49880.535156</td>\n      <td>55737497453</td>\n      <td>49735.433594</td>\n      <td>51330.843750</td>\n      <td>46980.019531</td>\n      <td>49716.191406</td>\n      <td>49716.191406</td>\n      <td>96721152926</td>\n      <td>74</td>\n      <td>False</td>\n      <td>0</td>\n    </tr>\n    <tr>\n      <th>44</th>\n      <td>2021-05-15</td>\n      <td>49855.496094</td>\n      <td>50639.664063</td>\n      <td>46664.140625</td>\n      <td>46760.187500</td>\n      <td>46760.187500</td>\n      <td>59161047474</td>\n      <td>49682.980469</td>\n      <td>51438.117188</td>\n      <td>48868.578125</td>\n      <td>49880.535156</td>\n      <td>49880.535156</td>\n      <td>55737497453</td>\n      <td>38</td>\n      <td>False</td>\n      <td>1</td>\n    </tr>\n    <tr>\n      <th>45</th>\n      <td>2021-05-16</td>\n      <td>46716.636719</td>\n      <td>49720.042969</td>\n      <td>43963.351563</td>\n      <td>46456.058594</td>\n      <td>46456.058594</td>\n      <td>64047871555</td>\n      <td>49855.496094</td>\n      <td>50639.664063</td>\n      <td>46664.140625</td>\n      <td>46760.187500</td>\n      <td>46760.187500</td>\n      <td>59161047474</td>\n      <td>31</td>\n      <td>False</td>\n      <td>1</td>\n    </tr>\n    <tr>\n      <th>46</th>\n      <td>2021-05-17</td>\n      <td>46415.898438</td>\n      <td>46623.558594</td>\n      <td>42207.289063</td>\n      <td>43537.511719</td>\n      <td>43537.511719</td>\n      <td>74903638450</td>\n      <td>46716.636719</td>\n      <td>49720.042969</td>\n      <td>43963.351563</td>\n      <td>46456.058594</td>\n      <td>46456.058594</td>\n      <td>64047871555</td>\n      <td>35</td>\n      <td>False</td>\n      <td>1</td>\n    </tr>\n    <tr>\n      <th>47</th>\n      <td>2021-05-18</td>\n      <td>43488.058594</td>\n      <td>45812.457031</td>\n      <td>42367.832031</td>\n      <td>42909.402344</td>\n      <td>42909.402344</td>\n      <td>56187365084</td>\n      <td>46415.898438</td>\n      <td>46623.558594</td>\n      <td>42207.289063</td>\n      <td>43537.511719</td>\n      <td>43537.511719</td>\n      <td>74903638450</td>\n      <td>53</td>\n      <td>False</td>\n      <td>1</td>\n    </tr>\n    <tr>\n      <th>48</th>\n      <td>2021-05-19</td>\n      <td>42944.976563</td>\n      <td>43546.117188</td>\n      <td>30681.496094</td>\n      <td>37002.441406</td>\n      <td>37002.441406</td>\n      <td>126358098747</td>\n      <td>43488.058594</td>\n      <td>45812.457031</td>\n      <td>42367.832031</td>\n      <td>42909.402344</td>\n      <td>42909.402344</td>\n      <td>56187365084</td>\n      <td>40</td>\n      <td>False</td>\n      <td>1</td>\n    </tr>\n    <tr>\n      <th>49</th>\n      <td>2021-05-20</td>\n      <td>36753.667969</td>\n      <td>42462.984375</td>\n      <td>35050.617188</td>\n      <td>40782.738281</td>\n      <td>40782.738281</td>\n      <td>88281943359</td>\n      <td>42944.976563</td>\n      <td>43546.117188</td>\n      <td>30681.496094</td>\n      <td>37002.441406</td>\n      <td>37002.441406</td>\n      <td>126358098747</td>\n      <td>100</td>\n      <td>False</td>\n      <td>0</td>\n    </tr>\n    <tr>\n      <th>50</th>\n      <td>2021-05-21</td>\n      <td>40596.949219</td>\n      <td>42172.171875</td>\n      <td>33616.453125</td>\n      <td>37304.691406</td>\n      <td>37304.691406</td>\n      <td>82051616861</td>\n      <td>36753.667969</td>\n      <td>42462.984375</td>\n      <td>35050.617188</td>\n      <td>40782.738281</td>\n      <td>40782.738281</td>\n      <td>88281943359</td>\n      <td>66</td>\n      <td>False</td>\n      <td>1</td>\n    </tr>\n    <tr>\n      <th>51</th>\n      <td>2021-05-22</td>\n      <td>37371.031250</td>\n      <td>38831.054688</td>\n      <td>35383.683594</td>\n      <td>37536.632813</td>\n      <td>37536.632813</td>\n      <td>57377273240</td>\n      <td>40596.949219</td>\n      <td>42172.171875</td>\n      <td>33616.453125</td>\n      <td>37304.691406</td>\n      <td>37304.691406</td>\n      <td>82051616861</td>\n      <td>53</td>\n      <td>False</td>\n      <td>0</td>\n    </tr>\n    <tr>\n      <th>52</th>\n      <td>2021-05-23</td>\n      <td>37531.449219</td>\n      <td>38289.218750</td>\n      <td>31227.339844</td>\n      <td>34770.582031</td>\n      <td>34770.582031</td>\n      <td>78469274361</td>\n      <td>37371.031250</td>\n      <td>38831.054688</td>\n      <td>35383.683594</td>\n      <td>37536.632813</td>\n      <td>37536.632813</td>\n      <td>57377273240</td>\n      <td>46</td>\n      <td>False</td>\n      <td>1</td>\n    </tr>\n    <tr>\n      <th>53</th>\n      <td>2021-05-24</td>\n      <td>34700.363281</td>\n      <td>39835.140625</td>\n      <td>34551.082031</td>\n      <td>38705.980469</td>\n      <td>38705.980469</td>\n      <td>67359584098</td>\n      <td>37531.449219</td>\n      <td>38289.218750</td>\n      <td>31227.339844</td>\n      <td>34770.582031</td>\n      <td>34770.582031</td>\n      <td>78469274361</td>\n      <td>55</td>\n      <td>False</td>\n      <td>0</td>\n    </tr>\n    <tr>\n      <th>54</th>\n      <td>2021-05-25</td>\n      <td>38795.781250</td>\n      <td>39776.351563</td>\n      <td>36581.429688</td>\n      <td>38402.222656</td>\n      <td>38402.222656</td>\n      <td>56211915803</td>\n      <td>34700.363281</td>\n      <td>39835.140625</td>\n      <td>34551.082031</td>\n      <td>38705.980469</td>\n      <td>38705.980469</td>\n      <td>67359584098</td>\n      <td>54</td>\n      <td>False</td>\n      <td>1</td>\n    </tr>\n    <tr>\n      <th>55</th>\n      <td>2021-05-26</td>\n      <td>38392.625000</td>\n      <td>40782.078125</td>\n      <td>37905.835938</td>\n      <td>39294.199219</td>\n      <td>39294.199219</td>\n      <td>51346735160</td>\n      <td>38795.781250</td>\n      <td>39776.351563</td>\n      <td>36581.429688</td>\n      <td>38402.222656</td>\n      <td>38402.222656</td>\n      <td>56211915803</td>\n      <td>42</td>\n      <td>False</td>\n      <td>0</td>\n    </tr>\n    <tr>\n      <th>56</th>\n      <td>2021-05-27</td>\n      <td>39316.890625</td>\n      <td>40379.617188</td>\n      <td>37247.902344</td>\n      <td>38436.968750</td>\n      <td>38436.968750</td>\n      <td>43210968721</td>\n      <td>38392.625000</td>\n      <td>40782.078125</td>\n      <td>37905.835938</td>\n      <td>39294.199219</td>\n      <td>39294.199219</td>\n      <td>51346735160</td>\n      <td>34</td>\n      <td>False</td>\n      <td>1</td>\n    </tr>\n    <tr>\n      <th>57</th>\n      <td>2021-05-28</td>\n      <td>38507.082031</td>\n      <td>38856.968750</td>\n      <td>34779.039063</td>\n      <td>35697.605469</td>\n      <td>35697.605469</td>\n      <td>55200191952</td>\n      <td>39316.890625</td>\n      <td>40379.617188</td>\n      <td>37247.902344</td>\n      <td>38436.968750</td>\n      <td>38436.968750</td>\n      <td>43210968721</td>\n      <td>28</td>\n      <td>False</td>\n      <td>1</td>\n    </tr>\n    <tr>\n      <th>58</th>\n      <td>2021-05-29</td>\n      <td>35684.156250</td>\n      <td>37234.500000</td>\n      <td>33693.929688</td>\n      <td>34616.066406</td>\n      <td>34616.066406</td>\n      <td>45231013335</td>\n      <td>38507.082031</td>\n      <td>38856.968750</td>\n      <td>34779.039063</td>\n      <td>35697.605469</td>\n      <td>35697.605469</td>\n      <td>55200191952</td>\n      <td>33</td>\n      <td>False</td>\n      <td>1</td>\n    </tr>\n    <tr>\n      <th>59</th>\n      <td>2021-05-30</td>\n      <td>34607.406250</td>\n      <td>36400.667969</td>\n      <td>33520.738281</td>\n      <td>35678.128906</td>\n      <td>35678.128906</td>\n      <td>31646080921</td>\n      <td>35684.156250</td>\n      <td>37234.500000</td>\n      <td>33693.929688</td>\n      <td>34616.066406</td>\n      <td>34616.066406</td>\n      <td>45231013335</td>\n      <td>29</td>\n      <td>False</td>\n      <td>0</td>\n    </tr>\n    <tr>\n      <th>60</th>\n      <td>2021-05-31</td>\n      <td>35658.593750</td>\n      <td>37468.250000</td>\n      <td>34241.945313</td>\n      <td>37332.855469</td>\n      <td>37332.855469</td>\n      <td>39009847639</td>\n      <td>34607.406250</td>\n      <td>36400.667969</td>\n      <td>33520.738281</td>\n      <td>35678.128906</td>\n      <td>35678.128906</td>\n      <td>31646080921</td>\n      <td>29</td>\n      <td>False</td>\n      <td>0</td>\n    </tr>\n    <tr>\n      <th>61</th>\n      <td>2021-06-01</td>\n      <td>37293.792969</td>\n      <td>37896.734375</td>\n      <td>35787.085938</td>\n      <td>36684.925781</td>\n      <td>36684.925781</td>\n      <td>34639423297</td>\n      <td>35658.593750</td>\n      <td>37468.250000</td>\n      <td>34241.945313</td>\n      <td>37332.855469</td>\n      <td>37332.855469</td>\n      <td>39009847639</td>\n      <td>28</td>\n      <td>False</td>\n      <td>1</td>\n    </tr>\n    <tr>\n      <th>62</th>\n      <td>2021-06-02</td>\n      <td>36699.921875</td>\n      <td>38231.339844</td>\n      <td>35966.308594</td>\n      <td>37575.179688</td>\n      <td>37575.179688</td>\n      <td>33070867190</td>\n      <td>37293.792969</td>\n      <td>37896.734375</td>\n      <td>35787.085938</td>\n      <td>36684.925781</td>\n      <td>36684.925781</td>\n      <td>34639423297</td>\n      <td>29</td>\n      <td>False</td>\n      <td>0</td>\n    </tr>\n    <tr>\n      <th>63</th>\n      <td>2021-06-03</td>\n      <td>37599.410156</td>\n      <td>39478.953125</td>\n      <td>37243.972656</td>\n      <td>39208.765625</td>\n      <td>39208.765625</td>\n      <td>35460750427</td>\n      <td>36699.921875</td>\n      <td>38231.339844</td>\n      <td>35966.308594</td>\n      <td>37575.179688</td>\n      <td>37575.179688</td>\n      <td>33070867190</td>\n      <td>27</td>\n      <td>False</td>\n      <td>0</td>\n    </tr>\n    <tr>\n      <th>64</th>\n      <td>2021-06-04</td>\n      <td>39242.484375</td>\n      <td>39242.484375</td>\n      <td>35717.722656</td>\n      <td>36894.406250</td>\n      <td>36894.406250</td>\n      <td>41831090187</td>\n      <td>37599.410156</td>\n      <td>39478.953125</td>\n      <td>37243.972656</td>\n      <td>39208.765625</td>\n      <td>39208.765625</td>\n      <td>35460750427</td>\n      <td>24</td>\n      <td>False</td>\n      <td>1</td>\n    </tr>\n    <tr>\n      <th>65</th>\n      <td>2021-06-05</td>\n      <td>36880.156250</td>\n      <td>37917.714844</td>\n      <td>34900.414063</td>\n      <td>35551.957031</td>\n      <td>35551.957031</td>\n      <td>35959473399</td>\n      <td>39242.484375</td>\n      <td>39242.484375</td>\n      <td>35717.722656</td>\n      <td>36894.406250</td>\n      <td>36894.406250</td>\n      <td>41831090187</td>\n      <td>29</td>\n      <td>False</td>\n      <td>1</td>\n    </tr>\n    <tr>\n      <th>66</th>\n      <td>2021-06-06</td>\n      <td>35538.609375</td>\n      <td>36436.421875</td>\n      <td>35304.578125</td>\n      <td>35862.378906</td>\n      <td>35862.378906</td>\n      <td>28913440585</td>\n      <td>36880.156250</td>\n      <td>37917.714844</td>\n      <td>34900.414063</td>\n      <td>35551.957031</td>\n      <td>35551.957031</td>\n      <td>35959473399</td>\n      <td>29</td>\n      <td>False</td>\n      <td>0</td>\n    </tr>\n    <tr>\n      <th>67</th>\n      <td>2021-06-07</td>\n      <td>35835.265625</td>\n      <td>36790.570313</td>\n      <td>33480.640625</td>\n      <td>33560.707031</td>\n      <td>33560.707031</td>\n      <td>33683936663</td>\n      <td>35538.609375</td>\n      <td>36436.421875</td>\n      <td>35304.578125</td>\n      <td>35862.378906</td>\n      <td>35862.378906</td>\n      <td>28913440585</td>\n      <td>29</td>\n      <td>False</td>\n      <td>1</td>\n    </tr>\n    <tr>\n      <th>68</th>\n      <td>2021-06-08</td>\n      <td>33589.519531</td>\n      <td>34017.386719</td>\n      <td>31114.443359</td>\n      <td>33472.632813</td>\n      <td>33472.632813</td>\n      <td>49902050442</td>\n      <td>35835.265625</td>\n      <td>36790.570313</td>\n      <td>33480.640625</td>\n      <td>33560.707031</td>\n      <td>33560.707031</td>\n      <td>33683936663</td>\n      <td>28</td>\n      <td>False</td>\n      <td>1</td>\n    </tr>\n    <tr>\n      <th>69</th>\n      <td>2021-06-09</td>\n      <td>33416.976563</td>\n      <td>37537.371094</td>\n      <td>32475.865234</td>\n      <td>37345.121094</td>\n      <td>37345.121094</td>\n      <td>53972919008</td>\n      <td>33589.519531</td>\n      <td>34017.386719</td>\n      <td>31114.443359</td>\n      <td>33472.632813</td>\n      <td>33472.632813</td>\n      <td>49902050442</td>\n      <td>41</td>\n      <td>False</td>\n      <td>0</td>\n    </tr>\n    <tr>\n      <th>70</th>\n      <td>2021-06-10</td>\n      <td>37389.515625</td>\n      <td>38334.324219</td>\n      <td>35847.593750</td>\n      <td>36702.597656</td>\n      <td>36702.597656</td>\n      <td>43576032854</td>\n      <td>33416.976563</td>\n      <td>37537.371094</td>\n      <td>32475.865234</td>\n      <td>37345.121094</td>\n      <td>37345.121094</td>\n      <td>53972919008</td>\n      <td>38</td>\n      <td>False</td>\n      <td>1</td>\n    </tr>\n    <tr>\n      <th>71</th>\n      <td>2021-06-11</td>\n      <td>36697.031250</td>\n      <td>37608.695313</td>\n      <td>36044.449219</td>\n      <td>37334.398438</td>\n      <td>37334.398438</td>\n      <td>38699736985</td>\n      <td>37389.515625</td>\n      <td>38334.324219</td>\n      <td>35847.593750</td>\n      <td>36702.597656</td>\n      <td>36702.597656</td>\n      <td>43576032854</td>\n      <td>33</td>\n      <td>False</td>\n      <td>0</td>\n    </tr>\n    <tr>\n      <th>72</th>\n      <td>2021-06-12</td>\n      <td>37340.144531</td>\n      <td>37408.925781</td>\n      <td>34728.191406</td>\n      <td>35552.515625</td>\n      <td>35552.515625</td>\n      <td>37924228550</td>\n      <td>36697.031250</td>\n      <td>37608.695313</td>\n      <td>36044.449219</td>\n      <td>37334.398438</td>\n      <td>37334.398438</td>\n      <td>38699736985</td>\n      <td>28</td>\n      <td>False</td>\n      <td>1</td>\n    </tr>\n    <tr>\n      <th>73</th>\n      <td>2021-06-13</td>\n      <td>35555.789063</td>\n      <td>39322.781250</td>\n      <td>34864.109375</td>\n      <td>39097.859375</td>\n      <td>39097.859375</td>\n      <td>40669112838</td>\n      <td>37340.144531</td>\n      <td>37408.925781</td>\n      <td>34728.191406</td>\n      <td>35552.515625</td>\n      <td>35552.515625</td>\n      <td>37924228550</td>\n      <td>23</td>\n      <td>False</td>\n      <td>0</td>\n    </tr>\n    <tr>\n      <th>74</th>\n      <td>2021-06-14</td>\n      <td>39016.968750</td>\n      <td>40978.363281</td>\n      <td>38757.285156</td>\n      <td>40218.476563</td>\n      <td>40218.476563</td>\n      <td>43148914673</td>\n      <td>35555.789063</td>\n      <td>39322.781250</td>\n      <td>34864.109375</td>\n      <td>39097.859375</td>\n      <td>39097.859375</td>\n      <td>40669112838</td>\n      <td>25</td>\n      <td>False</td>\n      <td>0</td>\n    </tr>\n    <tr>\n      <th>75</th>\n      <td>2021-06-15</td>\n      <td>40427.167969</td>\n      <td>41295.269531</td>\n      <td>39609.468750</td>\n      <td>40406.269531</td>\n      <td>40406.269531</td>\n      <td>46420149185</td>\n      <td>39016.968750</td>\n      <td>40978.363281</td>\n      <td>38757.285156</td>\n      <td>40218.476563</td>\n      <td>40218.476563</td>\n      <td>43148914673</td>\n      <td>32</td>\n      <td>False</td>\n      <td>1</td>\n    </tr>\n    <tr>\n      <th>76</th>\n      <td>2021-06-16</td>\n      <td>40168.691406</td>\n      <td>40516.777344</td>\n      <td>38176.035156</td>\n      <td>38347.062500</td>\n      <td>38347.062500</td>\n      <td>39211635100</td>\n      <td>40427.167969</td>\n      <td>41295.269531</td>\n      <td>39609.468750</td>\n      <td>40406.269531</td>\n      <td>40406.269531</td>\n      <td>46420149185</td>\n      <td>25</td>\n      <td>False</td>\n      <td>1</td>\n    </tr>\n    <tr>\n      <th>77</th>\n      <td>2021-06-17</td>\n      <td>38341.421875</td>\n      <td>39513.671875</td>\n      <td>37439.675781</td>\n      <td>38053.503906</td>\n      <td>38053.503906</td>\n      <td>37096670047</td>\n      <td>40168.691406</td>\n      <td>40516.777344</td>\n      <td>38176.035156</td>\n      <td>38347.062500</td>\n      <td>38347.062500</td>\n      <td>39211635100</td>\n      <td>23</td>\n      <td>False</td>\n      <td>1</td>\n    </tr>\n    <tr>\n      <th>78</th>\n      <td>2021-06-18</td>\n      <td>38099.476563</td>\n      <td>38187.261719</td>\n      <td>35255.855469</td>\n      <td>35787.246094</td>\n      <td>35787.246094</td>\n      <td>36200887275</td>\n      <td>38341.421875</td>\n      <td>39513.671875</td>\n      <td>37439.675781</td>\n      <td>38053.503906</td>\n      <td>38053.503906</td>\n      <td>37096670047</td>\n      <td>23</td>\n      <td>False</td>\n      <td>1</td>\n    </tr>\n    <tr>\n      <th>79</th>\n      <td>2021-06-19</td>\n      <td>35854.527344</td>\n      <td>36457.796875</td>\n      <td>34933.062500</td>\n      <td>35615.871094</td>\n      <td>35615.871094</td>\n      <td>31207279719</td>\n      <td>38099.476563</td>\n      <td>38187.261719</td>\n      <td>35255.855469</td>\n      <td>35787.246094</td>\n      <td>35787.246094</td>\n      <td>36200887275</td>\n      <td>22</td>\n      <td>False</td>\n      <td>1</td>\n    </tr>\n    <tr>\n      <th>80</th>\n      <td>2021-06-20</td>\n      <td>35563.140625</td>\n      <td>36059.484375</td>\n      <td>33432.074219</td>\n      <td>35698.296875</td>\n      <td>35698.296875</td>\n      <td>36664034054</td>\n      <td>35854.527344</td>\n      <td>36457.796875</td>\n      <td>34933.062500</td>\n      <td>35615.871094</td>\n      <td>35615.871094</td>\n      <td>31207279719</td>\n      <td>17</td>\n      <td>False</td>\n      <td>0</td>\n    </tr>\n    <tr>\n      <th>81</th>\n      <td>2021-06-21</td>\n      <td>35641.144531</td>\n      <td>35721.640625</td>\n      <td>31295.935547</td>\n      <td>31676.693359</td>\n      <td>31676.693359</td>\n      <td>52809038594</td>\n      <td>35563.140625</td>\n      <td>36059.484375</td>\n      <td>33432.074219</td>\n      <td>35698.296875</td>\n      <td>35698.296875</td>\n      <td>36664034054</td>\n      <td>21</td>\n      <td>False</td>\n      <td>1</td>\n    </tr>\n    <tr>\n      <th>82</th>\n      <td>2021-06-22</td>\n      <td>31622.376953</td>\n      <td>33292.453125</td>\n      <td>28893.621094</td>\n      <td>32505.660156</td>\n      <td>32505.660156</td>\n      <td>58964353058</td>\n      <td>35641.144531</td>\n      <td>35721.640625</td>\n      <td>31295.935547</td>\n      <td>31676.693359</td>\n      <td>31676.693359</td>\n      <td>52809038594</td>\n      <td>33</td>\n      <td>False</td>\n      <td>0</td>\n    </tr>\n    <tr>\n      <th>83</th>\n      <td>2021-06-23</td>\n      <td>32515.714844</td>\n      <td>34753.410156</td>\n      <td>31772.632813</td>\n      <td>33723.027344</td>\n      <td>33723.027344</td>\n      <td>46317108925</td>\n      <td>31622.376953</td>\n      <td>33292.453125</td>\n      <td>28893.621094</td>\n      <td>32505.660156</td>\n      <td>32505.660156</td>\n      <td>58964353058</td>\n      <td>46</td>\n      <td>False</td>\n      <td>0</td>\n    </tr>\n    <tr>\n      <th>84</th>\n      <td>2021-06-24</td>\n      <td>33682.800781</td>\n      <td>35228.851563</td>\n      <td>32385.214844</td>\n      <td>34662.437500</td>\n      <td>34662.437500</td>\n      <td>33123368116</td>\n      <td>32515.714844</td>\n      <td>34753.410156</td>\n      <td>31772.632813</td>\n      <td>33723.027344</td>\n      <td>33723.027344</td>\n      <td>46317108925</td>\n      <td>32</td>\n      <td>False</td>\n      <td>0</td>\n    </tr>\n    <tr>\n      <th>85</th>\n      <td>2021-06-25</td>\n      <td>34659.105469</td>\n      <td>35487.246094</td>\n      <td>31350.884766</td>\n      <td>31637.779297</td>\n      <td>31637.779297</td>\n      <td>40230904226</td>\n      <td>33682.800781</td>\n      <td>35228.851563</td>\n      <td>32385.214844</td>\n      <td>34662.437500</td>\n      <td>34662.437500</td>\n      <td>33123368116</td>\n      <td>26</td>\n      <td>False</td>\n      <td>1</td>\n    </tr>\n    <tr>\n      <th>86</th>\n      <td>2021-06-26</td>\n      <td>31594.664063</td>\n      <td>32637.587891</td>\n      <td>30184.501953</td>\n      <td>32186.277344</td>\n      <td>32186.277344</td>\n      <td>38585385521</td>\n      <td>34659.105469</td>\n      <td>35487.246094</td>\n      <td>31350.884766</td>\n      <td>31637.779297</td>\n      <td>31637.779297</td>\n      <td>40230904226</td>\n      <td>24</td>\n      <td>False</td>\n      <td>0</td>\n    </tr>\n    <tr>\n      <th>87</th>\n      <td>2021-06-27</td>\n      <td>32287.523438</td>\n      <td>34656.128906</td>\n      <td>32071.757813</td>\n      <td>34649.644531</td>\n      <td>34649.644531</td>\n      <td>35511640894</td>\n      <td>31594.664063</td>\n      <td>32637.587891</td>\n      <td>30184.501953</td>\n      <td>32186.277344</td>\n      <td>32186.277344</td>\n      <td>38585385521</td>\n      <td>22</td>\n      <td>False</td>\n      <td>0</td>\n    </tr>\n    <tr>\n      <th>88</th>\n      <td>2021-06-28</td>\n      <td>34679.121094</td>\n      <td>35219.890625</td>\n      <td>33902.074219</td>\n      <td>34434.335938</td>\n      <td>34434.335938</td>\n      <td>33892523752</td>\n      <td>32287.523438</td>\n      <td>34656.128906</td>\n      <td>32071.757813</td>\n      <td>34649.644531</td>\n      <td>34649.644531</td>\n      <td>35511640894</td>\n      <td>22</td>\n      <td>False</td>\n      <td>1</td>\n    </tr>\n    <tr>\n      <th>89</th>\n      <td>2021-06-29</td>\n      <td>34475.558594</td>\n      <td>36542.109375</td>\n      <td>34252.484375</td>\n      <td>35867.777344</td>\n      <td>35867.777344</td>\n      <td>37901460044</td>\n      <td>34679.121094</td>\n      <td>35219.890625</td>\n      <td>33902.074219</td>\n      <td>34434.335938</td>\n      <td>34434.335938</td>\n      <td>33892523752</td>\n      <td>25</td>\n      <td>False</td>\n      <td>0</td>\n    </tr>\n    <tr>\n      <th>90</th>\n      <td>2021-06-30</td>\n      <td>35908.386719</td>\n      <td>36074.757813</td>\n      <td>34086.152344</td>\n      <td>35040.835938</td>\n      <td>35040.835938</td>\n      <td>34059036099</td>\n      <td>34475.558594</td>\n      <td>36542.109375</td>\n      <td>34252.484375</td>\n      <td>35867.777344</td>\n      <td>35867.777344</td>\n      <td>37901460044</td>\n      <td>22</td>\n      <td>False</td>\n      <td>1</td>\n    </tr>\n  </tbody>\n</table>\n</div>"
     },
     "execution_count": 559,
     "metadata": {},
     "output_type": "execute_result"
    }
   ],
   "source": [
    "mergedStockPrice = pd.concat([mergedPrice, bitcoinTrendsdf], axis=1)\n",
    "#mergedStockPrice.reset_index(inplace=True, drop=True)\n",
    "mergedStockPrice.set_index('isPartial', drop=True)\n",
    "#mergedStockPrice['Previous_Close'] = mergedStockPrice['Close']\n",
    "#meanSearchInterest = mergedStockPrice['Search_Interest'].mean()\n",
    "#mergedStockPrice[\"Interest Points Away From Mean\"] = mergedStockPrice[\"Search Interest\"] - meanSearchInterest\n",
    "mergedStockPrice[\"Price_Increase\"] = mergedStockPrice[\"Open\"] - mergedStockPrice[\"Close\"] > 0.0\n",
    "mergedStockPrice[\"Price_Increase\"] = mergedStockPrice[\"Price_Increase\"]*1\n",
    "\n",
    "\n",
    "#pd.set_option('display.max_rows', len(mergedStockPrice))\n",
    "\n",
    "mergedStockPrice"
   ],
   "metadata": {
    "collapsed": false,
    "pycharm": {
     "name": "#%%\n"
    }
   }
  },
  {
   "cell_type": "code",
   "execution_count": 560,
   "outputs": [
    {
     "name": "stdout",
     "output_type": "stream",
     "text": [
      "<class 'pandas.core.frame.DataFrame'>\n",
      "RangeIndex: 91 entries, 0 to 90\n",
      "Data columns (total 16 columns):\n",
      " #   Column                    Non-Null Count  Dtype  \n",
      "---  ------                    --------------  -----  \n",
      " 0   Date                      91 non-null     object \n",
      " 1   Open                      91 non-null     float64\n",
      " 2   High                      91 non-null     float64\n",
      " 3   Low                       91 non-null     float64\n",
      " 4   Close                     91 non-null     float64\n",
      " 5   Adj Close                 91 non-null     float64\n",
      " 6   Volume                    91 non-null     int64  \n",
      " 7   Previous_Open             91 non-null     float64\n",
      " 8   Previous_High             91 non-null     float64\n",
      " 9   Previous_Low              91 non-null     float64\n",
      " 10  Previous_Close            91 non-null     float64\n",
      " 11  Previous_Adj_Close        91 non-null     float64\n",
      " 12  Previous_Volume           91 non-null     int64  \n",
      " 13  Previous_Search_Interest  91 non-null     int64  \n",
      " 14  isPartial                 91 non-null     bool   \n",
      " 15  Price_Increase            91 non-null     int64  \n",
      "dtypes: bool(1), float64(10), int64(4), object(1)\n",
      "memory usage: 10.9+ KB\n"
     ]
    }
   ],
   "source": [
    "mergedStockPrice.info()"
   ],
   "metadata": {
    "collapsed": false,
    "pycharm": {
     "name": "#%%\n"
    }
   }
  },
  {
   "cell_type": "code",
   "execution_count": 561,
   "outputs": [
    {
     "data": {
      "text/plain": "    Previous_Open  Previous_High  Previous_Low  Previous_Close  \\\n0    58930.277344   59930.027344  57726.417969    58918.832031   \n1    58926.562500   59586.070313  58505.277344    59095.808594   \n2    59098.878906   60267.187500  58869.281250    59384.312500   \n3    59397.410156   60110.269531  57603.890625    57603.890625   \n4    57604.839844   58913.746094  57168.675781    58758.554688   \n5    58760.875000   59891.296875  57694.824219    59057.878906   \n6    59171.933594   59479.578125  57646.808594    58192.359375   \n7    58186.507813   58731.144531  55604.023438    56048.937500   \n8    56099.914063   58338.738281  55879.085938    58323.953125   \n9    58326.562500   58937.046875  57807.863281    58245.003906   \n10   58253.777344   61276.664063  58038.707031    59793.234375   \n11   59846.230469   60790.554688  59289.796875    60204.964844   \n12   60175.945313   61253.035156  59589.875000    59893.453125   \n13   59890.019531   63742.285156  59869.957031    63503.457031   \n14   63523.753906   64863.097656  61554.796875    63109.695313   \n15   63075.195313   63821.671875  62208.964844    63314.011719   \n16   63258.503906   63594.722656  60222.531250    61572.789063   \n17   61529.921875   62572.175781  60361.351563    60683.820313   \n18   60701.886719   61057.457031  52829.535156    56216.183594   \n19   56191.585938   57520.054688  54368.593750    55724.265625   \n20   55681.792969   57062.148438  53448.046875    56473.031250   \n21   56471.128906   56757.972656  53695.468750    53906.089844   \n22   53857.105469   55410.230469  50583.812500    51762.273438   \n23   51739.808594   52120.792969  47714.664063    51093.652344   \n24   51143.226563   51167.562500  48805.285156    50050.867188   \n25   50052.832031   50506.019531  47159.484375    49004.253906   \n26   49077.792969   54288.003906  48852.796875    54021.753906   \n27   54030.304688   55416.964844  53319.187500    55033.117188   \n28   55036.636719   56227.207031  53887.917969    54824.703125   \n29   54858.089844   55115.843750  52418.027344    53555.109375   \n30   53568.664063   57900.718750  53129.601563    57750.175781   \n31   57714.664063   58448.339844  57052.273438    57828.050781   \n32   57825.863281   57902.593750  56141.906250    56631.078125   \n33   56620.273438   58973.308594  56590.871094    57200.292969   \n34   57214.179688   57214.179688  53191.425781    53333.539063   \n35   53252.164063   57911.363281  52969.054688    57424.007813   \n36   57441.308594   58363.316406  55382.507813    56396.515625   \n37   56413.953125   58606.632813  55321.847656    57356.402344   \n38   57352.765625   59464.613281  56975.210938    58803.777344   \n39   58877.390625   59210.882813  56482.003906    58232.316406   \n40   58250.871094   59519.355469  54071.457031    55859.796875   \n41   55847.242188   56872.542969  54608.652344    56704.574219   \n42   56714.531250   57939.363281  49150.535156    49150.535156   \n43   49735.433594   51330.843750  46980.019531    49716.191406   \n44   49682.980469   51438.117188  48868.578125    49880.535156   \n45   49855.496094   50639.664063  46664.140625    46760.187500   \n46   46716.636719   49720.042969  43963.351563    46456.058594   \n47   46415.898438   46623.558594  42207.289063    43537.511719   \n48   43488.058594   45812.457031  42367.832031    42909.402344   \n49   42944.976563   43546.117188  30681.496094    37002.441406   \n50   36753.667969   42462.984375  35050.617188    40782.738281   \n51   40596.949219   42172.171875  33616.453125    37304.691406   \n52   37371.031250   38831.054688  35383.683594    37536.632813   \n53   37531.449219   38289.218750  31227.339844    34770.582031   \n54   34700.363281   39835.140625  34551.082031    38705.980469   \n55   38795.781250   39776.351563  36581.429688    38402.222656   \n56   38392.625000   40782.078125  37905.835938    39294.199219   \n57   39316.890625   40379.617188  37247.902344    38436.968750   \n58   38507.082031   38856.968750  34779.039063    35697.605469   \n59   35684.156250   37234.500000  33693.929688    34616.066406   \n60   34607.406250   36400.667969  33520.738281    35678.128906   \n61   35658.593750   37468.250000  34241.945313    37332.855469   \n62   37293.792969   37896.734375  35787.085938    36684.925781   \n63   36699.921875   38231.339844  35966.308594    37575.179688   \n64   37599.410156   39478.953125  37243.972656    39208.765625   \n65   39242.484375   39242.484375  35717.722656    36894.406250   \n66   36880.156250   37917.714844  34900.414063    35551.957031   \n67   35538.609375   36436.421875  35304.578125    35862.378906   \n68   35835.265625   36790.570313  33480.640625    33560.707031   \n69   33589.519531   34017.386719  31114.443359    33472.632813   \n70   33416.976563   37537.371094  32475.865234    37345.121094   \n71   37389.515625   38334.324219  35847.593750    36702.597656   \n72   36697.031250   37608.695313  36044.449219    37334.398438   \n73   37340.144531   37408.925781  34728.191406    35552.515625   \n74   35555.789063   39322.781250  34864.109375    39097.859375   \n75   39016.968750   40978.363281  38757.285156    40218.476563   \n76   40427.167969   41295.269531  39609.468750    40406.269531   \n77   40168.691406   40516.777344  38176.035156    38347.062500   \n78   38341.421875   39513.671875  37439.675781    38053.503906   \n79   38099.476563   38187.261719  35255.855469    35787.246094   \n80   35854.527344   36457.796875  34933.062500    35615.871094   \n81   35563.140625   36059.484375  33432.074219    35698.296875   \n82   35641.144531   35721.640625  31295.935547    31676.693359   \n83   31622.376953   33292.453125  28893.621094    32505.660156   \n84   32515.714844   34753.410156  31772.632813    33723.027344   \n85   33682.800781   35228.851563  32385.214844    34662.437500   \n86   34659.105469   35487.246094  31350.884766    31637.779297   \n87   31594.664063   32637.587891  30184.501953    32186.277344   \n88   32287.523438   34656.128906  32071.757813    34649.644531   \n89   34679.121094   35219.890625  33902.074219    34434.335938   \n90   34475.558594   36542.109375  34252.484375    35867.777344   \n\n    Previous_Volume  Previous_Search_Interest         Close  \n0       65520826225                        29  59095.808594  \n1       61669163792                        41  59384.312500  \n2       58727860620                        29  57603.890625  \n3       59641344484                        22  58758.554688  \n4       50749662970                        22  59057.878906  \n5       60706272115                        23  58192.359375  \n6       66058027988                        24  56048.937500  \n7       75645303584                        23  58323.953125  \n8       53053855641                        24  58245.003906  \n9       46655208546                        22  59793.234375  \n10      58238470525                        26  60204.964844  \n11      46280252580                        24  59893.453125  \n12      51828688519                        25  63503.457031  \n13      69983454362                        36  63109.695313  \n14      77451779687                        42  63314.011719  \n15      60954381579                        35  61572.789063  \n16      84293007468                        44  60683.820313  \n17      66138759198                        32  56216.183594  \n18      97468872758                        51  55724.265625  \n19      65344865159                        44  56473.031250  \n20      67849323955                        39  53906.089844  \n21      54926612466                        32  51762.273438  \n22      74798630778                        34  51093.652344  \n23      86668667320                        54  50050.867188  \n24      49014494781                        37  49004.253906  \n25      46117114240                        30  54021.753906  \n26      58284039825                        35  55033.117188  \n27      49448222757                        32  54824.703125  \n28      48000572955                        32  53555.109375  \n29      46088929780                        26  57750.175781  \n30      52395931985                        26  57828.050781  \n31      42836427360                        25  56631.078125  \n32      38177405335                        23  57200.292969  \n33      51713139031                        25  53333.539063  \n34      68564706967                        30  57424.007813  \n35      69241316747                        31  56396.515625  \n36      69523285106                        29  57356.402344  \n37      68434023376                        26  58803.777344  \n38      65382980634                        29  58232.316406  \n39      65906690347                        28  55859.796875  \n40      71776546298                        32  56704.574219  \n41      61308396325                        30  49150.535156  \n42      75215403907                        33  49716.191406  \n43      96721152926                        74  49880.535156  \n44      55737497453                        38  46760.187500  \n45      59161047474                        31  46456.058594  \n46      64047871555                        35  43537.511719  \n47      74903638450                        53  42909.402344  \n48      56187365084                        40  37002.441406  \n49     126358098747                       100  40782.738281  \n50      88281943359                        66  37304.691406  \n51      82051616861                        53  37536.632813  \n52      57377273240                        46  34770.582031  \n53      78469274361                        55  38705.980469  \n54      67359584098                        54  38402.222656  \n55      56211915803                        42  39294.199219  \n56      51346735160                        34  38436.968750  \n57      43210968721                        28  35697.605469  \n58      55200191952                        33  34616.066406  \n59      45231013335                        29  35678.128906  \n60      31646080921                        29  37332.855469  \n61      39009847639                        28  36684.925781  \n62      34639423297                        29  37575.179688  \n63      33070867190                        27  39208.765625  \n64      35460750427                        24  36894.406250  \n65      41831090187                        29  35551.957031  \n66      35959473399                        29  35862.378906  \n67      28913440585                        29  33560.707031  \n68      33683936663                        28  33472.632813  \n69      49902050442                        41  37345.121094  \n70      53972919008                        38  36702.597656  \n71      43576032854                        33  37334.398438  \n72      38699736985                        28  35552.515625  \n73      37924228550                        23  39097.859375  \n74      40669112838                        25  40218.476563  \n75      43148914673                        32  40406.269531  \n76      46420149185                        25  38347.062500  \n77      39211635100                        23  38053.503906  \n78      37096670047                        23  35787.246094  \n79      36200887275                        22  35615.871094  \n80      31207279719                        17  35698.296875  \n81      36664034054                        21  31676.693359  \n82      52809038594                        33  32505.660156  \n83      58964353058                        46  33723.027344  \n84      46317108925                        32  34662.437500  \n85      33123368116                        26  31637.779297  \n86      40230904226                        24  32186.277344  \n87      38585385521                        22  34649.644531  \n88      35511640894                        22  34434.335938  \n89      33892523752                        25  35867.777344  \n90      37901460044                        22  35040.835938  ",
      "text/html": "<div>\n<style scoped>\n    .dataframe tbody tr th:only-of-type {\n        vertical-align: middle;\n    }\n\n    .dataframe tbody tr th {\n        vertical-align: top;\n    }\n\n    .dataframe thead th {\n        text-align: right;\n    }\n</style>\n<table border=\"1\" class=\"dataframe\">\n  <thead>\n    <tr style=\"text-align: right;\">\n      <th></th>\n      <th>Previous_Open</th>\n      <th>Previous_High</th>\n      <th>Previous_Low</th>\n      <th>Previous_Close</th>\n      <th>Previous_Volume</th>\n      <th>Previous_Search_Interest</th>\n      <th>Close</th>\n    </tr>\n  </thead>\n  <tbody>\n    <tr>\n      <th>0</th>\n      <td>58930.277344</td>\n      <td>59930.027344</td>\n      <td>57726.417969</td>\n      <td>58918.832031</td>\n      <td>65520826225</td>\n      <td>29</td>\n      <td>59095.808594</td>\n    </tr>\n    <tr>\n      <th>1</th>\n      <td>58926.562500</td>\n      <td>59586.070313</td>\n      <td>58505.277344</td>\n      <td>59095.808594</td>\n      <td>61669163792</td>\n      <td>41</td>\n      <td>59384.312500</td>\n    </tr>\n    <tr>\n      <th>2</th>\n      <td>59098.878906</td>\n      <td>60267.187500</td>\n      <td>58869.281250</td>\n      <td>59384.312500</td>\n      <td>58727860620</td>\n      <td>29</td>\n      <td>57603.890625</td>\n    </tr>\n    <tr>\n      <th>3</th>\n      <td>59397.410156</td>\n      <td>60110.269531</td>\n      <td>57603.890625</td>\n      <td>57603.890625</td>\n      <td>59641344484</td>\n      <td>22</td>\n      <td>58758.554688</td>\n    </tr>\n    <tr>\n      <th>4</th>\n      <td>57604.839844</td>\n      <td>58913.746094</td>\n      <td>57168.675781</td>\n      <td>58758.554688</td>\n      <td>50749662970</td>\n      <td>22</td>\n      <td>59057.878906</td>\n    </tr>\n    <tr>\n      <th>5</th>\n      <td>58760.875000</td>\n      <td>59891.296875</td>\n      <td>57694.824219</td>\n      <td>59057.878906</td>\n      <td>60706272115</td>\n      <td>23</td>\n      <td>58192.359375</td>\n    </tr>\n    <tr>\n      <th>6</th>\n      <td>59171.933594</td>\n      <td>59479.578125</td>\n      <td>57646.808594</td>\n      <td>58192.359375</td>\n      <td>66058027988</td>\n      <td>24</td>\n      <td>56048.937500</td>\n    </tr>\n    <tr>\n      <th>7</th>\n      <td>58186.507813</td>\n      <td>58731.144531</td>\n      <td>55604.023438</td>\n      <td>56048.937500</td>\n      <td>75645303584</td>\n      <td>23</td>\n      <td>58323.953125</td>\n    </tr>\n    <tr>\n      <th>8</th>\n      <td>56099.914063</td>\n      <td>58338.738281</td>\n      <td>55879.085938</td>\n      <td>58323.953125</td>\n      <td>53053855641</td>\n      <td>24</td>\n      <td>58245.003906</td>\n    </tr>\n    <tr>\n      <th>9</th>\n      <td>58326.562500</td>\n      <td>58937.046875</td>\n      <td>57807.863281</td>\n      <td>58245.003906</td>\n      <td>46655208546</td>\n      <td>22</td>\n      <td>59793.234375</td>\n    </tr>\n    <tr>\n      <th>10</th>\n      <td>58253.777344</td>\n      <td>61276.664063</td>\n      <td>58038.707031</td>\n      <td>59793.234375</td>\n      <td>58238470525</td>\n      <td>26</td>\n      <td>60204.964844</td>\n    </tr>\n    <tr>\n      <th>11</th>\n      <td>59846.230469</td>\n      <td>60790.554688</td>\n      <td>59289.796875</td>\n      <td>60204.964844</td>\n      <td>46280252580</td>\n      <td>24</td>\n      <td>59893.453125</td>\n    </tr>\n    <tr>\n      <th>12</th>\n      <td>60175.945313</td>\n      <td>61253.035156</td>\n      <td>59589.875000</td>\n      <td>59893.453125</td>\n      <td>51828688519</td>\n      <td>25</td>\n      <td>63503.457031</td>\n    </tr>\n    <tr>\n      <th>13</th>\n      <td>59890.019531</td>\n      <td>63742.285156</td>\n      <td>59869.957031</td>\n      <td>63503.457031</td>\n      <td>69983454362</td>\n      <td>36</td>\n      <td>63109.695313</td>\n    </tr>\n    <tr>\n      <th>14</th>\n      <td>63523.753906</td>\n      <td>64863.097656</td>\n      <td>61554.796875</td>\n      <td>63109.695313</td>\n      <td>77451779687</td>\n      <td>42</td>\n      <td>63314.011719</td>\n    </tr>\n    <tr>\n      <th>15</th>\n      <td>63075.195313</td>\n      <td>63821.671875</td>\n      <td>62208.964844</td>\n      <td>63314.011719</td>\n      <td>60954381579</td>\n      <td>35</td>\n      <td>61572.789063</td>\n    </tr>\n    <tr>\n      <th>16</th>\n      <td>63258.503906</td>\n      <td>63594.722656</td>\n      <td>60222.531250</td>\n      <td>61572.789063</td>\n      <td>84293007468</td>\n      <td>44</td>\n      <td>60683.820313</td>\n    </tr>\n    <tr>\n      <th>17</th>\n      <td>61529.921875</td>\n      <td>62572.175781</td>\n      <td>60361.351563</td>\n      <td>60683.820313</td>\n      <td>66138759198</td>\n      <td>32</td>\n      <td>56216.183594</td>\n    </tr>\n    <tr>\n      <th>18</th>\n      <td>60701.886719</td>\n      <td>61057.457031</td>\n      <td>52829.535156</td>\n      <td>56216.183594</td>\n      <td>97468872758</td>\n      <td>51</td>\n      <td>55724.265625</td>\n    </tr>\n    <tr>\n      <th>19</th>\n      <td>56191.585938</td>\n      <td>57520.054688</td>\n      <td>54368.593750</td>\n      <td>55724.265625</td>\n      <td>65344865159</td>\n      <td>44</td>\n      <td>56473.031250</td>\n    </tr>\n    <tr>\n      <th>20</th>\n      <td>55681.792969</td>\n      <td>57062.148438</td>\n      <td>53448.046875</td>\n      <td>56473.031250</td>\n      <td>67849323955</td>\n      <td>39</td>\n      <td>53906.089844</td>\n    </tr>\n    <tr>\n      <th>21</th>\n      <td>56471.128906</td>\n      <td>56757.972656</td>\n      <td>53695.468750</td>\n      <td>53906.089844</td>\n      <td>54926612466</td>\n      <td>32</td>\n      <td>51762.273438</td>\n    </tr>\n    <tr>\n      <th>22</th>\n      <td>53857.105469</td>\n      <td>55410.230469</td>\n      <td>50583.812500</td>\n      <td>51762.273438</td>\n      <td>74798630778</td>\n      <td>34</td>\n      <td>51093.652344</td>\n    </tr>\n    <tr>\n      <th>23</th>\n      <td>51739.808594</td>\n      <td>52120.792969</td>\n      <td>47714.664063</td>\n      <td>51093.652344</td>\n      <td>86668667320</td>\n      <td>54</td>\n      <td>50050.867188</td>\n    </tr>\n    <tr>\n      <th>24</th>\n      <td>51143.226563</td>\n      <td>51167.562500</td>\n      <td>48805.285156</td>\n      <td>50050.867188</td>\n      <td>49014494781</td>\n      <td>37</td>\n      <td>49004.253906</td>\n    </tr>\n    <tr>\n      <th>25</th>\n      <td>50052.832031</td>\n      <td>50506.019531</td>\n      <td>47159.484375</td>\n      <td>49004.253906</td>\n      <td>46117114240</td>\n      <td>30</td>\n      <td>54021.753906</td>\n    </tr>\n    <tr>\n      <th>26</th>\n      <td>49077.792969</td>\n      <td>54288.003906</td>\n      <td>48852.796875</td>\n      <td>54021.753906</td>\n      <td>58284039825</td>\n      <td>35</td>\n      <td>55033.117188</td>\n    </tr>\n    <tr>\n      <th>27</th>\n      <td>54030.304688</td>\n      <td>55416.964844</td>\n      <td>53319.187500</td>\n      <td>55033.117188</td>\n      <td>49448222757</td>\n      <td>32</td>\n      <td>54824.703125</td>\n    </tr>\n    <tr>\n      <th>28</th>\n      <td>55036.636719</td>\n      <td>56227.207031</td>\n      <td>53887.917969</td>\n      <td>54824.703125</td>\n      <td>48000572955</td>\n      <td>32</td>\n      <td>53555.109375</td>\n    </tr>\n    <tr>\n      <th>29</th>\n      <td>54858.089844</td>\n      <td>55115.843750</td>\n      <td>52418.027344</td>\n      <td>53555.109375</td>\n      <td>46088929780</td>\n      <td>26</td>\n      <td>57750.175781</td>\n    </tr>\n    <tr>\n      <th>30</th>\n      <td>53568.664063</td>\n      <td>57900.718750</td>\n      <td>53129.601563</td>\n      <td>57750.175781</td>\n      <td>52395931985</td>\n      <td>26</td>\n      <td>57828.050781</td>\n    </tr>\n    <tr>\n      <th>31</th>\n      <td>57714.664063</td>\n      <td>58448.339844</td>\n      <td>57052.273438</td>\n      <td>57828.050781</td>\n      <td>42836427360</td>\n      <td>25</td>\n      <td>56631.078125</td>\n    </tr>\n    <tr>\n      <th>32</th>\n      <td>57825.863281</td>\n      <td>57902.593750</td>\n      <td>56141.906250</td>\n      <td>56631.078125</td>\n      <td>38177405335</td>\n      <td>23</td>\n      <td>57200.292969</td>\n    </tr>\n    <tr>\n      <th>33</th>\n      <td>56620.273438</td>\n      <td>58973.308594</td>\n      <td>56590.871094</td>\n      <td>57200.292969</td>\n      <td>51713139031</td>\n      <td>25</td>\n      <td>53333.539063</td>\n    </tr>\n    <tr>\n      <th>34</th>\n      <td>57214.179688</td>\n      <td>57214.179688</td>\n      <td>53191.425781</td>\n      <td>53333.539063</td>\n      <td>68564706967</td>\n      <td>30</td>\n      <td>57424.007813</td>\n    </tr>\n    <tr>\n      <th>35</th>\n      <td>53252.164063</td>\n      <td>57911.363281</td>\n      <td>52969.054688</td>\n      <td>57424.007813</td>\n      <td>69241316747</td>\n      <td>31</td>\n      <td>56396.515625</td>\n    </tr>\n    <tr>\n      <th>36</th>\n      <td>57441.308594</td>\n      <td>58363.316406</td>\n      <td>55382.507813</td>\n      <td>56396.515625</td>\n      <td>69523285106</td>\n      <td>29</td>\n      <td>57356.402344</td>\n    </tr>\n    <tr>\n      <th>37</th>\n      <td>56413.953125</td>\n      <td>58606.632813</td>\n      <td>55321.847656</td>\n      <td>57356.402344</td>\n      <td>68434023376</td>\n      <td>26</td>\n      <td>58803.777344</td>\n    </tr>\n    <tr>\n      <th>38</th>\n      <td>57352.765625</td>\n      <td>59464.613281</td>\n      <td>56975.210938</td>\n      <td>58803.777344</td>\n      <td>65382980634</td>\n      <td>29</td>\n      <td>58232.316406</td>\n    </tr>\n    <tr>\n      <th>39</th>\n      <td>58877.390625</td>\n      <td>59210.882813</td>\n      <td>56482.003906</td>\n      <td>58232.316406</td>\n      <td>65906690347</td>\n      <td>28</td>\n      <td>55859.796875</td>\n    </tr>\n    <tr>\n      <th>40</th>\n      <td>58250.871094</td>\n      <td>59519.355469</td>\n      <td>54071.457031</td>\n      <td>55859.796875</td>\n      <td>71776546298</td>\n      <td>32</td>\n      <td>56704.574219</td>\n    </tr>\n    <tr>\n      <th>41</th>\n      <td>55847.242188</td>\n      <td>56872.542969</td>\n      <td>54608.652344</td>\n      <td>56704.574219</td>\n      <td>61308396325</td>\n      <td>30</td>\n      <td>49150.535156</td>\n    </tr>\n    <tr>\n      <th>42</th>\n      <td>56714.531250</td>\n      <td>57939.363281</td>\n      <td>49150.535156</td>\n      <td>49150.535156</td>\n      <td>75215403907</td>\n      <td>33</td>\n      <td>49716.191406</td>\n    </tr>\n    <tr>\n      <th>43</th>\n      <td>49735.433594</td>\n      <td>51330.843750</td>\n      <td>46980.019531</td>\n      <td>49716.191406</td>\n      <td>96721152926</td>\n      <td>74</td>\n      <td>49880.535156</td>\n    </tr>\n    <tr>\n      <th>44</th>\n      <td>49682.980469</td>\n      <td>51438.117188</td>\n      <td>48868.578125</td>\n      <td>49880.535156</td>\n      <td>55737497453</td>\n      <td>38</td>\n      <td>46760.187500</td>\n    </tr>\n    <tr>\n      <th>45</th>\n      <td>49855.496094</td>\n      <td>50639.664063</td>\n      <td>46664.140625</td>\n      <td>46760.187500</td>\n      <td>59161047474</td>\n      <td>31</td>\n      <td>46456.058594</td>\n    </tr>\n    <tr>\n      <th>46</th>\n      <td>46716.636719</td>\n      <td>49720.042969</td>\n      <td>43963.351563</td>\n      <td>46456.058594</td>\n      <td>64047871555</td>\n      <td>35</td>\n      <td>43537.511719</td>\n    </tr>\n    <tr>\n      <th>47</th>\n      <td>46415.898438</td>\n      <td>46623.558594</td>\n      <td>42207.289063</td>\n      <td>43537.511719</td>\n      <td>74903638450</td>\n      <td>53</td>\n      <td>42909.402344</td>\n    </tr>\n    <tr>\n      <th>48</th>\n      <td>43488.058594</td>\n      <td>45812.457031</td>\n      <td>42367.832031</td>\n      <td>42909.402344</td>\n      <td>56187365084</td>\n      <td>40</td>\n      <td>37002.441406</td>\n    </tr>\n    <tr>\n      <th>49</th>\n      <td>42944.976563</td>\n      <td>43546.117188</td>\n      <td>30681.496094</td>\n      <td>37002.441406</td>\n      <td>126358098747</td>\n      <td>100</td>\n      <td>40782.738281</td>\n    </tr>\n    <tr>\n      <th>50</th>\n      <td>36753.667969</td>\n      <td>42462.984375</td>\n      <td>35050.617188</td>\n      <td>40782.738281</td>\n      <td>88281943359</td>\n      <td>66</td>\n      <td>37304.691406</td>\n    </tr>\n    <tr>\n      <th>51</th>\n      <td>40596.949219</td>\n      <td>42172.171875</td>\n      <td>33616.453125</td>\n      <td>37304.691406</td>\n      <td>82051616861</td>\n      <td>53</td>\n      <td>37536.632813</td>\n    </tr>\n    <tr>\n      <th>52</th>\n      <td>37371.031250</td>\n      <td>38831.054688</td>\n      <td>35383.683594</td>\n      <td>37536.632813</td>\n      <td>57377273240</td>\n      <td>46</td>\n      <td>34770.582031</td>\n    </tr>\n    <tr>\n      <th>53</th>\n      <td>37531.449219</td>\n      <td>38289.218750</td>\n      <td>31227.339844</td>\n      <td>34770.582031</td>\n      <td>78469274361</td>\n      <td>55</td>\n      <td>38705.980469</td>\n    </tr>\n    <tr>\n      <th>54</th>\n      <td>34700.363281</td>\n      <td>39835.140625</td>\n      <td>34551.082031</td>\n      <td>38705.980469</td>\n      <td>67359584098</td>\n      <td>54</td>\n      <td>38402.222656</td>\n    </tr>\n    <tr>\n      <th>55</th>\n      <td>38795.781250</td>\n      <td>39776.351563</td>\n      <td>36581.429688</td>\n      <td>38402.222656</td>\n      <td>56211915803</td>\n      <td>42</td>\n      <td>39294.199219</td>\n    </tr>\n    <tr>\n      <th>56</th>\n      <td>38392.625000</td>\n      <td>40782.078125</td>\n      <td>37905.835938</td>\n      <td>39294.199219</td>\n      <td>51346735160</td>\n      <td>34</td>\n      <td>38436.968750</td>\n    </tr>\n    <tr>\n      <th>57</th>\n      <td>39316.890625</td>\n      <td>40379.617188</td>\n      <td>37247.902344</td>\n      <td>38436.968750</td>\n      <td>43210968721</td>\n      <td>28</td>\n      <td>35697.605469</td>\n    </tr>\n    <tr>\n      <th>58</th>\n      <td>38507.082031</td>\n      <td>38856.968750</td>\n      <td>34779.039063</td>\n      <td>35697.605469</td>\n      <td>55200191952</td>\n      <td>33</td>\n      <td>34616.066406</td>\n    </tr>\n    <tr>\n      <th>59</th>\n      <td>35684.156250</td>\n      <td>37234.500000</td>\n      <td>33693.929688</td>\n      <td>34616.066406</td>\n      <td>45231013335</td>\n      <td>29</td>\n      <td>35678.128906</td>\n    </tr>\n    <tr>\n      <th>60</th>\n      <td>34607.406250</td>\n      <td>36400.667969</td>\n      <td>33520.738281</td>\n      <td>35678.128906</td>\n      <td>31646080921</td>\n      <td>29</td>\n      <td>37332.855469</td>\n    </tr>\n    <tr>\n      <th>61</th>\n      <td>35658.593750</td>\n      <td>37468.250000</td>\n      <td>34241.945313</td>\n      <td>37332.855469</td>\n      <td>39009847639</td>\n      <td>28</td>\n      <td>36684.925781</td>\n    </tr>\n    <tr>\n      <th>62</th>\n      <td>37293.792969</td>\n      <td>37896.734375</td>\n      <td>35787.085938</td>\n      <td>36684.925781</td>\n      <td>34639423297</td>\n      <td>29</td>\n      <td>37575.179688</td>\n    </tr>\n    <tr>\n      <th>63</th>\n      <td>36699.921875</td>\n      <td>38231.339844</td>\n      <td>35966.308594</td>\n      <td>37575.179688</td>\n      <td>33070867190</td>\n      <td>27</td>\n      <td>39208.765625</td>\n    </tr>\n    <tr>\n      <th>64</th>\n      <td>37599.410156</td>\n      <td>39478.953125</td>\n      <td>37243.972656</td>\n      <td>39208.765625</td>\n      <td>35460750427</td>\n      <td>24</td>\n      <td>36894.406250</td>\n    </tr>\n    <tr>\n      <th>65</th>\n      <td>39242.484375</td>\n      <td>39242.484375</td>\n      <td>35717.722656</td>\n      <td>36894.406250</td>\n      <td>41831090187</td>\n      <td>29</td>\n      <td>35551.957031</td>\n    </tr>\n    <tr>\n      <th>66</th>\n      <td>36880.156250</td>\n      <td>37917.714844</td>\n      <td>34900.414063</td>\n      <td>35551.957031</td>\n      <td>35959473399</td>\n      <td>29</td>\n      <td>35862.378906</td>\n    </tr>\n    <tr>\n      <th>67</th>\n      <td>35538.609375</td>\n      <td>36436.421875</td>\n      <td>35304.578125</td>\n      <td>35862.378906</td>\n      <td>28913440585</td>\n      <td>29</td>\n      <td>33560.707031</td>\n    </tr>\n    <tr>\n      <th>68</th>\n      <td>35835.265625</td>\n      <td>36790.570313</td>\n      <td>33480.640625</td>\n      <td>33560.707031</td>\n      <td>33683936663</td>\n      <td>28</td>\n      <td>33472.632813</td>\n    </tr>\n    <tr>\n      <th>69</th>\n      <td>33589.519531</td>\n      <td>34017.386719</td>\n      <td>31114.443359</td>\n      <td>33472.632813</td>\n      <td>49902050442</td>\n      <td>41</td>\n      <td>37345.121094</td>\n    </tr>\n    <tr>\n      <th>70</th>\n      <td>33416.976563</td>\n      <td>37537.371094</td>\n      <td>32475.865234</td>\n      <td>37345.121094</td>\n      <td>53972919008</td>\n      <td>38</td>\n      <td>36702.597656</td>\n    </tr>\n    <tr>\n      <th>71</th>\n      <td>37389.515625</td>\n      <td>38334.324219</td>\n      <td>35847.593750</td>\n      <td>36702.597656</td>\n      <td>43576032854</td>\n      <td>33</td>\n      <td>37334.398438</td>\n    </tr>\n    <tr>\n      <th>72</th>\n      <td>36697.031250</td>\n      <td>37608.695313</td>\n      <td>36044.449219</td>\n      <td>37334.398438</td>\n      <td>38699736985</td>\n      <td>28</td>\n      <td>35552.515625</td>\n    </tr>\n    <tr>\n      <th>73</th>\n      <td>37340.144531</td>\n      <td>37408.925781</td>\n      <td>34728.191406</td>\n      <td>35552.515625</td>\n      <td>37924228550</td>\n      <td>23</td>\n      <td>39097.859375</td>\n    </tr>\n    <tr>\n      <th>74</th>\n      <td>35555.789063</td>\n      <td>39322.781250</td>\n      <td>34864.109375</td>\n      <td>39097.859375</td>\n      <td>40669112838</td>\n      <td>25</td>\n      <td>40218.476563</td>\n    </tr>\n    <tr>\n      <th>75</th>\n      <td>39016.968750</td>\n      <td>40978.363281</td>\n      <td>38757.285156</td>\n      <td>40218.476563</td>\n      <td>43148914673</td>\n      <td>32</td>\n      <td>40406.269531</td>\n    </tr>\n    <tr>\n      <th>76</th>\n      <td>40427.167969</td>\n      <td>41295.269531</td>\n      <td>39609.468750</td>\n      <td>40406.269531</td>\n      <td>46420149185</td>\n      <td>25</td>\n      <td>38347.062500</td>\n    </tr>\n    <tr>\n      <th>77</th>\n      <td>40168.691406</td>\n      <td>40516.777344</td>\n      <td>38176.035156</td>\n      <td>38347.062500</td>\n      <td>39211635100</td>\n      <td>23</td>\n      <td>38053.503906</td>\n    </tr>\n    <tr>\n      <th>78</th>\n      <td>38341.421875</td>\n      <td>39513.671875</td>\n      <td>37439.675781</td>\n      <td>38053.503906</td>\n      <td>37096670047</td>\n      <td>23</td>\n      <td>35787.246094</td>\n    </tr>\n    <tr>\n      <th>79</th>\n      <td>38099.476563</td>\n      <td>38187.261719</td>\n      <td>35255.855469</td>\n      <td>35787.246094</td>\n      <td>36200887275</td>\n      <td>22</td>\n      <td>35615.871094</td>\n    </tr>\n    <tr>\n      <th>80</th>\n      <td>35854.527344</td>\n      <td>36457.796875</td>\n      <td>34933.062500</td>\n      <td>35615.871094</td>\n      <td>31207279719</td>\n      <td>17</td>\n      <td>35698.296875</td>\n    </tr>\n    <tr>\n      <th>81</th>\n      <td>35563.140625</td>\n      <td>36059.484375</td>\n      <td>33432.074219</td>\n      <td>35698.296875</td>\n      <td>36664034054</td>\n      <td>21</td>\n      <td>31676.693359</td>\n    </tr>\n    <tr>\n      <th>82</th>\n      <td>35641.144531</td>\n      <td>35721.640625</td>\n      <td>31295.935547</td>\n      <td>31676.693359</td>\n      <td>52809038594</td>\n      <td>33</td>\n      <td>32505.660156</td>\n    </tr>\n    <tr>\n      <th>83</th>\n      <td>31622.376953</td>\n      <td>33292.453125</td>\n      <td>28893.621094</td>\n      <td>32505.660156</td>\n      <td>58964353058</td>\n      <td>46</td>\n      <td>33723.027344</td>\n    </tr>\n    <tr>\n      <th>84</th>\n      <td>32515.714844</td>\n      <td>34753.410156</td>\n      <td>31772.632813</td>\n      <td>33723.027344</td>\n      <td>46317108925</td>\n      <td>32</td>\n      <td>34662.437500</td>\n    </tr>\n    <tr>\n      <th>85</th>\n      <td>33682.800781</td>\n      <td>35228.851563</td>\n      <td>32385.214844</td>\n      <td>34662.437500</td>\n      <td>33123368116</td>\n      <td>26</td>\n      <td>31637.779297</td>\n    </tr>\n    <tr>\n      <th>86</th>\n      <td>34659.105469</td>\n      <td>35487.246094</td>\n      <td>31350.884766</td>\n      <td>31637.779297</td>\n      <td>40230904226</td>\n      <td>24</td>\n      <td>32186.277344</td>\n    </tr>\n    <tr>\n      <th>87</th>\n      <td>31594.664063</td>\n      <td>32637.587891</td>\n      <td>30184.501953</td>\n      <td>32186.277344</td>\n      <td>38585385521</td>\n      <td>22</td>\n      <td>34649.644531</td>\n    </tr>\n    <tr>\n      <th>88</th>\n      <td>32287.523438</td>\n      <td>34656.128906</td>\n      <td>32071.757813</td>\n      <td>34649.644531</td>\n      <td>35511640894</td>\n      <td>22</td>\n      <td>34434.335938</td>\n    </tr>\n    <tr>\n      <th>89</th>\n      <td>34679.121094</td>\n      <td>35219.890625</td>\n      <td>33902.074219</td>\n      <td>34434.335938</td>\n      <td>33892523752</td>\n      <td>25</td>\n      <td>35867.777344</td>\n    </tr>\n    <tr>\n      <th>90</th>\n      <td>34475.558594</td>\n      <td>36542.109375</td>\n      <td>34252.484375</td>\n      <td>35867.777344</td>\n      <td>37901460044</td>\n      <td>22</td>\n      <td>35040.835938</td>\n    </tr>\n  </tbody>\n</table>\n</div>"
     },
     "execution_count": 561,
     "metadata": {},
     "output_type": "execute_result"
    }
   ],
   "source": [
    "#columns = [\"Open\", \"High\", \"Low\", \"Close\", \"Search Interest\", \"Interest Points Away From Mean\", \"Price Increase Points\", \"Price Increase\"]\n",
    "columns = [\"Previous_Open\", \"Previous_High\", \"Previous_Low\", \"Previous_Close\", \"Previous_Volume\", \"Previous_Search_Interest\", \"Close\"]\n",
    "mergedStockPrice = mergedStockPrice[columns]\n",
    "mergedStockPrice"
   ],
   "metadata": {
    "collapsed": false,
    "pycharm": {
     "name": "#%%\n"
    }
   }
  },
  {
   "cell_type": "code",
   "execution_count": 562,
   "outputs": [],
   "source": [
    "features = list(mergedStockPrice.columns)\n",
    "features.remove(\"Close\")\n",
    "target = \"Close\"\n",
    "\n",
    "X = mergedStockPrice[features]\n",
    "y = mergedStockPrice[target]"
   ],
   "metadata": {
    "collapsed": false,
    "pycharm": {
     "name": "#%%\n"
    }
   }
  },
  {
   "cell_type": "code",
   "execution_count": 563,
   "outputs": [],
   "source": [
    "X_train, X_test, y_train, y_test = train_test_split(X, y, test_size=0.25, random_state=1)"
   ],
   "metadata": {
    "collapsed": false,
    "pycharm": {
     "name": "#%%\n"
    }
   }
  },
  {
   "cell_type": "code",
   "execution_count": 564,
   "outputs": [
    {
     "data": {
      "text/plain": "LinearRegression()"
     },
     "execution_count": 564,
     "metadata": {},
     "output_type": "execute_result"
    }
   ],
   "source": [
    "lr = LinearRegression()\n",
    "lr"
   ],
   "metadata": {
    "collapsed": false,
    "pycharm": {
     "name": "#%%\n"
    }
   }
  },
  {
   "cell_type": "code",
   "execution_count": 565,
   "outputs": [
    {
     "data": {
      "text/plain": "LinearRegression()"
     },
     "execution_count": 565,
     "metadata": {},
     "output_type": "execute_result"
    }
   ],
   "source": [
    "lr.fit(X_train, y_train)"
   ],
   "metadata": {
    "collapsed": false,
    "pycharm": {
     "name": "#%%\n"
    }
   }
  },
  {
   "cell_type": "code",
   "execution_count": 566,
   "outputs": [
    {
     "data": {
      "text/plain": "0.9600860921909471"
     },
     "execution_count": 566,
     "metadata": {},
     "output_type": "execute_result"
    }
   ],
   "source": [
    "lr.score(X_train, y_train)"
   ],
   "metadata": {
    "collapsed": false,
    "pycharm": {
     "name": "#%%\n"
    }
   }
  },
  {
   "cell_type": "code",
   "execution_count": 567,
   "outputs": [
    {
     "data": {
      "text/plain": "0.9614613962909508"
     },
     "execution_count": 567,
     "metadata": {},
     "output_type": "execute_result"
    }
   ],
   "source": [
    "lr.score(X_test, y_test)"
   ],
   "metadata": {
    "collapsed": false,
    "pycharm": {
     "name": "#%%\n"
    }
   }
  },
  {
   "cell_type": "code",
   "execution_count": 568,
   "outputs": [],
   "source": [
    "\n",
    "def printMetrics(test, predictions):\n",
    "    print(f\"Score: {explained_variance_score(test, predictions):.2f}\")\n",
    "    print(f\"MAE: {mean_absolute_error(test, predictions):.2f}\")\n",
    "    print(f\"RMSE: {math.sqrt(mean_squared_error(test, predictions)):.2f}\")\n",
    "    print(f\"r2: {r2_score(test, predictions):.2f}\")"
   ],
   "metadata": {
    "collapsed": false,
    "pycharm": {
     "name": "#%%\n"
    }
   }
  },
  {
   "cell_type": "code",
   "execution_count": 569,
   "outputs": [
    {
     "name": "stdout",
     "output_type": "stream",
     "text": [
      "Score: 0.96\n",
      "MAE: 1573.91\n",
      "RMSE: 1988.37\n",
      "r2: 0.96\n"
     ]
    }
   ],
   "source": [
    "predictions = lr.predict(X_test)\n",
    "printMetrics(y_test, predictions)"
   ],
   "metadata": {
    "collapsed": false,
    "pycharm": {
     "name": "#%%\n"
    }
   }
  },
  {
   "cell_type": "code",
   "execution_count": 570,
   "outputs": [
    {
     "data": {
      "text/plain": "[{'Previous_Open': 22546,\n  'Previous_High': 30235,\n  'Previous_Low': 57402,\n  'Previous_Close': 40003,\n  'Previous_Volume': 73762452307,\n  'Previous_Search_Interest': 88},\n {'Previous_Open': 52291,\n  'Previous_High': 52291,\n  'Previous_Low': 27932,\n  'Previous_Close': 3989,\n  'Previous_Volume': 12711220807,\n  'Previous_Search_Interest': 49},\n {'Previous_Open': 56616,\n  'Previous_High': 6447,\n  'Previous_Low': 47647,\n  'Previous_Close': 39086,\n  'Previous_Volume': 23145546886,\n  'Previous_Search_Interest': 27}]"
     },
     "execution_count": 570,
     "metadata": {},
     "output_type": "execute_result"
    }
   ],
   "source": [
    "numElements = 3\n",
    "samplePrice = []\n",
    "for _ in range(numElements):\n",
    "    dict = {}\n",
    "    for column in X.columns:\n",
    "        min = 0  # We'll always allow at lea\n",
    "        maxValue = round(max(mergedStockPrice[column].values))\n",
    "        dict[column] = rnd.randint(min, maxValue)\n",
    "    samplePrice.append(dict)\n",
    "samplePrice\n"
   ],
   "metadata": {
    "collapsed": false,
    "pycharm": {
     "name": "#%%\n"
    }
   }
  },
  {
   "cell_type": "code",
   "execution_count": 571,
   "outputs": [
    {
     "data": {
      "text/plain": "   Previous_Open  Previous_High  Previous_Low  Previous_Close  \\\n0          22546          30235         57402           40003   \n1          52291          52291         27932            3989   \n2          56616           6447         47647           39086   \n\n   Previous_Volume  Previous_Search_Interest  \n0      73762452307                        88  \n1      12711220807                        49  \n2      23145546886                        27  ",
      "text/html": "<div>\n<style scoped>\n    .dataframe tbody tr th:only-of-type {\n        vertical-align: middle;\n    }\n\n    .dataframe tbody tr th {\n        vertical-align: top;\n    }\n\n    .dataframe thead th {\n        text-align: right;\n    }\n</style>\n<table border=\"1\" class=\"dataframe\">\n  <thead>\n    <tr style=\"text-align: right;\">\n      <th></th>\n      <th>Previous_Open</th>\n      <th>Previous_High</th>\n      <th>Previous_Low</th>\n      <th>Previous_Close</th>\n      <th>Previous_Volume</th>\n      <th>Previous_Search_Interest</th>\n    </tr>\n  </thead>\n  <tbody>\n    <tr>\n      <th>0</th>\n      <td>22546</td>\n      <td>30235</td>\n      <td>57402</td>\n      <td>40003</td>\n      <td>73762452307</td>\n      <td>88</td>\n    </tr>\n    <tr>\n      <th>1</th>\n      <td>52291</td>\n      <td>52291</td>\n      <td>27932</td>\n      <td>3989</td>\n      <td>12711220807</td>\n      <td>49</td>\n    </tr>\n    <tr>\n      <th>2</th>\n      <td>56616</td>\n      <td>6447</td>\n      <td>47647</td>\n      <td>39086</td>\n      <td>23145546886</td>\n      <td>27</td>\n    </tr>\n  </tbody>\n</table>\n</div>"
     },
     "execution_count": 571,
     "metadata": {},
     "output_type": "execute_result"
    }
   ],
   "source": [
    "pdSamplePrice = pd.DataFrame.from_dict(samplePrice)\n",
    "pdSamplePrice\n"
   ],
   "metadata": {
    "collapsed": false,
    "pycharm": {
     "name": "#%%\n"
    }
   }
  },
  {
   "cell_type": "code",
   "execution_count": 572,
   "outputs": [
    {
     "data": {
      "text/plain": "array([ 8182.24471276,  8411.19921464, 42528.14081048])"
     },
     "execution_count": 572,
     "metadata": {},
     "output_type": "execute_result"
    }
   ],
   "source": [
    "predictions = lr.predict(pdSamplePrice)\n",
    "predictions\n",
    "\n"
   ],
   "metadata": {
    "collapsed": false,
    "pycharm": {
     "name": "#%%\n"
    }
   }
  },
  {
   "cell_type": "code",
   "execution_count": 573,
   "outputs": [
    {
     "data": {
      "text/plain": "   Previous_Open  Previous_High  Previous_Low  Previous_Close  \\\n0          22546          30235         57402           40003   \n1          52291          52291         27932            3989   \n2          56616           6447         47647           39086   \n\n   Previous_Volume  Previous_Search_Interest     Predicted  \n0      73762452307                        88   8182.244713  \n1      12711220807                        49   8411.199215  \n2      23145546886                        27  42528.140810  ",
      "text/html": "<div>\n<style scoped>\n    .dataframe tbody tr th:only-of-type {\n        vertical-align: middle;\n    }\n\n    .dataframe tbody tr th {\n        vertical-align: top;\n    }\n\n    .dataframe thead th {\n        text-align: right;\n    }\n</style>\n<table border=\"1\" class=\"dataframe\">\n  <thead>\n    <tr style=\"text-align: right;\">\n      <th></th>\n      <th>Previous_Open</th>\n      <th>Previous_High</th>\n      <th>Previous_Low</th>\n      <th>Previous_Close</th>\n      <th>Previous_Volume</th>\n      <th>Previous_Search_Interest</th>\n      <th>Predicted</th>\n    </tr>\n  </thead>\n  <tbody>\n    <tr>\n      <th>0</th>\n      <td>22546</td>\n      <td>30235</td>\n      <td>57402</td>\n      <td>40003</td>\n      <td>73762452307</td>\n      <td>88</td>\n      <td>8182.244713</td>\n    </tr>\n    <tr>\n      <th>1</th>\n      <td>52291</td>\n      <td>52291</td>\n      <td>27932</td>\n      <td>3989</td>\n      <td>12711220807</td>\n      <td>49</td>\n      <td>8411.199215</td>\n    </tr>\n    <tr>\n      <th>2</th>\n      <td>56616</td>\n      <td>6447</td>\n      <td>47647</td>\n      <td>39086</td>\n      <td>23145546886</td>\n      <td>27</td>\n      <td>42528.140810</td>\n    </tr>\n  </tbody>\n</table>\n</div>"
     },
     "execution_count": 573,
     "metadata": {},
     "output_type": "execute_result"
    }
   ],
   "source": [
    "pdSamplePrice = pdSamplePrice.copy()\n",
    "pdSamplePrice['Predicted'] = predictions\n",
    "pdSamplePrice\n",
    "\n"
   ],
   "metadata": {
    "collapsed": false,
    "pycharm": {
     "name": "#%%\n"
    }
   }
  },
  {
   "cell_type": "markdown",
   "source": [
    "# Logarithmic Regression"
   ],
   "metadata": {
    "collapsed": false
   }
  },
  {
   "cell_type": "code",
   "execution_count": 574,
   "outputs": [],
   "source": [
    "def printClassificationMetrics(test, predictions):\n",
    "    print(\"Confusion Matrix:\")\n",
    "    print(confusion_matrix(test, predictions))\n",
    "    print(\"------------------\")\n",
    "    print(f\"Accuracy: {accuracy_score(test, predictions):.2f}\")\n",
    "    print(f\"Recall: {recall_score(test, predictions):.2f}\")\n",
    "    print(f\"Prediction: {precision_score(test, predictions):.2f}\")\n",
    "    print(f\"f-measure: {fbeta_score(test, predictions, beta=1):.2f}\")\n",
    "    print(\"------------------\")\n",
    "    print(classification_report(test, predictions))"
   ],
   "metadata": {
    "collapsed": false,
    "pycharm": {
     "name": "#%%\n"
    }
   }
  },
  {
   "cell_type": "code",
   "execution_count": 575,
   "outputs": [
    {
     "name": "stderr",
     "output_type": "stream",
     "text": [
      "<ipython-input-575-9b70bc6d34be>:3: SettingWithCopyWarning:\n",
      "\n",
      "\n",
      "A value is trying to be set on a copy of a slice from a DataFrame.\n",
      "Try using .loc[row_indexer,col_indexer] = value instead\n",
      "\n",
      "See the caveats in the documentation: https://pandas.pydata.org/pandas-docs/stable/user_guide/indexing.html#returning-a-view-versus-a-copy\n",
      "\n",
      "<ipython-input-575-9b70bc6d34be>:4: SettingWithCopyWarning:\n",
      "\n",
      "\n",
      "A value is trying to be set on a copy of a slice from a DataFrame.\n",
      "Try using .loc[row_indexer,col_indexer] = value instead\n",
      "\n",
      "See the caveats in the documentation: https://pandas.pydata.org/pandas-docs/stable/user_guide/indexing.html#returning-a-view-versus-a-copy\n",
      "\n"
     ]
    },
    {
     "data": {
      "text/plain": "    Previous_Open  Previous_High  Previous_Low  Previous_Close  \\\n0    58930.277344   59930.027344  57726.417969    58918.832031   \n1    58926.562500   59586.070313  58505.277344    59095.808594   \n2    59098.878906   60267.187500  58869.281250    59384.312500   \n3    59397.410156   60110.269531  57603.890625    57603.890625   \n4    57604.839844   58913.746094  57168.675781    58758.554688   \n5    58760.875000   59891.296875  57694.824219    59057.878906   \n6    59171.933594   59479.578125  57646.808594    58192.359375   \n7    58186.507813   58731.144531  55604.023438    56048.937500   \n8    56099.914063   58338.738281  55879.085938    58323.953125   \n9    58326.562500   58937.046875  57807.863281    58245.003906   \n10   58253.777344   61276.664063  58038.707031    59793.234375   \n11   59846.230469   60790.554688  59289.796875    60204.964844   \n12   60175.945313   61253.035156  59589.875000    59893.453125   \n13   59890.019531   63742.285156  59869.957031    63503.457031   \n14   63523.753906   64863.097656  61554.796875    63109.695313   \n15   63075.195313   63821.671875  62208.964844    63314.011719   \n16   63258.503906   63594.722656  60222.531250    61572.789063   \n17   61529.921875   62572.175781  60361.351563    60683.820313   \n18   60701.886719   61057.457031  52829.535156    56216.183594   \n19   56191.585938   57520.054688  54368.593750    55724.265625   \n20   55681.792969   57062.148438  53448.046875    56473.031250   \n21   56471.128906   56757.972656  53695.468750    53906.089844   \n22   53857.105469   55410.230469  50583.812500    51762.273438   \n23   51739.808594   52120.792969  47714.664063    51093.652344   \n24   51143.226563   51167.562500  48805.285156    50050.867188   \n25   50052.832031   50506.019531  47159.484375    49004.253906   \n26   49077.792969   54288.003906  48852.796875    54021.753906   \n27   54030.304688   55416.964844  53319.187500    55033.117188   \n28   55036.636719   56227.207031  53887.917969    54824.703125   \n29   54858.089844   55115.843750  52418.027344    53555.109375   \n30   53568.664063   57900.718750  53129.601563    57750.175781   \n31   57714.664063   58448.339844  57052.273438    57828.050781   \n32   57825.863281   57902.593750  56141.906250    56631.078125   \n33   56620.273438   58973.308594  56590.871094    57200.292969   \n34   57214.179688   57214.179688  53191.425781    53333.539063   \n35   53252.164063   57911.363281  52969.054688    57424.007813   \n36   57441.308594   58363.316406  55382.507813    56396.515625   \n37   56413.953125   58606.632813  55321.847656    57356.402344   \n38   57352.765625   59464.613281  56975.210938    58803.777344   \n39   58877.390625   59210.882813  56482.003906    58232.316406   \n40   58250.871094   59519.355469  54071.457031    55859.796875   \n41   55847.242188   56872.542969  54608.652344    56704.574219   \n42   56714.531250   57939.363281  49150.535156    49150.535156   \n43   49735.433594   51330.843750  46980.019531    49716.191406   \n44   49682.980469   51438.117188  48868.578125    49880.535156   \n45   49855.496094   50639.664063  46664.140625    46760.187500   \n46   46716.636719   49720.042969  43963.351563    46456.058594   \n47   46415.898438   46623.558594  42207.289063    43537.511719   \n48   43488.058594   45812.457031  42367.832031    42909.402344   \n49   42944.976563   43546.117188  30681.496094    37002.441406   \n50   36753.667969   42462.984375  35050.617188    40782.738281   \n51   40596.949219   42172.171875  33616.453125    37304.691406   \n52   37371.031250   38831.054688  35383.683594    37536.632813   \n53   37531.449219   38289.218750  31227.339844    34770.582031   \n54   34700.363281   39835.140625  34551.082031    38705.980469   \n55   38795.781250   39776.351563  36581.429688    38402.222656   \n56   38392.625000   40782.078125  37905.835938    39294.199219   \n57   39316.890625   40379.617188  37247.902344    38436.968750   \n58   38507.082031   38856.968750  34779.039063    35697.605469   \n59   35684.156250   37234.500000  33693.929688    34616.066406   \n60   34607.406250   36400.667969  33520.738281    35678.128906   \n61   35658.593750   37468.250000  34241.945313    37332.855469   \n62   37293.792969   37896.734375  35787.085938    36684.925781   \n63   36699.921875   38231.339844  35966.308594    37575.179688   \n64   37599.410156   39478.953125  37243.972656    39208.765625   \n65   39242.484375   39242.484375  35717.722656    36894.406250   \n66   36880.156250   37917.714844  34900.414063    35551.957031   \n67   35538.609375   36436.421875  35304.578125    35862.378906   \n68   35835.265625   36790.570313  33480.640625    33560.707031   \n69   33589.519531   34017.386719  31114.443359    33472.632813   \n70   33416.976563   37537.371094  32475.865234    37345.121094   \n71   37389.515625   38334.324219  35847.593750    36702.597656   \n72   36697.031250   37608.695313  36044.449219    37334.398438   \n73   37340.144531   37408.925781  34728.191406    35552.515625   \n74   35555.789063   39322.781250  34864.109375    39097.859375   \n75   39016.968750   40978.363281  38757.285156    40218.476563   \n76   40427.167969   41295.269531  39609.468750    40406.269531   \n77   40168.691406   40516.777344  38176.035156    38347.062500   \n78   38341.421875   39513.671875  37439.675781    38053.503906   \n79   38099.476563   38187.261719  35255.855469    35787.246094   \n80   35854.527344   36457.796875  34933.062500    35615.871094   \n81   35563.140625   36059.484375  33432.074219    35698.296875   \n82   35641.144531   35721.640625  31295.935547    31676.693359   \n83   31622.376953   33292.453125  28893.621094    32505.660156   \n84   32515.714844   34753.410156  31772.632813    33723.027344   \n85   33682.800781   35228.851563  32385.214844    34662.437500   \n86   34659.105469   35487.246094  31350.884766    31637.779297   \n87   31594.664063   32637.587891  30184.501953    32186.277344   \n88   32287.523438   34656.128906  32071.757813    34649.644531   \n89   34679.121094   35219.890625  33902.074219    34434.335938   \n90   34475.558594   36542.109375  34252.484375    35867.777344   \n\n    Previous_Volume  Previous_Search_Interest         Close  Price_Increase  \n0       65520826225                        29  59095.808594               0  \n1       61669163792                        41  59384.312500               0  \n2       58727860620                        29  57603.890625               1  \n3       59641344484                        22  58758.554688               0  \n4       50749662970                        22  59057.878906               0  \n5       60706272115                        23  58192.359375               1  \n6       66058027988                        24  56048.937500               1  \n7       75645303584                        23  58323.953125               0  \n8       53053855641                        24  58245.003906               1  \n9       46655208546                        22  59793.234375               0  \n10      58238470525                        26  60204.964844               0  \n11      46280252580                        24  59893.453125               1  \n12      51828688519                        25  63503.457031               0  \n13      69983454362                        36  63109.695313               1  \n14      77451779687                        42  63314.011719               0  \n15      60954381579                        35  61572.789063               1  \n16      84293007468                        44  60683.820313               1  \n17      66138759198                        32  56216.183594               1  \n18      97468872758                        51  55724.265625               1  \n19      65344865159                        44  56473.031250               0  \n20      67849323955                        39  53906.089844               1  \n21      54926612466                        32  51762.273438               1  \n22      74798630778                        34  51093.652344               1  \n23      86668667320                        54  50050.867188               1  \n24      49014494781                        37  49004.253906               1  \n25      46117114240                        30  54021.753906               0  \n26      58284039825                        35  55033.117188               0  \n27      49448222757                        32  54824.703125               1  \n28      48000572955                        32  53555.109375               1  \n29      46088929780                        26  57750.175781               0  \n30      52395931985                        26  57828.050781               0  \n31      42836427360                        25  56631.078125               1  \n32      38177405335                        23  57200.292969               0  \n33      51713139031                        25  53333.539063               1  \n34      68564706967                        30  57424.007813               0  \n35      69241316747                        31  56396.515625               1  \n36      69523285106                        29  57356.402344               0  \n37      68434023376                        26  58803.777344               0  \n38      65382980634                        29  58232.316406               1  \n39      65906690347                        28  55859.796875               1  \n40      71776546298                        32  56704.574219               0  \n41      61308396325                        30  49150.535156               1  \n42      75215403907                        33  49716.191406               1  \n43      96721152926                        74  49880.535156               0  \n44      55737497453                        38  46760.187500               1  \n45      59161047474                        31  46456.058594               1  \n46      64047871555                        35  43537.511719               1  \n47      74903638450                        53  42909.402344               1  \n48      56187365084                        40  37002.441406               1  \n49     126358098747                       100  40782.738281               0  \n50      88281943359                        66  37304.691406               1  \n51      82051616861                        53  37536.632813               0  \n52      57377273240                        46  34770.582031               1  \n53      78469274361                        55  38705.980469               0  \n54      67359584098                        54  38402.222656               1  \n55      56211915803                        42  39294.199219               0  \n56      51346735160                        34  38436.968750               1  \n57      43210968721                        28  35697.605469               1  \n58      55200191952                        33  34616.066406               1  \n59      45231013335                        29  35678.128906               0  \n60      31646080921                        29  37332.855469               0  \n61      39009847639                        28  36684.925781               1  \n62      34639423297                        29  37575.179688               0  \n63      33070867190                        27  39208.765625               0  \n64      35460750427                        24  36894.406250               1  \n65      41831090187                        29  35551.957031               1  \n66      35959473399                        29  35862.378906               0  \n67      28913440585                        29  33560.707031               1  \n68      33683936663                        28  33472.632813               1  \n69      49902050442                        41  37345.121094               0  \n70      53972919008                        38  36702.597656               1  \n71      43576032854                        33  37334.398438               0  \n72      38699736985                        28  35552.515625               1  \n73      37924228550                        23  39097.859375               0  \n74      40669112838                        25  40218.476563               0  \n75      43148914673                        32  40406.269531               1  \n76      46420149185                        25  38347.062500               1  \n77      39211635100                        23  38053.503906               1  \n78      37096670047                        23  35787.246094               1  \n79      36200887275                        22  35615.871094               1  \n80      31207279719                        17  35698.296875               0  \n81      36664034054                        21  31676.693359               1  \n82      52809038594                        33  32505.660156               0  \n83      58964353058                        46  33723.027344               0  \n84      46317108925                        32  34662.437500               0  \n85      33123368116                        26  31637.779297               1  \n86      40230904226                        24  32186.277344               0  \n87      38585385521                        22  34649.644531               0  \n88      35511640894                        22  34434.335938               1  \n89      33892523752                        25  35867.777344               0  \n90      37901460044                        22  35040.835938               1  ",
      "text/html": "<div>\n<style scoped>\n    .dataframe tbody tr th:only-of-type {\n        vertical-align: middle;\n    }\n\n    .dataframe tbody tr th {\n        vertical-align: top;\n    }\n\n    .dataframe thead th {\n        text-align: right;\n    }\n</style>\n<table border=\"1\" class=\"dataframe\">\n  <thead>\n    <tr style=\"text-align: right;\">\n      <th></th>\n      <th>Previous_Open</th>\n      <th>Previous_High</th>\n      <th>Previous_Low</th>\n      <th>Previous_Close</th>\n      <th>Previous_Volume</th>\n      <th>Previous_Search_Interest</th>\n      <th>Close</th>\n      <th>Price_Increase</th>\n    </tr>\n  </thead>\n  <tbody>\n    <tr>\n      <th>0</th>\n      <td>58930.277344</td>\n      <td>59930.027344</td>\n      <td>57726.417969</td>\n      <td>58918.832031</td>\n      <td>65520826225</td>\n      <td>29</td>\n      <td>59095.808594</td>\n      <td>0</td>\n    </tr>\n    <tr>\n      <th>1</th>\n      <td>58926.562500</td>\n      <td>59586.070313</td>\n      <td>58505.277344</td>\n      <td>59095.808594</td>\n      <td>61669163792</td>\n      <td>41</td>\n      <td>59384.312500</td>\n      <td>0</td>\n    </tr>\n    <tr>\n      <th>2</th>\n      <td>59098.878906</td>\n      <td>60267.187500</td>\n      <td>58869.281250</td>\n      <td>59384.312500</td>\n      <td>58727860620</td>\n      <td>29</td>\n      <td>57603.890625</td>\n      <td>1</td>\n    </tr>\n    <tr>\n      <th>3</th>\n      <td>59397.410156</td>\n      <td>60110.269531</td>\n      <td>57603.890625</td>\n      <td>57603.890625</td>\n      <td>59641344484</td>\n      <td>22</td>\n      <td>58758.554688</td>\n      <td>0</td>\n    </tr>\n    <tr>\n      <th>4</th>\n      <td>57604.839844</td>\n      <td>58913.746094</td>\n      <td>57168.675781</td>\n      <td>58758.554688</td>\n      <td>50749662970</td>\n      <td>22</td>\n      <td>59057.878906</td>\n      <td>0</td>\n    </tr>\n    <tr>\n      <th>5</th>\n      <td>58760.875000</td>\n      <td>59891.296875</td>\n      <td>57694.824219</td>\n      <td>59057.878906</td>\n      <td>60706272115</td>\n      <td>23</td>\n      <td>58192.359375</td>\n      <td>1</td>\n    </tr>\n    <tr>\n      <th>6</th>\n      <td>59171.933594</td>\n      <td>59479.578125</td>\n      <td>57646.808594</td>\n      <td>58192.359375</td>\n      <td>66058027988</td>\n      <td>24</td>\n      <td>56048.937500</td>\n      <td>1</td>\n    </tr>\n    <tr>\n      <th>7</th>\n      <td>58186.507813</td>\n      <td>58731.144531</td>\n      <td>55604.023438</td>\n      <td>56048.937500</td>\n      <td>75645303584</td>\n      <td>23</td>\n      <td>58323.953125</td>\n      <td>0</td>\n    </tr>\n    <tr>\n      <th>8</th>\n      <td>56099.914063</td>\n      <td>58338.738281</td>\n      <td>55879.085938</td>\n      <td>58323.953125</td>\n      <td>53053855641</td>\n      <td>24</td>\n      <td>58245.003906</td>\n      <td>1</td>\n    </tr>\n    <tr>\n      <th>9</th>\n      <td>58326.562500</td>\n      <td>58937.046875</td>\n      <td>57807.863281</td>\n      <td>58245.003906</td>\n      <td>46655208546</td>\n      <td>22</td>\n      <td>59793.234375</td>\n      <td>0</td>\n    </tr>\n    <tr>\n      <th>10</th>\n      <td>58253.777344</td>\n      <td>61276.664063</td>\n      <td>58038.707031</td>\n      <td>59793.234375</td>\n      <td>58238470525</td>\n      <td>26</td>\n      <td>60204.964844</td>\n      <td>0</td>\n    </tr>\n    <tr>\n      <th>11</th>\n      <td>59846.230469</td>\n      <td>60790.554688</td>\n      <td>59289.796875</td>\n      <td>60204.964844</td>\n      <td>46280252580</td>\n      <td>24</td>\n      <td>59893.453125</td>\n      <td>1</td>\n    </tr>\n    <tr>\n      <th>12</th>\n      <td>60175.945313</td>\n      <td>61253.035156</td>\n      <td>59589.875000</td>\n      <td>59893.453125</td>\n      <td>51828688519</td>\n      <td>25</td>\n      <td>63503.457031</td>\n      <td>0</td>\n    </tr>\n    <tr>\n      <th>13</th>\n      <td>59890.019531</td>\n      <td>63742.285156</td>\n      <td>59869.957031</td>\n      <td>63503.457031</td>\n      <td>69983454362</td>\n      <td>36</td>\n      <td>63109.695313</td>\n      <td>1</td>\n    </tr>\n    <tr>\n      <th>14</th>\n      <td>63523.753906</td>\n      <td>64863.097656</td>\n      <td>61554.796875</td>\n      <td>63109.695313</td>\n      <td>77451779687</td>\n      <td>42</td>\n      <td>63314.011719</td>\n      <td>0</td>\n    </tr>\n    <tr>\n      <th>15</th>\n      <td>63075.195313</td>\n      <td>63821.671875</td>\n      <td>62208.964844</td>\n      <td>63314.011719</td>\n      <td>60954381579</td>\n      <td>35</td>\n      <td>61572.789063</td>\n      <td>1</td>\n    </tr>\n    <tr>\n      <th>16</th>\n      <td>63258.503906</td>\n      <td>63594.722656</td>\n      <td>60222.531250</td>\n      <td>61572.789063</td>\n      <td>84293007468</td>\n      <td>44</td>\n      <td>60683.820313</td>\n      <td>1</td>\n    </tr>\n    <tr>\n      <th>17</th>\n      <td>61529.921875</td>\n      <td>62572.175781</td>\n      <td>60361.351563</td>\n      <td>60683.820313</td>\n      <td>66138759198</td>\n      <td>32</td>\n      <td>56216.183594</td>\n      <td>1</td>\n    </tr>\n    <tr>\n      <th>18</th>\n      <td>60701.886719</td>\n      <td>61057.457031</td>\n      <td>52829.535156</td>\n      <td>56216.183594</td>\n      <td>97468872758</td>\n      <td>51</td>\n      <td>55724.265625</td>\n      <td>1</td>\n    </tr>\n    <tr>\n      <th>19</th>\n      <td>56191.585938</td>\n      <td>57520.054688</td>\n      <td>54368.593750</td>\n      <td>55724.265625</td>\n      <td>65344865159</td>\n      <td>44</td>\n      <td>56473.031250</td>\n      <td>0</td>\n    </tr>\n    <tr>\n      <th>20</th>\n      <td>55681.792969</td>\n      <td>57062.148438</td>\n      <td>53448.046875</td>\n      <td>56473.031250</td>\n      <td>67849323955</td>\n      <td>39</td>\n      <td>53906.089844</td>\n      <td>1</td>\n    </tr>\n    <tr>\n      <th>21</th>\n      <td>56471.128906</td>\n      <td>56757.972656</td>\n      <td>53695.468750</td>\n      <td>53906.089844</td>\n      <td>54926612466</td>\n      <td>32</td>\n      <td>51762.273438</td>\n      <td>1</td>\n    </tr>\n    <tr>\n      <th>22</th>\n      <td>53857.105469</td>\n      <td>55410.230469</td>\n      <td>50583.812500</td>\n      <td>51762.273438</td>\n      <td>74798630778</td>\n      <td>34</td>\n      <td>51093.652344</td>\n      <td>1</td>\n    </tr>\n    <tr>\n      <th>23</th>\n      <td>51739.808594</td>\n      <td>52120.792969</td>\n      <td>47714.664063</td>\n      <td>51093.652344</td>\n      <td>86668667320</td>\n      <td>54</td>\n      <td>50050.867188</td>\n      <td>1</td>\n    </tr>\n    <tr>\n      <th>24</th>\n      <td>51143.226563</td>\n      <td>51167.562500</td>\n      <td>48805.285156</td>\n      <td>50050.867188</td>\n      <td>49014494781</td>\n      <td>37</td>\n      <td>49004.253906</td>\n      <td>1</td>\n    </tr>\n    <tr>\n      <th>25</th>\n      <td>50052.832031</td>\n      <td>50506.019531</td>\n      <td>47159.484375</td>\n      <td>49004.253906</td>\n      <td>46117114240</td>\n      <td>30</td>\n      <td>54021.753906</td>\n      <td>0</td>\n    </tr>\n    <tr>\n      <th>26</th>\n      <td>49077.792969</td>\n      <td>54288.003906</td>\n      <td>48852.796875</td>\n      <td>54021.753906</td>\n      <td>58284039825</td>\n      <td>35</td>\n      <td>55033.117188</td>\n      <td>0</td>\n    </tr>\n    <tr>\n      <th>27</th>\n      <td>54030.304688</td>\n      <td>55416.964844</td>\n      <td>53319.187500</td>\n      <td>55033.117188</td>\n      <td>49448222757</td>\n      <td>32</td>\n      <td>54824.703125</td>\n      <td>1</td>\n    </tr>\n    <tr>\n      <th>28</th>\n      <td>55036.636719</td>\n      <td>56227.207031</td>\n      <td>53887.917969</td>\n      <td>54824.703125</td>\n      <td>48000572955</td>\n      <td>32</td>\n      <td>53555.109375</td>\n      <td>1</td>\n    </tr>\n    <tr>\n      <th>29</th>\n      <td>54858.089844</td>\n      <td>55115.843750</td>\n      <td>52418.027344</td>\n      <td>53555.109375</td>\n      <td>46088929780</td>\n      <td>26</td>\n      <td>57750.175781</td>\n      <td>0</td>\n    </tr>\n    <tr>\n      <th>30</th>\n      <td>53568.664063</td>\n      <td>57900.718750</td>\n      <td>53129.601563</td>\n      <td>57750.175781</td>\n      <td>52395931985</td>\n      <td>26</td>\n      <td>57828.050781</td>\n      <td>0</td>\n    </tr>\n    <tr>\n      <th>31</th>\n      <td>57714.664063</td>\n      <td>58448.339844</td>\n      <td>57052.273438</td>\n      <td>57828.050781</td>\n      <td>42836427360</td>\n      <td>25</td>\n      <td>56631.078125</td>\n      <td>1</td>\n    </tr>\n    <tr>\n      <th>32</th>\n      <td>57825.863281</td>\n      <td>57902.593750</td>\n      <td>56141.906250</td>\n      <td>56631.078125</td>\n      <td>38177405335</td>\n      <td>23</td>\n      <td>57200.292969</td>\n      <td>0</td>\n    </tr>\n    <tr>\n      <th>33</th>\n      <td>56620.273438</td>\n      <td>58973.308594</td>\n      <td>56590.871094</td>\n      <td>57200.292969</td>\n      <td>51713139031</td>\n      <td>25</td>\n      <td>53333.539063</td>\n      <td>1</td>\n    </tr>\n    <tr>\n      <th>34</th>\n      <td>57214.179688</td>\n      <td>57214.179688</td>\n      <td>53191.425781</td>\n      <td>53333.539063</td>\n      <td>68564706967</td>\n      <td>30</td>\n      <td>57424.007813</td>\n      <td>0</td>\n    </tr>\n    <tr>\n      <th>35</th>\n      <td>53252.164063</td>\n      <td>57911.363281</td>\n      <td>52969.054688</td>\n      <td>57424.007813</td>\n      <td>69241316747</td>\n      <td>31</td>\n      <td>56396.515625</td>\n      <td>1</td>\n    </tr>\n    <tr>\n      <th>36</th>\n      <td>57441.308594</td>\n      <td>58363.316406</td>\n      <td>55382.507813</td>\n      <td>56396.515625</td>\n      <td>69523285106</td>\n      <td>29</td>\n      <td>57356.402344</td>\n      <td>0</td>\n    </tr>\n    <tr>\n      <th>37</th>\n      <td>56413.953125</td>\n      <td>58606.632813</td>\n      <td>55321.847656</td>\n      <td>57356.402344</td>\n      <td>68434023376</td>\n      <td>26</td>\n      <td>58803.777344</td>\n      <td>0</td>\n    </tr>\n    <tr>\n      <th>38</th>\n      <td>57352.765625</td>\n      <td>59464.613281</td>\n      <td>56975.210938</td>\n      <td>58803.777344</td>\n      <td>65382980634</td>\n      <td>29</td>\n      <td>58232.316406</td>\n      <td>1</td>\n    </tr>\n    <tr>\n      <th>39</th>\n      <td>58877.390625</td>\n      <td>59210.882813</td>\n      <td>56482.003906</td>\n      <td>58232.316406</td>\n      <td>65906690347</td>\n      <td>28</td>\n      <td>55859.796875</td>\n      <td>1</td>\n    </tr>\n    <tr>\n      <th>40</th>\n      <td>58250.871094</td>\n      <td>59519.355469</td>\n      <td>54071.457031</td>\n      <td>55859.796875</td>\n      <td>71776546298</td>\n      <td>32</td>\n      <td>56704.574219</td>\n      <td>0</td>\n    </tr>\n    <tr>\n      <th>41</th>\n      <td>55847.242188</td>\n      <td>56872.542969</td>\n      <td>54608.652344</td>\n      <td>56704.574219</td>\n      <td>61308396325</td>\n      <td>30</td>\n      <td>49150.535156</td>\n      <td>1</td>\n    </tr>\n    <tr>\n      <th>42</th>\n      <td>56714.531250</td>\n      <td>57939.363281</td>\n      <td>49150.535156</td>\n      <td>49150.535156</td>\n      <td>75215403907</td>\n      <td>33</td>\n      <td>49716.191406</td>\n      <td>1</td>\n    </tr>\n    <tr>\n      <th>43</th>\n      <td>49735.433594</td>\n      <td>51330.843750</td>\n      <td>46980.019531</td>\n      <td>49716.191406</td>\n      <td>96721152926</td>\n      <td>74</td>\n      <td>49880.535156</td>\n      <td>0</td>\n    </tr>\n    <tr>\n      <th>44</th>\n      <td>49682.980469</td>\n      <td>51438.117188</td>\n      <td>48868.578125</td>\n      <td>49880.535156</td>\n      <td>55737497453</td>\n      <td>38</td>\n      <td>46760.187500</td>\n      <td>1</td>\n    </tr>\n    <tr>\n      <th>45</th>\n      <td>49855.496094</td>\n      <td>50639.664063</td>\n      <td>46664.140625</td>\n      <td>46760.187500</td>\n      <td>59161047474</td>\n      <td>31</td>\n      <td>46456.058594</td>\n      <td>1</td>\n    </tr>\n    <tr>\n      <th>46</th>\n      <td>46716.636719</td>\n      <td>49720.042969</td>\n      <td>43963.351563</td>\n      <td>46456.058594</td>\n      <td>64047871555</td>\n      <td>35</td>\n      <td>43537.511719</td>\n      <td>1</td>\n    </tr>\n    <tr>\n      <th>47</th>\n      <td>46415.898438</td>\n      <td>46623.558594</td>\n      <td>42207.289063</td>\n      <td>43537.511719</td>\n      <td>74903638450</td>\n      <td>53</td>\n      <td>42909.402344</td>\n      <td>1</td>\n    </tr>\n    <tr>\n      <th>48</th>\n      <td>43488.058594</td>\n      <td>45812.457031</td>\n      <td>42367.832031</td>\n      <td>42909.402344</td>\n      <td>56187365084</td>\n      <td>40</td>\n      <td>37002.441406</td>\n      <td>1</td>\n    </tr>\n    <tr>\n      <th>49</th>\n      <td>42944.976563</td>\n      <td>43546.117188</td>\n      <td>30681.496094</td>\n      <td>37002.441406</td>\n      <td>126358098747</td>\n      <td>100</td>\n      <td>40782.738281</td>\n      <td>0</td>\n    </tr>\n    <tr>\n      <th>50</th>\n      <td>36753.667969</td>\n      <td>42462.984375</td>\n      <td>35050.617188</td>\n      <td>40782.738281</td>\n      <td>88281943359</td>\n      <td>66</td>\n      <td>37304.691406</td>\n      <td>1</td>\n    </tr>\n    <tr>\n      <th>51</th>\n      <td>40596.949219</td>\n      <td>42172.171875</td>\n      <td>33616.453125</td>\n      <td>37304.691406</td>\n      <td>82051616861</td>\n      <td>53</td>\n      <td>37536.632813</td>\n      <td>0</td>\n    </tr>\n    <tr>\n      <th>52</th>\n      <td>37371.031250</td>\n      <td>38831.054688</td>\n      <td>35383.683594</td>\n      <td>37536.632813</td>\n      <td>57377273240</td>\n      <td>46</td>\n      <td>34770.582031</td>\n      <td>1</td>\n    </tr>\n    <tr>\n      <th>53</th>\n      <td>37531.449219</td>\n      <td>38289.218750</td>\n      <td>31227.339844</td>\n      <td>34770.582031</td>\n      <td>78469274361</td>\n      <td>55</td>\n      <td>38705.980469</td>\n      <td>0</td>\n    </tr>\n    <tr>\n      <th>54</th>\n      <td>34700.363281</td>\n      <td>39835.140625</td>\n      <td>34551.082031</td>\n      <td>38705.980469</td>\n      <td>67359584098</td>\n      <td>54</td>\n      <td>38402.222656</td>\n      <td>1</td>\n    </tr>\n    <tr>\n      <th>55</th>\n      <td>38795.781250</td>\n      <td>39776.351563</td>\n      <td>36581.429688</td>\n      <td>38402.222656</td>\n      <td>56211915803</td>\n      <td>42</td>\n      <td>39294.199219</td>\n      <td>0</td>\n    </tr>\n    <tr>\n      <th>56</th>\n      <td>38392.625000</td>\n      <td>40782.078125</td>\n      <td>37905.835938</td>\n      <td>39294.199219</td>\n      <td>51346735160</td>\n      <td>34</td>\n      <td>38436.968750</td>\n      <td>1</td>\n    </tr>\n    <tr>\n      <th>57</th>\n      <td>39316.890625</td>\n      <td>40379.617188</td>\n      <td>37247.902344</td>\n      <td>38436.968750</td>\n      <td>43210968721</td>\n      <td>28</td>\n      <td>35697.605469</td>\n      <td>1</td>\n    </tr>\n    <tr>\n      <th>58</th>\n      <td>38507.082031</td>\n      <td>38856.968750</td>\n      <td>34779.039063</td>\n      <td>35697.605469</td>\n      <td>55200191952</td>\n      <td>33</td>\n      <td>34616.066406</td>\n      <td>1</td>\n    </tr>\n    <tr>\n      <th>59</th>\n      <td>35684.156250</td>\n      <td>37234.500000</td>\n      <td>33693.929688</td>\n      <td>34616.066406</td>\n      <td>45231013335</td>\n      <td>29</td>\n      <td>35678.128906</td>\n      <td>0</td>\n    </tr>\n    <tr>\n      <th>60</th>\n      <td>34607.406250</td>\n      <td>36400.667969</td>\n      <td>33520.738281</td>\n      <td>35678.128906</td>\n      <td>31646080921</td>\n      <td>29</td>\n      <td>37332.855469</td>\n      <td>0</td>\n    </tr>\n    <tr>\n      <th>61</th>\n      <td>35658.593750</td>\n      <td>37468.250000</td>\n      <td>34241.945313</td>\n      <td>37332.855469</td>\n      <td>39009847639</td>\n      <td>28</td>\n      <td>36684.925781</td>\n      <td>1</td>\n    </tr>\n    <tr>\n      <th>62</th>\n      <td>37293.792969</td>\n      <td>37896.734375</td>\n      <td>35787.085938</td>\n      <td>36684.925781</td>\n      <td>34639423297</td>\n      <td>29</td>\n      <td>37575.179688</td>\n      <td>0</td>\n    </tr>\n    <tr>\n      <th>63</th>\n      <td>36699.921875</td>\n      <td>38231.339844</td>\n      <td>35966.308594</td>\n      <td>37575.179688</td>\n      <td>33070867190</td>\n      <td>27</td>\n      <td>39208.765625</td>\n      <td>0</td>\n    </tr>\n    <tr>\n      <th>64</th>\n      <td>37599.410156</td>\n      <td>39478.953125</td>\n      <td>37243.972656</td>\n      <td>39208.765625</td>\n      <td>35460750427</td>\n      <td>24</td>\n      <td>36894.406250</td>\n      <td>1</td>\n    </tr>\n    <tr>\n      <th>65</th>\n      <td>39242.484375</td>\n      <td>39242.484375</td>\n      <td>35717.722656</td>\n      <td>36894.406250</td>\n      <td>41831090187</td>\n      <td>29</td>\n      <td>35551.957031</td>\n      <td>1</td>\n    </tr>\n    <tr>\n      <th>66</th>\n      <td>36880.156250</td>\n      <td>37917.714844</td>\n      <td>34900.414063</td>\n      <td>35551.957031</td>\n      <td>35959473399</td>\n      <td>29</td>\n      <td>35862.378906</td>\n      <td>0</td>\n    </tr>\n    <tr>\n      <th>67</th>\n      <td>35538.609375</td>\n      <td>36436.421875</td>\n      <td>35304.578125</td>\n      <td>35862.378906</td>\n      <td>28913440585</td>\n      <td>29</td>\n      <td>33560.707031</td>\n      <td>1</td>\n    </tr>\n    <tr>\n      <th>68</th>\n      <td>35835.265625</td>\n      <td>36790.570313</td>\n      <td>33480.640625</td>\n      <td>33560.707031</td>\n      <td>33683936663</td>\n      <td>28</td>\n      <td>33472.632813</td>\n      <td>1</td>\n    </tr>\n    <tr>\n      <th>69</th>\n      <td>33589.519531</td>\n      <td>34017.386719</td>\n      <td>31114.443359</td>\n      <td>33472.632813</td>\n      <td>49902050442</td>\n      <td>41</td>\n      <td>37345.121094</td>\n      <td>0</td>\n    </tr>\n    <tr>\n      <th>70</th>\n      <td>33416.976563</td>\n      <td>37537.371094</td>\n      <td>32475.865234</td>\n      <td>37345.121094</td>\n      <td>53972919008</td>\n      <td>38</td>\n      <td>36702.597656</td>\n      <td>1</td>\n    </tr>\n    <tr>\n      <th>71</th>\n      <td>37389.515625</td>\n      <td>38334.324219</td>\n      <td>35847.593750</td>\n      <td>36702.597656</td>\n      <td>43576032854</td>\n      <td>33</td>\n      <td>37334.398438</td>\n      <td>0</td>\n    </tr>\n    <tr>\n      <th>72</th>\n      <td>36697.031250</td>\n      <td>37608.695313</td>\n      <td>36044.449219</td>\n      <td>37334.398438</td>\n      <td>38699736985</td>\n      <td>28</td>\n      <td>35552.515625</td>\n      <td>1</td>\n    </tr>\n    <tr>\n      <th>73</th>\n      <td>37340.144531</td>\n      <td>37408.925781</td>\n      <td>34728.191406</td>\n      <td>35552.515625</td>\n      <td>37924228550</td>\n      <td>23</td>\n      <td>39097.859375</td>\n      <td>0</td>\n    </tr>\n    <tr>\n      <th>74</th>\n      <td>35555.789063</td>\n      <td>39322.781250</td>\n      <td>34864.109375</td>\n      <td>39097.859375</td>\n      <td>40669112838</td>\n      <td>25</td>\n      <td>40218.476563</td>\n      <td>0</td>\n    </tr>\n    <tr>\n      <th>75</th>\n      <td>39016.968750</td>\n      <td>40978.363281</td>\n      <td>38757.285156</td>\n      <td>40218.476563</td>\n      <td>43148914673</td>\n      <td>32</td>\n      <td>40406.269531</td>\n      <td>1</td>\n    </tr>\n    <tr>\n      <th>76</th>\n      <td>40427.167969</td>\n      <td>41295.269531</td>\n      <td>39609.468750</td>\n      <td>40406.269531</td>\n      <td>46420149185</td>\n      <td>25</td>\n      <td>38347.062500</td>\n      <td>1</td>\n    </tr>\n    <tr>\n      <th>77</th>\n      <td>40168.691406</td>\n      <td>40516.777344</td>\n      <td>38176.035156</td>\n      <td>38347.062500</td>\n      <td>39211635100</td>\n      <td>23</td>\n      <td>38053.503906</td>\n      <td>1</td>\n    </tr>\n    <tr>\n      <th>78</th>\n      <td>38341.421875</td>\n      <td>39513.671875</td>\n      <td>37439.675781</td>\n      <td>38053.503906</td>\n      <td>37096670047</td>\n      <td>23</td>\n      <td>35787.246094</td>\n      <td>1</td>\n    </tr>\n    <tr>\n      <th>79</th>\n      <td>38099.476563</td>\n      <td>38187.261719</td>\n      <td>35255.855469</td>\n      <td>35787.246094</td>\n      <td>36200887275</td>\n      <td>22</td>\n      <td>35615.871094</td>\n      <td>1</td>\n    </tr>\n    <tr>\n      <th>80</th>\n      <td>35854.527344</td>\n      <td>36457.796875</td>\n      <td>34933.062500</td>\n      <td>35615.871094</td>\n      <td>31207279719</td>\n      <td>17</td>\n      <td>35698.296875</td>\n      <td>0</td>\n    </tr>\n    <tr>\n      <th>81</th>\n      <td>35563.140625</td>\n      <td>36059.484375</td>\n      <td>33432.074219</td>\n      <td>35698.296875</td>\n      <td>36664034054</td>\n      <td>21</td>\n      <td>31676.693359</td>\n      <td>1</td>\n    </tr>\n    <tr>\n      <th>82</th>\n      <td>35641.144531</td>\n      <td>35721.640625</td>\n      <td>31295.935547</td>\n      <td>31676.693359</td>\n      <td>52809038594</td>\n      <td>33</td>\n      <td>32505.660156</td>\n      <td>0</td>\n    </tr>\n    <tr>\n      <th>83</th>\n      <td>31622.376953</td>\n      <td>33292.453125</td>\n      <td>28893.621094</td>\n      <td>32505.660156</td>\n      <td>58964353058</td>\n      <td>46</td>\n      <td>33723.027344</td>\n      <td>0</td>\n    </tr>\n    <tr>\n      <th>84</th>\n      <td>32515.714844</td>\n      <td>34753.410156</td>\n      <td>31772.632813</td>\n      <td>33723.027344</td>\n      <td>46317108925</td>\n      <td>32</td>\n      <td>34662.437500</td>\n      <td>0</td>\n    </tr>\n    <tr>\n      <th>85</th>\n      <td>33682.800781</td>\n      <td>35228.851563</td>\n      <td>32385.214844</td>\n      <td>34662.437500</td>\n      <td>33123368116</td>\n      <td>26</td>\n      <td>31637.779297</td>\n      <td>1</td>\n    </tr>\n    <tr>\n      <th>86</th>\n      <td>34659.105469</td>\n      <td>35487.246094</td>\n      <td>31350.884766</td>\n      <td>31637.779297</td>\n      <td>40230904226</td>\n      <td>24</td>\n      <td>32186.277344</td>\n      <td>0</td>\n    </tr>\n    <tr>\n      <th>87</th>\n      <td>31594.664063</td>\n      <td>32637.587891</td>\n      <td>30184.501953</td>\n      <td>32186.277344</td>\n      <td>38585385521</td>\n      <td>22</td>\n      <td>34649.644531</td>\n      <td>0</td>\n    </tr>\n    <tr>\n      <th>88</th>\n      <td>32287.523438</td>\n      <td>34656.128906</td>\n      <td>32071.757813</td>\n      <td>34649.644531</td>\n      <td>35511640894</td>\n      <td>22</td>\n      <td>34434.335938</td>\n      <td>1</td>\n    </tr>\n    <tr>\n      <th>89</th>\n      <td>34679.121094</td>\n      <td>35219.890625</td>\n      <td>33902.074219</td>\n      <td>34434.335938</td>\n      <td>33892523752</td>\n      <td>25</td>\n      <td>35867.777344</td>\n      <td>0</td>\n    </tr>\n    <tr>\n      <th>90</th>\n      <td>34475.558594</td>\n      <td>36542.109375</td>\n      <td>34252.484375</td>\n      <td>35867.777344</td>\n      <td>37901460044</td>\n      <td>22</td>\n      <td>35040.835938</td>\n      <td>1</td>\n    </tr>\n  </tbody>\n</table>\n</div>"
     },
     "execution_count": 575,
     "metadata": {},
     "output_type": "execute_result"
    }
   ],
   "source": [
    "pd.set_option('display.max_rows', len(mergedStockPrice))\n",
    "\n",
    "mergedStockPrice[\"Price_Increase\"] = bitcoinPricedf[\"Open\"] - bitcoinPricedf[\"Close\"] > 0.0\n",
    "mergedStockPrice['Price_Increase'] = mergedStockPrice.Price_Increase.astype(int)\n",
    "mergedStockPrice\n"
   ],
   "metadata": {
    "collapsed": false,
    "pycharm": {
     "name": "#%%\n"
    }
   }
  },
  {
   "cell_type": "code",
   "execution_count": 576,
   "outputs": [],
   "source": [
    "\n",
    "columns = [\"Previous_Open\", \"Previous_Close\", \"Previous_Search_Interest\", \"Price_Increase\"]\n",
    "mergedStockPrice = mergedStockPrice[columns]\n",
    "mergedStockPrice\n",
    "\n",
    "features = list(mergedStockPrice.columns)\n",
    "features.remove(\"Price_Increase\")\n",
    "target = \"Price_Increase\"\n",
    "\n",
    "X = mergedStockPrice[features]\n",
    "y = mergedStockPrice[target]"
   ],
   "metadata": {
    "collapsed": false,
    "pycharm": {
     "name": "#%%\n"
    }
   }
  },
  {
   "cell_type": "code",
   "execution_count": 577,
   "outputs": [],
   "source": [
    "X_train, X_test, y_train, y_test = train_test_split(X, y, test_size=0.25)"
   ],
   "metadata": {
    "collapsed": false,
    "pycharm": {
     "name": "#%%\n"
    }
   }
  },
  {
   "cell_type": "code",
   "execution_count": 578,
   "outputs": [
    {
     "data": {
      "text/plain": "LogisticRegression(solver='liblinear')"
     },
     "execution_count": 578,
     "metadata": {},
     "output_type": "execute_result"
    }
   ],
   "source": [
    "\n",
    "\n",
    "logReg = LogisticRegression(solver=\"liblinear\")\n",
    "logReg"
   ],
   "metadata": {
    "collapsed": false,
    "pycharm": {
     "name": "#%%\n"
    }
   }
  },
  {
   "cell_type": "code",
   "execution_count": 579,
   "outputs": [
    {
     "data": {
      "text/plain": "LogisticRegression(solver='liblinear')"
     },
     "execution_count": 579,
     "metadata": {},
     "output_type": "execute_result"
    }
   ],
   "source": [
    "logReg.fit(X_train, y_train)"
   ],
   "metadata": {
    "collapsed": false,
    "pycharm": {
     "name": "#%%\n"
    }
   }
  },
  {
   "cell_type": "code",
   "execution_count": 580,
   "outputs": [
    {
     "data": {
      "text/plain": "0.5588235294117647"
     },
     "execution_count": 580,
     "metadata": {},
     "output_type": "execute_result"
    }
   ],
   "source": [
    "logReg.score(X_train, y_train)"
   ],
   "metadata": {
    "collapsed": false,
    "pycharm": {
     "name": "#%%\n"
    }
   }
  },
  {
   "cell_type": "code",
   "execution_count": 581,
   "outputs": [
    {
     "data": {
      "text/plain": "0.6521739130434783"
     },
     "execution_count": 581,
     "metadata": {},
     "output_type": "execute_result"
    }
   ],
   "source": [
    "logReg.score(X_test, y_test)"
   ],
   "metadata": {
    "collapsed": false,
    "pycharm": {
     "name": "#%%\n"
    }
   }
  },
  {
   "cell_type": "code",
   "execution_count": 582,
   "outputs": [
    {
     "name": "stdout",
     "output_type": "stream",
     "text": [
      "Score: -0.50\n",
      "MAE: 0.35\n",
      "RMSE: 0.59\n",
      "r2: -0.53\n"
     ]
    }
   ],
   "source": [
    "predictions = logReg.predict(X_test)\n",
    "printMetrics(y_test, predictions)"
   ],
   "metadata": {
    "collapsed": false,
    "pycharm": {
     "name": "#%%\n"
    }
   }
  },
  {
   "cell_type": "code",
   "execution_count": 583,
   "outputs": [
    {
     "name": "stdout",
     "output_type": "stream",
     "text": [
      "Confusion Matrix:\n",
      "[[ 3  5]\n",
      " [ 3 12]]\n",
      "------------------\n",
      "Accuracy: 0.65\n",
      "Recall: 0.80\n",
      "Prediction: 0.71\n",
      "f-measure: 0.75\n",
      "------------------\n",
      "              precision    recall  f1-score   support\n",
      "\n",
      "           0       0.50      0.38      0.43         8\n",
      "           1       0.71      0.80      0.75        15\n",
      "\n",
      "    accuracy                           0.65        23\n",
      "   macro avg       0.60      0.59      0.59        23\n",
      "weighted avg       0.63      0.65      0.64        23\n",
      "\n"
     ]
    }
   ],
   "source": [
    "predictions = logReg.predict(X_test)\n",
    "printClassificationMetrics(y_test, predictions)\n",
    "\n"
   ],
   "metadata": {
    "collapsed": false,
    "pycharm": {
     "name": "#%%\n"
    }
   }
  },
  {
   "cell_type": "code",
   "execution_count": 584,
   "outputs": [
    {
     "ename": "ValueError",
     "evalue": "X has 7 features per sample; expecting 3",
     "output_type": "error",
     "traceback": [
      "\u001B[0;31m---------------------------------------------------------------------------\u001B[0m",
      "\u001B[0;31mValueError\u001B[0m                                Traceback (most recent call last)",
      "\u001B[0;32m<ipython-input-584-309d58a78afe>\u001B[0m in \u001B[0;36m<module>\u001B[0;34m\u001B[0m\n\u001B[1;32m      1\u001B[0m \u001B[0mpdSamplePrice\u001B[0m \u001B[0;34m=\u001B[0m \u001B[0mpd\u001B[0m\u001B[0;34m.\u001B[0m\u001B[0mDataFrame\u001B[0m\u001B[0;34m.\u001B[0m\u001B[0mfrom_dict\u001B[0m\u001B[0;34m(\u001B[0m\u001B[0mpdSamplePrice\u001B[0m\u001B[0;34m)\u001B[0m\u001B[0;34m\u001B[0m\u001B[0;34m\u001B[0m\u001B[0m\n\u001B[1;32m      2\u001B[0m \u001B[0;34m\u001B[0m\u001B[0m\n\u001B[0;32m----> 3\u001B[0;31m \u001B[0mpredictions\u001B[0m \u001B[0;34m=\u001B[0m \u001B[0mlogReg\u001B[0m\u001B[0;34m.\u001B[0m\u001B[0mpredict\u001B[0m\u001B[0;34m(\u001B[0m\u001B[0mpdSamplePrice\u001B[0m\u001B[0;34m)\u001B[0m\u001B[0;34m\u001B[0m\u001B[0;34m\u001B[0m\u001B[0m\n\u001B[0m\u001B[1;32m      4\u001B[0m \u001B[0;34m\u001B[0m\u001B[0m\n\u001B[1;32m      5\u001B[0m \u001B[0mpdPredicted\u001B[0m \u001B[0;34m=\u001B[0m \u001B[0mpdSamplePrice\u001B[0m\u001B[0;34m\u001B[0m\u001B[0;34m\u001B[0m\u001B[0m\n",
      "\u001B[0;32m/opt/anaconda3/envs/ENV1/lib/python3.8/site-packages/sklearn/linear_model/_base.py\u001B[0m in \u001B[0;36mpredict\u001B[0;34m(self, X)\u001B[0m\n\u001B[1;32m    307\u001B[0m             \u001B[0mPredicted\u001B[0m \u001B[0;32mclass\u001B[0m \u001B[0mlabel\u001B[0m \u001B[0mper\u001B[0m \u001B[0msample\u001B[0m\u001B[0;34m.\u001B[0m\u001B[0;34m\u001B[0m\u001B[0;34m\u001B[0m\u001B[0m\n\u001B[1;32m    308\u001B[0m         \"\"\"\n\u001B[0;32m--> 309\u001B[0;31m         \u001B[0mscores\u001B[0m \u001B[0;34m=\u001B[0m \u001B[0mself\u001B[0m\u001B[0;34m.\u001B[0m\u001B[0mdecision_function\u001B[0m\u001B[0;34m(\u001B[0m\u001B[0mX\u001B[0m\u001B[0;34m)\u001B[0m\u001B[0;34m\u001B[0m\u001B[0;34m\u001B[0m\u001B[0m\n\u001B[0m\u001B[1;32m    310\u001B[0m         \u001B[0;32mif\u001B[0m \u001B[0mlen\u001B[0m\u001B[0;34m(\u001B[0m\u001B[0mscores\u001B[0m\u001B[0;34m.\u001B[0m\u001B[0mshape\u001B[0m\u001B[0;34m)\u001B[0m \u001B[0;34m==\u001B[0m \u001B[0;36m1\u001B[0m\u001B[0;34m:\u001B[0m\u001B[0;34m\u001B[0m\u001B[0;34m\u001B[0m\u001B[0m\n\u001B[1;32m    311\u001B[0m             \u001B[0mindices\u001B[0m \u001B[0;34m=\u001B[0m \u001B[0;34m(\u001B[0m\u001B[0mscores\u001B[0m \u001B[0;34m>\u001B[0m \u001B[0;36m0\u001B[0m\u001B[0;34m)\u001B[0m\u001B[0;34m.\u001B[0m\u001B[0mastype\u001B[0m\u001B[0;34m(\u001B[0m\u001B[0mint\u001B[0m\u001B[0;34m)\u001B[0m\u001B[0;34m\u001B[0m\u001B[0;34m\u001B[0m\u001B[0m\n",
      "\u001B[0;32m/opt/anaconda3/envs/ENV1/lib/python3.8/site-packages/sklearn/linear_model/_base.py\u001B[0m in \u001B[0;36mdecision_function\u001B[0;34m(self, X)\u001B[0m\n\u001B[1;32m    286\u001B[0m         \u001B[0mn_features\u001B[0m \u001B[0;34m=\u001B[0m \u001B[0mself\u001B[0m\u001B[0;34m.\u001B[0m\u001B[0mcoef_\u001B[0m\u001B[0;34m.\u001B[0m\u001B[0mshape\u001B[0m\u001B[0;34m[\u001B[0m\u001B[0;36m1\u001B[0m\u001B[0;34m]\u001B[0m\u001B[0;34m\u001B[0m\u001B[0;34m\u001B[0m\u001B[0m\n\u001B[1;32m    287\u001B[0m         \u001B[0;32mif\u001B[0m \u001B[0mX\u001B[0m\u001B[0;34m.\u001B[0m\u001B[0mshape\u001B[0m\u001B[0;34m[\u001B[0m\u001B[0;36m1\u001B[0m\u001B[0;34m]\u001B[0m \u001B[0;34m!=\u001B[0m \u001B[0mn_features\u001B[0m\u001B[0;34m:\u001B[0m\u001B[0;34m\u001B[0m\u001B[0;34m\u001B[0m\u001B[0m\n\u001B[0;32m--> 288\u001B[0;31m             raise ValueError(\"X has %d features per sample; expecting %d\"\n\u001B[0m\u001B[1;32m    289\u001B[0m                              % (X.shape[1], n_features))\n\u001B[1;32m    290\u001B[0m \u001B[0;34m\u001B[0m\u001B[0m\n",
      "\u001B[0;31mValueError\u001B[0m: X has 7 features per sample; expecting 3"
     ]
    }
   ],
   "source": [
    "pdSamplePrice = pd.DataFrame.from_dict(pdSamplePrice)\n",
    "\n",
    "predictions = logReg.predict(pdSamplePrice)\n",
    "\n",
    "pdPredicted = pdSamplePrice\n",
    "pdPredicted[\"Price_Increase\"] = predictions.astype(bool)\n",
    "pdPredicted"
   ],
   "metadata": {
    "collapsed": false,
    "pycharm": {
     "name": "#%%\n"
    }
   }
  },
  {
   "cell_type": "code",
   "execution_count": null,
   "outputs": [],
   "source": [],
   "metadata": {
    "collapsed": false,
    "pycharm": {
     "name": "#%%\n"
    }
   }
  },
  {
   "cell_type": "markdown",
   "source": [
    "### John Deere (DE)\n",
    "Dan Knobloch"
   ],
   "metadata": {
    "collapsed": false
   }
  },
  {
   "cell_type": "markdown",
   "source": [
    "##### Helper methods"
   ],
   "metadata": {
    "collapsed": false
   }
  },
  {
   "cell_type": "code",
   "execution_count": null,
   "outputs": [],
   "source": [
    "def createCategoricalDummies(dataFrame, categoryList):\n",
    "    return pd.get_dummies(dataFrame[categoryList], prefix_sep = \"::\", drop_first = True)"
   ],
   "metadata": {
    "collapsed": false,
    "pycharm": {
     "name": "#%%\n"
    }
   }
  },
  {
   "cell_type": "code",
   "execution_count": null,
   "outputs": [],
   "source": [
    "def printRegressionMetrics(test, predictions):\n",
    "    print(f\"Score: {explained_variance_score(test, predictions):.2f}\")\n",
    "    print(f\"MAE: {mean_absolute_error(test, predictions):.2f}\")\n",
    "    print(f\"RMSE: {math.sqrt(mean_squared_error(test, predictions)):.2f}\")\n",
    "    print(f\"r2: {r2_score(test, predictions):.2f}\")"
   ],
   "metadata": {
    "collapsed": false,
    "pycharm": {
     "name": "#%%\n"
    }
   }
  },
  {
   "cell_type": "code",
   "execution_count": null,
   "outputs": [],
   "source": [
    "def printClassificationMetrics(test, predictions):\n",
    "    print(\"Confusion Matrix:\")\n",
    "    print(confusion_matrix(test, predictions))\n",
    "    print(\"------------------\")\n",
    "    print(f\"Accuracy: {accuracy_score(test, predictions):.2f}\")\n",
    "    print(f\"Recall: {recall_score(test, predictions):.2f}\")\n",
    "    print(f\"Prediction: {precision_score(test, predictions):.2f}\")\n",
    "    print(f\"f-measure: {fbeta_score(test, predictions, beta=1):.2f}\")\n",
    "    print(\"------------------\")\n",
    "    print(classification_report(test, predictions))"
   ],
   "metadata": {
    "collapsed": false,
    "pycharm": {
     "name": "#%%\n"
    }
   }
  },
  {
   "cell_type": "markdown",
   "source": [
    "#### Part 1: Regression - Linear Regression\n",
    "##### Prepare the Data\n",
    "load data, clean up, prepare features and targets, split up training and test data."
   ],
   "metadata": {
    "collapsed": false
   }
  },
  {
   "cell_type": "code",
   "execution_count": null,
   "outputs": [],
   "source": [
    "# read file, drop null values, convert binary values in trend and price to integers\n",
    "JDStockTrend = pd.read_csv(f\"{dataDir}DeereStockPrice.csv\")\n",
    "JDStockTrend.dropna(inplace=True)\n",
    "JDStockTrend['trend_daily_increase'] = JDStockTrend.trend_daily_increase.astype(int)\n",
    "JDStockTrend['price_daily_increase'] = JDStockTrend.price_daily_increase.astype(int)\n",
    "JDStockTrend"
   ],
   "metadata": {
    "collapsed": false,
    "pycharm": {
     "name": "#%%\n"
    }
   }
  },
  {
   "cell_type": "code",
   "execution_count": null,
   "outputs": [],
   "source": [
    "# determine feature vectors and target vectors. in this case targeting a prediction of price based on the previous days closing price, volume traded, and trends data\n",
    "featureColumns = [\"Trends\",\"Previous_Close\",\"Volume\",\"trend_daily_increase\"]\n",
    "target = \"Price\"\n",
    "\n",
    "X=JDStockTrend[featureColumns]\n",
    "y=JDStockTrend[target]\n",
    "\n",
    "X.info()"
   ],
   "metadata": {
    "collapsed": false,
    "pycharm": {
     "name": "#%%\n"
    }
   }
  },
  {
   "cell_type": "code",
   "execution_count": null,
   "outputs": [],
   "source": [
    "y"
   ],
   "metadata": {
    "collapsed": false,
    "pycharm": {
     "name": "#%%\n"
    }
   }
  },
  {
   "cell_type": "code",
   "execution_count": null,
   "outputs": [],
   "source": [
    "X_train, X_test, y_train, y_test = train_test_split(X, y, test_size=0.25, random_state=1)"
   ],
   "metadata": {
    "collapsed": false,
    "pycharm": {
     "name": "#%%\n"
    }
   }
  },
  {
   "cell_type": "markdown",
   "source": [
    "## Modeling with Linear Regression\n",
    "\n",
    "fit a line to our data set, with the minimum distance between the points."
   ],
   "metadata": {
    "collapsed": false
   }
  },
  {
   "cell_type": "code",
   "execution_count": null,
   "outputs": [],
   "source": [
    "lr = LinearRegression()    #use this algorithm to start developing the line betwee data points\n",
    "lr"
   ],
   "metadata": {
    "collapsed": false,
    "pycharm": {
     "name": "#%%\n"
    }
   }
  },
  {
   "cell_type": "code",
   "execution_count": null,
   "outputs": [],
   "source": [
    "lr.fit(X_train, y_train)\n",
    "trainScore = lr.score(X_train, y_train)\n",
    "testScore = lr.score(X_test, y_test)\n",
    "\n",
    "print(f'the score with the training data set = {trainScore}')\n",
    "print(f'the score with the test data set = {testScore}')"
   ],
   "metadata": {
    "collapsed": false,
    "pycharm": {
     "name": "#%%\n"
    }
   }
  },
  {
   "cell_type": "markdown",
   "source": [
    "## LR Metrics Output"
   ],
   "metadata": {
    "collapsed": false
   }
  },
  {
   "cell_type": "code",
   "execution_count": null,
   "outputs": [],
   "source": [
    "predictions = lr.predict(X_test)\n",
    "printRegressionMetrics(y_test, predictions)"
   ],
   "metadata": {
    "collapsed": false,
    "pycharm": {
     "name": "#%%\n"
    }
   }
  },
  {
   "cell_type": "markdown",
   "source": [
    "#### Predict some new samples\n",
    "\n",
    "define a few new samples."
   ],
   "metadata": {
    "collapsed": false
   }
  },
  {
   "cell_type": "code",
   "execution_count": null,
   "outputs": [],
   "source": [
    "numElements = 3\n",
    "sampleStockTrend = []\n",
    "for _ in range(numElements):\n",
    "    dict = {}\n",
    "    for column in X.columns:\n",
    "        min = 0  # assume min = 0\n",
    "        maxValue = round(max(JDStockTrend[column].values))\n",
    "        dict[column] = rnd.randint(min, maxValue)\n",
    "    sampleStockTrend.append(dict)\n",
    "sampleStockTrend"
   ],
   "metadata": {
    "collapsed": false,
    "pycharm": {
     "name": "#%%\n"
    }
   }
  },
  {
   "cell_type": "code",
   "execution_count": null,
   "outputs": [],
   "source": [
    "pdSampleStockTrend = pd.DataFrame.from_dict(sampleStockTrend)\n",
    "pdSampleStockTrend"
   ],
   "metadata": {
    "collapsed": false,
    "pycharm": {
     "name": "#%%\n"
    }
   }
  },
  {
   "cell_type": "code",
   "execution_count": null,
   "outputs": [],
   "source": [
    "predictions = lr.predict(pdSampleStockTrend)\n",
    "predictions"
   ],
   "metadata": {
    "collapsed": false,
    "pycharm": {
     "name": "#%%\n"
    }
   }
  },
  {
   "cell_type": "code",
   "execution_count": null,
   "outputs": [],
   "source": [
    "pdPredictedStockTrend = pdSampleStockTrend.copy()\n",
    "pdPredictedStockTrend['Predicted'] = predictions\n",
    "pdPredictedStockTrend"
   ],
   "metadata": {
    "collapsed": false,
    "pycharm": {
     "name": "#%%\n"
    }
   }
  },
  {
   "cell_type": "markdown",
   "source": [
    "##### Part 2: Classification - Logistic Regression"
   ],
   "metadata": {
    "collapsed": false
   }
  },
  {
   "cell_type": "markdown",
   "source": [
    "##### Prepare the Data\n",
    "load data, clean up, prepare features and targets, split up training and test data."
   ],
   "metadata": {
    "collapsed": false
   }
  },
  {
   "cell_type": "code",
   "execution_count": null,
   "outputs": [],
   "source": [
    "# Need to prepare the data seperately for logistic regression becuase our feature and target vectors will be different\n",
    "JDStockTrend"
   ],
   "metadata": {
    "collapsed": false,
    "pycharm": {
     "name": "#%%\n"
    }
   }
  },
  {
   "cell_type": "code",
   "execution_count": null,
   "outputs": [],
   "source": [
    "#determine feature vectors and target vectors. in this case targeting a classification on whether or not the price would increase based on the previous days closing price, volume traded, and search trends data\n",
    "featureColumns = [\"Trends\",\"Previous_Close\",\"Volume\",\"trend_daily_increase\"]\n",
    "target = \"price_daily_increase\"\n",
    "\n",
    "X=JDStockTrend[featureColumns]\n",
    "y=JDStockTrend[target]\n",
    "\n",
    "X"
   ],
   "metadata": {
    "collapsed": false,
    "pycharm": {
     "name": "#%%\n"
    }
   }
  },
  {
   "cell_type": "code",
   "execution_count": null,
   "outputs": [],
   "source": [
    "y"
   ],
   "metadata": {
    "collapsed": false,
    "pycharm": {
     "name": "#%%\n"
    }
   }
  },
  {
   "cell_type": "code",
   "execution_count": null,
   "outputs": [],
   "source": [
    "X_train, X_test, y_train, y_test = train_test_split(X, y, test_size=0.25)"
   ],
   "metadata": {
    "collapsed": false,
    "pycharm": {
     "name": "#%%\n"
    }
   }
  },
  {
   "cell_type": "markdown",
   "source": [
    "#### Modeling with Logistic Regression (classification)\n"
   ],
   "metadata": {
    "collapsed": false
   }
  },
  {
   "cell_type": "code",
   "execution_count": null,
   "outputs": [],
   "source": [
    "lr = LogisticRegression(solver=\"liblinear\")\n",
    "lr"
   ],
   "metadata": {
    "collapsed": false,
    "pycharm": {
     "name": "#%%\n"
    }
   }
  },
  {
   "cell_type": "code",
   "execution_count": null,
   "outputs": [],
   "source": [
    "lr.fit(X_train, y_train)"
   ],
   "metadata": {
    "collapsed": false,
    "pycharm": {
     "name": "#%%\n"
    }
   }
  },
  {
   "cell_type": "code",
   "execution_count": null,
   "outputs": [],
   "source": [
    "lr.score(X_train, y_train)"
   ],
   "metadata": {
    "collapsed": false,
    "pycharm": {
     "name": "#%%\n"
    }
   }
  },
  {
   "cell_type": "code",
   "execution_count": null,
   "outputs": [],
   "source": [
    "lr.score(X_test, y_test)"
   ],
   "metadata": {
    "collapsed": false,
    "pycharm": {
     "name": "#%%\n"
    }
   }
  },
  {
   "cell_type": "markdown",
   "source": [
    "#### Classification Metrics Output"
   ],
   "metadata": {
    "collapsed": false
   }
  },
  {
   "cell_type": "code",
   "execution_count": null,
   "outputs": [],
   "source": [
    "predictions = lr.predict(X_test)\n",
    "printClassificationMetrics(y_test, predictions)"
   ],
   "metadata": {
    "collapsed": false,
    "pycharm": {
     "name": "#%%\n"
    }
   }
  },
  {
   "cell_type": "markdown",
   "source": [
    "##### Predict with the samples that were generated above"
   ],
   "metadata": {
    "collapsed": false
   }
  },
  {
   "cell_type": "code",
   "execution_count": null,
   "outputs": [],
   "source": [
    "sampleStockTrend"
   ],
   "metadata": {
    "collapsed": false,
    "pycharm": {
     "name": "#%%\n"
    }
   }
  },
  {
   "cell_type": "code",
   "execution_count": null,
   "outputs": [],
   "source": [
    "pdSampleStockTrend = pd.DataFrame.from_dict(sampleStockTrend)"
   ],
   "metadata": {
    "collapsed": false,
    "pycharm": {
     "name": "#%%\n"
    }
   }
  },
  {
   "cell_type": "code",
   "execution_count": null,
   "outputs": [],
   "source": [
    "predictions = lr.predict(pdSampleStockTrend)\n",
    "predictions"
   ],
   "metadata": {
    "collapsed": false,
    "pycharm": {
     "name": "#%%\n"
    }
   }
  },
  {
   "cell_type": "code",
   "execution_count": null,
   "outputs": [],
   "source": [
    "pdPredictedStockTrend = pdSampleStockTrend\n",
    "pdPredictedStockTrend[\"price_daily_increse\"] = predictions.astype(bool)\n",
    "pdPredictedStockTrend"
   ],
   "metadata": {
    "collapsed": false,
    "pycharm": {
     "name": "#%%\n"
    }
   }
  },
  {
   "cell_type": "markdown",
   "source": [
    "## Conclusion"
   ],
   "metadata": {
    "collapsed": false
   }
  },
  {
   "cell_type": "markdown",
   "source": [
    "analyzing the current results of the both methods used (linear regression, and logistic regression (Classification). it does seem like the data points to the fact that the linear regrission is a strong canidate for predicting price of John Deere. in each linear regression scenario, the score is around 90%. and the sample data that is generated also seems to develop reasonable price predictions for the closing price. the logistic model (for classification) only has a score of 44%. overall. in some ways, developing a stronger classification model would provide more value for a day trader of stocks becuase it would give them the insight of the confidience to buy shares of a compnay to make money in a short amount of time.\n"
   ],
   "metadata": {
    "collapsed": false
   }
  },
  {
   "cell_type": "code",
   "execution_count": null,
   "outputs": [],
   "source": [
    "\n"
   ],
   "metadata": {
    "collapsed": false,
    "pycharm": {
     "name": "#%%\n"
    }
   }
  }
 ],
 "metadata": {
  "kernelspec": {
   "display_name": "Kernal1",
   "language": "python",
   "name": "kernal1"
  },
  "language_info": {
   "codemirror_mode": {
    "name": "ipython",
    "version": 3
   },
   "file_extension": ".py",
   "mimetype": "text/x-python",
   "name": "python",
   "nbconvert_exporter": "python",
   "pygments_lexer": "ipython3",
   "version": "3.8.10"
  }
 },
 "nbformat": 4,
 "nbformat_minor": 5
}