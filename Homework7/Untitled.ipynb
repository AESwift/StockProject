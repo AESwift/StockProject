{
 "cells": [
  {
   "cell_type": "markdown",
   "id": "f1aea954",
   "metadata": {},
   "source": [
    "# Homework 7"
   ]
  },
  {
   "cell_type": "code",
   "execution_count": 113,
   "id": "3a7e3a05",
   "metadata": {},
   "outputs": [],
   "source": [
    "import pandas as pd\n",
    "import numpy as np\n",
    "import matplotlib.pyplot as plt\n",
    "import yfinance as yf\n",
    "import datetime\n",
    "from sklearn.model_selection import train_test_split\n",
    "from sklearn.neighbors import KNeighborsClassifier\n",
    "from sklearn.linear_model import LogisticRegression"
   ]
  },
  {
   "cell_type": "code",
   "execution_count": 114,
   "id": "6abe9631",
   "metadata": {},
   "outputs": [
    {
     "data": {
      "text/html": [
       "<div>\n",
       "<style scoped>\n",
       "    .dataframe tbody tr th:only-of-type {\n",
       "        vertical-align: middle;\n",
       "    }\n",
       "\n",
       "    .dataframe tbody tr th {\n",
       "        vertical-align: top;\n",
       "    }\n",
       "\n",
       "    .dataframe thead th {\n",
       "        text-align: right;\n",
       "    }\n",
       "</style>\n",
       "<table border=\"1\" class=\"dataframe\">\n",
       "  <thead>\n",
       "    <tr style=\"text-align: right;\">\n",
       "      <th></th>\n",
       "      <th>Date</th>\n",
       "      <th>Open</th>\n",
       "      <th>High</th>\n",
       "      <th>Low</th>\n",
       "      <th>Close</th>\n",
       "      <th>Adj Close</th>\n",
       "      <th>Volume</th>\n",
       "    </tr>\n",
       "  </thead>\n",
       "  <tbody>\n",
       "    <tr>\n",
       "      <th>0</th>\n",
       "      <td>2020-07-13</td>\n",
       "      <td>45.529999</td>\n",
       "      <td>45.680000</td>\n",
       "      <td>44.959999</td>\n",
       "      <td>45.250000</td>\n",
       "      <td>43.839470</td>\n",
       "      <td>16705300</td>\n",
       "    </tr>\n",
       "    <tr>\n",
       "      <th>1</th>\n",
       "      <td>2020-07-14</td>\n",
       "      <td>44.910000</td>\n",
       "      <td>45.939999</td>\n",
       "      <td>44.669998</td>\n",
       "      <td>45.869999</td>\n",
       "      <td>44.440140</td>\n",
       "      <td>17080100</td>\n",
       "    </tr>\n",
       "    <tr>\n",
       "      <th>2</th>\n",
       "      <td>2020-07-15</td>\n",
       "      <td>46.299999</td>\n",
       "      <td>47.189999</td>\n",
       "      <td>46.200001</td>\n",
       "      <td>46.400002</td>\n",
       "      <td>44.953621</td>\n",
       "      <td>23738000</td>\n",
       "    </tr>\n",
       "    <tr>\n",
       "      <th>3</th>\n",
       "      <td>2020-07-16</td>\n",
       "      <td>46.259998</td>\n",
       "      <td>46.689999</td>\n",
       "      <td>45.939999</td>\n",
       "      <td>46.150002</td>\n",
       "      <td>44.711411</td>\n",
       "      <td>13306100</td>\n",
       "    </tr>\n",
       "    <tr>\n",
       "      <th>4</th>\n",
       "      <td>2020-07-17</td>\n",
       "      <td>46.470001</td>\n",
       "      <td>46.910000</td>\n",
       "      <td>46.130001</td>\n",
       "      <td>46.820000</td>\n",
       "      <td>45.360523</td>\n",
       "      <td>13899800</td>\n",
       "    </tr>\n",
       "    <tr>\n",
       "      <th>...</th>\n",
       "      <td>...</td>\n",
       "      <td>...</td>\n",
       "      <td>...</td>\n",
       "      <td>...</td>\n",
       "      <td>...</td>\n",
       "      <td>...</td>\n",
       "      <td>...</td>\n",
       "    </tr>\n",
       "    <tr>\n",
       "      <th>246</th>\n",
       "      <td>2021-07-02</td>\n",
       "      <td>54.000000</td>\n",
       "      <td>54.450001</td>\n",
       "      <td>54.000000</td>\n",
       "      <td>54.180000</td>\n",
       "      <td>54.180000</td>\n",
       "      <td>10604600</td>\n",
       "    </tr>\n",
       "    <tr>\n",
       "      <th>247</th>\n",
       "      <td>2021-07-06</td>\n",
       "      <td>53.990002</td>\n",
       "      <td>54.090000</td>\n",
       "      <td>53.549999</td>\n",
       "      <td>53.880001</td>\n",
       "      <td>53.880001</td>\n",
       "      <td>15278200</td>\n",
       "    </tr>\n",
       "    <tr>\n",
       "      <th>248</th>\n",
       "      <td>2021-07-07</td>\n",
       "      <td>53.720001</td>\n",
       "      <td>54.380001</td>\n",
       "      <td>53.720001</td>\n",
       "      <td>54.320000</td>\n",
       "      <td>54.320000</td>\n",
       "      <td>14377700</td>\n",
       "    </tr>\n",
       "    <tr>\n",
       "      <th>249</th>\n",
       "      <td>2021-07-08</td>\n",
       "      <td>54.009998</td>\n",
       "      <td>54.169998</td>\n",
       "      <td>53.740002</td>\n",
       "      <td>54.130001</td>\n",
       "      <td>54.130001</td>\n",
       "      <td>11943900</td>\n",
       "    </tr>\n",
       "    <tr>\n",
       "      <th>250</th>\n",
       "      <td>2021-07-09</td>\n",
       "      <td>54.250000</td>\n",
       "      <td>54.520000</td>\n",
       "      <td>54.180000</td>\n",
       "      <td>54.459999</td>\n",
       "      <td>54.459999</td>\n",
       "      <td>10845500</td>\n",
       "    </tr>\n",
       "  </tbody>\n",
       "</table>\n",
       "<p>251 rows × 7 columns</p>\n",
       "</div>"
      ],
      "text/plain": [
       "          Date       Open       High        Low      Close  Adj Close  \\\n",
       "0   2020-07-13  45.529999  45.680000  44.959999  45.250000  43.839470   \n",
       "1   2020-07-14  44.910000  45.939999  44.669998  45.869999  44.440140   \n",
       "2   2020-07-15  46.299999  47.189999  46.200001  46.400002  44.953621   \n",
       "3   2020-07-16  46.259998  46.689999  45.939999  46.150002  44.711411   \n",
       "4   2020-07-17  46.470001  46.910000  46.130001  46.820000  45.360523   \n",
       "..         ...        ...        ...        ...        ...        ...   \n",
       "246 2021-07-02  54.000000  54.450001  54.000000  54.180000  54.180000   \n",
       "247 2021-07-06  53.990002  54.090000  53.549999  53.880001  53.880001   \n",
       "248 2021-07-07  53.720001  54.380001  53.720001  54.320000  54.320000   \n",
       "249 2021-07-08  54.009998  54.169998  53.740002  54.130001  54.130001   \n",
       "250 2021-07-09  54.250000  54.520000  54.180000  54.459999  54.459999   \n",
       "\n",
       "       Volume  \n",
       "0    16705300  \n",
       "1    17080100  \n",
       "2    23738000  \n",
       "3    13306100  \n",
       "4    13899800  \n",
       "..        ...  \n",
       "246  10604600  \n",
       "247  15278200  \n",
       "248  14377700  \n",
       "249  11943900  \n",
       "250  10845500  \n",
       "\n",
       "[251 rows x 7 columns]"
      ]
     },
     "execution_count": 114,
     "metadata": {},
     "output_type": "execute_result"
    }
   ],
   "source": [
    "CokeDataSetQtr2 = pd.read_csv(\"C:/Users/ariel/Downloads/KO.csv\",parse_dates=[\"Date\"])\n",
    "CokeDataSetQtr2"
   ]
  },
  {
   "cell_type": "code",
   "execution_count": 168,
   "id": "61bc4d50",
   "metadata": {},
   "outputs": [
    {
     "data": {
      "text/html": [
       "<div>\n",
       "<style scoped>\n",
       "    .dataframe tbody tr th:only-of-type {\n",
       "        vertical-align: middle;\n",
       "    }\n",
       "\n",
       "    .dataframe tbody tr th {\n",
       "        vertical-align: top;\n",
       "    }\n",
       "\n",
       "    .dataframe thead th {\n",
       "        text-align: right;\n",
       "    }\n",
       "</style>\n",
       "<table border=\"1\" class=\"dataframe\">\n",
       "  <thead>\n",
       "    <tr style=\"text-align: right;\">\n",
       "      <th></th>\n",
       "      <th>Date</th>\n",
       "      <th>Open</th>\n",
       "      <th>High</th>\n",
       "      <th>Low</th>\n",
       "      <th>Close</th>\n",
       "      <th>Adj Close</th>\n",
       "      <th>Volume</th>\n",
       "      <th>InvestToday</th>\n",
       "    </tr>\n",
       "  </thead>\n",
       "  <tbody>\n",
       "    <tr>\n",
       "      <th>0</th>\n",
       "      <td>2020-07-13</td>\n",
       "      <td>45.529999</td>\n",
       "      <td>45.680000</td>\n",
       "      <td>44.959999</td>\n",
       "      <td>45.250000</td>\n",
       "      <td>43.839470</td>\n",
       "      <td>16705300</td>\n",
       "      <td>0</td>\n",
       "    </tr>\n",
       "    <tr>\n",
       "      <th>1</th>\n",
       "      <td>2020-07-14</td>\n",
       "      <td>44.910000</td>\n",
       "      <td>45.939999</td>\n",
       "      <td>44.669998</td>\n",
       "      <td>45.869999</td>\n",
       "      <td>44.440140</td>\n",
       "      <td>17080100</td>\n",
       "      <td>1</td>\n",
       "    </tr>\n",
       "    <tr>\n",
       "      <th>2</th>\n",
       "      <td>2020-07-15</td>\n",
       "      <td>46.299999</td>\n",
       "      <td>47.189999</td>\n",
       "      <td>46.200001</td>\n",
       "      <td>46.400002</td>\n",
       "      <td>44.953621</td>\n",
       "      <td>23738000</td>\n",
       "      <td>1</td>\n",
       "    </tr>\n",
       "    <tr>\n",
       "      <th>3</th>\n",
       "      <td>2020-07-16</td>\n",
       "      <td>46.259998</td>\n",
       "      <td>46.689999</td>\n",
       "      <td>45.939999</td>\n",
       "      <td>46.150002</td>\n",
       "      <td>44.711411</td>\n",
       "      <td>13306100</td>\n",
       "      <td>0</td>\n",
       "    </tr>\n",
       "    <tr>\n",
       "      <th>4</th>\n",
       "      <td>2020-07-17</td>\n",
       "      <td>46.470001</td>\n",
       "      <td>46.910000</td>\n",
       "      <td>46.130001</td>\n",
       "      <td>46.820000</td>\n",
       "      <td>45.360523</td>\n",
       "      <td>13899800</td>\n",
       "      <td>1</td>\n",
       "    </tr>\n",
       "    <tr>\n",
       "      <th>...</th>\n",
       "      <td>...</td>\n",
       "      <td>...</td>\n",
       "      <td>...</td>\n",
       "      <td>...</td>\n",
       "      <td>...</td>\n",
       "      <td>...</td>\n",
       "      <td>...</td>\n",
       "      <td>...</td>\n",
       "    </tr>\n",
       "    <tr>\n",
       "      <th>246</th>\n",
       "      <td>2021-07-02</td>\n",
       "      <td>54.000000</td>\n",
       "      <td>54.450001</td>\n",
       "      <td>54.000000</td>\n",
       "      <td>54.180000</td>\n",
       "      <td>54.180000</td>\n",
       "      <td>10604600</td>\n",
       "      <td>1</td>\n",
       "    </tr>\n",
       "    <tr>\n",
       "      <th>247</th>\n",
       "      <td>2021-07-06</td>\n",
       "      <td>53.990002</td>\n",
       "      <td>54.090000</td>\n",
       "      <td>53.549999</td>\n",
       "      <td>53.880001</td>\n",
       "      <td>53.880001</td>\n",
       "      <td>15278200</td>\n",
       "      <td>0</td>\n",
       "    </tr>\n",
       "    <tr>\n",
       "      <th>248</th>\n",
       "      <td>2021-07-07</td>\n",
       "      <td>53.720001</td>\n",
       "      <td>54.380001</td>\n",
       "      <td>53.720001</td>\n",
       "      <td>54.320000</td>\n",
       "      <td>54.320000</td>\n",
       "      <td>14377700</td>\n",
       "      <td>1</td>\n",
       "    </tr>\n",
       "    <tr>\n",
       "      <th>249</th>\n",
       "      <td>2021-07-08</td>\n",
       "      <td>54.009998</td>\n",
       "      <td>54.169998</td>\n",
       "      <td>53.740002</td>\n",
       "      <td>54.130001</td>\n",
       "      <td>54.130001</td>\n",
       "      <td>11943900</td>\n",
       "      <td>1</td>\n",
       "    </tr>\n",
       "    <tr>\n",
       "      <th>250</th>\n",
       "      <td>2021-07-09</td>\n",
       "      <td>54.250000</td>\n",
       "      <td>54.520000</td>\n",
       "      <td>54.180000</td>\n",
       "      <td>54.459999</td>\n",
       "      <td>54.459999</td>\n",
       "      <td>10845500</td>\n",
       "      <td>1</td>\n",
       "    </tr>\n",
       "  </tbody>\n",
       "</table>\n",
       "<p>251 rows × 8 columns</p>\n",
       "</div>"
      ],
      "text/plain": [
       "          Date       Open       High        Low      Close  Adj Close  \\\n",
       "0   2020-07-13  45.529999  45.680000  44.959999  45.250000  43.839470   \n",
       "1   2020-07-14  44.910000  45.939999  44.669998  45.869999  44.440140   \n",
       "2   2020-07-15  46.299999  47.189999  46.200001  46.400002  44.953621   \n",
       "3   2020-07-16  46.259998  46.689999  45.939999  46.150002  44.711411   \n",
       "4   2020-07-17  46.470001  46.910000  46.130001  46.820000  45.360523   \n",
       "..         ...        ...        ...        ...        ...        ...   \n",
       "246 2021-07-02  54.000000  54.450001  54.000000  54.180000  54.180000   \n",
       "247 2021-07-06  53.990002  54.090000  53.549999  53.880001  53.880001   \n",
       "248 2021-07-07  53.720001  54.380001  53.720001  54.320000  54.320000   \n",
       "249 2021-07-08  54.009998  54.169998  53.740002  54.130001  54.130001   \n",
       "250 2021-07-09  54.250000  54.520000  54.180000  54.459999  54.459999   \n",
       "\n",
       "       Volume  InvestToday  \n",
       "0    16705300            0  \n",
       "1    17080100            1  \n",
       "2    23738000            1  \n",
       "3    13306100            0  \n",
       "4    13899800            1  \n",
       "..        ...          ...  \n",
       "246  10604600            1  \n",
       "247  15278200            0  \n",
       "248  14377700            1  \n",
       "249  11943900            1  \n",
       "250  10845500            1  \n",
       "\n",
       "[251 rows x 8 columns]"
      ]
     },
     "execution_count": 168,
     "metadata": {},
     "output_type": "execute_result"
    }
   ],
   "source": [
    "CokeDataSetQtr2['Date']= pd.to_datetime(CokeDataSetQtr2['Date'])\n",
    "CokeDataSetQtr2"
   ]
  },
  {
   "cell_type": "code",
   "execution_count": 169,
   "id": "8a9a9a13",
   "metadata": {},
   "outputs": [
    {
     "data": {
      "text/html": [
       "<div>\n",
       "<style scoped>\n",
       "    .dataframe tbody tr th:only-of-type {\n",
       "        vertical-align: middle;\n",
       "    }\n",
       "\n",
       "    .dataframe tbody tr th {\n",
       "        vertical-align: top;\n",
       "    }\n",
       "\n",
       "    .dataframe thead th {\n",
       "        text-align: right;\n",
       "    }\n",
       "</style>\n",
       "<table border=\"1\" class=\"dataframe\">\n",
       "  <thead>\n",
       "    <tr style=\"text-align: right;\">\n",
       "      <th></th>\n",
       "      <th>Date</th>\n",
       "      <th>Open</th>\n",
       "      <th>High</th>\n",
       "      <th>Low</th>\n",
       "      <th>Close</th>\n",
       "      <th>Adj Close</th>\n",
       "      <th>Volume</th>\n",
       "      <th>InvestToday</th>\n",
       "    </tr>\n",
       "  </thead>\n",
       "  <tbody>\n",
       "    <tr>\n",
       "      <th>0</th>\n",
       "      <td>2020-07-13</td>\n",
       "      <td>45.529999</td>\n",
       "      <td>45.680000</td>\n",
       "      <td>44.959999</td>\n",
       "      <td>45.250000</td>\n",
       "      <td>43.839470</td>\n",
       "      <td>16705300</td>\n",
       "      <td>0</td>\n",
       "    </tr>\n",
       "    <tr>\n",
       "      <th>1</th>\n",
       "      <td>2020-07-14</td>\n",
       "      <td>44.910000</td>\n",
       "      <td>45.939999</td>\n",
       "      <td>44.669998</td>\n",
       "      <td>45.869999</td>\n",
       "      <td>44.440140</td>\n",
       "      <td>17080100</td>\n",
       "      <td>1</td>\n",
       "    </tr>\n",
       "    <tr>\n",
       "      <th>2</th>\n",
       "      <td>2020-07-15</td>\n",
       "      <td>46.299999</td>\n",
       "      <td>47.189999</td>\n",
       "      <td>46.200001</td>\n",
       "      <td>46.400002</td>\n",
       "      <td>44.953621</td>\n",
       "      <td>23738000</td>\n",
       "      <td>1</td>\n",
       "    </tr>\n",
       "    <tr>\n",
       "      <th>3</th>\n",
       "      <td>2020-07-16</td>\n",
       "      <td>46.259998</td>\n",
       "      <td>46.689999</td>\n",
       "      <td>45.939999</td>\n",
       "      <td>46.150002</td>\n",
       "      <td>44.711411</td>\n",
       "      <td>13306100</td>\n",
       "      <td>0</td>\n",
       "    </tr>\n",
       "    <tr>\n",
       "      <th>4</th>\n",
       "      <td>2020-07-17</td>\n",
       "      <td>46.470001</td>\n",
       "      <td>46.910000</td>\n",
       "      <td>46.130001</td>\n",
       "      <td>46.820000</td>\n",
       "      <td>45.360523</td>\n",
       "      <td>13899800</td>\n",
       "      <td>1</td>\n",
       "    </tr>\n",
       "    <tr>\n",
       "      <th>...</th>\n",
       "      <td>...</td>\n",
       "      <td>...</td>\n",
       "      <td>...</td>\n",
       "      <td>...</td>\n",
       "      <td>...</td>\n",
       "      <td>...</td>\n",
       "      <td>...</td>\n",
       "      <td>...</td>\n",
       "    </tr>\n",
       "    <tr>\n",
       "      <th>246</th>\n",
       "      <td>2021-07-02</td>\n",
       "      <td>54.000000</td>\n",
       "      <td>54.450001</td>\n",
       "      <td>54.000000</td>\n",
       "      <td>54.180000</td>\n",
       "      <td>54.180000</td>\n",
       "      <td>10604600</td>\n",
       "      <td>1</td>\n",
       "    </tr>\n",
       "    <tr>\n",
       "      <th>247</th>\n",
       "      <td>2021-07-06</td>\n",
       "      <td>53.990002</td>\n",
       "      <td>54.090000</td>\n",
       "      <td>53.549999</td>\n",
       "      <td>53.880001</td>\n",
       "      <td>53.880001</td>\n",
       "      <td>15278200</td>\n",
       "      <td>0</td>\n",
       "    </tr>\n",
       "    <tr>\n",
       "      <th>248</th>\n",
       "      <td>2021-07-07</td>\n",
       "      <td>53.720001</td>\n",
       "      <td>54.380001</td>\n",
       "      <td>53.720001</td>\n",
       "      <td>54.320000</td>\n",
       "      <td>54.320000</td>\n",
       "      <td>14377700</td>\n",
       "      <td>1</td>\n",
       "    </tr>\n",
       "    <tr>\n",
       "      <th>249</th>\n",
       "      <td>2021-07-08</td>\n",
       "      <td>54.009998</td>\n",
       "      <td>54.169998</td>\n",
       "      <td>53.740002</td>\n",
       "      <td>54.130001</td>\n",
       "      <td>54.130001</td>\n",
       "      <td>11943900</td>\n",
       "      <td>1</td>\n",
       "    </tr>\n",
       "    <tr>\n",
       "      <th>250</th>\n",
       "      <td>2021-07-09</td>\n",
       "      <td>54.250000</td>\n",
       "      <td>54.520000</td>\n",
       "      <td>54.180000</td>\n",
       "      <td>54.459999</td>\n",
       "      <td>54.459999</td>\n",
       "      <td>10845500</td>\n",
       "      <td>1</td>\n",
       "    </tr>\n",
       "  </tbody>\n",
       "</table>\n",
       "<p>251 rows × 8 columns</p>\n",
       "</div>"
      ],
      "text/plain": [
       "          Date       Open       High        Low      Close  Adj Close  \\\n",
       "0   2020-07-13  45.529999  45.680000  44.959999  45.250000  43.839470   \n",
       "1   2020-07-14  44.910000  45.939999  44.669998  45.869999  44.440140   \n",
       "2   2020-07-15  46.299999  47.189999  46.200001  46.400002  44.953621   \n",
       "3   2020-07-16  46.259998  46.689999  45.939999  46.150002  44.711411   \n",
       "4   2020-07-17  46.470001  46.910000  46.130001  46.820000  45.360523   \n",
       "..         ...        ...        ...        ...        ...        ...   \n",
       "246 2021-07-02  54.000000  54.450001  54.000000  54.180000  54.180000   \n",
       "247 2021-07-06  53.990002  54.090000  53.549999  53.880001  53.880001   \n",
       "248 2021-07-07  53.720001  54.380001  53.720001  54.320000  54.320000   \n",
       "249 2021-07-08  54.009998  54.169998  53.740002  54.130001  54.130001   \n",
       "250 2021-07-09  54.250000  54.520000  54.180000  54.459999  54.459999   \n",
       "\n",
       "       Volume  InvestToday  \n",
       "0    16705300            0  \n",
       "1    17080100            1  \n",
       "2    23738000            1  \n",
       "3    13306100            0  \n",
       "4    13899800            1  \n",
       "..        ...          ...  \n",
       "246  10604600            1  \n",
       "247  15278200            0  \n",
       "248  14377700            1  \n",
       "249  11943900            1  \n",
       "250  10845500            1  \n",
       "\n",
       "[251 rows x 8 columns]"
      ]
     },
     "execution_count": 169,
     "metadata": {},
     "output_type": "execute_result"
    }
   ],
   "source": [
    "CokeDataSetQtr2['InvestToday'] = np.where(CokeDataSetQtr2.Close - CokeDataSetQtr2.Open>0, 1, 0)\n",
    "CokeDataSetQtr2"
   ]
  },
  {
   "cell_type": "code",
   "execution_count": 170,
   "id": "2b5411c5",
   "metadata": {},
   "outputs": [],
   "source": [
    "Continuous_Cols=[ 'Open', 'High', 'Low', 'Close', 'Adj Close', 'Volume']\n",
    "Categorical_Cols=['InvestToday']"
   ]
  },
  {
   "cell_type": "code",
   "execution_count": 171,
   "id": "8ac819d7",
   "metadata": {},
   "outputs": [
    {
     "name": "stdout",
     "output_type": "stream",
     "text": [
      "Population:\n",
      " 1    52.191235\n",
      "0    47.808765\n",
      "Name: InvestToday, dtype: float64\n",
      "Train:\n",
      " 1    52.571429\n",
      "0    47.428571\n",
      "Name: InvestToday, dtype: float64\n",
      "Test:\n",
      " 1    51.315789\n",
      "0    48.684211\n",
      "Name: InvestToday, dtype: float64\n"
     ]
    }
   ],
   "source": [
    "Predictor_Cols = Categorical_Cols + Continuous_Cols\n",
    "\n",
    "Target_Col = 'InvestToday'\n",
    "\n",
    "X=CokeDataSetQtr2[Continuous_Cols]\n",
    "y=CokeDataSetQtr2[Target_Col]\n",
    "\n",
    "X_train, X_test, y_train, y_test = train_test_split(X, y, test_size=0.30)\n",
    "print(\"Population:\\n\",y.value_counts(normalize=True)*100)\n",
    "print(\"Train:\\n\", y_train.value_counts(normalize=True)*100)\n",
    "print(\"Test:\\n\", y_test.value_counts(normalize=True)*100)"
   ]
  },
  {
   "cell_type": "code",
   "execution_count": 172,
   "id": "0e303dfe",
   "metadata": {},
   "outputs": [],
   "source": [
    "knn = KNeighborsClassifier(n_neighbors=3)"
   ]
  },
  {
   "cell_type": "code",
   "execution_count": 173,
   "id": "715144cc",
   "metadata": {},
   "outputs": [
    {
     "data": {
      "text/plain": [
       "KNeighborsClassifier(n_neighbors=3)"
      ]
     },
     "execution_count": 173,
     "metadata": {},
     "output_type": "execute_result"
    }
   ],
   "source": [
    "knn.fit(X_train, y_train)   "
   ]
  },
  {
   "cell_type": "code",
   "execution_count": 174,
   "id": "f4d25149",
   "metadata": {},
   "outputs": [
    {
     "data": {
      "text/plain": [
       "0.7714285714285715"
      ]
     },
     "execution_count": 174,
     "metadata": {},
     "output_type": "execute_result"
    }
   ],
   "source": [
    "knn.score(X_train, y_train) "
   ]
  },
  {
   "cell_type": "code",
   "execution_count": 175,
   "id": "df9a46cc",
   "metadata": {},
   "outputs": [
    {
     "data": {
      "text/plain": [
       "0.5"
      ]
     },
     "execution_count": 175,
     "metadata": {},
     "output_type": "execute_result"
    }
   ],
   "source": [
    "knn.score(X_test, y_test) "
   ]
  },
  {
   "cell_type": "markdown",
   "id": "656f2467",
   "metadata": {},
   "source": [
    "# Confusion Matrix"
   ]
  },
  {
   "cell_type": "code",
   "execution_count": 176,
   "id": "13c859cd",
   "metadata": {},
   "outputs": [],
   "source": [
    "from sklearn.metrics import confusion_matrix\n",
    "from sklearn.metrics import accuracy_score, recall_score, precision_score, fbeta_score, classification_report\n",
    "\n",
    "def printMetrics(test, predictions):\n",
    "    print(\"Confusion Matrix:\")\n",
    "    print(confusion_matrix(test, predictions))\n",
    "    print(\"------------------\")\n",
    "    print(f\"Accuracy: {accuracy_score(test, predictions):.2f}\")\n",
    "    print(f\"Recall: {recall_score(test, predictions):.2f}\")\n",
    "    print(f\"Prediction: {precision_score(test, predictions):.2f}\")\n",
    "    print(f\"f-measure: {fbeta_score(test, predictions, beta=1):.2f}\")\n",
    "    print(\"------------------\")\n",
    "    print(classification_report(test, predictions))"
   ]
  },
  {
   "cell_type": "code",
   "execution_count": 177,
   "id": "9dcc1fc0",
   "metadata": {},
   "outputs": [
    {
     "name": "stdout",
     "output_type": "stream",
     "text": [
      "Confusion Matrix:\n",
      "[[19 18]\n",
      " [20 19]]\n",
      "------------------\n",
      "Accuracy: 0.50\n",
      "Recall: 0.49\n",
      "Prediction: 0.51\n",
      "f-measure: 0.50\n",
      "------------------\n",
      "              precision    recall  f1-score   support\n",
      "\n",
      "           0       0.49      0.51      0.50        37\n",
      "           1       0.51      0.49      0.50        39\n",
      "\n",
      "    accuracy                           0.50        76\n",
      "   macro avg       0.50      0.50      0.50        76\n",
      "weighted avg       0.50      0.50      0.50        76\n",
      "\n"
     ]
    }
   ],
   "source": [
    "predictions = knn.predict(X_test)\n",
    "printMetrics(y_test, predictions)"
   ]
  },
  {
   "cell_type": "code",
   "execution_count": 178,
   "id": "360a99c6",
   "metadata": {},
   "outputs": [
    {
     "data": {
      "text/html": [
       "<div>\n",
       "<style scoped>\n",
       "    .dataframe tbody tr th:only-of-type {\n",
       "        vertical-align: middle;\n",
       "    }\n",
       "\n",
       "    .dataframe tbody tr th {\n",
       "        vertical-align: top;\n",
       "    }\n",
       "\n",
       "    .dataframe thead th {\n",
       "        text-align: right;\n",
       "    }\n",
       "</style>\n",
       "<table border=\"1\" class=\"dataframe\">\n",
       "  <thead>\n",
       "    <tr style=\"text-align: right;\">\n",
       "      <th></th>\n",
       "      <th>Date</th>\n",
       "      <th>Open</th>\n",
       "      <th>High</th>\n",
       "      <th>Low</th>\n",
       "      <th>Close</th>\n",
       "      <th>Adj Close</th>\n",
       "      <th>Volume</th>\n",
       "      <th>InvestToday</th>\n",
       "    </tr>\n",
       "  </thead>\n",
       "  <tbody>\n",
       "    <tr>\n",
       "      <th>0</th>\n",
       "      <td>2020-07-13</td>\n",
       "      <td>45.529999</td>\n",
       "      <td>45.680000</td>\n",
       "      <td>44.959999</td>\n",
       "      <td>45.250000</td>\n",
       "      <td>43.839470</td>\n",
       "      <td>16705300</td>\n",
       "      <td>0</td>\n",
       "    </tr>\n",
       "    <tr>\n",
       "      <th>1</th>\n",
       "      <td>2020-07-14</td>\n",
       "      <td>44.910000</td>\n",
       "      <td>45.939999</td>\n",
       "      <td>44.669998</td>\n",
       "      <td>45.869999</td>\n",
       "      <td>44.440140</td>\n",
       "      <td>17080100</td>\n",
       "      <td>1</td>\n",
       "    </tr>\n",
       "    <tr>\n",
       "      <th>2</th>\n",
       "      <td>2020-07-15</td>\n",
       "      <td>46.299999</td>\n",
       "      <td>47.189999</td>\n",
       "      <td>46.200001</td>\n",
       "      <td>46.400002</td>\n",
       "      <td>44.953621</td>\n",
       "      <td>23738000</td>\n",
       "      <td>1</td>\n",
       "    </tr>\n",
       "    <tr>\n",
       "      <th>3</th>\n",
       "      <td>2020-07-16</td>\n",
       "      <td>46.259998</td>\n",
       "      <td>46.689999</td>\n",
       "      <td>45.939999</td>\n",
       "      <td>46.150002</td>\n",
       "      <td>44.711411</td>\n",
       "      <td>13306100</td>\n",
       "      <td>0</td>\n",
       "    </tr>\n",
       "    <tr>\n",
       "      <th>4</th>\n",
       "      <td>2020-07-17</td>\n",
       "      <td>46.470001</td>\n",
       "      <td>46.910000</td>\n",
       "      <td>46.130001</td>\n",
       "      <td>46.820000</td>\n",
       "      <td>45.360523</td>\n",
       "      <td>13899800</td>\n",
       "      <td>1</td>\n",
       "    </tr>\n",
       "    <tr>\n",
       "      <th>...</th>\n",
       "      <td>...</td>\n",
       "      <td>...</td>\n",
       "      <td>...</td>\n",
       "      <td>...</td>\n",
       "      <td>...</td>\n",
       "      <td>...</td>\n",
       "      <td>...</td>\n",
       "      <td>...</td>\n",
       "    </tr>\n",
       "    <tr>\n",
       "      <th>246</th>\n",
       "      <td>2021-07-02</td>\n",
       "      <td>54.000000</td>\n",
       "      <td>54.450001</td>\n",
       "      <td>54.000000</td>\n",
       "      <td>54.180000</td>\n",
       "      <td>54.180000</td>\n",
       "      <td>10604600</td>\n",
       "      <td>1</td>\n",
       "    </tr>\n",
       "    <tr>\n",
       "      <th>247</th>\n",
       "      <td>2021-07-06</td>\n",
       "      <td>53.990002</td>\n",
       "      <td>54.090000</td>\n",
       "      <td>53.549999</td>\n",
       "      <td>53.880001</td>\n",
       "      <td>53.880001</td>\n",
       "      <td>15278200</td>\n",
       "      <td>0</td>\n",
       "    </tr>\n",
       "    <tr>\n",
       "      <th>248</th>\n",
       "      <td>2021-07-07</td>\n",
       "      <td>53.720001</td>\n",
       "      <td>54.380001</td>\n",
       "      <td>53.720001</td>\n",
       "      <td>54.320000</td>\n",
       "      <td>54.320000</td>\n",
       "      <td>14377700</td>\n",
       "      <td>1</td>\n",
       "    </tr>\n",
       "    <tr>\n",
       "      <th>249</th>\n",
       "      <td>2021-07-08</td>\n",
       "      <td>54.009998</td>\n",
       "      <td>54.169998</td>\n",
       "      <td>53.740002</td>\n",
       "      <td>54.130001</td>\n",
       "      <td>54.130001</td>\n",
       "      <td>11943900</td>\n",
       "      <td>1</td>\n",
       "    </tr>\n",
       "    <tr>\n",
       "      <th>250</th>\n",
       "      <td>2021-07-09</td>\n",
       "      <td>54.250000</td>\n",
       "      <td>54.520000</td>\n",
       "      <td>54.180000</td>\n",
       "      <td>54.459999</td>\n",
       "      <td>54.459999</td>\n",
       "      <td>10845500</td>\n",
       "      <td>1</td>\n",
       "    </tr>\n",
       "  </tbody>\n",
       "</table>\n",
       "<p>251 rows × 8 columns</p>\n",
       "</div>"
      ],
      "text/plain": [
       "          Date       Open       High        Low      Close  Adj Close  \\\n",
       "0   2020-07-13  45.529999  45.680000  44.959999  45.250000  43.839470   \n",
       "1   2020-07-14  44.910000  45.939999  44.669998  45.869999  44.440140   \n",
       "2   2020-07-15  46.299999  47.189999  46.200001  46.400002  44.953621   \n",
       "3   2020-07-16  46.259998  46.689999  45.939999  46.150002  44.711411   \n",
       "4   2020-07-17  46.470001  46.910000  46.130001  46.820000  45.360523   \n",
       "..         ...        ...        ...        ...        ...        ...   \n",
       "246 2021-07-02  54.000000  54.450001  54.000000  54.180000  54.180000   \n",
       "247 2021-07-06  53.990002  54.090000  53.549999  53.880001  53.880001   \n",
       "248 2021-07-07  53.720001  54.380001  53.720001  54.320000  54.320000   \n",
       "249 2021-07-08  54.009998  54.169998  53.740002  54.130001  54.130001   \n",
       "250 2021-07-09  54.250000  54.520000  54.180000  54.459999  54.459999   \n",
       "\n",
       "       Volume  InvestToday  \n",
       "0    16705300            0  \n",
       "1    17080100            1  \n",
       "2    23738000            1  \n",
       "3    13306100            0  \n",
       "4    13899800            1  \n",
       "..        ...          ...  \n",
       "246  10604600            1  \n",
       "247  15278200            0  \n",
       "248  14377700            1  \n",
       "249  11943900            1  \n",
       "250  10845500            1  \n",
       "\n",
       "[251 rows x 8 columns]"
      ]
     },
     "execution_count": 178,
     "metadata": {},
     "output_type": "execute_result"
    }
   ],
   "source": [
    "import random as rnd\n",
    "rnd.seed(1024)\n",
    "CokeDataSetQtr2"
   ]
  },
  {
   "cell_type": "code",
   "execution_count": 179,
   "id": "2a8eb873",
   "metadata": {},
   "outputs": [
    {
     "data": {
      "text/plain": [
       "[{'Open': 51,\n",
       "  'High': 1,\n",
       "  'Low': 30,\n",
       "  'Close': 54,\n",
       "  'Adj Close': 24,\n",
       "  'Volume': 43381300},\n",
       " {'Open': 53,\n",
       "  'High': 50,\n",
       "  'Low': 55,\n",
       "  'Close': 33,\n",
       "  'Adj Close': 6,\n",
       "  'Volume': 59743094},\n",
       " {'Open': 32,\n",
       "  'High': 23,\n",
       "  'Low': 51,\n",
       "  'Close': 46,\n",
       "  'Adj Close': 51,\n",
       "  'Volume': 49503013},\n",
       " {'Open': 24,\n",
       "  'High': 50,\n",
       "  'Low': 6,\n",
       "  'Close': 45,\n",
       "  'Adj Close': 47,\n",
       "  'Volume': 18811163},\n",
       " {'Open': 51,\n",
       "  'High': 24,\n",
       "  'Low': 6,\n",
       "  'Close': 26,\n",
       "  'Adj Close': 9,\n",
       "  'Volume': 58546977},\n",
       " {'Open': 30,\n",
       "  'High': 28,\n",
       "  'Low': 47,\n",
       "  'Close': 33,\n",
       "  'Adj Close': 53,\n",
       "  'Volume': 46594938},\n",
       " {'Open': 39,\n",
       "  'High': 38,\n",
       "  'Low': 5,\n",
       "  'Close': 2,\n",
       "  'Adj Close': 5,\n",
       "  'Volume': 11017396},\n",
       " {'Open': 6,\n",
       "  'High': 23,\n",
       "  'Low': 44,\n",
       "  'Close': 21,\n",
       "  'Adj Close': 55,\n",
       "  'Volume': 455923},\n",
       " {'Open': 23,\n",
       "  'High': 19,\n",
       "  'Low': 11,\n",
       "  'Close': 8,\n",
       "  'Adj Close': 10,\n",
       "  'Volume': 52231348},\n",
       " {'Open': 18,\n",
       "  'High': 10,\n",
       "  'Low': 55,\n",
       "  'Close': 5,\n",
       "  'Adj Close': 14,\n",
       "  'Volume': 16239211}]"
      ]
     },
     "execution_count": 179,
     "metadata": {},
     "output_type": "execute_result"
    }
   ],
   "source": [
    "numElements = 10\n",
    "SampleStock = []\n",
    "for _ in range(numElements):\n",
    "    dict = {}\n",
    "    for column in X.columns:\n",
    "        min = 0  \n",
    "        maxValue = round(max(CokeDataSetQtr2[column].values))\n",
    "        dict[column] = rnd.randint(min, maxValue)\n",
    "    SampleStock.append(dict)\n",
    "SampleStock"
   ]
  },
  {
   "cell_type": "code",
   "execution_count": 180,
   "id": "58f14fbe",
   "metadata": {},
   "outputs": [
    {
     "data": {
      "text/plain": [
       "array([0, 0, 0, 1, 0, 0, 1, 1, 0, 1])"
      ]
     },
     "execution_count": 180,
     "metadata": {},
     "output_type": "execute_result"
    }
   ],
   "source": [
    "pdSampleStock = pd.DataFrame.from_dict(SampleStock)\n",
    "predictions = knn.predict(pdSampleStock)\n",
    "predictions"
   ]
  },
  {
   "cell_type": "code",
   "execution_count": 181,
   "id": "2bc7ea83",
   "metadata": {},
   "outputs": [
    {
     "data": {
      "text/html": [
       "<div>\n",
       "<style scoped>\n",
       "    .dataframe tbody tr th:only-of-type {\n",
       "        vertical-align: middle;\n",
       "    }\n",
       "\n",
       "    .dataframe tbody tr th {\n",
       "        vertical-align: top;\n",
       "    }\n",
       "\n",
       "    .dataframe thead th {\n",
       "        text-align: right;\n",
       "    }\n",
       "</style>\n",
       "<table border=\"1\" class=\"dataframe\">\n",
       "  <thead>\n",
       "    <tr style=\"text-align: right;\">\n",
       "      <th></th>\n",
       "      <th>Open</th>\n",
       "      <th>High</th>\n",
       "      <th>Low</th>\n",
       "      <th>Close</th>\n",
       "      <th>Adj Close</th>\n",
       "      <th>Volume</th>\n",
       "      <th>InvestToday?</th>\n",
       "    </tr>\n",
       "  </thead>\n",
       "  <tbody>\n",
       "    <tr>\n",
       "      <th>0</th>\n",
       "      <td>51</td>\n",
       "      <td>1</td>\n",
       "      <td>30</td>\n",
       "      <td>54</td>\n",
       "      <td>24</td>\n",
       "      <td>43381300</td>\n",
       "      <td>False</td>\n",
       "    </tr>\n",
       "    <tr>\n",
       "      <th>1</th>\n",
       "      <td>53</td>\n",
       "      <td>50</td>\n",
       "      <td>55</td>\n",
       "      <td>33</td>\n",
       "      <td>6</td>\n",
       "      <td>59743094</td>\n",
       "      <td>False</td>\n",
       "    </tr>\n",
       "    <tr>\n",
       "      <th>2</th>\n",
       "      <td>32</td>\n",
       "      <td>23</td>\n",
       "      <td>51</td>\n",
       "      <td>46</td>\n",
       "      <td>51</td>\n",
       "      <td>49503013</td>\n",
       "      <td>False</td>\n",
       "    </tr>\n",
       "    <tr>\n",
       "      <th>3</th>\n",
       "      <td>24</td>\n",
       "      <td>50</td>\n",
       "      <td>6</td>\n",
       "      <td>45</td>\n",
       "      <td>47</td>\n",
       "      <td>18811163</td>\n",
       "      <td>True</td>\n",
       "    </tr>\n",
       "    <tr>\n",
       "      <th>4</th>\n",
       "      <td>51</td>\n",
       "      <td>24</td>\n",
       "      <td>6</td>\n",
       "      <td>26</td>\n",
       "      <td>9</td>\n",
       "      <td>58546977</td>\n",
       "      <td>False</td>\n",
       "    </tr>\n",
       "    <tr>\n",
       "      <th>5</th>\n",
       "      <td>30</td>\n",
       "      <td>28</td>\n",
       "      <td>47</td>\n",
       "      <td>33</td>\n",
       "      <td>53</td>\n",
       "      <td>46594938</td>\n",
       "      <td>False</td>\n",
       "    </tr>\n",
       "    <tr>\n",
       "      <th>6</th>\n",
       "      <td>39</td>\n",
       "      <td>38</td>\n",
       "      <td>5</td>\n",
       "      <td>2</td>\n",
       "      <td>5</td>\n",
       "      <td>11017396</td>\n",
       "      <td>True</td>\n",
       "    </tr>\n",
       "    <tr>\n",
       "      <th>7</th>\n",
       "      <td>6</td>\n",
       "      <td>23</td>\n",
       "      <td>44</td>\n",
       "      <td>21</td>\n",
       "      <td>55</td>\n",
       "      <td>455923</td>\n",
       "      <td>True</td>\n",
       "    </tr>\n",
       "    <tr>\n",
       "      <th>8</th>\n",
       "      <td>23</td>\n",
       "      <td>19</td>\n",
       "      <td>11</td>\n",
       "      <td>8</td>\n",
       "      <td>10</td>\n",
       "      <td>52231348</td>\n",
       "      <td>False</td>\n",
       "    </tr>\n",
       "    <tr>\n",
       "      <th>9</th>\n",
       "      <td>18</td>\n",
       "      <td>10</td>\n",
       "      <td>55</td>\n",
       "      <td>5</td>\n",
       "      <td>14</td>\n",
       "      <td>16239211</td>\n",
       "      <td>True</td>\n",
       "    </tr>\n",
       "  </tbody>\n",
       "</table>\n",
       "</div>"
      ],
      "text/plain": [
       "   Open  High  Low  Close  Adj Close    Volume  InvestToday?\n",
       "0    51     1   30     54         24  43381300         False\n",
       "1    53    50   55     33          6  59743094         False\n",
       "2    32    23   51     46         51  49503013         False\n",
       "3    24    50    6     45         47  18811163          True\n",
       "4    51    24    6     26          9  58546977         False\n",
       "5    30    28   47     33         53  46594938         False\n",
       "6    39    38    5      2          5  11017396          True\n",
       "7     6    23   44     21         55    455923          True\n",
       "8    23    19   11      8         10  52231348         False\n",
       "9    18    10   55      5         14  16239211          True"
      ]
     },
     "execution_count": 181,
     "metadata": {},
     "output_type": "execute_result"
    }
   ],
   "source": [
    "pdPredictedInvest = pdSampleStock\n",
    "pdPredictedInvest[\"InvestToday?\"] = predictions.astype(bool)\n",
    "pdPredictedInvest"
   ]
  },
  {
   "cell_type": "code",
   "execution_count": 182,
   "id": "2ba512db",
   "metadata": {},
   "outputs": [
    {
     "data": {
      "text/plain": [
       "LogisticRegression(solver='liblinear')"
      ]
     },
     "execution_count": 182,
     "metadata": {},
     "output_type": "execute_result"
    }
   ],
   "source": [
    "lr = LogisticRegression(solver=\"liblinear\")\n",
    "lr"
   ]
  },
  {
   "cell_type": "code",
   "execution_count": 183,
   "id": "792873ea",
   "metadata": {},
   "outputs": [
    {
     "data": {
      "text/plain": [
       "LogisticRegression(solver='liblinear')"
      ]
     },
     "execution_count": 183,
     "metadata": {},
     "output_type": "execute_result"
    }
   ],
   "source": [
    "lr.fit(X_train, y_train)\n"
   ]
  },
  {
   "cell_type": "code",
   "execution_count": 184,
   "id": "c2f5bccf",
   "metadata": {},
   "outputs": [
    {
     "data": {
      "text/plain": [
       "0.5257142857142857"
      ]
     },
     "execution_count": 184,
     "metadata": {},
     "output_type": "execute_result"
    }
   ],
   "source": [
    "lr.score(X_train, y_train)\n"
   ]
  },
  {
   "cell_type": "code",
   "execution_count": 185,
   "id": "8aaee664",
   "metadata": {},
   "outputs": [
    {
     "data": {
      "text/plain": [
       "0.5131578947368421"
      ]
     },
     "execution_count": 185,
     "metadata": {},
     "output_type": "execute_result"
    }
   ],
   "source": [
    "lr.score(X_test, y_test)\n"
   ]
  },
  {
   "cell_type": "code",
   "execution_count": 186,
   "id": "bea58ace",
   "metadata": {},
   "outputs": [],
   "source": [
    "predictions = lr.predict(X_test)"
   ]
  },
  {
   "cell_type": "code",
   "execution_count": 187,
   "id": "a80120b7",
   "metadata": {},
   "outputs": [
    {
     "data": {
      "application/vnd.plotly.v1+json": {
       "config": {
        "plotlyServerURL": "https://plot.ly"
       },
       "data": [
        {
         "hovertemplate": "Close=%{x}<br>Open=%{y}<br>InvestToday=%{marker.color}<extra></extra>",
         "legendgroup": "",
         "marker": {
          "color": [
           0,
           1,
           1,
           0,
           1,
           0,
           0,
           1,
           0,
           1,
           1,
           0,
           0,
           1,
           0,
           0,
           1,
           1,
           1,
           1,
           0,
           0,
           1,
           1,
           1,
           0,
           1,
           0,
           1,
           0,
           1,
           0,
           1,
           0,
           1,
           0,
           0,
           1,
           0,
           1,
           0,
           1,
           0,
           1,
           0,
           1,
           0,
           1,
           0,
           0,
           1,
           0,
           1,
           1,
           0,
           0,
           1,
           0,
           1,
           0,
           0,
           1,
           1,
           1,
           1,
           0,
           1,
           1,
           1,
           0,
           1,
           1,
           0,
           0,
           0,
           1,
           0,
           1,
           1,
           0,
           1,
           0,
           0,
           0,
           1,
           1,
           0,
           0,
           1,
           0,
           1,
           0,
           1,
           0,
           0,
           1,
           0,
           0,
           0,
           0,
           1,
           1,
           1,
           0,
           1,
           0,
           0,
           1,
           0,
           1,
           0,
           0,
           1,
           1,
           0,
           1,
           1,
           1,
           0,
           1,
           1,
           0,
           0,
           0,
           0,
           1,
           0,
           1,
           1,
           0,
           0,
           0,
           1,
           1,
           0,
           1,
           1,
           0,
           1,
           0,
           1,
           1,
           0,
           1,
           1,
           0,
           0,
           0,
           1,
           1,
           0,
           1,
           1,
           0,
           1,
           0,
           1,
           0,
           0,
           1,
           1,
           1,
           0,
           1,
           1,
           0,
           1,
           0,
           0,
           1,
           1,
           0,
           0,
           1,
           1,
           1,
           1,
           1,
           1,
           1,
           0,
           0,
           0,
           1,
           1,
           0,
           0,
           1,
           1,
           1,
           1,
           1,
           0,
           0,
           1,
           1,
           0,
           1,
           0,
           1,
           0,
           1,
           0,
           1,
           0,
           0,
           1,
           1,
           1,
           0,
           0,
           1,
           0,
           0,
           0,
           1,
           1,
           0,
           1,
           0,
           1,
           1,
           0,
           0,
           0,
           1,
           1,
           0,
           0,
           0,
           0,
           1,
           0,
           0,
           0,
           1,
           0,
           1,
           1,
           0,
           1,
           1,
           1,
           0,
           1,
           0,
           1,
           0,
           1,
           1,
           1
          ],
          "coloraxis": "coloraxis",
          "symbol": "circle"
         },
         "mode": "markers",
         "name": "",
         "orientation": "v",
         "showlegend": false,
         "type": "scatter",
         "x": [
          45.25,
          45.869999,
          46.400002,
          46.150002,
          46.82,
          46.119999,
          47.200001,
          48.48,
          48.279999,
          48.490002,
          48.48,
          48.18,
          48.02,
          47.689999,
          47.240002,
          46.299999,
          46.689999,
          47.220001,
          47.48,
          47.799999,
          47.720001,
          47.93,
          48.43,
          48.380001,
          48.450001,
          48.209999,
          48.419998,
          47.369999,
          47.349998,
          47.279999,
          47.970001,
          47.91,
          48.16,
          48.23,
          49.830002,
          49.529999,
          49.119999,
          51.189999,
          50.48,
          51.040001,
          49.810001,
          50.189999,
          50,
          51.060001,
          50.709999,
          51.049999,
          50.790001,
          50.549999,
          50.450001,
          49.09,
          49.66,
          48.209999,
          48.700001,
          48.720001,
          49.279999,
          48.919998,
          49.369999,
          49.18,
          49.360001,
          49.380001,
          48.939999,
          49.560001,
          50.459999,
          50.810001,
          51.09,
          50.220001,
          50.119999,
          49.990002,
          50.029999,
          49.619999,
          50.25,
          49.990002,
          50.68,
          50.52,
          49.799999,
          49.900002,
          47.959999,
          48.02,
          48.060001,
          48.619999,
          49.349998,
          49.169998,
          49.439999,
          49.450001,
          52.57,
          53.98,
          53.580002,
          53.009998,
          53.450001,
          53.849998,
          53.68,
          52.610001,
          53.130001,
          52.669998,
          52.68,
          53.220001,
          52.93,
          52.700001,
          51.599998,
          52.040001,
          52.110001,
          52.779999,
          53.849998,
          52.990002,
          53.18,
          53.330002,
          53.049999,
          53.349998,
          53.27,
          53.84,
          53.060001,
          53.27,
          53.740002,
          52.810001,
          52.759998,
          53.080002,
          53.439999,
          54.16,
          54.130001,
          54.439999,
          54.84,
          52.759998,
          52.18,
          50.52,
          49.959999,
          51.080002,
          50.200001,
          50.110001,
          50.16,
          49.23,
          48.700001,
          48.509998,
          48.68,
          48.950001,
          48.490002,
          48.779999,
          49.290001,
          48.529999,
          49.150002,
          48.150002,
          48.48,
          48.959999,
          48.77,
          49.009998,
          49.650002,
          49.919998,
          49.700001,
          49.599998,
          50.299999,
          50.689999,
          50.27,
          50.130001,
          50.77,
          50.110001,
          50.630001,
          50.540001,
          50.709999,
          50.169998,
          48.990002,
          49.900002,
          50.099998,
          49.98,
          49.939999,
          50.790001,
          51.639999,
          50.860001,
          51.439999,
          50.880001,
          50.360001,
          51.029999,
          51.220001,
          51.240002,
          50.57,
          50.810001,
          51,
          51.389999,
          51.52,
          52.02,
          53.040001,
          53.849998,
          53.150002,
          52.709999,
          52.509998,
          52.810001,
          53.189999,
          53.279999,
          53.119999,
          53.18,
          53.349998,
          53.09,
          53.080002,
          53.330002,
          53.68,
          54,
          54.169998,
          54.610001,
          54.439999,
          54.470001,
          53.66,
          53.580002,
          53.59,
          54.259998,
          53.98,
          54.48,
          54.139999,
          54,
          54.540001,
          54.509998,
          54.91,
          54.32,
          54.040001,
          54.509998,
          54.73,
          54.639999,
          54.34,
          54.169998,
          54.650002,
          54.619999,
          54.799999,
          54.790001,
          55.029999,
          55.490002,
          55.290001,
          55.279999,
          55.5,
          55.639999,
          56.240002,
          56.040001,
          55.650002,
          55.48,
          55.91,
          56.16,
          55.549999,
          55.41,
          54.669998,
          54.950001,
          53.77,
          54.360001,
          54.560001,
          54.119999,
          54.389999,
          54.32,
          54.259998,
          53.860001,
          54.110001,
          53.959999,
          54.18,
          53.880001,
          54.32,
          54.130001,
          54.459999
         ],
         "xaxis": "x",
         "y": [
          45.529999,
          44.91,
          46.299999,
          46.259998,
          46.470001,
          46.720001,
          47.52,
          47.93,
          48.470001,
          48.400002,
          48.18,
          48.34,
          48.139999,
          47.669998,
          47.439999,
          47.139999,
          46.290001,
          46.900002,
          46.66,
          47.470001,
          48.060001,
          48.459999,
          48.299999,
          48.259998,
          48.34,
          48.32,
          48.200001,
          48.119999,
          47.27,
          47.34,
          47.43,
          48,
          47.759998,
          48.25,
          48.75,
          49.799999,
          49.310001,
          49.360001,
          51.400002,
          50.939999,
          50.93,
          49.599998,
          50.349998,
          50.400002,
          50.970001,
          51,
          50.950001,
          50.220001,
          50.75,
          49.75,
          49.110001,
          49.73,
          48.209999,
          48.200001,
          49.310001,
          49.389999,
          49.27,
          49.439999,
          48.759998,
          49.43,
          49.549999,
          49.02,
          49.709999,
          50.669998,
          50.84,
          50.990002,
          50.049999,
          49.400002,
          49.990002,
          50.029999,
          49.889999,
          49.959999,
          51.169998,
          51,
          50.34,
          49.810001,
          49,
          47.73,
          47.810001,
          48.75,
          49.220001,
          49.43,
          49.759998,
          49.650002,
          52.5,
          52.57,
          53.93,
          53.049999,
          53.25,
          54.5,
          53.66,
          53.75,
          52.490002,
          53.189999,
          52.950001,
          53.139999,
          53.07,
          53.110001,
          52.09,
          52.139999,
          51.900002,
          51.900002,
          52.779999,
          53.759998,
          52.939999,
          53.369999,
          53.400002,
          52.799999,
          53.650002,
          53.790001,
          53.599998,
          53.299999,
          53.080002,
          52.68,
          52.810001,
          52.950001,
          53.02,
          53.849998,
          54.450001,
          54.049999,
          54.450001,
          54.27,
          52.330002,
          51.970001,
          50.09,
          50.029999,
          50.619999,
          50.040001,
          49.98,
          50.16,
          49.16,
          48.740002,
          48.540001,
          48.779999,
          48.810001,
          48.419998,
          48.91,
          48.889999,
          48.689999,
          49.029999,
          48.27,
          48.799999,
          48.950001,
          48.959999,
          49.5,
          49.959999,
          49.849998,
          50.41,
          49.810001,
          50.57,
          50.619999,
          50,
          50.16,
          50.790001,
          49.849998,
          51,
          50.389999,
          50.470001,
          50.200001,
          49.439999,
          49.84,
          49.720001,
          50.310001,
          50.049999,
          51.470001,
          51.720001,
          51.18,
          51.41,
          50.59,
          50.5,
          51.200001,
          51.25,
          51.060001,
          50.459999,
          50.32,
          50.990002,
          51.169998,
          51.700001,
          52.139999,
          52.73,
          53.75,
          53.029999,
          52.959999,
          52.349998,
          53.040001,
          53.279999,
          53.169998,
          53.169998,
          53.330002,
          53.040001,
          52.98,
          53.130001,
          53.740002,
          54,
          53.84,
          54.240002,
          54.470001,
          54.400002,
          54.470001,
          53.560001,
          53.98,
          53.540001,
          54.25,
          54.27,
          54.57,
          54.139999,
          54.119999,
          54.439999,
          54.880001,
          55.029999,
          54.360001,
          53.970001,
          54.900002,
          54.84,
          54.389999,
          54.119999,
          54.119999,
          54.799999,
          54.630001,
          54.82,
          54.98,
          55.209999,
          55.349998,
          55.34,
          55.5,
          55.18,
          55.900002,
          56.310001,
          56.25,
          55.75,
          55.91,
          55.990002,
          55.689999,
          55.779999,
          55.439999,
          54.669998,
          54.509998,
          54.220001,
          54.34,
          54.560001,
          54.259998,
          54.240002,
          54.25,
          54.130001,
          53.799999,
          54.34,
          54,
          53.990002,
          53.720001,
          54.009998,
          54.25
         ],
         "yaxis": "y"
        }
       ],
       "layout": {
        "coloraxis": {
         "colorbar": {
          "title": {
           "text": "InvestToday"
          }
         },
         "colorscale": [
          [
           0,
           "#0d0887"
          ],
          [
           0.1111111111111111,
           "#46039f"
          ],
          [
           0.2222222222222222,
           "#7201a8"
          ],
          [
           0.3333333333333333,
           "#9c179e"
          ],
          [
           0.4444444444444444,
           "#bd3786"
          ],
          [
           0.5555555555555556,
           "#d8576b"
          ],
          [
           0.6666666666666666,
           "#ed7953"
          ],
          [
           0.7777777777777778,
           "#fb9f3a"
          ],
          [
           0.8888888888888888,
           "#fdca26"
          ],
          [
           1,
           "#f0f921"
          ]
         ]
        },
        "legend": {
         "tracegroupgap": 0
        },
        "margin": {
         "t": 60
        },
        "template": {
         "data": {
          "bar": [
           {
            "error_x": {
             "color": "#2a3f5f"
            },
            "error_y": {
             "color": "#2a3f5f"
            },
            "marker": {
             "line": {
              "color": "#E5ECF6",
              "width": 0.5
             },
             "pattern": {
              "fillmode": "overlay",
              "size": 10,
              "solidity": 0.2
             }
            },
            "type": "bar"
           }
          ],
          "barpolar": [
           {
            "marker": {
             "line": {
              "color": "#E5ECF6",
              "width": 0.5
             },
             "pattern": {
              "fillmode": "overlay",
              "size": 10,
              "solidity": 0.2
             }
            },
            "type": "barpolar"
           }
          ],
          "carpet": [
           {
            "aaxis": {
             "endlinecolor": "#2a3f5f",
             "gridcolor": "white",
             "linecolor": "white",
             "minorgridcolor": "white",
             "startlinecolor": "#2a3f5f"
            },
            "baxis": {
             "endlinecolor": "#2a3f5f",
             "gridcolor": "white",
             "linecolor": "white",
             "minorgridcolor": "white",
             "startlinecolor": "#2a3f5f"
            },
            "type": "carpet"
           }
          ],
          "choropleth": [
           {
            "colorbar": {
             "outlinewidth": 0,
             "ticks": ""
            },
            "type": "choropleth"
           }
          ],
          "contour": [
           {
            "colorbar": {
             "outlinewidth": 0,
             "ticks": ""
            },
            "colorscale": [
             [
              0,
              "#0d0887"
             ],
             [
              0.1111111111111111,
              "#46039f"
             ],
             [
              0.2222222222222222,
              "#7201a8"
             ],
             [
              0.3333333333333333,
              "#9c179e"
             ],
             [
              0.4444444444444444,
              "#bd3786"
             ],
             [
              0.5555555555555556,
              "#d8576b"
             ],
             [
              0.6666666666666666,
              "#ed7953"
             ],
             [
              0.7777777777777778,
              "#fb9f3a"
             ],
             [
              0.8888888888888888,
              "#fdca26"
             ],
             [
              1,
              "#f0f921"
             ]
            ],
            "type": "contour"
           }
          ],
          "contourcarpet": [
           {
            "colorbar": {
             "outlinewidth": 0,
             "ticks": ""
            },
            "type": "contourcarpet"
           }
          ],
          "heatmap": [
           {
            "colorbar": {
             "outlinewidth": 0,
             "ticks": ""
            },
            "colorscale": [
             [
              0,
              "#0d0887"
             ],
             [
              0.1111111111111111,
              "#46039f"
             ],
             [
              0.2222222222222222,
              "#7201a8"
             ],
             [
              0.3333333333333333,
              "#9c179e"
             ],
             [
              0.4444444444444444,
              "#bd3786"
             ],
             [
              0.5555555555555556,
              "#d8576b"
             ],
             [
              0.6666666666666666,
              "#ed7953"
             ],
             [
              0.7777777777777778,
              "#fb9f3a"
             ],
             [
              0.8888888888888888,
              "#fdca26"
             ],
             [
              1,
              "#f0f921"
             ]
            ],
            "type": "heatmap"
           }
          ],
          "heatmapgl": [
           {
            "colorbar": {
             "outlinewidth": 0,
             "ticks": ""
            },
            "colorscale": [
             [
              0,
              "#0d0887"
             ],
             [
              0.1111111111111111,
              "#46039f"
             ],
             [
              0.2222222222222222,
              "#7201a8"
             ],
             [
              0.3333333333333333,
              "#9c179e"
             ],
             [
              0.4444444444444444,
              "#bd3786"
             ],
             [
              0.5555555555555556,
              "#d8576b"
             ],
             [
              0.6666666666666666,
              "#ed7953"
             ],
             [
              0.7777777777777778,
              "#fb9f3a"
             ],
             [
              0.8888888888888888,
              "#fdca26"
             ],
             [
              1,
              "#f0f921"
             ]
            ],
            "type": "heatmapgl"
           }
          ],
          "histogram": [
           {
            "marker": {
             "pattern": {
              "fillmode": "overlay",
              "size": 10,
              "solidity": 0.2
             }
            },
            "type": "histogram"
           }
          ],
          "histogram2d": [
           {
            "colorbar": {
             "outlinewidth": 0,
             "ticks": ""
            },
            "colorscale": [
             [
              0,
              "#0d0887"
             ],
             [
              0.1111111111111111,
              "#46039f"
             ],
             [
              0.2222222222222222,
              "#7201a8"
             ],
             [
              0.3333333333333333,
              "#9c179e"
             ],
             [
              0.4444444444444444,
              "#bd3786"
             ],
             [
              0.5555555555555556,
              "#d8576b"
             ],
             [
              0.6666666666666666,
              "#ed7953"
             ],
             [
              0.7777777777777778,
              "#fb9f3a"
             ],
             [
              0.8888888888888888,
              "#fdca26"
             ],
             [
              1,
              "#f0f921"
             ]
            ],
            "type": "histogram2d"
           }
          ],
          "histogram2dcontour": [
           {
            "colorbar": {
             "outlinewidth": 0,
             "ticks": ""
            },
            "colorscale": [
             [
              0,
              "#0d0887"
             ],
             [
              0.1111111111111111,
              "#46039f"
             ],
             [
              0.2222222222222222,
              "#7201a8"
             ],
             [
              0.3333333333333333,
              "#9c179e"
             ],
             [
              0.4444444444444444,
              "#bd3786"
             ],
             [
              0.5555555555555556,
              "#d8576b"
             ],
             [
              0.6666666666666666,
              "#ed7953"
             ],
             [
              0.7777777777777778,
              "#fb9f3a"
             ],
             [
              0.8888888888888888,
              "#fdca26"
             ],
             [
              1,
              "#f0f921"
             ]
            ],
            "type": "histogram2dcontour"
           }
          ],
          "mesh3d": [
           {
            "colorbar": {
             "outlinewidth": 0,
             "ticks": ""
            },
            "type": "mesh3d"
           }
          ],
          "parcoords": [
           {
            "line": {
             "colorbar": {
              "outlinewidth": 0,
              "ticks": ""
             }
            },
            "type": "parcoords"
           }
          ],
          "pie": [
           {
            "automargin": true,
            "type": "pie"
           }
          ],
          "scatter": [
           {
            "marker": {
             "colorbar": {
              "outlinewidth": 0,
              "ticks": ""
             }
            },
            "type": "scatter"
           }
          ],
          "scatter3d": [
           {
            "line": {
             "colorbar": {
              "outlinewidth": 0,
              "ticks": ""
             }
            },
            "marker": {
             "colorbar": {
              "outlinewidth": 0,
              "ticks": ""
             }
            },
            "type": "scatter3d"
           }
          ],
          "scattercarpet": [
           {
            "marker": {
             "colorbar": {
              "outlinewidth": 0,
              "ticks": ""
             }
            },
            "type": "scattercarpet"
           }
          ],
          "scattergeo": [
           {
            "marker": {
             "colorbar": {
              "outlinewidth": 0,
              "ticks": ""
             }
            },
            "type": "scattergeo"
           }
          ],
          "scattergl": [
           {
            "marker": {
             "colorbar": {
              "outlinewidth": 0,
              "ticks": ""
             }
            },
            "type": "scattergl"
           }
          ],
          "scattermapbox": [
           {
            "marker": {
             "colorbar": {
              "outlinewidth": 0,
              "ticks": ""
             }
            },
            "type": "scattermapbox"
           }
          ],
          "scatterpolar": [
           {
            "marker": {
             "colorbar": {
              "outlinewidth": 0,
              "ticks": ""
             }
            },
            "type": "scatterpolar"
           }
          ],
          "scatterpolargl": [
           {
            "marker": {
             "colorbar": {
              "outlinewidth": 0,
              "ticks": ""
             }
            },
            "type": "scatterpolargl"
           }
          ],
          "scatterternary": [
           {
            "marker": {
             "colorbar": {
              "outlinewidth": 0,
              "ticks": ""
             }
            },
            "type": "scatterternary"
           }
          ],
          "surface": [
           {
            "colorbar": {
             "outlinewidth": 0,
             "ticks": ""
            },
            "colorscale": [
             [
              0,
              "#0d0887"
             ],
             [
              0.1111111111111111,
              "#46039f"
             ],
             [
              0.2222222222222222,
              "#7201a8"
             ],
             [
              0.3333333333333333,
              "#9c179e"
             ],
             [
              0.4444444444444444,
              "#bd3786"
             ],
             [
              0.5555555555555556,
              "#d8576b"
             ],
             [
              0.6666666666666666,
              "#ed7953"
             ],
             [
              0.7777777777777778,
              "#fb9f3a"
             ],
             [
              0.8888888888888888,
              "#fdca26"
             ],
             [
              1,
              "#f0f921"
             ]
            ],
            "type": "surface"
           }
          ],
          "table": [
           {
            "cells": {
             "fill": {
              "color": "#EBF0F8"
             },
             "line": {
              "color": "white"
             }
            },
            "header": {
             "fill": {
              "color": "#C8D4E3"
             },
             "line": {
              "color": "white"
             }
            },
            "type": "table"
           }
          ]
         },
         "layout": {
          "annotationdefaults": {
           "arrowcolor": "#2a3f5f",
           "arrowhead": 0,
           "arrowwidth": 1
          },
          "autotypenumbers": "strict",
          "coloraxis": {
           "colorbar": {
            "outlinewidth": 0,
            "ticks": ""
           }
          },
          "colorscale": {
           "diverging": [
            [
             0,
             "#8e0152"
            ],
            [
             0.1,
             "#c51b7d"
            ],
            [
             0.2,
             "#de77ae"
            ],
            [
             0.3,
             "#f1b6da"
            ],
            [
             0.4,
             "#fde0ef"
            ],
            [
             0.5,
             "#f7f7f7"
            ],
            [
             0.6,
             "#e6f5d0"
            ],
            [
             0.7,
             "#b8e186"
            ],
            [
             0.8,
             "#7fbc41"
            ],
            [
             0.9,
             "#4d9221"
            ],
            [
             1,
             "#276419"
            ]
           ],
           "sequential": [
            [
             0,
             "#0d0887"
            ],
            [
             0.1111111111111111,
             "#46039f"
            ],
            [
             0.2222222222222222,
             "#7201a8"
            ],
            [
             0.3333333333333333,
             "#9c179e"
            ],
            [
             0.4444444444444444,
             "#bd3786"
            ],
            [
             0.5555555555555556,
             "#d8576b"
            ],
            [
             0.6666666666666666,
             "#ed7953"
            ],
            [
             0.7777777777777778,
             "#fb9f3a"
            ],
            [
             0.8888888888888888,
             "#fdca26"
            ],
            [
             1,
             "#f0f921"
            ]
           ],
           "sequentialminus": [
            [
             0,
             "#0d0887"
            ],
            [
             0.1111111111111111,
             "#46039f"
            ],
            [
             0.2222222222222222,
             "#7201a8"
            ],
            [
             0.3333333333333333,
             "#9c179e"
            ],
            [
             0.4444444444444444,
             "#bd3786"
            ],
            [
             0.5555555555555556,
             "#d8576b"
            ],
            [
             0.6666666666666666,
             "#ed7953"
            ],
            [
             0.7777777777777778,
             "#fb9f3a"
            ],
            [
             0.8888888888888888,
             "#fdca26"
            ],
            [
             1,
             "#f0f921"
            ]
           ]
          },
          "colorway": [
           "#636efa",
           "#EF553B",
           "#00cc96",
           "#ab63fa",
           "#FFA15A",
           "#19d3f3",
           "#FF6692",
           "#B6E880",
           "#FF97FF",
           "#FECB52"
          ],
          "font": {
           "color": "#2a3f5f"
          },
          "geo": {
           "bgcolor": "white",
           "lakecolor": "white",
           "landcolor": "#E5ECF6",
           "showlakes": true,
           "showland": true,
           "subunitcolor": "white"
          },
          "hoverlabel": {
           "align": "left"
          },
          "hovermode": "closest",
          "mapbox": {
           "style": "light"
          },
          "paper_bgcolor": "white",
          "plot_bgcolor": "#E5ECF6",
          "polar": {
           "angularaxis": {
            "gridcolor": "white",
            "linecolor": "white",
            "ticks": ""
           },
           "bgcolor": "#E5ECF6",
           "radialaxis": {
            "gridcolor": "white",
            "linecolor": "white",
            "ticks": ""
           }
          },
          "scene": {
           "xaxis": {
            "backgroundcolor": "#E5ECF6",
            "gridcolor": "white",
            "gridwidth": 2,
            "linecolor": "white",
            "showbackground": true,
            "ticks": "",
            "zerolinecolor": "white"
           },
           "yaxis": {
            "backgroundcolor": "#E5ECF6",
            "gridcolor": "white",
            "gridwidth": 2,
            "linecolor": "white",
            "showbackground": true,
            "ticks": "",
            "zerolinecolor": "white"
           },
           "zaxis": {
            "backgroundcolor": "#E5ECF6",
            "gridcolor": "white",
            "gridwidth": 2,
            "linecolor": "white",
            "showbackground": true,
            "ticks": "",
            "zerolinecolor": "white"
           }
          },
          "shapedefaults": {
           "line": {
            "color": "#2a3f5f"
           }
          },
          "ternary": {
           "aaxis": {
            "gridcolor": "white",
            "linecolor": "white",
            "ticks": ""
           },
           "baxis": {
            "gridcolor": "white",
            "linecolor": "white",
            "ticks": ""
           },
           "bgcolor": "#E5ECF6",
           "caxis": {
            "gridcolor": "white",
            "linecolor": "white",
            "ticks": ""
           }
          },
          "title": {
           "x": 0.05
          },
          "xaxis": {
           "automargin": true,
           "gridcolor": "white",
           "linecolor": "white",
           "ticks": "",
           "title": {
            "standoff": 15
           },
           "zerolinecolor": "white",
           "zerolinewidth": 2
          },
          "yaxis": {
           "automargin": true,
           "gridcolor": "white",
           "linecolor": "white",
           "ticks": "",
           "title": {
            "standoff": 15
           },
           "zerolinecolor": "white",
           "zerolinewidth": 2
          }
         }
        },
        "xaxis": {
         "anchor": "y",
         "domain": [
          0,
          1
         ],
         "title": {
          "text": "Close"
         }
        },
        "yaxis": {
         "anchor": "x",
         "domain": [
          0,
          1
         ],
         "title": {
          "text": "Open"
         }
        }
       }
      },
      "text/html": [
       "<div>                            <div id=\"a38194cf-6b15-493d-a3bb-0e75b5070cd0\" class=\"plotly-graph-div\" style=\"height:525px; width:100%;\"></div>            <script type=\"text/javascript\">                require([\"plotly\"], function(Plotly) {                    window.PLOTLYENV=window.PLOTLYENV || {};                                    if (document.getElementById(\"a38194cf-6b15-493d-a3bb-0e75b5070cd0\")) {                    Plotly.newPlot(                        \"a38194cf-6b15-493d-a3bb-0e75b5070cd0\",                        [{\"hovertemplate\":\"Close=%{x}<br>Open=%{y}<br>InvestToday=%{marker.color}<extra></extra>\",\"legendgroup\":\"\",\"marker\":{\"color\":[0,1,1,0,1,0,0,1,0,1,1,0,0,1,0,0,1,1,1,1,0,0,1,1,1,0,1,0,1,0,1,0,1,0,1,0,0,1,0,1,0,1,0,1,0,1,0,1,0,0,1,0,1,1,0,0,1,0,1,0,0,1,1,1,1,0,1,1,1,0,1,1,0,0,0,1,0,1,1,0,1,0,0,0,1,1,0,0,1,0,1,0,1,0,0,1,0,0,0,0,1,1,1,0,1,0,0,1,0,1,0,0,1,1,0,1,1,1,0,1,1,0,0,0,0,1,0,1,1,0,0,0,1,1,0,1,1,0,1,0,1,1,0,1,1,0,0,0,1,1,0,1,1,0,1,0,1,0,0,1,1,1,0,1,1,0,1,0,0,1,1,0,0,1,1,1,1,1,1,1,0,0,0,1,1,0,0,1,1,1,1,1,0,0,1,1,0,1,0,1,0,1,0,1,0,0,1,1,1,0,0,1,0,0,0,1,1,0,1,0,1,1,0,0,0,1,1,0,0,0,0,1,0,0,0,1,0,1,1,0,1,1,1,0,1,0,1,0,1,1,1],\"coloraxis\":\"coloraxis\",\"symbol\":\"circle\"},\"mode\":\"markers\",\"name\":\"\",\"orientation\":\"v\",\"showlegend\":false,\"type\":\"scatter\",\"x\":[45.25,45.869999,46.400002,46.150002,46.82,46.119999,47.200001,48.48,48.279999,48.490002,48.48,48.18,48.02,47.689999,47.240002,46.299999,46.689999,47.220001,47.48,47.799999,47.720001,47.93,48.43,48.380001,48.450001,48.209999,48.419998,47.369999,47.349998,47.279999,47.970001,47.91,48.16,48.23,49.830002,49.529999,49.119999,51.189999,50.48,51.040001,49.810001,50.189999,50.0,51.060001,50.709999,51.049999,50.790001,50.549999,50.450001,49.09,49.66,48.209999,48.700001,48.720001,49.279999,48.919998,49.369999,49.18,49.360001,49.380001,48.939999,49.560001,50.459999,50.810001,51.09,50.220001,50.119999,49.990002,50.029999,49.619999,50.25,49.990002,50.68,50.52,49.799999,49.900002,47.959999,48.02,48.060001,48.619999,49.349998,49.169998,49.439999,49.450001,52.57,53.98,53.580002,53.009998,53.450001,53.849998,53.68,52.610001,53.130001,52.669998,52.68,53.220001,52.93,52.700001,51.599998,52.040001,52.110001,52.779999,53.849998,52.990002,53.18,53.330002,53.049999,53.349998,53.27,53.84,53.060001,53.27,53.740002,52.810001,52.759998,53.080002,53.439999,54.16,54.130001,54.439999,54.84,52.759998,52.18,50.52,49.959999,51.080002,50.200001,50.110001,50.16,49.23,48.700001,48.509998,48.68,48.950001,48.490002,48.779999,49.290001,48.529999,49.150002,48.150002,48.48,48.959999,48.77,49.009998,49.650002,49.919998,49.700001,49.599998,50.299999,50.689999,50.27,50.130001,50.77,50.110001,50.630001,50.540001,50.709999,50.169998,48.990002,49.900002,50.099998,49.98,49.939999,50.790001,51.639999,50.860001,51.439999,50.880001,50.360001,51.029999,51.220001,51.240002,50.57,50.810001,51.0,51.389999,51.52,52.02,53.040001,53.849998,53.150002,52.709999,52.509998,52.810001,53.189999,53.279999,53.119999,53.18,53.349998,53.09,53.080002,53.330002,53.68,54.0,54.169998,54.610001,54.439999,54.470001,53.66,53.580002,53.59,54.259998,53.98,54.48,54.139999,54.0,54.540001,54.509998,54.91,54.32,54.040001,54.509998,54.73,54.639999,54.34,54.169998,54.650002,54.619999,54.799999,54.790001,55.029999,55.490002,55.290001,55.279999,55.5,55.639999,56.240002,56.040001,55.650002,55.48,55.91,56.16,55.549999,55.41,54.669998,54.950001,53.77,54.360001,54.560001,54.119999,54.389999,54.32,54.259998,53.860001,54.110001,53.959999,54.18,53.880001,54.32,54.130001,54.459999],\"xaxis\":\"x\",\"y\":[45.529999,44.91,46.299999,46.259998,46.470001,46.720001,47.52,47.93,48.470001,48.400002,48.18,48.34,48.139999,47.669998,47.439999,47.139999,46.290001,46.900002,46.66,47.470001,48.060001,48.459999,48.299999,48.259998,48.34,48.32,48.200001,48.119999,47.27,47.34,47.43,48.0,47.759998,48.25,48.75,49.799999,49.310001,49.360001,51.400002,50.939999,50.93,49.599998,50.349998,50.400002,50.970001,51.0,50.950001,50.220001,50.75,49.75,49.110001,49.73,48.209999,48.200001,49.310001,49.389999,49.27,49.439999,48.759998,49.43,49.549999,49.02,49.709999,50.669998,50.84,50.990002,50.049999,49.400002,49.990002,50.029999,49.889999,49.959999,51.169998,51.0,50.34,49.810001,49.0,47.73,47.810001,48.75,49.220001,49.43,49.759998,49.650002,52.5,52.57,53.93,53.049999,53.25,54.5,53.66,53.75,52.490002,53.189999,52.950001,53.139999,53.07,53.110001,52.09,52.139999,51.900002,51.900002,52.779999,53.759998,52.939999,53.369999,53.400002,52.799999,53.650002,53.790001,53.599998,53.299999,53.080002,52.68,52.810001,52.950001,53.02,53.849998,54.450001,54.049999,54.450001,54.27,52.330002,51.970001,50.09,50.029999,50.619999,50.040001,49.98,50.16,49.16,48.740002,48.540001,48.779999,48.810001,48.419998,48.91,48.889999,48.689999,49.029999,48.27,48.799999,48.950001,48.959999,49.5,49.959999,49.849998,50.41,49.810001,50.57,50.619999,50.0,50.16,50.790001,49.849998,51.0,50.389999,50.470001,50.200001,49.439999,49.84,49.720001,50.310001,50.049999,51.470001,51.720001,51.18,51.41,50.59,50.5,51.200001,51.25,51.060001,50.459999,50.32,50.990002,51.169998,51.700001,52.139999,52.73,53.75,53.029999,52.959999,52.349998,53.040001,53.279999,53.169998,53.169998,53.330002,53.040001,52.98,53.130001,53.740002,54.0,53.84,54.240002,54.470001,54.400002,54.470001,53.560001,53.98,53.540001,54.25,54.27,54.57,54.139999,54.119999,54.439999,54.880001,55.029999,54.360001,53.970001,54.900002,54.84,54.389999,54.119999,54.119999,54.799999,54.630001,54.82,54.98,55.209999,55.349998,55.34,55.5,55.18,55.900002,56.310001,56.25,55.75,55.91,55.990002,55.689999,55.779999,55.439999,54.669998,54.509998,54.220001,54.34,54.560001,54.259998,54.240002,54.25,54.130001,53.799999,54.34,54.0,53.990002,53.720001,54.009998,54.25],\"yaxis\":\"y\"}],                        {\"coloraxis\":{\"colorbar\":{\"title\":{\"text\":\"InvestToday\"}},\"colorscale\":[[0.0,\"#0d0887\"],[0.1111111111111111,\"#46039f\"],[0.2222222222222222,\"#7201a8\"],[0.3333333333333333,\"#9c179e\"],[0.4444444444444444,\"#bd3786\"],[0.5555555555555556,\"#d8576b\"],[0.6666666666666666,\"#ed7953\"],[0.7777777777777778,\"#fb9f3a\"],[0.8888888888888888,\"#fdca26\"],[1.0,\"#f0f921\"]]},\"legend\":{\"tracegroupgap\":0},\"margin\":{\"t\":60},\"template\":{\"data\":{\"bar\":[{\"error_x\":{\"color\":\"#2a3f5f\"},\"error_y\":{\"color\":\"#2a3f5f\"},\"marker\":{\"line\":{\"color\":\"#E5ECF6\",\"width\":0.5},\"pattern\":{\"fillmode\":\"overlay\",\"size\":10,\"solidity\":0.2}},\"type\":\"bar\"}],\"barpolar\":[{\"marker\":{\"line\":{\"color\":\"#E5ECF6\",\"width\":0.5},\"pattern\":{\"fillmode\":\"overlay\",\"size\":10,\"solidity\":0.2}},\"type\":\"barpolar\"}],\"carpet\":[{\"aaxis\":{\"endlinecolor\":\"#2a3f5f\",\"gridcolor\":\"white\",\"linecolor\":\"white\",\"minorgridcolor\":\"white\",\"startlinecolor\":\"#2a3f5f\"},\"baxis\":{\"endlinecolor\":\"#2a3f5f\",\"gridcolor\":\"white\",\"linecolor\":\"white\",\"minorgridcolor\":\"white\",\"startlinecolor\":\"#2a3f5f\"},\"type\":\"carpet\"}],\"choropleth\":[{\"colorbar\":{\"outlinewidth\":0,\"ticks\":\"\"},\"type\":\"choropleth\"}],\"contour\":[{\"colorbar\":{\"outlinewidth\":0,\"ticks\":\"\"},\"colorscale\":[[0.0,\"#0d0887\"],[0.1111111111111111,\"#46039f\"],[0.2222222222222222,\"#7201a8\"],[0.3333333333333333,\"#9c179e\"],[0.4444444444444444,\"#bd3786\"],[0.5555555555555556,\"#d8576b\"],[0.6666666666666666,\"#ed7953\"],[0.7777777777777778,\"#fb9f3a\"],[0.8888888888888888,\"#fdca26\"],[1.0,\"#f0f921\"]],\"type\":\"contour\"}],\"contourcarpet\":[{\"colorbar\":{\"outlinewidth\":0,\"ticks\":\"\"},\"type\":\"contourcarpet\"}],\"heatmap\":[{\"colorbar\":{\"outlinewidth\":0,\"ticks\":\"\"},\"colorscale\":[[0.0,\"#0d0887\"],[0.1111111111111111,\"#46039f\"],[0.2222222222222222,\"#7201a8\"],[0.3333333333333333,\"#9c179e\"],[0.4444444444444444,\"#bd3786\"],[0.5555555555555556,\"#d8576b\"],[0.6666666666666666,\"#ed7953\"],[0.7777777777777778,\"#fb9f3a\"],[0.8888888888888888,\"#fdca26\"],[1.0,\"#f0f921\"]],\"type\":\"heatmap\"}],\"heatmapgl\":[{\"colorbar\":{\"outlinewidth\":0,\"ticks\":\"\"},\"colorscale\":[[0.0,\"#0d0887\"],[0.1111111111111111,\"#46039f\"],[0.2222222222222222,\"#7201a8\"],[0.3333333333333333,\"#9c179e\"],[0.4444444444444444,\"#bd3786\"],[0.5555555555555556,\"#d8576b\"],[0.6666666666666666,\"#ed7953\"],[0.7777777777777778,\"#fb9f3a\"],[0.8888888888888888,\"#fdca26\"],[1.0,\"#f0f921\"]],\"type\":\"heatmapgl\"}],\"histogram\":[{\"marker\":{\"pattern\":{\"fillmode\":\"overlay\",\"size\":10,\"solidity\":0.2}},\"type\":\"histogram\"}],\"histogram2d\":[{\"colorbar\":{\"outlinewidth\":0,\"ticks\":\"\"},\"colorscale\":[[0.0,\"#0d0887\"],[0.1111111111111111,\"#46039f\"],[0.2222222222222222,\"#7201a8\"],[0.3333333333333333,\"#9c179e\"],[0.4444444444444444,\"#bd3786\"],[0.5555555555555556,\"#d8576b\"],[0.6666666666666666,\"#ed7953\"],[0.7777777777777778,\"#fb9f3a\"],[0.8888888888888888,\"#fdca26\"],[1.0,\"#f0f921\"]],\"type\":\"histogram2d\"}],\"histogram2dcontour\":[{\"colorbar\":{\"outlinewidth\":0,\"ticks\":\"\"},\"colorscale\":[[0.0,\"#0d0887\"],[0.1111111111111111,\"#46039f\"],[0.2222222222222222,\"#7201a8\"],[0.3333333333333333,\"#9c179e\"],[0.4444444444444444,\"#bd3786\"],[0.5555555555555556,\"#d8576b\"],[0.6666666666666666,\"#ed7953\"],[0.7777777777777778,\"#fb9f3a\"],[0.8888888888888888,\"#fdca26\"],[1.0,\"#f0f921\"]],\"type\":\"histogram2dcontour\"}],\"mesh3d\":[{\"colorbar\":{\"outlinewidth\":0,\"ticks\":\"\"},\"type\":\"mesh3d\"}],\"parcoords\":[{\"line\":{\"colorbar\":{\"outlinewidth\":0,\"ticks\":\"\"}},\"type\":\"parcoords\"}],\"pie\":[{\"automargin\":true,\"type\":\"pie\"}],\"scatter\":[{\"marker\":{\"colorbar\":{\"outlinewidth\":0,\"ticks\":\"\"}},\"type\":\"scatter\"}],\"scatter3d\":[{\"line\":{\"colorbar\":{\"outlinewidth\":0,\"ticks\":\"\"}},\"marker\":{\"colorbar\":{\"outlinewidth\":0,\"ticks\":\"\"}},\"type\":\"scatter3d\"}],\"scattercarpet\":[{\"marker\":{\"colorbar\":{\"outlinewidth\":0,\"ticks\":\"\"}},\"type\":\"scattercarpet\"}],\"scattergeo\":[{\"marker\":{\"colorbar\":{\"outlinewidth\":0,\"ticks\":\"\"}},\"type\":\"scattergeo\"}],\"scattergl\":[{\"marker\":{\"colorbar\":{\"outlinewidth\":0,\"ticks\":\"\"}},\"type\":\"scattergl\"}],\"scattermapbox\":[{\"marker\":{\"colorbar\":{\"outlinewidth\":0,\"ticks\":\"\"}},\"type\":\"scattermapbox\"}],\"scatterpolar\":[{\"marker\":{\"colorbar\":{\"outlinewidth\":0,\"ticks\":\"\"}},\"type\":\"scatterpolar\"}],\"scatterpolargl\":[{\"marker\":{\"colorbar\":{\"outlinewidth\":0,\"ticks\":\"\"}},\"type\":\"scatterpolargl\"}],\"scatterternary\":[{\"marker\":{\"colorbar\":{\"outlinewidth\":0,\"ticks\":\"\"}},\"type\":\"scatterternary\"}],\"surface\":[{\"colorbar\":{\"outlinewidth\":0,\"ticks\":\"\"},\"colorscale\":[[0.0,\"#0d0887\"],[0.1111111111111111,\"#46039f\"],[0.2222222222222222,\"#7201a8\"],[0.3333333333333333,\"#9c179e\"],[0.4444444444444444,\"#bd3786\"],[0.5555555555555556,\"#d8576b\"],[0.6666666666666666,\"#ed7953\"],[0.7777777777777778,\"#fb9f3a\"],[0.8888888888888888,\"#fdca26\"],[1.0,\"#f0f921\"]],\"type\":\"surface\"}],\"table\":[{\"cells\":{\"fill\":{\"color\":\"#EBF0F8\"},\"line\":{\"color\":\"white\"}},\"header\":{\"fill\":{\"color\":\"#C8D4E3\"},\"line\":{\"color\":\"white\"}},\"type\":\"table\"}]},\"layout\":{\"annotationdefaults\":{\"arrowcolor\":\"#2a3f5f\",\"arrowhead\":0,\"arrowwidth\":1},\"autotypenumbers\":\"strict\",\"coloraxis\":{\"colorbar\":{\"outlinewidth\":0,\"ticks\":\"\"}},\"colorscale\":{\"diverging\":[[0,\"#8e0152\"],[0.1,\"#c51b7d\"],[0.2,\"#de77ae\"],[0.3,\"#f1b6da\"],[0.4,\"#fde0ef\"],[0.5,\"#f7f7f7\"],[0.6,\"#e6f5d0\"],[0.7,\"#b8e186\"],[0.8,\"#7fbc41\"],[0.9,\"#4d9221\"],[1,\"#276419\"]],\"sequential\":[[0.0,\"#0d0887\"],[0.1111111111111111,\"#46039f\"],[0.2222222222222222,\"#7201a8\"],[0.3333333333333333,\"#9c179e\"],[0.4444444444444444,\"#bd3786\"],[0.5555555555555556,\"#d8576b\"],[0.6666666666666666,\"#ed7953\"],[0.7777777777777778,\"#fb9f3a\"],[0.8888888888888888,\"#fdca26\"],[1.0,\"#f0f921\"]],\"sequentialminus\":[[0.0,\"#0d0887\"],[0.1111111111111111,\"#46039f\"],[0.2222222222222222,\"#7201a8\"],[0.3333333333333333,\"#9c179e\"],[0.4444444444444444,\"#bd3786\"],[0.5555555555555556,\"#d8576b\"],[0.6666666666666666,\"#ed7953\"],[0.7777777777777778,\"#fb9f3a\"],[0.8888888888888888,\"#fdca26\"],[1.0,\"#f0f921\"]]},\"colorway\":[\"#636efa\",\"#EF553B\",\"#00cc96\",\"#ab63fa\",\"#FFA15A\",\"#19d3f3\",\"#FF6692\",\"#B6E880\",\"#FF97FF\",\"#FECB52\"],\"font\":{\"color\":\"#2a3f5f\"},\"geo\":{\"bgcolor\":\"white\",\"lakecolor\":\"white\",\"landcolor\":\"#E5ECF6\",\"showlakes\":true,\"showland\":true,\"subunitcolor\":\"white\"},\"hoverlabel\":{\"align\":\"left\"},\"hovermode\":\"closest\",\"mapbox\":{\"style\":\"light\"},\"paper_bgcolor\":\"white\",\"plot_bgcolor\":\"#E5ECF6\",\"polar\":{\"angularaxis\":{\"gridcolor\":\"white\",\"linecolor\":\"white\",\"ticks\":\"\"},\"bgcolor\":\"#E5ECF6\",\"radialaxis\":{\"gridcolor\":\"white\",\"linecolor\":\"white\",\"ticks\":\"\"}},\"scene\":{\"xaxis\":{\"backgroundcolor\":\"#E5ECF6\",\"gridcolor\":\"white\",\"gridwidth\":2,\"linecolor\":\"white\",\"showbackground\":true,\"ticks\":\"\",\"zerolinecolor\":\"white\"},\"yaxis\":{\"backgroundcolor\":\"#E5ECF6\",\"gridcolor\":\"white\",\"gridwidth\":2,\"linecolor\":\"white\",\"showbackground\":true,\"ticks\":\"\",\"zerolinecolor\":\"white\"},\"zaxis\":{\"backgroundcolor\":\"#E5ECF6\",\"gridcolor\":\"white\",\"gridwidth\":2,\"linecolor\":\"white\",\"showbackground\":true,\"ticks\":\"\",\"zerolinecolor\":\"white\"}},\"shapedefaults\":{\"line\":{\"color\":\"#2a3f5f\"}},\"ternary\":{\"aaxis\":{\"gridcolor\":\"white\",\"linecolor\":\"white\",\"ticks\":\"\"},\"baxis\":{\"gridcolor\":\"white\",\"linecolor\":\"white\",\"ticks\":\"\"},\"bgcolor\":\"#E5ECF6\",\"caxis\":{\"gridcolor\":\"white\",\"linecolor\":\"white\",\"ticks\":\"\"}},\"title\":{\"x\":0.05},\"xaxis\":{\"automargin\":true,\"gridcolor\":\"white\",\"linecolor\":\"white\",\"ticks\":\"\",\"title\":{\"standoff\":15},\"zerolinecolor\":\"white\",\"zerolinewidth\":2},\"yaxis\":{\"automargin\":true,\"gridcolor\":\"white\",\"linecolor\":\"white\",\"ticks\":\"\",\"title\":{\"standoff\":15},\"zerolinecolor\":\"white\",\"zerolinewidth\":2}}},\"xaxis\":{\"anchor\":\"y\",\"domain\":[0.0,1.0],\"title\":{\"text\":\"Close\"}},\"yaxis\":{\"anchor\":\"x\",\"domain\":[0.0,1.0],\"title\":{\"text\":\"Open\"}}},                        {\"responsive\": true}                    ).then(function(){\n",
       "                            \n",
       "var gd = document.getElementById('a38194cf-6b15-493d-a3bb-0e75b5070cd0');\n",
       "var x = new MutationObserver(function (mutations, observer) {{\n",
       "        var display = window.getComputedStyle(gd).display;\n",
       "        if (!display || display === 'none') {{\n",
       "            console.log([gd, 'removed!']);\n",
       "            Plotly.purge(gd);\n",
       "            observer.disconnect();\n",
       "        }}\n",
       "}});\n",
       "\n",
       "// Listen for the removal of the full notebook cells\n",
       "var notebookContainer = gd.closest('#notebook-container');\n",
       "if (notebookContainer) {{\n",
       "    x.observe(notebookContainer, {childList: true});\n",
       "}}\n",
       "\n",
       "// Listen for the clearing of the current output cell\n",
       "var outputEl = gd.closest('.output');\n",
       "if (outputEl) {{\n",
       "    x.observe(outputEl, {childList: true});\n",
       "}}\n",
       "\n",
       "                        })                };                });            </script>        </div>"
      ]
     },
     "metadata": {},
     "output_type": "display_data"
    }
   ],
   "source": [
    "import plotly.express as px\n",
    "\n",
    "fig = px.scatter(CokeDataSetQtr2, x='Close', y='Open',color='InvestToday')\n",
    "fig.show()"
   ]
  },
  {
   "cell_type": "code",
   "execution_count": null,
   "id": "9f7b5142",
   "metadata": {},
   "outputs": [],
   "source": []
  }
 ],
 "metadata": {
  "kernelspec": {
   "display_name": "Python 3",
   "language": "python",
   "name": "python3"
  },
  "language_info": {
   "codemirror_mode": {
    "name": "ipython",
    "version": 3
   },
   "file_extension": ".py",
   "mimetype": "text/x-python",
   "name": "python",
   "nbconvert_exporter": "python",
   "pygments_lexer": "ipython3",
   "version": "3.8.8"
  }
 },
 "nbformat": 4,
 "nbformat_minor": 5
}
