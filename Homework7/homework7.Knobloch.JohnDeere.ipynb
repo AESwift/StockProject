{
 "cells": [
  {
   "cell_type": "markdown",
   "metadata": {
    "pycharm": {
     "name": "#%% md\n"
    }
   },
   "source": [
    "# Knobloch - homework 7: group assignment to introduce machine learning\n",
    "\n",
    "## Purpose\n",
    "\n",
    "This notebook includes Dan Knobloch's portion of the homework 7 group notebook. \n",
    "the intent is to practice with scikitlearn library as well as overall understanding of classification and regression topics of machine learning.\n",
    "\n",
    "## Primary Library\n",
    "\n",
    "* Sklearn\n",
    "\n"
   ]
  },
  {
   "cell_type": "markdown",
   "metadata": {},
   "source": [
    "## Imports & Helpers"
   ]
  },
  {
   "cell_type": "code",
   "execution_count": 1,
   "metadata": {
    "collapsed": false,
    "jupyter": {
     "outputs_hidden": false
    },
    "pycharm": {
     "name": "#%%\n"
    }
   },
   "outputs": [],
   "source": [
    "import pandas as pd\n",
    "from seaborn import load_dataset\n",
    "from sklearn.model_selection import train_test_split\n",
    "from sklearn.linear_model import LogisticRegression\n",
    "from sklearn.linear_model import LinearRegression\n",
    "\n",
    "#imports for regression model output analysis:\n",
    "import math\n",
    "from sklearn.metrics import explained_variance_score, mean_absolute_error, r2_score, mean_squared_error\n",
    "\n",
    "#imports for Classification model output analysis:\n",
    "from sklearn.metrics import confusion_matrix\n",
    "from sklearn.metrics import accuracy_score, recall_score, precision_score, fbeta_score, classification_report"
   ]
  },
  {
   "cell_type": "code",
   "execution_count": 2,
   "metadata": {
    "collapsed": false,
    "jupyter": {
     "outputs_hidden": false
    },
    "pycharm": {
     "name": "#%%\n"
    }
   },
   "outputs": [],
   "source": [
    "# Helper methods\n",
    "def createCategoricalDummies(dataFrame, categoryList):\n",
    "    return pd.get_dummies(dataFrame[categoryList], prefix_sep = \"::\", drop_first = True)"
   ]
  },
  {
   "cell_type": "code",
   "execution_count": 3,
   "metadata": {},
   "outputs": [],
   "source": [
    "def printRegressionMetrics(test, predictions):\n",
    "    print(f\"Score: {explained_variance_score(test, predictions):.2f}\")\n",
    "    print(f\"MAE: {mean_absolute_error(test, predictions):.2f}\")\n",
    "    print(f\"RMSE: {math.sqrt(mean_squared_error(test, predictions)):.2f}\")\n",
    "    print(f\"r2: {r2_score(test, predictions):.2f}\")"
   ]
  },
  {
   "cell_type": "code",
   "execution_count": 4,
   "metadata": {},
   "outputs": [],
   "source": [
    "def printClassificationMetrics(test, predictions):\n",
    "    print(\"Confusion Matrix:\")\n",
    "    print(confusion_matrix(test, predictions))\n",
    "    print(\"------------------\")\n",
    "    print(f\"Accuracy: {accuracy_score(test, predictions):.2f}\")\n",
    "    print(f\"Recall: {recall_score(test, predictions):.2f}\")\n",
    "    print(f\"Prediction: {precision_score(test, predictions):.2f}\")\n",
    "    print(f\"f-measure: {fbeta_score(test, predictions, beta=1):.2f}\")\n",
    "    print(\"------------------\")\n",
    "    print(classification_report(test, predictions))"
   ]
  },
  {
   "cell_type": "markdown",
   "metadata": {
    "pycharm": {
     "name": "#%% md\n"
    },
    "tags": []
   },
   "source": [
    "# Part 1: Regression - Linear Regression\n",
    "## Prepare the Data\n",
    "load data, clean up, prepare features and targets, split up training and test data."
   ]
  },
  {
   "cell_type": "code",
   "execution_count": 5,
   "metadata": {
    "pycharm": {
     "name": "#%%\n"
    },
    "tags": []
   },
   "outputs": [
    {
     "data": {
      "text/html": [
       "<div>\n",
       "<style scoped>\n",
       "    .dataframe tbody tr th:only-of-type {\n",
       "        vertical-align: middle;\n",
       "    }\n",
       "\n",
       "    .dataframe tbody tr th {\n",
       "        vertical-align: top;\n",
       "    }\n",
       "\n",
       "    .dataframe thead th {\n",
       "        text-align: right;\n",
       "    }\n",
       "</style>\n",
       "<table border=\"1\" class=\"dataframe\">\n",
       "  <thead>\n",
       "    <tr style=\"text-align: right;\">\n",
       "      <th></th>\n",
       "      <th>Date</th>\n",
       "      <th>Price</th>\n",
       "      <th>Trends</th>\n",
       "      <th>High</th>\n",
       "      <th>Volume</th>\n",
       "      <th>Previous_Close</th>\n",
       "      <th>trend_daily_increase</th>\n",
       "      <th>price_daily_increase</th>\n",
       "    </tr>\n",
       "  </thead>\n",
       "  <tbody>\n",
       "    <tr>\n",
       "      <th>1</th>\n",
       "      <td>4/5/2021</td>\n",
       "      <td>374.809998</td>\n",
       "      <td>88</td>\n",
       "      <td>377.940002</td>\n",
       "      <td>1419500</td>\n",
       "      <td>372.12</td>\n",
       "      <td>1</td>\n",
       "      <td>1</td>\n",
       "    </tr>\n",
       "    <tr>\n",
       "      <th>2</th>\n",
       "      <td>4/6/2021</td>\n",
       "      <td>375.609985</td>\n",
       "      <td>83</td>\n",
       "      <td>381.839996</td>\n",
       "      <td>1309700</td>\n",
       "      <td>374.81</td>\n",
       "      <td>0</td>\n",
       "      <td>1</td>\n",
       "    </tr>\n",
       "    <tr>\n",
       "      <th>3</th>\n",
       "      <td>4/7/2021</td>\n",
       "      <td>374.790009</td>\n",
       "      <td>88</td>\n",
       "      <td>378.880005</td>\n",
       "      <td>1299300</td>\n",
       "      <td>375.61</td>\n",
       "      <td>1</td>\n",
       "      <td>0</td>\n",
       "    </tr>\n",
       "    <tr>\n",
       "      <th>4</th>\n",
       "      <td>4/8/2021</td>\n",
       "      <td>374.070007</td>\n",
       "      <td>79</td>\n",
       "      <td>374.529999</td>\n",
       "      <td>1250700</td>\n",
       "      <td>374.79</td>\n",
       "      <td>0</td>\n",
       "      <td>0</td>\n",
       "    </tr>\n",
       "    <tr>\n",
       "      <th>5</th>\n",
       "      <td>4/9/2021</td>\n",
       "      <td>377.000000</td>\n",
       "      <td>82</td>\n",
       "      <td>378.079987</td>\n",
       "      <td>1224500</td>\n",
       "      <td>374.07</td>\n",
       "      <td>1</td>\n",
       "      <td>1</td>\n",
       "    </tr>\n",
       "    <tr>\n",
       "      <th>...</th>\n",
       "      <td>...</td>\n",
       "      <td>...</td>\n",
       "      <td>...</td>\n",
       "      <td>...</td>\n",
       "      <td>...</td>\n",
       "      <td>...</td>\n",
       "      <td>...</td>\n",
       "      <td>...</td>\n",
       "    </tr>\n",
       "    <tr>\n",
       "      <th>57</th>\n",
       "      <td>6/23/2021</td>\n",
       "      <td>347.750000</td>\n",
       "      <td>71</td>\n",
       "      <td>349.170013</td>\n",
       "      <td>3352700</td>\n",
       "      <td>342.10</td>\n",
       "      <td>0</td>\n",
       "      <td>1</td>\n",
       "    </tr>\n",
       "    <tr>\n",
       "      <th>58</th>\n",
       "      <td>6/24/2021</td>\n",
       "      <td>350.619995</td>\n",
       "      <td>74</td>\n",
       "      <td>354.739990</td>\n",
       "      <td>2140200</td>\n",
       "      <td>347.75</td>\n",
       "      <td>1</td>\n",
       "      <td>1</td>\n",
       "    </tr>\n",
       "    <tr>\n",
       "      <th>59</th>\n",
       "      <td>6/25/2021</td>\n",
       "      <td>349.989990</td>\n",
       "      <td>80</td>\n",
       "      <td>355.890015</td>\n",
       "      <td>6604800</td>\n",
       "      <td>350.62</td>\n",
       "      <td>1</td>\n",
       "      <td>0</td>\n",
       "    </tr>\n",
       "    <tr>\n",
       "      <th>60</th>\n",
       "      <td>6/28/2021</td>\n",
       "      <td>349.890015</td>\n",
       "      <td>72</td>\n",
       "      <td>350.950012</td>\n",
       "      <td>1304200</td>\n",
       "      <td>349.99</td>\n",
       "      <td>0</td>\n",
       "      <td>0</td>\n",
       "    </tr>\n",
       "    <tr>\n",
       "      <th>61</th>\n",
       "      <td>6/29/2021</td>\n",
       "      <td>348.929993</td>\n",
       "      <td>66</td>\n",
       "      <td>352.700012</td>\n",
       "      <td>1213400</td>\n",
       "      <td>349.89</td>\n",
       "      <td>0</td>\n",
       "      <td>0</td>\n",
       "    </tr>\n",
       "  </tbody>\n",
       "</table>\n",
       "<p>61 rows × 8 columns</p>\n",
       "</div>"
      ],
      "text/plain": [
       "         Date       Price  Trends        High   Volume  Previous_Close  \\\n",
       "1    4/5/2021  374.809998      88  377.940002  1419500          372.12   \n",
       "2    4/6/2021  375.609985      83  381.839996  1309700          374.81   \n",
       "3    4/7/2021  374.790009      88  378.880005  1299300          375.61   \n",
       "4    4/8/2021  374.070007      79  374.529999  1250700          374.79   \n",
       "5    4/9/2021  377.000000      82  378.079987  1224500          374.07   \n",
       "..        ...         ...     ...         ...      ...             ...   \n",
       "57  6/23/2021  347.750000      71  349.170013  3352700          342.10   \n",
       "58  6/24/2021  350.619995      74  354.739990  2140200          347.75   \n",
       "59  6/25/2021  349.989990      80  355.890015  6604800          350.62   \n",
       "60  6/28/2021  349.890015      72  350.950012  1304200          349.99   \n",
       "61  6/29/2021  348.929993      66  352.700012  1213400          349.89   \n",
       "\n",
       "    trend_daily_increase  price_daily_increase  \n",
       "1                      1                     1  \n",
       "2                      0                     1  \n",
       "3                      1                     0  \n",
       "4                      0                     0  \n",
       "5                      1                     1  \n",
       "..                   ...                   ...  \n",
       "57                     0                     1  \n",
       "58                     1                     1  \n",
       "59                     1                     0  \n",
       "60                     0                     0  \n",
       "61                     0                     0  \n",
       "\n",
       "[61 rows x 8 columns]"
      ]
     },
     "execution_count": 5,
     "metadata": {},
     "output_type": "execute_result"
    }
   ],
   "source": [
    "# read file, drop null values, convert binary values in trend and price to integers \n",
    "JDStockTrend = pd.read_csv(r\"C:\\Users\\dk12955\\BAISsummer2021\\ClassProject\\DeereStockPrice.csv\")\n",
    "JDStockTrend.dropna(inplace=True)\n",
    "JDStockTrend['trend_daily_increase'] = JDStockTrend.trend_daily_increase.astype(int)\n",
    "JDStockTrend['price_daily_increase'] = JDStockTrend.price_daily_increase.astype(int)\n",
    "JDStockTrend"
   ]
  },
  {
   "cell_type": "code",
   "execution_count": 6,
   "metadata": {
    "pycharm": {
     "name": "#%%\n"
    },
    "tags": []
   },
   "outputs": [
    {
     "name": "stdout",
     "output_type": "stream",
     "text": [
      "<class 'pandas.core.frame.DataFrame'>\n",
      "Int64Index: 61 entries, 1 to 61\n",
      "Data columns (total 4 columns):\n",
      " #   Column                Non-Null Count  Dtype  \n",
      "---  ------                --------------  -----  \n",
      " 0   Trends                61 non-null     int64  \n",
      " 1   Previous_Close        61 non-null     float64\n",
      " 2   Volume                61 non-null     int64  \n",
      " 3   trend_daily_increase  61 non-null     int32  \n",
      "dtypes: float64(1), int32(1), int64(2)\n",
      "memory usage: 2.1 KB\n"
     ]
    }
   ],
   "source": [
    "#determine feature vectors and target vectors. in this case targeting a prediction of price based on the previous days closing price, volume traded, and trends data\n",
    "featureColumns = [\"Trends\",\"Previous_Close\",\"Volume\",\"trend_daily_increase\"]\n",
    "target = \"Price\"\n",
    "\n",
    "X=JDStockTrend[featureColumns]\n",
    "y=JDStockTrend[target]\n",
    "\n",
    "X.info()"
   ]
  },
  {
   "cell_type": "code",
   "execution_count": 7,
   "metadata": {
    "collapsed": false,
    "jupyter": {
     "outputs_hidden": false
    },
    "pycharm": {
     "name": "#%%\n"
    }
   },
   "outputs": [
    {
     "data": {
      "text/plain": [
       "1     374.809998\n",
       "2     375.609985\n",
       "3     374.790009\n",
       "4     374.070007\n",
       "5     377.000000\n",
       "         ...    \n",
       "57    347.750000\n",
       "58    350.619995\n",
       "59    349.989990\n",
       "60    349.890015\n",
       "61    348.929993\n",
       "Name: Price, Length: 61, dtype: float64"
      ]
     },
     "execution_count": 7,
     "metadata": {},
     "output_type": "execute_result"
    }
   ],
   "source": [
    "y"
   ]
  },
  {
   "cell_type": "code",
   "execution_count": 8,
   "metadata": {
    "collapsed": false,
    "jupyter": {
     "outputs_hidden": false
    },
    "pycharm": {
     "name": "#%%\n"
    }
   },
   "outputs": [],
   "source": [
    "X_train, X_test, y_train, y_test = train_test_split(X, y, test_size=0.25, random_state=1)"
   ]
  },
  {
   "cell_type": "markdown",
   "metadata": {
    "jupyter": {
     "outputs_hidden": false
    },
    "pycharm": {
     "name": "#%% md\n"
    },
    "tags": []
   },
   "source": [
    "## Modeling with Linear Regression\n",
    "\n",
    "fit a line to our data set, with the minimum distance between the points."
   ]
  },
  {
   "cell_type": "code",
   "execution_count": 9,
   "metadata": {
    "collapsed": false,
    "jupyter": {
     "outputs_hidden": false
    },
    "pycharm": {
     "name": "#%%\n"
    }
   },
   "outputs": [
    {
     "data": {
      "text/plain": [
       "LinearRegression()"
      ]
     },
     "execution_count": 9,
     "metadata": {},
     "output_type": "execute_result"
    }
   ],
   "source": [
    "lr = LinearRegression()    #use this algorithm to start developing the line betwee data points\n",
    "lr"
   ]
  },
  {
   "cell_type": "code",
   "execution_count": 10,
   "metadata": {
    "collapsed": false,
    "jupyter": {
     "outputs_hidden": false
    },
    "pycharm": {
     "name": "#%%\n"
    }
   },
   "outputs": [
    {
     "name": "stdout",
     "output_type": "stream",
     "text": [
      "the score with the training data set = 0.9152033901019357\n",
      "the score with the test data set = 0.8976667513188491\n"
     ]
    }
   ],
   "source": [
    "lr.fit(X_train, y_train)\n",
    "trainScore = lr.score(X_train, y_train) \n",
    "testScore = lr.score(X_test, y_test) \n",
    "\n",
    "print(f'the score with the training data set = {trainScore}')\n",
    "print(f'the score with the test data set = {testScore}')"
   ]
  },
  {
   "cell_type": "markdown",
   "metadata": {
    "pycharm": {
     "name": "#%% md\n"
    }
   },
   "source": [
    "## LR Metrics Output"
   ]
  },
  {
   "cell_type": "code",
   "execution_count": 11,
   "metadata": {
    "collapsed": false,
    "jupyter": {
     "outputs_hidden": false
    },
    "pycharm": {
     "name": "#%%\n"
    }
   },
   "outputs": [
    {
     "name": "stdout",
     "output_type": "stream",
     "text": [
      "Score: 0.90\n",
      "MAE: 4.29\n",
      "RMSE: 5.18\n",
      "r2: 0.90\n"
     ]
    }
   ],
   "source": [
    "predictions = lr.predict(X_test)\n",
    "printRegressionMetrics(y_test, predictions)"
   ]
  },
  {
   "cell_type": "markdown",
   "metadata": {
    "pycharm": {
     "name": "#%% md\n"
    }
   },
   "source": [
    "## Predict some new samples\n",
    "\n",
    "define a few new samples."
   ]
  },
  {
   "cell_type": "code",
   "execution_count": 12,
   "metadata": {
    "collapsed": false,
    "jupyter": {
     "outputs_hidden": false
    },
    "pycharm": {
     "name": "#%%\n"
    }
   },
   "outputs": [],
   "source": [
    "import random as rnd\n",
    "rnd.seed(1024)"
   ]
  },
  {
   "cell_type": "code",
   "execution_count": 13,
   "metadata": {
    "collapsed": false,
    "jupyter": {
     "outputs_hidden": false
    },
    "pycharm": {
     "name": "#%%\n"
    }
   },
   "outputs": [
    {
     "data": {
      "text/plain": [
       "[{'Trends': 2,\n",
       "  'Previous_Close': 247,\n",
       "  'Volume': 3266757,\n",
       "  'trend_daily_increase': 1},\n",
       " {'Trends': 66,\n",
       "  'Previous_Close': 51,\n",
       "  'Volume': 3733943,\n",
       "  'trend_daily_increase': 1},\n",
       " {'Trends': 92,\n",
       "  'Previous_Close': 366,\n",
       "  'Volume': 3093938,\n",
       "  'trend_daily_increase': 1}]"
      ]
     },
     "execution_count": 13,
     "metadata": {},
     "output_type": "execute_result"
    }
   ],
   "source": [
    "numElements = 3\n",
    "sampleStockTrend = []\n",
    "for _ in range(numElements):\n",
    "    dict = {}\n",
    "    for column in X.columns:\n",
    "        min = 0  # assume min = 0\n",
    "        maxValue = round(max(JDStockTrend[column].values))\n",
    "        dict[column] = rnd.randint(min, maxValue)\n",
    "    sampleStockTrend.append(dict)\n",
    "sampleStockTrend"
   ]
  },
  {
   "cell_type": "code",
   "execution_count": 14,
   "metadata": {
    "collapsed": false,
    "jupyter": {
     "outputs_hidden": false
    },
    "pycharm": {
     "name": "#%%\n"
    }
   },
   "outputs": [
    {
     "data": {
      "text/html": [
       "<div>\n",
       "<style scoped>\n",
       "    .dataframe tbody tr th:only-of-type {\n",
       "        vertical-align: middle;\n",
       "    }\n",
       "\n",
       "    .dataframe tbody tr th {\n",
       "        vertical-align: top;\n",
       "    }\n",
       "\n",
       "    .dataframe thead th {\n",
       "        text-align: right;\n",
       "    }\n",
       "</style>\n",
       "<table border=\"1\" class=\"dataframe\">\n",
       "  <thead>\n",
       "    <tr style=\"text-align: right;\">\n",
       "      <th></th>\n",
       "      <th>Trends</th>\n",
       "      <th>Previous_Close</th>\n",
       "      <th>Volume</th>\n",
       "      <th>trend_daily_increase</th>\n",
       "    </tr>\n",
       "  </thead>\n",
       "  <tbody>\n",
       "    <tr>\n",
       "      <th>0</th>\n",
       "      <td>2</td>\n",
       "      <td>247</td>\n",
       "      <td>3266757</td>\n",
       "      <td>1</td>\n",
       "    </tr>\n",
       "    <tr>\n",
       "      <th>1</th>\n",
       "      <td>66</td>\n",
       "      <td>51</td>\n",
       "      <td>3733943</td>\n",
       "      <td>1</td>\n",
       "    </tr>\n",
       "    <tr>\n",
       "      <th>2</th>\n",
       "      <td>92</td>\n",
       "      <td>366</td>\n",
       "      <td>3093938</td>\n",
       "      <td>1</td>\n",
       "    </tr>\n",
       "  </tbody>\n",
       "</table>\n",
       "</div>"
      ],
      "text/plain": [
       "   Trends  Previous_Close   Volume  trend_daily_increase\n",
       "0       2             247  3266757                     1\n",
       "1      66              51  3733943                     1\n",
       "2      92             366  3093938                     1"
      ]
     },
     "execution_count": 14,
     "metadata": {},
     "output_type": "execute_result"
    }
   ],
   "source": [
    "pdSampleStockTrend = pd.DataFrame.from_dict(sampleStockTrend)\n",
    "pdSampleStockTrend"
   ]
  },
  {
   "cell_type": "code",
   "execution_count": 15,
   "metadata": {
    "collapsed": false,
    "jupyter": {
     "outputs_hidden": false
    },
    "pycharm": {
     "name": "#%%\n"
    }
   },
   "outputs": [
    {
     "data": {
      "text/plain": [
       "array([250.28101518,  72.93647955, 366.1470389 ])"
      ]
     },
     "execution_count": 15,
     "metadata": {},
     "output_type": "execute_result"
    }
   ],
   "source": [
    "predictions = lr.predict(pdSampleStockTrend)\n",
    "predictions"
   ]
  },
  {
   "cell_type": "code",
   "execution_count": 16,
   "metadata": {
    "collapsed": false,
    "jupyter": {
     "outputs_hidden": false
    },
    "pycharm": {
     "name": "#%%\n"
    }
   },
   "outputs": [
    {
     "data": {
      "text/html": [
       "<div>\n",
       "<style scoped>\n",
       "    .dataframe tbody tr th:only-of-type {\n",
       "        vertical-align: middle;\n",
       "    }\n",
       "\n",
       "    .dataframe tbody tr th {\n",
       "        vertical-align: top;\n",
       "    }\n",
       "\n",
       "    .dataframe thead th {\n",
       "        text-align: right;\n",
       "    }\n",
       "</style>\n",
       "<table border=\"1\" class=\"dataframe\">\n",
       "  <thead>\n",
       "    <tr style=\"text-align: right;\">\n",
       "      <th></th>\n",
       "      <th>Trends</th>\n",
       "      <th>Previous_Close</th>\n",
       "      <th>Volume</th>\n",
       "      <th>trend_daily_increase</th>\n",
       "      <th>Predicted</th>\n",
       "    </tr>\n",
       "  </thead>\n",
       "  <tbody>\n",
       "    <tr>\n",
       "      <th>0</th>\n",
       "      <td>2</td>\n",
       "      <td>247</td>\n",
       "      <td>3266757</td>\n",
       "      <td>1</td>\n",
       "      <td>250.281015</td>\n",
       "    </tr>\n",
       "    <tr>\n",
       "      <th>1</th>\n",
       "      <td>66</td>\n",
       "      <td>51</td>\n",
       "      <td>3733943</td>\n",
       "      <td>1</td>\n",
       "      <td>72.936480</td>\n",
       "    </tr>\n",
       "    <tr>\n",
       "      <th>2</th>\n",
       "      <td>92</td>\n",
       "      <td>366</td>\n",
       "      <td>3093938</td>\n",
       "      <td>1</td>\n",
       "      <td>366.147039</td>\n",
       "    </tr>\n",
       "  </tbody>\n",
       "</table>\n",
       "</div>"
      ],
      "text/plain": [
       "   Trends  Previous_Close   Volume  trend_daily_increase   Predicted\n",
       "0       2             247  3266757                     1  250.281015\n",
       "1      66              51  3733943                     1   72.936480\n",
       "2      92             366  3093938                     1  366.147039"
      ]
     },
     "execution_count": 16,
     "metadata": {},
     "output_type": "execute_result"
    }
   ],
   "source": [
    "pdPredictedStockTrend = pdSampleStockTrend.copy()\n",
    "pdPredictedStockTrend['Predicted'] = predictions\n",
    "pdPredictedStockTrend"
   ]
  },
  {
   "cell_type": "markdown",
   "metadata": {},
   "source": [
    "# Part 2: Classification - Logistic Regression"
   ]
  },
  {
   "cell_type": "markdown",
   "metadata": {},
   "source": [
    "## Prepare the Data\n",
    "load data, clean up, prepare features and targets, split up training and test data."
   ]
  },
  {
   "cell_type": "code",
   "execution_count": 17,
   "metadata": {
    "pycharm": {
     "name": "#%%\n"
    },
    "tags": []
   },
   "outputs": [
    {
     "data": {
      "text/html": [
       "<div>\n",
       "<style scoped>\n",
       "    .dataframe tbody tr th:only-of-type {\n",
       "        vertical-align: middle;\n",
       "    }\n",
       "\n",
       "    .dataframe tbody tr th {\n",
       "        vertical-align: top;\n",
       "    }\n",
       "\n",
       "    .dataframe thead th {\n",
       "        text-align: right;\n",
       "    }\n",
       "</style>\n",
       "<table border=\"1\" class=\"dataframe\">\n",
       "  <thead>\n",
       "    <tr style=\"text-align: right;\">\n",
       "      <th></th>\n",
       "      <th>Date</th>\n",
       "      <th>Price</th>\n",
       "      <th>Trends</th>\n",
       "      <th>High</th>\n",
       "      <th>Volume</th>\n",
       "      <th>Previous_Close</th>\n",
       "      <th>trend_daily_increase</th>\n",
       "      <th>price_daily_increase</th>\n",
       "    </tr>\n",
       "  </thead>\n",
       "  <tbody>\n",
       "    <tr>\n",
       "      <th>1</th>\n",
       "      <td>4/5/2021</td>\n",
       "      <td>374.809998</td>\n",
       "      <td>88</td>\n",
       "      <td>377.940002</td>\n",
       "      <td>1419500</td>\n",
       "      <td>372.12</td>\n",
       "      <td>1</td>\n",
       "      <td>1</td>\n",
       "    </tr>\n",
       "    <tr>\n",
       "      <th>2</th>\n",
       "      <td>4/6/2021</td>\n",
       "      <td>375.609985</td>\n",
       "      <td>83</td>\n",
       "      <td>381.839996</td>\n",
       "      <td>1309700</td>\n",
       "      <td>374.81</td>\n",
       "      <td>0</td>\n",
       "      <td>1</td>\n",
       "    </tr>\n",
       "    <tr>\n",
       "      <th>3</th>\n",
       "      <td>4/7/2021</td>\n",
       "      <td>374.790009</td>\n",
       "      <td>88</td>\n",
       "      <td>378.880005</td>\n",
       "      <td>1299300</td>\n",
       "      <td>375.61</td>\n",
       "      <td>1</td>\n",
       "      <td>0</td>\n",
       "    </tr>\n",
       "    <tr>\n",
       "      <th>4</th>\n",
       "      <td>4/8/2021</td>\n",
       "      <td>374.070007</td>\n",
       "      <td>79</td>\n",
       "      <td>374.529999</td>\n",
       "      <td>1250700</td>\n",
       "      <td>374.79</td>\n",
       "      <td>0</td>\n",
       "      <td>0</td>\n",
       "    </tr>\n",
       "    <tr>\n",
       "      <th>5</th>\n",
       "      <td>4/9/2021</td>\n",
       "      <td>377.000000</td>\n",
       "      <td>82</td>\n",
       "      <td>378.079987</td>\n",
       "      <td>1224500</td>\n",
       "      <td>374.07</td>\n",
       "      <td>1</td>\n",
       "      <td>1</td>\n",
       "    </tr>\n",
       "    <tr>\n",
       "      <th>...</th>\n",
       "      <td>...</td>\n",
       "      <td>...</td>\n",
       "      <td>...</td>\n",
       "      <td>...</td>\n",
       "      <td>...</td>\n",
       "      <td>...</td>\n",
       "      <td>...</td>\n",
       "      <td>...</td>\n",
       "    </tr>\n",
       "    <tr>\n",
       "      <th>57</th>\n",
       "      <td>6/23/2021</td>\n",
       "      <td>347.750000</td>\n",
       "      <td>71</td>\n",
       "      <td>349.170013</td>\n",
       "      <td>3352700</td>\n",
       "      <td>342.10</td>\n",
       "      <td>0</td>\n",
       "      <td>1</td>\n",
       "    </tr>\n",
       "    <tr>\n",
       "      <th>58</th>\n",
       "      <td>6/24/2021</td>\n",
       "      <td>350.619995</td>\n",
       "      <td>74</td>\n",
       "      <td>354.739990</td>\n",
       "      <td>2140200</td>\n",
       "      <td>347.75</td>\n",
       "      <td>1</td>\n",
       "      <td>1</td>\n",
       "    </tr>\n",
       "    <tr>\n",
       "      <th>59</th>\n",
       "      <td>6/25/2021</td>\n",
       "      <td>349.989990</td>\n",
       "      <td>80</td>\n",
       "      <td>355.890015</td>\n",
       "      <td>6604800</td>\n",
       "      <td>350.62</td>\n",
       "      <td>1</td>\n",
       "      <td>0</td>\n",
       "    </tr>\n",
       "    <tr>\n",
       "      <th>60</th>\n",
       "      <td>6/28/2021</td>\n",
       "      <td>349.890015</td>\n",
       "      <td>72</td>\n",
       "      <td>350.950012</td>\n",
       "      <td>1304200</td>\n",
       "      <td>349.99</td>\n",
       "      <td>0</td>\n",
       "      <td>0</td>\n",
       "    </tr>\n",
       "    <tr>\n",
       "      <th>61</th>\n",
       "      <td>6/29/2021</td>\n",
       "      <td>348.929993</td>\n",
       "      <td>66</td>\n",
       "      <td>352.700012</td>\n",
       "      <td>1213400</td>\n",
       "      <td>349.89</td>\n",
       "      <td>0</td>\n",
       "      <td>0</td>\n",
       "    </tr>\n",
       "  </tbody>\n",
       "</table>\n",
       "<p>61 rows × 8 columns</p>\n",
       "</div>"
      ],
      "text/plain": [
       "         Date       Price  Trends        High   Volume  Previous_Close  \\\n",
       "1    4/5/2021  374.809998      88  377.940002  1419500          372.12   \n",
       "2    4/6/2021  375.609985      83  381.839996  1309700          374.81   \n",
       "3    4/7/2021  374.790009      88  378.880005  1299300          375.61   \n",
       "4    4/8/2021  374.070007      79  374.529999  1250700          374.79   \n",
       "5    4/9/2021  377.000000      82  378.079987  1224500          374.07   \n",
       "..        ...         ...     ...         ...      ...             ...   \n",
       "57  6/23/2021  347.750000      71  349.170013  3352700          342.10   \n",
       "58  6/24/2021  350.619995      74  354.739990  2140200          347.75   \n",
       "59  6/25/2021  349.989990      80  355.890015  6604800          350.62   \n",
       "60  6/28/2021  349.890015      72  350.950012  1304200          349.99   \n",
       "61  6/29/2021  348.929993      66  352.700012  1213400          349.89   \n",
       "\n",
       "    trend_daily_increase  price_daily_increase  \n",
       "1                      1                     1  \n",
       "2                      0                     1  \n",
       "3                      1                     0  \n",
       "4                      0                     0  \n",
       "5                      1                     1  \n",
       "..                   ...                   ...  \n",
       "57                     0                     1  \n",
       "58                     1                     1  \n",
       "59                     1                     0  \n",
       "60                     0                     0  \n",
       "61                     0                     0  \n",
       "\n",
       "[61 rows x 8 columns]"
      ]
     },
     "execution_count": 17,
     "metadata": {},
     "output_type": "execute_result"
    }
   ],
   "source": [
    "# Need to prepare the data seperately for logistic regression becuase our feature and target vectors will be different\n",
    "JDStockTrend"
   ]
  },
  {
   "cell_type": "code",
   "execution_count": 18,
   "metadata": {
    "pycharm": {
     "name": "#%%\n"
    },
    "tags": []
   },
   "outputs": [
    {
     "data": {
      "text/html": [
       "<div>\n",
       "<style scoped>\n",
       "    .dataframe tbody tr th:only-of-type {\n",
       "        vertical-align: middle;\n",
       "    }\n",
       "\n",
       "    .dataframe tbody tr th {\n",
       "        vertical-align: top;\n",
       "    }\n",
       "\n",
       "    .dataframe thead th {\n",
       "        text-align: right;\n",
       "    }\n",
       "</style>\n",
       "<table border=\"1\" class=\"dataframe\">\n",
       "  <thead>\n",
       "    <tr style=\"text-align: right;\">\n",
       "      <th></th>\n",
       "      <th>Trends</th>\n",
       "      <th>Previous_Close</th>\n",
       "      <th>Volume</th>\n",
       "      <th>trend_daily_increase</th>\n",
       "    </tr>\n",
       "  </thead>\n",
       "  <tbody>\n",
       "    <tr>\n",
       "      <th>1</th>\n",
       "      <td>88</td>\n",
       "      <td>372.12</td>\n",
       "      <td>1419500</td>\n",
       "      <td>1</td>\n",
       "    </tr>\n",
       "    <tr>\n",
       "      <th>2</th>\n",
       "      <td>83</td>\n",
       "      <td>374.81</td>\n",
       "      <td>1309700</td>\n",
       "      <td>0</td>\n",
       "    </tr>\n",
       "    <tr>\n",
       "      <th>3</th>\n",
       "      <td>88</td>\n",
       "      <td>375.61</td>\n",
       "      <td>1299300</td>\n",
       "      <td>1</td>\n",
       "    </tr>\n",
       "    <tr>\n",
       "      <th>4</th>\n",
       "      <td>79</td>\n",
       "      <td>374.79</td>\n",
       "      <td>1250700</td>\n",
       "      <td>0</td>\n",
       "    </tr>\n",
       "    <tr>\n",
       "      <th>5</th>\n",
       "      <td>82</td>\n",
       "      <td>374.07</td>\n",
       "      <td>1224500</td>\n",
       "      <td>1</td>\n",
       "    </tr>\n",
       "    <tr>\n",
       "      <th>...</th>\n",
       "      <td>...</td>\n",
       "      <td>...</td>\n",
       "      <td>...</td>\n",
       "      <td>...</td>\n",
       "    </tr>\n",
       "    <tr>\n",
       "      <th>57</th>\n",
       "      <td>71</td>\n",
       "      <td>342.10</td>\n",
       "      <td>3352700</td>\n",
       "      <td>0</td>\n",
       "    </tr>\n",
       "    <tr>\n",
       "      <th>58</th>\n",
       "      <td>74</td>\n",
       "      <td>347.75</td>\n",
       "      <td>2140200</td>\n",
       "      <td>1</td>\n",
       "    </tr>\n",
       "    <tr>\n",
       "      <th>59</th>\n",
       "      <td>80</td>\n",
       "      <td>350.62</td>\n",
       "      <td>6604800</td>\n",
       "      <td>1</td>\n",
       "    </tr>\n",
       "    <tr>\n",
       "      <th>60</th>\n",
       "      <td>72</td>\n",
       "      <td>349.99</td>\n",
       "      <td>1304200</td>\n",
       "      <td>0</td>\n",
       "    </tr>\n",
       "    <tr>\n",
       "      <th>61</th>\n",
       "      <td>66</td>\n",
       "      <td>349.89</td>\n",
       "      <td>1213400</td>\n",
       "      <td>0</td>\n",
       "    </tr>\n",
       "  </tbody>\n",
       "</table>\n",
       "<p>61 rows × 4 columns</p>\n",
       "</div>"
      ],
      "text/plain": [
       "    Trends  Previous_Close   Volume  trend_daily_increase\n",
       "1       88          372.12  1419500                     1\n",
       "2       83          374.81  1309700                     0\n",
       "3       88          375.61  1299300                     1\n",
       "4       79          374.79  1250700                     0\n",
       "5       82          374.07  1224500                     1\n",
       "..     ...             ...      ...                   ...\n",
       "57      71          342.10  3352700                     0\n",
       "58      74          347.75  2140200                     1\n",
       "59      80          350.62  6604800                     1\n",
       "60      72          349.99  1304200                     0\n",
       "61      66          349.89  1213400                     0\n",
       "\n",
       "[61 rows x 4 columns]"
      ]
     },
     "execution_count": 18,
     "metadata": {},
     "output_type": "execute_result"
    }
   ],
   "source": [
    "#determine feature vectors and target vectors. in this case targeting a classification on whether or not the price would increase based on the previous days closing price, volume traded, and search trends data\n",
    "featureColumns = [\"Trends\",\"Previous_Close\",\"Volume\",\"trend_daily_increase\"]\n",
    "target = \"price_daily_increase\"\n",
    "\n",
    "X=JDStockTrend[featureColumns]\n",
    "y=JDStockTrend[target]\n",
    "\n",
    "X"
   ]
  },
  {
   "cell_type": "code",
   "execution_count": 19,
   "metadata": {
    "collapsed": false,
    "jupyter": {
     "outputs_hidden": false
    },
    "pycharm": {
     "name": "#%%\n"
    }
   },
   "outputs": [
    {
     "data": {
      "text/plain": [
       "1     1\n",
       "2     1\n",
       "3     0\n",
       "4     0\n",
       "5     1\n",
       "     ..\n",
       "57    1\n",
       "58    1\n",
       "59    0\n",
       "60    0\n",
       "61    0\n",
       "Name: price_daily_increase, Length: 61, dtype: int32"
      ]
     },
     "execution_count": 19,
     "metadata": {},
     "output_type": "execute_result"
    }
   ],
   "source": [
    "y"
   ]
  },
  {
   "cell_type": "code",
   "execution_count": 20,
   "metadata": {
    "collapsed": false,
    "jupyter": {
     "outputs_hidden": false
    },
    "pycharm": {
     "name": "#%%\n"
    }
   },
   "outputs": [],
   "source": [
    "X_train, X_test, y_train, y_test = train_test_split(X, y, test_size=0.25)"
   ]
  },
  {
   "cell_type": "markdown",
   "metadata": {
    "pycharm": {
     "name": "#%% md\n"
    }
   },
   "source": [
    "## Modeling with Logistic Regression (classification)\n"
   ]
  },
  {
   "cell_type": "code",
   "execution_count": 21,
   "metadata": {
    "pycharm": {
     "name": "#%%\n"
    },
    "tags": []
   },
   "outputs": [
    {
     "data": {
      "text/plain": [
       "LogisticRegression(solver='liblinear')"
      ]
     },
     "execution_count": 21,
     "metadata": {},
     "output_type": "execute_result"
    }
   ],
   "source": [
    "lr = LogisticRegression(solver=\"liblinear\")\n",
    "lr"
   ]
  },
  {
   "cell_type": "code",
   "execution_count": 22,
   "metadata": {
    "collapsed": false,
    "jupyter": {
     "outputs_hidden": false
    },
    "pycharm": {
     "name": "#%%\n"
    }
   },
   "outputs": [
    {
     "data": {
      "text/plain": [
       "LogisticRegression(solver='liblinear')"
      ]
     },
     "execution_count": 22,
     "metadata": {},
     "output_type": "execute_result"
    }
   ],
   "source": [
    "lr.fit(X_train, y_train)"
   ]
  },
  {
   "cell_type": "code",
   "execution_count": 23,
   "metadata": {
    "collapsed": false,
    "jupyter": {
     "outputs_hidden": false
    },
    "pycharm": {
     "name": "#%%\n"
    }
   },
   "outputs": [
    {
     "data": {
      "text/plain": [
       "0.5777777777777777"
      ]
     },
     "execution_count": 23,
     "metadata": {},
     "output_type": "execute_result"
    }
   ],
   "source": [
    "lr.score(X_train, y_train)"
   ]
  },
  {
   "cell_type": "code",
   "execution_count": 24,
   "metadata": {
    "collapsed": false,
    "jupyter": {
     "outputs_hidden": false
    },
    "pycharm": {
     "name": "#%%\n"
    }
   },
   "outputs": [
    {
     "data": {
      "text/plain": [
       "0.4375"
      ]
     },
     "execution_count": 24,
     "metadata": {},
     "output_type": "execute_result"
    }
   ],
   "source": [
    "lr.score(X_test, y_test)"
   ]
  },
  {
   "cell_type": "markdown",
   "metadata": {},
   "source": [
    "## Classification Metrics Output"
   ]
  },
  {
   "cell_type": "code",
   "execution_count": 25,
   "metadata": {
    "collapsed": false,
    "jupyter": {
     "outputs_hidden": false
    },
    "pycharm": {
     "name": "#%%\n"
    }
   },
   "outputs": [
    {
     "name": "stdout",
     "output_type": "stream",
     "text": [
      "Confusion Matrix:\n",
      "[[0 8]\n",
      " [1 7]]\n",
      "------------------\n",
      "Accuracy: 0.44\n",
      "Recall: 0.88\n",
      "Prediction: 0.47\n",
      "f-measure: 0.61\n",
      "------------------\n",
      "              precision    recall  f1-score   support\n",
      "\n",
      "           0       0.00      0.00      0.00         8\n",
      "           1       0.47      0.88      0.61         8\n",
      "\n",
      "    accuracy                           0.44        16\n",
      "   macro avg       0.23      0.44      0.30        16\n",
      "weighted avg       0.23      0.44      0.30        16\n",
      "\n"
     ]
    }
   ],
   "source": [
    "predictions = lr.predict(X_test)\n",
    "printClassificationMetrics(y_test, predictions)"
   ]
  },
  {
   "cell_type": "markdown",
   "metadata": {
    "pycharm": {
     "name": "#%% md\n"
    }
   },
   "source": [
    "## Predict with the samples that were generated above\n"
   ]
  },
  {
   "cell_type": "code",
   "execution_count": 26,
   "metadata": {
    "collapsed": false,
    "jupyter": {
     "outputs_hidden": false
    },
    "pycharm": {
     "name": "#%%\n"
    }
   },
   "outputs": [],
   "source": [
    "import random as rnd\n",
    "rnd.seed(1024)\n"
   ]
  },
  {
   "cell_type": "code",
   "execution_count": 27,
   "metadata": {
    "collapsed": false,
    "jupyter": {
     "outputs_hidden": false
    },
    "pycharm": {
     "name": "#%%\n"
    }
   },
   "outputs": [
    {
     "data": {
      "text/plain": [
       "[{'Trends': 2,\n",
       "  'Previous_Close': 247,\n",
       "  'Volume': 3266757,\n",
       "  'trend_daily_increase': 1},\n",
       " {'Trends': 66,\n",
       "  'Previous_Close': 51,\n",
       "  'Volume': 3733943,\n",
       "  'trend_daily_increase': 1},\n",
       " {'Trends': 92,\n",
       "  'Previous_Close': 366,\n",
       "  'Volume': 3093938,\n",
       "  'trend_daily_increase': 1}]"
      ]
     },
     "execution_count": 27,
     "metadata": {},
     "output_type": "execute_result"
    }
   ],
   "source": [
    "sampleStockTrend"
   ]
  },
  {
   "cell_type": "code",
   "execution_count": 28,
   "metadata": {
    "collapsed": false,
    "jupyter": {
     "outputs_hidden": false
    },
    "pycharm": {
     "name": "#%%\n"
    }
   },
   "outputs": [],
   "source": [
    "pdSampleStockTrend = pd.DataFrame.from_dict(sampleStockTrend)"
   ]
  },
  {
   "cell_type": "code",
   "execution_count": 29,
   "metadata": {
    "collapsed": false,
    "jupyter": {
     "outputs_hidden": false
    },
    "pycharm": {
     "name": "#%%\n"
    }
   },
   "outputs": [
    {
     "data": {
      "text/plain": [
       "array([0, 0, 0])"
      ]
     },
     "execution_count": 29,
     "metadata": {},
     "output_type": "execute_result"
    }
   ],
   "source": [
    "predictions = lr.predict(pdSampleStockTrend)\n",
    "predictions"
   ]
  },
  {
   "cell_type": "code",
   "execution_count": 30,
   "metadata": {
    "collapsed": false,
    "jupyter": {
     "outputs_hidden": false
    },
    "pycharm": {
     "name": "#%%\n"
    }
   },
   "outputs": [
    {
     "data": {
      "text/html": [
       "<div>\n",
       "<style scoped>\n",
       "    .dataframe tbody tr th:only-of-type {\n",
       "        vertical-align: middle;\n",
       "    }\n",
       "\n",
       "    .dataframe tbody tr th {\n",
       "        vertical-align: top;\n",
       "    }\n",
       "\n",
       "    .dataframe thead th {\n",
       "        text-align: right;\n",
       "    }\n",
       "</style>\n",
       "<table border=\"1\" class=\"dataframe\">\n",
       "  <thead>\n",
       "    <tr style=\"text-align: right;\">\n",
       "      <th></th>\n",
       "      <th>Trends</th>\n",
       "      <th>Previous_Close</th>\n",
       "      <th>Volume</th>\n",
       "      <th>trend_daily_increase</th>\n",
       "      <th>price_daily_increse</th>\n",
       "    </tr>\n",
       "  </thead>\n",
       "  <tbody>\n",
       "    <tr>\n",
       "      <th>0</th>\n",
       "      <td>2</td>\n",
       "      <td>247</td>\n",
       "      <td>3266757</td>\n",
       "      <td>1</td>\n",
       "      <td>False</td>\n",
       "    </tr>\n",
       "    <tr>\n",
       "      <th>1</th>\n",
       "      <td>66</td>\n",
       "      <td>51</td>\n",
       "      <td>3733943</td>\n",
       "      <td>1</td>\n",
       "      <td>False</td>\n",
       "    </tr>\n",
       "    <tr>\n",
       "      <th>2</th>\n",
       "      <td>92</td>\n",
       "      <td>366</td>\n",
       "      <td>3093938</td>\n",
       "      <td>1</td>\n",
       "      <td>False</td>\n",
       "    </tr>\n",
       "  </tbody>\n",
       "</table>\n",
       "</div>"
      ],
      "text/plain": [
       "   Trends  Previous_Close   Volume  trend_daily_increase  price_daily_increse\n",
       "0       2             247  3266757                     1                False\n",
       "1      66              51  3733943                     1                False\n",
       "2      92             366  3093938                     1                False"
      ]
     },
     "execution_count": 30,
     "metadata": {},
     "output_type": "execute_result"
    }
   ],
   "source": [
    "pdPredictedStockTrend = pdSampleStockTrend\n",
    "pdPredictedStockTrend[\"price_daily_increse\"] = predictions.astype(bool)\n",
    "pdPredictedStockTrend"
   ]
  },
  {
   "cell_type": "markdown",
   "metadata": {},
   "source": [
    "## Conclusion"
   ]
  },
  {
   "cell_type": "markdown",
   "metadata": {},
   "source": [
    "analyzing the current results of the both methods used (linear regression, and logistic regression (Classification). it does seem like the data points to the fact that the linear regrission is a strong canidate for predicting price of John Deere. in each linear regression scenario, the score is around 90%. and the sample data that is generated also seems to develop reasonable price predictions for the closing price. the logistic model (for classification) only has a score of 44%. overall. in some ways, developing a stronger classification model would provide more value for a day trader of stocks becuase it would give them the insight of the confidience to buy shares of a compnay to make money in a short amount of time."
   ]
  }
 ],
 "metadata": {
  "kernelspec": {
   "display_name": "Python 3",
   "language": "python",
   "name": "python3"
  },
  "language_info": {
   "codemirror_mode": {
    "name": "ipython",
    "version": 3
   },
   "file_extension": ".py",
   "mimetype": "text/x-python",
   "name": "python",
   "nbconvert_exporter": "python",
   "pygments_lexer": "ipython3",
   "version": "3.8.8"
  }
 },
 "nbformat": 4,
 "nbformat_minor": 4
}
