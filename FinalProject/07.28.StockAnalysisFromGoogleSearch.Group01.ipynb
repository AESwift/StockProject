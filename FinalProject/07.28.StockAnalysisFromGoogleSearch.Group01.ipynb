{
 "cells": [
  {
   "cell_type": "markdown",
   "id": "5eefcb88",
   "metadata": {
    "tags": []
   },
   "source": [
    "# Stock Analysis Utilizing Google Search Analytics\n",
    "#### Group Members: Andrew Turvey, Arielle Swift, Connor Moore, Dan Knobloch,  Ken Cupples, Shawn Sonnack \n",
    "BAIS 6040: Data Programming in Python <br>\n",
    "Group 01 <br>\n",
    "3 August 2021 <br>\n",
    "\n",
    "## Problem and Goal Statement:\n",
    "   The recent rise of retail investors and day traders, as seen in news stories pertaining to GameStop and AMC, coupled with the increase in internet usage for research, and general information sharing purposes over the last 20 years poses an interesting question as to how stock price and search engine hits (such as Google searches) are tied together. More specifically our team analyzed how a desired company’s closing stock price can be affected by “Google Trends” search interest data to see if there is a strong enough correlation to build a model that would accurately predict a price increase for a given day and therefore could generate a “buy signal” for traders.\n",
    "\t\n",
    "   Factors of importance needed to develop an acceptable model will include: previous day’s share price, volume of shares trade, and Google Trends search history score, which is a number between 0-100 that is base lined  off of the highest search interest day in a given time period. Data can be pulled direct from most finance sites and the Google Trend website. We then added a few manually calculated relationship fields, such as whether or not the price or trend increases the previous day to enhance our models. Our model will be built and trained primarily on data from Q2 in calendar year 2021 (April 01 – June 30) and will be tested on July 2021 data. The models performance will be easily analyzed by comparing the predicted values to the actual values. \n"
   ]
  },
  {
   "cell_type": "markdown",
   "id": "87e05a7c",
   "metadata": {},
   "source": [
    "## Import"
   ]
  },
  {
   "cell_type": "code",
   "execution_count": 1,
   "id": "42cfc04d",
   "metadata": {},
   "outputs": [],
   "source": [
    "import yfinance as yf\n",
    "import pandas as pd\n",
    "import numpy as np\n",
    "import os\n",
    "import math\n",
    "import matplotlib as mp\n",
    "import matplotlib.pyplot as plt\n",
    "import seaborn as sns\n",
    "import random as rnd\n",
    "from datetime import date\n",
    "from statistics import mean\n",
    "from datetime import timedelta\n",
    "from pytrends.request import TrendReq\n",
    "from sklearn.metrics import explained_variance_score, mean_absolute_error, r2_score, mean_squared_error\n",
    "from sklearn.model_selection import train_test_split    # For generating test/train\n",
    "from sklearn.linear_model import LinearRegression   # Logistic regression\n",
    "\n",
    "%matplotlib inline"
   ]
  },
  {
   "cell_type": "markdown",
   "id": "ecd1f61d",
   "metadata": {},
   "source": [
    "## Global Variables and Initialization"
   ]
  },
  {
   "cell_type": "code",
   "execution_count": 2,
   "id": "fb886100",
   "metadata": {},
   "outputs": [],
   "source": [
    "dataDir = r\"./Data Files/\"  #Directory of all data\n",
    "today = date.today()  # Today's date\n",
    "rnd.seed(1024)"
   ]
  },
  {
   "cell_type": "markdown",
   "id": "19a63d5c",
   "metadata": {},
   "source": [
    "## Global Functions"
   ]
  },
  {
   "cell_type": "code",
   "execution_count": 3,
   "id": "a8ff10fb",
   "metadata": {},
   "outputs": [],
   "source": [
    "# Function gets stock data and trend data if needed\n",
    "def getData(stockName):\n",
    "    if os.path.exists(f\"{dataDir}{stockName}_{today}_year.csv\"):\n",
    "        #Get stored data\n",
    "        storedData = pd.read_csv(f\"{dataDir}{stockName}_{today}_year.csv\")\n",
    "        #Set date as index\n",
    "        storedData.set_index(\"Date\", inplace=True)\n",
    "        return storedData\n",
    "    else:\n",
    "        # Get new data\n",
    "        # Connect to Google API\n",
    "        pytrends = TrendReq(hl='en-US', tz=360)\n",
    "        # Set Keyword\n",
    "        kw_list = [stockName]\n",
    "        # Google API only shows last 90 days so need to itirate\n",
    "        # Set start of interval\n",
    "        date90Front = date.today()\n",
    "        # Initiate dataframe\n",
    "        trendData = pd.DataFrame()\n",
    "        for _ in range(4):\n",
    "            # Set start end of interval\n",
    "            date90Back = date90Front - timedelta(days=90)\n",
    "            # Build Payload of 90 days\n",
    "            pytrends.build_payload(kw_list,\n",
    "                                   timeframe=f'{date90Back} {date90Front}',\n",
    "                                   geo='')\n",
    "            trend90 = pytrends.interest_over_time()\n",
    "            trendData = pd.concat([trend90, trendData])\n",
    "            date90Front = date90Back\n",
    "        # Get Stock Data\n",
    "        stockData = yf.download(stockName,\n",
    "                                 start=date.today() - timedelta(days=360),\n",
    "                                 end=date.today(), interval=\"1d\")\n",
    "        # Combine Data\n",
    "        newData = stockData.join(trendData)\n",
    "        # Set date as index\n",
    "        newData.index.name = \"Date\"\n",
    "        # Rename search interest\n",
    "        newData.rename(columns = {stockName: \"Search Interest\"},inplace = True)\n",
    "        # Add difference\n",
    "        newData[\"Price Difference\"] = newData[\"Close\"] - newData[\"Open\"]\n",
    "        # Add truth value that determines if we want to buy or not that day\n",
    "        newData['Buy'] = np.where(newData['Price Difference'] > 0, 1, 0)\n",
    "        # Delete isPartial\n",
    "        del newData['isPartial']\n",
    "        # Remove NaN\n",
    "        newData.dropna(inplace=True)\n",
    "        # Export to data folder\n",
    "        newData.to_csv(f\"{dataDir}{stockName}_{today}_year.csv\")\n",
    "        return newData\n",
    "\n",
    "# Function prints metrics of regression model\n",
    "def printMetricsRegression(test, predictionsResult):\n",
    "    print(f\"Score: {explained_variance_score(test, predictionsResult):.2f}\")\n",
    "    print(f\"MAE: {mean_absolute_error(test, predictionsResult):.2f}\")\n",
    "    print(f\"RMSE: {math.sqrt(mean_squared_error(test, predictionsResult)):.2f}\")\n",
    "    print(f\"r2: {r2_score(test, predictionsResult):.2f}\")"
   ]
  },
  {
   "cell_type": "markdown",
   "id": "ed2b93c5",
   "metadata": {},
   "source": [
    "## Analytics Model: Linear Regression on GME"
   ]
  },
  {
   "cell_type": "code",
   "execution_count": 4,
   "id": "8729d8a0",
   "metadata": {},
   "outputs": [
    {
     "data": {
      "text/html": [
       "<div>\n",
       "<style scoped>\n",
       "    .dataframe tbody tr th:only-of-type {\n",
       "        vertical-align: middle;\n",
       "    }\n",
       "\n",
       "    .dataframe tbody tr th {\n",
       "        vertical-align: top;\n",
       "    }\n",
       "\n",
       "    .dataframe thead th {\n",
       "        text-align: right;\n",
       "    }\n",
       "</style>\n",
       "<table border=\"1\" class=\"dataframe\">\n",
       "  <thead>\n",
       "    <tr style=\"text-align: right;\">\n",
       "      <th></th>\n",
       "      <th>Open</th>\n",
       "      <th>High</th>\n",
       "      <th>Low</th>\n",
       "      <th>Close</th>\n",
       "      <th>Adj Close</th>\n",
       "      <th>Volume</th>\n",
       "      <th>Search Interest</th>\n",
       "      <th>Price Difference</th>\n",
       "      <th>Buy</th>\n",
       "    </tr>\n",
       "    <tr>\n",
       "      <th>Date</th>\n",
       "      <th></th>\n",
       "      <th></th>\n",
       "      <th></th>\n",
       "      <th></th>\n",
       "      <th></th>\n",
       "      <th></th>\n",
       "      <th></th>\n",
       "      <th></th>\n",
       "      <th></th>\n",
       "    </tr>\n",
       "  </thead>\n",
       "  <tbody>\n",
       "    <tr>\n",
       "      <th>2020-08-03</th>\n",
       "      <td>4.03</td>\n",
       "      <td>4.25</td>\n",
       "      <td>4.00</td>\n",
       "      <td>4.15</td>\n",
       "      <td>4.15</td>\n",
       "      <td>2517600</td>\n",
       "      <td>13.0</td>\n",
       "      <td>0.12</td>\n",
       "      <td>1</td>\n",
       "    </tr>\n",
       "    <tr>\n",
       "      <th>2020-08-04</th>\n",
       "      <td>4.13</td>\n",
       "      <td>4.74</td>\n",
       "      <td>4.13</td>\n",
       "      <td>4.43</td>\n",
       "      <td>4.43</td>\n",
       "      <td>10361400</td>\n",
       "      <td>27.0</td>\n",
       "      <td>0.30</td>\n",
       "      <td>1</td>\n",
       "    </tr>\n",
       "    <tr>\n",
       "      <th>2020-08-05</th>\n",
       "      <td>4.50</td>\n",
       "      <td>4.76</td>\n",
       "      <td>4.25</td>\n",
       "      <td>4.63</td>\n",
       "      <td>4.63</td>\n",
       "      <td>4919300</td>\n",
       "      <td>22.0</td>\n",
       "      <td>0.13</td>\n",
       "      <td>1</td>\n",
       "    </tr>\n",
       "    <tr>\n",
       "      <th>2020-08-06</th>\n",
       "      <td>4.60</td>\n",
       "      <td>4.66</td>\n",
       "      <td>4.38</td>\n",
       "      <td>4.43</td>\n",
       "      <td>4.43</td>\n",
       "      <td>1901200</td>\n",
       "      <td>26.0</td>\n",
       "      <td>-0.17</td>\n",
       "      <td>0</td>\n",
       "    </tr>\n",
       "    <tr>\n",
       "      <th>2020-08-07</th>\n",
       "      <td>4.39</td>\n",
       "      <td>4.40</td>\n",
       "      <td>4.06</td>\n",
       "      <td>4.16</td>\n",
       "      <td>4.16</td>\n",
       "      <td>3341100</td>\n",
       "      <td>29.0</td>\n",
       "      <td>-0.23</td>\n",
       "      <td>0</td>\n",
       "    </tr>\n",
       "  </tbody>\n",
       "</table>\n",
       "</div>"
      ],
      "text/plain": [
       "            Open  High   Low  Close  Adj Close    Volume  Search Interest  \\\n",
       "Date                                                                        \n",
       "2020-08-03  4.03  4.25  4.00   4.15       4.15   2517600             13.0   \n",
       "2020-08-04  4.13  4.74  4.13   4.43       4.43  10361400             27.0   \n",
       "2020-08-05  4.50  4.76  4.25   4.63       4.63   4919300             22.0   \n",
       "2020-08-06  4.60  4.66  4.38   4.43       4.43   1901200             26.0   \n",
       "2020-08-07  4.39  4.40  4.06   4.16       4.16   3341100             29.0   \n",
       "\n",
       "            Price Difference  Buy  \n",
       "Date                               \n",
       "2020-08-03              0.12    1  \n",
       "2020-08-04              0.30    1  \n",
       "2020-08-05              0.13    1  \n",
       "2020-08-06             -0.17    0  \n",
       "2020-08-07             -0.23    0  "
      ]
     },
     "execution_count": 4,
     "metadata": {},
     "output_type": "execute_result"
    }
   ],
   "source": [
    "# Gets Data for GME over last year\n",
    "stockSearchDf_GME = getData(\"GME\")\n",
    "\n",
    "stockSearchDf_GME.head(5)"
   ]
  },
  {
   "cell_type": "code",
   "execution_count": 5,
   "id": "1e1e32d9",
   "metadata": {},
   "outputs": [],
   "source": [
    "featureColumns_GME = ['Search Interest', 'Open']\n",
    "targetColumn_GME = 'Close'\n",
    "\n",
    "X_GME = stockSearchDf_GME[featureColumns_GME]\n",
    "y_GME = stockSearchDf_GME[targetColumn_GME]\n",
    "\n",
    "X_train_GME, X_test_GME, y_train_GME, y_test_GME = train_test_split(X_GME, y_GME, test_size=0.08, shuffle=False)"
   ]
  },
  {
   "cell_type": "markdown",
   "id": "ee122bbb",
   "metadata": {},
   "source": [
    "#### Create the regression"
   ]
  },
  {
   "cell_type": "code",
   "execution_count": 6,
   "id": "12575262",
   "metadata": {},
   "outputs": [
    {
     "data": {
      "text/plain": [
       "LinearRegression()"
      ]
     },
     "execution_count": 6,
     "metadata": {},
     "output_type": "execute_result"
    }
   ],
   "source": [
    "lr = LinearRegression()\n",
    "lr"
   ]
  },
  {
   "cell_type": "markdown",
   "id": "b96522ff",
   "metadata": {},
   "source": [
    "#### Fit Linear Model"
   ]
  },
  {
   "cell_type": "code",
   "execution_count": 7,
   "id": "14ecad82",
   "metadata": {},
   "outputs": [
    {
     "data": {
      "text/plain": [
       "LinearRegression()"
      ]
     },
     "execution_count": 7,
     "metadata": {},
     "output_type": "execute_result"
    }
   ],
   "source": [
    "lr.fit(X_train_GME, y_train_GME)"
   ]
  },
  {
   "cell_type": "markdown",
   "id": "d5843633",
   "metadata": {},
   "source": [
    "#### Our Confidence in our model is high"
   ]
  },
  {
   "cell_type": "code",
   "execution_count": 8,
   "id": "70760fae",
   "metadata": {},
   "outputs": [
    {
     "data": {
      "text/plain": [
       "0.9715635648245176"
      ]
     },
     "execution_count": 8,
     "metadata": {},
     "output_type": "execute_result"
    }
   ],
   "source": [
    "lr.score(X_train_GME, y_train_GME)"
   ]
  },
  {
   "cell_type": "code",
   "execution_count": 9,
   "id": "94a312da",
   "metadata": {},
   "outputs": [
    {
     "data": {
      "text/plain": [
       "0.6580749197082275"
      ]
     },
     "execution_count": 9,
     "metadata": {},
     "output_type": "execute_result"
    }
   ],
   "source": [
    "lr.score(X_test_GME, y_test_GME)"
   ]
  },
  {
   "cell_type": "markdown",
   "id": "0972c1ee",
   "metadata": {},
   "source": [
    "lr.score(X_test_GME, y_test_GME)"
   ]
  },
  {
   "cell_type": "markdown",
   "id": "77876614",
   "metadata": {},
   "source": [
    "#### Print the prediction believed accuracy using the model"
   ]
  },
  {
   "cell_type": "code",
   "execution_count": 10,
   "id": "96ac55ef",
   "metadata": {},
   "outputs": [
    {
     "name": "stdout",
     "output_type": "stream",
     "text": [
      "Score: 0.78\n",
      "MAE: 6.54\n",
      "RMSE: 8.76\n",
      "r2: 0.66\n"
     ]
    }
   ],
   "source": [
    "predictions_GME = lr.predict(X_test_GME)\n",
    "printMetricsRegression(y_test_GME, predictions_GME)"
   ]
  },
  {
   "cell_type": "markdown",
   "id": "2c2e00f2",
   "metadata": {},
   "source": [
    "#### Test model using last month data"
   ]
  },
  {
   "cell_type": "code",
   "execution_count": 11,
   "id": "da14e77d",
   "metadata": {
    "collapsed": false,
    "jupyter": {
     "outputs_hidden": false
    },
    "pycharm": {
     "name": "#%%\n"
    }
   },
   "outputs": [
    {
     "data": {
      "text/html": [
       "<div>\n",
       "<style scoped>\n",
       "    .dataframe tbody tr th:only-of-type {\n",
       "        vertical-align: middle;\n",
       "    }\n",
       "\n",
       "    .dataframe tbody tr th {\n",
       "        vertical-align: top;\n",
       "    }\n",
       "\n",
       "    .dataframe thead th {\n",
       "        text-align: right;\n",
       "    }\n",
       "</style>\n",
       "<table border=\"1\" class=\"dataframe\">\n",
       "  <thead>\n",
       "    <tr style=\"text-align: right;\">\n",
       "      <th></th>\n",
       "      <th>Search Interest</th>\n",
       "      <th>Open</th>\n",
       "      <th>Close</th>\n",
       "      <th>Predicted Close</th>\n",
       "    </tr>\n",
       "    <tr>\n",
       "      <th>Date</th>\n",
       "      <th></th>\n",
       "      <th></th>\n",
       "      <th></th>\n",
       "      <th></th>\n",
       "    </tr>\n",
       "  </thead>\n",
       "  <tbody>\n",
       "    <tr>\n",
       "      <th>2021-06-25</th>\n",
       "      <td>34.0</td>\n",
       "      <td>214.000000</td>\n",
       "      <td>209.509995</td>\n",
       "      <td>207.213651</td>\n",
       "    </tr>\n",
       "    <tr>\n",
       "      <th>2021-06-28</th>\n",
       "      <td>34.0</td>\n",
       "      <td>211.250000</td>\n",
       "      <td>213.250000</td>\n",
       "      <td>204.563182</td>\n",
       "    </tr>\n",
       "    <tr>\n",
       "      <th>2021-06-29</th>\n",
       "      <td>31.0</td>\n",
       "      <td>213.589996</td>\n",
       "      <td>210.880005</td>\n",
       "      <td>207.078581</td>\n",
       "    </tr>\n",
       "    <tr>\n",
       "      <th>2021-06-30</th>\n",
       "      <td>29.0</td>\n",
       "      <td>209.690002</td>\n",
       "      <td>214.139999</td>\n",
       "      <td>203.493134</td>\n",
       "    </tr>\n",
       "    <tr>\n",
       "      <th>2021-07-01</th>\n",
       "      <td>30.0</td>\n",
       "      <td>213.399994</td>\n",
       "      <td>204.360001</td>\n",
       "      <td>206.982153</td>\n",
       "    </tr>\n",
       "  </tbody>\n",
       "</table>\n",
       "</div>"
      ],
      "text/plain": [
       "            Search Interest        Open       Close  Predicted Close\n",
       "Date                                                                \n",
       "2021-06-25             34.0  214.000000  209.509995       207.213651\n",
       "2021-06-28             34.0  211.250000  213.250000       204.563182\n",
       "2021-06-29             31.0  213.589996  210.880005       207.078581\n",
       "2021-06-30             29.0  209.690002  214.139999       203.493134\n",
       "2021-07-01             30.0  213.399994  204.360001       206.982153"
      ]
     },
     "execution_count": 11,
     "metadata": {},
     "output_type": "execute_result"
    }
   ],
   "source": [
    "lastMonthColumns_GME = [\"Search Interest\",\"Open\",\"Close\"]\n",
    "lastMonthDf_GME = stockSearchDf_GME[lastMonthColumns_GME].loc[X_test_GME.index]\n",
    "lastMonthDf_GME[\"Predicted Close\"] = predictions_GME\n",
    "lastMonthDf_GME.head(5)"
   ]
  },
  {
   "cell_type": "code",
   "execution_count": 12,
   "id": "9c028f32-803a-487d-b7c9-df9139520d35",
   "metadata": {},
   "outputs": [
    {
     "data": {
      "image/png": "[encoded data removed]",
      "text/plain": [
       "<Figure size 1296x864 with 1 Axes>"
      ]
     },
     "metadata": {},
     "output_type": "display_data"
    }
   ],
   "source": [
    "sns.set_theme(style = \"darkgrid\")\n",
    "palette = sns.color_palette(\"mako_r\", 3)\n",
    "fig_GME, ax = plt.subplots(figsize = (18,12))\n",
    "fig_GME = sns.lineplot(data=lastMonthDf_GME[[\"Search Interest\",\"Close\",\"Predicted Close\"]],\n",
    "                   ax = ax, palette = palette)\n",
    "\n",
    "# Add title and axis labels\n",
    "plt.xlabel(\"Date\", fontsize=18)\n",
    "plt.ylabel(\"Price\", fontsize=18)\n",
    "plt.title(\"GME Predicted Close Price vs. Actual Close Price\",\n",
    "          fontsize = 'xx-large')\n",
    "ax.xaxis.set_major_locator(mp.ticker.MultipleLocator(5))\n",
    "\n",
    "# Add legend\n",
    "plt.legend()\n",
    "\n",
    "# Display plot\n",
    "plt.show() "
   ]
  },
  {
   "cell_type": "markdown",
   "id": "51d59d95",
   "metadata": {},
   "source": [
    "## Analytics Model: Linear Regression on AMC"
   ]
  },
  {
   "cell_type": "code",
   "execution_count": 13,
   "id": "e6c5d880",
   "metadata": {},
   "outputs": [],
   "source": [
    "# Gets Data for AMC over last year\n",
    "stockSearchDf_AMC = getData(\"AMC\")"
   ]
  },
  {
   "cell_type": "code",
   "execution_count": 14,
   "id": "9b4e0ff8",
   "metadata": {
    "collapsed": false,
    "jupyter": {
     "outputs_hidden": false
    },
    "pycharm": {
     "name": "#%%\n"
    }
   },
   "outputs": [],
   "source": [
    "# Create offset of data\n",
    "\n",
    "stockSearchDf_AMC['Previous Open'] = stockSearchDf_AMC['Open'].shift(1)\n",
    "stockSearchDf_AMC['Previous High'] = stockSearchDf_AMC['High'].shift(1)\n",
    "stockSearchDf_AMC['Previous Low'] = stockSearchDf_AMC['Low'].shift(1)\n",
    "stockSearchDf_AMC['Previous Close'] = stockSearchDf_AMC['Close'].shift(1)\n",
    "stockSearchDf_AMC['Previous Adj Close'] = stockSearchDf_AMC['Adj Close'].shift(1)\n",
    "stockSearchDf_AMC['Previous Volume'] = stockSearchDf_AMC['Volume'].shift(1)\n",
    "stockSearchDf_AMC['Previous Search Interest'] = stockSearchDf_AMC['Search Interest'].shift(1)\n",
    "stockSearchDf_AMC.dropna(inplace=True)"
   ]
  },
  {
   "cell_type": "code",
   "execution_count": 15,
   "id": "745bd3cf-c265-425d-b884-67c0cd7a89fb",
   "metadata": {},
   "outputs": [
    {
     "data": {
      "text/html": [
       "<div>\n",
       "<style scoped>\n",
       "    .dataframe tbody tr th:only-of-type {\n",
       "        vertical-align: middle;\n",
       "    }\n",
       "\n",
       "    .dataframe tbody tr th {\n",
       "        vertical-align: top;\n",
       "    }\n",
       "\n",
       "    .dataframe thead th {\n",
       "        text-align: right;\n",
       "    }\n",
       "</style>\n",
       "<table border=\"1\" class=\"dataframe\">\n",
       "  <thead>\n",
       "    <tr style=\"text-align: right;\">\n",
       "      <th></th>\n",
       "      <th>Previous Open</th>\n",
       "      <th>Previous High</th>\n",
       "      <th>Previous Low</th>\n",
       "      <th>Previous Close</th>\n",
       "      <th>Previous Volume</th>\n",
       "      <th>Previous Search Interest</th>\n",
       "      <th>Close</th>\n",
       "    </tr>\n",
       "    <tr>\n",
       "      <th>Date</th>\n",
       "      <th></th>\n",
       "      <th></th>\n",
       "      <th></th>\n",
       "      <th></th>\n",
       "      <th></th>\n",
       "      <th></th>\n",
       "      <th></th>\n",
       "    </tr>\n",
       "  </thead>\n",
       "  <tbody>\n",
       "    <tr>\n",
       "      <th>2020-08-04</th>\n",
       "      <td>4.05</td>\n",
       "      <td>4.20</td>\n",
       "      <td>3.86</td>\n",
       "      <td>4.11</td>\n",
       "      <td>4047100.0</td>\n",
       "      <td>37.0</td>\n",
       "      <td>4.10</td>\n",
       "    </tr>\n",
       "    <tr>\n",
       "      <th>2020-08-05</th>\n",
       "      <td>4.07</td>\n",
       "      <td>4.24</td>\n",
       "      <td>4.06</td>\n",
       "      <td>4.10</td>\n",
       "      <td>3267800.0</td>\n",
       "      <td>32.0</td>\n",
       "      <td>4.15</td>\n",
       "    </tr>\n",
       "    <tr>\n",
       "      <th>2020-08-06</th>\n",
       "      <td>4.08</td>\n",
       "      <td>4.17</td>\n",
       "      <td>4.07</td>\n",
       "      <td>4.15</td>\n",
       "      <td>1691500.0</td>\n",
       "      <td>34.0</td>\n",
       "      <td>4.14</td>\n",
       "    </tr>\n",
       "    <tr>\n",
       "      <th>2020-08-07</th>\n",
       "      <td>4.11</td>\n",
       "      <td>4.24</td>\n",
       "      <td>3.99</td>\n",
       "      <td>4.14</td>\n",
       "      <td>3742600.0</td>\n",
       "      <td>37.0</td>\n",
       "      <td>4.75</td>\n",
       "    </tr>\n",
       "    <tr>\n",
       "      <th>2020-08-10</th>\n",
       "      <td>4.14</td>\n",
       "      <td>5.26</td>\n",
       "      <td>4.09</td>\n",
       "      <td>4.75</td>\n",
       "      <td>24917400.0</td>\n",
       "      <td>37.0</td>\n",
       "      <td>4.47</td>\n",
       "    </tr>\n",
       "  </tbody>\n",
       "</table>\n",
       "</div>"
      ],
      "text/plain": [
       "            Previous Open  Previous High  Previous Low  Previous Close  \\\n",
       "Date                                                                     \n",
       "2020-08-04           4.05           4.20          3.86            4.11   \n",
       "2020-08-05           4.07           4.24          4.06            4.10   \n",
       "2020-08-06           4.08           4.17          4.07            4.15   \n",
       "2020-08-07           4.11           4.24          3.99            4.14   \n",
       "2020-08-10           4.14           5.26          4.09            4.75   \n",
       "\n",
       "            Previous Volume  Previous Search Interest  Close  \n",
       "Date                                                          \n",
       "2020-08-04        4047100.0                      37.0   4.10  \n",
       "2020-08-05        3267800.0                      32.0   4.15  \n",
       "2020-08-06        1691500.0                      34.0   4.14  \n",
       "2020-08-07        3742600.0                      37.0   4.75  \n",
       "2020-08-10       24917400.0                      37.0   4.47  "
      ]
     },
     "execution_count": 15,
     "metadata": {},
     "output_type": "execute_result"
    }
   ],
   "source": [
    "columns_AMC = [\"Previous Open\", \"Previous High\", \"Previous Low\", \"Previous Close\", \"Previous Volume\", \"Previous Search Interest\", \"Close\"]\n",
    "stockSearchDf_AMC = stockSearchDf_AMC[columns_AMC]\n",
    "\n",
    "stockSearchDf_AMC.head(5)"
   ]
  },
  {
   "cell_type": "code",
   "execution_count": 16,
   "id": "4912e812-4faa-4d63-8e5c-1549799c2da2",
   "metadata": {},
   "outputs": [],
   "source": [
    "features_AMC = list(stockSearchDf_AMC.columns)\n",
    "features_AMC.remove(\"Close\")\n",
    "target_AMC = \"Close\"\n",
    "\n",
    "X_AMC = stockSearchDf_AMC[features_AMC]\n",
    "y_AMC = stockSearchDf_AMC[target_AMC]"
   ]
  },
  {
   "cell_type": "code",
   "execution_count": 17,
   "id": "c3ad88eb-5012-41c5-b82d-0009346a921a",
   "metadata": {},
   "outputs": [],
   "source": [
    "X_train_AMC, X_test_AMC, y_train_AMC, y_test_AMC = train_test_split(X_AMC, y_AMC, test_size=0.08, shuffle=False)"
   ]
  },
  {
   "cell_type": "markdown",
   "id": "76d8cb42",
   "metadata": {},
   "source": [
    "#### Create the regression"
   ]
  },
  {
   "cell_type": "code",
   "execution_count": 18,
   "id": "dd9567a8-25ca-45e9-850d-6afc5dde4620",
   "metadata": {},
   "outputs": [
    {
     "data": {
      "text/plain": [
       "LinearRegression()"
      ]
     },
     "execution_count": 18,
     "metadata": {},
     "output_type": "execute_result"
    }
   ],
   "source": [
    "lr_AMC = LinearRegression()\n",
    "lr_AMC"
   ]
  },
  {
   "cell_type": "markdown",
   "id": "493f3055",
   "metadata": {},
   "source": [
    "#### Fit Linear Model"
   ]
  },
  {
   "cell_type": "code",
   "execution_count": 19,
   "id": "6636b74c-dca6-4f76-8ef4-c6d033db369c",
   "metadata": {},
   "outputs": [
    {
     "data": {
      "text/plain": [
       "LinearRegression()"
      ]
     },
     "execution_count": 19,
     "metadata": {},
     "output_type": "execute_result"
    }
   ],
   "source": [
    "lr_AMC.fit(X_train_AMC, y_train_AMC)"
   ]
  },
  {
   "cell_type": "markdown",
   "id": "8f12f79e",
   "metadata": {},
   "source": [
    "#### Our Confidence in our model is high"
   ]
  },
  {
   "cell_type": "code",
   "execution_count": 20,
   "id": "a1918023-09cd-44a6-80ec-7265a9fb676f",
   "metadata": {},
   "outputs": [
    {
     "data": {
      "text/plain": [
       "0.9568467882805575"
      ]
     },
     "execution_count": 20,
     "metadata": {},
     "output_type": "execute_result"
    }
   ],
   "source": [
    "lr_AMC.score(X_train_AMC, y_train_AMC)"
   ]
  },
  {
   "cell_type": "code",
   "execution_count": 21,
   "id": "87db1cec-f909-47d3-96e4-b66a436bde56",
   "metadata": {},
   "outputs": [
    {
     "data": {
      "text/plain": [
       "0.7424102114541998"
      ]
     },
     "execution_count": 21,
     "metadata": {},
     "output_type": "execute_result"
    }
   ],
   "source": [
    "lr_AMC.score(X_test_AMC, y_test_AMC)"
   ]
  },
  {
   "cell_type": "markdown",
   "id": "607265a3",
   "metadata": {},
   "source": [
    "#### Print the prediction believed accuracy using the model"
   ]
  },
  {
   "cell_type": "code",
   "execution_count": 22,
   "id": "42e646f0-50ca-4ae9-9e42-8942e8667850",
   "metadata": {
    "scrolled": true
   },
   "outputs": [
    {
     "name": "stdout",
     "output_type": "stream",
     "text": [
      "Score: 0.80\n",
      "MAE: 3.41\n",
      "RMSE: 4.09\n",
      "r2: 0.74\n"
     ]
    }
   ],
   "source": [
    "predictions_AMC = lr_AMC.predict(X_test_AMC)\n",
    "printMetricsRegression(y_test_AMC, predictions_AMC)\n"
   ]
  },
  {
   "cell_type": "markdown",
   "id": "6e4874d3",
   "metadata": {},
   "source": [
    "#### Test model using LastMonth data"
   ]
  },
  {
   "cell_type": "code",
   "execution_count": 23,
   "id": "052a04a7-eb8b-4c3e-932a-a6936c20b87e",
   "metadata": {},
   "outputs": [
    {
     "data": {
      "text/html": [
       "<div>\n",
       "<style scoped>\n",
       "    .dataframe tbody tr th:only-of-type {\n",
       "        vertical-align: middle;\n",
       "    }\n",
       "\n",
       "    .dataframe tbody tr th {\n",
       "        vertical-align: top;\n",
       "    }\n",
       "\n",
       "    .dataframe thead th {\n",
       "        text-align: right;\n",
       "    }\n",
       "</style>\n",
       "<table border=\"1\" class=\"dataframe\">\n",
       "  <thead>\n",
       "    <tr style=\"text-align: right;\">\n",
       "      <th></th>\n",
       "      <th>Previous Search Interest</th>\n",
       "      <th>Actual Close</th>\n",
       "      <th>Predicted Close</th>\n",
       "    </tr>\n",
       "    <tr>\n",
       "      <th>Date</th>\n",
       "      <th></th>\n",
       "      <th></th>\n",
       "      <th></th>\n",
       "    </tr>\n",
       "  </thead>\n",
       "  <tbody>\n",
       "    <tr>\n",
       "      <th>2021-06-25</th>\n",
       "      <td>22.0</td>\n",
       "      <td>54.060001</td>\n",
       "      <td>58.696320</td>\n",
       "    </tr>\n",
       "    <tr>\n",
       "      <th>2021-06-28</th>\n",
       "      <td>24.0</td>\n",
       "      <td>58.110001</td>\n",
       "      <td>55.872509</td>\n",
       "    </tr>\n",
       "    <tr>\n",
       "      <th>2021-06-29</th>\n",
       "      <td>25.0</td>\n",
       "      <td>56.430000</td>\n",
       "      <td>58.912765</td>\n",
       "    </tr>\n",
       "    <tr>\n",
       "      <th>2021-06-30</th>\n",
       "      <td>23.0</td>\n",
       "      <td>56.680000</td>\n",
       "      <td>58.625380</td>\n",
       "    </tr>\n",
       "    <tr>\n",
       "      <th>2021-07-01</th>\n",
       "      <td>26.0</td>\n",
       "      <td>54.220001</td>\n",
       "      <td>58.109105</td>\n",
       "    </tr>\n",
       "  </tbody>\n",
       "</table>\n",
       "</div>"
      ],
      "text/plain": [
       "            Previous Search Interest  Actual Close  Predicted Close\n",
       "Date                                                               \n",
       "2021-06-25                      22.0     54.060001        58.696320\n",
       "2021-06-28                      24.0     58.110001        55.872509\n",
       "2021-06-29                      25.0     56.430000        58.912765\n",
       "2021-06-30                      23.0     56.680000        58.625380\n",
       "2021-07-01                      26.0     54.220001        58.109105"
      ]
     },
     "execution_count": 23,
     "metadata": {},
     "output_type": "execute_result"
    }
   ],
   "source": [
    "lastMonthColumns_AMC = [\"Previous Search Interest\", \"Close\"]\n",
    "lastMonthDf_AMC = stockSearchDf_AMC[lastMonthColumns_AMC].loc[X_test_AMC.index]\n",
    "lastMonthDf_AMC[\"Predicted Close\"] = predictions_AMC\n",
    "lastMonthDf_AMC.rename(columns = {\"Close\": \"Actual Close\"},inplace = True)\n",
    "lastMonthDf_AMC.head(5)\n"
   ]
  },
  {
   "cell_type": "code",
   "execution_count": 24,
   "id": "14ba9216-234b-4c8b-b51a-81062130b6a7",
   "metadata": {
    "scrolled": true
   },
   "outputs": [
    {
     "data": {
      "image/png": "[encoded data removed]",
      "text/plain": [
       "<Figure size 1728x864 with 1 Axes>"
      ]
     },
     "metadata": {},
     "output_type": "display_data"
    }
   ],
   "source": [
    "sns.set_theme(style = \"darkgrid\")\n",
    "fig_AMC, ax = plt.subplots(figsize = (24,12))\n",
    "fig_AMC = sns.lineplot(data=lastMonthDf_AMC[[\"Previous Search Interest\",\"Actual Close\",\"Predicted Close\"]],\n",
    "                   ax = ax, palette = palette)\n",
    "\n",
    "\n",
    "#add title and axis labels\n",
    "plt.xlabel(\"Date\", fontsize = 18)\n",
    "plt.ylabel(\"Price\", fontsize = 18)\n",
    "plt.title(\"AMC Predicted Close Price vs. Actual Close Price\",\n",
    "          fontsize = 'xx-large')\n",
    "ax.xaxis.set_major_locator(mp.ticker.MultipleLocator(10))\n",
    "\n",
    "#add legend\n",
    "plt.legend()\n",
    "\n",
    "#display plot\n",
    "plt.show() "
   ]
  },
  {
   "cell_type": "markdown",
   "id": "511c2f58",
   "metadata": {},
   "source": [
    "## Comparing Prediction Model by Stock"
   ]
  },
  {
   "cell_type": "code",
   "execution_count": 25,
   "id": "d0b73a1f",
   "metadata": {
    "collapsed": false,
    "jupyter": {
     "outputs_hidden": false
    },
    "pycharm": {
     "name": "#%%\n"
    }
   },
   "outputs": [],
   "source": [
    "score_AMC = explained_variance_score(y_test_AMC, predictions_AMC)\n",
    "forecastError_AMC = [y_test_AMC[i]-predictions_AMC[i] for i in range(len(y_test_AMC))]\n",
    "bias_AMC = sum(forecastError_AMC) * 1.0 / len(y_test_AMC)\n",
    "MAE_AMC = abs(mean(forecastError_AMC))\n",
    "RMSE_AMC = math.sqrt(MAE_AMC)\n",
    "R2_AMC = r2_score(y_test_AMC, predictions_AMC)"
   ]
  },
  {
   "cell_type": "code",
   "execution_count": 26,
   "id": "54f17316",
   "metadata": {},
   "outputs": [],
   "source": [
    "score_GME = explained_variance_score(y_test_GME, predictions_GME)\n",
    "forecastError_GME = [y_test_GME[i]-predictions_GME[i] for i in range(len(y_test_GME))]\n",
    "bias_GME = sum(forecastError_GME) * 1.0/len(y_test_GME)\n",
    "MAE_GME = abs(mean(forecastError_GME))\n",
    "RMSE_GME = math.sqrt(mean(forecastError_GME))\n",
    "R2_GME = r2_score(y_test_GME, predictions_GME)"
   ]
  },
  {
   "cell_type": "code",
   "execution_count": 27,
   "id": "a6be539c",
   "metadata": {},
   "outputs": [
    {
     "data": {
      "text/html": [
       "<div>\n",
       "<style scoped>\n",
       "    .dataframe tbody tr th:only-of-type {\n",
       "        vertical-align: middle;\n",
       "    }\n",
       "\n",
       "    .dataframe tbody tr th {\n",
       "        vertical-align: top;\n",
       "    }\n",
       "\n",
       "    .dataframe thead th {\n",
       "        text-align: right;\n",
       "    }\n",
       "</style>\n",
       "<table border=\"1\" class=\"dataframe\">\n",
       "  <thead>\n",
       "    <tr style=\"text-align: right;\">\n",
       "      <th></th>\n",
       "      <th>AMC</th>\n",
       "      <th>GME</th>\n",
       "    </tr>\n",
       "  </thead>\n",
       "  <tbody>\n",
       "    <tr>\n",
       "      <th>Score</th>\n",
       "      <td>0.801533</td>\n",
       "      <td>0.775387</td>\n",
       "    </tr>\n",
       "    <tr>\n",
       "      <th>Bias</th>\n",
       "      <td>-1.957351</td>\n",
       "      <td>5.129832</td>\n",
       "    </tr>\n",
       "    <tr>\n",
       "      <th>Mean Absolute Error</th>\n",
       "      <td>1.957351</td>\n",
       "      <td>5.129832</td>\n",
       "    </tr>\n",
       "    <tr>\n",
       "      <th>Root Mean Squared Error</th>\n",
       "      <td>1.399054</td>\n",
       "      <td>2.264913</td>\n",
       "    </tr>\n",
       "    <tr>\n",
       "      <th>R-Squared</th>\n",
       "      <td>0.742410</td>\n",
       "      <td>0.658075</td>\n",
       "    </tr>\n",
       "  </tbody>\n",
       "</table>\n",
       "</div>"
      ],
      "text/plain": [
       "                              AMC       GME\n",
       "Score                    0.801533  0.775387\n",
       "Bias                    -1.957351  5.129832\n",
       "Mean Absolute Error      1.957351  5.129832\n",
       "Root Mean Squared Error  1.399054  2.264913\n",
       "R-Squared                0.742410  0.658075"
      ]
     },
     "execution_count": 27,
     "metadata": {},
     "output_type": "execute_result"
    }
   ],
   "source": [
    "stockModelScoreComparison = np.matrix([[score_AMC, score_GME], [bias_AMC, bias_GME], [MAE_AMC, MAE_GME], [RMSE_AMC, RMSE_GME], [R2_AMC, R2_GME]])\n",
    "stockModelScoreComparison= pd.DataFrame(stockModelScoreComparison)\n",
    "stockModelScoreComparison.columns = [ 'AMC', 'GME']\n",
    "stockModelScoreComparison.index = ['Score','Bias','Mean Absolute Error','Root Mean Squared Error','R-Squared']\n",
    "stockModelScoreComparison"
   ]
  },
  {
   "cell_type": "code",
   "execution_count": 28,
   "id": "f8ddf2fe",
   "metadata": {},
   "outputs": [
    {
     "data": {
      "image/png": "[encoded data removed]",
      "text/plain": [
       "<Figure size 1728x864 with 1 Axes>"
      ]
     },
     "metadata": {},
     "output_type": "display_data"
    }
   ],
   "source": [
    "\n",
    "X = stockModelScoreComparison.index\n",
    "AMC = stockModelScoreComparison.AMC\n",
    "GME = stockModelScoreComparison.GME\n",
    "  \n",
    "X_axis = np.arange(len(X))\n",
    "plt.subplots(figsize = (24,12))\n",
    "\n",
    "plt.bar(X_axis - 0.2, AMC, 0.4, label = 'AMC',color=(0.2, 0.3, 0.4, 0.6))\n",
    "plt.bar(X_axis + 0.2, GME, 0.4, label = 'GME',color=(0,0.4,0.5))\n",
    "\n",
    "plt.xticks(X_axis, X, fontsize = 'large')\n",
    "plt.yticks(fontsize = 'large')\n",
    "plt.ylabel(\"Model Score\", fontsize = 'large')\n",
    "plt.title(\"Model Prediction Score Comparison\", fontsize = 24)\n",
    "    \n",
    "plt.legend(fontsize = 'xx-large')\n",
    "plt.show()"
   ]
  },
  {
   "cell_type": "markdown",
   "id": "fdf0b56a",
   "metadata": {},
   "source": [
    "## Conclusion"
   ]
  },
  {
   "cell_type": "markdown",
   "id": "e1ca171b-79e2-4aad-86be-4a56971bd927",
   "metadata": {
    "pycharm": {
     "name": "#%% md\n"
    },
    "tags": []
   },
   "source": [
    "The two stocks used in this analysis include Game Stop and AMC.  The historic Game Stop data represents a stock with an overall lower average value for Google trends search history score while conversely, AMC indicates a higher average for Google trends search history score.  Historical closing prices were analyzed against the previous days share price, volume traded, and Google trends search history score using linear regression model.  The analysis was used to make predictions about the closing prices for both stocks during the last two months of the second quarter and compare these predictions against the actual stock prices for the same date range by overlaying both trends in the graphs displayed in this report. \n",
    "\n",
    "\n",
    "Visually, both stock prices overlay reasonably well with the predicted versus actual stock prices and provide an encouraging view that our factors model the change in the closing stock price over the last two months.   Game Stop performs better overall with a score of .79, a R squared value of .72, root mean square error of 8.05, and mean absolute error of 5.91.  This effectively means 72% of the variation in the closing stock price over the time range can be explained by the factors that were tested.  In general, small values for the MSE and MAE are desirable as this is a measure of the difference between actual values and the predicted model.  The average close price over the year for Game Stop \\\\$93.08 making these values less than 10\\% of the average close price.   AMC performs lower with a score of .52, a R squared value of .43, root mean square error of 25.80, and mean absolute error of 19.23.  With only 43\\% variation in the close price that can be explained by the tested factors, and average close price of AMC for the year being \\\\$12.70 compared to the root mean square error of two times the average price, AMC did not track against the prediction model as well as Game Stop.   Overall, the use of a Google trends search history score combined with previous price history and volume traded looks to be an encouraging indicator of potential stock purchases.\n",
    "\n"
   ]
  },
  {
   "cell_type": "code",
   "execution_count": null,
   "id": "54cfa4de-e05d-4359-88e6-efc06cb9e6ce",
   "metadata": {},
   "outputs": [],
   "source": []
  }
 ],
 "metadata": {
  "interpreter": {
   "hash": "aee8b7b246df8f9039afb4144a1f6fd8d2ca17a180786b69acc140d282b71a49"
  },
  "kernelspec": {
   "display_name": "Python 3",
   "language": "python",
   "name": "python3"
  },
  "language_info": {
   "codemirror_mode": {
    "name": "ipython",
    "version": 3
   },
   "file_extension": ".py",
   "mimetype": "text/x-python",
   "name": "python",
   "nbconvert_exporter": "python",
   "pygments_lexer": "ipython3",
   "version": "3.8.8"
  }
 },
 "nbformat": 4,
 "nbformat_minor": 5
}
