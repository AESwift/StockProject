{
 "cells": [
  {
   "cell_type": "markdown",
   "id": "5eefcb88",
   "metadata": {
    "tags": []
   },
   "source": [
    "# Stock Analysis Utilizing Google Search Analytics\n",
    "#### Group Members: Andrew Turvey, Arielle Swift, Connor Moore, Dan Knobloch,  Ken Cupples, Shawn Sonnack \n",
    "BAIS 6040: Data Programming in Python <br>\n",
    "Group 01 <br>\n",
    "3 August 2021 <br>\n",
    "\n",
    "## Problem and Goal Statement:\n",
    "   The recent rise of retail investors and day traders, as seen in news stories pertaining to GameStop and AMC, coupled with the increase in internet usage for research, and general information sharing purposes over the last 20 years poses an interesting question as to how stock price and search engine hits (such as Google searches) are tied together. More specifically our team analyzed how a desired company’s closing stock price can be affected by “Google Trends” search interest data to see if there is a strong enough correlation to build a model that would accurately predict a price increase for a given day and therefore could generate a “buy signal” for traders.\n",
    "\t\n",
    "   Factors of importance needed to develop an acceptable model will include: previous day’s share price, volume of shares trade, and Google Trends search history score, which is a number between 0-100 that is base lined  off of the highest search interest day in a given time period. Data can be pulled direct from most finance sites and the Google Trend website. We then added a few manually calculated relationship fields, such as whether or not the price or trend increases the previous day to enhance our models. Our model will be built and trained primarily on data from Q2 in calendar year 2021 (April 01 – June 30) and will be tested on July 2021 data. The models performance will be easily analyzed by comparing the predicted values to the actual values. \n"
   ]
  },
  {
   "cell_type": "markdown",
   "id": "87e05a7c",
   "metadata": {},
   "source": [
    "## Import"
   ]
  },
  {
   "cell_type": "code",
   "execution_count": 47,
   "id": "42cfc04d",
   "metadata": {},
   "outputs": [],
   "source": [
    "import yfinance as yf\n",
    "import pandas as pd\n",
    "import numpy as np\n",
    "import os\n",
    "import math\n",
    "import matplotlib as mp\n",
    "import matplotlib.pyplot as plt\n",
    "import seaborn as sns\n",
    "import random as rnd\n",
    "from datetime import date\n",
    "from statistics import mean\n",
    "from datetime import timedelta\n",
    "from pytrends.request import TrendReq\n",
    "from sklearn.metrics import explained_variance_score, mean_absolute_error, r2_score, mean_squared_error\n",
    "from sklearn.model_selection import train_test_split    # For generating test/train\n",
    "from sklearn.linear_model import LinearRegression   # Logistic regression\n",
    "\n",
    "%matplotlib inline"
   ]
  },
  {
   "cell_type": "markdown",
   "id": "ecd1f61d",
   "metadata": {},
   "source": [
    "## Global Variables and Initialization"
   ]
  },
  {
   "cell_type": "code",
   "execution_count": 2,
   "id": "fb886100",
   "metadata": {},
   "outputs": [],
   "source": [
    "dataDir = r\"./Data Files/\"  #Directory of all data\n",
    "today = date.today()  # Todays date\n",
    "rnd.seed(1024)"
   ]
  },
  {
   "cell_type": "markdown",
   "id": "19a63d5c",
   "metadata": {},
   "source": [
    "## Global Functions"
   ]
  },
  {
   "cell_type": "code",
   "execution_count": 3,
   "id": "a8ff10fb",
   "metadata": {},
   "outputs": [],
   "source": [
    "# Function gets stock data and trend data if needed\n",
    "def getData(stockName):\n",
    "    if os.path.exists(f\"{dataDir}{stockName}_{today}_year.csv\"):\n",
    "        #Get stored data\n",
    "        storedData = pd.read_csv(f\"{dataDir}{stockName}_{today}_year.csv\")\n",
    "        # Get rid of index name\n",
    "        storedData.set_index('Unnamed: 0', inplace=True)\n",
    "        storedData.index.name = None\n",
    "        return storedData\n",
    "    else:\n",
    "        #Get new data\n",
    "        # Connect to Google API\n",
    "        pytrends = TrendReq(hl='en-US', tz=360)\n",
    "        # Set Keyword\n",
    "        kw_list = [stockName]\n",
    "        # Google API only shows last 90 days so need to itirate\n",
    "        # Set start of interval\n",
    "        date90Front = date.today()\n",
    "        # Initiate dataframe\n",
    "        trendData = pd.DataFrame()\n",
    "        for _ in range(4):\n",
    "            # Set start end of interval\n",
    "            date90Back = date90Front - timedelta(days=90)\n",
    "            # Build Payload of 90 days\n",
    "            pytrends.build_payload(kw_list,\n",
    "                                   timeframe=f'{date90Back} {date90Front}',\n",
    "                                   geo='')\n",
    "            trend90 = pytrends.interest_over_time()\n",
    "            trendData = pd.concat([trend90, trendData])\n",
    "            date90Front = date90Back\n",
    "        # Get Stock Data\n",
    "        stockData = yf.download(stockName,\n",
    "                                 start=date.today() - timedelta(days=360),\n",
    "                                 end=date.today(), interval=\"1d\")\n",
    "        # Combine Data\n",
    "        newData = stockData.join(trendData)\n",
    "        # Create index and add date column\n",
    "        newData.reset_index(inplace=True)\n",
    "        newData.rename(columns= {\"index\":\"Date\"}, inplace = True)\n",
    "        # Rename search interest\n",
    "        newData.rename(columns = {stockName: \"Search Interest\"},inplace = True)\n",
    "        # Add difference\n",
    "        newData[\"Price Difference\"] = newData[\"Close\"] - newData[\"Open\"]\n",
    "        # Add truth value that determines if we want to buy or not that day\n",
    "        newData['Buy'] = np.where(newData['Price Difference'] > 0, 1, 0)\n",
    "        # Delete isPartial\n",
    "        del newData['isPartial']\n",
    "        # Remove NaN\n",
    "        newData.dropna(inplace=True)\n",
    "        # Export to data folder\n",
    "        newData.to_csv(f\"{dataDir}{stockName}_{today}_year.csv\")\n",
    "        return newData\n",
    "\n",
    "# Function prints metrics of regression model\n",
    "def printMetricsRegression(test, predictionsResult):\n",
    "    print(f\"Score: {explained_variance_score(test, predictionsResult):.2f}\")\n",
    "    print(f\"MAE: {mean_absolute_error(test, predictionsResult):.2f}\")\n",
    "    print(f\"RMSE: {math.sqrt(mean_squared_error(test, predictionsResult)):.2f}\")\n",
    "    print(f\"r2: {r2_score(test, predictionsResult):.2f}\")"
   ]
  },
  {
   "cell_type": "markdown",
   "id": "ed2b93c5",
   "metadata": {},
   "source": [
    "## Stock to Analyze"
   ]
  },
  {
   "cell_type": "code",
   "execution_count": 4,
   "id": "8729d8a0",
   "metadata": {},
   "outputs": [
    {
     "data": {
      "text/html": [
       "<div>\n",
       "<style scoped>\n",
       "    .dataframe tbody tr th:only-of-type {\n",
       "        vertical-align: middle;\n",
       "    }\n",
       "\n",
       "    .dataframe tbody tr th {\n",
       "        vertical-align: top;\n",
       "    }\n",
       "\n",
       "    .dataframe thead th {\n",
       "        text-align: right;\n",
       "    }\n",
       "</style>\n",
       "<table border=\"1\" class=\"dataframe\">\n",
       "  <thead>\n",
       "    <tr style=\"text-align: right;\">\n",
       "      <th></th>\n",
       "      <th>Open</th>\n",
       "      <th>High</th>\n",
       "      <th>Low</th>\n",
       "      <th>Close</th>\n",
       "      <th>Adj Close</th>\n",
       "      <th>Volume</th>\n",
       "      <th>Search Interest</th>\n",
       "      <th>Price Difference</th>\n",
       "      <th>Buy</th>\n",
       "    </tr>\n",
       "    <tr>\n",
       "      <th>Date</th>\n",
       "      <th></th>\n",
       "      <th></th>\n",
       "      <th></th>\n",
       "      <th></th>\n",
       "      <th></th>\n",
       "      <th></th>\n",
       "      <th></th>\n",
       "      <th></th>\n",
       "      <th></th>\n",
       "    </tr>\n",
       "  </thead>\n",
       "  <tbody>\n",
       "    <tr>\n",
       "      <th>2020-08-03</th>\n",
       "      <td>4.03</td>\n",
       "      <td>4.25</td>\n",
       "      <td>4.00</td>\n",
       "      <td>4.15</td>\n",
       "      <td>4.15</td>\n",
       "      <td>2517600</td>\n",
       "      <td>18.0</td>\n",
       "      <td>0.12</td>\n",
       "      <td>1</td>\n",
       "    </tr>\n",
       "    <tr>\n",
       "      <th>2020-08-04</th>\n",
       "      <td>4.13</td>\n",
       "      <td>4.74</td>\n",
       "      <td>4.13</td>\n",
       "      <td>4.43</td>\n",
       "      <td>4.43</td>\n",
       "      <td>10361400</td>\n",
       "      <td>22.0</td>\n",
       "      <td>0.30</td>\n",
       "      <td>1</td>\n",
       "    </tr>\n",
       "    <tr>\n",
       "      <th>2020-08-05</th>\n",
       "      <td>4.50</td>\n",
       "      <td>4.76</td>\n",
       "      <td>4.25</td>\n",
       "      <td>4.63</td>\n",
       "      <td>4.63</td>\n",
       "      <td>4919300</td>\n",
       "      <td>21.0</td>\n",
       "      <td>0.13</td>\n",
       "      <td>1</td>\n",
       "    </tr>\n",
       "    <tr>\n",
       "      <th>2020-08-06</th>\n",
       "      <td>4.60</td>\n",
       "      <td>4.66</td>\n",
       "      <td>4.38</td>\n",
       "      <td>4.43</td>\n",
       "      <td>4.43</td>\n",
       "      <td>1901200</td>\n",
       "      <td>21.0</td>\n",
       "      <td>-0.17</td>\n",
       "      <td>0</td>\n",
       "    </tr>\n",
       "    <tr>\n",
       "      <th>2020-08-07</th>\n",
       "      <td>4.39</td>\n",
       "      <td>4.40</td>\n",
       "      <td>4.06</td>\n",
       "      <td>4.16</td>\n",
       "      <td>4.16</td>\n",
       "      <td>3341100</td>\n",
       "      <td>23.0</td>\n",
       "      <td>-0.23</td>\n",
       "      <td>0</td>\n",
       "    </tr>\n",
       "  </tbody>\n",
       "</table>\n",
       "</div>"
      ],
      "text/plain": [
       "            Open  High   Low  Close  Adj Close    Volume  Search Interest  \\\n",
       "Date                                                                        \n",
       "2020-08-03  4.03  4.25  4.00   4.15       4.15   2517600             18.0   \n",
       "2020-08-04  4.13  4.74  4.13   4.43       4.43  10361400             22.0   \n",
       "2020-08-05  4.50  4.76  4.25   4.63       4.63   4919300             21.0   \n",
       "2020-08-06  4.60  4.66  4.38   4.43       4.43   1901200             21.0   \n",
       "2020-08-07  4.39  4.40  4.06   4.16       4.16   3341100             23.0   \n",
       "\n",
       "            Price Difference  Buy  \n",
       "Date                               \n",
       "2020-08-03              0.12    1  \n",
       "2020-08-04              0.30    1  \n",
       "2020-08-05              0.13    1  \n",
       "2020-08-06             -0.17    0  \n",
       "2020-08-07             -0.23    0  "
      ]
     },
     "execution_count": 4,
     "metadata": {},
     "output_type": "execute_result"
    }
   ],
   "source": [
    "# Stock to analyze\n",
    "\n",
    "# Gets Data for last year\n",
    "stockSearchDf = getData(\"GME\")\n",
    "# Set date as index\n",
    "stockSearchDf.set_index(\"Date\", inplace=True)\n",
    "# Add rename\n",
    "stockSearchDf.index = pd.to_datetime(stockSearchDf.index)\n",
    "stockSearchDf.head(5)"
   ]
  },
  {
   "cell_type": "markdown",
   "id": "189d0c1f",
   "metadata": {},
   "source": [
    "## Analytics Model: Linear Regression on GME"
   ]
  },
  {
   "cell_type": "code",
   "execution_count": 5,
   "id": "1e1e32d9",
   "metadata": {},
   "outputs": [],
   "source": [
    "featureColumns = ['Search Interest', 'Open']\n",
    "targetColumn = 'Close'\n",
    "\n",
    "X = stockSearchDf[featureColumns]\n",
    "y = stockSearchDf[targetColumn]\n",
    "\n",
    "X_train, X_test, y_train, y_test = train_test_split(X, y, test_size=0.08, shuffle=False)"
   ]
  },
  {
   "cell_type": "markdown",
   "id": "ee122bbb",
   "metadata": {},
   "source": [
    "#### Create the regression"
   ]
  },
  {
   "cell_type": "code",
   "execution_count": 6,
   "id": "12575262",
   "metadata": {},
   "outputs": [
    {
     "data": {
      "text/plain": [
       "LinearRegression()"
      ]
     },
     "execution_count": 6,
     "metadata": {},
     "output_type": "execute_result"
    }
   ],
   "source": [
    "lr = LinearRegression()\n",
    "lr"
   ]
  },
  {
   "cell_type": "markdown",
   "id": "b96522ff",
   "metadata": {},
   "source": [
    "#### Fit Linear Model"
   ]
  },
  {
   "cell_type": "code",
   "execution_count": 7,
   "id": "14ecad82",
   "metadata": {},
   "outputs": [
    {
     "data": {
      "text/plain": [
       "LinearRegression()"
      ]
     },
     "execution_count": 7,
     "metadata": {},
     "output_type": "execute_result"
    }
   ],
   "source": [
    "lr.fit(X_train, y_train)"
   ]
  },
  {
   "cell_type": "markdown",
   "id": "d5843633",
   "metadata": {},
   "source": [
    "#### Our Confidence in our model is high"
   ]
  },
  {
   "cell_type": "code",
   "execution_count": 8,
   "id": "70760fae",
   "metadata": {},
   "outputs": [
    {
     "data": {
      "text/plain": [
       "0.9699957929098301"
      ]
     },
     "execution_count": 8,
     "metadata": {},
     "output_type": "execute_result"
    }
   ],
   "source": [
    "lr.score(X_train, y_train) "
   ]
  },
  {
   "cell_type": "code",
   "execution_count": 9,
   "id": "94a312da",
   "metadata": {},
   "outputs": [
    {
     "data": {
      "text/plain": [
       "0.6652122518005159"
      ]
     },
     "execution_count": 9,
     "metadata": {},
     "output_type": "execute_result"
    }
   ],
   "source": [
    "lr.score(X_test, y_test) "
   ]
  },
  {
   "cell_type": "markdown",
   "id": "0972c1ee",
   "metadata": {},
   "source": [
    "lr.score(X_test, y_test) "
   ]
  },
  {
   "cell_type": "markdown",
   "id": "77876614",
   "metadata": {},
   "source": [
    "#### Print the prediction believed accuracy using the model"
   ]
  },
  {
   "cell_type": "code",
   "execution_count": 10,
   "id": "96ac55ef",
   "metadata": {},
   "outputs": [
    {
     "name": "stdout",
     "output_type": "stream",
     "text": [
      "Score: 0.77\n",
      "MAE: 6.41\n",
      "RMSE: 8.67\n",
      "r2: 0.67\n"
     ]
    }
   ],
   "source": [
    "predictions = lr.predict(X_test)\n",
    "printMetricsRegression(y_test, predictions)"
   ]
  },
  {
   "cell_type": "markdown",
   "id": "2c2e00f2",
   "metadata": {},
   "source": [
    "#### Test model using LastMonth data"
   ]
  },
  {
   "cell_type": "code",
   "execution_count": 11,
   "id": "da14e77d",
   "metadata": {
    "jupyter": {
     "outputs_hidden": false
    },
    "pycharm": {
     "name": "#%%\n"
    }
   },
   "outputs": [
    {
     "data": {
      "text/html": [
       "<div>\n",
       "<style scoped>\n",
       "    .dataframe tbody tr th:only-of-type {\n",
       "        vertical-align: middle;\n",
       "    }\n",
       "\n",
       "    .dataframe tbody tr th {\n",
       "        vertical-align: top;\n",
       "    }\n",
       "\n",
       "    .dataframe thead th {\n",
       "        text-align: right;\n",
       "    }\n",
       "</style>\n",
       "<table border=\"1\" class=\"dataframe\">\n",
       "  <thead>\n",
       "    <tr style=\"text-align: right;\">\n",
       "      <th></th>\n",
       "      <th>Search Interest</th>\n",
       "      <th>Open</th>\n",
       "      <th>Close</th>\n",
       "      <th>Predicted Close</th>\n",
       "    </tr>\n",
       "    <tr>\n",
       "      <th>Date</th>\n",
       "      <th></th>\n",
       "      <th></th>\n",
       "      <th></th>\n",
       "      <th></th>\n",
       "    </tr>\n",
       "  </thead>\n",
       "  <tbody>\n",
       "    <tr>\n",
       "      <th>2021-06-25</th>\n",
       "      <td>33.0</td>\n",
       "      <td>214.000000</td>\n",
       "      <td>209.509995</td>\n",
       "      <td>207.376445</td>\n",
       "    </tr>\n",
       "    <tr>\n",
       "      <th>2021-06-28</th>\n",
       "      <td>32.0</td>\n",
       "      <td>211.250000</td>\n",
       "      <td>213.250000</td>\n",
       "      <td>204.830259</td>\n",
       "    </tr>\n",
       "    <tr>\n",
       "      <th>2021-06-29</th>\n",
       "      <td>29.0</td>\n",
       "      <td>213.589996</td>\n",
       "      <td>210.880005</td>\n",
       "      <td>207.450814</td>\n",
       "    </tr>\n",
       "    <tr>\n",
       "      <th>2021-06-30</th>\n",
       "      <td>27.0</td>\n",
       "      <td>209.690002</td>\n",
       "      <td>214.139999</td>\n",
       "      <td>203.908457</td>\n",
       "    </tr>\n",
       "    <tr>\n",
       "      <th>2021-07-01</th>\n",
       "      <td>30.0</td>\n",
       "      <td>213.399994</td>\n",
       "      <td>204.360001</td>\n",
       "      <td>207.148858</td>\n",
       "    </tr>\n",
       "  </tbody>\n",
       "</table>\n",
       "</div>"
      ],
      "text/plain": [
       "            Search Interest        Open       Close  Predicted Close\n",
       "Date                                                                \n",
       "2021-06-25             33.0  214.000000  209.509995       207.376445\n",
       "2021-06-28             32.0  211.250000  213.250000       204.830259\n",
       "2021-06-29             29.0  213.589996  210.880005       207.450814\n",
       "2021-06-30             27.0  209.690002  214.139999       203.908457\n",
       "2021-07-01             30.0  213.399994  204.360001       207.148858"
      ]
     },
     "execution_count": 11,
     "metadata": {},
     "output_type": "execute_result"
    }
   ],
   "source": [
    "lastMonthColumns = [\"Search Interest\",\"Open\",\"Close\"]\n",
    "lastMonthDf = stockSearchDf[lastMonthColumns].loc[X_test.index]\n",
    "lastMonthDf[\"Predicted Close\"] = predictions\n",
    "lastMonthDf.head(5)"
   ]
  },
  {
   "cell_type": "code",
   "execution_count": 12,
   "id": "9c028f32-803a-487d-b7c9-df9139520d35",
   "metadata": {},
   "outputs": [
    {
     "data": {
      "image/png": "[encoded data removed]",
      "text/plain": [
       "<Figure size 1296x864 with 1 Axes>"
      ]
     },
     "metadata": {},
     "output_type": "display_data"
    }
   ],
   "source": [
    "sns.set_theme(style = \"darkgrid\")\n",
    "palette = sns.color_palette(\"mako_r\", 3)\n",
    "fig, ax = plt.subplots(figsize = (18,12))\n",
    "fig = sns.lineplot(data=lastMonthDf[[\"Search Interest\",\"Close\",\"Predicted Close\"]],\n",
    "                   ax = ax, palette = palette)\n",
    "\n",
    "# Add title and axis labels\n",
    "plt.xlabel(\"Date\", fontsize=18)\n",
    "plt.ylabel(\"Price\", fontsize=18)\n",
    "plt.title(\"GME Predicted Close Price vs. Actual Close Price\",\n",
    "          fontsize = 'xx-large')\n",
    "ax.xaxis.set_major_locator(mp.ticker.MultipleLocator(5))\n",
    "\n",
    "# Add legend\n",
    "plt.legend()\n",
    "\n",
    "# Display plot\n",
    "plt.show() "
   ]
  },
  {
   "cell_type": "markdown",
   "id": "51d59d95",
   "metadata": {},
   "source": [
    "## Analytics Model: Linear Regression on AMC"
   ]
  },
  {
   "cell_type": "code",
   "execution_count": 13,
   "id": "e6c5d880",
   "metadata": {},
   "outputs": [
    {
     "data": {
      "text/html": [
       "<div>\n",
       "<style scoped>\n",
       "    .dataframe tbody tr th:only-of-type {\n",
       "        vertical-align: middle;\n",
       "    }\n",
       "\n",
       "    .dataframe tbody tr th {\n",
       "        vertical-align: top;\n",
       "    }\n",
       "\n",
       "    .dataframe thead th {\n",
       "        text-align: right;\n",
       "    }\n",
       "</style>\n",
       "<table border=\"1\" class=\"dataframe\">\n",
       "  <thead>\n",
       "    <tr style=\"text-align: right;\">\n",
       "      <th></th>\n",
       "      <th>Open</th>\n",
       "      <th>High</th>\n",
       "      <th>Low</th>\n",
       "      <th>Close</th>\n",
       "      <th>Adj Close</th>\n",
       "      <th>Volume</th>\n",
       "      <th>Search Interest</th>\n",
       "      <th>Price Difference</th>\n",
       "      <th>Buy</th>\n",
       "      <th>Previous Open</th>\n",
       "      <th>Previous High</th>\n",
       "      <th>Previous Low</th>\n",
       "      <th>Previous Close</th>\n",
       "      <th>Previous Adj Close</th>\n",
       "      <th>Previous Volume</th>\n",
       "      <th>Previous Search Interest</th>\n",
       "    </tr>\n",
       "    <tr>\n",
       "      <th>Date</th>\n",
       "      <th></th>\n",
       "      <th></th>\n",
       "      <th></th>\n",
       "      <th></th>\n",
       "      <th></th>\n",
       "      <th></th>\n",
       "      <th></th>\n",
       "      <th></th>\n",
       "      <th></th>\n",
       "      <th></th>\n",
       "      <th></th>\n",
       "      <th></th>\n",
       "      <th></th>\n",
       "      <th></th>\n",
       "      <th></th>\n",
       "      <th></th>\n",
       "    </tr>\n",
       "  </thead>\n",
       "  <tbody>\n",
       "    <tr>\n",
       "      <th>2020-08-04</th>\n",
       "      <td>4.13</td>\n",
       "      <td>4.74</td>\n",
       "      <td>4.13</td>\n",
       "      <td>4.43</td>\n",
       "      <td>4.43</td>\n",
       "      <td>10361400</td>\n",
       "      <td>22.0</td>\n",
       "      <td>0.30</td>\n",
       "      <td>1</td>\n",
       "      <td>4.03</td>\n",
       "      <td>4.25</td>\n",
       "      <td>4.00</td>\n",
       "      <td>4.15</td>\n",
       "      <td>4.15</td>\n",
       "      <td>2517600.0</td>\n",
       "      <td>18.0</td>\n",
       "    </tr>\n",
       "    <tr>\n",
       "      <th>2020-08-05</th>\n",
       "      <td>4.50</td>\n",
       "      <td>4.76</td>\n",
       "      <td>4.25</td>\n",
       "      <td>4.63</td>\n",
       "      <td>4.63</td>\n",
       "      <td>4919300</td>\n",
       "      <td>21.0</td>\n",
       "      <td>0.13</td>\n",
       "      <td>1</td>\n",
       "      <td>4.13</td>\n",
       "      <td>4.74</td>\n",
       "      <td>4.13</td>\n",
       "      <td>4.43</td>\n",
       "      <td>4.43</td>\n",
       "      <td>10361400.0</td>\n",
       "      <td>22.0</td>\n",
       "    </tr>\n",
       "    <tr>\n",
       "      <th>2020-08-06</th>\n",
       "      <td>4.60</td>\n",
       "      <td>4.66</td>\n",
       "      <td>4.38</td>\n",
       "      <td>4.43</td>\n",
       "      <td>4.43</td>\n",
       "      <td>1901200</td>\n",
       "      <td>21.0</td>\n",
       "      <td>-0.17</td>\n",
       "      <td>0</td>\n",
       "      <td>4.50</td>\n",
       "      <td>4.76</td>\n",
       "      <td>4.25</td>\n",
       "      <td>4.63</td>\n",
       "      <td>4.63</td>\n",
       "      <td>4919300.0</td>\n",
       "      <td>21.0</td>\n",
       "    </tr>\n",
       "    <tr>\n",
       "      <th>2020-08-07</th>\n",
       "      <td>4.39</td>\n",
       "      <td>4.40</td>\n",
       "      <td>4.06</td>\n",
       "      <td>4.16</td>\n",
       "      <td>4.16</td>\n",
       "      <td>3341100</td>\n",
       "      <td>23.0</td>\n",
       "      <td>-0.23</td>\n",
       "      <td>0</td>\n",
       "      <td>4.60</td>\n",
       "      <td>4.66</td>\n",
       "      <td>4.38</td>\n",
       "      <td>4.43</td>\n",
       "      <td>4.43</td>\n",
       "      <td>1901200.0</td>\n",
       "      <td>21.0</td>\n",
       "    </tr>\n",
       "    <tr>\n",
       "      <th>2020-08-10</th>\n",
       "      <td>4.20</td>\n",
       "      <td>4.57</td>\n",
       "      <td>4.18</td>\n",
       "      <td>4.33</td>\n",
       "      <td>4.33</td>\n",
       "      <td>4561800</td>\n",
       "      <td>24.0</td>\n",
       "      <td>0.13</td>\n",
       "      <td>1</td>\n",
       "      <td>4.39</td>\n",
       "      <td>4.40</td>\n",
       "      <td>4.06</td>\n",
       "      <td>4.16</td>\n",
       "      <td>4.16</td>\n",
       "      <td>3341100.0</td>\n",
       "      <td>23.0</td>\n",
       "    </tr>\n",
       "  </tbody>\n",
       "</table>\n",
       "</div>"
      ],
      "text/plain": [
       "            Open  High   Low  Close  Adj Close    Volume  Search Interest  \\\n",
       "Date                                                                        \n",
       "2020-08-04  4.13  4.74  4.13   4.43       4.43  10361400             22.0   \n",
       "2020-08-05  4.50  4.76  4.25   4.63       4.63   4919300             21.0   \n",
       "2020-08-06  4.60  4.66  4.38   4.43       4.43   1901200             21.0   \n",
       "2020-08-07  4.39  4.40  4.06   4.16       4.16   3341100             23.0   \n",
       "2020-08-10  4.20  4.57  4.18   4.33       4.33   4561800             24.0   \n",
       "\n",
       "            Price Difference  Buy  Previous Open  Previous High  Previous Low  \\\n",
       "Date                                                                            \n",
       "2020-08-04              0.30    1           4.03           4.25          4.00   \n",
       "2020-08-05              0.13    1           4.13           4.74          4.13   \n",
       "2020-08-06             -0.17    0           4.50           4.76          4.25   \n",
       "2020-08-07             -0.23    0           4.60           4.66          4.38   \n",
       "2020-08-10              0.13    1           4.39           4.40          4.06   \n",
       "\n",
       "            Previous Close  Previous Adj Close  Previous Volume  \\\n",
       "Date                                                              \n",
       "2020-08-04            4.15                4.15        2517600.0   \n",
       "2020-08-05            4.43                4.43       10361400.0   \n",
       "2020-08-06            4.63                4.63        4919300.0   \n",
       "2020-08-07            4.43                4.43        1901200.0   \n",
       "2020-08-10            4.16                4.16        3341100.0   \n",
       "\n",
       "            Previous Search Interest  \n",
       "Date                                  \n",
       "2020-08-04                      18.0  \n",
       "2020-08-05                      22.0  \n",
       "2020-08-06                      21.0  \n",
       "2020-08-07                      21.0  \n",
       "2020-08-10                      23.0  "
      ]
     },
     "execution_count": 13,
     "metadata": {},
     "output_type": "execute_result"
    }
   ],
   "source": [
    "stockSearchDf['Previous Open'] = stockSearchDf['Open'].shift(1)\n",
    "stockSearchDf['Previous High'] = stockSearchDf['High'].shift(1)\n",
    "stockSearchDf['Previous Low'] = stockSearchDf['Low'].shift(1)\n",
    "stockSearchDf['Previous Close'] = stockSearchDf['Close'].shift(1)\n",
    "stockSearchDf['Previous Adj Close'] = stockSearchDf['Adj Close'].shift(1)\n",
    "stockSearchDf['Previous Volume'] = stockSearchDf['Volume'].shift(1)\n",
    "stockSearchDf['Previous Search Interest'] = stockSearchDf['Search Interest'].shift(1)\n",
    "stockSearchDf.dropna(inplace=True)\n",
    "\n",
    "stockSearchDf.head(5)"
   ]
  },
  {
   "cell_type": "code",
   "execution_count": 14,
   "id": "745bd3cf-c265-425d-b884-67c0cd7a89fb",
   "metadata": {},
   "outputs": [
    {
     "data": {
      "text/html": [
       "<div>\n",
       "<style scoped>\n",
       "    .dataframe tbody tr th:only-of-type {\n",
       "        vertical-align: middle;\n",
       "    }\n",
       "\n",
       "    .dataframe tbody tr th {\n",
       "        vertical-align: top;\n",
       "    }\n",
       "\n",
       "    .dataframe thead th {\n",
       "        text-align: right;\n",
       "    }\n",
       "</style>\n",
       "<table border=\"1\" class=\"dataframe\">\n",
       "  <thead>\n",
       "    <tr style=\"text-align: right;\">\n",
       "      <th></th>\n",
       "      <th>Previous Open</th>\n",
       "      <th>Previous High</th>\n",
       "      <th>Previous Low</th>\n",
       "      <th>Previous Close</th>\n",
       "      <th>Previous Volume</th>\n",
       "      <th>Previous Search Interest</th>\n",
       "      <th>Close</th>\n",
       "    </tr>\n",
       "    <tr>\n",
       "      <th>Date</th>\n",
       "      <th></th>\n",
       "      <th></th>\n",
       "      <th></th>\n",
       "      <th></th>\n",
       "      <th></th>\n",
       "      <th></th>\n",
       "      <th></th>\n",
       "    </tr>\n",
       "  </thead>\n",
       "  <tbody>\n",
       "    <tr>\n",
       "      <th>2020-08-04</th>\n",
       "      <td>4.03</td>\n",
       "      <td>4.25</td>\n",
       "      <td>4.00</td>\n",
       "      <td>4.15</td>\n",
       "      <td>2517600.0</td>\n",
       "      <td>18.0</td>\n",
       "      <td>4.43</td>\n",
       "    </tr>\n",
       "    <tr>\n",
       "      <th>2020-08-05</th>\n",
       "      <td>4.13</td>\n",
       "      <td>4.74</td>\n",
       "      <td>4.13</td>\n",
       "      <td>4.43</td>\n",
       "      <td>10361400.0</td>\n",
       "      <td>22.0</td>\n",
       "      <td>4.63</td>\n",
       "    </tr>\n",
       "    <tr>\n",
       "      <th>2020-08-06</th>\n",
       "      <td>4.50</td>\n",
       "      <td>4.76</td>\n",
       "      <td>4.25</td>\n",
       "      <td>4.63</td>\n",
       "      <td>4919300.0</td>\n",
       "      <td>21.0</td>\n",
       "      <td>4.43</td>\n",
       "    </tr>\n",
       "    <tr>\n",
       "      <th>2020-08-07</th>\n",
       "      <td>4.60</td>\n",
       "      <td>4.66</td>\n",
       "      <td>4.38</td>\n",
       "      <td>4.43</td>\n",
       "      <td>1901200.0</td>\n",
       "      <td>21.0</td>\n",
       "      <td>4.16</td>\n",
       "    </tr>\n",
       "    <tr>\n",
       "      <th>2020-08-10</th>\n",
       "      <td>4.39</td>\n",
       "      <td>4.40</td>\n",
       "      <td>4.06</td>\n",
       "      <td>4.16</td>\n",
       "      <td>3341100.0</td>\n",
       "      <td>23.0</td>\n",
       "      <td>4.33</td>\n",
       "    </tr>\n",
       "  </tbody>\n",
       "</table>\n",
       "</div>"
      ],
      "text/plain": [
       "            Previous Open  Previous High  Previous Low  Previous Close  \\\n",
       "Date                                                                     \n",
       "2020-08-04           4.03           4.25          4.00            4.15   \n",
       "2020-08-05           4.13           4.74          4.13            4.43   \n",
       "2020-08-06           4.50           4.76          4.25            4.63   \n",
       "2020-08-07           4.60           4.66          4.38            4.43   \n",
       "2020-08-10           4.39           4.40          4.06            4.16   \n",
       "\n",
       "            Previous Volume  Previous Search Interest  Close  \n",
       "Date                                                          \n",
       "2020-08-04        2517600.0                      18.0   4.43  \n",
       "2020-08-05       10361400.0                      22.0   4.63  \n",
       "2020-08-06        4919300.0                      21.0   4.43  \n",
       "2020-08-07        1901200.0                      21.0   4.16  \n",
       "2020-08-10        3341100.0                      23.0   4.33  "
      ]
     },
     "execution_count": 14,
     "metadata": {},
     "output_type": "execute_result"
    }
   ],
   "source": [
    "columns = [\"Previous Open\", \"Previous High\", \"Previous Low\", \"Previous Close\", \"Previous Volume\", \"Previous Search Interest\", \"Close\"]\n",
    "stockSearchDf = stockSearchDf[columns]\n",
    "\n",
    "stockSearchDf.head(5)"
   ]
  },
  {
   "cell_type": "code",
   "execution_count": 15,
   "id": "4912e812-4faa-4d63-8e5c-1549799c2da2",
   "metadata": {},
   "outputs": [],
   "source": [
    "features = list(stockSearchDf.columns)\n",
    "features.remove(\"Close\")\n",
    "target = \"Close\"\n",
    "\n",
    "X1 = stockSearchDf[features]\n",
    "y1 = stockSearchDf[target]"
   ]
  },
  {
   "cell_type": "code",
   "execution_count": 16,
   "id": "c3ad88eb-5012-41c5-b82d-0009346a921a",
   "metadata": {},
   "outputs": [],
   "source": [
    "X1_train, X1_test, y1_train, y1_test = train_test_split(X1, y1, test_size=0.18, shuffle=False)"
   ]
  },
  {
   "cell_type": "markdown",
   "id": "76d8cb42",
   "metadata": {},
   "source": [
    "#### Create the regression"
   ]
  },
  {
   "cell_type": "code",
   "execution_count": 17,
   "id": "dd9567a8-25ca-45e9-850d-6afc5dde4620",
   "metadata": {},
   "outputs": [
    {
     "data": {
      "text/plain": [
       "LinearRegression()"
      ]
     },
     "execution_count": 17,
     "metadata": {},
     "output_type": "execute_result"
    }
   ],
   "source": [
    "lr1 = LinearRegression()\n",
    "lr1"
   ]
  },
  {
   "cell_type": "markdown",
   "id": "493f3055",
   "metadata": {},
   "source": [
    "#### Fit Linear Model"
   ]
  },
  {
   "cell_type": "code",
   "execution_count": 18,
   "id": "6636b74c-dca6-4f76-8ef4-c6d033db369c",
   "metadata": {},
   "outputs": [
    {
     "data": {
      "text/plain": [
       "LinearRegression()"
      ]
     },
     "execution_count": 18,
     "metadata": {},
     "output_type": "execute_result"
    }
   ],
   "source": [
    "lr.fit(X1_train, y1_train)"
   ]
  },
  {
   "cell_type": "markdown",
   "id": "8f12f79e",
   "metadata": {},
   "source": [
    "#### Our Confidence in our model is high"
   ]
  },
  {
   "cell_type": "code",
   "execution_count": 19,
   "id": "a1918023-09cd-44a6-80ec-7265a9fb676f",
   "metadata": {},
   "outputs": [
    {
     "data": {
      "text/plain": [
       "0.9409884950469273"
      ]
     },
     "execution_count": 19,
     "metadata": {},
     "output_type": "execute_result"
    }
   ],
   "source": [
    "lr.score(X1_train, y1_train)"
   ]
  },
  {
   "cell_type": "code",
   "execution_count": 20,
   "id": "87db1cec-f909-47d3-96e4-b66a436bde56",
   "metadata": {},
   "outputs": [
    {
     "data": {
      "text/plain": [
       "0.4454630577814609"
      ]
     },
     "execution_count": 20,
     "metadata": {},
     "output_type": "execute_result"
    }
   ],
   "source": [
    "lr.score(X1_test, y1_test)"
   ]
  },
  {
   "cell_type": "markdown",
   "id": "607265a3",
   "metadata": {},
   "source": [
    "#### Print the prediction believed accuracy using the model"
   ]
  },
  {
   "cell_type": "code",
   "execution_count": 21,
   "id": "42e646f0-50ca-4ae9-9e42-8942e8667850",
   "metadata": {
    "scrolled": true
   },
   "outputs": [
    {
     "name": "stdout",
     "output_type": "stream",
     "text": [
      "Score: 0.51\n",
      "MAE: 18.24\n",
      "RMSE: 25.37\n",
      "r2: 0.45\n"
     ]
    }
   ],
   "source": [
    "predictions1 = lr.predict(X1_test)\n",
    "printMetricsRegression(y1_test, predictions1)\n"
   ]
  },
  {
   "cell_type": "markdown",
   "id": "6e4874d3",
   "metadata": {},
   "source": [
    "#### Test model using LastMonth data"
   ]
  },
  {
   "cell_type": "code",
   "execution_count": 22,
   "id": "052a04a7-eb8b-4c3e-932a-a6936c20b87e",
   "metadata": {},
   "outputs": [
    {
     "data": {
      "text/plain": [
       "array([161.36480579, 163.90398623, 175.00898554, 180.81500607,\n",
       "       223.7167864 , 237.36944041, 260.71061769, 186.62402146,\n",
       "       245.91607453, 292.97071076, 229.8990275 , 237.44776979,\n",
       "       279.4286358 , 321.24396972, 296.99889286, 162.6497431 ,\n",
       "       219.38524807, 205.5845096 , 198.42947736, 217.81615821,\n",
       "       221.38336981, 203.97544487, 179.40723999, 209.31003336,\n",
       "       204.5958915 , 203.72323946, 188.58864933, 216.70648761,\n",
       "       200.09719765, 207.57460226, 191.61772698, 188.32245298,\n",
       "       184.11808403, 168.00387385, 193.61014028, 183.8968244 ,\n",
       "       185.80362897, 168.60688773, 152.15586844, 167.19101271,\n",
       "       168.64051278, 173.24767702, 194.04061197, 181.13970365,\n",
       "       168.05590842])"
      ]
     },
     "execution_count": 22,
     "metadata": {},
     "output_type": "execute_result"
    }
   ],
   "source": [
    "predictions1 = lr.predict(X1_test)\n",
    "predictions1"
   ]
  },
  {
   "cell_type": "code",
   "execution_count": 23,
   "id": "fe542bd4-95a2-4eb5-acaa-dda207b6af6e",
   "metadata": {},
   "outputs": [
    {
     "data": {
      "text/html": [
       "<div>\n",
       "<style scoped>\n",
       "    .dataframe tbody tr th:only-of-type {\n",
       "        vertical-align: middle;\n",
       "    }\n",
       "\n",
       "    .dataframe tbody tr th {\n",
       "        vertical-align: top;\n",
       "    }\n",
       "\n",
       "    .dataframe thead th {\n",
       "        text-align: right;\n",
       "    }\n",
       "</style>\n",
       "<table border=\"1\" class=\"dataframe\">\n",
       "  <thead>\n",
       "    <tr style=\"text-align: right;\">\n",
       "      <th></th>\n",
       "      <th>Previous Open</th>\n",
       "      <th>Previous High</th>\n",
       "      <th>Previous Low</th>\n",
       "      <th>Previous Close</th>\n",
       "      <th>Previous Volume</th>\n",
       "      <th>Previous Search Interest</th>\n",
       "      <th>Predicted Close</th>\n",
       "    </tr>\n",
       "    <tr>\n",
       "      <th>Date</th>\n",
       "      <th></th>\n",
       "      <th></th>\n",
       "      <th></th>\n",
       "      <th></th>\n",
       "      <th></th>\n",
       "      <th></th>\n",
       "      <th></th>\n",
       "    </tr>\n",
       "  </thead>\n",
       "  <tbody>\n",
       "    <tr>\n",
       "      <th>2021-05-20</th>\n",
       "      <td>171.990005</td>\n",
       "      <td>178.979996</td>\n",
       "      <td>164.149994</td>\n",
       "      <td>168.830002</td>\n",
       "      <td>4825900.0</td>\n",
       "      <td>37.0</td>\n",
       "      <td>161.364806</td>\n",
       "    </tr>\n",
       "    <tr>\n",
       "      <th>2021-05-21</th>\n",
       "      <td>170.789993</td>\n",
       "      <td>174.910004</td>\n",
       "      <td>166.899994</td>\n",
       "      <td>170.490005</td>\n",
       "      <td>2478200.0</td>\n",
       "      <td>30.0</td>\n",
       "      <td>163.903986</td>\n",
       "    </tr>\n",
       "    <tr>\n",
       "      <th>2021-05-24</th>\n",
       "      <td>171.000000</td>\n",
       "      <td>179.240005</td>\n",
       "      <td>170.330002</td>\n",
       "      <td>176.789993</td>\n",
       "      <td>3654700.0</td>\n",
       "      <td>32.0</td>\n",
       "      <td>175.008986</td>\n",
       "    </tr>\n",
       "    <tr>\n",
       "      <th>2021-05-25</th>\n",
       "      <td>175.850006</td>\n",
       "      <td>188.460007</td>\n",
       "      <td>173.350006</td>\n",
       "      <td>180.009995</td>\n",
       "      <td>4664300.0</td>\n",
       "      <td>35.0</td>\n",
       "      <td>180.815006</td>\n",
       "    </tr>\n",
       "    <tr>\n",
       "      <th>2021-05-26</th>\n",
       "      <td>181.000000</td>\n",
       "      <td>217.110001</td>\n",
       "      <td>181.000000</td>\n",
       "      <td>209.429993</td>\n",
       "      <td>14887500.0</td>\n",
       "      <td>58.0</td>\n",
       "      <td>223.716786</td>\n",
       "    </tr>\n",
       "  </tbody>\n",
       "</table>\n",
       "</div>"
      ],
      "text/plain": [
       "            Previous Open  Previous High  Previous Low  Previous Close  \\\n",
       "Date                                                                     \n",
       "2021-05-20     171.990005     178.979996    164.149994      168.830002   \n",
       "2021-05-21     170.789993     174.910004    166.899994      170.490005   \n",
       "2021-05-24     171.000000     179.240005    170.330002      176.789993   \n",
       "2021-05-25     175.850006     188.460007    173.350006      180.009995   \n",
       "2021-05-26     181.000000     217.110001    181.000000      209.429993   \n",
       "\n",
       "            Previous Volume  Previous Search Interest  Predicted Close  \n",
       "Date                                                                    \n",
       "2021-05-20        4825900.0                      37.0       161.364806  \n",
       "2021-05-21        2478200.0                      30.0       163.903986  \n",
       "2021-05-24        3654700.0                      32.0       175.008986  \n",
       "2021-05-25        4664300.0                      35.0       180.815006  \n",
       "2021-05-26       14887500.0                      58.0       223.716786  "
      ]
     },
     "execution_count": 23,
     "metadata": {},
     "output_type": "execute_result"
    }
   ],
   "source": [
    "X1_test = X1_test.copy()\n",
    "X1_test['Predicted Close'] = predictions1\n",
    "X1_test.head(5)"
   ]
  },
  {
   "cell_type": "code",
   "execution_count": 24,
   "id": "b9f38839-14c0-441a-8ae3-21a991f6b69b",
   "metadata": {},
   "outputs": [
    {
     "data": {
      "text/html": [
       "<div>\n",
       "<style scoped>\n",
       "    .dataframe tbody tr th:only-of-type {\n",
       "        vertical-align: middle;\n",
       "    }\n",
       "\n",
       "    .dataframe tbody tr th {\n",
       "        vertical-align: top;\n",
       "    }\n",
       "\n",
       "    .dataframe thead th {\n",
       "        text-align: right;\n",
       "    }\n",
       "</style>\n",
       "<table border=\"1\" class=\"dataframe\">\n",
       "  <thead>\n",
       "    <tr style=\"text-align: right;\">\n",
       "      <th></th>\n",
       "      <th>Previous Open</th>\n",
       "      <th>Previous High</th>\n",
       "      <th>Previous Low</th>\n",
       "      <th>Previous Close</th>\n",
       "      <th>Previous Volume</th>\n",
       "      <th>Previous Search Interest</th>\n",
       "      <th>Actual Close</th>\n",
       "      <th>Previous Open</th>\n",
       "      <th>Previous High</th>\n",
       "      <th>Previous Low</th>\n",
       "      <th>Previous Close</th>\n",
       "      <th>Previous Volume</th>\n",
       "      <th>Previous Search Interest</th>\n",
       "      <th>Predicted Close</th>\n",
       "    </tr>\n",
       "    <tr>\n",
       "      <th>Date</th>\n",
       "      <th></th>\n",
       "      <th></th>\n",
       "      <th></th>\n",
       "      <th></th>\n",
       "      <th></th>\n",
       "      <th></th>\n",
       "      <th></th>\n",
       "      <th></th>\n",
       "      <th></th>\n",
       "      <th></th>\n",
       "      <th></th>\n",
       "      <th></th>\n",
       "      <th></th>\n",
       "      <th></th>\n",
       "    </tr>\n",
       "  </thead>\n",
       "  <tbody>\n",
       "    <tr>\n",
       "      <th>2021-05-20</th>\n",
       "      <td>171.990005</td>\n",
       "      <td>178.979996</td>\n",
       "      <td>164.149994</td>\n",
       "      <td>168.830002</td>\n",
       "      <td>4825900.0</td>\n",
       "      <td>37.0</td>\n",
       "      <td>170.490005</td>\n",
       "      <td>171.990005</td>\n",
       "      <td>178.979996</td>\n",
       "      <td>164.149994</td>\n",
       "      <td>168.830002</td>\n",
       "      <td>4825900.0</td>\n",
       "      <td>37.0</td>\n",
       "      <td>161.364806</td>\n",
       "    </tr>\n",
       "    <tr>\n",
       "      <th>2021-05-21</th>\n",
       "      <td>170.789993</td>\n",
       "      <td>174.910004</td>\n",
       "      <td>166.899994</td>\n",
       "      <td>170.490005</td>\n",
       "      <td>2478200.0</td>\n",
       "      <td>30.0</td>\n",
       "      <td>176.789993</td>\n",
       "      <td>170.789993</td>\n",
       "      <td>174.910004</td>\n",
       "      <td>166.899994</td>\n",
       "      <td>170.490005</td>\n",
       "      <td>2478200.0</td>\n",
       "      <td>30.0</td>\n",
       "      <td>163.903986</td>\n",
       "    </tr>\n",
       "    <tr>\n",
       "      <th>2021-05-24</th>\n",
       "      <td>171.000000</td>\n",
       "      <td>179.240005</td>\n",
       "      <td>170.330002</td>\n",
       "      <td>176.789993</td>\n",
       "      <td>3654700.0</td>\n",
       "      <td>32.0</td>\n",
       "      <td>180.009995</td>\n",
       "      <td>171.000000</td>\n",
       "      <td>179.240005</td>\n",
       "      <td>170.330002</td>\n",
       "      <td>176.789993</td>\n",
       "      <td>3654700.0</td>\n",
       "      <td>32.0</td>\n",
       "      <td>175.008986</td>\n",
       "    </tr>\n",
       "    <tr>\n",
       "      <th>2021-05-25</th>\n",
       "      <td>175.850006</td>\n",
       "      <td>188.460007</td>\n",
       "      <td>173.350006</td>\n",
       "      <td>180.009995</td>\n",
       "      <td>4664300.0</td>\n",
       "      <td>35.0</td>\n",
       "      <td>209.429993</td>\n",
       "      <td>175.850006</td>\n",
       "      <td>188.460007</td>\n",
       "      <td>173.350006</td>\n",
       "      <td>180.009995</td>\n",
       "      <td>4664300.0</td>\n",
       "      <td>35.0</td>\n",
       "      <td>180.815006</td>\n",
       "    </tr>\n",
       "    <tr>\n",
       "      <th>2021-05-26</th>\n",
       "      <td>181.000000</td>\n",
       "      <td>217.110001</td>\n",
       "      <td>181.000000</td>\n",
       "      <td>209.429993</td>\n",
       "      <td>14887500.0</td>\n",
       "      <td>58.0</td>\n",
       "      <td>242.559998</td>\n",
       "      <td>181.000000</td>\n",
       "      <td>217.110001</td>\n",
       "      <td>181.000000</td>\n",
       "      <td>209.429993</td>\n",
       "      <td>14887500.0</td>\n",
       "      <td>58.0</td>\n",
       "      <td>223.716786</td>\n",
       "    </tr>\n",
       "  </tbody>\n",
       "</table>\n",
       "</div>"
      ],
      "text/plain": [
       "            Previous Open  Previous High  Previous Low  Previous Close  \\\n",
       "Date                                                                     \n",
       "2021-05-20     171.990005     178.979996    164.149994      168.830002   \n",
       "2021-05-21     170.789993     174.910004    166.899994      170.490005   \n",
       "2021-05-24     171.000000     179.240005    170.330002      176.789993   \n",
       "2021-05-25     175.850006     188.460007    173.350006      180.009995   \n",
       "2021-05-26     181.000000     217.110001    181.000000      209.429993   \n",
       "\n",
       "            Previous Volume  Previous Search Interest  Actual Close  \\\n",
       "Date                                                                  \n",
       "2021-05-20        4825900.0                      37.0    170.490005   \n",
       "2021-05-21        2478200.0                      30.0    176.789993   \n",
       "2021-05-24        3654700.0                      32.0    180.009995   \n",
       "2021-05-25        4664300.0                      35.0    209.429993   \n",
       "2021-05-26       14887500.0                      58.0    242.559998   \n",
       "\n",
       "            Previous Open  Previous High  Previous Low  Previous Close  \\\n",
       "Date                                                                     \n",
       "2021-05-20     171.990005     178.979996    164.149994      168.830002   \n",
       "2021-05-21     170.789993     174.910004    166.899994      170.490005   \n",
       "2021-05-24     171.000000     179.240005    170.330002      176.789993   \n",
       "2021-05-25     175.850006     188.460007    173.350006      180.009995   \n",
       "2021-05-26     181.000000     217.110001    181.000000      209.429993   \n",
       "\n",
       "            Previous Volume  Previous Search Interest  Predicted Close  \n",
       "Date                                                                    \n",
       "2021-05-20        4825900.0                      37.0       161.364806  \n",
       "2021-05-21        2478200.0                      30.0       163.903986  \n",
       "2021-05-24        3654700.0                      32.0       175.008986  \n",
       "2021-05-25        4664300.0                      35.0       180.815006  \n",
       "2021-05-26       14887500.0                      58.0       223.716786  "
      ]
     },
     "execution_count": 24,
     "metadata": {},
     "output_type": "execute_result"
    }
   ],
   "source": [
    "stockPrice = stockSearchDf.rename(columns = {'Close': 'Actual Close'})\n",
    "predictedPrice = pd.concat([stockPrice, X1_test], axis = 1)\n",
    "predictedPrice.dropna(inplace = True)\n",
    "predictedPrice.head(5)"
   ]
  },
  {
   "cell_type": "code",
   "execution_count": 91,
   "id": "14ba9216-234b-4c8b-b51a-81062130b6a7",
   "metadata": {
    "scrolled": true
   },
   "outputs": [
    {
     "data": {
      "image/png": "[encoded data removed]",
      "text/plain": [
       "<Figure size 1728x864 with 1 Axes>"
      ]
     },
     "metadata": {},
     "output_type": "display_data"
    }
   ],
   "source": [
    "sns.set_theme(style = \"darkgrid\")\n",
    "fig, ax = plt.subplots(figsize = (24,12))\n",
    "fig = sns.lineplot(data=predictedPrice[[\"Previous Search Interest\",\"Actual Close\",\"Predicted Close\"]],\n",
    "                   ax = ax, palette = palette)\n",
    "\n",
    "\n",
    "#add title and axis labels\n",
    "plt.xlabel(\"Date\", fontsize = 18)\n",
    "plt.ylabel(\"Price\", fontsize = 18)\n",
    "plt.title(\"AMC Predicted Close Price vs. Actual Close Price\",\n",
    "          fontsize = 'xx-large')\n",
    "ax.xaxis.set_major_locator(mp.ticker.MultipleLocator(10))\n",
    "\n",
    "#add legend\n",
    "plt.legend()\n",
    "\n",
    "#display plot\n",
    "plt.show() "
   ]
  },
  {
   "cell_type": "markdown",
   "id": "511c2f58",
   "metadata": {},
   "source": [
    "## Comparing Prediction Model by Stock"
   ]
  },
  {
   "cell_type": "code",
   "execution_count": 59,
   "id": "6d3f386b",
   "metadata": {},
   "outputs": [],
   "source": [
    "amcScore = explained_variance_score(y1_test, predictions1)\n",
    "forecastError1 = [y1_test[i]-predictions1[i] for i in range(len(y1_test))]\n",
    "amcBias = sum(forecastError1) * 1.0/len(y1_test)\n",
    "amcMAE = abs(mean(forecastError1))\n",
    "amcRMSE = math.sqrt(mean(forecastError1))\n",
    "amcR2 = r2_score(y1_test, predictions1)"
   ]
  },
  {
   "cell_type": "code",
   "execution_count": 60,
   "id": "54f17316",
   "metadata": {},
   "outputs": [],
   "source": [
    "GMEScore = explained_variance_score(y_test, predictions)\n",
    "forecastError = [y_test[i]-predictions[i] for i in range(len(y_test))]\n",
    "gmeBias = sum(forecastError) * 1.0/len(y_test)\n",
    "gmeMAE = abs(mean(forecastError))\n",
    "gmeRMSE = math.sqrt(mean(forecastError))\n",
    "gmeR2 = r2_score(y_test, predictions)"
   ]
  },
  {
   "cell_type": "code",
   "execution_count": 85,
   "id": "a6be539c",
   "metadata": {},
   "outputs": [
    {
     "data": {
      "text/html": [
       "<div>\n",
       "<style scoped>\n",
       "    .dataframe tbody tr th:only-of-type {\n",
       "        vertical-align: middle;\n",
       "    }\n",
       "\n",
       "    .dataframe tbody tr th {\n",
       "        vertical-align: top;\n",
       "    }\n",
       "\n",
       "    .dataframe thead th {\n",
       "        text-align: right;\n",
       "    }\n",
       "</style>\n",
       "<table border=\"1\" class=\"dataframe\">\n",
       "  <thead>\n",
       "    <tr style=\"text-align: right;\">\n",
       "      <th></th>\n",
       "      <th>AMC</th>\n",
       "      <th>GME</th>\n",
       "    </tr>\n",
       "  </thead>\n",
       "  <tbody>\n",
       "    <tr>\n",
       "      <th>Score</th>\n",
       "      <td>0.514731</td>\n",
       "      <td>0.770353</td>\n",
       "    </tr>\n",
       "    <tr>\n",
       "      <th>Bias</th>\n",
       "      <td>8.965178</td>\n",
       "      <td>4.856421</td>\n",
       "    </tr>\n",
       "    <tr>\n",
       "      <th>Mean Absolute Error</th>\n",
       "      <td>8.965178</td>\n",
       "      <td>4.856421</td>\n",
       "    </tr>\n",
       "    <tr>\n",
       "      <th>Root Mean Squared Error</th>\n",
       "      <td>2.994191</td>\n",
       "      <td>2.203729</td>\n",
       "    </tr>\n",
       "    <tr>\n",
       "      <th>R-Squared</th>\n",
       "      <td>0.445463</td>\n",
       "      <td>0.665212</td>\n",
       "    </tr>\n",
       "  </tbody>\n",
       "</table>\n",
       "</div>"
      ],
      "text/plain": [
       "                              AMC       GME\n",
       "Score                    0.514731  0.770353\n",
       "Bias                     8.965178  4.856421\n",
       "Mean Absolute Error      8.965178  4.856421\n",
       "Root Mean Squared Error  2.994191  2.203729\n",
       "R-Squared                0.445463  0.665212"
      ]
     },
     "execution_count": 85,
     "metadata": {},
     "output_type": "execute_result"
    }
   ],
   "source": [
    "stockModelScoreComparison = np.matrix([[amcScore, GMEScore], [amcBias, gmeBias], [amcMAE, gmeMAE], [amcRMSE, gmeRMSE], [amcR2, gmeR2]])\n",
    "stockModelScoreComparison= pd.DataFrame(M)\n",
    "stockModelScoreComparison.columns = [ 'AMC', 'GME']\n",
    "stockModelScoreComparison.index = ['Score','Bias','Mean Absolute Error','Root Mean Squared Error','R-Squared']\n",
    "stockModelScoreComparison"
   ]
  },
  {
   "cell_type": "code",
   "execution_count": 153,
   "id": "f8ddf2fe",
   "metadata": {},
   "outputs": [
    {
     "data": {
      "image/png": "[encoded data removed]",
      "text/plain": [
       "<Figure size 1728x864 with 1 Axes>"
      ]
     },
     "metadata": {},
     "output_type": "display_data"
    }
   ],
   "source": [
    "\n",
    "X = stockModelScoreComparison.index\n",
    "AMC = stockModelScoreComparison.AMC\n",
    "GME = stockModelScoreComparison.GME\n",
    "  \n",
    "X_axis = np.arange(len(X))\n",
    "plt.subplots(figsize = (24,12))\n",
    "\n",
    "plt.bar(X_axis - 0.175, AMC, 0.4, label = 'AMC',color=(0.2, 0.3, 0.4, 0.6))\n",
    "plt.bar(X_axis + 0.225, GME, 0.4, label = 'GME',color=(0,0.4,0.5))\n",
    "\n",
    "plt.xticks(X_axis, X, fontsize = 'large')\n",
    "plt.yticks(fontsize = 'large')\n",
    "plt.ylabel(\"Model Score\", fontsize = 'large')\n",
    "plt.title(\"Model Prediction Score Comparison\", fontsize = 24)\n",
    "subtitle = \"AMC v GEM\"\n",
    "tform = ax.get_xaxis_transform() \n",
    "ann = ax.annotate(subtitle, xy=(5, 1), xycoords=tform, bbox=dict(boxstyle='square, pad=1.5', fc='#f0f0f0', ec='none'))\n",
    "    \n",
    "plt.legend(fontsize = 'xx-large')\n",
    "plt.show()"
   ]
  },
  {
   "cell_type": "markdown",
   "id": "fdf0b56a",
   "metadata": {},
   "source": [
    "## Conclusion"
   ]
  },
  {
   "cell_type": "markdown",
   "id": "e1ca171b-79e2-4aad-86be-4a56971bd927",
   "metadata": {
    "pycharm": {
     "name": "#%% md\n"
    },
    "tags": []
   },
   "source": [
    "The two stocks used in this analysis include Game Stop and AMC.  The historic Game Stop data represents a stock with an overall lower average value for Google trends search history score while conversely, AMC indicates a higher average for Google trends search history score.  Historical closing prices were analyzed against the previous days share price, volume traded, and Google trends search history score using linear regression model.  The analysis was used to make predictions about the closing prices for both stocks during the last two months of the second quarter and compare these predictions against the actual stock prices for the same date range by overlaying both trends in the graphs displayed in this report. \n",
    "\n",
    "\n",
    "Visually, both stock prices overlay reasonably well with the predicted versus actual stock prices and provide an encouraging view that our factors model the change in the closing stock price over the last two months.   Game Stop performs better overall with a score of .79, a R squared value of .72, root mean square error of 8.05, and mean absolute error of 5.91.  This effectively means 72% of the variation in the closing stock price over the time range can be explained by the factors that were tested.  In general, small values for the MSE and MAE are desirable as this is a measure of the difference between actual values and the predicted model.  The average close price over the year for Game Stop \\\\$93.08 making these values less than 10\\% of the average close price.   AMC performs lower with a score of .52, a R squared value of .43, root mean square error of 25.80, and mean absolute error of 19.23.  With only 43\\% variation in the close price that can be explained by the tested factors, and average close price of AMC for the year being \\\\$12.70 compared to the root mean square error of two times the average price, AMC did not track against the prediction model as well as Game Stop.   Overall, the use of a Google trends search history score combined with previous price history and volume traded looks to be an encouraging indicator of potential stock purchases.\n",
    "\n"
   ]
  }
 ],
 "metadata": {
  "interpreter": {
   "hash": "aee8b7b246df8f9039afb4144a1f6fd8d2ca17a180786b69acc140d282b71a49"
  },
  "kernelspec": {
   "display_name": "Python 3",
   "language": "python",
   "name": "python3"
  },
  "language_info": {
   "codemirror_mode": {
    "name": "ipython",
    "version": 3
   },
   "file_extension": ".py",
   "mimetype": "text/x-python",
   "name": "python",
   "nbconvert_exporter": "python",
   "pygments_lexer": "ipython3",
   "version": "3.8.8"
  }
 },
 "nbformat": 4,
 "nbformat_minor": 5
}
