{
 "cells": [
  {
   "cell_type": "markdown",
   "id": "5eefcb88",
   "metadata": {
    "tags": []
   },
   "source": [
    "# Stock Analysis Utilizing Google Search Analytics\n",
    "#### Group Members: Andrew Turvey, Arielle Swift, Connor Moore, Dan Knobloch,  Ken Cupples, Shawn Sonnack \n",
    "BAIS 6040: Data Programming in Python <br>\n",
    "Group 01 <br>\n",
    "3 August 2021 <br>\n",
    "\n",
    "## Problem and Goal Statement:\n",
    "   The recent rise of retail investors and day traders, as seen in news stories pertaining to GameStop and AMC, coupled with the increase in internet usage for research, and general information sharing purposes over the last 20 years poses an interesting question as to how stock price and search engine hits (such as Google searches) are tied together. More specifically our team analyzed how a desired company’s closing stock price can be affected by “Google Trends” search interest data to see if there is a strong enough correlation to build a model that would accurately predict a price increase for a given day and therefore could generate a “buy signal” for traders.\n",
    "\t\n",
    "   Factors of importance needed to develop an acceptable model will include: previous day’s share price, volume of shares trade, and Google Trends search history score, which is a number between 0-100 that is base lined  off of the highest search interest day in a given time period. Data can be pulled direct from most finance sites and the Google Trend website. We then added a few manually calculated relationship fields, such as whether or not the price or trend increases the previous day to enhance our models. Our model will be built and trained primarily on data from Q2 in calendar year 2021 (April 01 – June 30) and will be tested on July 2021 data. The models performance will be easily analyzed by comparing the predicted values to the actual values. \n"
   ]
  },
  {
   "cell_type": "markdown",
   "id": "87e05a7c",
   "metadata": {},
   "source": [
    "## Import"
   ]
  },
  {
   "cell_type": "code",
   "execution_count": 1,
   "id": "42cfc04d",
   "metadata": {},
   "outputs": [],
   "source": [
    "import yfinance as yf\n",
    "import pandas as pd\n",
    "import numpy as np\n",
    "import os\n",
    "import math\n",
    "import plotly.express as px\n",
    "import matplotlib as mp\n",
    "import matplotlib.pyplot as plt\n",
    "import seaborn as sns\n",
    "import plotly as px\n",
    "import random as rnd\n",
    "from datetime import date\n",
    "from datetime import timedelta\n",
    "from pytrends.request import TrendReq\n",
    "from sklearn.metrics import confusion_matrix\n",
    "from sklearn.metrics import accuracy_score, recall_score, precision_score, fbeta_score, classification_report\n",
    "from sklearn.metrics import explained_variance_score, mean_absolute_error, r2_score, mean_squared_error\n",
    "from sklearn.model_selection import train_test_split    # For generating test/train\n",
    "from sklearn.linear_model import LinearRegression   # Logistic regression\n",
    "from sklearn.neighbors import KNeighborsClassifier\n",
    "from sklearn.linear_model import Ridge\n",
    "from sklearn.linear_model import LogisticRegression\n",
    "%matplotlib inline"
   ]
  },
  {
   "cell_type": "markdown",
   "id": "ecd1f61d",
   "metadata": {},
   "source": [
    "## Global Variables and Initialization"
   ]
  },
  {
   "cell_type": "code",
   "execution_count": 2,
   "id": "fb886100",
   "metadata": {},
   "outputs": [],
   "source": [
    "dataDir = r\"./Data Files/\"  #Directory of all data\n",
    "today = date.today()  # Todays date\n",
    "rnd.seed(1024)"
   ]
  },
  {
   "cell_type": "markdown",
   "id": "19a63d5c",
   "metadata": {},
   "source": [
    "## Global Functions"
   ]
  },
  {
   "cell_type": "code",
   "execution_count": 3,
   "id": "a8ff10fb",
   "metadata": {},
   "outputs": [],
   "source": [
    "# Function gets stock data and trend data if needed\n",
    "def get_data(ticker):\n",
    "    if os.path.exists(f\"{dataDir}{ticker}_{today}_year.csv\"):\n",
    "        #Get stored data\n",
    "        stored_data = pd.read_csv(f\"{dataDir}{ticker}_{today}_year.csv\")\n",
    "        # Get rid of index name\n",
    "        stored_data.set_index('Unnamed: 0', inplace=True)\n",
    "        stored_data.index.name = None\n",
    "        return stored_data\n",
    "    else:\n",
    "        #Get new data\n",
    "        # Connect to Google API\n",
    "        pytrends = TrendReq(hl='en-US', tz=360)\n",
    "        # Set Keyword\n",
    "        kw_list = [ticker]\n",
    "        # Google API only shows last 90 days so need to itirate\n",
    "        # Set start of interval\n",
    "        date90front = date.today()\n",
    "        # Initiate dataframe\n",
    "        trend_data = pd.DataFrame()\n",
    "        for x in range(4):\n",
    "            # Set start end of interval\n",
    "            date90back = date90front - timedelta(days=90)\n",
    "            # Build Payload of 90 days\n",
    "            pytrends.build_payload(kw_list,\n",
    "                                   timeframe=f'{date90back} {date90front}',\n",
    "                                   geo='')\n",
    "            trend_90 = pytrends.interest_over_time()\n",
    "            trend_data = pd.concat([trend_90, trend_data])\n",
    "            date90front = date90back\n",
    "        # Get Stock Data\n",
    "        stock_data = yf.download(ticker,\n",
    "                                 start=date.today() - timedelta(days=360),\n",
    "                                 end=date.today(), interval=\"1d\")\n",
    "        # Combine Data\n",
    "        new_data = stock_data.join(trend_data)\n",
    "        # Create index and add date column\n",
    "        new_data.reset_index(inplace=True)\n",
    "        new_data.rename(columns= {\"index\":\"Date\"}, inplace = True)\n",
    "        # Rename search interest\n",
    "        new_data.rename(columns = {ticker: \"Search Interest\"},inplace = True)\n",
    "        # Add difference\n",
    "        new_data[\"Price Difference\"] = new_data[\"Close\"] - new_data[\"Open\"]\n",
    "        # Add truth value that determines if we want to buy or not that day\n",
    "        new_data['Buy'] = np.where(new_data['Price Difference'] > 0, 1, 0)\n",
    "        # Delete isPartial\n",
    "        del new_data['isPartial']\n",
    "        # Remove NaN\n",
    "        new_data.dropna(inplace=True)  \n",
    "        # Export to data folder\n",
    "        new_data.to_csv(f\"{dataDir}{ticker}_{today}_year.csv\")\n",
    "        return new_data\n",
    "\n",
    "# Function prints metrics of regression model\n",
    "def PrintMetricsRegression(test, predictions):\n",
    "    print(f\"Score: {explained_variance_score(test, predictions):.2f}\")\n",
    "    print(f\"MAE: {mean_absolute_error(test, predictions):.2f}\")\n",
    "    print(f\"RMSE: {math.sqrt(mean_squared_error(test, predictions)):.2f}\")\n",
    "    print(f\"r2: {r2_score(test, predictions):.2f}\")\n",
    "\n",
    "# Functions gets random data for predictions\n",
    "def prepareDataForPredictions(X_df):\n",
    "    numElements = 3\n",
    "    amcStockPreparedData = []\n",
    "    for _ in range(numElements):\n",
    "        dict = {}\n",
    "        for column in X.columns:\n",
    "            min = 0  # assume min = 0\n",
    "            maxValue = round(max(X_df[column].values))\n",
    "            dict[column] = rnd.randint(min, maxValue)\n",
    "        amcStockPreparedData.append(dict)\n",
    "    return amcStockPreparedData\n",
    "\n",
    "# Create categorical dummies\n",
    "def createCategoricalDummies(dataFrame, categoryList):\n",
    "    return pd.get_dummies(dataFrame[categoryList], prefix_sep = \"::\", drop_first = True)"
   ]
  },
  {
   "cell_type": "markdown",
   "id": "ed2b93c5",
   "metadata": {},
   "source": [
    "## Stock to Analyze"
   ]
  },
  {
   "cell_type": "code",
   "execution_count": 4,
   "id": "8729d8a0",
   "metadata": {},
   "outputs": [
    {
     "name": "stdout",
     "output_type": "stream",
     "text": [
      "[*********************100%***********************]  1 of 1 completed\n"
     ]
    },
    {
     "data": {
      "text/html": [
       "<div>\n",
       "<style scoped>\n",
       "    .dataframe tbody tr th:only-of-type {\n",
       "        vertical-align: middle;\n",
       "    }\n",
       "\n",
       "    .dataframe tbody tr th {\n",
       "        vertical-align: top;\n",
       "    }\n",
       "\n",
       "    .dataframe thead th {\n",
       "        text-align: right;\n",
       "    }\n",
       "</style>\n",
       "<table border=\"1\" class=\"dataframe\">\n",
       "  <thead>\n",
       "    <tr style=\"text-align: right;\">\n",
       "      <th></th>\n",
       "      <th>Open</th>\n",
       "      <th>High</th>\n",
       "      <th>Low</th>\n",
       "      <th>Close</th>\n",
       "      <th>Adj Close</th>\n",
       "      <th>Volume</th>\n",
       "      <th>Search Interest</th>\n",
       "      <th>Price Difference</th>\n",
       "      <th>Buy</th>\n",
       "    </tr>\n",
       "    <tr>\n",
       "      <th>Date</th>\n",
       "      <th></th>\n",
       "      <th></th>\n",
       "      <th></th>\n",
       "      <th></th>\n",
       "      <th></th>\n",
       "      <th></th>\n",
       "      <th></th>\n",
       "      <th></th>\n",
       "      <th></th>\n",
       "    </tr>\n",
       "  </thead>\n",
       "  <tbody>\n",
       "    <tr>\n",
       "      <th>2020-07-30</th>\n",
       "      <td>4.00</td>\n",
       "      <td>4.23</td>\n",
       "      <td>3.97</td>\n",
       "      <td>4.10</td>\n",
       "      <td>4.10</td>\n",
       "      <td>2398500</td>\n",
       "      <td>21</td>\n",
       "      <td>0.10</td>\n",
       "      <td>1</td>\n",
       "    </tr>\n",
       "    <tr>\n",
       "      <th>2020-07-31</th>\n",
       "      <td>4.06</td>\n",
       "      <td>4.16</td>\n",
       "      <td>3.99</td>\n",
       "      <td>4.01</td>\n",
       "      <td>4.01</td>\n",
       "      <td>1879400</td>\n",
       "      <td>18</td>\n",
       "      <td>-0.05</td>\n",
       "      <td>0</td>\n",
       "    </tr>\n",
       "    <tr>\n",
       "      <th>2020-08-03</th>\n",
       "      <td>4.03</td>\n",
       "      <td>4.25</td>\n",
       "      <td>4.00</td>\n",
       "      <td>4.15</td>\n",
       "      <td>4.15</td>\n",
       "      <td>2517600</td>\n",
       "      <td>13</td>\n",
       "      <td>0.12</td>\n",
       "      <td>1</td>\n",
       "    </tr>\n",
       "    <tr>\n",
       "      <th>2020-08-04</th>\n",
       "      <td>4.13</td>\n",
       "      <td>4.74</td>\n",
       "      <td>4.13</td>\n",
       "      <td>4.43</td>\n",
       "      <td>4.43</td>\n",
       "      <td>10361400</td>\n",
       "      <td>25</td>\n",
       "      <td>0.30</td>\n",
       "      <td>1</td>\n",
       "    </tr>\n",
       "    <tr>\n",
       "      <th>2020-08-05</th>\n",
       "      <td>4.50</td>\n",
       "      <td>4.76</td>\n",
       "      <td>4.25</td>\n",
       "      <td>4.63</td>\n",
       "      <td>4.63</td>\n",
       "      <td>4919300</td>\n",
       "      <td>23</td>\n",
       "      <td>0.13</td>\n",
       "      <td>1</td>\n",
       "    </tr>\n",
       "  </tbody>\n",
       "</table>\n",
       "</div>"
      ],
      "text/plain": [
       "            Open  High   Low  Close  Adj Close    Volume  Search Interest  \\\n",
       "Date                                                                        \n",
       "2020-07-30  4.00  4.23  3.97   4.10       4.10   2398500               21   \n",
       "2020-07-31  4.06  4.16  3.99   4.01       4.01   1879400               18   \n",
       "2020-08-03  4.03  4.25  4.00   4.15       4.15   2517600               13   \n",
       "2020-08-04  4.13  4.74  4.13   4.43       4.43  10361400               25   \n",
       "2020-08-05  4.50  4.76  4.25   4.63       4.63   4919300               23   \n",
       "\n",
       "            Price Difference  Buy  \n",
       "Date                               \n",
       "2020-07-30              0.10    1  \n",
       "2020-07-31             -0.05    0  \n",
       "2020-08-03              0.12    1  \n",
       "2020-08-04              0.30    1  \n",
       "2020-08-05              0.13    1  "
      ]
     },
     "execution_count": 4,
     "metadata": {},
     "output_type": "execute_result"
    }
   ],
   "source": [
    "# Gets Data for last year\n",
    "StockSearch_df = get_data(\"GME\")\n",
    "# Set date as index\n",
    "StockSearch_df.set_index(\"Date\", inplace=True)\n",
    "#add rename \n",
    "StockSearch_df.index = pd.to_datetime(StockSearch_df.index)\n",
    "StockSearch_df\n",
    "StockSearch_df.head(5)\n"
   ]
  },
  {
   "cell_type": "markdown",
   "id": "189d0c1f",
   "metadata": {},
   "source": [
    "## Analytics Model: Linear Regression"
   ]
  },
  {
   "cell_type": "code",
   "execution_count": 5,
   "id": "1e1e32d9",
   "metadata": {},
   "outputs": [],
   "source": [
    "featureColumns=['Search Interest', 'Open']\n",
    "targetColumn = 'Close'\n",
    "\n",
    "X=StockSearch_df[featureColumns]\n",
    "y=StockSearch_df[targetColumn]\n",
    "\n",
    "X_train, X_test, y_train, y_test = train_test_split(X, y, test_size=0.08, shuffle=False)"
   ]
  },
  {
   "cell_type": "markdown",
   "id": "ee122bbb",
   "metadata": {},
   "source": [
    "#### Create the regression"
   ]
  },
  {
   "cell_type": "code",
   "execution_count": 6,
   "id": "12575262",
   "metadata": {},
   "outputs": [
    {
     "data": {
      "text/plain": [
       "LinearRegression()"
      ]
     },
     "execution_count": 6,
     "metadata": {},
     "output_type": "execute_result"
    }
   ],
   "source": [
    "lr = LinearRegression()\n",
    "lr"
   ]
  },
  {
   "cell_type": "markdown",
   "id": "b96522ff",
   "metadata": {},
   "source": [
    "#### Fit Linear Model"
   ]
  },
  {
   "cell_type": "code",
   "execution_count": 7,
   "id": "14ecad82",
   "metadata": {},
   "outputs": [
    {
     "data": {
      "text/plain": [
       "LinearRegression()"
      ]
     },
     "execution_count": 7,
     "metadata": {},
     "output_type": "execute_result"
    }
   ],
   "source": [
    "lr.fit(X_train, y_train)"
   ]
  },
  {
   "cell_type": "markdown",
   "id": "d5843633",
   "metadata": {},
   "source": [
    "#### Our Confidence in our model is high"
   ]
  },
  {
   "cell_type": "code",
   "execution_count": 8,
   "id": "70760fae",
   "metadata": {},
   "outputs": [
    {
     "data": {
      "text/plain": [
       "0.9691595521956129"
      ]
     },
     "execution_count": 8,
     "metadata": {},
     "output_type": "execute_result"
    }
   ],
   "source": [
    "lr.score(X_train, y_train) "
   ]
  },
  {
   "cell_type": "code",
   "execution_count": 9,
   "id": "94a312da",
   "metadata": {},
   "outputs": [
    {
     "data": {
      "text/plain": [
       "0.7245100936274305"
      ]
     },
     "execution_count": 9,
     "metadata": {},
     "output_type": "execute_result"
    }
   ],
   "source": [
    "lr.score(X_test, y_test) "
   ]
  },
  {
   "cell_type": "markdown",
   "id": "0972c1ee",
   "metadata": {},
   "source": [
    "lr.score(X_test, y_test) "
   ]
  },
  {
   "cell_type": "markdown",
   "id": "77876614",
   "metadata": {},
   "source": [
    "#### Print the prediction believed accuracy using the model"
   ]
  },
  {
   "cell_type": "code",
   "execution_count": 10,
   "id": "96ac55ef",
   "metadata": {},
   "outputs": [
    {
     "name": "stdout",
     "output_type": "stream",
     "text": [
      "Score: 0.79\n",
      "MAE: 5.91\n",
      "RMSE: 8.05\n",
      "r2: 0.72\n"
     ]
    }
   ],
   "source": [
    "predictions = lr.predict(X_test)\n",
    "PrintMetricsRegression(y_test, predictions)"
   ]
  },
  {
   "cell_type": "markdown",
   "id": "2c2e00f2",
   "metadata": {},
   "source": [
    "#### Test model using LastMonth data"
   ]
  },
  {
   "cell_type": "code",
   "execution_count": 11,
   "id": "da14e77d",
   "metadata": {
    "collapsed": false,
    "jupyter": {
     "outputs_hidden": false
    },
    "pycharm": {
     "name": "#%%\n"
    }
   },
   "outputs": [
    {
     "data": {
      "text/html": [
       "<div>\n",
       "<style scoped>\n",
       "    .dataframe tbody tr th:only-of-type {\n",
       "        vertical-align: middle;\n",
       "    }\n",
       "\n",
       "    .dataframe tbody tr th {\n",
       "        vertical-align: top;\n",
       "    }\n",
       "\n",
       "    .dataframe thead th {\n",
       "        text-align: right;\n",
       "    }\n",
       "</style>\n",
       "<table border=\"1\" class=\"dataframe\">\n",
       "  <thead>\n",
       "    <tr style=\"text-align: right;\">\n",
       "      <th></th>\n",
       "      <th>Search Interest</th>\n",
       "      <th>Open</th>\n",
       "      <th>Close</th>\n",
       "      <th>Predicted Close</th>\n",
       "    </tr>\n",
       "    <tr>\n",
       "      <th>Date</th>\n",
       "      <th></th>\n",
       "      <th></th>\n",
       "      <th></th>\n",
       "      <th></th>\n",
       "    </tr>\n",
       "  </thead>\n",
       "  <tbody>\n",
       "    <tr>\n",
       "      <th>2021-06-24</th>\n",
       "      <td>35</td>\n",
       "      <td>221.160004</td>\n",
       "      <td>212.309998</td>\n",
       "      <td>215.171412</td>\n",
       "    </tr>\n",
       "    <tr>\n",
       "      <th>2021-06-25</th>\n",
       "      <td>32</td>\n",
       "      <td>214.000000</td>\n",
       "      <td>209.509995</td>\n",
       "      <td>208.336446</td>\n",
       "    </tr>\n",
       "    <tr>\n",
       "      <th>2021-06-28</th>\n",
       "      <td>33</td>\n",
       "      <td>211.250000</td>\n",
       "      <td>213.250000</td>\n",
       "      <td>205.667122</td>\n",
       "    </tr>\n",
       "    <tr>\n",
       "      <th>2021-06-29</th>\n",
       "      <td>30</td>\n",
       "      <td>213.589996</td>\n",
       "      <td>210.880005</td>\n",
       "      <td>207.982569</td>\n",
       "    </tr>\n",
       "    <tr>\n",
       "      <th>2021-06-30</th>\n",
       "      <td>29</td>\n",
       "      <td>209.690002</td>\n",
       "      <td>214.139999</td>\n",
       "      <td>204.246609</td>\n",
       "    </tr>\n",
       "  </tbody>\n",
       "</table>\n",
       "</div>"
      ],
      "text/plain": [
       "            Search Interest        Open       Close  Predicted Close\n",
       "Date                                                                \n",
       "2021-06-24               35  221.160004  212.309998       215.171412\n",
       "2021-06-25               32  214.000000  209.509995       208.336446\n",
       "2021-06-28               33  211.250000  213.250000       205.667122\n",
       "2021-06-29               30  213.589996  210.880005       207.982569\n",
       "2021-06-30               29  209.690002  214.139999       204.246609"
      ]
     },
     "execution_count": 11,
     "metadata": {},
     "output_type": "execute_result"
    }
   ],
   "source": [
    "LastMonth_columns = [\"Search Interest\",\"Open\",\"Close\"]\n",
    "LastMonth_df = StockSearch_df[LastMonth_columns].loc[X_test.index]\n",
    "LastMonth_df[\"Predicted Close\"] = predictions\n",
    "LastMonth_df.head(5)\n"
   ]
  },
  {
   "cell_type": "code",
   "execution_count": 12,
   "id": "9c028f32-803a-487d-b7c9-df9139520d35",
   "metadata": {},
   "outputs": [
    {
     "data": {
      "image/png": "[encoded data removed]",
      "text/plain": [
       "<Figure size 1296x864 with 1 Axes>"
      ]
     },
     "metadata": {},
     "output_type": "display_data"
    }
   ],
   "source": [
    "sns.set_theme(style=\"darkgrid\")\n",
    "palette = sns.color_palette(\"mako_r\", 3)\n",
    "fig, ax = plt.subplots(figsize = (18,12))\n",
    "fig = sns.lineplot(data=LastMonth_df[[\"Search Interest\",\"Close\",\"Predicted Close\"]], ax=ax, palette=palette)\n",
    "\n",
    "\n",
    "#add title and axis labels\n",
    "plt.xlabel(\"Date\", fontsize=18)\n",
    "plt.ylabel(\"Price\", fontsize=18)\n",
    "plt.title(\"GME Predicted Close Price vs. Actual Close Price\",fontsize='xx-large')\n",
    "ax.xaxis.set_major_locator(mp.ticker.MultipleLocator(5))\n",
    "\n",
    "#add legend\n",
    "plt.legend()\n",
    "\n",
    "#display plot\n",
    "plt.show() "
   ]
  },
  {
   "cell_type": "markdown",
   "id": "51d59d95",
   "metadata": {},
   "source": [
    "## Analytics Model 2 w/ Plots"
   ]
  },
  {
   "cell_type": "code",
   "execution_count": 13,
   "id": "e6c5d880",
   "metadata": {},
   "outputs": [
    {
     "data": {
      "text/html": [
       "<div>\n",
       "<style scoped>\n",
       "    .dataframe tbody tr th:only-of-type {\n",
       "        vertical-align: middle;\n",
       "    }\n",
       "\n",
       "    .dataframe tbody tr th {\n",
       "        vertical-align: top;\n",
       "    }\n",
       "\n",
       "    .dataframe thead th {\n",
       "        text-align: right;\n",
       "    }\n",
       "</style>\n",
       "<table border=\"1\" class=\"dataframe\">\n",
       "  <thead>\n",
       "    <tr style=\"text-align: right;\">\n",
       "      <th></th>\n",
       "      <th>Open</th>\n",
       "      <th>High</th>\n",
       "      <th>Low</th>\n",
       "      <th>Close</th>\n",
       "      <th>Adj Close</th>\n",
       "      <th>Volume</th>\n",
       "      <th>Search Interest</th>\n",
       "      <th>Price Difference</th>\n",
       "      <th>Buy</th>\n",
       "      <th>Previous Open</th>\n",
       "      <th>Previous High</th>\n",
       "      <th>Previous Low</th>\n",
       "      <th>Previous Close</th>\n",
       "      <th>Previous Adj Close</th>\n",
       "      <th>Previous Volume</th>\n",
       "      <th>Previous Search Interest</th>\n",
       "    </tr>\n",
       "    <tr>\n",
       "      <th>Date</th>\n",
       "      <th></th>\n",
       "      <th></th>\n",
       "      <th></th>\n",
       "      <th></th>\n",
       "      <th></th>\n",
       "      <th></th>\n",
       "      <th></th>\n",
       "      <th></th>\n",
       "      <th></th>\n",
       "      <th></th>\n",
       "      <th></th>\n",
       "      <th></th>\n",
       "      <th></th>\n",
       "      <th></th>\n",
       "      <th></th>\n",
       "      <th></th>\n",
       "    </tr>\n",
       "  </thead>\n",
       "  <tbody>\n",
       "    <tr>\n",
       "      <th>2020-07-31</th>\n",
       "      <td>4.06</td>\n",
       "      <td>4.16</td>\n",
       "      <td>3.99</td>\n",
       "      <td>4.01</td>\n",
       "      <td>4.01</td>\n",
       "      <td>1879400</td>\n",
       "      <td>18</td>\n",
       "      <td>-0.05</td>\n",
       "      <td>0</td>\n",
       "      <td>4.00</td>\n",
       "      <td>4.23</td>\n",
       "      <td>3.97</td>\n",
       "      <td>4.10</td>\n",
       "      <td>4.10</td>\n",
       "      <td>2398500.0</td>\n",
       "      <td>21.0</td>\n",
       "    </tr>\n",
       "    <tr>\n",
       "      <th>2020-08-03</th>\n",
       "      <td>4.03</td>\n",
       "      <td>4.25</td>\n",
       "      <td>4.00</td>\n",
       "      <td>4.15</td>\n",
       "      <td>4.15</td>\n",
       "      <td>2517600</td>\n",
       "      <td>13</td>\n",
       "      <td>0.12</td>\n",
       "      <td>1</td>\n",
       "      <td>4.06</td>\n",
       "      <td>4.16</td>\n",
       "      <td>3.99</td>\n",
       "      <td>4.01</td>\n",
       "      <td>4.01</td>\n",
       "      <td>1879400.0</td>\n",
       "      <td>18.0</td>\n",
       "    </tr>\n",
       "    <tr>\n",
       "      <th>2020-08-04</th>\n",
       "      <td>4.13</td>\n",
       "      <td>4.74</td>\n",
       "      <td>4.13</td>\n",
       "      <td>4.43</td>\n",
       "      <td>4.43</td>\n",
       "      <td>10361400</td>\n",
       "      <td>25</td>\n",
       "      <td>0.30</td>\n",
       "      <td>1</td>\n",
       "      <td>4.03</td>\n",
       "      <td>4.25</td>\n",
       "      <td>4.00</td>\n",
       "      <td>4.15</td>\n",
       "      <td>4.15</td>\n",
       "      <td>2517600.0</td>\n",
       "      <td>13.0</td>\n",
       "    </tr>\n",
       "    <tr>\n",
       "      <th>2020-08-05</th>\n",
       "      <td>4.50</td>\n",
       "      <td>4.76</td>\n",
       "      <td>4.25</td>\n",
       "      <td>4.63</td>\n",
       "      <td>4.63</td>\n",
       "      <td>4919300</td>\n",
       "      <td>23</td>\n",
       "      <td>0.13</td>\n",
       "      <td>1</td>\n",
       "      <td>4.13</td>\n",
       "      <td>4.74</td>\n",
       "      <td>4.13</td>\n",
       "      <td>4.43</td>\n",
       "      <td>4.43</td>\n",
       "      <td>10361400.0</td>\n",
       "      <td>25.0</td>\n",
       "    </tr>\n",
       "    <tr>\n",
       "      <th>2020-08-06</th>\n",
       "      <td>4.60</td>\n",
       "      <td>4.66</td>\n",
       "      <td>4.38</td>\n",
       "      <td>4.43</td>\n",
       "      <td>4.43</td>\n",
       "      <td>1901200</td>\n",
       "      <td>25</td>\n",
       "      <td>-0.17</td>\n",
       "      <td>0</td>\n",
       "      <td>4.50</td>\n",
       "      <td>4.76</td>\n",
       "      <td>4.25</td>\n",
       "      <td>4.63</td>\n",
       "      <td>4.63</td>\n",
       "      <td>4919300.0</td>\n",
       "      <td>23.0</td>\n",
       "    </tr>\n",
       "  </tbody>\n",
       "</table>\n",
       "</div>"
      ],
      "text/plain": [
       "            Open  High   Low  Close  Adj Close    Volume  Search Interest  \\\n",
       "Date                                                                        \n",
       "2020-07-31  4.06  4.16  3.99   4.01       4.01   1879400               18   \n",
       "2020-08-03  4.03  4.25  4.00   4.15       4.15   2517600               13   \n",
       "2020-08-04  4.13  4.74  4.13   4.43       4.43  10361400               25   \n",
       "2020-08-05  4.50  4.76  4.25   4.63       4.63   4919300               23   \n",
       "2020-08-06  4.60  4.66  4.38   4.43       4.43   1901200               25   \n",
       "\n",
       "            Price Difference  Buy  Previous Open  Previous High  Previous Low  \\\n",
       "Date                                                                            \n",
       "2020-07-31             -0.05    0           4.00           4.23          3.97   \n",
       "2020-08-03              0.12    1           4.06           4.16          3.99   \n",
       "2020-08-04              0.30    1           4.03           4.25          4.00   \n",
       "2020-08-05              0.13    1           4.13           4.74          4.13   \n",
       "2020-08-06             -0.17    0           4.50           4.76          4.25   \n",
       "\n",
       "            Previous Close  Previous Adj Close  Previous Volume  \\\n",
       "Date                                                              \n",
       "2020-07-31            4.10                4.10        2398500.0   \n",
       "2020-08-03            4.01                4.01        1879400.0   \n",
       "2020-08-04            4.15                4.15        2517600.0   \n",
       "2020-08-05            4.43                4.43       10361400.0   \n",
       "2020-08-06            4.63                4.63        4919300.0   \n",
       "\n",
       "            Previous Search Interest  \n",
       "Date                                  \n",
       "2020-07-31                      21.0  \n",
       "2020-08-03                      18.0  \n",
       "2020-08-04                      13.0  \n",
       "2020-08-05                      25.0  \n",
       "2020-08-06                      23.0  "
      ]
     },
     "execution_count": 13,
     "metadata": {},
     "output_type": "execute_result"
    }
   ],
   "source": [
    "StockSearch_df['Previous Open'] = StockSearch_df['Open'].shift(1)\n",
    "StockSearch_df['Previous High'] = StockSearch_df['High'].shift(1)\n",
    "StockSearch_df['Previous Low'] = StockSearch_df['Low'].shift(1)\n",
    "StockSearch_df['Previous Close'] = StockSearch_df['Close'].shift(1)\n",
    "StockSearch_df['Previous Adj Close'] = StockSearch_df['Adj Close'].shift(1)\n",
    "StockSearch_df['Previous Volume'] = StockSearch_df['Volume'].shift(1)\n",
    "StockSearch_df['Previous Search Interest'] = StockSearch_df['Search Interest'].shift(1)\n",
    "StockSearch_df.dropna(inplace=True)\n",
    "\n",
    "\n",
    "StockSearch_df.head(5)"
   ]
  },
  {
   "cell_type": "code",
   "execution_count": 14,
   "id": "745bd3cf-c265-425d-b884-67c0cd7a89fb",
   "metadata": {},
   "outputs": [
    {
     "data": {
      "text/html": [
       "<div>\n",
       "<style scoped>\n",
       "    .dataframe tbody tr th:only-of-type {\n",
       "        vertical-align: middle;\n",
       "    }\n",
       "\n",
       "    .dataframe tbody tr th {\n",
       "        vertical-align: top;\n",
       "    }\n",
       "\n",
       "    .dataframe thead th {\n",
       "        text-align: right;\n",
       "    }\n",
       "</style>\n",
       "<table border=\"1\" class=\"dataframe\">\n",
       "  <thead>\n",
       "    <tr style=\"text-align: right;\">\n",
       "      <th></th>\n",
       "      <th>Previous Open</th>\n",
       "      <th>Previous High</th>\n",
       "      <th>Previous Low</th>\n",
       "      <th>Previous Close</th>\n",
       "      <th>Previous Volume</th>\n",
       "      <th>Previous Search Interest</th>\n",
       "      <th>Close</th>\n",
       "    </tr>\n",
       "    <tr>\n",
       "      <th>Date</th>\n",
       "      <th></th>\n",
       "      <th></th>\n",
       "      <th></th>\n",
       "      <th></th>\n",
       "      <th></th>\n",
       "      <th></th>\n",
       "      <th></th>\n",
       "    </tr>\n",
       "  </thead>\n",
       "  <tbody>\n",
       "    <tr>\n",
       "      <th>2020-07-31</th>\n",
       "      <td>4.00</td>\n",
       "      <td>4.23</td>\n",
       "      <td>3.97</td>\n",
       "      <td>4.10</td>\n",
       "      <td>2398500.0</td>\n",
       "      <td>21.0</td>\n",
       "      <td>4.01</td>\n",
       "    </tr>\n",
       "    <tr>\n",
       "      <th>2020-08-03</th>\n",
       "      <td>4.06</td>\n",
       "      <td>4.16</td>\n",
       "      <td>3.99</td>\n",
       "      <td>4.01</td>\n",
       "      <td>1879400.0</td>\n",
       "      <td>18.0</td>\n",
       "      <td>4.15</td>\n",
       "    </tr>\n",
       "    <tr>\n",
       "      <th>2020-08-04</th>\n",
       "      <td>4.03</td>\n",
       "      <td>4.25</td>\n",
       "      <td>4.00</td>\n",
       "      <td>4.15</td>\n",
       "      <td>2517600.0</td>\n",
       "      <td>13.0</td>\n",
       "      <td>4.43</td>\n",
       "    </tr>\n",
       "    <tr>\n",
       "      <th>2020-08-05</th>\n",
       "      <td>4.13</td>\n",
       "      <td>4.74</td>\n",
       "      <td>4.13</td>\n",
       "      <td>4.43</td>\n",
       "      <td>10361400.0</td>\n",
       "      <td>25.0</td>\n",
       "      <td>4.63</td>\n",
       "    </tr>\n",
       "    <tr>\n",
       "      <th>2020-08-06</th>\n",
       "      <td>4.50</td>\n",
       "      <td>4.76</td>\n",
       "      <td>4.25</td>\n",
       "      <td>4.63</td>\n",
       "      <td>4919300.0</td>\n",
       "      <td>23.0</td>\n",
       "      <td>4.43</td>\n",
       "    </tr>\n",
       "  </tbody>\n",
       "</table>\n",
       "</div>"
      ],
      "text/plain": [
       "            Previous Open  Previous High  Previous Low  Previous Close  \\\n",
       "Date                                                                     \n",
       "2020-07-31           4.00           4.23          3.97            4.10   \n",
       "2020-08-03           4.06           4.16          3.99            4.01   \n",
       "2020-08-04           4.03           4.25          4.00            4.15   \n",
       "2020-08-05           4.13           4.74          4.13            4.43   \n",
       "2020-08-06           4.50           4.76          4.25            4.63   \n",
       "\n",
       "            Previous Volume  Previous Search Interest  Close  \n",
       "Date                                                          \n",
       "2020-07-31        2398500.0                      21.0   4.01  \n",
       "2020-08-03        1879400.0                      18.0   4.15  \n",
       "2020-08-04        2517600.0                      13.0   4.43  \n",
       "2020-08-05       10361400.0                      25.0   4.63  \n",
       "2020-08-06        4919300.0                      23.0   4.43  "
      ]
     },
     "execution_count": 14,
     "metadata": {},
     "output_type": "execute_result"
    }
   ],
   "source": [
    "columns = [\"Previous Open\", \"Previous High\", \"Previous Low\", \"Previous Close\", \"Previous Volume\", \"Previous Search Interest\", \"Close\"]\n",
    "StockSearch_df = StockSearch_df[columns]\n",
    "\n",
    "StockSearch_df.head(5)"
   ]
  },
  {
   "cell_type": "code",
   "execution_count": 15,
   "id": "4912e812-4faa-4d63-8e5c-1549799c2da2",
   "metadata": {},
   "outputs": [],
   "source": [
    "features = list(StockSearch_df.columns)\n",
    "features.remove(\"Close\")\n",
    "target = \"Close\"\n",
    "\n",
    "X = StockSearch_df[features]\n",
    "y = StockSearch_df[target]"
   ]
  },
  {
   "cell_type": "code",
   "execution_count": 16,
   "id": "c3ad88eb-5012-41c5-b82d-0009346a921a",
   "metadata": {},
   "outputs": [],
   "source": [
    "X_train, X_test, y_train, y_test = train_test_split(X, y, test_size=0.18, shuffle=False)"
   ]
  },
  {
   "cell_type": "code",
   "execution_count": 17,
   "id": "dd9567a8-25ca-45e9-850d-6afc5dde4620",
   "metadata": {},
   "outputs": [
    {
     "data": {
      "text/plain": [
       "LinearRegression()"
      ]
     },
     "execution_count": 17,
     "metadata": {},
     "output_type": "execute_result"
    }
   ],
   "source": [
    "lr = LinearRegression()\n",
    "lr"
   ]
  },
  {
   "cell_type": "code",
   "execution_count": 18,
   "id": "6636b74c-dca6-4f76-8ef4-c6d033db369c",
   "metadata": {},
   "outputs": [
    {
     "data": {
      "text/plain": [
       "LinearRegression()"
      ]
     },
     "execution_count": 18,
     "metadata": {},
     "output_type": "execute_result"
    }
   ],
   "source": [
    "lr.fit(X_train, y_train)"
   ]
  },
  {
   "cell_type": "code",
   "execution_count": 19,
   "id": "a1918023-09cd-44a6-80ec-7265a9fb676f",
   "metadata": {},
   "outputs": [
    {
     "data": {
      "text/plain": [
       "0.9461994407115562"
      ]
     },
     "execution_count": 19,
     "metadata": {},
     "output_type": "execute_result"
    }
   ],
   "source": [
    "lr.score(X_train, y_train)"
   ]
  },
  {
   "cell_type": "code",
   "execution_count": 20,
   "id": "87db1cec-f909-47d3-96e4-b66a436bde56",
   "metadata": {},
   "outputs": [
    {
     "data": {
      "text/plain": [
       "0.42613241867171137"
      ]
     },
     "execution_count": 20,
     "metadata": {},
     "output_type": "execute_result"
    }
   ],
   "source": [
    "lr.score(X_test, y_test)"
   ]
  },
  {
   "cell_type": "code",
   "execution_count": 21,
   "id": "42e646f0-50ca-4ae9-9e42-8942e8667850",
   "metadata": {},
   "outputs": [
    {
     "name": "stdout",
     "output_type": "stream",
     "text": [
      "Score: 0.52\n",
      "MAE: 19.23\n",
      "RMSE: 25.80\n",
      "r2: 0.43\n"
     ]
    }
   ],
   "source": [
    "predictions = lr.predict(X_test)\n",
    "PrintMetricsRegression(y_test, predictions)\n"
   ]
  },
  {
   "cell_type": "code",
   "execution_count": 22,
   "id": "052a04a7-eb8b-4c3e-932a-a6936c20b87e",
   "metadata": {},
   "outputs": [
    {
     "data": {
      "text/plain": [
       "array([160.83440812, 162.35380595, 173.82875556, 180.64696103,\n",
       "       223.01147879, 234.22886746, 259.15185761, 189.3190484 ,\n",
       "       242.95876757, 290.91046637, 225.85611755, 237.37330493,\n",
       "       276.13636538, 328.0558024 , 296.29265611, 166.64220875,\n",
       "       215.52547433, 202.38715472, 194.59846107, 215.32770381,\n",
       "       221.36365559, 203.00705905, 179.146455  , 206.79434978,\n",
       "       201.03572167, 203.73017184, 184.84959445, 217.0209489 ,\n",
       "       197.81187928, 204.82877604, 191.3801574 , 185.73483812,\n",
       "       181.83547524, 164.79054355, 192.4694155 , 182.13435603,\n",
       "       185.51949084, 167.7611885 , 151.66694779, 166.84545757,\n",
       "       169.13795299, 172.04766483, 192.90155773, 181.06032404,\n",
       "       167.08721632])"
      ]
     },
     "execution_count": 22,
     "metadata": {},
     "output_type": "execute_result"
    }
   ],
   "source": [
    "predictions = lr.predict(X_test)\n",
    "predictions"
   ]
  },
  {
   "cell_type": "code",
   "execution_count": 23,
   "id": "fe542bd4-95a2-4eb5-acaa-dda207b6af6e",
   "metadata": {},
   "outputs": [
    {
     "data": {
      "text/html": [
       "<div>\n",
       "<style scoped>\n",
       "    .dataframe tbody tr th:only-of-type {\n",
       "        vertical-align: middle;\n",
       "    }\n",
       "\n",
       "    .dataframe tbody tr th {\n",
       "        vertical-align: top;\n",
       "    }\n",
       "\n",
       "    .dataframe thead th {\n",
       "        text-align: right;\n",
       "    }\n",
       "</style>\n",
       "<table border=\"1\" class=\"dataframe\">\n",
       "  <thead>\n",
       "    <tr style=\"text-align: right;\">\n",
       "      <th></th>\n",
       "      <th>Previous Open</th>\n",
       "      <th>Previous High</th>\n",
       "      <th>Previous Low</th>\n",
       "      <th>Previous Close</th>\n",
       "      <th>Previous Volume</th>\n",
       "      <th>Previous Search Interest</th>\n",
       "      <th>Predicted Close</th>\n",
       "    </tr>\n",
       "    <tr>\n",
       "      <th>Date</th>\n",
       "      <th></th>\n",
       "      <th></th>\n",
       "      <th></th>\n",
       "      <th></th>\n",
       "      <th></th>\n",
       "      <th></th>\n",
       "      <th></th>\n",
       "    </tr>\n",
       "  </thead>\n",
       "  <tbody>\n",
       "    <tr>\n",
       "      <th>2021-05-20</th>\n",
       "      <td>171.990005</td>\n",
       "      <td>178.979996</td>\n",
       "      <td>164.149994</td>\n",
       "      <td>168.830002</td>\n",
       "      <td>4825900.0</td>\n",
       "      <td>38.0</td>\n",
       "      <td>160.834408</td>\n",
       "    </tr>\n",
       "    <tr>\n",
       "      <th>2021-05-21</th>\n",
       "      <td>170.789993</td>\n",
       "      <td>174.910004</td>\n",
       "      <td>166.899994</td>\n",
       "      <td>170.490005</td>\n",
       "      <td>2478200.0</td>\n",
       "      <td>32.0</td>\n",
       "      <td>162.353806</td>\n",
       "    </tr>\n",
       "    <tr>\n",
       "      <th>2021-05-24</th>\n",
       "      <td>171.000000</td>\n",
       "      <td>179.240005</td>\n",
       "      <td>170.330002</td>\n",
       "      <td>176.789993</td>\n",
       "      <td>3654700.0</td>\n",
       "      <td>31.0</td>\n",
       "      <td>173.828756</td>\n",
       "    </tr>\n",
       "    <tr>\n",
       "      <th>2021-05-25</th>\n",
       "      <td>175.850006</td>\n",
       "      <td>188.460007</td>\n",
       "      <td>173.350006</td>\n",
       "      <td>180.009995</td>\n",
       "      <td>4664300.0</td>\n",
       "      <td>36.0</td>\n",
       "      <td>180.646961</td>\n",
       "    </tr>\n",
       "    <tr>\n",
       "      <th>2021-05-26</th>\n",
       "      <td>181.000000</td>\n",
       "      <td>217.110001</td>\n",
       "      <td>181.000000</td>\n",
       "      <td>209.429993</td>\n",
       "      <td>14887500.0</td>\n",
       "      <td>60.0</td>\n",
       "      <td>223.011479</td>\n",
       "    </tr>\n",
       "  </tbody>\n",
       "</table>\n",
       "</div>"
      ],
      "text/plain": [
       "            Previous Open  Previous High  Previous Low  Previous Close  \\\n",
       "Date                                                                     \n",
       "2021-05-20     171.990005     178.979996    164.149994      168.830002   \n",
       "2021-05-21     170.789993     174.910004    166.899994      170.490005   \n",
       "2021-05-24     171.000000     179.240005    170.330002      176.789993   \n",
       "2021-05-25     175.850006     188.460007    173.350006      180.009995   \n",
       "2021-05-26     181.000000     217.110001    181.000000      209.429993   \n",
       "\n",
       "            Previous Volume  Previous Search Interest  Predicted Close  \n",
       "Date                                                                    \n",
       "2021-05-20        4825900.0                      38.0       160.834408  \n",
       "2021-05-21        2478200.0                      32.0       162.353806  \n",
       "2021-05-24        3654700.0                      31.0       173.828756  \n",
       "2021-05-25        4664300.0                      36.0       180.646961  \n",
       "2021-05-26       14887500.0                      60.0       223.011479  "
      ]
     },
     "execution_count": 23,
     "metadata": {},
     "output_type": "execute_result"
    }
   ],
   "source": [
    "X_test = X_test.copy()\n",
    "X_test['Predicted Close'] = predictions\n",
    "X_test.head(5)"
   ]
  },
  {
   "cell_type": "code",
   "execution_count": 24,
   "id": "b9f38839-14c0-441a-8ae3-21a991f6b69b",
   "metadata": {},
   "outputs": [
    {
     "data": {
      "text/html": [
       "<div>\n",
       "<style scoped>\n",
       "    .dataframe tbody tr th:only-of-type {\n",
       "        vertical-align: middle;\n",
       "    }\n",
       "\n",
       "    .dataframe tbody tr th {\n",
       "        vertical-align: top;\n",
       "    }\n",
       "\n",
       "    .dataframe thead th {\n",
       "        text-align: right;\n",
       "    }\n",
       "</style>\n",
       "<table border=\"1\" class=\"dataframe\">\n",
       "  <thead>\n",
       "    <tr style=\"text-align: right;\">\n",
       "      <th></th>\n",
       "      <th>Previous Open</th>\n",
       "      <th>Previous High</th>\n",
       "      <th>Previous Low</th>\n",
       "      <th>Previous Close</th>\n",
       "      <th>Previous Volume</th>\n",
       "      <th>Previous Search Interest</th>\n",
       "      <th>Actual Close</th>\n",
       "      <th>Previous Open</th>\n",
       "      <th>Previous High</th>\n",
       "      <th>Previous Low</th>\n",
       "      <th>Previous Close</th>\n",
       "      <th>Previous Volume</th>\n",
       "      <th>Previous Search Interest</th>\n",
       "      <th>Predicted Close</th>\n",
       "    </tr>\n",
       "    <tr>\n",
       "      <th>Date</th>\n",
       "      <th></th>\n",
       "      <th></th>\n",
       "      <th></th>\n",
       "      <th></th>\n",
       "      <th></th>\n",
       "      <th></th>\n",
       "      <th></th>\n",
       "      <th></th>\n",
       "      <th></th>\n",
       "      <th></th>\n",
       "      <th></th>\n",
       "      <th></th>\n",
       "      <th></th>\n",
       "      <th></th>\n",
       "    </tr>\n",
       "  </thead>\n",
       "  <tbody>\n",
       "    <tr>\n",
       "      <th>2021-05-20</th>\n",
       "      <td>171.990005</td>\n",
       "      <td>178.979996</td>\n",
       "      <td>164.149994</td>\n",
       "      <td>168.830002</td>\n",
       "      <td>4825900.0</td>\n",
       "      <td>38.0</td>\n",
       "      <td>170.490005</td>\n",
       "      <td>171.990005</td>\n",
       "      <td>178.979996</td>\n",
       "      <td>164.149994</td>\n",
       "      <td>168.830002</td>\n",
       "      <td>4825900.0</td>\n",
       "      <td>38.0</td>\n",
       "      <td>160.834408</td>\n",
       "    </tr>\n",
       "    <tr>\n",
       "      <th>2021-05-21</th>\n",
       "      <td>170.789993</td>\n",
       "      <td>174.910004</td>\n",
       "      <td>166.899994</td>\n",
       "      <td>170.490005</td>\n",
       "      <td>2478200.0</td>\n",
       "      <td>32.0</td>\n",
       "      <td>176.789993</td>\n",
       "      <td>170.789993</td>\n",
       "      <td>174.910004</td>\n",
       "      <td>166.899994</td>\n",
       "      <td>170.490005</td>\n",
       "      <td>2478200.0</td>\n",
       "      <td>32.0</td>\n",
       "      <td>162.353806</td>\n",
       "    </tr>\n",
       "    <tr>\n",
       "      <th>2021-05-24</th>\n",
       "      <td>171.000000</td>\n",
       "      <td>179.240005</td>\n",
       "      <td>170.330002</td>\n",
       "      <td>176.789993</td>\n",
       "      <td>3654700.0</td>\n",
       "      <td>31.0</td>\n",
       "      <td>180.009995</td>\n",
       "      <td>171.000000</td>\n",
       "      <td>179.240005</td>\n",
       "      <td>170.330002</td>\n",
       "      <td>176.789993</td>\n",
       "      <td>3654700.0</td>\n",
       "      <td>31.0</td>\n",
       "      <td>173.828756</td>\n",
       "    </tr>\n",
       "    <tr>\n",
       "      <th>2021-05-25</th>\n",
       "      <td>175.850006</td>\n",
       "      <td>188.460007</td>\n",
       "      <td>173.350006</td>\n",
       "      <td>180.009995</td>\n",
       "      <td>4664300.0</td>\n",
       "      <td>36.0</td>\n",
       "      <td>209.429993</td>\n",
       "      <td>175.850006</td>\n",
       "      <td>188.460007</td>\n",
       "      <td>173.350006</td>\n",
       "      <td>180.009995</td>\n",
       "      <td>4664300.0</td>\n",
       "      <td>36.0</td>\n",
       "      <td>180.646961</td>\n",
       "    </tr>\n",
       "    <tr>\n",
       "      <th>2021-05-26</th>\n",
       "      <td>181.000000</td>\n",
       "      <td>217.110001</td>\n",
       "      <td>181.000000</td>\n",
       "      <td>209.429993</td>\n",
       "      <td>14887500.0</td>\n",
       "      <td>60.0</td>\n",
       "      <td>242.559998</td>\n",
       "      <td>181.000000</td>\n",
       "      <td>217.110001</td>\n",
       "      <td>181.000000</td>\n",
       "      <td>209.429993</td>\n",
       "      <td>14887500.0</td>\n",
       "      <td>60.0</td>\n",
       "      <td>223.011479</td>\n",
       "    </tr>\n",
       "  </tbody>\n",
       "</table>\n",
       "</div>"
      ],
      "text/plain": [
       "            Previous Open  Previous High  Previous Low  Previous Close  \\\n",
       "Date                                                                     \n",
       "2021-05-20     171.990005     178.979996    164.149994      168.830002   \n",
       "2021-05-21     170.789993     174.910004    166.899994      170.490005   \n",
       "2021-05-24     171.000000     179.240005    170.330002      176.789993   \n",
       "2021-05-25     175.850006     188.460007    173.350006      180.009995   \n",
       "2021-05-26     181.000000     217.110001    181.000000      209.429993   \n",
       "\n",
       "            Previous Volume  Previous Search Interest  Actual Close  \\\n",
       "Date                                                                  \n",
       "2021-05-20        4825900.0                      38.0    170.490005   \n",
       "2021-05-21        2478200.0                      32.0    176.789993   \n",
       "2021-05-24        3654700.0                      31.0    180.009995   \n",
       "2021-05-25        4664300.0                      36.0    209.429993   \n",
       "2021-05-26       14887500.0                      60.0    242.559998   \n",
       "\n",
       "            Previous Open  Previous High  Previous Low  Previous Close  \\\n",
       "Date                                                                     \n",
       "2021-05-20     171.990005     178.979996    164.149994      168.830002   \n",
       "2021-05-21     170.789993     174.910004    166.899994      170.490005   \n",
       "2021-05-24     171.000000     179.240005    170.330002      176.789993   \n",
       "2021-05-25     175.850006     188.460007    173.350006      180.009995   \n",
       "2021-05-26     181.000000     217.110001    181.000000      209.429993   \n",
       "\n",
       "            Previous Volume  Previous Search Interest  Predicted Close  \n",
       "Date                                                                    \n",
       "2021-05-20        4825900.0                      38.0       160.834408  \n",
       "2021-05-21        2478200.0                      32.0       162.353806  \n",
       "2021-05-24        3654700.0                      31.0       173.828756  \n",
       "2021-05-25        4664300.0                      36.0       180.646961  \n",
       "2021-05-26       14887500.0                      60.0       223.011479  "
      ]
     },
     "execution_count": 24,
     "metadata": {},
     "output_type": "execute_result"
    }
   ],
   "source": [
    "stockPrice = StockSearch_df.rename(columns={'Close': 'Actual Close'})\n",
    "predictedPrice = pd.concat([stockPrice, X_test], axis=1)\n",
    "predictedPrice.dropna(inplace=True)\n",
    "predictedPrice.head(5)"
   ]
  },
  {
   "cell_type": "code",
   "execution_count": 25,
   "id": "14ba9216-234b-4c8b-b51a-81062130b6a7",
   "metadata": {},
   "outputs": [
    {
     "data": {
      "image/png": "[encoded data removed]",
      "text/plain": [
       "<Figure size 1728x864 with 1 Axes>"
      ]
     },
     "metadata": {},
     "output_type": "display_data"
    }
   ],
   "source": [
    "sns.set_theme(style=\"darkgrid\")\n",
    "palette = sns.color_palette(\"mako_r\", 3)\n",
    "fig, ax = plt.subplots(figsize = (24,12))\n",
    "fig = sns.lineplot(data=predictedPrice[[\"Previous Search Interest\",\"Actual Close\",\"Predicted Close\"]], ax=ax, palette=palette)\n",
    "\n",
    "\n",
    "#add title and axis labels\n",
    "plt.xlabel(\"Date\", fontsize=18)\n",
    "plt.ylabel(\"Price\", fontsize=18)\n",
    "plt.title(\"AMC Predicted Close Price vs. Actual Close Price\",fontsize='xx-large')\n",
    "ax.xaxis.set_major_locator(mp.ticker.MultipleLocator(10))\n",
    "\n",
    "#add legend\n",
    "plt.legend()\n",
    "\n",
    "#display plot\n",
    "plt.show() "
   ]
  },
  {
   "cell_type": "markdown",
   "id": "fdf0b56a",
   "metadata": {},
   "source": [
    "## Conclusion"
   ]
  },
  {
   "cell_type": "raw",
   "id": "e1ca171b-79e2-4aad-86be-4a56971bd927",
   "metadata": {
    "tags": []
   },
   "source": [
    "\n",
    "The two stocks were used in this analysis in Game Stop and AMC.  The historic Game Stop data represents a stock with an overall lower average value for Google trends search history score while conversely, AMC indicates a higher average for Google trends search history score.  Historical closing prices were analyzed against the previous days share price, volume traded, and Google trends search history score using linear regression model.  The analysis was used to make predictions about the closing prices for both stocks during the last two months of the second quarter and compare these predictions against the actual stock prices for the same date range by overlaying both trends in the graphs displayed in this report. \n",
    "\n",
    "\n",
    "Visually, both stock prices overlay reasonably well with the predicted versus actual stock prices and provide an encouraging view that our factors model the change in the closing stock price over the last two months.   Game Stop performs better overall with a score of .79, a R squared value of .72, root mean square error of 8.05, and mean absolute error of 5.91.  This effectively means 72% of the variation in the closing stock price over the time range can be explained by the factors that were tested.  In general, small values for the MSE and MAE are desirable as this is a measure of the difference between actual values and the predicted model.  The average close price over the year for Game Stop $93.08 making these values less than 10% of the average close price.   AMC performs lower with a score of .52, a R squared value of .43, root mean square error of 25.80, and mean absolute error of 19.23.  With only 43% variation in the close price that can be explained by the tested factors, and average close price of AMC for the year being $12.70 compared to the root mean square error of two times the average price, AMC did not track against the predicted model as well as Game Stop.   Overall, the use of a Google trends search history score combined with previous price history and volume traded looks to be an encouraging indicator of potential stock purchases.   \n"
   ]
  }
 ],
 "metadata": {
  "interpreter": {
   "hash": "aee8b7b246df8f9039afb4144a1f6fd8d2ca17a180786b69acc140d282b71a49"
  },
  "kernelspec": {
   "display_name": "Python 3",
   "language": "python",
   "name": "python3"
  },
  "language_info": {
   "codemirror_mode": {
    "name": "ipython",
    "version": 3
   },
   "file_extension": ".py",
   "mimetype": "text/x-python",
   "name": "python",
   "nbconvert_exporter": "python",
   "pygments_lexer": "ipython3",
   "version": "3.8.8"
  }
 },
 "nbformat": 4,
 "nbformat_minor": 5
}
