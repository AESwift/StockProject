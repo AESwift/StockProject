{
 "cells": [
  {
   "cell_type": "markdown",
   "source": [
    "# Stock Analysis using Google Search Analytics"
   ],
   "metadata": {}
  },
  {
   "cell_type": "markdown",
   "source": [
    "Should I buy or sell a specific stock today based off of how popular it is on google searches?"
   ],
   "metadata": {}
  },
  {
   "cell_type": "markdown",
   "source": [
    "Group 1 <br>\n",
    "3 August 2021 <br>\n",
    "BAIS 6040: Data Programming in Python <br>"
   ],
   "metadata": {}
  },
  {
   "cell_type": "markdown",
   "source": [
    "## Introduction"
   ],
   "metadata": {}
  },
  {
   "cell_type": "markdown",
   "source": [],
   "metadata": {}
  },
  {
   "cell_type": "markdown",
   "source": [
    "## Import"
   ],
   "metadata": {}
  },
  {
   "cell_type": "code",
   "execution_count": 1,
   "source": [
    "import yfinance as yf\n",
    "import pandas as pd\n",
    "import numpy as np\n",
    "import os\n",
    "import math\n",
    "import plotly.express as px\n",
    "import random as rnd\n",
    "from datetime import date\n",
    "from datetime import timedelta\n",
    "from pytrends.request import TrendReq\n",
    "from sklearn.metrics import confusion_matrix\n",
    "from sklearn.metrics import accuracy_score, recall_score, precision_score, fbeta_score, classification_report\n",
    "from sklearn.metrics import explained_variance_score, mean_absolute_error, r2_score, mean_squared_error\n",
    "from sklearn.model_selection import train_test_split    # For generating test/train\n",
    "from sklearn.linear_model import LinearRegression   # Logistic regression\n",
    "from sklearn.neighbors import KNeighborsClassifier\n",
    "from sklearn.linear_model import Ridge\n",
    "from sklearn.linear_model import LogisticRegression\n",
    "%matplotlib inline"
   ],
   "outputs": [],
   "metadata": {}
  },
  {
   "cell_type": "markdown",
   "source": [
    "## Global Variables and Initialization"
   ],
   "metadata": {}
  },
  {
   "cell_type": "code",
   "execution_count": 2,
   "source": [
    "dataDir = r\"./Data Files/\"  #Directory of all data\n",
    "today = date.today()  # Todays date\n",
    "rnd.seed(1024)"
   ],
   "outputs": [],
   "metadata": {}
  },
  {
   "cell_type": "markdown",
   "source": [
    "## Global Functions"
   ],
   "metadata": {}
  },
  {
   "cell_type": "code",
   "execution_count": 3,
   "source": [
    "# Function gets stock data and trend data if needed\n",
    "def get_data(ticker):\n",
    "    if os.path.exists(f\"{dataDir}{ticker}_{today}_year.csv\"):\n",
    "        #Get stored data\n",
    "        stored_data = pd.read_csv(f\"{dataDir}{ticker}_{today}_year.csv\")\n",
    "        # Get rid of index name\n",
    "        stored_data.set_index('Unnamed: 0', inplace=True)\n",
    "        stored_data.index.name = None\n",
    "        return stored_data\n",
    "    else:\n",
    "        #Get new data\n",
    "        # Connect to Google API\n",
    "        pytrends = TrendReq(hl='en-US', tz=360)\n",
    "        # Set Keyword\n",
    "        kw_list = [ticker]\n",
    "        # Google API only shows last 90 days so need to itirate\n",
    "        # Set start of interval\n",
    "        date90front = date.today()\n",
    "        # Initiate dataframe\n",
    "        trend_data = pd.DataFrame()\n",
    "        for x in range(4):\n",
    "            # Set start end of interval\n",
    "            date90back = date90front - timedelta(days=90)\n",
    "            # Build Payload of 90 days\n",
    "            pytrends.build_payload(kw_list,\n",
    "                                   timeframe=f'{date90back} {date90front}',\n",
    "                                   geo='')\n",
    "            trend_90 = pytrends.interest_over_time()\n",
    "            trend_data = pd.concat([trend_90, trend_data])\n",
    "            date90front = date90back\n",
    "        # Get Stock Data\n",
    "        stock_data = yf.download(ticker,\n",
    "                                 start=date.today() - timedelta(days=360),\n",
    "                                 end=date.today(), interval=\"1d\")\n",
    "        # Combine Data\n",
    "        new_data = stock_data.join(trend_data)\n",
    "        # Create index and add date column\n",
    "        new_data.reset_index(inplace=True)\n",
    "        new_data.rename(columns= {\"index\":\"Date\"}, inplace = True)\n",
    "        \n",
    "        # Rename search interest\n",
    "        new_data.rename(columns = {ticker: \"Search Interest\"},inplace = True)\n",
    "        # Add difference\n",
    "        new_data[\"Price Difference\"] = new_data[\"Close\"] - new_data[\"Open\"]\n",
    "        # Add truth value that determines if we want to buy or not that day\n",
    "        #new_data['Buy'] = np.where(new_data['Price Difference'] > 0, 1, 0)\n",
    "        # Delete isPartial\n",
    "        del new_data['isPartial']\n",
    "        # Delete Date\n",
    "        del new_data['Date']\n",
    "        # Remove NaN\n",
    "        new_data.dropna(inplace=True)  \n",
    "        # Export to data folder\n",
    "        new_data.to_csv(f\"{dataDir}{ticker}_{today}_year.csv\")\n",
    "        return new_data\n",
    "\n",
    "# Function prints metrics of regression model\n",
    "def PrintMetricsRegression(test, predictions):\n",
    "    print(f\"Score: {explained_variance_score(test, predictions):.2f}\")\n",
    "    print(f\"MAE: {mean_absolute_error(test, predictions):.2f}\")\n",
    "    print(f\"RMSE: {math.sqrt(mean_squared_error(test, predictions)):.2f}\")\n",
    "    print(f\"r2: {r2_score(test, predictions):.2f}\")\n",
    "\n",
    "# Function prints metrics of classification model\n",
    "def PrintMetricsClassiffication(test, predictions):\n",
    "    print(\"Confusion Matrix:\")\n",
    "    print(confusion_matrix(test, predictions))\n",
    "    print(\"------------------\")\n",
    "    print(f\"Accuracy: {accuracy_score(test, predictions):.2f}\")\n",
    "    print(f\"Recall: {recall_score(test, predictions):.2f}\")\n",
    "    print(f\"Prediction: {precision_score(test, predictions):.2f}\")\n",
    "    print(f\"f-measure: {fbeta_score(test, predictions, beta=1):.2f}\")\n",
    "    print(\"------------------\")\n",
    "    print(classification_report(test, predictions))\n",
    "\n",
    "\n",
    "# Functions gets random data for predictions\n",
    "def prepareDataForPredictions(X_df):\n",
    "    numElements = 3\n",
    "    amcStockPreparedData = []\n",
    "    for _ in range(numElements):\n",
    "        dict = {}\n",
    "        for column in X.columns:\n",
    "            min = 0  # assume min = 0\n",
    "            maxValue = round(max(X_df[column].values))\n",
    "            dict[column] = rnd.randint(min, maxValue)\n",
    "        amcStockPreparedData.append(dict)\n",
    "    return amcStockPreparedData\n",
    "\n",
    "# Create categorical dummies\n",
    "def createCategoricalDummies(dataFrame, categoryList):\n",
    "    return pd.get_dummies(dataFrame[categoryList], prefix_sep = \"::\", drop_first = True)"
   ],
   "outputs": [],
   "metadata": {}
  },
  {
   "cell_type": "markdown",
   "source": [
    "## Stock to Analyze"
   ],
   "metadata": {}
  },
  {
   "cell_type": "code",
   "execution_count": 4,
   "source": [
    "# Gets Data for last year\n",
    "StockSearch_df = get_data(\"AMC\")\n",
    "StockSearch_df"
   ],
   "outputs": [
    {
     "output_type": "execute_result",
     "data": {
      "text/plain": [
       "          Open       High        Low      Close  Adj Close     Volume  \\\n",
       "0     3.850000   4.250000   3.840000   4.150000   4.150000    6226600   \n",
       "1     4.070000   4.200000   3.950000   4.160000   4.160000    5489400   \n",
       "2     4.120000   4.340000   4.060000   4.120000   4.120000    3699100   \n",
       "3     4.080000   4.150000   3.950000   4.040000   4.040000    2584900   \n",
       "4     4.050000   4.200000   3.860000   4.110000   4.110000    4047100   \n",
       "..         ...        ...        ...        ...        ...        ...   \n",
       "244  32.200001  37.400002  32.139999  36.000000  36.000000  199584500   \n",
       "245  37.830002  38.549999  34.299999  34.959999  34.959999  126277200   \n",
       "246  32.950001  35.340000  31.150000  34.619999  34.619999  112891300   \n",
       "247  35.139999  44.389999  35.130001  43.090000  43.090000  167634800   \n",
       "248  41.799999  46.549999  40.110001  40.779999  40.779999  157655700   \n",
       "\n",
       "     Search Interest  Price Difference  \n",
       "0               39.0          0.300000  \n",
       "1               41.0          0.090000  \n",
       "2               38.0          0.000000  \n",
       "3               33.0         -0.040000  \n",
       "4               36.0          0.060000  \n",
       "..               ...               ...  \n",
       "244             22.0          3.799999  \n",
       "245             24.0         -2.870003  \n",
       "246             19.0          1.669998  \n",
       "247             21.0          7.950001  \n",
       "248             21.0         -1.020000  \n",
       "\n",
       "[249 rows x 8 columns]"
      ],
      "text/html": [
       "<div>\n",
       "<style scoped>\n",
       "    .dataframe tbody tr th:only-of-type {\n",
       "        vertical-align: middle;\n",
       "    }\n",
       "\n",
       "    .dataframe tbody tr th {\n",
       "        vertical-align: top;\n",
       "    }\n",
       "\n",
       "    .dataframe thead th {\n",
       "        text-align: right;\n",
       "    }\n",
       "</style>\n",
       "<table border=\"1\" class=\"dataframe\">\n",
       "  <thead>\n",
       "    <tr style=\"text-align: right;\">\n",
       "      <th></th>\n",
       "      <th>Open</th>\n",
       "      <th>High</th>\n",
       "      <th>Low</th>\n",
       "      <th>Close</th>\n",
       "      <th>Adj Close</th>\n",
       "      <th>Volume</th>\n",
       "      <th>Search Interest</th>\n",
       "      <th>Price Difference</th>\n",
       "    </tr>\n",
       "  </thead>\n",
       "  <tbody>\n",
       "    <tr>\n",
       "      <th>0</th>\n",
       "      <td>3.850000</td>\n",
       "      <td>4.250000</td>\n",
       "      <td>3.840000</td>\n",
       "      <td>4.150000</td>\n",
       "      <td>4.150000</td>\n",
       "      <td>6226600</td>\n",
       "      <td>39.0</td>\n",
       "      <td>0.300000</td>\n",
       "    </tr>\n",
       "    <tr>\n",
       "      <th>1</th>\n",
       "      <td>4.070000</td>\n",
       "      <td>4.200000</td>\n",
       "      <td>3.950000</td>\n",
       "      <td>4.160000</td>\n",
       "      <td>4.160000</td>\n",
       "      <td>5489400</td>\n",
       "      <td>41.0</td>\n",
       "      <td>0.090000</td>\n",
       "    </tr>\n",
       "    <tr>\n",
       "      <th>2</th>\n",
       "      <td>4.120000</td>\n",
       "      <td>4.340000</td>\n",
       "      <td>4.060000</td>\n",
       "      <td>4.120000</td>\n",
       "      <td>4.120000</td>\n",
       "      <td>3699100</td>\n",
       "      <td>38.0</td>\n",
       "      <td>0.000000</td>\n",
       "    </tr>\n",
       "    <tr>\n",
       "      <th>3</th>\n",
       "      <td>4.080000</td>\n",
       "      <td>4.150000</td>\n",
       "      <td>3.950000</td>\n",
       "      <td>4.040000</td>\n",
       "      <td>4.040000</td>\n",
       "      <td>2584900</td>\n",
       "      <td>33.0</td>\n",
       "      <td>-0.040000</td>\n",
       "    </tr>\n",
       "    <tr>\n",
       "      <th>4</th>\n",
       "      <td>4.050000</td>\n",
       "      <td>4.200000</td>\n",
       "      <td>3.860000</td>\n",
       "      <td>4.110000</td>\n",
       "      <td>4.110000</td>\n",
       "      <td>4047100</td>\n",
       "      <td>36.0</td>\n",
       "      <td>0.060000</td>\n",
       "    </tr>\n",
       "    <tr>\n",
       "      <th>...</th>\n",
       "      <td>...</td>\n",
       "      <td>...</td>\n",
       "      <td>...</td>\n",
       "      <td>...</td>\n",
       "      <td>...</td>\n",
       "      <td>...</td>\n",
       "      <td>...</td>\n",
       "      <td>...</td>\n",
       "    </tr>\n",
       "    <tr>\n",
       "      <th>244</th>\n",
       "      <td>32.200001</td>\n",
       "      <td>37.400002</td>\n",
       "      <td>32.139999</td>\n",
       "      <td>36.000000</td>\n",
       "      <td>36.000000</td>\n",
       "      <td>199584500</td>\n",
       "      <td>22.0</td>\n",
       "      <td>3.799999</td>\n",
       "    </tr>\n",
       "    <tr>\n",
       "      <th>245</th>\n",
       "      <td>37.830002</td>\n",
       "      <td>38.549999</td>\n",
       "      <td>34.299999</td>\n",
       "      <td>34.959999</td>\n",
       "      <td>34.959999</td>\n",
       "      <td>126277200</td>\n",
       "      <td>24.0</td>\n",
       "      <td>-2.870003</td>\n",
       "    </tr>\n",
       "    <tr>\n",
       "      <th>246</th>\n",
       "      <td>32.950001</td>\n",
       "      <td>35.340000</td>\n",
       "      <td>31.150000</td>\n",
       "      <td>34.619999</td>\n",
       "      <td>34.619999</td>\n",
       "      <td>112891300</td>\n",
       "      <td>19.0</td>\n",
       "      <td>1.669998</td>\n",
       "    </tr>\n",
       "    <tr>\n",
       "      <th>247</th>\n",
       "      <td>35.139999</td>\n",
       "      <td>44.389999</td>\n",
       "      <td>35.130001</td>\n",
       "      <td>43.090000</td>\n",
       "      <td>43.090000</td>\n",
       "      <td>167634800</td>\n",
       "      <td>21.0</td>\n",
       "      <td>7.950001</td>\n",
       "    </tr>\n",
       "    <tr>\n",
       "      <th>248</th>\n",
       "      <td>41.799999</td>\n",
       "      <td>46.549999</td>\n",
       "      <td>40.110001</td>\n",
       "      <td>40.779999</td>\n",
       "      <td>40.779999</td>\n",
       "      <td>157655700</td>\n",
       "      <td>21.0</td>\n",
       "      <td>-1.020000</td>\n",
       "    </tr>\n",
       "  </tbody>\n",
       "</table>\n",
       "<p>249 rows × 8 columns</p>\n",
       "</div>"
      ]
     },
     "metadata": {},
     "execution_count": 4
    }
   ],
   "metadata": {}
  },
  {
   "cell_type": "markdown",
   "source": [
    "## Analytics Model 1 w/ plots"
   ],
   "metadata": {}
  },
  {
   "cell_type": "code",
   "execution_count": 5,
   "source": [
    "featureColumns=['Search Interest', 'Open']\n",
    "targetColumn = 'Close'\n",
    "\n",
    "X=StockSearch_df[featureColumns]\n",
    "y=StockSearch_df[targetColumn]\n",
    "\n",
    "X_train, X_test, y_train, y_test = train_test_split(X, y, test_size=0.25, random_state=1)"
   ],
   "outputs": [],
   "metadata": {}
  },
  {
   "cell_type": "markdown",
   "source": [
    "# Create the regression"
   ],
   "metadata": {}
  },
  {
   "cell_type": "code",
   "execution_count": 6,
   "source": [
    "lr = LinearRegression()\n",
    "lr"
   ],
   "outputs": [
    {
     "output_type": "execute_result",
     "data": {
      "text/plain": [
       "LinearRegression()"
      ]
     },
     "metadata": {},
     "execution_count": 6
    }
   ],
   "metadata": {}
  },
  {
   "cell_type": "markdown",
   "source": [
    "# Fit Linear Model"
   ],
   "metadata": {}
  },
  {
   "cell_type": "code",
   "execution_count": 7,
   "source": [
    "lr.fit(X_train, y_train)"
   ],
   "outputs": [
    {
     "output_type": "execute_result",
     "data": {
      "text/plain": [
       "LinearRegression()"
      ]
     },
     "metadata": {},
     "execution_count": 7
    }
   ],
   "metadata": {}
  },
  {
   "cell_type": "markdown",
   "source": [
    "# Our Confidence in our model is high"
   ],
   "metadata": {}
  },
  {
   "cell_type": "code",
   "execution_count": 8,
   "source": [
    "lr.score(X_train, y_train) "
   ],
   "outputs": [
    {
     "output_type": "execute_result",
     "data": {
      "text/plain": [
       "0.9770443146493532"
      ]
     },
     "metadata": {},
     "execution_count": 8
    }
   ],
   "metadata": {}
  },
  {
   "cell_type": "code",
   "execution_count": 9,
   "source": [
    "lr.score(X_test, y_test) "
   ],
   "outputs": [
    {
     "output_type": "execute_result",
     "data": {
      "text/plain": [
       "0.985552486080631"
      ]
     },
     "metadata": {},
     "execution_count": 9
    }
   ],
   "metadata": {}
  },
  {
   "cell_type": "markdown",
   "source": [
    "lr.score(X_test, y_test) "
   ],
   "metadata": {}
  },
  {
   "cell_type": "markdown",
   "source": [
    "# Print the prediction believed accuracy using the model"
   ],
   "metadata": {}
  },
  {
   "cell_type": "code",
   "execution_count": 10,
   "source": [
    "predictions = lr.predict(X_test)\n",
    "PrintMetricsRegression(y_test, predictions)"
   ],
   "outputs": [
    {
     "output_type": "stream",
     "name": "stdout",
     "text": [
      "Score: 0.99\n",
      "MAE: 1.04\n",
      "RMSE: 2.15\n",
      "r2: 0.99\n"
     ]
    }
   ],
   "metadata": {}
  },
  {
   "cell_type": "markdown",
   "source": [
    "# Create new samples, to test our model"
   ],
   "metadata": {}
  },
  {
   "cell_type": "code",
   "execution_count": 11,
   "source": [
    "StockSearchPreparedData_df = prepareDataForPredictions(StockSearch_df)\n",
    "StockSearchPreparedData_df\n",
    "StockSearch_df"
   ],
   "outputs": [
    {
     "output_type": "execute_result",
     "data": {
      "text/plain": [
       "          Open       High        Low      Close  Adj Close     Volume  \\\n",
       "0     3.850000   4.250000   3.840000   4.150000   4.150000    6226600   \n",
       "1     4.070000   4.200000   3.950000   4.160000   4.160000    5489400   \n",
       "2     4.120000   4.340000   4.060000   4.120000   4.120000    3699100   \n",
       "3     4.080000   4.150000   3.950000   4.040000   4.040000    2584900   \n",
       "4     4.050000   4.200000   3.860000   4.110000   4.110000    4047100   \n",
       "..         ...        ...        ...        ...        ...        ...   \n",
       "244  32.200001  37.400002  32.139999  36.000000  36.000000  199584500   \n",
       "245  37.830002  38.549999  34.299999  34.959999  34.959999  126277200   \n",
       "246  32.950001  35.340000  31.150000  34.619999  34.619999  112891300   \n",
       "247  35.139999  44.389999  35.130001  43.090000  43.090000  167634800   \n",
       "248  41.799999  46.549999  40.110001  40.779999  40.779999  157655700   \n",
       "\n",
       "     Search Interest  Price Difference  \n",
       "0               39.0          0.300000  \n",
       "1               41.0          0.090000  \n",
       "2               38.0          0.000000  \n",
       "3               33.0         -0.040000  \n",
       "4               36.0          0.060000  \n",
       "..               ...               ...  \n",
       "244             22.0          3.799999  \n",
       "245             24.0         -2.870003  \n",
       "246             19.0          1.669998  \n",
       "247             21.0          7.950001  \n",
       "248             21.0         -1.020000  \n",
       "\n",
       "[249 rows x 8 columns]"
      ],
      "text/html": [
       "<div>\n",
       "<style scoped>\n",
       "    .dataframe tbody tr th:only-of-type {\n",
       "        vertical-align: middle;\n",
       "    }\n",
       "\n",
       "    .dataframe tbody tr th {\n",
       "        vertical-align: top;\n",
       "    }\n",
       "\n",
       "    .dataframe thead th {\n",
       "        text-align: right;\n",
       "    }\n",
       "</style>\n",
       "<table border=\"1\" class=\"dataframe\">\n",
       "  <thead>\n",
       "    <tr style=\"text-align: right;\">\n",
       "      <th></th>\n",
       "      <th>Open</th>\n",
       "      <th>High</th>\n",
       "      <th>Low</th>\n",
       "      <th>Close</th>\n",
       "      <th>Adj Close</th>\n",
       "      <th>Volume</th>\n",
       "      <th>Search Interest</th>\n",
       "      <th>Price Difference</th>\n",
       "    </tr>\n",
       "  </thead>\n",
       "  <tbody>\n",
       "    <tr>\n",
       "      <th>0</th>\n",
       "      <td>3.850000</td>\n",
       "      <td>4.250000</td>\n",
       "      <td>3.840000</td>\n",
       "      <td>4.150000</td>\n",
       "      <td>4.150000</td>\n",
       "      <td>6226600</td>\n",
       "      <td>39.0</td>\n",
       "      <td>0.300000</td>\n",
       "    </tr>\n",
       "    <tr>\n",
       "      <th>1</th>\n",
       "      <td>4.070000</td>\n",
       "      <td>4.200000</td>\n",
       "      <td>3.950000</td>\n",
       "      <td>4.160000</td>\n",
       "      <td>4.160000</td>\n",
       "      <td>5489400</td>\n",
       "      <td>41.0</td>\n",
       "      <td>0.090000</td>\n",
       "    </tr>\n",
       "    <tr>\n",
       "      <th>2</th>\n",
       "      <td>4.120000</td>\n",
       "      <td>4.340000</td>\n",
       "      <td>4.060000</td>\n",
       "      <td>4.120000</td>\n",
       "      <td>4.120000</td>\n",
       "      <td>3699100</td>\n",
       "      <td>38.0</td>\n",
       "      <td>0.000000</td>\n",
       "    </tr>\n",
       "    <tr>\n",
       "      <th>3</th>\n",
       "      <td>4.080000</td>\n",
       "      <td>4.150000</td>\n",
       "      <td>3.950000</td>\n",
       "      <td>4.040000</td>\n",
       "      <td>4.040000</td>\n",
       "      <td>2584900</td>\n",
       "      <td>33.0</td>\n",
       "      <td>-0.040000</td>\n",
       "    </tr>\n",
       "    <tr>\n",
       "      <th>4</th>\n",
       "      <td>4.050000</td>\n",
       "      <td>4.200000</td>\n",
       "      <td>3.860000</td>\n",
       "      <td>4.110000</td>\n",
       "      <td>4.110000</td>\n",
       "      <td>4047100</td>\n",
       "      <td>36.0</td>\n",
       "      <td>0.060000</td>\n",
       "    </tr>\n",
       "    <tr>\n",
       "      <th>...</th>\n",
       "      <td>...</td>\n",
       "      <td>...</td>\n",
       "      <td>...</td>\n",
       "      <td>...</td>\n",
       "      <td>...</td>\n",
       "      <td>...</td>\n",
       "      <td>...</td>\n",
       "      <td>...</td>\n",
       "    </tr>\n",
       "    <tr>\n",
       "      <th>244</th>\n",
       "      <td>32.200001</td>\n",
       "      <td>37.400002</td>\n",
       "      <td>32.139999</td>\n",
       "      <td>36.000000</td>\n",
       "      <td>36.000000</td>\n",
       "      <td>199584500</td>\n",
       "      <td>22.0</td>\n",
       "      <td>3.799999</td>\n",
       "    </tr>\n",
       "    <tr>\n",
       "      <th>245</th>\n",
       "      <td>37.830002</td>\n",
       "      <td>38.549999</td>\n",
       "      <td>34.299999</td>\n",
       "      <td>34.959999</td>\n",
       "      <td>34.959999</td>\n",
       "      <td>126277200</td>\n",
       "      <td>24.0</td>\n",
       "      <td>-2.870003</td>\n",
       "    </tr>\n",
       "    <tr>\n",
       "      <th>246</th>\n",
       "      <td>32.950001</td>\n",
       "      <td>35.340000</td>\n",
       "      <td>31.150000</td>\n",
       "      <td>34.619999</td>\n",
       "      <td>34.619999</td>\n",
       "      <td>112891300</td>\n",
       "      <td>19.0</td>\n",
       "      <td>1.669998</td>\n",
       "    </tr>\n",
       "    <tr>\n",
       "      <th>247</th>\n",
       "      <td>35.139999</td>\n",
       "      <td>44.389999</td>\n",
       "      <td>35.130001</td>\n",
       "      <td>43.090000</td>\n",
       "      <td>43.090000</td>\n",
       "      <td>167634800</td>\n",
       "      <td>21.0</td>\n",
       "      <td>7.950001</td>\n",
       "    </tr>\n",
       "    <tr>\n",
       "      <th>248</th>\n",
       "      <td>41.799999</td>\n",
       "      <td>46.549999</td>\n",
       "      <td>40.110001</td>\n",
       "      <td>40.779999</td>\n",
       "      <td>40.779999</td>\n",
       "      <td>157655700</td>\n",
       "      <td>21.0</td>\n",
       "      <td>-1.020000</td>\n",
       "    </tr>\n",
       "  </tbody>\n",
       "</table>\n",
       "<p>249 rows × 8 columns</p>\n",
       "</div>"
      ]
     },
     "metadata": {},
     "execution_count": 11
    }
   ],
   "metadata": {}
  },
  {
   "cell_type": "markdown",
   "source": [
    "# Prepare the predictions for consumption"
   ],
   "metadata": {}
  },
  {
   "cell_type": "code",
   "execution_count": 12,
   "source": [
    "StockSearchPrepared_df = pd.DataFrame.from_dict(StockSearchPreparedData_df)\n",
    "StockSearchPrepared_df"
   ],
   "outputs": [
    {
     "output_type": "execute_result",
     "data": {
      "text/plain": [
       "   Search Interest  Open\n",
       "0                2    30\n",
       "1               49    20\n",
       "2               66     6"
      ],
      "text/html": [
       "<div>\n",
       "<style scoped>\n",
       "    .dataframe tbody tr th:only-of-type {\n",
       "        vertical-align: middle;\n",
       "    }\n",
       "\n",
       "    .dataframe tbody tr th {\n",
       "        vertical-align: top;\n",
       "    }\n",
       "\n",
       "    .dataframe thead th {\n",
       "        text-align: right;\n",
       "    }\n",
       "</style>\n",
       "<table border=\"1\" class=\"dataframe\">\n",
       "  <thead>\n",
       "    <tr style=\"text-align: right;\">\n",
       "      <th></th>\n",
       "      <th>Search Interest</th>\n",
       "      <th>Open</th>\n",
       "    </tr>\n",
       "  </thead>\n",
       "  <tbody>\n",
       "    <tr>\n",
       "      <th>0</th>\n",
       "      <td>2</td>\n",
       "      <td>30</td>\n",
       "    </tr>\n",
       "    <tr>\n",
       "      <th>1</th>\n",
       "      <td>49</td>\n",
       "      <td>20</td>\n",
       "    </tr>\n",
       "    <tr>\n",
       "      <th>2</th>\n",
       "      <td>66</td>\n",
       "      <td>6</td>\n",
       "    </tr>\n",
       "  </tbody>\n",
       "</table>\n",
       "</div>"
      ]
     },
     "metadata": {},
     "execution_count": 12
    }
   ],
   "metadata": {}
  },
  {
   "cell_type": "markdown",
   "source": [
    "# Predict what the close price will be"
   ],
   "metadata": {}
  },
  {
   "cell_type": "code",
   "execution_count": 13,
   "source": [
    "predictions = lr.predict(StockSearchPrepared_df)\n",
    "predictions"
   ],
   "outputs": [
    {
     "output_type": "execute_result",
     "data": {
      "text/plain": [
       "array([29.85626693, 19.98876756,  6.05244282])"
      ]
     },
     "metadata": {},
     "execution_count": 13
    }
   ],
   "metadata": {}
  },
  {
   "cell_type": "markdown",
   "source": [
    "# Make it pretty"
   ],
   "metadata": {}
  },
  {
   "cell_type": "code",
   "execution_count": 14,
   "source": [
    "StockSearchPredicted = StockSearchPrepared_df.copy()\n",
    "StockSearchPredicted['Price Prediction'] = predictions\n",
    "StockSearchPredicted"
   ],
   "outputs": [
    {
     "output_type": "execute_result",
     "data": {
      "text/plain": [
       "   Search Interest  Open  Price Prediction\n",
       "0                2    30         29.856267\n",
       "1               49    20         19.988768\n",
       "2               66     6          6.052443"
      ],
      "text/html": [
       "<div>\n",
       "<style scoped>\n",
       "    .dataframe tbody tr th:only-of-type {\n",
       "        vertical-align: middle;\n",
       "    }\n",
       "\n",
       "    .dataframe tbody tr th {\n",
       "        vertical-align: top;\n",
       "    }\n",
       "\n",
       "    .dataframe thead th {\n",
       "        text-align: right;\n",
       "    }\n",
       "</style>\n",
       "<table border=\"1\" class=\"dataframe\">\n",
       "  <thead>\n",
       "    <tr style=\"text-align: right;\">\n",
       "      <th></th>\n",
       "      <th>Search Interest</th>\n",
       "      <th>Open</th>\n",
       "      <th>Price Prediction</th>\n",
       "    </tr>\n",
       "  </thead>\n",
       "  <tbody>\n",
       "    <tr>\n",
       "      <th>0</th>\n",
       "      <td>2</td>\n",
       "      <td>30</td>\n",
       "      <td>29.856267</td>\n",
       "    </tr>\n",
       "    <tr>\n",
       "      <th>1</th>\n",
       "      <td>49</td>\n",
       "      <td>20</td>\n",
       "      <td>19.988768</td>\n",
       "    </tr>\n",
       "    <tr>\n",
       "      <th>2</th>\n",
       "      <td>66</td>\n",
       "      <td>6</td>\n",
       "      <td>6.052443</td>\n",
       "    </tr>\n",
       "  </tbody>\n",
       "</table>\n",
       "</div>"
      ]
     },
     "metadata": {},
     "execution_count": 14
    }
   ],
   "metadata": {}
  },
  {
   "cell_type": "markdown",
   "source": [
    "## Analytics Model 2 w/ Plots"
   ],
   "metadata": {}
  },
  {
   "cell_type": "code",
   "execution_count": null,
   "source": [],
   "outputs": [],
   "metadata": {}
  },
  {
   "cell_type": "code",
   "execution_count": null,
   "source": [],
   "outputs": [],
   "metadata": {}
  },
  {
   "cell_type": "markdown",
   "source": [
    "## Conclusion"
   ],
   "metadata": {}
  },
  {
   "cell_type": "markdown",
   "source": [
    "You shoud {buy/sell} with this {##%} confidence"
   ],
   "metadata": {}
  }
 ],
 "metadata": {
  "kernelspec": {
   "name": "python3",
   "display_name": "Python 3.9.4 64-bit"
  },
  "language_info": {
   "codemirror_mode": {
    "name": "ipython",
    "version": 3
   },
   "file_extension": ".py",
   "mimetype": "text/x-python",
   "name": "python",
   "nbconvert_exporter": "python",
   "pygments_lexer": "ipython3",
   "version": "3.9.4"
  },
  "interpreter": {
   "hash": "aee8b7b246df8f9039afb4144a1f6fd8d2ca17a180786b69acc140d282b71a49"
  }
 },
 "nbformat": 4,
 "nbformat_minor": 5
}