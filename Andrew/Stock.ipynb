import yfinance as yf

tickerSymbol = 'GME'
tickerData = yf.Ticker(tickerSymbol)

#get the historical prices for this ticker
tickerDf = tickerData.history(period='1d', start='2020-1-1', end='2020-6-15')

tickerDf
