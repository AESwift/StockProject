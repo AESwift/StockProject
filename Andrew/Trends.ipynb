

#install pytrends
pip install pytrends



from pytrends.request import TrendReq

#make a pytrends object to request Google Trends data
pytrends = TrendReq(hl='en-US')     
                
#extract data about weekly searches of certain keywords
keywords = ["amc stock", "dogecoin", "gamestop stock",]
pytrends.build_payload(keywords, timeframe='today 1-y')

#store kewords data
data = pytrends.interest_over_time()
data = data.drop('isPartial', axis=1)

data.tail()
