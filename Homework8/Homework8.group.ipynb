{
 "cells": [
  {
   "cell_type": "markdown",
   "source": [
    "## Purpose\n",
    "\n",
    "We are looking to see if there is any correlation to google search interest with stock price changes.  In this data set we have a pulled a number from google between 0 - 100.  At 0 it means that there was little to no traffic compared to normal operation.  At 100 it means that the search traffic for that day was extremely high.\n",
    "\n",
    "First I will dig in to see if search interest and the price it opens at can predict the close price of the day.\n"
   ],
   "metadata": {
    "collapsed": true,
    "pycharm": {
     "name": "#%% md\n"
    }
   }
  },
  {
   "cell_type": "markdown",
   "source": [
    "# Imports"
   ],
   "metadata": {}
  },
  {
   "cell_type": "code",
   "execution_count": 1,
   "source": [
    "import yfinance as yf\n",
    "import pandas as pd\n",
    "from pytrends.request import TrendReq\n",
    "from sklearn.model_selection import train_test_split\n",
    "from sklearn.linear_model import LinearRegression\n",
    "import random as rnd\n",
    "import numpy as np\n",
    "\n",
    "import math \n",
    "from sklearn.metrics import explained_variance_score, mean_absolute_error, r2_score, mean_squared_error\n",
    "\n",
    "rnd.seed(1024)"
   ],
   "outputs": [],
   "metadata": {}
  },
  {
   "cell_type": "markdown",
   "source": [
    "# Common methods"
   ],
   "metadata": {}
  },
  {
   "cell_type": "code",
   "execution_count": 2,
   "source": [
    "def printMetrics(test, predictions):\n",
    "    print(f\"Score: {explained_variance_score(test, predictions):.2f}\")\n",
    "    print(f\"MAE: {mean_absolute_error(test, predictions):.2f}\")\n",
    "    print(f\"RMSE: {math.sqrt(mean_squared_error(test, predictions)):.2f}\")\n",
    "    print(f\"r2: {r2_score(test, predictions):.2f}\")\n",
    "\n",
    "def prepareDataForPredictions(amcDataFrame):\n",
    "    numElements = 3\n",
    "    amcStockPreparedData = []\n",
    "    for _ in range(numElements):\n",
    "        dict = {}\n",
    "        for column in X.columns:\n",
    "            min = 0  # assume min = 0\n",
    "            maxValue = round(max(amcDataFrame[column].values))\n",
    "            dict[column] = rnd.randint(min, maxValue)\n",
    "        amcStockPreparedData.append(dict)\n",
    "    return amcStockPreparedData"
   ],
   "outputs": [],
   "metadata": {}
  },
  {
   "cell_type": "markdown",
   "source": [
    "# Pull in prepared data for AMC stock: January 1 - June 30"
   ],
   "metadata": {}
  },
  {
   "cell_type": "code",
   "execution_count": 3,
   "source": [
    "amcMergedDataFrame = pd.read_csv('AMCDataClean.zip')  \n",
    "amcMergedDataFrame\n",
    "\n",
    "\n",
    "#pytrends = TrendReq(hl='en-US', tz=360)\n",
    "#keywords = [\"AMC\"] \n",
    "#pytrends.build_payload(keywords, timeframe='2021-01-01 2021-06-30', geo='US')\n",
    "#amcSearchResults = pytrends.interest_over_time()\n",
    "\n",
    "#amcSearchResults = amcSearchResults.rename(columns={'AMC': 'Search Interest'})\n",
    "#amcSearchResults\n",
    "\n",
    "#amcStockInfo = yf.download(\"AMC\", start=\"2021-01-01\", end=\"2021-06-30\", interval=\"1d\")\n",
    "#amcStockInfo.shape\n",
    "\n",
    "#amcStockInfo[\"Amount Changed\"] = amcStockInfo[\"Open\"] - amcStockInfo[\"Close\"]\n",
    "#amcStockInfo[\"Days Spread\"] = amcStockInfo[\"High\"] - amcStockInfo[\"Low\"]\n",
    "\n",
    "#amcMergedDataFrame = amcSearchResults.merge(amcStockInfo, how='inner', left_index=True, right_index=True)\n",
    "\n",
    "#averageSearchInterest = amcMergedDataFrame['Search Interest'].mean()\n",
    "#amcMergedDataFrame[\"Search Interest Above Avg\"] = np.where(amcMergedDataFrame[\"Search Interest\"] > averageSearchInterest, True, False)\n",
    "#amcMergedDataFrame = amcMergedDataFrame.drop(columns=['Adj Close', 'High', 'Low', 'isPartial'])\n",
    "#amcMergedDataFrame"
   ],
   "outputs": [
    {
     "output_type": "execute_result",
     "data": {
      "text/plain": [
       "     Search Interest       Open      Close     Volume  Amount Changed  \\\n",
       "0                  2   2.200000   2.010000   29873800        0.190000   \n",
       "1                  3   1.990000   1.980000   28148300        0.010000   \n",
       "2                  2   2.030000   2.010000   67363300        0.020000   \n",
       "3                  2   2.080000   2.050000   26150500        0.030000   \n",
       "4                  3   2.090000   2.140000   39553300       -0.050000   \n",
       "..               ...        ...        ...        ...             ...   \n",
       "118               17  57.040001  58.299999  116291800       -1.259998   \n",
       "119               16  57.980000  56.700001   80351200        1.279999   \n",
       "120               19  55.750000  54.060001   77596900        1.689999   \n",
       "121               16  55.099998  58.110001   99310200       -3.010002   \n",
       "122               16  59.060001  56.430000   63604100        2.630001   \n",
       "\n",
       "     Days Spread  Price Increase  Search Interest Above Avg  \n",
       "0       0.200000               1                          0  \n",
       "1       0.120000               1                          0  \n",
       "2       0.260000               1                          0  \n",
       "3       0.090000               1                          0  \n",
       "4       0.140000               0                          0  \n",
       "..           ...             ...                        ...  \n",
       "118     4.299999               0                          1  \n",
       "119     3.099998               1                          1  \n",
       "120     3.320000               1                          1  \n",
       "121     5.029999               0                          1  \n",
       "122     4.820000               1                          1  \n",
       "\n",
       "[123 rows x 8 columns]"
      ],
      "text/html": [
       "<div>\n",
       "<style scoped>\n",
       "    .dataframe tbody tr th:only-of-type {\n",
       "        vertical-align: middle;\n",
       "    }\n",
       "\n",
       "    .dataframe tbody tr th {\n",
       "        vertical-align: top;\n",
       "    }\n",
       "\n",
       "    .dataframe thead th {\n",
       "        text-align: right;\n",
       "    }\n",
       "</style>\n",
       "<table border=\"1\" class=\"dataframe\">\n",
       "  <thead>\n",
       "    <tr style=\"text-align: right;\">\n",
       "      <th></th>\n",
       "      <th>Search Interest</th>\n",
       "      <th>Open</th>\n",
       "      <th>Close</th>\n",
       "      <th>Volume</th>\n",
       "      <th>Amount Changed</th>\n",
       "      <th>Days Spread</th>\n",
       "      <th>Price Increase</th>\n",
       "      <th>Search Interest Above Avg</th>\n",
       "    </tr>\n",
       "  </thead>\n",
       "  <tbody>\n",
       "    <tr>\n",
       "      <th>0</th>\n",
       "      <td>2</td>\n",
       "      <td>2.200000</td>\n",
       "      <td>2.010000</td>\n",
       "      <td>29873800</td>\n",
       "      <td>0.190000</td>\n",
       "      <td>0.200000</td>\n",
       "      <td>1</td>\n",
       "      <td>0</td>\n",
       "    </tr>\n",
       "    <tr>\n",
       "      <th>1</th>\n",
       "      <td>3</td>\n",
       "      <td>1.990000</td>\n",
       "      <td>1.980000</td>\n",
       "      <td>28148300</td>\n",
       "      <td>0.010000</td>\n",
       "      <td>0.120000</td>\n",
       "      <td>1</td>\n",
       "      <td>0</td>\n",
       "    </tr>\n",
       "    <tr>\n",
       "      <th>2</th>\n",
       "      <td>2</td>\n",
       "      <td>2.030000</td>\n",
       "      <td>2.010000</td>\n",
       "      <td>67363300</td>\n",
       "      <td>0.020000</td>\n",
       "      <td>0.260000</td>\n",
       "      <td>1</td>\n",
       "      <td>0</td>\n",
       "    </tr>\n",
       "    <tr>\n",
       "      <th>3</th>\n",
       "      <td>2</td>\n",
       "      <td>2.080000</td>\n",
       "      <td>2.050000</td>\n",
       "      <td>26150500</td>\n",
       "      <td>0.030000</td>\n",
       "      <td>0.090000</td>\n",
       "      <td>1</td>\n",
       "      <td>0</td>\n",
       "    </tr>\n",
       "    <tr>\n",
       "      <th>4</th>\n",
       "      <td>3</td>\n",
       "      <td>2.090000</td>\n",
       "      <td>2.140000</td>\n",
       "      <td>39553300</td>\n",
       "      <td>-0.050000</td>\n",
       "      <td>0.140000</td>\n",
       "      <td>0</td>\n",
       "      <td>0</td>\n",
       "    </tr>\n",
       "    <tr>\n",
       "      <th>...</th>\n",
       "      <td>...</td>\n",
       "      <td>...</td>\n",
       "      <td>...</td>\n",
       "      <td>...</td>\n",
       "      <td>...</td>\n",
       "      <td>...</td>\n",
       "      <td>...</td>\n",
       "      <td>...</td>\n",
       "    </tr>\n",
       "    <tr>\n",
       "      <th>118</th>\n",
       "      <td>17</td>\n",
       "      <td>57.040001</td>\n",
       "      <td>58.299999</td>\n",
       "      <td>116291800</td>\n",
       "      <td>-1.259998</td>\n",
       "      <td>4.299999</td>\n",
       "      <td>0</td>\n",
       "      <td>1</td>\n",
       "    </tr>\n",
       "    <tr>\n",
       "      <th>119</th>\n",
       "      <td>16</td>\n",
       "      <td>57.980000</td>\n",
       "      <td>56.700001</td>\n",
       "      <td>80351200</td>\n",
       "      <td>1.279999</td>\n",
       "      <td>3.099998</td>\n",
       "      <td>1</td>\n",
       "      <td>1</td>\n",
       "    </tr>\n",
       "    <tr>\n",
       "      <th>120</th>\n",
       "      <td>19</td>\n",
       "      <td>55.750000</td>\n",
       "      <td>54.060001</td>\n",
       "      <td>77596900</td>\n",
       "      <td>1.689999</td>\n",
       "      <td>3.320000</td>\n",
       "      <td>1</td>\n",
       "      <td>1</td>\n",
       "    </tr>\n",
       "    <tr>\n",
       "      <th>121</th>\n",
       "      <td>16</td>\n",
       "      <td>55.099998</td>\n",
       "      <td>58.110001</td>\n",
       "      <td>99310200</td>\n",
       "      <td>-3.010002</td>\n",
       "      <td>5.029999</td>\n",
       "      <td>0</td>\n",
       "      <td>1</td>\n",
       "    </tr>\n",
       "    <tr>\n",
       "      <th>122</th>\n",
       "      <td>16</td>\n",
       "      <td>59.060001</td>\n",
       "      <td>56.430000</td>\n",
       "      <td>63604100</td>\n",
       "      <td>2.630001</td>\n",
       "      <td>4.820000</td>\n",
       "      <td>1</td>\n",
       "      <td>1</td>\n",
       "    </tr>\n",
       "  </tbody>\n",
       "</table>\n",
       "<p>123 rows × 8 columns</p>\n",
       "</div>"
      ]
     },
     "metadata": {},
     "execution_count": 3
    }
   ],
   "metadata": {}
  },
  {
   "cell_type": "markdown",
   "source": [
    "# Linear Regression Setup"
   ],
   "metadata": {}
  },
  {
   "cell_type": "code",
   "execution_count": 4,
   "source": [
    "featureColumns=['Search Interest', 'Open']\n",
    "targetColumn = 'Close'\n",
    "\n",
    "X=amcMergedDataFrame[featureColumns]\n",
    "y=amcMergedDataFrame[targetColumn]\n",
    "\n",
    "X_train, X_test, y_train, y_test = train_test_split(X, y, test_size=0.25, random_state=1)"
   ],
   "outputs": [],
   "metadata": {}
  },
  {
   "cell_type": "markdown",
   "source": [
    "# Create the regression"
   ],
   "metadata": {}
  },
  {
   "cell_type": "code",
   "execution_count": 5,
   "source": [
    "lr = LinearRegression()\n",
    "lr"
   ],
   "outputs": [
    {
     "output_type": "execute_result",
     "data": {
      "text/plain": [
       "LinearRegression()"
      ]
     },
     "metadata": {},
     "execution_count": 5
    }
   ],
   "metadata": {}
  },
  {
   "cell_type": "markdown",
   "source": [
    "# Fit Linear Model"
   ],
   "metadata": {}
  },
  {
   "cell_type": "code",
   "execution_count": 6,
   "source": [
    "lr.fit(X_train, y_train)"
   ],
   "outputs": [
    {
     "output_type": "execute_result",
     "data": {
      "text/plain": [
       "LinearRegression()"
      ]
     },
     "metadata": {},
     "execution_count": 6
    }
   ],
   "metadata": {}
  },
  {
   "cell_type": "markdown",
   "source": [
    "# How confident are we in our model?"
   ],
   "metadata": {}
  },
  {
   "cell_type": "code",
   "execution_count": 7,
   "source": [
    "lr.score(X_train, y_train) "
   ],
   "outputs": [
    {
     "output_type": "execute_result",
     "data": {
      "text/plain": [
       "0.9691667374025036"
      ]
     },
     "metadata": {},
     "execution_count": 7
    }
   ],
   "metadata": {}
  },
  {
   "cell_type": "code",
   "execution_count": 8,
   "source": [
    "lr.score(X_test, y_test) "
   ],
   "outputs": [
    {
     "output_type": "execute_result",
     "data": {
      "text/plain": [
       "0.9709538923793088"
      ]
     },
     "metadata": {},
     "execution_count": 8
    }
   ],
   "metadata": {}
  },
  {
   "cell_type": "markdown",
   "source": [
    "# Print the prediction believed accuracy using the model"
   ],
   "metadata": {}
  },
  {
   "cell_type": "code",
   "execution_count": 9,
   "source": [
    "predictions = lr.predict(X_test)\n",
    "printMetrics(y_test, predictions)"
   ],
   "outputs": [
    {
     "output_type": "stream",
     "name": "stdout",
     "text": [
      "Score: 0.97\n",
      "MAE: 1.91\n",
      "RMSE: 3.13\n",
      "r2: 0.97\n"
     ]
    }
   ],
   "metadata": {}
  },
  {
   "cell_type": "markdown",
   "source": [
    "# Create new samples, to test our model"
   ],
   "metadata": {}
  },
  {
   "cell_type": "code",
   "execution_count": 16,
   "source": [
    "amcStockPreparedData = prepareDataForPredictions(amcMergedDataFrame)\n"
   ],
   "outputs": [],
   "metadata": {}
  },
  {
   "cell_type": "markdown",
   "source": [
    "# Prepare the predictions for consumption"
   ],
   "metadata": {}
  },
  {
   "cell_type": "code",
   "execution_count": 11,
   "source": [
    "amcPreparedData = pd.DataFrame.from_dict(amcStockPreparedData)\n",
    "amcPreparedData"
   ],
   "outputs": [
    {
     "output_type": "execute_result",
     "data": {
      "text/plain": [
       "   Search Interest  Open\n",
       "0                2    30\n",
       "1               49    20\n",
       "2               66     6"
      ],
      "text/html": [
       "<div>\n",
       "<style scoped>\n",
       "    .dataframe tbody tr th:only-of-type {\n",
       "        vertical-align: middle;\n",
       "    }\n",
       "\n",
       "    .dataframe tbody tr th {\n",
       "        vertical-align: top;\n",
       "    }\n",
       "\n",
       "    .dataframe thead th {\n",
       "        text-align: right;\n",
       "    }\n",
       "</style>\n",
       "<table border=\"1\" class=\"dataframe\">\n",
       "  <thead>\n",
       "    <tr style=\"text-align: right;\">\n",
       "      <th></th>\n",
       "      <th>Search Interest</th>\n",
       "      <th>Open</th>\n",
       "    </tr>\n",
       "  </thead>\n",
       "  <tbody>\n",
       "    <tr>\n",
       "      <th>0</th>\n",
       "      <td>2</td>\n",
       "      <td>30</td>\n",
       "    </tr>\n",
       "    <tr>\n",
       "      <th>1</th>\n",
       "      <td>49</td>\n",
       "      <td>20</td>\n",
       "    </tr>\n",
       "    <tr>\n",
       "      <th>2</th>\n",
       "      <td>66</td>\n",
       "      <td>6</td>\n",
       "    </tr>\n",
       "  </tbody>\n",
       "</table>\n",
       "</div>"
      ]
     },
     "metadata": {},
     "execution_count": 11
    }
   ],
   "metadata": {}
  },
  {
   "cell_type": "markdown",
   "source": [
    "# Predict what the close price will be"
   ],
   "metadata": {}
  },
  {
   "cell_type": "code",
   "execution_count": 12,
   "source": [
    "predictions = lr.predict(amcPreparedData)\n",
    "predictions"
   ],
   "outputs": [
    {
     "output_type": "execute_result",
     "data": {
      "text/plain": [
       "array([29.84559392, 22.07508896,  8.74029546])"
      ]
     },
     "metadata": {},
     "execution_count": 12
    }
   ],
   "metadata": {}
  },
  {
   "cell_type": "markdown",
   "source": [
    "# Make it pretty"
   ],
   "metadata": {}
  },
  {
   "cell_type": "code",
   "execution_count": 13,
   "source": [
    "amcPredictedPrice = amcPreparedData.copy()\n",
    "amcPredictedPrice['Price Prediction'] = predictions\n",
    "amcPredictedPrice"
   ],
   "outputs": [
    {
     "output_type": "execute_result",
     "data": {
      "text/plain": [
       "   Search Interest  Open  Price Prediction\n",
       "0                2    30         29.845594\n",
       "1               49    20         22.075089\n",
       "2               66     6          8.740295"
      ],
      "text/html": [
       "<div>\n",
       "<style scoped>\n",
       "    .dataframe tbody tr th:only-of-type {\n",
       "        vertical-align: middle;\n",
       "    }\n",
       "\n",
       "    .dataframe tbody tr th {\n",
       "        vertical-align: top;\n",
       "    }\n",
       "\n",
       "    .dataframe thead th {\n",
       "        text-align: right;\n",
       "    }\n",
       "</style>\n",
       "<table border=\"1\" class=\"dataframe\">\n",
       "  <thead>\n",
       "    <tr style=\"text-align: right;\">\n",
       "      <th></th>\n",
       "      <th>Search Interest</th>\n",
       "      <th>Open</th>\n",
       "      <th>Price Prediction</th>\n",
       "    </tr>\n",
       "  </thead>\n",
       "  <tbody>\n",
       "    <tr>\n",
       "      <th>0</th>\n",
       "      <td>2</td>\n",
       "      <td>30</td>\n",
       "      <td>29.845594</td>\n",
       "    </tr>\n",
       "    <tr>\n",
       "      <th>1</th>\n",
       "      <td>49</td>\n",
       "      <td>20</td>\n",
       "      <td>22.075089</td>\n",
       "    </tr>\n",
       "    <tr>\n",
       "      <th>2</th>\n",
       "      <td>66</td>\n",
       "      <td>6</td>\n",
       "      <td>8.740295</td>\n",
       "    </tr>\n",
       "  </tbody>\n",
       "</table>\n",
       "</div>"
      ]
     },
     "metadata": {},
     "execution_count": 13
    }
   ],
   "metadata": {}
  },
  {
   "cell_type": "markdown",
   "source": [
    "# Conclusion\n",
    "\n",
    "The linear regression model worked very well.  From the looks of it I was able to predict with extremely high accuracy what the close price would be for a stock based on the opening price, and search interest for the day.  Although in the real world this would be hard to get as search interest and the price changes are happening at the same time.  In my second model using logistical regression, I am not as confident with its prediction.  I tried to look from the other side to see if I could predict the search interest based on open and closed prices of AMC per day.  I felt like this would be interesting if it would conclude that search interest is high only when the stock is doing well.  This did not prove out as being a trend, but the again the accuracy of the model was high."
   ],
   "metadata": {}
  }
 ],
 "metadata": {
  "kernelspec": {
   "name": "python3",
   "display_name": "Python 3.9.4 64-bit"
  },
  "language_info": {
   "name": "python",
   "version": "3.9.4",
   "mimetype": "text/x-python",
   "codemirror_mode": {
    "name": "ipython",
    "version": 3
   },
   "pygments_lexer": "ipython3",
   "nbconvert_exporter": "python",
   "file_extension": ".py"
  },
  "interpreter": {
   "hash": "aee8b7b246df8f9039afb4144a1f6fd8d2ca17a180786b69acc140d282b71a49"
  }
 },
 "nbformat": 4,
 "nbformat_minor": 2
}