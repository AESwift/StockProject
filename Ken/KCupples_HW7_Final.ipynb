{
 "cells": [
  {
   "cell_type": "markdown",
   "id": "862a16b6-2301-4438-8350-28c1d7a342fc",
   "metadata": {},
   "source": [
    "Purpose\n",
    "\n",
    "The purpose of this notebook is to provide practice with scikitlearn using both linear regression and logistical regressional models.  In this example, Applestock is used to determine if there is a correlation between google search interest about Applestock and the price the stock itself."
   ]
  },
  {
   "cell_type": "markdown",
   "id": "bccede16-c85b-4491-889d-121232dda330",
   "metadata": {},
   "source": [
    "Imports"
   ]
  },
  {
   "cell_type": "code",
   "execution_count": 1,
   "id": "4324318f-02a1-4510-af8c-4c447fadaffc",
   "metadata": {},
   "outputs": [],
   "source": [
    "import random as rnd\n",
    "rnd.seed(1024)\n",
    "import math\n",
    "import pandas as pd\n",
    "from pytrends.request import TrendReq\n",
    "from sklearn.model_selection import train_test_split\n",
    "from sklearn.linear_model import LinearRegression\n",
    "from sklearn.linear_model import LogisticRegression\n",
    "from sklearn.metrics import confusion_matrix\n",
    "from sklearn.metrics import accuracy_score, recall_score, precision_score, fbeta_score, classification_report\n",
    "from sklearn.metrics import explained_variance_score, mean_absolute_error, r2_score, mean_squared_error"
   ]
  },
  {
   "cell_type": "markdown",
   "id": "cc989a93-7526-47af-8a4b-c90aecd91da2",
   "metadata": {},
   "source": [
    "Helper Functions"
   ]
  },
  {
   "cell_type": "code",
   "execution_count": 2,
   "id": "b27ea106-3c86-440d-bf6d-e5638a1c7564",
   "metadata": {},
   "outputs": [],
   "source": [
    "def createCategoricalDummies(dataFrame, categoryList):\n",
    "    return pd.get_dummies(dataFrame[categoryList], prefix_sep = \"::\", drop_first = True)\n",
    "\n",
    "def PrintMetricsRegression(test, predictions):\n",
    "    print(f\"Score: {explained_variance_score(test, predictions):.2f}\")\n",
    "    print(f\"MAE: {mean_absolute_error(test, predictions):.2f}\")\n",
    "    print(f\"RMSE: {math.sqrt(mean_squared_error(test, predictions)):.2f}\")\n",
    "    print(f\"r2: {r2_score(test, predictions):.2f}\")\n",
    "    \n",
    "def PrintMetricsClassiffication(test, predictions):\n",
    "    print(\"Confusion Matrix:\")\n",
    "    print(confusion_matrix(test, predictions))\n",
    "    print(\"------------------\")\n",
    "    print(f\"Accuracy: {accuracy_score(test, predictions):.2f}\")\n",
    "    print(f\"Recall: {recall_score(test, predictions):.2f}\")\n",
    "    print(f\"Prediction: {precision_score(test, predictions):.2f}\")\n",
    "    print(f\"f-measure: {fbeta_score(test, predictions, beta=1):.2f}\")\n",
    "    print(\"------------------\")\n",
    "    print(classification_report(test, predictions))"
   ]
  },
  {
   "cell_type": "markdown",
   "id": "f73963b1-46db-4599-87ca-019871eaac0c",
   "metadata": {},
   "source": [
    "Pull Google search interest for Apple for second Quarter "
   ]
  },
  {
   "cell_type": "code",
   "execution_count": 3,
   "id": "6cb05b50-355a-47cf-b020-ed265f7e7fa2",
   "metadata": {
    "tags": []
   },
   "outputs": [],
   "source": [
    "pytrends = TrendReq(hl='en-US', tz=360)\n",
    "\n",
    "#build list of keywords in this case only use AAPL\n",
    "kw_list = [\"AAPL\"] \n",
    "\n",
    "# build the payload\n",
    "pytrends.build_payload(kw_list, timeframe='2021-04-01 2021-06-30', geo='US')\n",
    "\n",
    "# Store interest over time information in df and rename AAPL column to Search Interest\n",
    "AppleTrendsdf = pytrends.interest_over_time()\n",
    "AppleTrendsdf = AppleTrendsdf.rename(columns={\"AAPL\": 'Search Interest'})\n",
    "AppleTrendsdf.reset_index(inplace=True, drop=True)"
   ]
  },
  {
   "cell_type": "markdown",
   "id": "f8091b4a-2b33-43af-b2f1-afc02f08e87f",
   "metadata": {},
   "source": [
    "Prepare the Data"
   ]
  },
  {
   "cell_type": "code",
   "execution_count": 4,
   "id": "d9166a3e-8d20-42c3-aae7-5153e437e201",
   "metadata": {},
   "outputs": [],
   "source": [
    "# Removes the weekends and holidays from AppleTrendsdf since the stock data only trades on these days\n",
    "Index = 2\n",
    "while Index < len(AppleTrendsdf-1): \n",
    "    Next = Index +1\n",
    "    if Next < len(AppleTrendsdf-1):\n",
    "        AppleTrendsdf.drop([Index, Next], axis=0, inplace=True)\n",
    "        Index +=5\n",
    "    else:\n",
    "        AppleTrendsdf.drop([Index], axis=0, inplace=True)\n",
    "        Index +=5\n",
    "AppleTrendsdf.drop([1, 60], axis=0, inplace=True)\n"
   ]
  },
  {
   "cell_type": "code",
   "execution_count": 5,
   "id": "b5ac0bd9-4f3d-4370-a496-a4470c9980b5",
   "metadata": {
    "tags": []
   },
   "outputs": [
    {
     "data": {
      "text/html": [
       "<div>\n",
       "<style scoped>\n",
       "    .dataframe tbody tr th:only-of-type {\n",
       "        vertical-align: middle;\n",
       "    }\n",
       "\n",
       "    .dataframe tbody tr th {\n",
       "        vertical-align: top;\n",
       "    }\n",
       "\n",
       "    .dataframe thead th {\n",
       "        text-align: right;\n",
       "    }\n",
       "</style>\n",
       "<table border=\"1\" class=\"dataframe\">\n",
       "  <thead>\n",
       "    <tr style=\"text-align: right;\">\n",
       "      <th></th>\n",
       "      <th>Date</th>\n",
       "      <th>Open</th>\n",
       "      <th>High</th>\n",
       "      <th>Low</th>\n",
       "      <th>Close</th>\n",
       "      <th>Adj Close</th>\n",
       "      <th>Volume</th>\n",
       "    </tr>\n",
       "  </thead>\n",
       "  <tbody>\n",
       "    <tr>\n",
       "      <th>0</th>\n",
       "      <td>4/1/2021</td>\n",
       "      <td>123.660004</td>\n",
       "      <td>124.180000</td>\n",
       "      <td>122.489998</td>\n",
       "      <td>123.000000</td>\n",
       "      <td>122.791428</td>\n",
       "      <td>75089100</td>\n",
       "    </tr>\n",
       "    <tr>\n",
       "      <th>1</th>\n",
       "      <td>4/5/2021</td>\n",
       "      <td>123.870003</td>\n",
       "      <td>126.160004</td>\n",
       "      <td>123.070000</td>\n",
       "      <td>125.900002</td>\n",
       "      <td>125.686516</td>\n",
       "      <td>88651200</td>\n",
       "    </tr>\n",
       "    <tr>\n",
       "      <th>2</th>\n",
       "      <td>4/6/2021</td>\n",
       "      <td>126.500000</td>\n",
       "      <td>127.129997</td>\n",
       "      <td>125.650002</td>\n",
       "      <td>126.209999</td>\n",
       "      <td>125.995987</td>\n",
       "      <td>80171300</td>\n",
       "    </tr>\n",
       "    <tr>\n",
       "      <th>3</th>\n",
       "      <td>4/7/2021</td>\n",
       "      <td>125.830002</td>\n",
       "      <td>127.919998</td>\n",
       "      <td>125.139999</td>\n",
       "      <td>127.900002</td>\n",
       "      <td>127.683121</td>\n",
       "      <td>83466700</td>\n",
       "    </tr>\n",
       "    <tr>\n",
       "      <th>4</th>\n",
       "      <td>4/8/2021</td>\n",
       "      <td>128.949997</td>\n",
       "      <td>130.389999</td>\n",
       "      <td>128.520004</td>\n",
       "      <td>130.360001</td>\n",
       "      <td>130.138947</td>\n",
       "      <td>88844600</td>\n",
       "    </tr>\n",
       "    <tr>\n",
       "      <th>...</th>\n",
       "      <td>...</td>\n",
       "      <td>...</td>\n",
       "      <td>...</td>\n",
       "      <td>...</td>\n",
       "      <td>...</td>\n",
       "      <td>...</td>\n",
       "      <td>...</td>\n",
       "    </tr>\n",
       "    <tr>\n",
       "      <th>58</th>\n",
       "      <td>6/24/2021</td>\n",
       "      <td>134.449997</td>\n",
       "      <td>134.639999</td>\n",
       "      <td>132.929993</td>\n",
       "      <td>133.410004</td>\n",
       "      <td>133.410004</td>\n",
       "      <td>68711000</td>\n",
       "    </tr>\n",
       "    <tr>\n",
       "      <th>59</th>\n",
       "      <td>6/25/2021</td>\n",
       "      <td>133.460007</td>\n",
       "      <td>133.889999</td>\n",
       "      <td>132.809998</td>\n",
       "      <td>133.110001</td>\n",
       "      <td>133.110001</td>\n",
       "      <td>70783700</td>\n",
       "    </tr>\n",
       "    <tr>\n",
       "      <th>60</th>\n",
       "      <td>6/28/2021</td>\n",
       "      <td>133.410004</td>\n",
       "      <td>135.250000</td>\n",
       "      <td>133.350006</td>\n",
       "      <td>134.779999</td>\n",
       "      <td>134.779999</td>\n",
       "      <td>62111300</td>\n",
       "    </tr>\n",
       "    <tr>\n",
       "      <th>61</th>\n",
       "      <td>6/29/2021</td>\n",
       "      <td>134.800003</td>\n",
       "      <td>136.490005</td>\n",
       "      <td>134.350006</td>\n",
       "      <td>136.330002</td>\n",
       "      <td>136.330002</td>\n",
       "      <td>64556100</td>\n",
       "    </tr>\n",
       "    <tr>\n",
       "      <th>62</th>\n",
       "      <td>6/30/2021</td>\n",
       "      <td>136.169998</td>\n",
       "      <td>137.410004</td>\n",
       "      <td>135.869995</td>\n",
       "      <td>136.960007</td>\n",
       "      <td>136.960007</td>\n",
       "      <td>63261400</td>\n",
       "    </tr>\n",
       "  </tbody>\n",
       "</table>\n",
       "<p>63 rows × 7 columns</p>\n",
       "</div>"
      ],
      "text/plain": [
       "         Date        Open        High         Low       Close   Adj Close  \\\n",
       "0    4/1/2021  123.660004  124.180000  122.489998  123.000000  122.791428   \n",
       "1    4/5/2021  123.870003  126.160004  123.070000  125.900002  125.686516   \n",
       "2    4/6/2021  126.500000  127.129997  125.650002  126.209999  125.995987   \n",
       "3    4/7/2021  125.830002  127.919998  125.139999  127.900002  127.683121   \n",
       "4    4/8/2021  128.949997  130.389999  128.520004  130.360001  130.138947   \n",
       "..        ...         ...         ...         ...         ...         ...   \n",
       "58  6/24/2021  134.449997  134.639999  132.929993  133.410004  133.410004   \n",
       "59  6/25/2021  133.460007  133.889999  132.809998  133.110001  133.110001   \n",
       "60  6/28/2021  133.410004  135.250000  133.350006  134.779999  134.779999   \n",
       "61  6/29/2021  134.800003  136.490005  134.350006  136.330002  136.330002   \n",
       "62  6/30/2021  136.169998  137.410004  135.869995  136.960007  136.960007   \n",
       "\n",
       "      Volume  \n",
       "0   75089100  \n",
       "1   88651200  \n",
       "2   80171300  \n",
       "3   83466700  \n",
       "4   88844600  \n",
       "..       ...  \n",
       "58  68711000  \n",
       "59  70783700  \n",
       "60  62111300  \n",
       "61  64556100  \n",
       "62  63261400  \n",
       "\n",
       "[63 rows x 7 columns]"
      ]
     },
     "execution_count": 5,
     "metadata": {},
     "output_type": "execute_result"
    }
   ],
   "source": [
    "#Import Apple stock data from csv file \n",
    "AppleStockdf = pd.read_csv(\"https://raw.githubusercontent.com/atlas125gev/StockProject/main/Ken/AAPL.csv\")\n",
    "AppleStockdf"
   ]
  },
  {
   "cell_type": "code",
   "execution_count": 6,
   "id": "a5223372-7c45-468a-b3b1-504c84c40225",
   "metadata": {
    "tags": []
   },
   "outputs": [
    {
     "data": {
      "text/html": [
       "<div>\n",
       "<style scoped>\n",
       "    .dataframe tbody tr th:only-of-type {\n",
       "        vertical-align: middle;\n",
       "    }\n",
       "\n",
       "    .dataframe tbody tr th {\n",
       "        vertical-align: top;\n",
       "    }\n",
       "\n",
       "    .dataframe thead th {\n",
       "        text-align: right;\n",
       "    }\n",
       "</style>\n",
       "<table border=\"1\" class=\"dataframe\">\n",
       "  <thead>\n",
       "    <tr style=\"text-align: right;\">\n",
       "      <th></th>\n",
       "      <th>Date</th>\n",
       "      <th>Open</th>\n",
       "      <th>High</th>\n",
       "      <th>Low</th>\n",
       "      <th>Close</th>\n",
       "      <th>Adj Close</th>\n",
       "      <th>Volume</th>\n",
       "      <th>Search Interest</th>\n",
       "      <th>isPartial</th>\n",
       "      <th>Interest Points Away From Mean</th>\n",
       "      <th>Daily Price Range</th>\n",
       "      <th>Price Points Away from Mean</th>\n",
       "      <th>Search Interests Above Average</th>\n",
       "    </tr>\n",
       "  </thead>\n",
       "  <tbody>\n",
       "    <tr>\n",
       "      <th>0</th>\n",
       "      <td>4/1/2021</td>\n",
       "      <td>123.660004</td>\n",
       "      <td>124.180000</td>\n",
       "      <td>122.489998</td>\n",
       "      <td>123.000000</td>\n",
       "      <td>122.791428</td>\n",
       "      <td>75089100</td>\n",
       "      <td>37</td>\n",
       "      <td>False</td>\n",
       "      <td>8.730159</td>\n",
       "      <td>0.660004</td>\n",
       "      <td>-6.568889</td>\n",
       "      <td>True</td>\n",
       "    </tr>\n",
       "    <tr>\n",
       "      <th>1</th>\n",
       "      <td>4/5/2021</td>\n",
       "      <td>123.870003</td>\n",
       "      <td>126.160004</td>\n",
       "      <td>123.070000</td>\n",
       "      <td>125.900002</td>\n",
       "      <td>125.686516</td>\n",
       "      <td>88651200</td>\n",
       "      <td>44</td>\n",
       "      <td>False</td>\n",
       "      <td>15.730159</td>\n",
       "      <td>-2.029999</td>\n",
       "      <td>-3.668887</td>\n",
       "      <td>True</td>\n",
       "    </tr>\n",
       "    <tr>\n",
       "      <th>2</th>\n",
       "      <td>4/6/2021</td>\n",
       "      <td>126.500000</td>\n",
       "      <td>127.129997</td>\n",
       "      <td>125.650002</td>\n",
       "      <td>126.209999</td>\n",
       "      <td>125.995987</td>\n",
       "      <td>80171300</td>\n",
       "      <td>43</td>\n",
       "      <td>False</td>\n",
       "      <td>14.730159</td>\n",
       "      <td>0.290001</td>\n",
       "      <td>-3.358890</td>\n",
       "      <td>True</td>\n",
       "    </tr>\n",
       "    <tr>\n",
       "      <th>3</th>\n",
       "      <td>4/7/2021</td>\n",
       "      <td>125.830002</td>\n",
       "      <td>127.919998</td>\n",
       "      <td>125.139999</td>\n",
       "      <td>127.900002</td>\n",
       "      <td>127.683121</td>\n",
       "      <td>83466700</td>\n",
       "      <td>39</td>\n",
       "      <td>False</td>\n",
       "      <td>10.730159</td>\n",
       "      <td>-2.070000</td>\n",
       "      <td>-1.668887</td>\n",
       "      <td>True</td>\n",
       "    </tr>\n",
       "    <tr>\n",
       "      <th>4</th>\n",
       "      <td>4/8/2021</td>\n",
       "      <td>128.949997</td>\n",
       "      <td>130.389999</td>\n",
       "      <td>128.520004</td>\n",
       "      <td>130.360001</td>\n",
       "      <td>130.138947</td>\n",
       "      <td>88844600</td>\n",
       "      <td>9</td>\n",
       "      <td>False</td>\n",
       "      <td>-19.269841</td>\n",
       "      <td>-1.410004</td>\n",
       "      <td>0.791112</td>\n",
       "      <td>False</td>\n",
       "    </tr>\n",
       "    <tr>\n",
       "      <th>...</th>\n",
       "      <td>...</td>\n",
       "      <td>...</td>\n",
       "      <td>...</td>\n",
       "      <td>...</td>\n",
       "      <td>...</td>\n",
       "      <td>...</td>\n",
       "      <td>...</td>\n",
       "      <td>...</td>\n",
       "      <td>...</td>\n",
       "      <td>...</td>\n",
       "      <td>...</td>\n",
       "      <td>...</td>\n",
       "      <td>...</td>\n",
       "    </tr>\n",
       "    <tr>\n",
       "      <th>58</th>\n",
       "      <td>6/24/2021</td>\n",
       "      <td>134.449997</td>\n",
       "      <td>134.639999</td>\n",
       "      <td>132.929993</td>\n",
       "      <td>133.410004</td>\n",
       "      <td>133.410004</td>\n",
       "      <td>68711000</td>\n",
       "      <td>6</td>\n",
       "      <td>False</td>\n",
       "      <td>-22.269841</td>\n",
       "      <td>1.039993</td>\n",
       "      <td>3.841115</td>\n",
       "      <td>False</td>\n",
       "    </tr>\n",
       "    <tr>\n",
       "      <th>59</th>\n",
       "      <td>6/25/2021</td>\n",
       "      <td>133.460007</td>\n",
       "      <td>133.889999</td>\n",
       "      <td>132.809998</td>\n",
       "      <td>133.110001</td>\n",
       "      <td>133.110001</td>\n",
       "      <td>70783700</td>\n",
       "      <td>4</td>\n",
       "      <td>False</td>\n",
       "      <td>-24.269841</td>\n",
       "      <td>0.350006</td>\n",
       "      <td>3.541112</td>\n",
       "      <td>False</td>\n",
       "    </tr>\n",
       "    <tr>\n",
       "      <th>60</th>\n",
       "      <td>6/28/2021</td>\n",
       "      <td>133.410004</td>\n",
       "      <td>135.250000</td>\n",
       "      <td>133.350006</td>\n",
       "      <td>134.779999</td>\n",
       "      <td>134.779999</td>\n",
       "      <td>62111300</td>\n",
       "      <td>29</td>\n",
       "      <td>False</td>\n",
       "      <td>0.730159</td>\n",
       "      <td>-1.369995</td>\n",
       "      <td>5.211110</td>\n",
       "      <td>True</td>\n",
       "    </tr>\n",
       "    <tr>\n",
       "      <th>61</th>\n",
       "      <td>6/29/2021</td>\n",
       "      <td>134.800003</td>\n",
       "      <td>136.490005</td>\n",
       "      <td>134.350006</td>\n",
       "      <td>136.330002</td>\n",
       "      <td>136.330002</td>\n",
       "      <td>64556100</td>\n",
       "      <td>34</td>\n",
       "      <td>False</td>\n",
       "      <td>5.730159</td>\n",
       "      <td>-1.529999</td>\n",
       "      <td>6.761113</td>\n",
       "      <td>True</td>\n",
       "    </tr>\n",
       "    <tr>\n",
       "      <th>62</th>\n",
       "      <td>6/30/2021</td>\n",
       "      <td>136.169998</td>\n",
       "      <td>137.410004</td>\n",
       "      <td>135.869995</td>\n",
       "      <td>136.960007</td>\n",
       "      <td>136.960007</td>\n",
       "      <td>63261400</td>\n",
       "      <td>34</td>\n",
       "      <td>False</td>\n",
       "      <td>5.730159</td>\n",
       "      <td>-0.790009</td>\n",
       "      <td>7.391118</td>\n",
       "      <td>True</td>\n",
       "    </tr>\n",
       "  </tbody>\n",
       "</table>\n",
       "<p>63 rows × 13 columns</p>\n",
       "</div>"
      ],
      "text/plain": [
       "         Date        Open        High         Low       Close   Adj Close  \\\n",
       "0    4/1/2021  123.660004  124.180000  122.489998  123.000000  122.791428   \n",
       "1    4/5/2021  123.870003  126.160004  123.070000  125.900002  125.686516   \n",
       "2    4/6/2021  126.500000  127.129997  125.650002  126.209999  125.995987   \n",
       "3    4/7/2021  125.830002  127.919998  125.139999  127.900002  127.683121   \n",
       "4    4/8/2021  128.949997  130.389999  128.520004  130.360001  130.138947   \n",
       "..        ...         ...         ...         ...         ...         ...   \n",
       "58  6/24/2021  134.449997  134.639999  132.929993  133.410004  133.410004   \n",
       "59  6/25/2021  133.460007  133.889999  132.809998  133.110001  133.110001   \n",
       "60  6/28/2021  133.410004  135.250000  133.350006  134.779999  134.779999   \n",
       "61  6/29/2021  134.800003  136.490005  134.350006  136.330002  136.330002   \n",
       "62  6/30/2021  136.169998  137.410004  135.869995  136.960007  136.960007   \n",
       "\n",
       "      Volume  Search Interest  isPartial  Interest Points Away From Mean  \\\n",
       "0   75089100               37      False                        8.730159   \n",
       "1   88651200               44      False                       15.730159   \n",
       "2   80171300               43      False                       14.730159   \n",
       "3   83466700               39      False                       10.730159   \n",
       "4   88844600                9      False                      -19.269841   \n",
       "..       ...              ...        ...                             ...   \n",
       "58  68711000                6      False                      -22.269841   \n",
       "59  70783700                4      False                      -24.269841   \n",
       "60  62111300               29      False                        0.730159   \n",
       "61  64556100               34      False                        5.730159   \n",
       "62  63261400               34      False                        5.730159   \n",
       "\n",
       "    Daily Price Range  Price Points Away from Mean  \\\n",
       "0            0.660004                    -6.568889   \n",
       "1           -2.029999                    -3.668887   \n",
       "2            0.290001                    -3.358890   \n",
       "3           -2.070000                    -1.668887   \n",
       "4           -1.410004                     0.791112   \n",
       "..                ...                          ...   \n",
       "58           1.039993                     3.841115   \n",
       "59           0.350006                     3.541112   \n",
       "60          -1.369995                     5.211110   \n",
       "61          -1.529999                     6.761113   \n",
       "62          -0.790009                     7.391118   \n",
       "\n",
       "    Search Interests Above Average  \n",
       "0                             True  \n",
       "1                             True  \n",
       "2                             True  \n",
       "3                             True  \n",
       "4                            False  \n",
       "..                             ...  \n",
       "58                           False  \n",
       "59                           False  \n",
       "60                            True  \n",
       "61                            True  \n",
       "62                            True  \n",
       "\n",
       "[63 rows x 13 columns]"
      ]
     },
     "execution_count": 6,
     "metadata": {},
     "output_type": "execute_result"
    }
   ],
   "source": [
    "# Resets the index for the AppleTrends data frame and merges with the Apple stock data for the same time frame\n",
    "AppleTrendsdf.reset_index(inplace=True, drop=True)\n",
    "MergedStockApple = pd.concat([AppleStockdf, AppleTrendsdf], axis=1)\n",
    "\n",
    "\n",
    "# Adds columns to determine search interest and price that is above average for the day of trading.  \n",
    "MeanSearchInterest = AppleTrendsdf[\"Search Interest\"].mean()\n",
    "MeanPrice = MergedStockApple[\"Close\"].mean()\n",
    "MergedStockApple[\"Interest Points Away From Mean\"] = MergedStockApple[\"Search Interest\"] - MeanSearchInterest\n",
    "MergedStockApple[\"Daily Price Range\"] = MergedStockApple[\"Open\"] - MergedStockApple[\"Close\"]\n",
    "MergedStockApple[\"Price Points Away from Mean\"] =  MergedStockApple[\"Close\"] - MeanPrice \n",
    "MergedStockApple[\"Search Interests Above Average\"] = MergedStockApple[\"Interest Points Away From Mean\"] > 0.0\n",
    "MergedStockApple"
   ]
  },
  {
   "cell_type": "code",
   "execution_count": 7,
   "id": "d36ea376-b52d-45e7-a1ff-7cd5666b4cd0",
   "metadata": {},
   "outputs": [
    {
     "name": "stdout",
     "output_type": "stream",
     "text": [
      "<class 'pandas.core.frame.DataFrame'>\n",
      "RangeIndex: 63 entries, 0 to 62\n",
      "Data columns (total 11 columns):\n",
      " #   Column                          Non-Null Count  Dtype  \n",
      "---  ------                          --------------  -----  \n",
      " 0   Open                            63 non-null     float64\n",
      " 1   High                            63 non-null     float64\n",
      " 2   Low                             63 non-null     float64\n",
      " 3   Close                           63 non-null     float64\n",
      " 4   Adj Close                       63 non-null     float64\n",
      " 5   Volume                          63 non-null     int64  \n",
      " 6   Search Interest                 63 non-null     int32  \n",
      " 7   Interest Points Away From Mean  63 non-null     float64\n",
      " 8   Daily Price Range               63 non-null     float64\n",
      " 9   Price Points Away from Mean     63 non-null     float64\n",
      " 10  True                            63 non-null     uint8  \n",
      "dtypes: float64(8), int32(1), int64(1), uint8(1)\n",
      "memory usage: 4.9 KB\n"
     ]
    }
   ],
   "source": [
    "# This is changing the boolean types to categorical and dropping the primary as it is implied.  Info function shows no objects or boolean types \n",
    "categories = \"Search Interests Above Average\"\n",
    "MergedStockApple = pd.concat(\n",
    "    [MergedStockApple.drop(categories, axis=1), createCategoricalDummies(MergedStockApple, categories)], axis= 1)\n",
    "MergedStockApple.drop([\"Date\", \"isPartial\"], axis=1, inplace=True)\n",
    "MergedStockApple.info()"
   ]
  },
  {
   "cell_type": "code",
   "execution_count": 8,
   "id": "fed1ad99-08ea-4605-8b0e-162eb3400159",
   "metadata": {},
   "outputs": [
    {
     "data": {
      "text/html": [
       "<div>\n",
       "<style scoped>\n",
       "    .dataframe tbody tr th:only-of-type {\n",
       "        vertical-align: middle;\n",
       "    }\n",
       "\n",
       "    .dataframe tbody tr th {\n",
       "        vertical-align: top;\n",
       "    }\n",
       "\n",
       "    .dataframe thead th {\n",
       "        text-align: right;\n",
       "    }\n",
       "</style>\n",
       "<table border=\"1\" class=\"dataframe\">\n",
       "  <thead>\n",
       "    <tr style=\"text-align: right;\">\n",
       "      <th></th>\n",
       "      <th>Search Interest</th>\n",
       "      <th>Low</th>\n",
       "      <th>High</th>\n",
       "      <th>Open</th>\n",
       "    </tr>\n",
       "  </thead>\n",
       "  <tbody>\n",
       "    <tr>\n",
       "      <th>0</th>\n",
       "      <td>37</td>\n",
       "      <td>122.489998</td>\n",
       "      <td>124.180000</td>\n",
       "      <td>123.660004</td>\n",
       "    </tr>\n",
       "    <tr>\n",
       "      <th>1</th>\n",
       "      <td>44</td>\n",
       "      <td>123.070000</td>\n",
       "      <td>126.160004</td>\n",
       "      <td>123.870003</td>\n",
       "    </tr>\n",
       "    <tr>\n",
       "      <th>2</th>\n",
       "      <td>43</td>\n",
       "      <td>125.650002</td>\n",
       "      <td>127.129997</td>\n",
       "      <td>126.500000</td>\n",
       "    </tr>\n",
       "    <tr>\n",
       "      <th>3</th>\n",
       "      <td>39</td>\n",
       "      <td>125.139999</td>\n",
       "      <td>127.919998</td>\n",
       "      <td>125.830002</td>\n",
       "    </tr>\n",
       "    <tr>\n",
       "      <th>4</th>\n",
       "      <td>9</td>\n",
       "      <td>128.520004</td>\n",
       "      <td>130.389999</td>\n",
       "      <td>128.949997</td>\n",
       "    </tr>\n",
       "    <tr>\n",
       "      <th>...</th>\n",
       "      <td>...</td>\n",
       "      <td>...</td>\n",
       "      <td>...</td>\n",
       "      <td>...</td>\n",
       "    </tr>\n",
       "    <tr>\n",
       "      <th>58</th>\n",
       "      <td>6</td>\n",
       "      <td>132.929993</td>\n",
       "      <td>134.639999</td>\n",
       "      <td>134.449997</td>\n",
       "    </tr>\n",
       "    <tr>\n",
       "      <th>59</th>\n",
       "      <td>4</td>\n",
       "      <td>132.809998</td>\n",
       "      <td>133.889999</td>\n",
       "      <td>133.460007</td>\n",
       "    </tr>\n",
       "    <tr>\n",
       "      <th>60</th>\n",
       "      <td>29</td>\n",
       "      <td>133.350006</td>\n",
       "      <td>135.250000</td>\n",
       "      <td>133.410004</td>\n",
       "    </tr>\n",
       "    <tr>\n",
       "      <th>61</th>\n",
       "      <td>34</td>\n",
       "      <td>134.350006</td>\n",
       "      <td>136.490005</td>\n",
       "      <td>134.800003</td>\n",
       "    </tr>\n",
       "    <tr>\n",
       "      <th>62</th>\n",
       "      <td>34</td>\n",
       "      <td>135.869995</td>\n",
       "      <td>137.410004</td>\n",
       "      <td>136.169998</td>\n",
       "    </tr>\n",
       "  </tbody>\n",
       "</table>\n",
       "<p>63 rows × 4 columns</p>\n",
       "</div>"
      ],
      "text/plain": [
       "    Search Interest         Low        High        Open\n",
       "0                37  122.489998  124.180000  123.660004\n",
       "1                44  123.070000  126.160004  123.870003\n",
       "2                43  125.650002  127.129997  126.500000\n",
       "3                39  125.139999  127.919998  125.830002\n",
       "4                 9  128.520004  130.389999  128.949997\n",
       "..              ...         ...         ...         ...\n",
       "58                6  132.929993  134.639999  134.449997\n",
       "59                4  132.809998  133.889999  133.460007\n",
       "60               29  133.350006  135.250000  133.410004\n",
       "61               34  134.350006  136.490005  134.800003\n",
       "62               34  135.869995  137.410004  136.169998\n",
       "\n",
       "[63 rows x 4 columns]"
      ]
     },
     "execution_count": 8,
     "metadata": {},
     "output_type": "execute_result"
    }
   ],
   "source": [
    "# Generating the test data based upon search interest and opening price in the apple stock data set\n",
    "Features = [\"Search Interest\", \"Low\", \"High\", \"Open\"]\n",
    "X = MergedStockApple[Features]\n",
    "X"
   ]
  },
  {
   "cell_type": "code",
   "execution_count": 9,
   "id": "0630137a-9c0a-41ae-b33d-2d0413da08d4",
   "metadata": {},
   "outputs": [
    {
     "data": {
      "text/plain": [
       "0     123.000000\n",
       "1     125.900002\n",
       "2     126.209999\n",
       "3     127.900002\n",
       "4     130.360001\n",
       "         ...    \n",
       "58    133.410004\n",
       "59    133.110001\n",
       "60    134.779999\n",
       "61    136.330002\n",
       "62    136.960007\n",
       "Name: Close, Length: 63, dtype: float64"
      ]
     },
     "execution_count": 9,
     "metadata": {},
     "output_type": "execute_result"
    }
   ],
   "source": [
    "# Generating the test data look at the ability to produce the close price\n",
    "Target = \"Close\"\n",
    "y = MergedStockApple[Target]\n",
    "y"
   ]
  },
  {
   "cell_type": "code",
   "execution_count": 10,
   "id": "9e50c481-cb48-4820-8abb-5c1527bd1fa1",
   "metadata": {
    "tags": []
   },
   "outputs": [],
   "source": [
    "# Training model with the defined test data created above\n",
    "X_train, X_test, y_train, y_test = train_test_split(X, y, test_size=0.25)\n"
   ]
  },
  {
   "cell_type": "markdown",
   "id": "257b96d4-8d7d-469c-ae20-72a28a7abb7d",
   "metadata": {},
   "source": [
    "Linear Regression"
   ]
  },
  {
   "cell_type": "code",
   "execution_count": 11,
   "id": "3ebcb1fe-c058-4a64-b1f0-81e9908d9a05",
   "metadata": {},
   "outputs": [
    {
     "data": {
      "text/plain": [
       "LinearRegression()"
      ]
     },
     "execution_count": 11,
     "metadata": {},
     "output_type": "execute_result"
    }
   ],
   "source": [
    "# Defining lr for linear regression function to reduce typing below\n",
    "lr = LinearRegression()\n",
    "lr"
   ]
  },
  {
   "cell_type": "code",
   "execution_count": 12,
   "id": "56ab0107-a746-4377-a978-9e8127b0a879",
   "metadata": {},
   "outputs": [
    {
     "data": {
      "text/plain": [
       "LinearRegression()"
      ]
     },
     "execution_count": 12,
     "metadata": {},
     "output_type": "execute_result"
    }
   ],
   "source": [
    "#Using linear regression function to fit the model\n",
    "lr.fit(X_train, y_train)"
   ]
  },
  {
   "cell_type": "code",
   "execution_count": 13,
   "id": "5fdf721d-ca58-4d8f-9691-9137f0af155e",
   "metadata": {},
   "outputs": [
    {
     "data": {
      "text/plain": [
       "0.9802427410135256"
      ]
     },
     "execution_count": 13,
     "metadata": {},
     "output_type": "execute_result"
    }
   ],
   "source": [
    "#Score the training model\n",
    "lr.score(X_train, y_train) "
   ]
  },
  {
   "cell_type": "code",
   "execution_count": 14,
   "id": "85259792-72f8-4776-9ac0-490af692cd27",
   "metadata": {},
   "outputs": [
    {
     "data": {
      "text/plain": [
       "0.97072762662332"
      ]
     },
     "execution_count": 14,
     "metadata": {},
     "output_type": "execute_result"
    }
   ],
   "source": [
    "#Score the testing model\n",
    "lr.score(X_test, y_test)"
   ]
  },
  {
   "cell_type": "code",
   "execution_count": 15,
   "id": "d932794a-7338-4fc1-ae2b-7941ce7752c5",
   "metadata": {},
   "outputs": [
    {
     "name": "stdout",
     "output_type": "stream",
     "text": [
      "Score: 0.97\n",
      "MAE: 0.47\n",
      "RMSE: 0.58\n",
      "r2: 0.97\n"
     ]
    }
   ],
   "source": [
    "#Produce the linear regression metrics indicating the quality of the model\n",
    "PredictionsRegression = lr.predict(X_test)\n",
    "PrintMetricsRegression(y_test, PredictionsRegression)"
   ]
  },
  {
   "cell_type": "markdown",
   "id": "3aef1a19-e061-4a16-b7e9-2ecaebb0d66d",
   "metadata": {},
   "source": [
    "Linear Regression Predicting New Samples"
   ]
  },
  {
   "cell_type": "code",
   "execution_count": 16,
   "id": "8ab66e88-267b-4113-a175-4c7c66aead99",
   "metadata": {},
   "outputs": [
    {
     "data": {
      "text/plain": [
       "[{'Search Interest': 51, 'Low': 4, 'High': 123, 'Open': 99},\n",
       " {'Search Interest': 20, 'Low': 133, 'High': 25, 'Open': 113},\n",
       " {'Search Interest': 32, 'Low': 93, 'High': 94, 'Open': 99}]"
      ]
     },
     "execution_count": 16,
     "metadata": {},
     "output_type": "execute_result"
    }
   ],
   "source": [
    "#Generating random values for the search interest and opening price for prediction\n",
    "NumberElements = 3\n",
    "SampleStockTrendRegression = []\n",
    "for _ in range(NumberElements):\n",
    "    dict = {}\n",
    "    for column in X.columns:\n",
    "        min = 0  \n",
    "        maxValue = round(max(MergedStockApple[column].values))\n",
    "        dict[column] = rnd.randint(min, maxValue)\n",
    "    SampleStockTrendRegression.append(dict)\n",
    "SampleStockTrendRegression"
   ]
  },
  {
   "cell_type": "code",
   "execution_count": 17,
   "id": "72e526ac-e232-4d8f-a38a-2f7519131456",
   "metadata": {},
   "outputs": [
    {
     "data": {
      "text/html": [
       "<div>\n",
       "<style scoped>\n",
       "    .dataframe tbody tr th:only-of-type {\n",
       "        vertical-align: middle;\n",
       "    }\n",
       "\n",
       "    .dataframe tbody tr th {\n",
       "        vertical-align: top;\n",
       "    }\n",
       "\n",
       "    .dataframe thead th {\n",
       "        text-align: right;\n",
       "    }\n",
       "</style>\n",
       "<table border=\"1\" class=\"dataframe\">\n",
       "  <thead>\n",
       "    <tr style=\"text-align: right;\">\n",
       "      <th></th>\n",
       "      <th>Search Interest</th>\n",
       "      <th>Low</th>\n",
       "      <th>High</th>\n",
       "      <th>Open</th>\n",
       "    </tr>\n",
       "  </thead>\n",
       "  <tbody>\n",
       "    <tr>\n",
       "      <th>0</th>\n",
       "      <td>51</td>\n",
       "      <td>4</td>\n",
       "      <td>123</td>\n",
       "      <td>99</td>\n",
       "    </tr>\n",
       "    <tr>\n",
       "      <th>1</th>\n",
       "      <td>20</td>\n",
       "      <td>133</td>\n",
       "      <td>25</td>\n",
       "      <td>113</td>\n",
       "    </tr>\n",
       "    <tr>\n",
       "      <th>2</th>\n",
       "      <td>32</td>\n",
       "      <td>93</td>\n",
       "      <td>94</td>\n",
       "      <td>99</td>\n",
       "    </tr>\n",
       "  </tbody>\n",
       "</table>\n",
       "</div>"
      ],
      "text/plain": [
       "   Search Interest  Low  High  Open\n",
       "0               51    4   123    99\n",
       "1               20  133    25   113\n",
       "2               32   93    94    99"
      ]
     },
     "execution_count": 17,
     "metadata": {},
     "output_type": "execute_result"
    }
   ],
   "source": [
    "#Defining a dataframe for the chosen values for search interest and opening price created above\n",
    "pdSampleStockTrendRegression = pd.DataFrame.from_dict(SampleStockTrendRegression)\n",
    "pdSampleStockTrendRegression"
   ]
  },
  {
   "cell_type": "code",
   "execution_count": 18,
   "id": "a80240e2-d437-4257-8cb8-2c5db248a1b8",
   "metadata": {},
   "outputs": [
    {
     "data": {
      "text/plain": [
       "array([56.63626172, 32.6311884 , 88.78436126])"
      ]
     },
     "execution_count": 18,
     "metadata": {},
     "output_type": "execute_result"
    }
   ],
   "source": [
    "#Predicting the closing price based upon the defined model\n",
    "PredictionsRegression = lr.predict(pdSampleStockTrendRegression)\n",
    "PredictionsRegression"
   ]
  },
  {
   "cell_type": "code",
   "execution_count": 19,
   "id": "62c38922-5d94-4b7a-9e91-eaf68a08290f",
   "metadata": {},
   "outputs": [
    {
     "data": {
      "text/html": [
       "<div>\n",
       "<style scoped>\n",
       "    .dataframe tbody tr th:only-of-type {\n",
       "        vertical-align: middle;\n",
       "    }\n",
       "\n",
       "    .dataframe tbody tr th {\n",
       "        vertical-align: top;\n",
       "    }\n",
       "\n",
       "    .dataframe thead th {\n",
       "        text-align: right;\n",
       "    }\n",
       "</style>\n",
       "<table border=\"1\" class=\"dataframe\">\n",
       "  <thead>\n",
       "    <tr style=\"text-align: right;\">\n",
       "      <th></th>\n",
       "      <th>Search Interest</th>\n",
       "      <th>Low</th>\n",
       "      <th>High</th>\n",
       "      <th>Open</th>\n",
       "      <th>Predicted</th>\n",
       "    </tr>\n",
       "  </thead>\n",
       "  <tbody>\n",
       "    <tr>\n",
       "      <th>0</th>\n",
       "      <td>51</td>\n",
       "      <td>4</td>\n",
       "      <td>123</td>\n",
       "      <td>99</td>\n",
       "      <td>56.636262</td>\n",
       "    </tr>\n",
       "    <tr>\n",
       "      <th>1</th>\n",
       "      <td>20</td>\n",
       "      <td>133</td>\n",
       "      <td>25</td>\n",
       "      <td>113</td>\n",
       "      <td>32.631188</td>\n",
       "    </tr>\n",
       "    <tr>\n",
       "      <th>2</th>\n",
       "      <td>32</td>\n",
       "      <td>93</td>\n",
       "      <td>94</td>\n",
       "      <td>99</td>\n",
       "      <td>88.784361</td>\n",
       "    </tr>\n",
       "  </tbody>\n",
       "</table>\n",
       "</div>"
      ],
      "text/plain": [
       "   Search Interest  Low  High  Open  Predicted\n",
       "0               51    4   123    99  56.636262\n",
       "1               20  133    25   113  32.631188\n",
       "2               32   93    94    99  88.784361"
      ]
     },
     "execution_count": 19,
     "metadata": {},
     "output_type": "execute_result"
    }
   ],
   "source": [
    "#Adding the predicted values to the dataframe\n",
    "pdPredictedStockTrend = pdSampleStockTrendRegression.copy()\n",
    "pdPredictedStockTrend ['Predicted'] = PredictionsRegression\n",
    "pdPredictedStockTrend "
   ]
  },
  {
   "cell_type": "markdown",
   "id": "8f4fcf94-7bb7-437b-aeef-e30fbba113d0",
   "metadata": {},
   "source": [
    "Classification Logistic Regression"
   ]
  },
  {
   "cell_type": "code",
   "execution_count": 20,
   "id": "2316f87a-1cc5-4b9c-b35e-8a77360719c3",
   "metadata": {},
   "outputs": [
    {
     "data": {
      "text/plain": [
       "0     1\n",
       "1     1\n",
       "2     1\n",
       "3     1\n",
       "4     0\n",
       "     ..\n",
       "58    0\n",
       "59    0\n",
       "60    1\n",
       "61    1\n",
       "62    1\n",
       "Name: True, Length: 63, dtype: uint8"
      ]
     },
     "execution_count": 20,
     "metadata": {},
     "output_type": "execute_result"
    }
   ],
   "source": [
    "#Redefining the test data for logical regression with choosing a categorical variable for the target case\n",
    "Target = True\n",
    "y = MergedStockApple[Target]\n",
    "y"
   ]
  },
  {
   "cell_type": "code",
   "execution_count": 21,
   "id": "1db22060-e50a-4197-8125-4b0185d3a51c",
   "metadata": {},
   "outputs": [],
   "source": [
    "# Training model with the defined test data created above\n",
    "X_train, X_test, y_train, y_test = train_test_split(X, y, test_size=0.25)"
   ]
  },
  {
   "cell_type": "code",
   "execution_count": 22,
   "id": "37603bf2-5b6b-45fe-b520-0c2b3b709fee",
   "metadata": {},
   "outputs": [
    {
     "data": {
      "text/plain": [
       "LogisticRegression(solver='liblinear')"
      ]
     },
     "execution_count": 22,
     "metadata": {},
     "output_type": "execute_result"
    }
   ],
   "source": [
    "# Defining LogisticRegression fucntion as lr to reduce the number of characters below\n",
    "lr = LogisticRegression(solver=\"liblinear\")\n",
    "lr"
   ]
  },
  {
   "cell_type": "code",
   "execution_count": 23,
   "id": "a5af2574-5741-439e-b396-c1c1b057b4c4",
   "metadata": {},
   "outputs": [
    {
     "data": {
      "text/plain": [
       "LogisticRegression(solver='liblinear')"
      ]
     },
     "execution_count": 23,
     "metadata": {},
     "output_type": "execute_result"
    }
   ],
   "source": [
    "# Using logistics regression to fit the model\n",
    "lr.fit(X_train, y_train)"
   ]
  },
  {
   "cell_type": "code",
   "execution_count": 24,
   "id": "68fb6ac4-a725-4e80-ab32-3da7e889d729",
   "metadata": {},
   "outputs": [
    {
     "data": {
      "text/plain": [
       "1.0"
      ]
     },
     "execution_count": 24,
     "metadata": {},
     "output_type": "execute_result"
    }
   ],
   "source": [
    "# Using logistics regression to score the training data\n",
    "lr.score(X_train, y_train)"
   ]
  },
  {
   "cell_type": "code",
   "execution_count": 25,
   "id": "e9d0bc14-7a05-428e-94db-fd66ee13fd60",
   "metadata": {},
   "outputs": [
    {
     "data": {
      "text/plain": [
       "0.9375"
      ]
     },
     "execution_count": 25,
     "metadata": {},
     "output_type": "execute_result"
    }
   ],
   "source": [
    "# Using logistics regression to score the test data\n",
    "lr.score(X_test, y_test)"
   ]
  },
  {
   "cell_type": "code",
   "execution_count": 26,
   "id": "10beba28-2a90-4ad7-b14e-e63ea5884245",
   "metadata": {
    "tags": []
   },
   "outputs": [
    {
     "name": "stdout",
     "output_type": "stream",
     "text": [
      "Confusion Matrix:\n",
      "[[ 4  0]\n",
      " [ 1 11]]\n",
      "------------------\n",
      "Accuracy: 0.94\n",
      "Recall: 0.92\n",
      "Prediction: 1.00\n",
      "f-measure: 0.96\n",
      "------------------\n",
      "              precision    recall  f1-score   support\n",
      "\n",
      "           0       0.80      1.00      0.89         4\n",
      "           1       1.00      0.92      0.96        12\n",
      "\n",
      "    accuracy                           0.94        16\n",
      "   macro avg       0.90      0.96      0.92        16\n",
      "weighted avg       0.95      0.94      0.94        16\n",
      "\n"
     ]
    }
   ],
   "source": [
    "#Produce the logistic regression to display metrics indicating the quality of the model and generate the confusion matrix\n",
    "PredictionsClassification = lr.predict(X_test)\n",
    "PrintMetricsClassiffication(y_test, PredictionsClassification)"
   ]
  },
  {
   "cell_type": "markdown",
   "id": "660c47cd-8f7a-4db3-84c7-7d29ac90b4bd",
   "metadata": {},
   "source": [
    "Classifiction Predicting New Samples "
   ]
  },
  {
   "cell_type": "code",
   "execution_count": 27,
   "id": "5d65854a-0af9-4ea3-a55b-5f5cb66d2813",
   "metadata": {},
   "outputs": [
    {
     "data": {
      "text/plain": [
       "[{'Search Interest': 50, 'Low': 24, 'High': 35, 'Open': 99},\n",
       " {'Search Interest': 6, 'Low': 104, 'High': 39, 'Open': 111},\n",
       " {'Search Interest': 30, 'Low': 114, 'High': 134, 'Open': 88}]"
      ]
     },
     "execution_count": 27,
     "metadata": {},
     "output_type": "execute_result"
    }
   ],
   "source": [
    "#Generating random values for the search interest and opening price for prediction\n",
    "numElements = 3\n",
    "SampleStockTrendsClassification = []\n",
    "for _ in range(numElements):\n",
    "    dict = {}\n",
    "    for column in X.columns:\n",
    "        min = 0  # We'll always allow at lea\n",
    "        maxValue = round(max(MergedStockApple[column].values))\n",
    "        dict[column] = rnd.randint(min, maxValue)\n",
    "    SampleStockTrendsClassification.append(dict)\n",
    "SampleStockTrendsClassification"
   ]
  },
  {
   "cell_type": "code",
   "execution_count": 28,
   "id": "0d1e3652-4e80-4865-a92d-cae5ab515920",
   "metadata": {},
   "outputs": [],
   "source": [
    "#Defining a dataframe for the chosen values for search interest and opening price created above\n",
    "pdSampleStockTrendsClassification = pd.DataFrame.from_dict(SampleStockTrendsClassification)"
   ]
  },
  {
   "cell_type": "code",
   "execution_count": 29,
   "id": "f43122c3-c1db-4dc0-93ca-16bd814d212e",
   "metadata": {},
   "outputs": [
    {
     "data": {
      "text/plain": [
       "array([1, 0, 0], dtype=uint8)"
      ]
     },
     "execution_count": 29,
     "metadata": {},
     "output_type": "execute_result"
    }
   ],
   "source": [
    "#Predicting the closing price based upon the defined model\n",
    "predictionsClassification = lr.predict(pdSampleStockTrendsClassification)\n",
    "predictionsClassification"
   ]
  },
  {
   "cell_type": "code",
   "execution_count": 30,
   "id": "5a60a66c-2dde-4b4a-a402-7afe471a2a8d",
   "metadata": {},
   "outputs": [
    {
     "data": {
      "text/html": [
       "<div>\n",
       "<style scoped>\n",
       "    .dataframe tbody tr th:only-of-type {\n",
       "        vertical-align: middle;\n",
       "    }\n",
       "\n",
       "    .dataframe tbody tr th {\n",
       "        vertical-align: top;\n",
       "    }\n",
       "\n",
       "    .dataframe thead th {\n",
       "        text-align: right;\n",
       "    }\n",
       "</style>\n",
       "<table border=\"1\" class=\"dataframe\">\n",
       "  <thead>\n",
       "    <tr style=\"text-align: right;\">\n",
       "      <th></th>\n",
       "      <th>Search Interest</th>\n",
       "      <th>Low</th>\n",
       "      <th>High</th>\n",
       "      <th>Open</th>\n",
       "      <th>Predicted</th>\n",
       "    </tr>\n",
       "  </thead>\n",
       "  <tbody>\n",
       "    <tr>\n",
       "      <th>0</th>\n",
       "      <td>50</td>\n",
       "      <td>24</td>\n",
       "      <td>35</td>\n",
       "      <td>99</td>\n",
       "      <td>True</td>\n",
       "    </tr>\n",
       "    <tr>\n",
       "      <th>1</th>\n",
       "      <td>6</td>\n",
       "      <td>104</td>\n",
       "      <td>39</td>\n",
       "      <td>111</td>\n",
       "      <td>False</td>\n",
       "    </tr>\n",
       "    <tr>\n",
       "      <th>2</th>\n",
       "      <td>30</td>\n",
       "      <td>114</td>\n",
       "      <td>134</td>\n",
       "      <td>88</td>\n",
       "      <td>False</td>\n",
       "    </tr>\n",
       "  </tbody>\n",
       "</table>\n",
       "</div>"
      ],
      "text/plain": [
       "   Search Interest  Low  High  Open  Predicted\n",
       "0               50   24    35    99       True\n",
       "1                6  104    39   111      False\n",
       "2               30  114   134    88      False"
      ]
     },
     "execution_count": 30,
     "metadata": {},
     "output_type": "execute_result"
    }
   ],
   "source": [
    "#Adding the predicted values to the dataframe\n",
    "pdPredictedStockTrendsClassification= pdSampleStockTrendsClassification\n",
    "pdPredictedStockTrendsClassification[\"Predicted\"] = predictionsClassification.astype(bool)\n",
    "pdPredictedStockTrendsClassification"
   ]
  },
  {
   "cell_type": "markdown",
   "id": "55e0f476-1449-4699-85f2-8586b701e995",
   "metadata": {},
   "source": [
    "Conclusion\n",
    "\n",
    "Both the linear regression and logistical regression models indicate a reasonable correlation between Google search activity, price points on the days trading, and the closing price for the dataset investigation in this notebook.  This could indicate that Apple is a stable stock with the google search interest and the price change through out the trading day is fairly consistent.   Further investigation on this project will include less stable stocks which may answer if this is true.\n",
    "\n",
    "\n"
   ]
  }
 ],
 "metadata": {
  "kernelspec": {
   "display_name": "Python 3",
   "language": "python",
   "name": "python3"
  },
  "language_info": {
   "codemirror_mode": {
    "name": "ipython",
    "version": 3
   },
   "file_extension": ".py",
   "mimetype": "text/x-python",
   "name": "python",
   "nbconvert_exporter": "python",
   "pygments_lexer": "ipython3",
   "version": "3.8.8"
  }
 },
 "nbformat": 4,
 "nbformat_minor": 5
}
